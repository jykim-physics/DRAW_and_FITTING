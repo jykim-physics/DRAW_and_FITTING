{
 "cells": [
  {
   "cell_type": "code",
   "execution_count": 3,
   "id": "1e566274",
   "metadata": {},
   "outputs": [],
   "source": [
    "import ROOT\n",
    "import ctypes\n",
    "\n",
    "import numpy as np\n",
    "# import rootnotes"
   ]
  },
  {
   "cell_type": "code",
   "execution_count": 4,
   "id": "24305818",
   "metadata": {},
   "outputs": [
    {
     "name": "stdout",
     "output_type": "stream",
     "text": [
      "\n",
      "Applying BELLE2 style settings...\n"
     ]
    }
   ],
   "source": [
    "ROOT.gROOT.LoadMacro('/home/jykim/workspace/DRAW_and_FITTING/main/Belle2Style.C')\n",
    "ROOT.SetBelle2Style()"
   ]
  },
  {
   "cell_type": "markdown",
   "id": "fd2fc782",
   "metadata": {},
   "source": [
    "# Generation of dummy data"
   ]
  },
  {
   "cell_type": "code",
   "execution_count": 5,
   "id": "c5a7839b",
   "metadata": {},
   "outputs": [],
   "source": [
    "data_raw = np.random.normal(size=10000)"
   ]
  },
  {
   "cell_type": "code",
   "execution_count": 6,
   "id": "a6d6e3ce",
   "metadata": {},
   "outputs": [],
   "source": [
    "tree = ROOT.TNtuple(\"ntuple\", \"ntuple\", \"var1\")\n",
    "for d in data_raw:\n",
    "    tree.Fill(d)"
   ]
  },
  {
   "cell_type": "code",
   "execution_count": 7,
   "id": "e09a5813",
   "metadata": {},
   "outputs": [
    {
     "name": "stdout",
     "output_type": "stream",
     "text": [
      "[#1] INFO:DataHandling -- RooAbsReal::attachToTree(var1) TTree Float_t branch var1 will be converted to double precision.\n"
     ]
    }
   ],
   "source": [
    "\n",
    "var1 = ROOT.RooRealVar('var1', 'var1', -5, 5)\n",
    "varset = ROOT.RooArgSet(var1)\n",
    "data = ROOT.RooDataSet(\"data\", \"data\", varset, ROOT.RooFit.Import(tree))\n",
    "data_hist = ROOT.RooDataHist(\"data_hist\", \"data_hist\", varset, data)\n",
    "hist_pdf = ROOT.RooHistPdf(\"hist_pdf\", \"hist_pdf\", varset, data_hist)"
   ]
  },
  {
   "cell_type": "code",
   "execution_count": 8,
   "id": "d660b4ef",
   "metadata": {},
   "outputs": [
    {
     "name": "stdout",
     "output_type": "stream",
     "text": [
      "[#0] WARNING:InputArguments -- The parameter 'smearing_value_0.20' with range [-1e+30, 1e+30] of the RooGaussian 'smearing_0.20' exceeds the safe range of (0, inf). Advise to limit its range.\n",
      "[#1] INFO:Caching -- Changing internal binning of variable 'var1' in FFT 'smeared_0.20' from 100 to 930 to improve the precision of the numerical FFT. This can be done manually by setting an additional binning named 'cache'.\n",
      "[#0] WARNING:InputArguments -- The parameter 'smearing_value_1.00' with range [-1e+30, 1e+30] of the RooGaussian 'smearing_1.00' exceeds the safe range of (0, inf). Advise to limit its range.\n",
      "[#0] WARNING:InputArguments -- The parameter 'smearing_value_1.50' with range [-1e+30, 1e+30] of the RooGaussian 'smearing_1.50' exceeds the safe range of (0, inf). Advise to limit its range.\n",
      "[#0] WARNING:InputArguments -- The parameter 'smearing_value_2.00' with range [-1e+30, 1e+30] of the RooGaussian 'smearing_2.00' exceeds the safe range of (0, inf). Advise to limit its range.\n"
     ]
    }
   ],
   "source": [
    "\n",
    "all_smeared = []\n",
    "mem = []  # to be sure object are not destroied\n",
    "SMEARING_VALUES = (0.2, 1, 1.5, 2)\n",
    "COLORS = [ROOT.kOrange + 2, ROOT.kMagenta - 2, ROOT.kYellow + 2, ROOT.kGreen + 2, ROOT.kPink]\n",
    "for smearing_value in SMEARING_VALUES:\n",
    "    smearing_var = ROOT.RooRealVar('smearing_value_%.2f' % smearing_value, 'smearing_value', smearing_value)\n",
    "    smearing = ROOT.RooGaussian(\"smearing_%.2f\" % smearing_value, \"smearing\", var1, ROOT.RooFit.RooConst(0), smearing_var)\n",
    "    smeared = ROOT.RooFFTConvPdf(\"smeared_%.2f\" % smearing_value, \"smeared %.2f\" % smearing_value, var1, hist_pdf, smearing)\n",
    "    all_smeared.append(smeared)\n",
    "    mem.append(smearing_var)\n",
    "    mem.append(smearing)"
   ]
  },
  {
   "cell_type": "code",
   "execution_count": 12,
   "id": "7ad5c871",
   "metadata": {},
   "outputs": [
    {
     "name": "stdout",
     "output_type": "stream",
     "text": [
      "[#1] INFO:Caching -- RooAbsCachedPdf::getCache(smeared_0.20) creating new cache 0x55e29a845d30 with pdf hist_pdf_CONV_smearing_0.20_CACHE_Obs[var1]_NORM_var1 for nset (var1) with code 0 from preexisting content.\n",
      "[#1] INFO:Caching -- RooAbsCachedPdf::getCache(smeared_1.00) creating new cache 0x55e29a845d30 with pdf hist_pdf_CONV_smearing_1.00_CACHE_Obs[var1]_NORM_var1 for nset (var1) with code 0 from preexisting content.\n",
      "[#1] INFO:Caching -- RooAbsCachedPdf::getCache(smeared_1.50) creating new cache 0x55e29a845d30 with pdf hist_pdf_CONV_smearing_1.50_CACHE_Obs[var1]_NORM_var1 for nset (var1) with code 0 from preexisting content.\n",
      "[#1] INFO:Caching -- RooAbsCachedPdf::getCache(smeared_2.00) creating new cache 0x55e29a845d30 with pdf hist_pdf_CONV_smearing_2.00_CACHE_Obs[var1]_NORM_var1 for nset (var1) with code 0 from preexisting content.\n"
     ]
    },
    {
     "data": {
      "image/png": "[encoded data removed]",
      "text/plain": [
       "<IPython.core.display.Image object>"
      ]
     },
     "metadata": {},
     "output_type": "display_data"
    }
   ],
   "source": [
    "\n",
    "# canvas = rootnotes.default_canvas()\n",
    "c1 = ROOT.TCanvas()\n",
    "frame = var1.frame()\n",
    "data.plotOn(frame)\n",
    "hist_pdf.plotOn(frame, ROOT.RooFit.Name('curve_original_histogram'))\n",
    "legend = ROOT.TLegend(0.65, 0.65, 0.88, 0.88)\n",
    "legend.AddEntry(frame.findObject(\"curve_original_histogram\"), \"orignal histogram\", \"L\")\n",
    "for i, (color, smeared) in enumerate(zip(COLORS, all_smeared)):\n",
    "    curve_name = \"curve_%d\" % i\n",
    "    smeared.plotOn(frame, ROOT.RooFit.LineColor(color), ROOT.RooFit.Name(curve_name))\n",
    "    curve = frame.findObject(curve_name)\n",
    "    legend.AddEntry(curve, curve.GetTitle().replace(\"Projection of\", \"\"), \"L\")\n",
    "frame.addObject(legend)\n",
    "frame.Draw()\n",
    "# canvas\n",
    "\n",
    "c1.Draw()"
   ]
  },
  {
   "cell_type": "code",
   "execution_count": null,
   "id": "b6bee7e9",
   "metadata": {},
   "outputs": [],
   "source": []
  }
 ],
 "metadata": {
  "kernelspec": {
   "display_name": "Python 3 (ipykernel)",
   "language": "python",
   "name": "python3"
  },
  "language_info": {
   "codemirror_mode": {
    "name": "ipython",
    "version": 3
   },
   "file_extension": ".py",
   "mimetype": "text/x-python",
   "name": "python",
   "nbconvert_exporter": "python",
   "pygments_lexer": "ipython3",
   "version": "3.10.5"
  },
  "toc": {
   "base_numbering": 1,
   "nav_menu": {},
   "number_sections": true,
   "sideBar": true,
   "skip_h1_title": false,
   "title_cell": "Table of Contents",
   "title_sidebar": "Contents",
   "toc_cell": false,
   "toc_position": {},
   "toc_section_display": true,
   "toc_window_display": false
  }
 },
 "nbformat": 4,
 "nbformat_minor": 5
}
