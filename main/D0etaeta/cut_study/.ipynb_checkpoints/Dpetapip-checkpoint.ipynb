{
 "cells": [
  {
   "cell_type": "code",
   "execution_count": 1,
   "id": "7e94c696-cc09-4eed-8944-1940b3848725",
   "metadata": {},
   "outputs": [
    {
     "name": "stderr",
     "output_type": "stream",
     "text": [
      "\n",
      "Bad key mathtext.fallback_to_cm in file /home/belle2/jaeyoung/.config/matplotlib/stylelib/belle2.mplstyle, line 35 ('mathtext.fallback_to_cm : True  # When True, use symbols from the Computer Modern')\n",
      "You probably need to get an updated matplotlibrc file from\n",
      "https://github.com/matplotlib/matplotlib/blob/v3.5.1/matplotlibrc.template\n",
      "or from the matplotlib source distribution\n",
      "\n",
      "Bad key mathtext.fallback_to_cm in file /home/belle2/jaeyoung/.config/matplotlib/stylelib/belle2_modern.mplstyle, line 27 ('mathtext.fallback_to_cm : True  # When True, use symbols from the Computer Modern')\n",
      "You probably need to get an updated matplotlibrc file from\n",
      "https://github.com/matplotlib/matplotlib/blob/v3.5.1/matplotlibrc.template\n",
      "or from the matplotlib source distribution\n",
      "\n",
      "Bad key mathtext.fallback_to_cm in file /home/belle2/jaeyoung/.config/matplotlib/stylelib/belle2_serif.mplstyle, line 27 ('mathtext.fallback_to_cm : True  # When True, use symbols from the Computer Modern')\n",
      "You probably need to get an updated matplotlibrc file from\n",
      "https://github.com/matplotlib/matplotlib/blob/v3.5.1/matplotlibrc.template\n",
      "or from the matplotlib source distribution\n",
      "/cvmfs/belle.cern.ch/el7/externals/v01-11-00/Linux_x86_64/common/lib/python3.8/site-packages/scipy/__init__.py:146: UserWarning: A NumPy version >=1.16.5 and <1.23.0 is required for this version of SciPy (detected version 1.24.4\n",
      "  warnings.warn(f\"A NumPy version >={np_minversion} and <{np_maxversion}\"\n"
     ]
    },
    {
     "name": "stdout",
     "output_type": "stream",
     "text": [
      "Welcome to JupyROOT 6.24/06\n"
     ]
    }
   ],
   "source": [
    "%matplotlib inline\n",
    "%load_ext autoreload\n",
    "%autoreload 2\n",
    "import seaborn as sns\n",
    "import matplotlib.pyplot as plt\n",
    "import numpy as np\n",
    "import pandas as pd\n",
    "import math\n",
    "import glob\n",
    "try:\n",
    "#     plt.style.use('belle2')\n",
    "    plt.style.use('belle2_serif')\n",
    "#     plt.style.use('belle2_modern')\n",
    "except OSError:\n",
    "    print(\"Please install belle2 matplotlib style\")   \n",
    "px = 1/plt.rcParams['figure.dpi']\n",
    "\n",
    "from main.data_tools.extract_ntuples import get_pd, get_np\n",
    "from main.draw_tools.decorations import b2helix, watermark\n",
    "from mpl_toolkits.axes_grid1 import make_axes_locatable\n",
    "\n",
    "import matplotlib.cm as cm\n",
    "import matplotlib.ticker as ticker"
   ]
  },
  {
   "cell_type": "code",
   "execution_count": 2,
   "id": "d4c9d3a1-b810-460f-add3-910f2601e0b4",
   "metadata": {},
   "outputs": [],
   "source": [
    "def cal_eff_purity_ownMC(file_name,file_list, tree, base_filter, N_gen):\n",
    "    \n",
    "    variables = ['Dp_isSignal','Dp_M','__experiment__', '__run__', '__event__']\n",
    "    \n",
    "    N_rec = 0\n",
    "\n",
    "    # Initialize an empty dataframe to store concatenated results\n",
    "    concatenated_df = pd.DataFrame()\n",
    "\n",
    "    for file in file_list:\n",
    "        recon_df = get_pd(file, tree, base_filter, variables)\n",
    "        N_rec += len(recon_df)\n",
    "        extracted_df = recon_df[[\"__experiment__\", \"__run__\", \"__event__\"]].drop_duplicates()\n",
    "\n",
    "        # Concatenate the extracted dataframe with the concatenated_df\n",
    "        concatenated_df = pd.concat([concatenated_df, extracted_df], ignore_index=True)\n",
    "\n",
    "    multiplicity = N_rec / len(concatenated_df) \n",
    "\n",
    "    eff = N_rec/N_gen\n",
    "    \n",
    "    recon_df = get_pd(file_name, tree, base_filter, variables)\n",
    "    N_true = len(recon_df.query('Dp_isSignal==1'))\n",
    "    purity = N_true/N_rec\n",
    "    signal_eff = eff * purity\n",
    "    \n",
    "    signal_eff_error = math.sqrt(signal_eff * (1 - signal_eff) / N_gen)\n",
    "    \n",
    "    print(f\"signal_eff={signal_eff:.4f}, signal_eff_error={signal_eff_error: .4f} ,eff={eff:.4f}, purity={purity:.4f}, multiplicity={multiplicity:.4f}, \")\n",
    "    \n",
    "    return (signal_eff, eff, purity, multiplicity)"
   ]
  },
  {
   "cell_type": "markdown",
   "id": "03cb597d-ebb2-4ad8-9ec3-151b22713191",
   "metadata": {},
   "source": [
    "# D+ -> (eta -> gg) pi+"
   ]
  },
  {
   "cell_type": "code",
   "execution_count": 3,
   "id": "bc0cd664-7431-4360-8011-5cdb3955b22b",
   "metadata": {},
   "outputs": [
    {
     "name": "stdout",
     "output_type": "stream",
     "text": [
      "20\n",
      "signal_eff=0.4533, signal_eff_error= 0.0005 ,eff=2.1070, purity=0.2152, multiplicity=3.2904, \n",
      "D+ -> (eta -> gg) pi+ eff:0.453324\n"
     ]
    },
    {
     "name": "stderr",
     "output_type": "stream",
     "text": [
      "input_line_83:10:7: warning: ignoring return value of function declared with 'nodiscard' attribute [-Wunused-result]\n",
      "      ((const vector<double>*)obj)->empty();\n",
      "      ^~~~~~~~~~~~~~~~~~~~~~~~~~~~~~~~~~~\n",
      "input_line_94:10:7: warning: ignoring return value of function declared with 'nodiscard' attribute [-Wunused-result]\n",
      "      ((const vector<int>*)obj)->empty();\n",
      "      ^~~~~~~~~~~~~~~~~~~~~~~~~~~~~~~~\n",
      "input_line_105:10:7: warning: ignoring return value of function declared with 'nodiscard' attribute [-Wunused-result]\n",
      "      ((const vector<unsigned int>*)obj)->empty();\n",
      "      ^~~~~~~~~~~~~~~~~~~~~~~~~~~~~~~~~~~~~~~~~\n"
     ]
    }
   ],
   "source": [
    "file = '/home/belle2/jaeyoung/storage_ghi/Ntuples_ghi_2/MC15ri_sigMC/Dptoetapip_gg/pre_cut_study/'\n",
    "file += 'pre_cut_*.root'\n",
    "# base_filter=' D0_M>1.68 && D0_M<2.0'\n",
    "base_filter=' Dp_M>0'\n",
    "\n",
    "tree = 'etapip_gg'\n",
    "root_files = glob.glob(file)\n",
    "print(len(root_files))\n",
    "D0signal_eff,D0eff,D0purity,D0multiplicity = cal_eff_purity_ownMC(file,root_files, tree, base_filter, 1e+6)\n",
    "print('D+ -> (eta -> gg) pi+ eff:' + str(D0signal_eff))"
   ]
  },
  {
   "cell_type": "code",
   "execution_count": 4,
   "id": "1a96b2e6-b59e-4b1b-81ba-2498e781d2cd",
   "metadata": {},
   "outputs": [
    {
     "name": "stdout",
     "output_type": "stream",
     "text": [
      "20\n",
      "signal_eff=0.4513, signal_eff_error= 0.0005 ,eff=2.1183, purity=0.2130, multiplicity=3.3071, \n",
      "D+ -> (eta -> gg) pi+ eff:0.451274\n"
     ]
    }
   ],
   "source": [
    "file = '/home/belle2/jaeyoung/storage_ghi/Ntuples_ghi_2/MC15ri_sigMC/Dptoetapip_gg_cc/pre_cut_study/'\n",
    "file += 'pre_cut_*.root'\n",
    "# base_filter=' D0_M>1.68 && D0_M<2.0'\n",
    "base_filter=' Dp_M>0'\n",
    "\n",
    "tree = 'etapip_gg'\n",
    "root_files = glob.glob(file)\n",
    "print(len(root_files))\n",
    "D0signal_eff,D0eff,D0purity,D0multiplicity = cal_eff_purity_ownMC(file,root_files, tree, base_filter, 1e+6)\n",
    "print('D+ -> (eta -> gg) pi+ eff:' + str(D0signal_eff))"
   ]
  },
  {
   "cell_type": "code",
   "execution_count": null,
   "id": "02e421e3-48b4-4343-a8ce-85e34f024ffb",
   "metadata": {},
   "outputs": [],
   "source": []
  },
  {
   "cell_type": "markdown",
   "id": "48f5d169-a444-4542-82e0-0564a23e5783",
   "metadata": {},
   "source": [
    "# D+ -> (eta -> pi+ pi- pi0) pi+"
   ]
  },
  {
   "cell_type": "code",
   "execution_count": 5,
   "id": "6ccc6730-0a64-49d3-9bbf-38b11cf3ebe9",
   "metadata": {},
   "outputs": [
    {
     "name": "stdout",
     "output_type": "stream",
     "text": [
      "20\n",
      "signal_eff=0.2804, signal_eff_error= 0.0004 ,eff=4.6017, purity=0.0609, multiplicity=7.8923, \n",
      "D+ -> (eta -> pi+ pi- pi0) pi+ eff:0.280427\n"
     ]
    }
   ],
   "source": [
    "file = '/home/belle2/jaeyoung/storage_ghi/Ntuples_ghi_2/MC15ri_sigMC/Dptoetapip_pipipi/pre_cut_study/'\n",
    "file += 'pre_cut_*.root'\n",
    "# base_filter=' D0_M>1.68 && D0_M<2.0'\n",
    "base_filter=' Dp_M>0'\n",
    "\n",
    "tree = 'etapip_pipipi'\n",
    "root_files = glob.glob(file)\n",
    "print(len(root_files))\n",
    "D0signal_eff,D0eff,D0purity,D0multiplicity = cal_eff_purity_ownMC(file,root_files, tree, base_filter, 1e+6)\n",
    "print('D+ -> (eta -> pi+ pi- pi0) pi+ eff:' + str(D0signal_eff))"
   ]
  },
  {
   "cell_type": "code",
   "execution_count": 6,
   "id": "ec50d177-d112-4945-ac61-72d1ce7a399e",
   "metadata": {},
   "outputs": [
    {
     "name": "stdout",
     "output_type": "stream",
     "text": [
      "20\n",
      "signal_eff=0.2792, signal_eff_error= 0.0004 ,eff=4.7062, purity=0.0593, multiplicity=8.0740, \n",
      "D+ -> (eta -> pi+ pi- pi0) pi+ eff:0.279191\n"
     ]
    }
   ],
   "source": [
    "file = '/home/belle2/jaeyoung/storage_ghi/Ntuples_ghi_2/MC15ri_sigMC/Dptoetapip_pipipi_cc/pre_cut_study/'\n",
    "file += 'pre_cut_*.root'\n",
    "# base_filter=' D0_M>1.68 && D0_M<2.0'\n",
    "base_filter=' Dp_M>0'\n",
    "\n",
    "tree = 'etapip_pipipi'\n",
    "root_files = glob.glob(file)\n",
    "print(len(root_files))\n",
    "D0signal_eff,D0eff,D0purity,D0multiplicity = cal_eff_purity_ownMC(file,root_files, tree, base_filter, 1e+6)\n",
    "print('D+ -> (eta -> pi+ pi- pi0) pi+ eff:' + str(D0signal_eff))"
   ]
  },
  {
   "cell_type": "code",
   "execution_count": null,
   "id": "a0b39f7b-61e5-4856-9f5d-46c2dce1cbcf",
   "metadata": {},
   "outputs": [],
   "source": []
  }
 ],
 "metadata": {
  "kernelspec": {
   "display_name": "Python 3 (Belle2)",
   "language": "python",
   "name": "python3"
  },
  "language_info": {
   "codemirror_mode": {
    "name": "ipython",
    "version": 3
   },
   "file_extension": ".py",
   "mimetype": "text/x-python",
   "name": "python",
   "nbconvert_exporter": "python",
   "pygments_lexer": "ipython3",
   "version": "3.8.8"
  }
 },
 "nbformat": 4,
 "nbformat_minor": 5
}
