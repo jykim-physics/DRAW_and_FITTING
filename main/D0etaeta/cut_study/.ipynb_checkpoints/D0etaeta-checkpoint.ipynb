{
 "cells": [
  {
   "cell_type": "code",
   "execution_count": 1,
   "id": "e5470d90-8262-4b3d-98fe-f6ee1c7ef306",
   "metadata": {},
   "outputs": [
    {
     "name": "stdout",
     "output_type": "stream",
     "text": [
      "Welcome to JupyROOT 6.26/04\n"
     ]
    }
   ],
   "source": [
    "%matplotlib inline\n",
    "%load_ext autoreload\n",
    "%autoreload 2\n",
    "import seaborn as sns\n",
    "import matplotlib.pyplot as plt\n",
    "import numpy as np\n",
    "import pandas as pd\n",
    "import math\n",
    "import glob\n",
    "try:\n",
    "#     plt.style.use('belle2')\n",
    "    plt.style.use('belle2_serif')\n",
    "#     plt.style.use('belle2_modern')\n",
    "except OSError:\n",
    "    print(\"Please install belle2 matplotlib style\")   \n",
    "px = 1/plt.rcParams['figure.dpi']\n",
    "\n",
    "from main.data_tools.extract_ntuples import get_pd, get_np\n",
    "from main.draw_tools.decorations import b2helix, watermark\n",
    "from mpl_toolkits.axes_grid1 import make_axes_locatable\n",
    "\n",
    "import matplotlib.cm as cm\n",
    "import matplotlib.ticker as ticker"
   ]
  },
  {
   "cell_type": "code",
   "execution_count": 2,
   "id": "06c08303-f7c5-4a51-9f03-eea15129e85e",
   "metadata": {},
   "outputs": [],
   "source": [
    "def cal_eff_purity_ownMC(file_name,file_list, tree, base_filter, N_gen):\n",
    "    \n",
    "    variables = ['Dstarp_isSignal','D0_M','__experiment__', '__run__', '__event__']\n",
    "    \n",
    "    N_rec = 0\n",
    "\n",
    "    # Initialize an empty dataframe to store concatenated results\n",
    "    concatenated_df = pd.DataFrame()\n",
    "\n",
    "    for file in file_list:\n",
    "        recon_df = get_pd(file, tree, base_filter, variables)\n",
    "        N_rec += len(recon_df)\n",
    "        extracted_df = recon_df[[\"__experiment__\", \"__run__\", \"__event__\"]].drop_duplicates()\n",
    "\n",
    "        # Concatenate the extracted dataframe with the concatenated_df\n",
    "        concatenated_df = pd.concat([concatenated_df, extracted_df], ignore_index=True)\n",
    "\n",
    "    multiplicity = N_rec / len(concatenated_df) \n",
    "\n",
    "    eff = N_rec/N_gen\n",
    "    \n",
    "    recon_df = get_pd(file_name, tree, base_filter, variables)\n",
    "    N_true = len(recon_df.query('Dstarp_isSignal==1'))\n",
    "    purity = N_true/N_rec\n",
    "    signal_eff = eff * purity\n",
    "    \n",
    "    signal_eff_error = math.sqrt(signal_eff * (1 - signal_eff) / N_gen)\n",
    "    \n",
    "    print(f\"signal_eff={signal_eff:.4f}, signal_eff_error={signal_eff_error: .4f} ,eff={eff:.4f}, purity={purity:.4f}, multiplicity={multiplicity:.4f}, \")\n",
    "    \n",
    "    return (signal_eff, eff, purity, multiplicity)"
   ]
  },
  {
   "cell_type": "markdown",
   "id": "fd732b6d-6b44-4c67-b891-7543734a2735",
   "metadata": {},
   "source": [
    "# D0 -> (eta -> gg) (eta -> gg)"
   ]
  },
  {
   "cell_type": "code",
   "execution_count": 11,
   "id": "6dfde6a5-d0e9-4005-ad24-232c580eaf18",
   "metadata": {},
   "outputs": [
    {
     "name": "stdout",
     "output_type": "stream",
     "text": [
      "20\n",
      "signal_eff=0.1662, signal_eff_error= 0.0004 ,eff=0.2146, purity=0.7745, multiplicity=1.1375, \n",
      "D0 -> (eta -> gg) (eta -> gg) eff:0.166194\n"
     ]
    }
   ],
   "source": [
    "file = '/home/belle2/jaeyoung/storage_ghi/Ntuples_ghi_2/MC15ri_sigMC/Dtoetaeta_gg/pre_cut_study/'\n",
    "file += 'pre_cut_study_Dtoetaeta_gg_mdst_50000_*.root'\n",
    "# base_filter=' D0_M>1.68 && D0_M<2.0'\n",
    "base_filter=' D0_M>0'\n",
    "\n",
    "base_filter+= ' && abs(Eta_1_daughterDiffOfPhi_0_1)<2.5 && abs(Eta_2_daughterDiffOfPhi_0_1)<2.5 && Eta_1_daughterAngle_0_1<2 && Eta_2_daughterAngle_0_1<2'\n",
    "base_filter+= ' && gamma1_p>0.1 && gamma2_p>0.1 && gamma3_p>0.1 && gamma4_p>0.1'\n",
    "base_filter+= ' && Eta_1_M>0.51 && Eta_1_M<0.57 && Eta_2_M>0.51 && Eta_2_M<0.57 '\n",
    "base_filter+= ' && abs(Dstarp_delM-0.1455)<0.002'\n",
    "\n",
    "tree = 'etaeta_gg_tag'\n",
    "root_files = glob.glob(file)\n",
    "print(len(root_files))\n",
    "D0signal_eff,D0eff,D0purity,D0multiplicity = cal_eff_purity_ownMC(file,root_files, tree, base_filter, 1e+6)\n",
    "print('D0 -> (eta -> gg) (eta -> gg) eff:' + str(D0signal_eff))\n",
    "\n"
   ]
  },
  {
   "cell_type": "code",
   "execution_count": 5,
   "id": "c08adabd-6491-4819-84fc-cd1f83d65535",
   "metadata": {},
   "outputs": [
    {
     "name": "stdout",
     "output_type": "stream",
     "text": [
      "20\n",
      "signal_eff=0.0251, signal_eff_error= 0.0002 ,eff=0.0275, purity=0.9142, multiplicity=1.0292, \n",
      "D0 -> (eta -> gg) (eta -> gg) eff:0.025126\n"
     ]
    }
   ],
   "source": [
    "file = '/media/jykim/T7_2/storage/Ntuples_ghi_2/MC15ri_sigMC/Dtoetaeta_gg/pre_sel_treefit_240317_tight_v0_looseeta_BCS/'\n",
    "file += '*.root'\n",
    "# base_filter=' D0_M>1.68 && D0_M<2.0'\n",
    "base_filter=' D0_M>0'\n",
    "\n",
    "tree = 'etaeta_gg_tag'\n",
    "root_files = glob.glob(file)\n",
    "print(len(root_files))\n",
    "D0signal_eff,D0eff,D0purity,D0multiplicity = cal_eff_purity_ownMC(file,root_files, tree, base_filter, 1e+6)\n",
    "print('D0 -> (eta -> gg) (eta -> gg) eff:' + str(D0signal_eff))"
   ]
  },
  {
   "cell_type": "code",
   "execution_count": 6,
   "id": "a503ed9c-aa94-432f-a804-3afad5921036",
   "metadata": {},
   "outputs": [
    {
     "name": "stdout",
     "output_type": "stream",
     "text": [
      "20\n",
      "signal_eff=0.0248, signal_eff_error= 0.0002 ,eff=0.0267, purity=0.9277, multiplicity=1.0000, \n",
      "D0 -> (eta -> gg) (eta -> gg) eff:0.024774\n"
     ]
    }
   ],
   "source": [
    "file = '/media/jykim/T7_2/storage/Ntuples_ghi_2/MC15ri_sigMC/Dtoetaeta_gg/pre_sel_treefit_240317_tight_v0_looseeta_BCS/'\n",
    "file += '*.root'\n",
    "# base_filter=' D0_M>1.68 && D0_M<2.0'\n",
    "# base_filter=' D0_M>0'\n",
    "base_filter = \"etaeta_gg_rank==1\"\n",
    "\n",
    "tree = 'etaeta_gg_tag'\n",
    "root_files = glob.glob(file)\n",
    "print(len(root_files))\n",
    "D0signal_eff,D0eff,D0purity,D0multiplicity = cal_eff_purity_ownMC(file,root_files, tree, base_filter, 1e+6)\n",
    "print('D0 -> (eta -> gg) (eta -> gg) eff:' + str(D0signal_eff))"
   ]
  },
  {
   "cell_type": "code",
   "execution_count": 7,
   "id": "b4d8d645-429f-4cff-878f-8f2a0c3fe9f4",
   "metadata": {},
   "outputs": [
    {
     "name": "stdout",
     "output_type": "stream",
     "text": [
      "20\n",
      "signal_eff=0.0804, signal_eff_error= 0.0003 ,eff=0.1037, purity=0.7754, multiplicity=1.1232, \n",
      "D0 -> (eta -> gg) (eta -> gg) eff:0.08041799999999999\n"
     ]
    }
   ],
   "source": [
    "file = '/media/jykim/T7_2/storage/Ntuples_ghi_2/MC15ri_sigMC/Dtoetaeta_gg/pre_sel_treefit_240317_tight_v0_BCS_etaconst/'\n",
    "file += '*.root'\n",
    "# base_filter=' D0_M>1.68 && D0_M<2.0'\n",
    "base_filter=' D0_M>0'\n",
    "\n",
    "tree = 'etaeta_gg_tag'\n",
    "root_files = glob.glob(file)\n",
    "print(len(root_files))\n",
    "D0signal_eff,D0eff,D0purity,D0multiplicity = cal_eff_purity_ownMC(file,root_files, tree, base_filter, 1e+6)\n",
    "print('D0 -> (eta -> gg) (eta -> gg) eff:' + str(D0signal_eff))"
   ]
  },
  {
   "cell_type": "code",
   "execution_count": 8,
   "id": "159f0731-65e3-4c92-856d-330bb3ae924d",
   "metadata": {},
   "outputs": [
    {
     "name": "stdout",
     "output_type": "stream",
     "text": [
      "20\n",
      "signal_eff=0.0760, signal_eff_error= 0.0003 ,eff=0.0923, purity=0.8236, multiplicity=1.0000, \n",
      "D0 -> (eta -> gg) (eta -> gg) eff:0.076043\n"
     ]
    }
   ],
   "source": [
    "file = '/media/jykim/T7_2/storage/Ntuples_ghi_2/MC15ri_sigMC/Dtoetaeta_gg/pre_sel_treefit_240317_tight_v0_BCS_etaconst/'\n",
    "file += '*.root'\n",
    "# base_filter=' D0_M>1.68 && D0_M<2.0'\n",
    "# base_filter=' D0_M>0'\n",
    "base_filter = \"etaeta_gg_rank==1\"\n",
    "\n",
    "tree = 'etaeta_gg_tag'\n",
    "root_files = glob.glob(file)\n",
    "print(len(root_files))\n",
    "D0signal_eff,D0eff,D0purity,D0multiplicity = cal_eff_purity_ownMC(file,root_files, tree, base_filter, 1e+6)\n",
    "print('D0 -> (eta -> gg) (eta -> gg) eff:' + str(D0signal_eff))"
   ]
  },
  {
   "cell_type": "code",
   "execution_count": null,
   "id": "6dd07466-a038-48b6-984c-f11a6ece10e1",
   "metadata": {},
   "outputs": [],
   "source": []
  },
  {
   "cell_type": "markdown",
   "id": "4985871f-ed8d-41e3-8503-1274e2bc709c",
   "metadata": {},
   "source": [
    "# D0 -> (eta -> gg) (eta -> pi+ pi- pi0)"
   ]
  },
  {
   "cell_type": "code",
   "execution_count": 5,
   "id": "145eb1c3-db4e-4a12-8ad8-5df57a88548d",
   "metadata": {},
   "outputs": [
    {
     "name": "stdout",
     "output_type": "stream",
     "text": [
      "20\n",
      "signal_eff=0.1890, signal_eff_error= 0.0004 ,eff=7.7906, purity=0.0243, multiplicity=16.9290, \n",
      "D0 -> (eta -> gg) (eta -> pi+ pi- pi0) eff:0.189024\n"
     ]
    }
   ],
   "source": [
    "file = '/home/belle2/jaeyoung/storage_ghi/Ntuples_ghi_2/MC15ri_sigMC/Dtoetaeta_gg_pipipi/pre_cut_study/'\n",
    "file += 'pre_cut_*.root'\n",
    "# base_filter=' D0_M>1.68 && D0_M<2.0'\n",
    "base_filter=' D0_M>0'\n",
    "\n",
    "tree = 'etaeta_gpi_tag'\n",
    "root_files = glob.glob(file)\n",
    "print(len(root_files))\n",
    "D0signal_eff,D0eff,D0purity,D0multiplicity = cal_eff_purity_ownMC(file,root_files, tree, base_filter, 1e+6)\n",
    "print('D0 -> (eta -> gg) (eta -> pi+ pi- pi0) eff:' + str(D0signal_eff))"
   ]
  },
  {
   "cell_type": "code",
   "execution_count": 6,
   "id": "d3ca4b37-4d32-4e89-98b4-6991f87804fb",
   "metadata": {},
   "outputs": [
    {
     "name": "stdout",
     "output_type": "stream",
     "text": [
      "20\n",
      "signal_eff=0.1846, signal_eff_error= 0.0004 ,eff=7.6982, purity=0.0240, multiplicity=17.0196, \n",
      "D0 -> (eta -> gg) (eta -> pi+ pi- pi0) eff:0.184587\n"
     ]
    }
   ],
   "source": [
    "file = '/home/belle2/jaeyoung/storage_ghi/Ntuples_ghi_2/MC15ri_sigMC/Dtoetaeta_gg_pipipi_cc/pre_cut_study/'\n",
    "file += 'pre_cut_*.root'\n",
    "# base_filter=' D0_M>1.68 && D0_M<2.0'\n",
    "base_filter=' D0_M>0'\n",
    "\n",
    "tree = 'etaeta_gpi_tag'\n",
    "root_files = glob.glob(file)\n",
    "print(len(root_files))\n",
    "D0signal_eff,D0eff,D0purity,D0multiplicity = cal_eff_purity_ownMC(file,root_files, tree, base_filter, 1e+6)\n",
    "print('D0 -> (eta -> gg) (eta -> pi+ pi- pi0) eff:' + str(D0signal_eff))"
   ]
  },
  {
   "cell_type": "code",
   "execution_count": 13,
   "id": "d430ab9b-859f-41ac-a451-61b919ad003b",
   "metadata": {},
   "outputs": [
    {
     "name": "stdout",
     "output_type": "stream",
     "text": [
      "20\n",
      "signal_eff=0.0432, signal_eff_error= 0.0002 ,eff=0.0770, purity=0.5616, multiplicity=1.3107, \n",
      "D0 -> (eta -> gg) (eta -> 3pi) eff:0.043243000000000004\n"
     ]
    }
   ],
   "source": [
    "file = '/media/jykim/T7_2/storage/Ntuples_ghi_2/MC15ri_sigMC/Dtoetaeta_gg_pipipi/pre_sel_treefit_240317_tight_v0_BCS_etaconst/'\n",
    "file += '*.root'\n",
    "# base_filter=' D0_M>1.68 && D0_M<2.0'\n",
    "base_filter=' D0_M>0'\n",
    "\n",
    "tree = 'etaeta_gpi_tag'\n",
    "root_files = glob.glob(file)\n",
    "print(len(root_files))\n",
    "D0signal_eff,D0eff,D0purity,D0multiplicity = cal_eff_purity_ownMC(file,root_files, tree, base_filter, 1e+6)\n",
    "print('D0 -> (eta -> gg) (eta -> 3pi) eff:' + str(D0signal_eff))"
   ]
  },
  {
   "cell_type": "code",
   "execution_count": 14,
   "id": "74c8f1be-fd6f-42ea-a794-c59ab409544b",
   "metadata": {},
   "outputs": [
    {
     "name": "stdout",
     "output_type": "stream",
     "text": [
      "20\n",
      "signal_eff=0.0389, signal_eff_error= 0.0002 ,eff=0.0587, purity=0.6620, multiplicity=1.0000, \n",
      "D0 -> (eta -> gg) (eta -> 3pi) eff:0.038889\n"
     ]
    }
   ],
   "source": [
    "file = '/media/jykim/T7_2/storage/Ntuples_ghi_2/MC15ri_sigMC/Dtoetaeta_gg_pipipi/pre_sel_treefit_240317_tight_v0_BCS_etaconst/'\n",
    "file += '*.root'\n",
    "# base_filter=' D0_M>1.68 && D0_M<2.0'\n",
    "# base_filter=' D0_M>0'\n",
    "base_filter = \"etaeta_gpi_rank==1\"\n",
    "\n",
    "tree = 'etaeta_gpi_tag'\n",
    "root_files = glob.glob(file)\n",
    "print(len(root_files))\n",
    "D0signal_eff,D0eff,D0purity,D0multiplicity = cal_eff_purity_ownMC(file,root_files, tree, base_filter, 1e+6)\n",
    "print('D0 -> (eta -> gg) (eta -> 3pi) eff:' + str(D0signal_eff))"
   ]
  },
  {
   "cell_type": "markdown",
   "id": "dcccf3db-134c-4af8-9c7d-229db1f2b83d",
   "metadata": {},
   "source": [
    "# D0 -> (eta -> pi+ pi- pi0) (eta -> pi+ pi- pi0)"
   ]
  },
  {
   "cell_type": "code",
   "execution_count": 7,
   "id": "b298eae1-d927-42af-b5d0-da0290eaa261",
   "metadata": {},
   "outputs": [
    {
     "name": "stdout",
     "output_type": "stream",
     "text": [
      "20\n",
      "signal_eff=0.1129, signal_eff_error= 0.0003 ,eff=18.4486, purity=0.0061, multiplicity=42.5606, \n",
      "D0 -> (eta -> pi+ pi- pi0) (eta -> pi+ pi- pi0) eff:0.11291599999999999\n"
     ]
    },
    {
     "name": "stderr",
     "output_type": "stream",
     "text": [
      "IOStream.flush timed out\n"
     ]
    }
   ],
   "source": [
    "file = '/home/belle2/jaeyoung/storage_ghi/Ntuples_ghi_2/MC15ri_sigMC/Dtoetaeta_pipipi_pipipi/pre_cut_study/'\n",
    "file += 'pre_cut_*.root'\n",
    "# base_filter=' D0_M>1.68 && D0_M<2.0'\n",
    "base_filter=' D0_M>0'\n",
    "\n",
    "\n",
    "\n",
    "tree = 'etaeta_pipi_tag'\n",
    "root_files = glob.glob(file)\n",
    "print(len(root_files))\n",
    "D0signal_eff,D0eff,D0purity,D0multiplicity = cal_eff_purity_ownMC(file,root_files, tree, base_filter, 1e+6)\n",
    "print('D0 -> (eta -> pi+ pi- pi0) (eta -> pi+ pi- pi0) eff:' + str(D0signal_eff))"
   ]
  },
  {
   "cell_type": "code",
   "execution_count": 8,
   "id": "57d1c015-8f68-484a-b771-605086ba3d95",
   "metadata": {},
   "outputs": [
    {
     "name": "stdout",
     "output_type": "stream",
     "text": [
      "20\n",
      "signal_eff=0.1100, signal_eff_error= 0.0003 ,eff=18.6427, purity=0.0059, multiplicity=43.7610, \n",
      "D0 -> (eta -> pi+ pi- pi0) (eta -> pi+ pi- pi0) eff:0.11003399999999999\n"
     ]
    },
    {
     "name": "stderr",
     "output_type": "stream",
     "text": [
      "IOStream.flush timed out\n"
     ]
    }
   ],
   "source": [
    "file = '/home/belle2/jaeyoung/storage_ghi/Ntuples_ghi_2/MC15ri_sigMC/Dtoetaeta_pipipi_pipipi_cc/pre_cut_study/'\n",
    "file += 'pre_cut_*.root'\n",
    "# base_filter=' D0_M>1.68 && D0_M<2.0'\n",
    "base_filter=' D0_M>0'\n",
    "\n",
    "tree = 'etaeta_pipi_tag'\n",
    "root_files = glob.glob(file)\n",
    "print(len(root_files))\n",
    "D0signal_eff,D0eff,D0purity,D0multiplicity = cal_eff_purity_ownMC(file,root_files, tree, base_filter, 1e+6)\n",
    "print('D0 -> (eta -> pi+ pi- pi0) (eta -> pi+ pi- pi0) eff:' + str(D0signal_eff))"
   ]
  },
  {
   "cell_type": "code",
   "execution_count": 15,
   "id": "b0638fda-b142-4315-b8f4-253a49c18628",
   "metadata": {},
   "outputs": [
    {
     "name": "stdout",
     "output_type": "stream",
     "text": [
      "20\n",
      "signal_eff=0.0248, signal_eff_error= 0.0002 ,eff=0.0667, purity=0.3723, multiplicity=1.6227, \n",
      "D0 -> (eta -> 3pi) (eta -> 3pi) eff:0.024814\n"
     ]
    }
   ],
   "source": [
    "file = '/media/jykim/T7_2/storage/Ntuples_ghi_2/MC15ri_sigMC/Dtoetaeta_pipipi_pipipi/pre_sel_treefit_240317_tight_v0_BCS_etaconst/'\n",
    "file += '*.root'\n",
    "# base_filter=' D0_M>1.68 && D0_M<2.0'\n",
    "base_filter=' D0_M>0'\n",
    "\n",
    "tree = 'etaeta_pipi_tag'\n",
    "root_files = glob.glob(file)\n",
    "print(len(root_files))\n",
    "D0signal_eff,D0eff,D0purity,D0multiplicity = cal_eff_purity_ownMC(file,root_files, tree, base_filter, 1e+6)\n",
    "print('D0 -> (eta -> 3pi) (eta -> 3pi) eff:' + str(D0signal_eff))"
   ]
  },
  {
   "cell_type": "code",
   "execution_count": 16,
   "id": "0b7ab8c0-3983-4ad9-a216-d1eb8949e47a",
   "metadata": {},
   "outputs": [
    {
     "name": "stdout",
     "output_type": "stream",
     "text": [
      "20\n",
      "signal_eff=0.0209, signal_eff_error= 0.0001 ,eff=0.0411, purity=0.5096, multiplicity=1.0000, \n",
      "D0 -> (eta -> 3pi) (eta -> 3pi) eff:0.020933000000000004\n"
     ]
    }
   ],
   "source": [
    "file = '/media/jykim/T7_2/storage/Ntuples_ghi_2/MC15ri_sigMC/Dtoetaeta_pipipi_pipipi/pre_sel_treefit_240317_tight_v0_BCS_etaconst/'\n",
    "file += '*.root'\n",
    "# base_filter=' D0_M>1.68 && D0_M<2.0'\n",
    "# base_filter=' D0_M>0'\n",
    "base_filter = \"etaeta_pipi_rank==1\"\n",
    "\n",
    "tree = 'etaeta_pipi_tag'\n",
    "root_files = glob.glob(file)\n",
    "print(len(root_files))\n",
    "D0signal_eff,D0eff,D0purity,D0multiplicity = cal_eff_purity_ownMC(file,root_files, tree, base_filter, 1e+6)\n",
    "print('D0 -> (eta -> 3pi) (eta -> 3pi) eff:' + str(D0signal_eff))"
   ]
  },
  {
   "cell_type": "code",
   "execution_count": null,
   "id": "78e83248-b8fe-4ed7-a1a3-1051e54c161b",
   "metadata": {},
   "outputs": [],
   "source": []
  }
 ],
 "metadata": {
  "kernelspec": {
   "display_name": "Python 3 (ipykernel)",
   "language": "python",
   "name": "python3"
  },
  "language_info": {
   "codemirror_mode": {
    "name": "ipython",
    "version": 3
   },
   "file_extension": ".py",
   "mimetype": "text/x-python",
   "name": "python",
   "nbconvert_exporter": "python",
   "pygments_lexer": "ipython3",
   "version": "3.10.5"
  }
 },
 "nbformat": 4,
 "nbformat_minor": 5
}
