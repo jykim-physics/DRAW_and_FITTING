{
 "cells": [
  {
   "cell_type": "code",
   "execution_count": 1,
   "id": "e5470d90-8262-4b3d-98fe-f6ee1c7ef306",
   "metadata": {},
   "outputs": [
    {
     "name": "stderr",
     "output_type": "stream",
     "text": [
      "\n",
      "Bad key mathtext.fallback_to_cm in file /home/belle2/jaeyoung/.config/matplotlib/stylelib/belle2.mplstyle, line 35 ('mathtext.fallback_to_cm : True  # When True, use symbols from the Computer Modern')\n",
      "You probably need to get an updated matplotlibrc file from\n",
      "https://github.com/matplotlib/matplotlib/blob/v3.5.1/matplotlibrc.template\n",
      "or from the matplotlib source distribution\n",
      "\n",
      "Bad key mathtext.fallback_to_cm in file /home/belle2/jaeyoung/.config/matplotlib/stylelib/belle2_modern.mplstyle, line 27 ('mathtext.fallback_to_cm : True  # When True, use symbols from the Computer Modern')\n",
      "You probably need to get an updated matplotlibrc file from\n",
      "https://github.com/matplotlib/matplotlib/blob/v3.5.1/matplotlibrc.template\n",
      "or from the matplotlib source distribution\n",
      "\n",
      "Bad key mathtext.fallback_to_cm in file /home/belle2/jaeyoung/.config/matplotlib/stylelib/belle2_serif.mplstyle, line 27 ('mathtext.fallback_to_cm : True  # When True, use symbols from the Computer Modern')\n",
      "You probably need to get an updated matplotlibrc file from\n",
      "https://github.com/matplotlib/matplotlib/blob/v3.5.1/matplotlibrc.template\n",
      "or from the matplotlib source distribution\n",
      "/cvmfs/belle.cern.ch/el7/externals/v01-11-00/Linux_x86_64/common/lib/python3.8/site-packages/scipy/__init__.py:146: UserWarning: A NumPy version >=1.16.5 and <1.23.0 is required for this version of SciPy (detected version 1.24.4\n",
      "  warnings.warn(f\"A NumPy version >={np_minversion} and <{np_maxversion}\"\n"
     ]
    },
    {
     "name": "stdout",
     "output_type": "stream",
     "text": [
      "Welcome to JupyROOT 6.24/06\n"
     ]
    }
   ],
   "source": [
    "%matplotlib inline\n",
    "%load_ext autoreload\n",
    "%autoreload 2\n",
    "import seaborn as sns\n",
    "import matplotlib.pyplot as plt\n",
    "import numpy as np\n",
    "import pandas as pd\n",
    "import math\n",
    "import glob\n",
    "try:\n",
    "#     plt.style.use('belle2')\n",
    "    plt.style.use('belle2_serif')\n",
    "#     plt.style.use('belle2_modern')\n",
    "except OSError:\n",
    "    print(\"Please install belle2 matplotlib style\")   \n",
    "px = 1/plt.rcParams['figure.dpi']\n",
    "\n",
    "from main.data_tools.extract_ntuples import get_pd, get_np\n",
    "from main.draw_tools.decorations import b2helix, watermark\n",
    "from mpl_toolkits.axes_grid1 import make_axes_locatable\n",
    "\n",
    "import matplotlib.cm as cm\n",
    "import matplotlib.ticker as ticker"
   ]
  },
  {
   "cell_type": "code",
   "execution_count": 4,
   "id": "06c08303-f7c5-4a51-9f03-eea15129e85e",
   "metadata": {},
   "outputs": [],
   "source": [
    "def cal_eff_purity_ownMC(file_name,file_list, tree, base_filter, N_gen):\n",
    "    \n",
    "    variables = ['Dstarp_isSignal','D0_M','__experiment__', '__run__', '__event__']\n",
    "    \n",
    "    N_rec = 0\n",
    "\n",
    "    # Initialize an empty dataframe to store concatenated results\n",
    "    concatenated_df = pd.DataFrame()\n",
    "\n",
    "    for file in file_list:\n",
    "        recon_df = get_pd(file, tree, base_filter, variables)\n",
    "        N_rec += len(recon_df)\n",
    "        extracted_df = recon_df[[\"__experiment__\", \"__run__\", \"__event__\"]].drop_duplicates()\n",
    "\n",
    "        # Concatenate the extracted dataframe with the concatenated_df\n",
    "        concatenated_df = pd.concat([concatenated_df, extracted_df], ignore_index=True)\n",
    "\n",
    "    multiplicity = N_rec / len(concatenated_df) \n",
    "\n",
    "    eff = N_rec/N_gen\n",
    "    \n",
    "    recon_df = get_pd(file_name, tree, base_filter, variables)\n",
    "    N_true = len(recon_df.query('Dstarp_isSignal==1'))\n",
    "    purity = N_true/N_rec\n",
    "    signal_eff = eff * purity\n",
    "    \n",
    "    signal_eff_error = math.sqrt(signal_eff * (1 - signal_eff) / N_gen)\n",
    "    \n",
    "    print(f\"signal_eff={signal_eff:.4f}, signal_eff_error={signal_eff_error: .4f} ,eff={eff:.4f}, purity={purity:.4f}, multiplicity={multiplicity:.4f}, \")\n",
    "    \n",
    "    return (signal_eff, eff, purity, multiplicity)"
   ]
  },
  {
   "cell_type": "markdown",
   "id": "fd732b6d-6b44-4c67-b891-7543734a2735",
   "metadata": {},
   "source": [
    "# D0 -> (eta -> gg) (eta -> gg)"
   ]
  },
  {
   "cell_type": "code",
   "execution_count": 7,
   "id": "6dfde6a5-d0e9-4005-ad24-232c580eaf18",
   "metadata": {},
   "outputs": [
    {
     "name": "stdout",
     "output_type": "stream",
     "text": [
      "20\n",
      "signal_eff=0.3072, signal_eff_error= 0.0005 ,eff=2.8665, purity=0.1072, multiplicity=5.8506, \n",
      "D0 -> (eta -> gg) (eta -> gg) eff:0.30716699999999997\n"
     ]
    }
   ],
   "source": [
    "file = '/home/belle2/jaeyoung/storage_ghi/Ntuples_ghi_2/MC15ri_sigMC/Dtoetaeta_gg/pre_cut_study/'\n",
    "file += 'pre_cut_study_Dtoetaeta_gg_mdst_50000_*.root'\n",
    "# base_filter=' D0_M>1.68 && D0_M<2.0'\n",
    "base_filter=' D0_M>0'\n",
    "\n",
    "tree = 'etaeta_gg_tag'\n",
    "root_files = glob.glob(file)\n",
    "print(len(root_files))\n",
    "D0signal_eff,D0eff,D0purity,D0multiplicity = cal_eff_purity_ownMC(file,root_files, tree, base_filter, 1e+6)\n",
    "print('D0 -> (eta -> gg) (eta -> gg) eff:' + str(D0signal_eff))"
   ]
  },
  {
   "cell_type": "code",
   "execution_count": 10,
   "id": "b4d8d645-429f-4cff-878f-8f2a0c3fe9f4",
   "metadata": {},
   "outputs": [
    {
     "name": "stdout",
     "output_type": "stream",
     "text": [
      "20\n",
      "signal_eff=0.0865, signal_eff_error= 0.0003 ,eff=0.8388, purity=0.1031, multiplicity=5.7219, \n",
      "D0 -> (eta -> gg) (eta -> gg) eff:0.08649499999999999\n"
     ]
    }
   ],
   "source": [
    "file = '/home/belle2/jaeyoung/storage_ghi/Ntuples_ghi_2/MC15ri_sigMC/Dtoetaeta_gg_cc/pre_cut_study/'\n",
    "file += 'pre_cut_*.root'\n",
    "# base_filter=' D0_M>1.68 && D0_M<2.0'\n",
    "base_filter=' D0_M>0'\n",
    "\n",
    "tree = 'etaeta_gg_tag'\n",
    "root_files = glob.glob(file)\n",
    "print(len(root_files))\n",
    "D0signal_eff,D0eff,D0purity,D0multiplicity = cal_eff_purity_ownMC(file,root_files, tree, base_filter, 1e+6)\n",
    "print('D0 -> (eta -> gg) (eta -> gg) eff:' + str(D0signal_eff))"
   ]
  },
  {
   "cell_type": "code",
   "execution_count": null,
   "id": "6dd07466-a038-48b6-984c-f11a6ece10e1",
   "metadata": {},
   "outputs": [],
   "source": []
  },
  {
   "cell_type": "markdown",
   "id": "4985871f-ed8d-41e3-8503-1274e2bc709c",
   "metadata": {},
   "source": [
    "# D0 -> (eta -> gg) (eta -> pi+ pi- pi0)"
   ]
  },
  {
   "cell_type": "code",
   "execution_count": 11,
   "id": "145eb1c3-db4e-4a12-8ad8-5df57a88548d",
   "metadata": {},
   "outputs": [
    {
     "name": "stdout",
     "output_type": "stream",
     "text": [
      "20\n",
      "signal_eff=0.1938, signal_eff_error= 0.0004 ,eff=8.0257, purity=0.0242, multiplicity=16.9827, \n",
      "D0 -> (eta -> gg) (eta -> pi+ pi- pi0) eff:0.19383699999999998\n"
     ]
    }
   ],
   "source": [
    "file = '/home/belle2/jaeyoung/storage_ghi/Ntuples_ghi_2/MC15ri_sigMC/Dtoetaeta_gg_pipipi/pre_cut_study/'\n",
    "file += 'pre_cut_*.root'\n",
    "# base_filter=' D0_M>1.68 && D0_M<2.0'\n",
    "base_filter=' D0_M>0'\n",
    "\n",
    "tree = 'etaeta_gpi_tag'\n",
    "root_files = glob.glob(file)\n",
    "print(len(root_files))\n",
    "D0signal_eff,D0eff,D0purity,D0multiplicity = cal_eff_purity_ownMC(file,root_files, tree, base_filter, 1e+6)\n",
    "print('D0 -> (eta -> gg) (eta -> pi+ pi- pi0) eff:' + str(D0signal_eff))"
   ]
  },
  {
   "cell_type": "code",
   "execution_count": 12,
   "id": "d3ca4b37-4d32-4e89-98b4-6991f87804fb",
   "metadata": {},
   "outputs": [
    {
     "name": "stdout",
     "output_type": "stream",
     "text": [
      "20\n",
      "signal_eff=0.0547, signal_eff_error= 0.0002 ,eff=2.5938, purity=0.0211, multiplicity=16.0940, \n",
      "D0 -> (eta -> gg) (eta -> pi+ pi- pi0) eff:0.05466\n"
     ]
    }
   ],
   "source": [
    "file = '/home/belle2/jaeyoung/storage_ghi/Ntuples_ghi_2/MC15ri_sigMC/Dtoetaeta_gg_pipipi_cc/pre_cut_study/'\n",
    "file += 'pre_cut_*.root'\n",
    "# base_filter=' D0_M>1.68 && D0_M<2.0'\n",
    "base_filter=' D0_M>0'\n",
    "\n",
    "tree = 'etaeta_gpi_tag'\n",
    "root_files = glob.glob(file)\n",
    "print(len(root_files))\n",
    "D0signal_eff,D0eff,D0purity,D0multiplicity = cal_eff_purity_ownMC(file,root_files, tree, base_filter, 1e+6)\n",
    "print('D0 -> (eta -> gg) (eta -> pi+ pi- pi0) eff:' + str(D0signal_eff))"
   ]
  },
  {
   "cell_type": "markdown",
   "id": "dcccf3db-134c-4af8-9c7d-229db1f2b83d",
   "metadata": {},
   "source": [
    "# D0 -> (eta -> pi+ pi- pi0) (eta -> pi+ pi- pi0)"
   ]
  },
  {
   "cell_type": "code",
   "execution_count": 13,
   "id": "b298eae1-d927-42af-b5d0-da0290eaa261",
   "metadata": {},
   "outputs": [
    {
     "name": "stdout",
     "output_type": "stream",
     "text": [
      "20\n",
      "signal_eff=0.1194, signal_eff_error= 0.0003 ,eff=20.3025, purity=0.0059, multiplicity=43.9527, \n",
      "D0 -> (eta -> gg) (eta -> gg) eff:0.119446\n"
     ]
    }
   ],
   "source": [
    "file = '/home/belle2/jaeyoung/storage_ghi/Ntuples_ghi_2/MC15ri_sigMC/Dtoetaeta_pipipi_pipipi/pre_cut_study/'\n",
    "file += 'pre_cut_*.root'\n",
    "# base_filter=' D0_M>1.68 && D0_M<2.0'\n",
    "base_filter=' D0_M>0'\n",
    "\n",
    "tree = 'etaeta_pipi_tag'\n",
    "root_files = glob.glob(file)\n",
    "print(len(root_files))\n",
    "D0signal_eff,D0eff,D0purity,D0multiplicity = cal_eff_purity_ownMC(file,root_files, tree, base_filter, 1e+6)\n",
    "print('D0 -> (eta -> pi+ pi- pi0) (eta -> pi+ pi- pi0) eff:' + str(D0signal_eff))"
   ]
  },
  {
   "cell_type": "code",
   "execution_count": 14,
   "id": "57d1c015-8f68-484a-b771-605086ba3d95",
   "metadata": {},
   "outputs": [
    {
     "name": "stdout",
     "output_type": "stream",
     "text": [
      "20\n",
      "signal_eff=0.0334, signal_eff_error= 0.0002 ,eff=6.5634, purity=0.0051, multiplicity=43.9767, \n",
      "D0 -> (eta -> gg) (eta -> gg) eff:0.033402\n"
     ]
    }
   ],
   "source": [
    "file = '/home/belle2/jaeyoung/storage_ghi/Ntuples_ghi_2/MC15ri_sigMC/Dtoetaeta_pipipi_pipipi_cc/pre_cut_study/'\n",
    "file += 'pre_cut_*.root'\n",
    "# base_filter=' D0_M>1.68 && D0_M<2.0'\n",
    "base_filter=' D0_M>0'\n",
    "\n",
    "tree = 'etaeta_pipi_tag'\n",
    "root_files = glob.glob(file)\n",
    "print(len(root_files))\n",
    "D0signal_eff,D0eff,D0purity,D0multiplicity = cal_eff_purity_ownMC(file,root_files, tree, base_filter, 1e+6)\n",
    "print('D0 -> (eta -> pi+ pi- pi0) (eta -> pi+ pi- pi0) eff:' + str(D0signal_eff))"
   ]
  },
  {
   "cell_type": "code",
   "execution_count": null,
   "id": "78e83248-b8fe-4ed7-a1a3-1051e54c161b",
   "metadata": {},
   "outputs": [],
   "source": []
  }
 ],
 "metadata": {
  "kernelspec": {
   "display_name": "Python 3 (Belle2)",
   "language": "python",
   "name": "python3"
  },
  "language_info": {
   "codemirror_mode": {
    "name": "ipython",
    "version": 3
   },
   "file_extension": ".py",
   "mimetype": "text/x-python",
   "name": "python",
   "nbconvert_exporter": "python",
   "pygments_lexer": "ipython3",
   "version": "3.8.8"
  }
 },
 "nbformat": 4,
 "nbformat_minor": 5
}
