{
 "cells": [
  {
   "cell_type": "code",
   "execution_count": 5,
   "id": "2938d8c4",
   "metadata": {},
   "outputs": [
    {
     "name": "stdout",
     "output_type": "stream",
     "text": [
      "Welcome to JupyROOT 6.26/04\n"
     ]
    }
   ],
   "source": [
    "%matplotlib inline\n",
    "%load_ext autoreload\n",
    "%autoreload 2\n",
    "import seaborn as sns\n",
    "import matplotlib.pyplot as plt\n",
    "import numpy as np\n",
    "import pandas as pd\n",
    "import math\n",
    "try:\n",
    "#     plt.style.use('belle2')\n",
    "    plt.style.use('belle2_serif')\n",
    "#     plt.style.use('belle2_modern')\n",
    "except OSError:\n",
    "    print(\"Please install belle2 matplotlib style\")   \n",
    "px = 1/plt.rcParams['figure.dpi']\n",
    "\n",
    "from main.data_tools.extract_ntuples import get_pd, get_np\n",
    "from main.draw_tools.decorations import b2helix, watermark"
   ]
  },
  {
   "cell_type": "code",
   "execution_count": 6,
   "id": "79a9063f",
   "metadata": {},
   "outputs": [],
   "source": [
    "FOM_cut_list = np.linspace(0,1,101)"
   ]
  },
  {
   "cell_type": "code",
   "execution_count": 2,
   "id": "623acaa8",
   "metadata": {},
   "outputs": [],
   "source": [
    "def calculate_FOM( bkg_pd, sig_pd, cut_list):\n",
    "    \n",
    "    FOM_list = list()\n",
    "    \n",
    "    for cut_value in cut_list:\n",
    "    \n",
    "        temp_cut = 'Pi0_Prob > ' + str(cut_value) \n",
    "        #temp_cut = 'gamma_E > ' + str(cut_value) \n",
    "\n",
    "        temp_bkg_pd = bkg_pd.query(temp_cut)\n",
    "        temp_sig_pd = sig_pd.query(temp_cut)\n",
    "\n",
    "        nsig = len(temp_sig_pd)\n",
    "        nbkg = len(temp_bkg_pd)\n",
    "\n",
    "        FOM = nsig/(math.sqrt(nsig + nbkg))\n",
    "        FOM_list.append(FOM)    \n",
    "    \n",
    "    return FOM_list"
   ]
  },
  {
   "cell_type": "code",
   "execution_count": 7,
   "id": "ccfeaa31",
   "metadata": {},
   "outputs": [],
   "source": [
    "def calculate_eff( bkg_pd, sig_pd, cut_list):\n",
    "    \n",
    "    eff_list = list()\n",
    "    \n",
    "    for cut_value in cut_list:\n",
    "    \n",
    "        #temp_cut = 'gamma_E > ' + str(cut_value) \n",
    "        temp_cut = 'Pi0_Prob > ' + str(cut_value) \n",
    "\n",
    "        temp_sig_pd = sig_pd.query(temp_cut)\n",
    "\n",
    "        nsig = len(temp_sig_pd)\n",
    "\n",
    "        eff = nsig/(5e+5)\n",
    "        eff_list.append(eff)    \n",
    "    \n",
    "    return eff_list"
   ]
  },
  {
   "cell_type": "code",
   "execution_count": 8,
   "id": "a03d73d6",
   "metadata": {},
   "outputs": [],
   "source": [
    "def calculate_purity( bkg_pd, sig_pd, cut_list):\n",
    "    \n",
    "    purity_list = list()\n",
    "    \n",
    "    for cut_value in cut_list:\n",
    "    \n",
    "        #temp_cut = 'gamma_E > ' + str(cut_value) \n",
    "        temp_cut = 'Pi0_Prob > ' + str(cut_value) \n",
    "        \n",
    "        temp_sig_pd = sig_pd.query(temp_cut)\n",
    "\n",
    "        nsig = len(temp_sig_pd)\n",
    "        \n",
    "        nREALsig = len(temp_sig_pd.query(\"Dstarp_isSignal==1\"))\n",
    "        \n",
    "        #nbkg = len(temp_bkg_pd)\n",
    "\n",
    "        purity = nREALsig/nsig\n",
    "        purity_list.append(purity)    \n",
    "    \n",
    "    return purity_list"
   ]
  },
  {
   "cell_type": "code",
   "execution_count": 9,
   "id": "d18dd76f",
   "metadata": {},
   "outputs": [
    {
     "ename": "NameError",
     "evalue": "name 'phig_pre_extraction_ccbar' is not defined",
     "output_type": "error",
     "traceback": [
      "\u001b[0;31m---------------------------------------------------------------------------\u001b[0m",
      "\u001b[0;31mNameError\u001b[0m                                 Traceback (most recent call last)",
      "Cell \u001b[0;32mIn [9], line 1\u001b[0m\n\u001b[0;32m----> 1\u001b[0m phig_bkg_pre_ext_all \u001b[38;5;241m=\u001b[39m pd\u001b[38;5;241m.\u001b[39mconcat([\u001b[43mphig_pre_extraction_ccbar\u001b[49m,\n\u001b[1;32m      2\u001b[0m                                 phig_pre_extraction_uubar,\n\u001b[1;32m      3\u001b[0m                                 phig_pre_extraction_ddbar,\n\u001b[1;32m      4\u001b[0m                                 phig_pre_extraction_ssbar,\n\u001b[1;32m      5\u001b[0m                                 phig_pre_extraction_charged,\n\u001b[1;32m      6\u001b[0m                                 phig_pre_extraction_mixed,\n\u001b[1;32m      7\u001b[0m                                 phig_pre_extraction_taupair], ignore_index\u001b[38;5;241m=\u001b[39m\u001b[38;5;28;01mTrue\u001b[39;00m)\n",
      "\u001b[0;31mNameError\u001b[0m: name 'phig_pre_extraction_ccbar' is not defined"
     ]
    }
   ],
   "source": [
    "phig_bkg_pre_ext_all = pd.concat([phig_pre_extraction_ccbar,\n",
    "                                phig_pre_extraction_uubar,\n",
    "                                phig_pre_extraction_ddbar,\n",
    "                                phig_pre_extraction_ssbar,\n",
    "                                phig_pre_extraction_charged,\n",
    "                                phig_pre_extraction_mixed,\n",
    "                                phig_pre_extraction_taupair], ignore_index=True)"
   ]
  },
  {
   "cell_type": "code",
   "execution_count": null,
   "id": "b52b85de",
   "metadata": {},
   "outputs": [],
   "source": []
  }
 ],
 "metadata": {
  "kernelspec": {
   "display_name": "Python 3 (ipykernel)",
   "language": "python",
   "name": "python3"
  },
  "language_info": {
   "codemirror_mode": {
    "name": "ipython",
    "version": 3
   },
   "file_extension": ".py",
   "mimetype": "text/x-python",
   "name": "python",
   "nbconvert_exporter": "python",
   "pygments_lexer": "ipython3",
   "version": "3.10.5"
  },
  "toc": {
   "base_numbering": 1,
   "nav_menu": {},
   "number_sections": true,
   "sideBar": true,
   "skip_h1_title": false,
   "title_cell": "Table of Contents",
   "title_sidebar": "Contents",
   "toc_cell": false,
   "toc_position": {},
   "toc_section_display": true,
   "toc_window_display": false
  }
 },
 "nbformat": 4,
 "nbformat_minor": 5
}
