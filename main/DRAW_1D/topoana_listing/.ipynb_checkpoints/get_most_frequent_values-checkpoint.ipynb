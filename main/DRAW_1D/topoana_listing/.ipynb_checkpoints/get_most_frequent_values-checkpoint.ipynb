{
 "cells": [
  {
   "cell_type": "code",
   "execution_count": 1,
   "id": "c1edbdb6",
   "metadata": {},
   "outputs": [
    {
     "name": "stdout",
     "output_type": "stream",
     "text": [
      "Welcome to JupyROOT 6.26/04\n"
     ]
    }
   ],
   "source": [
    "%matplotlib inline\n",
    "%load_ext autoreload\n",
    "%autoreload 2\n",
    "import seaborn as sns\n",
    "import matplotlib.pyplot as plt\n",
    "import numpy as np\n",
    "import pandas as pd\n",
    "import math\n",
    "try:\n",
    "#     plt.style.use('belle2')\n",
    "    plt.style.use('belle2_serif')\n",
    "#     plt.style.use('belle2_modern')\n",
    "except OSError:\n",
    "    print(\"Please install belle2 matplotlib style\")   \n",
    "px = 1/plt.rcParams['figure.dpi']\n",
    "\n",
    "from main.data_tools.extract_ntuples import get_pd, get_np\n",
    "from main.draw_tools.decorations import b2helix, watermark"
   ]
  },
  {
   "cell_type": "code",
   "execution_count": 2,
   "id": "1bcccfe4",
   "metadata": {},
   "outputs": [],
   "source": [
    "# get top 10 most frequent names\n",
    "#n = 10\n",
    "#dataframe['name'].value_counts()[:n].index.tolist()"
   ]
  },
  {
   "cell_type": "code",
   "execution_count": 11,
   "id": "90fa5861",
   "metadata": {},
   "outputs": [],
   "source": [
    "base_file_loc =  '/media/jykim/T7/storage/01_recon/trainv2_new_correct_data_sig_ext_sig_bkg/'\n",
    "phigamma_ccbar = base_file_loc + 'topo/topo_phi_D0_M/topoana.root'\n",
    "\n",
    "base_filter='Pi0_Prob<0.85  && Pis_charge==1 && D0_M>1.67 && D0_M<2.06 '\n",
    "variables=['D0_M','D0_cosHel_0','gamma_E','iCascDcyBrP_Dst_0','gamma_genMotherPDG']\n",
    "\n",
    "pd_phigamma_topo = get_pd(file=phigamma_ccbar, tree=tree,base_filter=base_filter,variables=variables)"
   ]
  },
  {
   "cell_type": "code",
   "execution_count": 12,
   "id": "d14bfb26",
   "metadata": {},
   "outputs": [
    {
     "data": {
      "text/plain": [
       "[1, 2, 6, 25, -1, 24, 21, 5, 3, 14, 81, 128, 43, 15, 65]"
      ]
     },
     "execution_count": 12,
     "metadata": {},
     "output_type": "execute_result"
    }
   ],
   "source": [
    "n = 15\n",
    "pd_phigamma_topo['iCascDcyBrP_Dst_0'].value_counts()[:n].index.tolist()"
   ]
  },
  {
   "cell_type": "code",
   "execution_count": 21,
   "id": "5ebf96ce",
   "metadata": {},
   "outputs": [
    {
     "data": {
      "text/plain": [
       "[111.0,\n",
       " 421.0,\n",
       " 221.0,\n",
       " 223.0,\n",
       " 130.0,\n",
       " 11.0,\n",
       " 0.0,\n",
       " 23.0,\n",
       " 311.0,\n",
       " 331.0,\n",
       " -433.0,\n",
       " 431.0,\n",
       " 313.0,\n",
       " -313.0,\n",
       " 113.0]"
      ]
     },
     "execution_count": 21,
     "metadata": {},
     "output_type": "execute_result"
    }
   ],
   "source": [
    "n = 3\n",
    "pd_phigamma_topo['gamma_genMotherPDG'].value_counts().index.tolist()"
   ]
  },
  {
   "cell_type": "code",
   "execution_count": null,
   "id": "76b05af2",
   "metadata": {},
   "outputs": [],
   "source": []
  },
  {
   "cell_type": "code",
   "execution_count": 4,
   "id": "526f888d",
   "metadata": {},
   "outputs": [],
   "source": [
    "# phigamma_ccbar = base_file_loc + 'ccbar/recon_udst_*.root'\n",
    "phigamma_uubar = base_file_loc + 'uubar/recon_udst_*.root'\n",
    "phigamma_ddbar = base_file_loc + 'ddbar/recon_udst_*.root'\n",
    "phigamma_ssbar = base_file_loc + 'ssbar/recon_udst_*.root'\n",
    "phigamma_charged = base_file_loc + 'charged/recon_udst_*.root'\n",
    "phigamma_mixed = base_file_loc + 'mixed/recon_udst_*.root'\n",
    "phigamma_taupair = base_file_loc + 'taupair/recon_udst_*.root'\n",
    "\n",
    "base_filter='Pi0_Prob<0.85  && Pis_charge==1 && D0_M>1.67 && D0_M<2.06 '\n",
    "\n",
    "#base_filter='Pi0_Prob<0.90  && D0_M>1.67 && D0_M<2.06 '\n",
    "\n",
    "# base_filter='Pi0_Prob<0.95 && phi_rank_Dstp==1 && D0_M>1.67 && D0_M<2.06'\n",
    "\n",
    "#ccbar_filter='Pi0_Prob<0.9 && Pis_charge==1 && D0_M>1.67 && D0_M<2.06 && (iCascDcyBrP_Dst_0 !=1 && iCascDcyBrP_Dst_0 !=2)'\n",
    "# ccbar_filter='Pi0_Prob<0.9 && Pis_charge==1 && D0_M>1.67 && D0_M<2.06 '\n",
    "\n",
    "\n",
    "#ccbar_filter='Pi0_Prob<0.9 && D0_M>1.67 && D0_M<2.06 && (iCascDcyBrP_D0_0 !=0 ) && (phi_rank_Dstp ==1)'\n",
    "\n",
    "variables=['D0_M','D0_cosHel_0','gamma_E']\n",
    "tree='phi'"
   ]
  },
  {
   "cell_type": "code",
   "execution_count": 5,
   "id": "a75e0cff",
   "metadata": {},
   "outputs": [],
   "source": [
    "phipi0_filter=' Pi0_Prob<0.85  && Pis_charge==1 && D0_M>1.67 && D0_M<2.06 && iCascDcyBrP_Dst_0==1 && iCascDcyBrP_Dst_0!=2 '\n",
    "except_phipi0_filter='Pi0_Prob<0.85  && Pis_charge==1 && D0_M>1.67 && D0_M<2.06 && iCascDcyBrP_Dst_0!=1 && iCascDcyBrP_Dst_0!=2 '\n",
    "signal_filter=' Pi0_Prob<0.85  &&  Pis_charge==1 && D0_M>1.67 && D0_M<2.06 && iCascDcyBrP_Dst_0==2'"
   ]
  },
  {
   "cell_type": "code",
   "execution_count": null,
   "id": "e897bfbc",
   "metadata": {},
   "outputs": [],
   "source": []
  }
 ],
 "metadata": {
  "kernelspec": {
   "display_name": "Python 3 (ipykernel)",
   "language": "python",
   "name": "python3"
  },
  "language_info": {
   "codemirror_mode": {
    "name": "ipython",
    "version": 3
   },
   "file_extension": ".py",
   "mimetype": "text/x-python",
   "name": "python",
   "nbconvert_exporter": "python",
   "pygments_lexer": "ipython3",
   "version": "3.10.5"
  },
  "toc": {
   "base_numbering": 1,
   "nav_menu": {},
   "number_sections": true,
   "sideBar": true,
   "skip_h1_title": false,
   "title_cell": "Table of Contents",
   "title_sidebar": "Contents",
   "toc_cell": false,
   "toc_position": {},
   "toc_section_display": true,
   "toc_window_display": false
  }
 },
 "nbformat": 4,
 "nbformat_minor": 5
}
