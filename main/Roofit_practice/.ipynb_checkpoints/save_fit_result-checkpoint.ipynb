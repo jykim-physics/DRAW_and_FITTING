{
 "cells": [
  {
   "cell_type": "code",
   "execution_count": 49,
   "id": "3bdbf6d9-8fb7-4849-b476-a1ab02f06744",
   "metadata": {},
   "outputs": [],
   "source": [
    "import ROOT\n",
    "import ctypes"
   ]
  },
  {
   "cell_type": "code",
   "execution_count": 50,
   "id": "ce78010d-d970-4fb0-b2d2-59f1e1572ab3",
   "metadata": {},
   "outputs": [],
   "source": [
    "sig_file = ROOT.TFile.Open(\"/media/jykim/T7/storage/01_recon/phi/D0_massveto_v2_half_1_sig_ext_signalMC_recon_mdst_phi.root\")\n",
    "signal_tree = sig_file.Get(\"phi\")\n"
   ]
  },
  {
   "cell_type": "code",
   "execution_count": 51,
   "id": "4b72551a-ebd4-4a31-82f1-8eef0b26f8bf",
   "metadata": {},
   "outputs": [],
   "source": [
    "D0_M_TH1F = ROOT.TH1F(\"D0_M_TH1F\",\"D0 mass\",50,1.67,2.06)\n"
   ]
  },
  {
   "cell_type": "code",
   "execution_count": 52,
   "id": "3a69e135-44ce-49d2-a4b1-058596ee2bad",
   "metadata": {},
   "outputs": [],
   "source": [
    "def extract_histo(tree, histogram):\n",
    "    for event in tree:\n",
    "        histogram.Fill(event.D0_M)\n",
    "    return histogram"
   ]
  },
  {
   "cell_type": "code",
   "execution_count": 53,
   "id": "180bbf17-769e-4579-bb25-321d03c8a0ae",
   "metadata": {},
   "outputs": [],
   "source": [
    "def apply_cuts(tree, histogram):\n",
    "    for event in tree:\n",
    "        if event.D0_M > 1.67 and event.D0_M < 2.06:\n",
    "            histogram.Fill(event.D0_M)\n",
    "    return histogram"
   ]
  },
  {
   "cell_type": "code",
   "execution_count": 54,
   "id": "740212a9-eb8a-45ef-9b3e-ec4f05cae564",
   "metadata": {},
   "outputs": [
    {
     "data": {
      "image/png": "[encoded data removed]",
      "text/plain": [
       "<IPython.core.display.Image object>"
      ]
     },
     "metadata": {},
     "output_type": "display_data"
    }
   ],
   "source": [
    "\n",
    "D0_M_TH1F = apply_cuts(signal_tree, D0_M_TH1F)\n",
    "c1 = ROOT.TCanvas()\n",
    "D0_M_TH1F.Draw()\n",
    "c1.Draw()"
   ]
  },
  {
   "cell_type": "code",
   "execution_count": null,
   "id": "6b227194-e200-426a-a720-ecd509f64fe7",
   "metadata": {},
   "outputs": [],
   "source": []
  },
  {
   "cell_type": "code",
   "execution_count": 55,
   "id": "07856c14-3fbb-45dd-b69c-ef1a94ebc3a9",
   "metadata": {},
   "outputs": [],
   "source": [
    "fitting_region = (1.67, 2.06)\n",
    "x = ROOT.RooRealVar(\"M(D^{0})\", \"M(D^{0}) [GeV/c^{2}]\", fitting_region[0], fitting_region[1], \"\")\n",
    "# x.setBins(50)\n",
    "l = ROOT.RooArgList(x)\n",
    "signalhist = ROOT.RooDataHist(\"sighist\", \"sighist\", l, D0_M_TH1F, 0.1)\n"
   ]
  },
  {
   "cell_type": "code",
   "execution_count": 56,
   "id": "81461404-b419-43dc-b0a9-5a8ab1a4544b",
   "metadata": {},
   "outputs": [],
   "source": [
    "\n",
    "mean = ROOT.RooRealVar(\"mean\", \"mean of gaussians\", 1.86,1.83, 1.89)\n",
    "sigma1 = ROOT.RooRealVar(\"sigma1\", \"width of gaussians\", 0.03,0,0.5)\n",
    "sigma2 = ROOT.RooRealVar(\"sigma2\", \"width of gaussians\", 0.05,0,0.5)\n",
    "alpha = ROOT.RooRealVar(\"alpha\", \"width of gaussians\", 0.5,0,20)\n",
    "n_CB = ROOT.RooRealVar(\"n_CB\", \"width of gaussians\", 20,0,100)\n",
    " \n",
    "# Novo_peak = ROOT.RooRealVar(\"Novo_peak\", \"Novo peak\", 1.83,1.67,1.93)    \n",
    "# Novo_width = ROOT.RooRealVar(\"Novo_widh\", \"Novo peak\", 0.05,0,0.5)    \n",
    "# Novo_tail = ROOT.RooRealVar(\"Novo_tail\", \"Novo peak\", 0.5,0,10)    \n",
    "\n",
    "\n"
   ]
  },
  {
   "cell_type": "code",
   "execution_count": 61,
   "id": "32658f60-999f-40d5-9109-803d213b55ed",
   "metadata": {},
   "outputs": [
    {
     "name": "stdout",
     "output_type": "stream",
     "text": [
      "[#0] WARNING:InputArguments -- The parameter 'sigma1' with range [0, 0.5] of the RooGaussian 'sig1' exceeds the safe range of (0, inf). Advise to limit its range.\n",
      "[#0] WARNING:InputArguments -- RooAbsPdf::fitTo(model) WARNING: a likelihood fit is requested of what appears to be weighted data.\n",
      "       While the estimated values of the parameters will always be calculated taking the weights into account,\n",
      "       there are multiple ways to estimate the errors of the parameters. You are advised to make an \n",
      "       explicit choice for the error calculation:\n",
      "           - Either provide SumW2Error(true), to calculate a sum-of-weights-corrected HESSE error matrix\n",
      "             (error will be proportional to the number of events in MC).\n",
      "           - Or provide SumW2Error(false), to return errors from original HESSE error matrix\n",
      "             (which will be proportional to the sum of the weights, i.e., a dataset with <sum of weights> events).\n",
      "           - Or provide AsymptoticError(true), to use the asymptotically correct expression\n",
      "             (for details see https://arxiv.org/abs/1911.01303).\n",
      "[#1] INFO:Minimization -- RooAbsMinimizerFcn::setOptimizeConst: activating const optimization\n",
      "[#1] INFO:Fitting -- RooAbsOptTestStatistic::ctor(nll_model_sighist) constructing test statistic for sub-range named fit\n",
      "[#1] INFO:Fitting -- RooAbsOptTestStatistic::ctor(nll_model_sighist) fixing interpretation of coefficients of any RooAddPdf to full domain of observables \n",
      "[#1] INFO:Eval -- RooAbsTestStatistic::initMPMode: started 12 remote server process.\n",
      "[#1] INFO:Minimization --  The following expressions will be evaluated in cache-and-track mode: (sig1,sig2)\n",
      "[#1] INFO:Minimization --  The following expressions will be evaluated in cache-and-track mode: (sig1,sig2)\n",
      "[#1] INFO:Minimization --  The following expressions will be evaluated in cache-and-track mode: (sig1,sig2)\n",
      "[#1] INFO:Minimization --  The following expressions will be evaluated in cache-and-track mode: (sig1,sig2)\n",
      "[#1] INFO:Minimization --  The following expressions will be evaluated in cache-and-track mode: (sig1,sig2)\n",
      "[#1] INFO:Minimization --  The following expressions will be evaluated in cache-and-track mode: (sig1,sig2)\n",
      "[#1] INFO:Minimization --  The following expressions will be evaluated in cache-and-track mode: (sig1,sig2)\n",
      "[#1] INFO:Minimization --  The following expressions will be evaluated in cache-and-track mode: (sig1,sig2)\n",
      "[#1] INFO:Minimization --  The following expressions will be evaluated in cache-and-track mode: (sig1,sig2)\n",
      "[#1] INFO:Minimization --  The following expressions will be evaluated in cache-and-track mode: (sig1,sig2)\n",
      "[#1] INFO:Minimization --  The following expressions will be evaluated in cache-and-track mode: (sig1,sig2)\n",
      "[#1] INFO:Minimization --  The following expressions will be evaluated in cache-and-track mode: (sig1,sig2)\n",
      "[#1] INFO:Minimization -- RooAbsMinimizerFcn::setOptimizeConst: deactivating const optimization\n",
      "\n",
      "  RooFitResult: minimized FCN value: -10816.6, estimated distance to minimum: 4.14871e-05\n",
      "                covariance matrix quality: Full, accurate covariance matrix\n",
      "                Status : MINIMIZE=0 HESSE=0 \n",
      "\n",
      "    Floating Parameter    FinalValue +/-  Error   \n",
      "  --------------------  --------------------------\n",
      "                 alpha    1.6776e+00 +/-  4.32e-01\n",
      "                  mean    1.8604e+00 +/-  2.66e-04\n",
      "                  n_CB    1.2668e+00 +/-  1.89e+00\n",
      "              sig1frac    8.9462e-01 +/-  1.23e-02\n",
      "                sigma1    1.4818e-02 +/-  2.88e-04\n",
      "                sigma2    5.2946e-02 +/-  3.57e-03\n",
      "\n",
      "[#1] INFO:InputArguments -- RooAbsData::plotOn(sighist) INFO: dataset has non-integer weights, auto-selecting SumW2 errors instead of Poisson errors\n",
      "[#1] INFO:Plotting -- RooAbsPdf::plotOn(model) p.d.f was fitted in a subrange and no explicit Range() and NormRange() was specified. Plotting / normalising in fit range. To override, do one of the following\n",
      "\t- Clear the automatic fit range attribute: <pdf>.setStringAttribute(\"fitrange\", nullptr);\n",
      "\t- Explicitly specify the plotting range: Range(\"<rangeName>\").\n",
      "\t- Explicitly specify where to compute the normalisation: NormRange(\"<rangeName>\").\n",
      "\tThe default (full) range can be denoted with Range(\"\") / NormRange(\"\").\n",
      "[#1] INFO:Plotting -- RooAbsPdf::plotOn(model) only plotting range 'fit_nll_model_sighist'\n",
      "[#1] INFO:Plotting -- RooAbsPdf::plotOn(model) p.d.f. curve is normalized using explicit choice of ranges 'fit_nll_model_sighist'\n"
     ]
    },
    {
     "name": "stderr",
     "output_type": "stream",
     "text": [
      "Warning in <TCanvas::Constructor>: Deleting canvas with same name: Canvas\n",
      "Info in <TCanvas::Print>: png file test.png has been created\n"
     ]
    },
    {
     "data": {
      "image/png": "[encoded data removed]",
      "text/plain": [
       "<IPython.core.display.Image object>"
      ]
     },
     "metadata": {},
     "output_type": "display_data"
    }
   ],
   "source": [
    "canv = ROOT.TCanvas(\"Canvas\", \"Canvas\", 700, 640)\n",
    "\n",
    "xlow = ctypes.c_double()\n",
    "ylow = ctypes.c_double()\n",
    "xup = ctypes.c_double()\n",
    "yup = ctypes.c_double()\n",
    "\n",
    "canv.GetPad(0).GetPadPar(xlow, ylow, xup, yup)\n",
    "canv.Divide(1,2)\n",
    "\n",
    "xlow = xlow.value\n",
    "ylow = ylow.value\n",
    "xup = xup.value\n",
    "yup = yup.value\n",
    "\n",
    "upPad = canv.GetPad(1)\n",
    "upPad.SetPad(xlow, ylow+0.25*(yup-ylow),xup,yup)\n",
    "\n",
    "dwPad = canv.GetPad(2)\n",
    "dwPad.SetPad(xlow, ylow,xup,ylow+0.25*(yup-ylow))\n",
    "\n",
    "    \n",
    "sig1 = ROOT.RooGaussian(\"sig1\", \"Signal component 1\", x, mean, sigma1)\n",
    "sig2 = ROOT.RooCBShape(\"sig2\", \"Signal component 2\", x, mean, sigma2, alpha, n_CB)\n",
    "# sig3 = ROOT.RooNovosibirsk(\"sig3\", \"Signal component 3\", x, mean, Novo_width, Novo_tail)\n",
    "\n",
    "\n",
    "sig1frac = ROOT.RooRealVar(\"sig1frac\", \"fraction of component 1 in signal\", 0.5, 0.0, 1.0)\n",
    "model = ROOT.RooAddPdf(\"model\", \"model\", [sig1, sig2], sig1frac)\n",
    "\n",
    "\n",
    "r = model.fitTo(signalhist,NumCPU=12,Range=fitting_region,PrintLevel=-1, Save=1)\n",
    "\n",
    "r.Print()\n",
    "canv.cd(1) \n",
    "# frame = x.frame(Title=\"D^{0} #rightarrow #bar{K}^{*0} #pi^{0}\")\n",
    "frame = x.frame(Title=\" \")\n",
    "\n",
    "signalhist.plotOn(frame,Name = \"data1\", XErrorSize=0)\n",
    "\n",
    "# sig.plotOn(frame, Name=\"gauss1\", Components=sig1, LineStyle=ROOT.kDashed, LineColor=593)\n",
    "# sig.plotOn(frame, Name=\"CB1\", Components=sig2, LineStyle=ROOT.kDashed, LineColor=593)\n",
    "# sig.plotOn(frame, Name=\"Novo\", Components=sig3, LineStyle=ROOT.kDashed, LineColor=593)\n",
    "\n",
    "model.plotOn(frame, Name=\"fitting\",)\n",
    "\n",
    "\n",
    "# sig.paramOn(frame)\n",
    "frame.GetXaxis().SetTitleSize(0.047)\n",
    "frame.GetXaxis().CenterTitle(True)\n",
    "frame.GetYaxis().SetTitleSize(0.04)\n",
    "frame.GetYaxis().SetTitleOffset(1.2)\n",
    "frame.Draw(\"PE\")\n",
    "\n",
    "\n",
    "leg1 = ROOT.TLegend(0.75, 0.75, 0.9, 0.9)\n",
    "leg1.SetFillColor(ROOT.kWhite)\n",
    "# leg1.SetHeader(\"The Legend title\",\"C\")\n",
    "leg1.AddEntry(\"data1\", \"MC\", \"PE\")\n",
    "leg1.AddEntry(\"fitting\", \"fit\", \"l\")\n",
    "leg1.Draw()\n",
    "\n",
    "hpull = frame.pullHist()\n",
    "hpull.SetFillStyle(1001)\n",
    "hpull.SetFillColor(1);\n",
    "for i in range(0,hpull.GetN()):#(int i=0;i<hpull.GetN();++i): \n",
    "    hpull.SetPointError(i,0.0,0.0,0.0,0.0)\n",
    "# pullplot = x.frame(Title(\" \"))\n",
    "pullplot = x.frame()\n",
    "pullplot.SetTitle(\"\")\n",
    "pullplot.addPlotable(hpull,\"BE\")\n",
    "# pullplot.addPlotable(hpull,\"PE\")\n",
    "\n",
    "pullplot.SetYTitle(\"Pull\")\n",
    "pullplot.GetXaxis().SetTitleSize(0)\n",
    "pullplot.GetYaxis().SetTitleSize(0.17)\n",
    "pullplot.GetYaxis().CenterTitle(True)\n",
    "pullplot.GetYaxis().SetTitleOffset(0.2)\n",
    "pullplot.SetMinimum(-4.)\n",
    "pullplot.SetMaximum(4.)\n",
    "pullplot.GetXaxis().SetLabelSize(0.1)\n",
    "pullplot.GetYaxis().SetLabelSize(0.09)\n",
    "canv.cd(2)\n",
    "pullplot.Draw()\n",
    "\n",
    "xmin1 = ctypes.c_double(fitting_region[0])\n",
    "xmax1 = ctypes.c_double(fitting_region[1])\n",
    "# xmin1 = 0.1\n",
    "# xmax1 = 0.18\n",
    "line = ROOT.TLine(xmin1,0.0,xmax1,0.0)\n",
    "line1 = ROOT.TLine(xmin1,3.0,xmax1,3.0)\n",
    "line2 = ROOT.TLine(xmin1,-3.0,xmax1,-3.0)\n",
    "\n",
    "line.SetLineColor(ROOT.kRed)\n",
    "line.SetLineWidth(3)\n",
    "line1.SetLineColor(ROOT.kRed)\n",
    "line2.SetLineColor(ROOT.kRed)\n",
    "line1.SetLineStyle(2)\n",
    "line2.SetLineStyle(2)\n",
    "line.Draw(\"SAME\")\n",
    "line1.Draw(\"SAME\")\n",
    "line2.Draw(\"SAME\")\n",
    "\n",
    "canv.Update()\n",
    "\n",
    "canv.Draw()\n",
    "canv.SaveAs(\"test.png\")\n",
    "\n",
    "f = ROOT.TFile(\"phig_signalMC_fitresult.root\", \"RECREATE\")\n",
    "r.Write(\"phig_sig\")\n",
    "f.Close()\n"
   ]
  },
  {
   "cell_type": "code",
   "execution_count": 69,
   "id": "35ffd040-f571-4a12-bcd2-5df6cec6c76e",
   "metadata": {},
   "outputs": [
    {
     "name": "stdout",
     "output_type": "stream",
     "text": [
      "0x563da30f8d20 RooAddPdf::model = 0.958309 [Auto,Dirty] \n",
      "  0x563d9ab46480/V- RooGaussian::sig1 = 0.953833 [Auto,Dirty] \n",
      "    0x563da18ac2d0/V- RooRealVar::M(D^{0}) = 1.865\n",
      "    0x563d9a860790/V- RooRealVar::mean = 1.86044 +/- 0.000266339\n",
      "    0x563d9b80fb70/V- RooRealVar::sigma1 = 0.0148181 +/- 0.000287594\n",
      "  0x563d9e1ce2b0/V- RooRealVar::sig1frac = 0.894618 +/- 0.0122615\n",
      "  0x563da05bb920/V- RooCBShape::sig2 = 0.996305 [Auto,Dirty] \n",
      "    0x563da18ac2d0/V- RooRealVar::M(D^{0}) = 1.865\n",
      "    0x563d9a860790/V- RooRealVar::mean = 1.86044 +/- 0.000266339\n",
      "    0x563da0102970/V- RooRealVar::sigma2 = 0.0529465 +/- 0.00357489\n",
      "    0x563d9d58fc40/V- RooRealVar::alpha = 1.67765 +/- 0.431595\n",
      "    0x563d99ccb390/V- RooRealVar::n_CB = 1.26685 +/- 1.88685\n"
     ]
    }
   ],
   "source": [
    "model.Print(\"t\")"
   ]
  },
  {
   "cell_type": "code",
   "execution_count": 63,
   "id": "43ffc56d-f01f-49c7-96d3-6e55a2bd4819",
   "metadata": {},
   "outputs": [],
   "source": [
    "f = ROOT.TFile.Open(\"phig_signalMC_fitresult.root\")\n",
    "r2 = ROOT.gDirectory.Get(\"phig_sig\")\n",
    "f.Close()\n"
   ]
  },
  {
   "cell_type": "code",
   "execution_count": 70,
   "id": "e449db02-3a12-4028-a58f-1daa29df377e",
   "metadata": {},
   "outputs": [
    {
     "name": "stdout",
     "output_type": "stream",
     "text": [
      "\n",
      "  RooFitResult: minimized FCN value: -10816.6, estimated distance to minimum: 4.14871e-05\n",
      "                covariance matrix quality: Full, accurate covariance matrix\n",
      "                Status : MINIMIZE=0 HESSE=0 \n",
      "\n",
      "    Floating Parameter    FinalValue +/-  Error   \n",
      "  --------------------  --------------------------\n",
      "                 alpha    1.6776e+00 +/-  4.32e-01\n",
      "                  mean    1.8604e+00 +/-  2.66e-04\n",
      "                  n_CB    1.2668e+00 +/-  1.89e+00\n",
      "              sig1frac    8.9462e-01 +/-  1.23e-02\n",
      "                sigma1    1.4818e-02 +/-  2.88e-04\n",
      "                sigma2    5.2946e-02 +/-  3.57e-03\n",
      "\n"
     ]
    }
   ],
   "source": [
    "r2.Print()"
   ]
  },
  {
   "cell_type": "code",
   "execution_count": 87,
   "id": "b612badd-87c1-47fd-bb71-12982c4377b0",
   "metadata": {},
   "outputs": [
    {
     "data": {
      "text/plain": [
       "0.017036156591536362"
      ]
     },
     "execution_count": 87,
     "metadata": {},
     "output_type": "execute_result"
    }
   ],
   "source": [
    "r2.correlation(\"alpha\",\"mean\")"
   ]
  },
  {
   "cell_type": "code",
   "execution_count": 89,
   "id": "a81b463a-ffdb-4e4d-a472-7d01dccfa76d",
   "metadata": {},
   "outputs": [
    {
     "data": {
      "text/plain": [
       "4.148708183205684e-05"
      ]
     },
     "execution_count": 89,
     "metadata": {},
     "output_type": "execute_result"
    }
   ],
   "source": [
    "r2.edm()"
   ]
  },
  {
   "cell_type": "code",
   "execution_count": 95,
   "id": "405e4318-7ba2-4362-acae-6d90a363da53",
   "metadata": {},
   "outputs": [
    {
     "data": {
      "text/plain": [
       "<cppyy.gbl.TMatrixTSym<double> object at 0x563d9f6a8200>"
      ]
     },
     "execution_count": 95,
     "metadata": {},
     "output_type": "execute_result"
    }
   ],
   "source": [
    "r2.correlationMatrix()"
   ]
  },
  {
   "cell_type": "code",
   "execution_count": null,
   "id": "9f00b952-6846-4425-a62e-a7d87405471b",
   "metadata": {},
   "outputs": [],
   "source": []
  }
 ],
 "metadata": {
  "kernelspec": {
   "display_name": "Python 3 (ipykernel)",
   "language": "python",
   "name": "python3"
  },
  "language_info": {
   "codemirror_mode": {
    "name": "ipython",
    "version": 3
   },
   "file_extension": ".py",
   "mimetype": "text/x-python",
   "name": "python",
   "nbconvert_exporter": "python",
   "pygments_lexer": "ipython3",
   "version": "3.10.5"
  }
 },
 "nbformat": 4,
 "nbformat_minor": 5
}
