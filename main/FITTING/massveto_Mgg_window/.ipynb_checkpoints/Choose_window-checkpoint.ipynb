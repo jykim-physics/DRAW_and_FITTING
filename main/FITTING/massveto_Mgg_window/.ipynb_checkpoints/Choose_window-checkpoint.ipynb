{
 "cells": [
  {
   "cell_type": "code",
   "execution_count": 1,
   "id": "3ff00692-9d69-4a89-bf18-ce2d02420588",
   "metadata": {},
   "outputs": [
    {
     "name": "stdout",
     "output_type": "stream",
     "text": [
      "Welcome to JupyROOT 6.26/04\n"
     ]
    }
   ],
   "source": [
    "import ROOT\n",
    "import ctypes\n",
    "import math"
   ]
  },
  {
   "cell_type": "code",
   "execution_count": 2,
   "id": "e04590a0-fc40-44ec-9769-bcc163c0bacb",
   "metadata": {},
   "outputs": [
    {
     "name": "stdout",
     "output_type": "stream",
     "text": [
      "\n",
      "Applying BELLE2 style settings...\n"
     ]
    }
   ],
   "source": [
    "ROOT.gROOT.LoadMacro('/home/jykim/workspace/DRAW_and_FITTING/main/Belle2Style.C')\n",
    "ROOT.SetBelle2Style()"
   ]
  },
  {
   "cell_type": "code",
   "execution_count": 3,
   "id": "4a001471-954e-4202-b61d-844e8ada0a58",
   "metadata": {},
   "outputs": [],
   "source": [
    "base_file_loc = '/media/jykim/T7/storage/01_recon/massvetov2_sig_ext_1ab_bkg/'\n",
    "\n",
    "loc_ccbar = base_file_loc + 'ccbar/recon_udst_*.root'\n",
    "# loc_ccbar = base_file_loc + 'topo/resultfile/result_antiKstar/standard.root'\n",
    "loc_uubar = base_file_loc + 'uubar/recon_udst_*.root'\n",
    "loc_ddbar = base_file_loc + 'ddbar/recon_udst_*.root'\n",
    "loc_ssbar = base_file_loc + 'ssbar/recon_udst_*.root'\n",
    "loc_charged = base_file_loc + 'charged/recon_udst_*.root'\n",
    "loc_mixed = base_file_loc + 'mixed/recon_udst_*.root'\n",
    "loc_taupair = base_file_loc + 'taupair/recon_udst_*.root'"
   ]
  },
  {
   "cell_type": "code",
   "execution_count": 4,
   "id": "92c0b3ca-a5f5-4757-a198-096d6fdb5504",
   "metadata": {},
   "outputs": [],
   "source": [
    "file_list = [loc_ccbar,loc_uubar,loc_uubar,loc_ssbar,loc_charged,loc_mixed,loc_taupair]"
   ]
  },
  {
   "cell_type": "code",
   "execution_count": 38,
   "id": "0d28eaec-87ab-4280-bf0a-bfd6aaf573ff",
   "metadata": {},
   "outputs": [],
   "source": [
    "mychain = ROOT.TChain(\"phi\")"
   ]
  },
  {
   "cell_type": "code",
   "execution_count": 39,
   "id": "74713059-0ed0-4342-ae2b-52714505b2c8",
   "metadata": {},
   "outputs": [],
   "source": [
    "for i in file_list:\n",
    "    mychain.Add(i)"
   ]
  },
  {
   "cell_type": "code",
   "execution_count": 40,
   "id": "55da5e03-f01d-4ad1-b00e-f0397b63b7e1",
   "metadata": {},
   "outputs": [],
   "source": [
    "# mychain.ls()"
   ]
  },
  {
   "cell_type": "code",
   "execution_count": 41,
   "id": "dfde8baf-cf8b-481c-8bc5-182618b27df0",
   "metadata": {},
   "outputs": [
    {
     "name": "stderr",
     "output_type": "stream",
     "text": [
      "Warning in <TROOT::Append>: Replacing existing TH1: dummy_TH1F (Potential memory leak).\n"
     ]
    }
   ],
   "source": [
    "dummy_TH1F = ROOT.TH1F(\"dummy_TH1F\",\"pi0 mass\",50,0.08,0.18)"
   ]
  },
  {
   "cell_type": "code",
   "execution_count": 42,
   "id": "f64e3693-b723-4c39-aa12-ca8aefd497ad",
   "metadata": {},
   "outputs": [],
   "source": [
    "def apply_cuts(tree, histogram):\n",
    "    for event in tree:\n",
    "        # if event.D0_M > 1.67 and event.D0_M < 2.06 and event.pi0_veto_isSignal_75MeV==1:\n",
    "        if event.D0_M > 1.67 and event.D0_M < 2.06:\n",
    "\n",
    "        # if event.D0_M > 1.78 and event.D0_M < 1.92:\n",
    "            histogram.Fill(event.roe_pi0_InvM_75MeV)\n",
    "    return histogram"
   ]
  },
  {
   "cell_type": "code",
   "execution_count": 43,
   "id": "00fa2cef-b247-4b73-a7ff-563e9374a523",
   "metadata": {},
   "outputs": [
    {
     "data": {
      "image/png": "[encoded data removed]",
      "text/plain": [
       "<IPython.core.display.Image object>"
      ]
     },
     "metadata": {},
     "output_type": "display_data"
    }
   ],
   "source": [
    "dummy_TH1F = apply_cuts(mychain, dummy_TH1F)\n",
    "c1 = ROOT.TCanvas()\n",
    "dummy_TH1F.Draw()\n",
    "c1.Draw()"
   ]
  },
  {
   "cell_type": "code",
   "execution_count": 44,
   "id": "2755b42b-ed45-4d98-8c4c-784447fafce6",
   "metadata": {},
   "outputs": [
    {
     "data": {
      "text/plain": [
       "6380.0"
      ]
     },
     "execution_count": 44,
     "metadata": {},
     "output_type": "execute_result"
    }
   ],
   "source": [
    "dummy_TH1F.GetEntries()"
   ]
  },
  {
   "cell_type": "code",
   "execution_count": 45,
   "id": "87376caf-558d-4295-8de9-0aca5f33c661",
   "metadata": {},
   "outputs": [],
   "source": [
    "scale_factor = 1\n",
    "fitting_region = (0.08, 0.18)\n",
    "\n",
    "x = ROOT.RooRealVar(\"M(D^{0})\", \"M(#gamma_{sig}#gamma_{ROE}) [GeV/c^{2}]\", fitting_region[0], fitting_region[1], \"\")\n",
    "# x.setBins(50)\n",
    "l = ROOT.RooArgList(x)\n",
    "signalhist = ROOT.RooDataHist(\"sighist\", \"sighist\", l, dummy_TH1F, scale_factor)\n"
   ]
  },
  {
   "cell_type": "code",
   "execution_count": 46,
   "id": "7f65d267-3706-4e7c-bdf8-5874a4ab3885",
   "metadata": {},
   "outputs": [],
   "source": [
    "mean = ROOT.RooRealVar(\"mean\", \"mean of gaussians\", 0.135,0.12, 0.14)\n",
    "sigma = ROOT.RooRealVar(\"sigma\", \"width of gaussians\", 0.005,0.001,0.05)\n",
    "\n",
    "sigma2 = ROOT.RooRealVar(\"sigma2\", \"width of gaussians\", 0.01,0.001,0.05)\n",
    "\n",
    "c0 = ROOT.RooRealVar(\"c0\", \"c0\",0.2, -1,1)\n",
    "c1 = ROOT.RooRealVar(\"c1\", \"c0\",0.2, -1,1)\n"
   ]
  },
  {
   "cell_type": "code",
   "execution_count": 47,
   "id": "3f40f37f-fb5c-458f-8fa5-0f2d2f49a291",
   "metadata": {},
   "outputs": [
    {
     "name": "stdout",
     "output_type": "stream",
     "text": [
      "[#1] INFO:Minimization -- p.d.f. provides expected number of events, including extended term in likelihood.\n",
      "[#1] INFO:Eval -- RooRealVar::setRange(M(D^{0})) new range named 'fit' created with bounds [0.08,0.18]\n",
      "[#1] INFO:Minimization -- RooAbsMinimizerFcn::setOptimizeConst: activating const optimization\n",
      "[#1] INFO:Fitting -- RooAbsOptTestStatistic::ctor(nll_model_sighist) constructing test statistic for sub-range named fit\n",
      "[#1] INFO:Eval -- RooRealVar::setRange(M(D^{0})) new range named 'NormalizationRangeForfit' created with bounds [0.08,0.18]\n",
      "[#1] INFO:Eval -- RooRealVar::setRange(M(D^{0})) new range named 'fit_nll_model_sighist' created with bounds [0.08,0.18]\n",
      "[#1] INFO:Fitting -- RooAbsOptTestStatistic::ctor(nll_model_sighist) fixing interpretation of coefficients of any RooAddPdf to full domain of observables \n",
      "[#1] INFO:Eval -- RooAbsTestStatistic::initMPMode: started 12 remote server process.\n",
      "[#1] INFO:Minimization --  The following expressions will be evaluated in cache-and-track mode: (sig1,sig2,bkg1)\n",
      "[#1] INFO:Minimization --  The following expressions will be evaluated in cache-and-track mode: (sig1,sig2,bkg1)\n",
      "[#1] INFO:Minimization --  The following expressions will be evaluated in cache-and-track mode: (sig1,sig2,bkg1)\n",
      "[#1] INFO:Minimization --  The following expressions will be evaluated in cache-and-track mode: (sig1,sig2,bkg1)\n",
      "[#1] INFO:Minimization --  The following expressions will be evaluated in cache-and-track mode: (sig1,sig2,bkg1)\n",
      "[#1] INFO:Minimization --  The following expressions will be evaluated in cache-and-track mode: (sig1,sig2,bkg1)\n",
      "[#1] INFO:Minimization --  The following expressions will be evaluated in cache-and-track mode: (sig1,sig2,bkg1)\n",
      "[#1] INFO:Minimization --  The following expressions will be evaluated in cache-and-track mode: (sig1,sig2,bkg1)\n",
      "[#1] INFO:Minimization --  The following expressions will be evaluated in cache-and-track mode: (sig1,sig2,bkg1)\n",
      "[#1] INFO:Minimization --  The following expressions will be evaluated in cache-and-track mode: (sig1,sig2,bkg1)\n",
      "[#1] INFO:Minimization --  The following expressions will be evaluated in cache-and-track mode: (sig1,sig2,bkg1)\n",
      "[#1] INFO:Minimization --  The following expressions will be evaluated in cache-and-track mode: (sig1,sig2,bkg1)\n",
      "[#1] INFO:Minimization -- RooAbsMinimizerFcn::setOptimizeConst: deactivating const optimization\n",
      "\n",
      "  RooFitResult: minimized FCN value: -40676, estimated distance to minimum: 0.000100651\n",
      "                covariance matrix quality: Full, accurate covariance matrix\n",
      "                Status : MINIMIZE=0 HESSE=0 \n",
      "\n",
      "    Floating Parameter    FinalValue +/-  Error   \n",
      "  --------------------  --------------------------\n",
      "                    c0    9.9999e-01 +/-  1.35e+00\n",
      "                    c1    1.0000e+00 +/-  1.97e+00\n",
      "                  mean    1.3424e-01 +/-  1.43e-04\n",
      "                 nbkg1    4.9825e+02 +/-  9.94e+01\n",
      "                 nsig1    2.4710e+03 +/-  1.42e+02\n",
      "                 nsig2    9.8481e+02 +/-  1.06e+02\n",
      "                 sigma    5.9081e-03 +/-  2.21e-04\n",
      "                sigma2    1.7306e-02 +/-  2.54e-03\n",
      "\n",
      "[#1] INFO:Plotting -- RooAbsPdf::plotOn(model) p.d.f was fitted in a subrange and no explicit Range() and NormRange() was specified. Plotting / normalising in fit range. To override, do one of the following\n",
      "\t- Clear the automatic fit range attribute: <pdf>.setStringAttribute(\"fitrange\", nullptr);\n",
      "\t- Explicitly specify the plotting range: Range(\"<rangeName>\").\n",
      "\t- Explicitly specify where to compute the normalisation: NormRange(\"<rangeName>\").\n",
      "\tThe default (full) range can be denoted with Range(\"\") / NormRange(\"\").\n",
      "[#1] INFO:Plotting -- RooAbsPdf::plotOn(model) only plotting range 'fit_nll_model_sighist'\n",
      "[#1] INFO:Plotting -- RooAbsPdf::plotOn(model) p.d.f. curve is normalized using explicit choice of ranges 'fit_nll_model_sighist'\n",
      "[#1] INFO:Plotting -- RooAbsPdf::plotOn(model) directly selected PDF components: (sig1,sig2)\n",
      "[#1] INFO:Plotting -- RooAbsPdf::plotOn(model) indirectly selected PDF components: ()\n",
      "[#1] INFO:Plotting -- RooAbsPdf::plotOn(model) p.d.f was fitted in a subrange and no explicit Range() and NormRange() was specified. Plotting / normalising in fit range. To override, do one of the following\n",
      "\t- Clear the automatic fit range attribute: <pdf>.setStringAttribute(\"fitrange\", nullptr);\n",
      "\t- Explicitly specify the plotting range: Range(\"<rangeName>\").\n",
      "\t- Explicitly specify where to compute the normalisation: NormRange(\"<rangeName>\").\n",
      "\tThe default (full) range can be denoted with Range(\"\") / NormRange(\"\").\n",
      "[#1] INFO:Plotting -- RooAbsPdf::plotOn(model) only plotting range 'fit_nll_model_sighist'\n",
      "[#1] INFO:Plotting -- RooAbsPdf::plotOn(model) p.d.f. curve is normalized using explicit choice of ranges 'fit_nll_model_sighist'\n",
      "[#1] INFO:Plotting -- RooAbsPdf::plotOn(model) directly selected PDF components: (bkg1)\n",
      "[#1] INFO:Plotting -- RooAbsPdf::plotOn(model) indirectly selected PDF components: ()\n",
      "[#1] INFO:Plotting -- RooAbsPdf::plotOn(model) p.d.f was fitted in a subrange and no explicit Range() and NormRange() was specified. Plotting / normalising in fit range. To override, do one of the following\n",
      "\t- Clear the automatic fit range attribute: <pdf>.setStringAttribute(\"fitrange\", nullptr);\n",
      "\t- Explicitly specify the plotting range: Range(\"<rangeName>\").\n",
      "\t- Explicitly specify where to compute the normalisation: NormRange(\"<rangeName>\").\n",
      "\tThe default (full) range can be denoted with Range(\"\") / NormRange(\"\").\n",
      "[#1] INFO:Plotting -- RooAbsPdf::plotOn(model) only plotting range 'fit_nll_model_sighist'\n",
      "[#1] INFO:Plotting -- RooAbsPdf::plotOn(model) p.d.f. curve is normalized using explicit choice of ranges 'fit_nll_model_sighist'\n"
     ]
    },
    {
     "name": "stderr",
     "output_type": "stream",
     "text": [
      "Warning in <TCanvas::Constructor>: Deleting canvas with same name: Canvas\n",
      "Info in <TCanvas::Print>: png file phi_1ab.png has been created\n"
     ]
    },
    {
     "data": {
      "image/png": "[encoded data removed]",
      "text/plain": [
       "<IPython.core.display.Image object>"
      ]
     },
     "metadata": {},
     "output_type": "display_data"
    }
   ],
   "source": [
    "canv = ROOT.TCanvas(\"Canvas\", \"Canvas\", 700, 640)\n",
    "# canv = ROOT.TCanvas(\"Canvas\", \"Canvas\", 700, 700)\n",
    "\n",
    "xlow = ctypes.c_double()\n",
    "ylow = ctypes.c_double()\n",
    "xup = ctypes.c_double()\n",
    "yup = ctypes.c_double()\n",
    "\n",
    "canv.GetPad(0).GetPadPar(xlow, ylow, xup, yup)\n",
    "canv.Divide(1,2)\n",
    "\n",
    "xlow = xlow.value\n",
    "ylow = ylow.value\n",
    "xup = xup.value\n",
    "yup = yup.value\n",
    "\n",
    "upPad = canv.GetPad(1)\n",
    "upPad.SetPad(xlow, ylow+0.25*(yup-ylow),xup,yup)\n",
    "\n",
    "dwPad = canv.GetPad(2)\n",
    "dwPad.SetPad(xlow, ylow,xup,ylow+0.25*(yup-ylow))\n",
    "\n",
    "    \n",
    "# model = ROOT.RooGaussian(\"model\", \"Signal component 1\", x, mean, sigma)\n",
    "# model = ROOT.RooBreitWigner(\"model\", \"Signal component 1\", x, mean, sigma)\n",
    "\n",
    "sig1 = ROOT.RooGaussian(\"sig1\", \"Signal component 1\", x, mean, sigma)\n",
    "sig2 = ROOT.RooGaussian(\"sig2\", \"Signal component 1\", x, mean, sigma2)\n",
    "\n",
    "# sig1frac = ROOT.RooRealVar(\"sig1frac\", \"fraction of component 1 in signal\", 0.5, 0.0, 1.0)\n",
    "# sig1_model = ROOT.RooAddPdf(\"sig1_model\", \"model\", [sig1, sig2], sig1frac)\n",
    "\n",
    "\n",
    "bkg1 = ROOT.RooPolynomial(\"bkg1\", \"Signal component 1\", x, ROOT.RooArgList(c0,c1), lowestOrder=2)\n",
    "\n",
    "# sig_frac = ROOT.RooRealVar(\"sig_frac\", \"fraction of component 1 in signal\", 0.8, 0.0, 1.0)\n",
    "\n",
    "# model = ROOT.RooAddPdf(\"model\", \"model\", [sig1_model, bkg1], sig_frac)\n",
    "\n",
    "\n",
    "nsig1 = ROOT.RooRealVar(\"nsig1\",\"# signal events\",dummy_TH1F.GetEntries()*0.5,0,dummy_TH1F.GetEntries())\n",
    "nsig2 = ROOT.RooRealVar(\"nsig2\",\"# signal events\",dummy_TH1F.GetEntries()*0.4,0,dummy_TH1F.GetEntries())\n",
    "nbkg1 = ROOT.RooRealVar(\"nbkg1\",\"# bkg events\",dummy_TH1F.GetEntries()*0.1,0, dummy_TH1F.GetEntries())\n",
    "\n",
    "model = ROOT.RooAddPdf(\"model\", \"x_model\", ROOT.RooArgSet(sig1,sig2,bkg1), ROOT.RooArgSet(nsig1, nsig2, nbkg1))\n",
    "\n",
    "\n",
    "\n",
    "\n",
    "r = model.fitTo(signalhist,NumCPU=12,Range=fitting_region,PrintLevel=-1, Save=1)\n",
    "\n",
    "r.Print()\n",
    "canv.cd(1) \n",
    "# frame = x.frame(Title=\"D^{0} #rightarrow #bar{K}^{*0} #pi^{0}\")\n",
    "frame = x.frame(Title=\" \")\n",
    "\n",
    "signalhist.plotOn(frame,Name = \"data1\", XErrorSize=0)\n",
    "\n",
    "model.plotOn(frame, Name=\"gauss1\", Components=ROOT.RooArgSet(sig1,sig2), LineStyle=ROOT.kDashed, LineColor=593)\n",
    "model.plotOn(frame, Name=\"CB1\", Components=bkg1, LineStyle=ROOT.kDashed, LineColor=593)\n",
    "# model.plotOn(frame, Name=\"gauss1\", Components=bkg1, LineStyle=ROOT.kDashed, LineColor=593)\n",
    "\n",
    "# sig.plotOn(frame, Name=\"Novo\", Components=sig3, LineStyle=ROOT.kDashed, LineColor=593)\n",
    "\n",
    "model.plotOn(frame, Name=\"fitting\",)\n",
    "\n",
    "\n",
    "# sig.paramOn(frame)\n",
    "frame.GetXaxis().SetTitleSize(0.06)\n",
    "frame.GetXaxis().CenterTitle(True)\n",
    "frame.Draw(\"PE\")\n",
    "\n",
    "\n",
    "leg1 = ROOT.TLegend(0.75, 0.75, 0.9, 0.9)\n",
    "leg1.SetFillColor(ROOT.kWhite)\n",
    "# leg1.SetHeader(\"The Legend title\",\"C\")\n",
    "leg1.AddEntry(\"data1\", \"MC\", \"PE\")\n",
    "leg1.AddEntry(\"fitting\", \"fit\", \"l\")\n",
    "leg1.Draw()\n",
    "\n",
    "hpull = frame.pullHist()\n",
    "hpull.SetFillStyle(1001)\n",
    "hpull.SetFillColor(1);\n",
    "for i in range(0,hpull.GetN()):#(int i=0;i<hpull.GetN();++i): \n",
    "    hpull.SetPointError(i,0.0,0.0,0.0,0.0)\n",
    "# pullplot = x.frame(Title(\" \"))\n",
    "pullplot = x.frame()\n",
    "pullplot.SetTitle(\"\")\n",
    "pullplot.addPlotable(hpull,\"BE\")\n",
    "# pullplot.addPlotable(hpull,\"PE\")\n",
    "\n",
    "pullplot.SetYTitle(\"Pull\")\n",
    "pullplot.GetXaxis().SetTitleSize(0)\n",
    "pullplot.GetYaxis().SetTitleSize(0.17)\n",
    "pullplot.GetYaxis().CenterTitle(True)\n",
    "pullplot.GetYaxis().SetTitleOffset(0.2)\n",
    "pullplot.SetMinimum(-4.)\n",
    "pullplot.SetMaximum(4.)\n",
    "pullplot.GetXaxis().SetLabelSize(0.1)\n",
    "pullplot.GetYaxis().SetLabelSize(0.09)\n",
    "canv.cd(2)\n",
    "pullplot.Draw()\n",
    "\n",
    "xmin1 = ctypes.c_double(fitting_region[0])\n",
    "xmax1 = ctypes.c_double(fitting_region[1])\n",
    "# xmin1 = 0.1\n",
    "# xmax1 = 0.18\n",
    "line = ROOT.TLine(xmin1,0.0,xmax1,0.0)\n",
    "line1 = ROOT.TLine(xmin1,3.0,xmax1,3.0)\n",
    "line2 = ROOT.TLine(xmin1,-3.0,xmax1,-3.0)\n",
    "\n",
    "line.SetLineColor(ROOT.kRed)\n",
    "line.SetLineWidth(3)\n",
    "line1.SetLineColor(ROOT.kRed)\n",
    "line2.SetLineColor(ROOT.kRed)\n",
    "line1.SetLineStyle(2)\n",
    "line2.SetLineStyle(2)\n",
    "line.Draw(\"SAME\")\n",
    "line1.Draw(\"SAME\")\n",
    "line2.Draw(\"SAME\")\n",
    "\n",
    "canv.Update()\n",
    "\n",
    "canv.Draw()\n",
    "canv.SaveAs(\"phi_1ab.png\")\n",
    "\n",
    "f = ROOT.TFile(\"Massveto_Mgg_fitresult.root\", \"RECREATE\")\n",
    "r.Write(\"Massveto_Mgg_fitresult\")\n",
    "f.Close()\n"
   ]
  },
  {
   "cell_type": "code",
   "execution_count": 48,
   "id": "a8aa56c6-5f64-4e4e-818a-72aadbfc1563",
   "metadata": {},
   "outputs": [
    {
     "name": "stdout",
     "output_type": "stream",
     "text": [
      "0x561dbbfb0e30 RooAddPdf::model = 0.853245 [Auto,Dirty] \n",
      "  0x561dbbd018b0/V- RooGaussian::sig1 = 0.773092 [Auto,Dirty] \n",
      "    0x561dbd680610/V- RooRealVar::M(D^{0}) = 0.13\n",
      "    0x561dbc0f2d30/V- RooRealVar::mean = 0.134239 +/- 0.000142844\n",
      "    0x561dbd462970/V- RooRealVar::sigma = 0.00590806 +/- 0.000220727\n",
      "  0x561dbc043540/V- RooRealVar::nsig1 = 2471.01 +/- 142.499\n",
      "  0x561dbc03aae0/V- RooGaussian::sig2 = 0.97045 [Auto,Dirty] \n",
      "    0x561dbd680610/V- RooRealVar::M(D^{0}) = 0.13\n",
      "    0x561dbc0f2d30/V- RooRealVar::mean = 0.134239 +/- 0.000142844\n",
      "    0x561dbd644fd0/V- RooRealVar::sigma2 = 0.0173056 +/- 0.0025413\n",
      "  0x561dbc03c8a0/V- RooRealVar::nsig2 = 984.809 +/- 106.108\n",
      "  0x561dbc16eab0/V- RooPolynomial::bkg1 = 1.0191 [Auto,Dirty] \n",
      "    0x561dbd680610/V- RooRealVar::M(D^{0}) = 0.13\n",
      "    0x561dbd64fef0/V- RooRealVar::c0 = 0.999994 +/- 1.34902\n",
      "    0x561dbd621400/V- RooRealVar::c1 = 1 +/- 1.9698\n",
      "  0x561dbefa1e10/V- RooRealVar::nbkg1 = 498.255 +/- 99.4318\n"
     ]
    }
   ],
   "source": [
    "model.Print(\"t\")"
   ]
  },
  {
   "cell_type": "code",
   "execution_count": 16,
   "id": "05af05dc-ca26-41b3-893b-d2c398dcabc3",
   "metadata": {},
   "outputs": [],
   "source": [
    "std1 = sigma.getValV()"
   ]
  },
  {
   "cell_type": "code",
   "execution_count": 73,
   "id": "f5dc046f-8bc6-4920-8b47-8b5c8c4766c0",
   "metadata": {},
   "outputs": [],
   "source": [
    "std2 = sigma2.getValV()"
   ]
  },
  {
   "cell_type": "code",
   "execution_count": 74,
   "id": "f1926d1f-543f-4b50-b31f-0288c7423527",
   "metadata": {},
   "outputs": [],
   "source": [
    "Nsig1 = nsig1.getValV()"
   ]
  },
  {
   "cell_type": "code",
   "execution_count": 75,
   "id": "59337641-2c0c-4b4d-a6b7-b4d0f26a54be",
   "metadata": {},
   "outputs": [],
   "source": [
    "Nsig2 = nsig2.getValV()"
   ]
  },
  {
   "cell_type": "code",
   "execution_count": 76,
   "id": "3caef369-bc0f-4b21-9f0c-60a8b229ad89",
   "metadata": {},
   "outputs": [],
   "source": [
    "combined_std = math.sqrt((Nsig1*std1**2 + Nsig2*std2**2)/(Nsig1 + Nsig2))"
   ]
  },
  {
   "cell_type": "code",
   "execution_count": 77,
   "id": "a03709f5-febb-4184-aaf3-90ef846b59d5",
   "metadata": {},
   "outputs": [
    {
     "data": {
      "text/plain": [
       "0.010870618705006484"
      ]
     },
     "execution_count": 77,
     "metadata": {},
     "output_type": "execute_result"
    }
   ],
   "source": [
    "combined_std"
   ]
  },
  {
   "cell_type": "code",
   "execution_count": 452,
   "id": "a5633d55-05d9-48fc-a026-4c1f50948363",
   "metadata": {},
   "outputs": [],
   "source": [
    "# phi : 0.010502495786316624"
   ]
  },
  {
   "cell_type": "code",
   "execution_count": 453,
   "id": "2acc4f3f-2a24-4640-abb1-f62f99e1f374",
   "metadata": {},
   "outputs": [],
   "source": [
    "# rho : 0.01071081627032182"
   ]
  },
  {
   "cell_type": "code",
   "execution_count": 454,
   "id": "bf846ee8-0aaa-490c-8f85-70258d35fbdd",
   "metadata": {},
   "outputs": [],
   "source": [
    "# antiKstar : 0.010870618705006484"
   ]
  },
  {
   "cell_type": "code",
   "execution_count": 455,
   "id": "b75c1500-e261-4e74-9711-4207df6328ac",
   "metadata": {},
   "outputs": [],
   "source": [
    "# omega : 0.011559831242352688"
   ]
  },
  {
   "cell_type": "code",
   "execution_count": 456,
   "id": "cc83d138-cc2d-4dac-a5f0-6e14c8a9b62c",
   "metadata": {},
   "outputs": [],
   "source": [
    "# 1 sigma ~ 0.011"
   ]
  },
  {
   "cell_type": "code",
   "execution_count": null,
   "id": "2e29be88-d0f4-46ea-92f1-32acfdf76b7e",
   "metadata": {},
   "outputs": [],
   "source": []
  },
  {
   "cell_type": "code",
   "execution_count": null,
   "id": "7b288636-fd30-4561-a86a-baa4584ad34c",
   "metadata": {},
   "outputs": [],
   "source": []
  },
  {
   "cell_type": "code",
   "execution_count": null,
   "id": "992ae865-7a3a-4a9d-9973-44e75126e292",
   "metadata": {},
   "outputs": [],
   "source": []
  },
  {
   "cell_type": "code",
   "execution_count": 457,
   "id": "26956e16-15c5-4c14-9df8-e7d3815af158",
   "metadata": {},
   "outputs": [
    {
     "name": "stdout",
     "output_type": "stream",
     "text": [
      "RooRealVar::sigma = 0.00573819 +/- 8.80963e-05  L(0.001 - 0.05) \n"
     ]
    }
   ],
   "source": [
    "sigma.Print()"
   ]
  }
 ],
 "metadata": {
  "kernelspec": {
   "display_name": "Python 3 (ipykernel)",
   "language": "python",
   "name": "python3"
  },
  "language_info": {
   "codemirror_mode": {
    "name": "ipython",
    "version": 3
   },
   "file_extension": ".py",
   "mimetype": "text/x-python",
   "name": "python",
   "nbconvert_exporter": "python",
   "pygments_lexer": "ipython3",
   "version": "3.10.5"
  },
  "toc": {
   "base_numbering": 1,
   "nav_menu": {},
   "number_sections": true,
   "sideBar": true,
   "skip_h1_title": false,
   "title_cell": "Table of Contents",
   "title_sidebar": "Contents",
   "toc_cell": false,
   "toc_position": {},
   "toc_section_display": true,
   "toc_window_display": false
  }
 },
 "nbformat": 4,
 "nbformat_minor": 5
}
