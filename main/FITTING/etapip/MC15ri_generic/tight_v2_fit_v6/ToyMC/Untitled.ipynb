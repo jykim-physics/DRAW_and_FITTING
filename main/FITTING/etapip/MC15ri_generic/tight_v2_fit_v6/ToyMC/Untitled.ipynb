{
 "cells": [
  {
   "cell_type": "code",
   "execution_count": 10,
   "id": "d48f1b8c-9a04-4319-8038-99b32a360f3b",
   "metadata": {},
   "outputs": [
    {
     "name": "stdout",
     "output_type": "stream",
     "text": [
      "N_total_Dp: 112\n",
      "N_total_Dm: 172\n"
     ]
    }
   ],
   "source": [
    "import ROOT\n",
    "from ROOT import RooRandom\n",
    "\n",
    "# Set the seed for the random number generator\n",
    "seed = 12351\n",
    "RooRandom.randomGenerator().SetSeed(seed)\n",
    "\n",
    "# Input values\n",
    "N_total_input_Dp = 100  # Example input value\n",
    "N_total_input_Dm = 200  # Example input value\n",
    "\n",
    "# Generate Poisson-distributed random numbers\n",
    "N_total_Dp = RooRandom.randomGenerator().Poisson(N_total_input_Dp)\n",
    "N_total_Dm = RooRandom.randomGenerator().Poisson(N_total_input_Dm)\n",
    "\n",
    "print(f\"N_total_Dp: {N_total_Dp}\")\n",
    "print(f\"N_total_Dm: {N_total_Dm}\")\n"
   ]
  },
  {
   "cell_type": "code",
   "execution_count": 29,
   "id": "913d431e-fc4a-4c6b-94ea-789025b22e59",
   "metadata": {},
   "outputs": [
    {
     "name": "stdout",
     "output_type": "stream",
     "text": [
      "1718283602\n",
      "N_total_Dp: 88\n",
      "N_total_Dm: 247\n"
     ]
    }
   ],
   "source": [
    "import ROOT\n",
    "from ROOT import RooRandom\n",
    "import time\n",
    "\n",
    "# Set the seed for the random number generator using the current time\n",
    "seed = int(time.time())\n",
    "RooRandom.randomGenerator().SetSeed(seed)\n",
    "print(seed)\n",
    "# Input values\n",
    "N_total_input_Dp = 100  # Example input value\n",
    "N_total_input_Dm = 200  # Example input value\n",
    "\n",
    "# Generate Poisson-distributed random numbers\n",
    "N_total_Dp = RooRandom.randomGenerator().Poisson(N_total_input_Dp)\n",
    "N_total_Dm = RooRandom.randomGenerator().Poisson(N_total_input_Dm)\n",
    "\n",
    "print(f\"N_total_Dp: {N_total_Dp}\")\n",
    "print(f\"N_total_Dm: {N_total_Dm}\")\n"
   ]
  },
  {
   "cell_type": "code",
   "execution_count": 30,
   "id": "daa148a4-4885-423f-93f5-60fe95320c59",
   "metadata": {},
   "outputs": [
    {
     "data": {
      "text/plain": [
       "1718283602.6308887"
      ]
     },
     "execution_count": 30,
     "metadata": {},
     "output_type": "execute_result"
    }
   ],
   "source": [
    "time.time()"
   ]
  },
  {
   "cell_type": "code",
   "execution_count": null,
   "id": "9cf8d959-e28d-4798-9504-44d3cabc1bbc",
   "metadata": {},
   "outputs": [],
   "source": []
  }
 ],
 "metadata": {
  "kernelspec": {
   "display_name": "Python 3 (Belle2)",
   "language": "python",
   "name": "python3"
  },
  "language_info": {
   "codemirror_mode": {
    "name": "ipython",
    "version": 3
   },
   "file_extension": ".py",
   "mimetype": "text/x-python",
   "name": "python",
   "nbconvert_exporter": "python",
   "pygments_lexer": "ipython3",
   "version": "3.8.8"
  }
 },
 "nbformat": 4,
 "nbformat_minor": 5
}
