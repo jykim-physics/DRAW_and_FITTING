{
 "cells": [
  {
   "cell_type": "code",
   "execution_count": 1,
   "id": "2d310ef1-5926-4c1a-ab56-531270dbab85",
   "metadata": {},
   "outputs": [
    {
     "name": "stdout",
     "output_type": "stream",
     "text": [
      "Welcome to JupyROOT 6.26/04\n"
     ]
    }
   ],
   "source": [
    "%matplotlib inline\n",
    "%load_ext autoreload\n",
    "%autoreload 2\n",
    "import seaborn as sns\n",
    "import numpy as np\n",
    "import pandas as pd\n",
    "import matplotlib.pyplot as plt\n",
    "import ROOT\n",
    "import ctypes\n",
    "import glob\n",
    "try:\n",
    "#     plt.style.use('belle2')\n",
    "    plt.style.use('belle2_serif')\n",
    "#     plt.style.use('belle2_modern')\n",
    "except OSError:\n",
    "    print(\"Please install belle2 matplotlib style\")   \n",
    "px = 1/plt.rcParams['figure.dpi']\n",
    "\n",
    "from main.data_tools.extract_ntuples import get_pd, get_np\n",
    "\n",
    "from main.data_tools.extract_Nevents import get_Nevents"
   ]
  },
  {
   "cell_type": "code",
   "execution_count": 2,
   "id": "2bca6ab4-cdfa-435a-bce1-672df3d851e7",
   "metadata": {},
   "outputs": [
    {
     "name": "stdout",
     "output_type": "stream",
     "text": [
      "\n",
      "Applying BELLE2 style settings...\n"
     ]
    }
   ],
   "source": [
    "ROOT.gROOT.LoadMacro('/home/jykim/workspace/DRAW_and_FITTING/main/Belle2Style.C')\n",
    "ROOT.SetBelle2Style()"
   ]
  },
  {
   "cell_type": "code",
   "execution_count": 3,
   "id": "f7ce2ce3-b714-4e31-9bb2-67b116b3baf0",
   "metadata": {},
   "outputs": [],
   "source": [
    "file1_name=\"test2_x_D0.png\"\n",
    "file2_name=\"test2_y_D0.png\"\n",
    "# file1_name=\"test2_x_D0bar.png\"\n",
    "# file2_name=\"test2_y_D0bar.png\"\n",
    "file1_name=\"/media/jykim/T7/saved_plots/fitting/results/phigamma/2d_fit/mc15rd_4S_D0M.png\"\n",
    "file2_name=\"/media/jykim/T7/saved_plots/fitting/results/phigamma/2d_fit/mc15rd_4S_cosHel.png\"\n"
   ]
  },
  {
   "cell_type": "markdown",
   "id": "b1e02779-f159-40c2-bc91-ee678b139369",
   "metadata": {},
   "source": [
    "# Extract 2D data(ROOT)"
   ]
  },
  {
   "cell_type": "code",
   "execution_count": 4,
   "id": "0877bf8e-2c09-43af-acd1-c663c936316a",
   "metadata": {},
   "outputs": [],
   "source": [
    "base_file_loc =  '/media/jykim/T7_2/storage/Ntuples_ghi_2/MC15rd/MC15rd_Vg_preext_maxFBDT_2ndFBDT/'\n",
    "# base_file_loc =  '/media/jykim/T7/storage/01_recon/massvetov2_optimzed_sigext_1ab_bkg/'\n",
    "\n",
    "loc_ccbar = base_file_loc + 'ccbar/*.root'\n",
    "# loc_ccbar = base_file_loc + 'topo/resultfile/result_antiKstar/standard.root'\n",
    "loc_uubar = base_file_loc + 'uubar/*.root'\n",
    "loc_ddbar = base_file_loc + 'ddbar/*.root'\n",
    "loc_ssbar = base_file_loc + 'ssbar/*.root'\n",
    "loc_charged = base_file_loc + 'charged/*.root'\n",
    "loc_mixed = base_file_loc + 'mixed/*.root'\n",
    "loc_taupair = base_file_loc + 'taupair/*.root'\n",
    "\n",
    "file_list = [loc_ccbar,loc_uubar,loc_uubar,loc_ssbar,loc_charged,loc_mixed,loc_taupair]\n",
    "\n",
    "\n",
    "loc_ccbar_CC = base_file_loc + 'ccbar/*.root/phi_cc'\n",
    "# loc_ccbar = base_file_loc + 'topo/resultfile/result_antiKstar/standard.root'\n",
    "loc_uubar_CC = base_file_loc + 'uubar/*.root/phi_cc'\n",
    "loc_ddbar_CC = base_file_loc + 'ddbar/*.root/phi_cc'\n",
    "loc_ssbar_CC = base_file_loc + 'ssbar/*.root/phi_cc'\n",
    "loc_charged_CC = base_file_loc + 'charged/*.root/phi_cc'\n",
    "loc_mixed_CC = base_file_loc + 'mixed/*.root/phi_cc'\n",
    "loc_taupair_CC = base_file_loc + 'taupair/*.root/phi_cc'\n",
    "\n",
    "\n",
    "file_list += [loc_ccbar_CC,loc_uubar_CC,loc_uubar_CC,loc_ssbar_CC,loc_charged_CC,loc_mixed_CC,loc_taupair_CC]\n"
   ]
  },
  {
   "cell_type": "code",
   "execution_count": 5,
   "id": "e189ccc3-1f34-48eb-b669-8616fce2a1a2",
   "metadata": {},
   "outputs": [],
   "source": [
    "mychain = ROOT.TChain(\"phi\")\n",
    "# mychain = ROOT.TChain(\"phi_cc\")\n",
    "\n",
    "for i in file_list:\n",
    "    mychain.Add(i)"
   ]
  },
  {
   "cell_type": "code",
   "execution_count": 6,
   "id": "65972d71-0794-43c3-86ca-2f491d068881",
   "metadata": {},
   "outputs": [
    {
     "name": "stdout",
     "output_type": "stream",
     "text": [
      "['/media/jykim/T7_2/storage/Ntuples_ghi_2/MC15rd/MC15rd_Vg_preext_maxFBDT_2ndFBDT/ccbar/*.root', '/media/jykim/T7_2/storage/Ntuples_ghi_2/MC15rd/MC15rd_Vg_preext_maxFBDT_2ndFBDT/uubar/*.root', '/media/jykim/T7_2/storage/Ntuples_ghi_2/MC15rd/MC15rd_Vg_preext_maxFBDT_2ndFBDT/uubar/*.root', '/media/jykim/T7_2/storage/Ntuples_ghi_2/MC15rd/MC15rd_Vg_preext_maxFBDT_2ndFBDT/ssbar/*.root', '/media/jykim/T7_2/storage/Ntuples_ghi_2/MC15rd/MC15rd_Vg_preext_maxFBDT_2ndFBDT/charged/*.root', '/media/jykim/T7_2/storage/Ntuples_ghi_2/MC15rd/MC15rd_Vg_preext_maxFBDT_2ndFBDT/mixed/*.root', '/media/jykim/T7_2/storage/Ntuples_ghi_2/MC15rd/MC15rd_Vg_preext_maxFBDT_2ndFBDT/taupair/*.root', '/media/jykim/T7_2/storage/Ntuples_ghi_2/MC15rd/MC15rd_Vg_preext_maxFBDT_2ndFBDT/ccbar/*.root/phi_cc', '/media/jykim/T7_2/storage/Ntuples_ghi_2/MC15rd/MC15rd_Vg_preext_maxFBDT_2ndFBDT/uubar/*.root/phi_cc', '/media/jykim/T7_2/storage/Ntuples_ghi_2/MC15rd/MC15rd_Vg_preext_maxFBDT_2ndFBDT/uubar/*.root/phi_cc', '/media/jykim/T7_2/storage/Ntuples_ghi_2/MC15rd/MC15rd_Vg_preext_maxFBDT_2ndFBDT/ssbar/*.root/phi_cc', '/media/jykim/T7_2/storage/Ntuples_ghi_2/MC15rd/MC15rd_Vg_preext_maxFBDT_2ndFBDT/charged/*.root/phi_cc', '/media/jykim/T7_2/storage/Ntuples_ghi_2/MC15rd/MC15rd_Vg_preext_maxFBDT_2ndFBDT/mixed/*.root/phi_cc', '/media/jykim/T7_2/storage/Ntuples_ghi_2/MC15rd/MC15rd_Vg_preext_maxFBDT_2ndFBDT/taupair/*.root/phi_cc']\n"
     ]
    }
   ],
   "source": [
    "print(file_list)"
   ]
  },
  {
   "cell_type": "code",
   "execution_count": 7,
   "id": "3b946094-184d-4b0a-9fb7-77e7cdcb8105",
   "metadata": {},
   "outputs": [],
   "source": [
    "yrange = (-1, 1)\n",
    "x = ROOT.RooRealVar(\"D0_M\", \"M(D^{0}) [GeV/c^{2}]\", 1.68, 2.05, \"\")\n",
    "y = ROOT.RooRealVar(\"D0_cosHel_0\", \"cos#theta_{H}\", yrange[0], yrange[1], \"\")\n",
    "a = ROOT.RooRealVar(\"Phi_M\", \"\",0,10, \"\")\n",
    "b = ROOT.RooRealVar(\"Dstarp_CMS_p\", \"\",0,10, \"\")\n",
    "c = ROOT.RooRealVar(\"Dstarp_isSignal\", \"\",-10,10, \"\")\n",
    "d = ROOT.RooRealVar(\"gamma_E\", \"\",0,10, \"\")\n",
    "e = ROOT.RooRealVar(\"Pi0_Prob2\", \"\",0,10, \"\")\n",
    "f = ROOT.RooRealVar(\"Dstarp_delM\", \"\",0,10, \"\")\n",
    "# g = ROOT.RooRealVar(\"iCascDcyBrP_Dst_0\", \"\",-200,200, \"\")\n",
    "\n",
    "# h = ROOT.RooRealVar(\"iCascDcyBrP_Dstm_0\", \"\",-200,200, \"\")"
   ]
  },
  {
   "cell_type": "code",
   "execution_count": 8,
   "id": "9a934c19-33a3-4a8b-868a-e075262ec492",
   "metadata": {},
   "outputs": [
    {
     "name": "stdout",
     "output_type": "stream",
     "text": [
      "2122.75\n",
      "[#1] INFO:InputArguments -- The formula D0_M>1.68 & D0_M<2.05 & abs(Phi_M - 1.0195) < 0.011 &  Dstarp_CMS_p>2.5  & gamma_E>0.47 & Pi0_Prob2>0.5 & abs(Dstarp_delM-0.1455)<0.00078 claims to use the variables (D0_M,D0_cosHel_0,Phi_M,Dstarp_CMS_p,Dstarp_isSignal,gamma_E,Pi0_Prob2,Dstarp_delM) but only (D0_M,Phi_M,Dstarp_CMS_p,gamma_E,Pi0_Prob2,Dstarp_delM) seem to be in use.\n",
      "  inputs:         D0_M>1.68 & D0_M<2.05 & abs(Phi_M - 1.0195) < 0.011 &  Dstarp_CMS_p>2.5  & gamma_E>0.47 & Pi0_Prob2>0.5 & abs(Dstarp_delM-0.1455)<0.00078\n",
      "[#1] INFO:DataHandling -- RooTreeDataStore::loadValues(data) Skipping event #13 because D0_M cannot accommodate the value 1.64983\n",
      "[#1] INFO:DataHandling -- RooTreeDataStore::loadValues(data) Skipping event #21 because D0_M cannot accommodate the value 1.65855\n",
      "[#1] INFO:DataHandling -- RooTreeDataStore::loadValues(data) Skipping event #38 because D0_M cannot accommodate the value 1.65957\n",
      "[#1] INFO:DataHandling -- RooTreeDataStore::loadValues(data) Skipping event #40 because D0_M cannot accommodate the value 1.6445\n",
      "[#1] INFO:DataHandling -- RooTreeDataStore::loadValues(data) Skipping ...\n",
      "[#0] WARNING:DataHandling -- RooTreeDataStore::loadValues(data) Ignored 10518 out-of-range events\n"
     ]
    }
   ],
   "source": [
    "Cut=\"D0_M>1.68 & D0_M<2.05 & abs(Phi_M - 1.0195) < 0.011 &  Dstarp_CMS_p>2.5  \"\n",
    "Cut+=\"& gamma_E>0.47 & Pi0_Prob2>0.5 & abs(Dstarp_delM-0.1455)<0.00078\"\n",
    "# Cut+=\"& gamma_E>0.47 & Pi0_Prob2>0.5 & abs(Dstarp_delM-0.1455)<0.00078 & (iCascDcyBrP_Dst_0==7 | iCascDcyBrP_Dst_0==16 | iCascDcyBrP_Dst_0==12)\"\n",
    "\n",
    "# Cut=\" iCascDcyBrP_Dst_0>0 && iCascDcyBrP_Dst_0<2 \"\n",
    "\n",
    "# data = ROOT.RooDataSet(\"data\",\"\", ROOT.RooArgSet(x,y,z), ROOT.RooFit.Import(mychain), Cut=\" D0_M>1.68 & D0_M<2.05 & Belle2Pi0Veto_75MeV > 0.022 \")\n",
    "before_data = ROOT.RooDataSet(\"data\",\"\", ROOT.RooArgSet(x,y,a,b,c,d,e,f), ROOT.RooFit.Import(mychain), Cut=Cut)\n",
    "\n",
    "\n",
    "w_1 = ROOT.RooRealVar('w_1', 'w', 0,1)\n",
    "\n",
    "w_1.setVal(1/4)\n",
    "# w_1.setVal(1)\n",
    "before_data.addColumn(w_1)\n",
    "data = ROOT.RooDataSet(before_data.GetName(), before_data.GetTitle(),before_data, before_data.get(), '' ,  'w_1')\n",
    "N_total = data.sumEntries()\n",
    "print(N_total)"
   ]
  },
  {
   "cell_type": "code",
   "execution_count": 9,
   "id": "ab7b5cd3-38b3-433a-bfd4-de0194a0ec7c",
   "metadata": {},
   "outputs": [
    {
     "name": "stdout",
     "output_type": "stream",
     "text": [
      "RooDataSet::data[D0_M,D0_cosHel_0,Phi_M,Dstarp_CMS_p,Dstarp_isSignal,gamma_E,Pi0_Prob2,Dstarp_delM,weight:w_1] = 8491 entries (2122.75 weighted)\n"
     ]
    }
   ],
   "source": [
    "data.Print()"
   ]
  },
  {
   "cell_type": "code",
   "execution_count": 10,
   "id": "ced93747-ba8d-4c8d-a028-a817e9f3e8a7",
   "metadata": {},
   "outputs": [
    {
     "data": {
      "text/plain": [
       "94628232532416"
      ]
     },
     "execution_count": 10,
     "metadata": {},
     "output_type": "execute_result"
    },
    {
     "name": "stdout",
     "output_type": "stream",
     "text": [
      "(MyPdf_xsquared_nopara) An instance of MyPdf_xsquared_nopara.\n"
     ]
    }
   ],
   "source": [
    "# ROOT.RooClassFactory.makePdf(\"MyPdf_xsquared_nopara\", \"x\", \"\", \"x*x\")\n",
    "ROOT.gROOT.ProcessLineSync(\".x MyPdf_xsquared_nopara.cxx+\")"
   ]
  },
  {
   "cell_type": "code",
   "execution_count": 11,
   "id": "d3b86072-461a-4ba3-9f9c-b619f0a60b01",
   "metadata": {},
   "outputs": [
    {
     "data": {
      "text/plain": [
       "94628235123568"
      ]
     },
     "execution_count": 11,
     "metadata": {},
     "output_type": "execute_result"
    },
    {
     "name": "stdout",
     "output_type": "stream",
     "text": [
      "(MyPdf_one_minus_squared) An instance of MyPdf_one_minus_squared.\n"
     ]
    },
    {
     "name": "stderr",
     "output_type": "stream",
     "text": [
      "Info in <ACLiC>: unmodified script has already been compiled and loaded\n"
     ]
    }
   ],
   "source": [
    "# ROOT.RooClassFactory.makePdf(\"MyPdf_one_minus_squared\", \"y\", \"\", \"1-y*y\")\n",
    "ROOT.gROOT.ProcessLineSync(\".x MyPdf_one_minus_squared.cxx+\")"
   ]
  },
  {
   "cell_type": "code",
   "execution_count": null,
   "id": "957749d9-837a-4682-8e27-e5e4c4fa6ff1",
   "metadata": {},
   "outputs": [],
   "source": []
  },
  {
   "cell_type": "markdown",
   "id": "839039e4-954e-4395-bbee-a1faffa5fb64",
   "metadata": {},
   "source": [
    "## Vg"
   ]
  },
  {
   "cell_type": "markdown",
   "id": "a493f78d-9dad-4714-aaf4-5331ed9b57f0",
   "metadata": {},
   "source": [
    "### D0M"
   ]
  },
  {
   "cell_type": "code",
   "execution_count": 12,
   "id": "93e28cb9-173e-44ec-81bb-291cb724a446",
   "metadata": {},
   "outputs": [],
   "source": [
    "f = ROOT.TFile.Open(\"/home/jykim/workspace/DRAW_and_FITTING/main/FITTING/phigamma/MC15rd/phig_MC15rd_Vg_fitresult_D0M.root\")\n",
    "result_object = ROOT.gDirectory.Get(\"phig\")\n",
    "f.Close()\n",
    "\n",
    "fit_args = result_object.floatParsFinal()\n",
    "\n",
    "x_sig_alpha= ROOT.RooRealVar(\"x_sig_alpha\", \"\",  fit_args.at(0).getVal()) \n",
    "x_sig_mean = ROOT.RooRealVar(\"x_sig_mean\", \"\",  fit_args.at(1).getVal()) \n",
    "# x_sig_mean = ROOT.RooRealVar(\"x_sig_mean\", \"mean of gaussians\", 1.863,1.86, 1.88)\n",
    "\n",
    "x_sig_n_CB = ROOT.RooRealVar(\"x_sig_n_CB\", \"\",  fit_args.at(2).getVal()) \n",
    "x_sig_sig1frac = ROOT.RooRealVar(\"x_sig_sig1frac\", \"\",  fit_args.at(3).getVal()) \n",
    "x_sig_sigma1 = ROOT.RooRealVar(\"x_sig_sigma1\", \"\",  fit_args.at(4).getVal()) \n",
    "x_sig_sigma2 = ROOT.RooRealVar(\"x_sig_sigma2\", \"\",  fit_args.at(5).getVal()) "
   ]
  },
  {
   "cell_type": "markdown",
   "id": "36e4e5d0-0355-4f1c-8a07-3aa71a885fc9",
   "metadata": {},
   "source": [
    "### cosHel "
   ]
  },
  {
   "cell_type": "code",
   "execution_count": 13,
   "id": "e910a5a4-fb76-47fb-8547-c79c64d34d56",
   "metadata": {},
   "outputs": [],
   "source": [
    "y_sig_model = ROOT.MyPdf_one_minus_squared(\"y_sig_model\", \"y_sig\", y)"
   ]
  },
  {
   "cell_type": "markdown",
   "id": "30fec575-af23-4b22-94e0-022e4087b332",
   "metadata": {},
   "source": [
    "## Vpi0"
   ]
  },
  {
   "cell_type": "markdown",
   "id": "5627b791-a0a6-4bfc-a05b-52b51266b084",
   "metadata": {},
   "source": [
    "### D0M"
   ]
  },
  {
   "cell_type": "code",
   "execution_count": 4,
   "id": "53b226bc-fb0b-4549-b1c7-f869ec4d587b",
   "metadata": {},
   "outputs": [
    {
     "data": {
      "text/plain": [
       "<cppyy.gbl.RooFitResult object at 0x55d4f96d1310>"
      ]
     },
     "execution_count": 4,
     "metadata": {},
     "output_type": "execute_result"
    }
   ],
   "source": [
    "result_object2"
   ]
  },
  {
   "cell_type": "code",
   "execution_count": 3,
   "id": "07d2eb90-f327-4c87-8aef-2f00491f4cbc",
   "metadata": {},
   "outputs": [],
   "source": [
    "f = ROOT.TFile.Open(\"/home/jykim/workspace/DRAW_and_FITTING/main/FITTING/phigamma/MC15rd/phig_MC15rd_Vpi0_fitresult.root\")\n",
    "result_object2 = ROOT.gDirectory.Get(\"phig\")\n",
    "f.Close()\n",
    "fit_args2 = result_object2.floatParsFinal()\n",
    "\n",
    "#V pi0\n",
    "# x_bkg1_alpha = ROOT.RooRealVar(\"x_bkg1_alpha\", \"\",  fit_args2.at(0).getVal()) \n",
    "# x_bkg1_mean = ROOT.RooRealVar(\"x_bkg1_mean\", \"\",  fit_args2.at(1).getVal()) \n",
    "# x_bkg1_n_CB = ROOT.RooRealVar(\"x_bkg1_n_CB\", \"\",  fit_args2.at(2).getVal()) \n",
    "# x_bkg1frac1 = ROOT.RooRealVar(\"x_bkg1frac1\", \"\",  fit_args2.at(3).getVal()) \n",
    "# x_bkg1_sigma1 = ROOT.RooRealVar(\"x_bkg1_sigma1\", \"\",  fit_args2.at(4).getVal()) \n",
    "# x_bkg1_sigma2 = ROOT.RooRealVar(\"x_bkg1_sigma2\", \"\",  fit_args2.at(5).getVal()) \n",
    "\n",
    "x_bkg1_alpha = ROOT.RooRealVar(\"x_bkg1_alpha\", \"\",  fit_args2.at(0).getVal()) \n",
    "x_bkg1_mean = ROOT.RooRealVar(\"x_bkg1_mean\", \"\",  fit_args2.at(1).getVal()) \n",
    "x_bkg1_n_CB = ROOT.RooRealVar(\"x_bkg1_n_CB\", \"\",  fit_args2.at(2).getVal()) \n",
    "x_bkg1_sigma2 = ROOT.RooRealVar(\"x_bkg1_sigma2\", \"\",  fit_args2.at(3).getVal()) \n"
   ]
  },
  {
   "cell_type": "markdown",
   "id": "5ad951c1-85de-4b19-8a29-3ed7e5938d0f",
   "metadata": {},
   "source": [
    "### cosHel "
   ]
  },
  {
   "cell_type": "code",
   "execution_count": 15,
   "id": "bb5f2723-bcd4-495a-9aaa-1639a0a190c1",
   "metadata": {},
   "outputs": [
    {
     "data": {
      "text/plain": [
       "94628239962656"
      ]
     },
     "execution_count": 15,
     "metadata": {},
     "output_type": "execute_result"
    },
    {
     "name": "stdout",
     "output_type": "stream",
     "text": [
      "(MyPdf_xsquared_nopara) An instance of MyPdf_xsquared_nopara.\n"
     ]
    },
    {
     "name": "stderr",
     "output_type": "stream",
     "text": [
      "Info in <ACLiC>: unmodified script has already been compiled and loaded\n"
     ]
    }
   ],
   "source": [
    "# ROOT.RooClassFactory.makePdf(\"MyPdf_xsquared_nopara\", \"x\", \"\", \"x*x\")\n",
    "ROOT.gROOT.ProcessLineSync(\".x MyPdf_xsquared_nopara.cxx+\")"
   ]
  },
  {
   "cell_type": "code",
   "execution_count": 16,
   "id": "bcfbb84d-c07c-4b9a-999e-6523cffa2530",
   "metadata": {},
   "outputs": [],
   "source": [
    "y_bkg1_model = ROOT.MyPdf_xsquared_nopara(\"y_bkg1_model\", \"y_bkg1\", y)"
   ]
  },
  {
   "cell_type": "markdown",
   "id": "ab6084d1-3d03-4490-b9db-6b93fc4e4788",
   "metadata": {},
   "source": [
    "## phi X"
   ]
  },
  {
   "cell_type": "markdown",
   "id": "9adffed2-4bdc-456c-8d20-9797677d2011",
   "metadata": {},
   "source": [
    "### D0M"
   ]
  },
  {
   "cell_type": "code",
   "execution_count": 17,
   "id": "36f4f621-8c7a-4dd8-a85a-2598d876a505",
   "metadata": {},
   "outputs": [],
   "source": [
    "f = ROOT.TFile.Open(\"/home/jykim/workspace/DRAW_and_FITTING/main/FITTING/phigamma/MC15rd/phig_MC15rd_phiX_fitresult_D0M.root\")\n",
    "result_object3 = ROOT.gDirectory.Get(\"phig\")\n",
    "f.Close()\n",
    "\n",
    "fit_args3 = result_object3.floatParsFinal()\n",
    "\n",
    "x_bkg2_mean = ROOT.RooRealVar(\"x_bkg2_mean\", \"\",  fit_args3.at(0).getVal()) \n",
    "# x_bkg2_frac = ROOT.RooRealVar(\"x_bkg2_frac\", \"\",  fit_args3.at(1).getVal()) \n",
    "x_bkg2_frac = ROOT.RooRealVar(\"x_bkg2_frac\", \"\", 0.5, 0.0, 1.0) \n",
    "\n",
    "x_bkg2_sigma = ROOT.RooRealVar(\"x_bkg2_sigma\", \"\",  fit_args3.at(2).getVal()) \n",
    "x_bkg2_c0 = ROOT.RooRealVar(\"x_bkg2_c0\", \"\",  fit_args3.at(3).getVal()) "
   ]
  },
  {
   "cell_type": "markdown",
   "id": "5fe40ca6-8824-492e-9ece-34795cf3a21f",
   "metadata": {},
   "source": [
    "### cosHel "
   ]
  },
  {
   "cell_type": "code",
   "execution_count": 18,
   "id": "fe412b37-c854-40ca-b1aa-d55b57611f9d",
   "metadata": {},
   "outputs": [],
   "source": [
    "f = ROOT.TFile.Open(\"/home/jykim/workspace/DRAW_and_FITTING/main/FITTING/phigamma/MC15rd/phig_MC15rd_phiX_fitresult_cosHel.root\")\n",
    "result_object3_y = ROOT.gDirectory.Get(\"phig\")\n",
    "f.Close()\n",
    "\n",
    "fit_args3_y = result_object3_y.floatParsFinal()\n",
    "\n",
    "\n",
    "y_bkg2_c0 = ROOT.RooRealVar(\"y_bkg2_c0\", \"\",  fit_args3_y.at(0).getVal()) \n",
    "y_bkg2_c1 = ROOT.RooRealVar(\"y_bkg2_c1\", \"\",  fit_args3_y.at(1).getVal()) "
   ]
  },
  {
   "cell_type": "markdown",
   "id": "cdf1b4f5-09d7-4482-8209-017ef00aabea",
   "metadata": {},
   "source": [
    "## others"
   ]
  },
  {
   "cell_type": "markdown",
   "id": "c2c1eb1f-27fb-413a-bc3a-500cde20a540",
   "metadata": {},
   "source": [
    "### D0M"
   ]
  },
  {
   "cell_type": "code",
   "execution_count": 19,
   "id": "1b8f4100-f45c-4650-b49d-6d995c4f7f80",
   "metadata": {},
   "outputs": [],
   "source": [
    "f = ROOT.TFile.Open(\"/home/jykim/workspace/DRAW_and_FITTING/main/FITTING/phigamma/MC15rd/phig_MC15rd_except_Vg_Vpi0_phiX_fitresult_D0M.root\")\n",
    "result_object4 = ROOT.gDirectory.Get(\"phig\")\n",
    "f.Close()\n",
    "\n",
    "fit_args4 = result_object4.floatParsFinal()\n",
    "\n",
    "# x_bkg3_tau = ROOT.RooRealVar(\"x_bkg3_tau\", \"\",  fit_args4.at(0).getVal()) \n",
    "x_bkg3_tau = ROOT.RooRealVar(\"x_bkg3_tau\", \"tau\",-5, -10,0)"
   ]
  },
  {
   "cell_type": "markdown",
   "id": "6157d991-6191-4abc-b6af-69938cb0274b",
   "metadata": {},
   "source": [
    "### cosHel "
   ]
  },
  {
   "cell_type": "code",
   "execution_count": 20,
   "id": "4ab0e341-e60a-4525-8e54-d9540522581e",
   "metadata": {},
   "outputs": [],
   "source": [
    "f = ROOT.TFile.Open(\"/home/jykim/workspace/DRAW_and_FITTING/main/FITTING/phigamma/MC15rd/phig_MC15rd_except_Vg_Vpi0_phiX_fitresult_cosHel.root\")\n",
    "result_object4_y = ROOT.gDirectory.Get(\"phig\")\n",
    "f.Close()\n",
    "\n",
    "fit_args4_y = result_object4_y.floatParsFinal()\n",
    "\n",
    "\n",
    "y_bkg3_c0 = ROOT.RooRealVar(\"y_bkg3_c0\", \"\",  fit_args4_y.at(0).getVal()) \n",
    "y_bkg3_c1 = ROOT.RooRealVar(\"y_bkg3_c1\", \"\",  fit_args4_y.at(1).getVal()) "
   ]
  },
  {
   "cell_type": "markdown",
   "id": "4d1fb31e-a8a7-4917-a9cb-4dbe660c8b97",
   "metadata": {},
   "source": [
    "## Fitting"
   ]
  },
  {
   "cell_type": "code",
   "execution_count": null,
   "id": "48a7b49f-0ebc-4a8c-b58c-0f08155f6917",
   "metadata": {},
   "outputs": [],
   "source": []
  },
  {
   "cell_type": "code",
   "execution_count": 21,
   "id": "ac7b10e5-362d-4a4b-8249-ed2d52241384",
   "metadata": {},
   "outputs": [
    {
     "name": "stdout",
     "output_type": "stream",
     "text": [
      "[#0] WARNING:InputArguments -- The parameter 'x_sig_sigma1' with range [-1e+30, 1e+30] of the RooGaussian 'x_sig_sig1' exceeds the safe range of (0, inf). Advise to limit its range.\n",
      "[#0] WARNING:InputArguments -- The parameter 'x_bkg2_sigma' with range [-1e+30, 1e+30] of the RooGaussian 'x_bkg2_1' exceeds the safe range of (0, inf). Advise to limit its range.\n"
     ]
    }
   ],
   "source": [
    "#D0_M\n",
    "x_sig_sig1 = ROOT.RooGaussian(\"x_sig_sig1\", \"Signal component 1\", x, x_sig_mean, x_sig_sigma1)\n",
    "x_sig_sig2 =  ROOT.RooCBShape(\"x_sig_sig2\", \"Signal component 2\", x, x_sig_mean, x_sig_sigma2, x_sig_alpha, x_sig_n_CB)\n",
    "x_sig_model = ROOT.RooAddPdf(\"x_sig_model\", \"model\", [x_sig_sig1, x_sig_sig2], x_sig_sig1frac)\n",
    "\n",
    "x_bkg1_model = ROOT.RooCBShape(\"x_bkg1_model\", \"Signal component 2\", x, x_bkg1_mean, x_bkg1_sigma2, x_bkg1_alpha, x_bkg1_n_CB)\n",
    "\n",
    "\n",
    "x_bkg2_1 = ROOT.RooGaussian(\"x_bkg2_1\", \"Signal component 1\", x, x_bkg2_mean, x_bkg2_sigma)\n",
    "x_bkg2_2 = ROOT.RooPolynomial(\"x_bkg2_2\", \"Signal component 2\", x, ROOT.RooArgList(x_bkg2_c0))\n",
    "x_bkg2_model = ROOT.RooAddPdf(\"x_bkg2_model\", \"model\", [x_bkg2_1, x_bkg2_2], x_bkg2_frac)\n",
    "\n",
    "\n",
    "x_bkg3_model = ROOT.RooExponential(\"x_bkg3_model\", \"model\", x, x_bkg3_tau)"
   ]
  },
  {
   "cell_type": "code",
   "execution_count": 22,
   "id": "8d6ae3bf-965d-4b7f-bf71-461f338ddeb0",
   "metadata": {},
   "outputs": [],
   "source": [
    "#cosHel\n",
    "y_sig_model = ROOT.MyPdf_one_minus_squared(\"y_sig_model\", \"y_sig\", y)\n",
    "\n",
    "y_bkg1_model = ROOT.MyPdf_xsquared_nopara(\"y_bkg1_model\", \"y_bkg1\", y)\n",
    "\n",
    "y_bkg2_model= ROOT.RooChebychev(\"y_bkg2_model\", \"Signal component 1\", y, ROOT.RooArgList(y_bkg2_c0, y_bkg2_c1))\n",
    "\n",
    "y_bkg3_model= ROOT.RooChebychev(\"y_bkg3_model\", \"Signal component 1\", y, ROOT.RooArgList(y_bkg3_c0, y_bkg3_c1))\n"
   ]
  },
  {
   "cell_type": "code",
   "execution_count": 23,
   "id": "b472f23e-7f18-4906-876a-cabe852c16ea",
   "metadata": {},
   "outputs": [],
   "source": [
    "sig_model = ROOT.RooProdPdf(\"sig_model\",\"sig_xy_model\",ROOT.RooArgSet(x_sig_model, y_sig_model))\n",
    "\n",
    "bkg1_xy_model = ROOT.RooProdPdf(\"bkg1_xy_model\",\"bkg1_xy_model\",ROOT.RooArgSet(x_bkg1_model,y_bkg1_model))\n",
    "bkg2_xy_model = ROOT.RooProdPdf(\"bkg2_xy_model\",\"bkg2_xy_model\",ROOT.RooArgSet(x_bkg2_model,y_bkg2_model))\n",
    "bkg3_xy_model = ROOT.RooProdPdf(\"bkg3_xy_model\",\"bkg3_xy_model\",ROOT.RooArgSet(x_bkg3_model,y_bkg3_model))\n",
    "\n"
   ]
  },
  {
   "cell_type": "code",
   "execution_count": 24,
   "id": "2c90e329-6879-4c75-8a2d-6cc092cef69d",
   "metadata": {},
   "outputs": [],
   "source": [
    "nsig = ROOT.RooRealVar(\"nsig\",\"# signal events\",N_total*0.01,0,N_total*0.5)\n",
    "nbkg1 = ROOT.RooRealVar(\"nbkg1\",\"# bkg events\",N_total*0.8,0, N_total)\n",
    "nbkg2 = ROOT.RooRealVar(\"nbkg2\",\"# bkg events\",N_total*0.1,0, N_total*0.5)\n",
    "nbkg3 = ROOT.RooRealVar(\"nbkg3\",\"# bkg events\",N_total*0.1,0, N_total*0.5)\n",
    "\n",
    "extended_model = ROOT.RooAddPdf(\"extended_model\", \"x_model\", ROOT.RooArgSet(sig_model,bkg1_xy_model,bkg2_xy_model, bkg3_xy_model), ROOT.RooArgSet(nsig, nbkg1, nbkg2,nbkg3))\n"
   ]
  },
  {
   "cell_type": "code",
   "execution_count": 25,
   "id": "90ed8ee7-7561-4699-9ce8-9bc2f6221847",
   "metadata": {},
   "outputs": [
    {
     "name": "stdout",
     "output_type": "stream",
     "text": [
      "[#0] ERROR:Integration --  RooNumIntFactory::Init : libRooFitMore cannot be loaded. GSL integrators will not beavailable ! \n",
      "[#0] WARNING:InputArguments -- RooAbsPdf::fitTo(extended_model) WARNING: a likelihood fit is requested of what appears to be weighted data.\n",
      "       While the estimated values of the parameters will always be calculated taking the weights into account,\n",
      "       there are multiple ways to estimate the errors of the parameters. You are advised to make an \n",
      "       explicit choice for the error calculation:\n",
      "           - Either provide SumW2Error(true), to calculate a sum-of-weights-corrected HESSE error matrix\n",
      "             (error will be proportional to the number of events in MC).\n",
      "           - Or provide SumW2Error(false), to return errors from original HESSE error matrix\n",
      "             (which will be proportional to the sum of the weights, i.e., a dataset with <sum of weights> events).\n",
      "           - Or provide AsymptoticError(true), to use the asymptotically correct expression\n",
      "             (for details see https://arxiv.org/abs/1911.01303).\n",
      "[#1] INFO:Minimization -- RooAbsMinimizerFcn::setOptimizeConst: activating const optimization\n",
      "[#1] INFO:NumericIntegration -- RooRealIntegral::init(y_sig_model_Int[D0_cosHel_0]) using numeric integrator RooIntegrator1D to calculate Int(D0_cosHel_0)\n",
      "[#1] INFO:NumericIntegration -- RooRealIntegral::init(y_bkg1_model_Int[D0_cosHel_0]) using numeric integrator RooIntegrator1D to calculate Int(D0_cosHel_0)\n",
      "[#1] INFO:Eval -- RooAbsTestStatistic::initMPMode: started 12 remote server process.\n",
      "[#1] INFO:NumericIntegration -- RooRealIntegral::init(y_sig_model_Int[D0_cosHel_0]) using numeric integrator RooIntegrator1D to calculate Int(D0_cosHel_0)\n",
      "[#1] INFO:NumericIntegration -- RooRealIntegral::init(y_sig_model_Int[D0_cosHel_0]) using numeric integrator RooIntegrator1D to calculate Int(D0_cosHel_0)\n",
      "[#1] INFO:NumericIntegration -- RooRealIntegral::init(y_sig_model_Int[D0_cosHel_0]) using numeric integrator RooIntegrator1D to calculate Int(D0_cosHel_0)\n",
      "[#1] INFO:NumericIntegration -- RooRealIntegral::init(y_sig_model_Int[D0_cosHel_0]) using numeric integrator RooIntegrator1D to calculate Int(D0_cosHel_0)\n",
      "[#1] INFO:NumericIntegration -- RooRealIntegral::init(y_sig_model_Int[D0_cosHel_0]) using numeric integrator RooIntegrator1D to calculate Int(D0_cosHel_0)\n",
      "[#1] INFO:NumericIntegration -- RooRealIntegral::init(y_sig_model_Int[D0_cosHel_0]) using numeric integrator RooIntegrator1D to calculate Int(D0_cosHel_0)\n",
      "[#1] INFO:NumericIntegration -- RooRealIntegral::init(y_sig_model_Int[D0_cosHel_0]) using numeric integrator RooIntegrator1D to calculate Int(D0_cosHel_0)\n",
      "[#1] INFO:NumericIntegration -- RooRealIntegral::init(y_sig_model_Int[D0_cosHel_0]) using numeric integrator RooIntegrator1D to calculate Int(D0_cosHel_0)\n",
      "[#1] INFO:NumericIntegration -- RooRealIntegral::init(y_sig_model_Int[D0_cosHel_0]) using numeric integrator RooIntegrator1D to calculate Int(D0_cosHel_0)\n",
      "[#1] INFO:NumericIntegration -- RooRealIntegral::init(y_bkg1_model_Int[D0_cosHel_0]) using numeric integrator RooIntegrator1D to calculate Int(D0_cosHel_0)\n",
      "[#1] INFO:NumericIntegration -- RooRealIntegral::init(y_bkg1_model_Int[D0_cosHel_0]) using numeric integrator RooIntegrator1D to calculate Int(D0_cosHel_0)\n",
      "[#1] INFO:NumericIntegration -- RooRealIntegral::init(y_bkg1_model_Int[D0_cosHel_0]) using numeric integrator RooIntegrator1D to calculate Int(D0_cosHel_0)\n",
      "[#1] INFO:NumericIntegration -- RooRealIntegral::init(y_bkg1_model_Int[D0_cosHel_0]) using numeric integrator RooIntegrator1D to calculate Int(D0_cosHel_0)\n",
      "[#1] INFO:NumericIntegration -- RooRealIntegral::init(y_bkg1_model_Int[D0_cosHel_0]) using numeric integrator RooIntegrator1D to calculate Int(D0_cosHel_0)\n",
      "[#1] INFO:NumericIntegration -- RooRealIntegral::init(y_bkg1_model_Int[D0_cosHel_0]) using numeric integrator RooIntegrator1D to calculate Int(D0_cosHel_0)\n",
      "[#1] INFO:NumericIntegration -- RooRealIntegral::init(y_bkg1_model_Int[D0_cosHel_0]) using numeric integrator RooIntegrator1D to calculate Int(D0_cosHel_0)\n",
      "[#1] INFO:NumericIntegration -- RooRealIntegral::init(y_bkg1_model_Int[D0_cosHel_0]) using numeric integrator RooIntegrator1D to calculate Int(D0_cosHel_0)\n",
      "[#1] INFO:NumericIntegration -- RooRealIntegral::init(y_bkg1_model_Int[D0_cosHel_0]) using numeric integrator RooIntegrator1D to calculate Int(D0_cosHel_0)\n",
      "[#0] WARNING:Optimization -- RooAbsOptTestStatistic::optimizeConstantTerms(nll_extended_model_data_GOF3) WARNING Cache-and-track optimization (Optimize level 2) is only available for datasets implement in terms of RooVectorDataStore - ignoring this option for current dataset\n",
      "[#0] WARNING:Optimization -- RooAbsOptTestStatistic::optimizeConstantTerms(nll_extended_model_data_GOF9) WARNING Cache-and-track optimization (Optimize level 2) is only available for datasets implement in terms of RooVectorDataStore - ignoring this option for current dataset\n",
      "[#0] WARNING:Optimization -- RooAbsOptTestStatistic::optimizeConstantTerms(nll_extended_model_data_GOF6) WARNING Cache-and-track optimization (Optimize level 2) is only available for datasets implement in terms of RooVectorDataStore - ignoring this option for current dataset\n",
      "[#0] WARNING:Optimization -- RooAbsOptTestStatistic::optimizeConstantTerms(nll_extended_model_data_GOF1) WARNING Cache-and-track optimization (Optimize level 2) is only available for datasets implement in terms of RooVectorDataStore - ignoring this option for current dataset\n",
      "[#0] WARNING:Optimization -- RooAbsOptTestStatistic::optimizeConstantTerms(nll_extended_model_data_GOF5) WARNING Cache-and-track optimization (Optimize level 2) is only available for datasets implement in terms of RooVectorDataStore - ignoring this option for current dataset\n",
      "[#0] WARNING:Optimization -- RooAbsOptTestStatistic::optimizeConstantTerms(nll_extended_model_data_GOF0) WARNING Cache-and-track optimization (Optimize level 2) is only available for datasets implement in terms of RooVectorDataStore - ignoring this option for current dataset\n",
      "[#0] WARNING:Optimization -- RooAbsOptTestStatistic::optimizeConstantTerms(nll_extended_model_data_GOF4) WARNING Cache-and-track optimization (Optimize level 2) is only available for datasets implement in terms of RooVectorDataStore - ignoring this option for current dataset\n",
      "[#0] WARNING:Optimization -- RooAbsOptTestStatistic::optimizeConstantTerms(nll_extended_model_data_GOF2) WARNING Cache-and-track optimization (Optimize level 2) is only available for datasets implement in terms of RooVectorDataStore - ignoring this option for current dataset\n",
      "[#0] WARNING:Optimization -- RooAbsOptTestStatistic::optimizeConstantTerms(nll_extended_model_data_GOF7) WARNING Cache-and-track optimization (Optimize level 2) is only available for datasets implement in terms of RooVectorDataStore - ignoring this option for current dataset\n",
      "[#1] INFO:NumericIntegration -- RooRealIntegral::init(y_sig_model_Int[D0_cosHel_0]) using numeric integrator RooIntegrator1D to calculate Int(D0_cosHel_0)\n",
      "[#1] INFO:NumericIntegration -- RooRealIntegral::init(y_sig_model_Int[D0_cosHel_0]) using numeric integrator RooIntegrator1D to calculate Int(D0_cosHel_0)\n",
      "[#1] INFO:NumericIntegration -- RooRealIntegral::init(y_bkg1_model_Int[D0_cosHel_0]) using numeric integrator RooIntegrator1D to calculate Int(D0_cosHel_0)\n",
      "[#1] INFO:NumericIntegration -- RooRealIntegral::init(y_bkg1_model_Int[D0_cosHel_0]) using numeric integrator RooIntegrator1D to calculate Int(D0_cosHel_0)\n",
      "[#0] WARNING:Optimization -- RooAbsOptTestStatistic::optimizeConstantTerms(nll_extended_model_data_GOF8) WARNING Cache-and-track optimization (Optimize level 2) is only available for datasets implement in terms of RooVectorDataStore - ignoring this option for current dataset\n",
      "[#0] WARNING:Optimization -- RooAbsOptTestStatistic::optimizeConstantTerms(nll_extended_model_data_GOF10) WARNING Cache-and-track optimization (Optimize level 2) is only available for datasets implement in terms of RooVectorDataStore - ignoring this option for current dataset\n",
      "[#1] INFO:Minimization --  The following expressions have been identified as constant and will be precalculated and cached: (sig_model,bkg1_xy_model,x_bkg2_1,x_bkg2_2,y_bkg2_model,y_bkg3_model)\n",
      "[#1] INFO:NumericIntegration -- RooRealIntegral::init(y_sig_model_Int[D0_cosHel_0]) using numeric integrator RooIntegrator1D to calculate Int(D0_cosHel_0)\n",
      "[#1] INFO:NumericIntegration -- RooRealIntegral::init(y_bkg1_model_Int[D0_cosHel_0]) using numeric integrator RooIntegrator1D to calculate Int(D0_cosHel_0)\n",
      "[#0] WARNING:Optimization -- RooAbsOptTestStatistic::optimizeConstantTerms(nll_extended_model_data_GOF11) WARNING Cache-and-track optimization (Optimize level 2) is only available for datasets implement in terms of RooVectorDataStore - ignoring this option for current dataset\n",
      "[#1] INFO:Minimization --  The following expressions have been identified as constant and will be precalculated and cached: (sig_model,bkg1_xy_model,x_bkg2_1,x_bkg2_2,y_bkg2_model,y_bkg3_model)\n",
      "[#1] INFO:Minimization --  The following expressions have been identified as constant and will be precalculated and cached: (sig_model,bkg1_xy_model,x_bkg2_1,x_bkg2_2,y_bkg2_model,y_bkg3_model)\n",
      "[#1] INFO:Minimization --  The following expressions have been identified as constant and will be precalculated and cached: (sig_model,bkg1_xy_model,x_bkg2_1,x_bkg2_2,y_bkg2_model,y_bkg3_model)\n",
      "[#1] INFO:Minimization --  The following expressions have been identified as constant and will be precalculated and cached: (sig_model,bkg1_xy_model,x_bkg2_1,x_bkg2_2,y_bkg2_model,y_bkg3_model)\n",
      "[#1] INFO:Minimization --  The following expressions have been identified as constant and will be precalculated and cached: (sig_model,bkg1_xy_model,x_bkg2_1,x_bkg2_2,y_bkg2_model,y_bkg3_model)\n",
      "[#1] INFO:Minimization --  The following expressions have been identified as constant and will be precalculated and cached: (sig_model,bkg1_xy_model,x_bkg2_1,x_bkg2_2,y_bkg2_model,y_bkg3_model)\n",
      "[#1] INFO:Minimization --  The following expressions have been identified as constant and will be precalculated and cached: (sig_model,bkg1_xy_model,x_bkg2_1,x_bkg2_2,y_bkg2_model,y_bkg3_model)\n",
      "[#1] INFO:Minimization --  The following expressions have been identified as constant and will be precalculated and cached: (sig_model,bkg1_xy_model,x_bkg2_1,x_bkg2_2,y_bkg2_model,y_bkg3_model)\n",
      "[#1] INFO:Minimization --  The following expressions have been identified as constant and will be precalculated and cached: (sig_model,bkg1_xy_model,x_bkg2_1,x_bkg2_2,y_bkg2_model,y_bkg3_model)\n",
      "[#1] INFO:Minimization --  The following expressions have been identified as constant and will be precalculated and cached: (sig_model,bkg1_xy_model,x_bkg2_1,x_bkg2_2,y_bkg2_model,y_bkg3_model)\n",
      "[#1] INFO:Minimization --  The following expressions have been identified as constant and will be precalculated and cached: (sig_model,bkg1_xy_model,x_bkg2_1,x_bkg2_2,y_bkg2_model,y_bkg3_model)\n",
      "[#1] INFO:Minimization -- RooAbsMinimizerFcn::setOptimizeConst: deactivating const optimization\n",
      "\n",
      "  RooFitResult: minimized FCN value: -16084.5, estimated distance to minimum: 2.30865e-07\n",
      "                covariance matrix quality: Full, accurate covariance matrix\n",
      "                Status : MINIMIZE=0 HESSE=0 \n",
      "\n",
      "    Floating Parameter    FinalValue +/-  Error   \n",
      "  --------------------  --------------------------\n",
      "                 nbkg1    1.1841e+03 +/-  5.21e+01\n",
      "                 nbkg2    7.6789e+01 +/-  1.14e+02\n",
      "                 nbkg3    5.7508e+02 +/-  9.98e+01\n",
      "                  nsig    2.8678e+02 +/-  2.46e+01\n",
      "           x_bkg2_frac    9.9992e-01 +/-  6.26e-01\n",
      "            x_bkg3_tau   -2.3974e+00 +/-  7.44e-01\n",
      "\n",
      "[#1] INFO:InputArguments -- RooAbsData::plotOn(data) INFO: dataset has non-integer weights, auto-selecting SumW2 errors instead of Poisson errors\n",
      "[#1] INFO:Plotting -- RooAbsPdf::plotOn(extended_model) directly selected PDF components: (x_sig_model)\n",
      "[#1] INFO:Plotting -- RooAbsPdf::plotOn(extended_model) indirectly selected PDF components: (x_sig_sig1,x_sig_sig2,sig_model)\n",
      "[#1] INFO:Plotting -- RooAbsReal::plotOn(extended_model) plot on D0_M integrates over variables (D0_cosHel_0)\n",
      "[#1] INFO:NumericIntegration -- RooRealIntegral::init(y_sig_model_Int[D0_cosHel_0]) using numeric integrator RooIntegrator1D to calculate Int(D0_cosHel_0)\n",
      "[#1] INFO:NumericIntegration -- RooRealIntegral::init(y_bkg1_model_Int[D0_cosHel_0]) using numeric integrator RooIntegrator1D to calculate Int(D0_cosHel_0)\n",
      "[#1] INFO:Plotting -- RooAbsPdf::plotOn(extended_model) directly selected PDF components: (x_bkg1_model)\n",
      "[#1] INFO:Plotting -- RooAbsPdf::plotOn(extended_model) indirectly selected PDF components: (bkg1_xy_model)\n",
      "[#1] INFO:Plotting -- RooAbsReal::plotOn(extended_model) plot on D0_M integrates over variables (D0_cosHel_0)\n",
      "[#1] INFO:NumericIntegration -- RooRealIntegral::init(y_bkg1_model_Int[D0_cosHel_0]) using numeric integrator RooIntegrator1D to calculate Int(D0_cosHel_0)\n",
      "[#1] INFO:Plotting -- RooAbsPdf::plotOn(extended_model) directly selected PDF components: (x_bkg2_model)\n",
      "[#1] INFO:Plotting -- RooAbsPdf::plotOn(extended_model) indirectly selected PDF components: (x_bkg2_1,x_bkg2_2,bkg2_xy_model)\n",
      "[#1] INFO:Plotting -- RooAbsReal::plotOn(extended_model) plot on D0_M integrates over variables (D0_cosHel_0)\n",
      "[#1] INFO:NumericIntegration -- RooRealIntegral::init(y_bkg1_model_Int[D0_cosHel_0]) using numeric integrator RooIntegrator1D to calculate Int(D0_cosHel_0)\n",
      "[#1] INFO:Plotting -- RooAbsPdf::plotOn(extended_model) directly selected PDF components: (x_bkg3_model)\n",
      "[#1] INFO:Plotting -- RooAbsPdf::plotOn(extended_model) indirectly selected PDF components: (bkg3_xy_model)\n",
      "[#1] INFO:Plotting -- RooAbsReal::plotOn(extended_model) plot on D0_M integrates over variables (D0_cosHel_0)\n",
      "[#1] INFO:NumericIntegration -- RooRealIntegral::init(y_bkg1_model_Int[D0_cosHel_0]) using numeric integrator RooIntegrator1D to calculate Int(D0_cosHel_0)\n",
      "[#1] INFO:Plotting -- RooAbsReal::plotOn(extended_model) plot on D0_M integrates over variables (D0_cosHel_0)\n",
      "[#1] INFO:NumericIntegration -- RooRealIntegral::init(y_sig_model_Int[D0_cosHel_0]) using numeric integrator RooIntegrator1D to calculate Int(D0_cosHel_0)\n",
      "[#1] INFO:NumericIntegration -- RooRealIntegral::init(y_bkg1_model_Int[D0_cosHel_0]) using numeric integrator RooIntegrator1D to calculate Int(D0_cosHel_0)\n",
      "[#1] INFO:Plotting -- RooAbsPdf::plotOn(extended_model) directly selected PDF components: (y_sig_model)\n",
      "[#1] INFO:Plotting -- RooAbsPdf::plotOn(extended_model) indirectly selected PDF components: (sig_model)\n",
      "[#1] INFO:Plotting -- RooAbsReal::plotOn(extended_model) plot on D0_cosHel_0 integrates over variables (D0_M)\n",
      "[#1] INFO:NumericIntegration -- RooRealIntegral::init(y_bkg1_model_Int[D0_cosHel_0]) using numeric integrator RooIntegrator1D to calculate Int(D0_cosHel_0)\n",
      "[#1] INFO:NumericIntegration -- RooRealIntegral::init(y_sig_model_Int[D0_cosHel_0]) using numeric integrator RooIntegrator1D to calculate Int(D0_cosHel_0)\n",
      "[#1] INFO:Plotting -- RooAbsPdf::plotOn(extended_model) directly selected PDF components: (y_bkg1_model)\n",
      "[#1] INFO:Plotting -- RooAbsPdf::plotOn(extended_model) indirectly selected PDF components: (bkg1_xy_model)\n",
      "[#1] INFO:Plotting -- RooAbsReal::plotOn(extended_model) plot on D0_cosHel_0 integrates over variables (D0_M)\n",
      "[#1] INFO:NumericIntegration -- RooRealIntegral::init(y_bkg1_model_Int[D0_cosHel_0]) using numeric integrator RooIntegrator1D to calculate Int(D0_cosHel_0)\n",
      "[#1] INFO:NumericIntegration -- RooRealIntegral::init(y_sig_model_Int[D0_cosHel_0]) using numeric integrator RooIntegrator1D to calculate Int(D0_cosHel_0)\n",
      "[#1] INFO:Plotting -- RooAbsPdf::plotOn(extended_model) directly selected PDF components: (y_bkg2_model)\n",
      "[#1] INFO:Plotting -- RooAbsPdf::plotOn(extended_model) indirectly selected PDF components: (bkg2_xy_model)\n",
      "[#1] INFO:Plotting -- RooAbsReal::plotOn(extended_model) plot on D0_cosHel_0 integrates over variables (D0_M)\n",
      "[#1] INFO:NumericIntegration -- RooRealIntegral::init(y_bkg1_model_Int[D0_cosHel_0]) using numeric integrator RooIntegrator1D to calculate Int(D0_cosHel_0)\n",
      "[#1] INFO:NumericIntegration -- RooRealIntegral::init(y_sig_model_Int[D0_cosHel_0]) using numeric integrator RooIntegrator1D to calculate Int(D0_cosHel_0)\n",
      "[#1] INFO:Plotting -- RooAbsPdf::plotOn(extended_model) directly selected PDF components: (y_bkg3_model)\n",
      "[#1] INFO:Plotting -- RooAbsPdf::plotOn(extended_model) indirectly selected PDF components: (bkg3_xy_model)\n",
      "[#1] INFO:Plotting -- RooAbsReal::plotOn(extended_model) plot on D0_cosHel_0 integrates over variables (D0_M)\n",
      "[#1] INFO:NumericIntegration -- RooRealIntegral::init(y_bkg1_model_Int[D0_cosHel_0]) using numeric integrator RooIntegrator1D to calculate Int(D0_cosHel_0)\n",
      "[#1] INFO:NumericIntegration -- RooRealIntegral::init(y_sig_model_Int[D0_cosHel_0]) using numeric integrator RooIntegrator1D to calculate Int(D0_cosHel_0)\n",
      "[#1] INFO:Plotting -- RooAbsReal::plotOn(extended_model) plot on D0_cosHel_0 integrates over variables (D0_M)\n",
      "[#1] INFO:NumericIntegration -- RooRealIntegral::init(y_sig_model_Int[D0_cosHel_0]) using numeric integrator RooIntegrator1D to calculate Int(D0_cosHel_0)\n",
      "[#1] INFO:NumericIntegration -- RooRealIntegral::init(y_bkg1_model_Int[D0_cosHel_0]) using numeric integrator RooIntegrator1D to calculate Int(D0_cosHel_0)\n"
     ]
    },
    {
     "name": "stderr",
     "output_type": "stream",
     "text": [
      "cling::DynamicLibraryManager::loadLibrary(): libgsl.so.25: cannot open shared object file: No such file or directory\n",
      "Info in <TCanvas::Print>: png file /media/jykim/T7/saved_plots/fitting/results/phigamma/2d_fit/mc15rd_4S_D0M.png has been created\n",
      "Warning in <TCanvas::Constructor>: Deleting canvas with same name: Canvas\n",
      "Info in <TCanvas::Print>: png file /media/jykim/T7/saved_plots/fitting/results/phigamma/2d_fit/mc15rd_4S_cosHel.png has been created\n"
     ]
    },
    {
     "data": {
      "image/png": "[encoded data removed]",
      "text/plain": [
       "<IPython.core.display.Image object>"
      ]
     },
     "metadata": {},
     "output_type": "display_data"
    }
   ],
   "source": [
    "canv = ROOT.TCanvas(\"Canvas\", \"Canvas\", 700, 640)\n",
    "\n",
    "xlow = ctypes.c_double()\n",
    "ylow = ctypes.c_double()\n",
    "xup = ctypes.c_double()\n",
    "yup = ctypes.c_double()\n",
    "\n",
    "canv.GetPad(0).GetPadPar(xlow, ylow, xup, yup)\n",
    "canv.Divide(1,2)\n",
    "\n",
    "xlow = xlow.value\n",
    "ylow = ylow.value\n",
    "xup = xup.value\n",
    "yup = yup.value\n",
    "\n",
    "upPad = canv.GetPad(1)\n",
    "upPad.SetPad(xlow, ylow+0.25*(yup-ylow),xup,yup)\n",
    "\n",
    "dwPad = canv.GetPad(2)\n",
    "dwPad.SetPad(xlow, ylow,xup,ylow+0.25*(yup-ylow))\n",
    "\n",
    "    # r = sig.fitTo(data,NumCPU=12, Range=(1.84,1.89))\n",
    "# r = sig_xy_model.fitTo(data,NumCPU=12, Range=(1.70,1.98))\n",
    "# r = extended_model.fitTo(data,NumCPU=12, Extended=ROOT.kTRUE)\n",
    "r = extended_model.fitTo(data,NumCPU=12, Extended=ROOT.kTRUE,PrintLevel=-1, Save=1)\n",
    "\n",
    "\n",
    "r.Print()\n",
    "canv.cd(1) \n",
    "#     frame = x.frame(Title=\"D^{0} #rightarrow #bar{K}^{*0} #pi^{0}\")\n",
    "frame = x.frame(Title=\" \")\n",
    "\n",
    "data.plotOn(frame,Name = \"data1\", XErrorSize=0)\n",
    "\n",
    "# sig_xy_model.plotOn(frame,Components=mass_sig, ProjWData=data, Name=\"fitting\")\n",
    "extended_model.plotOn(frame, Name=\"fitx_sig\", Components=x_sig_model, LineStyle=ROOT.kDashed, LineColor='r')\n",
    "# extended_model.plotOn(frame, Name=\"fitx_bkg\", Components=ROOT.RooArgSet(x_bkg1_model,x_bkg2_model), LineStyle=ROOT.kDashed, LineColor=ROOT.kGreen+2)\n",
    "extended_model.plotOn(frame, Name=\"fitx_bkg1\", Components=x_bkg1_model, LineStyle=ROOT.kDashed, LineColor=593)\n",
    "extended_model.plotOn(frame, Name=\"fitx_bkg2\", Components=x_bkg2_model, LineStyle=ROOT.kDashed, LineColor=ROOT.kGreen+2)\n",
    "extended_model.plotOn(frame, Name=\"fitx_bkg3\", Components=x_bkg3_model, LineStyle=ROOT.kDashed, LineColor=ROOT.kGreen+10)\n",
    "\n",
    "\n",
    "\n",
    "# extended_model.plotOn(frame, Name=\"fitx1\", Components=x_bkg2_model, LineStyle=ROOT.kDashed, LineColor=593)\n",
    "\n",
    "# extended_model.plotOn(frame, Name=\"fitx2\", Components=x_sig_3, LineStyle=ROOT.kDashed, LineColor='r')\n",
    "#sig_xy_model.plotOn(frame, Name=\"fitx3\", Components=sig3, LineStyle=ROOT.kDashed, LineColor=593)\n",
    "\n",
    "extended_model.plotOn(frame,Name=\"fitting\")\n",
    "frame.Draw(\"PE\")\n",
    "\n",
    "    # sig.paramOn(frame)\n",
    "frame.GetXaxis().CenterTitle(True)\n",
    "\n",
    "    \n",
    "\n",
    "leg1 = ROOT.TLegend(0.62, 0.65, 0.92, 0.9)\n",
    "# leg1.SetFillColor(ROOT.kWhite)\n",
    "leg1.SetFillColor(0)\n",
    "\n",
    "    # leg1.SetHeader(\"The Legend title\",\"C\")\n",
    "leg1.AddEntry(\"data1\", \"MC\", \"PE\")\n",
    "leg1.AddEntry(\"fitting\", \"Fit\", \"l\")\n",
    "leg1.AddEntry(\"fitx_sig\", \"Signal\", \"l\")\n",
    "leg1.AddEntry(\"fitx_bkg1\", \"D^{0}#rightarrow(#phi#rightarrowK^{-}K^{+})#pi^{0}\", \"l\")\n",
    "leg1.AddEntry(\"fitx_bkg2\", \"D^{0}#rightarrow(#phi#rightarrowK^{-}K^{+})X\", \"l\")\n",
    "leg1.AddEntry(\"fitx_bkg3\", \"Combinatorial bkg\", \"l\")\n",
    "# leg1.AddEntry(\"fitx_bkg3\", \"bkg3\", \"l\")\n",
    "\n",
    "# leg1.SetTextSize(0.05)\n",
    "# leg1.SetTextAlign(13)\n",
    "\n",
    "leg1.SetBorderSize(0)\n",
    "leg1.Draw()\n",
    "\n",
    "hpull = frame.pullHist()\n",
    "hpull.SetFillStyle(1001)\n",
    "hpull.SetFillColor(1);\n",
    "for i in range(0,hpull.GetN()):#(int i=0;i<hpull.GetN();++i): \n",
    "    hpull.SetPointError(i,0.0,0.0,0.0,0.0)\n",
    "    # pullplot = x.frame(Title(\" \"))\n",
    "pullplot = x.frame()\n",
    "pullplot.SetTitle(\"\")\n",
    "pullplot.addPlotable(hpull,\"BE\")\n",
    "    # pullplot.addPlotable(hpull,\"PE\")\n",
    "\n",
    "pullplot.SetYTitle(\"Pull\")\n",
    "pullplot.GetXaxis().SetTitleSize(0)\n",
    "pullplot.GetYaxis().SetTitleSize(0.22)\n",
    "pullplot.GetYaxis().CenterTitle(True)\n",
    "pullplot.GetYaxis().SetTitleOffset(0.2)\n",
    "pullplot.SetMinimum(-4.)\n",
    "pullplot.SetMaximum(4.)\n",
    "pullplot.GetXaxis().SetLabelSize(0.15)\n",
    "pullplot.GetYaxis().SetLabelSize(0.105)\n",
    "canv.cd(2)\n",
    "pullplot.Draw()\n",
    "\n",
    "xmin1 = ctypes.c_double(1.68)\n",
    "xmax1 = ctypes.c_double(2.05)\n",
    "    # xmin1 = 0.1\n",
    "    # xmax1 = 0.18\n",
    "line = ROOT.TLine(xmin1,0.0,xmax1,0.0)\n",
    "line1 = ROOT.TLine(xmin1,3.0,xmax1,3.0)\n",
    "line2 = ROOT.TLine(xmin1,-3.0,xmax1,-3.0)\n",
    "\n",
    "line.SetLineColor(ROOT.kGray+1)\n",
    "line.SetLineWidth(3)\n",
    "line1.SetLineColor(ROOT.kBlack)\n",
    "line2.SetLineColor(ROOT.kGray+1)\n",
    "line1.SetLineStyle(2)\n",
    "line2.SetLineStyle(2)\n",
    "line.Draw(\"SAME\")\n",
    "line1.Draw(\"SAME\")\n",
    "line2.Draw(\"SAME\")\n",
    "\n",
    "canv.Update()\n",
    "\n",
    "canv.Draw()\n",
    "canv.SaveAs(file1_name)\n",
    "\n",
    "#######################################\n",
    "canv2 = ROOT.TCanvas(\"Canvas\", \"Canvas\", 700, 640)\n",
    "# canv2.cd()\n",
    "y_xlow = ctypes.c_double()\n",
    "y_ylow = ctypes.c_double()\n",
    "y_xup = ctypes.c_double()\n",
    "y_yup = ctypes.c_double()\n",
    "\n",
    "canv2.GetPad(0).GetPadPar(y_xlow, y_ylow, y_xup, y_yup)\n",
    "canv2.Divide(1,2)\n",
    "\n",
    "y_xlow = y_xlow.value\n",
    "y_ylow = y_ylow.value\n",
    "y_xup = y_xup.value\n",
    "y_yup = y_yup.value\n",
    "\n",
    "y_upPad = canv2.GetPad(1)\n",
    "y_upPad.SetPad(y_xlow, y_ylow+0.25*(y_yup-y_ylow),y_xup,y_yup)\n",
    "\n",
    "y_dwPad = canv2.GetPad(2)\n",
    "y_dwPad.SetPad(y_xlow, y_ylow,y_xup,y_ylow+0.25*(y_yup-y_ylow))\n",
    "\n",
    "\n",
    "yframe = y.frame(Title=\" \")\n",
    "canv2.cd(1) \n",
    "data.plotOn(yframe,Name = \"data2\", XErrorSize=0, DataError=ROOT.RooAbsData.SumW2)\n",
    "\n",
    "    # sig1.plotOn(frame, LineStyle=\"--\", LineColor=\"r\")\n",
    "    # sig2.plotOn(frame, LineStyle=\"--\", LineColor=\"r\")\n",
    "# sig.plotOn(frame, Name=\"gauss1\", Components=sig1, LineStyle=ROOT.kDashed, LineColor=593)\n",
    "# sig.plotOn(frame, Name=\"CB1\", Components=sig2, LineStyle=ROOT.kDashed, LineColor=593)\n",
    "# sig.plotOn(frame, Name=\"CB2\", Components=sig3, LineStyle=ROOT.kDashed, LineColor=593)\n",
    "\n",
    "# sig_xy_model.plotOn(frame,Components=mass_sig, ProjWData=data, Name=\"fitting\")\n",
    "\n",
    "extended_model.plotOn(yframe, Name=\"fity_sig\", Components=y_sig_model, LineStyle=ROOT.kDashed, LineColor='r')\n",
    "extended_model.plotOn(yframe, Name=\"fity_bkg1\", Components=ROOT.RooArgSet(y_bkg1_model), LineStyle=ROOT.kDashed, LineColor=593)\n",
    "extended_model.plotOn(yframe, Name=\"fity_bkg2\", Components=ROOT.RooArgSet(y_bkg2_model), LineStyle=ROOT.kDashed, LineColor=ROOT.kGreen+2)\n",
    "extended_model.plotOn(yframe, Name=\"fity_bkg3\", Components=ROOT.RooArgSet(y_bkg3_model), LineStyle=ROOT.kDashed, LineColor=ROOT.kGreen+10)\n",
    "\n",
    "# extended_model.plotOn(yframe, Name=\"fity_bkg\", Components=ROOT.RooArgSet(y_bkg1_model,y_bkg2_model), LineStyle=ROOT.kDashed, LineColor=ROOT.kGreen+2)\n",
    "# extended_model.plotOn(yframe, Name=\"fity_bkg\", Components=ROOT.RooArgSet(y_bkg1_model,y_bkg2_model,y_bkg3_model), LineStyle=ROOT.kDashed, LineColor=593)\n",
    "\n",
    "#sig_xy_model.plotOn(yframe, Name=\"fit3\", Components=sigy3, LineStyle=ROOT.kDashed, LineColor=593)\n",
    "\n",
    "\n",
    "\n",
    "extended_model.plotOn(yframe,Name=\"fitting2\")\n",
    "\n",
    "\n",
    "\n",
    "yframe.Draw(\"PE\")\n",
    "\n",
    "    # sig.paramOn(frame)\n",
    "yframe.GetXaxis().CenterTitle(True)\n",
    "\n",
    "    \n",
    "\n",
    "\n",
    "y_leg1 = ROOT.TLegend(0.52, 0.65, 0.82, 0.9)\n",
    "# y_leg1.SetFillColor(ROOT.kWhite)\n",
    "y_leg1.SetFillColor(0)\n",
    "\n",
    "    # leg1.SetHeader(\"The Legend title\",\"C\")\n",
    "y_leg1.AddEntry(\"data2\", \"MC\", \"PE\")\n",
    "y_leg1.AddEntry(\"fitting2\", \"Fit\", \"l\")\n",
    "y_leg1.AddEntry(\"fity_sig\", \"Signal\", \"l\")\n",
    "y_leg1.AddEntry(\"fity_bkg1\", \"D^{0}#rightarrow(#phi#rightarrowK^{-}K^{+})#pi^{0}\", \"l\")\n",
    "y_leg1.AddEntry(\"fity_bkg2\", \"D^{0}#rightarrow(#phi#rightarrowK^{-}K^{+})X\", \"l\")\n",
    "y_leg1.AddEntry(\"fity_bkg3\", \"Combinatorial bkg\", \"l\")\n",
    "\n",
    "\n",
    "\n",
    "y_leg1.SetBorderSize(0)\n",
    "\n",
    "y_leg1.Draw()\n",
    "\n",
    "y_hpull = yframe.pullHist()\n",
    "y_hpull.SetFillStyle(1001)\n",
    "y_hpull.SetFillColor(1);\n",
    "for i in range(0,y_hpull.GetN()):#(int i=0;i<hpull.GetN();++i): \n",
    "    y_hpull.SetPointError(i,0.0,0.0,0.0,0.0)\n",
    "    # pullplot = x.frame(Title(\" \"))\n",
    "y_pullplot = y.frame()\n",
    "y_pullplot.SetTitle(\"\")\n",
    "y_pullplot.addPlotable(y_hpull,\"BE\")\n",
    "    # pullplot.addPlotable(hpull,\"PE\")\n",
    "    \n",
    "y_pullplot.SetYTitle(\"Pull\")\n",
    "y_pullplot.GetXaxis().SetTitleSize(0)\n",
    "y_pullplot.GetYaxis().SetTitleSize(0.22)\n",
    "y_pullplot.GetYaxis().CenterTitle(True)\n",
    "y_pullplot.GetYaxis().SetTitleOffset(0.2)\n",
    "y_pullplot.SetMinimum(-4.)\n",
    "y_pullplot.SetMaximum(4.)\n",
    "y_pullplot.GetXaxis().SetLabelSize(0.15)\n",
    "y_pullplot.GetYaxis().SetLabelSize(0.105)\n",
    "canv2.cd(2)\n",
    "y_pullplot.Draw()\n",
    "\n",
    "y_xmin1 = ctypes.c_double(-1)\n",
    "y_xmax1 = ctypes.c_double(1)\n",
    "y_line = ROOT.TLine(y_xmin1,0.0,y_xmax1,0.0)\n",
    "y_line1 = ROOT.TLine(y_xmin1,3.0,y_xmax1,3.0)\n",
    "y_line2 = ROOT.TLine(y_xmin1,-3.0,y_xmax1,-3.0)\n",
    "\n",
    "y_line.SetLineColor(ROOT.kGray+1)\n",
    "y_line.SetLineWidth(3)\n",
    "y_line1.SetLineColor(ROOT.kBlack)\n",
    "y_line2.SetLineColor(ROOT.kGray+1)\n",
    "y_line1.SetLineStyle(2)\n",
    "y_line2.SetLineStyle(2)\n",
    "y_line.Draw(\"SAME\")\n",
    "y_line1.Draw(\"SAME\")\n",
    "y_line2.Draw(\"SAME\")\n",
    "\n",
    "canv2.Update()\n",
    "\n",
    "canv2.Draw()\n",
    "canv2.SaveAs(file2_name)"
   ]
  },
  {
   "cell_type": "code",
   "execution_count": 32,
   "id": "42ad3223-8a9c-45f6-847c-a23446900991",
   "metadata": {},
   "outputs": [
    {
     "data": {
      "image/png": "[encoded data removed]",
      "text/plain": [
       "<IPython.core.display.Image object>"
      ]
     },
     "execution_count": 32,
     "metadata": {},
     "output_type": "execute_result"
    }
   ],
   "source": [
    "from IPython.display import Image\n",
    "# Image(\"test2_x_D0.png\")\n",
    "Image(file1_name)"
   ]
  },
  {
   "cell_type": "code",
   "execution_count": 33,
   "id": "463a1111-67dc-483d-a468-a613970c856a",
   "metadata": {},
   "outputs": [
    {
     "data": {
      "image/png": "[encoded data removed]",
      "text/plain": [
       "<IPython.core.display.Image object>"
      ]
     },
     "execution_count": 33,
     "metadata": {},
     "output_type": "execute_result"
    }
   ],
   "source": [
    "from IPython.display import Image\n",
    "# Image(\"test2_x_D0.png\")\n",
    "Image(file2_name)"
   ]
  },
  {
   "cell_type": "markdown",
   "id": "967eafba-8142-41b4-8cb8-dfde27ceabff",
   "metadata": {},
   "source": [
    "# Fit results "
   ]
  },
  {
   "cell_type": "code",
   "execution_count": 34,
   "id": "196df241-da5b-4acf-8c13-8065fc371a96",
   "metadata": {},
   "outputs": [
    {
     "name": "stdout",
     "output_type": "stream",
     "text": [
      "0x56105aef4550 RooAddPdf::extended_model = 0.132972 [Auto,Dirty] \n",
      "  0x56105af1af50/V- RooProdPdf::sig_model = 0.966086 [Auto,Dirty] \n",
      "  RooProdPdf begin partial integral cache\n",
      "  [0]0x56105ae20420 RooAddPdf::x_sig_model = 0.966086 [Auto,Dirty] \n",
      "  [0]  0x56105aad6f40/V- RooGaussian::x_sig_sig1 = 0.959085 [Auto,Dirty] \n",
      "  [0]    0x561046c14750/V- RooRealVar::D0_M = 1.865\n",
      "  [0]    0x5610494008c0/V- RooRealVar::x_sig_mean = 1.86124\n",
      "  [0]    0x56104940ce30/V- RooRealVar::x_sig_sigma1 = 0.013007\n",
      "  [0]  0x5610493f7270/V- RooRealVar::x_sig_sig1frac = 0.598328\n",
      "  [0]  0x56105aa2bb20/V- RooCBShape::x_sig_sig2 = 0.976513 [Auto,Dirty] \n",
      "  [0]    0x561046c14750/V- RooRealVar::D0_M = 1.865\n",
      "  [0]    0x5610494008c0/V- RooRealVar::x_sig_mean = 1.86124\n",
      "  [0]    0x56104940c880/V- RooRealVar::x_sig_sigma2 = 0.0172444\n",
      "  [0]    0x56105a8f7610/V- RooRealVar::x_sig_alpha = 0.667983\n",
      "  [0]    0x56105a8e9760/V- RooRealVar::x_sig_n_CB = 19.9998\n",
      "  [0]0x56105adefa00 MyPdf_one_minus_squared::y_sig_model = 1 [Auto,Dirty] \n",
      "  [0]  0x561046bc5d00/V- RooRealVar::D0_cosHel_0 = 0\n",
      "  [1]0x56105ae20420 RooAddPdf::x_sig_model = 0.966086 [Auto,Dirty] \n",
      "  [1]  0x56105aad6f40/V- RooGaussian::x_sig_sig1 = 0.959085 [Auto,Dirty] \n",
      "  [1]    0x561046c14750/V- RooRealVar::D0_M = 1.865\n",
      "  [1]    0x5610494008c0/V- RooRealVar::x_sig_mean = 1.86124\n",
      "  [1]    0x56104940ce30/V- RooRealVar::x_sig_sigma1 = 0.013007\n",
      "  [1]  0x5610493f7270/V- RooRealVar::x_sig_sig1frac = 0.598328\n",
      "  [1]  0x56105aa2bb20/V- RooCBShape::x_sig_sig2 = 0.976513 [Auto,Dirty] \n",
      "  [1]    0x561046c14750/V- RooRealVar::D0_M = 1.865\n",
      "  [1]    0x5610494008c0/V- RooRealVar::x_sig_mean = 1.86124\n",
      "  [1]    0x56104940c880/V- RooRealVar::x_sig_sigma2 = 0.0172444\n",
      "  [1]    0x56105a8f7610/V- RooRealVar::x_sig_alpha = 0.667983\n",
      "  [1]    0x56105a8e9760/V- RooRealVar::x_sig_n_CB = 19.9998\n",
      "  [1]0x56105adefa00 MyPdf_one_minus_squared::y_sig_model = 1 [Auto,Dirty] \n",
      "  [1]  0x561046bc5d00/V- RooRealVar::D0_cosHel_0 = 0\n",
      "  RooProdPdf end partial integral cache\n",
      "    0x56105ae20420/V- RooAddPdf::x_sig_model = 0.966086 [Auto,Dirty] \n",
      "      0x56105aad6f40/V- RooGaussian::x_sig_sig1 = 0.959085 [Auto,Dirty] \n",
      "        0x561046c14750/V- RooRealVar::D0_M = 1.865\n",
      "        0x5610494008c0/V- RooRealVar::x_sig_mean = 1.86124\n",
      "        0x56104940ce30/V- RooRealVar::x_sig_sigma1 = 0.013007\n",
      "      0x5610493f7270/V- RooRealVar::x_sig_sig1frac = 0.598328\n",
      "      0x56105aa2bb20/V- RooCBShape::x_sig_sig2 = 0.976513 [Auto,Dirty] \n",
      "        0x561046c14750/V- RooRealVar::D0_M = 1.865\n",
      "        0x5610494008c0/V- RooRealVar::x_sig_mean = 1.86124\n",
      "        0x56104940c880/V- RooRealVar::x_sig_sigma2 = 0.0172444\n",
      "        0x56105a8f7610/V- RooRealVar::x_sig_alpha = 0.667983\n",
      "        0x56105a8e9760/V- RooRealVar::x_sig_n_CB = 19.9998\n",
      "    0x56105adefa00/V- MyPdf_one_minus_squared::y_sig_model = 1 [Auto,Dirty] \n",
      "      0x561046bc5d00/V- RooRealVar::D0_cosHel_0 = 0\n",
      "  0x56105aed3c00/V- RooRealVar::nsig = 286.78 +/- 24.6459\n",
      "  0x56105af07b50/V- RooProdPdf::bkg1_xy_model = 0 [Auto,Dirty] \n",
      "  RooProdPdf begin partial integral cache\n",
      "  [0]0x56105ad6e630 RooCBShape::x_bkg1_model = 0.350563 [Auto,Dirty] \n",
      "  [0]  0x561046c14750/V- RooRealVar::D0_M = 1.865\n",
      "  [0]  0x56105a9cd710/V- RooRealVar::x_bkg1_mean = 1.83749\n",
      "  [0]  0x56105a9e49c0/V- RooRealVar::x_bkg1_sigma2 = 0.0189981\n",
      "  [0]  0x56105a9c7770/V- RooRealVar::x_bkg1_alpha = 0.692307\n",
      "  [0]  0x56105a9b5e30/V- RooRealVar::x_bkg1_n_CB = 2.78863\n",
      "  [0]0x56105a9eca40 MyPdf_xsquared_nopara::y_bkg1_model = 0 [Auto,Dirty] \n",
      "  [0]  0x561046bc5d00/V- RooRealVar::D0_cosHel_0 = 0\n",
      "  [1]0x56105ad6e630 RooCBShape::x_bkg1_model = 0.350563 [Auto,Dirty] \n",
      "  [1]  0x561046c14750/V- RooRealVar::D0_M = 1.865\n",
      "  [1]  0x56105a9cd710/V- RooRealVar::x_bkg1_mean = 1.83749\n",
      "  [1]  0x56105a9e49c0/V- RooRealVar::x_bkg1_sigma2 = 0.0189981\n",
      "  [1]  0x56105a9c7770/V- RooRealVar::x_bkg1_alpha = 0.692307\n",
      "  [1]  0x56105a9b5e30/V- RooRealVar::x_bkg1_n_CB = 2.78863\n",
      "  [1]0x56105a9eca40 MyPdf_xsquared_nopara::y_bkg1_model = 0 [Auto,Dirty] \n",
      "  [1]  0x561046bc5d00/V- RooRealVar::D0_cosHel_0 = 0\n",
      "  RooProdPdf end partial integral cache\n",
      "    0x56105ad6e630/V- RooCBShape::x_bkg1_model = 0.350563 [Auto,Dirty] \n",
      "      0x561046c14750/V- RooRealVar::D0_M = 1.865\n",
      "      0x56105a9cd710/V- RooRealVar::x_bkg1_mean = 1.83749\n",
      "      0x56105a9e49c0/V- RooRealVar::x_bkg1_sigma2 = 0.0189981\n",
      "      0x56105a9c7770/V- RooRealVar::x_bkg1_alpha = 0.692307\n",
      "      0x56105a9b5e30/V- RooRealVar::x_bkg1_n_CB = 2.78863\n",
      "    0x56105a9eca40/V- MyPdf_xsquared_nopara::y_bkg1_model = 0 [Auto,Dirty] \n",
      "      0x561046bc5d00/V- RooRealVar::D0_cosHel_0 = 0\n",
      "  0x56105aedd6c0/V- RooRealVar::nbkg1 = 1184.11 +/- 52.0562\n",
      "  0x56105aed1d60/V- RooProdPdf::bkg2_xy_model = 3.75577e-06 [Auto,Dirty] \n",
      "  RooProdPdf begin partial integral cache\n",
      "  [0]0x56105ad2afc0 RooAddPdf::x_bkg2_model = 1.27613e-05 [Auto,Dirty] \n",
      "  [0]  0x56105ac8ec30/V- RooGaussian::x_bkg2_1 = 1.93284e-09 [Auto,Dirty] \n",
      "  [0]    0x561046c14750/V- RooRealVar::D0_M = 1.865\n",
      "  [0]    0x56105a9f9450/V- RooRealVar::x_bkg2_mean = 1.67496\n",
      "  [0]    0x56105a9d39d0/V- RooRealVar::x_bkg2_sigma = 0.0299998\n",
      "  [0]  0x56105a9eee60/V- RooRealVar::x_bkg2_frac = 0.999915 +/- 0.626376\n",
      "  [0]  0x56105ad5d4f0/V- RooPolynomial::x_bkg2_2 = 0.150912 [Auto,Dirty] \n",
      "  [0]    0x561046c14750/V- RooRealVar::D0_M = 1.865\n",
      "  [0]    0x56105ab0a760/V- RooRealVar::x_bkg2_c0 = -0.455275\n",
      "  [0]0x56105a2b6d80 RooChebychev::y_bkg2_model = 0.294309 [Auto,Dirty] \n",
      "  [0]  0x561046bc5d00/V- RooRealVar::D0_cosHel_0 = 0\n",
      "  [0]  0x56105aa18e00/V- RooRealVar::y_bkg2_c0 = 0.0161549\n",
      "  [0]  0x56105aadd650/V- RooRealVar::y_bkg2_c1 = 0.705691\n",
      "  [1]0x56105ad2afc0 RooAddPdf::x_bkg2_model = 1.27613e-05 [Auto,Dirty] \n",
      "  [1]  0x56105ac8ec30/V- RooGaussian::x_bkg2_1 = 1.93284e-09 [Auto,Dirty] \n",
      "  [1]    0x561046c14750/V- RooRealVar::D0_M = 1.865\n",
      "  [1]    0x56105a9f9450/V- RooRealVar::x_bkg2_mean = 1.67496\n",
      "  [1]    0x56105a9d39d0/V- RooRealVar::x_bkg2_sigma = 0.0299998\n",
      "  [1]  0x56105a9eee60/V- RooRealVar::x_bkg2_frac = 0.999915 +/- 0.626376\n",
      "  [1]  0x56105ad5d4f0/V- RooPolynomial::x_bkg2_2 = 0.150912 [Auto,Dirty] \n",
      "  [1]    0x561046c14750/V- RooRealVar::D0_M = 1.865\n",
      "  [1]    0x56105ab0a760/V- RooRealVar::x_bkg2_c0 = -0.455275\n",
      "  [1]0x56105a2b6d80 RooChebychev::y_bkg2_model = 0.294309 [Auto,Dirty] \n",
      "  [1]  0x561046bc5d00/V- RooRealVar::D0_cosHel_0 = 0\n",
      "  [1]  0x56105aa18e00/V- RooRealVar::y_bkg2_c0 = 0.0161549\n",
      "  [1]  0x56105aadd650/V- RooRealVar::y_bkg2_c1 = 0.705691\n",
      "  RooProdPdf end partial integral cache\n",
      "    0x56105ad2afc0/V- RooAddPdf::x_bkg2_model = 1.27613e-05 [Auto,Dirty] \n",
      "      0x56105ac8ec30/V- RooGaussian::x_bkg2_1 = 1.93284e-09 [Auto,Dirty] \n",
      "        0x561046c14750/V- RooRealVar::D0_M = 1.865\n",
      "        0x56105a9f9450/V- RooRealVar::x_bkg2_mean = 1.67496\n",
      "        0x56105a9d39d0/V- RooRealVar::x_bkg2_sigma = 0.0299998\n",
      "      0x56105a9eee60/V- RooRealVar::x_bkg2_frac = 0.999915 +/- 0.626376\n",
      "      0x56105ad5d4f0/V- RooPolynomial::x_bkg2_2 = 0.150912 [Auto,Dirty] \n",
      "        0x561046c14750/V- RooRealVar::D0_M = 1.865\n",
      "        0x56105ab0a760/V- RooRealVar::x_bkg2_c0 = -0.455275\n",
      "    0x56105a2b6d80/V- RooChebychev::y_bkg2_model = 0.294309 [Auto,Dirty] \n",
      "      0x561046bc5d00/V- RooRealVar::D0_cosHel_0 = 0\n",
      "      0x56105aa18e00/V- RooRealVar::y_bkg2_c0 = 0.0161549\n",
      "      0x56105aadd650/V- RooRealVar::y_bkg2_c1 = 0.705691\n",
      "  0x56105aeb6d60/V- RooRealVar::nbkg2 = 76.7887 +/- 114.42\n",
      "  0x56105af3f260/V- RooProdPdf::bkg3_xy_model = 0.00906661 [Auto,Dirty] \n",
      "  RooProdPdf begin partial integral cache\n",
      "  [0]0x56105a2a4c60 RooExponential::x_bkg3_model = 0.0114352 [Auto,Dirty] \n",
      "  [0]  0x561046c14750/V- RooRealVar::D0_M = 1.865\n",
      "  [0]  0x56105aaf3370/V- RooRealVar::x_bkg3_tau = -2.39735 +/- 0.743625\n",
      "  [0]0x56105ae13a50 RooChebychev::y_bkg3_model = 0.792872 [Auto,Dirty] \n",
      "  [0]  0x561046bc5d00/V- RooRealVar::D0_cosHel_0 = 0\n",
      "  [0]  0x56105a9afb50/V- RooRealVar::y_bkg3_c0 = 0.0470405\n",
      "  [0]  0x56105ab05ca0/V- RooRealVar::y_bkg3_c1 = 0.207128\n",
      "  [1]0x56105a2a4c60 RooExponential::x_bkg3_model = 0.0114352 [Auto,Dirty] \n",
      "  [1]  0x561046c14750/V- RooRealVar::D0_M = 1.865\n",
      "  [1]  0x56105aaf3370/V- RooRealVar::x_bkg3_tau = -2.39735 +/- 0.743625\n",
      "  [1]0x56105ae13a50 RooChebychev::y_bkg3_model = 0.792872 [Auto,Dirty] \n",
      "  [1]  0x561046bc5d00/V- RooRealVar::D0_cosHel_0 = 0\n",
      "  [1]  0x56105a9afb50/V- RooRealVar::y_bkg3_c0 = 0.0470405\n",
      "  [1]  0x56105ab05ca0/V- RooRealVar::y_bkg3_c1 = 0.207128\n",
      "  RooProdPdf end partial integral cache\n",
      "    0x56105a2a4c60/V- RooExponential::x_bkg3_model = 0.0114352 [Auto,Dirty] \n",
      "      0x561046c14750/V- RooRealVar::D0_M = 1.865\n",
      "      0x56105aaf3370/V- RooRealVar::x_bkg3_tau = -2.39735 +/- 0.743625\n",
      "    0x56105ae13a50/V- RooChebychev::y_bkg3_model = 0.792872 [Auto,Dirty] \n",
      "      0x561046bc5d00/V- RooRealVar::D0_cosHel_0 = 0\n",
      "      0x56105a9afb50/V- RooRealVar::y_bkg3_c0 = 0.0470405\n",
      "      0x56105ab05ca0/V- RooRealVar::y_bkg3_c1 = 0.207128\n",
      "  0x56105af4f220/V- RooRealVar::nbkg3 = 575.083 +/- 99.8181\n"
     ]
    }
   ],
   "source": [
    "extended_model.Print(\"t\")\n"
   ]
  },
  {
   "cell_type": "code",
   "execution_count": 35,
   "id": "3df5e765-7aee-4c41-9821-a4d9ec3224b6",
   "metadata": {},
   "outputs": [
    {
     "name": "stdout",
     "output_type": "stream",
     "text": [
      "RooRealVar::nsig = 286.78 +/- 24.6459  L(0 - 1061.38) \n",
      "\n",
      "RooRealVar::nbkg1 = 1184.11 +/- 52.0562  L(0 - 2122.75) \n",
      "\n",
      "RooRealVar::nbkg2 = 76.7887 +/- 114.42  L(0 - 1061.38) \n",
      "\n",
      "RooRealVar::nbkg3 = 575.083 +/- 99.8181  L(0 - 1061.38) \n",
      "\n"
     ]
    }
   ],
   "source": [
    "# extended_model.Print(\"t\")\n",
    "print(nsig)\n",
    "print(nbkg1)\n",
    "print(nbkg2)\n",
    "print(nbkg3)"
   ]
  },
  {
   "cell_type": "code",
   "execution_count": 36,
   "id": "7f9c2f36-dd05-4cac-805c-0f0410c164f2",
   "metadata": {},
   "outputs": [],
   "source": [
    "base_file_loc =  '/media/jykim/T7_2/storage/Ntuples_ghi_2/MC15rd/MC15rd_Vg_preext_maxFBDT_2ndFBDT/'\n",
    "topo_file_D0 = '/media/jykim/T7_2/storage/Ntuples_ghi_2/MC15rd/MC15rd_Vg_sigext_maxFBDT_2ndFBDT/' + 'topo/resultfile/result_phi/standard.root'\n",
    "topo_file_D0bar = '/media/jykim/T7_2/storage/Ntuples_ghi_2/MC15rd/MC15rd_Vg_sigext_maxFBDT_2ndFBDT/' + 'topo/resultfile/result_phi_cc/standard.root'\n",
    "\n",
    "# Cut=\"D0_M>1.68 & D0_M<2.05 & abs(Phi_M - 1.0195) < 0.011 &  Dstarp_CMS_p>2.5  \"\n",
    "# Cut+=\"& gamma_E>0.47 & Pi0_Prob2>0.5 & abs(Dstarp_delM-0.1455)<0.00078\"\n",
    "\n",
    "base_cut = 'D0_M>1.68 && D0_M<2.05 && abs(Phi_M - 1.0195) < 0.011 && abs(Dstarp_delM-0.1455)<0.00078 && Dstarp_CMS_p>2.5 && gamma_E>0.47 && Pi0_Prob2>0.5'\n",
    "D0_cut = base_cut + ' && nSigCascDcyBr_0==1'\n",
    "D0bar_cut = base_cut + ' && nSigCascDcyBr_4==1'\n",
    "D0_tree = 'phi'\n",
    "D0bar_tree = 'phi_cc'\n",
    "# def get_Nevents(file, tree=str, base_filter=str, variables=list):\n",
    "variables = ['D0_M']\n",
    "Nsig = get_Nevents(topo_file_D0, D0_tree, D0_cut, variables )\n",
    "Nsig_cc = get_Nevents(topo_file_D0bar, D0bar_tree, D0bar_cut, variables )\n",
    "\n",
    "D0_bkg1cut = base_cut + ' && iCascDcyBrP_Dst_0==1'\n",
    "D0bar_bkg1cut = base_cut + ' && iCascDcyBrP_Dstm_0==0'\n",
    "Nbkg1 = get_Nevents(topo_file_D0, D0_tree, D0_bkg1cut, variables )\n",
    "Nbkg1_cc = get_Nevents(topo_file_D0bar, D0bar_tree, D0bar_bkg1cut, variables )\n",
    "\n",
    "D0_bkg2cut = base_cut + ' && (iCascDcyBrP_Dst_0==7 || iCascDcyBrP_Dst_0==16 || iCascDcyBrP_Dst_0==12)'\n",
    "D0bar_bkg2cut = base_cut + ' && (iCascDcyBrP_Dstm_0==6 || iCascDcyBrP_Dstm_0==5 || iCascDcyBrP_Dstm_0==23)'\n",
    "Nbkg2 = get_Nevents(topo_file_D0, D0_tree, D0_bkg2cut, variables )\n",
    "Nbkg2_cc = get_Nevents(topo_file_D0bar, D0bar_tree, D0bar_bkg2cut, variables )\n",
    "\n",
    "\n",
    "\n",
    "D0_bkg3cut = base_cut + ' && iCascDcyBrP_Dst_0!=1 && nSigCascDcyBr_0!=1 && iCascDcyBrP_Dst_0!=7 && iCascDcyBrP_Dst_0!=16 && iCascDcyBrP_Dst_0!=12'\n",
    "D0bar_bkg3cut = base_cut + ' && iCascDcyBrP_Dstm_0!=0 && nSigCascDcyBr_4!=1 && iCascDcyBrP_Dstm_0!=6 && iCascDcyBrP_Dstm_0!=5 && iCascDcyBrP_Dstm_0!=23'\n",
    "\n",
    "charged_file_D0 = base_file_loc + 'charged/*.root'\n",
    "mixed_file_D0 = base_file_loc + 'mixed/*.root'\n",
    "uubar_file_D0 = base_file_loc + 'uubar/*.root'\n",
    "ddbar_file_D0 = base_file_loc + 'ddbar/*.root'\n",
    "ssbar_file_D0 = base_file_loc + 'ssbar/*.root'\n",
    "taupair_file_D0 = base_file_loc + 'taupair/*.root'\n",
    "\n",
    "Nbkg3 = get_Nevents(topo_file_D0, D0_tree, D0_bkg3cut, variables )\n",
    "\n",
    "Nbkg3 += get_Nevents(charged_file_D0, D0_tree, base_cut, variables )\n",
    "Nbkg3 += get_Nevents(mixed_file_D0, D0_tree, base_cut, variables )\n",
    "Nbkg3 += get_Nevents(uubar_file_D0, D0_tree, base_cut, variables )\n",
    "Nbkg3 += get_Nevents(ddbar_file_D0, D0_tree, base_cut, variables )\n",
    "Nbkg3 += get_Nevents(ssbar_file_D0, D0_tree, base_cut, variables )\n",
    "Nbkg3 += get_Nevents(taupair_file_D0, D0_tree, base_cut, variables )\n",
    "\n",
    "Nbkg3_cc = get_Nevents(topo_file_D0bar, D0bar_tree, D0bar_bkg3cut, variables )\n",
    "\n",
    "Nbkg3_cc += get_Nevents(mixed_file_D0, D0bar_tree, base_cut, variables )\n",
    "Nbkg3_cc += get_Nevents(uubar_file_D0, D0bar_tree, base_cut, variables )\n",
    "Nbkg3_cc += get_Nevents(ddbar_file_D0, D0bar_tree, base_cut, variables )\n",
    "Nbkg3_cc += get_Nevents(ssbar_file_D0, D0bar_tree, base_cut, variables )\n",
    "Nbkg3_cc += get_Nevents(taupair_file_D0, D0bar_tree, base_cut, variables )"
   ]
  },
  {
   "cell_type": "code",
   "execution_count": 37,
   "id": "bdc16aa7-6187-461a-8b81-2c08fdf8ef1b",
   "metadata": {},
   "outputs": [],
   "source": [
    "scale_factor=1/4\n"
   ]
  },
  {
   "cell_type": "code",
   "execution_count": 38,
   "id": "a40dab27-45c5-4cdb-897a-8d141f67974d",
   "metadata": {},
   "outputs": [
    {
     "name": "stdout",
     "output_type": "stream",
     "text": [
      "Nsig(D0)_topo=132.0\n",
      "Nsig(D0bar)_topo=146.75\n",
      "Total: 278.75\n",
      "Fit: 286.7795027114849\n",
      "Pull = 0.32579432323367946\n",
      "\n",
      "\n",
      "Nbkg1(D0)_topo=595.75\n",
      "Nbkg1(D0bar)_topo=578.25\n",
      "Total: 1174.0\n",
      "Fit: 1184.1061649431354\n",
      "Pull = 0.19413939979461048\n",
      "\n",
      "\n",
      "Nbkg2(D0)_topo=60.75\n",
      "Nbkg2(D0bar)_topo=51.0\n",
      "Total: 111.75\n",
      "Fit: 76.78871794916562\n",
      "Pull = -0.30555255202347953\n",
      "\n",
      "\n",
      "Nothers(D0)_topo=246.25\n",
      "Nothers(D0bar)_topo=259.5\n",
      "Total: 505.75\n",
      "Fit: 575.0828526962695\n",
      "Pull = 0.6945918936076579\n"
     ]
    }
   ],
   "source": [
    "Nsig=Nsig*scale_factor\n",
    "Nsig_cc=Nsig_cc*scale_factor\n",
    "Nbkg1=Nbkg1*scale_factor\n",
    "Nbkg1_cc=Nbkg1_cc*scale_factor\n",
    "Nbkg2=Nbkg2*scale_factor\n",
    "Nbkg2_cc=Nbkg2_cc*scale_factor\n",
    "Nbkg3=Nbkg3*scale_factor\n",
    "Nbkg3_cc=Nbkg3_cc*scale_factor\n",
    "\n",
    "Fit_Nsig = nsig.getValV()\n",
    "Fit_Nsig_error = nsig.getError()\n",
    "\n",
    "Fit_Nbkg1 = nbkg1.getValV()\n",
    "Fit_Nbkg1_error = nbkg1.getError()\n",
    "Fit_Nbkg2 = nbkg2.getValV()\n",
    "Fit_Nbkg2_error = nbkg2.getError()\n",
    "Fit_Nbkg3 = nbkg3.getValV()\n",
    "Fit_Nbkg3_error = nbkg3.getError()\n",
    "\n",
    "\n",
    "\n",
    "print(f'Nsig(D0)_topo={ Nsig }')\n",
    "print(f'Nsig(D0bar)_topo={ Nsig_cc }')\n",
    "print(f'Total: { Nsig + Nsig_cc }')\n",
    "print(f'Fit: {Fit_Nsig}')\n",
    "print(f'Pull = {(Fit_Nsig-Nsig-Nsig_cc)/Fit_Nsig_error}')\n",
    "print('\\n')\n",
    "print(f'Nbkg1(D0)_topo={ Nbkg1 }')\n",
    "print(f'Nbkg1(D0bar)_topo={ Nbkg1_cc }')\n",
    "print(f'Total: { Nbkg1 + Nbkg1_cc }')\n",
    "print(f'Fit: {Fit_Nbkg1}')\n",
    "print(f'Pull = {(Fit_Nbkg1-Nbkg1-Nbkg1_cc)/Fit_Nbkg1_error}')\n",
    "print('\\n')\n",
    "print(f'Nbkg2(D0)_topo={ Nbkg2 }')\n",
    "print(f'Nbkg2(D0bar)_topo={ Nbkg2_cc }')\n",
    "print(f'Total: { Nbkg2 + Nbkg2_cc }')\n",
    "print(f'Fit: {Fit_Nbkg2}')\n",
    "print(f'Pull = {(Fit_Nbkg2-Nbkg2-Nbkg2_cc)/Fit_Nbkg2_error}')\n",
    "\n",
    "print('\\n')\n",
    "print(f'Nothers(D0)_topo={ Nbkg3 }')\n",
    "print(f'Nothers(D0bar)_topo={ Nbkg3_cc }')\n",
    "print(f'Total: { Nbkg3 + Nbkg3_cc }')\n",
    "print(f'Fit: {Fit_Nbkg3}')\n",
    "print(f'Pull = {(Fit_Nbkg3-Nbkg3-Nbkg3_cc)/Fit_Nbkg3_error}')"
   ]
  },
  {
   "cell_type": "code",
   "execution_count": 48,
   "id": "7e307e23-3160-4be3-81d8-392ae6a60ad8",
   "metadata": {},
   "outputs": [],
   "source": [
    "# data_dict = { 'Type' : ['signal', r'$D^0 \\to \\phi \\pi^0$', r'$D^0 \\to \\phi X$', 'Others'],\n",
    "data_dict = { r'$N_{topo}$': [Nsig + Nsig_cc , Nbkg1 + Nbkg1_cc,  Nbkg2 + Nbkg2_cc, Nbkg3+Nbkg3_cc],\n",
    "             'Fit': [Fit_Nsig, Fit_Nbkg1, Fit_Nbkg2, Fit_Nbkg3],\n",
    "             'Fit Error' : [Fit_Nsig_error, Fit_Nbkg1_error, Fit_Nbkg2_error, Fit_Nbkg3_error],\n",
    "             'Pull': [(Fit_Nsig-Nsig-Nsig_cc)/Fit_Nsig_error, (Fit_Nbkg1-Nbkg1-Nbkg1_cc)/Fit_Nbkg1_error, (Fit_Nbkg2-Nbkg2-Nbkg2_cc)/Fit_Nbkg2_error , (Fit_Nbkg3-Nbkg3-Nbkg3_cc)/Fit_Nbkg3_error] \n",
    "            }"
   ]
  },
  {
   "cell_type": "code",
   "execution_count": 49,
   "id": "c9c48166-57fa-4c74-8c5d-caeafceb3fc0",
   "metadata": {},
   "outputs": [
    {
     "data": {
      "text/html": [
       "<div>\n",
       "<style scoped>\n",
       "    .dataframe tbody tr th:only-of-type {\n",
       "        vertical-align: middle;\n",
       "    }\n",
       "\n",
       "    .dataframe tbody tr th {\n",
       "        vertical-align: top;\n",
       "    }\n",
       "\n",
       "    .dataframe thead th {\n",
       "        text-align: right;\n",
       "    }\n",
       "</style>\n",
       "<table border=\"1\" class=\"dataframe\">\n",
       "  <thead>\n",
       "    <tr style=\"text-align: right;\">\n",
       "      <th></th>\n",
       "      <th>$N_{topo}$</th>\n",
       "      <th>Fit</th>\n",
       "      <th>Fit Error</th>\n",
       "      <th>Pull</th>\n",
       "    </tr>\n",
       "  </thead>\n",
       "  <tbody>\n",
       "    <tr>\n",
       "      <th>Signal</th>\n",
       "      <td>278.75</td>\n",
       "      <td>286.779503</td>\n",
       "      <td>24.645926</td>\n",
       "      <td>0.325794</td>\n",
       "    </tr>\n",
       "    <tr>\n",
       "      <th>$D^0 \\to \\phi \\pi^0$</th>\n",
       "      <td>1174.00</td>\n",
       "      <td>1184.106165</td>\n",
       "      <td>52.056228</td>\n",
       "      <td>0.194139</td>\n",
       "    </tr>\n",
       "    <tr>\n",
       "      <th>$D^0 \\to \\phi X$</th>\n",
       "      <td>111.75</td>\n",
       "      <td>76.788718</td>\n",
       "      <td>114.419866</td>\n",
       "      <td>-0.305553</td>\n",
       "    </tr>\n",
       "    <tr>\n",
       "      <th>Others</th>\n",
       "      <td>505.75</td>\n",
       "      <td>575.082853</td>\n",
       "      <td>99.818114</td>\n",
       "      <td>0.694592</td>\n",
       "    </tr>\n",
       "  </tbody>\n",
       "</table>\n",
       "</div>"
      ],
      "text/plain": [
       "                      $N_{topo}$          Fit   Fit Error      Pull\n",
       "Signal                    278.75   286.779503   24.645926  0.325794\n",
       "$D^0 \\to \\phi \\pi^0$     1174.00  1184.106165   52.056228  0.194139\n",
       "$D^0 \\to \\phi X$          111.75    76.788718  114.419866 -0.305553\n",
       "Others                    505.75   575.082853   99.818114  0.694592"
      ]
     },
     "execution_count": 49,
     "metadata": {},
     "output_type": "execute_result"
    }
   ],
   "source": [
    "df = pd.DataFrame(data_dict)\n",
    "df.index = ['Signal', r'$D^0 \\to \\phi \\pi^0$', r'$D^0 \\to \\phi X$','Others']\n",
    "df"
   ]
  },
  {
   "cell_type": "code",
   "execution_count": 50,
   "id": "c052f649-29be-4a4d-a83d-9458031f5a20",
   "metadata": {},
   "outputs": [
    {
     "name": "stdout",
     "output_type": "stream",
     "text": [
      "\\begin{tabular}{lrrrr}\n",
      "\\toprule\n",
      "{} &  \\$N\\_\\{topo\\}\\$ &          Fit &   Fit Error &      Pull \\\\\n",
      "\\midrule\n",
      "Signal               &      278.75 &   286.779503 &   24.645926 &  0.325794 \\\\\n",
      "\\$D\\textasciicircum 0 \\textbackslash to \\textbackslash phi \\textbackslash pi\\textasciicircum 0\\$ &     1174.00 &  1184.106165 &   52.056228 &  0.194139 \\\\\n",
      "\\$D\\textasciicircum 0 \\textbackslash to \\textbackslash phi X\\$     &      111.75 &    76.788718 &  114.419866 & -0.305553 \\\\\n",
      "Others               &      505.75 &   575.082853 &   99.818114 &  0.694592 \\\\\n",
      "\\bottomrule\n",
      "\\end{tabular}\n",
      "\n"
     ]
    },
    {
     "name": "stderr",
     "output_type": "stream",
     "text": [
      "/tmp/ipykernel_94259/2621526293.py:1: FutureWarning: In future versions `DataFrame.to_latex` is expected to utilise the base implementation of `Styler.to_latex` for formatting and rendering. The arguments signature may therefore change. It is recommended instead to use `DataFrame.style.to_latex` which also contains additional functionality.\n",
      "  print(df.to_latex())\n"
     ]
    }
   ],
   "source": [
    "print(df.to_latex())\n"
   ]
  },
  {
   "cell_type": "code",
   "execution_count": 51,
   "id": "0210fe1f-b852-4e84-88f8-9197eabb7716",
   "metadata": {},
   "outputs": [
    {
     "name": "stdout",
     "output_type": "stream",
     "text": [
      "Data saved to /media/jykim/T7/saved_plots/Measurement/phi/mc15rd_fit_results.csv\n"
     ]
    }
   ],
   "source": [
    "import csv\n",
    "\n",
    "# CSV file name\n",
    "csv_file = '/media/jykim/T7/saved_plots/Measurement/phi/mc15rd_fit_results.csv'\n",
    "\n",
    "# Write the dictionary to a CSV file\n",
    "with open(csv_file, 'w', newline='') as file:\n",
    "    writer = csv.writer(file)\n",
    "    \n",
    "    # Write the header row\n",
    "    header = list(data_dict.keys())\n",
    "    writer.writerow(header)\n",
    "    \n",
    "    # Write the data rows\n",
    "    for row in zip(*data_dict.values()):\n",
    "        writer.writerow(row)\n",
    "\n",
    "print(f'Data saved to {csv_file}')"
   ]
  },
  {
   "cell_type": "code",
   "execution_count": null,
   "id": "1cd54137-5fbc-40d8-ba9a-c7de87280dce",
   "metadata": {},
   "outputs": [],
   "source": []
  }
 ],
 "metadata": {
  "kernelspec": {
   "display_name": "Python 3 (ipykernel)",
   "language": "python",
   "name": "python3"
  },
  "language_info": {
   "codemirror_mode": {
    "name": "ipython",
    "version": 3
   },
   "file_extension": ".py",
   "mimetype": "text/x-python",
   "name": "python",
   "nbconvert_exporter": "python",
   "pygments_lexer": "ipython3",
   "version": "3.10.5"
  }
 },
 "nbformat": 4,
 "nbformat_minor": 5
}
