{
 "cells": [
  {
   "cell_type": "markdown",
   "id": "07fe62e3-9f5a-4f4f-ba52-b85d6ac3e819",
   "metadata": {},
   "source": [
    "### import"
   ]
  },
  {
   "cell_type": "code",
   "execution_count": 1,
   "id": "e285c5cc-be04-4af5-b7e9-775c88aa6453",
   "metadata": {},
   "outputs": [
    {
     "name": "stdout",
     "output_type": "stream",
     "text": [
      "Welcome to JupyROOT 6.26/04\n"
     ]
    }
   ],
   "source": [
    "%matplotlib inline\n",
    "%load_ext autoreload\n",
    "%autoreload 2\n",
    "import seaborn as sns\n",
    "import numpy as np\n",
    "import pandas as pd\n",
    "import matplotlib.pyplot as plt\n",
    "import ROOT\n",
    "import ctypes\n",
    "import glob\n",
    "try:\n",
    "#     plt.style.use('belle2')\n",
    "    plt.style.use('belle2_serif')\n",
    "#     plt.style.use('belle2_modern')\n",
    "except OSError:\n",
    "    print(\"Please install belle2 matplotlib style\")   \n",
    "px = 1/plt.rcParams['figure.dpi']\n",
    "\n",
    "from main.data_tools.extract_ntuples import get_pd, get_np"
   ]
  },
  {
   "cell_type": "code",
   "execution_count": 2,
   "id": "65105088-3275-43a9-bc67-df011520f8b3",
   "metadata": {},
   "outputs": [
    {
     "name": "stdout",
     "output_type": "stream",
     "text": [
      "\n",
      "Applying BELLE2 style settings...\n"
     ]
    }
   ],
   "source": [
    "ROOT.gROOT.LoadMacro('/home/jykim/workspace/DRAW_and_FITTING/main/Belle2Style.C')\n",
    "ROOT.SetBelle2Style()"
   ]
  },
  {
   "cell_type": "code",
   "execution_count": null,
   "id": "ecb4d6a9-68ca-4994-974f-cdb24ad6501f",
   "metadata": {},
   "outputs": [],
   "source": []
  },
  {
   "cell_type": "code",
   "execution_count": 3,
   "id": "d3347f0a-5d3e-40d1-9eef-d5e373cabb10",
   "metadata": {},
   "outputs": [],
   "source": [
    "mychain = ROOT.TChain(\"phi\")\n",
    "# file_list = [\"/media/jykim/T7_2/storage/Ntuples_ghi_2/MC15rd/MC15rd_Vg_preext_maxFBDT_2ndFBDT/ccbar/*.root\"]\n",
    "file_list = glob.glob(\"/media/jykim/T7_2/storage/Ntuples_ghi_2/MC15rd/MC15rd_Vg_preext_maxFBDT_2ndFBDT/ccbar/*.root\")\n",
    "\n",
    "for i in file_list:\n",
    "    mychain.Add(i)"
   ]
  },
  {
   "cell_type": "code",
   "execution_count": 4,
   "id": "e2ca8290-23ec-427f-b3eb-4e7e4dcd87d9",
   "metadata": {},
   "outputs": [
    {
     "name": "stdout",
     "output_type": "stream",
     "text": [
      "127.5\n",
      "[#1] INFO:InputArguments -- The formula D0_M>1.68 & D0_M<2.05 & abs(Phi_M - 1.0195) < 0.011 &  Dstarp_CMS_p>2.5 & Dstarp_isSignal==1 & gamma_E>0.47 & Pi0_Prob2>0.5 & abs(Dstarp_delM-0.1455)<0.00078 claims to use the variables (D0_M,D0_cosHel_0,Phi_M,Dstarp_CMS_p,Dstarp_isSignal,gamma_E,Pi0_Prob2,Dstarp_delM) but only (D0_M,Phi_M,Dstarp_CMS_p,Dstarp_isSignal,gamma_E,Pi0_Prob2,Dstarp_delM) seem to be in use.\n",
      "  inputs:         D0_M>1.68 & D0_M<2.05 & abs(Phi_M - 1.0195) < 0.011 &  Dstarp_CMS_p>2.5 & Dstarp_isSignal==1 & gamma_E>0.47 & Pi0_Prob2>0.5 & abs(Dstarp_delM-0.1455)<0.00078\n",
      "[#1] INFO:DataHandling -- RooTreeDataStore::loadValues(data) Skipping event #13 because D0_M cannot accommodate the value 1.64983\n",
      "[#1] INFO:DataHandling -- RooTreeDataStore::loadValues(data) Skipping event #21 because D0_M cannot accommodate the value 1.65855\n",
      "[#1] INFO:DataHandling -- RooTreeDataStore::loadValues(data) Skipping event #38 because D0_M cannot accommodate the value 1.65957\n",
      "[#1] INFO:DataHandling -- RooTreeDataStore::loadValues(data) Skipping event #40 because D0_M cannot accommodate the value 1.6445\n",
      "[#1] INFO:DataHandling -- RooTreeDataStore::loadValues(data) Skipping ...\n",
      "[#0] WARNING:DataHandling -- RooTreeDataStore::loadValues(data) Ignored 4173 out-of-range events\n"
     ]
    }
   ],
   "source": [
    "\n",
    "    \n",
    "yrange = (-1, 1)\n",
    "x = ROOT.RooRealVar(\"D0_M\", \"M(D^{0}) [GeV/c^{2}]\", 1.68, 2.05, \"\")\n",
    "y = ROOT.RooRealVar(\"D0_cosHel_0\", \"cos#theta_{H}\", yrange[0], yrange[1], \"\")\n",
    "a = ROOT.RooRealVar(\"Phi_M\", \"\",0,10, \"\")\n",
    "b = ROOT.RooRealVar(\"Dstarp_CMS_p\", \"\",0,10, \"\")\n",
    "c = ROOT.RooRealVar(\"Dstarp_isSignal\", \"\",-10,10, \"\")\n",
    "d = ROOT.RooRealVar(\"gamma_E\", \"\",0,10, \"\")\n",
    "e = ROOT.RooRealVar(\"Pi0_Prob2\", \"\",0,10, \"\")\n",
    "f = ROOT.RooRealVar(\"Dstarp_delM\", \"\",0,10, \"\")\n",
    "\n",
    "# z = ROOT.RooRealVar(\"dM_pi0_75MeV\", \"M(D^{0}) [GeV/c^{2}]\",0,10, \"\")\n",
    "\n",
    "Cut=\"D0_M>1.68 & D0_M<2.05 & abs(Phi_M - 1.0195) < 0.011 &  Dstarp_CMS_p>2.5 & Dstarp_isSignal==1 \"\n",
    "Cut+=\"& gamma_E>0.47 & Pi0_Prob2>0.5 & abs(Dstarp_delM-0.1455)<0.00078\"\n",
    "# data = ROOT.RooDataSet(\"data\",\"\", ROOT.RooArgSet(x,y,z), ROOT.RooFit.Import(mychain), Cut=\" D0_M>1.68 & D0_M<2.05 & Belle2Pi0Veto_75MeV > 0.022 \")\n",
    "before_data = ROOT.RooDataSet(\"data\",\"\", ROOT.RooArgSet(x,y,a,b,c,d,e,f), ROOT.RooFit.Import(mychain), Cut=Cut)\n",
    "\n",
    "\n",
    "w_1 = ROOT.RooRealVar('w_1', 'w', 0,1)\n",
    "w_1.setVal(1/4)\n",
    "before_data.addColumn(w_1)\n",
    "data = ROOT.RooDataSet(before_data.GetName(), before_data.GetTitle(),before_data, before_data.get(), '' ,  'w_1')\n",
    "N_total = data.sumEntries()\n",
    "print(N_total)"
   ]
  },
  {
   "cell_type": "code",
   "execution_count": 5,
   "id": "6e5ddd6e-275d-42dc-9828-c2a51fb5dde3",
   "metadata": {},
   "outputs": [
    {
     "name": "stdout",
     "output_type": "stream",
     "text": [
      "RooDataSet::data[D0_M,D0_cosHel_0,Phi_M,Dstarp_CMS_p,Dstarp_isSignal,gamma_E,Pi0_Prob2,Dstarp_delM,weight:w_1] = 510 entries (127.5 weighted)\n"
     ]
    }
   ],
   "source": [
    "data.Print()"
   ]
  },
  {
   "cell_type": "code",
   "execution_count": 6,
   "id": "69a88425-abe9-407e-b6d0-da02a27185f8",
   "metadata": {},
   "outputs": [],
   "source": [
    "mychain2 = ROOT.TChain(\"phi_cc\")\n",
    "# file_list = [\"/media/jykim/T7_2/storage/Ntuples_ghi_2/MC15rd/MC15rd_Vg_preext_maxFBDT_2ndFBDT/ccbar/*.root\"]\n",
    "file_list = glob.glob(\"/media/jykim/T7_2/storage/Ntuples_ghi_2/MC15rd/MC15rd_Vg_preext_maxFBDT_2ndFBDT/ccbar/*.root\")\n",
    "\n",
    "for i in file_list:\n",
    "    mychain2.Add(i)"
   ]
  },
  {
   "cell_type": "code",
   "execution_count": 7,
   "id": "57e96620-18a4-418e-a1be-9f49b4188560",
   "metadata": {},
   "outputs": [
    {
     "name": "stdout",
     "output_type": "stream",
     "text": [
      "144.5\n",
      "[#1] INFO:InputArguments -- The formula D0_M>1.68 & D0_M<2.05 & abs(Phi_M - 1.0195) < 0.011 &  Dstarp_CMS_p>2.5 & Dstarp_isSignal==1 & gamma_E>0.47 & Pi0_Prob2>0.5 & abs(Dstarp_delM-0.1455)<0.00078 claims to use the variables (D0_M,D0_cosHel_0,Phi_M,Dstarp_CMS_p,Dstarp_isSignal,gamma_E,Pi0_Prob2,Dstarp_delM) but only (D0_M,Phi_M,Dstarp_CMS_p,Dstarp_isSignal,gamma_E,Pi0_Prob2,Dstarp_delM) seem to be in use.\n",
      "  inputs:         D0_M>1.68 & D0_M<2.05 & abs(Phi_M - 1.0195) < 0.011 &  Dstarp_CMS_p>2.5 & Dstarp_isSignal==1 & gamma_E>0.47 & Pi0_Prob2>0.5 & abs(Dstarp_delM-0.1455)<0.00078\n",
      "[#1] INFO:DataHandling -- RooTreeDataStore::loadValues(data2) Skipping event #1 because D0_M cannot accommodate the value 2.05018\n",
      "[#1] INFO:DataHandling -- RooTreeDataStore::loadValues(data2) Skipping event #2 because D0_M cannot accommodate the value 1.66025\n",
      "[#1] INFO:DataHandling -- RooTreeDataStore::loadValues(data2) Skipping event #8 because D0_M cannot accommodate the value 1.65001\n",
      "[#1] INFO:DataHandling -- RooTreeDataStore::loadValues(data2) Skipping event #11 because D0_M cannot accommodate the value 1.67908\n",
      "[#1] INFO:DataHandling -- RooTreeDataStore::loadValues(data2) Skipping ...\n",
      "[#0] WARNING:DataHandling -- RooTreeDataStore::loadValues(data2) Ignored 4093 out-of-range events\n"
     ]
    }
   ],
   "source": [
    "before_data2 = ROOT.RooDataSet(\"data2\",\"\", ROOT.RooArgSet(x,y,a,b,c,d,e,f), ROOT.RooFit.Import(mychain2), Cut=Cut)\n",
    "before_data2.addColumn(w_1)\n",
    "data2 = ROOT.RooDataSet(before_data2.GetName(), before_data2.GetTitle(),before_data2, before_data2.get(), '' ,  'w_1')\n",
    "N_total = data2.sumEntries()\n",
    "print(N_total)"
   ]
  },
  {
   "cell_type": "code",
   "execution_count": 8,
   "id": "3fece535-3979-4018-878a-814b010dff63",
   "metadata": {},
   "outputs": [
    {
     "name": "stdout",
     "output_type": "stream",
     "text": [
      "RooDataSet::data2[D0_M,D0_cosHel_0,Phi_M,Dstarp_CMS_p,Dstarp_isSignal,gamma_E,Pi0_Prob2,Dstarp_delM,weight:w_1] = 578 entries (144.5 weighted)\n"
     ]
    }
   ],
   "source": [
    "data2.Print()"
   ]
  },
  {
   "cell_type": "code",
   "execution_count": 9,
   "id": "0e4991d0-15d0-4e09-8620-e654c914d1a8",
   "metadata": {},
   "outputs": [],
   "source": [
    "data.append(data2)"
   ]
  },
  {
   "cell_type": "code",
   "execution_count": 10,
   "id": "89cd640b-7c95-4235-b6f6-451f9c6d4d4c",
   "metadata": {},
   "outputs": [
    {
     "data": {
      "text/plain": [
       "272.0"
      ]
     },
     "execution_count": 10,
     "metadata": {},
     "output_type": "execute_result"
    }
   ],
   "source": [
    "data.sumEntries()"
   ]
  },
  {
   "cell_type": "code",
   "execution_count": 11,
   "id": "fc6c38dc-5195-4548-a453-429a14437618",
   "metadata": {},
   "outputs": [],
   "source": [
    "fitting_region = (1.78, 1.91)\n",
    "fitting_region = (1.76, 1.92)\n",
    "\n",
    "x = ROOT.RooRealVar(\"D0_M\", \"M(D^{0}) [GeV/c^{2}]\", fitting_region[0], fitting_region[1], \"\")\n",
    "# y = ROOT.RooRealVar(\"dM_pi0_75MeV\", \"M(D^{0}) [GeV/c^{2}]\",0,10, \"\")\n",
    "\n",
    "# x.setBins(50)\n",
    "l = ROOT.RooArgList(x)\n",
    "# signalhist = ROOT.RooDataHist(\"sighist\", \"sighist\", l, D0_M_TH1F, scale_factor)\n",
    "# signalhist = ROOT.RooDataHist(\"sighist\", \"sighist\", l, D0_M_TH1F, 1)\n",
    "\n",
    "# signalhist = ROOT.RooDataHist(\"sighist\", \"sighist\", l, D0_M_TH1F, 1)\n"
   ]
  },
  {
   "cell_type": "code",
   "execution_count": 12,
   "id": "57f6877f-2f7a-40e8-950d-271e0d3c540c",
   "metadata": {},
   "outputs": [],
   "source": [
    "\n",
    "mean = ROOT.RooRealVar(\"mean\", \"mean of gaussians\", 1.86,1.85, 1.89)\n",
    "mean2 = ROOT.RooRealVar(\"mean2\", \"mean of gaussians\", 1.86,1.84, 1.89)\n",
    "\n",
    "sigma1 = ROOT.RooRealVar(\"sigma1\", \"width of gaussians\", 0.03,0.001,0.1)\n",
    "sigma2 = ROOT.RooRealVar(\"sigma2\", \"width of gaussians\", 0.02,0.001,0.1)\n",
    "alpha = ROOT.RooRealVar(\"alpha\", \"width of gaussians\", 0.5,0,10)\n",
    "n_CB = ROOT.RooRealVar(\"n_CB\", \"width of gaussians\", 5,0,20)\n",
    " \n",
    "    \n",
    "# alpha = ROOT.RooRealVar(\"alpha\", \"width of gaussians\", 0.5,0,30)\n",
    "# n_CB = ROOT.RooRealVar(\"n_CB\", \"width of gaussians\", 5,0,50)    \n",
    "    \n",
    "# Novo_peak = ROOT.RooRealVar(\"Novo_peak\", \"Novo peak\", 1.83,1.67,1.93)    \n",
    "# Novo_width = ROOT.RooRealVar(\"Novo_widh\", \"Novo peak\", 0.05,0,0.5)    \n",
    "# Novo_tail = ROOT.RooRealVar(\"Novo_tail\", \"Novo peak\", 0.5,0,10)    \n",
    "\n",
    "# mu = ROOT.RooRealVar(\"mu\", \"Novo peak\", 1.83,1.67,1.93)    \n",
    "# gamma = ROOT.RooRealVar(\"gamma\", \"Novo peak\", -1,-5,0)    \n",
    "# para_lambda =  ROOT.RooRealVar(\"para_lambda\", \"Novo peak\", 1,-5,5)    \n",
    "# delta = ROOT.RooRealVar(\"delta\", \"Novo peak\", 1.83,0,3)    \n"
   ]
  },
  {
   "cell_type": "code",
   "execution_count": null,
   "id": "2747e896-b787-4998-937c-831a01a8b5df",
   "metadata": {},
   "outputs": [],
   "source": []
  },
  {
   "cell_type": "code",
   "execution_count": 13,
   "id": "c71b3428-76d2-41d4-bd61-408fd63375b1",
   "metadata": {},
   "outputs": [
    {
     "name": "stdout",
     "output_type": "stream",
     "text": [
      "[#1] INFO:Eval -- RooRealVar::setRange(D0_M) new range named 'fit' created with bounds [1.76,1.92]\n",
      "[#0] WARNING:InputArguments -- RooAbsPdf::fitTo(model) WARNING: a likelihood fit is requested of what appears to be weighted data.\n",
      "       While the estimated values of the parameters will always be calculated taking the weights into account,\n",
      "       there are multiple ways to estimate the errors of the parameters. You are advised to make an \n",
      "       explicit choice for the error calculation:\n",
      "           - Either provide SumW2Error(true), to calculate a sum-of-weights-corrected HESSE error matrix\n",
      "             (error will be proportional to the number of events in MC).\n",
      "           - Or provide SumW2Error(false), to return errors from original HESSE error matrix\n",
      "             (which will be proportional to the sum of the weights, i.e., a dataset with <sum of weights> events).\n",
      "           - Or provide AsymptoticError(true), to use the asymptotically correct expression\n",
      "             (for details see https://arxiv.org/abs/1911.01303).\n",
      "[#1] INFO:Minimization -- RooAbsMinimizerFcn::setOptimizeConst: activating const optimization\n",
      "[#1] INFO:Fitting -- RooAbsOptTestStatistic::ctor(nll_model_data) constructing test statistic for sub-range named fit\n",
      "[#1] INFO:Eval -- RooRealVar::setRange(D0_M) new range named 'NormalizationRangeForfit' created with bounds [1.76,1.92]\n",
      "[#1] INFO:Eval -- RooRealVar::setRange(D0_M) new range named 'fit_nll_model_data' created with bounds [1.76,1.92]\n",
      "[#1] INFO:Fitting -- RooAbsOptTestStatistic::ctor(nll_model_data) fixing interpretation of coefficients of any RooAddPdf to full domain of observables \n",
      "[#0] ERROR:Integration --  RooNumIntFactory::Init : libRooFitMore cannot be loaded. GSL integrators will not beavailable ! \n",
      "[#1] INFO:Eval -- RooAbsTestStatistic::initMPMode: started 12 remote server process.\n",
      "[#1] INFO:Minimization --  The following expressions will be evaluated in cache-and-track mode: (sig1,sig2)\n",
      "[#1] INFO:Minimization --  The following expressions will be evaluated in cache-and-track mode: (sig1,sig2)\n",
      "[#1] INFO:Minimization --  The following expressions will be evaluated in cache-and-track mode: (sig1,sig2)\n",
      "[#1] INFO:Minimization --  The following expressions will be evaluated in cache-and-track mode: (sig1,sig2)\n",
      "[#1] INFO:Minimization --  The following expressions will be evaluated in cache-and-track mode: (sig1,sig2)\n",
      "[#1] INFO:Minimization --  The following expressions will be evaluated in cache-and-track mode: (sig1,sig2)\n",
      "[#1] INFO:Minimization --  The following expressions will be evaluated in cache-and-track mode: (sig1,sig2)\n",
      "[#1] INFO:Minimization --  The following expressions will be evaluated in cache-and-track mode: (sig1,sig2)\n",
      "[#1] INFO:Minimization --  The following expressions will be evaluated in cache-and-track mode: (sig1,sig2)\n",
      "[#1] INFO:Minimization --  The following expressions will be evaluated in cache-and-track mode: (sig1,sig2)\n",
      "[#1] INFO:Minimization --  The following expressions will be evaluated in cache-and-track mode: (sig1,sig2)\n",
      "[#1] INFO:Minimization --  The following expressions will be evaluated in cache-and-track mode: (sig1,sig2)\n",
      "[#1] INFO:Minimization -- RooAbsMinimizerFcn::setOptimizeConst: deactivating const optimization\n",
      "\n",
      "  RooFitResult: minimized FCN value: -701.234, estimated distance to minimum: 6.17584e-06\n",
      "                covariance matrix quality: Full, accurate covariance matrix\n",
      "                Status : MINIMIZE=0 HESSE=0 \n",
      "\n",
      "    Floating Parameter    FinalValue +/-  Error   \n",
      "  --------------------  --------------------------\n",
      "                 alpha    6.6798e-01 +/-  2.69e-01\n",
      "                  mean    1.8612e+00 +/-  1.40e-03\n",
      "                  n_CB    2.0000e+01 +/-  1.44e+01\n",
      "              sig1frac    5.9833e-01 +/-  2.92e-01\n",
      "                sigma1    1.3007e-02 +/-  2.00e-03\n",
      "                sigma2    1.7244e-02 +/-  3.98e-03\n",
      "\n",
      "[#1] INFO:Plotting -- RooAbsPdf::plotOn(model) p.d.f was fitted in a subrange and no explicit Range() and NormRange() was specified. Plotting / normalising in fit range. To override, do one of the following\n",
      "\t- Clear the automatic fit range attribute: <pdf>.setStringAttribute(\"fitrange\", nullptr);\n",
      "\t- Explicitly specify the plotting range: Range(\"<rangeName>\").\n",
      "\t- Explicitly specify where to compute the normalisation: NormRange(\"<rangeName>\").\n",
      "\tThe default (full) range can be denoted with Range(\"\") / NormRange(\"\").\n",
      "[#1] INFO:Plotting -- RooAbsPdf::plotOn(model) only plotting range 'fit_nll_model_data'\n",
      "[#1] INFO:Plotting -- RooAbsPdf::plotOn(model) p.d.f. curve is normalized using explicit choice of ranges 'fit_nll_model_data'\n",
      "[#1] INFO:Plotting -- RooAbsPdf::plotOn(model) directly selected PDF components: (sig1)\n",
      "[#1] INFO:Plotting -- RooAbsPdf::plotOn(model) indirectly selected PDF components: ()\n",
      "[#1] INFO:Plotting -- RooAbsPdf::plotOn(model) p.d.f was fitted in a subrange and no explicit Range() and NormRange() was specified. Plotting / normalising in fit range. To override, do one of the following\n",
      "\t- Clear the automatic fit range attribute: <pdf>.setStringAttribute(\"fitrange\", nullptr);\n",
      "\t- Explicitly specify the plotting range: Range(\"<rangeName>\").\n",
      "\t- Explicitly specify where to compute the normalisation: NormRange(\"<rangeName>\").\n",
      "\tThe default (full) range can be denoted with Range(\"\") / NormRange(\"\").\n",
      "[#1] INFO:Plotting -- RooAbsPdf::plotOn(model) only plotting range 'fit_nll_model_data'\n",
      "[#1] INFO:Plotting -- RooAbsPdf::plotOn(model) p.d.f. curve is normalized using explicit choice of ranges 'fit_nll_model_data'\n",
      "[#1] INFO:Plotting -- RooAbsPdf::plotOn(model) directly selected PDF components: (sig2)\n",
      "[#1] INFO:Plotting -- RooAbsPdf::plotOn(model) indirectly selected PDF components: ()\n",
      "[#1] INFO:Plotting -- RooAbsPdf::plotOn(model) p.d.f was fitted in a subrange and no explicit Range() and NormRange() was specified. Plotting / normalising in fit range. To override, do one of the following\n",
      "\t- Clear the automatic fit range attribute: <pdf>.setStringAttribute(\"fitrange\", nullptr);\n",
      "\t- Explicitly specify the plotting range: Range(\"<rangeName>\").\n",
      "\t- Explicitly specify where to compute the normalisation: NormRange(\"<rangeName>\").\n",
      "\tThe default (full) range can be denoted with Range(\"\") / NormRange(\"\").\n",
      "[#1] INFO:Plotting -- RooAbsPdf::plotOn(model) only plotting range 'fit_nll_model_data'\n",
      "[#1] INFO:Plotting -- RooAbsPdf::plotOn(model) p.d.f. curve is normalized using explicit choice of ranges 'fit_nll_model_data'\n",
      "[#0] WARNING:Plotting -- RooHist::makeResisHist(data1) WARNING: point 1 has zero error, setting residual to zero\n",
      "[#0] WARNING:Plotting -- RooHist::makeResisHist(data1) WARNING: point 3 has zero error, setting residual to zero\n",
      "[#0] WARNING:Plotting -- RooHist::makeResisHist(data1) WARNING: point 4 has zero error, setting residual to zero\n",
      "[#0] WARNING:Plotting -- RooHist::makeResisHist(data1) WARNING: point 5 has zero error, setting residual to zero\n",
      "[#0] WARNING:Plotting -- RooHist::makeResisHist(data1) WARNING: point 6 has zero error, setting residual to zero\n",
      "[#0] WARNING:Plotting -- RooHist::makeResisHist(data1) WARNING: point 7 has zero error, setting residual to zero\n",
      "[#0] WARNING:Plotting -- RooHist::makeResisHist(data1) WARNING: point 8 has zero error, setting residual to zero\n",
      "[#0] WARNING:Plotting -- RooHist::makeResisHist(data1) WARNING: point 9 has zero error, setting residual to zero\n",
      "[#0] WARNING:Plotting -- RooHist::makeResisHist(data1) WARNING: point 10 has zero error, setting residual to zero\n",
      "[#0] WARNING:Plotting -- RooHist::makeResisHist(data1) WARNING: point 21 has zero error, setting residual to zero\n",
      "[#0] WARNING:Plotting -- RooHist::makeResisHist(data1) WARNING: point 35 has zero error, setting residual to zero\n",
      "[#0] WARNING:Plotting -- RooHist::makeResisHist(data1) WARNING: point 85 has zero error, setting residual to zero\n",
      "[#0] WARNING:Plotting -- RooHist::makeResisHist(data1) WARNING: point 89 has zero error, setting residual to zero\n",
      "[#0] WARNING:Plotting -- RooHist::makeResisHist(data1) WARNING: point 90 has zero error, setting residual to zero\n",
      "[#0] WARNING:Plotting -- RooHist::makeResisHist(data1) WARNING: point 91 has zero error, setting residual to zero\n",
      "[#0] WARNING:Plotting -- RooHist::makeResisHist(data1) WARNING: point 94 has zero error, setting residual to zero\n",
      "[#0] WARNING:Plotting -- RooHist::makeResisHist(data1) WARNING: point 96 has zero error, setting residual to zero\n",
      "[#0] WARNING:Plotting -- RooHist::makeResisHist(data1) WARNING: point 98 has zero error, setting residual to zero\n",
      "[#0] WARNING:Plotting -- RooHist::makeResisHist(data1) WARNING: point 99 has zero error, setting residual to zero\n"
     ]
    },
    {
     "name": "stderr",
     "output_type": "stream",
     "text": [
      "cling::DynamicLibraryManager::loadLibrary(): libgsl.so.25: cannot open shared object file: No such file or directory\n",
      "Info in <TCanvas::Print>: png file test_Default.png has been created\n"
     ]
    },
    {
     "data": {
      "image/png": "[encoded data removed]",
      "text/plain": [
       "<IPython.core.display.Image object>"
      ]
     },
     "metadata": {},
     "output_type": "display_data"
    }
   ],
   "source": [
    "canv = ROOT.TCanvas(\"Canvas\", \"Canvas\", 700, 640)\n",
    "\n",
    "xlow = ctypes.c_double()\n",
    "ylow = ctypes.c_double()\n",
    "xup = ctypes.c_double()\n",
    "yup = ctypes.c_double()\n",
    "\n",
    "canv.GetPad(0).GetPadPar(xlow, ylow, xup, yup)\n",
    "canv.Divide(1,2)\n",
    "\n",
    "xlow = xlow.value\n",
    "ylow = ylow.value\n",
    "xup = xup.value\n",
    "yup = yup.value\n",
    "\n",
    "upPad = canv.GetPad(1)\n",
    "upPad.SetPad(xlow, ylow+0.25*(yup-ylow),xup,yup)\n",
    "\n",
    "dwPad = canv.GetPad(2)\n",
    "dwPad.SetPad(xlow, ylow,xup,ylow+0.25*(yup-ylow))\n",
    "\n",
    "    \n",
    "# sig1 = ROOT.RooGaussian(\"sig1\", \"Signal component 1\", x, mean, sigma1)\n",
    "sig1 = ROOT.RooGaussian(\"sig1\", \"Signal component 1\", x, mean, sigma1)\n",
    "\n",
    "# ROOT.RooFit.RooConst(0)\n",
    "# sig1 = ROOT.RooJohnson(\"sig1\", \"Signal component 1\", x,mu, para_lambda,gamma,delta)\n",
    "\n",
    "sig2 = ROOT.RooCBShape(\"sig2\", \"Signal component 2\", x, mean, sigma2, alpha, n_CB)\n",
    "# sig3 = ROOT.RooNovosibirsk(\"sig3\", \"Signal component 3\", x, mean, Novo_width, Novo_tail)\n",
    "\n",
    "\n",
    "sig1frac = ROOT.RooRealVar(\"sig1frac\", \"fraction of component 1 in signal\", 0.5, 0.0, 1.0)\n",
    "\n",
    "\n",
    "\n",
    "# model = ROOT.RooCBShape(\"model\", \"Signal component 2\", x, mean, sigma2, alpha, n_CB)\n",
    "\n",
    "model = ROOT.RooAddPdf(\"model\", \"model\", [sig1, sig2], sig1frac)\n",
    "\n",
    "\n",
    "# x.setBins(10000,\"cache\") \n",
    "# model = ROOT.RooFFTConvPdf(\"model\",\"CB (X) gauss\",x,sig2,sig1)\n",
    "\n",
    "r = model.fitTo(data,NumCPU=12,Range=fitting_region,PrintLevel=-1, Save=1)\n",
    "# r = model.fitTo(wdata,NumCPU=12,Range=fitting_region,PrintLevel=-1, Save=1)\n",
    "\n",
    "r.Print()\n",
    "canv.cd(1) \n",
    "# frame = x.frame(Title=\"D^{0} #rightarrow #bar{K}^{*0} #pi^{0}\")\n",
    "frame = x.frame(Title=\" \")\n",
    "\n",
    "#Use sqrt(sum(weights^2)) error instead of Poisson errors\n",
    "data.plotOn(frame, Name = \"data1\", DataError= ROOT.RooAbsData.SumW2, XErrorSize=0)\n",
    "\n",
    "# data.plotOn(frame,Name = \"data1\", XErrorSize=0)\n",
    "# wdata.plotOn(frame,Name = \"data1\", XErrorSize=0, DataError=ROOT.RooAbsData.SumW2)\n",
    "# wdata.plotOn(frame,Name = \"data1\", XErrorSize=0,DataError=ROOT.RooAbsData.SumW2)\n",
    "\n",
    "# \n",
    "model.plotOn(frame, Name=\"gauss1\", Components=sig1, LineStyle=ROOT.kDashed, LineColor=593)\n",
    "model.plotOn(frame, Name=\"CB1\", Components=sig2, LineStyle=ROOT.kDashed, LineColor=593)\n",
    "# sig.plotOn(frame, Name=\"Novo\", Components=sig3, LineStyle=ROOT.kDashed, LineColor=593)\n",
    "\n",
    "model.plotOn(frame, Name=\"fitting\",)\n",
    "\n",
    "\n",
    "# sig.paramOn(frame)\n",
    "frame.GetXaxis().CenterTitle(True)\n",
    "\n",
    "frame.Draw(\"PE\")\n",
    "\n",
    "\n",
    "leg1 = ROOT.TLegend(0.25, 0.75, 0.4, 0.9)\n",
    "leg1.SetFillColor(ROOT.kWhite)\n",
    "# leg1.SetHeader(\"The Legend title\",\"C\")\n",
    "leg1.AddEntry(\"data1\", \"MC\", \"PE\")\n",
    "leg1.AddEntry(\"fitting\", \"fit\", \"l\")\n",
    "leg1.Draw()\n",
    "\n",
    "hpull = frame.pullHist()\n",
    "hpull.SetFillStyle(1001)\n",
    "hpull.SetFillColor(1);\n",
    "for i in range(0,hpull.GetN()):#(int i=0;i<hpull.GetN();++i): \n",
    "    hpull.SetPointError(i,0.0,0.0,0.0,0.0)\n",
    "# pullplot = x.frame(Title(\" \"))\n",
    "pullplot = x.frame()\n",
    "pullplot.SetTitle(\"\")\n",
    "pullplot.addPlotable(hpull,\"BE\")\n",
    "# pullplot.addPlotable(hpull,\"PE\")\n",
    "\n",
    "pullplot.SetYTitle(\"Pull\")\n",
    "pullplot.GetXaxis().SetTitleSize(0)\n",
    "pullplot.GetYaxis().SetTitleSize(0.22)\n",
    "pullplot.GetYaxis().CenterTitle(True)\n",
    "pullplot.GetYaxis().SetTitleOffset(0.2)\n",
    "pullplot.SetMinimum(-4.)\n",
    "pullplot.SetMaximum(4.)\n",
    "pullplot.GetXaxis().SetLabelSize(0.15)\n",
    "pullplot.GetYaxis().SetLabelSize(0.105)\n",
    "canv.cd(2)\n",
    "pullplot.Draw()\n",
    "\n",
    "xmin1 = ctypes.c_double(fitting_region[0])\n",
    "xmax1 = ctypes.c_double(fitting_region[1])\n",
    "# xmin1 = 0.1\n",
    "# xmax1 = 0.18\n",
    "line = ROOT.TLine(xmin1,0.0,xmax1,0.0)\n",
    "line1 = ROOT.TLine(xmin1,3.0,xmax1,3.0)\n",
    "line2 = ROOT.TLine(xmin1,-3.0,xmax1,-3.0)\n",
    "\n",
    "line.SetLineColor(ROOT.kRed)\n",
    "line.SetLineWidth(3)\n",
    "line1.SetLineColor(ROOT.kRed)\n",
    "line2.SetLineColor(ROOT.kRed)\n",
    "line1.SetLineStyle(2)\n",
    "line2.SetLineStyle(2)\n",
    "line.Draw(\"SAME\")\n",
    "line1.Draw(\"SAME\")\n",
    "line2.Draw(\"SAME\")\n",
    "\n",
    "canv.Update()\n",
    "\n",
    "canv.Draw()\n",
    "# canv.SaveAs(\"/media/jykim/T7/saved_plots/fitting/results/phigamma/MCrd_isSignal_Vg.png\")\n",
    "canv.SaveAs(\"test_Default.png\")\n",
    "\n",
    "f = ROOT.TFile(\"phig_MC15rd_Vg_fitresult_D0M.root\", \"RECREATE\")\n",
    "r.Write(\"phig\")\n",
    "f.Close()"
   ]
  },
  {
   "cell_type": "code",
   "execution_count": null,
   "id": "054e9d64-88d6-4c58-a6f2-12a7e94de121",
   "metadata": {},
   "outputs": [],
   "source": []
  },
  {
   "cell_type": "code",
   "execution_count": 14,
   "id": "42c76b7b-866a-4d7a-9453-aa3d26d8e1a0",
   "metadata": {},
   "outputs": [],
   "source": [
    "# ROOT.RooClassFactory.makePdf(\"MyPdf_one_minus_squared\", \"y\", \"\", \"1-y*y\")\n",
    "# ROOT.gROOT.ProcessLineSync(\".x MyPdf_one_minus_squared.cxx+\")"
   ]
  },
  {
   "cell_type": "code",
   "execution_count": 15,
   "id": "3825eb1b-621c-491c-b2ab-65f1bbd07de6",
   "metadata": {},
   "outputs": [
    {
     "data": {
      "text/plain": [
       "94383248091984"
      ]
     },
     "execution_count": 15,
     "metadata": {},
     "output_type": "execute_result"
    },
    {
     "name": "stdout",
     "output_type": "stream",
     "text": [
      "(MyPdf_one_minus_squared_para) An instance of MyPdf_one_minus_squared_para.\n"
     ]
    }
   ],
   "source": [
    "# ROOT.RooClassFactory.makePdf(\"MyPdf_one_minus_squared_para\", \"x,c0\", \"\", \"c0*(1-x*x)\")\n",
    "ROOT.gROOT.ProcessLineSync(\".x MyPdf_one_minus_squared_para.cxx+\")"
   ]
  },
  {
   "cell_type": "code",
   "execution_count": 16,
   "id": "5d147d97-73a1-482d-a11b-d560492f9951",
   "metadata": {},
   "outputs": [],
   "source": [
    "c0 = ROOT.RooRealVar(\"c0\", \"c0\",0.5, -1,1)\n"
   ]
  },
  {
   "cell_type": "code",
   "execution_count": 17,
   "id": "0bfef89e-24aa-41de-818b-878ea9a9bd61",
   "metadata": {},
   "outputs": [],
   "source": [
    "fitting_region = (-1,1)\n",
    "x = ROOT.RooRealVar(\"D0_cosHel_0\", \"cos#theta_{H}\", fitting_region[0], fitting_region[1], \"\")\n",
    "model = ROOT.MyPdf_one_minus_squared_para(\"model\", \"pdf\", x, c0)\n",
    "# x.setBins(50)\n",
    "# l = ROOT.RooArgList(x)\n",
    "# signalhist = ROOT.RooDataHist(\"sighist\", \"sighist\", l, D0_M_TH1F, scale_factor)\n",
    "# signalhist = ROOT.RooDataHist(\"sighist\", \"sighist\", l, D0_M_TH1F, 1)\n",
    "\n",
    "# data = ROOT.RooDataHist(\"sighist\", \"sighist\", l, TH1F, 1)\n"
   ]
  },
  {
   "cell_type": "code",
   "execution_count": 18,
   "id": "f635312b-ed19-43be-81ba-a1793c1a889b",
   "metadata": {},
   "outputs": [
    {
     "name": "stdout",
     "output_type": "stream",
     "text": [
      "[#1] INFO:Eval -- RooRealVar::setRange(D0_cosHel_0) new range named 'fit' created with bounds [-1,1]\n",
      "[#0] WARNING:InputArguments -- RooAbsPdf::fitTo(model) WARNING: a likelihood fit is requested of what appears to be weighted data.\n",
      "       While the estimated values of the parameters will always be calculated taking the weights into account,\n",
      "       there are multiple ways to estimate the errors of the parameters. You are advised to make an \n",
      "       explicit choice for the error calculation:\n",
      "           - Either provide SumW2Error(true), to calculate a sum-of-weights-corrected HESSE error matrix\n",
      "             (error will be proportional to the number of events in MC).\n",
      "           - Or provide SumW2Error(false), to return errors from original HESSE error matrix\n",
      "             (which will be proportional to the sum of the weights, i.e., a dataset with <sum of weights> events).\n",
      "           - Or provide AsymptoticError(true), to use the asymptotically correct expression\n",
      "             (for details see https://arxiv.org/abs/1911.01303).\n",
      "[#1] INFO:Minimization -- RooAbsMinimizerFcn::setOptimizeConst: activating const optimization\n",
      "[#1] INFO:Fitting -- RooAbsOptTestStatistic::ctor(nll_model_data) constructing test statistic for sub-range named fit\n",
      "[#1] INFO:Eval -- RooRealVar::setRange(D0_cosHel_0) new range named 'NormalizationRangeForfit' created with bounds [-1,1]\n",
      "[#1] INFO:Eval -- RooRealVar::setRange(D0_cosHel_0) new range named 'fit_nll_model_data' created with bounds [-1,1]\n",
      "[#1] INFO:Fitting -- RooAbsOptTestStatistic::ctor(nll_model_data) fixing interpretation of coefficients of any RooAddPdf to full domain of observables \n",
      "[#1] INFO:NumericIntegration -- RooRealIntegral::init(model_Int[D0_cosHel_0]) using numeric integrator RooIntegrator1D to calculate Int(D0_cosHel_0)\n",
      "[#1] INFO:Eval -- RooAbsTestStatistic::initMPMode: started 12 remote server process.\n",
      "[#1] INFO:NumericIntegration -- RooRealIntegral::init(model_Int[D0_cosHel_0]) using numeric integrator RooIntegrator1D to calculate Int(D0_cosHel_0)\n",
      "[#1] INFO:NumericIntegration -- RooRealIntegral::init(model_Int[D0_cosHel_0]) using numeric integrator RooIntegrator1D to calculate Int(D0_cosHel_0)\n",
      "[#1] INFO:NumericIntegration -- RooRealIntegral::init(model_Int[D0_cosHel_0]) using numeric integrator RooIntegrator1D to calculate Int(D0_cosHel_0)\n",
      "[#1] INFO:NumericIntegration -- RooRealIntegral::init(model_Int[D0_cosHel_0]) using numeric integrator RooIntegrator1D to calculate Int(D0_cosHel_0)\n",
      "[#1] INFO:NumericIntegration -- RooRealIntegral::init(model_Int[D0_cosHel_0]) using numeric integrator RooIntegrator1D to calculate Int(D0_cosHel_0)\n",
      "[#1] INFO:NumericIntegration -- RooRealIntegral::init(model_Int[D0_cosHel_0]) using numeric integrator RooIntegrator1D to calculate Int(D0_cosHel_0)\n",
      "[#1] INFO:NumericIntegration -- RooRealIntegral::init(model_Int[D0_cosHel_0]) using numeric integrator RooIntegrator1D to calculate Int(D0_cosHel_0)\n",
      "[#1] INFO:NumericIntegration -- RooRealIntegral::init(model_Int[D0_cosHel_0]) using numeric integrator RooIntegrator1D to calculate Int(D0_cosHel_0)\n",
      "[#1] INFO:NumericIntegration -- RooRealIntegral::init(model_Int[D0_cosHel_0]) using numeric integrator RooIntegrator1D to calculate Int(D0_cosHel_0)\n",
      "[#1] INFO:NumericIntegration -- RooRealIntegral::init(model_Int[D0_cosHel_0]) using numeric integrator RooIntegrator1D to calculate Int(D0_cosHel_0)\n",
      "[#1] INFO:NumericIntegration -- RooRealIntegral::init(model_Int[D0_cosHel_0]) using numeric integrator RooIntegrator1D to calculate Int(D0_cosHel_0)\n",
      "[#1] INFO:NumericIntegration -- RooRealIntegral::init(model_Int[D0_cosHel_0]) using numeric integrator RooIntegrator1D to calculate Int(D0_cosHel_0)\n",
      "[#1] INFO:Minimization -- RooAbsMinimizerFcn::setOptimizeConst: deactivating const optimization\n",
      "\n",
      "  RooFitResult: minimized FCN value: 149.754, estimated distance to minimum: 4.44089e-14\n",
      "                covariance matrix quality: Full, accurate covariance matrix\n",
      "                Status : MINIMIZE=0 HESSE=0 \n",
      "\n",
      "    Floating Parameter    FinalValue +/-  Error   \n",
      "  --------------------  --------------------------\n",
      "                    c0    5.2024e-01 +/-  1.46e+00\n",
      "\n",
      "[#1] INFO:Plotting -- RooAbsPdf::plotOn(model) p.d.f was fitted in a subrange and no explicit Range() and NormRange() was specified. Plotting / normalising in fit range. To override, do one of the following\n",
      "\t- Clear the automatic fit range attribute: <pdf>.setStringAttribute(\"fitrange\", nullptr);\n",
      "\t- Explicitly specify the plotting range: Range(\"<rangeName>\").\n",
      "\t- Explicitly specify where to compute the normalisation: NormRange(\"<rangeName>\").\n",
      "\tThe default (full) range can be denoted with Range(\"\") / NormRange(\"\").\n",
      "[#1] INFO:Plotting -- RooAbsPdf::plotOn(model) only plotting range 'fit_nll_model_data'\n",
      "[#1] INFO:Plotting -- RooAbsPdf::plotOn(model) p.d.f. curve is normalized using explicit choice of ranges 'fit_nll_model_data'\n",
      "[#1] INFO:NumericIntegration -- RooRealIntegral::init(model_Int[D0_cosHel_0]) using numeric integrator RooIntegrator1D to calculate Int(D0_cosHel_0)\n",
      "[#1] INFO:NumericIntegration -- RooRealIntegral::init(model_Int[D0_cosHel_0|fit_nll_model_data]_Norm[D0_cosHel_0]) using numeric integrator RooIntegrator1D to calculate Int(D0_cosHel_0)\n",
      "[#0] WARNING:Plotting -- RooHist::makeResisHist(data1) WARNING: point 0 has zero error, setting residual to zero\n",
      "[#0] WARNING:Plotting -- RooHist::makeResisHist(data1) WARNING: point 4 has zero error, setting residual to zero\n",
      "[#0] WARNING:Plotting -- RooHist::makeResisHist(data1) WARNING: point 97 has zero error, setting residual to zero\n"
     ]
    },
    {
     "name": "stderr",
     "output_type": "stream",
     "text": [
      "Warning in <TCanvas::Constructor>: Deleting canvas with same name: Canvas\n",
      "Info in <TCanvas::Print>: png file /media/jykim/T7/saved_plots/fitting/results/phigamma/MCrd_isSignal_Vg_cosHel.png has been created\n"
     ]
    },
    {
     "data": {
      "image/png": "[encoded data removed]",
      "text/plain": [
       "<IPython.core.display.Image object>"
      ]
     },
     "metadata": {},
     "output_type": "display_data"
    }
   ],
   "source": [
    "canv = ROOT.TCanvas(\"Canvas\", \"Canvas\", 700, 640)\n",
    "\n",
    "xlow = ctypes.c_double()\n",
    "ylow = ctypes.c_double()\n",
    "xup = ctypes.c_double()\n",
    "yup = ctypes.c_double()\n",
    "\n",
    "canv.GetPad(0).GetPadPar(xlow, ylow, xup, yup)\n",
    "canv.Divide(1,2)\n",
    "\n",
    "xlow = xlow.value\n",
    "ylow = ylow.value\n",
    "xup = xup.value\n",
    "yup = yup.value\n",
    "\n",
    "upPad = canv.GetPad(1)\n",
    "upPad.SetPad(xlow, ylow+0.25*(yup-ylow),xup,yup)\n",
    "\n",
    "dwPad = canv.GetPad(2)\n",
    "dwPad.SetPad(xlow, ylow,xup,ylow+0.25*(yup-ylow))\n",
    "\n",
    "\n",
    "\n",
    "\n",
    "# model = ROOT.RooCBShape(\"model\", \"Signal component 2\", x, mean, sigma2, alpha, n_CB)\n",
    "\n",
    "# model = ROOT.RooAddPdf(\"model\", \"model\", [sig1, sig2], sig1frac)\n",
    "\n",
    "\n",
    "r = model.fitTo(data,NumCPU=12,Range=fitting_region,PrintLevel=-1, Save=1)\n",
    "\n",
    "r.Print()\n",
    "canv.cd(1) \n",
    "# frame = x.frame(Title=\"D^{0} #rightarrow #bar{K}^{*0} #pi^{0}\")\n",
    "frame = x.frame(Title=\" \")\n",
    "\n",
    "# data.plotOn(frame,Name = \"data1\", XErrorSize=0)\n",
    "data.plotOn(frame, Name = \"data1\", DataError= ROOT.RooAbsData.SumW2, XErrorSize=0)\n",
    "\n",
    "# \n",
    "# model.plotOn(frame, Name=\"gauss1\", Components=sig1, LineStyle=ROOT.kDashed, LineColor=593)\n",
    "# model.plotOn(frame, Name=\"CB1\", Components=sig2, LineStyle=ROOT.kDashed, LineColor=593)\n",
    "# # sig.plotOn(frame, Name=\"Novo\", Components=sig3, LineStyle=ROOT.kDashed, LineColor=593)\n",
    "\n",
    "model.plotOn(frame, Name=\"fitting\",)\n",
    "\n",
    "\n",
    "# sig.paramOn(frame)\n",
    "frame.GetXaxis().CenterTitle(True)\n",
    "\n",
    "frame.Draw(\"PE\")\n",
    "\n",
    "\n",
    "leg1 = ROOT.TLegend(0.18, 0.75, 0.33, 0.9)\n",
    "leg1.SetFillColor(ROOT.kWhite)\n",
    "# leg1.SetHeader(\"The Legend title\",\"C\")\n",
    "leg1.AddEntry(\"data1\", \"MC\", \"PE\")\n",
    "leg1.AddEntry(\"fitting\", \"fit\", \"l\")\n",
    "leg1.Draw()\n",
    "\n",
    "hpull = frame.pullHist()\n",
    "hpull.SetFillStyle(1001)\n",
    "hpull.SetFillColor(1);\n",
    "for i in range(0,hpull.GetN()):#(int i=0;i<hpull.GetN();++i): \n",
    "    hpull.SetPointError(i,0.0,0.0,0.0,0.0)\n",
    "# pullplot = x.frame(Title(\" \"))\n",
    "pullplot = x.frame()\n",
    "pullplot.SetTitle(\"\")\n",
    "pullplot.addPlotable(hpull,\"BE\")\n",
    "# pullplot.addPlotable(hpull,\"PE\")\n",
    "\n",
    "pullplot.SetYTitle(\"Pull\")\n",
    "pullplot.GetXaxis().SetTitleSize(0)\n",
    "pullplot.GetYaxis().SetTitleSize(0.22)\n",
    "pullplot.GetYaxis().CenterTitle(True)\n",
    "pullplot.GetYaxis().SetTitleOffset(0.2)\n",
    "pullplot.SetMinimum(-4.)\n",
    "pullplot.SetMaximum(4.)\n",
    "pullplot.GetXaxis().SetLabelSize(0.15)\n",
    "pullplot.GetYaxis().SetLabelSize(0.105)\n",
    "canv.cd(2)\n",
    "pullplot.Draw()\n",
    "\n",
    "xmin1 = ctypes.c_double(fitting_region[0])\n",
    "xmax1 = ctypes.c_double(fitting_region[1])\n",
    "# xmin1 = 0.1\n",
    "# xmax1 = 0.18\n",
    "line = ROOT.TLine(xmin1,0.0,xmax1,0.0)\n",
    "line1 = ROOT.TLine(xmin1,3.0,xmax1,3.0)\n",
    "line2 = ROOT.TLine(xmin1,-3.0,xmax1,-3.0)\n",
    "\n",
    "line.SetLineColor(ROOT.kRed)\n",
    "line.SetLineWidth(3)\n",
    "line1.SetLineColor(ROOT.kRed)\n",
    "line2.SetLineColor(ROOT.kRed)\n",
    "line1.SetLineStyle(2)\n",
    "line2.SetLineStyle(2)\n",
    "line.Draw(\"SAME\")\n",
    "line1.Draw(\"SAME\")\n",
    "line2.Draw(\"SAME\")\n",
    "\n",
    "canv.Update()\n",
    "\n",
    "canv.Draw()\n",
    "canv.SaveAs(\"/media/jykim/T7/saved_plots/fitting/results/phigamma/MCrd_isSignal_Vg_cosHel.png\")\n",
    "# canv.SaveAs(\"phi_massveto_1ab_signal_cosHel.png\")\n",
    "\n",
    "# f = ROOT.TFile(\"phig_MC15rd_Vg_fitresult_cosHel.root\", \"RECREATE\")\n",
    "# r.Write(\"phig\")\n",
    "# f.Close()\n"
   ]
  },
  {
   "cell_type": "code",
   "execution_count": null,
   "id": "ae26008c-0052-48cc-8f1d-f4dd664b6aa6",
   "metadata": {},
   "outputs": [],
   "source": []
  }
 ],
 "metadata": {
  "kernelspec": {
   "display_name": "Python 3 (ipykernel)",
   "language": "python",
   "name": "python3"
  },
  "language_info": {
   "codemirror_mode": {
    "name": "ipython",
    "version": 3
   },
   "file_extension": ".py",
   "mimetype": "text/x-python",
   "name": "python",
   "nbconvert_exporter": "python",
   "pygments_lexer": "ipython3",
   "version": "3.10.5"
  }
 },
 "nbformat": 4,
 "nbformat_minor": 5
}
