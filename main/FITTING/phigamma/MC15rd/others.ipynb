{
 "cells": [
  {
   "cell_type": "code",
   "execution_count": 1,
   "id": "6ba62ef9-8b91-4787-89d6-dc4dfb217213",
   "metadata": {},
   "outputs": [
    {
     "name": "stdout",
     "output_type": "stream",
     "text": [
      "Welcome to JupyROOT 6.26/04\n"
     ]
    }
   ],
   "source": [
    "%matplotlib inline\n",
    "%load_ext autoreload\n",
    "%autoreload 2\n",
    "import seaborn as sns\n",
    "import numpy as np\n",
    "import pandas as pd\n",
    "import matplotlib.pyplot as plt\n",
    "import ROOT\n",
    "import ctypes\n",
    "import glob\n",
    "try:\n",
    "#     plt.style.use('belle2')\n",
    "    plt.style.use('belle2_serif')\n",
    "#     plt.style.use('belle2_modern')\n",
    "except OSError:\n",
    "    print(\"Please install belle2 matplotlib style\")   \n",
    "px = 1/plt.rcParams['figure.dpi']\n",
    "\n",
    "from main.data_tools.extract_ntuples import get_pd, get_np"
   ]
  },
  {
   "cell_type": "code",
   "execution_count": 2,
   "id": "e1b4c81a-9c1b-4ff9-9e71-573f72272700",
   "metadata": {},
   "outputs": [
    {
     "name": "stdout",
     "output_type": "stream",
     "text": [
      "\n",
      "Applying BELLE2 style settings...\n"
     ]
    }
   ],
   "source": [
    "ROOT.gROOT.LoadMacro('/home/jykim/workspace/DRAW_and_FITTING/main/Belle2Style.C')\n",
    "ROOT.SetBelle2Style()"
   ]
  },
  {
   "cell_type": "markdown",
   "id": "6efc8001-09f3-4907-9a3e-45a7b34a541b",
   "metadata": {},
   "source": [
    "#  D0 -> phi X"
   ]
  },
  {
   "cell_type": "code",
   "execution_count": 19,
   "id": "080dade3-3cf8-45eb-b2c0-31ecb8012b89",
   "metadata": {},
   "outputs": [],
   "source": [
    "mychain = ROOT.TChain(\"phi\")\n",
    "# file_list = [\"/media/jykim/T7_2/storage/Ntuples_ghi_2/MC15rd/MC15rd_Vg_preext_maxFBDT_2ndFBDT/ccbar/*.root\"]\n",
    "file_list = glob.glob(\"/media/jykim/T7_2/storage/Ntuples_ghi_2/MC15rd/MC15rd_Vg_sigext_maxFBDT_2ndFBDT/topo/resultfile/result_phi/*.root\")\n",
    "\n",
    "# adding_file_list = glob.glob(\"/media/jykim/T7_2/storage/Ntuples_ghi_2/MC15rd/MC15rd_Vg_preext_maxFBDT_2ndFBDT/topo/*.root\")\n",
    "\n",
    "# for i in range(len(adding_file_list)):\n",
    "    # adding_file_list[i] += '/phi_cc'\n",
    "\n",
    "# file_list += adding_file_list\n",
    "    \n",
    "for i in file_list:\n",
    "    mychain.Add(i)"
   ]
  },
  {
   "cell_type": "code",
   "execution_count": 20,
   "id": "020ed937-5dd9-4706-aab9-e9538b7b164e",
   "metadata": {},
   "outputs": [
    {
     "data": {
      "text/plain": [
       "['/media/jykim/T7_2/storage/Ntuples_ghi_2/MC15rd/MC15rd_Vg_sigext_maxFBDT_2ndFBDT/topo/resultfile/result_phi/standard.root']"
      ]
     },
     "execution_count": 20,
     "metadata": {},
     "output_type": "execute_result"
    }
   ],
   "source": [
    "file_list"
   ]
  },
  {
   "cell_type": "code",
   "execution_count": 21,
   "id": "66874d8b-8f6c-47dc-9920-b6de9a55ebf5",
   "metadata": {},
   "outputs": [],
   "source": [
    "yrange = (-1, 1)\n",
    "x = ROOT.RooRealVar(\"D0_M\", \"M(D^{0}) [GeV/c^{2}]\", 1.68, 2.05, \"\")\n",
    "y = ROOT.RooRealVar(\"D0_cosHel_0\", \"cos#theta_{H}\", yrange[0], yrange[1], \"\")\n",
    "a = ROOT.RooRealVar(\"Phi_M\", \"\",0,10, \"\")\n",
    "b = ROOT.RooRealVar(\"Dstarp_CMS_p\", \"\",0,10, \"\")\n",
    "c = ROOT.RooRealVar(\"Dstarp_isSignal\", \"\",-10,10, \"\")\n",
    "d = ROOT.RooRealVar(\"gamma_E\", \"\",0,10, \"\")\n",
    "e = ROOT.RooRealVar(\"Pi0_Prob2\", \"\",0,10, \"\")\n",
    "f = ROOT.RooRealVar(\"Dstarp_delM\", \"\",0,10, \"\")\n",
    "g = ROOT.RooRealVar(\"iCascDcyBrP_Dst_0\", \"\",-200,200, \"\")\n",
    "\n",
    "h = ROOT.RooRealVar(\"iCascDcyBrP_Dstm_0\", \"\",-200,200, \"\")"
   ]
  },
  {
   "cell_type": "code",
   "execution_count": 22,
   "id": "696462bb-276c-4093-9c33-19b4486ec9df",
   "metadata": {},
   "outputs": [
    {
     "name": "stdout",
     "output_type": "stream",
     "text": [
      "60.75\n",
      "[#1] INFO:InputArguments -- The formula D0_M>1.68 & D0_M<2.05 & abs(Phi_M - 1.0195) < 0.011 &  Dstarp_CMS_p>2.5  & gamma_E>0.47 & Pi0_Prob2>0.5 & abs(Dstarp_delM-0.1455)<0.00078 & (iCascDcyBrP_Dst_0==7 | iCascDcyBrP_Dst_0==16 | iCascDcyBrP_Dst_0==12) claims to use the variables (D0_M,D0_cosHel_0,Phi_M,Dstarp_CMS_p,Dstarp_isSignal,gamma_E,Pi0_Prob2,Dstarp_delM,iCascDcyBrP_Dst_0) but only (D0_M,Phi_M,Dstarp_CMS_p,gamma_E,Pi0_Prob2,Dstarp_delM,iCascDcyBrP_Dst_0) seem to be in use.\n",
      "  inputs:         D0_M>1.68 & D0_M<2.05 & abs(Phi_M - 1.0195) < 0.011 &  Dstarp_CMS_p>2.5  & gamma_E>0.47 & Pi0_Prob2>0.5 & abs(Dstarp_delM-0.1455)<0.00078 & (iCascDcyBrP_Dst_0==7 | iCascDcyBrP_Dst_0==16 | iCascDcyBrP_Dst_0==12)\n",
      "[#1] INFO:DataHandling -- RooAbsReal::attachToTree(iCascDcyBrP_Dst_0) TTree Int_t branch iCascDcyBrP_Dst_0 will be converted to double precision.\n"
     ]
    }
   ],
   "source": [
    "Cut=\"D0_M>1.68 & D0_M<2.05 & abs(Phi_M - 1.0195) < 0.011 &  Dstarp_CMS_p>2.5  \"\n",
    "Cut+=\"& gamma_E>0.47 & Pi0_Prob2>0.5 & abs(Dstarp_delM-0.1455)<0.00078 & (iCascDcyBrP_Dst_0==7 | iCascDcyBrP_Dst_0==16 | iCascDcyBrP_Dst_0==12)\"\n",
    "\n",
    "# Cut=\" iCascDcyBrP_Dst_0>0 && iCascDcyBrP_Dst_0<2 \"\n",
    "\n",
    "# data = ROOT.RooDataSet(\"data\",\"\", ROOT.RooArgSet(x,y,z), ROOT.RooFit.Import(mychain), Cut=\" D0_M>1.68 & D0_M<2.05 & Belle2Pi0Veto_75MeV > 0.022 \")\n",
    "before_data = ROOT.RooDataSet(\"data\",\"\", ROOT.RooArgSet(x,y,a,b,c,d,e,f,g), ROOT.RooFit.Import(mychain), Cut=Cut)\n",
    "\n",
    "\n",
    "w_1 = ROOT.RooRealVar('w_1', 'w', 0,1)\n",
    "\n",
    "w_1.setVal(1/4)\n",
    "# w_1.setVal(1)\n",
    "before_data.addColumn(w_1)\n",
    "data = ROOT.RooDataSet(before_data.GetName(), before_data.GetTitle(),before_data, before_data.get(), '' ,  'w_1')\n",
    "N_total = data.sumEntries()\n",
    "print(N_total)"
   ]
  },
  {
   "cell_type": "code",
   "execution_count": 23,
   "id": "48994bd8-86e4-407f-bb99-52b8b67ca2c4",
   "metadata": {},
   "outputs": [
    {
     "name": "stdout",
     "output_type": "stream",
     "text": [
      "RooDataSet::data[D0_M,D0_cosHel_0,Phi_M,Dstarp_CMS_p,Dstarp_isSignal,gamma_E,Pi0_Prob2,Dstarp_delM,iCascDcyBrP_Dst_0,weight:w_1] = 243 entries (60.75 weighted)\n"
     ]
    }
   ],
   "source": [
    "data.Print()"
   ]
  },
  {
   "cell_type": "code",
   "execution_count": 24,
   "id": "cb0fa665-cded-4539-ad44-4f2fd2e67e42",
   "metadata": {},
   "outputs": [],
   "source": [
    "mychain2 = ROOT.TChain(\"phi_cc\")\n",
    "# file_list = [\"/media/jykim/T7_2/storage/Ntuples_ghi_2/MC15rd/MC15rd_Vg_preext_maxFBDT_2ndFBDT/ccbar/*.root\"]\n",
    "file_list = glob.glob(\"/media/jykim/T7_2/storage/Ntuples_ghi_2/MC15rd/MC15rd_Vg_sigext_maxFBDT_2ndFBDT/topo/resultfile/result_phi_cc/*.root\")\n",
    "for i in file_list:\n",
    "    mychain2.Add(i)"
   ]
  },
  {
   "cell_type": "code",
   "execution_count": 25,
   "id": "3bc3fd07-eb80-4601-988d-73f61d3b9e9b",
   "metadata": {},
   "outputs": [
    {
     "name": "stdout",
     "output_type": "stream",
     "text": [
      "51.0\n",
      "[#1] INFO:InputArguments -- The formula D0_M>1.68 & D0_M<2.05 & abs(Phi_M - 1.0195) < 0.011 &  Dstarp_CMS_p>2.5  & gamma_E>0.47 & Pi0_Prob2>0.5 & abs(Dstarp_delM-0.1455)<0.00078 & (iCascDcyBrP_Dstm_0==6 | iCascDcyBrP_Dstm_0==5 | iCascDcyBrP_Dstm_0==23) claims to use the variables (D0_M,D0_cosHel_0,Phi_M,Dstarp_CMS_p,Dstarp_isSignal,gamma_E,Pi0_Prob2,Dstarp_delM,iCascDcyBrP_Dstm_0) but only (D0_M,Phi_M,Dstarp_CMS_p,gamma_E,Pi0_Prob2,Dstarp_delM,iCascDcyBrP_Dstm_0) seem to be in use.\n",
      "  inputs:         D0_M>1.68 & D0_M<2.05 & abs(Phi_M - 1.0195) < 0.011 &  Dstarp_CMS_p>2.5  & gamma_E>0.47 & Pi0_Prob2>0.5 & abs(Dstarp_delM-0.1455)<0.00078 & (iCascDcyBrP_Dstm_0==6 | iCascDcyBrP_Dstm_0==5 | iCascDcyBrP_Dstm_0==23)\n",
      "[#1] INFO:DataHandling -- RooAbsReal::attachToTree(iCascDcyBrP_Dstm_0) TTree Int_t branch iCascDcyBrP_Dstm_0 will be converted to double precision.\n"
     ]
    }
   ],
   "source": [
    "Cut=\"D0_M>1.68 & D0_M<2.05 & abs(Phi_M - 1.0195) < 0.011 &  Dstarp_CMS_p>2.5  \"\n",
    "Cut+=\"& gamma_E>0.47 & Pi0_Prob2>0.5 & abs(Dstarp_delM-0.1455)<0.00078 & (iCascDcyBrP_Dstm_0==6 | iCascDcyBrP_Dstm_0==5 | iCascDcyBrP_Dstm_0==23)\"\n",
    "# Cut=\"iCascDcyBrP_Dstm_0==0\"\n",
    " \n",
    "before_data2 = ROOT.RooDataSet(\"data2\",\"\", ROOT.RooArgSet(x,y,a,b,c,d,e,f,h), ROOT.RooFit.Import(mychain2), Cut=Cut)\n",
    "before_data2.addColumn(w_1)\n",
    "data2 = ROOT.RooDataSet(before_data2.GetName(), before_data2.GetTitle(),before_data2, before_data2.get(), '' ,  'w_1')\n",
    "N_total = data2.sumEntries()\n",
    "print(N_total)"
   ]
  },
  {
   "cell_type": "code",
   "execution_count": 26,
   "id": "c1555f8a-d0b8-4d73-a887-6e9fb72047d7",
   "metadata": {},
   "outputs": [
    {
     "name": "stdout",
     "output_type": "stream",
     "text": [
      "RooDataSet::data2[D0_M,D0_cosHel_0,Phi_M,Dstarp_CMS_p,Dstarp_isSignal,gamma_E,Pi0_Prob2,Dstarp_delM,iCascDcyBrP_Dstm_0,weight:w_1] = 204 entries (51 weighted)\n"
     ]
    }
   ],
   "source": [
    "data2.Print()"
   ]
  },
  {
   "cell_type": "code",
   "execution_count": 27,
   "id": "15f01c18-2334-4770-a078-17f1466f97a3",
   "metadata": {},
   "outputs": [],
   "source": [
    "data.append(data2)"
   ]
  },
  {
   "cell_type": "code",
   "execution_count": 28,
   "id": "f8fd7cde-0fc4-459a-a89f-b5b55424fe94",
   "metadata": {},
   "outputs": [
    {
     "data": {
      "text/plain": [
       "111.75"
      ]
     },
     "execution_count": 28,
     "metadata": {},
     "output_type": "execute_result"
    }
   ],
   "source": [
    "data.sumEntries()"
   ]
  },
  {
   "cell_type": "code",
   "execution_count": 69,
   "id": "efd13ba8-a9dc-4505-bc31-2adee2246bfa",
   "metadata": {},
   "outputs": [],
   "source": [
    "# fitting_region = (1.78, 1.91)\n",
    "fitting_region = (1.68, 2.05)\n",
    "\n",
    "x = ROOT.RooRealVar(\"D0_M\", \"M(D^{0}) [GeV/c^{2}]\", fitting_region[0], fitting_region[1], \"\")\n",
    "# y = ROOT.RooRealVar(\"dM_pi0_75MeV\", \"M(D^{0}) [GeV/c^{2}]\",0,10, \"\")\n",
    "\n",
    "# x.setBins(50)\n",
    "# l = ROOT.RooArgList(x)\n",
    "# signalhist = ROOT.RooDataHist(\"sighist\", \"sighist\", l, D0_M_TH1F, scale_factor)\n",
    "# signalhist = ROOT.RooDataHist(\"sighist\", \"sighist\", l, D0_M_TH1F, 1)\n",
    "\n",
    "# signalhist = ROOT.RooDataHist(\"sighist\", \"sighist\", l, D0_M_TH1F, 1)\n"
   ]
  },
  {
   "cell_type": "code",
   "execution_count": 70,
   "id": "f31830f2-d666-43dd-8213-e5c1dec78e2d",
   "metadata": {},
   "outputs": [],
   "source": [
    "mean = ROOT.RooRealVar(\"mean\", \"mean of gaussians\", 1.6,1.5, 1.70)\n",
    "sigma1 = ROOT.RooRealVar(\"sigma1\", \"width of gaussians\", 0.025,0.001,0.03)\n",
    "# tau = ROOT.RooRealVar(\"tau\", \"tau\",-5, -10,0)\n",
    "\n",
    "x_bkg2_c0 = ROOT.RooRealVar(\"x_bkg2_c0\", \"c0\",0.2, -1,1)\n",
    "x_bkg2_c1 = ROOT.RooRealVar(\"x_bkg2_c1\", \"c1\",0.2, -1,1)"
   ]
  },
  {
   "cell_type": "code",
   "execution_count": 71,
   "id": "18450093-f73f-4028-9c2f-45aedbd9c5bd",
   "metadata": {},
   "outputs": [],
   "source": [
    "# model = ROOT.RooExponential(\"model\", \"Signal component 1\", x, tau)\n",
    "\n",
    "\n",
    "sig1 = ROOT.RooGaussian(\"sig1\", \"Signal component 1\", x, mean, sigma1)\n",
    "# sig2 = ROOT.RooPolynomial(\"sig2\", \"Signal component 2\", x, ROOT.RooArgList(x_bkg2_c0, x_bkg2_c1))\n",
    "sig2 = ROOT.RooPolynomial(\"sig2\", \"Signal component 2\", x, ROOT.RooArgList(x_bkg2_c0))\n",
    "\n",
    "sig1frac = ROOT.RooRealVar(\"sig1frac\", \"fraction of component 1 in signal\", 0.5, 0.0, 1.0)\n"
   ]
  },
  {
   "cell_type": "code",
   "execution_count": 72,
   "id": "de5f791b-d64b-4ffb-ad4c-a3c6748356e5",
   "metadata": {},
   "outputs": [
    {
     "name": "stdout",
     "output_type": "stream",
     "text": [
      "[#1] INFO:Eval -- RooRealVar::setRange(D0_M) new range named 'fit' created with bounds [1.68,2.05]\n",
      "[#0] WARNING:InputArguments -- RooAbsPdf::fitTo(model) WARNING: a likelihood fit is requested of what appears to be weighted data.\n",
      "       While the estimated values of the parameters will always be calculated taking the weights into account,\n",
      "       there are multiple ways to estimate the errors of the parameters. You are advised to make an \n",
      "       explicit choice for the error calculation:\n",
      "           - Either provide SumW2Error(true), to calculate a sum-of-weights-corrected HESSE error matrix\n",
      "             (error will be proportional to the number of events in MC).\n",
      "           - Or provide SumW2Error(false), to return errors from original HESSE error matrix\n",
      "             (which will be proportional to the sum of the weights, i.e., a dataset with <sum of weights> events).\n",
      "           - Or provide AsymptoticError(true), to use the asymptotically correct expression\n",
      "             (for details see https://arxiv.org/abs/1911.01303).\n",
      "[#1] INFO:Minimization -- RooAbsMinimizerFcn::setOptimizeConst: activating const optimization\n",
      "[#1] INFO:Fitting -- RooAbsOptTestStatistic::ctor(nll_model_data) constructing test statistic for sub-range named fit\n",
      "[#1] INFO:Eval -- RooRealVar::setRange(D0_M) new range named 'NormalizationRangeForfit' created with bounds [1.68,2.05]\n",
      "[#1] INFO:Eval -- RooRealVar::setRange(D0_M) new range named 'fit_nll_model_data' created with bounds [1.68,2.05]\n",
      "[#1] INFO:Fitting -- RooAbsOptTestStatistic::ctor(nll_model_data) fixing interpretation of coefficients of any RooAddPdf to full domain of observables \n",
      "[#1] INFO:Eval -- RooAbsTestStatistic::initMPMode: started 12 remote server process.\n",
      "[#1] INFO:Minimization --  The following expressions will be evaluated in cache-and-track mode: (sig1,sig2)\n",
      "[#1] INFO:Minimization --  The following expressions will be evaluated in cache-and-track mode: (sig1,sig2)\n",
      "[#1] INFO:Minimization --  The following expressions will be evaluated in cache-and-track mode: (sig1,sig2)\n",
      "[#1] INFO:Minimization --  The following expressions will be evaluated in cache-and-track mode: (sig1,sig2)\n",
      "[#1] INFO:Minimization --  The following expressions will be evaluated in cache-and-track mode: (sig1,sig2)\n",
      "[#1] INFO:Minimization --  The following expressions will be evaluated in cache-and-track mode: (sig1,sig2)\n",
      "[#1] INFO:Minimization --  The following expressions will be evaluated in cache-and-track mode: (sig1,sig2)\n",
      "[#1] INFO:Minimization --  The following expressions will be evaluated in cache-and-track mode: (sig1,sig2)\n",
      "[#1] INFO:Minimization --  The following expressions will be evaluated in cache-and-track mode: (sig1,sig2)\n",
      "[#1] INFO:Minimization --  The following expressions will be evaluated in cache-and-track mode: (sig1,sig2)\n",
      "[#1] INFO:Minimization --  The following expressions will be evaluated in cache-and-track mode: (sig1,sig2)\n",
      "[#1] INFO:Minimization --  The following expressions will be evaluated in cache-and-track mode: (sig1,sig2)\n",
      "RooAbsMinimizerFcn: Minimized function has error status.\n",
      "Returning maximum FCN so far (-150.662) to force MIGRAD to back out of this region. Error log follows.\n",
      "Parameter values: \tmean=1.69122\tsig1frac=0.5\tsigma1=0.025\tx_bkg2_c0=-0.629646\n",
      "PID136301/RooRealMPFE::nll_model_data_5609bd6fcc00_MPFE11[ arg=nll_model_data_GOF11 vars=(mean,sig1frac,sigma1,x_bkg2_c0) ]\n",
      "     getLogVal() top-level p.d.f evaluates to NaN @ !refCoefNorm=(D0_M = 1.7185), !pdfs=(sig1 = 0.551244/0.0421845,sig2 = -0.0820486/-0.0644875), !coefficients=(sig1frac = 0.5)\n",
      "     getLogVal() top-level p.d.f evaluates to NaN @ !refCoefNorm=(D0_M = 1.73573), !pdfs=(sig1 = 0.204963/0.0421845,sig2 = -0.0928944/-0.0644875), !coefficients=(sig1frac = 0.5)\n",
      "     getLogVal() top-level p.d.f evaluates to NaN @ !refCoefNorm=(D0_M = 1.68143), !pdfs=(sig1 = 0.926298/0.0421845,sig2 = -0.0587091/-0.0644875), !coefficients=(sig1frac = 0.5)\n",
      "     getLogVal() top-level p.d.f evaluates to NaN @ !refCoefNorm=(D0_M = 1.6968), !pdfs=(sig1 = 0.975351/0.0421845,sig2 = -0.0683855/-0.0644875), !coefficients=(sig1frac = 0.5)\n",
      "     getLogVal() top-level p.d.f evaluates to NaN @ !refCoefNorm=(D0_M = 1.69385), !pdfs=(sig1 = 0.994473/0.0421845,sig2 = -0.0665259/-0.0644875), !coefficients=(sig1frac = 0.5)\n",
      "     getLogVal() top-level p.d.f evaluates to NaN @ !refCoefNorm=(D0_M = 1.71613), !pdfs=(sig1 = 0.608697/0.0421845,sig2 = -0.0805536/-0.0644875), !coefficients=(sig1frac = 0.5)\n",
      "     getLogVal() top-level p.d.f evaluates to NaN @ !refCoefNorm=(D0_M = 1.68125), !pdfs=(sig1 = 0.923675/0.0421845,sig2 = -0.058596/-0.0644875), !coefficients=(sig1frac = 0.5)\n",
      "     getLogVal() top-level p.d.f evaluates to NaN @ !refCoefNorm=(D0_M = 1.71978), !pdfs=(sig1 = 0.520765/0.0421845,sig2 = -0.0828502/-0.0644875), !coefficients=(sig1frac = 0.5)\n",
      "     getLogVal() top-level p.d.f evaluates to NaN @ !refCoefNorm=(D0_M = 1.83678), !pdfs=(sig1 = 4.35196e-08/0.0421845,sig2 = -0.15652/-0.0644875), !coefficients=(sig1frac = 0.5)\n",
      "     getLogVal() top-level p.d.f evaluates to NaN @ !refCoefNorm=(D0_M = 1.87664), !pdfs=(sig1 = 1.13506e-12/0.0421845,sig2 = -0.181617/-0.0644875), !coefficients=(sig1frac = 0.5)\n",
      "     getLogVal() top-level p.d.f evaluates to NaN @ !refCoefNorm=(D0_M = 1.721), !pdfs=(sig1 = 0.491946/0.0421845,sig2 = -0.0836183/-0.0644875), !coefficients=(sig1frac = 0.5)\n",
      "     getLogVal() top-level p.d.f evaluates to NaN @ !refCoefNorm=(D0_M = 1.68067), !pdfs=(sig1 = 0.914864/0.0421845,sig2 = -0.0582282/-0.0644875), !coefficients=(sig1frac = 0.5)\n",
      "    ... (remaining 1331 messages suppressed)\n",
      "RooNLLVar::nll_model_data[ paramSet=(mean,sig1frac,sigma1,x_bkg2_c0) ]\n",
      "     function value is NAN @ paramSet=(mean = 1.69122,sig1frac = 0.5,sigma1 = 0.025,x_bkg2_c0 = -0.629646)\n",
      "\n",
      "RooAbsMinimizerFcn: Minimized function has error status.\n",
      "Returning maximum FCN so far (-150.662) to force MIGRAD to back out of this region. Error log follows.\n",
      "Parameter values: \tmean=1.69122\tsig1frac=0.5\tsigma1=0.025\tx_bkg2_c0=-0.629392\n",
      "PID136301/RooRealMPFE::nll_model_data_5609bd6fcc00_MPFE11[ arg=nll_model_data_GOF11 vars=(mean,sig1frac,sigma1,x_bkg2_c0) ]\n",
      "     getLogVal() top-level p.d.f evaluates to NaN @ !refCoefNorm=(D0_M = 1.7185), !pdfs=(sig1 = 0.551244/0.0421845,sig2 = -0.0816122/-0.0643123), !coefficients=(sig1frac = 0.5)\n",
      "     getLogVal() top-level p.d.f evaluates to NaN @ !refCoefNorm=(D0_M = 1.73573), !pdfs=(sig1 = 0.204963/0.0421845,sig2 = -0.0924536/-0.0643123), !coefficients=(sig1frac = 0.5)\n",
      "     getLogVal() top-level p.d.f evaluates to NaN @ !refCoefNorm=(D0_M = 1.68143), !pdfs=(sig1 = 0.926298/0.0421845,sig2 = -0.0582821/-0.0643123), !coefficients=(sig1frac = 0.5)\n",
      "     getLogVal() top-level p.d.f evaluates to NaN @ !refCoefNorm=(D0_M = 1.6968), !pdfs=(sig1 = 0.975351/0.0421845,sig2 = -0.0679546/-0.0643123), !coefficients=(sig1frac = 0.5)\n",
      "     getLogVal() top-level p.d.f evaluates to NaN @ !refCoefNorm=(D0_M = 1.69385), !pdfs=(sig1 = 0.994473/0.0421845,sig2 = -0.0660958/-0.0643123), !coefficients=(sig1frac = 0.5)\n",
      "     getLogVal() top-level p.d.f evaluates to NaN @ !refCoefNorm=(D0_M = 1.71613), !pdfs=(sig1 = 0.608697/0.0421845,sig2 = -0.0801178/-0.0643123), !coefficients=(sig1frac = 0.5)\n",
      "     getLogVal() top-level p.d.f evaluates to NaN @ !refCoefNorm=(D0_M = 1.68125), !pdfs=(sig1 = 0.923675/0.0421845,sig2 = -0.0581691/-0.0643123), !coefficients=(sig1frac = 0.5)\n",
      "     getLogVal() top-level p.d.f evaluates to NaN @ !refCoefNorm=(D0_M = 1.71978), !pdfs=(sig1 = 0.520765/0.0421845,sig2 = -0.0824135/-0.0643123), !coefficients=(sig1frac = 0.5)\n",
      "     getLogVal() top-level p.d.f evaluates to NaN @ !refCoefNorm=(D0_M = 1.83678), !pdfs=(sig1 = 4.35196e-08/0.0421845,sig2 = -0.156053/-0.0643123), !coefficients=(sig1frac = 0.5)\n",
      "     getLogVal() top-level p.d.f evaluates to NaN @ !refCoefNorm=(D0_M = 1.87664), !pdfs=(sig1 = 1.13506e-12/0.0421845,sig2 = -0.181141/-0.0643123), !coefficients=(sig1frac = 0.5)\n",
      "     getLogVal() top-level p.d.f evaluates to NaN @ !refCoefNorm=(D0_M = 1.721), !pdfs=(sig1 = 0.491946/0.0421845,sig2 = -0.0831813/-0.0643123), !coefficients=(sig1frac = 0.5)\n",
      "     getLogVal() top-level p.d.f evaluates to NaN @ !refCoefNorm=(D0_M = 1.68067), !pdfs=(sig1 = 0.914864/0.0421845,sig2 = -0.0578014/-0.0643123), !coefficients=(sig1frac = 0.5)\n",
      "    ... (remaining 1331 messages suppressed)\n",
      "RooNLLVar::nll_model_data[ paramSet=(mean,sig1frac,sigma1,x_bkg2_c0) ]\n",
      "     function value is NAN @ paramSet=(mean = 1.69122,sig1frac = 0.5,sigma1 = 0.025,x_bkg2_c0 = -0.629392)\n",
      "\n",
      "RooAbsMinimizerFcn: Minimized function has error status.\n",
      "Returning maximum FCN so far (-150.662) to force MIGRAD to back out of this region. Error log follows.\n",
      "Parameter values: \tmean=1.69122\tsig1frac=0.5\tsigma1=0.025\tx_bkg2_c0=-0.508859\n",
      "PID136301/RooRealMPFE::nll_model_data_5609bd6fcc00_MPFE11[ arg=nll_model_data_GOF11 vars=(mean,sig1frac,sigma1,x_bkg2_c0) ]\n",
      "     getLogVal() top-level p.d.f evaluates to NaN @ !refCoefNorm=(D0_M = 1.99059), !pdfs=(sig1 = 7.26788e-32/0.0421845,sig2 = -0.0129291/0.018862), !coefficients=(sig1frac = 0.5)\n",
      "     getLogVal() top-level p.d.f evaluates to NaN @ !refCoefNorm=(D0_M = 2.01755), !pdfs=(sig1 = 1.00082e-37/0.0421845,sig2 = -0.0266482/0.018862), !coefficients=(sig1frac = 0.5)\n",
      "     getLogVal() top-level p.d.f evaluates to NaN @ !refCoefNorm=(D0_M = 1.99059), !pdfs=(sig1 = 7.26788e-32/0.0421845,sig2 = -0.0129291/0.018862), !coefficients=(sig1frac = 0.5)\n",
      "     getLogVal() top-level p.d.f evaluates to NaN @ !refCoefNorm=(D0_M = 2.01755), !pdfs=(sig1 = 1.00082e-37/0.0421845,sig2 = -0.0266482/0.018862), !coefficients=(sig1frac = 0.5)\n",
      "     getLogVal() top-level p.d.f evaluates to NaN @ !refCoefNorm=(D0_M = 1.99059), !pdfs=(sig1 = 7.26788e-32/0.0421845,sig2 = -0.0129291/0.018862), !coefficients=(sig1frac = 0.5)\n",
      "     getLogVal() top-level p.d.f evaluates to NaN @ !refCoefNorm=(D0_M = 2.01755), !pdfs=(sig1 = 1.00082e-37/0.0421845,sig2 = -0.0266482/0.018862), !coefficients=(sig1frac = 0.5)\n",
      "     getLogVal() top-level p.d.f evaluates to NaN @ !refCoefNorm=(D0_M = 2.03426), !pdfs=(sig1 = 1.29974e-41/0.0421845,sig2 = -0.035152/0.018862), !coefficients=(sig1frac = 0.5)\n",
      "     getLogVal() top-level p.d.f evaluates to NaN @ !refCoefNorm=(D0_M = 2.03426), !pdfs=(sig1 = 1.29974e-41/0.0421845,sig2 = -0.035152/0.018862), !coefficients=(sig1frac = 0.5)\n",
      "     getLogVal() top-level p.d.f evaluates to NaN @ !refCoefNorm=(D0_M = 2.03426), !pdfs=(sig1 = 1.29974e-41/0.0421845,sig2 = -0.035152/0.018862), !coefficients=(sig1frac = 0.5)\n",
      "     getLogVal() top-level p.d.f evaluates to NaN @ !refCoefNorm=(D0_M = 1.98376), !pdfs=(sig1 = 1.84633e-30/0.0421845,sig2 = -0.00945282/0.018862), !coefficients=(sig1frac = 0.5)\n",
      "     getLogVal() top-level p.d.f evaluates to NaN @ !refCoefNorm=(D0_M = 1.97409), !pdfs=(sig1 = 1.58418e-28/0.0421845,sig2 = -0.00453143/0.018862), !coefficients=(sig1frac = 0.5)\n",
      "     getLogVal() top-level p.d.f evaluates to NaN @ !refCoefNorm=(D0_M = 1.96805), !pdfs=(sig1 = 2.36909e-27/0.0421845,sig2 = -0.00145729/0.018862), !coefficients=(sig1frac = 0.5)\n",
      "    ... (remaining 65 messages suppressed)\n",
      "RooNLLVar::nll_model_data[ paramSet=(mean,sig1frac,sigma1,x_bkg2_c0) ]\n",
      "     function value is NAN @ paramSet=(mean = 1.69122,sig1frac = 0.5,sigma1 = 0.025,x_bkg2_c0 = -0.508859)\n",
      "\n",
      "RooAbsMinimizerFcn: Minimized function has error status.\n",
      "Returning maximum FCN so far (-150.662) to force MIGRAD to back out of this region. Error log follows.\n",
      "Parameter values: \tmean=1.69122\tsig1frac=0.5\tsigma1=0.025\tx_bkg2_c0=-0.508577\n",
      "PID136301/RooRealMPFE::nll_model_data_5609bd6fcc00_MPFE11[ arg=nll_model_data_GOF11 vars=(mean,sig1frac,sigma1,x_bkg2_c0) ]\n",
      "     getLogVal() top-level p.d.f evaluates to NaN @ !refCoefNorm=(D0_M = 1.99059), !pdfs=(sig1 = 7.26788e-32/0.0421845,sig2 = -0.0123689/0.0190562), !coefficients=(sig1frac = 0.5)\n",
      "     getLogVal() top-level p.d.f evaluates to NaN @ !refCoefNorm=(D0_M = 2.01755), !pdfs=(sig1 = 1.00082e-37/0.0421845,sig2 = -0.0260805/0.0190562), !coefficients=(sig1frac = 0.5)\n",
      "     getLogVal() top-level p.d.f evaluates to NaN @ !refCoefNorm=(D0_M = 1.99059), !pdfs=(sig1 = 7.26788e-32/0.0421845,sig2 = -0.0123689/0.0190562), !coefficients=(sig1frac = 0.5)\n",
      "     getLogVal() top-level p.d.f evaluates to NaN @ !refCoefNorm=(D0_M = 2.01755), !pdfs=(sig1 = 1.00082e-37/0.0421845,sig2 = -0.0260805/0.0190562), !coefficients=(sig1frac = 0.5)\n",
      "     getLogVal() top-level p.d.f evaluates to NaN @ !refCoefNorm=(D0_M = 1.99059), !pdfs=(sig1 = 7.26788e-32/0.0421845,sig2 = -0.0123689/0.0190562), !coefficients=(sig1frac = 0.5)\n",
      "     getLogVal() top-level p.d.f evaluates to NaN @ !refCoefNorm=(D0_M = 2.01755), !pdfs=(sig1 = 1.00082e-37/0.0421845,sig2 = -0.0260805/0.0190562), !coefficients=(sig1frac = 0.5)\n",
      "     getLogVal() top-level p.d.f evaluates to NaN @ !refCoefNorm=(D0_M = 2.03426), !pdfs=(sig1 = 1.29974e-41/0.0421845,sig2 = -0.0345796/0.0190562), !coefficients=(sig1frac = 0.5)\n",
      "     getLogVal() top-level p.d.f evaluates to NaN @ !refCoefNorm=(D0_M = 2.03426), !pdfs=(sig1 = 1.29974e-41/0.0421845,sig2 = -0.0345796/0.0190562), !coefficients=(sig1frac = 0.5)\n",
      "     getLogVal() top-level p.d.f evaluates to NaN @ !refCoefNorm=(D0_M = 2.03426), !pdfs=(sig1 = 1.29974e-41/0.0421845,sig2 = -0.0345796/0.0190562), !coefficients=(sig1frac = 0.5)\n",
      "     getLogVal() top-level p.d.f evaluates to NaN @ !refCoefNorm=(D0_M = 1.98376), !pdfs=(sig1 = 1.84633e-30/0.0421845,sig2 = -0.00889462/0.0190562), !coefficients=(sig1frac = 0.5)\n",
      "     getLogVal() top-level p.d.f evaluates to NaN @ !refCoefNorm=(D0_M = 1.97409), !pdfs=(sig1 = 1.58418e-28/0.0421845,sig2 = -0.00397596/0.0190562), !coefficients=(sig1frac = 0.5)\n",
      "     getLogVal() top-level p.d.f evaluates to NaN @ !refCoefNorm=(D0_M = 1.96805), !pdfs=(sig1 = 2.36909e-27/0.0421845,sig2 = -0.000903513/0.0190562), !coefficients=(sig1frac = 0.5)\n",
      "    ... (remaining 65 messages suppressed)\n",
      "RooNLLVar::nll_model_data[ paramSet=(mean,sig1frac,sigma1,x_bkg2_c0) ]\n",
      "     function value is NAN @ paramSet=(mean = 1.69122,sig1frac = 0.5,sigma1 = 0.025,x_bkg2_c0 = -0.508577)\n",
      "\n",
      "RooAbsMinimizerFcn: Minimized function has error status.\n",
      "Returning maximum FCN so far (-150.662) to force MIGRAD to back out of this region. Error log follows.\n",
      "Parameter values: \tmean=1.67553\tsig1frac=0.57756\tsigma1=0.0184383\tx_bkg2_c0=-0.523392\n",
      "PID136301/RooRealMPFE::nll_model_data_5609bd6fcc00_MPFE11[ arg=nll_model_data_GOF11 vars=(mean,sig1frac,sigma1,x_bkg2_c0) ]\n",
      "     getLogVal() top-level p.d.f evaluates to NaN @ !refCoefNorm=(D0_M = 1.99059), !pdfs=(sig1 = 3.97217e-64/0.0186836,sig2 = -0.0418596/0.00883307), !coefficients=(sig1frac = 0.57756)\n",
      "     getLogVal() top-level p.d.f evaluates to NaN @ !refCoefNorm=(D0_M = 1.95716), !pdfs=(sig1 = 2.18343e-51/0.0186836,sig2 = -0.0243635/0.00883307), !coefficients=(sig1frac = 0.57756)\n",
      "     getLogVal() top-level p.d.f evaluates to NaN @ !refCoefNorm=(D0_M = 2.01755), !pdfs=(sig1 = 1.92247e-75/0.0186836,sig2 = -0.0559706/0.00883307), !coefficients=(sig1frac = 0.57756)\n",
      "     getLogVal() top-level p.d.f evaluates to NaN @ !refCoefNorm=(D0_M = 1.99059), !pdfs=(sig1 = 3.97217e-64/0.0186836,sig2 = -0.0418596/0.00883307), !coefficients=(sig1frac = 0.57756)\n",
      "     getLogVal() top-level p.d.f evaluates to NaN @ !refCoefNorm=(D0_M = 1.95716), !pdfs=(sig1 = 2.18343e-51/0.0186836,sig2 = -0.0243635/0.00883307), !coefficients=(sig1frac = 0.57756)\n",
      "     getLogVal() top-level p.d.f evaluates to NaN @ !refCoefNorm=(D0_M = 2.01755), !pdfs=(sig1 = 1.92247e-75/0.0186836,sig2 = -0.0559706/0.00883307), !coefficients=(sig1frac = 0.57756)\n",
      "     getLogVal() top-level p.d.f evaluates to NaN @ !refCoefNorm=(D0_M = 1.99059), !pdfs=(sig1 = 3.97217e-64/0.0186836,sig2 = -0.0418596/0.00883307), !coefficients=(sig1frac = 0.57756)\n",
      "     getLogVal() top-level p.d.f evaluates to NaN @ !refCoefNorm=(D0_M = 1.95716), !pdfs=(sig1 = 2.18343e-51/0.0186836,sig2 = -0.0243635/0.00883307), !coefficients=(sig1frac = 0.57756)\n",
      "     getLogVal() top-level p.d.f evaluates to NaN @ !refCoefNorm=(D0_M = 2.01755), !pdfs=(sig1 = 1.92247e-75/0.0186836,sig2 = -0.0559706/0.00883307), !coefficients=(sig1frac = 0.57756)\n",
      "     getLogVal() top-level p.d.f evaluates to NaN @ !refCoefNorm=(D0_M = 1.93798), !pdfs=(sig1 = 1.00851e-44/0.0186836,sig2 = -0.0143262/0.00883307), !coefficients=(sig1frac = 0.57756)\n",
      "     getLogVal() top-level p.d.f evaluates to NaN @ !refCoefNorm=(D0_M = 2.03426), !pdfs=(sig1 = 6.36902e-83/0.0186836,sig2 = -0.0647172/0.00883307), !coefficients=(sig1frac = 0.57756)\n",
      "     getLogVal() top-level p.d.f evaluates to NaN @ !refCoefNorm=(D0_M = 1.91268), !pdfs=(sig1 = 1.19926e-36/0.0186836,sig2 = -0.00108137/0.00883307), !coefficients=(sig1frac = 0.57756)\n",
      "    ... (remaining 134 messages suppressed)\n",
      "RooNLLVar::nll_model_data[ paramSet=(mean,sig1frac,sigma1,x_bkg2_c0) ]\n",
      "     function value is NAN @ paramSet=(mean = 1.67553,sig1frac = 0.57756,sigma1 = 0.0184383,x_bkg2_c0 = -0.523392)\n",
      "\n",
      "RooAbsMinimizerFcn: Minimized function has error status.\n",
      "Returning maximum FCN so far (-150.662) to force MIGRAD to back out of this region. Error log follows.\n",
      "Parameter values: \tmean=1.68255\tsig1frac=0.530704\tsigma1=0.0239301\tx_bkg2_c0=-0.491123\n",
      "PID136301/RooRealMPFE::nll_model_data_5609bd6fcc00_MPFE11[ arg=nll_model_data_GOF11 vars=(mean,sig1frac,sigma1,x_bkg2_c0) ]\n",
      "     getLogVal() top-level p.d.f evaluates to NaN @ !refCoefNorm=(D0_M = 2.03738), !pdfs=(sig1 = 1.8085e-48/0.0325347,sig2 = -0.000602498/0.0311008), !coefficients=(sig1frac = 0.530704)\n",
      "     getLogVal() top-level p.d.f evaluates to NaN @ !refCoefNorm=(D0_M = 2.03738), !pdfs=(sig1 = 1.8085e-48/0.0325347,sig2 = -0.000602498/0.0311008), !coefficients=(sig1frac = 0.530704)\n",
      "     getLogVal() top-level p.d.f evaluates to NaN @ !refCoefNorm=(D0_M = 2.03738), !pdfs=(sig1 = 1.8085e-48/0.0325347,sig2 = -0.000602498/0.0311008), !coefficients=(sig1frac = 0.530704)\n",
      "     getLogVal() top-level p.d.f evaluates to NaN @ !refCoefNorm=(D0_M = 2.04404), !pdfs=(sig1 = 2.80116e-50/0.0325347,sig2 = -0.00387507/0.0311008), !coefficients=(sig1frac = 0.530704)\n",
      "     getLogVal() top-level p.d.f evaluates to NaN @ !refCoefNorm=(D0_M = 2.04404), !pdfs=(sig1 = 2.80116e-50/0.0325347,sig2 = -0.00387507/0.0311008), !coefficients=(sig1frac = 0.530704)\n",
      "     getLogVal() top-level p.d.f evaluates to NaN @ !refCoefNorm=(D0_M = 2.04404), !pdfs=(sig1 = 2.80116e-50/0.0325347,sig2 = -0.00387507/0.0311008), !coefficients=(sig1frac = 0.530704)\n",
      "     getLogVal() top-level p.d.f evaluates to NaN @ !refCoefNorm=(D0_M = 2.04245), !pdfs=(sig1 = 7.61406e-50/0.0325347,sig2 = -0.00309539/0.0311008), !coefficients=(sig1frac = 0.530704)\n",
      "     getLogVal() top-level p.d.f evaluates to NaN @ !refCoefNorm=(D0_M = 2.04245), !pdfs=(sig1 = 7.61406e-50/0.0325347,sig2 = -0.00309539/0.0311008), !coefficients=(sig1frac = 0.530704)\n",
      "     getLogVal() top-level p.d.f evaluates to NaN @ !refCoefNorm=(D0_M = 2.04245), !pdfs=(sig1 = 7.61406e-50/0.0325347,sig2 = -0.00309539/0.0311008), !coefficients=(sig1frac = 0.530704)\n",
      "RooNLLVar::nll_model_data[ paramSet=(mean,sig1frac,sigma1,x_bkg2_c0) ]\n",
      "     function value is NAN @ paramSet=(mean = 1.68255,sig1frac = 0.530704,sigma1 = 0.0239301,x_bkg2_c0 = -0.491123)\n",
      "\n",
      "[#1] INFO:Minimization -- RooAbsMinimizerFcn::setOptimizeConst: deactivating const optimization\n",
      "\n",
      "  RooFitResult: minimized FCN value: -187.957, estimated distance to minimum: 2.18303e-05\n",
      "                covariance matrix quality: Full, accurate covariance matrix\n",
      "                Status : MINIMIZE=0 HESSE=0 \n",
      "\n",
      "    Floating Parameter    FinalValue +/-  Error   \n",
      "  --------------------  --------------------------\n",
      "                  mean    1.6750e+00 +/-  8.91e-03\n",
      "              sig1frac    5.6122e-01 +/-  6.90e-02\n",
      "                sigma1    3.0000e-02 +/-  2.44e-02\n",
      "             x_bkg2_c0   -4.5527e-01 +/-  3.43e-02\n",
      "\n",
      "[#1] INFO:Plotting -- RooAbsPdf::plotOn(model) p.d.f was fitted in a subrange and no explicit Range() and NormRange() was specified. Plotting / normalising in fit range. To override, do one of the following\n",
      "\t- Clear the automatic fit range attribute: <pdf>.setStringAttribute(\"fitrange\", nullptr);\n",
      "\t- Explicitly specify the plotting range: Range(\"<rangeName>\").\n",
      "\t- Explicitly specify where to compute the normalisation: NormRange(\"<rangeName>\").\n",
      "\tThe default (full) range can be denoted with Range(\"\") / NormRange(\"\").\n",
      "[#1] INFO:Plotting -- RooAbsPdf::plotOn(model) only plotting range 'fit_nll_model_data'\n",
      "[#1] INFO:Plotting -- RooAbsPdf::plotOn(model) p.d.f. curve is normalized using explicit choice of ranges 'fit_nll_model_data'\n",
      "[#1] INFO:Plotting -- RooAbsPdf::plotOn(model) directly selected PDF components: (sig1)\n",
      "[#1] INFO:Plotting -- RooAbsPdf::plotOn(model) indirectly selected PDF components: ()\n",
      "[#1] INFO:Plotting -- RooAbsPdf::plotOn(model) p.d.f was fitted in a subrange and no explicit Range() and NormRange() was specified. Plotting / normalising in fit range. To override, do one of the following\n",
      "\t- Clear the automatic fit range attribute: <pdf>.setStringAttribute(\"fitrange\", nullptr);\n",
      "\t- Explicitly specify the plotting range: Range(\"<rangeName>\").\n",
      "\t- Explicitly specify where to compute the normalisation: NormRange(\"<rangeName>\").\n",
      "\tThe default (full) range can be denoted with Range(\"\") / NormRange(\"\").\n",
      "[#1] INFO:Plotting -- RooAbsPdf::plotOn(model) only plotting range 'fit_nll_model_data'\n",
      "[#1] INFO:Plotting -- RooAbsPdf::plotOn(model) p.d.f. curve is normalized using explicit choice of ranges 'fit_nll_model_data'\n",
      "[#1] INFO:Plotting -- RooAbsPdf::plotOn(model) directly selected PDF components: (sig2)\n",
      "[#1] INFO:Plotting -- RooAbsPdf::plotOn(model) indirectly selected PDF components: ()\n",
      "[#1] INFO:Plotting -- RooAbsPdf::plotOn(model) p.d.f was fitted in a subrange and no explicit Range() and NormRange() was specified. Plotting / normalising in fit range. To override, do one of the following\n",
      "\t- Clear the automatic fit range attribute: <pdf>.setStringAttribute(\"fitrange\", nullptr);\n",
      "\t- Explicitly specify the plotting range: Range(\"<rangeName>\").\n",
      "\t- Explicitly specify where to compute the normalisation: NormRange(\"<rangeName>\").\n",
      "\tThe default (full) range can be denoted with Range(\"\") / NormRange(\"\").\n",
      "[#1] INFO:Plotting -- RooAbsPdf::plotOn(model) only plotting range 'fit_nll_model_data'\n",
      "[#1] INFO:Plotting -- RooAbsPdf::plotOn(model) p.d.f. curve is normalized using explicit choice of ranges 'fit_nll_model_data'\n",
      "[#0] WARNING:Plotting -- RooHist::makeResisHist(data1) WARNING: point 31 has zero error, setting residual to zero\n",
      "[#0] WARNING:Plotting -- RooHist::makeResisHist(data1) WARNING: point 35 has zero error, setting residual to zero\n",
      "[#0] WARNING:Plotting -- RooHist::makeResisHist(data1) WARNING: point 54 has zero error, setting residual to zero\n",
      "[#0] WARNING:Plotting -- RooHist::makeResisHist(data1) WARNING: point 56 has zero error, setting residual to zero\n",
      "[#0] WARNING:Plotting -- RooHist::makeResisHist(data1) WARNING: point 66 has zero error, setting residual to zero\n",
      "[#0] WARNING:Plotting -- RooHist::makeResisHist(data1) WARNING: point 70 has zero error, setting residual to zero\n",
      "[#0] WARNING:Plotting -- RooHist::makeResisHist(data1) WARNING: point 78 has zero error, setting residual to zero\n",
      "[#0] WARNING:Plotting -- RooHist::makeResisHist(data1) WARNING: point 85 has zero error, setting residual to zero\n",
      "[#0] WARNING:Plotting -- RooHist::makeResisHist(data1) WARNING: point 86 has zero error, setting residual to zero\n",
      "[#0] WARNING:Plotting -- RooHist::makeResisHist(data1) WARNING: point 92 has zero error, setting residual to zero\n",
      "[#0] WARNING:Plotting -- RooHist::makeResisHist(data1) WARNING: point 99 has zero error, setting residual to zero\n"
     ]
    },
    {
     "name": "stderr",
     "output_type": "stream",
     "text": [
      "Warning in <TCanvas::Constructor>: Deleting canvas with same name: Canvas\n",
      "Info in <TCanvas::Print>: png file /media/jykim/T7/saved_plots/fitting/results/phigamma/MCrd_topo_phiX.png has been created\n"
     ]
    },
    {
     "data": {
      "image/png": "[encoded data removed]",
      "text/plain": [
       "<IPython.core.display.Image object>"
      ]
     },
     "metadata": {},
     "output_type": "display_data"
    }
   ],
   "source": [
    "canv = ROOT.TCanvas(\"Canvas\", \"Canvas\", 700, 640)\n",
    "\n",
    "xlow = ctypes.c_double()\n",
    "ylow = ctypes.c_double()\n",
    "xup = ctypes.c_double()\n",
    "yup = ctypes.c_double()\n",
    "\n",
    "canv.GetPad(0).GetPadPar(xlow, ylow, xup, yup)\n",
    "canv.Divide(1,2)\n",
    "\n",
    "xlow = xlow.value\n",
    "ylow = ylow.value\n",
    "xup = xup.value\n",
    "yup = yup.value\n",
    "\n",
    "upPad = canv.GetPad(1)\n",
    "upPad.SetPad(xlow, ylow+0.25*(yup-ylow),xup,yup)\n",
    "\n",
    "dwPad = canv.GetPad(2)\n",
    "dwPad.SetPad(xlow, ylow,xup,ylow+0.25*(yup-ylow))\n",
    "\n",
    "\n",
    "model = ROOT.RooAddPdf(\"model\", \"model\", [sig1, sig2], sig1frac)\n",
    "\n",
    "\n",
    "# x.setBins(10000,\"cache\") \n",
    "# model = ROOT.RooFFTConvPdf(\"model\",\"CB (X) gauss\",x,sig2,sig1)\n",
    "\n",
    "r = model.fitTo(data,NumCPU=12,Range=fitting_region,PrintLevel=-1, Save=1)\n",
    "# r = model.fitTo(wdata,NumCPU=12,Range=fitting_region,PrintLevel=-1, Save=1)\n",
    "\n",
    "r.Print()\n",
    "canv.cd(1) \n",
    "# frame = x.frame(Title=\"D^{0} #rightarrow #bar{K}^{*0} #pi^{0}\")\n",
    "frame = x.frame(Title=\" \")\n",
    "\n",
    "#Use sqrt(sum(weights^2)) error instead of Poisson errors\n",
    "data.plotOn(frame, Name = \"data1\", DataError= ROOT.RooAbsData.SumW2, XErrorSize=0)\n",
    "\n",
    "# data.plotOn(frame,Name = \"data1\", XErrorSize=0)\n",
    "# wdata.plotOn(frame,Name = \"data1\", XErrorSize=0, DataError=ROOT.RooAbsData.SumW2)\n",
    "# wdata.plotOn(frame,Name = \"data1\", XErrorSize=0,DataError=ROOT.RooAbsData.SumW2)\n",
    "\n",
    "# \n",
    "model.plotOn(frame, Name=\"gauss1\", Components=sig1, LineStyle=ROOT.kDashed, LineColor=593)\n",
    "model.plotOn(frame, Name=\"CB1\", Components=sig2, LineStyle=ROOT.kDashed, LineColor=593)\n",
    "# sig.plotOn(frame, Name=\"Novo\", Components=sig3, LineStyle=ROOT.kDashed, LineColor=593)\n",
    "\n",
    "model.plotOn(frame, Name=\"fitting\",)\n",
    "\n",
    "\n",
    "# sig.paramOn(frame)\n",
    "frame.GetXaxis().CenterTitle(True)\n",
    "\n",
    "frame.Draw(\"PE\")\n",
    "\n",
    "\n",
    "leg1 = ROOT.TLegend(0.25, 0.75, 0.4, 0.9)\n",
    "leg1.SetFillColor(ROOT.kWhite)\n",
    "# leg1.SetHeader(\"The Legend title\",\"C\")\n",
    "leg1.AddEntry(\"data1\", \"MC\", \"PE\")\n",
    "leg1.AddEntry(\"fitting\", \"fit\", \"l\")\n",
    "leg1.Draw()\n",
    "\n",
    "hpull = frame.pullHist()\n",
    "hpull.SetFillStyle(1001)\n",
    "hpull.SetFillColor(1);\n",
    "for i in range(0,hpull.GetN()):#(int i=0;i<hpull.GetN();++i): \n",
    "    hpull.SetPointError(i,0.0,0.0,0.0,0.0)\n",
    "# pullplot = x.frame(Title(\" \"))\n",
    "pullplot = x.frame()\n",
    "pullplot.SetTitle(\"\")\n",
    "pullplot.addPlotable(hpull,\"BE\")\n",
    "# pullplot.addPlotable(hpull,\"PE\")\n",
    "\n",
    "pullplot.SetYTitle(\"Pull\")\n",
    "pullplot.GetXaxis().SetTitleSize(0)\n",
    "pullplot.GetYaxis().SetTitleSize(0.22)\n",
    "pullplot.GetYaxis().CenterTitle(True)\n",
    "pullplot.GetYaxis().SetTitleOffset(0.2)\n",
    "pullplot.SetMinimum(-4.)\n",
    "pullplot.SetMaximum(4.)\n",
    "pullplot.GetXaxis().SetLabelSize(0.15)\n",
    "pullplot.GetYaxis().SetLabelSize(0.105)\n",
    "canv.cd(2)\n",
    "pullplot.Draw()\n",
    "\n",
    "xmin1 = ctypes.c_double(fitting_region[0])\n",
    "xmax1 = ctypes.c_double(fitting_region[1])\n",
    "# xmin1 = 0.1\n",
    "# xmax1 = 0.18\n",
    "line = ROOT.TLine(xmin1,0.0,xmax1,0.0)\n",
    "line1 = ROOT.TLine(xmin1,3.0,xmax1,3.0)\n",
    "line2 = ROOT.TLine(xmin1,-3.0,xmax1,-3.0)\n",
    "\n",
    "line.SetLineColor(ROOT.kRed)\n",
    "line.SetLineWidth(3)\n",
    "line1.SetLineColor(ROOT.kRed)\n",
    "line2.SetLineColor(ROOT.kRed)\n",
    "line1.SetLineStyle(2)\n",
    "line2.SetLineStyle(2)\n",
    "line.Draw(\"SAME\")\n",
    "line1.Draw(\"SAME\")\n",
    "line2.Draw(\"SAME\")\n",
    "\n",
    "canv.Update()\n",
    "\n",
    "canv.Draw()\n",
    "canv.SaveAs(\"/media/jykim/T7/saved_plots/fitting/results/phigamma/MCrd_topo_phiX.png\")\n",
    "# canv.SaveAs(\"test_Default.png\")\n",
    "\n",
    "f = ROOT.TFile(\"phig_MC15rd_phiX_fitresult_D0M.root\", \"RECREATE\")\n",
    "r.Write(\"phig\")\n",
    "f.Close()"
   ]
  },
  {
   "cell_type": "code",
   "execution_count": 73,
   "id": "8cf43e33-6641-410c-b3c6-eaf91f92a0f7",
   "metadata": {},
   "outputs": [],
   "source": [
    "#coHel"
   ]
  },
  {
   "cell_type": "code",
   "execution_count": 74,
   "id": "5f6cb6b7-6eee-4897-a49d-bf61d7bf7ca6",
   "metadata": {},
   "outputs": [],
   "source": [
    "fitting_region = (-1,1)\n",
    "x = ROOT.RooRealVar(\"D0_cosHel_0\", \"cos#theta_{H}\", fitting_region[0], fitting_region[1], \"\")\n",
    "\n",
    "x_bkg2_c0 = ROOT.RooRealVar(\"x_bkg2_c0\", \"c0\",0.2, -1,1)\n",
    "x_bkg2_c1 = ROOT.RooRealVar(\"x_bkg2_c1\", \"c1\",0.2, -1,1)\n",
    "\n",
    "model = ROOT.RooChebychev(\"model\", \"Signal component 1\", x, ROOT.RooArgList(x_bkg2_c0, x_bkg2_c1))\n"
   ]
  },
  {
   "cell_type": "code",
   "execution_count": 75,
   "id": "542a07cd-59d5-4625-a6ff-f57ff0482fa3",
   "metadata": {},
   "outputs": [
    {
     "name": "stdout",
     "output_type": "stream",
     "text": [
      "[#1] INFO:Eval -- RooRealVar::setRange(D0_cosHel_0) new range named 'fit' created with bounds [-1,1]\n",
      "[#0] WARNING:InputArguments -- RooAbsPdf::fitTo(model) WARNING: a likelihood fit is requested of what appears to be weighted data.\n",
      "       While the estimated values of the parameters will always be calculated taking the weights into account,\n",
      "       there are multiple ways to estimate the errors of the parameters. You are advised to make an \n",
      "       explicit choice for the error calculation:\n",
      "           - Either provide SumW2Error(true), to calculate a sum-of-weights-corrected HESSE error matrix\n",
      "             (error will be proportional to the number of events in MC).\n",
      "           - Or provide SumW2Error(false), to return errors from original HESSE error matrix\n",
      "             (which will be proportional to the sum of the weights, i.e., a dataset with <sum of weights> events).\n",
      "           - Or provide AsymptoticError(true), to use the asymptotically correct expression\n",
      "             (for details see https://arxiv.org/abs/1911.01303).\n",
      "[#1] INFO:Minimization -- RooAbsMinimizerFcn::setOptimizeConst: activating const optimization\n",
      "[#1] INFO:Fitting -- RooAbsOptTestStatistic::ctor(nll_model_data) constructing test statistic for sub-range named fit\n",
      "[#1] INFO:Eval -- RooRealVar::setRange(D0_cosHel_0) new range named 'NormalizationRangeForfit' created with bounds [-1,1]\n",
      "[#1] INFO:Eval -- RooRealVar::setRange(D0_cosHel_0) new range named 'fit_nll_model_data' created with bounds [-1,1]\n",
      "[#1] INFO:Fitting -- RooAbsOptTestStatistic::ctor(nll_model_data) fixing interpretation of coefficients of any RooAddPdf to full domain of observables \n",
      "[#1] INFO:Eval -- RooAbsTestStatistic::initMPMode: started 12 remote server process.\n",
      "[#1] INFO:Minimization -- RooAbsMinimizerFcn::setOptimizeConst: deactivating const optimization\n",
      "\n",
      "  RooFitResult: minimized FCN value: 60.7252, estimated distance to minimum: 2.78801e-08\n",
      "                covariance matrix quality: Full, accurate covariance matrix\n",
      "                Status : MINIMIZE=0 HESSE=0 \n",
      "\n",
      "    Floating Parameter    FinalValue +/-  Error   \n",
      "  --------------------  --------------------------\n",
      "             x_bkg2_c0    1.6155e-02 +/-  1.42e-01\n",
      "             x_bkg2_c1    7.0569e-01 +/-  8.42e-02\n",
      "\n",
      "[#1] INFO:Plotting -- RooAbsPdf::plotOn(model) p.d.f was fitted in a subrange and no explicit Range() and NormRange() was specified. Plotting / normalising in fit range. To override, do one of the following\n",
      "\t- Clear the automatic fit range attribute: <pdf>.setStringAttribute(\"fitrange\", nullptr);\n",
      "\t- Explicitly specify the plotting range: Range(\"<rangeName>\").\n",
      "\t- Explicitly specify where to compute the normalisation: NormRange(\"<rangeName>\").\n",
      "\tThe default (full) range can be denoted with Range(\"\") / NormRange(\"\").\n",
      "[#1] INFO:Plotting -- RooAbsPdf::plotOn(model) only plotting range 'fit_nll_model_data'\n",
      "[#1] INFO:Plotting -- RooAbsPdf::plotOn(model) p.d.f. curve is normalized using explicit choice of ranges 'fit_nll_model_data'\n",
      "[#0] WARNING:Plotting -- RooHist::makeResisHist(data1) WARNING: point 37 has zero error, setting residual to zero\n",
      "[#0] WARNING:Plotting -- RooHist::makeResisHist(data1) WARNING: point 41 has zero error, setting residual to zero\n",
      "[#0] WARNING:Plotting -- RooHist::makeResisHist(data1) WARNING: point 47 has zero error, setting residual to zero\n",
      "[#0] WARNING:Plotting -- RooHist::makeResisHist(data1) WARNING: point 49 has zero error, setting residual to zero\n",
      "[#0] WARNING:Plotting -- RooHist::makeResisHist(data1) WARNING: point 55 has zero error, setting residual to zero\n",
      "[#0] WARNING:Plotting -- RooHist::makeResisHist(data1) WARNING: point 61 has zero error, setting residual to zero\n"
     ]
    },
    {
     "name": "stderr",
     "output_type": "stream",
     "text": [
      "Warning in <TCanvas::Constructor>: Deleting canvas with same name: Canvas\n",
      "Info in <TCanvas::Print>: png file /media/jykim/T7/saved_plots/fitting/results/phigamma/MCrd_topo_phiX_cosHel.png has been created\n"
     ]
    },
    {
     "data": {
      "image/png": "[encoded data removed]",
      "text/plain": [
       "<IPython.core.display.Image object>"
      ]
     },
     "metadata": {},
     "output_type": "display_data"
    }
   ],
   "source": [
    "canv = ROOT.TCanvas(\"Canvas\", \"Canvas\", 700, 640)\n",
    "\n",
    "xlow = ctypes.c_double()\n",
    "ylow = ctypes.c_double()\n",
    "xup = ctypes.c_double()\n",
    "yup = ctypes.c_double()\n",
    "\n",
    "canv.GetPad(0).GetPadPar(xlow, ylow, xup, yup)\n",
    "canv.Divide(1,2)\n",
    "\n",
    "xlow = xlow.value\n",
    "ylow = ylow.value\n",
    "xup = xup.value\n",
    "yup = yup.value\n",
    "\n",
    "upPad = canv.GetPad(1)\n",
    "upPad.SetPad(xlow, ylow+0.25*(yup-ylow),xup,yup)\n",
    "\n",
    "dwPad = canv.GetPad(2)\n",
    "dwPad.SetPad(xlow, ylow,xup,ylow+0.25*(yup-ylow))\n",
    "\n",
    "\n",
    "\n",
    "\n",
    "# model = ROOT.RooCBShape(\"model\", \"Signal component 2\", x, mean, sigma2, alpha, n_CB)\n",
    "\n",
    "# model = ROOT.RooAddPdf(\"model\", \"model\", [sig1, sig2], sig1frac)\n",
    "\n",
    "\n",
    "r = model.fitTo(data,NumCPU=12,Range=fitting_region,PrintLevel=-1, Save=1)\n",
    "\n",
    "r.Print()\n",
    "canv.cd(1) \n",
    "# frame = x.frame(Title=\"D^{0} #rightarrow #bar{K}^{*0} #pi^{0}\")\n",
    "frame = x.frame(Title=\" \")\n",
    "\n",
    "# data.plotOn(frame,Name = \"data1\", XErrorSize=0)\n",
    "data.plotOn(frame, Name = \"data1\", DataError= ROOT.RooAbsData.SumW2, XErrorSize=0)\n",
    "\n",
    "# \n",
    "# model.plotOn(frame, Name=\"gauss1\", Components=sig1, LineStyle=ROOT.kDashed, LineColor=593)\n",
    "# model.plotOn(frame, Name=\"CB1\", Components=sig2, LineStyle=ROOT.kDashed, LineColor=593)\n",
    "# # sig.plotOn(frame, Name=\"Novo\", Components=sig3, LineStyle=ROOT.kDashed, LineColor=593)\n",
    "\n",
    "model.plotOn(frame, Name=\"fitting\",)\n",
    "\n",
    "\n",
    "# sig.paramOn(frame)\n",
    "frame.GetXaxis().CenterTitle(True)\n",
    "\n",
    "frame.Draw(\"PE\")\n",
    "\n",
    "\n",
    "leg1 = ROOT.TLegend(0.18, 0.75, 0.33, 0.9)\n",
    "leg1.SetFillColor(ROOT.kWhite)\n",
    "# leg1.SetHeader(\"The Legend title\",\"C\")\n",
    "leg1.AddEntry(\"data1\", \"MC\", \"PE\")\n",
    "leg1.AddEntry(\"fitting\", \"fit\", \"l\")\n",
    "leg1.Draw()\n",
    "\n",
    "hpull = frame.pullHist()\n",
    "hpull.SetFillStyle(1001)\n",
    "hpull.SetFillColor(1);\n",
    "for i in range(0,hpull.GetN()):#(int i=0;i<hpull.GetN();++i): \n",
    "    hpull.SetPointError(i,0.0,0.0,0.0,0.0)\n",
    "# pullplot = x.frame(Title(\" \"))\n",
    "pullplot = x.frame()\n",
    "pullplot.SetTitle(\"\")\n",
    "pullplot.addPlotable(hpull,\"BE\")\n",
    "# pullplot.addPlotable(hpull,\"PE\")\n",
    "\n",
    "pullplot.SetYTitle(\"Pull\")\n",
    "pullplot.GetXaxis().SetTitleSize(0)\n",
    "pullplot.GetYaxis().SetTitleSize(0.22)\n",
    "pullplot.GetYaxis().CenterTitle(True)\n",
    "pullplot.GetYaxis().SetTitleOffset(0.2)\n",
    "pullplot.SetMinimum(-4.)\n",
    "pullplot.SetMaximum(4.)\n",
    "pullplot.GetXaxis().SetLabelSize(0.15)\n",
    "pullplot.GetYaxis().SetLabelSize(0.105)\n",
    "canv.cd(2)\n",
    "pullplot.Draw()\n",
    "\n",
    "xmin1 = ctypes.c_double(fitting_region[0])\n",
    "xmax1 = ctypes.c_double(fitting_region[1])\n",
    "# xmin1 = 0.1\n",
    "# xmax1 = 0.18\n",
    "line = ROOT.TLine(xmin1,0.0,xmax1,0.0)\n",
    "line1 = ROOT.TLine(xmin1,3.0,xmax1,3.0)\n",
    "line2 = ROOT.TLine(xmin1,-3.0,xmax1,-3.0)\n",
    "\n",
    "line.SetLineColor(ROOT.kRed)\n",
    "line.SetLineWidth(3)\n",
    "line1.SetLineColor(ROOT.kRed)\n",
    "line2.SetLineColor(ROOT.kRed)\n",
    "line1.SetLineStyle(2)\n",
    "line2.SetLineStyle(2)\n",
    "line.Draw(\"SAME\")\n",
    "line1.Draw(\"SAME\")\n",
    "line2.Draw(\"SAME\")\n",
    "\n",
    "canv.Update()\n",
    "\n",
    "canv.Draw()\n",
    "canv.SaveAs(\"/media/jykim/T7/saved_plots/fitting/results/phigamma/MCrd_topo_phiX_cosHel.png\")\n",
    "# canv.SaveAs(\"phi_massveto_1ab_signal_cosHel.png\")\n",
    "\n",
    "f = ROOT.TFile(\"phig_MC15rd_phiX_fitresult_cosHel.root\", \"RECREATE\")\n",
    "r.Write(\"phig\")\n",
    "f.Close()\n"
   ]
  },
  {
   "cell_type": "markdown",
   "id": "087d76b0-f4e1-4f25-89f2-81c138215ccc",
   "metadata": {},
   "source": [
    "# Except Vg, Vpi0, phi X"
   ]
  },
  {
   "cell_type": "code",
   "execution_count": 76,
   "id": "2b274340-d9df-4674-a18a-43f2d37e5317",
   "metadata": {},
   "outputs": [],
   "source": [
    "mychain = ROOT.TChain(\"phi\")\n",
    "# file_list = [\"/media/jykim/T7_2/storage/Ntuples_ghi_2/MC15rd/MC15rd_Vg_preext_maxFBDT_2ndFBDT/ccbar/*.root\"]\n",
    "file_list = glob.glob(\"/media/jykim/T7_2/storage/Ntuples_ghi_2/MC15rd/MC15rd_Vg_sigext_maxFBDT_2ndFBDT/topo/resultfile/result_phi/*.root\")\n",
    "\n",
    "# adding_file_list = glob.glob(\"/media/jykim/T7_2/storage/Ntuples_ghi_2/MC15rd/MC15rd_Vg_preext_maxFBDT_2ndFBDT/topo/*.root\")\n",
    "\n",
    "# for i in range(len(adding_file_list)):\n",
    "    # adding_file_list[i] += '/phi_cc'\n",
    "\n",
    "# file_list += adding_file_list\n",
    "    \n",
    "for i in file_list:\n",
    "    mychain.Add(i)"
   ]
  },
  {
   "cell_type": "code",
   "execution_count": 77,
   "id": "cb09e8ca-2954-4f93-b739-4e85d44abb3e",
   "metadata": {},
   "outputs": [
    {
     "data": {
      "text/plain": [
       "['/media/jykim/T7_2/storage/Ntuples_ghi_2/MC15rd/MC15rd_Vg_sigext_maxFBDT_2ndFBDT/topo/resultfile/result_phi/standard.root']"
      ]
     },
     "execution_count": 77,
     "metadata": {},
     "output_type": "execute_result"
    }
   ],
   "source": [
    "file_list"
   ]
  },
  {
   "cell_type": "code",
   "execution_count": 78,
   "id": "68e75e8e-b98d-41f1-b1d7-9bd68464a0e7",
   "metadata": {},
   "outputs": [],
   "source": [
    "yrange = (-1, 1)\n",
    "x = ROOT.RooRealVar(\"D0_M\", \"M(D^{0}) [GeV/c^{2}]\", 1.68, 2.05, \"\")\n",
    "y = ROOT.RooRealVar(\"D0_cosHel_0\", \"cos#theta_{H}\", yrange[0], yrange[1], \"\")\n",
    "a = ROOT.RooRealVar(\"Phi_M\", \"\",0,10, \"\")\n",
    "b = ROOT.RooRealVar(\"Dstarp_CMS_p\", \"\",0,10, \"\")\n",
    "c = ROOT.RooRealVar(\"Dstarp_isSignal\", \"\",-10,10, \"\")\n",
    "d = ROOT.RooRealVar(\"gamma_E\", \"\",0,10, \"\")\n",
    "e = ROOT.RooRealVar(\"Pi0_Prob2\", \"\",0,10, \"\")\n",
    "f = ROOT.RooRealVar(\"Dstarp_delM\", \"\",0,10, \"\")\n",
    "g = ROOT.RooRealVar(\"iCascDcyBrP_Dst_0\", \"\",-200,200, \"\")\n",
    "\n",
    "h = ROOT.RooRealVar(\"iCascDcyBrP_Dstm_0\", \"\",-200,200, \"\")"
   ]
  },
  {
   "cell_type": "code",
   "execution_count": 79,
   "id": "07c900eb-82fa-435b-b900-d4283b89b9cc",
   "metadata": {},
   "outputs": [
    {
     "name": "stdout",
     "output_type": "stream",
     "text": [
      "179.25\n",
      "[#1] INFO:InputArguments -- The formula D0_M>1.68 & D0_M<2.05 & abs(Phi_M - 1.0195) < 0.011 &  Dstarp_CMS_p>2.5  & gamma_E>0.47 & Pi0_Prob2>0.5 & abs(Dstarp_delM-0.1455)<0.00078 & (iCascDcyBrP_Dst_0!=7 & iCascDcyBrP_Dst_0!=16 & iCascDcyBrP_Dst_0!=12 & iCascDcyBrP_Dst_0!=0 & iCascDcyBrP_Dst_0!=1) claims to use the variables (D0_M,D0_cosHel_0,Phi_M,Dstarp_CMS_p,Dstarp_isSignal,gamma_E,Pi0_Prob2,Dstarp_delM,iCascDcyBrP_Dst_0) but only (D0_M,Phi_M,Dstarp_CMS_p,gamma_E,Pi0_Prob2,Dstarp_delM,iCascDcyBrP_Dst_0) seem to be in use.\n",
      "  inputs:         D0_M>1.68 & D0_M<2.05 & abs(Phi_M - 1.0195) < 0.011 &  Dstarp_CMS_p>2.5  & gamma_E>0.47 & Pi0_Prob2>0.5 & abs(Dstarp_delM-0.1455)<0.00078 & (iCascDcyBrP_Dst_0!=7 & iCascDcyBrP_Dst_0!=16 & iCascDcyBrP_Dst_0!=12 & iCascDcyBrP_Dst_0!=0 & iCascDcyBrP_Dst_0!=1)\n",
      "[#1] INFO:DataHandling -- RooAbsReal::attachToTree(iCascDcyBrP_Dst_0) TTree Int_t branch iCascDcyBrP_Dst_0 will be converted to double precision.\n"
     ]
    }
   ],
   "source": [
    "Cut=\"D0_M>1.68 & D0_M<2.05 & abs(Phi_M - 1.0195) < 0.011 &  Dstarp_CMS_p>2.5  \"\n",
    "Cut+=\"& gamma_E>0.47 & Pi0_Prob2>0.5 & abs(Dstarp_delM-0.1455)<0.00078 & (iCascDcyBrP_Dst_0!=7 & iCascDcyBrP_Dst_0!=16 & iCascDcyBrP_Dst_0!=12 & iCascDcyBrP_Dst_0!=0 & iCascDcyBrP_Dst_0!=1)\"\n",
    "\n",
    "# Cut=\" iCascDcyBrP_Dst_0>0 && iCascDcyBrP_Dst_0<2 \"\n",
    "\n",
    "# data = ROOT.RooDataSet(\"data\",\"\", ROOT.RooArgSet(x,y,z), ROOT.RooFit.Import(mychain), Cut=\" D0_M>1.68 & D0_M<2.05 & Belle2Pi0Veto_75MeV > 0.022 \")\n",
    "before_data = ROOT.RooDataSet(\"data\",\"\", ROOT.RooArgSet(x,y,a,b,c,d,e,f,g), ROOT.RooFit.Import(mychain), Cut=Cut)\n",
    "\n",
    "\n",
    "w_1 = ROOT.RooRealVar('w_1', 'w', 0,1)\n",
    "\n",
    "w_1.setVal(1/4)\n",
    "# w_1.setVal(1)\n",
    "before_data.addColumn(w_1)\n",
    "data = ROOT.RooDataSet(before_data.GetName(), before_data.GetTitle(),before_data, before_data.get(), '' ,  'w_1')\n",
    "N_total = data.sumEntries()\n",
    "print(N_total)"
   ]
  },
  {
   "cell_type": "code",
   "execution_count": 80,
   "id": "d6dce981-d546-4385-a430-6bbc99c3aba0",
   "metadata": {},
   "outputs": [
    {
     "name": "stdout",
     "output_type": "stream",
     "text": [
      "RooDataSet::data[D0_M,D0_cosHel_0,Phi_M,Dstarp_CMS_p,Dstarp_isSignal,gamma_E,Pi0_Prob2,Dstarp_delM,iCascDcyBrP_Dst_0,weight:w_1] = 717 entries (179.25 weighted)\n"
     ]
    }
   ],
   "source": [
    "data.Print()"
   ]
  },
  {
   "cell_type": "code",
   "execution_count": 81,
   "id": "44a0a377-6e1c-4d12-9fb6-631c65f42a54",
   "metadata": {},
   "outputs": [],
   "source": [
    "mychain2 = ROOT.TChain(\"phi_cc\")\n",
    "# file_list = [\"/media/jykim/T7_2/storage/Ntuples_ghi_2/MC15rd/MC15rd_Vg_preext_maxFBDT_2ndFBDT/ccbar/*.root\"]\n",
    "file_list = glob.glob(\"/media/jykim/T7_2/storage/Ntuples_ghi_2/MC15rd/MC15rd_Vg_sigext_maxFBDT_2ndFBDT/topo/resultfile/result_phi_cc/*.root\")\n",
    "for i in file_list:\n",
    "    mychain2.Add(i)"
   ]
  },
  {
   "cell_type": "code",
   "execution_count": 82,
   "id": "a3871ca1-cb1e-4ccc-b3ac-37c14c6b74dc",
   "metadata": {},
   "outputs": [
    {
     "name": "stdout",
     "output_type": "stream",
     "text": [
      "193.0\n",
      "[#1] INFO:InputArguments -- The formula D0_M>1.68 & D0_M<2.05 & abs(Phi_M - 1.0195) < 0.011 &  Dstarp_CMS_p>2.5  & gamma_E>0.47 & Pi0_Prob2>0.5 & abs(Dstarp_delM-0.1455)<0.00078 & (iCascDcyBrP_Dstm_0!=6 & iCascDcyBrP_Dstm_0!=5 & iCascDcyBrP_Dstm_0!=23 & iCascDcyBrP_Dstm_0!=0 & iCascDcyBrP_Dstm_0!=1) claims to use the variables (D0_M,D0_cosHel_0,Phi_M,Dstarp_CMS_p,Dstarp_isSignal,gamma_E,Pi0_Prob2,Dstarp_delM,iCascDcyBrP_Dstm_0) but only (D0_M,Phi_M,Dstarp_CMS_p,gamma_E,Pi0_Prob2,Dstarp_delM,iCascDcyBrP_Dstm_0) seem to be in use.\n",
      "  inputs:         D0_M>1.68 & D0_M<2.05 & abs(Phi_M - 1.0195) < 0.011 &  Dstarp_CMS_p>2.5  & gamma_E>0.47 & Pi0_Prob2>0.5 & abs(Dstarp_delM-0.1455)<0.00078 & (iCascDcyBrP_Dstm_0!=6 & iCascDcyBrP_Dstm_0!=5 & iCascDcyBrP_Dstm_0!=23 & iCascDcyBrP_Dstm_0!=0 & iCascDcyBrP_Dstm_0!=1)\n",
      "[#1] INFO:DataHandling -- RooAbsReal::attachToTree(iCascDcyBrP_Dstm_0) TTree Int_t branch iCascDcyBrP_Dstm_0 will be converted to double precision.\n"
     ]
    }
   ],
   "source": [
    "Cut=\"D0_M>1.68 & D0_M<2.05 & abs(Phi_M - 1.0195) < 0.011 &  Dstarp_CMS_p>2.5  \"\n",
    "Cut+=\"& gamma_E>0.47 & Pi0_Prob2>0.5 & abs(Dstarp_delM-0.1455)<0.00078 & (iCascDcyBrP_Dstm_0!=6 & iCascDcyBrP_Dstm_0!=5 & iCascDcyBrP_Dstm_0!=23 & iCascDcyBrP_Dstm_0!=0 & iCascDcyBrP_Dstm_0!=1)\"\n",
    "# Cut=\"iCascDcyBrP_Dstm_0==0\"\n",
    " \n",
    "before_data2 = ROOT.RooDataSet(\"data2\",\"\", ROOT.RooArgSet(x,y,a,b,c,d,e,f,h), ROOT.RooFit.Import(mychain2), Cut=Cut)\n",
    "before_data2.addColumn(w_1)\n",
    "data2 = ROOT.RooDataSet(before_data2.GetName(), before_data2.GetTitle(),before_data2, before_data2.get(), '' ,  'w_1')\n",
    "N_total = data2.sumEntries()\n",
    "print(N_total)"
   ]
  },
  {
   "cell_type": "code",
   "execution_count": 84,
   "id": "a79ea992-fe26-4ee7-acfa-5b053f0b8782",
   "metadata": {},
   "outputs": [
    {
     "name": "stdout",
     "output_type": "stream",
     "text": [
      "RooDataSet::data2[D0_M,D0_cosHel_0,Phi_M,Dstarp_CMS_p,Dstarp_isSignal,gamma_E,Pi0_Prob2,Dstarp_delM,iCascDcyBrP_Dstm_0,weight:w_1] = 772 entries (193 weighted)\n"
     ]
    }
   ],
   "source": [
    "data2.Print()"
   ]
  },
  {
   "cell_type": "code",
   "execution_count": 85,
   "id": "6365d2cd-e82c-4fd3-b2a0-54637bd08be3",
   "metadata": {},
   "outputs": [],
   "source": [
    "data.append(data2)"
   ]
  },
  {
   "cell_type": "code",
   "execution_count": 86,
   "id": "b64ac447-4802-42cd-b304-6ae093743d21",
   "metadata": {},
   "outputs": [
    {
     "data": {
      "text/plain": [
       "372.25"
      ]
     },
     "execution_count": 86,
     "metadata": {},
     "output_type": "execute_result"
    }
   ],
   "source": [
    "data.sumEntries()"
   ]
  },
  {
   "cell_type": "code",
   "execution_count": 95,
   "id": "d6f8fe12-51bc-424a-a47c-a1dd9bc90001",
   "metadata": {},
   "outputs": [],
   "source": [
    "fitting_region = (1.68, 2.05)\n",
    "x = ROOT.RooRealVar(\"D0_M\", \"M(D^{0}) [GeV/c^{2}]\", fitting_region[0], fitting_region[1], \"\")"
   ]
  },
  {
   "cell_type": "code",
   "execution_count": 96,
   "id": "ff49f75c-f944-47ed-b989-6e1e17ff9d37",
   "metadata": {},
   "outputs": [],
   "source": [
    "\n",
    "tau = ROOT.RooRealVar(\"tau\", \"tau\",-5, -10,0)"
   ]
  },
  {
   "cell_type": "code",
   "execution_count": 97,
   "id": "825df123-2325-4830-902a-2b1690bc952f",
   "metadata": {},
   "outputs": [],
   "source": [
    "model = ROOT.RooExponential(\"model\", \"Signal component 1\", x, tau)"
   ]
  },
  {
   "cell_type": "code",
   "execution_count": 98,
   "id": "3244157d-3f9d-4f88-96e0-b4abefadec2d",
   "metadata": {},
   "outputs": [],
   "source": [
    "# c0 = ROOT.RooRealVar(\"c0\", \"c0\",0.5, -1,1)\n",
    "# c1 = ROOT.RooRealVar(\"c1\", \"c0\",0.5, -1,1)"
   ]
  },
  {
   "cell_type": "code",
   "execution_count": 99,
   "id": "2402f769-639e-42d2-ab86-0e0c40f83f41",
   "metadata": {},
   "outputs": [],
   "source": [
    "# model = ROOT.RooPolynomial(\"model\", \"Signal component 1\", x, ROOT.RooArgList(c0, c1))\n"
   ]
  },
  {
   "cell_type": "code",
   "execution_count": 101,
   "id": "853cf655-cce1-4c57-ada3-6ce898be07cf",
   "metadata": {},
   "outputs": [
    {
     "name": "stdout",
     "output_type": "stream",
     "text": [
      "[#0] WARNING:InputArguments -- RooAbsPdf::fitTo(model) WARNING: a likelihood fit is requested of what appears to be weighted data.\n",
      "       While the estimated values of the parameters will always be calculated taking the weights into account,\n",
      "       there are multiple ways to estimate the errors of the parameters. You are advised to make an \n",
      "       explicit choice for the error calculation:\n",
      "           - Either provide SumW2Error(true), to calculate a sum-of-weights-corrected HESSE error matrix\n",
      "             (error will be proportional to the number of events in MC).\n",
      "           - Or provide SumW2Error(false), to return errors from original HESSE error matrix\n",
      "             (which will be proportional to the sum of the weights, i.e., a dataset with <sum of weights> events).\n",
      "           - Or provide AsymptoticError(true), to use the asymptotically correct expression\n",
      "             (for details see https://arxiv.org/abs/1911.01303).\n",
      "[#1] INFO:Minimization -- RooAbsMinimizerFcn::setOptimizeConst: activating const optimization\n",
      "[#1] INFO:Fitting -- RooAbsOptTestStatistic::ctor(nll_model_data) constructing test statistic for sub-range named fit\n",
      "[#1] INFO:Fitting -- RooAbsOptTestStatistic::ctor(nll_model_data) fixing interpretation of coefficients of any RooAddPdf to full domain of observables \n",
      "[#1] INFO:Eval -- RooAbsTestStatistic::initMPMode: started 12 remote server process.\n",
      "[#1] INFO:Minimization -- RooAbsMinimizerFcn::setOptimizeConst: deactivating const optimization\n",
      "\n",
      "  RooFitResult: minimized FCN value: -391.41, estimated distance to minimum: 9.99038e-12\n",
      "                covariance matrix quality: Full, accurate covariance matrix\n",
      "                Status : MINIMIZE=0 HESSE=0 \n",
      "\n",
      "    Floating Parameter    FinalValue +/-  Error   \n",
      "  --------------------  --------------------------\n",
      "                   tau   -3.2229e+00 +/-  5.01e-01\n",
      "\n",
      "[#1] INFO:Plotting -- RooAbsPdf::plotOn(model) p.d.f was fitted in a subrange and no explicit Range() and NormRange() was specified. Plotting / normalising in fit range. To override, do one of the following\n",
      "\t- Clear the automatic fit range attribute: <pdf>.setStringAttribute(\"fitrange\", nullptr);\n",
      "\t- Explicitly specify the plotting range: Range(\"<rangeName>\").\n",
      "\t- Explicitly specify where to compute the normalisation: NormRange(\"<rangeName>\").\n",
      "\tThe default (full) range can be denoted with Range(\"\") / NormRange(\"\").\n",
      "[#1] INFO:Plotting -- RooAbsPdf::plotOn(model) only plotting range 'fit_nll_model_data'\n",
      "[#1] INFO:Plotting -- RooAbsPdf::plotOn(model) p.d.f. curve is normalized using explicit choice of ranges 'fit_nll_model_data'\n",
      "[#0] ERROR:Plotting -- RooAbsPdf::plotOn(model) ERROR: component selection set (sig1) does not match any components of p.d.f.\n",
      "[#1] INFO:Plotting -- RooAbsPdf::plotOn(model) p.d.f was fitted in a subrange and no explicit Range() and NormRange() was specified. Plotting / normalising in fit range. To override, do one of the following\n",
      "\t- Clear the automatic fit range attribute: <pdf>.setStringAttribute(\"fitrange\", nullptr);\n",
      "\t- Explicitly specify the plotting range: Range(\"<rangeName>\").\n",
      "\t- Explicitly specify where to compute the normalisation: NormRange(\"<rangeName>\").\n",
      "\tThe default (full) range can be denoted with Range(\"\") / NormRange(\"\").\n",
      "[#1] INFO:Plotting -- RooAbsPdf::plotOn(model) only plotting range 'fit_nll_model_data'\n",
      "[#1] INFO:Plotting -- RooAbsPdf::plotOn(model) p.d.f. curve is normalized using explicit choice of ranges 'fit_nll_model_data'\n",
      "[#0] ERROR:Plotting -- RooAbsPdf::plotOn(model) ERROR: component selection set (sig2) does not match any components of p.d.f.\n",
      "[#1] INFO:Plotting -- RooAbsPdf::plotOn(model) p.d.f was fitted in a subrange and no explicit Range() and NormRange() was specified. Plotting / normalising in fit range. To override, do one of the following\n",
      "\t- Clear the automatic fit range attribute: <pdf>.setStringAttribute(\"fitrange\", nullptr);\n",
      "\t- Explicitly specify the plotting range: Range(\"<rangeName>\").\n",
      "\t- Explicitly specify where to compute the normalisation: NormRange(\"<rangeName>\").\n",
      "\tThe default (full) range can be denoted with Range(\"\") / NormRange(\"\").\n",
      "[#1] INFO:Plotting -- RooAbsPdf::plotOn(model) only plotting range 'fit_nll_model_data'\n",
      "[#1] INFO:Plotting -- RooAbsPdf::plotOn(model) p.d.f. curve is normalized using explicit choice of ranges 'fit_nll_model_data'\n"
     ]
    },
    {
     "name": "stderr",
     "output_type": "stream",
     "text": [
      "Warning in <TCanvas::Constructor>: Deleting canvas with same name: Canvas\n",
      "Info in <TCanvas::Print>: png file /media/jykim/T7/saved_plots/fitting/results/phigamma/MCrd_topo_except_Vg_Vpi0_phiX.png has been created\n"
     ]
    },
    {
     "data": {
      "image/png": "[encoded data removed]",
      "text/plain": [
       "<IPython.core.display.Image object>"
      ]
     },
     "metadata": {},
     "output_type": "display_data"
    }
   ],
   "source": [
    "canv = ROOT.TCanvas(\"Canvas\", \"Canvas\", 700, 640)\n",
    "\n",
    "xlow = ctypes.c_double()\n",
    "ylow = ctypes.c_double()\n",
    "xup = ctypes.c_double()\n",
    "yup = ctypes.c_double()\n",
    "\n",
    "canv.GetPad(0).GetPadPar(xlow, ylow, xup, yup)\n",
    "canv.Divide(1,2)\n",
    "\n",
    "xlow = xlow.value\n",
    "ylow = ylow.value\n",
    "xup = xup.value\n",
    "yup = yup.value\n",
    "\n",
    "upPad = canv.GetPad(1)\n",
    "upPad.SetPad(xlow, ylow+0.25*(yup-ylow),xup,yup)\n",
    "\n",
    "dwPad = canv.GetPad(2)\n",
    "dwPad.SetPad(xlow, ylow,xup,ylow+0.25*(yup-ylow))\n",
    "\n",
    "\n",
    "# model = ROOT.RooAddPdf(\"model\", \"model\", [sig1, sig2], sig1frac)\n",
    "\n",
    "\n",
    "# x.setBins(10000,\"cache\") \n",
    "# model = ROOT.RooFFTConvPdf(\"model\",\"CB (X) gauss\",x,sig2,sig1)\n",
    "\n",
    "r = model.fitTo(data,NumCPU=12,Range=fitting_region,PrintLevel=-1, Save=1)\n",
    "# r = model.fitTo(wdata,NumCPU=12,Range=fitting_region,PrintLevel=-1, Save=1)\n",
    "\n",
    "r.Print()\n",
    "canv.cd(1) \n",
    "# frame = x.frame(Title=\"D^{0} #rightarrow #bar{K}^{*0} #pi^{0}\")\n",
    "frame = x.frame(Title=\" \")\n",
    "\n",
    "#Use sqrt(sum(weights^2)) error instead of Poisson errors\n",
    "data.plotOn(frame, Name = \"data1\", DataError= ROOT.RooAbsData.SumW2, XErrorSize=0)\n",
    "\n",
    "# data.plotOn(frame,Name = \"data1\", XErrorSize=0)\n",
    "# wdata.plotOn(frame,Name = \"data1\", XErrorSize=0, DataError=ROOT.RooAbsData.SumW2)\n",
    "# wdata.plotOn(frame,Name = \"data1\", XErrorSize=0,DataError=ROOT.RooAbsData.SumW2)\n",
    "\n",
    "# \n",
    "model.plotOn(frame, Name=\"gauss1\", Components=sig1, LineStyle=ROOT.kDashed, LineColor=593)\n",
    "model.plotOn(frame, Name=\"CB1\", Components=sig2, LineStyle=ROOT.kDashed, LineColor=593)\n",
    "# sig.plotOn(frame, Name=\"Novo\", Components=sig3, LineStyle=ROOT.kDashed, LineColor=593)\n",
    "\n",
    "model.plotOn(frame, Name=\"fitting\",)\n",
    "\n",
    "\n",
    "# sig.paramOn(frame)\n",
    "frame.GetXaxis().CenterTitle(True)\n",
    "\n",
    "frame.Draw(\"PE\")\n",
    "\n",
    "\n",
    "leg1 = ROOT.TLegend(0.75, 0.75, 0.9, 0.9)\n",
    "leg1.SetFillColor(ROOT.kWhite)\n",
    "# leg1.SetHeader(\"The Legend title\",\"C\")\n",
    "leg1.AddEntry(\"data1\", \"MC\", \"PE\")\n",
    "leg1.AddEntry(\"fitting\", \"fit\", \"l\")\n",
    "leg1.Draw()\n",
    "\n",
    "hpull = frame.pullHist()\n",
    "hpull.SetFillStyle(1001)\n",
    "hpull.SetFillColor(1);\n",
    "for i in range(0,hpull.GetN()):#(int i=0;i<hpull.GetN();++i): \n",
    "    hpull.SetPointError(i,0.0,0.0,0.0,0.0)\n",
    "# pullplot = x.frame(Title(\" \"))\n",
    "pullplot = x.frame()\n",
    "pullplot.SetTitle(\"\")\n",
    "pullplot.addPlotable(hpull,\"BE\")\n",
    "# pullplot.addPlotable(hpull,\"PE\")\n",
    "\n",
    "pullplot.SetYTitle(\"Pull\")\n",
    "pullplot.GetXaxis().SetTitleSize(0)\n",
    "pullplot.GetYaxis().SetTitleSize(0.22)\n",
    "pullplot.GetYaxis().CenterTitle(True)\n",
    "pullplot.GetYaxis().SetTitleOffset(0.2)\n",
    "pullplot.SetMinimum(-4.)\n",
    "pullplot.SetMaximum(4.)\n",
    "pullplot.GetXaxis().SetLabelSize(0.15)\n",
    "pullplot.GetYaxis().SetLabelSize(0.105)\n",
    "canv.cd(2)\n",
    "pullplot.Draw()\n",
    "\n",
    "xmin1 = ctypes.c_double(fitting_region[0])\n",
    "xmax1 = ctypes.c_double(fitting_region[1])\n",
    "# xmin1 = 0.1\n",
    "# xmax1 = 0.18\n",
    "line = ROOT.TLine(xmin1,0.0,xmax1,0.0)\n",
    "line1 = ROOT.TLine(xmin1,3.0,xmax1,3.0)\n",
    "line2 = ROOT.TLine(xmin1,-3.0,xmax1,-3.0)\n",
    "\n",
    "line.SetLineColor(ROOT.kRed)\n",
    "line.SetLineWidth(3)\n",
    "line1.SetLineColor(ROOT.kRed)\n",
    "line2.SetLineColor(ROOT.kRed)\n",
    "line1.SetLineStyle(2)\n",
    "line2.SetLineStyle(2)\n",
    "line.Draw(\"SAME\")\n",
    "line1.Draw(\"SAME\")\n",
    "line2.Draw(\"SAME\")\n",
    "\n",
    "canv.Update()\n",
    "\n",
    "canv.Draw()\n",
    "canv.SaveAs(\"/media/jykim/T7/saved_plots/fitting/results/phigamma/MCrd_topo_except_Vg_Vpi0_phiX.png\")\n",
    "# canv.SaveAs(\"test_Default.png\")\n",
    "\n",
    "f = ROOT.TFile(\"phig_MC15rd_except_Vg_Vpi0_phiX_fitresult_D0M.root\", \"RECREATE\")\n",
    "r.Write(\"phig\")\n",
    "f.Close()"
   ]
  },
  {
   "cell_type": "code",
   "execution_count": 108,
   "id": "79ce6f1a-cb96-47c5-9ea5-1133881df093",
   "metadata": {},
   "outputs": [],
   "source": [
    "c0 = ROOT.RooRealVar(\"c0\", \"c0\",0.5, -1,1)\n",
    "c1 = ROOT.RooRealVar(\"c1\", \"c0\",0.5, -1,1)"
   ]
  },
  {
   "cell_type": "code",
   "execution_count": 109,
   "id": "d509f747-8bcc-4cb3-bdf0-e5bb8a3efc2d",
   "metadata": {},
   "outputs": [],
   "source": [
    "fitting_region = (-1,1)\n",
    "x = ROOT.RooRealVar(\"D0_cosHel_0\", \"cos#theta_{H}\", fitting_region[0], fitting_region[1], \"\")\n",
    "\n",
    "model = ROOT.RooChebychev(\"model\", \"Signal component 1\", x, ROOT.RooArgList(c0, c1))\n"
   ]
  },
  {
   "cell_type": "code",
   "execution_count": 113,
   "id": "9e3fac62-989b-46fc-97c2-2e7680fe778a",
   "metadata": {},
   "outputs": [
    {
     "name": "stdout",
     "output_type": "stream",
     "text": [
      "[#0] WARNING:InputArguments -- RooAbsPdf::fitTo(model) WARNING: a likelihood fit is requested of what appears to be weighted data.\n",
      "       While the estimated values of the parameters will always be calculated taking the weights into account,\n",
      "       there are multiple ways to estimate the errors of the parameters. You are advised to make an \n",
      "       explicit choice for the error calculation:\n",
      "           - Either provide SumW2Error(true), to calculate a sum-of-weights-corrected HESSE error matrix\n",
      "             (error will be proportional to the number of events in MC).\n",
      "           - Or provide SumW2Error(false), to return errors from original HESSE error matrix\n",
      "             (which will be proportional to the sum of the weights, i.e., a dataset with <sum of weights> events).\n",
      "           - Or provide AsymptoticError(true), to use the asymptotically correct expression\n",
      "             (for details see https://arxiv.org/abs/1911.01303).\n",
      "[#1] INFO:Minimization -- RooAbsMinimizerFcn::setOptimizeConst: activating const optimization\n",
      "[#1] INFO:Fitting -- RooAbsOptTestStatistic::ctor(nll_model_data) constructing test statistic for sub-range named fit\n",
      "[#1] INFO:Fitting -- RooAbsOptTestStatistic::ctor(nll_model_data) fixing interpretation of coefficients of any RooAddPdf to full domain of observables \n",
      "[#1] INFO:Eval -- RooAbsTestStatistic::initMPMode: started 12 remote server process.\n",
      "[#1] INFO:Minimization -- RooAbsMinimizerFcn::setOptimizeConst: deactivating const optimization\n",
      "\n",
      "  RooFitResult: minimized FCN value: 254.737, estimated distance to minimum: 7.05537e-18\n",
      "                covariance matrix quality: Full, accurate covariance matrix\n",
      "                Status : MINIMIZE=0 HESSE=0 \n",
      "\n",
      "    Floating Parameter    FinalValue +/-  Error   \n",
      "  --------------------  --------------------------\n",
      "                    c0    4.7041e-02 +/-  8.77e-02\n",
      "                    c1    2.0713e-01 +/-  7.78e-02\n",
      "\n",
      "[#1] INFO:Plotting -- RooAbsPdf::plotOn(model) p.d.f was fitted in a subrange and no explicit Range() and NormRange() was specified. Plotting / normalising in fit range. To override, do one of the following\n",
      "\t- Clear the automatic fit range attribute: <pdf>.setStringAttribute(\"fitrange\", nullptr);\n",
      "\t- Explicitly specify the plotting range: Range(\"<rangeName>\").\n",
      "\t- Explicitly specify where to compute the normalisation: NormRange(\"<rangeName>\").\n",
      "\tThe default (full) range can be denoted with Range(\"\") / NormRange(\"\").\n",
      "[#1] INFO:Plotting -- RooAbsPdf::plotOn(model) only plotting range 'fit_nll_model_data'\n",
      "[#1] INFO:Plotting -- RooAbsPdf::plotOn(model) p.d.f. curve is normalized using explicit choice of ranges 'fit_nll_model_data'\n"
     ]
    },
    {
     "name": "stderr",
     "output_type": "stream",
     "text": [
      "Warning in <TCanvas::Constructor>: Deleting canvas with same name: Canvas\n",
      "Info in <TCanvas::Print>: png file /media/jykim/T7/saved_plots/fitting/results/phigamma/MCrd_topo_except_Vg_Vpi0_phiX_cosHel.png has been created\n"
     ]
    },
    {
     "data": {
      "image/png": "[encoded data removed]",
      "text/plain": [
       "<IPython.core.display.Image object>"
      ]
     },
     "metadata": {},
     "output_type": "display_data"
    }
   ],
   "source": [
    "canv = ROOT.TCanvas(\"Canvas\", \"Canvas\", 700, 640)\n",
    "\n",
    "xlow = ctypes.c_double()\n",
    "ylow = ctypes.c_double()\n",
    "xup = ctypes.c_double()\n",
    "yup = ctypes.c_double()\n",
    "\n",
    "canv.GetPad(0).GetPadPar(xlow, ylow, xup, yup)\n",
    "canv.Divide(1,2)\n",
    "\n",
    "xlow = xlow.value\n",
    "ylow = ylow.value\n",
    "xup = xup.value\n",
    "yup = yup.value\n",
    "\n",
    "upPad = canv.GetPad(1)\n",
    "upPad.SetPad(xlow, ylow+0.25*(yup-ylow),xup,yup)\n",
    "\n",
    "dwPad = canv.GetPad(2)\n",
    "dwPad.SetPad(xlow, ylow,xup,ylow+0.25*(yup-ylow))\n",
    "\n",
    "\n",
    "\n",
    "\n",
    "# model = ROOT.RooCBShape(\"model\", \"Signal component 2\", x, mean, sigma2, alpha, n_CB)\n",
    "\n",
    "# model = ROOT.RooAddPdf(\"model\", \"model\", [sig1, sig2], sig1frac)\n",
    "\n",
    "\n",
    "r = model.fitTo(data,NumCPU=12,Range=fitting_region,PrintLevel=-1, Save=1)\n",
    "\n",
    "r.Print()\n",
    "canv.cd(1) \n",
    "# frame = x.frame(Title=\"D^{0} #rightarrow #bar{K}^{*0} #pi^{0}\")\n",
    "frame = x.frame(Title=\" \")\n",
    "\n",
    "# data.plotOn(frame,Name = \"data1\", XErrorSize=0)\n",
    "data.plotOn(frame, Name = \"data1\", DataError= ROOT.RooAbsData.SumW2, XErrorSize=0)\n",
    "\n",
    "# \n",
    "# model.plotOn(frame, Name=\"gauss1\", Components=sig1, LineStyle=ROOT.kDashed, LineColor=593)\n",
    "# model.plotOn(frame, Name=\"CB1\", Components=sig2, LineStyle=ROOT.kDashed, LineColor=593)\n",
    "# # sig.plotOn(frame, Name=\"Novo\", Components=sig3, LineStyle=ROOT.kDashed, LineColor=593)\n",
    "\n",
    "model.plotOn(frame, Name=\"fitting\",)\n",
    "\n",
    "\n",
    "# sig.paramOn(frame)\n",
    "frame.GetXaxis().CenterTitle(True)\n",
    "\n",
    "frame.Draw(\"PE\")\n",
    "\n",
    "\n",
    "leg1 = ROOT.TLegend(0.5, 0.75, 0.65, 0.9)\n",
    "leg1.SetFillColor(ROOT.kWhite)\n",
    "# leg1.SetHeader(\"The Legend title\",\"C\")\n",
    "leg1.AddEntry(\"data1\", \"MC\", \"PE\")\n",
    "leg1.AddEntry(\"fitting\", \"fit\", \"l\")\n",
    "leg1.Draw()\n",
    "\n",
    "hpull = frame.pullHist()\n",
    "hpull.SetFillStyle(1001)\n",
    "hpull.SetFillColor(1);\n",
    "for i in range(0,hpull.GetN()):#(int i=0;i<hpull.GetN();++i): \n",
    "    hpull.SetPointError(i,0.0,0.0,0.0,0.0)\n",
    "# pullplot = x.frame(Title(\" \"))\n",
    "pullplot = x.frame()\n",
    "pullplot.SetTitle(\"\")\n",
    "pullplot.addPlotable(hpull,\"BE\")\n",
    "# pullplot.addPlotable(hpull,\"PE\")\n",
    "\n",
    "pullplot.SetYTitle(\"Pull\")\n",
    "pullplot.GetXaxis().SetTitleSize(0)\n",
    "pullplot.GetYaxis().SetTitleSize(0.22)\n",
    "pullplot.GetYaxis().CenterTitle(True)\n",
    "pullplot.GetYaxis().SetTitleOffset(0.2)\n",
    "pullplot.SetMinimum(-4.)\n",
    "pullplot.SetMaximum(4.)\n",
    "pullplot.GetXaxis().SetLabelSize(0.15)\n",
    "pullplot.GetYaxis().SetLabelSize(0.105)\n",
    "canv.cd(2)\n",
    "pullplot.Draw()\n",
    "\n",
    "xmin1 = ctypes.c_double(fitting_region[0])\n",
    "xmax1 = ctypes.c_double(fitting_region[1])\n",
    "# xmin1 = 0.1\n",
    "# xmax1 = 0.18\n",
    "line = ROOT.TLine(xmin1,0.0,xmax1,0.0)\n",
    "line1 = ROOT.TLine(xmin1,3.0,xmax1,3.0)\n",
    "line2 = ROOT.TLine(xmin1,-3.0,xmax1,-3.0)\n",
    "\n",
    "line.SetLineColor(ROOT.kRed)\n",
    "line.SetLineWidth(3)\n",
    "line1.SetLineColor(ROOT.kRed)\n",
    "line2.SetLineColor(ROOT.kRed)\n",
    "line1.SetLineStyle(2)\n",
    "line2.SetLineStyle(2)\n",
    "line.Draw(\"SAME\")\n",
    "line1.Draw(\"SAME\")\n",
    "line2.Draw(\"SAME\")\n",
    "\n",
    "canv.Update()\n",
    "\n",
    "canv.Draw()\n",
    "canv.SaveAs(\"/media/jykim/T7/saved_plots/fitting/results/phigamma/MCrd_topo_except_Vg_Vpi0_phiX_cosHel.png\")\n",
    "# canv.SaveAs(\"phi_massveto_1ab_signal_cosHel.png\")\n",
    "\n",
    "f = ROOT.TFile(\"phig_MC15rd_except_Vg_Vpi0_phiX_fitresult_cosHel.root\", \"RECREATE\")\n",
    "r.Write(\"phig\")\n",
    "f.Close()\n"
   ]
  },
  {
   "cell_type": "code",
   "execution_count": null,
   "id": "cfc4f946-0d74-4cb5-835f-2b66c8911891",
   "metadata": {},
   "outputs": [],
   "source": []
  },
  {
   "cell_type": "code",
   "execution_count": null,
   "id": "8e4c7db7-73bd-43bc-9193-ab32fb4e0f89",
   "metadata": {},
   "outputs": [],
   "source": []
  }
 ],
 "metadata": {
  "kernelspec": {
   "display_name": "Python 3 (ipykernel)",
   "language": "python",
   "name": "python3"
  },
  "language_info": {
   "codemirror_mode": {
    "name": "ipython",
    "version": 3
   },
   "file_extension": ".py",
   "mimetype": "text/x-python",
   "name": "python",
   "nbconvert_exporter": "python",
   "pygments_lexer": "ipython3",
   "version": "3.10.5"
  }
 },
 "nbformat": 4,
 "nbformat_minor": 5
}
