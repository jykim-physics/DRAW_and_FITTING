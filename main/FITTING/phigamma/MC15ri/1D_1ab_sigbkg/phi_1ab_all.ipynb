{
 "cells": [
  {
   "cell_type": "code",
   "execution_count": 63,
   "id": "3bdbf6d9-8fb7-4849-b476-a1ab02f06744",
   "metadata": {},
   "outputs": [],
   "source": [
    "import ROOT\n",
    "import ctypes"
   ]
  },
  {
   "cell_type": "code",
   "execution_count": 2,
   "id": "cbb7b1d9-8604-400d-b10b-761b3bcefa43",
   "metadata": {},
   "outputs": [
    {
     "name": "stdout",
     "output_type": "stream",
     "text": [
      "\n",
      "Applying BELLE2 style settings...\n"
     ]
    }
   ],
   "source": [
    "ROOT.gROOT.LoadMacro('/home/jykim/workspace/DRAW_and_FITTING/main/Belle2Style.C')\n",
    "ROOT.SetBelle2Style()"
   ]
  },
  {
   "cell_type": "code",
   "execution_count": 64,
   "id": "fd23b315-957c-43f0-bee4-0386ec5a27b0",
   "metadata": {},
   "outputs": [
    {
     "data": {
      "text/plain": [
       "386"
      ]
     },
     "execution_count": 64,
     "metadata": {},
     "output_type": "execute_result"
    }
   ],
   "source": [
    "# TChain *ch = new TChain();\n",
    "# ch->Add(\"./*.root/mytree1\");\n",
    "# ch->Add(\"./*.root/mytree2\");\n",
    "# ch->Add(\"./*.root/mytree3\");\n",
    "\n",
    "ch = ROOT.TChain()\n",
    "ch.Add(\"/media/jykim/T7/storage/01_recon/massvetov2_optimzed_sigext_1ab_sigbkg/ccbar/recon_udst_*.root/phi\")\n",
    "# ch.Add(\"/media/jykim/T7/storage/01_recon/massvetov2_optimzed_sigext_1ab_sigbkg/uubar/recon_udst_*.root/phi\")\n",
    "# ch.Add(\"/media/jykim/T7/storage/01_recon/massvetov2_optimzed_sigext_1ab_sigbkg/ddbar/recon_udst_*.root/phi\")\n",
    "# ch.Add(\"/media/jykim/T7/storage/01_recon/massvetov2_optimzed_sigext_1ab_sigbkg/ssbar/recon_udst_*.root/phi\")\n",
    "# ch.Add(\"/media/jykim/T7/storage/01_recon/massvetov2_optimzed_sigext_1ab_sigbkg/charged/recon_udst_*.root/phi\")\n",
    "# ch.Add(\"/media/jykim/T7/storage/01_recon/massvetov2_optimzed_sigext_1ab_sigbkg/mixed/recon_udst_*.root/phi\")\n",
    "# ch.Add(\"/media/jykim/T7/storage/01_recon/massvetov2_optimzed_sigext_1ab_sigbkg/taupair/recon_udst_*.root/phi\")"
   ]
  },
  {
   "cell_type": "code",
   "execution_count": 65,
   "id": "817478b4-68c3-4a7f-ab74-375b0e7348ab",
   "metadata": {},
   "outputs": [
    {
     "data": {
      "text/plain": [
       "386"
      ]
     },
     "execution_count": 65,
     "metadata": {},
     "output_type": "execute_result"
    }
   ],
   "source": [
    "ch.Add(\"/media/jykim/T7/storage/01_recon/massvetov2_optimzed_sigext_1ab_sigbkg/ccbar/recon_udst_*.root/phi_cc\")\n",
    "# ch.Add(\"/media/jykim/T7/storage/01_recon/massvetov2_optimzed_sigext_1ab_sigbkg/uubar/recon_udst_*.root/phi_cc\")\n",
    "# ch.Add(\"/media/jykim/T7/storage/01_recon/massvetov2_optimzed_sigext_1ab_sigbkg/ddbar/recon_udst_*.root/phi_cc\")\n",
    "# ch.Add(\"/media/jykim/T7/storage/01_recon/massvetov2_optimzed_sigext_1ab_sigbkg/ssbar/recon_udst_*.root/phi_cc\")\n",
    "# ch.Add(\"/media/jykim/T7/storage/01_recon/massvetov2_optimzed_sigext_1ab_sigbkg/charged/recon_udst_*.root/phi_cc\")\n",
    "# ch.Add(\"/media/jykim/T7/storage/01_recon/massvetov2_optimzed_sigext_1ab_sigbkg/mixed/recon_udst_*.root/phi_cc\")\n",
    "# ch.Add(\"/media/jykim/T7/storage/01_recon/massvetov2_optimzed_sigext_1ab_sigbkg/taupair/recon_udst_*.root/phi_cc\")"
   ]
  },
  {
   "cell_type": "code",
   "execution_count": 66,
   "id": "a5e226a0-a307-4ebf-a3c7-772b3672a4c1",
   "metadata": {},
   "outputs": [],
   "source": [
    "# ch.Browse()"
   ]
  },
  {
   "cell_type": "code",
   "execution_count": 67,
   "id": "ce78010d-d970-4fb0-b2d2-59f1e1572ab3",
   "metadata": {},
   "outputs": [],
   "source": [
    "\n",
    "\n",
    "# a\n",
    "# sig_1ab_file = ROOT.TFile.Open(\"/media/jykim/T7/storage/01_recon/massvetov2_optimzed_sigext_1ab_sigbkg/ccbar/recon_udst_000056_.root\")\n",
    "# signal_1ab_tree = sig_1ab_file.Get(\"phi\")\n",
    "\n",
    "# D0bar_sig_1ab_file = ROOT.TFile.Open(\"/media/jykim/T7/storage/01_recon/massvetov2_optimzed_sigext_1ab_sigbkg/topo/resultfile/result_phi_cc/standard.root\")\n",
    "# D0bar_signal_1ab_tree = D0bar_sig_1ab_file.Get(\"phi_cc\")"
   ]
  },
  {
   "cell_type": "code",
   "execution_count": 68,
   "id": "4b72551a-ebd4-4a31-82f1-8eef0b26f8bf",
   "metadata": {},
   "outputs": [
    {
     "name": "stderr",
     "output_type": "stream",
     "text": [
      "Warning in <TROOT::Append>: Replacing existing TH1: D0_M_TH1F_2 (Potential memory leak).\n"
     ]
    }
   ],
   "source": [
    "# D0_M_TH1F = ROOT.TH1F(\"D0_M_TH1F\",\"D0 mass\",50,1.67,2.06)\n",
    "# D0_M_TH1F = ROOT.TH1F(\"D0_M_TH1F\",\"D0 mass\",50,1.72,1.92)\n",
    "D0_M_TH1F_2 = ROOT.TH1F(\"D0_M_TH1F_2\",\"D0 mass\",50,1.68, 2.05)\n",
    "# D0_M_TH1F_2 = ROOT.TH1F(\"D0_M_TH1F_2\",\"D0 mass\",50,1.67, 1.9)\n"
   ]
  },
  {
   "cell_type": "code",
   "execution_count": 69,
   "id": "3a69e135-44ce-49d2-a4b1-058596ee2bad",
   "metadata": {},
   "outputs": [],
   "source": [
    "# def extract_histo(tree, histogram):\n",
    "#     for event in tree:\n",
    "#         histogram.Fill(event.D0_M)\n",
    "#     return histogram"
   ]
  },
  {
   "cell_type": "code",
   "execution_count": 70,
   "id": "180bbf17-769e-4579-bb25-321d03c8a0ae",
   "metadata": {},
   "outputs": [],
   "source": [
    "# def apply_cuts(tree, histogram):\n",
    "#     for event in tree:\n",
    "#         if event.D0_M > 1.68 and event.D0_M < 2.05 :\n",
    "#         # if event.D0_M > 1.78 and event.D0_M < 1.92:\n",
    "\n",
    "#             histogram.Fill(event.D0_M)\n",
    "#     return histogram"
   ]
  },
  {
   "cell_type": "code",
   "execution_count": 71,
   "id": "79ebe577-8e50-4749-8933-7eefc08616d3",
   "metadata": {},
   "outputs": [],
   "source": [
    "def extract_signals(tree, histogram):\n",
    "    for event in tree:\n",
    "        if event.D0_M > 1.68 and event.D0_M < 2.05 and event.Belle2Pi0Veto_75MeV > 0.022:\n",
    "        # if event.iCascDcyBrP_Dst_0 !=1 and event.D0_M > 1.67 and event.D0_M < 2.06:\n",
    "        # if event.iCascDcyBrP_Dst_0 ==0 and event.D0_M > 1.67 and event.D0_M < 1.9 and event.Belle2Pi0Veto_75MeV > 0.02:\n",
    "\n",
    "            histogram.Fill(event.D0_M)\n",
    "    return histogram"
   ]
  },
  {
   "cell_type": "code",
   "execution_count": 72,
   "id": "740212a9-eb8a-45ef-9b3e-ec4f05cae564",
   "metadata": {},
   "outputs": [],
   "source": [
    "\n",
    "# D0_M_TH1F = apply_cuts(signal_tree, D0_M_TH1F)\n",
    "# c1 = ROOT.TCanvas()\n",
    "# D0_M_TH1F.Draw()\n",
    "# c1.Draw()"
   ]
  },
  {
   "cell_type": "code",
   "execution_count": 73,
   "id": "6db6a69e-2cc6-4a5f-8150-ed65215efbc6",
   "metadata": {},
   "outputs": [
    {
     "data": {
      "image/png": "[encoded data removed]",
      "text/plain": [
       "<IPython.core.display.Image object>"
      ]
     },
     "metadata": {},
     "output_type": "display_data"
    }
   ],
   "source": [
    "D0_M_TH1F_2 = extract_signals(ch, D0_M_TH1F_2)\n",
    "\n",
    "# D0_M_TH1F_2 = extract_signals(signal_1ab_tree, D0_M_TH1F_2)\n",
    "# D0_M_TH1F_2 = apply_cuts(signal_1ab_tree, D0_M_TH1F_2)\n",
    "\n",
    "c1 = ROOT.TCanvas()\n",
    "D0_M_TH1F_2.Draw()\n",
    "c1.Draw()"
   ]
  },
  {
   "cell_type": "code",
   "execution_count": 90,
   "id": "8532a885-1acd-4308-b203-f90cf4223ab6",
   "metadata": {},
   "outputs": [
    {
     "data": {
      "image/png": "[encoded data removed]",
      "text/plain": [
       "<IPython.core.display.Image object>"
      ]
     },
     "metadata": {},
     "output_type": "display_data"
    }
   ],
   "source": [
    "c1 = ROOT.TCanvas()\n",
    "D0_M_TH1F_2.Draw()\n",
    "c1.Draw()"
   ]
  },
  {
   "cell_type": "code",
   "execution_count": null,
   "id": "546733e9-0047-4b2c-a054-132bac358fb3",
   "metadata": {},
   "outputs": [],
   "source": []
  },
  {
   "cell_type": "code",
   "execution_count": null,
   "id": "e82ede9a-143e-46cd-b7a2-722df87a0a8b",
   "metadata": {},
   "outputs": [],
   "source": []
  },
  {
   "cell_type": "code",
   "execution_count": 75,
   "id": "a89ff02e-1fb9-46e9-a489-68ecab086829",
   "metadata": {},
   "outputs": [
    {
     "name": "stdout",
     "output_type": "stream",
     "text": [
      "5493.0\n"
     ]
    }
   ],
   "source": [
    "N_entry = D0_M_TH1F_2.GetEntries()\n",
    "print(N_entry)"
   ]
  },
  {
   "cell_type": "code",
   "execution_count": 76,
   "id": "6b227194-e200-426a-a720-ecd509f64fe7",
   "metadata": {},
   "outputs": [],
   "source": [
    "\n",
    "# scale_factor = D0_M_TH1F_2.GetEntries()/D0_M_TH1F.GetEntries()"
   ]
  },
  {
   "cell_type": "code",
   "execution_count": 77,
   "id": "cbed22c9-ed4a-476f-8c57-19a7aaab4665",
   "metadata": {},
   "outputs": [],
   "source": [
    "# scale_factor"
   ]
  },
  {
   "cell_type": "code",
   "execution_count": 102,
   "id": "07856c14-3fbb-45dd-b69c-ef1a94ebc3a9",
   "metadata": {},
   "outputs": [],
   "source": [
    "fitting_region = (1.68, 2.05)\n",
    "x = ROOT.RooRealVar(\"M(D^{0})\", \"M(D^{0}) [GeV/c^{2}]\", fitting_region[0], fitting_region[1], \"\")\n",
    "# x.setBins(50)\n",
    "l = ROOT.RooArgList(x)\n",
    "# signalhist = ROOT.RooDataHist(\"sighist\", \"sighist\", l, D0_M_TH1F, scale_factor)\n",
    "signalhist = ROOT.RooDataHist(\"sighist\", \"sighist\", l, D0_M_TH1F_2, 1)\n"
   ]
  },
  {
   "cell_type": "code",
   "execution_count": 103,
   "id": "80e4129a-6dbc-42da-853c-24dc2d224f86",
   "metadata": {},
   "outputs": [],
   "source": [
    "f = ROOT.TFile.Open(\"/home/jykim/workspace/DRAW_and_FITTING/main/FITTING/phigamma/1D_1ab_sigbkg/phig_MC15ri_half1M_signalMC_fitresult.root\")\n",
    "result_object1 = ROOT.gDirectory.Get(\"phig\")\n",
    "f.Close()\n",
    "fit_args1 = result_object1.floatParsFinal()\n",
    "\n",
    "x_sig_alpha= ROOT.RooRealVar(\"x_sig_alpha\", \"\",  fit_args1.at(0).getVal()) \n",
    "x_sig_mean = ROOT.RooRealVar(\"x_sig_mean\", \"\",  fit_args1.at(1).getVal()) \n",
    "x_sig_n_CB = ROOT.RooRealVar(\"x_sig_n_CB\", \"\",  fit_args1.at(2).getVal()) \n",
    "x_sig_sig1frac = ROOT.RooRealVar(\"x_sig_sig1frac\", \"\",  fit_args1.at(3).getVal()) \n",
    "x_sig_sigma1 = ROOT.RooRealVar(\"x_sig_sigma1\", \"\",  fit_args1.at(4).getVal()) \n",
    "x_sig_sigma2 = ROOT.RooRealVar(\"x_sig_sigma2\", \"\",  fit_args1.at(5).getVal()) "
   ]
  },
  {
   "cell_type": "code",
   "execution_count": 104,
   "id": "c1f87a60-4a42-45ef-9e22-ec4bf9e70dc6",
   "metadata": {},
   "outputs": [],
   "source": [
    "f = ROOT.TFile.Open(\"/home/jykim/workspace/DRAW_and_FITTING/main/FITTING/phigamma/1D_1ab_sigbkg/phig_MC15ri_1ab_Vpi0_fitresult.root\")\n",
    "result_object2 = ROOT.gDirectory.Get(\"phig\")\n",
    "f.Close()\n",
    "fit_args2 = result_object2.floatParsFinal()\n",
    "\n",
    "Vpi0_alpha = ROOT.RooRealVar(\"Vpi0_alpha\", \"\",  fit_args2.at(0).getVal()) \n",
    "Vpi0_mean = ROOT.RooRealVar(\"Vpi0_mean\", \"\",  fit_args2.at(1).getVal()) \n",
    "Vpi0_n_CB = ROOT.RooRealVar(\"Vpi0_n_CB\", \"\",  fit_args2.at(2).getVal()) \n",
    "Vpi0_sig1frac = ROOT.RooRealVar(\"Vpi0_sig1frac\", \"\",  fit_args2.at(3).getVal()) \n",
    "Vpi0_sigma1 = ROOT.RooRealVar(\"Vpi0_sigma1\", \"\",  fit_args2.at(4).getVal()) \n",
    "Vpi0_sigma2 = ROOT.RooRealVar(\"Vpi0_sigma2\", \"\",  fit_args2.at(5).getVal()) "
   ]
  },
  {
   "cell_type": "code",
   "execution_count": 105,
   "id": "0dc0d1fb-db78-4300-99c1-bb788611fb47",
   "metadata": {},
   "outputs": [],
   "source": [
    "f = ROOT.TFile.Open(\"/home/jykim/workspace/DRAW_and_FITTING/main/FITTING/phigamma/1D_1ab_sigbkg/phig_MC15ri_1ab_others_fitresult.root\")\n",
    "result_object3 = ROOT.gDirectory.Get(\"phig\")\n",
    "f.Close()\n",
    "fit_args3 = result_object3.floatParsFinal()\n",
    "\n",
    "x_bkg2_c0 = ROOT.RooRealVar(\"x_bkg2_c0\", \"\",  fit_args3.at(0).getVal()) \n",
    "x_bkg2_c1 = ROOT.RooRealVar(\"x_bkg2_c1\", \"\",  fit_args3.at(1).getVal()) "
   ]
  },
  {
   "cell_type": "code",
   "execution_count": 106,
   "id": "81461404-b419-43dc-b0a9-5a8ab1a4544b",
   "metadata": {},
   "outputs": [],
   "source": [
    "\n",
    "# mean = ROOT.RooRealVar(\"mean\", \"mean of gaussians\", 1.84,1.83, 1.86)\n",
    "# sigma1 = ROOT.RooRealVar(\"sigma1\", \"width of gaussians\", 0.03,0,0.5)\n",
    "# alpha = ROOT.RooRealVar(\"alpha\", \"width of gaussians\", 0.5,0,2)\n",
    "# n_CB = ROOT.RooRealVar(\"n_CB\", \"width of gaussians\", 5,0,10)\n",
    " \n",
    "# mean_sig = ROOT.RooRealVar(\"mean_sig\", \"mean of gaussians\", 1.867,1.85, 1.87)\n",
    "# sigma2 = ROOT.RooRealVar(\"sigma2\", \"width of gaussians\", 0.02,0,0.5)\n",
    "# alpha2 = ROOT.RooRealVar(\"alpha2\", \"width of gaussians\", 0.5,0,2)\n",
    "# n_CB2 = ROOT.RooRealVar(\"n_CB2\", \"width of gaussians\", 5,0,10)\n",
    "\n",
    "    \n",
    "# # Novo_peak = ROOT.RooRealVar(\"Novo_peak\", \"Novo peak\", 1.83,1.67,1.93)    \n",
    "# # Novo_width = ROOT.RooRealVar(\"Novo_widh\", \"Novo peak\", 0.05,0,0.5)    \n",
    "# # Novo_tail = ROOT.RooRealVar(\"Novo_tail\", \"Novo peak\", 0.5,0,10)    \n",
    "\n",
    "\n",
    "# x_bkg2_c0 = ROOT.RooRealVar(\"x_bkg2_c0\", \"c0\",0.2, -1,1)\n",
    "# x_bkg2_c1 = ROOT.RooRealVar(\"x_bkg2_c1\", \"c1\",0.2, -1,1)\n"
   ]
  },
  {
   "cell_type": "code",
   "execution_count": 107,
   "id": "32658f60-999f-40d5-9109-803d213b55ed",
   "metadata": {},
   "outputs": [
    {
     "name": "stdout",
     "output_type": "stream",
     "text": [
      "[#0] WARNING:InputArguments -- The parameter 'x_sig_sigma1' with range [-1e+30, 1e+30] of the RooGaussian 'x_sig_sig1' exceeds the safe range of (0, inf). Advise to limit its range.\n",
      "[#0] WARNING:InputArguments -- The parameter 'Vpi0_sigma1' with range [-1e+30, 1e+30] of the RooGaussian 'Vpi0_1' exceeds the safe range of (0, inf). Advise to limit its range.\n",
      "[#1] INFO:Minimization -- p.d.f. provides expected number of events, including extended term in likelihood.\n",
      "[#1] INFO:Eval -- RooRealVar::setRange(M(D^{0})) new range named 'fit' created with bounds [1.68,2.05]\n",
      "[#1] INFO:Minimization -- RooAbsMinimizerFcn::setOptimizeConst: activating const optimization\n",
      "[#1] INFO:Fitting -- RooAbsOptTestStatistic::ctor(nll_extended_model_sighist) constructing test statistic for sub-range named fit\n",
      "[#1] INFO:Eval -- RooRealVar::setRange(M(D^{0})) new range named 'NormalizationRangeForfit' created with bounds [1.68,2.05]\n",
      "[#1] INFO:Eval -- RooRealVar::setRange(M(D^{0})) new range named 'fit_nll_extended_model_sighist' created with bounds [1.68,2.05]\n",
      "[#1] INFO:Fitting -- RooAbsOptTestStatistic::ctor(nll_extended_model_sighist) fixing interpretation of coefficients of any RooAddPdf to full domain of observables \n",
      "[#1] INFO:Eval -- RooAbsTestStatistic::initMPMode: started 12 remote server process.\n",
      "[#1] INFO:Minimization --  The following expressions have been identified as constant and will be precalculated and cached: (sig_model,Vpi0_model,remain_model)\n",
      "[#1] INFO:Minimization --  The following expressions have been identified as constant and will be precalculated and cached: (sig_model,Vpi0_model,remain_model)\n",
      "[#1] INFO:Minimization --  The following expressions have been identified as constant and will be precalculated and cached: (sig_model,Vpi0_model,remain_model)\n",
      "[#1] INFO:Minimization --  The following expressions have been identified as constant and will be precalculated and cached: (sig_model,Vpi0_model,remain_model)\n",
      "[#1] INFO:Minimization --  The following expressions have been identified as constant and will be precalculated and cached: (sig_model,Vpi0_model,remain_model)\n",
      "[#1] INFO:Minimization --  The following expressions have been identified as constant and will be precalculated and cached: (sig_model,Vpi0_model,remain_model)\n",
      "[#1] INFO:Minimization --  The following expressions have been identified as constant and will be precalculated and cached: (sig_model,Vpi0_model,remain_model)\n",
      "[#1] INFO:Minimization --  The following expressions have been identified as constant and will be precalculated and cached: (sig_model,Vpi0_model,remain_model)\n",
      "[#1] INFO:Minimization --  The following expressions have been identified as constant and will be precalculated and cached: (sig_model,Vpi0_model,remain_model)\n",
      "[#1] INFO:Minimization --  The following expressions have been identified as constant and will be precalculated and cached: (sig_model,Vpi0_model,remain_model)\n",
      "[#1] INFO:Minimization --  The following expressions have been identified as constant and will be precalculated and cached: (sig_model,Vpi0_model,remain_model)\n",
      "[#1] INFO:Minimization --  The following expressions have been identified as constant and will be precalculated and cached: (sig_model,Vpi0_model,remain_model)\n",
      "[#1] INFO:Minimization -- RooAbsMinimizerFcn::setOptimizeConst: deactivating const optimization\n",
      "\n",
      "  RooFitResult: minimized FCN value: -46346.5, estimated distance to minimum: 3.49775e-06\n",
      "                covariance matrix quality: Full, accurate covariance matrix\n",
      "                Status : MINIMIZE=0 HESSE=0 \n",
      "\n",
      "    Floating Parameter    FinalValue +/-  Error   \n",
      "  --------------------  --------------------------\n",
      "                 nbkg1    5.4176e-07 +/-  5.00e-01\n",
      "                 nbkg2    2.7465e+03 +/-  5.00e-01\n",
      "                  nsig    1.2070e-06 +/-  5.00e-01\n",
      "\n",
      "[#1] INFO:Plotting -- RooAbsPdf::plotOn(extended_model) p.d.f was fitted in a subrange and no explicit Range() and NormRange() was specified. Plotting / normalising in fit range. To override, do one of the following\n",
      "\t- Clear the automatic fit range attribute: <pdf>.setStringAttribute(\"fitrange\", nullptr);\n",
      "\t- Explicitly specify the plotting range: Range(\"<rangeName>\").\n",
      "\t- Explicitly specify where to compute the normalisation: NormRange(\"<rangeName>\").\n",
      "\tThe default (full) range can be denoted with Range(\"\") / NormRange(\"\").\n",
      "[#1] INFO:Plotting -- RooAbsPdf::plotOn(extended_model) only plotting range 'fit_nll_extended_model_sighist'\n",
      "[#1] INFO:Plotting -- RooAbsPdf::plotOn(extended_model) p.d.f. curve is normalized using explicit choice of ranges 'fit_nll_extended_model_sighist'\n",
      "[#1] INFO:Plotting -- RooAbsPdf::plotOn(extended_model) directly selected PDF components: (remain_model)\n",
      "[#1] INFO:Plotting -- RooAbsPdf::plotOn(extended_model) indirectly selected PDF components: ()\n",
      "[#1] INFO:Plotting -- RooAbsPdf::plotOn(extended_model) p.d.f was fitted in a subrange and no explicit Range() and NormRange() was specified. Plotting / normalising in fit range. To override, do one of the following\n",
      "\t- Clear the automatic fit range attribute: <pdf>.setStringAttribute(\"fitrange\", nullptr);\n",
      "\t- Explicitly specify the plotting range: Range(\"<rangeName>\").\n",
      "\t- Explicitly specify where to compute the normalisation: NormRange(\"<rangeName>\").\n",
      "\tThe default (full) range can be denoted with Range(\"\") / NormRange(\"\").\n",
      "[#1] INFO:Plotting -- RooAbsPdf::plotOn(extended_model) only plotting range 'fit_nll_extended_model_sighist'\n",
      "[#1] INFO:Plotting -- RooAbsPdf::plotOn(extended_model) p.d.f. curve is normalized using explicit choice of ranges 'fit_nll_extended_model_sighist'\n",
      "[#1] INFO:Plotting -- RooAbsPdf::plotOn(extended_model) directly selected PDF components: (Vpi0_model)\n",
      "[#1] INFO:Plotting -- RooAbsPdf::plotOn(extended_model) indirectly selected PDF components: (Vpi0_1,Vpi0_2)\n",
      "[#1] INFO:Plotting -- RooAbsPdf::plotOn(extended_model) p.d.f was fitted in a subrange and no explicit Range() and NormRange() was specified. Plotting / normalising in fit range. To override, do one of the following\n",
      "\t- Clear the automatic fit range attribute: <pdf>.setStringAttribute(\"fitrange\", nullptr);\n",
      "\t- Explicitly specify the plotting range: Range(\"<rangeName>\").\n",
      "\t- Explicitly specify where to compute the normalisation: NormRange(\"<rangeName>\").\n",
      "\tThe default (full) range can be denoted with Range(\"\") / NormRange(\"\").\n",
      "[#1] INFO:Plotting -- RooAbsPdf::plotOn(extended_model) only plotting range 'fit_nll_extended_model_sighist'\n",
      "[#1] INFO:Plotting -- RooAbsPdf::plotOn(extended_model) p.d.f. curve is normalized using explicit choice of ranges 'fit_nll_extended_model_sighist'\n",
      "[#1] INFO:Plotting -- RooAbsPdf::plotOn(extended_model) directly selected PDF components: (sig_model)\n",
      "[#1] INFO:Plotting -- RooAbsPdf::plotOn(extended_model) indirectly selected PDF components: (x_sig_sig1,x_sig_sig2)\n",
      "[#1] INFO:Plotting -- RooAbsPdf::plotOn(extended_model) p.d.f was fitted in a subrange and no explicit Range() and NormRange() was specified. Plotting / normalising in fit range. To override, do one of the following\n",
      "\t- Clear the automatic fit range attribute: <pdf>.setStringAttribute(\"fitrange\", nullptr);\n",
      "\t- Explicitly specify the plotting range: Range(\"<rangeName>\").\n",
      "\t- Explicitly specify where to compute the normalisation: NormRange(\"<rangeName>\").\n",
      "\tThe default (full) range can be denoted with Range(\"\") / NormRange(\"\").\n",
      "[#1] INFO:Plotting -- RooAbsPdf::plotOn(extended_model) only plotting range 'fit_nll_extended_model_sighist'\n",
      "[#1] INFO:Plotting -- RooAbsPdf::plotOn(extended_model) p.d.f. curve is normalized using explicit choice of ranges 'fit_nll_extended_model_sighist'\n"
     ]
    },
    {
     "name": "stderr",
     "output_type": "stream",
     "text": [
      "Warning in <TCanvas::Constructor>: Deleting canvas with same name: Canvas\n"
     ]
    },
    {
     "data": {
      "image/png": "[encoded data removed]",
      "text/plain": [
       "<IPython.core.display.Image object>"
      ]
     },
     "metadata": {},
     "output_type": "display_data"
    }
   ],
   "source": [
    "canv = ROOT.TCanvas(\"Canvas\", \"Canvas\", 700, 640)\n",
    "\n",
    "xlow = ctypes.c_double()\n",
    "ylow = ctypes.c_double()\n",
    "xup = ctypes.c_double()\n",
    "yup = ctypes.c_double()\n",
    "\n",
    "canv.GetPad(0).GetPadPar(xlow, ylow, xup, yup)\n",
    "canv.Divide(1,2)\n",
    "\n",
    "xlow = xlow.value\n",
    "ylow = ylow.value\n",
    "xup = xup.value\n",
    "yup = yup.value\n",
    "\n",
    "upPad = canv.GetPad(1)\n",
    "upPad.SetPad(xlow, ylow+0.25*(yup-ylow),xup,yup)\n",
    "\n",
    "dwPad = canv.GetPad(2)\n",
    "dwPad.SetPad(xlow, ylow,xup,ylow+0.25*(yup-ylow))\n",
    "\n",
    "x_sig_sig1 = ROOT.RooGaussian(\"x_sig_sig1\", \"Signal component 1\", x, x_sig_mean, x_sig_sigma1)\n",
    "x_sig_sig2 =  ROOT.RooCBShape(\"x_sig_sig2\", \"Signal component 2\", x, x_sig_mean, x_sig_sigma2, x_sig_alpha, x_sig_n_CB)\n",
    "# x_sig_sig1frac = ROOT.RooRealVar(\"x_sig_sig1frac\", \"fraction of component 1 in signal\", 0.5, 0.0, 1.0)\n",
    "sig_model = ROOT.RooAddPdf(\"sig_model\", \"model\", [x_sig_sig1, x_sig_sig2], x_sig_sig1frac)\n",
    "\n",
    "Vpi0_1 = ROOT.RooGaussian(\"Vpi0_1\", \"Signal component 1\", x, Vpi0_mean, Vpi0_sigma1)\n",
    "Vpi0_2 = ROOT.RooCBShape(\"Vpi0_2\", \"Signal component 2\", x, Vpi0_mean, Vpi0_sigma2, Vpi0_alpha, Vpi0_n_CB)\n",
    "Vpi0_model = ROOT.RooAddPdf(\"Vpi0_model\", \"model\", [Vpi0_1, Vpi0_2], Vpi0_sig1frac)\n",
    "\n",
    "remain_model = ROOT.RooPolynomial(\"remain_model\", \"Signal component 1\", x, ROOT.RooArgList(x_bkg2_c0, x_bkg2_c1))\n",
    "\n",
    "\n",
    "# Vpi0_model = ROOT.RooCBShape(\"Vpi0_model\", \"Signal component 2\", x, mean, sigma1, alpha, n_CB)\n",
    "\n",
    "\n",
    "\n",
    "# remain_model = ROOT.RooPolynomial(\"remain_model\", \"Signal component 1\", x, ROOT.RooArgList(x_bkg2_c0, x_bkg2_c1))\n",
    "\n",
    "\n",
    "# sig_model = ROOT.RooCBShape(\"sig_model\", \"Signal component 2\", x, mean_sig, sigma2, alpha2, n_CB2)\n",
    "\n",
    "\n",
    "\n",
    "\n",
    "# sig1frac = ROOT.RooRealVar(\"sig1frac\", \"fraction of component 1 in signal\", 0.1, 0.0, 1.0)\n",
    "# sig1_model = ROOT.RooAddPdf(\"sig1_model\", \"model\", [remain_model, Vpi0_model], sig1frac)\n",
    "\n",
    "# sig2frac = ROOT.RooRealVar(\"sig2frac\", \"fraction of component 1 in signal\", 0.8, 0.0, 1.0)\n",
    "# model = ROOT.RooAddPdf(\"model\", \"model\", [sig_model, sig1_model], sig2frac)\n",
    "\n",
    "####################################\n",
    "# construct signal + bkg pdf\n",
    "nsig = ROOT.RooRealVar(\"nsig\",\"# signal events\",500,0,N_entry)\n",
    "nbkg1 = ROOT.RooRealVar(\"nbkg1\",\"# bkg events\",N_entry*0.5, 0,N_entry)\n",
    "nbkg2 = ROOT.RooRealVar(\"nbkg2\",\"# bkg events\",300, 0,N_entry*0.5)\n",
    "\n",
    "# nbkg3 = ROOT.RooRealVar(\"nbkg3\",\"# bkg events\",300,0., len(D0_M_np_data))\n",
    "\n",
    "\n",
    "# extended_model = ROOT.RooAddPdf(\"extended_model\", \"x_model\", ROOT.RooArgSet(sig_model,bkg1_xy_model,bkg2_xy_model,bkg3_xy_model), ROOT.RooArgSet(nsig, nbkg1, nbkg2, nbkg3))\n",
    "extended_model = ROOT.RooAddPdf(\"extended_model\", \"x_model\", ROOT.RooArgSet(sig_model,Vpi0_model,remain_model), ROOT.RooArgSet(nsig, nbkg1, nbkg2))\n",
    "\n",
    "\n",
    "# model = ROOT.RooAddPdf(\"model\", \"model\", [sig1, sig2], sig1frac)\n",
    "\n",
    "\n",
    "# r = model.fitTo(signalhist,NumCPU=12,Range=fitting_region,PrintLevel=-1, Save=1)\n",
    "r = extended_model.fitTo(signalhist,NumCPU=12,Range=fitting_region,PrintLevel=-1, Save=1)\n",
    "\n",
    "r.Print()\n",
    "canv.cd(1) \n",
    "# frame = x.frame(Title=\"D^{0} #rightarrow #bar{K}^{*0} #pi^{0}\")\n",
    "frame = x.frame(Title=\" \")\n",
    "\n",
    "signalhist.plotOn(frame,Name = \"data1\", XErrorSize=0)\n",
    "\n",
    "# model.plotOn(frame, Name=\"gauss1\", Components=remain_model, LineStyle=ROOT.kDashed, LineColor=593)\n",
    "# model.plotOn(frame, Name=\"CB1\", Components=Vpi0_model, LineStyle=ROOT.kDashed, LineColor=593)\n",
    "# model.plotOn(frame, Name=\"CB1\", Components=sig_model, LineStyle=ROOT.kDashed, LineColor=593)\n",
    "\n",
    "extended_model.plotOn(frame, Name=\"gauss1\", Components=remain_model, LineStyle=ROOT.kDashed, LineColor=593)\n",
    "extended_model.plotOn(frame, Name=\"CB1\", Components=Vpi0_model, LineStyle=ROOT.kDashed, LineColor=593)\n",
    "extended_model.plotOn(frame, Name=\"CB1\", Components=sig_model, LineStyle=ROOT.kDashed, LineColor=593+10)\n",
    "\n",
    "\n",
    "# sig.plotOn(frame, Name=\"Novo\", Components=sig3, LineStyle=ROOT.kDashed, LineColor=593)\n",
    "\n",
    "# model.plotOn(frame, Name=\"fitting\",)\n",
    "# model.plotOn(frame, Name=\"fitting\",)\n",
    "\n",
    "extended_model.plotOn(frame, Name=\"fitting\",)\n",
    "\n",
    "# sig.paramOn(frame)\n",
    "frame.GetXaxis().SetTitleSize(0.047)\n",
    "frame.GetXaxis().CenterTitle(True)\n",
    "frame.GetYaxis().SetTitleSize(0.04)\n",
    "frame.GetYaxis().SetTitleOffset(1.2)\n",
    "frame.Draw(\"PE\")\n",
    "\n",
    "\n",
    "leg1 = ROOT.TLegend(0.75, 0.75, 0.9, 0.9)\n",
    "leg1.SetFillColor(ROOT.kWhite)\n",
    "# leg1.SetHeader(\"The Legend title\",\"C\")\n",
    "leg1.AddEntry(\"data1\", \"MC\", \"PE\")\n",
    "leg1.AddEntry(\"fitting\", \"fit\", \"l\")\n",
    "leg1.Draw()\n",
    "\n",
    "hpull = frame.pullHist()\n",
    "hpull.SetFillStyle(1001)\n",
    "hpull.SetFillColor(1);\n",
    "for i in range(0,hpull.GetN()):#(int i=0;i<hpull.GetN();++i): \n",
    "    hpull.SetPointError(i,0.0,0.0,0.0,0.0)\n",
    "# pullplot = x.frame(Title(\" \"))\n",
    "pullplot = x.frame()\n",
    "pullplot.SetTitle(\"\")\n",
    "pullplot.addPlotable(hpull,\"BE\")\n",
    "# pullplot.addPlotable(hpull,\"PE\")\n",
    "\n",
    "pullplot.SetYTitle(\"Pull\")\n",
    "pullplot.GetXaxis().SetTitleSize(0)\n",
    "pullplot.GetYaxis().SetTitleSize(0.17)\n",
    "pullplot.GetYaxis().CenterTitle(True)\n",
    "pullplot.GetYaxis().SetTitleOffset(0.2)\n",
    "pullplot.SetMinimum(-4.)\n",
    "pullplot.SetMaximum(4.)\n",
    "pullplot.GetXaxis().SetLabelSize(0.1)\n",
    "pullplot.GetYaxis().SetLabelSize(0.09)\n",
    "canv.cd(2)\n",
    "pullplot.Draw()\n",
    "\n",
    "xmin1 = ctypes.c_double(fitting_region[0])\n",
    "xmax1 = ctypes.c_double(fitting_region[1])\n",
    "# xmin1 = 0.1\n",
    "# xmax1 = 0.18\n",
    "line = ROOT.TLine(xmin1,0.0,xmax1,0.0)\n",
    "line1 = ROOT.TLine(xmin1,3.0,xmax1,3.0)\n",
    "line2 = ROOT.TLine(xmin1,-3.0,xmax1,-3.0)\n",
    "\n",
    "line.SetLineColor(ROOT.kRed)\n",
    "line.SetLineWidth(3)\n",
    "line1.SetLineColor(ROOT.kRed)\n",
    "line2.SetLineColor(ROOT.kRed)\n",
    "line1.SetLineStyle(2)\n",
    "line2.SetLineStyle(2)\n",
    "line.Draw(\"SAME\")\n",
    "line1.Draw(\"SAME\")\n",
    "line2.Draw(\"SAME\")\n",
    "\n",
    "canv.Update()\n",
    "\n",
    "canv.Draw()\n",
    "# canv.SaveAs(\"/media/jykim/T7/saved_plots/fitting/results/phigamma/phi_massveto_1ab_Vpi0.png\")\n",
    "\n",
    "f = ROOT.TFile(\"phig_signalMC_fitresult.root\", \"RECREATE\")\n",
    "r.Write(\"phig_sig\")\n",
    "f.Close()\n"
   ]
  },
  {
   "cell_type": "code",
   "execution_count": 93,
   "id": "35ffd040-f571-4a12-bcd2-5df6cec6c76e",
   "metadata": {},
   "outputs": [
    {
     "name": "stdout",
     "output_type": "stream",
     "text": [
      "0x561be4e60f50 RooAddPdf::extended_model = 0.00937525 [Auto,Dirty] \n",
      "  0x561be2f20360/V- RooAddPdf::sig_model = 0.992862 [Auto,Dirty] \n",
      "    0x561be507c100/V- RooGaussian::x_sig_sig1 = 0.996807 [Auto,Dirty] \n",
      "      0x561be519ebd0/V- RooRealVar::M(D^{0}) = 1.865\n",
      "      0x561bdf5979b0/V- RooRealVar::x_sig_mean = 1.8636\n",
      "      0x561be4f25e30/V- RooRealVar::x_sig_sigma1 = 0.017493\n",
      "    0x561be4f3dee0/V- RooRealVar::x_sig_sig1frac = 0.282008\n",
      "    0x561be4f9a810/V- RooCBShape::x_sig_sig2 = 0.991312 [Auto,Dirty] \n",
      "      0x561be519ebd0/V- RooRealVar::M(D^{0}) = 1.865\n",
      "      0x561bdf5979b0/V- RooRealVar::x_sig_mean = 1.8636\n",
      "      0x561be15208d0/V- RooRealVar::x_sig_sigma2 = 0.0105895\n",
      "      0x561be4e5fde0/V- RooRealVar::x_sig_alpha = 0.695586\n",
      "      0x561be4f51f90/V- RooRealVar::x_sig_n_CB = 13.8455\n",
      "  0x561be51ec750/V- RooRealVar::nsig = 1.38102e-06 +/- 0.499985\n",
      "  0x561be4e5bef0/V- RooAddPdf::Vpi0_model = 0.289506 [Auto,Dirty] \n",
      "    0x561be4e5a2e0/V- RooGaussian::Vpi0_1 = 0.738647 [Auto,Dirty] \n",
      "      0x561be519ebd0/V- RooRealVar::M(D^{0}) = 1.865\n",
      "      0x561bdf58f5c0/V- RooRealVar::Vpi0_mean = 1.84123\n",
      "      0x561be4f26530/V- RooRealVar::Vpi0_sigma1 = 0.0305382\n",
      "    0x561be505d080/V- RooRealVar::Vpi0_sig1frac = 0.0746131\n",
      "    0x561be5184ab0/V- RooCBShape::Vpi0_2 = 0.253292 [Auto,Dirty] \n",
      "      0x561be519ebd0/V- RooRealVar::M(D^{0}) = 1.865\n",
      "      0x561bdf58f5c0/V- RooRealVar::Vpi0_mean = 1.84123\n",
      "      0x561be1503850/V- RooRealVar::Vpi0_sigma2 = 0.0143433\n",
      "      0x561be4e4a0e0/V- RooRealVar::Vpi0_alpha = 0.417463\n",
      "      0x561be504f900/V- RooRealVar::Vpi0_n_CB = 5.82793\n",
      "  0x561be51bfed0/V- RooRealVar::nbkg1 = 2.47439e-08 +/- 0.499985\n",
      "  0x561be505ae70/V- RooPolynomial::remain_model = 0.00937525 [Auto,Dirty] \n",
      "    0x561be519ebd0/V- RooRealVar::M(D^{0}) = 1.865\n",
      "    0x561be51b5510/V- RooRealVar::x_bkg2_c0 = -1\n",
      "    0x561bdf58f9a0/V- RooRealVar::x_bkg2_c1 = 0.251385\n",
      "  0x561be4f99050/V- RooRealVar::nbkg2 = 2746.5 +/- 0.49997\n"
     ]
    }
   ],
   "source": [
    "extended_model.Print(\"t\")"
   ]
  },
  {
   "cell_type": "code",
   "execution_count": 137,
   "id": "43ffc56d-f01f-49c7-96d3-6e55a2bd4819",
   "metadata": {},
   "outputs": [],
   "source": [
    "f = ROOT.TFile.Open(\"phig_signalMC_fitresult.root\")\n",
    "r2 = ROOT.gDirectory.Get(\"phig_sig\")\n",
    "f.Close()\n"
   ]
  },
  {
   "cell_type": "code",
   "execution_count": 138,
   "id": "e449db02-3a12-4028-a58f-1daa29df377e",
   "metadata": {},
   "outputs": [
    {
     "name": "stdout",
     "output_type": "stream",
     "text": [
      "\n",
      "  RooFitResult: minimized FCN value: -56686, estimated distance to minimum: 0.000142721\n",
      "                covariance matrix quality: Full matrix, but forced positive-definite\n",
      "                Status : MINIMIZE=0 HESSE=0 \n",
      "\n",
      "    Floating Parameter    FinalValue +/-  Error   \n",
      "  --------------------  --------------------------\n",
      "                 alpha    1.3051e-01 +/-  2.17e-02\n",
      "                alpha2    4.0421e-01 +/-  2.17e-02\n",
      "                  mean    1.8368e+00 +/-  8.77e-04\n",
      "              mean_sig    1.8500e+00 +/-  1.17e-03\n",
      "                  n_CB    6.5226e-01 +/-  1.13e-01\n",
      "                 n_CB2    1.0000e+01 +/-  7.62e+00\n",
      "                 nbkg1    2.4974e+03 +/-  6.80e+01\n",
      "                 nbkg2    1.8265e+03 +/-  5.76e+01\n",
      "                  nsig    1.9489e+03 +/-  6.20e+01\n",
      "                sigma1    9.1491e-03 +/-  9.02e-04\n",
      "                sigma2    1.4653e-02 +/-  4.76e-04\n",
      "             x_bkg2_c0    1.0000e+00 +/-  1.93e+00\n",
      "             x_bkg2_c1   -5.6104e-01 +/-  3.18e-01\n",
      "\n"
     ]
    }
   ],
   "source": [
    "r2.Print()"
   ]
  },
  {
   "cell_type": "code",
   "execution_count": 79,
   "id": "b612badd-87c1-47fd-bb71-12982c4377b0",
   "metadata": {},
   "outputs": [
    {
     "data": {
      "text/plain": [
       "-0.8506516472603695"
      ]
     },
     "execution_count": 79,
     "metadata": {},
     "output_type": "execute_result"
    }
   ],
   "source": [
    "r2.correlation(\"alpha\",\"n_CB\")"
   ]
  },
  {
   "cell_type": "code",
   "execution_count": 80,
   "id": "a81b463a-ffdb-4e4d-a472-7d01dccfa76d",
   "metadata": {},
   "outputs": [
    {
     "data": {
      "text/plain": [
       "4.7891186550735315e-05"
      ]
     },
     "execution_count": 80,
     "metadata": {},
     "output_type": "execute_result"
    }
   ],
   "source": [
    "r2.edm()"
   ]
  },
  {
   "cell_type": "code",
   "execution_count": 51,
   "id": "405e4318-7ba2-4362-acae-6d90a363da53",
   "metadata": {},
   "outputs": [
    {
     "data": {
      "text/plain": [
       "<cppyy.gbl.TMatrixTSym<double> object at 0x562e3e623a10>"
      ]
     },
     "execution_count": 51,
     "metadata": {},
     "output_type": "execute_result"
    }
   ],
   "source": [
    "r2.correlationMatrix()"
   ]
  },
  {
   "cell_type": "code",
   "execution_count": null,
   "id": "9f00b952-6846-4425-a62e-a7d87405471b",
   "metadata": {},
   "outputs": [],
   "source": []
  }
 ],
 "metadata": {
  "kernelspec": {
   "display_name": "Python 3 (ipykernel)",
   "language": "python",
   "name": "python3"
  },
  "language_info": {
   "codemirror_mode": {
    "name": "ipython",
    "version": 3
   },
   "file_extension": ".py",
   "mimetype": "text/x-python",
   "name": "python",
   "nbconvert_exporter": "python",
   "pygments_lexer": "ipython3",
   "version": "3.10.5"
  }
 },
 "nbformat": 4,
 "nbformat_minor": 5
}
