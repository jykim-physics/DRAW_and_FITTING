{
 "cells": [
  {
   "cell_type": "code",
   "execution_count": 30,
   "id": "3bdbf6d9-8fb7-4849-b476-a1ab02f06744",
   "metadata": {},
   "outputs": [],
   "source": [
    "import ROOT\n",
    "import ctypes"
   ]
  },
  {
   "cell_type": "code",
   "execution_count": 15,
   "id": "23fc79d7-3814-40b6-8210-589fe252f642",
   "metadata": {},
   "outputs": [
    {
     "name": "stdout",
     "output_type": "stream",
     "text": [
      "\n",
      "Applying BELLE2 style settings...\n"
     ]
    }
   ],
   "source": [
    "ROOT.gROOT.LoadMacro('/home/jykim/workspace/DRAW_and_FITTING/main/Belle2Style.C')\n",
    "ROOT.SetBelle2Style()"
   ]
  },
  {
   "cell_type": "code",
   "execution_count": 48,
   "id": "ce78010d-d970-4fb0-b2d2-59f1e1572ab3",
   "metadata": {},
   "outputs": [],
   "source": [
    "\n",
    "\n",
    "sig_1ab_file = ROOT.TFile.Open(\"/media/jykim/T7/storage/01_recon/massvetov2_sig_ext_1ab_sigbkg/topo/resultfile/result_phi/standard.root\")\n",
    "signal_1ab_tree = sig_1ab_file.Get(\"phi\")\n"
   ]
  },
  {
   "cell_type": "code",
   "execution_count": 49,
   "id": "4b72551a-ebd4-4a31-82f1-8eef0b26f8bf",
   "metadata": {},
   "outputs": [],
   "source": [
    "# D0_M_TH1F = ROOT.TH1F(\"D0_M_TH1F\",\"D0 mass\",50,1.67,2.06)\n",
    "# D0_M_TH1F = ROOT.TH1F(\"D0_M_TH1F\",\"D0 mass\",50,1.72,1.92)\n",
    "# D0_M_TH1F_2 = ROOT.TH1F(\"D0_M_TH1F_2\",\"D0 mass\",50,1.67, 2.06)\n",
    "D0_M_TH1F_2 = ROOT.TH1F(\"D0_M_TH1F_2\",\"D0 mass\",50,1.68, 1.9)\n"
   ]
  },
  {
   "cell_type": "code",
   "execution_count": 50,
   "id": "3a69e135-44ce-49d2-a4b1-058596ee2bad",
   "metadata": {},
   "outputs": [],
   "source": [
    "def extract_histo(tree, histogram):\n",
    "    for event in tree:\n",
    "        histogram.Fill(event.D0_M)\n",
    "    return histogram"
   ]
  },
  {
   "cell_type": "code",
   "execution_count": 51,
   "id": "180bbf17-769e-4579-bb25-321d03c8a0ae",
   "metadata": {},
   "outputs": [],
   "source": [
    "def apply_cuts(tree, histogram):\n",
    "    for event in tree:\n",
    "        # if event.D0_M > 1.67 and event.D0_M < 2.06:\n",
    "        if event.D0_M > 1.78 and event.D0_M < 1.92:\n",
    "\n",
    "            histogram.Fill(event.D0_M)\n",
    "    return histogram"
   ]
  },
  {
   "cell_type": "code",
   "execution_count": 52,
   "id": "79ebe577-8e50-4749-8933-7eefc08616d3",
   "metadata": {},
   "outputs": [],
   "source": [
    "def extract_signals(tree, histogram):\n",
    "    for event in tree:\n",
    "        # if event.D0_M > 1.67 and event.D0_M < 2.06:\n",
    "        # if event.iCascDcyBrP_Dst_0 ==0 and event.D0_M > 1.67 and event.D0_M < 2.06:\n",
    "        if (event.iCascDcyBrP_Dst_0 ==5 or event.iCascDcyBrP_Dst_0 ==0) and event.D0_M > 1.68 and event.D0_M < 1.9 and event.Belle2Pi0Veto_75MeV > 0.022:\n",
    "        # if ( event.iCascDcyBrP_Dst_0 ==0) and event.D0_M > 1.67 and event.D0_M < 1.9 and event.Belle2Pi0Veto_75MeV > 0.022:\n",
    "\n",
    "            histogram.Fill(event.D0_M)\n",
    "    return histogram"
   ]
  },
  {
   "cell_type": "code",
   "execution_count": 53,
   "id": "740212a9-eb8a-45ef-9b3e-ec4f05cae564",
   "metadata": {},
   "outputs": [],
   "source": [
    "\n",
    "# D0_M_TH1F = apply_cuts(signal_tree, D0_M_TH1F)\n",
    "# c1 = ROOT.TCanvas()\n",
    "# D0_M_TH1F.Draw()\n",
    "# c1.Draw()"
   ]
  },
  {
   "cell_type": "code",
   "execution_count": 54,
   "id": "6db6a69e-2cc6-4a5f-8150-ed65215efbc6",
   "metadata": {},
   "outputs": [
    {
     "data": {
      "image/png": "[encoded data removed]",
      "text/plain": [
       "<IPython.core.display.Image object>"
      ]
     },
     "metadata": {},
     "output_type": "display_data"
    }
   ],
   "source": [
    "\n",
    "D0_M_TH1F_2 = extract_signals(signal_1ab_tree, D0_M_TH1F_2)\n",
    "# D0_M_TH1F_2 = apply_cuts(signal_1ab_tree, D0_M_TH1F_2)\n",
    "\n",
    "c1 = ROOT.TCanvas()\n",
    "D0_M_TH1F_2.Draw()\n",
    "c1.Draw()"
   ]
  },
  {
   "cell_type": "code",
   "execution_count": 55,
   "id": "6b227194-e200-426a-a720-ecd509f64fe7",
   "metadata": {},
   "outputs": [],
   "source": [
    "\n",
    "# scale_factor = D0_M_TH1F_2.GetEntries()/D0_M_TH1F.GetEntries()"
   ]
  },
  {
   "cell_type": "code",
   "execution_count": 39,
   "id": "cbed22c9-ed4a-476f-8c57-19a7aaab4665",
   "metadata": {},
   "outputs": [],
   "source": [
    "# scale_factor"
   ]
  },
  {
   "cell_type": "code",
   "execution_count": 56,
   "id": "07856c14-3fbb-45dd-b69c-ef1a94ebc3a9",
   "metadata": {},
   "outputs": [],
   "source": [
    "fitting_region = (1.68, 1.9)\n",
    "x = ROOT.RooRealVar(\"M(D^{0})\", \"M(D^{0}) [GeV/c^{2}]\", fitting_region[0], fitting_region[1], \"\")\n",
    "# x.setBins(50)\n",
    "l = ROOT.RooArgList(x)\n",
    "# signalhist = ROOT.RooDataHist(\"sighist\", \"sighist\", l, D0_M_TH1F, scale_factor)\n",
    "signalhist = ROOT.RooDataHist(\"sighist\", \"sighist\", l, D0_M_TH1F_2, 1)\n"
   ]
  },
  {
   "cell_type": "code",
   "execution_count": 57,
   "id": "81461404-b419-43dc-b0a9-5a8ab1a4544b",
   "metadata": {},
   "outputs": [],
   "source": [
    "\n",
    "mean = ROOT.RooRealVar(\"mean\", \"mean of gaussians\", 1.84,1.83, 1.86)\n",
    "sigma1 = ROOT.RooRealVar(\"sigma1\", \"width of gaussians\", 0.03,0,0.5)\n",
    "sigma2 = ROOT.RooRealVar(\"sigma2\", \"width of gaussians\", 0.02,0,0.5)\n",
    "alpha = ROOT.RooRealVar(\"alpha\", \"width of gaussians\", 0.5,0,2)\n",
    "n_CB = ROOT.RooRealVar(\"n_CB\", \"width of gaussians\", 5,0,10)\n",
    " \n",
    "# Novo_peak = ROOT.RooRealVar(\"Novo_peak\", \"Novo peak\", 1.83,1.67,1.93)    \n",
    "# Novo_width = ROOT.RooRealVar(\"Novo_widh\", \"Novo peak\", 0.05,0,0.5)    \n",
    "# Novo_tail = ROOT.RooRealVar(\"Novo_tail\", \"Novo peak\", 0.5,0,10)    \n",
    "\n",
    "\n"
   ]
  },
  {
   "cell_type": "code",
   "execution_count": 58,
   "id": "32658f60-999f-40d5-9109-803d213b55ed",
   "metadata": {},
   "outputs": [
    {
     "name": "stdout",
     "output_type": "stream",
     "text": [
      "[#0] WARNING:InputArguments -- The parameter 'sigma1' with range [0, 0.5] of the RooGaussian 'sig1' exceeds the safe range of (0, inf). Advise to limit its range.\n",
      "[#1] INFO:Eval -- RooRealVar::setRange(M(D^{0})) new range named 'fit' created with bounds [1.68,1.9]\n",
      "[#1] INFO:Minimization -- RooAbsMinimizerFcn::setOptimizeConst: activating const optimization\n",
      "[#1] INFO:Fitting -- RooAbsOptTestStatistic::ctor(nll_model_sighist) constructing test statistic for sub-range named fit\n",
      "[#1] INFO:Eval -- RooRealVar::setRange(M(D^{0})) new range named 'NormalizationRangeForfit' created with bounds [1.68,1.9]\n",
      "[#1] INFO:Eval -- RooRealVar::setRange(M(D^{0})) new range named 'fit_nll_model_sighist' created with bounds [1.68,1.9]\n",
      "[#1] INFO:Fitting -- RooAbsOptTestStatistic::ctor(nll_model_sighist) fixing interpretation of coefficients of any RooAddPdf to full domain of observables \n",
      "[#1] INFO:Eval -- RooAbsTestStatistic::initMPMode: started 12 remote server process.\n",
      "[#1] INFO:Minimization -- RooAbsMinimizerFcn::setOptimizeConst: deactivating const optimization\n",
      "\n",
      "  RooFitResult: minimized FCN value: -3775.25, estimated distance to minimum: 7.5273e-06\n",
      "                covariance matrix quality: Full, accurate covariance matrix\n",
      "                Status : MINIMIZE=0 HESSE=0 \n",
      "\n",
      "    Floating Parameter    FinalValue +/-  Error   \n",
      "  --------------------  --------------------------\n",
      "                 alpha    5.6565e-01 +/-  5.40e-02\n",
      "                  mean    1.8407e+00 +/-  7.80e-04\n",
      "                  n_CB    3.7229e+00 +/-  9.81e-01\n",
      "                sigma2    1.5883e-02 +/-  5.59e-04\n",
      "\n",
      "[#1] INFO:Plotting -- RooAbsPdf::plotOn(model) p.d.f was fitted in a subrange and no explicit Range() and NormRange() was specified. Plotting / normalising in fit range. To override, do one of the following\n",
      "\t- Clear the automatic fit range attribute: <pdf>.setStringAttribute(\"fitrange\", nullptr);\n",
      "\t- Explicitly specify the plotting range: Range(\"<rangeName>\").\n",
      "\t- Explicitly specify where to compute the normalisation: NormRange(\"<rangeName>\").\n",
      "\tThe default (full) range can be denoted with Range(\"\") / NormRange(\"\").\n",
      "[#1] INFO:Plotting -- RooAbsPdf::plotOn(model) only plotting range 'fit_nll_model_sighist'\n",
      "[#1] INFO:Plotting -- RooAbsPdf::plotOn(model) p.d.f. curve is normalized using explicit choice of ranges 'fit_nll_model_sighist'\n"
     ]
    },
    {
     "name": "stderr",
     "output_type": "stream",
     "text": [
      "Warning in <TCanvas::Constructor>: Deleting canvas with same name: Canvas\n",
      "Info in <TCanvas::Print>: png file phi_massveto_1ab_Vpi0.png has been created\n"
     ]
    },
    {
     "data": {
      "image/png": "[encoded data removed]",
      "text/plain": [
       "<IPython.core.display.Image object>"
      ]
     },
     "metadata": {},
     "output_type": "display_data"
    }
   ],
   "source": [
    "canv = ROOT.TCanvas(\"Canvas\", \"Canvas\", 700, 640)\n",
    "\n",
    "xlow = ctypes.c_double()\n",
    "ylow = ctypes.c_double()\n",
    "xup = ctypes.c_double()\n",
    "yup = ctypes.c_double()\n",
    "\n",
    "canv.GetPad(0).GetPadPar(xlow, ylow, xup, yup)\n",
    "canv.Divide(1,2)\n",
    "\n",
    "xlow = xlow.value\n",
    "ylow = ylow.value\n",
    "xup = xup.value\n",
    "yup = yup.value\n",
    "\n",
    "upPad = canv.GetPad(1)\n",
    "upPad.SetPad(xlow, ylow+0.25*(yup-ylow),xup,yup)\n",
    "\n",
    "dwPad = canv.GetPad(2)\n",
    "dwPad.SetPad(xlow, ylow,xup,ylow+0.25*(yup-ylow))\n",
    "\n",
    "    \n",
    "sig1 = ROOT.RooGaussian(\"sig1\", \"Signal component 1\", x, mean, sigma1)\n",
    "sig2 = ROOT.RooCBShape(\"sig2\", \"Signal component 2\", x, mean, sigma2, alpha, n_CB)\n",
    "# sig3 = ROOT.RooNovosibirsk(\"sig3\", \"Signal component 3\", x, mean, Novo_width, Novo_tail)\n",
    "\n",
    "\n",
    "sig1frac = ROOT.RooRealVar(\"sig1frac\", \"fraction of component 1 in signal\", 0.5, 0.0, 1.0)\n",
    "\n",
    "\n",
    "\n",
    "model = ROOT.RooCBShape(\"model\", \"Signal component 2\", x, mean, sigma2, alpha, n_CB)\n",
    "\n",
    "# model = ROOT.RooAddPdf(\"model\", \"model\", [sig1, sig2], sig1frac)\n",
    "\n",
    "\n",
    "r = model.fitTo(signalhist,NumCPU=12,Range=fitting_region,PrintLevel=-1, Save=1)\n",
    "\n",
    "r.Print()\n",
    "canv.cd(1) \n",
    "# frame = x.frame(Title=\"D^{0} #rightarrow #bar{K}^{*0} #pi^{0}\")\n",
    "frame = x.frame(Title=\" \")\n",
    "\n",
    "signalhist.plotOn(frame,Name = \"data1\", XErrorSize=0)\n",
    "\n",
    "# model.plotOn(frame, Name=\"gauss1\", Components=sig1, LineStyle=ROOT.kDashed, LineColor=593)\n",
    "# model.plotOn(frame, Name=\"CB1\", Components=sig2, LineStyle=ROOT.kDashed, LineColor=593)\n",
    "# sig.plotOn(frame, Name=\"Novo\", Components=sig3, LineStyle=ROOT.kDashed, LineColor=593)\n",
    "\n",
    "model.plotOn(frame, Name=\"fitting\",)\n",
    "\n",
    "\n",
    "# sig.paramOn(frame)\n",
    "frame.GetXaxis().CenterTitle(True)\n",
    "\n",
    "frame.Draw(\"PE\")\n",
    "\n",
    "\n",
    "leg1 = ROOT.TLegend(0.25, 0.75, 0.4, 0.9)\n",
    "leg1.SetFillColor(ROOT.kWhite)\n",
    "# leg1.SetHeader(\"The Legend title\",\"C\")\n",
    "leg1.AddEntry(\"data1\", \"MC\", \"PE\")\n",
    "leg1.AddEntry(\"fitting\", \"fit\", \"l\")\n",
    "leg1.Draw()\n",
    "\n",
    "hpull = frame.pullHist()\n",
    "hpull.SetFillStyle(1001)\n",
    "hpull.SetFillColor(1);\n",
    "for i in range(0,hpull.GetN()):#(int i=0;i<hpull.GetN();++i): \n",
    "    hpull.SetPointError(i,0.0,0.0,0.0,0.0)\n",
    "# pullplot = x.frame(Title(\" \"))\n",
    "pullplot = x.frame()\n",
    "pullplot.SetTitle(\"\")\n",
    "pullplot.addPlotable(hpull,\"BE\")\n",
    "# pullplot.addPlotable(hpull,\"PE\")\n",
    "\n",
    "pullplot.SetYTitle(\"Pull\")\n",
    "pullplot.GetXaxis().SetTitleSize(0)\n",
    "pullplot.GetYaxis().SetTitleSize(0.22)\n",
    "pullplot.GetYaxis().CenterTitle(True)\n",
    "pullplot.GetYaxis().SetTitleOffset(0.2)\n",
    "pullplot.SetMinimum(-4.)\n",
    "pullplot.SetMaximum(4.)\n",
    "pullplot.GetXaxis().SetLabelSize(0.15)\n",
    "pullplot.GetYaxis().SetLabelSize(0.105)\n",
    "canv.cd(2)\n",
    "pullplot.Draw()\n",
    "\n",
    "xmin1 = ctypes.c_double(fitting_region[0])\n",
    "xmax1 = ctypes.c_double(fitting_region[1])\n",
    "# xmin1 = 0.1\n",
    "# xmax1 = 0.18\n",
    "line = ROOT.TLine(xmin1,0.0,xmax1,0.0)\n",
    "line1 = ROOT.TLine(xmin1,3.0,xmax1,3.0)\n",
    "line2 = ROOT.TLine(xmin1,-3.0,xmax1,-3.0)\n",
    "\n",
    "line.SetLineColor(ROOT.kRed)\n",
    "line.SetLineWidth(3)\n",
    "line1.SetLineColor(ROOT.kRed)\n",
    "line2.SetLineColor(ROOT.kRed)\n",
    "line1.SetLineStyle(2)\n",
    "line2.SetLineStyle(2)\n",
    "line.Draw(\"SAME\")\n",
    "line1.Draw(\"SAME\")\n",
    "line2.Draw(\"SAME\")\n",
    "\n",
    "canv.Update()\n",
    "\n",
    "canv.Draw()\n",
    "#canv.SaveAs(\"/media/jykim/T7/saved_plots/fitting/results/phigamma/phi_massveto_1ab_Vpi0.png\")\n",
    "canv.SaveAs(\"phi_massveto_1ab_Vpi0.png\")\n",
    "\n",
    "f = ROOT.TFile(\"phig_MC15ri_1ab_Vpi0_fitresult.root\", \"RECREATE\")\n",
    "r.Write(\"phig\")\n",
    "f.Close()\n"
   ]
  },
  {
   "cell_type": "code",
   "execution_count": 59,
   "id": "35ffd040-f571-4a12-bcd2-5df6cec6c76e",
   "metadata": {},
   "outputs": [
    {
     "name": "stdout",
     "output_type": "stream",
     "text": [
      "0x55b4635117c0 RooCBShape::model = 0.244245 [Auto,Dirty] \n",
      "  0x55b46652e150/V- RooRealVar::M(D^{0}) = 1.79\n",
      "  0x55b466259dc0/V- RooRealVar::mean = 1.84068 +/- 0.00078026\n",
      "  0x55b4661a6c90/V- RooRealVar::sigma2 = 0.0158831 +/- 0.000559481\n",
      "  0x55b45effa0c0/V- RooRealVar::alpha = 0.56565 +/- 0.0540409\n",
      "  0x55b45f017a50/V- RooRealVar::n_CB = 3.72286 +/- 0.981445\n"
     ]
    }
   ],
   "source": [
    "model.Print(\"t\")"
   ]
  },
  {
   "cell_type": "code",
   "execution_count": 60,
   "id": "43ffc56d-f01f-49c7-96d3-6e55a2bd4819",
   "metadata": {},
   "outputs": [],
   "source": [
    "f = ROOT.TFile.Open(\"phig_MC15ri_1ab_Vpi0_fitresult.root\")\n",
    "r2 = ROOT.gDirectory.Get(\"phig\")\n",
    "f.Close()\n"
   ]
  },
  {
   "cell_type": "code",
   "execution_count": 61,
   "id": "e449db02-3a12-4028-a58f-1daa29df377e",
   "metadata": {},
   "outputs": [
    {
     "name": "stdout",
     "output_type": "stream",
     "text": [
      "\n",
      "  RooFitResult: minimized FCN value: -3775.25, estimated distance to minimum: 7.5273e-06\n",
      "                covariance matrix quality: Full, accurate covariance matrix\n",
      "                Status : MINIMIZE=0 HESSE=0 \n",
      "\n",
      "    Floating Parameter    FinalValue +/-  Error   \n",
      "  --------------------  --------------------------\n",
      "                 alpha    5.6565e-01 +/-  5.40e-02\n",
      "                  mean    1.8407e+00 +/-  7.80e-04\n",
      "                  n_CB    3.7229e+00 +/-  9.81e-01\n",
      "                sigma2    1.5883e-02 +/-  5.59e-04\n",
      "\n"
     ]
    }
   ],
   "source": [
    "r2.Print()"
   ]
  },
  {
   "cell_type": "code",
   "execution_count": 79,
   "id": "b612badd-87c1-47fd-bb71-12982c4377b0",
   "metadata": {},
   "outputs": [
    {
     "data": {
      "text/plain": [
       "-0.8506516472603695"
      ]
     },
     "execution_count": 79,
     "metadata": {},
     "output_type": "execute_result"
    }
   ],
   "source": [
    "r2.correlation(\"alpha\",\"n_CB\")"
   ]
  },
  {
   "cell_type": "code",
   "execution_count": 80,
   "id": "a81b463a-ffdb-4e4d-a472-7d01dccfa76d",
   "metadata": {},
   "outputs": [
    {
     "data": {
      "text/plain": [
       "4.7891186550735315e-05"
      ]
     },
     "execution_count": 80,
     "metadata": {},
     "output_type": "execute_result"
    }
   ],
   "source": [
    "r2.edm()"
   ]
  },
  {
   "cell_type": "code",
   "execution_count": 51,
   "id": "405e4318-7ba2-4362-acae-6d90a363da53",
   "metadata": {},
   "outputs": [
    {
     "data": {
      "text/plain": [
       "<cppyy.gbl.TMatrixTSym<double> object at 0x562e3e623a10>"
      ]
     },
     "execution_count": 51,
     "metadata": {},
     "output_type": "execute_result"
    }
   ],
   "source": [
    "r2.correlationMatrix()"
   ]
  },
  {
   "cell_type": "code",
   "execution_count": null,
   "id": "9f00b952-6846-4425-a62e-a7d87405471b",
   "metadata": {},
   "outputs": [],
   "source": []
  },
  {
   "cell_type": "code",
   "execution_count": null,
   "id": "70eb1b01-f739-4eb2-bbbf-396bd10cdb10",
   "metadata": {},
   "outputs": [],
   "source": []
  },
  {
   "cell_type": "code",
   "execution_count": null,
   "id": "8b320ed3-06a8-4f49-8066-41dadb196e5f",
   "metadata": {},
   "outputs": [],
   "source": []
  },
  {
   "cell_type": "code",
   "execution_count": null,
   "id": "4b039fe2-9c0e-4bb1-a5ac-5d94b201bf05",
   "metadata": {},
   "outputs": [],
   "source": []
  },
  {
   "cell_type": "code",
   "execution_count": null,
   "id": "c79b65a3-940f-4937-a638-da8fe5e6796e",
   "metadata": {},
   "outputs": [],
   "source": []
  },
  {
   "cell_type": "code",
   "execution_count": null,
   "id": "ff287adc-7620-459c-ab43-27c20ce82b2e",
   "metadata": {},
   "outputs": [],
   "source": []
  },
  {
   "cell_type": "code",
   "execution_count": 96,
   "id": "e49c972d-6c5e-462c-a259-7352a3e758d6",
   "metadata": {},
   "outputs": [],
   "source": [
    "sig_file = ROOT.TFile.Open(\"/media/jykim/T7/storage/01_recon/massvetov2_sig_ext_1ab_sigbkg/topo/resultfile/result_phi/standard.root\")\n",
    "signal_tree = sig_file.Get(\"phi\")\n",
    "\n",
    "\n",
    "# sig_1ab_file = ROOT.TFile.Open(\"/media/jykim/T7/storage/01_recon/massvetov2_sig_ext_1ab_sigbkg/topo/resultfile/result_phi/standard.root\")\n",
    "# signal_1ab_tree = sig_1ab_file.Get(\"phi\")\n"
   ]
  },
  {
   "cell_type": "code",
   "execution_count": 97,
   "id": "1272548e-fe90-4e65-9a6b-baaf3cb7d6b3",
   "metadata": {},
   "outputs": [],
   "source": [
    "# D0_M_TH1F = ROOT.TH1F(\"D0_M_TH1F\",\"D0 mass\",50,1.67,2.06)\n",
    "TH1F = ROOT.TH1F(\"D0_cosHel_0_TH1F\",\"D0 mass\",50,-1,1)\n",
    "# D0_M_TH1F_2 = ROOT.TH1F(\"D0_M_TH1F_2\",\"D0 mass\",50,1.72,1.92)\n"
   ]
  },
  {
   "cell_type": "code",
   "execution_count": 98,
   "id": "da1a34a9-51d2-4237-ae4e-faf9b985885e",
   "metadata": {},
   "outputs": [],
   "source": [
    "def apply_cuts(tree, histogram):\n",
    "    for event in tree:\n",
    "        # if event.D0_M > 1.67 and event.D0_M < 2.06:\n",
    "        if  (event.iCascDcyBrP_Dst_0 ==5 or event.iCascDcyBrP_Dst_0 ==0)  and  event.D0_M > 1.68 and event.D0_M < 1.9 and event.Belle2Pi0Veto_75MeV > 0.022:\n",
    "\n",
    "            histogram.Fill(event.D0_cosHel_0)\n",
    "    return histogram"
   ]
  },
  {
   "cell_type": "code",
   "execution_count": 99,
   "id": "2de04b94-8683-4878-8b81-0e64fe16fe6a",
   "metadata": {},
   "outputs": [
    {
     "data": {
      "image/png": "[encoded data removed]",
      "text/plain": [
       "<IPython.core.display.Image object>"
      ]
     },
     "metadata": {},
     "output_type": "display_data"
    }
   ],
   "source": [
    "\n",
    "TH1F = apply_cuts(signal_tree, TH1F)\n",
    "c1 = ROOT.TCanvas()\n",
    "TH1F.Draw()\n",
    "c1.Draw()"
   ]
  },
  {
   "cell_type": "code",
   "execution_count": null,
   "id": "691524d4-fc86-4f30-8f65-9d13666a489e",
   "metadata": {},
   "outputs": [],
   "source": []
  },
  {
   "cell_type": "code",
   "execution_count": 100,
   "id": "ebe4be19-2a62-485a-af72-0334260fdf87",
   "metadata": {},
   "outputs": [
    {
     "data": {
      "text/plain": [
       "94233511537280"
      ]
     },
     "execution_count": 100,
     "metadata": {},
     "output_type": "execute_result"
    },
    {
     "name": "stdout",
     "output_type": "stream",
     "text": [
      "(MyPdf_xsquared) An instance of MyPdf_xsquared.\n"
     ]
    },
    {
     "name": "stderr",
     "output_type": "stream",
     "text": [
      "Info in <ACLiC>: unmodified script has already been compiled and loaded\n"
     ]
    }
   ],
   "source": [
    "# ROOT.RooClassFactory.makePdf(\"MyPdf_xsquared\", \"x,c0\", \"\", \"c0*x*x\")\n",
    "ROOT.gROOT.ProcessLineSync(\".x MyPdf_xsquared.cxx+\")"
   ]
  },
  {
   "cell_type": "code",
   "execution_count": 101,
   "id": "e1fe479f-4e59-493c-bc07-9c38a7ff4a43",
   "metadata": {},
   "outputs": [],
   "source": [
    "fitting_region = (-1,1)\n",
    "x = ROOT.RooRealVar(\"M(D^{0})\", \"M(D^{0}) [GeV/c^{2}]\", fitting_region[0], fitting_region[1], \"\")\n",
    "# x.setBins(50)\n",
    "l = ROOT.RooArgList(x)\n",
    "# signalhist = ROOT.RooDataHist(\"sighist\", \"sighist\", l, D0_M_TH1F, scale_factor)\n",
    "# signalhist = ROOT.RooDataHist(\"sighist\", \"sighist\", l, D0_M_TH1F, 1)\n",
    "\n",
    "signalhist = ROOT.RooDataHist(\"sighist\", \"sighist\", l, TH1F, 1)\n"
   ]
  },
  {
   "cell_type": "code",
   "execution_count": 102,
   "id": "12cd738d-6022-47d5-9996-19d98c662847",
   "metadata": {},
   "outputs": [],
   "source": [
    "c0 = ROOT.RooRealVar(\"c0\", \"c0\",0.5, -1,1)\n",
    "model = ROOT.MyPdf_xsquared(\"model\", \"pdf\", x, c0)\n"
   ]
  },
  {
   "cell_type": "code",
   "execution_count": 103,
   "id": "d23d0a7b-5de0-44d7-aecc-e7085f1d501e",
   "metadata": {},
   "outputs": [
    {
     "name": "stdout",
     "output_type": "stream",
     "text": [
      "[#0] WARNING:InputArguments -- The parameter 'sigma1' with range [0, 0.5] of the RooGaussian 'sig1' exceeds the safe range of (0, inf). Advise to limit its range.\n",
      "[#1] INFO:Eval -- RooRealVar::setRange(M(D^{0})) new range named 'fit' created with bounds [-1,1]\n",
      "[#1] INFO:Minimization -- RooAbsMinimizerFcn::setOptimizeConst: activating const optimization\n",
      "[#1] INFO:Fitting -- RooAbsOptTestStatistic::ctor(nll_model_sighist) constructing test statistic for sub-range named fit\n",
      "[#1] INFO:Eval -- RooRealVar::setRange(M(D^{0})) new range named 'NormalizationRangeForfit' created with bounds [-1,1]\n",
      "[#1] INFO:Eval -- RooRealVar::setRange(M(D^{0})) new range named 'fit_nll_model_sighist' created with bounds [-1,1]\n",
      "[#1] INFO:Fitting -- RooAbsOptTestStatistic::ctor(nll_model_sighist) fixing interpretation of coefficients of any RooAddPdf to full domain of observables \n",
      "[#1] INFO:NumericIntegration -- RooRealIntegral::init(model_Int[M(D^{0})]) using numeric integrator RooIntegrator1D to calculate Int(M(D^{0}))\n",
      "[#1] INFO:Eval -- RooAbsTestStatistic::initMPMode: started 12 remote server process.\n",
      "[#1] INFO:NumericIntegration -- RooRealIntegral::init(model_Int[M(D^{0})]) using numeric integrator RooIntegrator1D to calculate Int(M(D^{0}))\n",
      "[#1] INFO:NumericIntegration -- RooRealIntegral::init(model_Int[M(D^{0})]) using numeric integrator RooIntegrator1D to calculate Int(M(D^{0}))\n",
      "[#1] INFO:NumericIntegration -- RooRealIntegral::init(model_Int[M(D^{0})]) using numeric integrator RooIntegrator1D to calculate Int(M(D^{0}))\n",
      "[#1] INFO:NumericIntegration -- RooRealIntegral::init(model_Int[M(D^{0})]) using numeric integrator RooIntegrator1D to calculate Int(M(D^{0}))\n",
      "[#1] INFO:NumericIntegration -- RooRealIntegral::init(model_Int[M(D^{0})]) using numeric integrator RooIntegrator1D to calculate Int(M(D^{0}))\n",
      "[#1] INFO:NumericIntegration -- RooRealIntegral::init(model_Int[M(D^{0})]) using numeric integrator RooIntegrator1D to calculate Int(M(D^{0}))\n",
      "[#1] INFO:NumericIntegration -- RooRealIntegral::init(model_Int[M(D^{0})]) using numeric integrator RooIntegrator1D to calculate Int(M(D^{0}))\n",
      "[#1] INFO:NumericIntegration -- RooRealIntegral::init(model_Int[M(D^{0})]) using numeric integrator RooIntegrator1D to calculate Int(M(D^{0}))\n",
      "[#1] INFO:NumericIntegration -- RooRealIntegral::init(model_Int[M(D^{0})]) using numeric integrator RooIntegrator1D to calculate Int(M(D^{0}))\n",
      "[#1] INFO:NumericIntegration -- RooRealIntegral::init(model_Int[M(D^{0})]) using numeric integrator RooIntegrator1D to calculate Int(M(D^{0}))\n",
      "[#1] INFO:NumericIntegration -- RooRealIntegral::init(model_Int[M(D^{0})]) using numeric integrator RooIntegrator1D to calculate Int(M(D^{0}))\n",
      "[#1] INFO:NumericIntegration -- RooRealIntegral::init(model_Int[M(D^{0})]) using numeric integrator RooIntegrator1D to calculate Int(M(D^{0}))\n",
      "[#1] INFO:Minimization -- RooAbsMinimizerFcn::setOptimizeConst: deactivating const optimization\n",
      "\n",
      "  RooFitResult: minimized FCN value: 575.136, estimated distance to minimum: 7.57912e-14\n",
      "                covariance matrix quality: Full, accurate covariance matrix\n",
      "                Status : MINIMIZE=0 HESSE=0 \n",
      "\n",
      "    Floating Parameter    FinalValue +/-  Error   \n",
      "  --------------------  --------------------------\n",
      "                    c0    5.2511e-01 +/-  1.08e+00\n",
      "\n",
      "[#1] INFO:Plotting -- RooAbsPdf::plotOn(model) p.d.f was fitted in a subrange and no explicit Range() and NormRange() was specified. Plotting / normalising in fit range. To override, do one of the following\n",
      "\t- Clear the automatic fit range attribute: <pdf>.setStringAttribute(\"fitrange\", nullptr);\n",
      "\t- Explicitly specify the plotting range: Range(\"<rangeName>\").\n",
      "\t- Explicitly specify where to compute the normalisation: NormRange(\"<rangeName>\").\n",
      "\tThe default (full) range can be denoted with Range(\"\") / NormRange(\"\").\n",
      "[#1] INFO:Plotting -- RooAbsPdf::plotOn(model) only plotting range 'fit_nll_model_sighist'\n",
      "[#1] INFO:Plotting -- RooAbsPdf::plotOn(model) p.d.f. curve is normalized using explicit choice of ranges 'fit_nll_model_sighist'\n",
      "[#1] INFO:NumericIntegration -- RooRealIntegral::init(model_Int[M(D^{0})]) using numeric integrator RooIntegrator1D to calculate Int(M(D^{0}))\n",
      "[#1] INFO:NumericIntegration -- RooRealIntegral::init(model_Int[M(D^{0})|fit_nll_model_sighist]_Norm[M(D^{0})]) using numeric integrator RooIntegrator1D to calculate Int(M(D^{0}))\n"
     ]
    },
    {
     "name": "stderr",
     "output_type": "stream",
     "text": [
      "Warning in <TCanvas::Constructor>: Deleting canvas with same name: Canvas\n",
      "Info in <TCanvas::Print>: png file phi_massveto_1ab_Vpi0_helicity.png has been created\n"
     ]
    },
    {
     "data": {
      "image/png": "[encoded data removed]",
      "text/plain": [
       "<IPython.core.display.Image object>"
      ]
     },
     "metadata": {},
     "output_type": "display_data"
    }
   ],
   "source": [
    "canv = ROOT.TCanvas(\"Canvas\", \"Canvas\", 700, 640)\n",
    "\n",
    "xlow = ctypes.c_double()\n",
    "ylow = ctypes.c_double()\n",
    "xup = ctypes.c_double()\n",
    "yup = ctypes.c_double()\n",
    "\n",
    "canv.GetPad(0).GetPadPar(xlow, ylow, xup, yup)\n",
    "canv.Divide(1,2)\n",
    "\n",
    "xlow = xlow.value\n",
    "ylow = ylow.value\n",
    "xup = xup.value\n",
    "yup = yup.value\n",
    "\n",
    "upPad = canv.GetPad(1)\n",
    "upPad.SetPad(xlow, ylow+0.25*(yup-ylow),xup,yup)\n",
    "\n",
    "dwPad = canv.GetPad(2)\n",
    "dwPad.SetPad(xlow, ylow,xup,ylow+0.25*(yup-ylow))\n",
    "\n",
    "    \n",
    "sig1 = ROOT.RooGaussian(\"sig1\", \"Signal component 1\", x, mean, sigma1)\n",
    "# sig1 = ROOT.RooJohnson(\"sig1\", \"Signal component 1\", x,mu, para_lambda,gamma,delta)\n",
    "\n",
    "sig2 = ROOT.RooCBShape(\"sig2\", \"Signal component 2\", x, mean, sigma2, alpha, n_CB)\n",
    "# sig3 = ROOT.RooNovosibirsk(\"sig3\", \"Signal component 3\", x, mean, Novo_width, Novo_tail)\n",
    "\n",
    "\n",
    "sig1frac = ROOT.RooRealVar(\"sig1frac\", \"fraction of component 1 in signal\", 0.5, 0.0, 1.0)\n",
    "\n",
    "\n",
    "\n",
    "# model = ROOT.RooCBShape(\"model\", \"Signal component 2\", x, mean, sigma2, alpha, n_CB)\n",
    "\n",
    "# model = ROOT.RooAddPdf(\"model\", \"model\", [sig1, sig2], sig1frac)\n",
    "\n",
    "\n",
    "r = model.fitTo(signalhist,NumCPU=12,Range=fitting_region,PrintLevel=-1, Save=1)\n",
    "\n",
    "r.Print()\n",
    "canv.cd(1) \n",
    "# frame = x.frame(Title=\"D^{0} #rightarrow #bar{K}^{*0} #pi^{0}\")\n",
    "frame = x.frame(Title=\" \")\n",
    "\n",
    "signalhist.plotOn(frame,Name = \"data1\", XErrorSize=0)\n",
    "# \n",
    "# model.plotOn(frame, Name=\"gauss1\", Components=sig1, LineStyle=ROOT.kDashed, LineColor=593)\n",
    "# model.plotOn(frame, Name=\"CB1\", Components=sig2, LineStyle=ROOT.kDashed, LineColor=593)\n",
    "# # sig.plotOn(frame, Name=\"Novo\", Components=sig3, LineStyle=ROOT.kDashed, LineColor=593)\n",
    "\n",
    "model.plotOn(frame, Name=\"fitting\",)\n",
    "\n",
    "\n",
    "# sig.paramOn(frame)\n",
    "frame.GetXaxis().CenterTitle(True)\n",
    "\n",
    "frame.Draw(\"PE\")\n",
    "\n",
    "\n",
    "leg1 = ROOT.TLegend(0.25, 0.75, 0.40, 0.9)\n",
    "leg1.SetFillColor(ROOT.kWhite)\n",
    "# leg1.SetHeader(\"The Legend title\",\"C\")\n",
    "leg1.AddEntry(\"data1\", \"MC\", \"PE\")\n",
    "leg1.AddEntry(\"fitting\", \"fit\", \"l\")\n",
    "leg1.Draw()\n",
    "\n",
    "hpull = frame.pullHist()\n",
    "hpull.SetFillStyle(1001)\n",
    "hpull.SetFillColor(1);\n",
    "for i in range(0,hpull.GetN()):#(int i=0;i<hpull.GetN();++i): \n",
    "    hpull.SetPointError(i,0.0,0.0,0.0,0.0)\n",
    "# pullplot = x.frame(Title(\" \"))\n",
    "pullplot = x.frame()\n",
    "pullplot.SetTitle(\"\")\n",
    "pullplot.addPlotable(hpull,\"BE\")\n",
    "# pullplot.addPlotable(hpull,\"PE\")\n",
    "\n",
    "pullplot.SetYTitle(\"Pull\")\n",
    "pullplot.GetXaxis().SetTitleSize(0)\n",
    "pullplot.GetYaxis().SetTitleSize(0.22)\n",
    "pullplot.GetYaxis().CenterTitle(True)\n",
    "pullplot.GetYaxis().SetTitleOffset(0.2)\n",
    "pullplot.SetMinimum(-4.)\n",
    "pullplot.SetMaximum(4.)\n",
    "pullplot.GetXaxis().SetLabelSize(0.15)\n",
    "pullplot.GetYaxis().SetLabelSize(0.105)\n",
    "canv.cd(2)\n",
    "pullplot.Draw()\n",
    "\n",
    "xmin1 = ctypes.c_double(fitting_region[0])\n",
    "xmax1 = ctypes.c_double(fitting_region[1])\n",
    "# xmin1 = 0.1\n",
    "# xmax1 = 0.18\n",
    "line = ROOT.TLine(xmin1,0.0,xmax1,0.0)\n",
    "line1 = ROOT.TLine(xmin1,3.0,xmax1,3.0)\n",
    "line2 = ROOT.TLine(xmin1,-3.0,xmax1,-3.0)\n",
    "\n",
    "line.SetLineColor(ROOT.kRed)\n",
    "line.SetLineWidth(3)\n",
    "line1.SetLineColor(ROOT.kRed)\n",
    "line2.SetLineColor(ROOT.kRed)\n",
    "line1.SetLineStyle(2)\n",
    "line2.SetLineStyle(2)\n",
    "line.Draw(\"SAME\")\n",
    "line1.Draw(\"SAME\")\n",
    "line2.Draw(\"SAME\")\n",
    "\n",
    "canv.Update()\n",
    "\n",
    "canv.Draw()\n",
    "#canv.SaveAs(\"/media/jykim/T7/saved_plots/fitting/results/phigamma/phi_massveto_1ab_signal.png\")\n",
    "canv.SaveAs(\"phi_massveto_1ab_Vpi0_helicity.png\")\n",
    "\n",
    "# f = ROOT.TFile(\"phig_MC15ri_half1M_signalMC_fitresult.root\", \"RECREATE\")\n",
    "# r.Write(\"phig\")\n",
    "# f.Close()\n"
   ]
  },
  {
   "cell_type": "code",
   "execution_count": null,
   "id": "832953bb-b8cd-4785-82a8-d2dfc0e1a8ba",
   "metadata": {},
   "outputs": [],
   "source": []
  },
  {
   "cell_type": "code",
   "execution_count": null,
   "id": "da00d28f-4e2a-4dcf-9f90-d5ee3e21ff66",
   "metadata": {},
   "outputs": [],
   "source": []
  },
  {
   "cell_type": "code",
   "execution_count": null,
   "id": "0de2e36f-ea86-4d9e-b270-79742d1ae73a",
   "metadata": {},
   "outputs": [],
   "source": []
  }
 ],
 "metadata": {
  "kernelspec": {
   "display_name": "Python 3 (ipykernel)",
   "language": "python",
   "name": "python3"
  },
  "language_info": {
   "codemirror_mode": {
    "name": "ipython",
    "version": 3
   },
   "file_extension": ".py",
   "mimetype": "text/x-python",
   "name": "python",
   "nbconvert_exporter": "python",
   "pygments_lexer": "ipython3",
   "version": "3.10.5"
  }
 },
 "nbformat": 4,
 "nbformat_minor": 5
}
