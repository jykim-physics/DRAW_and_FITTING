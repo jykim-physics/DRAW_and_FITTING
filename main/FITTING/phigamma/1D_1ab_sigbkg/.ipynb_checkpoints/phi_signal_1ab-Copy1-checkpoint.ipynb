{
 "cells": [
  {
   "cell_type": "code",
   "execution_count": 106,
   "id": "3bdbf6d9-8fb7-4849-b476-a1ab02f06744",
   "metadata": {},
   "outputs": [],
   "source": [
    "import ROOT\n",
    "import ctypes\n"
   ]
  },
  {
   "cell_type": "code",
   "execution_count": 2,
   "id": "689f1657-84e9-42dc-a55d-af713dc2eee6",
   "metadata": {},
   "outputs": [
    {
     "name": "stdout",
     "output_type": "stream",
     "text": [
      "\n",
      "Applying BELLE2 style settings...\n"
     ]
    }
   ],
   "source": [
    "ROOT.gROOT.LoadMacro('/home/jykim/workspace/DRAW_and_FITTING/main/Belle2Style.C')\n",
    "ROOT.SetBelle2Style()"
   ]
  },
  {
   "cell_type": "code",
   "execution_count": 167,
   "id": "ce78010d-d970-4fb0-b2d2-59f1e1572ab3",
   "metadata": {},
   "outputs": [],
   "source": [
    "# sig_file = ROOT.TFile.Open(\"/media/jykim/T7/storage/01_recon/phi/D0_massveto_v2_half_1_optimzed_sigext_signalMC_recon_mdst_phi.root\")\n",
    "# signal_tree = sig_file.Get(\"phi\")\n",
    "\n",
    "sig_file = ROOT.TFile.Open(\"/media/jykim/T7/storage/01_recon/phi/D0_massveto_v2_half_1_optimzed_sigext_signalMC_recon_mdst_phi.root\")\n",
    "signal_tree = sig_file.Get(\"phi\")\n",
    "\n",
    "# sig_1ab_file = ROOT.TFile.Open(\"/media/jykim/T7/storage/01_recon/massvetov2_sig_ext_1ab_sigbkg/topo/resultfile/result_phi/standard.root\")\n",
    "# signal_1ab_tree = sig_1ab_file.Get(\"phi\")\n"
   ]
  },
  {
   "cell_type": "code",
   "execution_count": 168,
   "id": "9d208593",
   "metadata": {},
   "outputs": [],
   "source": [
    "mychain = ROOT.TChain(\"phi\")\n",
    "file_list = [\"/media/jykim/T7/storage/01_recon/phi/D0_massveto_v2_half_1_optimzed_sigext_signalMC_recon_mdst_phi_*.root\"]\n",
    "\n",
    "for i in file_list:\n",
    "    mychain.Add(i)"
   ]
  },
  {
   "cell_type": "code",
   "execution_count": 169,
   "id": "4b72551a-ebd4-4a31-82f1-8eef0b26f8bf",
   "metadata": {},
   "outputs": [],
   "source": [
    "# D0_M_TH1F = ROOT.TH1F(\"D0_M_TH1F\",\"D0 mass\",50,1.67,2.06)\n",
    "D0_M_TH1F = ROOT.TH1F(\"D0_M_TH1F\",\"D0 mass\",50,1.78,1.91)\n",
    "# D0_M_TH1F_2 = ROOT.TH1F(\"D0_M_TH1F_2\",\"D0 mass\",50,1.72,1.92)\n"
   ]
  },
  {
   "cell_type": "code",
   "execution_count": 170,
   "id": "3a69e135-44ce-49d2-a4b1-058596ee2bad",
   "metadata": {},
   "outputs": [],
   "source": [
    "# def extract_histo(tree, histogram):\n",
    "#     for event in tree:\n",
    "#         histogram.Fill(event.D0_M)\n",
    "#     return histogram"
   ]
  },
  {
   "cell_type": "code",
   "execution_count": 171,
   "id": "180bbf17-769e-4579-bb25-321d03c8a0ae",
   "metadata": {},
   "outputs": [],
   "source": [
    "def apply_cuts(tree, histogram):\n",
    "    for event in tree:\n",
    "        # if event.D0_M > 1.67 and event.D0_M < 2.06:\n",
    "        if event.D0_M > 1.78 and event.D0_M < 1.91 and event.dM_pi0_75MeV > 0.023:\n",
    "\n",
    "            histogram.Fill(event.D0_M)\n",
    "    return histogram"
   ]
  },
  {
   "cell_type": "code",
   "execution_count": 172,
   "id": "79ebe577-8e50-4749-8933-7eefc08616d3",
   "metadata": {},
   "outputs": [],
   "source": [
    "# def extract_signals(tree, histogram):\n",
    "#     for event in tree:\n",
    "#         # if event.D0_M > 1.67 and event.D0_M < 2.06:\n",
    "#         if event.nSigCascDcyBr_0==1 and event.D0_M > 1.72 and event.D0_M < 1.92 and event.Belle2Pi0Veto_75MeV > 0.022:\n",
    "#         # if event.nSigCascDcyBr_0==1 and event.D0_M > 1.67 and event.D0_M < 2.06 and event.Belle2Pi0Veto_75MeV > 0.02:\n",
    "\n",
    "#             histogram.Fill(event.D0_M)\n",
    "#     return histogram"
   ]
  },
  {
   "cell_type": "code",
   "execution_count": 173,
   "id": "740212a9-eb8a-45ef-9b3e-ec4f05cae564",
   "metadata": {},
   "outputs": [
    {
     "data": {
      "image/png": "[encoded data removed]",
      "text/plain": [
       "<IPython.core.display.Image object>"
      ]
     },
     "metadata": {},
     "output_type": "display_data"
    }
   ],
   "source": [
    "\n",
    "D0_M_TH1F = apply_cuts(signal_tree, D0_M_TH1F)\n",
    "c1 = ROOT.TCanvas()\n",
    "D0_M_TH1F.Draw()\n",
    "c1.Draw()"
   ]
  },
  {
   "cell_type": "code",
   "execution_count": 272,
   "id": "6db6a69e-2cc6-4a5f-8150-ed65215efbc6",
   "metadata": {},
   "outputs": [],
   "source": [
    "\n",
    "# D0_M_TH1F_2 = extract_signals(signal_1ab_tree, D0_M_TH1F_2)\n",
    "# # D0_M_TH1F_2 = apply_cuts(signal_1ab_tree, D0_M_TH1F_2)\n",
    "\n",
    "# c1 = ROOT.TCanvas()\n",
    "# D0_M_TH1F_2.Draw()\n",
    "# c1.Draw()"
   ]
  },
  {
   "cell_type": "code",
   "execution_count": 273,
   "id": "6b227194-e200-426a-a720-ecd509f64fe7",
   "metadata": {},
   "outputs": [],
   "source": [
    "\n",
    "# scale_factor = D0_M_TH1F_2.GetEntries()/D0_M_TH1F.GetEntries()"
   ]
  },
  {
   "cell_type": "code",
   "execution_count": 274,
   "id": "cbed22c9-ed4a-476f-8c57-19a7aaab4665",
   "metadata": {},
   "outputs": [],
   "source": [
    "# scale_factor = 1"
   ]
  },
  {
   "cell_type": "code",
   "execution_count": 287,
   "id": "07856c14-3fbb-45dd-b69c-ef1a94ebc3a9",
   "metadata": {},
   "outputs": [],
   "source": [
    "fitting_region = (1.78, 1.91)\n",
    "x = ROOT.RooRealVar(\"D0_M\", \"M(D^{0}) [GeV/c^{2}]\", fitting_region[0], fitting_region[1], \"\")\n",
    "y = ROOT.RooRealVar(\"dM_pi0_75MeV\", \"M(D^{0}) [GeV/c^{2}]\",0,10, \"\")\n",
    "\n",
    "# x.setBins(50)\n",
    "l = ROOT.RooArgList(x)\n",
    "# signalhist = ROOT.RooDataHist(\"sighist\", \"sighist\", l, D0_M_TH1F, scale_factor)\n",
    "# signalhist = ROOT.RooDataHist(\"sighist\", \"sighist\", l, D0_M_TH1F, 1)\n",
    "\n",
    "# signalhist = ROOT.RooDataHist(\"sighist\", \"sighist\", l, D0_M_TH1F, 1)\n"
   ]
  },
  {
   "cell_type": "code",
   "execution_count": 288,
   "id": "81461404-b419-43dc-b0a9-5a8ab1a4544b",
   "metadata": {},
   "outputs": [],
   "source": [
    "\n",
    "mean = ROOT.RooRealVar(\"mean\", \"mean of gaussians\", 1.86,1.85, 1.89)\n",
    "mean2 = ROOT.RooRealVar(\"mean2\", \"mean of gaussians\", 1.86,1.84, 1.89)\n",
    "\n",
    "sigma1 = ROOT.RooRealVar(\"sigma1\", \"width of gaussians\", 0.03,0.001,0.1)\n",
    "sigma2 = ROOT.RooRealVar(\"sigma2\", \"width of gaussians\", 0.02,0.001,0.1)\n",
    "alpha = ROOT.RooRealVar(\"alpha\", \"width of gaussians\", 0.5,0,10)\n",
    "n_CB = ROOT.RooRealVar(\"n_CB\", \"width of gaussians\", 5,0,20)\n",
    " \n",
    "    \n",
    "# alpha = ROOT.RooRealVar(\"alpha\", \"width of gaussians\", 0.5,0,30)\n",
    "# n_CB = ROOT.RooRealVar(\"n_CB\", \"width of gaussians\", 5,0,50)    \n",
    "    \n",
    "# Novo_peak = ROOT.RooRealVar(\"Novo_peak\", \"Novo peak\", 1.83,1.67,1.93)    \n",
    "# Novo_width = ROOT.RooRealVar(\"Novo_widh\", \"Novo peak\", 0.05,0,0.5)    \n",
    "# Novo_tail = ROOT.RooRealVar(\"Novo_tail\", \"Novo peak\", 0.5,0,10)    \n",
    "\n",
    "# mu = ROOT.RooRealVar(\"mu\", \"Novo peak\", 1.83,1.67,1.93)    \n",
    "# gamma = ROOT.RooRealVar(\"gamma\", \"Novo peak\", -1,-5,0)    \n",
    "# para_lambda =  ROOT.RooRealVar(\"para_lambda\", \"Novo peak\", 1,-5,5)    \n",
    "# delta = ROOT.RooRealVar(\"delta\", \"Novo peak\", 1.83,0,3)    \n"
   ]
  },
  {
   "cell_type": "code",
   "execution_count": 289,
   "id": "8063fe2b-6ede-43b4-8147-447abe835550",
   "metadata": {},
   "outputs": [],
   "source": [
    "# w = ROOT.RooRealVar('w', 'w', 0, 1)\n",
    "# w = ROOT.RooRealVar('w', 'w', 0.5)\n",
    "\n"
   ]
  },
  {
   "cell_type": "code",
   "execution_count": 290,
   "id": "bfcede12-a03a-49dd-aaf1-1444bede660b",
   "metadata": {},
   "outputs": [],
   "source": [
    "# w.Print()"
   ]
  },
  {
   "cell_type": "code",
   "execution_count": 291,
   "id": "4a6082c8",
   "metadata": {},
   "outputs": [
    {
     "name": "stdout",
     "output_type": "stream",
     "text": [
      "[#1] INFO:DataHandling -- RooTreeDataStore::loadValues(sighist) Skipping event #6 because D0_M cannot accommodate the value 1.75612\n",
      "[#1] INFO:DataHandling -- RooTreeDataStore::loadValues(sighist) Skipping event #13 because D0_M cannot accommodate the value 1.75045\n",
      "[#1] INFO:DataHandling -- RooTreeDataStore::loadValues(sighist) Skipping event #14 because D0_M cannot accommodate the value 1.76749\n",
      "[#1] INFO:DataHandling -- RooTreeDataStore::loadValues(sighist) Skipping event #42 because D0_M cannot accommodate the value 1.73\n",
      "[#1] INFO:DataHandling -- RooTreeDataStore::loadValues(sighist) Skipping ...\n",
      "[#0] WARNING:DataHandling -- RooTreeDataStore::loadValues(sighist) Ignored 722 out-of-range events\n"
     ]
    }
   ],
   "source": [
    "# signalhist = ROOT.RooDataSet(\"sighist\",\"\", x, ROOT.RooFit.Import(mychain), Cut=\"Dstarp_isSignal==1 \")\n",
    "signalhist = ROOT.RooDataSet(\"sighist\",\"\", ROOT.RooArgSet(x,y), ROOT.RooFit.Import(mychain), Cut=\"D0_M>1.78 & D0_M<1.91 & dM_pi0_75MeV > 0.023 \")\n",
    "# signalhist = ROOT.RooDataSet(\"sighist\",\"\", ROOT.RooArgSet(x,y), ROOT.RooFit.Import(mychain), Cut=\"D0_M>1.78 & D0_M<1.91 & dM_pi0_75MeV > 0.023 \", WeightVar=ROOT.RooFit.WeightVar(w))"
   ]
  },
  {
   "cell_type": "code",
   "execution_count": 292,
   "id": "b9201936-4604-4ecd-a112-066523381f7a",
   "metadata": {},
   "outputs": [
    {
     "name": "stdout",
     "output_type": "stream",
     "text": [
      "RooDataSet::sighist[D0_M,dM_pi0_75MeV] = 37545 entries\n"
     ]
    }
   ],
   "source": [
    "signalhist.Print()"
   ]
  },
  {
   "cell_type": "code",
   "execution_count": 293,
   "id": "30095e95-efcf-4120-a4ce-6d3d34ac2ec8",
   "metadata": {},
   "outputs": [],
   "source": [
    "# signalhist.addColumn(w)"
   ]
  },
  {
   "cell_type": "code",
   "execution_count": 294,
   "id": "f278fa70-42bc-4e76-b1f3-314a86a7ab5a",
   "metadata": {},
   "outputs": [],
   "source": [
    "# signalhist.Print()"
   ]
  },
  {
   "cell_type": "code",
   "execution_count": 295,
   "id": "0f05df8a-34e7-4158-8448-8e1127d2b659",
   "metadata": {},
   "outputs": [
    {
     "data": {
      "text/plain": [
       "<cppyy.gbl.RooArgSet object at 0x55faf8e7dd58>"
      ]
     },
     "execution_count": 295,
     "metadata": {},
     "output_type": "execute_result"
    }
   ],
   "source": [
    "signalhist.get()"
   ]
  },
  {
   "cell_type": "code",
   "execution_count": 296,
   "id": "4257941d-98b5-406b-b997-1b27ee0a312f",
   "metadata": {},
   "outputs": [],
   "source": [
    "# wdata = ROOT.RooDataSet(signalhist.GetName(), signalhist.GetTitle(),signalhist, signalhist.get(), '' ,  'w')"
   ]
  },
  {
   "cell_type": "code",
   "execution_count": 297,
   "id": "e9ca4a3d-dc60-4fe9-b480-7fb23b2f48e5",
   "metadata": {},
   "outputs": [],
   "source": [
    "# wdata.Print()"
   ]
  },
  {
   "cell_type": "code",
   "execution_count": 298,
   "id": "32658f60-999f-40d5-9109-803d213b55ed",
   "metadata": {},
   "outputs": [
    {
     "name": "stdout",
     "output_type": "stream",
     "text": [
      "[#1] INFO:Eval -- RooRealVar::setRange(D0_M) new range named 'fit' created with bounds [1.78,1.91]\n",
      "[#1] INFO:Minimization -- RooAbsMinimizerFcn::setOptimizeConst: activating const optimization\n",
      "[#1] INFO:Fitting -- RooAbsOptTestStatistic::ctor(nll_model_sighist) constructing test statistic for sub-range named fit\n",
      "[#1] INFO:Eval -- RooRealVar::setRange(D0_M) new range named 'NormalizationRangeForfit' created with bounds [1.78,1.91]\n",
      "[#1] INFO:Eval -- RooRealVar::setRange(D0_M) new range named 'fit_nll_model_sighist' created with bounds [1.78,1.91]\n",
      "[#1] INFO:Fitting -- RooAbsOptTestStatistic::ctor(nll_model_sighist) fixing interpretation of coefficients of any RooAddPdf to full domain of observables \n",
      "[#1] INFO:Eval -- RooAbsTestStatistic::initMPMode: started 12 remote server process.\n",
      "[#1] INFO:Minimization --  The following expressions will be evaluated in cache-and-track mode: (sig1,sig2)\n",
      "[#1] INFO:Minimization --  The following expressions will be evaluated in cache-and-track mode: (sig1,sig2)\n",
      "[#1] INFO:Minimization --  The following expressions will be evaluated in cache-and-track mode: (sig1,sig2)\n",
      "[#1] INFO:Minimization --  The following expressions will be evaluated in cache-and-track mode: (sig1,sig2)\n",
      "[#1] INFO:Minimization --  The following expressions will be evaluated in cache-and-track mode: (sig1,sig2)\n",
      "[#1] INFO:Minimization --  The following expressions will be evaluated in cache-and-track mode: (sig1,sig2)\n",
      "[#1] INFO:Minimization --  The following expressions will be evaluated in cache-and-track mode: (sig1,sig2)\n",
      "[#1] INFO:Minimization --  The following expressions will be evaluated in cache-and-track mode: (sig1,sig2)\n",
      "[#1] INFO:Minimization --  The following expressions will be evaluated in cache-and-track mode: (sig1,sig2)\n",
      "[#1] INFO:Minimization --  The following expressions will be evaluated in cache-and-track mode: (sig1,sig2)\n",
      "[#1] INFO:Minimization --  The following expressions will be evaluated in cache-and-track mode: (sig1,sig2)\n",
      "[#1] INFO:Minimization --  The following expressions will be evaluated in cache-and-track mode: (sig1,sig2)\n",
      "[#1] INFO:Minimization -- RooAbsMinimizerFcn::setOptimizeConst: deactivating const optimization\n",
      "\n",
      "  RooFitResult: minimized FCN value: -99643.1, estimated distance to minimum: 2.16978e-05\n",
      "                covariance matrix quality: Full, accurate covariance matrix\n",
      "                Status : MINIMIZE=0 HESSE=0 \n",
      "\n",
      "    Floating Parameter    FinalValue +/-  Error   \n",
      "  --------------------  --------------------------\n",
      "                 alpha    6.3929e-01 +/-  3.45e-02\n",
      "                  mean    1.8638e+00 +/-  1.70e-04\n",
      "                  n_CB    2.0000e+01 +/-  1.23e+01\n",
      "              sig1frac    2.4216e-01 +/-  3.56e-02\n",
      "                sigma1    1.7982e-02 +/-  7.29e-04\n",
      "                sigma2    1.0462e-02 +/-  3.06e-04\n",
      "\n",
      "[#1] INFO:Plotting -- RooAbsPdf::plotOn(model) p.d.f was fitted in a subrange and no explicit Range() and NormRange() was specified. Plotting / normalising in fit range. To override, do one of the following\n",
      "\t- Clear the automatic fit range attribute: <pdf>.setStringAttribute(\"fitrange\", nullptr);\n",
      "\t- Explicitly specify the plotting range: Range(\"<rangeName>\").\n",
      "\t- Explicitly specify where to compute the normalisation: NormRange(\"<rangeName>\").\n",
      "\tThe default (full) range can be denoted with Range(\"\") / NormRange(\"\").\n",
      "[#1] INFO:Plotting -- RooAbsPdf::plotOn(model) only plotting range 'fit_nll_model_sighist'\n",
      "[#1] INFO:Plotting -- RooAbsPdf::plotOn(model) p.d.f. curve is normalized using explicit choice of ranges 'fit_nll_model_sighist'\n",
      "[#1] INFO:Plotting -- RooAbsPdf::plotOn(model) directly selected PDF components: (sig1)\n",
      "[#1] INFO:Plotting -- RooAbsPdf::plotOn(model) indirectly selected PDF components: ()\n",
      "[#1] INFO:Plotting -- RooAbsPdf::plotOn(model) p.d.f was fitted in a subrange and no explicit Range() and NormRange() was specified. Plotting / normalising in fit range. To override, do one of the following\n",
      "\t- Clear the automatic fit range attribute: <pdf>.setStringAttribute(\"fitrange\", nullptr);\n",
      "\t- Explicitly specify the plotting range: Range(\"<rangeName>\").\n",
      "\t- Explicitly specify where to compute the normalisation: NormRange(\"<rangeName>\").\n",
      "\tThe default (full) range can be denoted with Range(\"\") / NormRange(\"\").\n",
      "[#1] INFO:Plotting -- RooAbsPdf::plotOn(model) only plotting range 'fit_nll_model_sighist'\n",
      "[#1] INFO:Plotting -- RooAbsPdf::plotOn(model) p.d.f. curve is normalized using explicit choice of ranges 'fit_nll_model_sighist'\n",
      "[#1] INFO:Plotting -- RooAbsPdf::plotOn(model) directly selected PDF components: (sig2)\n",
      "[#1] INFO:Plotting -- RooAbsPdf::plotOn(model) indirectly selected PDF components: ()\n",
      "[#1] INFO:Plotting -- RooAbsPdf::plotOn(model) p.d.f was fitted in a subrange and no explicit Range() and NormRange() was specified. Plotting / normalising in fit range. To override, do one of the following\n",
      "\t- Clear the automatic fit range attribute: <pdf>.setStringAttribute(\"fitrange\", nullptr);\n",
      "\t- Explicitly specify the plotting range: Range(\"<rangeName>\").\n",
      "\t- Explicitly specify where to compute the normalisation: NormRange(\"<rangeName>\").\n",
      "\tThe default (full) range can be denoted with Range(\"\") / NormRange(\"\").\n",
      "[#1] INFO:Plotting -- RooAbsPdf::plotOn(model) only plotting range 'fit_nll_model_sighist'\n",
      "[#1] INFO:Plotting -- RooAbsPdf::plotOn(model) p.d.f. curve is normalized using explicit choice of ranges 'fit_nll_model_sighist'\n"
     ]
    },
    {
     "name": "stderr",
     "output_type": "stream",
     "text": [
      "Warning in <TCanvas::Constructor>: Deleting canvas with same name: Canvas\n"
     ]
    },
    {
     "data": {
      "image/png": "[encoded data removed]",
      "text/plain": [
       "<IPython.core.display.Image object>"
      ]
     },
     "metadata": {},
     "output_type": "display_data"
    }
   ],
   "source": [
    "canv = ROOT.TCanvas(\"Canvas\", \"Canvas\", 700, 640)\n",
    "\n",
    "xlow = ctypes.c_double()\n",
    "ylow = ctypes.c_double()\n",
    "xup = ctypes.c_double()\n",
    "yup = ctypes.c_double()\n",
    "\n",
    "canv.GetPad(0).GetPadPar(xlow, ylow, xup, yup)\n",
    "canv.Divide(1,2)\n",
    "\n",
    "xlow = xlow.value\n",
    "ylow = ylow.value\n",
    "xup = xup.value\n",
    "yup = yup.value\n",
    "\n",
    "upPad = canv.GetPad(1)\n",
    "upPad.SetPad(xlow, ylow+0.25*(yup-ylow),xup,yup)\n",
    "\n",
    "dwPad = canv.GetPad(2)\n",
    "dwPad.SetPad(xlow, ylow,xup,ylow+0.25*(yup-ylow))\n",
    "\n",
    "    \n",
    "# sig1 = ROOT.RooGaussian(\"sig1\", \"Signal component 1\", x, mean, sigma1)\n",
    "sig1 = ROOT.RooGaussian(\"sig1\", \"Signal component 1\", x, mean, sigma1)\n",
    "\n",
    "# ROOT.RooFit.RooConst(0)\n",
    "# sig1 = ROOT.RooJohnson(\"sig1\", \"Signal component 1\", x,mu, para_lambda,gamma,delta)\n",
    "\n",
    "sig2 = ROOT.RooCBShape(\"sig2\", \"Signal component 2\", x, mean, sigma2, alpha, n_CB)\n",
    "# sig3 = ROOT.RooNovosibirsk(\"sig3\", \"Signal component 3\", x, mean, Novo_width, Novo_tail)\n",
    "\n",
    "\n",
    "sig1frac = ROOT.RooRealVar(\"sig1frac\", \"fraction of component 1 in signal\", 0.5, 0.0, 1.0)\n",
    "\n",
    "\n",
    "\n",
    "# model = ROOT.RooCBShape(\"model\", \"Signal component 2\", x, mean, sigma2, alpha, n_CB)\n",
    "\n",
    "model = ROOT.RooAddPdf(\"model\", \"model\", [sig1, sig2], sig1frac)\n",
    "\n",
    "\n",
    "# x.setBins(10000,\"cache\") \n",
    "# model = ROOT.RooFFTConvPdf(\"model\",\"CB (X) gauss\",x,sig2,sig1)\n",
    "\n",
    "r = model.fitTo(signalhist,NumCPU=12,Range=fitting_region,PrintLevel=-1, Save=1)\n",
    "# r = model.fitTo(wdata,NumCPU=12,Range=fitting_region,PrintLevel=-1, Save=1)\n",
    "\n",
    "r.Print()\n",
    "canv.cd(1) \n",
    "# frame = x.frame(Title=\"D^{0} #rightarrow #bar{K}^{*0} #pi^{0}\")\n",
    "frame = x.frame(Title=\" \")\n",
    "\n",
    "signalhist.plotOn(frame,Name = \"data1\", XErrorSize=0)\n",
    "# wdata.plotOn(frame,Name = \"data1\", XErrorSize=0, DataError=ROOT.RooAbsData.SumW2)\n",
    "# wdata.plotOn(frame,Name = \"data1\", XErrorSize=0,DataError=ROOT.RooAbsData.SumW2)\n",
    "\n",
    "# \n",
    "model.plotOn(frame, Name=\"gauss1\", Components=sig1, LineStyle=ROOT.kDashed, LineColor=593)\n",
    "model.plotOn(frame, Name=\"CB1\", Components=sig2, LineStyle=ROOT.kDashed, LineColor=593)\n",
    "# sig.plotOn(frame, Name=\"Novo\", Components=sig3, LineStyle=ROOT.kDashed, LineColor=593)\n",
    "\n",
    "model.plotOn(frame, Name=\"fitting\",)\n",
    "\n",
    "\n",
    "# sig.paramOn(frame)\n",
    "frame.GetXaxis().CenterTitle(True)\n",
    "\n",
    "frame.Draw(\"PE\")\n",
    "\n",
    "\n",
    "leg1 = ROOT.TLegend(0.25, 0.75, 0.4, 0.9)\n",
    "leg1.SetFillColor(ROOT.kWhite)\n",
    "# leg1.SetHeader(\"The Legend title\",\"C\")\n",
    "leg1.AddEntry(\"data1\", \"MC\", \"PE\")\n",
    "leg1.AddEntry(\"fitting\", \"fit\", \"l\")\n",
    "leg1.Draw()\n",
    "\n",
    "hpull = frame.pullHist()\n",
    "hpull.SetFillStyle(1001)\n",
    "hpull.SetFillColor(1);\n",
    "for i in range(0,hpull.GetN()):#(int i=0;i<hpull.GetN();++i): \n",
    "    hpull.SetPointError(i,0.0,0.0,0.0,0.0)\n",
    "# pullplot = x.frame(Title(\" \"))\n",
    "pullplot = x.frame()\n",
    "pullplot.SetTitle(\"\")\n",
    "pullplot.addPlotable(hpull,\"BE\")\n",
    "# pullplot.addPlotable(hpull,\"PE\")\n",
    "\n",
    "pullplot.SetYTitle(\"Pull\")\n",
    "pullplot.GetXaxis().SetTitleSize(0)\n",
    "pullplot.GetYaxis().SetTitleSize(0.22)\n",
    "pullplot.GetYaxis().CenterTitle(True)\n",
    "pullplot.GetYaxis().SetTitleOffset(0.2)\n",
    "pullplot.SetMinimum(-4.)\n",
    "pullplot.SetMaximum(4.)\n",
    "pullplot.GetXaxis().SetLabelSize(0.15)\n",
    "pullplot.GetYaxis().SetLabelSize(0.105)\n",
    "canv.cd(2)\n",
    "pullplot.Draw()\n",
    "\n",
    "xmin1 = ctypes.c_double(fitting_region[0])\n",
    "xmax1 = ctypes.c_double(fitting_region[1])\n",
    "# xmin1 = 0.1\n",
    "# xmax1 = 0.18\n",
    "line = ROOT.TLine(xmin1,0.0,xmax1,0.0)\n",
    "line1 = ROOT.TLine(xmin1,3.0,xmax1,3.0)\n",
    "line2 = ROOT.TLine(xmin1,-3.0,xmax1,-3.0)\n",
    "\n",
    "line.SetLineColor(ROOT.kRed)\n",
    "line.SetLineWidth(3)\n",
    "line1.SetLineColor(ROOT.kRed)\n",
    "line2.SetLineColor(ROOT.kRed)\n",
    "line1.SetLineStyle(2)\n",
    "line2.SetLineStyle(2)\n",
    "line.Draw(\"SAME\")\n",
    "line1.Draw(\"SAME\")\n",
    "line2.Draw(\"SAME\")\n",
    "\n",
    "canv.Update()\n",
    "\n",
    "canv.Draw()\n",
    "#canv.SaveAs(\"/media/jykim/T7/saved_plots/fitting/results/phigamma/phi_massveto_1ab_signal.png\")\n",
    "# canv.SaveAs(\"phi_massveto_1ab_signal.png\")\n",
    "\n",
    "# f = ROOT.TFile(\"phig_MC15ri_half1M_signalMC_fitresult.root\", \"RECREATE\")\n",
    "# r.Write(\"phig\")\n",
    "# f.Close()\n"
   ]
  },
  {
   "cell_type": "code",
   "execution_count": 299,
   "id": "35ffd040-f571-4a12-bcd2-5df6cec6c76e",
   "metadata": {},
   "outputs": [
    {
     "name": "stdout",
     "output_type": "stream",
     "text": [
      "0x55fb5d457380 RooAddPdf::model = 0.438346 [Auto,Dirty] \n",
      "  0x55fb5db9b670/V- RooGaussian::sig1 = 0.578247 [Auto,Dirty] \n",
      "    0x55fb51dfc9b0/V- RooRealVar::D0_M = 1.845\n",
      "    0x55fb3eb42d40/V- RooRealVar::mean = 1.86382 +/- 0.000169987\n",
      "    0x55fb190a4820/V- RooRealVar::sigma1 = 0.0179822 +/- 0.000729055\n",
      "  0x55fb458ce1d0/V- RooRealVar::sig1frac = 0.242158 +/- 0.035583\n",
      "  0x55fb5a9aa9a0/V- RooCBShape::sig2 = 0.393643 [Auto,Dirty] \n",
      "    0x55fb51dfc9b0/V- RooRealVar::D0_M = 1.845\n",
      "    0x55fb3eb42d40/V- RooRealVar::mean = 1.86382 +/- 0.000169987\n",
      "    0x55fb0bbabb50/V- RooRealVar::sigma2 = 0.0104622 +/- 0.000306294\n",
      "    0x55fb17c3ed40/V- RooRealVar::alpha = 0.639286 +/- 0.0344598\n",
      "    0x55fafdbd3ba0/V- RooRealVar::n_CB = 19.9999 +/- 12.3434\n"
     ]
    }
   ],
   "source": [
    "model.Print(\"t\")"
   ]
  },
  {
   "cell_type": "code",
   "execution_count": 300,
   "id": "43ffc56d-f01f-49c7-96d3-6e55a2bd4819",
   "metadata": {},
   "outputs": [],
   "source": [
    "f = ROOT.TFile.Open(\"phig_signalMC_fitresult.root\")\n",
    "r2 = ROOT.gDirectory.Get(\"phig\")\n",
    "f.Close()\n"
   ]
  },
  {
   "cell_type": "code",
   "execution_count": 143,
   "id": "e449db02-3a12-4028-a58f-1daa29df377e",
   "metadata": {},
   "outputs": [
    {
     "name": "stdout",
     "output_type": "stream",
     "text": [
      "\n",
      "  RooFitResult: minimized FCN value: -102515, estimated distance to minimum: 0.000238751\n",
      "                covariance matrix quality: Full, accurate covariance matrix\n",
      "                Status : MINIMIZE=0 HESSE=0 \n",
      "\n",
      "    Floating Parameter    FinalValue +/-  Error   \n",
      "  --------------------  --------------------------\n",
      "                 alpha    6.9549e-01 +/-  2.43e-02\n",
      "                  mean    1.8636e+00 +/-  1.16e-04\n",
      "                  n_CB    1.3860e+01 +/-  3.49e+00\n",
      "              sig1frac    2.8199e-01 +/-  2.84e-02\n",
      "                sigma1    1.7493e-02 +/-  4.67e-04\n",
      "                sigma2    1.0590e-02 +/-  1.75e-04\n",
      "\n"
     ]
    }
   ],
   "source": [
    "r2.Print()"
   ]
  },
  {
   "cell_type": "code",
   "execution_count": 144,
   "id": "b612badd-87c1-47fd-bb71-12982c4377b0",
   "metadata": {},
   "outputs": [
    {
     "data": {
      "text/plain": [
       "-0.5390424609830794"
      ]
     },
     "execution_count": 144,
     "metadata": {},
     "output_type": "execute_result"
    }
   ],
   "source": [
    "r2.correlation(\"alpha\",\"n_CB\")"
   ]
  },
  {
   "cell_type": "code",
   "execution_count": 145,
   "id": "a81b463a-ffdb-4e4d-a472-7d01dccfa76d",
   "metadata": {},
   "outputs": [
    {
     "data": {
      "text/plain": [
       "0.0002387513191261711"
      ]
     },
     "execution_count": 145,
     "metadata": {},
     "output_type": "execute_result"
    }
   ],
   "source": [
    "r2.edm()"
   ]
  },
  {
   "cell_type": "code",
   "execution_count": 146,
   "id": "405e4318-7ba2-4362-acae-6d90a363da53",
   "metadata": {},
   "outputs": [
    {
     "data": {
      "text/plain": [
       "<cppyy.gbl.TMatrixTSym<double> object at 0x55f5e19d41d0>"
      ]
     },
     "execution_count": 146,
     "metadata": {},
     "output_type": "execute_result"
    }
   ],
   "source": [
    "r2.correlationMatrix()"
   ]
  },
  {
   "cell_type": "code",
   "execution_count": 150,
   "id": "9f00b952-6846-4425-a62e-a7d87405471b",
   "metadata": {},
   "outputs": [
    {
     "ename": "TypeError",
     "evalue": "void RooFitResult::printValue(basic_ostream<char,char_traits<char> >& os) =>\n    TypeError: could not convert argument 1",
     "output_type": "error",
     "traceback": [
      "\u001b[0;31m---------------------------------------------------------------------------\u001b[0m",
      "\u001b[0;31mTypeError\u001b[0m                                 Traceback (most recent call last)",
      "Cell \u001b[0;32mIn [150], line 1\u001b[0m\n\u001b[0;32m----> 1\u001b[0m \u001b[43mr2\u001b[49m\u001b[38;5;241;43m.\u001b[39;49m\u001b[43mprintValue\u001b[49m\u001b[43m(\u001b[49m\u001b[38;5;124;43m'\u001b[39;49m\u001b[38;5;124;43malpha\u001b[39;49m\u001b[38;5;124;43m'\u001b[39;49m\u001b[43m)\u001b[49m\n",
      "\u001b[0;31mTypeError\u001b[0m: void RooFitResult::printValue(basic_ostream<char,char_traits<char> >& os) =>\n    TypeError: could not convert argument 1"
     ]
    }
   ],
   "source": [
    "r2.printValue('alpha')"
   ]
  },
  {
   "cell_type": "code",
   "execution_count": 152,
   "id": "0d56e4c8-7967-4bbf-9546-c7ed6b9a81de",
   "metadata": {},
   "outputs": [],
   "source": [
    "# RooArgSet fitargs = res->floatParsFinal();\n",
    "\n"
   ]
  },
  {
   "cell_type": "code",
   "execution_count": 159,
   "id": "0574a41c-2e79-4aa0-ab0e-aa7d68e8822b",
   "metadata": {},
   "outputs": [
    {
     "name": "stdout",
     "output_type": "stream",
     "text": [
      "RooRealVar::alpha = 0.695492 +/- 0.0243261  L(0 - 10) \n",
      "\n"
     ]
    }
   ],
   "source": [
    "print(fit_args.at(0))"
   ]
  },
  {
   "cell_type": "code",
   "execution_count": 160,
   "id": "355b84bb-1cb7-4c6d-be15-edfb859d8571",
   "metadata": {},
   "outputs": [],
   "source": [
    "alpha1 = fit_args.at(0)"
   ]
  },
  {
   "cell_type": "code",
   "execution_count": 163,
   "id": "b2578792-ca30-4791-afd8-e8bc108a93b0",
   "metadata": {},
   "outputs": [
    {
     "data": {
      "text/plain": [
       "0.6954922960434734"
      ]
     },
     "execution_count": 163,
     "metadata": {},
     "output_type": "execute_result"
    }
   ],
   "source": [
    "alpha1.getVal()"
   ]
  },
  {
   "cell_type": "code",
   "execution_count": 164,
   "id": "31219828-670d-4b8c-935d-be09bbadd696",
   "metadata": {},
   "outputs": [
    {
     "data": {
      "text/plain": [
       "0.024326052531200293"
      ]
     },
     "execution_count": 164,
     "metadata": {},
     "output_type": "execute_result"
    }
   ],
   "source": [
    "alpha1.getError()"
   ]
  },
  {
   "cell_type": "code",
   "execution_count": null,
   "id": "02c3d8aa-4509-4a2b-853e-32657443d0e2",
   "metadata": {},
   "outputs": [],
   "source": []
  },
  {
   "cell_type": "code",
   "execution_count": null,
   "id": "7020eec7-8dc7-4234-b4b4-9ee6dcfaf1fc",
   "metadata": {},
   "outputs": [],
   "source": []
  },
  {
   "cell_type": "code",
   "execution_count": 35,
   "id": "c5cc1fed-8cdd-4ab6-8dfe-38ebf3889aa8",
   "metadata": {},
   "outputs": [],
   "source": [
    "# sig_file = ROOT.TFile.Open(\"/media/jykim/T7/storage/01_recon/phi/D0_massveto_v2_half_1_sig_ext_signalMC_recon_mdst_phi.root\")\n",
    "# signal_tree = sig_file.Get(\"phi\")\n",
    "\n",
    "sig_file = ROOT.TFile.Open(\"/media/jykim/T7/storage/01_recon/phi/D0_massveto_v2_half_1_optimzed_sigext_signalMC_recon_mdst_phi.root\")\n",
    "signal_tree = sig_file.Get(\"phi\")\n",
    "# sig_1ab_file = ROOT.TFile.Open(\"/media/jykim/T7/storage/01_recon/massvetov2_sig_ext_1ab_sigbkg/topo/resultfile/result_phi/standard.root\")\n",
    "# signal_1ab_tree = sig_1ab_file.Get(\"phi\")\n"
   ]
  },
  {
   "cell_type": "code",
   "execution_count": 36,
   "id": "07545991-faeb-4b53-961a-07565abfa5fa",
   "metadata": {},
   "outputs": [],
   "source": [
    "# D0_M_TH1F = ROOT.TH1F(\"D0_M_TH1F\",\"D0 mass\",50,1.67,2.06)\n",
    "TH1F = ROOT.TH1F(\"D0_cosHel_0_TH1F\",\"D0 mass\",50,-1,1)\n",
    "# D0_M_TH1F_2 = ROOT.TH1F(\"D0_M_TH1F_2\",\"D0 mass\",50,1.72,1.92)\n"
   ]
  },
  {
   "cell_type": "code",
   "execution_count": 37,
   "id": "9e719970-4bc5-47a6-9276-96182ed2cd9d",
   "metadata": {},
   "outputs": [],
   "source": [
    "# def extract_histo(tree, histogram):\n",
    "#     for event in tree:\n",
    "#         histogram.Fill(event.D0_M)\n",
    "#     return histogram"
   ]
  },
  {
   "cell_type": "code",
   "execution_count": 38,
   "id": "b5e84471-0393-4c9e-a919-dd463d1a2b01",
   "metadata": {},
   "outputs": [],
   "source": [
    "def apply_cuts(tree, histogram):\n",
    "    for event in tree:\n",
    "        # if event.D0_M > 1.67 and event.D0_M < 2.06:\n",
    "        if event.D0_M > 1.78 and event.D0_M < 1.91 and event.dM_pi0_75MeV > 0.023:\n",
    "\n",
    "            histogram.Fill(event.D0_cosHel_0)\n",
    "    return histogram"
   ]
  },
  {
   "cell_type": "code",
   "execution_count": 39,
   "id": "3eac86c7-c824-456b-892f-f23bab887cd6",
   "metadata": {},
   "outputs": [],
   "source": [
    "# def extract_signals(tree, histogram):\n",
    "#     for event in tree:\n",
    "#         # if event.D0_M > 1.67 and event.D0_M < 2.06:\n",
    "#         if event.nSigCascDcyBr_0==1 and event.D0_M > 1.72 and event.D0_M < 1.92 and event.Belle2Pi0Veto_75MeV > 0.022:\n",
    "#         # if event.nSigCascDcyBr_0==1 and event.D0_M > 1.67 and event.D0_M < 2.06 and event.Belle2Pi0Veto_75MeV > 0.02:\n",
    "\n",
    "#             histogram.Fill(event.D0_M)\n",
    "#     return histogram"
   ]
  },
  {
   "cell_type": "code",
   "execution_count": 40,
   "id": "1511765a-f2ec-47c2-81eb-3b2d14d04d99",
   "metadata": {},
   "outputs": [
    {
     "data": {
      "image/png": "[encoded data removed]",
      "text/plain": [
       "<IPython.core.display.Image object>"
      ]
     },
     "metadata": {},
     "output_type": "display_data"
    }
   ],
   "source": [
    "\n",
    "TH1F = apply_cuts(signal_tree, TH1F)\n",
    "c1 = ROOT.TCanvas()\n",
    "TH1F.Draw()\n",
    "c1.Draw()"
   ]
  },
  {
   "cell_type": "code",
   "execution_count": 226,
   "id": "6e3fcf51-5d46-4932-8205-6849285cee9d",
   "metadata": {},
   "outputs": [],
   "source": [
    "\n",
    "# scale_factor = D0_M_TH1F_2.GetEntries()/D0_M_TH1F.GetEntries()"
   ]
  },
  {
   "cell_type": "code",
   "execution_count": 227,
   "id": "937092ce-1c11-442a-84f0-0898a9166e74",
   "metadata": {},
   "outputs": [],
   "source": [
    "# scale_factor = 1"
   ]
  },
  {
   "cell_type": "code",
   "execution_count": 41,
   "id": "e3244c09-aafa-4d7e-9149-14e3757d8c37",
   "metadata": {},
   "outputs": [
    {
     "data": {
      "text/plain": [
       "94488127211344"
      ]
     },
     "execution_count": 41,
     "metadata": {},
     "output_type": "execute_result"
    },
    {
     "name": "stdout",
     "output_type": "stream",
     "text": [
      "(MyPdf_xsquared_nopara) An instance of MyPdf_xsquared_nopara.\n"
     ]
    },
    {
     "name": "stderr",
     "output_type": "stream",
     "text": [
      "Info in <TUnixSystem::ACLiC>: creating shared library /home/jykim/workspace/DRAW_and_FITTING/main/FITTING/phigamma/1D_1ab_sigbkg/./MyPdf_xsquared_nopara_cxx.so\n"
     ]
    }
   ],
   "source": [
    "ROOT.RooClassFactory.makePdf(\"MyPdf_xsquared_nopara\", \"x\", \"\", \"x*x\")\n",
    "ROOT.gROOT.ProcessLineSync(\".x MyPdf_xsquared_nopara.cxx+\")"
   ]
  },
  {
   "cell_type": "code",
   "execution_count": 42,
   "id": "b70ef4fd-884e-40cc-bb63-66dcac5c2cb1",
   "metadata": {},
   "outputs": [
    {
     "data": {
      "text/plain": [
       "94488129387248"
      ]
     },
     "execution_count": 42,
     "metadata": {},
     "output_type": "execute_result"
    },
    {
     "name": "stdout",
     "output_type": "stream",
     "text": [
      "(MyPdf_one_minus_squared_para) An instance of MyPdf_one_minus_squared_para.\n"
     ]
    },
    {
     "name": "stderr",
     "output_type": "stream",
     "text": [
      "Info in <TUnixSystem::ACLiC>: creating shared library /home/jykim/workspace/DRAW_and_FITTING/main/FITTING/phigamma/1D_1ab_sigbkg/./MyPdf_one_minus_squared_para_cxx.so\n"
     ]
    }
   ],
   "source": [
    "ROOT.RooClassFactory.makePdf(\"MyPdf_one_minus_squared_para\", \"x,c0\", \"\", \"c0*(1-x*x)\")\n",
    "ROOT.gROOT.ProcessLineSync(\".x MyPdf_one_minus_squared_para.cxx+\")"
   ]
  },
  {
   "cell_type": "code",
   "execution_count": 46,
   "id": "e1a089d0-6a8c-456e-87d8-ecc74414ea8d",
   "metadata": {},
   "outputs": [],
   "source": [
    "fitting_region = (-1,1)\n",
    "x = ROOT.RooRealVar(\"M(D^{0})\", \"cos#theta_{H}\", fitting_region[0], fitting_region[1], \"\")\n",
    "# x.setBins(50)\n",
    "l = ROOT.RooArgList(x)\n",
    "# signalhist = ROOT.RooDataHist(\"sighist\", \"sighist\", l, D0_M_TH1F, scale_factor)\n",
    "# signalhist = ROOT.RooDataHist(\"sighist\", \"sighist\", l, D0_M_TH1F, 1)\n",
    "\n",
    "signalhist = ROOT.RooDataHist(\"sighist\", \"sighist\", l, TH1F, 1)\n"
   ]
  },
  {
   "cell_type": "code",
   "execution_count": 47,
   "id": "6724129a-b234-4d69-ac74-35ebd187af0b",
   "metadata": {},
   "outputs": [],
   "source": [
    "c0 = ROOT.RooRealVar(\"c0\", \"c0\",0.5, -1,1)\n",
    "model = ROOT.MyPdf_one_minus_squared_para(\"model\", \"pdf\", x, c0)\n"
   ]
  },
  {
   "cell_type": "code",
   "execution_count": 48,
   "id": "9a8809ab-e1f7-4d91-9142-43c107212adc",
   "metadata": {},
   "outputs": [
    {
     "name": "stdout",
     "output_type": "stream",
     "text": [
      "[#1] INFO:Eval -- RooRealVar::setRange(M(D^{0})) new range named 'fit' created with bounds [-1,1]\n",
      "[#1] INFO:Minimization -- RooAbsMinimizerFcn::setOptimizeConst: activating const optimization\n",
      "[#1] INFO:Fitting -- RooAbsOptTestStatistic::ctor(nll_model_sighist) constructing test statistic for sub-range named fit\n",
      "[#1] INFO:Eval -- RooRealVar::setRange(M(D^{0})) new range named 'NormalizationRangeForfit' created with bounds [-1,1]\n",
      "[#1] INFO:Eval -- RooRealVar::setRange(M(D^{0})) new range named 'fit_nll_model_sighist' created with bounds [-1,1]\n",
      "[#1] INFO:Fitting -- RooAbsOptTestStatistic::ctor(nll_model_sighist) fixing interpretation of coefficients of any RooAddPdf to full domain of observables \n",
      "[#1] INFO:NumericIntegration -- RooRealIntegral::init(model_Int[M(D^{0})]) using numeric integrator RooIntegrator1D to calculate Int(M(D^{0}))\n",
      "[#1] INFO:Eval -- RooAbsTestStatistic::initMPMode: started 12 remote server process.\n",
      "[#1] INFO:NumericIntegration -- RooRealIntegral::init(model_Int[M(D^{0})]) using numeric integrator RooIntegrator1D to calculate Int(M(D^{0}))\n",
      "[#1] INFO:NumericIntegration -- RooRealIntegral::init(model_Int[M(D^{0})]) using numeric integrator RooIntegrator1D to calculate Int(M(D^{0}))\n",
      "[#1] INFO:NumericIntegration -- RooRealIntegral::init(model_Int[M(D^{0})]) using numeric integrator RooIntegrator1D to calculate Int(M(D^{0}))\n",
      "[#1] INFO:NumericIntegration -- RooRealIntegral::init(model_Int[M(D^{0})]) using numeric integrator RooIntegrator1D to calculate Int(M(D^{0}))\n",
      "[#1] INFO:NumericIntegration -- RooRealIntegral::init(model_Int[M(D^{0})]) using numeric integrator RooIntegrator1D to calculate Int(M(D^{0}))\n",
      "[#1] INFO:NumericIntegration -- RooRealIntegral::init(model_Int[M(D^{0})]) using numeric integrator RooIntegrator1D to calculate Int(M(D^{0}))\n",
      "[#1] INFO:NumericIntegration -- RooRealIntegral::init(model_Int[M(D^{0})]) using numeric integrator RooIntegrator1D to calculate Int(M(D^{0}))\n",
      "[#1] INFO:NumericIntegration -- RooRealIntegral::init(model_Int[M(D^{0})]) using numeric integrator RooIntegrator1D to calculate Int(M(D^{0}))\n",
      "[#1] INFO:NumericIntegration -- RooRealIntegral::init(model_Int[M(D^{0})]) using numeric integrator RooIntegrator1D to calculate Int(M(D^{0}))\n",
      "[#1] INFO:NumericIntegration -- RooRealIntegral::init(model_Int[M(D^{0})]) using numeric integrator RooIntegrator1D to calculate Int(M(D^{0}))\n",
      "[#1] INFO:NumericIntegration -- RooRealIntegral::init(model_Int[M(D^{0})]) using numeric integrator RooIntegrator1D to calculate Int(M(D^{0}))\n",
      "[#1] INFO:NumericIntegration -- RooRealIntegral::init(model_Int[M(D^{0})]) using numeric integrator RooIntegrator1D to calculate Int(M(D^{0}))\n",
      "[#1] INFO:Minimization -- RooAbsMinimizerFcn::setOptimizeConst: deactivating const optimization\n",
      "\n",
      "  RooFitResult: minimized FCN value: 21258.8, estimated distance to minimum: 5.68434e-12\n",
      "                covariance matrix quality: Full, accurate covariance matrix\n",
      "                Status : MINIMIZE=0 HESSE=0 \n",
      "\n",
      "    Floating Parameter    FinalValue +/-  Error   \n",
      "  --------------------  --------------------------\n",
      "                    c0    9.2626e-01 +/-  1.63e+00\n",
      "\n",
      "[#1] INFO:Plotting -- RooAbsPdf::plotOn(model) p.d.f was fitted in a subrange and no explicit Range() and NormRange() was specified. Plotting / normalising in fit range. To override, do one of the following\n",
      "\t- Clear the automatic fit range attribute: <pdf>.setStringAttribute(\"fitrange\", nullptr);\n",
      "\t- Explicitly specify the plotting range: Range(\"<rangeName>\").\n",
      "\t- Explicitly specify where to compute the normalisation: NormRange(\"<rangeName>\").\n",
      "\tThe default (full) range can be denoted with Range(\"\") / NormRange(\"\").\n",
      "[#1] INFO:Plotting -- RooAbsPdf::plotOn(model) only plotting range 'fit_nll_model_sighist'\n",
      "[#1] INFO:Plotting -- RooAbsPdf::plotOn(model) p.d.f. curve is normalized using explicit choice of ranges 'fit_nll_model_sighist'\n",
      "[#1] INFO:NumericIntegration -- RooRealIntegral::init(model_Int[M(D^{0})]) using numeric integrator RooIntegrator1D to calculate Int(M(D^{0}))\n",
      "[#1] INFO:NumericIntegration -- RooRealIntegral::init(model_Int[M(D^{0})|fit_nll_model_sighist]_Norm[M(D^{0})]) using numeric integrator RooIntegrator1D to calculate Int(M(D^{0}))\n"
     ]
    },
    {
     "name": "stderr",
     "output_type": "stream",
     "text": [
      "Warning in <TCanvas::Constructor>: Deleting canvas with same name: Canvas\n",
      "Info in <TCanvas::Print>: png file phi_massveto_1ab_signal_helicity.png has been created\n"
     ]
    },
    {
     "data": {
      "image/png": "[encoded data removed]",
      "text/plain": [
       "<IPython.core.display.Image object>"
      ]
     },
     "metadata": {},
     "output_type": "display_data"
    }
   ],
   "source": [
    "canv = ROOT.TCanvas(\"Canvas\", \"Canvas\", 700, 640)\n",
    "\n",
    "xlow = ctypes.c_double()\n",
    "ylow = ctypes.c_double()\n",
    "xup = ctypes.c_double()\n",
    "yup = ctypes.c_double()\n",
    "\n",
    "canv.GetPad(0).GetPadPar(xlow, ylow, xup, yup)\n",
    "canv.Divide(1,2)\n",
    "\n",
    "xlow = xlow.value\n",
    "ylow = ylow.value\n",
    "xup = xup.value\n",
    "yup = yup.value\n",
    "\n",
    "upPad = canv.GetPad(1)\n",
    "upPad.SetPad(xlow, ylow+0.25*(yup-ylow),xup,yup)\n",
    "\n",
    "dwPad = canv.GetPad(2)\n",
    "dwPad.SetPad(xlow, ylow,xup,ylow+0.25*(yup-ylow))\n",
    "\n",
    "    \n",
    "sig1 = ROOT.RooGaussian(\"sig1\", \"Signal component 1\", x, mean, sigma1)\n",
    "# sig1 = ROOT.RooJohnson(\"sig1\", \"Signal component 1\", x,mu, para_lambda,gamma,delta)\n",
    "\n",
    "sig2 = ROOT.RooCBShape(\"sig2\", \"Signal component 2\", x, mean, sigma2, alpha, n_CB)\n",
    "# sig3 = ROOT.RooNovosibirsk(\"sig3\", \"Signal component 3\", x, mean, Novo_width, Novo_tail)\n",
    "\n",
    "\n",
    "sig1frac = ROOT.RooRealVar(\"sig1frac\", \"fraction of component 1 in signal\", 0.5, 0.0, 1.0)\n",
    "\n",
    "\n",
    "\n",
    "# model = ROOT.RooCBShape(\"model\", \"Signal component 2\", x, mean, sigma2, alpha, n_CB)\n",
    "\n",
    "# model = ROOT.RooAddPdf(\"model\", \"model\", [sig1, sig2], sig1frac)\n",
    "\n",
    "\n",
    "r = model.fitTo(signalhist,NumCPU=12,Range=fitting_region,PrintLevel=-1, Save=1)\n",
    "\n",
    "r.Print()\n",
    "canv.cd(1) \n",
    "# frame = x.frame(Title=\"D^{0} #rightarrow #bar{K}^{*0} #pi^{0}\")\n",
    "frame = x.frame(Title=\" \")\n",
    "\n",
    "signalhist.plotOn(frame,Name = \"data1\", XErrorSize=0)\n",
    "# \n",
    "# model.plotOn(frame, Name=\"gauss1\", Components=sig1, LineStyle=ROOT.kDashed, LineColor=593)\n",
    "# model.plotOn(frame, Name=\"CB1\", Components=sig2, LineStyle=ROOT.kDashed, LineColor=593)\n",
    "# # sig.plotOn(frame, Name=\"Novo\", Components=sig3, LineStyle=ROOT.kDashed, LineColor=593)\n",
    "\n",
    "model.plotOn(frame, Name=\"fitting\",)\n",
    "\n",
    "\n",
    "# sig.paramOn(frame)\n",
    "frame.GetXaxis().CenterTitle(True)\n",
    "\n",
    "frame.Draw(\"PE\")\n",
    "\n",
    "\n",
    "leg1 = ROOT.TLegend(0.18, 0.75, 0.33, 0.9)\n",
    "leg1.SetFillColor(ROOT.kWhite)\n",
    "# leg1.SetHeader(\"The Legend title\",\"C\")\n",
    "leg1.AddEntry(\"data1\", \"MC\", \"PE\")\n",
    "leg1.AddEntry(\"fitting\", \"fit\", \"l\")\n",
    "leg1.Draw()\n",
    "\n",
    "hpull = frame.pullHist()\n",
    "hpull.SetFillStyle(1001)\n",
    "hpull.SetFillColor(1);\n",
    "for i in range(0,hpull.GetN()):#(int i=0;i<hpull.GetN();++i): \n",
    "    hpull.SetPointError(i,0.0,0.0,0.0,0.0)\n",
    "# pullplot = x.frame(Title(\" \"))\n",
    "pullplot = x.frame()\n",
    "pullplot.SetTitle(\"\")\n",
    "pullplot.addPlotable(hpull,\"BE\")\n",
    "# pullplot.addPlotable(hpull,\"PE\")\n",
    "\n",
    "pullplot.SetYTitle(\"Pull\")\n",
    "pullplot.GetXaxis().SetTitleSize(0)\n",
    "pullplot.GetYaxis().SetTitleSize(0.22)\n",
    "pullplot.GetYaxis().CenterTitle(True)\n",
    "pullplot.GetYaxis().SetTitleOffset(0.2)\n",
    "pullplot.SetMinimum(-4.)\n",
    "pullplot.SetMaximum(4.)\n",
    "pullplot.GetXaxis().SetLabelSize(0.15)\n",
    "pullplot.GetYaxis().SetLabelSize(0.105)\n",
    "canv.cd(2)\n",
    "pullplot.Draw()\n",
    "\n",
    "xmin1 = ctypes.c_double(fitting_region[0])\n",
    "xmax1 = ctypes.c_double(fitting_region[1])\n",
    "# xmin1 = 0.1\n",
    "# xmax1 = 0.18\n",
    "line = ROOT.TLine(xmin1,0.0,xmax1,0.0)\n",
    "line1 = ROOT.TLine(xmin1,3.0,xmax1,3.0)\n",
    "line2 = ROOT.TLine(xmin1,-3.0,xmax1,-3.0)\n",
    "\n",
    "line.SetLineColor(ROOT.kRed)\n",
    "line.SetLineWidth(3)\n",
    "line1.SetLineColor(ROOT.kRed)\n",
    "line2.SetLineColor(ROOT.kRed)\n",
    "line1.SetLineStyle(2)\n",
    "line2.SetLineStyle(2)\n",
    "line.Draw(\"SAME\")\n",
    "line1.Draw(\"SAME\")\n",
    "line2.Draw(\"SAME\")\n",
    "\n",
    "canv.Update()\n",
    "\n",
    "canv.Draw()\n",
    "#canv.SaveAs(\"/media/jykim/T7/saved_plots/fitting/results/phigamma/phi_massveto_1ab_signal.png\")\n",
    "canv.SaveAs(\"phi_massveto_1ab_signal_helicity.png\")\n",
    "\n",
    "# f = ROOT.TFile(\"phig_MC15ri_half1M_signalMC_fitresult.root\", \"RECREATE\")\n",
    "# r.Write(\"phig\")\n",
    "# f.Close()\n"
   ]
  },
  {
   "cell_type": "code",
   "execution_count": null,
   "id": "5070d81f-cd8b-45e2-8702-bdcebb57e663",
   "metadata": {},
   "outputs": [],
   "source": []
  },
  {
   "cell_type": "code",
   "execution_count": null,
   "id": "adb41f1a-dbf8-44b3-b23e-7d6db2104c8d",
   "metadata": {},
   "outputs": [],
   "source": []
  }
 ],
 "metadata": {
  "kernelspec": {
   "display_name": "Python 3 (ipykernel)",
   "language": "python",
   "name": "python3"
  },
  "language_info": {
   "codemirror_mode": {
    "name": "ipython",
    "version": 3
   },
   "file_extension": ".py",
   "mimetype": "text/x-python",
   "name": "python",
   "nbconvert_exporter": "python",
   "pygments_lexer": "ipython3",
   "version": "3.10.5"
  },
  "toc": {
   "base_numbering": 1,
   "nav_menu": {},
   "number_sections": true,
   "sideBar": true,
   "skip_h1_title": false,
   "title_cell": "Table of Contents",
   "title_sidebar": "Contents",
   "toc_cell": false,
   "toc_position": {},
   "toc_section_display": true,
   "toc_window_display": false
  }
 },
 "nbformat": 4,
 "nbformat_minor": 5
}
