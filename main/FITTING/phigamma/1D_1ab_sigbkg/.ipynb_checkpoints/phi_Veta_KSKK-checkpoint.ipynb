{
 "cells": [
  {
   "cell_type": "code",
   "execution_count": 10,
   "id": "3bdbf6d9-8fb7-4849-b476-a1ab02f06744",
   "metadata": {},
   "outputs": [],
   "source": [
    "import ROOT\n",
    "import ctypes"
   ]
  },
  {
   "cell_type": "code",
   "execution_count": 11,
   "id": "ce78010d-d970-4fb0-b2d2-59f1e1572ab3",
   "metadata": {},
   "outputs": [],
   "source": [
    "\n",
    "\n",
    "sig_1ab_file = ROOT.TFile.Open(\"/media/jykim/T7/storage/01_recon/massvetov2_sig_ext_1ab_sigbkg/topo/resultfile/result_phi/standard.root\")\n",
    "signal_1ab_tree = sig_1ab_file.Get(\"phi\")\n"
   ]
  },
  {
   "cell_type": "code",
   "execution_count": 12,
   "id": "4b72551a-ebd4-4a31-82f1-8eef0b26f8bf",
   "metadata": {},
   "outputs": [],
   "source": [
    "# D0_M_TH1F = ROOT.TH1F(\"D0_M_TH1F\",\"D0 mass\",50,1.67,2.06)\n",
    "# D0_M_TH1F = ROOT.TH1F(\"D0_M_TH1F\",\"D0 mass\",50,1.72,1.92)\n",
    "D0_M_TH1F_2 = ROOT.TH1F(\"D0_M_TH1F_2\",\"D0 mass\",50,1.67, 2.06)\n",
    "# D0_M_TH1F_2 = ROOT.TH1F(\"D0_M_TH1F_2\",\"D0 mass\",50,1.67, 1.9)\n"
   ]
  },
  {
   "cell_type": "code",
   "execution_count": 13,
   "id": "3a69e135-44ce-49d2-a4b1-058596ee2bad",
   "metadata": {},
   "outputs": [],
   "source": [
    "def extract_histo(tree, histogram):\n",
    "    for event in tree:\n",
    "        histogram.Fill(event.D0_M)\n",
    "    return histogram"
   ]
  },
  {
   "cell_type": "code",
   "execution_count": 14,
   "id": "180bbf17-769e-4579-bb25-321d03c8a0ae",
   "metadata": {},
   "outputs": [],
   "source": [
    "def apply_cuts(tree, histogram):\n",
    "    for event in tree:\n",
    "        # if event.D0_M > 1.67 and event.D0_M < 2.06:\n",
    "        if event.D0_M > 1.78 and event.D0_M < 1.92:\n",
    "\n",
    "            histogram.Fill(event.D0_M)\n",
    "    return histogram"
   ]
  },
  {
   "cell_type": "code",
   "execution_count": 15,
   "id": "79ebe577-8e50-4749-8933-7eefc08616d3",
   "metadata": {},
   "outputs": [],
   "source": [
    "def extract_signals(tree, histogram):\n",
    "    for event in tree:\n",
    "        # if event.D0_M > 1.67 and event.D0_M < 2.06:\n",
    "        # if event.iCascDcyBrP_Dst_0 ==63 and event.D0_M > 1.67 and event.D0_M < 2.06:\n",
    "        # if (event.iCascDcyBrP_Dst_0 !=0 and event.iCascDcyBrP_Dst_0 !=1) and event.D0_M > 1.67 and event.D0_M < 2.06 and event.Belle2Pi0Veto_75MeV > 0.02:\n",
    "\n",
    "        if (event.iCascDcyBrP_Dst_0 ==7 or event.iCascDcyBrP_Dst_0 ==63 ) and event.D0_M > 1.67 and event.D0_M < 2.06 and event.Belle2Pi0Veto_75MeV > 0.02:\n",
    "        # if (event.iCascDcyBrP_Dst_0 !=0 and event.iCascDcyBrP_Dst_0 !=1 ) and event.D0_M > 1.67 and event.D0_M < 2.06 and event.Belle2Pi0Veto_75MeV > 0.02:\n",
    "\n",
    "            histogram.Fill(event.D0_M)\n",
    "    return histogram"
   ]
  },
  {
   "cell_type": "code",
   "execution_count": 16,
   "id": "740212a9-eb8a-45ef-9b3e-ec4f05cae564",
   "metadata": {},
   "outputs": [],
   "source": [
    "\n",
    "# D0_M_TH1F = apply_cuts(signal_tree, D0_M_TH1F)\n",
    "# c1 = ROOT.TCanvas()\n",
    "# D0_M_TH1F.Draw()\n",
    "# c1.Draw()"
   ]
  },
  {
   "cell_type": "code",
   "execution_count": 17,
   "id": "6db6a69e-2cc6-4a5f-8150-ed65215efbc6",
   "metadata": {},
   "outputs": [
    {
     "data": {
      "image/png": "[encoded data removed]",
      "text/plain": [
       "<IPython.core.display.Image object>"
      ]
     },
     "metadata": {},
     "output_type": "display_data"
    }
   ],
   "source": [
    "\n",
    "D0_M_TH1F_2 = extract_signals(signal_1ab_tree, D0_M_TH1F_2)\n",
    "# D0_M_TH1F_2 = apply_cuts(signal_1ab_tree, D0_M_TH1F_2)\n",
    "\n",
    "c1 = ROOT.TCanvas()\n",
    "D0_M_TH1F_2.Draw()\n",
    "c1.Draw()"
   ]
  },
  {
   "cell_type": "code",
   "execution_count": 18,
   "id": "a93358b9-8ccf-49e0-b0e2-0c9d6085c38c",
   "metadata": {},
   "outputs": [],
   "source": [
    "\n",
    "# D0_M_TH1F_2 = extract_signals(signal_1ab_tree, D0_M_TH1F_2)\n",
    "# # D0_M_TH1F_2 = apply_cuts(signal_1ab_tree, D0_M_TH1F_2)\n",
    "\n",
    "# c1 = ROOT.TCanvas()\n",
    "# D0_M_TH1F_2.Draw()\n",
    "# c1.Draw()"
   ]
  },
  {
   "cell_type": "code",
   "execution_count": 19,
   "id": "6b227194-e200-426a-a720-ecd509f64fe7",
   "metadata": {},
   "outputs": [],
   "source": [
    "\n",
    "# scale_factor = D0_M_TH1F_2.GetEntries()/D0_M_TH1F.GetEntries()"
   ]
  },
  {
   "cell_type": "code",
   "execution_count": 20,
   "id": "cbed22c9-ed4a-476f-8c57-19a7aaab4665",
   "metadata": {},
   "outputs": [],
   "source": [
    "# scale_factor"
   ]
  },
  {
   "cell_type": "code",
   "execution_count": 21,
   "id": "07856c14-3fbb-45dd-b69c-ef1a94ebc3a9",
   "metadata": {},
   "outputs": [],
   "source": [
    "fitting_region = (1.67, 2.06)\n",
    "x = ROOT.RooRealVar(\"M(D^{0})\", \"M(D^{0}) [GeV/c^{2}]\", fitting_region[0], fitting_region[1], \"\")\n",
    "# x.setBins(50)\n",
    "l = ROOT.RooArgList(x)\n",
    "# signalhist = ROOT.RooDataHist(\"sighist\", \"sighist\", l, D0_M_TH1F, scale_factor)\n",
    "signalhist = ROOT.RooDataHist(\"sighist\", \"sighist\", l, D0_M_TH1F_2, 1)\n"
   ]
  },
  {
   "cell_type": "code",
   "execution_count": 22,
   "id": "81461404-b419-43dc-b0a9-5a8ab1a4544b",
   "metadata": {},
   "outputs": [],
   "source": [
    "\n",
    "mean = ROOT.RooRealVar(\"mean\", \"mean of gaussians\", 1.84,1.83, 1.86)\n",
    "sigma1 = ROOT.RooRealVar(\"sigma1\", \"width of gaussians\", 0.03,0,0.5)\n",
    "# sigma2 = ROOT.RooRealVar(\"sigma2\", \"width of gaussians\", 0.02,0,0.5)\n",
    "# alpha = ROOT.RooRealVar(\"alpha\", \"width of gaussians\", 0.5,0,2)\n",
    "# n_CB = ROOT.RooRealVar(\"n_CB\", \"width of gaussians\", 5,0,10)\n",
    "\n",
    "# x_bkg2_c0 = ROOT.RooRealVar(\"x_bkg2_c0\", \"c0\",0.2, -1,1)\n",
    "# x_bkg2_c1 = ROOT.RooRealVar(\"x_bkg2_c1\", \"c1\",0.2, -1,1)\n",
    "\n",
    "# Novo_peak = ROOT.RooRealVar(\"Novo_peak\", \"Novo peak\", 1.83,1.67,1.93)    \n",
    "# Novo_width = ROOT.RooRealVar(\"Novo_widh\", \"Novo peak\", 0.05,0,0.5)    \n",
    "# Novo_tail = ROOT.RooRealVar(\"Novo_tail\", \"Novo peak\", 0.5,0,10)    \n",
    "\n",
    "\n"
   ]
  },
  {
   "cell_type": "code",
   "execution_count": 168,
   "id": "32658f60-999f-40d5-9109-803d213b55ed",
   "metadata": {},
   "outputs": [
    {
     "name": "stdout",
     "output_type": "stream",
     "text": [
      "[#1] INFO:Eval -- RooRealVar::setRange(M(D^{0})) new range named 'fit' created with bounds [1.67,2.06]\n",
      "[#1] INFO:Minimization -- RooAbsMinimizerFcn::setOptimizeConst: activating const optimization\n",
      "[#1] INFO:Fitting -- RooAbsOptTestStatistic::ctor(nll_model_sighist) constructing test statistic for sub-range named fit\n",
      "[#1] INFO:Eval -- RooRealVar::setRange(M(D^{0})) new range named 'NormalizationRangeForfit' created with bounds [1.67,2.06]\n",
      "[#1] INFO:Eval -- RooRealVar::setRange(M(D^{0})) new range named 'fit_nll_model_sighist' created with bounds [1.67,2.06]\n",
      "[#1] INFO:Fitting -- RooAbsOptTestStatistic::ctor(nll_model_sighist) fixing interpretation of coefficients of any RooAddPdf to full domain of observables \n",
      "[#1] INFO:Eval -- RooAbsTestStatistic::initMPMode: started 12 remote server process.\n",
      "RooAbsMinimizerFcn: Minimized function has error status.\n",
      "Returning maximum FCN so far (-695.2) to force MIGRAD to back out of this region. Error log follows.\n",
      "Parameter values: \tx_bkg2_c0=-0.920936\tx_bkg2_c1=0.2\n",
      "PID26496/RooRealMPFE::nll_model_sighist_55911de321b0_MPFE11[ arg=nll_model_sighist_GOF11 vars=(x_bkg2_c0,x_bkg2_c1) ]\n",
      "     p.d.f normalization integral is zero or negative: -0.007552 @ x=M(D^{0})=1.6739, coefList=(x_bkg2_c0 = -0.920936,x_bkg2_c1 = 0.2)\n",
      "     getLogVal() top-level p.d.f evaluates to NaN @ x=M(D^{0})=1.6739, coefList=(x_bkg2_c0 = -0.920936,x_bkg2_c1 = 0.2)\n",
      "     p.d.f normalization integral is zero or negative: -0.007552 @ x=M(D^{0})=1.6817, coefList=(x_bkg2_c0 = -0.920936,x_bkg2_c1 = 0.2)\n",
      "     getLogVal() top-level p.d.f evaluates to NaN @ x=M(D^{0})=1.6817, coefList=(x_bkg2_c0 = -0.920936,x_bkg2_c1 = 0.2)\n",
      "     p.d.f normalization integral is zero or negative: -0.007552 @ x=M(D^{0})=1.6895, coefList=(x_bkg2_c0 = -0.920936,x_bkg2_c1 = 0.2)\n",
      "     getLogVal() top-level p.d.f evaluates to NaN @ x=M(D^{0})=1.6895, coefList=(x_bkg2_c0 = -0.920936,x_bkg2_c1 = 0.2)\n",
      "     p.d.f normalization integral is zero or negative: -0.007552 @ x=M(D^{0})=1.6973, coefList=(x_bkg2_c0 = -0.920936,x_bkg2_c1 = 0.2)\n",
      "     getLogVal() top-level p.d.f evaluates to NaN @ x=M(D^{0})=1.6973, coefList=(x_bkg2_c0 = -0.920936,x_bkg2_c1 = 0.2)\n",
      "     p.d.f normalization integral is zero or negative: -0.007552 @ x=M(D^{0})=1.6739, coefList=(x_bkg2_c0 = -0.920936,x_bkg2_c1 = 0.2)\n",
      "     getLogVal() top-level p.d.f evaluates to NaN @ x=M(D^{0})=1.6739, coefList=(x_bkg2_c0 = -0.920936,x_bkg2_c1 = 0.2)\n",
      "     p.d.f normalization integral is zero or negative: -0.007552 @ x=M(D^{0})=1.6817, coefList=(x_bkg2_c0 = -0.920936,x_bkg2_c1 = 0.2)\n",
      "     getLogVal() top-level p.d.f evaluates to NaN @ x=M(D^{0})=1.6817, coefList=(x_bkg2_c0 = -0.920936,x_bkg2_c1 = 0.2)\n",
      "    ... (remaining 190 messages suppressed)\n",
      "RooNLLVar::nll_model_sighist[ paramSet=(x_bkg2_c0,x_bkg2_c1) ]\n",
      "     function value is NAN @ paramSet=(x_bkg2_c0 = -0.920936,x_bkg2_c1 = 0.2)\n",
      "\n",
      "RooAbsMinimizerFcn: Minimized function has error status.\n",
      "Returning maximum FCN so far (-695.2) to force MIGRAD to back out of this region. Error log follows.\n",
      "Parameter values: \tx_bkg2_c0=-0.920737\tx_bkg2_c1=0.2\n",
      "PID26496/RooRealMPFE::nll_model_sighist_55911de321b0_MPFE11[ arg=nll_model_sighist_GOF11 vars=(x_bkg2_c0,x_bkg2_c1) ]\n",
      "     p.d.f normalization integral is zero or negative: -0.007408 @ x=M(D^{0})=1.6739, coefList=(x_bkg2_c0 = -0.920737,x_bkg2_c1 = 0.2)\n",
      "     getLogVal() top-level p.d.f evaluates to NaN @ x=M(D^{0})=1.6739, coefList=(x_bkg2_c0 = -0.920737,x_bkg2_c1 = 0.2)\n",
      "     p.d.f normalization integral is zero or negative: -0.007408 @ x=M(D^{0})=1.6817, coefList=(x_bkg2_c0 = -0.920737,x_bkg2_c1 = 0.2)\n",
      "     getLogVal() top-level p.d.f evaluates to NaN @ x=M(D^{0})=1.6817, coefList=(x_bkg2_c0 = -0.920737,x_bkg2_c1 = 0.2)\n",
      "     p.d.f normalization integral is zero or negative: -0.007408 @ x=M(D^{0})=1.6895, coefList=(x_bkg2_c0 = -0.920737,x_bkg2_c1 = 0.2)\n",
      "     getLogVal() top-level p.d.f evaluates to NaN @ x=M(D^{0})=1.6895, coefList=(x_bkg2_c0 = -0.920737,x_bkg2_c1 = 0.2)\n",
      "     p.d.f normalization integral is zero or negative: -0.007408 @ x=M(D^{0})=1.6973, coefList=(x_bkg2_c0 = -0.920737,x_bkg2_c1 = 0.2)\n",
      "     getLogVal() top-level p.d.f evaluates to NaN @ x=M(D^{0})=1.6973, coefList=(x_bkg2_c0 = -0.920737,x_bkg2_c1 = 0.2)\n",
      "     p.d.f normalization integral is zero or negative: -0.007408 @ x=M(D^{0})=1.6739, coefList=(x_bkg2_c0 = -0.920737,x_bkg2_c1 = 0.2)\n",
      "     getLogVal() top-level p.d.f evaluates to NaN @ x=M(D^{0})=1.6739, coefList=(x_bkg2_c0 = -0.920737,x_bkg2_c1 = 0.2)\n",
      "     p.d.f normalization integral is zero or negative: -0.007408 @ x=M(D^{0})=1.6817, coefList=(x_bkg2_c0 = -0.920737,x_bkg2_c1 = 0.2)\n",
      "     getLogVal() top-level p.d.f evaluates to NaN @ x=M(D^{0})=1.6817, coefList=(x_bkg2_c0 = -0.920737,x_bkg2_c1 = 0.2)\n",
      "    ... (remaining 190 messages suppressed)\n",
      "RooNLLVar::nll_model_sighist[ paramSet=(x_bkg2_c0,x_bkg2_c1) ]\n",
      "     function value is NAN @ paramSet=(x_bkg2_c0 = -0.920737,x_bkg2_c1 = 0.2)\n",
      "\n",
      "RooAbsMinimizerFcn: Minimized function has error status.\n",
      "Returning maximum FCN so far (-695.2) to force MIGRAD to back out of this region. Error log follows.\n",
      "Parameter values: \tx_bkg2_c0=-0.920539\tx_bkg2_c1=0.2\n",
      "PID26496/RooRealMPFE::nll_model_sighist_55911de321b0_MPFE11[ arg=nll_model_sighist_GOF11 vars=(x_bkg2_c0,x_bkg2_c1) ]\n",
      "     p.d.f normalization integral is zero or negative: -0.007264 @ x=M(D^{0})=1.6739, coefList=(x_bkg2_c0 = -0.920539,x_bkg2_c1 = 0.2)\n",
      "     getLogVal() top-level p.d.f evaluates to NaN @ x=M(D^{0})=1.6739, coefList=(x_bkg2_c0 = -0.920539,x_bkg2_c1 = 0.2)\n",
      "     p.d.f normalization integral is zero or negative: -0.007264 @ x=M(D^{0})=1.6817, coefList=(x_bkg2_c0 = -0.920539,x_bkg2_c1 = 0.2)\n",
      "     getLogVal() top-level p.d.f evaluates to NaN @ x=M(D^{0})=1.6817, coefList=(x_bkg2_c0 = -0.920539,x_bkg2_c1 = 0.2)\n",
      "     p.d.f normalization integral is zero or negative: -0.007264 @ x=M(D^{0})=1.6895, coefList=(x_bkg2_c0 = -0.920539,x_bkg2_c1 = 0.2)\n",
      "     getLogVal() top-level p.d.f evaluates to NaN @ x=M(D^{0})=1.6895, coefList=(x_bkg2_c0 = -0.920539,x_bkg2_c1 = 0.2)\n",
      "     p.d.f normalization integral is zero or negative: -0.007264 @ x=M(D^{0})=1.6973, coefList=(x_bkg2_c0 = -0.920539,x_bkg2_c1 = 0.2)\n",
      "     getLogVal() top-level p.d.f evaluates to NaN @ x=M(D^{0})=1.6973, coefList=(x_bkg2_c0 = -0.920539,x_bkg2_c1 = 0.2)\n",
      "     p.d.f normalization integral is zero or negative: -0.007264 @ x=M(D^{0})=1.6739, coefList=(x_bkg2_c0 = -0.920539,x_bkg2_c1 = 0.2)\n",
      "     getLogVal() top-level p.d.f evaluates to NaN @ x=M(D^{0})=1.6739, coefList=(x_bkg2_c0 = -0.920539,x_bkg2_c1 = 0.2)\n",
      "     p.d.f normalization integral is zero or negative: -0.007264 @ x=M(D^{0})=1.6817, coefList=(x_bkg2_c0 = -0.920539,x_bkg2_c1 = 0.2)\n",
      "     getLogVal() top-level p.d.f evaluates to NaN @ x=M(D^{0})=1.6817, coefList=(x_bkg2_c0 = -0.920539,x_bkg2_c1 = 0.2)\n",
      "    ... (remaining 190 messages suppressed)\n",
      "RooNLLVar::nll_model_sighist[ paramSet=(x_bkg2_c0,x_bkg2_c1) ]\n",
      "     function value is NAN @ paramSet=(x_bkg2_c0 = -0.920539,x_bkg2_c1 = 0.2)\n",
      "\n",
      "RooAbsMinimizerFcn: Minimized function has error status.\n",
      "Returning maximum FCN so far (-695.2) to force MIGRAD to back out of this region. Error log follows.\n",
      "Parameter values: \tx_bkg2_c0=-0.92034\tx_bkg2_c1=0.2\n",
      "PID26496/RooRealMPFE::nll_model_sighist_55911de321b0_MPFE11[ arg=nll_model_sighist_GOF11 vars=(x_bkg2_c0,x_bkg2_c1) ]\n",
      "     p.d.f normalization integral is zero or negative: -0.007119 @ x=M(D^{0})=1.6739, coefList=(x_bkg2_c0 = -0.92034,x_bkg2_c1 = 0.2)\n",
      "     getLogVal() top-level p.d.f evaluates to NaN @ x=M(D^{0})=1.6739, coefList=(x_bkg2_c0 = -0.92034,x_bkg2_c1 = 0.2)\n",
      "     p.d.f normalization integral is zero or negative: -0.007119 @ x=M(D^{0})=1.6817, coefList=(x_bkg2_c0 = -0.92034,x_bkg2_c1 = 0.2)\n",
      "     getLogVal() top-level p.d.f evaluates to NaN @ x=M(D^{0})=1.6817, coefList=(x_bkg2_c0 = -0.92034,x_bkg2_c1 = 0.2)\n",
      "     p.d.f normalization integral is zero or negative: -0.007119 @ x=M(D^{0})=1.6895, coefList=(x_bkg2_c0 = -0.92034,x_bkg2_c1 = 0.2)\n",
      "     getLogVal() top-level p.d.f evaluates to NaN @ x=M(D^{0})=1.6895, coefList=(x_bkg2_c0 = -0.92034,x_bkg2_c1 = 0.2)\n",
      "     p.d.f normalization integral is zero or negative: -0.007119 @ x=M(D^{0})=1.6973, coefList=(x_bkg2_c0 = -0.92034,x_bkg2_c1 = 0.2)\n",
      "     getLogVal() top-level p.d.f evaluates to NaN @ x=M(D^{0})=1.6973, coefList=(x_bkg2_c0 = -0.92034,x_bkg2_c1 = 0.2)\n",
      "     p.d.f normalization integral is zero or negative: -0.007119 @ x=M(D^{0})=1.6739, coefList=(x_bkg2_c0 = -0.92034,x_bkg2_c1 = 0.2)\n",
      "     getLogVal() top-level p.d.f evaluates to NaN @ x=M(D^{0})=1.6739, coefList=(x_bkg2_c0 = -0.92034,x_bkg2_c1 = 0.2)\n",
      "     p.d.f normalization integral is zero or negative: -0.007119 @ x=M(D^{0})=1.6817, coefList=(x_bkg2_c0 = -0.92034,x_bkg2_c1 = 0.2)\n",
      "     getLogVal() top-level p.d.f evaluates to NaN @ x=M(D^{0})=1.6817, coefList=(x_bkg2_c0 = -0.92034,x_bkg2_c1 = 0.2)\n",
      "    ... (remaining 190 messages suppressed)\n",
      "RooNLLVar::nll_model_sighist[ paramSet=(x_bkg2_c0,x_bkg2_c1) ]\n",
      "     function value is NAN @ paramSet=(x_bkg2_c0 = -0.92034,x_bkg2_c1 = 0.2)\n",
      "\n",
      "RooAbsMinimizerFcn: Minimized function has error status.\n",
      "Returning maximum FCN so far (-695.2) to force MIGRAD to back out of this region. Error log follows.\n",
      "Parameter values: \tx_bkg2_c0=-0.885825\tx_bkg2_c1=0.193319\n",
      "PID26496/RooRealMPFE::nll_model_sighist_55911de321b0_MPFE11[ arg=nll_model_sighist_GOF11 vars=(x_bkg2_c0,x_bkg2_c1) ]\n",
      "     p.d.f value is less than zero (-0.000243), trying to recover @ x=M(D^{0})=2.0171, coefList=(x_bkg2_c0 = -0.885825,x_bkg2_c1 = 0.193319)\n",
      "     getLogVal() top-level p.d.f evaluates to NaN @ x=M(D^{0})=2.0171, coefList=(x_bkg2_c0 = -0.885825,x_bkg2_c1 = 0.193319)\n",
      "     p.d.f value is less than zero (-0.000243), trying to recover @ x=M(D^{0})=2.0171, coefList=(x_bkg2_c0 = -0.885825,x_bkg2_c1 = 0.193319)\n",
      "     getLogVal() top-level p.d.f evaluates to NaN @ x=M(D^{0})=2.0171, coefList=(x_bkg2_c0 = -0.885825,x_bkg2_c1 = 0.193319)\n",
      "     p.d.f value is less than zero (-0.001058), trying to recover @ x=M(D^{0})=2.0249, coefList=(x_bkg2_c0 = -0.885825,x_bkg2_c1 = 0.193319)\n",
      "     getLogVal() top-level p.d.f evaluates to NaN @ x=M(D^{0})=2.0249, coefList=(x_bkg2_c0 = -0.885825,x_bkg2_c1 = 0.193319)\n",
      "     p.d.f value is less than zero (-0.001849), trying to recover @ x=M(D^{0})=2.0327, coefList=(x_bkg2_c0 = -0.885825,x_bkg2_c1 = 0.193319)\n",
      "     getLogVal() top-level p.d.f evaluates to NaN @ x=M(D^{0})=2.0327, coefList=(x_bkg2_c0 = -0.885825,x_bkg2_c1 = 0.193319)\n",
      "     p.d.f value is less than zero (-0.002617), trying to recover @ x=M(D^{0})=2.0405, coefList=(x_bkg2_c0 = -0.885825,x_bkg2_c1 = 0.193319)\n",
      "     getLogVal() top-level p.d.f evaluates to NaN @ x=M(D^{0})=2.0405, coefList=(x_bkg2_c0 = -0.885825,x_bkg2_c1 = 0.193319)\n",
      "     p.d.f value is less than zero (-0.003361), trying to recover @ x=M(D^{0})=2.0483, coefList=(x_bkg2_c0 = -0.885825,x_bkg2_c1 = 0.193319)\n",
      "     getLogVal() top-level p.d.f evaluates to NaN @ x=M(D^{0})=2.0483, coefList=(x_bkg2_c0 = -0.885825,x_bkg2_c1 = 0.193319)\n",
      "    ... (remaining 14 messages suppressed)\n",
      "RooNLLVar::nll_model_sighist[ paramSet=(x_bkg2_c0,x_bkg2_c1) ]\n",
      "     function value is NAN @ paramSet=(x_bkg2_c0 = -0.885825,x_bkg2_c1 = 0.193319)\n",
      "\n",
      "[#1] INFO:Minimization -- RooAbsMinimizerFcn::setOptimizeConst: deactivating const optimization\n",
      "\n",
      "  RooFitResult: minimized FCN value: -726.52, estimated distance to minimum: 4.57073e-05\n",
      "                covariance matrix quality: Full, accurate covariance matrix\n",
      "                Status : MINIMIZE=0 HESSE=0 \n",
      "\n",
      "    Floating Parameter    FinalValue +/-  Error   \n",
      "  --------------------  --------------------------\n",
      "             x_bkg2_c0    8.3019e-01 +/-  4.23e-01\n",
      "             x_bkg2_c1   -5.5765e-01 +/-  2.11e-01\n",
      "\n",
      "[#1] INFO:Plotting -- RooAbsPdf::plotOn(model) p.d.f was fitted in a subrange and no explicit Range() and NormRange() was specified. Plotting / normalising in fit range. To override, do one of the following\n",
      "\t- Clear the automatic fit range attribute: <pdf>.setStringAttribute(\"fitrange\", nullptr);\n",
      "\t- Explicitly specify the plotting range: Range(\"<rangeName>\").\n",
      "\t- Explicitly specify where to compute the normalisation: NormRange(\"<rangeName>\").\n",
      "\tThe default (full) range can be denoted with Range(\"\") / NormRange(\"\").\n",
      "[#1] INFO:Plotting -- RooAbsPdf::plotOn(model) only plotting range 'fit_nll_model_sighist'\n",
      "[#1] INFO:Plotting -- RooAbsPdf::plotOn(model) p.d.f. curve is normalized using explicit choice of ranges 'fit_nll_model_sighist'\n"
     ]
    },
    {
     "name": "stderr",
     "output_type": "stream",
     "text": [
      "Warning in <TCanvas::Constructor>: Deleting canvas with same name: Canvas\n",
      "Info in <TCanvas::Print>: png file test.png has been created\n"
     ]
    },
    {
     "data": {
      "image/png": "[encoded data removed]",
      "text/plain": [
       "<IPython.core.display.Image object>"
      ]
     },
     "metadata": {},
     "output_type": "display_data"
    }
   ],
   "source": [
    "canv = ROOT.TCanvas(\"Canvas\", \"Canvas\", 700, 640)\n",
    "\n",
    "xlow = ctypes.c_double()\n",
    "ylow = ctypes.c_double()\n",
    "xup = ctypes.c_double()\n",
    "yup = ctypes.c_double()\n",
    "\n",
    "canv.GetPad(0).GetPadPar(xlow, ylow, xup, yup)\n",
    "canv.Divide(1,2)\n",
    "\n",
    "xlow = xlow.value\n",
    "ylow = ylow.value\n",
    "xup = xup.value\n",
    "yup = yup.value\n",
    "\n",
    "upPad = canv.GetPad(1)\n",
    "upPad.SetPad(xlow, ylow+0.25*(yup-ylow),xup,yup)\n",
    "\n",
    "dwPad = canv.GetPad(2)\n",
    "dwPad.SetPad(xlow, ylow,xup,ylow+0.25*(yup-ylow))\n",
    "\n",
    "    \n",
    "# sig1 = ROOT.RooGaussian(\"sig1\", \"Signal component 1\", x, mean, sigma1)\n",
    "# sig2 = ROOT.RooCBShape(\"sig2\", \"Signal component 2\", x, mean, sigma2, alpha, n_CB)\n",
    "# # sig3 = ROOT.RooNovosibirsk(\"sig3\", \"Signal component 3\", x, mean, Novo_width, Novo_tail)\n",
    "\n",
    "\n",
    "# sig1frac = ROOT.RooRealVar(\"sig1frac\", \"fraction of component 1 in signal\", 0.5, 0.0, 1.0)\n",
    "\n",
    "\n",
    "\n",
    "# model = ROOT.RooCBShape(\"model\", \"Signal component 2\", x, mean, sigma2, alpha, n_CB)\n",
    "# model = ROOT.RooAddPdf(\"model\", \"model\", [sig1, sig2], sig1frac)\n",
    "\n",
    "model = ROOT.RooPolynomial(\"model\", \"Signal component 1\", x, ROOT.RooArgList(x_bkg2_c0, x_bkg2_c1))\n",
    "\n",
    "\n",
    "r = model.fitTo(signalhist,NumCPU=12,Range=fitting_region,PrintLevel=-1, Save=1)\n",
    "\n",
    "r.Print()\n",
    "canv.cd(1) \n",
    "# frame = x.frame(Title=\"D^{0} #rightarrow #bar{K}^{*0} #pi^{0}\")\n",
    "frame = x.frame(Title=\" \")\n",
    "\n",
    "signalhist.plotOn(frame,Name = \"data1\", XErrorSize=0)\n",
    "\n",
    "# model.plotOn(frame, Name=\"gauss1\", Components=sig1, LineStyle=ROOT.kDashed, LineColor=593)\n",
    "# model.plotOn(frame, Name=\"CB1\", Components=sig2, LineStyle=ROOT.kDashed, LineColor=593)\n",
    "# sig.plotOn(frame, Name=\"Novo\", Components=sig3, LineStyle=ROOT.kDashed, LineColor=593)\n",
    "\n",
    "model.plotOn(frame, Name=\"fitting\",)\n",
    "\n",
    "\n",
    "# sig.paramOn(frame)\n",
    "frame.GetXaxis().SetTitleSize(0.047)\n",
    "frame.GetXaxis().CenterTitle(True)\n",
    "frame.GetYaxis().SetTitleSize(0.04)\n",
    "frame.GetYaxis().SetTitleOffset(1.2)\n",
    "frame.Draw(\"PE\")\n",
    "\n",
    "\n",
    "leg1 = ROOT.TLegend(0.75, 0.75, 0.9, 0.9)\n",
    "leg1.SetFillColor(ROOT.kWhite)\n",
    "# leg1.SetHeader(\"The Legend title\",\"C\")\n",
    "leg1.AddEntry(\"data1\", \"MC\", \"PE\")\n",
    "leg1.AddEntry(\"fitting\", \"fit\", \"l\")\n",
    "leg1.Draw()\n",
    "\n",
    "hpull = frame.pullHist()\n",
    "hpull.SetFillStyle(1001)\n",
    "hpull.SetFillColor(1);\n",
    "for i in range(0,hpull.GetN()):#(int i=0;i<hpull.GetN();++i): \n",
    "    hpull.SetPointError(i,0.0,0.0,0.0,0.0)\n",
    "# pullplot = x.frame(Title(\" \"))\n",
    "pullplot = x.frame()\n",
    "pullplot.SetTitle(\"\")\n",
    "pullplot.addPlotable(hpull,\"BE\")\n",
    "# pullplot.addPlotable(hpull,\"PE\")\n",
    "\n",
    "pullplot.SetYTitle(\"Pull\")\n",
    "pullplot.GetXaxis().SetTitleSize(0)\n",
    "pullplot.GetYaxis().SetTitleSize(0.17)\n",
    "pullplot.GetYaxis().CenterTitle(True)\n",
    "pullplot.GetYaxis().SetTitleOffset(0.2)\n",
    "pullplot.SetMinimum(-4.)\n",
    "pullplot.SetMaximum(4.)\n",
    "pullplot.GetXaxis().SetLabelSize(0.1)\n",
    "pullplot.GetYaxis().SetLabelSize(0.09)\n",
    "canv.cd(2)\n",
    "pullplot.Draw()\n",
    "\n",
    "xmin1 = ctypes.c_double(fitting_region[0])\n",
    "xmax1 = ctypes.c_double(fitting_region[1])\n",
    "# xmin1 = 0.1\n",
    "# xmax1 = 0.18\n",
    "line = ROOT.TLine(xmin1,0.0,xmax1,0.0)\n",
    "line1 = ROOT.TLine(xmin1,3.0,xmax1,3.0)\n",
    "line2 = ROOT.TLine(xmin1,-3.0,xmax1,-3.0)\n",
    "\n",
    "line.SetLineColor(ROOT.kRed)\n",
    "line.SetLineWidth(3)\n",
    "line1.SetLineColor(ROOT.kRed)\n",
    "line2.SetLineColor(ROOT.kRed)\n",
    "line1.SetLineStyle(2)\n",
    "line2.SetLineStyle(2)\n",
    "line.Draw(\"SAME\")\n",
    "line1.Draw(\"SAME\")\n",
    "line2.Draw(\"SAME\")\n",
    "\n",
    "canv.Update()\n",
    "\n",
    "canv.Draw()\n",
    "# canv.SaveAs(\"/media/jykim/T7/saved_plots/fitting/results/phigamma/phi_massveto_1ab_Vpi0.png\")\n",
    "canv.SaveAs(\"test.png\")\n",
    "\n",
    "f = ROOT.TFile(\"phig_signalMC_fitresult.root\", \"RECREATE\")\n",
    "r.Write(\"phig_sig\")\n",
    "f.Close()\n"
   ]
  },
  {
   "cell_type": "code",
   "execution_count": 169,
   "id": "35ffd040-f571-4a12-bcd2-5df6cec6c76e",
   "metadata": {},
   "outputs": [
    {
     "name": "stdout",
     "output_type": "stream",
     "text": [
      "0x55911de32ce0 RooPolynomial::model = 0.608685 [Auto,Dirty] \n",
      "  0x55911d000880/V- RooRealVar::M(D^{0}) = 1.865\n",
      "  0x559120a8fe20/V- RooRealVar::x_bkg2_c0 = 0.830195 +/- 0.422904\n",
      "  0x5591192cf6e0/V- RooRealVar::x_bkg2_c1 = -0.557649 +/- 0.210591\n"
     ]
    }
   ],
   "source": [
    "model.Print(\"t\")"
   ]
  },
  {
   "cell_type": "code",
   "execution_count": 170,
   "id": "43ffc56d-f01f-49c7-96d3-6e55a2bd4819",
   "metadata": {},
   "outputs": [],
   "source": [
    "f = ROOT.TFile.Open(\"phig_signalMC_fitresult.root\")\n",
    "r2 = ROOT.gDirectory.Get(\"phig_sig\")\n",
    "f.Close()\n"
   ]
  },
  {
   "cell_type": "code",
   "execution_count": 171,
   "id": "e449db02-3a12-4028-a58f-1daa29df377e",
   "metadata": {},
   "outputs": [
    {
     "name": "stdout",
     "output_type": "stream",
     "text": [
      "\n",
      "  RooFitResult: minimized FCN value: -726.52, estimated distance to minimum: 4.57073e-05\n",
      "                covariance matrix quality: Full, accurate covariance matrix\n",
      "                Status : MINIMIZE=0 HESSE=0 \n",
      "\n",
      "    Floating Parameter    FinalValue +/-  Error   \n",
      "  --------------------  --------------------------\n",
      "             x_bkg2_c0    8.3019e-01 +/-  4.23e-01\n",
      "             x_bkg2_c1   -5.5765e-01 +/-  2.11e-01\n",
      "\n"
     ]
    }
   ],
   "source": [
    "r2.Print()"
   ]
  },
  {
   "cell_type": "code",
   "execution_count": 172,
   "id": "b612badd-87c1-47fd-bb71-12982c4377b0",
   "metadata": {},
   "outputs": [
    {
     "data": {
      "text/plain": [
       "-0.9970214567336723"
      ]
     },
     "execution_count": 172,
     "metadata": {},
     "output_type": "execute_result"
    }
   ],
   "source": [
    "r2.correlation(\"x_bkg2_c0\",\"x_bkg2_c1\")"
   ]
  },
  {
   "cell_type": "code",
   "execution_count": 173,
   "id": "a81b463a-ffdb-4e4d-a472-7d01dccfa76d",
   "metadata": {},
   "outputs": [
    {
     "data": {
      "text/plain": [
       "4.570729490634075e-05"
      ]
     },
     "execution_count": 173,
     "metadata": {},
     "output_type": "execute_result"
    }
   ],
   "source": [
    "r2.edm()"
   ]
  },
  {
   "cell_type": "code",
   "execution_count": 174,
   "id": "405e4318-7ba2-4362-acae-6d90a363da53",
   "metadata": {},
   "outputs": [
    {
     "data": {
      "text/plain": [
       "<cppyy.gbl.TMatrixTSym<double> object at 0x55911d930f10>"
      ]
     },
     "execution_count": 174,
     "metadata": {},
     "output_type": "execute_result"
    }
   ],
   "source": [
    "r2.correlationMatrix()"
   ]
  },
  {
   "cell_type": "code",
   "execution_count": null,
   "id": "9f00b952-6846-4425-a62e-a7d87405471b",
   "metadata": {},
   "outputs": [],
   "source": []
  }
 ],
 "metadata": {
  "kernelspec": {
   "display_name": "Python 3 (ipykernel)",
   "language": "python",
   "name": "python3"
  },
  "language_info": {
   "codemirror_mode": {
    "name": "ipython",
    "version": 3
   },
   "file_extension": ".py",
   "mimetype": "text/x-python",
   "name": "python",
   "nbconvert_exporter": "python",
   "pygments_lexer": "ipython3",
   "version": "3.10.5"
  }
 },
 "nbformat": 4,
 "nbformat_minor": 5
}
