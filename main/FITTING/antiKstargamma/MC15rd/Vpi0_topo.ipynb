{
 "cells": [
  {
   "cell_type": "code",
   "execution_count": 23,
   "id": "38addbab-8869-4300-ac37-453d6c93964f",
   "metadata": {},
   "outputs": [
    {
     "name": "stdout",
     "output_type": "stream",
     "text": [
      "The autoreload extension is already loaded. To reload it, use:\n",
      "  %reload_ext autoreload\n"
     ]
    }
   ],
   "source": [
    "%matplotlib inline\n",
    "%load_ext autoreload\n",
    "%autoreload 2\n",
    "import seaborn as sns\n",
    "import numpy as np\n",
    "import pandas as pd\n",
    "import matplotlib.pyplot as plt\n",
    "import ROOT\n",
    "import ctypes\n",
    "import glob\n",
    "try:\n",
    "#     plt.style.use('belle2')\n",
    "    plt.style.use('belle2_serif')\n",
    "#     plt.style.use('belle2_modern')\n",
    "except OSError:\n",
    "    print(\"Please install belle2 matplotlib style\")   \n",
    "px = 1/plt.rcParams['figure.dpi']\n",
    "\n",
    "from main.data_tools.extract_ntuples import get_pd, get_np"
   ]
  },
  {
   "cell_type": "code",
   "execution_count": 2,
   "id": "00260ce9-2eef-43fa-88cb-7dd46a065b77",
   "metadata": {},
   "outputs": [
    {
     "name": "stdout",
     "output_type": "stream",
     "text": [
      "\n",
      "Applying BELLE2 style settings...\n"
     ]
    }
   ],
   "source": [
    "ROOT.gROOT.LoadMacro('/home/jykim/workspace/DRAW_and_FITTING/main/Belle2Style.C')\n",
    "ROOT.SetBelle2Style()"
   ]
  },
  {
   "cell_type": "code",
   "execution_count": 47,
   "id": "6c0484e6-07e8-4ca5-a8c4-b68e32fac43d",
   "metadata": {},
   "outputs": [],
   "source": [
    "mychain = ROOT.TChain(\"antiKstar\")\n",
    "# file_list = [\"/media/jykim/T7_2/storage/Ntuples_ghi_2/MC15rd/MC15rd_Vg_preext_maxFBDT_2ndFBDT/ccbar/*.root\"]\n",
    "file_list = glob.glob(\"/media/jykim/T7_2/storage/Ntuples_ghi_2/MC15rd/MC15rd_Vg_sigext_maxFBDT_2ndFBDT/topo/resultfile/result_antiKstar/*.root\")\n",
    "\n",
    "# adding_file_list = glob.glob(\"/media/jykim/T7_2/storage/Ntuples_ghi_2/MC15rd/MC15rd_Vg_preext_maxFBDT_2ndFBDT/topo/*.root\")\n",
    "\n",
    "# for i in range(len(adding_file_list)):\n",
    "    # adding_file_list[i] += '/phi_cc'\n",
    "\n",
    "# file_list += adding_file_list\n",
    "    \n",
    "for i in file_list:\n",
    "    mychain.Add(i)"
   ]
  },
  {
   "cell_type": "code",
   "execution_count": 48,
   "id": "4149e7d4-c8fb-4e08-9f4c-3c219e68a147",
   "metadata": {},
   "outputs": [
    {
     "data": {
      "text/plain": [
       "['/media/jykim/T7_2/storage/Ntuples_ghi_2/MC15rd/MC15rd_Vg_sigext_maxFBDT_2ndFBDT/topo/resultfile/result_antiKstar/standard.root']"
      ]
     },
     "execution_count": 48,
     "metadata": {},
     "output_type": "execute_result"
    }
   ],
   "source": [
    "file_list"
   ]
  },
  {
   "cell_type": "code",
   "execution_count": 49,
   "id": "2b93ff76-3623-4af0-bc3c-742eaeaeae1f",
   "metadata": {},
   "outputs": [],
   "source": [
    "yrange = (-1, 1)\n",
    "x = ROOT.RooRealVar(\"D0_M\", \"M(D^{0}) [GeV/c^{2}]\", 1.68, 2.05, \"\")\n",
    "y = ROOT.RooRealVar(\"D0_cosHel_0\", \"cos#theta_{H}\", yrange[0], yrange[1], \"\")\n",
    "a = ROOT.RooRealVar(\"antiKstar_M\", \"\",0,10, \"\")\n",
    "b = ROOT.RooRealVar(\"Dstarp_CMS_p\", \"\",0,10, \"\")\n",
    "c = ROOT.RooRealVar(\"Dstarp_isSignal\", \"\",-10,10, \"\")\n",
    "d = ROOT.RooRealVar(\"gamma_E\", \"\",0,10, \"\")\n",
    "e = ROOT.RooRealVar(\"Pi0_Prob2\", \"\",0,10, \"\")\n",
    "f = ROOT.RooRealVar(\"Dstarp_delM\", \"\",0,10, \"\")\n",
    "g = ROOT.RooRealVar(\"iCascDcyBrP_Dst_0\", \"\",-200,200, \"\")\n",
    "\n",
    "h = ROOT.RooRealVar(\"iCascDcyBrP_Dstm_0\", \"\",-200,200, \"\")"
   ]
  },
  {
   "cell_type": "code",
   "execution_count": 50,
   "id": "35af23f6-78ee-42ca-bbdf-d3fe3e34a647",
   "metadata": {},
   "outputs": [
    {
     "name": "stdout",
     "output_type": "stream",
     "text": [
      "17104.5\n",
      "[#1] INFO:InputArguments -- The formula D0_M>1.68 & D0_M<2.05 & abs(antiKstar_M - 0.89555) < 0.06 &  Dstarp_CMS_p>2.5  & gamma_E>0.45 & Pi0_Prob2>0.58 & abs(Dstarp_delM-0.1455)<0.00077 & (iCascDcyBrP_Dst_0==1 | iCascDcyBrP_Dst_0==2)  claims to use the variables (D0_M,D0_cosHel_0,antiKstar_M,Dstarp_CMS_p,Dstarp_isSignal,gamma_E,Pi0_Prob2,Dstarp_delM,iCascDcyBrP_Dst_0) but only (D0_M,antiKstar_M,Dstarp_CMS_p,gamma_E,Pi0_Prob2,Dstarp_delM,iCascDcyBrP_Dst_0) seem to be in use.\n",
      "  inputs:         D0_M>1.68 & D0_M<2.05 & abs(antiKstar_M - 0.89555) < 0.06 &  Dstarp_CMS_p>2.5  & gamma_E>0.45 & Pi0_Prob2>0.58 & abs(Dstarp_delM-0.1455)<0.00077 & (iCascDcyBrP_Dst_0==1 | iCascDcyBrP_Dst_0==2) \n",
      "[#1] INFO:DataHandling -- RooAbsReal::attachToTree(iCascDcyBrP_Dst_0) TTree Int_t branch iCascDcyBrP_Dst_0 will be converted to double precision.\n",
      "[#1] INFO:DataHandling -- RooTreeDataStore::loadValues(data) Skipping event #39376 because iCascDcyBrP_Dst_0 cannot accommodate the value 201\n",
      "[#1] INFO:DataHandling -- RooTreeDataStore::loadValues(data) Skipping event #39386 because iCascDcyBrP_Dst_0 cannot accommodate the value 202\n",
      "[#1] INFO:DataHandling -- RooTreeDataStore::loadValues(data) Skipping event #39674 because iCascDcyBrP_Dst_0 cannot accommodate the value 203\n",
      "[#1] INFO:DataHandling -- RooTreeDataStore::loadValues(data) Skipping event #39754 because iCascDcyBrP_Dst_0 cannot accommodate the value 204\n",
      "[#1] INFO:DataHandling -- RooTreeDataStore::loadValues(data) Skipping ...\n",
      "[#0] WARNING:DataHandling -- RooTreeDataStore::loadValues(data) Ignored 128 out-of-range events\n"
     ]
    }
   ],
   "source": [
    "Cut=\"D0_M>1.68 & D0_M<2.05 & abs(antiKstar_M - 0.89555) < 0.06 &  Dstarp_CMS_p>2.5  \"\n",
    "Cut+=\"& gamma_E>0.45 & Pi0_Prob2>0.58 & abs(Dstarp_delM-0.1455)<0.00077 & (iCascDcyBrP_Dst_0==1 | iCascDcyBrP_Dst_0==2) \"\n",
    "\n",
    "# Cut=\" iCascDcyBrP_Dst_0>0 && iCascDcyBrP_Dst_0<2 \"\n",
    "\n",
    "# data = ROOT.RooDataSet(\"data\",\"\", ROOT.RooArgSet(x,y,z), ROOT.RooFit.Import(mychain), Cut=\" D0_M>1.68 & D0_M<2.05 & Belle2Pi0Veto_75MeV > 0.022 \")\n",
    "before_data = ROOT.RooDataSet(\"data\",\"\", ROOT.RooArgSet(x,y,a,b,c,d,e,f,g), ROOT.RooFit.Import(mychain), Cut=Cut)\n",
    "\n",
    "\n",
    "w_1 = ROOT.RooRealVar('w_1', 'w', 0,1)\n",
    "\n",
    "w_1.setVal(1/4)\n",
    "# w_1.setVal(1)\n",
    "before_data.addColumn(w_1)\n",
    "data = ROOT.RooDataSet(before_data.GetName(), before_data.GetTitle(),before_data, before_data.get(), '' ,  'w_1')\n",
    "N_total = data.sumEntries()\n",
    "print(N_total)"
   ]
  },
  {
   "cell_type": "code",
   "execution_count": 51,
   "id": "dc907a6f-53f1-4830-a1ac-3b0c1bf4071a",
   "metadata": {},
   "outputs": [
    {
     "name": "stdout",
     "output_type": "stream",
     "text": [
      "RooDataSet::data[D0_M,D0_cosHel_0,antiKstar_M,Dstarp_CMS_p,Dstarp_isSignal,gamma_E,Pi0_Prob2,Dstarp_delM,iCascDcyBrP_Dst_0,weight:w_1] = 68418 entries (17104.5 weighted)\n"
     ]
    }
   ],
   "source": [
    "data.Print()"
   ]
  },
  {
   "cell_type": "code",
   "execution_count": 52,
   "id": "6d7f3a6d-13d5-4310-9ac3-b315e541e4de",
   "metadata": {},
   "outputs": [],
   "source": [
    "mychain2 = ROOT.TChain(\"antiKstar_cc\")\n",
    "# file_list = [\"/media/jykim/T7_2/storage/Ntuples_ghi_2/MC15rd/MC15rd_Vg_preext_maxFBDT_2ndFBDT/ccbar/*.root\"]\n",
    "file_list = glob.glob(\"/media/jykim/T7_2/storage/Ntuples_ghi_2/MC15rd/MC15rd_Vg_sigext_maxFBDT_2ndFBDT/topo/resultfile/result_antiKstar_cc/*.root\")\n",
    "for i in file_list:\n",
    "    mychain2.Add(i)"
   ]
  },
  {
   "cell_type": "code",
   "execution_count": 53,
   "id": "aedb158d-b109-4af7-92e1-5850f1a0fe7f",
   "metadata": {},
   "outputs": [
    {
     "name": "stdout",
     "output_type": "stream",
     "text": [
      "16571.75\n",
      "[#1] INFO:InputArguments -- The formula D0_M>1.68 & D0_M<2.05 & abs(antiKstar_M - 0.89555) < 0.06 &  Dstarp_CMS_p>2.5  & gamma_E>0.45 & Pi0_Prob2>0.58 & abs(Dstarp_delM-0.1455)<0.00077 & (iCascDcyBrP_Dstm_0==0 | iCascDcyBrP_Dstm_0==3) claims to use the variables (D0_M,D0_cosHel_0,antiKstar_M,Dstarp_CMS_p,Dstarp_isSignal,gamma_E,Pi0_Prob2,Dstarp_delM,iCascDcyBrP_Dstm_0) but only (D0_M,antiKstar_M,Dstarp_CMS_p,gamma_E,Pi0_Prob2,Dstarp_delM,iCascDcyBrP_Dstm_0) seem to be in use.\n",
      "  inputs:         D0_M>1.68 & D0_M<2.05 & abs(antiKstar_M - 0.89555) < 0.06 &  Dstarp_CMS_p>2.5  & gamma_E>0.45 & Pi0_Prob2>0.58 & abs(Dstarp_delM-0.1455)<0.00077 & (iCascDcyBrP_Dstm_0==0 | iCascDcyBrP_Dstm_0==3)\n",
      "[#1] INFO:DataHandling -- RooAbsReal::attachToTree(iCascDcyBrP_Dstm_0) TTree Int_t branch iCascDcyBrP_Dstm_0 will be converted to double precision.\n",
      "[#1] INFO:DataHandling -- RooTreeDataStore::loadValues(data2) Skipping event #37493 because iCascDcyBrP_Dstm_0 cannot accommodate the value 201\n",
      "[#1] INFO:DataHandling -- RooTreeDataStore::loadValues(data2) Skipping event #38374 because iCascDcyBrP_Dstm_0 cannot accommodate the value 202\n",
      "[#1] INFO:DataHandling -- RooTreeDataStore::loadValues(data2) Skipping event #39656 because iCascDcyBrP_Dstm_0 cannot accommodate the value 203\n",
      "[#1] INFO:DataHandling -- RooTreeDataStore::loadValues(data2) Skipping event #39720 because iCascDcyBrP_Dstm_0 cannot accommodate the value 204\n",
      "[#1] INFO:DataHandling -- RooTreeDataStore::loadValues(data2) Skipping ...\n",
      "[#0] WARNING:DataHandling -- RooTreeDataStore::loadValues(data2) Ignored 97 out-of-range events\n"
     ]
    }
   ],
   "source": [
    "Cut=\"D0_M>1.68 & D0_M<2.05 & abs(antiKstar_M - 0.89555) < 0.06 &  Dstarp_CMS_p>2.5  \"\n",
    "Cut+=\"& gamma_E>0.45 & Pi0_Prob2>0.58 & abs(Dstarp_delM-0.1455)<0.00077 & (iCascDcyBrP_Dstm_0==0 | iCascDcyBrP_Dstm_0==3)\"\n",
    "# Cut=\"iCascDcyBrP_Dstm_0==0\"\n",
    " \n",
    "before_data2 = ROOT.RooDataSet(\"data2\",\"\", ROOT.RooArgSet(x,y,a,b,c,d,e,f,h), ROOT.RooFit.Import(mychain2), Cut=Cut)\n",
    "before_data2.addColumn(w_1)\n",
    "data2 = ROOT.RooDataSet(before_data2.GetName(), before_data2.GetTitle(),before_data2, before_data2.get(), '' ,  'w_1')\n",
    "N_total = data2.sumEntries()\n",
    "print(N_total)"
   ]
  },
  {
   "cell_type": "code",
   "execution_count": 54,
   "id": "8ebaab56-8939-44ee-bf17-dcf8657b7501",
   "metadata": {},
   "outputs": [
    {
     "name": "stdout",
     "output_type": "stream",
     "text": [
      "RooDataSet::data2[D0_M,D0_cosHel_0,antiKstar_M,Dstarp_CMS_p,Dstarp_isSignal,gamma_E,Pi0_Prob2,Dstarp_delM,iCascDcyBrP_Dstm_0,weight:w_1] = 66287 entries (16571.8 weighted)\n"
     ]
    }
   ],
   "source": [
    "data2.Print()"
   ]
  },
  {
   "cell_type": "code",
   "execution_count": 55,
   "id": "e753a993-0445-4b9e-b65c-7d5513ed908a",
   "metadata": {},
   "outputs": [],
   "source": [
    "data.append(data2)"
   ]
  },
  {
   "cell_type": "code",
   "execution_count": 56,
   "id": "3ed3e64a-25d9-4b02-b360-dfdc8b705a25",
   "metadata": {},
   "outputs": [
    {
     "data": {
      "text/plain": [
       "33676.25"
      ]
     },
     "execution_count": 56,
     "metadata": {},
     "output_type": "execute_result"
    }
   ],
   "source": [
    "data.sumEntries()"
   ]
  },
  {
   "cell_type": "code",
   "execution_count": null,
   "id": "867fcf1c-9b81-47f2-8b99-4f7d734cc795",
   "metadata": {},
   "outputs": [],
   "source": []
  },
  {
   "cell_type": "code",
   "execution_count": 57,
   "id": "62b28a71-db7e-46cc-a8ea-43462af2882d",
   "metadata": {},
   "outputs": [],
   "source": [
    "fitting_region = (1.68, 2.05)\n",
    "x = ROOT.RooRealVar(\"D0_M\", \"M(D^{0}) [GeV/c^{2}]\", fitting_region[0], fitting_region[1], \"\")\n",
    "# x.setBins(50)\n"
   ]
  },
  {
   "cell_type": "code",
   "execution_count": 70,
   "id": "cb7f3486-b1a6-4276-a017-cc0db770d39f",
   "metadata": {},
   "outputs": [],
   "source": [
    "\n",
    "mean = ROOT.RooRealVar(\"mean\", \"mean of gaussians\", 1.84,1.83, 1.86)\n",
    "# sigma1 = ROOT.RooRealVar(\"sigma1\", \"width of gaussians\", 0.03,0,1)\n",
    "sigma2 = ROOT.RooRealVar(\"sigma2\", \"width of gaussians\", 0.02,0,1)\n",
    "alpha = ROOT.RooRealVar(\"alpha\", \"width of gaussians\", 0.5,0,10)\n",
    "n_CB = ROOT.RooRealVar(\"n_CB\", \"width of gaussians\", 5,0,20)\n",
    " \n",
    "Novo_peak = ROOT.RooRealVar(\"Novo_peak\", \"Novo peak\", 1.83,1.67,1.86)    \n",
    "Novo_width = ROOT.RooRealVar(\"Novo_widh\", \"Novo peak\", 0.05,0,0.5)    \n",
    "Novo_tail = ROOT.RooRealVar(\"Novo_tail\", \"Novo peak\", 0.5,0,10)    \n",
    "\n",
    "\n"
   ]
  },
  {
   "cell_type": "code",
   "execution_count": 71,
   "id": "275e1737-a584-4656-9993-5f64571d08ec",
   "metadata": {},
   "outputs": [],
   "source": [
    "sigmaL = ROOT.RooRealVar(\"sigmaL\", \"width of gaussians\", 0.01,0,0.04)\n",
    "sigmaR = ROOT.RooRealVar(\"sigmaR\", \"width of gaussians\", 0.01,0,0.04)\n",
    "alphaL = ROOT.RooRealVar(\"alphaL\", \"width of gaussians\", 0.5,0,2)\n",
    "nL     = ROOT.RooRealVar(\"nL\", \"width of gaussians\", 0.5,0,4)\n",
    "alphaR = ROOT.RooRealVar(\"alphaR\", \"width of gaussians\", 0.5,0,3)\n",
    "nR     = ROOT.RooRealVar(\"nR\", \"width of gaussians\", 0.5,0,2)"
   ]
  },
  {
   "cell_type": "code",
   "execution_count": 74,
   "id": "0845d81d-b586-4e28-a635-03774ed06e23",
   "metadata": {},
   "outputs": [
    {
     "name": "stdout",
     "output_type": "stream",
     "text": [
      "[#0] WARNING:InputArguments -- The parameter 'sigmaL' with range [0, 0.04] of the RooCrystalBall 'model' exceeds the safe range of (0, inf). Advise to limit its range.\n",
      "[#0] WARNING:InputArguments -- The parameter 'sigmaR' with range [0, 0.04] of the RooCrystalBall 'model' exceeds the safe range of (0, inf). Advise to limit its range.\n",
      "[#0] WARNING:InputArguments -- The parameter 'alphaL' with range [0, 2] of the RooCrystalBall 'model' exceeds the safe range of (0, inf). Advise to limit its range.\n",
      "[#0] WARNING:InputArguments -- The parameter 'alphaR' with range [0, 3] of the RooCrystalBall 'model' exceeds the safe range of (0, inf). Advise to limit its range.\n",
      "[#0] WARNING:InputArguments -- The parameter 'nL' with range [0, 4] of the RooCrystalBall 'model' exceeds the safe range of (0, inf). Advise to limit its range.\n",
      "[#0] WARNING:InputArguments -- The parameter 'nR' with range [0, 2] of the RooCrystalBall 'model' exceeds the safe range of (0, inf). Advise to limit its range.\n",
      "[#0] WARNING:InputArguments -- RooAbsPdf::fitTo(model) WARNING: a likelihood fit is requested of what appears to be weighted data.\n",
      "       While the estimated values of the parameters will always be calculated taking the weights into account,\n",
      "       there are multiple ways to estimate the errors of the parameters. You are advised to make an \n",
      "       explicit choice for the error calculation:\n",
      "           - Either provide SumW2Error(true), to calculate a sum-of-weights-corrected HESSE error matrix\n",
      "             (error will be proportional to the number of events in MC).\n",
      "           - Or provide SumW2Error(false), to return errors from original HESSE error matrix\n",
      "             (which will be proportional to the sum of the weights, i.e., a dataset with <sum of weights> events).\n",
      "           - Or provide AsymptoticError(true), to use the asymptotically correct expression\n",
      "             (for details see https://arxiv.org/abs/1911.01303).\n",
      "[#1] INFO:Minimization -- RooAbsMinimizerFcn::setOptimizeConst: activating const optimization\n",
      "[#1] INFO:Fitting -- RooAbsOptTestStatistic::ctor(nll_model_data) constructing test statistic for sub-range named fit\n",
      "[#1] INFO:Fitting -- RooAbsOptTestStatistic::ctor(nll_model_data) fixing interpretation of coefficients of any RooAddPdf to full domain of observables \n",
      "[#1] INFO:Eval -- RooAbsTestStatistic::initMPMode: started 12 remote server process.\n",
      "[#1] INFO:Minimization -- RooAbsMinimizerFcn::setOptimizeConst: deactivating const optimization\n",
      "\n",
      "  RooFitResult: minimized FCN value: -62468, estimated distance to minimum: 0.000199438\n",
      "                covariance matrix quality: Full, accurate covariance matrix\n",
      "                Status : MINIMIZE=0 HESSE=0 \n",
      "\n",
      "    Floating Parameter    FinalValue +/-  Error   \n",
      "  --------------------  --------------------------\n",
      "                alphaL    1.0467e+00 +/-  4.86e-02\n",
      "                alphaR    2.3113e+00 +/-  5.46e-02\n",
      "                  mean    1.8447e+00 +/-  5.52e-04\n",
      "                    nL    2.0115e+00 +/-  1.84e-01\n",
      "                    nR    8.3276e-01 +/-  7.77e-02\n",
      "                sigmaL    3.0855e-02 +/-  1.04e-03\n",
      "                sigmaR    1.5933e-02 +/-  3.51e-04\n",
      "\n",
      "[#1] INFO:Plotting -- RooAbsPdf::plotOn(model) p.d.f was fitted in a subrange and no explicit Range() and NormRange() was specified. Plotting / normalising in fit range. To override, do one of the following\n",
      "\t- Clear the automatic fit range attribute: <pdf>.setStringAttribute(\"fitrange\", nullptr);\n",
      "\t- Explicitly specify the plotting range: Range(\"<rangeName>\").\n",
      "\t- Explicitly specify where to compute the normalisation: NormRange(\"<rangeName>\").\n",
      "\tThe default (full) range can be denoted with Range(\"\") / NormRange(\"\").\n",
      "[#1] INFO:Plotting -- RooAbsPdf::plotOn(model) only plotting range 'fit_nll_model_data'\n",
      "[#1] INFO:Plotting -- RooAbsPdf::plotOn(model) p.d.f. curve is normalized using explicit choice of ranges 'fit_nll_model_data'\n",
      "[#0] ERROR:Plotting -- RooAbsPdf::plotOn(model) ERROR: component selection set (sig1) does not match any components of p.d.f.\n",
      "[#1] INFO:Plotting -- RooAbsPdf::plotOn(model) p.d.f was fitted in a subrange and no explicit Range() and NormRange() was specified. Plotting / normalising in fit range. To override, do one of the following\n",
      "\t- Clear the automatic fit range attribute: <pdf>.setStringAttribute(\"fitrange\", nullptr);\n",
      "\t- Explicitly specify the plotting range: Range(\"<rangeName>\").\n",
      "\t- Explicitly specify where to compute the normalisation: NormRange(\"<rangeName>\").\n",
      "\tThe default (full) range can be denoted with Range(\"\") / NormRange(\"\").\n",
      "[#1] INFO:Plotting -- RooAbsPdf::plotOn(model) only plotting range 'fit_nll_model_data'\n",
      "[#1] INFO:Plotting -- RooAbsPdf::plotOn(model) p.d.f. curve is normalized using explicit choice of ranges 'fit_nll_model_data'\n",
      "[#0] ERROR:Plotting -- RooAbsPdf::plotOn(model) ERROR: component selection set (sig2) does not match any components of p.d.f.\n",
      "[#1] INFO:Plotting -- RooAbsPdf::plotOn(model) p.d.f was fitted in a subrange and no explicit Range() and NormRange() was specified. Plotting / normalising in fit range. To override, do one of the following\n",
      "\t- Clear the automatic fit range attribute: <pdf>.setStringAttribute(\"fitrange\", nullptr);\n",
      "\t- Explicitly specify the plotting range: Range(\"<rangeName>\").\n",
      "\t- Explicitly specify where to compute the normalisation: NormRange(\"<rangeName>\").\n",
      "\tThe default (full) range can be denoted with Range(\"\") / NormRange(\"\").\n",
      "[#1] INFO:Plotting -- RooAbsPdf::plotOn(model) only plotting range 'fit_nll_model_data'\n",
      "[#1] INFO:Plotting -- RooAbsPdf::plotOn(model) p.d.f. curve is normalized using explicit choice of ranges 'fit_nll_model_data'\n"
     ]
    },
    {
     "name": "stderr",
     "output_type": "stream",
     "text": [
      "Warning in <TCanvas::Constructor>: Deleting canvas with same name: Canvas\n"
     ]
    },
    {
     "data": {
      "image/png": "[encoded data removed]",
      "text/plain": [
       "<IPython.core.display.Image object>"
      ]
     },
     "metadata": {},
     "output_type": "display_data"
    }
   ],
   "source": [
    "canv = ROOT.TCanvas(\"Canvas\", \"Canvas\", 700, 640)\n",
    "\n",
    "xlow = ctypes.c_double()\n",
    "ylow = ctypes.c_double()\n",
    "xup = ctypes.c_double()\n",
    "yup = ctypes.c_double()\n",
    "\n",
    "canv.GetPad(0).GetPadPar(xlow, ylow, xup, yup)\n",
    "canv.Divide(1,2)\n",
    "\n",
    "xlow = xlow.value\n",
    "ylow = ylow.value\n",
    "xup = xup.value\n",
    "yup = yup.value\n",
    "\n",
    "upPad = canv.GetPad(1)\n",
    "upPad.SetPad(xlow, ylow+0.25*(yup-ylow),xup,yup)\n",
    "\n",
    "dwPad = canv.GetPad(2)\n",
    "dwPad.SetPad(xlow, ylow,xup,ylow+0.25*(yup-ylow))\n",
    "\n",
    "    \n",
    "# sig1 = ROOT.RooGaussian(\"sig1\", \"Signal component 1\", x, mean, sigma1)\n",
    "sig2 = ROOT.RooCBShape(\"sig2\", \"Signal component 2\", x, mean, sigma2, alpha, n_CB)\n",
    "sig2 = ROOT.RooNovosibirsk(\"sig2\", \"Signal component 3\", x, Novo_peak,Novo_width, Novo_tail)\n",
    "\n",
    "\n",
    "sig1frac = ROOT.RooRealVar(\"sig1frac\", \"fraction of component 1 in signal\", 0.5, 0.0, 1.0)\n",
    "\n",
    "\n",
    "\n",
    "# model = ROOT.RooCBShape(\"model\", \"Signal component 2\", x, mean, sigma2, alpha, n_CB)\n",
    "\n",
    "# model = ROOT.RooAddPdf(\"model\", \"model\", [sig1, sig2], sig1frac)\n",
    "# model = ROOT.RooCBShape(\"model\", \"Signal component 2\", x, mean, sigma2, alpha, n_CB)\n",
    "model = ROOT.RooCrystalBall(\"model\", \"Signal component 2\", x, mean, sigmaL, sigmaR, alphaL, nL, alphaR, nR)\n",
    "\n",
    "\n",
    "r = model.fitTo(data,NumCPU=12,Range=fitting_region,PrintLevel=-1, Save=1)\n",
    "\n",
    "r.Print()\n",
    "canv.cd(1) \n",
    "# frame = x.frame(Title=\"D^{0} #rightarrow #bar{K}^{*0} #pi^{0}\")\n",
    "frame = x.frame(Title=\" \")\n",
    "\n",
    "# D0_M_TH1F_2.SetFillColor(4)\n",
    "# D0_M_TH1F_2.SetStats(0)\n",
    "# stack = ROOT.THStack()\n",
    "# stack.Add(D0_M_TH1F_2)\n",
    "# # stack.Add(mgg)\n",
    "# stack.Draw(\"HIST\")\n",
    "# D0_M_TH1F_2.Draw(\"same\")\n",
    "\n",
    "\n",
    "data.plotOn(frame, Name = \"data1\", DataError= ROOT.RooAbsData.SumW2, XErrorSize=0)\n",
    "\n",
    "model.plotOn(frame, Name=\"gauss1\", Components=sig1, LineStyle=ROOT.kDashed, LineColor=593)\n",
    "model.plotOn(frame, Name=\"CB1\", Components=sig2, LineStyle=ROOT.kDashed, LineColor=593)\n",
    "# sig.plotOn(frame, Name=\"Novo\", Components=sig3, LineStyle=ROOT.kDashed, LineColor=593)\n",
    "\n",
    "model.plotOn(frame, Name=\"fitting\",)\n",
    "\n",
    "\n",
    "# sig.paramOn(frame)\n",
    "frame.GetXaxis().CenterTitle(True)\n",
    "\n",
    "frame.Draw(\"PE\")\n",
    "\n",
    "\n",
    "leg1 = ROOT.TLegend(0.25, 0.75, 0.4, 0.9)\n",
    "leg1.SetFillColor(ROOT.kWhite)\n",
    "# leg1.SetHeader(\"The Legend title\",\"C\")\n",
    "leg1.AddEntry(\"data1\", \"MC\", \"PE\")\n",
    "leg1.AddEntry(\"fitting\", \"fit\", \"l\")\n",
    "leg1.Draw()\n",
    "\n",
    "hpull = frame.pullHist()\n",
    "hpull.SetFillStyle(1001)\n",
    "hpull.SetFillColor(1);\n",
    "for i in range(0,hpull.GetN()):#(int i=0;i<hpull.GetN();++i): \n",
    "    hpull.SetPointError(i,0.0,0.0,0.0,0.0)\n",
    "# pullplot = x.frame(Title(\" \"))\n",
    "pullplot = x.frame()\n",
    "pullplot.SetTitle(\"\")\n",
    "pullplot.addPlotable(hpull,\"BE\")\n",
    "# pullplot.addPlotable(hpull,\"PE\")\n",
    "\n",
    "pullplot.SetYTitle(\"Pull\")\n",
    "pullplot.GetXaxis().SetTitleSize(0)\n",
    "pullplot.GetYaxis().SetTitleSize(0.22)\n",
    "pullplot.GetYaxis().CenterTitle(True)\n",
    "pullplot.GetYaxis().SetTitleOffset(0.2)\n",
    "pullplot.SetMinimum(-4.)\n",
    "pullplot.SetMaximum(4.)\n",
    "pullplot.GetXaxis().SetLabelSize(0.15)\n",
    "pullplot.GetYaxis().SetLabelSize(0.105)\n",
    "canv.cd(2)\n",
    "pullplot.Draw()\n",
    "\n",
    "xmin1 = ctypes.c_double(fitting_region[0])\n",
    "xmax1 = ctypes.c_double(fitting_region[1])\n",
    "# xmin1 = 0.1\n",
    "# xmax1 = 0.18\n",
    "line = ROOT.TLine(xmin1,0.0,xmax1,0.0)\n",
    "line1 = ROOT.TLine(xmin1,3.0,xmax1,3.0)\n",
    "line2 = ROOT.TLine(xmin1,-3.0,xmax1,-3.0)\n",
    "\n",
    "line.SetLineColor(ROOT.kRed)\n",
    "line.SetLineWidth(3)\n",
    "line1.SetLineColor(ROOT.kRed)\n",
    "line2.SetLineColor(ROOT.kRed)\n",
    "line1.SetLineStyle(2)\n",
    "line2.SetLineStyle(2)\n",
    "line.Draw(\"SAME\")\n",
    "line1.Draw(\"SAME\")\n",
    "line2.Draw(\"SAME\")\n",
    "\n",
    "canv.Update()\n",
    "\n",
    "canv.Draw()\n",
    "# canv.SaveAs(\"/media/jykim/T7/saved_plots/fitting/results/antiKstargamma/MCrd_topo_Vpi0.png\")\n",
    "# canv.SaveAs(\"phi_massveto_1ab_Vpi0.png\")\n",
    "\n",
    "# f = ROOT.TFile(\"antiKstarg_MC15rd_Vpi0_fitresult.root\", \"RECREATE\")\n",
    "# r.Write(\"antiKstarg\")\n",
    "# f.Close()\n"
   ]
  },
  {
   "cell_type": "code",
   "execution_count": 73,
   "id": "5dd1970a-6499-4442-8f38-e71845972a89",
   "metadata": {},
   "outputs": [
    {
     "data": {
      "text/plain": [
       "<cppyy.gbl.RooFitResult object at 0x5598ea0a4580>"
      ]
     },
     "execution_count": 73,
     "metadata": {},
     "output_type": "execute_result"
    }
   ],
   "source": [
    "result_object"
   ]
  },
  {
   "cell_type": "code",
   "execution_count": 32,
   "id": "786aaadc-d620-485b-8093-72b5015233e4",
   "metadata": {},
   "outputs": [
    {
     "name": "stdout",
     "output_type": "stream",
     "text": [
      "\n",
      "  RooFitResult: minimized FCN value: -62468, estimated distance to minimum: 3.85671e-05\n",
      "                covariance matrix quality: Full, accurate covariance matrix\n",
      "                Status : MINIMIZE=0 HESSE=0 \n",
      "\n",
      "    Floating Parameter    FinalValue +/-  Error   \n",
      "  --------------------  --------------------------\n",
      "                alphaL    1.0464e+00 +/-  4.64e-02\n",
      "                alphaR    2.3110e+00 +/-  5.45e-02\n",
      "                  mean    1.8447e+00 +/-  5.49e-04\n",
      "                    nL    2.0139e+00 +/-  1.78e-01\n",
      "                    nR    8.3303e-01 +/-  7.74e-02\n",
      "                sigmaL    3.0855e-02 +/-  9.99e-04\n",
      "                sigmaR    1.5931e-02 +/-  3.52e-04\n",
      "\n"
     ]
    }
   ],
   "source": [
    "f = ROOT.TFile.Open(\"antiKstarg_MC15rd_Vpi0_fitresult.root\")\n",
    "result_object = ROOT.gDirectory.Get(\"antiKstarg\")\n",
    "f.Close()\n",
    "\n",
    "result_object.Print()\n",
    "\n",
    "fit_args = result_object.floatParsFinal()\n"
   ]
  },
  {
   "cell_type": "markdown",
   "id": "4dfe91d0-6339-4433-bc8e-daf3a4a11227",
   "metadata": {},
   "source": [
    "# cosHel"
   ]
  },
  {
   "cell_type": "code",
   "execution_count": 33,
   "id": "d242bfec-347d-4638-a18d-367c7c925f0d",
   "metadata": {},
   "outputs": [
    {
     "data": {
      "text/plain": [
       "94115350702032"
      ]
     },
     "execution_count": 33,
     "metadata": {},
     "output_type": "execute_result"
    },
    {
     "name": "stdout",
     "output_type": "stream",
     "text": [
      "(MyPdf_xsquared) An instance of MyPdf_xsquared.\n"
     ]
    }
   ],
   "source": [
    "# ROOT.RooClassFactory.makePdf(\"MyPdf_xsquared\", \"x,c0\", \"\", \"c0*x*x\")\n",
    "ROOT.gROOT.ProcessLineSync(\".x MyPdf_xsquared.cxx+\")"
   ]
  },
  {
   "cell_type": "code",
   "execution_count": 34,
   "id": "2e121ee3-989e-4c0d-be66-f275926ea817",
   "metadata": {},
   "outputs": [],
   "source": [
    "# ROOT.RooClassFactory.makePdf(\"MyPdf_xsquared_nopara\", \"x\", \"\", \"x*x\")\n",
    "# ROOT.gROOT.ProcessLineSync(\".x MyPdf_xsquared_nopara.cxx+\")"
   ]
  },
  {
   "cell_type": "code",
   "execution_count": 35,
   "id": "0e97cfc3-b4db-42c7-ac33-ef47cd16619e",
   "metadata": {},
   "outputs": [],
   "source": [
    "fitting_region = (-1, 1)\n",
    "# y = ROOT.RooRealVar(\"cos#theta_{H}\", \"cos#theta_{H}\", fitting_region[0], fitting_region[1], \"\")\n",
    "# # y.setBins(50)\n",
    "# y_l = ROOT.RooArgList(y)\n",
    "# # signalhist = ROOT.RooDataHist(\"sighist\", \"sighist\", l, D0_M_TH1F, scale_factor)\n",
    "# y_signalhist = ROOT.RooDataHist(\"y_signalhist\", \"sighist\", y_l, D0_cosHel_TH1F, 1)\n"
   ]
  },
  {
   "cell_type": "code",
   "execution_count": 36,
   "id": "57ecc37b-4518-4702-b9d2-7dfb4bcb2110",
   "metadata": {},
   "outputs": [],
   "source": [
    "y_mean = ROOT.RooRealVar(\"y_mean\", \"mean of gaussians\", 0.5,0.4, 0.6)\n",
    "y_sigma1 = ROOT.RooRealVar(\"y_sigma1\", \"width of gaussians\", 0.03,0,0.3)\n",
    "y_sigma2 = ROOT.RooRealVar(\"y_sigma2\", \"width of gaussians\", 0.02,0,0.3)\n",
    "\n",
    "c0 = ROOT.RooRealVar(\"c0\", \"c0\",0.2, 0,1)\n",
    "\n",
    "\n",
    "Cheby_c0 = ROOT.RooRealVar(\"Cheby_c0\", \"c0\",0.2, -1,1)\n",
    "Cheby_c1 = ROOT.RooRealVar(\"Cheby_c1\", \"c0\",0.2, -1,1)\n",
    "Cheby_c2 = ROOT.RooRealVar(\"Cheby_c2\", \"c0\",-0.2, -1,1)\n",
    "Cheby_c3 = ROOT.RooRealVar(\"Cheby_c3\", \"c0\",-0.2, -1,1)\n"
   ]
  },
  {
   "cell_type": "code",
   "execution_count": 37,
   "id": "aef379b3-dfe5-4054-9fa1-ac449fe7e8c4",
   "metadata": {},
   "outputs": [
    {
     "name": "stdout",
     "output_type": "stream",
     "text": [
      "[#0] WARNING:InputArguments -- The parameter 'y_sigma1' with range [0, 0.3] of the RooGaussian 'sig2_1' exceeds the safe range of (0, inf). Advise to limit its range.\n",
      "[#0] WARNING:InputArguments -- The parameter 'y_sigma2' with range [0, 0.3] of the RooGaussian 'sig2_2' exceeds the safe range of (0, inf). Advise to limit its range.\n",
      "[#1] INFO:Eval -- RooRealVar::setRange(D0_cosHel_0) new range named 'fit' created with bounds [-1,1]\n",
      "[#0] WARNING:InputArguments -- RooAbsPdf::fitTo(model) WARNING: a likelihood fit is requested of what appears to be weighted data.\n",
      "       While the estimated values of the parameters will always be calculated taking the weights into account,\n",
      "       there are multiple ways to estimate the errors of the parameters. You are advised to make an \n",
      "       explicit choice for the error calculation:\n",
      "           - Either provide SumW2Error(true), to calculate a sum-of-weights-corrected HESSE error matrix\n",
      "             (error will be proportional to the number of events in MC).\n",
      "           - Or provide SumW2Error(false), to return errors from original HESSE error matrix\n",
      "             (which will be proportional to the sum of the weights, i.e., a dataset with <sum of weights> events).\n",
      "           - Or provide AsymptoticError(true), to use the asymptotically correct expression\n",
      "             (for details see https://arxiv.org/abs/1911.01303).\n",
      "[#1] INFO:Minimization -- RooAbsMinimizerFcn::setOptimizeConst: activating const optimization\n",
      "[#1] INFO:Fitting -- RooAbsOptTestStatistic::ctor(nll_model_data) constructing test statistic for sub-range named fit\n",
      "[#1] INFO:Eval -- RooRealVar::setRange(D0_cosHel_0) new range named 'NormalizationRangeForfit' created with bounds [-1,1]\n",
      "[#1] INFO:Eval -- RooRealVar::setRange(D0_cosHel_0) new range named 'fit_nll_model_data' created with bounds [-1,1]\n",
      "[#1] INFO:Fitting -- RooAbsOptTestStatistic::ctor(nll_model_data) fixing interpretation of coefficients of any RooAddPdf to full domain of observables \n",
      "[#1] INFO:Eval -- RooAbsTestStatistic::initMPMode: started 12 remote server process.\n",
      "[#1] INFO:Minimization --  The following expressions will be evaluated in cache-and-track mode: (sig3,sig2_1,sig2_2)\n",
      "[#1] INFO:Minimization --  The following expressions will be evaluated in cache-and-track mode: (sig3,sig2_1,sig2_2)\n",
      "[#1] INFO:Minimization --  The following expressions will be evaluated in cache-and-track mode: (sig3,sig2_1,sig2_2)\n",
      "[#1] INFO:Minimization --  The following expressions will be evaluated in cache-and-track mode: (sig3,sig2_1,sig2_2)\n",
      "[#1] INFO:Minimization --  The following expressions will be evaluated in cache-and-track mode: (sig3,sig2_1,sig2_2)\n",
      "[#1] INFO:Minimization --  The following expressions will be evaluated in cache-and-track mode: (sig3,sig2_1,sig2_2)\n",
      "[#1] INFO:Minimization --  The following expressions will be evaluated in cache-and-track mode: (sig3,sig2_1,sig2_2)\n",
      "[#1] INFO:Minimization --  The following expressions will be evaluated in cache-and-track mode: (sig3,sig2_1,sig2_2)\n",
      "[#1] INFO:Minimization --  The following expressions will be evaluated in cache-and-track mode: (sig3,sig2_1,sig2_2)\n",
      "[#1] INFO:Minimization --  The following expressions will be evaluated in cache-and-track mode: (sig3,sig2_1,sig2_2)\n",
      "[#1] INFO:Minimization --  The following expressions will be evaluated in cache-and-track mode: (sig3,sig2_1,sig2_2)\n",
      "[#1] INFO:Minimization --  The following expressions will be evaluated in cache-and-track mode: (sig3,sig2_1,sig2_2)\n",
      "RooAbsMinimizerFcn: Minimized function has error status.\n",
      "Returning maximum FCN so far (31450.9) to force MIGRAD to back out of this region. Error log follows.\n",
      "Parameter values: \tCheby_c0=0.174478\tCheby_c1=0.9942\tCheby_c2=-0.0319065\tfrac2=0.988904\tsig2frac=0.870755\ty_mean=0.546856\ty_sigma1=0.291657\ty_sigma2=0.0837931\n",
      "PID68290/RooRealMPFE::nll_model_data_5598ef2bf720_MPFE11[ arg=nll_model_data_GOF11 vars=(Cheby_c0,Cheby_c1,Cheby_c2,frac2,sig2frac,y_mean,y_sigma1,y_sigma2) ]\n",
      "     p.d.f value is less than zero (-0.002289), trying to recover @ x=D0_cosHel_0=-0.0446514, coefList=(Cheby_c0 = 0.174478,Cheby_c1 = 0.9942,Cheby_c2 = -0.0319065)\n",
      "     p.d.f value is less than zero (-0.003162), trying to recover @ x=D0_cosHel_0=-0.0581093, coefList=(Cheby_c0 = 0.174478,Cheby_c1 = 0.9942,Cheby_c2 = -0.0319065)\n",
      "     p.d.f value is less than zero (-0.003301), trying to recover @ x=D0_cosHel_0=-0.0631346, coefList=(Cheby_c0 = 0.174478,Cheby_c1 = 0.9942,Cheby_c2 = -0.0319065)\n",
      "     p.d.f value is less than zero (-0.003272), trying to recover @ x=D0_cosHel_0=-0.0732933, coefList=(Cheby_c0 = 0.174478,Cheby_c1 = 0.9942,Cheby_c2 = -0.0319065)\n",
      "     p.d.f value is less than zero (-0.002616), trying to recover @ x=D0_cosHel_0=-0.04854, coefList=(Cheby_c0 = 0.174478,Cheby_c1 = 0.9942,Cheby_c2 = -0.0319065)\n",
      "     p.d.f value is less than zero (-0.002607), trying to recover @ x=D0_cosHel_0=-0.0865589, coefList=(Cheby_c0 = 0.174478,Cheby_c1 = 0.9942,Cheby_c2 = -0.0319065)\n",
      "     p.d.f value is less than zero (-0.002146), trying to recover @ x=D0_cosHel_0=-0.0918269, coefList=(Cheby_c0 = 0.174478,Cheby_c1 = 0.9942,Cheby_c2 = -0.0319065)\n",
      "     p.d.f value is less than zero (-0.003176), trying to recover @ x=D0_cosHel_0=-0.0765173, coefList=(Cheby_c0 = 0.174478,Cheby_c1 = 0.9942,Cheby_c2 = -0.0319065)\n",
      "     p.d.f value is less than zero (-0.003062), trying to recover @ x=D0_cosHel_0=-0.0557663, coefList=(Cheby_c0 = 0.174478,Cheby_c1 = 0.9942,Cheby_c2 = -0.0319065)\n",
      "     p.d.f value is less than zero (-0.002467), trying to recover @ x=D0_cosHel_0=-0.0466741, coefList=(Cheby_c0 = 0.174478,Cheby_c1 = 0.9942,Cheby_c2 = -0.0319065)\n",
      "     p.d.f value is less than zero (-0.000711), trying to recover @ x=D0_cosHel_0=-0.103591, coefList=(Cheby_c0 = 0.174478,Cheby_c1 = 0.9942,Cheby_c2 = -0.0319065)\n",
      "     p.d.f value is less than zero (-0.001475), trying to recover @ x=D0_cosHel_0=-0.0979013, coefList=(Cheby_c0 = 0.174478,Cheby_c1 = 0.9942,Cheby_c2 = -0.0319065)\n",
      "    ... (remaining 2750 messages suppressed)\n",
      "RooNLLVar::nll_model_data[ paramSet=(Cheby_c0,Cheby_c1,Cheby_c2,frac2,sig2frac,y_mean,y_sigma1,y_sigma2) ]\n",
      "     function value is NAN @ paramSet=(Cheby_c0 = 0.174478,Cheby_c1 = 0.9942,Cheby_c2 = -0.0319065,frac2 = 0.988904,sig2frac = 0.870755,y_mean = 0.546856,y_sigma1 = 0.291657,y_sigma2 = 0.0837931)\n",
      "\n",
      "[#1] INFO:Minimization -- RooAbsMinimizerFcn::setOptimizeConst: deactivating const optimization\n",
      "\n",
      "  RooFitResult: minimized FCN value: 13403.4, estimated distance to minimum: 0.00241973\n",
      "                covariance matrix quality: Full matrix, but forced positive-definite\n",
      "                Status : MINIMIZE=0 HESSE=0 \n",
      "\n",
      "    Floating Parameter    FinalValue +/-  Error   \n",
      "  --------------------  --------------------------\n",
      "              Cheby_c0    5.2123e-01 +/-  2.28e-02\n",
      "              Cheby_c1    8.9620e-01 +/-  4.83e-02\n",
      "              Cheby_c2    9.4584e-02 +/-  2.91e-02\n",
      "                 frac2    5.1431e-01 +/-  6.76e-02\n",
      "              sig2frac    7.5590e-01 +/-  4.75e-02\n",
      "                y_mean    4.8463e-01 +/-  3.11e-03\n",
      "              y_sigma1    3.0000e-01 +/-  2.27e-01\n",
      "              y_sigma2    9.4285e-02 +/-  5.02e-03\n",
      "\n",
      "[#1] INFO:InputArguments -- RooAbsData::plotOn(data) INFO: dataset has non-integer weights, auto-selecting SumW2 errors instead of Poisson errors\n",
      "[#1] INFO:Plotting -- RooAbsPdf::plotOn(model) p.d.f was fitted in a subrange and no explicit Range() and NormRange() was specified. Plotting / normalising in fit range. To override, do one of the following\n",
      "\t- Clear the automatic fit range attribute: <pdf>.setStringAttribute(\"fitrange\", nullptr);\n",
      "\t- Explicitly specify the plotting range: Range(\"<rangeName>\").\n",
      "\t- Explicitly specify where to compute the normalisation: NormRange(\"<rangeName>\").\n",
      "\tThe default (full) range can be denoted with Range(\"\") / NormRange(\"\").\n",
      "[#1] INFO:Plotting -- RooAbsPdf::plotOn(model) only plotting range 'fit_nll_model_data'\n",
      "[#1] INFO:Plotting -- RooAbsPdf::plotOn(model) p.d.f. curve is normalized using explicit choice of ranges 'fit_nll_model_data'\n",
      "[#1] INFO:Plotting -- RooAbsPdf::plotOn(model) directly selected PDF components: (sig2)\n",
      "[#1] INFO:Plotting -- RooAbsPdf::plotOn(model) indirectly selected PDF components: (sig2_1,sig2_2)\n",
      "[#1] INFO:Plotting -- RooAbsPdf::plotOn(model) p.d.f was fitted in a subrange and no explicit Range() and NormRange() was specified. Plotting / normalising in fit range. To override, do one of the following\n",
      "\t- Clear the automatic fit range attribute: <pdf>.setStringAttribute(\"fitrange\", nullptr);\n",
      "\t- Explicitly specify the plotting range: Range(\"<rangeName>\").\n",
      "\t- Explicitly specify where to compute the normalisation: NormRange(\"<rangeName>\").\n",
      "\tThe default (full) range can be denoted with Range(\"\") / NormRange(\"\").\n",
      "[#1] INFO:Plotting -- RooAbsPdf::plotOn(model) only plotting range 'fit_nll_model_data'\n",
      "[#1] INFO:Plotting -- RooAbsPdf::plotOn(model) p.d.f. curve is normalized using explicit choice of ranges 'fit_nll_model_data'\n",
      "[#1] INFO:Plotting -- RooAbsPdf::plotOn(model) directly selected PDF components: (sig3)\n",
      "[#1] INFO:Plotting -- RooAbsPdf::plotOn(model) indirectly selected PDF components: ()\n",
      "[#1] INFO:Plotting -- RooAbsPdf::plotOn(model) p.d.f was fitted in a subrange and no explicit Range() and NormRange() was specified. Plotting / normalising in fit range. To override, do one of the following\n",
      "\t- Clear the automatic fit range attribute: <pdf>.setStringAttribute(\"fitrange\", nullptr);\n",
      "\t- Explicitly specify the plotting range: Range(\"<rangeName>\").\n",
      "\t- Explicitly specify where to compute the normalisation: NormRange(\"<rangeName>\").\n",
      "\tThe default (full) range can be denoted with Range(\"\") / NormRange(\"\").\n",
      "[#1] INFO:Plotting -- RooAbsPdf::plotOn(model) only plotting range 'fit_nll_model_data'\n",
      "[#1] INFO:Plotting -- RooAbsPdf::plotOn(model) p.d.f. curve is normalized using explicit choice of ranges 'fit_nll_model_data'\n"
     ]
    },
    {
     "name": "stderr",
     "output_type": "stream",
     "text": [
      "Warning in <TCanvas::Constructor>: Deleting canvas with same name: Canvas\n",
      "Info in <TCanvas::Print>: png file /media/jykim/T7/saved_plots/fitting/results/antiKstargamma/MCrd_topo_Vpi0_cosHel.png has been created\n"
     ]
    },
    {
     "data": {
      "image/png": "[encoded data removed]",
      "text/plain": [
       "<IPython.core.display.Image object>"
      ]
     },
     "metadata": {},
     "output_type": "display_data"
    }
   ],
   "source": [
    "canv = ROOT.TCanvas(\"Canvas\", \"Canvas\", 700, 640)\n",
    "\n",
    "xlow = ctypes.c_double()\n",
    "ylow = ctypes.c_double()\n",
    "xup = ctypes.c_double()\n",
    "yup = ctypes.c_double()\n",
    "\n",
    "canv.GetPad(0).GetPadPar(xlow, ylow, xup, yup)\n",
    "canv.Divide(1,2)\n",
    "\n",
    "xlow = xlow.value\n",
    "ylow = ylow.value\n",
    "xup = xup.value\n",
    "yup = yup.value\n",
    "\n",
    "upPad = canv.GetPad(1)\n",
    "upPad.SetPad(xlow, ylow+0.25*(yup-ylow),xup,yup)\n",
    "\n",
    "dwPad = canv.GetPad(2)\n",
    "dwPad.SetPad(xlow, ylow,xup,ylow+0.25*(yup-ylow))\n",
    "\n",
    "\n",
    "# y_bkg1_model = ROOT.MyPdf_xsquared_nopara(\"y_bkg1_model\", \"y_bkg1\", y)\n",
    "# model = ROOT.MyPdf_xsquared_nopara(\"model\", \"y_bkg1\", y)\n",
    "# sig1 = ROOT.MyPdf_xsquared_nopara(\"sig1\", \"y_bkg1\", y)\n",
    "#sig1 = ROOT.MyPdf_xsquared(\"sig1\", \"y_bkg1\", y, c0)\n",
    "\n",
    "\n",
    "sig2_1 = ROOT.RooGaussian(\"sig2_1\", \"Signal component 1\", y, y_mean, y_sigma1)\n",
    "sig2_2 = ROOT.RooGaussian(\"sig2_2\", \"Signal component 1\", y, y_mean, y_sigma2)\n",
    "\n",
    "frac2 = ROOT.RooRealVar(\"frac2\", \"fraction of component 1 in signal\", 0.5, 0.0, 1.0)\n",
    "sig2 = ROOT.RooAddPdf(\"sig2\", \"model\", [sig2_1, sig2_2], frac2)\n",
    "\n",
    "\n",
    "sig3 = ROOT.RooChebychev(\"sig3\", \"Signal component 1\", y, ROOT.RooArgList(Cheby_c0, Cheby_c1, Cheby_c2))\n",
    "\n",
    "sig1frac = ROOT.RooRealVar(\"sig1frac\", \"fraction of component 1 in signal\", 0.5, 0.0, 1.0)\n",
    "sig2frac = ROOT.RooRealVar(\"sig2frac\", \"fraction of component 1 in signal\", 0.5, 0.0, 1.0)\n",
    "\n",
    "\n",
    "# model = ROOT.RooCBShape(\"model\", \"Signal component 2\", x, mean, sigma2, alpha, n_CB)\n",
    "\n",
    "#sig_model1 = ROOT.RooAddPdf(\"sig_model1\", \"model\", [sig1, sig2], sig1frac)\n",
    "#model = ROOT.RooAddPdf(\"model\", \"model\", [sig3, sig_model1], sig2frac)\n",
    "\n",
    "\n",
    "model = ROOT.RooAddPdf(\"model\", \"model\", [sig3, sig2], sig2frac)\n",
    "\n",
    "run = model.fitTo(data,NumCPU=12,Range=(-1,1),PrintLevel=-1, Save=1)\n",
    "\n",
    "#run = model.fitTo(y_signalhist,NumCPU=12,Range=(-1,1),PrintLevel=-1, Save=1)\n",
    "# run = model.fitTo(y_signalhist,NumCPU=12,Range=(-1,1),PrintLevel=-1)\n",
    "\n",
    "run.Print()\n",
    "canv.cd(1) \n",
    "# frame = x.frame(Title=\"D^{0} #rightarrow #bar{K}^{*0} #pi^{0}\")\n",
    "frame = y.frame(Title=\" \")\n",
    "\n",
    "#y_signalhist.plotOn(frame,Name = \"data1\", XErrorSize=0)\n",
    "data.plotOn(frame,Name = \"data1\", XErrorSize=0)\n",
    "\n",
    "# model.plotOn(frame, Name=\"gauss1\", Components=sig1, LineStyle=ROOT.kDashed, LineColor=593)\n",
    "model.plotOn(frame, Name=\"CB1\", Components=sig2, LineStyle=ROOT.kDashed, LineColor=593)\n",
    "model.plotOn(frame, Name=\"Novo\", Components=sig3, LineStyle=ROOT.kDashed, LineColor=593)\n",
    "\n",
    "model.plotOn(frame, Name=\"fitting\",)\n",
    "\n",
    "# sig.paramOn(frame)\n",
    "frame.GetXaxis().CenterTitle(True)\n",
    "frame.Draw(\"PE\")\n",
    "\n",
    "\n",
    "leg1 = ROOT.TLegend(0.25, 0.75, 0.4, 0.9)\n",
    "# leg1.SetBorderSize(0)\n",
    "leg1.SetFillColor(ROOT.kWhite)\n",
    "# leg1.SetHeader(\"The Legend title\",\"C\")\n",
    "leg1.AddEntry(\"data1\", \"MC\", \"PE\")\n",
    "leg1.AddEntry(\"fitting\", \"fit\", \"l\")\n",
    "leg1.Draw()\n",
    "\n",
    "hpull = frame.pullHist()\n",
    "hpull.SetFillStyle(1001)\n",
    "hpull.SetFillColor(1);\n",
    "for i in range(0,hpull.GetN()):#(int i=0;i<hpull.GetN();++i): \n",
    "    hpull.SetPointError(i,0.0,0.0,0.0,0.0)\n",
    "# pullplot = x.frame(Title(\" \"))\n",
    "pullplot = y.frame()\n",
    "pullplot.SetTitle(\"\")\n",
    "pullplot.addPlotable(hpull,\"BE\")\n",
    "# pullplot.addPlotable(hpull,\"PE\")\n",
    "\n",
    "pullplot.SetYTitle(\"Pull\")\n",
    "pullplot.GetXaxis().SetTitleSize(0)\n",
    "pullplot.GetYaxis().SetTitleSize(0.22)\n",
    "pullplot.GetYaxis().CenterTitle(True)\n",
    "pullplot.GetYaxis().SetTitleOffset(0.2)\n",
    "pullplot.SetMinimum(-4.)\n",
    "pullplot.SetMaximum(4.)\n",
    "pullplot.GetXaxis().SetLabelSize(0.15)\n",
    "pullplot.GetYaxis().SetLabelSize(0.105)\n",
    "canv.cd(2)\n",
    "pullplot.Draw()\n",
    "\n",
    "xmin1 = ctypes.c_double(fitting_region[0])\n",
    "xmax1 = ctypes.c_double(fitting_region[1])\n",
    "# xmin1 = 0.1\n",
    "# xmax1 = 0.18\n",
    "line = ROOT.TLine(xmin1,0.0,xmax1,0.0)\n",
    "line1 = ROOT.TLine(xmin1,3.0,xmax1,3.0)\n",
    "line2 = ROOT.TLine(xmin1,-3.0,xmax1,-3.0)\n",
    "\n",
    "line.SetLineColor(ROOT.kRed)\n",
    "line.SetLineWidth(3)\n",
    "line1.SetLineColor(ROOT.kRed)\n",
    "line2.SetLineColor(ROOT.kRed)\n",
    "line1.SetLineStyle(2)\n",
    "line2.SetLineStyle(2)\n",
    "line.Draw(\"SAME\")\n",
    "line1.Draw(\"SAME\")\n",
    "line2.Draw(\"SAME\")\n",
    "\n",
    "canv.Update()\n",
    "\n",
    "\n",
    "canv.Draw()\n",
    "canv.SaveAs(\"/media/jykim/T7/saved_plots/fitting/results/antiKstargamma/MCrd_topo_Vpi0_cosHel.png\")\n",
    "\n",
    "f = ROOT.TFile(\"antiKstarg_Vpi0_fitresult_cosHel.root\", \"RECREATE\")\n",
    "run.Write(\"antiKstarg\")\n",
    "f.Close()\n"
   ]
  },
  {
   "cell_type": "code",
   "execution_count": 38,
   "id": "4f38e2db-de71-4093-91a2-662d6a3f9531",
   "metadata": {},
   "outputs": [
    {
     "name": "stdout",
     "output_type": "stream",
     "text": [
      "\n",
      "  RooFitResult: minimized FCN value: 13403.4, estimated distance to minimum: 0.00241973\n",
      "                covariance matrix quality: Full matrix, but forced positive-definite\n",
      "                Status : MINIMIZE=0 HESSE=0 \n",
      "\n",
      "    Floating Parameter    FinalValue +/-  Error   \n",
      "  --------------------  --------------------------\n",
      "              Cheby_c0    5.2123e-01 +/-  2.28e-02\n",
      "              Cheby_c1    8.9620e-01 +/-  4.83e-02\n",
      "              Cheby_c2    9.4584e-02 +/-  2.91e-02\n",
      "                 frac2    5.1431e-01 +/-  6.76e-02\n",
      "              sig2frac    7.5590e-01 +/-  4.75e-02\n",
      "                y_mean    4.8463e-01 +/-  3.11e-03\n",
      "              y_sigma1    3.0000e-01 +/-  2.27e-01\n",
      "              y_sigma2    9.4285e-02 +/-  5.02e-03\n",
      "\n"
     ]
    }
   ],
   "source": [
    "f = ROOT.TFile.Open(\"antiKstarg_Vpi0_fitresult_cosHel.root\")\n",
    "result_object2_y = ROOT.gDirectory.Get(\"antiKstarg\")\n",
    "f.Close()\n",
    "\n",
    "result_object2_y.Print()"
   ]
  }
 ],
 "metadata": {
  "kernelspec": {
   "display_name": "Python 3 (ipykernel)",
   "language": "python",
   "name": "python3"
  },
  "language_info": {
   "codemirror_mode": {
    "name": "ipython",
    "version": 3
   },
   "file_extension": ".py",
   "mimetype": "text/x-python",
   "name": "python",
   "nbconvert_exporter": "python",
   "pygments_lexer": "ipython3",
   "version": "3.10.5"
  }
 },
 "nbformat": 4,
 "nbformat_minor": 5
}
