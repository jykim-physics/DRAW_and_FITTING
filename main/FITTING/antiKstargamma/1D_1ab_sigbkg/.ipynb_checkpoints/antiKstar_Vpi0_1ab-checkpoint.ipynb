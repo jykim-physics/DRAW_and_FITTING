{
 "cells": [
  {
   "cell_type": "code",
   "execution_count": 1,
   "id": "3bdbf6d9-8fb7-4849-b476-a1ab02f06744",
   "metadata": {},
   "outputs": [
    {
     "name": "stdout",
     "output_type": "stream",
     "text": [
      "Welcome to JupyROOT 6.26/04\n"
     ]
    }
   ],
   "source": [
    "import ROOT\n",
    "import ctypes"
   ]
  },
  {
   "cell_type": "code",
   "execution_count": 2,
   "id": "94b850a7-8d90-4dc5-a757-2a2e4f324f46",
   "metadata": {},
   "outputs": [
    {
     "name": "stdout",
     "output_type": "stream",
     "text": [
      "\n",
      "Applying BELLE2 style settings...\n"
     ]
    }
   ],
   "source": [
    "ROOT.gROOT.LoadMacro('/home/jykim/workspace/DRAW_and_FITTING/main/Belle2Style.C')\n",
    "ROOT.SetBelle2Style()"
   ]
  },
  {
   "cell_type": "code",
   "execution_count": 7,
   "id": "ce78010d-d970-4fb0-b2d2-59f1e1572ab3",
   "metadata": {},
   "outputs": [],
   "source": [
    "\n",
    "\n",
    "# # sig_1ab_file = ROOT.TFile.Open(\"/media/jykim/T7/storage/01_recon/massvetov2_sig_ext_1ab_sigbkg/topo/resultfile/result_antiKstar/standard.root\")\n",
    "# sig_1ab_file = ROOT.TFile.Open(\"/media/jykim/T7/storage/01_recon/massvetov2_optimzed_sigext_1ab_bkg/topo/resultfile/result_antiKstar/standard.root\")\n",
    "\n",
    "# signal_1ab_tree = sig_1ab_file.Get(\"antiKstar\")\n",
    "\n"
   ]
  },
  {
   "cell_type": "code",
   "execution_count": 8,
   "id": "4b72551a-ebd4-4a31-82f1-8eef0b26f8bf",
   "metadata": {},
   "outputs": [],
   "source": [
    "# # D0_M_TH1F = ROOT.TH1F(\"D0_M_TH1F\",\"D0 mass\",50,1.67,2.06)\n",
    "# # D0_M_TH1F = ROOT.TH1F(\"D0_M_TH1F\",\"D0 mass\",50,1.72,1.92)\n",
    "# # D0_M_TH1F_2 = ROOT.TH1F(\"D0_M_TH1F_2\",\"D0 mass\",50,1.67, 2.06)\n",
    "# D0_M_TH1F_2 = ROOT.TH1F(\"D0_M_TH1F_2\",\"D0 mass\",50,1.67, 1.9)\n",
    "# D0_cosHel_TH1F = ROOT.TH1F(\"D0_cosHel_TH1F\",\"D0_cosHel\",40, -1, 1)\n"
   ]
  },
  {
   "cell_type": "code",
   "execution_count": 9,
   "id": "3a69e135-44ce-49d2-a4b1-058596ee2bad",
   "metadata": {},
   "outputs": [],
   "source": [
    "# def extract_histo(tree, histogram):\n",
    "#     for event in tree:\n",
    "#         histogram.Fill(event.D0_M)\n",
    "#     return histogram"
   ]
  },
  {
   "cell_type": "code",
   "execution_count": 10,
   "id": "8afdb8a1-3b3a-4976-974d-855ad6fbee46",
   "metadata": {},
   "outputs": [],
   "source": [
    "# def extract_hist_coshel(tree, histogram):\n",
    "#     for event in tree:\n",
    "#         if event.iCascDcyBrP_Dst_0 ==0 and event.D0_M > 1.68 and event.D0_M < 2.05 and event.dM_pi0_75MeV > 0.022:\n",
    "#         #and event.gamma_E > 0.34:\n",
    "\n",
    "#             histogram.Fill(event.D0_cosHel_0)\n",
    "#     return histogram"
   ]
  },
  {
   "cell_type": "code",
   "execution_count": 11,
   "id": "180bbf17-769e-4579-bb25-321d03c8a0ae",
   "metadata": {},
   "outputs": [],
   "source": [
    "# def apply_cuts(tree, histogram):\n",
    "#     for event in tree:\n",
    "#         # if event.D0_M > 1.67 and event.D0_M < 2.06:\n",
    "#         if event.D0_M > 1.78 and event.D0_M < 1.92:\n",
    "\n",
    "#             histogram.Fill(event.D0_M)\n",
    "#     return histogram"
   ]
  },
  {
   "cell_type": "code",
   "execution_count": 12,
   "id": "79ebe577-8e50-4749-8933-7eefc08616d3",
   "metadata": {},
   "outputs": [],
   "source": [
    "# def extract_signals(tree, histogram):\n",
    "#     for event in tree:\n",
    "#         # if event.D0_M > 1.67 and event.D0_M < 2.06:\n",
    "#         # if event.iCascDcyBrP_Dst_0 ==0 and event.D0_M > 1.67 and event.D0_M < 2.06:\n",
    "#         if event.iCascDcyBrP_Dst_0 ==0 and event.D0_M > 1.67 and event.D0_M < 1.9 and event.dM_pi0_75MeV > 0.022:\n",
    "#         #and event.gamma_E > 0.34:\n",
    "\n",
    "#             histogram.Fill(event.D0_M)\n",
    "#     return histogram"
   ]
  },
  {
   "cell_type": "code",
   "execution_count": 13,
   "id": "a099ad3f-d6d3-4283-be2f-c9208bd80709",
   "metadata": {},
   "outputs": [],
   "source": [
    "# D0_cosHel_TH1F = extract_hist_coshel(signal_1ab_tree, D0_cosHel_TH1F)\n",
    "# c1 = ROOT.TCanvas()\n",
    "# D0_cosHel_TH1F.Draw()\n",
    "# c1.Draw()"
   ]
  },
  {
   "cell_type": "code",
   "execution_count": 14,
   "id": "6db6a69e-2cc6-4a5f-8150-ed65215efbc6",
   "metadata": {},
   "outputs": [],
   "source": [
    "\n",
    "# D0_M_TH1F_2 = extract_signals(signal_1ab_tree, D0_M_TH1F_2)\n",
    "# # D0_M_TH1F_2 = apply_cuts(signal_1ab_tree, D0_M_TH1F_2)\n",
    "\n",
    "# c1 = ROOT.TCanvas()\n",
    "# D0_M_TH1F_2.Draw()\n",
    "# c1.Draw()"
   ]
  },
  {
   "cell_type": "code",
   "execution_count": 15,
   "id": "6b227194-e200-426a-a720-ecd509f64fe7",
   "metadata": {},
   "outputs": [],
   "source": [
    "\n",
    "# scale_factor = D0_M_TH1F_2.GetEntries()/D0_M_TH1F.GetEntries()"
   ]
  },
  {
   "cell_type": "code",
   "execution_count": 16,
   "id": "cbed22c9-ed4a-476f-8c57-19a7aaab4665",
   "metadata": {},
   "outputs": [],
   "source": [
    "# scale_factor"
   ]
  },
  {
   "cell_type": "code",
   "execution_count": 17,
   "id": "859967ee-6636-47bb-b6a3-cee60093fea2",
   "metadata": {},
   "outputs": [],
   "source": [
    "#file_list = ['/media/jykim/T7/storage/01_recon/antiKstar/D0_massveto_v2_half_1_optimzed_sigext_signalMC_recon_mdst_antiKstar_*.root']\n",
    "file_list = [\"/media/jykim/T7/storage/01_recon/massvetov2_optimzed_sigext_1ab_bkg/topo/resultfile/result_antiKstar/standard.root\"]\n"
   ]
  },
  {
   "cell_type": "code",
   "execution_count": 18,
   "id": "1c225f65-cc81-4380-b708-b443ed7888ae",
   "metadata": {},
   "outputs": [],
   "source": [
    "mychain = ROOT.TChain(\"antiKstar\")\n",
    "# mychain = ROOT.TChain(\"phi_cc\")\n",
    "\n",
    "for i in file_list:\n",
    "    mychain.Add(i)"
   ]
  },
  {
   "cell_type": "code",
   "execution_count": 19,
   "id": "681e4699-a912-491b-b437-8e8fac85d7cd",
   "metadata": {},
   "outputs": [
    {
     "name": "stdout",
     "output_type": "stream",
     "text": [
      "63039.0\n",
      "[#1] INFO:InputArguments -- The formula  D0_M>1.68 & D0_M<2.05 & dM_pi0_75MeV > 0.022 & iCascDcyBrP_Dst_0 ==0   claims to use the variables (D0_M,D0_cosHel_0,dM_pi0_75MeV,iCascDcyBrP_Dst_0) but only (D0_M,dM_pi0_75MeV,iCascDcyBrP_Dst_0) seem to be in use.\n",
      "  inputs:          D0_M>1.68 & D0_M<2.05 & dM_pi0_75MeV > 0.022 & iCascDcyBrP_Dst_0 ==0  \n",
      "[#1] INFO:DataHandling -- RooAbsReal::attachToTree(iCascDcyBrP_Dst_0) TTree Int_t branch iCascDcyBrP_Dst_0 will be converted to double precision.\n",
      "[#1] INFO:DataHandling -- RooTreeDataStore::loadValues(data) Skipping event #25 because iCascDcyBrP_Dst_0 cannot accommodate the value -1\n",
      "[#1] INFO:DataHandling -- RooTreeDataStore::loadValues(data) Skipping event #100 because iCascDcyBrP_Dst_0 cannot accommodate the value -1\n",
      "[#1] INFO:DataHandling -- RooTreeDataStore::loadValues(data) Skipping event #107 because iCascDcyBrP_Dst_0 cannot accommodate the value -1\n",
      "[#1] INFO:DataHandling -- RooTreeDataStore::loadValues(data) Skipping event #138 because iCascDcyBrP_Dst_0 cannot accommodate the value -1\n",
      "[#1] INFO:DataHandling -- RooTreeDataStore::loadValues(data) Skipping ...\n",
      "[#0] WARNING:DataHandling -- RooTreeDataStore::loadValues(data) Ignored 1974 out-of-range events\n"
     ]
    }
   ],
   "source": [
    "yrange = (-1, 1)\n",
    "\n",
    "x = ROOT.RooRealVar(\"D0_M\", \"M(D^{0}) [GeV/c^{2}]\", 1.68, 2.05, \"\")\n",
    "y = ROOT.RooRealVar(\"D0_cosHel_0\", \"cos#theta_{H}\", yrange[0], yrange[1], \"\")\n",
    "# z = ROOT.RooRealVar(\"Belle2Pi0Veto_75MeV\", \"M(D^{0}) [GeV/c^{2}]\",0,10, \"\")\n",
    "z = ROOT.RooRealVar(\"dM_pi0_75MeV\", \"M(D^{0}) [GeV/c^{2}]\",0,10, \"\")\n",
    "a = ROOT.RooRealVar(\"iCascDcyBrP_Dst_0\", \"\",0,10000, \"\")\n",
    "\n",
    "# a = iCascDcyBrP_Dst_0\n",
    "\n",
    "# data = ROOT.RooDataSet(\"data\",\"\", ROOT.RooArgSet(x,y,z), ROOT.RooFit.Import(mychain), Cut=\" D0_M>1.68 & D0_M<2.05 & Belle2Pi0Veto_75MeV > 0.022 \")\n",
    "before_data = ROOT.RooDataSet(\"data\",\"\", ROOT.RooArgSet(x,y,z, a), ROOT.RooFit.Import(mychain), Cut=\" D0_M>1.68 & D0_M<2.05 & dM_pi0_75MeV > 0.022 & iCascDcyBrP_Dst_0 ==0  \")\n",
    "\n",
    "\n",
    "w_1 = ROOT.RooRealVar('w_1', 'w', 0,1)\n",
    "w_1.setVal(1)\n",
    "before_data.addColumn(w_1)\n",
    "data1 = ROOT.RooDataSet(before_data.GetName(), before_data.GetTitle(),before_data, before_data.get(), '' ,  'w_1')\n",
    "N_total = data1.sumEntries()\n",
    "print(N_total)"
   ]
  },
  {
   "cell_type": "code",
   "execution_count": null,
   "id": "a120438d-11b0-42ee-aebc-49717410a9b4",
   "metadata": {},
   "outputs": [],
   "source": []
  },
  {
   "cell_type": "code",
   "execution_count": 20,
   "id": "c4a6639f-6cf8-4178-977b-82394f82aa61",
   "metadata": {},
   "outputs": [],
   "source": [
    "#file_list = ['/media/jykim/T7/storage/01_recon/antiKstar/D0_massveto_v2_half_1_optimzed_sigext_signalMC_recon_mdst_antiKstar_*.root']\n",
    "file_list = [\"/media/jykim/T7/storage/01_recon/massvetov2_optimzed_sigext_1ab_bkg/topo/resultfile/result_antiKstar_cc/standard.root\"]\n"
   ]
  },
  {
   "cell_type": "code",
   "execution_count": 21,
   "id": "257b123d-7b52-4b66-a617-287d8d2d9f75",
   "metadata": {},
   "outputs": [],
   "source": [
    "mychain2 = ROOT.TChain(\"antiKstar_cc\")\n",
    "# mychain = ROOT.TChain(\"phi_cc\")\n",
    "\n",
    "for i in file_list:\n",
    "    mychain2.Add(i)"
   ]
  },
  {
   "cell_type": "code",
   "execution_count": 22,
   "id": "99b3cfdd-2f3d-44b6-a50e-df872421f04b",
   "metadata": {},
   "outputs": [
    {
     "name": "stdout",
     "output_type": "stream",
     "text": [
      "59558.0\n",
      "[#1] INFO:InputArguments -- The formula  D0_M>1.68 & D0_M<2.05 & dM_pi0_75MeV > 0.022 & iCascDcyBrP_Dstm_0 ==0   claims to use the variables (D0_M,D0_cosHel_0,dM_pi0_75MeV,iCascDcyBrP_Dstm_0) but only (D0_M,dM_pi0_75MeV,iCascDcyBrP_Dstm_0) seem to be in use.\n",
      "  inputs:          D0_M>1.68 & D0_M<2.05 & dM_pi0_75MeV > 0.022 & iCascDcyBrP_Dstm_0 ==0  \n",
      "[#1] INFO:DataHandling -- RooAbsReal::attachToTree(iCascDcyBrP_Dstm_0) TTree Int_t branch iCascDcyBrP_Dstm_0 will be converted to double precision.\n",
      "[#1] INFO:DataHandling -- RooTreeDataStore::loadValues(data2) Skipping event #211 because iCascDcyBrP_Dstm_0 cannot accommodate the value -1\n",
      "[#1] INFO:DataHandling -- RooTreeDataStore::loadValues(data2) Skipping event #227 because iCascDcyBrP_Dstm_0 cannot accommodate the value -1\n",
      "[#1] INFO:DataHandling -- RooTreeDataStore::loadValues(data2) Skipping event #238 because iCascDcyBrP_Dstm_0 cannot accommodate the value -1\n",
      "[#1] INFO:DataHandling -- RooTreeDataStore::loadValues(data2) Skipping event #300 because iCascDcyBrP_Dstm_0 cannot accommodate the value -1\n",
      "[#1] INFO:DataHandling -- RooTreeDataStore::loadValues(data2) Skipping ...\n",
      "[#0] WARNING:DataHandling -- RooTreeDataStore::loadValues(data2) Ignored 1889 out-of-range events\n"
     ]
    }
   ],
   "source": [
    "\n",
    "# a = iCascDcyBrP_Dst_0\n",
    "b = ROOT.RooRealVar(\"iCascDcyBrP_Dstm_0\", \"\",0,10000, \"\")\n",
    "\n",
    "# data = ROOT.RooDataSet(\"data\",\"\", ROOT.RooArgSet(x,y,z), ROOT.RooFit.Import(mychain), Cut=\" D0_M>1.68 & D0_M<2.05 & Belle2Pi0Veto_75MeV > 0.022 \")\n",
    "before_data2 = ROOT.RooDataSet(\"data2\",\"\", ROOT.RooArgSet(x,y,z, b), ROOT.RooFit.Import(mychain2), Cut=\" D0_M>1.68 & D0_M<2.05 & dM_pi0_75MeV > 0.022 & iCascDcyBrP_Dstm_0 ==0  \")\n",
    "\n",
    "\n",
    "# w_1 = ROOT.RooRealVar('w_1', 'w', 0,1)\n",
    "# w_1.setVal(1) \n",
    "before_data2.addColumn(w_1)\n",
    "data2 = ROOT.RooDataSet(before_data2.GetName(), before_data2.GetTitle(),before_data2, before_data2.get(), '' ,  'w_1')\n",
    "N_total = data2.sumEntries()\n",
    "print(N_total)"
   ]
  },
  {
   "cell_type": "code",
   "execution_count": 23,
   "id": "0b1cdbc7-bd0f-4b9f-84c6-af0d09d09ad8",
   "metadata": {},
   "outputs": [],
   "source": [
    "data1.append(data2)"
   ]
  },
  {
   "cell_type": "code",
   "execution_count": 24,
   "id": "96a725e7-e49b-4912-8501-66dab527eb15",
   "metadata": {},
   "outputs": [
    {
     "data": {
      "text/plain": [
       "<cppyy.gbl.RooDataSet object at 0x55ad2a63d4d0>"
      ]
     },
     "execution_count": 24,
     "metadata": {},
     "output_type": "execute_result"
    }
   ],
   "source": [
    "data1"
   ]
  },
  {
   "cell_type": "code",
   "execution_count": 25,
   "id": "4599e958-482f-4498-9f2f-f3876e6a5b26",
   "metadata": {},
   "outputs": [
    {
     "data": {
      "text/plain": [
       "122597.0"
      ]
     },
     "execution_count": 25,
     "metadata": {},
     "output_type": "execute_result"
    }
   ],
   "source": [
    "data1.sumEntries()"
   ]
  },
  {
   "cell_type": "markdown",
   "id": "6dd87461-e53c-435b-98b4-f1860bd96dd5",
   "metadata": {},
   "source": [
    "# D0_M"
   ]
  },
  {
   "cell_type": "code",
   "execution_count": 26,
   "id": "07856c14-3fbb-45dd-b69c-ef1a94ebc3a9",
   "metadata": {},
   "outputs": [],
   "source": [
    "fitting_region = (1.68, 2.05)\n",
    "# x = ROOT.RooRealVar(\"M(D^{0})\", \"M(D^{0}) [GeV/c^{2}]\", fitting_region[0], fitting_region[1], \"\")\n",
    "# # x.setBins(50)\n",
    "# l = ROOT.RooArgList(x)\n",
    "# # signalhist = ROOT.RooDataHist(\"sighist\", \"sighist\", l, D0_M_TH1F, scale_factor)\n",
    "# signalhist = ROOT.RooDataHist(\"sighist\", \"sighist\", l, D0_M_TH1F_2, 1)\n"
   ]
  },
  {
   "cell_type": "code",
   "execution_count": 30,
   "id": "81461404-b419-43dc-b0a9-5a8ab1a4544b",
   "metadata": {},
   "outputs": [],
   "source": [
    "\n",
    "mean = ROOT.RooRealVar(\"mean\", \"mean of gaussians\", 1.84,1.83, 1.86)\n",
    "sigma1 = ROOT.RooRealVar(\"sigma1\", \"width of gaussians\", 0.01,0,0.04)\n",
    "sigma2 = ROOT.RooRealVar(\"sigma2\", \"width of gaussians\", 0.02,0,0.05)\n",
    "alpha = ROOT.RooRealVar(\"alpha\", \"width of gaussians\", 0.5,0,2)\n",
    "n_CB = ROOT.RooRealVar(\"alpha\", \"width of gaussians\", 0.5,0,2)\n",
    " \n",
    "Novo_peak = ROOT.RooRealVar(\"Novo_peak\", \"Novo peak\", 1.7,1.67,1.8)    \n",
    "Novo_width = ROOT.RooRealVar(\"Novo_widh\", \"Novo peak\", 0.05,0,0.5)    \n",
    "Novo_tail = ROOT.RooRealVar(\"Novo_tail\", \"Novo peak\", 0.5,0,10)    \n",
    "\n",
    "\n",
    "sigma3 = ROOT.RooRealVar(\"sigma3\", \"width of gaussians\", 0.02,0,0.5)\n",
    "alpha2 = ROOT.RooRealVar(\"alph2\", \"width of gaussians\", 0.5,0,2)\n",
    "n_CB2 = ROOT.RooRealVar(\"n_CB2\", \"width of gaussians\", 5,0,10)"
   ]
  },
  {
   "cell_type": "code",
   "execution_count": 31,
   "id": "d3e84151-333d-413d-a83d-3c0021b9e305",
   "metadata": {},
   "outputs": [],
   "source": [
    "sigmaL = ROOT.RooRealVar(\"sigmaL\", \"width of gaussians\", 0.01,0,0.04)\n",
    "sigmaR = ROOT.RooRealVar(\"sigmaR\", \"width of gaussians\", 0.01,0,0.04)\n",
    "alphaL = ROOT.RooRealVar(\"alphaL\", \"width of gaussians\", 0.5,0,2)\n",
    "nL     = ROOT.RooRealVar(\"nL\", \"width of gaussians\", 0.5,0,4)\n",
    "alphaR = ROOT.RooRealVar(\"alphaR\", \"width of gaussians\", 0.5,0,3)\n",
    "nR     = ROOT.RooRealVar(\"nR\", \"width of gaussians\", 0.5,0,2)"
   ]
  },
  {
   "cell_type": "code",
   "execution_count": 32,
   "id": "32658f60-999f-40d5-9109-803d213b55ed",
   "metadata": {},
   "outputs": [
    {
     "name": "stdout",
     "output_type": "stream",
     "text": [
      "[#0] WARNING:InputArguments -- The parameter 'sigma1' with range [0, 0.04] of the RooGaussian 'sig1' exceeds the safe range of (0, inf). Advise to limit its range.\n",
      "[#0] WARNING:InputArguments -- The parameter 'sigmaL' with range [0, 0.04] of the RooCrystalBall 'model' exceeds the safe range of (0, inf). Advise to limit its range.\n",
      "[#0] WARNING:InputArguments -- The parameter 'sigmaR' with range [0, 0.04] of the RooCrystalBall 'model' exceeds the safe range of (0, inf). Advise to limit its range.\n",
      "[#0] WARNING:InputArguments -- The parameter 'alphaL' with range [0, 2] of the RooCrystalBall 'model' exceeds the safe range of (0, inf). Advise to limit its range.\n",
      "[#0] WARNING:InputArguments -- The parameter 'alphaR' with range [0, 3] of the RooCrystalBall 'model' exceeds the safe range of (0, inf). Advise to limit its range.\n",
      "[#0] WARNING:InputArguments -- The parameter 'nL' with range [0, 4] of the RooCrystalBall 'model' exceeds the safe range of (0, inf). Advise to limit its range.\n",
      "[#0] WARNING:InputArguments -- The parameter 'nR' with range [0, 2] of the RooCrystalBall 'model' exceeds the safe range of (0, inf). Advise to limit its range.\n",
      "[#1] INFO:Minimization -- RooAbsMinimizerFcn::setOptimizeConst: activating const optimization\n",
      "[#1] INFO:Fitting -- RooAbsOptTestStatistic::ctor(nll_model_data) constructing test statistic for sub-range named fit\n",
      "[#1] INFO:Fitting -- RooAbsOptTestStatistic::ctor(nll_model_data) fixing interpretation of coefficients of any RooAddPdf to full domain of observables \n",
      "[#1] INFO:Eval -- RooAbsTestStatistic::initMPMode: started 12 remote server process.\n",
      " **********\n",
      " **   10 **SET PRINT           1\n",
      " **********\n",
      " **********\n",
      " **   11 **SET NOGRAD\n",
      " **********\n",
      " PARAMETER DEFINITIONS:\n",
      "    NO.   NAME         VALUE      STEP SIZE      LIMITS\n",
      "     1 alphaL       5.00000e-01  2.00000e-01    0.00000e+00  2.00000e+00\n",
      "     2 alphaR       5.00000e-01  2.50000e-01    0.00000e+00  3.00000e+00\n",
      "     3 mean         1.84000e+00  3.00000e-03    1.83000e+00  1.86000e+00\n",
      "     4 nL           5.00000e-01  2.50000e-01    0.00000e+00  4.00000e+00\n",
      "     5 nR           5.00000e-01  2.00000e-01    0.00000e+00  2.00000e+00\n",
      "     6 sigmaL       1.00000e-02  4.00000e-03    0.00000e+00  4.00000e-02\n",
      "     7 sigmaR       1.00000e-02  4.00000e-03    0.00000e+00  4.00000e-02\n",
      " **********\n",
      " **   12 **SET ERR         0.5\n",
      " **********\n",
      " **********\n",
      " **   13 **SET PRINT           1\n",
      " **********\n",
      " **********\n",
      " **   14 **SET STR           1\n",
      " **********\n",
      " NOW USING STRATEGY  1: TRY TO BALANCE SPEED AGAINST RELIABILITY\n",
      " **********\n",
      " **   15 **MIGRAD        3500           1\n",
      " **********\n",
      " FIRST CALL TO USER FUNCTION AT NEW START POINT, WITH IFLAG=4.\n",
      " START MIGRAD MINIMIZATION.  STRATEGY  1.  CONVERGENCE WHEN EDM .LT. 1.00e-03\n",
      " FCN=-189208 FROM MIGRAD    STATUS=INITIATE       58 CALLS          59 TOTAL\n",
      "                     EDM= unknown      STRATEGY= 1      NO ERROR MATRIX       \n",
      "  EXT PARAMETER               CURRENT GUESS       STEP         FIRST   \n",
      "  NO.   NAME      VALUE            ERROR          SIZE      DERIVATIVE \n",
      "   1  alphaL       5.00000e-01   2.00000e-01   0.00000e+00  -8.80136e+03\n",
      "   2  alphaR       5.00000e-01   2.50000e-01   0.00000e+00  -9.56083e+03\n",
      "   3  mean         1.84000e+00   3.00000e-03   0.00000e+00  -1.04262e+04\n",
      "   4  nL           5.00000e-01   2.50000e-01   0.00000e+00  -2.76220e+04\n",
      "   5  nR           5.00000e-01   2.00000e-01   0.00000e+00  -4.22728e+04\n",
      "   6  sigmaL       1.00000e-02   4.00000e-03   0.00000e+00   2.92219e+03\n",
      "   7  sigmaR       1.85817e-03   4.00000e-03  -6.12724e-01   8.38622e+03\n",
      "                               ERR DEF= 0.5\n",
      " MIGRAD MINIMIZATION HAS CONVERGED.\n",
      " MIGRAD WILL VERIFY CONVERGENCE AND ERROR MATRIX.\n",
      " COVARIANCE MATRIX CALCULATED SUCCESSFULLY\n",
      " FCN=-227001 FROM MIGRAD    STATUS=CONVERGED     835 CALLS         836 TOTAL\n",
      "                     EDM=0.000199516    STRATEGY= 1      ERROR MATRIX ACCURATE \n",
      "  EXT PARAMETER                                   STEP         FIRST   \n",
      "  NO.   NAME      VALUE            ERROR          SIZE      DERIVATIVE \n",
      "   1  alphaL       9.86599e-01   2.71629e-02   1.52177e-03   1.26269e+00\n",
      "   2  alphaR       2.41378e+00   2.91041e-02   2.18928e-03   5.63897e-02\n",
      "   3  mean         1.84161e+00   3.00929e-04   1.80832e-03   1.62603e-01\n",
      "   4  nL           2.13208e+00   1.01206e-01   4.95346e-03  -4.84717e-01\n",
      "   5  nR           6.15134e-01   3.65806e-02   3.76800e-03  -2.19283e-02\n",
      "   6  sigmaL       2.82334e-02   5.91164e-04   2.33339e-03   7.06660e-01\n",
      "   7  sigmaR       1.69623e-02   1.87277e-04   1.05007e-03   1.08117e+00\n",
      "                               ERR DEF= 0.5\n",
      " EXTERNAL ERROR MATRIX.    NDIM=  25    NPAR=  7    ERR DEF=0.5\n",
      "  7.380e-04 -1.520e-04  4.591e-06  2.334e-03 -1.096e-04 -1.374e-05 -2.357e-06 \n",
      " -1.520e-04  8.472e-04 -3.286e-06 -2.154e-04  1.011e-03  4.743e-06  2.549e-06 \n",
      "  4.591e-06 -3.286e-06  9.057e-08  6.909e-06 -2.723e-06 -1.430e-07 -5.181e-08 \n",
      "  2.334e-03 -2.154e-04  6.909e-06  1.025e-02 -1.390e-04 -3.004e-05 -3.302e-06 \n",
      " -1.096e-04  1.011e-03 -2.723e-06 -1.390e-04  1.339e-03  3.430e-06  2.333e-06 \n",
      " -1.374e-05  4.743e-06 -1.430e-07 -3.004e-05  3.430e-06  3.496e-07  7.358e-08 \n",
      " -2.357e-06  2.549e-06 -5.181e-08 -3.302e-06  2.333e-06  7.358e-08  3.507e-08 \n",
      " PARAMETER  CORRELATION COEFFICIENTS  \n",
      "       NO.  GLOBAL      1      2      3      4      5      6      7\n",
      "        1  0.98538   1.000 -0.192  0.562  0.848 -0.110 -0.856 -0.463\n",
      "        2  0.96235  -0.192  1.000 -0.375 -0.073  0.949  0.276  0.468\n",
      "        3  0.96372   0.562 -0.375  1.000  0.227 -0.247 -0.804 -0.919\n",
      "        4  0.95489   0.848 -0.073  0.227  1.000 -0.038 -0.502 -0.174\n",
      "        5  0.95732  -0.110  0.949 -0.247 -0.038  1.000  0.159  0.340\n",
      "        6  0.97574  -0.856  0.276 -0.804 -0.502  0.159  1.000  0.664\n",
      "        7  0.94148  -0.463  0.468 -0.919 -0.174  0.340  0.664  1.000\n",
      " **********\n",
      " **   16 **SET ERR         0.5\n",
      " **********\n",
      " **********\n",
      " **   17 **SET PRINT           1\n",
      " **********\n",
      " **********\n",
      " **   18 **HESSE        3500\n",
      " **********\n",
      " COVARIANCE MATRIX CALCULATED SUCCESSFULLY\n",
      " FCN=-227001 FROM HESSE     STATUS=OK             50 CALLS         886 TOTAL\n",
      "                     EDM=0.000189951    STRATEGY= 1      ERROR MATRIX ACCURATE \n",
      "  EXT PARAMETER                                INTERNAL      INTERNAL  \n",
      "  NO.   NAME      VALUE            ERROR       STEP SIZE       VALUE   \n",
      "   1  alphaL       9.86599e-01   2.55264e-02   3.04353e-04  -1.34018e-02\n",
      "   2  alphaR       2.41378e+00   2.90144e-02   8.75711e-05   6.55031e-01\n",
      "   3  mean         1.84161e+00   2.93627e-04   3.61663e-04  -2.28107e-01\n",
      "   4  nL           2.13208e+00   9.68652e-02   1.98138e-04   3.07550e+00\n",
      "   5  nR           6.15134e-01   3.64967e-02   1.50720e-04   3.53666e+00\n",
      "   6  sigmaL       2.82334e-02   5.60385e-04   9.33354e-05   2.71731e+00\n",
      "   7  sigmaR       1.69623e-02   1.84865e-04   2.10014e-04  -1.52473e-01\n",
      "                               ERR DEF= 0.5\n",
      " EXTERNAL ERROR MATRIX.    NDIM=  25    NPAR=  7    ERR DEF=0.5\n",
      "  6.517e-04 -1.358e-04  4.005e-06  2.071e-03 -9.990e-05 -1.204e-05 -2.072e-06 \n",
      " -1.358e-04  8.420e-04 -3.189e-06 -1.688e-04  1.005e-03  4.425e-06  2.508e-06 \n",
      "  4.005e-06 -3.189e-06  8.623e-08  5.319e-06 -2.677e-06 -1.304e-07 -4.980e-08 \n",
      "  2.071e-03 -1.688e-04  5.319e-06  9.390e-03 -1.098e-04 -2.522e-05 -2.526e-06 \n",
      " -9.990e-05  1.005e-03 -2.677e-06 -1.098e-04  1.333e-03  3.256e-06  2.316e-06 \n",
      " -1.204e-05  4.425e-06 -1.304e-07 -2.522e-05  3.256e-06  3.141e-07  6.751e-08 \n",
      " -2.072e-06  2.508e-06 -4.980e-08 -2.526e-06  2.316e-06  6.751e-08  3.418e-08 \n",
      " PARAMETER  CORRELATION COEFFICIENTS  \n",
      "       NO.  GLOBAL      1      2      3      4      5      6      7\n",
      "        1  0.98343   1.000 -0.183  0.534  0.837 -0.107 -0.842 -0.439\n",
      "        2  0.96212  -0.183  1.000 -0.374 -0.060  0.949  0.272  0.468\n",
      "        3  0.96186   0.534 -0.374  1.000  0.187 -0.250 -0.793 -0.917\n",
      "        4  0.95065   0.837 -0.060  0.187  1.000 -0.031 -0.464 -0.141\n",
      "        5  0.95712  -0.107  0.949 -0.250 -0.031  1.000  0.159  0.343\n",
      "        6  0.97296  -0.842  0.272 -0.793 -0.464  0.159  1.000  0.652\n",
      "        7  0.93991  -0.439  0.468 -0.917 -0.141  0.343  0.652  1.000\n",
      "[#1] INFO:Minimization -- RooAbsMinimizerFcn::setOptimizeConst: deactivating const optimization\n",
      "\n",
      "  RooFitResult: minimized FCN value: -227001, estimated distance to minimum: 0.000189951\n",
      "                covariance matrix quality: Full, accurate covariance matrix\n",
      "                Status : MINIMIZE=0 HESSE=0 \n",
      "\n",
      "    Floating Parameter    FinalValue +/-  Error   \n",
      "  --------------------  --------------------------\n",
      "                alphaL    9.8660e-01 +/-  2.55e-02\n",
      "                alphaR    2.4138e+00 +/-  2.90e-02\n",
      "                  mean    1.8416e+00 +/-  2.94e-04\n",
      "                    nL    2.1321e+00 +/-  9.69e-02\n",
      "                    nR    6.1513e-01 +/-  3.65e-02\n",
      "                sigmaL    2.8233e-02 +/-  5.60e-04\n",
      "                sigmaR    1.6962e-02 +/-  1.85e-04\n",
      "\n",
      "[#1] INFO:Plotting -- RooAbsPdf::plotOn(model) p.d.f was fitted in a subrange and no explicit Range() and NormRange() was specified. Plotting / normalising in fit range. To override, do one of the following\n",
      "\t- Clear the automatic fit range attribute: <pdf>.setStringAttribute(\"fitrange\", nullptr);\n",
      "\t- Explicitly specify the plotting range: Range(\"<rangeName>\").\n",
      "\t- Explicitly specify where to compute the normalisation: NormRange(\"<rangeName>\").\n",
      "\tThe default (full) range can be denoted with Range(\"\") / NormRange(\"\").\n",
      "[#1] INFO:Plotting -- RooAbsPdf::plotOn(model) only plotting range 'fit_nll_model_data'\n",
      "[#1] INFO:Plotting -- RooAbsPdf::plotOn(model) p.d.f. curve is normalized using explicit choice of ranges 'fit_nll_model_data'\n",
      "[#0] ERROR:Plotting -- RooAbsPdf::plotOn(model) ERROR: component selection set (sig1) does not match any components of p.d.f.\n",
      "[#1] INFO:Plotting -- RooAbsPdf::plotOn(model) p.d.f was fitted in a subrange and no explicit Range() and NormRange() was specified. Plotting / normalising in fit range. To override, do one of the following\n",
      "\t- Clear the automatic fit range attribute: <pdf>.setStringAttribute(\"fitrange\", nullptr);\n",
      "\t- Explicitly specify the plotting range: Range(\"<rangeName>\").\n",
      "\t- Explicitly specify where to compute the normalisation: NormRange(\"<rangeName>\").\n",
      "\tThe default (full) range can be denoted with Range(\"\") / NormRange(\"\").\n",
      "[#1] INFO:Plotting -- RooAbsPdf::plotOn(model) only plotting range 'fit_nll_model_data'\n",
      "[#1] INFO:Plotting -- RooAbsPdf::plotOn(model) p.d.f. curve is normalized using explicit choice of ranges 'fit_nll_model_data'\n",
      "[#0] ERROR:Plotting -- RooAbsPdf::plotOn(model) ERROR: component selection set (sig2) does not match any components of p.d.f.\n",
      "[#1] INFO:Plotting -- RooAbsPdf::plotOn(model) p.d.f was fitted in a subrange and no explicit Range() and NormRange() was specified. Plotting / normalising in fit range. To override, do one of the following\n",
      "\t- Clear the automatic fit range attribute: <pdf>.setStringAttribute(\"fitrange\", nullptr);\n",
      "\t- Explicitly specify the plotting range: Range(\"<rangeName>\").\n",
      "\t- Explicitly specify where to compute the normalisation: NormRange(\"<rangeName>\").\n",
      "\tThe default (full) range can be denoted with Range(\"\") / NormRange(\"\").\n",
      "[#1] INFO:Plotting -- RooAbsPdf::plotOn(model) only plotting range 'fit_nll_model_data'\n",
      "[#1] INFO:Plotting -- RooAbsPdf::plotOn(model) p.d.f. curve is normalized using explicit choice of ranges 'fit_nll_model_data'\n"
     ]
    },
    {
     "name": "stderr",
     "output_type": "stream",
     "text": [
      "Warning in <TCanvas::Constructor>: Deleting canvas with same name: Canvas\n",
      "Info in <TCanvas::Print>: png file /media/jykim/T7/saved_plots/fitting/results/antiKstargamma/antiKstar_massveto_1ab_Vpi0.png has been created\n"
     ]
    },
    {
     "data": {
      "image/png": "[encoded data removed]",
      "text/plain": [
       "<IPython.core.display.Image object>"
      ]
     },
     "metadata": {},
     "output_type": "display_data"
    }
   ],
   "source": [
    "canv = ROOT.TCanvas(\"Canvas\", \"Canvas\", 700, 640)\n",
    "\n",
    "xlow = ctypes.c_double()\n",
    "ylow = ctypes.c_double()\n",
    "xup = ctypes.c_double()\n",
    "yup = ctypes.c_double()\n",
    "\n",
    "canv.GetPad(0).GetPadPar(xlow, ylow, xup, yup)\n",
    "canv.Divide(1,2)\n",
    "\n",
    "xlow = xlow.value\n",
    "ylow = ylow.value\n",
    "xup = xup.value\n",
    "yup = yup.value\n",
    "\n",
    "upPad = canv.GetPad(1)\n",
    "upPad.SetPad(xlow, ylow+0.25*(yup-ylow),xup,yup)\n",
    "\n",
    "dwPad = canv.GetPad(2)\n",
    "dwPad.SetPad(xlow, ylow,xup,ylow+0.25*(yup-ylow))\n",
    "\n",
    "    \n",
    "sig1 = ROOT.RooGaussian(\"sig1\", \"Signal component 1\", x, mean, sigma1)\n",
    "sig2 = ROOT.RooCBShape(\"sig2\", \"Signal component 2\", x, mean, sigma2, alpha, n_CB)\n",
    "# # sig1 = ROOT.RooNovosibirsk(\"sig1\", \"Signal component 3\", x, mean, Novo_width, Novo_tail)\n",
    "# # sig1 = ROOT.RooNovosibirsk(\"sig1\", \"Signal component 3\", x, Novo_peak, Novo_width, Novo_tail)\n",
    "# # sig1 = ROOT.RooCBShape(\"sig1\", \"Signal component 2\", x, mean, sigma3, alpha2, n_CB2)\n",
    "\n",
    "\n",
    "sig1frac = ROOT.RooRealVar(\"sig1frac\", \"fraction of component 1 in signal\", 0.5, 0.0, 1.0)\n",
    "\n",
    "\n",
    "\n",
    "# model = ROOT.RooCBShape(\"model\", \"Signal component 2\", x, mean, sigma2, alpha, n_CB)\n",
    "\n",
    "#model = ROOT.RooAddPdf(\"model\", \"model\", [sig1, sig2], sig1frac)\n",
    "\n",
    "model = ROOT.RooCrystalBall(\"model\", \"Signal component 2\", x, mean, sigmaL, sigmaR, alphaL, nL, alphaR, nR)\n",
    "\n",
    "# model = ROOT.RooCBShape(\"model\", \"Signal component 2\", x, mean, sigma2, alpha, n_CB)\n",
    "\n",
    "\n",
    "# # # Create the Crystal Ball function\n",
    "# cb = ROOT.RooCBShape(\"cb\", \"Crystal Ball\", x, mean, sigma2, alpha, n_CB)\n",
    "\n",
    "# # Create the parameters for the Gaussian function\n",
    "# mean_gauss = ROOT.RooRealVar(\"mean_gauss\", \"Mean of Gaussian\", 0, 0, 1)\n",
    "# sigma_gauss = ROOT.RooRealVar(\"sigma_gauss\", \"Width of Gaussian\", 0.01, 0.001, 0.5)\n",
    "\n",
    "# # Create the Gaussian function\n",
    "# gauss = ROOT.RooGaussian(\"gauss\", \"Gaussian\", x, mean_gauss, sigma_gauss)\n",
    "\n",
    "# # Create the convolution PDF using RooFFTConvPdf\n",
    "# model = ROOT.RooFFTConvPdf(\"model\", \"Convolution PDF\", x, cb, gauss)\n",
    "\n",
    "\n",
    "\n",
    "# r = model.fitTo(signalhist,NumCPU=12,Range=fitting_region,PrintLevel=-1, Save=1)\n",
    "#r = model.fitTo(signalhist,NumCPU=12,Range=fitting_region,PrintLevel=-1, Save=1)\n",
    "r = model.fitTo(data1,NumCPU=12,Range=fitting_region,PrintLevel=1, Save=1)\n",
    "\n",
    "r.Print()\n",
    "canv.cd(1) \n",
    "# frame = x.frame(Title=\"D^{0} #rightarrow #bar{K}^{*0} #pi^{0}\")\n",
    "frame = x.frame(Title=\" \")\n",
    "\n",
    "#signalhist.plotOn(frame,Name = \"data1\", XErrorSize=0)\n",
    "data1.plotOn(frame,Name = \"data1\", XErrorSize=0)\n",
    "\n",
    "model.plotOn(frame, Name=\"gauss1\", Components=sig1, LineStyle=ROOT.kDashed, LineColor=593)\n",
    "model.plotOn(frame, Name=\"CB1\", Components=sig2, LineStyle=ROOT.kDashed, LineColor=593)\n",
    "# sig.plotOn(frame, Name=\"Novo\", Components=sig3, LineStyle=ROOT.kDashed, LineColor=593)\n",
    "\n",
    "model.plotOn(frame, Name=\"fitting\",)\n",
    "\n",
    "\n",
    "# sig.paramOn(frame)\n",
    "frame.GetXaxis().CenterTitle(True)\n",
    "frame.Draw(\"PE\")\n",
    "\n",
    "\n",
    "leg1 = ROOT.TLegend(0.25, 0.75, 0.4, 0.9)\n",
    "# leg1.SetBorderSize(0)\n",
    "leg1.SetFillColor(ROOT.kWhite)\n",
    "# leg1.SetHeader(\"The Legend title\",\"C\")\n",
    "leg1.AddEntry(\"data1\", \"MC\", \"PE\")\n",
    "leg1.AddEntry(\"fitting\", \"fit\", \"l\")\n",
    "leg1.Draw()\n",
    "\n",
    "hpull = frame.pullHist()\n",
    "hpull.SetFillStyle(1001)\n",
    "hpull.SetFillColor(1);\n",
    "for i in range(0,hpull.GetN()):#(int i=0;i<hpull.GetN();++i): \n",
    "    hpull.SetPointError(i,0.0,0.0,0.0,0.0)\n",
    "# pullplot = x.frame(Title(\" \"))\n",
    "pullplot = x.frame()\n",
    "pullplot.SetTitle(\"\")\n",
    "pullplot.addPlotable(hpull,\"BE\")\n",
    "# pullplot.addPlotable(hpull,\"PE\")\n",
    "\n",
    "pullplot.SetYTitle(\"Pull\")\n",
    "pullplot.GetXaxis().SetTitleSize(0)\n",
    "pullplot.GetYaxis().SetTitleSize(0.22)\n",
    "pullplot.GetYaxis().CenterTitle(True)\n",
    "pullplot.GetYaxis().SetTitleOffset(0.2)\n",
    "pullplot.SetMinimum(-4.)\n",
    "pullplot.SetMaximum(4.)\n",
    "pullplot.GetXaxis().SetLabelSize(0.15)\n",
    "pullplot.GetYaxis().SetLabelSize(0.105)\n",
    "canv.cd(2)\n",
    "pullplot.Draw()\n",
    "\n",
    "xmin1 = ctypes.c_double(fitting_region[0])\n",
    "xmax1 = ctypes.c_double(fitting_region[1])\n",
    "# xmin1 = 0.1\n",
    "# xmax1 = 0.18\n",
    "line = ROOT.TLine(xmin1,0.0,xmax1,0.0)\n",
    "line1 = ROOT.TLine(xmin1,3.0,xmax1,3.0)\n",
    "line2 = ROOT.TLine(xmin1,-3.0,xmax1,-3.0)\n",
    "\n",
    "line.SetLineColor(ROOT.kRed)\n",
    "line.SetLineWidth(3)\n",
    "line1.SetLineColor(ROOT.kRed)\n",
    "line2.SetLineColor(ROOT.kRed)\n",
    "line1.SetLineStyle(2)\n",
    "line2.SetLineStyle(2)\n",
    "line.Draw(\"SAME\")\n",
    "line1.Draw(\"SAME\")\n",
    "line2.Draw(\"SAME\")\n",
    "\n",
    "canv.Update()\n",
    "\n",
    "canv.Draw()\n",
    "canv.SaveAs(\"/media/jykim/T7/saved_plots/fitting/results/antiKstargamma/antiKstar_massveto_1ab_Vpi0.png\")\n",
    "\n",
    "f = ROOT.TFile(\"antiKstarg_signalMC_fitresult.root\", \"RECREATE\")\n",
    "r.Write(\"antiKstarg\")\n",
    "f.Close()\n"
   ]
  },
  {
   "cell_type": "code",
   "execution_count": 35,
   "id": "35ffd040-f571-4a12-bcd2-5df6cec6c76e",
   "metadata": {},
   "outputs": [
    {
     "name": "stdout",
     "output_type": "stream",
     "text": [
      "0x55eda50fef00 RooCBShape::model = 0.474006 [Auto,Dirty] \n",
      "  0x55ed91f2a2c0/V- RooRealVar::D0_M = 1.805\n",
      "  0x55ed96c26080/V- RooRealVar::mean = 1.83538 +/- 0.00013769\n",
      "  0x55ed9789fa90/V- RooRealVar::sigma2 = 0.0223887 +/- 9.68891e-05\n",
      "  0x55ed974b5650/V- RooRealVar::alpha = 0.838528 +/- 0.0135609\n",
      "  0x55ed9a9eb6c0/V- RooRealVar::n_CB = 2.08605 +/- 0.0748492\n"
     ]
    }
   ],
   "source": [
    "model.Print(\"t\")"
   ]
  },
  {
   "cell_type": "code",
   "execution_count": 50,
   "id": "43ffc56d-f01f-49c7-96d3-6e55a2bd4819",
   "metadata": {},
   "outputs": [],
   "source": [
    "f = ROOT.TFile.Open(\"phig_signalMC_fitresult.root\")\n",
    "r2 = ROOT.gDirectory.Get(\"phig_sig\")\n",
    "f.Close()\n"
   ]
  },
  {
   "cell_type": "code",
   "execution_count": 19,
   "id": "e449db02-3a12-4028-a58f-1daa29df377e",
   "metadata": {},
   "outputs": [
    {
     "name": "stdout",
     "output_type": "stream",
     "text": [
      "\n",
      "  RooFitResult: minimized FCN value: -114338, estimated distance to minimum: 4.04012e-05\n",
      "                covariance matrix quality: Full, accurate covariance matrix\n",
      "                Status : MINIMIZE=0 HESSE=0 \n",
      "\n",
      "    Floating Parameter    FinalValue +/-  Error   \n",
      "  --------------------  --------------------------\n",
      "                 alpha    3.7326e-01 +/-  2.39e-02\n",
      "                  mean    1.8417e+00 +/-  2.22e-04\n",
      "                  n_CB    3.6990e+00 +/-  3.78e-01\n",
      "              sig1frac    2.3818e-01 +/-  2.12e-02\n",
      "                sigma1    2.2756e-02 +/-  5.58e-04\n",
      "                sigma2    1.4420e-02 +/-  2.67e-04\n",
      "\n"
     ]
    }
   ],
   "source": [
    "r2.Print()"
   ]
  },
  {
   "cell_type": "code",
   "execution_count": 20,
   "id": "b612badd-87c1-47fd-bb71-12982c4377b0",
   "metadata": {},
   "outputs": [
    {
     "data": {
      "text/plain": [
       "-0.8745236220190833"
      ]
     },
     "execution_count": 20,
     "metadata": {},
     "output_type": "execute_result"
    }
   ],
   "source": [
    "r2.correlation(\"alpha\",\"n_CB\")"
   ]
  },
  {
   "cell_type": "code",
   "execution_count": 21,
   "id": "a81b463a-ffdb-4e4d-a472-7d01dccfa76d",
   "metadata": {},
   "outputs": [
    {
     "data": {
      "text/plain": [
       "4.0401224791271204e-05"
      ]
     },
     "execution_count": 21,
     "metadata": {},
     "output_type": "execute_result"
    }
   ],
   "source": [
    "r2.edm()"
   ]
  },
  {
   "cell_type": "code",
   "execution_count": 22,
   "id": "405e4318-7ba2-4362-acae-6d90a363da53",
   "metadata": {},
   "outputs": [
    {
     "data": {
      "text/plain": [
       "<cppyy.gbl.TMatrixTSym<double> object at 0x55998a4fdb00>"
      ]
     },
     "execution_count": 22,
     "metadata": {},
     "output_type": "execute_result"
    }
   ],
   "source": [
    "r2.correlationMatrix()"
   ]
  },
  {
   "cell_type": "markdown",
   "id": "e2a69432-4b5a-4bc5-a795-b6ef90ce8ecf",
   "metadata": {},
   "source": [
    "# cosHel"
   ]
  },
  {
   "cell_type": "code",
   "execution_count": 33,
   "id": "df595432-4e00-4060-8537-d235fd0f6ac7",
   "metadata": {},
   "outputs": [
    {
     "data": {
      "text/plain": [
       "94202724847920"
      ]
     },
     "execution_count": 33,
     "metadata": {},
     "output_type": "execute_result"
    },
    {
     "name": "stdout",
     "output_type": "stream",
     "text": [
      "(MyPdf_xsquared) An instance of MyPdf_xsquared.\n"
     ]
    }
   ],
   "source": [
    "# ROOT.RooClassFactory.makePdf(\"MyPdf_xsquared\", \"x,c0\", \"\", \"c0*x*x\")\n",
    "ROOT.gROOT.ProcessLineSync(\".x MyPdf_xsquared.cxx+\")"
   ]
  },
  {
   "cell_type": "code",
   "execution_count": 34,
   "id": "5f071c3e-71ab-4241-bc8e-100bd011cb23",
   "metadata": {},
   "outputs": [],
   "source": [
    "# ROOT.RooClassFactory.makePdf(\"MyPdf_xsquared_nopara\", \"x\", \"\", \"x*x\")\n",
    "# ROOT.gROOT.ProcessLineSync(\".x MyPdf_xsquared_nopara.cxx+\")"
   ]
  },
  {
   "cell_type": "code",
   "execution_count": 25,
   "id": "19e89bb8-47b3-4f19-b5dc-77d34f227d36",
   "metadata": {},
   "outputs": [],
   "source": [
    "# fitting_region = (-1, 1)\n",
    "# y = ROOT.RooRealVar(\"cos#theta_{H}\", \"cos#theta_{H}\", fitting_region[0], fitting_region[1], \"\")\n",
    "# # y.setBins(50)\n",
    "# y_l = ROOT.RooArgList(y)\n",
    "# # signalhist = ROOT.RooDataHist(\"sighist\", \"sighist\", l, D0_M_TH1F, scale_factor)\n",
    "# y_signalhist = ROOT.RooDataHist(\"y_signalhist\", \"sighist\", y_l, D0_cosHel_TH1F, 1)\n"
   ]
  },
  {
   "cell_type": "code",
   "execution_count": 35,
   "id": "53aa81e3-2417-4ad3-8b8f-88964ea976ea",
   "metadata": {},
   "outputs": [],
   "source": [
    "y_mean = ROOT.RooRealVar(\"y_mean\", \"mean of gaussians\", 0.5,0.4, 0.6)\n",
    "y_sigma1 = ROOT.RooRealVar(\"y_sigma1\", \"width of gaussians\", 0.03,0,0.2)\n",
    "y_sigma2 = ROOT.RooRealVar(\"y_sigma2\", \"width of gaussians\", 0.02,0,0.2)\n",
    "\n",
    "c0 = ROOT.RooRealVar(\"c0\", \"c0\",0.2, 0,1)\n",
    "\n",
    "\n",
    "Cheby_c0 = ROOT.RooRealVar(\"Cheby_c0\", \"c0\",0.2, -1,1)\n",
    "Cheby_c1 = ROOT.RooRealVar(\"Cheby_c1\", \"c0\",0.2, -1,1)\n",
    "Cheby_c2 = ROOT.RooRealVar(\"Cheby_c2\", \"c0\",-0.2, -1,1)\n"
   ]
  },
  {
   "cell_type": "code",
   "execution_count": 38,
   "id": "f20572b0-6ce9-482a-9d27-4a0302fa4be7",
   "metadata": {},
   "outputs": [
    {
     "name": "stdout",
     "output_type": "stream",
     "text": [
      "[#0] WARNING:InputArguments -- The parameter 'y_sigma1' with range [0, 0.2] of the RooGaussian 'sig2_1' exceeds the safe range of (0, inf). Advise to limit its range.\n",
      "[#0] WARNING:InputArguments -- The parameter 'y_sigma2' with range [0, 0.2] of the RooGaussian 'sig2_2' exceeds the safe range of (0, inf). Advise to limit its range.\n",
      "[#1] INFO:Minimization -- RooAbsMinimizerFcn::setOptimizeConst: activating const optimization\n",
      "[#1] INFO:Fitting -- RooAbsOptTestStatistic::ctor(nll_model_data) constructing test statistic for sub-range named fit\n",
      "[#1] INFO:Fitting -- RooAbsOptTestStatistic::ctor(nll_model_data) fixing interpretation of coefficients of any RooAddPdf to full domain of observables \n",
      "[#1] INFO:NumericIntegration -- RooRealIntegral::init(sig1_Int[D0_cosHel_0]) using numeric integrator RooIntegrator1D to calculate Int(D0_cosHel_0)\n",
      "[#1] INFO:Eval -- RooAbsTestStatistic::initMPMode: started 12 remote server process.\n",
      "[#1] INFO:NumericIntegration -- RooRealIntegral::init(sig1_Int[D0_cosHel_0]) using numeric integrator RooIntegrator1D to calculate Int(D0_cosHel_0)\n",
      "[#1] INFO:NumericIntegration -- RooRealIntegral::init(sig1_Int[D0_cosHel_0]) using numeric integrator RooIntegrator1D to calculate Int(D0_cosHel_0)\n",
      "[#1] INFO:NumericIntegration -- RooRealIntegral::init(sig1_Int[D0_cosHel_0]) using numeric integrator RooIntegrator1D to calculate Int(D0_cosHel_0)\n",
      "[#1] INFO:NumericIntegration -- RooRealIntegral::init(sig1_Int[D0_cosHel_0]) using numeric integrator RooIntegrator1D to calculate Int(D0_cosHel_0)\n",
      "[#1] INFO:NumericIntegration -- RooRealIntegral::init(sig1_Int[D0_cosHel_0]) using numeric integrator RooIntegrator1D to calculate Int(D0_cosHel_0)\n",
      "[#1] INFO:NumericIntegration -- RooRealIntegral::init(sig1_Int[D0_cosHel_0]) using numeric integrator RooIntegrator1D to calculate Int(D0_cosHel_0)\n",
      "[#1] INFO:NumericIntegration -- RooRealIntegral::init(sig1_Int[D0_cosHel_0]) using numeric integrator RooIntegrator1D to calculate Int(D0_cosHel_0)\n",
      "[#1] INFO:NumericIntegration -- RooRealIntegral::init(sig1_Int[D0_cosHel_0]) using numeric integrator RooIntegrator1D to calculate Int(D0_cosHel_0)\n",
      "[#1] INFO:NumericIntegration -- RooRealIntegral::init(sig1_Int[D0_cosHel_0]) using numeric integrator RooIntegrator1D to calculate Int(D0_cosHel_0)\n",
      "[#1] INFO:NumericIntegration -- RooRealIntegral::init(sig1_Int[D0_cosHel_0]) using numeric integrator RooIntegrator1D to calculate Int(D0_cosHel_0)\n",
      "[#1] INFO:NumericIntegration -- RooRealIntegral::init(sig1_Int[D0_cosHel_0]) using numeric integrator RooIntegrator1D to calculate Int(D0_cosHel_0)\n",
      "[#1] INFO:NumericIntegration -- RooRealIntegral::init(sig1_Int[D0_cosHel_0]) using numeric integrator RooIntegrator1D to calculate Int(D0_cosHel_0)\n",
      "[#1] INFO:NumericIntegration -- RooRealIntegral::init(sig1_Int[D0_cosHel_0]) using numeric integrator RooIntegrator1D to calculate Int(D0_cosHel_0)\n",
      "[#1] INFO:NumericIntegration -- RooRealIntegral::init(sig1_Int[D0_cosHel_0]) using numeric integrator RooIntegrator1D to calculate Int(D0_cosHel_0)\n",
      "[#1] INFO:NumericIntegration -- RooRealIntegral::init(sig1_Int[D0_cosHel_0]) using numeric integrator RooIntegrator1D to calculate Int(D0_cosHel_0)\n",
      "[#1] INFO:NumericIntegration -- RooRealIntegral::init(sig1_Int[D0_cosHel_0]) using numeric integrator RooIntegrator1D to calculate Int(D0_cosHel_0)\n",
      "[#1] INFO:NumericIntegration -- RooRealIntegral::init(sig1_Int[D0_cosHel_0]) using numeric integrator RooIntegrator1D to calculate Int(D0_cosHel_0)\n",
      "[#1] INFO:NumericIntegration -- RooRealIntegral::init(sig1_Int[D0_cosHel_0]) using numeric integrator RooIntegrator1D to calculate Int(D0_cosHel_0)\n",
      "[#1] INFO:NumericIntegration -- RooRealIntegral::init(sig1_Int[D0_cosHel_0]) using numeric integrator RooIntegrator1D to calculate Int(D0_cosHel_0)\n",
      "[#1] INFO:NumericIntegration -- RooRealIntegral::init(sig1_Int[D0_cosHel_0]) using numeric integrator RooIntegrator1D to calculate Int(D0_cosHel_0)\n",
      "[#1] INFO:NumericIntegration -- RooRealIntegral::init(sig1_Int[D0_cosHel_0]) using numeric integrator RooIntegrator1D to calculate Int(D0_cosHel_0)\n",
      "[#1] INFO:NumericIntegration -- RooRealIntegral::init(sig1_Int[D0_cosHel_0]) using numeric integrator RooIntegrator1D to calculate Int(D0_cosHel_0)\n",
      "[#1] INFO:NumericIntegration -- RooRealIntegral::init(sig1_Int[D0_cosHel_0]) using numeric integrator RooIntegrator1D to calculate Int(D0_cosHel_0)\n",
      "[#1] INFO:NumericIntegration -- RooRealIntegral::init(sig1_Int[D0_cosHel_0]) using numeric integrator RooIntegrator1D to calculate Int(D0_cosHel_0)\n",
      "[#1] INFO:Minimization --  The following expressions will be evaluated in cache-and-track mode: (sig3,sig1,sig2_1,sig2_2)\n",
      "[#1] INFO:Minimization --  The following expressions will be evaluated in cache-and-track mode: (sig3,sig1,sig2_1,sig2_2)\n",
      "[#1] INFO:Minimization --  The following expressions will be evaluated in cache-and-track mode: (sig3,sig1,sig2_1,sig2_2)\n",
      "[#1] INFO:Minimization --  The following expressions will be evaluated in cache-and-track mode: (sig3,sig1,sig2_1,sig2_2)\n",
      "[#1] INFO:Minimization --  The following expressions will be evaluated in cache-and-track mode: (sig3,sig1,sig2_1,sig2_2)\n",
      "[#1] INFO:Minimization --  The following expressions will be evaluated in cache-and-track mode: (sig3,sig1,sig2_1,sig2_2)\n",
      "[#1] INFO:Minimization --  The following expressions will be evaluated in cache-and-track mode: (sig3,sig1,sig2_1,sig2_2)\n",
      "[#1] INFO:Minimization --  The following expressions will be evaluated in cache-and-track mode: (sig3,sig1,sig2_1,sig2_2)\n",
      "[#1] INFO:Minimization --  The following expressions will be evaluated in cache-and-track mode: (sig3,sig1,sig2_1,sig2_2)\n",
      "[#1] INFO:Minimization --  The following expressions will be evaluated in cache-and-track mode: (sig3,sig1,sig2_1,sig2_2)\n",
      "[#1] INFO:Minimization --  The following expressions will be evaluated in cache-and-track mode: (sig3,sig1,sig2_1,sig2_2)\n",
      "[#1] INFO:Minimization --  The following expressions will be evaluated in cache-and-track mode: (sig3,sig1,sig2_1,sig2_2)\n",
      "[#1] INFO:Minimization -- RooAbsMinimizerFcn::setOptimizeConst: deactivating const optimization\n",
      "\n",
      "  RooFitResult: minimized FCN value: 51227.3, estimated distance to minimum: 1.48952e-05\n",
      "                covariance matrix quality: Approximation only, not accurate\n",
      "                Status : MINIMIZE=0 HESSE=0 \n",
      "\n",
      "    Floating Parameter    FinalValue +/-  Error   \n",
      "  --------------------  --------------------------\n",
      "              Cheby_c0    6.7206e-01 +/-  6.53e-03\n",
      "              Cheby_c1    7.5858e-01 +/-  3.35e-03\n",
      "              Cheby_c2    4.5188e-02 +/-  4.10e-03\n",
      "                    c0    5.5100e-01 +/-  6.64e-01\n",
      "                 frac2    4.8357e-01 +/-  1.35e-02\n",
      "              sig1frac    5.5270e-01 +/-  3.95e-03\n",
      "              sig2frac    5.7409e-01 +/-  4.87e-03\n",
      "                y_mean    4.8202e-01 +/-  1.52e-03\n",
      "              y_sigma1    8.9742e-02 +/-  1.67e-03\n",
      "              y_sigma2    1.9973e-01 +/-  1.28e-02\n",
      "\n",
      "[#1] INFO:Plotting -- RooAbsPdf::plotOn(model) p.d.f was fitted in a subrange and no explicit Range() and NormRange() was specified. Plotting / normalising in fit range. To override, do one of the following\n",
      "\t- Clear the automatic fit range attribute: <pdf>.setStringAttribute(\"fitrange\", nullptr);\n",
      "\t- Explicitly specify the plotting range: Range(\"<rangeName>\").\n",
      "\t- Explicitly specify where to compute the normalisation: NormRange(\"<rangeName>\").\n",
      "\tThe default (full) range can be denoted with Range(\"\") / NormRange(\"\").\n",
      "[#1] INFO:Plotting -- RooAbsPdf::plotOn(model) only plotting range 'fit_nll_model_data'\n",
      "[#1] INFO:Plotting -- RooAbsPdf::plotOn(model) p.d.f. curve is normalized using explicit choice of ranges 'fit_nll_model_data'\n",
      "[#1] INFO:Plotting -- RooAbsPdf::plotOn(model) directly selected PDF components: (sig1)\n",
      "[#1] INFO:Plotting -- RooAbsPdf::plotOn(model) indirectly selected PDF components: (sig_model1)\n",
      "[#1] INFO:NumericIntegration -- RooRealIntegral::init(sig1_Int[D0_cosHel_0]) using numeric integrator RooIntegrator1D to calculate Int(D0_cosHel_0)\n",
      "[#1] INFO:NumericIntegration -- RooRealIntegral::init(model_Int[D0_cosHel_0|fit_nll_model_data]_Norm[D0_cosHel_0]) using numeric integrator RooIntegrator1D to calculate Int(D0_cosHel_0)\n",
      "[#1] INFO:Plotting -- RooAbsPdf::plotOn(model) p.d.f was fitted in a subrange and no explicit Range() and NormRange() was specified. Plotting / normalising in fit range. To override, do one of the following\n",
      "\t- Clear the automatic fit range attribute: <pdf>.setStringAttribute(\"fitrange\", nullptr);\n",
      "\t- Explicitly specify the plotting range: Range(\"<rangeName>\").\n",
      "\t- Explicitly specify where to compute the normalisation: NormRange(\"<rangeName>\").\n",
      "\tThe default (full) range can be denoted with Range(\"\") / NormRange(\"\").\n",
      "[#1] INFO:Plotting -- RooAbsPdf::plotOn(model) only plotting range 'fit_nll_model_data'\n",
      "[#1] INFO:Plotting -- RooAbsPdf::plotOn(model) p.d.f. curve is normalized using explicit choice of ranges 'fit_nll_model_data'\n",
      "[#1] INFO:Plotting -- RooAbsPdf::plotOn(model) directly selected PDF components: (sig2)\n",
      "[#1] INFO:Plotting -- RooAbsPdf::plotOn(model) indirectly selected PDF components: (sig2_1,sig2_2,sig_model1)\n",
      "[#1] INFO:NumericIntegration -- RooRealIntegral::init(sig1_Int[D0_cosHel_0]) using numeric integrator RooIntegrator1D to calculate Int(D0_cosHel_0)\n",
      "[#1] INFO:NumericIntegration -- RooRealIntegral::init(model_Int[D0_cosHel_0|fit_nll_model_data]_Norm[D0_cosHel_0]) using numeric integrator RooIntegrator1D to calculate Int(D0_cosHel_0)\n",
      "[#1] INFO:Plotting -- RooAbsPdf::plotOn(model) p.d.f was fitted in a subrange and no explicit Range() and NormRange() was specified. Plotting / normalising in fit range. To override, do one of the following\n",
      "\t- Clear the automatic fit range attribute: <pdf>.setStringAttribute(\"fitrange\", nullptr);\n",
      "\t- Explicitly specify the plotting range: Range(\"<rangeName>\").\n",
      "\t- Explicitly specify where to compute the normalisation: NormRange(\"<rangeName>\").\n",
      "\tThe default (full) range can be denoted with Range(\"\") / NormRange(\"\").\n",
      "[#1] INFO:Plotting -- RooAbsPdf::plotOn(model) only plotting range 'fit_nll_model_data'\n",
      "[#1] INFO:Plotting -- RooAbsPdf::plotOn(model) p.d.f. curve is normalized using explicit choice of ranges 'fit_nll_model_data'\n",
      "[#1] INFO:Plotting -- RooAbsPdf::plotOn(model) directly selected PDF components: (sig3)\n",
      "[#1] INFO:Plotting -- RooAbsPdf::plotOn(model) indirectly selected PDF components: ()\n",
      "[#1] INFO:NumericIntegration -- RooRealIntegral::init(sig1_Int[D0_cosHel_0]) using numeric integrator RooIntegrator1D to calculate Int(D0_cosHel_0)\n",
      "[#1] INFO:NumericIntegration -- RooRealIntegral::init(model_Int[D0_cosHel_0|fit_nll_model_data]_Norm[D0_cosHel_0]) using numeric integrator RooIntegrator1D to calculate Int(D0_cosHel_0)\n",
      "[#1] INFO:Plotting -- RooAbsPdf::plotOn(model) p.d.f was fitted in a subrange and no explicit Range() and NormRange() was specified. Plotting / normalising in fit range. To override, do one of the following\n",
      "\t- Clear the automatic fit range attribute: <pdf>.setStringAttribute(\"fitrange\", nullptr);\n",
      "\t- Explicitly specify the plotting range: Range(\"<rangeName>\").\n",
      "\t- Explicitly specify where to compute the normalisation: NormRange(\"<rangeName>\").\n",
      "\tThe default (full) range can be denoted with Range(\"\") / NormRange(\"\").\n",
      "[#1] INFO:Plotting -- RooAbsPdf::plotOn(model) only plotting range 'fit_nll_model_data'\n",
      "[#1] INFO:Plotting -- RooAbsPdf::plotOn(model) p.d.f. curve is normalized using explicit choice of ranges 'fit_nll_model_data'\n",
      "[#1] INFO:NumericIntegration -- RooRealIntegral::init(sig1_Int[D0_cosHel_0]) using numeric integrator RooIntegrator1D to calculate Int(D0_cosHel_0)\n",
      "[#1] INFO:NumericIntegration -- RooRealIntegral::init(model_Int[D0_cosHel_0|fit_nll_model_data]_Norm[D0_cosHel_0]) using numeric integrator RooIntegrator1D to calculate Int(D0_cosHel_0)\n"
     ]
    },
    {
     "name": "stderr",
     "output_type": "stream",
     "text": [
      "Warning in <TCanvas::Constructor>: Deleting canvas with same name: Canvas\n",
      "Info in <TCanvas::Print>: png file /media/jykim/T7/saved_plots/fitting/results/antiKstargamma/antiKstar_massveto_1ab_Vpi0_coshel.png has been created\n"
     ]
    },
    {
     "data": {
      "image/png": "[encoded data removed]",
      "text/plain": [
       "<IPython.core.display.Image object>"
      ]
     },
     "metadata": {},
     "output_type": "display_data"
    }
   ],
   "source": [
    "canv = ROOT.TCanvas(\"Canvas\", \"Canvas\", 700, 640)\n",
    "\n",
    "xlow = ctypes.c_double()\n",
    "ylow = ctypes.c_double()\n",
    "xup = ctypes.c_double()\n",
    "yup = ctypes.c_double()\n",
    "\n",
    "canv.GetPad(0).GetPadPar(xlow, ylow, xup, yup)\n",
    "canv.Divide(1,2)\n",
    "\n",
    "xlow = xlow.value\n",
    "ylow = ylow.value\n",
    "xup = xup.value\n",
    "yup = yup.value\n",
    "\n",
    "upPad = canv.GetPad(1)\n",
    "upPad.SetPad(xlow, ylow+0.25*(yup-ylow),xup,yup)\n",
    "\n",
    "dwPad = canv.GetPad(2)\n",
    "dwPad.SetPad(xlow, ylow,xup,ylow+0.25*(yup-ylow))\n",
    "\n",
    "\n",
    "# y_bkg1_model = ROOT.MyPdf_xsquared_nopara(\"y_bkg1_model\", \"y_bkg1\", y)\n",
    "# model = ROOT.MyPdf_xsquared_nopara(\"model\", \"y_bkg1\", y)\n",
    "# sig1 = ROOT.MyPdf_xsquared_nopara(\"sig1\", \"y_bkg1\", y)\n",
    "sig1 = ROOT.MyPdf_xsquared(\"sig1\", \"y_bkg1\", y, c0)\n",
    "\n",
    "\n",
    "sig2_1 = ROOT.RooGaussian(\"sig2_1\", \"Signal component 1\", y, y_mean, y_sigma1)\n",
    "sig2_2 = ROOT.RooGaussian(\"sig2_2\", \"Signal component 1\", y, y_mean, y_sigma2)\n",
    "\n",
    "frac2 = ROOT.RooRealVar(\"frac2\", \"fraction of component 1 in signal\", 0.5, 0.0, 1.0)\n",
    "sig2 = ROOT.RooAddPdf(\"sig2\", \"model\", [sig2_1, sig2_2], frac2)\n",
    "\n",
    "\n",
    "sig3 = ROOT.RooChebychev(\"sig3\", \"Signal component 1\", y, ROOT.RooArgList(Cheby_c0, Cheby_c1, Cheby_c2))\n",
    "\n",
    "sig1frac = ROOT.RooRealVar(\"sig1frac\", \"fraction of component 1 in signal\", 0.5, 0.0, 1.0)\n",
    "sig2frac = ROOT.RooRealVar(\"sig2frac\", \"fraction of component 1 in signal\", 0.5, 0.0, 1.0)\n",
    "\n",
    "\n",
    "# model = ROOT.RooCBShape(\"model\", \"Signal component 2\", x, mean, sigma2, alpha, n_CB)\n",
    "\n",
    "sig_model1 = ROOT.RooAddPdf(\"sig_model1\", \"model\", [sig1, sig2], sig1frac)\n",
    "model = ROOT.RooAddPdf(\"model\", \"model\", [sig3, sig_model1], sig2frac)\n",
    "\n",
    "\n",
    "\n",
    "run = model.fitTo(data1,NumCPU=12,Range=(-1,1),PrintLevel=-1, Save=1)\n",
    "\n",
    "#run = model.fitTo(y_signalhist,NumCPU=12,Range=(-1,1),PrintLevel=-1, Save=1)\n",
    "# run = model.fitTo(y_signalhist,NumCPU=12,Range=(-1,1),PrintLevel=-1)\n",
    "\n",
    "run.Print()\n",
    "canv.cd(1) \n",
    "# frame = x.frame(Title=\"D^{0} #rightarrow #bar{K}^{*0} #pi^{0}\")\n",
    "frame = y.frame(Title=\" \")\n",
    "\n",
    "#y_signalhist.plotOn(frame,Name = \"data1\", XErrorSize=0)\n",
    "data1.plotOn(frame,Name = \"data1\", XErrorSize=0)\n",
    "\n",
    "model.plotOn(frame, Name=\"gauss1\", Components=sig1, LineStyle=ROOT.kDashed, LineColor=593)\n",
    "model.plotOn(frame, Name=\"CB1\", Components=sig2, LineStyle=ROOT.kDashed, LineColor=593)\n",
    "model.plotOn(frame, Name=\"Novo\", Components=sig3, LineStyle=ROOT.kDashed, LineColor=593)\n",
    "\n",
    "model.plotOn(frame, Name=\"fitting\",)\n",
    "\n",
    "\n",
    "# sig.paramOn(frame)\n",
    "frame.GetXaxis().CenterTitle(True)\n",
    "frame.Draw(\"PE\")\n",
    "\n",
    "\n",
    "leg1 = ROOT.TLegend(0.25, 0.75, 0.4, 0.9)\n",
    "# leg1.SetBorderSize(0)\n",
    "\n",
    "leg1.SetFillColor(ROOT.kWhite)\n",
    "# leg1.SetHeader(\"The Legend title\",\"C\")\n",
    "leg1.AddEntry(\"data1\", \"MC\", \"PE\")\n",
    "leg1.AddEntry(\"fitting\", \"fit\", \"l\")\n",
    "leg1.Draw()\n",
    "\n",
    "hpull = frame.pullHist()\n",
    "hpull.SetFillStyle(1001)\n",
    "hpull.SetFillColor(1);\n",
    "for i in range(0,hpull.GetN()):#(int i=0;i<hpull.GetN();++i): \n",
    "    hpull.SetPointError(i,0.0,0.0,0.0,0.0)\n",
    "# pullplot = x.frame(Title(\" \"))\n",
    "pullplot = y.frame()\n",
    "pullplot.SetTitle(\"\")\n",
    "pullplot.addPlotable(hpull,\"BE\")\n",
    "# pullplot.addPlotable(hpull,\"PE\")\n",
    "\n",
    "pullplot.SetYTitle(\"Pull\")\n",
    "pullplot.GetXaxis().SetTitleSize(0)\n",
    "pullplot.GetYaxis().SetTitleSize(0.22)\n",
    "pullplot.GetYaxis().CenterTitle(True)\n",
    "pullplot.GetYaxis().SetTitleOffset(0.2)\n",
    "pullplot.SetMinimum(-4.)\n",
    "pullplot.SetMaximum(4.)\n",
    "pullplot.GetXaxis().SetLabelSize(0.15)\n",
    "pullplot.GetYaxis().SetLabelSize(0.105)\n",
    "canv.cd(2)\n",
    "pullplot.Draw()\n",
    "\n",
    "xmin1 = ctypes.c_double(fitting_region[0])\n",
    "xmax1 = ctypes.c_double(fitting_region[1])\n",
    "# xmin1 = 0.1\n",
    "# xmax1 = 0.18\n",
    "line = ROOT.TLine(xmin1,0.0,xmax1,0.0)\n",
    "line1 = ROOT.TLine(xmin1,3.0,xmax1,3.0)\n",
    "line2 = ROOT.TLine(xmin1,-3.0,xmax1,-3.0)\n",
    "\n",
    "line.SetLineColor(ROOT.kRed)\n",
    "line.SetLineWidth(3)\n",
    "line1.SetLineColor(ROOT.kRed)\n",
    "line2.SetLineColor(ROOT.kRed)\n",
    "line1.SetLineStyle(2)\n",
    "line2.SetLineStyle(2)\n",
    "line.Draw(\"SAME\")\n",
    "line1.Draw(\"SAME\")\n",
    "line2.Draw(\"SAME\")\n",
    "\n",
    "canv.Update()\n",
    "\n",
    "canv.Draw()\n",
    "canv.SaveAs(\"/media/jykim/T7/saved_plots/fitting/results/antiKstargamma/antiKstar_massveto_1ab_Vpi0_coshel.png\")\n",
    "\n",
    "f = ROOT.TFile(\"phig_signalMC_fitresult_coshel.root\", \"RECREATE\")\n",
    "r.Write(\"antiKstarg\")\n",
    "f.Close()\n"
   ]
  },
  {
   "cell_type": "code",
   "execution_count": 31,
   "id": "bdaf6345-b793-4afb-bbe4-84aee64a237c",
   "metadata": {},
   "outputs": [
    {
     "name": "stdout",
     "output_type": "stream",
     "text": [
      "0x55999035e170 RooAddPdf::model = 0.150047 [Auto,Dirty] \n",
      "  0x55998f36e020/V- RooChebychev::sig3 = 0.258768 [Auto,Dirty] \n",
      "    0x559990ad99e0/V- RooRealVar::cos#theta_{H} = 0\n",
      "    0x5599903a4b60/V- RooRealVar::Cheby_c0 = 0.715981 +/- 0.00960164\n",
      "    0x559990388130/V- RooRealVar::Cheby_c1 = 0.741232 +/- 0.00501619\n",
      "    0x559987a83800/V- RooRealVar::Cheby_c2 = 0.0517105 +/- 0.00605432\n",
      "  0x559990372580/V- RooRealVar::sig2frac = 0.560321 +/- 0.00706004\n",
      "  0x559987a77ff0/V- RooAddPdf::sig_model1 = 0.011495 [Auto,Dirty] \n",
      "    0x55998f368180/V- MyPdf_xsquared::sig1 = 0 [Auto,Dirty] \n",
      "      0x559990ad99e0/V- RooRealVar::cos#theta_{H} = 0\n",
      "      0x5599902cbb30/V- RooRealVar::c0 = 0.106365 +/- 0.615545\n",
      "    0x5599902f7440/V- RooRealVar::sig1frac = 0.573886 +/- 0.00543527\n",
      "    0x55998a5eafa0/V- RooAddPdf::sig2 = 0.0269764 [Auto,Dirty] \n",
      "      0x55998f3c7f50/V- RooGaussian::sig2_1 = 0.054838 [Auto,Dirty] \n",
      "        0x559990ad99e0/V- RooRealVar::cos#theta_{H} = 0\n",
      "        0x55998f2efcd0/V- RooRealVar::y_mean = 0.481944 +/- 0.00221972\n",
      "        0x559990ad9e70/V- RooRealVar::y_sigma1 = 0.2 +/- 0.01298\n",
      "      0x5599903641c0/V- RooRealVar::frac2 = 0.491915 +/- 0.0203767\n",
      "      0x5599884db030/V- RooGaussian::sig2_2 = 1.45185e-06 [Auto,Dirty] \n",
      "        0x559990ad99e0/V- RooRealVar::cos#theta_{H} = 0\n",
      "        0x55998f2efcd0/V- RooRealVar::y_mean = 0.481944 +/- 0.00221972\n",
      "        0x55998f291d60/V- RooRealVar::y_sigma2 = 0.0929476 +/- 0.00237984\n"
     ]
    }
   ],
   "source": [
    "model.Print(\"t\")"
   ]
  },
  {
   "cell_type": "code",
   "execution_count": null,
   "id": "1b377f60-eeb0-4d49-bc52-576bac7c88ee",
   "metadata": {},
   "outputs": [],
   "source": []
  },
  {
   "cell_type": "code",
   "execution_count": null,
   "id": "927030fc-1be0-46ea-a6f0-b533898a7ebb",
   "metadata": {},
   "outputs": [],
   "source": []
  },
  {
   "cell_type": "code",
   "execution_count": null,
   "id": "393e9c45-8ae4-4e07-9c4e-a7a87d6ca948",
   "metadata": {},
   "outputs": [],
   "source": []
  },
  {
   "cell_type": "code",
   "execution_count": null,
   "id": "2985305a-e558-46d9-a8c2-be54ebab2972",
   "metadata": {},
   "outputs": [],
   "source": []
  }
 ],
 "metadata": {
  "kernelspec": {
   "display_name": "Python 3 (ipykernel)",
   "language": "python",
   "name": "python3"
  },
  "language_info": {
   "codemirror_mode": {
    "name": "ipython",
    "version": 3
   },
   "file_extension": ".py",
   "mimetype": "text/x-python",
   "name": "python",
   "nbconvert_exporter": "python",
   "pygments_lexer": "ipython3",
   "version": "3.10.5"
  }
 },
 "nbformat": 4,
 "nbformat_minor": 5
}
