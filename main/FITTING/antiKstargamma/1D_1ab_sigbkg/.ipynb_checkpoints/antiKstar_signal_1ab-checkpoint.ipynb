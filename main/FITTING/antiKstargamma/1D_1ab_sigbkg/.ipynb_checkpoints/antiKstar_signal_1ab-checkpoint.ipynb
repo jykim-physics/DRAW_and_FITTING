{
 "cells": [
  {
   "cell_type": "code",
   "execution_count": 1,
   "id": "3bdbf6d9-8fb7-4849-b476-a1ab02f06744",
   "metadata": {},
   "outputs": [
    {
     "name": "stdout",
     "output_type": "stream",
     "text": [
      "Welcome to JupyROOT 6.26/04\n"
     ]
    }
   ],
   "source": [
    "import ROOT\n",
    "import ctypes"
   ]
  },
  {
   "cell_type": "code",
   "execution_count": 2,
   "id": "e32593be-2ab6-4771-bf92-0826e9d3e689",
   "metadata": {},
   "outputs": [
    {
     "name": "stdout",
     "output_type": "stream",
     "text": [
      "\n",
      "Applying BELLE2 style settings...\n"
     ]
    }
   ],
   "source": [
    "ROOT.gROOT.LoadMacro('/home/jykim/workspace/DRAW_and_FITTING/main/Belle2Style.C')\n",
    "ROOT.SetBelle2Style()"
   ]
  },
  {
   "cell_type": "code",
   "execution_count": 61,
   "id": "ce78010d-d970-4fb0-b2d2-59f1e1572ab3",
   "metadata": {},
   "outputs": [],
   "source": [
    "# sig_file = ROOT.TFile.Open(\"/media/jykim/T7/storage/01_recon/phi/D0_massveto_v2_half_1_sig_ext_signalMC_recon_mdst_phi.root\")\n",
    "# signal_tree = sig_file.Get(\"antiKstar\")\n",
    "\n",
    "\n",
    "sig_1ab_file = ROOT.TFile.Open(\"/media/jykim/T7/storage/01_recon/massvetov2_sig_ext_1ab_sigbkg/topo/resultfile/result_antiKstar/standard.root\")\n",
    "signal_1ab_tree = sig_1ab_file.Get(\"antiKstar\")\n"
   ]
  },
  {
   "cell_type": "code",
   "execution_count": 4,
   "id": "4b72551a-ebd4-4a31-82f1-8eef0b26f8bf",
   "metadata": {},
   "outputs": [],
   "source": [
    "# D0_M_TH1F = ROOT.TH1F(\"D0_M_TH1F\",\"D0 mass\",50,1.67,2.06)\n",
    "D0_M_TH1F = ROOT.TH1F(\"D0_M_TH1F\",\"D0 mass\",50,1.72,1.92)\n",
    "D0_M_TH1F_2 = ROOT.TH1F(\"D0_M_TH1F_2\",\"D0 mass\",50,1.72,1.92)\n",
    "\n",
    "D0_cosHel_TH1F = ROOT.TH1F(\"D0_cosHel_TH1F\",\"D0_cosHel\",50, -1, 1)\n"
   ]
  },
  {
   "cell_type": "code",
   "execution_count": 5,
   "id": "3a69e135-44ce-49d2-a4b1-058596ee2bad",
   "metadata": {},
   "outputs": [],
   "source": [
    "def extract_histo(tree, histogram):\n",
    "    for event in tree:\n",
    "        histogram.Fill(event.D0_M)\n",
    "    return histogram"
   ]
  },
  {
   "cell_type": "code",
   "execution_count": 6,
   "id": "64f7ccbc-14d8-4a33-9644-53bb18aee9ef",
   "metadata": {},
   "outputs": [],
   "source": [
    "def extract_hist_coshel(tree, histogram):\n",
    "    for event in tree:\n",
    "        if event.nSigCascDcyBr_1==1 and event.D0_M > 1.67 and event.D0_M < 2.06 and event.Belle2Pi0Veto_75MeV > 0.022:\n",
    "\n",
    "            histogram.Fill(event.D0_cosHel_0)\n",
    "    return histogram"
   ]
  },
  {
   "cell_type": "code",
   "execution_count": 7,
   "id": "180bbf17-769e-4579-bb25-321d03c8a0ae",
   "metadata": {},
   "outputs": [],
   "source": [
    "def apply_cuts(tree, histogram):\n",
    "    for event in tree:\n",
    "        # if event.D0_M > 1.67 and event.D0_M < 2.06:\n",
    "        if event.D0_M > 1.78 and event.D0_M < 1.92 and event.Belle2Pi0Veto_75MeV > 0.022:\n",
    "\n",
    "            histogram.Fill(event.D0_M)\n",
    "    return histogram"
   ]
  },
  {
   "cell_type": "code",
   "execution_count": 8,
   "id": "79ebe577-8e50-4749-8933-7eefc08616d3",
   "metadata": {},
   "outputs": [],
   "source": [
    "def extract_signals(tree, histogram):\n",
    "    for event in tree:\n",
    "        # if event.D0_M > 1.67 and event.D0_M < 2.06:\n",
    "        if event.nSigCascDcyBr_1==1 and event.D0_M > 1.72 and event.D0_M < 1.92 and event.Belle2Pi0Veto_75MeV > 0.022:\n",
    "        # if event.nSigCascDcyBr_0==1 and event.D0_M > 1.67 and event.D0_M < 2.06 and event.Belle2Pi0Veto_75MeV > 0.02:\n",
    "\n",
    "            histogram.Fill(event.D0_M)\n",
    "    return histogram"
   ]
  },
  {
   "cell_type": "code",
   "execution_count": 9,
   "id": "4febd10f-30fb-4cee-a502-49bd41026d42",
   "metadata": {},
   "outputs": [
    {
     "data": {
      "image/png": "[encoded data removed]",
      "text/plain": [
       "<IPython.core.display.Image object>"
      ]
     },
     "metadata": {},
     "output_type": "display_data"
    }
   ],
   "source": [
    "D0_cosHel_TH1F = extract_hist_coshel(signal_1ab_tree, D0_cosHel_TH1F)\n",
    "c1 = ROOT.TCanvas()\n",
    "D0_cosHel_TH1F.Draw()\n",
    "c1.Draw()"
   ]
  },
  {
   "cell_type": "code",
   "execution_count": 10,
   "id": "740212a9-eb8a-45ef-9b3e-ec4f05cae564",
   "metadata": {},
   "outputs": [],
   "source": [
    "\n",
    "# D0_M_TH1F = apply_cuts(signal_tree, D0_M_TH1F)\n",
    "# c1 = ROOT.TCanvas()\n",
    "# D0_M_TH1F.Draw()\n",
    "# c1.Draw()"
   ]
  },
  {
   "cell_type": "code",
   "execution_count": 11,
   "id": "6db6a69e-2cc6-4a5f-8150-ed65215efbc6",
   "metadata": {},
   "outputs": [
    {
     "data": {
      "image/png": "[encoded data removed]",
      "text/plain": [
       "<IPython.core.display.Image object>"
      ]
     },
     "metadata": {},
     "output_type": "display_data"
    }
   ],
   "source": [
    "\n",
    "D0_M_TH1F_2 = extract_signals(signal_1ab_tree, D0_M_TH1F_2)\n",
    "# D0_M_TH1F_2 = apply_cuts(signal_1ab_tree, D0_M_TH1F_2)\n",
    "\n",
    "c1 = ROOT.TCanvas()\n",
    "D0_M_TH1F_2.Draw()\n",
    "c1.Draw()"
   ]
  },
  {
   "cell_type": "code",
   "execution_count": 118,
   "id": "e11c6e89-f372-4dc3-921c-6c632dab4692",
   "metadata": {},
   "outputs": [],
   "source": [
    "#file_list = ['/media/jykim/T7/storage/01_recon/antiKstar/D0_massveto_v2_half_1_optimzed_sigext_signalMC_recon_mdst_antiKstar_*.root']\n",
    "file_list = [\"/media/jykim/T7/storage/01_recon/massvetov2_optimzed_sigext_1ab_bkg/topo/resultfile/result_antiKstar/standard.root\"]\n",
    "file_list = [\"/media/jykim/T7/storage/01_recon/antiKstar/D0_massveto_v2_half_1_optimzed_sigext_signalMC_recon_mdst_antiKstar_*.root\"]\n"
   ]
  },
  {
   "cell_type": "code",
   "execution_count": 119,
   "id": "5da387d9-36ab-496f-9e6d-f82f26258dcf",
   "metadata": {},
   "outputs": [],
   "source": [
    "mychain = ROOT.TChain(\"antiKstar\")\n",
    "# mychain = ROOT.TChain(\"phi_cc\")\n",
    "\n",
    "for i in file_list:\n",
    "    mychain.Add(i)"
   ]
  },
  {
   "cell_type": "code",
   "execution_count": 120,
   "id": "fde7dc13-ab78-4430-ab42-7193cb7466c8",
   "metadata": {},
   "outputs": [
    {
     "name": "stdout",
     "output_type": "stream",
     "text": [
      "46973.0\n",
      "[#1] INFO:InputArguments -- The formula  D0_M>1.72 & D0_M<1.94 & dM_pi0_75MeV > 0.022 & Dstarp_isSignal==1 claims to use the variables (D0_M,D0_cosHel_0,dM_pi0_75MeV,Dstarp_isSignal) but only (D0_M,dM_pi0_75MeV,Dstarp_isSignal) seem to be in use.\n",
      "  inputs:          D0_M>1.72 & D0_M<1.94 & dM_pi0_75MeV > 0.022 & Dstarp_isSignal==1\n",
      "[#1] INFO:DataHandling -- RooTreeDataStore::loadValues(data) Skipping event #163 because D0_M cannot accommodate the value 1.6779\n",
      "[#1] INFO:DataHandling -- RooTreeDataStore::loadValues(data) Skipping event #182 because D0_M cannot accommodate the value 1.65905\n",
      "[#1] INFO:DataHandling -- RooTreeDataStore::loadValues(data) Skipping event #359 because D0_M cannot accommodate the value 1.96185\n",
      "[#1] INFO:DataHandling -- RooTreeDataStore::loadValues(data) Skipping event #371 because D0_M cannot accommodate the value 1.67943\n",
      "[#1] INFO:DataHandling -- RooTreeDataStore::loadValues(data) Skipping ...\n",
      "[#0] WARNING:DataHandling -- RooTreeDataStore::loadValues(data) Ignored 543 out-of-range events\n"
     ]
    }
   ],
   "source": [
    "yrange = (-1, 1)\n",
    "\n",
    "x = ROOT.RooRealVar(\"D0_M\", \"M(D^{0}) [GeV/c^{2}]\", 1.72, 1.94, \"\")\n",
    "y = ROOT.RooRealVar(\"D0_cosHel_0\", \"cos#theta_{H}\", yrange[0], yrange[1], \"\")\n",
    "# z = ROOT.RooRealVar(\"Belle2Pi0Veto_75MeV\", \"M(D^{0}) [GeV/c^{2}]\",0,10, \"\")\n",
    "z = ROOT.RooRealVar(\"dM_pi0_75MeV\", \"M(D^{0}) [GeV/c^{2}]\",0,10, \"\")\n",
    "alpha = ROOT.RooRealVar(\"Dstarp_isSignal\", \"\",0,1, \"\")\n",
    "#a = ROOT.RooRealVar(\"iCascDcyBrP_Dst_0\", \"\",0,10000, \"\")\n",
    "\n",
    "# a = iCascDcyBrP_Dst_0\n",
    "\n",
    "# data = ROOT.RooDataSet(\"data\",\"\", ROOT.RooArgSet(x,y,z), ROOT.RooFit.Import(mychain), Cut=\" D0_M>1.68 & D0_M<2.05 & Belle2Pi0Veto_75MeV > 0.022 \")\n",
    "before_data = ROOT.RooDataSet(\"data\",\"\", ROOT.RooArgSet(x,y,z,alpha), ROOT.RooFit.Import(mychain), Cut=\" D0_M>1.72 & D0_M<1.94 & dM_pi0_75MeV > 0.022 & Dstarp_isSignal==1\")\n",
    "\n",
    "\n",
    "w_1 = ROOT.RooRealVar('w_1', 'w', 0,1)\n",
    "w_1.setVal(1)\n",
    "before_data.addColumn(w_1)\n",
    "data1 = ROOT.RooDataSet(before_data.GetName(), before_data.GetTitle(),before_data, before_data.get(), '' ,  'w_1')\n",
    "N_total = data1.sumEntries()\n",
    "print(N_total)"
   ]
  },
  {
   "cell_type": "code",
   "execution_count": 112,
   "id": "c47875ab-5234-4f8d-8da1-358929e8ddd3",
   "metadata": {},
   "outputs": [],
   "source": [
    "#file_list = ['/media/jykim/T7/storage/01_recon/antiKstar/D0_massveto_v2_half_1_optimzed_sigext_signalMC_recon_mdst_antiKstar_*.root']\n",
    "file_list = [\"/media/jykim/T7/storage/01_recon/antiKstar/D0bar_massveto_v2_half_1_optimzed_sigext_signalMC_recon_mdst_antiKstar_*.root\"]\n"
   ]
  },
  {
   "cell_type": "code",
   "execution_count": 113,
   "id": "ec4f6d24-6df5-4285-971c-a0947bf91d1d",
   "metadata": {},
   "outputs": [],
   "source": [
    "mychain2 = ROOT.TChain(\"antiKstar_cc\")\n",
    "# mychain = ROOT.TChain(\"phi_cc\")\n",
    "\n",
    "for i in file_list:\n",
    "    mychain2.Add(i)"
   ]
  },
  {
   "cell_type": "code",
   "execution_count": 114,
   "id": "d676abb1-0205-4b57-8cd3-3dbc7a213ca1",
   "metadata": {},
   "outputs": [
    {
     "name": "stdout",
     "output_type": "stream",
     "text": [
      "45850.0\n",
      "[#1] INFO:InputArguments -- The formula  D0_M>1.72 & D0_M<1.94 & dM_pi0_75MeV > 0.022 & Dstarp_isSignal==1 claims to use the variables (D0_M,D0_cosHel_0,dM_pi0_75MeV,Dstarp_isSignal) but only (D0_M,dM_pi0_75MeV,Dstarp_isSignal) seem to be in use.\n",
      "  inputs:          D0_M>1.72 & D0_M<1.94 & dM_pi0_75MeV > 0.022 & Dstarp_isSignal==1\n",
      "[#1] INFO:DataHandling -- RooTreeDataStore::loadValues(data2) Skipping event #154 because D0_M cannot accommodate the value 1.94445\n",
      "[#1] INFO:DataHandling -- RooTreeDataStore::loadValues(data2) Skipping event #209 because D0_M cannot accommodate the value 1.95844\n",
      "[#1] INFO:DataHandling -- RooTreeDataStore::loadValues(data2) Skipping event #271 because D0_M cannot accommodate the value 1.71394\n",
      "[#1] INFO:DataHandling -- RooTreeDataStore::loadValues(data2) Skipping event #319 because D0_M cannot accommodate the value 1.70717\n",
      "[#1] INFO:DataHandling -- RooTreeDataStore::loadValues(data2) Skipping ...\n",
      "[#0] WARNING:DataHandling -- RooTreeDataStore::loadValues(data2) Ignored 518 out-of-range events\n"
     ]
    }
   ],
   "source": [
    "\n",
    "# a = iCascDcyBrP_Dst_0\n",
    "#b = ROOT.RooRealVar(\"iCascDcyBrP_Dstm_0\", \"\",0,10000, \"\")\n",
    "\n",
    "# data = ROOT.RooDataSet(\"data\",\"\", ROOT.RooArgSet(x,y,z), ROOT.RooFit.Import(mychain), Cut=\" D0_M>1.68 & D0_M<2.05 & Belle2Pi0Veto_75MeV > 0.022 \")\n",
    "before_data2 = ROOT.RooDataSet(\"data2\",\"\", ROOT.RooArgSet(x,y,z,alpha), ROOT.RooFit.Import(mychain2), Cut=\" D0_M>1.72 & D0_M<1.94 & dM_pi0_75MeV > 0.022 & Dstarp_isSignal==1\")\n",
    "\n",
    "\n",
    "# w_1 = ROOT.RooRealVar('w_1', 'w', 0,1)\n",
    "# w_1.setVal(1) \n",
    "before_data2.addColumn(w_1)\n",
    "data2 = ROOT.RooDataSet(before_data2.GetName(), before_data2.GetTitle(),before_data2, before_data2.get(), '' ,  'w_1')\n",
    "N_total = data2.sumEntries()\n",
    "print(N_total)"
   ]
  },
  {
   "cell_type": "code",
   "execution_count": 82,
   "id": "96857f17-0f11-43db-a648-615863dd295c",
   "metadata": {},
   "outputs": [],
   "source": [
    "data1.append(data2)"
   ]
  },
  {
   "cell_type": "code",
   "execution_count": 10,
   "id": "1ff5c3d8-db47-4766-90e2-b67b4618870e",
   "metadata": {},
   "outputs": [
    {
     "data": {
      "text/plain": [
       "<cppyy.gbl.RooDataSet object at 0x556d6eb61d50>"
      ]
     },
     "execution_count": 10,
     "metadata": {},
     "output_type": "execute_result"
    }
   ],
   "source": [
    "data1"
   ]
  },
  {
   "cell_type": "code",
   "execution_count": 35,
   "id": "ea33a9e1-e758-4d56-becb-3302af73e996",
   "metadata": {},
   "outputs": [
    {
     "data": {
      "text/plain": [
       "48530.0"
      ]
     },
     "execution_count": 35,
     "metadata": {},
     "output_type": "execute_result"
    }
   ],
   "source": [
    "data1.sumEntries()"
   ]
  },
  {
   "cell_type": "code",
   "execution_count": 12,
   "id": "6b227194-e200-426a-a720-ecd509f64fe7",
   "metadata": {},
   "outputs": [],
   "source": [
    "\n",
    "# scale_factor = D0_M_TH1F_2.GetEntries()/D0_M_TH1F.GetEntries()"
   ]
  },
  {
   "cell_type": "code",
   "execution_count": 13,
   "id": "cbed22c9-ed4a-476f-8c57-19a7aaab4665",
   "metadata": {},
   "outputs": [],
   "source": [
    "# scale_factor"
   ]
  },
  {
   "cell_type": "code",
   "execution_count": 89,
   "id": "07856c14-3fbb-45dd-b69c-ef1a94ebc3a9",
   "metadata": {},
   "outputs": [],
   "source": [
    "fitting_region = (1.72, 1.94)\n",
    "#x = ROOT.RooRealVar(\"M(D^{0})\", \"M(D^{0}) [GeV/c^{2}]\", fitting_region[0], fitting_region[1], \"\")\n",
    "# x.setBins(50)\n",
    "#l = ROOT.RooArgList(x)\n",
    "# signalhist = ROOT.RooDataHist(\"sighist\", \"sighist\", l, D0_M_TH1F, scale_factor)\n",
    "# signalhist = ROOT.RooDataHist(\"sighist\", \"sighist\", l, D0_M_TH1F, 1)\n",
    "\n",
    "#signalhist = ROOT.RooDataHist(\"sighist\", \"sighist\", l, D0_M_TH1F_2, 1)\n"
   ]
  },
  {
   "cell_type": "code",
   "execution_count": 15,
   "id": "81461404-b419-43dc-b0a9-5a8ab1a4544b",
   "metadata": {},
   "outputs": [],
   "source": [
    "\n",
    "mean = ROOT.RooRealVar(\"mean\", \"mean of gaussians\", 1.86,1.83, 1.89)\n",
    "sigma1 = ROOT.RooRealVar(\"sigma1\", \"width of gaussians\", 0.03,0,0.5)\n",
    "sigma2 = ROOT.RooRealVar(\"sigma2\", \"width of gaussians\", 0.02,0,0.5)\n",
    "alpha = ROOT.RooRealVar(\"alpha\", \"width of gaussians\", 0.5,0,20)\n",
    "n_CB = ROOT.RooRealVar(\"n_CB\", \"width of gaussians\", 5,0,20)\n",
    " \n",
    "# Novo_peak = ROOT.RooRealVar(\"Novo_peak\", \"Novo peak\", 1.83,1.67,1.93)    \n",
    "# Novo_width = ROOT.RooRealVar(\"Novo_widh\", \"Novo peak\", 0.05,0,0.5)    \n",
    "# Novo_tail = ROOT.RooRealVar(\"Novo_tail\", \"Novo peak\", 0.5,0,10)    \n",
    "\n",
    "mu = ROOT.RooRealVar(\"mu\", \"Novo peak\", 1.83,1.67,1.93)    \n",
    "gamma = ROOT.RooRealVar(\"gamma\", \"Novo peak\", -1,-5,0)    \n",
    "para_lambda =  ROOT.RooRealVar(\"para_lambda\", \"Novo peak\", 1,-5,5)    \n",
    "delta = ROOT.RooRealVar(\"delta\", \"Novo peak\", 1.83,0,3)    \n"
   ]
  },
  {
   "cell_type": "code",
   "execution_count": 16,
   "id": "e2f7d8f0-e886-4ded-bae8-950f8b560046",
   "metadata": {},
   "outputs": [],
   "source": [
    "sigmaL = ROOT.RooRealVar(\"sigmaL\", \"width of gaussians\", 0.01,0,0.04)\n",
    "sigmaR = ROOT.RooRealVar(\"sigmaR\", \"width of gaussians\", 0.01,0,0.04)\n",
    "alphaL = ROOT.RooRealVar(\"alphaL\", \"width of gaussians\", 0.5,0,2)\n",
    "nL     = ROOT.RooRealVar(\"nL\", \"width of gaussians\", 0.5,0,10)\n",
    "alphaR = ROOT.RooRealVar(\"alphaR\", \"width of gaussians\", 0.5,0,3)\n",
    "nR     = ROOT.RooRealVar(\"nR\", \"width of gaussians\", 0.5,0,10)"
   ]
  },
  {
   "cell_type": "code",
   "execution_count": 76,
   "id": "32658f60-999f-40d5-9109-803d213b55ed",
   "metadata": {},
   "outputs": [
    {
     "name": "stdout",
     "output_type": "stream",
     "text": [
      "[#0] WARNING:InputArguments -- The parameter 'sigma1' with range [0, 0.5] of the RooGaussian 'sig1' exceeds the safe range of (0, inf). Advise to limit its range.\n",
      "[#0] WARNING:InputArguments -- The parameter 'sigmaL' with range [0, 0.04] of the RooCrystalBall 'model' exceeds the safe range of (0, inf). Advise to limit its range.\n",
      "[#0] WARNING:InputArguments -- The parameter 'sigmaR' with range [0, 0.04] of the RooCrystalBall 'model' exceeds the safe range of (0, inf). Advise to limit its range.\n",
      "[#0] WARNING:InputArguments -- The parameter 'alphaL' with range [0, 2] of the RooCrystalBall 'model' exceeds the safe range of (0, inf). Advise to limit its range.\n",
      "[#0] WARNING:InputArguments -- The parameter 'alphaR' with range [0, 3] of the RooCrystalBall 'model' exceeds the safe range of (0, inf). Advise to limit its range.\n",
      "[#0] WARNING:InputArguments -- The parameter 'nL' with range [0, 10] of the RooCrystalBall 'model' exceeds the safe range of (0, inf). Advise to limit its range.\n",
      "[#0] WARNING:InputArguments -- The parameter 'nR' with range [0, 10] of the RooCrystalBall 'model' exceeds the safe range of (0, inf). Advise to limit its range.\n",
      "[#1] INFO:Eval -- RooRealVar::setRange(D0_M) new range named 'fit' created with bounds [1.72,1.94]\n",
      "[#1] INFO:Minimization -- RooAbsMinimizerFcn::setOptimizeConst: activating const optimization\n",
      "[#1] INFO:Fitting -- RooAbsOptTestStatistic::ctor(nll_model_data) constructing test statistic for sub-range named fit\n",
      "[#1] INFO:Eval -- RooRealVar::setRange(D0_M) new range named 'NormalizationRangeForfit' created with bounds [1.72,1.94]\n",
      "[#1] INFO:Eval -- RooRealVar::setRange(D0_M) new range named 'fit_nll_model_data' created with bounds [1.72,1.94]\n",
      "[#1] INFO:Fitting -- RooAbsOptTestStatistic::ctor(nll_model_data) fixing interpretation of coefficients of any RooAddPdf to full domain of observables \n",
      "[#1] INFO:Eval -- RooAbsTestStatistic::initMPMode: started 12 remote server process.\n",
      "[#1] INFO:Minimization -- RooAbsMinimizerFcn::setOptimizeConst: deactivating const optimization\n",
      "\n",
      "  RooFitResult: minimized FCN value: -235941, estimated distance to minimum: 0.000273737\n",
      "                covariance matrix quality: Full, accurate covariance matrix\n",
      "                Status : MINIMIZE=0 HESSE=0 \n",
      "\n",
      "    Floating Parameter    FinalValue +/-  Error   \n",
      "  --------------------  --------------------------\n",
      "                alphaL    1.2509e+00 +/-  3.29e-02\n",
      "                alphaR    1.5055e+00 +/-  5.81e-02\n",
      "                  mean    1.8652e+00 +/-  2.75e-04\n",
      "                    nL    5.6627e+00 +/-  3.48e-01\n",
      "                    nR    7.5562e+00 +/-  1.09e+00\n",
      "                sigmaL    1.8597e-02 +/-  3.30e-04\n",
      "                sigmaR    1.2051e-02 +/-  2.51e-04\n",
      "\n",
      "[#1] INFO:Plotting -- RooAbsPdf::plotOn(model) p.d.f was fitted in a subrange and no explicit Range() and NormRange() was specified. Plotting / normalising in fit range. To override, do one of the following\n",
      "\t- Clear the automatic fit range attribute: <pdf>.setStringAttribute(\"fitrange\", nullptr);\n",
      "\t- Explicitly specify the plotting range: Range(\"<rangeName>\").\n",
      "\t- Explicitly specify where to compute the normalisation: NormRange(\"<rangeName>\").\n",
      "\tThe default (full) range can be denoted with Range(\"\") / NormRange(\"\").\n",
      "[#1] INFO:Plotting -- RooAbsPdf::plotOn(model) only plotting range 'fit_nll_model_data'\n",
      "[#1] INFO:Plotting -- RooAbsPdf::plotOn(model) p.d.f. curve is normalized using explicit choice of ranges 'fit_nll_model_data'\n",
      "[#0] ERROR:Plotting -- RooAbsPdf::plotOn(model) ERROR: component selection set (sig1) does not match any components of p.d.f.\n",
      "[#1] INFO:Plotting -- RooAbsPdf::plotOn(model) p.d.f was fitted in a subrange and no explicit Range() and NormRange() was specified. Plotting / normalising in fit range. To override, do one of the following\n",
      "\t- Clear the automatic fit range attribute: <pdf>.setStringAttribute(\"fitrange\", nullptr);\n",
      "\t- Explicitly specify the plotting range: Range(\"<rangeName>\").\n",
      "\t- Explicitly specify where to compute the normalisation: NormRange(\"<rangeName>\").\n",
      "\tThe default (full) range can be denoted with Range(\"\") / NormRange(\"\").\n",
      "[#1] INFO:Plotting -- RooAbsPdf::plotOn(model) only plotting range 'fit_nll_model_data'\n",
      "[#1] INFO:Plotting -- RooAbsPdf::plotOn(model) p.d.f. curve is normalized using explicit choice of ranges 'fit_nll_model_data'\n",
      "[#0] ERROR:Plotting -- RooAbsPdf::plotOn(model) ERROR: component selection set (sig2) does not match any components of p.d.f.\n",
      "[#1] INFO:Plotting -- RooAbsPdf::plotOn(model) p.d.f was fitted in a subrange and no explicit Range() and NormRange() was specified. Plotting / normalising in fit range. To override, do one of the following\n",
      "\t- Clear the automatic fit range attribute: <pdf>.setStringAttribute(\"fitrange\", nullptr);\n",
      "\t- Explicitly specify the plotting range: Range(\"<rangeName>\").\n",
      "\t- Explicitly specify where to compute the normalisation: NormRange(\"<rangeName>\").\n",
      "\tThe default (full) range can be denoted with Range(\"\") / NormRange(\"\").\n",
      "[#1] INFO:Plotting -- RooAbsPdf::plotOn(model) only plotting range 'fit_nll_model_data'\n",
      "[#1] INFO:Plotting -- RooAbsPdf::plotOn(model) p.d.f. curve is normalized using explicit choice of ranges 'fit_nll_model_data'\n"
     ]
    },
    {
     "name": "stderr",
     "output_type": "stream",
     "text": [
      "Warning in <TCanvas::Constructor>: Deleting canvas with same name: Canvas\n",
      "Info in <TCanvas::Print>: png file /media/jykim/T7/saved_plots/fitting/results/antiKstargamma/antiKstar_massveto_signal.png has been created\n"
     ]
    },
    {
     "data": {
      "image/png": "[encoded data removed]",
      "text/plain": [
       "<IPython.core.display.Image object>"
      ]
     },
     "metadata": {},
     "output_type": "display_data"
    }
   ],
   "source": [
    "canv = ROOT.TCanvas(\"Canvas\", \"Canvas\", 700, 640)\n",
    "\n",
    "\n",
    "\n",
    "xlow = ctypes.c_double()\n",
    "ylow = ctypes.c_double()\n",
    "xup = ctypes.c_double()\n",
    "yup = ctypes.c_double()\n",
    "\n",
    "canv.GetPad(0).GetPadPar(xlow, ylow, xup, yup)\n",
    "canv.Divide(1,2)\n",
    "\n",
    "xlow = xlow.value\n",
    "ylow = ylow.value\n",
    "xup = xup.value\n",
    "yup = yup.value\n",
    "\n",
    "upPad = canv.GetPad(1)\n",
    "upPad.SetPad(xlow, ylow+0.25*(yup-ylow),xup,yup)\n",
    "\n",
    "dwPad = canv.GetPad(2)\n",
    "dwPad.SetPad(xlow, ylow,xup,ylow+0.25*(yup-ylow))\n",
    "\n",
    "    \n",
    "sig1 = ROOT.RooGaussian(\"sig1\", \"Signal component 1\", x, mean, sigma1)\n",
    "# sig1 = ROOT.RooJohnson(\"sig1\", \"Signal component 1\", x,mu, para_lambda,gamma,delta)\n",
    "\n",
    "sig2 = ROOT.RooCBShape(\"sig2\", \"Signal component 2\", x, mean, sigma2, alpha, n_CB)\n",
    "# sig3 = ROOT.RooNovosibirsk(\"sig3\", \"Signal component 3\", x, mean, Novo_width, Novo_tail)\n",
    "\n",
    "\n",
    "sig1frac = ROOT.RooRealVar(\"sig1frac\", \"fraction of component 1 in signal\", 0.5, 0.0, 1.0)\n",
    "\n",
    "\n",
    "\n",
    "# model = ROOT.RooCBShape(\"model\", \"Signal component 2\", x, mean, sigma2, alpha, n_CB)\n",
    "\n",
    "# model = ROOT.RooAddPdf(\"model\", \"model\", [sig1, sig2], sig1frac)\n",
    "model = ROOT.RooCrystalBall(\"model\", \"Signal component 2\", x, mean, sigmaL, sigmaR, alphaL, nL, alphaR, nR)\n",
    "\n",
    "\n",
    "r = model.fitTo(data1,NumCPU=12,Range=fitting_region,PrintLevel=-1, Save=1)\n",
    "\n",
    "r.Print()\n",
    "canv.cd(1) \n",
    "# frame = x.frame(Title=\"D^{0} #rightarrow #bar{K}^{*0} #pi^{0}\")\n",
    "frame = x.frame(Title=\" \")\n",
    "\n",
    "data1.plotOn(frame,Name = \"data1\", XErrorSize=0)\n",
    "\n",
    "model.plotOn(frame, Name=\"gauss1\", Components=sig1, LineStyle=ROOT.kDashed, LineColor=593)\n",
    "model.plotOn(frame, Name=\"CB1\", Components=sig2, LineStyle=ROOT.kDashed, LineColor=593)\n",
    "# sig.plotOn(frame, Name=\"Novo\", Components=sig3, LineStyle=ROOT.kDashed, LineColor=593)\n",
    "\n",
    "model.plotOn(frame, Name=\"fitting\",)\n",
    "\n",
    "\n",
    "# sig.paramOn(frame)\n",
    "\n",
    "frame.GetXaxis().CenterTitle(True)\n",
    "frame.Draw(\"PE\")\n",
    "\n",
    "\n",
    "leg1 = ROOT.TLegend(0.75, 0.75, 0.9, 0.9)\n",
    "# leg1.SetBorderSize(0)\n",
    "leg1.SetFillColor(ROOT.kWhite)\n",
    "# leg1.SetHeader(\"The Legend title\",\"C\")\n",
    "leg1.AddEntry(\"data1\", \"MC\", \"PE\")\n",
    "leg1.AddEntry(\"fitting\", \"fit\", \"l\")\n",
    "leg1.Draw()\n",
    "\n",
    "hpull = frame.pullHist()\n",
    "hpull.SetFillStyle(1001)\n",
    "hpull.SetFillColor(1);\n",
    "for i in range(0,hpull.GetN()):#(int i=0;i<hpull.GetN();++i): \n",
    "    hpull.SetPointError(i,0.0,0.0,0.0,0.0)\n",
    "# pullplot = x.frame(Title(\" \"))\n",
    "pullplot = x.frame()\n",
    "pullplot.SetTitle(\"\")\n",
    "pullplot.addPlotable(hpull,\"BE\")\n",
    "# pullplot.addPlotable(hpull,\"PE\")\n",
    "\n",
    "\n",
    "pullplot.SetYTitle(\"Pull\")\n",
    "pullplot.GetXaxis().SetTitleSize(0)\n",
    "pullplot.GetYaxis().SetTitleSize(0.22)\n",
    "pullplot.GetYaxis().CenterTitle(True)\n",
    "pullplot.GetYaxis().SetTitleOffset(0.2)\n",
    "pullplot.SetMinimum(-4.)\n",
    "pullplot.SetMaximum(4.)\n",
    "pullplot.GetXaxis().SetLabelSize(0.15)\n",
    "pullplot.GetYaxis().SetLabelSize(0.105)\n",
    "\n",
    "canv.cd(2)\n",
    "pullplot.Draw()\n",
    "\n",
    "xmin1 = ctypes.c_double(fitting_region[0])\n",
    "xmax1 = ctypes.c_double(fitting_region[1])\n",
    "# xmin1 = 0.1\n",
    "# xmax1 = 0.18\n",
    "line = ROOT.TLine(xmin1,0.0,xmax1,0.0)\n",
    "line1 = ROOT.TLine(xmin1,3.0,xmax1,3.0)\n",
    "line2 = ROOT.TLine(xmin1,-3.0,xmax1,-3.0)\n",
    "\n",
    "line.SetLineColor(ROOT.kRed)\n",
    "line.SetLineWidth(3)\n",
    "line1.SetLineColor(ROOT.kRed)\n",
    "line2.SetLineColor(ROOT.kRed)\n",
    "line1.SetLineStyle(2)\n",
    "line2.SetLineStyle(2)\n",
    "line.Draw(\"SAME\")\n",
    "line1.Draw(\"SAME\")\n",
    "line2.Draw(\"SAME\")\n",
    "\n",
    "canv.Update()\n",
    "\n",
    "canv.Draw()\n",
    "canv.SaveAs(\"/media/jykim/T7/saved_plots/fitting/results/antiKstargamma/antiKstar_massveto_signal.png\")\n",
    "# canv.SaveAs(\"test.png\")\n",
    "f = ROOT.TFile(\"antiKstarg_signalMC_fitresult.root\", \"RECREATE\")\n",
    "r.Write(\"antiKstarg\")\n",
    "f.Close()\n"
   ]
  },
  {
   "cell_type": "code",
   "execution_count": 77,
   "id": "35ffd040-f571-4a12-bcd2-5df6cec6c76e",
   "metadata": {},
   "outputs": [
    {
     "name": "stdout",
     "output_type": "stream",
     "text": [
      "0x56071b405850 RooCrystalBall::model = 0.215662 [Auto,Dirty] \n",
      "  0x560737a8ed80/V- RooRealVar::D0_M = 1.83\n",
      "  0x56071860e980/V- RooRealVar::mean = 1.86521 +/- 0.000275097\n",
      "  0x560701ed1030/V- RooRealVar::sigmaL = 0.0185967 +/- 0.000330339\n",
      "  0x560719b8e990/V- RooRealVar::sigmaR = 0.0120511 +/- 0.000251451\n",
      "  0x560706fab430/V- RooRealVar::alphaL = 1.25087 +/- 0.0329161\n",
      "  0x560707e50ee0/V- RooRealVar::nL = 5.6627 +/- 0.348104\n",
      "  0x5607056a5280/V- RooRealVar::alphaR = 1.50552 +/- 0.0580766\n",
      "  0x560705ce75b0/V- RooRealVar::nR = 7.55618 +/- 1.0886\n"
     ]
    }
   ],
   "source": [
    "model.Print(\"t\")"
   ]
  },
  {
   "cell_type": "code",
   "execution_count": 81,
   "id": "43ffc56d-f01f-49c7-96d3-6e55a2bd4819",
   "metadata": {},
   "outputs": [],
   "source": [
    "f = ROOT.TFile.Open(\"antiKstarg_signalMC_fitresult.root\")\n",
    "r2 = ROOT.gDirectory.Get(\"antiKstarg\")\n",
    "f.Close()\n"
   ]
  },
  {
   "cell_type": "code",
   "execution_count": 82,
   "id": "e449db02-3a12-4028-a58f-1daa29df377e",
   "metadata": {},
   "outputs": [
    {
     "name": "stdout",
     "output_type": "stream",
     "text": [
      "\n",
      "  RooFitResult: minimized FCN value: -235941, estimated distance to minimum: 0.000273737\n",
      "                covariance matrix quality: Full, accurate covariance matrix\n",
      "                Status : MINIMIZE=0 HESSE=0 \n",
      "\n",
      "    Floating Parameter    FinalValue +/-  Error   \n",
      "  --------------------  --------------------------\n",
      "                alphaL    1.2509e+00 +/-  3.29e-02\n",
      "                alphaR    1.5055e+00 +/-  5.81e-02\n",
      "                  mean    1.8652e+00 +/-  2.75e-04\n",
      "                    nL    5.6627e+00 +/-  3.48e-01\n",
      "                    nR    7.5562e+00 +/-  1.09e+00\n",
      "                sigmaL    1.8597e-02 +/-  3.30e-04\n",
      "                sigmaR    1.2051e-02 +/-  2.51e-04\n",
      "\n"
     ]
    }
   ],
   "source": [
    "r2.Print()"
   ]
  },
  {
   "cell_type": "code",
   "execution_count": 100,
   "id": "b612badd-87c1-47fd-bb71-12982c4377b0",
   "metadata": {},
   "outputs": [
    {
     "data": {
      "text/plain": [
       "-0.9112665373350943"
      ]
     },
     "execution_count": 100,
     "metadata": {},
     "output_type": "execute_result"
    }
   ],
   "source": [
    "r2.correlation(\"alpha\",\"n_CB\")"
   ]
  },
  {
   "cell_type": "code",
   "execution_count": 101,
   "id": "a81b463a-ffdb-4e4d-a472-7d01dccfa76d",
   "metadata": {},
   "outputs": [
    {
     "data": {
      "text/plain": [
       "0.00047053225926932336"
      ]
     },
     "execution_count": 101,
     "metadata": {},
     "output_type": "execute_result"
    }
   ],
   "source": [
    "r2.edm()"
   ]
  },
  {
   "cell_type": "code",
   "execution_count": 102,
   "id": "405e4318-7ba2-4362-acae-6d90a363da53",
   "metadata": {},
   "outputs": [
    {
     "data": {
      "text/plain": [
       "<cppyy.gbl.TMatrixTSym<double> object at 0x55f4393aad10>"
      ]
     },
     "execution_count": 102,
     "metadata": {},
     "output_type": "execute_result"
    }
   ],
   "source": [
    "r2.correlationMatrix()"
   ]
  },
  {
   "cell_type": "code",
   "execution_count": null,
   "id": "9f00b952-6846-4425-a62e-a7d87405471b",
   "metadata": {},
   "outputs": [],
   "source": []
  },
  {
   "cell_type": "markdown",
   "id": "06863275-42d8-4c31-8e85-64b63b7b2fcf",
   "metadata": {},
   "source": [
    "# cosHel"
   ]
  },
  {
   "cell_type": "code",
   "execution_count": 107,
   "id": "b0915556-da71-4172-8f0c-9e45ce4d3e49",
   "metadata": {},
   "outputs": [
    {
     "data": {
      "text/plain": [
       "93893377367536"
      ]
     },
     "execution_count": 107,
     "metadata": {},
     "output_type": "execute_result"
    },
    {
     "name": "stdout",
     "output_type": "stream",
     "text": [
      "(MyPdf_one_minus_squared) An instance of MyPdf_one_minus_squared.\n"
     ]
    }
   ],
   "source": [
    "# ROOT.RooClassFactory.makePdf(\"MyPdf_one_minus_squared\", \"x,c0\", \"\", \"c0*(1-x*x)\")\n",
    "ROOT.gROOT.ProcessLineSync(\".x MyPdf_one_minus_squared.cxx+\")"
   ]
  },
  {
   "cell_type": "code",
   "execution_count": 108,
   "id": "62228863-f658-49a0-821a-163dc8b29fa4",
   "metadata": {},
   "outputs": [],
   "source": [
    "# ROOT.RooClassFactory.makePdf(\"MyPdf_xsquared_nopara\", \"x\", \"\", \"x*x\")\n",
    "# ROOT.gROOT.ProcessLineSync(\".x MyPdf_xsquared_nopara.cxx+\")"
   ]
  },
  {
   "cell_type": "code",
   "execution_count": 121,
   "id": "4040839d-ec2d-46de-bc23-93a1bafa465a",
   "metadata": {},
   "outputs": [],
   "source": [
    "fitting_region = (-1, 1)\n",
    "# y = ROOT.RooRealVar(\"cos#theta_{H}\", \"cos#theta_{H}\", fitting_region[0], fitting_region[1], \"\")\n",
    "# y.setBins(50)\n",
    "# y_l = ROOT.RooArgList(y)\n",
    "# signalhist = ROOT.RooDataHist(\"sighist\", \"sighist\", l, D0_M_TH1F, scale_factor)\n",
    "# y_signalhist = ROOT.RooDataHist(\"y_signalhist\", \"sighist\", y_l, D0_cosHel_TH1F, 1)\n"
   ]
  },
  {
   "cell_type": "code",
   "execution_count": 122,
   "id": "25a1b7ce-723a-457e-8292-84966e9442ec",
   "metadata": {},
   "outputs": [],
   "source": [
    "y_mean = ROOT.RooRealVar(\"y_mean\", \"mean of gaussians\", 0.5,0.4, 0.6)\n",
    "y_sigma1 = ROOT.RooRealVar(\"y_sigma1\", \"width of gaussians\", 0.03,0,0.2)\n",
    "y_sigma2 = ROOT.RooRealVar(\"y_sigma2\", \"width of gaussians\", 0.02,0,0.2)\n",
    "\n",
    "c0 = ROOT.RooRealVar(\"c0\", \"c0\",0.2, 0,1)\n",
    "\n",
    "\n",
    "Cheby_c0 = ROOT.RooRealVar(\"Cheby_c0\", \"c0\",0.2, -1,1)\n",
    "Cheby_c1 = ROOT.RooRealVar(\"Cheby_c1\", \"c0\",0.2, -1,1)\n",
    "Cheby_c2 = ROOT.RooRealVar(\"Cheby_c2\", \"c0\",0.2, -1,1)\n"
   ]
  },
  {
   "cell_type": "code",
   "execution_count": null,
   "id": "34168800",
   "metadata": {},
   "outputs": [],
   "source": []
  },
  {
   "cell_type": "code",
   "execution_count": 123,
   "id": "66e2e17f-4019-42c9-a037-6114886ac950",
   "metadata": {},
   "outputs": [
    {
     "name": "stdout",
     "output_type": "stream",
     "text": [
      "[#1] INFO:Eval -- RooRealVar::setRange(D0_cosHel_0) new range named 'fit' created with bounds [-1,1]\n",
      "[#1] INFO:Minimization -- RooAbsMinimizerFcn::setOptimizeConst: activating const optimization\n",
      "[#1] INFO:Fitting -- RooAbsOptTestStatistic::ctor(nll_model_data) constructing test statistic for sub-range named fit\n",
      "[#1] INFO:Eval -- RooRealVar::setRange(D0_cosHel_0) new range named 'NormalizationRangeForfit' created with bounds [-1,1]\n",
      "[#1] INFO:Eval -- RooRealVar::setRange(D0_cosHel_0) new range named 'fit_nll_model_data' created with bounds [-1,1]\n",
      "[#1] INFO:Fitting -- RooAbsOptTestStatistic::ctor(nll_model_data) fixing interpretation of coefficients of any RooAddPdf to full domain of observables \n",
      "[#1] INFO:NumericIntegration -- RooRealIntegral::init(model_Int[D0_cosHel_0]) using numeric integrator RooIntegrator1D to calculate Int(D0_cosHel_0)\n",
      "[#1] INFO:Eval -- RooAbsTestStatistic::initMPMode: started 12 remote server process.\n",
      "[#1] INFO:NumericIntegration -- RooRealIntegral::init(model_Int[D0_cosHel_0]) using numeric integrator RooIntegrator1D to calculate Int(D0_cosHel_0)\n",
      "[#1] INFO:NumericIntegration -- RooRealIntegral::init(model_Int[D0_cosHel_0]) using numeric integrator RooIntegrator1D to calculate Int(D0_cosHel_0)\n",
      "[#1] INFO:NumericIntegration -- RooRealIntegral::init(model_Int[D0_cosHel_0]) using numeric integrator RooIntegrator1D to calculate Int(D0_cosHel_0)\n",
      "[#1] INFO:NumericIntegration -- RooRealIntegral::init(model_Int[D0_cosHel_0]) using numeric integrator RooIntegrator1D to calculate Int(D0_cosHel_0)\n",
      "[#1] INFO:NumericIntegration -- RooRealIntegral::init(model_Int[D0_cosHel_0]) using numeric integrator RooIntegrator1D to calculate Int(D0_cosHel_0)\n",
      "[#1] INFO:NumericIntegration -- RooRealIntegral::init(model_Int[D0_cosHel_0]) using numeric integrator RooIntegrator1D to calculate Int(D0_cosHel_0)\n",
      "[#1] INFO:NumericIntegration -- RooRealIntegral::init(model_Int[D0_cosHel_0]) using numeric integrator RooIntegrator1D to calculate Int(D0_cosHel_0)\n",
      "[#1] INFO:NumericIntegration -- RooRealIntegral::init(model_Int[D0_cosHel_0]) using numeric integrator RooIntegrator1D to calculate Int(D0_cosHel_0)\n",
      "[#1] INFO:NumericIntegration -- RooRealIntegral::init(model_Int[D0_cosHel_0]) using numeric integrator RooIntegrator1D to calculate Int(D0_cosHel_0)\n",
      "[#1] INFO:NumericIntegration -- RooRealIntegral::init(model_Int[D0_cosHel_0]) using numeric integrator RooIntegrator1D to calculate Int(D0_cosHel_0)\n",
      "[#1] INFO:NumericIntegration -- RooRealIntegral::init(model_Int[D0_cosHel_0]) using numeric integrator RooIntegrator1D to calculate Int(D0_cosHel_0)\n",
      "[#1] INFO:NumericIntegration -- RooRealIntegral::init(model_Int[D0_cosHel_0]) using numeric integrator RooIntegrator1D to calculate Int(D0_cosHel_0)\n",
      "[#1] INFO:Minimization -- RooAbsMinimizerFcn::setOptimizeConst: deactivating const optimization\n",
      "\n",
      "  RooFitResult: minimized FCN value: 26526.8, estimated distance to minimum: 9.09495e-12\n",
      "                covariance matrix quality: Full, accurate covariance matrix\n",
      "                Status : MINIMIZE=0 HESSE=0 \n",
      "\n",
      "    Floating Parameter    FinalValue +/-  Error   \n",
      "  --------------------  --------------------------\n",
      "                    c0    9.8133e-02 +/-  9.03e-01\n",
      "\n",
      "[#1] INFO:Plotting -- RooAbsPdf::plotOn(model) p.d.f was fitted in a subrange and no explicit Range() and NormRange() was specified. Plotting / normalising in fit range. To override, do one of the following\n",
      "\t- Clear the automatic fit range attribute: <pdf>.setStringAttribute(\"fitrange\", nullptr);\n",
      "\t- Explicitly specify the plotting range: Range(\"<rangeName>\").\n",
      "\t- Explicitly specify where to compute the normalisation: NormRange(\"<rangeName>\").\n",
      "\tThe default (full) range can be denoted with Range(\"\") / NormRange(\"\").\n",
      "[#1] INFO:Plotting -- RooAbsPdf::plotOn(model) only plotting range 'fit_nll_model_data'\n",
      "[#1] INFO:Plotting -- RooAbsPdf::plotOn(model) p.d.f. curve is normalized using explicit choice of ranges 'fit_nll_model_data'\n",
      "[#1] INFO:NumericIntegration -- RooRealIntegral::init(model_Int[D0_cosHel_0]) using numeric integrator RooIntegrator1D to calculate Int(D0_cosHel_0)\n",
      "[#1] INFO:NumericIntegration -- RooRealIntegral::init(model_Int[D0_cosHel_0|fit_nll_model_data]_Norm[D0_cosHel_0]) using numeric integrator RooIntegrator1D to calculate Int(D0_cosHel_0)\n"
     ]
    },
    {
     "name": "stderr",
     "output_type": "stream",
     "text": [
      "Warning in <TCanvas::Constructor>: Deleting canvas with same name: Canvas\n",
      "Info in <TCanvas::Print>: png file /media/jykim/T7/saved_plots/fitting/results/antiKstargamma/antiKstar_massveto_signal_coshel_only_D0_true.png has been created\n"
     ]
    },
    {
     "data": {
      "image/png": "[encoded data removed]",
      "text/plain": [
       "<IPython.core.display.Image object>"
      ]
     },
     "metadata": {},
     "output_type": "display_data"
    }
   ],
   "source": [
    "canv = ROOT.TCanvas(\"Canvas\", \"Canvas\", 700, 640)\n",
    "\n",
    "xlow = ctypes.c_double()\n",
    "ylow = ctypes.c_double()\n",
    "xup = ctypes.c_double()\n",
    "yup = ctypes.c_double()\n",
    "\n",
    "canv.GetPad(0).GetPadPar(xlow, ylow, xup, yup)\n",
    "canv.Divide(1,2)\n",
    "\n",
    "xlow = xlow.value\n",
    "ylow = ylow.value\n",
    "xup = xup.value\n",
    "yup = yup.value\n",
    "\n",
    "upPad = canv.GetPad(1)\n",
    "upPad.SetPad(xlow, ylow+0.25*(yup-ylow),xup,yup)\n",
    "\n",
    "dwPad = canv.GetPad(2)\n",
    "dwPad.SetPad(xlow, ylow,xup,ylow+0.25*(yup-ylow))\n",
    "\n",
    "\n",
    "# y_bkg1_model = ROOT.MyPdf_xsquared_nopara(\"y_bkg1_model\", \"y_bkg1\", y)\n",
    "# model = ROOT.MyPdf_xsquared_nopara(\"model\", \"y_bkg1\", y)\n",
    "# sig1 = ROOT.MyPdf_xsquared_nopara(\"sig1\", \"y_bkg1\", y)\n",
    "model = ROOT.MyPdf_one_minus_squared(\"model\", \"y_bkg1\", y, c0)\n",
    "\n",
    "\n",
    "# sig2_1 = ROOT.RooGaussian(\"sig2_1\", \"Signal component 1\", y, y_mean, y_sigma1)\n",
    "# sig2_2 = ROOT.RooGaussian(\"sig2_2\", \"Signal component 1\", y, y_mean, y_sigma2)\n",
    "\n",
    "# frac2 = ROOT.RooRealVar(\"frac2\", \"fraction of component 1 in signal\", 0.5, 0.0, 1.0)\n",
    "# sig2 = ROOT.RooAddPdf(\"sig2\", \"model\", [sig2_1, sig2_2], frac2)\n",
    "\n",
    "\n",
    "# sig3 = ROOT.RooChebychev(\"sig3\", \"Signal component 1\", y, ROOT.RooArgList(Cheby_c0, Cheby_c1, Cheby_c2))\n",
    "\n",
    "# sig1frac = ROOT.RooRealVar(\"sig1frac\", \"fraction of component 1 in signal\", 0.5, 0.0, 1.0)\n",
    "# sig2frac = ROOT.RooRealVar(\"sig2frac\", \"fraction of component 1 in signal\", 0.5, 0.0, 1.0)\n",
    "\n",
    "\n",
    "# # model = ROOT.RooCBShape(\"model\", \"Signal component 2\", x, mean, sigma2, alpha, n_CB)\n",
    "\n",
    "# sig_model1 = ROOT.RooAddPdf(\"sig_model1\", \"model\", [sig1, sig2], sig1frac)\n",
    "# model = ROOT.RooAddPdf(\"model\", \"model\", [sig3, sig_model1], sig2frac)\n",
    "\n",
    "\n",
    "\n",
    "\n",
    "run = model.fitTo(data1,NumCPU=12,Range=(-1,1),PrintLevel=-1, Save=1)\n",
    "# run = model.fitTo(y_signalhist,NumCPU=12,Range=(-1,1),PrintLevel=-1)\n",
    "\n",
    "run.Print()\n",
    "canv.cd(1) \n",
    "# frame = x.frame(Title=\"D^{0} #rightarrow #bar{K}^{*0} #pi^{0}\")\n",
    "frame = y.frame(Title=\" \")\n",
    "\n",
    "data1.plotOn(frame,Name = \"data1\", XErrorSize=0)\n",
    "\n",
    "# model.plotOn(frame, Name=\"gauss1\", Components=sig1, LineStyle=ROOT.kDashed, LineColor=593)\n",
    "# model.plotOn(frame, Name=\"CB1\", Components=sig2, LineStyle=ROOT.kDashed, LineColor=593)\n",
    "# model.plotOn(frame, Name=\"Novo\", Components=sig3, LineStyle=ROOT.kDashed, LineColor=593)\n",
    "\n",
    "model.plotOn(frame, Name=\"fitting\",)\n",
    "\n",
    "\n",
    "# sig.paramOn(frame)\n",
    "frame.GetXaxis().CenterTitle(True)\n",
    "frame.Draw(\"PE\")\n",
    "\n",
    "\n",
    "leg1 = ROOT.TLegend(0.20, 0.75, 0.35, 0.9)\n",
    "leg1.SetFillColor(ROOT.kWhite)\n",
    "# leg1.SetHeader(\"The Legend title\",\"C\")\n",
    "leg1.AddEntry(\"data1\", \"MC\", \"PE\")\n",
    "leg1.AddEntry(\"fitting\", \"fit\", \"l\")\n",
    "leg1.Draw()\n",
    "\n",
    "hpull = frame.pullHist()\n",
    "hpull.SetFillStyle(1001)\n",
    "hpull.SetFillColor(1);\n",
    "for i in range(0,hpull.GetN()):#(int i=0;i<hpull.GetN();++i): \n",
    "    hpull.SetPointError(i,0.0,0.0,0.0,0.0)\n",
    "# pullplot = x.frame(Title(\" \"))\n",
    "pullplot = y.frame()\n",
    "pullplot.SetTitle(\"\")\n",
    "pullplot.addPlotable(hpull,\"BE\")\n",
    "# pullplot.addPlotable(hpull,\"PE\")\n",
    "\n",
    "pullplot.SetYTitle(\"Pull\")\n",
    "pullplot.GetXaxis().SetTitleSize(0)\n",
    "pullplot.GetYaxis().SetTitleSize(0.22)\n",
    "pullplot.GetYaxis().CenterTitle(True)\n",
    "pullplot.GetYaxis().SetTitleOffset(0.2)\n",
    "pullplot.SetMinimum(-4.)\n",
    "pullplot.SetMaximum(4.)\n",
    "pullplot.GetXaxis().SetLabelSize(0.15)\n",
    "pullplot.GetYaxis().SetLabelSize(0.105)\n",
    "\n",
    "canv.cd(2)\n",
    "pullplot.Draw()\n",
    "\n",
    "xmin1 = ctypes.c_double(fitting_region[0])\n",
    "xmax1 = ctypes.c_double(fitting_region[1])\n",
    "# xmin1 = 0.1\n",
    "# xmax1 = 0.18\n",
    "line = ROOT.TLine(xmin1,0.0,xmax1,0.0)\n",
    "line1 = ROOT.TLine(xmin1,3.0,xmax1,3.0)\n",
    "line2 = ROOT.TLine(xmin1,-3.0,xmax1,-3.0)\n",
    "\n",
    "line.SetLineColor(ROOT.kRed)\n",
    "line.SetLineWidth(3)\n",
    "line1.SetLineColor(ROOT.kRed)\n",
    "line2.SetLineColor(ROOT.kRed)\n",
    "line1.SetLineStyle(2)\n",
    "line2.SetLineStyle(2)\n",
    "line.Draw(\"SAME\")\n",
    "line1.Draw(\"SAME\")\n",
    "line2.Draw(\"SAME\")\n",
    "\n",
    "canv.Update()\n",
    "\n",
    "canv.Draw()\n",
    "canv.SaveAs(\"/media/jykim/T7/saved_plots/fitting/results/antiKstargamma/antiKstar_massveto_signal_coshel_only_D0_true.png\")\n",
    "# canv.SaveAs(\"/media/jykim/T7/saved_plots/fitting/results/antiKstargamma/antiKstar_massveto_1ab_signal_coshel_try2.png\")\n",
    "\n",
    "# f = ROOT.TFile(\"antiKstarg_signalMC_fitresult.root\", \"RECREATE\")\n",
    "# r.Write(\"antiKstarg\")\n",
    "\n",
    "# f.Close()\n"
   ]
  },
  {
   "cell_type": "code",
   "execution_count": null,
   "id": "20417329-fabd-44a1-8935-03a0adc3c805",
   "metadata": {},
   "outputs": [
    {
     "name": "stdout",
     "output_type": "stream",
     "text": [
      "0x55f4391723d0 MyPdf_one_minus_squared::model = 0.199998 [Auto,Dirty] \n",
      "  0x55f439ce2b20/V- RooRealVar::cos#theta_{H} = 0\n",
      "  0x55f4395f50e0/V- RooRealVar::c0 = 0.199998 +/- 0.816292\n"
     ]
    }
   ],
   "source": [
    "model.Print(\"t\")"
   ]
  },
  {
   "cell_type": "code",
   "execution_count": null,
   "id": "1210d96c-0597-4333-b6ae-766a98cd0c80",
   "metadata": {},
   "outputs": [],
   "source": []
  },
  {
   "cell_type": "code",
   "execution_count": 9,
   "id": "d9d12ec1",
   "metadata": {},
   "outputs": [],
   "source": [
    "#file_list = ['/media/jykim/T7/storage/01_recon/antiKstar/D0_massveto_v2_half_1_optimzed_sigext_signalMC_recon_mdst_antiKstar_*.root']\n",
    "file_list = [\"/media/jykim/T7/storage/01_recon/massvetov2_optimzed_sigext_1ab_bkg/topo/resultfile/result_antiKstar/standard.root\"]\n",
    "file_list = [\"/media/jykim/T7/storage/01_recon/antiKstar/CHECK/D0_Flat_coshel_massveto_v2_half_1_optimzed_sigext_signalMC_recon_mdst_20000_*.root\"]\n",
    "# file_list = [\"/media/jykim/T7/storage/01_recon/antiKstar/CHECK/genlevel_flat_no_gsim_signalMC_recon_mdst_20000_*.root\"]\n",
    "# file_list = [\"/media/jykim/T7/storage/01_recon/antiKstar/CHECK/D0_NO_GSIM_Flat_coshel_massveto_v2_half_1_optimzed_sigext_signalMC_recon_mdst_20000_*.root\"]\n",
    "\n"
   ]
  },
  {
   "cell_type": "code",
   "execution_count": 10,
   "id": "775da034",
   "metadata": {},
   "outputs": [],
   "source": [
    "mychain = ROOT.TChain(\"antiKstar\")\n",
    "# mychain = ROOT.TChain(\"phi_cc\")\n",
    "\n",
    "for i in file_list:\n",
    "    mychain.Add(i)"
   ]
  },
  {
   "cell_type": "code",
   "execution_count": 13,
   "id": "d224e00c",
   "metadata": {},
   "outputs": [
    {
     "name": "stderr",
     "output_type": "stream",
     "text": [
      "Warning in <TROOT::Append>: Replacing existing TH1: histogram_name (Potential memory leak).\n"
     ]
    },
    {
     "data": {
      "image/png": "[encoded data removed]",
      "text/plain": [
       "<IPython.core.display.Image object>"
      ]
     },
     "metadata": {},
     "output_type": "display_data"
    }
   ],
   "source": [
    "c1 = ROOT.TCanvas()\n",
    "#  Define the drawing command\n",
    "draw_cmd = \"D0_cosHel_0\"\n",
    "\n",
    "# Set the number of bins\n",
    "num_bins = 50  # Desired number of bins\n",
    "\n",
    "x_min=-1\n",
    "x_max=1\n",
    "\n",
    "# Create a histogram with a specific number of bins\n",
    "histogram = ROOT.TH1F(\"histogram_name\", \"Histogram Title\", num_bins, x_min, x_max)\n",
    "\n",
    "# Fill the histogram from the TChain\n",
    "mychain.Draw(f\"{draw_cmd}>>histogram_name\")\n",
    "\n",
    "# Set X-axis title\n",
    "histogram.GetXaxis().SetTitle(\"cos#theta_{H}\")\n",
    "\n",
    "# Set the minimum value of y-axis to 0\n",
    "histogram.GetYaxis().SetRangeUser(0, histogram.GetMaximum() * 1.1)  # Adjust the scale factor as needed\n",
    "\n",
    "\n",
    "# Create a legend\n",
    "legend = ROOT.TLegend(0.7, 0.6, 0.9, 0.8)  # (x1, y1, x2, y2) coordinates for the legend\n",
    "\n",
    "# Add entry to the legend\n",
    "legend.AddEntry(histogram, \"MC\", \"PE\")  # \"l\" for a solid line\n",
    "\n",
    "# Set legend style\n",
    "legend.SetBorderSize(0)\n",
    "legend.SetFillColor(0)\n",
    "legend.SetTextSize(0.04)\n",
    "\n",
    "# Create a canvas and display the plot\n",
    "histogram.Draw(\"PE\")\n",
    "legend.Draw()\n",
    "c1.Update()\n",
    "c1.Draw()\n",
    "\n",
    "\n",
    "# Save the plot to a file if needed\n",
    "# c1.SaveAs(\"/media/jykim/T7/saved_plots/DRAW/Flat_coshel/recon_flat_yes_gsim_2M_D0.png\")\n",
    "\n",
    "# Keep the application alive\n",
    "# ROOT.gApplication.Run()\n"
   ]
  },
  {
   "cell_type": "code",
   "execution_count": 15,
   "id": "0d98f99e",
   "metadata": {},
   "outputs": [
    {
     "name": "stderr",
     "output_type": "stream",
     "text": [
      "Warning in <TCanvas::Constructor>: Deleting canvas with same name: Canvas\n",
      "Warning in <TROOT::Append>: Replacing existing TH1: histogram_name (Potential memory leak).\n",
      "Warning in <TROOT::Append>: Replacing existing TH1: histogram_name2 (Potential memory leak).\n",
      "Info in <TCanvas::Print>: png file /media/jykim/T7/saved_plots/DRAW/Flat_coshel/Kaon_pion_recon_flat_yes_gsim_2M_D0_ratio.png has been created\n"
     ]
    },
    {
     "data": {
      "image/png": "[encoded data removed]",
      "text/plain": [
       "<IPython.core.display.Image object>"
      ]
     },
     "metadata": {},
     "output_type": "display_data"
    }
   ],
   "source": [
    "canv = ROOT.TCanvas(\"Canvas\", \"Canvas\", 700, 640)\n",
    "# y.setBins(50)\n",
    "xlow = ctypes.c_double()\n",
    "ylow = ctypes.c_double()\n",
    "xup = ctypes.c_double()\n",
    "yup = ctypes.c_double()\n",
    "\n",
    "canv.GetPad(0).GetPadPar(xlow, ylow, xup, yup)\n",
    "canv.Divide(1,2)\n",
    "\n",
    "xlow = xlow.value\n",
    "ylow = ylow.value\n",
    "xup = xup.value\n",
    "yup = yup.value\n",
    "\n",
    "upPad = canv.GetPad(1)\n",
    "upPad.SetPad(xlow, ylow+0.25*(yup-ylow),xup,yup)\n",
    "\n",
    "dwPad = canv.GetPad(2)\n",
    "dwPad.SetPad(xlow, ylow,xup,ylow+0.25*(yup-ylow))\n",
    "#  Define the drawing command\n",
    "draw_cmd = \"antiKstar_Km_cosTheta\"\n",
    "draw_cmd2 = \"antiKstar_Pip_cosTheta\"\n",
    "\n",
    "# Set the number of bins\n",
    "num_bins = 50  # Desired number of bins\n",
    "\n",
    "x_min=-1\n",
    "x_max=1\n",
    "\n",
    "# Create a histogram with a specific number of bins\n",
    "histogram = ROOT.TH1F(\"histogram_name\", \"Histogram Title\", num_bins, x_min, x_max)\n",
    "histogram2 = ROOT.TH1F(\"histogram_name2\", \"Histogram Title\", num_bins, x_min, x_max)\n",
    "\n",
    "canv.cd(1)\n",
    "# Fill the histogram from the TChain\n",
    "mychain.Draw(f\"{draw_cmd}>>histogram_name\")\n",
    "# mychain.Draw(f\"{draw_cmd}>>histogram_name\")\n",
    "\n",
    "mychain.Draw(f\"{draw_cmd2}>>histogram_name2\")\n",
    "\n",
    "# Set marker color for the histograms\n",
    "histogram.SetMarkerColor(ROOT.kRed)  # Change to your desired color\n",
    "histogram2.SetMarkerColor(ROOT.kBlue)  # Change to your desired color\n",
    "histogram.SetLineColor(ROOT.kRed)\n",
    "histogram2.SetLineColor(ROOT.kBlue)\n",
    "\n",
    "# Set X-axis title\n",
    "histogram.GetXaxis().SetTitle(\"cos#theta\")\n",
    "\n",
    "# Set the minimum value of y-axis to 0\n",
    "histogram.GetYaxis().SetRangeUser(0, histogram.GetMaximum() * 1.1)  # Adjust the scale factor as needed\n",
    "\n",
    "\n",
    "\n",
    "# Create a legend\n",
    "legend = ROOT.TLegend(0.2, 0.6, 0.4, 0.8)  # (x1, y1, x2, y2) coordinates for the legend\n",
    "\n",
    "# Add entry to the legend\n",
    "legend.AddEntry(histogram, \"K^{-}\", \"PE\")  # \"l\" for a solid line\n",
    "legend.AddEntry(histogram2, \"#pi^{+}\", \"PE\")  # \"l\" for a solid line\n",
    "\n",
    "# Set legend style\n",
    "legend.SetBorderSize(0)\n",
    "legend.SetFillColor(0)\n",
    "legend.SetTextSize(0.06)\n",
    "\n",
    "# Create a canvas and display the plot\n",
    "histogram.Draw(\"PE\")\n",
    "histogram2.Draw(\"PE same\")\n",
    "legend.Draw()\n",
    "canv.Update()\n",
    "\n",
    "\n",
    "\n",
    "canv.cd(2)\n",
    "# # Calculate the ratio between the histograms\n",
    "# histogram_ratio = histogram.Clone(\"histogram_ratio\")\n",
    "# histogram_ratio.Divide(histogram2) \n",
    "\n",
    "# # Calculate the combined error for each bin\n",
    "# histogram_combined_error = histogram.Clone(\"histogram_combined_error\")\n",
    "# for bin in range(1, histogram.GetNbinsX() + 1):\n",
    "#     combined_error = (histogram.GetBinError(bin) ** 2 + histogram2.GetBinError(bin) ** 2) ** 0.5\n",
    "#     histogram_combined_error.SetBinContent(bin, combined_error)\n",
    "\n",
    "# # Create a histogram for the difference divided by the combined error\n",
    "# histogram_difference_ratio = histogram_difference.Clone(\"histogram_difference_ratio\")\n",
    "# histogram_difference_ratio.Divide(histogram_combined_error)\n",
    "\n",
    "\n",
    "# Calculate the ratio between the histograms\n",
    "histogram_ratio = histogram.Clone(\"histogram_ratio\")\n",
    "histogram_ratio.Divide(histogram2)  # Divide histogram by histogram2\n",
    "\n",
    "\n",
    "# # Calculate the combined error for each bin\n",
    "histogram_combined_error = histogram_ratio.Clone(\"histogram_combined_error\")\n",
    "# for bin in range(1, histogram.GetNbinsX() + 1):\n",
    "#     combined_error = histogram_ratio.GetBinContent(bin) * (((histogram.GetBinError(bin) / histogram.GetBinContent(bin))  ** 2 + (histogram2.GetBinError(bin)/ histogram2.GetBinContent(bin)) ** 2) ** 0.5)\n",
    "#     histogram_ratio.SetBinError(bin, combined_error)\n",
    "#     #     histogram_combined_error.SetBinContent(bin, combined_error)\n",
    "\n",
    "for bin in range(1, histogram.GetNbinsX() + 1):\n",
    "    bin_content_hist = histogram.GetBinContent(bin)\n",
    "    bin_content_hist2 = histogram2.GetBinContent(bin)\n",
    "    if bin_content_hist2 != 0:\n",
    "        combined_error = histogram_ratio.GetBinContent(bin) * (((histogram.GetBinError(bin) / bin_content_hist)  ** 2 + (histogram2.GetBinError(bin) / bin_content_hist2) ** 2) ** 0.5)\n",
    "        histogram_ratio.SetBinError(bin, combined_error)\n",
    "    else:\n",
    "        histogram_ratio.SetBinError(bin, 0.0)\n",
    "\n",
    "# Set X-axis title\n",
    "# histogram_difference_ratio.GetXaxis().SetTitle(\"cos#theta\")\n",
    "\n",
    "# Set Y-axis title for the ratio plot\n",
    "histogram_ratio.GetYaxis().SetTitle(\"K^{-} / #pi^{+}\")\n",
    "histogram_ratio.GetXaxis().SetTitleSize(0)\n",
    "histogram_ratio.GetYaxis().SetTitleSize(0.12)\n",
    "histogram_ratio.GetYaxis().SetTitleOffset(0.35)\n",
    "histogram_ratio.GetYaxis().CenterTitle(True)\n",
    "histogram_ratio.GetXaxis().SetLabelSize(0.15)\n",
    "histogram_ratio.GetYaxis().SetLabelSize(0.105)\n",
    "\n",
    "# Set the minimum and maximum value of y-axis for the ratio plot\n",
    "histogram_ratio.GetYaxis().SetRangeUser(0.8,1.2)  # Adjust as needed\n",
    "# histogram_ratio.GetYaxis().SetRangeUser(0.9,1.2)  # Adjust as needed\n",
    "\n",
    "histogram_ratio.SetMarkerColor(ROOT.kBlack)  # Change to your desired color\n",
    "histogram_ratio.SetLineColor(ROOT.kBlack)\n",
    "\n",
    "\n",
    "# Draw the ratio plot\n",
    "# histogram_ratio.Draw(\"P\")\n",
    "histogram_ratio.Draw(\"PE\")\n",
    "\n",
    "xmin1=-1\n",
    "xmax1=1\n",
    "# xmax1 = 0.18\n",
    "line = ROOT.TLine(xmin1,1,xmax1,1)\n",
    "\n",
    "\n",
    "line.SetLineColor(ROOT.kGray)\n",
    "line.SetLineWidth(3)\n",
    "line.SetLineStyle(ROOT.kDashed)\n",
    "\n",
    "line.Draw(\"SAME\")\n",
    "\n",
    "canv.Update()\n",
    "canv.Draw()\n",
    "\n",
    "\n",
    "\n",
    "\n",
    "# Save the plot to a file if needed\n",
    "# canv.SaveAs(\"/media/jykim/T7/saved_plots/DRAW/Flat_coshel/Kaon_pion_genlevel_flat_no_gsim_2M_D0_ratio.png\")\n",
    "canv.SaveAs(\"/media/jykim/T7/saved_plots/DRAW/Flat_coshel/Kaon_pion_recon_flat_yes_gsim_2M_D0_ratio.png\")\n",
    "\n",
    "\n",
    "\n"
   ]
  },
  {
   "cell_type": "code",
   "execution_count": 38,
   "id": "6917f500",
   "metadata": {},
   "outputs": [
    {
     "name": "stderr",
     "output_type": "stream",
     "text": [
      "Warning in <TCanvas::Constructor>: Deleting canvas with same name: Canvas\n",
      "Warning in <TROOT::Append>: Replacing existing TH1: histogram_name (Potential memory leak).\n",
      "Warning in <TROOT::Append>: Replacing existing TH1: histogram_name2 (Potential memory leak).\n"
     ]
    },
    {
     "data": {
      "image/png": "[encoded data removed]",
      "text/plain": [
       "<IPython.core.display.Image object>"
      ]
     },
     "metadata": {},
     "output_type": "display_data"
    }
   ],
   "source": [
    "canv = ROOT.TCanvas(\"Canvas\", \"Canvas\", 700, 640)\n",
    "# y.setBins(50)\n",
    "xlow = ctypes.c_double()\n",
    "ylow = ctypes.c_double()\n",
    "xup = ctypes.c_double()\n",
    "yup = ctypes.c_double()\n",
    "\n",
    "canv.GetPad(0).GetPadPar(xlow, ylow, xup, yup)\n",
    "canv.Divide(1,2)\n",
    "\n",
    "xlow = xlow.value\n",
    "ylow = ylow.value\n",
    "xup = xup.value\n",
    "yup = yup.value\n",
    "\n",
    "upPad = canv.GetPad(1)\n",
    "upPad.SetPad(xlow, ylow+0.25*(yup-ylow),xup,yup)\n",
    "\n",
    "dwPad = canv.GetPad(2)\n",
    "dwPad.SetPad(xlow, ylow,xup,ylow+0.25*(yup-ylow))\n",
    "#  Define the drawing command\n",
    "draw_cmd = \"antiKstar_Km_cosTheta\"\n",
    "draw_cmd2 = \"antiKstar_Pip_cosTheta\"\n",
    "\n",
    "# Set the number of bins\n",
    "num_bins = 50  # Desired number of bins\n",
    "\n",
    "x_min=-1\n",
    "x_max=1\n",
    "\n",
    "# Create a histogram with a specific number of bins\n",
    "histogram = ROOT.TH1F(\"histogram_name\", \"Histogram Title\", num_bins, x_min, x_max)\n",
    "histogram2 = ROOT.TH1F(\"histogram_name2\", \"Histogram Title\", num_bins, x_min, x_max)\n",
    "\n",
    "canv.cd(1)\n",
    "# Fill the histogram from the TChain\n",
    "mychain.Draw(f\"{draw_cmd}>>histogram_name\")\n",
    "# mychain.Draw(f\"{draw_cmd}>>histogram_name\")\n",
    "\n",
    "mychain.Draw(f\"{draw_cmd2}>>histogram_name2\")\n",
    "\n",
    "# Set marker color for the histograms\n",
    "histogram.SetMarkerColor(ROOT.kRed)  # Change to your desired color\n",
    "histogram2.SetMarkerColor(ROOT.kBlue)  # Change to your desired color\n",
    "histogram.SetLineColor(ROOT.kRed)\n",
    "histogram2.SetLineColor(ROOT.kBlue)\n",
    "\n",
    "# Set X-axis title\n",
    "histogram.GetXaxis().SetTitle(\"cos#theta\")\n",
    "\n",
    "# Set the minimum value of y-axis to 0\n",
    "histogram.GetYaxis().SetRangeUser(0, histogram.GetMaximum() * 1.1)  # Adjust the scale factor as needed\n",
    "\n",
    "\n",
    "\n",
    "# Create a legend\n",
    "legend = ROOT.TLegend(0.2, 0.6, 0.4, 0.8)  # (x1, y1, x2, y2) coordinates for the legend\n",
    "\n",
    "# Add entry to the legend\n",
    "legend.AddEntry(histogram, \"K^{-}\", \"PE\")  # \"l\" for a solid line\n",
    "legend.AddEntry(histogram2, \"#pi^{+}\", \"PE\")  # \"l\" for a solid line\n",
    "\n",
    "# Set legend style\n",
    "legend.SetBorderSize(0)\n",
    "legend.SetFillColor(0)\n",
    "legend.SetTextSize(0.06)\n",
    "\n",
    "# Create a canvas and display the plot\n",
    "histogram.Draw(\"PE\")\n",
    "histogram2.Draw(\"PE same\")\n",
    "legend.Draw()\n",
    "canv.Update()\n",
    "\n",
    "\n",
    "\n",
    "canv.cd(2)\n",
    "# # Calculate the ratio between the histograms\n",
    "# histogram_ratio = histogram.Clone(\"histogram_ratio\")\n",
    "# histogram_ratio.Divide(histogram2) \n",
    "\n",
    "# # Calculate the combined error for each bin\n",
    "# histogram_combined_error = histogram.Clone(\"histogram_combined_error\")\n",
    "# for bin in range(1, histogram.GetNbinsX() + 1):\n",
    "#     combined_error = (histogram.GetBinError(bin) ** 2 + histogram2.GetBinError(bin) ** 2) ** 0.5\n",
    "#     histogram_combined_error.SetBinContent(bin, combined_error)\n",
    "\n",
    "# # Create a histogram for the difference divided by the combined error\n",
    "# histogram_difference_ratio = histogram_difference.Clone(\"histogram_difference_ratio\")\n",
    "# histogram_difference_ratio.Divide(histogram_combined_error)\n",
    "\n",
    "\n",
    "# Calculate the ratio between the histograms\n",
    "histogram_ratio = histogram.Clone(\"histogram_ratio\")\n",
    "histogram_ratio.Divide(histogram2)  # Divide histogram by histogram2\n",
    "\n",
    "\n",
    "# # Calculate the combined error for each bin\n",
    "# histogram_combined_error = histogram_ratio.Clone(\"histogram_combined_error\")\n",
    "# for bin in range(1, histogram.GetNbinsX() + 1):\n",
    "#     combined_error = histogram_ratio.GetBinContent(bin) * (((histogram.GetBinError(bin) / histogram.GetBinContent(bin))  ** 2 + (histogram2.GetBinError(bin)/ histogram2.GetBinContent(bin)) ** 2) ** 0.5)\n",
    "#     histogram_combined_error.SetBinContent(bin, combined_error)\n",
    "\n",
    "\n",
    "# Set X-axis title\n",
    "# histogram_difference_ratio.GetXaxis().SetTitle(\"cos#theta\")\n",
    "\n",
    "# Set Y-axis title for the ratio plot\n",
    "histogram_ratio.GetYaxis().SetTitle(\"K^{-} / #pi^{+}\")\n",
    "histogram_ratio.GetXaxis().SetTitleSize(0)\n",
    "histogram_ratio.GetYaxis().SetTitleSize(0.12)\n",
    "histogram_ratio.GetYaxis().SetTitleOffset(0.35)\n",
    "histogram_ratio.GetYaxis().CenterTitle(True)\n",
    "histogram_ratio.GetXaxis().SetLabelSize(0.15)\n",
    "histogram_ratio.GetYaxis().SetLabelSize(0.105)\n",
    "\n",
    "# Set the minimum and maximum value of y-axis for the ratio plot\n",
    "histogram_ratio.GetYaxis().SetRangeUser(0.6,1.4)  # Adjust as needed\n",
    "\n",
    "histogram_ratio.SetMarkerColor(ROOT.kBlack)  # Change to your desired color\n",
    "histogram_ratio.SetLineColor(ROOT.kBlack)\n",
    "\n",
    "\n",
    "# Draw the ratio plot\n",
    "histogram_ratio.Draw(\"P\")\n",
    "# histogram_ratio.Draw(\"PE\")\n",
    "\n",
    "xmin1=-1\n",
    "xmax1=1\n",
    "# xmax1 = 0.18\n",
    "line = ROOT.TLine(xmin1,1,xmax1,1)\n",
    "\n",
    "\n",
    "line.SetLineColor(ROOT.kGray)\n",
    "line.SetLineWidth(3)\n",
    "line.SetLineStyle(ROOT.kDashed)\n",
    "\n",
    "line.Draw(\"SAME\")\n",
    "\n",
    "canv.Update()\n",
    "canv.Draw()\n",
    "\n",
    "\n",
    "\n",
    "\n",
    "# Save the plot to a file if needed\n",
    "#canv.SaveAs(\"/media/jykim/T7/saved_plots/DRAW/Flat_coshel/Kaon_pion_genlevel_flat_no_gsim_2M_D0.png\")\n",
    "# canv.SaveAs(\"/media/jykim/T7/saved_plots/DRAW/Flat_coshel/Kaon_pion_recon_flat_yes_gsim_2M_D0.png\")\n",
    "\n",
    "\n",
    "\n"
   ]
  },
  {
   "cell_type": "code",
   "execution_count": 8,
   "id": "f7bf2a43",
   "metadata": {},
   "outputs": [
    {
     "name": "stderr",
     "output_type": "stream",
     "text": [
      "Warning in <TCanvas::Constructor>: Deleting canvas with same name: Canvas\n",
      "Warning in <TROOT::Append>: Replacing existing TH1: histogram_name (Potential memory leak).\n",
      "Warning in <TROOT::Append>: Replacing existing TH1: histogram_name2 (Potential memory leak).\n"
     ]
    },
    {
     "data": {
      "image/png": "[encoded data removed]",
      "text/plain": [
       "<IPython.core.display.Image object>"
      ]
     },
     "metadata": {},
     "output_type": "display_data"
    }
   ],
   "source": [
    "canv = ROOT.TCanvas(\"Canvas\", \"Canvas\", 700, 640)\n",
    "# y.setBins(50)\n",
    "xlow = ctypes.c_double()\n",
    "ylow = ctypes.c_double()\n",
    "xup = ctypes.c_double()\n",
    "yup = ctypes.c_double()\n",
    "\n",
    "canv.GetPad(0).GetPadPar(xlow, ylow, xup, yup)\n",
    "canv.Divide(1,2)\n",
    "\n",
    "xlow = xlow.value\n",
    "ylow = ylow.value\n",
    "xup = xup.value\n",
    "yup = yup.value\n",
    "\n",
    "upPad = canv.GetPad(1)\n",
    "upPad.SetPad(xlow, ylow+0.25*(yup-ylow),xup,yup)\n",
    "\n",
    "dwPad = canv.GetPad(2)\n",
    "dwPad.SetPad(xlow, ylow,xup,ylow+0.25*(yup-ylow))\n",
    "#  Define the drawing command\n",
    "draw_cmd = \"antiKstar_Km_cosTheta\"\n",
    "draw_cmd2 = \"antiKstar_Pip_cosTheta\"\n",
    "\n",
    "# Set the number of bins\n",
    "num_bins = 50  # Desired number of bins\n",
    "\n",
    "x_min=-1\n",
    "x_max=1\n",
    "\n",
    "# Create a histogram with a specific number of bins\n",
    "histogram = ROOT.TH1F(\"histogram_name\", \"Histogram Title\", num_bins, x_min, x_max)\n",
    "histogram2 = ROOT.TH1F(\"histogram_name2\", \"Histogram Title\", num_bins, x_min, x_max)\n",
    "\n",
    "canv.cd(1)\n",
    "# Fill the histogram from the TChain\n",
    "mychain.Draw(f\"{draw_cmd}>>histogram_name\")\n",
    "# mychain.Draw(f\"{draw_cmd}>>histogram_name\")\n",
    "\n",
    "mychain.Draw(f\"{draw_cmd2}>>histogram_name2\")\n",
    "\n",
    "# Set marker color for the histograms\n",
    "histogram.SetMarkerColor(ROOT.kRed)  # Change to your desired color\n",
    "histogram2.SetMarkerColor(ROOT.kBlue)  # Change to your desired color\n",
    "histogram.SetLineColor(ROOT.kRed)\n",
    "histogram2.SetLineColor(ROOT.kBlue)\n",
    "\n",
    "# Set X-axis title\n",
    "histogram.GetXaxis().SetTitle(\"cos#theta\")\n",
    "\n",
    "# Set the minimum value of y-axis to 0\n",
    "histogram.GetYaxis().SetRangeUser(0, histogram.GetMaximum() * 1.1)  # Adjust the scale factor as needed\n",
    "\n",
    "\n",
    "\n",
    "# Create a legend\n",
    "legend = ROOT.TLegend(0.2, 0.6, 0.4, 0.8)  # (x1, y1, x2, y2) coordinates for the legend\n",
    "\n",
    "# Add entry to the legend\n",
    "legend.AddEntry(histogram, \"K^{-}\", \"PE\")  # \"l\" for a solid line\n",
    "legend.AddEntry(histogram2, \"#pi^{+}\", \"PE\")  # \"l\" for a solid line\n",
    "\n",
    "# Set legend style\n",
    "legend.SetBorderSize(0)\n",
    "legend.SetFillColor(0)\n",
    "legend.SetTextSize(0.06)\n",
    "\n",
    "# Create a canvas and display the plot\n",
    "histogram.Draw(\"PE\")\n",
    "histogram2.Draw(\"PE same\")\n",
    "legend.Draw()\n",
    "canv.Update()\n",
    "\n",
    "\n",
    "\n",
    "canv.cd(2)\n",
    "# Calculate the difference between the histograms\n",
    "histogram_difference = histogram.Clone(\"histogram_difference\")\n",
    "histogram_difference.Add(histogram2, -1)  # Subtract histogram2 from histogram\n",
    "\n",
    "# Calculate the combined error for each bin\n",
    "histogram_combined_error = histogram.Clone(\"histogram_combined_error\")\n",
    "for bin in range(1, histogram.GetNbinsX() + 1):\n",
    "    combined_error = (histogram.GetBinError(bin) ** 2 + histogram2.GetBinError(bin) ** 2) ** 0.5\n",
    "    histogram_combined_error.SetBinContent(bin, combined_error)\n",
    "\n",
    "# Create a histogram for the difference divided by the combined error\n",
    "histogram_difference_ratio = histogram_difference.Clone(\"histogram_difference_ratio\")\n",
    "histogram_difference_ratio.Divide(histogram_combined_error)\n",
    "\n",
    "\n",
    "# Set X-axis title\n",
    "histogram_difference_ratio.GetXaxis().SetTitle(\"cos#theta\")\n",
    "\n",
    "# Set Y-axis title for the ratio plot\n",
    "histogram_difference_ratio.GetYaxis().SetTitle(\"(K^{-} - #pi^{+})/#sqrt{#sigma_{K}^{2} + #sigma_{#pi}^{2}}\")\n",
    "histogram_difference_ratio.GetXaxis().SetTitleSize(0)\n",
    "histogram_difference_ratio.GetYaxis().SetTitleSize(0.12)\n",
    "histogram_difference_ratio.GetYaxis().SetTitleOffset(0.35)\n",
    "histogram_difference_ratio.GetYaxis().CenterTitle(True)\n",
    "histogram_difference_ratio.GetXaxis().SetLabelSize(0.15)\n",
    "histogram_difference_ratio.GetYaxis().SetLabelSize(0.105)\n",
    "\n",
    "# Set the minimum and maximum value of y-axis for the ratio plot\n",
    "histogram_difference_ratio.GetYaxis().SetRangeUser(-10,10)  # Adjust as needed\n",
    "\n",
    "histogram_difference_ratio.SetMarkerColor(ROOT.kBlack)  # Change to your desired color\n",
    "histogram_difference_ratio.SetLineColor(ROOT.kBlack)\n",
    "\n",
    "\n",
    "# Draw the ratio plot\n",
    "histogram_difference_ratio.Draw(\"HIST\")\n",
    "\n",
    "xmin1=-1\n",
    "xmax1=1\n",
    "# xmax1 = 0.18\n",
    "line = ROOT.TLine(xmin1,0.0,xmax1,0.0)\n",
    "\n",
    "\n",
    "line.SetLineColor(ROOT.kGray)\n",
    "line.SetLineWidth(3)\n",
    "line.SetLineStyle(ROOT.kDashed)\n",
    "\n",
    "line.Draw(\"SAME\")\n",
    "\n",
    "canv.Update()\n",
    "canv.Draw()\n",
    "\n",
    "# Save the plot to a file if needed\n",
    "#canv.SaveAs(\"/media/jykim/T7/saved_plots/DRAW/Flat_coshel/Kaon_pion_genlevel_flat_no_gsim_2M_D0.png\")\n",
    "# canv.SaveAs(\"/media/jykim/T7/saved_plots/DRAW/Flat_coshel/Kaon_pion_recon_flat_yes_gsim_2M_D0.png\")\n"
   ]
  },
  {
   "cell_type": "code",
   "execution_count": 98,
   "id": "797435b2",
   "metadata": {},
   "outputs": [
    {
     "name": "stdout",
     "output_type": "stream",
     "text": [
      "1330894.0\n",
      "[#1] INFO:InputArguments -- The formula  D0_M>1.72 & D0_M<1.94 claims to use the variables (D0_M,D0_cosHel_0) but only (D0_M) seem to be in use.\n",
      "  inputs:          D0_M>1.72 & D0_M<1.94\n",
      "[#1] INFO:DataHandling -- RooTreeDataStore::loadValues(data) Skipping event #470 because D0_M cannot accommodate the value 1.48057\n",
      "[#1] INFO:DataHandling -- RooTreeDataStore::loadValues(data) Skipping event #3553 because D0_M cannot accommodate the value 1.70778\n",
      "[#1] INFO:DataHandling -- RooTreeDataStore::loadValues(data) Skipping event #4266 because D0_M cannot accommodate the value 1.65703\n",
      "[#1] INFO:DataHandling -- RooTreeDataStore::loadValues(data) Skipping event #4519 because D0_M cannot accommodate the value 1.71454\n",
      "[#1] INFO:DataHandling -- RooTreeDataStore::loadValues(data) Skipping ...\n",
      "[#0] WARNING:DataHandling -- RooTreeDataStore::loadValues(data) Ignored 1055 out-of-range events\n"
     ]
    }
   ],
   "source": [
    "yrange = (-1, 1)\n",
    "x = ROOT.RooRealVar(\"D0_M\", \"M(D^{0}) [GeV/c^{2}]\", 1.72, 1.94, \"\")\n",
    "y = ROOT.RooRealVar(\"D0_cosHel_0\", \"cos#theta_{H}\", yrange[0], yrange[1], \"\")\n",
    "# z = ROOT.RooRealVar(\"Belle2Pi0Veto_75MeV\", \"M(D^{0}) [GeV/c^{2}]\",0,10, \"\")\n",
    "z = ROOT.RooRealVar(\"dM_pi0_75MeV\", \"M(D^{0}) [GeV/c^{2}]\",0,10, \"\")\n",
    "alpha = ROOT.RooRealVar(\"Dstarp_isSignal\", \"\",0,1, \"\")\n",
    "#a = ROOT.RooRealVar(\"iCascDcyBrP_Dst_0\", \"\",0,10000, \"\")\n",
    "\n",
    "# a = iCascDcyBrP_Dst_0\n",
    "\n",
    "# data = ROOT.RooDataSet(\"data\",\"\", ROOT.RooArgSet(x,y,z), ROOT.RooFit.Import(mychain), Cut=\" D0_M>1.68 & D0_M<2.05 & Belle2Pi0Veto_75MeV > 0.022 \")\n",
    "#before_data = ROOT.RooDataSet(\"data\",\"\", ROOT.RooArgSet(x,y,z,alpha), ROOT.RooFit.Import(mychain), Cut=\" D0_M>1.72 & D0_M<1.94 & dM_pi0_75MeV > 0.022\")\n",
    "before_data = ROOT.RooDataSet(\"data\",\"\", ROOT.RooArgSet(x,y), ROOT.RooFit.Import(mychain), Cut=\" D0_M>1.72 & D0_M<1.94\")\n",
    "\n",
    "\n",
    "w_1 = ROOT.RooRealVar('w_1', 'w', 0,1)\n",
    "w_1.setVal(1)\n",
    "before_data.addColumn(w_1)\n",
    "data1 = ROOT.RooDataSet(before_data.GetName(), before_data.GetTitle(),before_data, before_data.get(), '' ,  'w_1')\n",
    "N_total = data1.sumEntries()\n",
    "print(N_total)"
   ]
  },
  {
   "cell_type": "code",
   "execution_count": 99,
   "id": "78def041",
   "metadata": {},
   "outputs": [],
   "source": [
    "fitting_region = (-1, 1)\n",
    "y_mean = ROOT.RooRealVar(\"y_mean\", \"mean of gaussians\", 0.5,0.4, 0.6)\n",
    "y_sigma1 = ROOT.RooRealVar(\"y_sigma1\", \"width of gaussians\", 0.03,0,0.2)\n",
    "y_sigma2 = ROOT.RooRealVar(\"y_sigma2\", \"width of gaussians\", 0.02,0,0.2)\n",
    "\n",
    "c0 = ROOT.RooRealVar(\"c0\", \"c0\",0.2, 0,1)\n",
    "\n",
    "\n",
    "# Cheby_c0 = ROOT.RooRealVar(\"Cheby_c0\", \"c0\",0, 0,0)\n",
    "Cheby_c0 = ROOT.RooRealVar(\"Cheby_c0\", \"c0\",0.2, -1,1)\n",
    "Cheby_c1 = ROOT.RooRealVar(\"Cheby_c1\", \"c0\",0.2, -1,1)\n",
    "Cheby_c2 = ROOT.RooRealVar(\"Cheby_c2\", \"c0\",0.2, -1,1)\n"
   ]
  },
  {
   "cell_type": "code",
   "execution_count": null,
   "id": "4139dc1d",
   "metadata": {},
   "outputs": [],
   "source": []
  },
  {
   "cell_type": "code",
   "execution_count": 100,
   "id": "45fc0d38",
   "metadata": {},
   "outputs": [
    {
     "name": "stdout",
     "output_type": "stream",
     "text": [
      "[#1] INFO:Eval -- RooRealVar::setRange(D0_cosHel_0) new range named 'fit' created with bounds [-1,1]\n",
      "[#1] INFO:Minimization -- RooAbsMinimizerFcn::setOptimizeConst: activating const optimization\n",
      "[#1] INFO:Fitting -- RooAbsOptTestStatistic::ctor(nll_model_data) constructing test statistic for sub-range named fit\n",
      "[#1] INFO:Eval -- RooRealVar::setRange(D0_cosHel_0) new range named 'NormalizationRangeForfit' created with bounds [-1,1]\n",
      "[#1] INFO:Eval -- RooRealVar::setRange(D0_cosHel_0) new range named 'fit_nll_model_data' created with bounds [-1,1]\n",
      "[#1] INFO:Fitting -- RooAbsOptTestStatistic::ctor(nll_model_data) fixing interpretation of coefficients of any RooAddPdf to full domain of observables \n",
      "[#1] INFO:Eval -- RooAbsTestStatistic::initMPMode: started 12 remote server process.\n",
      "[#1] INFO:Minimization -- RooAbsMinimizerFcn::setOptimizeConst: deactivating const optimization\n",
      "\n",
      "  RooFitResult: minimized FCN value: 922505, estimated distance to minimum: 4.25166e-06\n",
      "                covariance matrix quality: Full, accurate covariance matrix\n",
      "                Status : MINIMIZE=0 HESSE=0 \n",
      "\n",
      "    Floating Parameter    FinalValue +/-  Error   \n",
      "  --------------------  --------------------------\n",
      "              Cheby_c0    1.9351e-03 +/-  1.50e-03\n",
      "\n",
      "[#1] INFO:Plotting -- RooAbsPdf::plotOn(model) p.d.f was fitted in a subrange and no explicit Range() and NormRange() was specified. Plotting / normalising in fit range. To override, do one of the following\n",
      "\t- Clear the automatic fit range attribute: <pdf>.setStringAttribute(\"fitrange\", nullptr);\n",
      "\t- Explicitly specify the plotting range: Range(\"<rangeName>\").\n",
      "\t- Explicitly specify where to compute the normalisation: NormRange(\"<rangeName>\").\n",
      "\tThe default (full) range can be denoted with Range(\"\") / NormRange(\"\").\n",
      "[#1] INFO:Plotting -- RooAbsPdf::plotOn(model) only plotting range 'fit_nll_model_data'\n",
      "[#1] INFO:Plotting -- RooAbsPdf::plotOn(model) p.d.f. curve is normalized using explicit choice of ranges 'fit_nll_model_data'\n"
     ]
    },
    {
     "name": "stderr",
     "output_type": "stream",
     "text": [
      "Warning in <TCanvas::Constructor>: Deleting canvas with same name: Canvas\n",
      "Info in <TCanvas::Print>: png file /media/jykim/T7/saved_plots/DRAW/Flat_coshel/Fit_1st_poly_recon_flat_no_gsim_2M_D0.png has been created\n"
     ]
    },
    {
     "data": {
      "image/png": "[encoded data removed]",
      "text/plain": [
       "<IPython.core.display.Image object>"
      ]
     },
     "metadata": {},
     "output_type": "display_data"
    }
   ],
   "source": [
    "canv = ROOT.TCanvas(\"Canvas\", \"Canvas\", 700, 640)\n",
    "# y.setBins(50)\n",
    "xlow = ctypes.c_double()\n",
    "ylow = ctypes.c_double()\n",
    "xup = ctypes.c_double()\n",
    "yup = ctypes.c_double()\n",
    "\n",
    "canv.GetPad(0).GetPadPar(xlow, ylow, xup, yup)\n",
    "canv.Divide(1,2)\n",
    "\n",
    "xlow = xlow.value\n",
    "ylow = ylow.value\n",
    "xup = xup.value\n",
    "yup = yup.value\n",
    "\n",
    "upPad = canv.GetPad(1)\n",
    "upPad.SetPad(xlow, ylow+0.25*(yup-ylow),xup,yup)\n",
    "\n",
    "dwPad = canv.GetPad(2)\n",
    "dwPad.SetPad(xlow, ylow,xup,ylow+0.25*(yup-ylow))\n",
    "\n",
    "\n",
    "# y_bkg1_model = ROOT.MyPdf_xsquared_nopara(\"y_bkg1_model\", \"y_bkg1\", y)\n",
    "# model = ROOT.MyPdf_xsquared_nopara(\"model\", \"y_bkg1\", y)\n",
    "# sig1 = ROOT.MyPdf_xsquared_nopara(\"sig1\", \"y_bkg1\", y)\n",
    "# model = ROOT.MyPdf_one_minus_squared(\"model\", \"y_bkg1\", y, c0)\n",
    "\n",
    "\n",
    "# sig2_1 = ROOT.RooGaussian(\"sig2_1\", \"Signal component 1\", y, y_mean, y_sigma1)\n",
    "# sig2_2 = ROOT.RooGaussian(\"sig2_2\", \"Signal component 1\", y, y_mean, y_sigma2)\n",
    "\n",
    "# frac2 = ROOT.RooRealVar(\"frac2\", \"fraction of component 1 in signal\", 0.5, 0.0, 1.0)\n",
    "# sig2 = ROOT.RooAddPdf(\"sig2\", \"model\", [sig2_1, sig2_2], frac2)\n",
    "\n",
    "\n",
    "# sig3 = ROOT.RooChebychev(\"sig3\", \"Signal component 1\", y, ROOT.RooArgList(Cheby_c0, Cheby_c1, Cheby_c2))\n",
    "\n",
    "# sig1frac = ROOT.RooRealVar(\"sig1frac\", \"fraction of component 1 in signal\", 0.5, 0.0, 1.0)\n",
    "# sig2frac = ROOT.RooRealVar(\"sig2frac\", \"fraction of component 1 in signal\", 0.5, 0.0, 1.0)\n",
    "\n",
    "\n",
    "# # model = ROOT.RooCBShape(\"model\", \"Signal component 2\", x, mean, sigma2, alpha, n_CB)\n",
    "\n",
    "# sig_model1 = ROOT.RooAddPdf(\"sig_model1\", \"model\", [sig1, sig2], sig1frac)\n",
    "# model = ROOT.RooAddPdf(\"model\", \"model\", [sig3, sig_model1], sig2frac)\n",
    "\n",
    "\n",
    "model = ROOT.RooPolynomial(\"model\", \"Signal component 1\", y, ROOT.RooArgList(Cheby_c0))\n",
    "#mychain(\"D0_M\")\n",
    "run = model.fitTo(data1,NumCPU=12,Range=(-1,1),PrintLevel=-1, Save=1)\n",
    "# run = model.fitTo(y_signalhist,NumCPU=12,Range=(-1,1),PrintLevel=-1)\n",
    "\n",
    "run.Print()\n",
    "canv.cd(1) \n",
    "\n",
    "# frame = x.frame(Title=\"D^{0} #rightarrow #bar{K}^{*0} #pi^{0}\")\n",
    "frame = y.frame(Title=\" \")\n",
    "\n",
    "\n",
    "data1.plotOn(frame,Name = \"data1\", XErrorSize=0)\n",
    "\n",
    "# model.plotOn(frame, Name=\"gauss1\", Components=sig1, LineStyle=ROOT.kDashed, LineColor=593)\n",
    "# model.plotOn(frame, Name=\"CB1\", Components=sig2, LineStyle=ROOT.kDashed, LineColor=593)\n",
    "# model.plotOn(frame, Name=\"Novo\", Components=sig3, LineStyle=ROOT.kDashed, LineColor=593)\n",
    "\n",
    "model.plotOn(frame, Name=\"fitting\",)\n",
    "\n",
    "\n",
    "\n",
    "\n",
    "# sig.paramOn(frame)\n",
    "frame.GetXaxis().CenterTitle(True)\n",
    "frame.Draw(\"PE\")\n",
    "\n",
    "\n",
    "leg1 = ROOT.TLegend(0.20, 0.55, 0.35, 0.7)\n",
    "leg1.SetFillColor(ROOT.kWhite)\n",
    "# leg1.SetHeader(\"The Legend title\",\"C\")\n",
    "leg1.AddEntry(\"data1\", \"MC\", \"PE\")\n",
    "leg1.AddEntry(\"fitting\", \"fit\", \"l\")\n",
    "leg1.Draw()\n",
    "\n",
    "\n",
    "\n",
    "\n",
    "hpull = frame.pullHist()\n",
    "hpull.SetFillStyle(1001)\n",
    "hpull.SetFillColor(1);\n",
    "for i in range(0,hpull.GetN()):#(int i=0;i<hpull.GetN();++i): \n",
    "    hpull.SetPointError(i,0.0,0.0,0.0,0.0)\n",
    "# pullplot = x.frame(Title(\" \"))\n",
    "pullplot = y.frame()\n",
    "pullplot.SetTitle(\"\")\n",
    "pullplot.addPlotable(hpull,\"BE\")\n",
    "# pullplot.addPlotable(hpull,\"PE\")\n",
    "\n",
    "pullplot.SetYTitle(\"Pull\")\n",
    "pullplot.GetXaxis().SetTitleSize(0)\n",
    "pullplot.GetYaxis().SetTitleSize(0.22)\n",
    "pullplot.GetYaxis().CenterTitle(True)\n",
    "pullplot.GetYaxis().SetTitleOffset(0.2)\n",
    "pullplot.SetMinimum(-4.)\n",
    "pullplot.SetMaximum(4.)\n",
    "pullplot.GetXaxis().SetLabelSize(0.15)\n",
    "pullplot.GetYaxis().SetLabelSize(0.105)\n",
    "\n",
    "\n",
    "\n",
    "\n",
    "canv.cd(2)\n",
    "pullplot.Draw()\n",
    "\n",
    "xmin1 = ctypes.c_double(fitting_region[0])\n",
    "xmax1 = ctypes.c_double(fitting_region[1])\n",
    "# xmin1 = 0.1\n",
    "# xmax1 = 0.18\n",
    "line = ROOT.TLine(xmin1,0.0,xmax1,0.0)\n",
    "line1 = ROOT.TLine(xmin1,3.0,xmax1,3.0)\n",
    "line2 = ROOT.TLine(xmin1,-3.0,xmax1,-3.0)\n",
    "\n",
    "line.SetLineColor(ROOT.kRed)\n",
    "line.SetLineWidth(3)\n",
    "line1.SetLineColor(ROOT.kRed)\n",
    "line2.SetLineColor(ROOT.kRed)\n",
    "line1.SetLineStyle(2)\n",
    "line2.SetLineStyle(2)\n",
    "line.Draw(\"SAME\")\n",
    "line1.Draw(\"SAME\")\n",
    "line2.Draw(\"SAME\")\n",
    "\n",
    "canv.Update()\n",
    "\n",
    "canv.Draw()\n",
    "# canv.SaveAs(\"/media/jykim/T7/saved_plots/fitting/results/antiKstargamma/antiKstar_massveto_signal_coshel_only_D0.png\")\n",
    "canv.SaveAs(\"/media/jykim/T7/saved_plots/DRAW/Flat_coshel/Fit_1st_poly_recon_flat_no_gsim_2M_D0.png\")\n",
    "\n",
    "# f = ROOT.TFile(\"antiKstarg_signalMC_fitresult.root\", \"RECREATE\")\n",
    "# r.Write(\"antiKstarg\")\n",
    "\n",
    "# f.Close()\n"
   ]
  },
  {
   "cell_type": "code",
   "execution_count": null,
   "id": "ab597684",
   "metadata": {},
   "outputs": [],
   "source": []
  },
  {
   "cell_type": "code",
   "execution_count": 60,
   "id": "a9e00d36",
   "metadata": {},
   "outputs": [
    {
     "data": {
      "image/png": "[encoded data removed]",
      "text/plain": [
       "<IPython.core.display.Image object>"
      ]
     },
     "metadata": {},
     "output_type": "display_data"
    }
   ],
   "source": [
    "c2 = ROOT.TCanvas()\n",
    "fit_text.Draw()\n",
    "c2.Draw() "
   ]
  },
  {
   "cell_type": "code",
   "execution_count": null,
   "id": "edd0521c",
   "metadata": {},
   "outputs": [],
   "source": []
  }
 ],
 "metadata": {
  "kernelspec": {
   "display_name": "Python 3 (ipykernel)",
   "language": "python",
   "name": "python3"
  },
  "language_info": {
   "codemirror_mode": {
    "name": "ipython",
    "version": 3
   },
   "file_extension": ".py",
   "mimetype": "text/x-python",
   "name": "python",
   "nbconvert_exporter": "python",
   "pygments_lexer": "ipython3",
   "version": "3.10.5"
  },
  "toc": {
   "base_numbering": 1,
   "nav_menu": {},
   "number_sections": true,
   "sideBar": true,
   "skip_h1_title": false,
   "title_cell": "Table of Contents",
   "title_sidebar": "Contents",
   "toc_cell": false,
   "toc_position": {},
   "toc_section_display": true,
   "toc_window_display": false
  }
 },
 "nbformat": 4,
 "nbformat_minor": 5
}
