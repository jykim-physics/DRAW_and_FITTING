{
 "cells": [
  {
   "cell_type": "markdown",
   "id": "f500b53f-9f80-42ae-84b4-b14c3569e69d",
   "metadata": {},
   "source": [
    "### import"
   ]
  },
  {
   "cell_type": "code",
   "execution_count": 1,
   "id": "29642347-4787-4ede-b19f-05c0c0a102b0",
   "metadata": {},
   "outputs": [
    {
     "name": "stdout",
     "output_type": "stream",
     "text": [
      "Welcome to JupyROOT 6.26/04\n"
     ]
    }
   ],
   "source": [
    "%matplotlib inline\n",
    "%load_ext autoreload\n",
    "%autoreload 2\n",
    "import seaborn as sns\n",
    "import numpy as np\n",
    "import pandas as pd\n",
    "import matplotlib.pyplot as plt\n",
    "import ROOT\n",
    "import ctypes\n",
    "import math\n",
    "try:\n",
    "#     plt.style.use('belle2')\n",
    "    plt.style.use('belle2_serif')\n",
    "#     plt.style.use('belle2_modern')\n",
    "except OSError:\n",
    "    print(\"Please install belle2 matplotlib style\")   \n",
    "px = 1/plt.rcParams['figure.dpi']\n",
    "\n",
    "from main.data_tools.extract_ntuples import get_pd, get_np\n",
    "\n",
    "from main.data_tools.extract_Nevents import get_Nevents"
   ]
  },
  {
   "cell_type": "code",
   "execution_count": 2,
   "id": "cee194f0-04fd-4696-b12f-9ae0c6e4628e",
   "metadata": {},
   "outputs": [
    {
     "name": "stdout",
     "output_type": "stream",
     "text": [
      "\n",
      "Applying BELLE2 style settings...\n"
     ]
    }
   ],
   "source": [
    "ROOT.gROOT.LoadMacro('/home/jykim/workspace/DRAW_and_FITTING/main/Belle2Style.C')\n",
    "ROOT.SetBelle2Style()"
   ]
  },
  {
   "cell_type": "code",
   "execution_count": 3,
   "id": "e993bfc2-8d1d-4484-9bed-a4053d50ceb4",
   "metadata": {},
   "outputs": [
    {
     "data": {
      "text/plain": [
       "94468897372640"
      ]
     },
     "execution_count": 3,
     "metadata": {},
     "output_type": "execute_result"
    },
    {
     "name": "stdout",
     "output_type": "stream",
     "text": [
      "(MyPdf_xsquared_nopara) An instance of MyPdf_xsquared_nopara.\n"
     ]
    }
   ],
   "source": [
    "# ROOT.RooClassFactory.makePdf(\"MyPdf_xsquared_nopara\", \"x\", \"\", \"x*x\")\n",
    "ROOT.gROOT.ProcessLineSync(\".x MyPdf_xsquared_nopara.cxx+\")"
   ]
  },
  {
   "cell_type": "code",
   "execution_count": 4,
   "id": "da95b5bf-6961-4e79-8654-128f08d2469b",
   "metadata": {},
   "outputs": [
    {
     "data": {
      "text/plain": [
       "94468902097712"
      ]
     },
     "execution_count": 4,
     "metadata": {},
     "output_type": "execute_result"
    },
    {
     "name": "stdout",
     "output_type": "stream",
     "text": [
      "(MyPdf_one_minus_squared) An instance of MyPdf_one_minus_squared.\n"
     ]
    }
   ],
   "source": [
    "# ROOT.RooClassFactory.makePdf(\"MyPdf_one_minus_squared\", \"y\", \"\", \"1-y*y\")\n",
    "ROOT.gROOT.ProcessLineSync(\".x MyPdf_one_minus_squared.cxx+\")"
   ]
  },
  {
   "cell_type": "markdown",
   "id": "8fbaedd6-58c0-45e7-bce2-ae725599cce2",
   "metadata": {},
   "source": [
    "# Extract 2D data(ROOT)"
   ]
  },
  {
   "cell_type": "code",
   "execution_count": 5,
   "id": "4659726e-b38f-4781-ba02-d7080a531581",
   "metadata": {},
   "outputs": [],
   "source": [
    "base_file_loc =  '/media/jykim/T7/storage/01_recon/massvetov2_optimzed_sigext_1ab_sigbkg/'\n",
    "# base_file_loc =  '/media/jykim/T7/storage/01_recon/massvetov2_optimzed_sigext_1ab_bkg/'\n",
    "\n",
    "loc_ccbar = base_file_loc + 'ccbar/recon_udst_*.root'\n",
    "# loc_ccbar = base_file_loc + 'topo/resultfile/result_antiKstar/standard.root'\n",
    "loc_uubar = base_file_loc + 'uubar/recon_udst_*.root'\n",
    "loc_ddbar = base_file_loc + 'ddbar/recon_udst_*.root'\n",
    "loc_ssbar = base_file_loc + 'ssbar/recon_udst_*.root'\n",
    "loc_charged = base_file_loc + 'charged/recon_udst_*.root'\n",
    "loc_mixed = base_file_loc + 'mixed/recon_udst_*.root'\n",
    "loc_taupair = base_file_loc + 'taupair/recon_udst_*.root'\n",
    "\n",
    "file_list = [loc_ccbar,loc_uubar,loc_uubar,loc_ssbar,loc_charged,loc_mixed,loc_taupair]\n",
    "\n",
    "\n",
    "loc_ccbar_CC = base_file_loc + 'ccbar/recon_udst_*.root/antiKstar_cc'\n",
    "# loc_ccbar = base_file_loc + 'topo/resultfile/result_antiKstar/standard.root'\n",
    "loc_uubar_CC = base_file_loc + 'uubar/recon_udst_*.root/antiKstar_cc'\n",
    "loc_ddbar_CC = base_file_loc + 'ddbar/recon_udst_*.root/antiKstar_cc'\n",
    "loc_ssbar_CC = base_file_loc + 'ssbar/recon_udst_*.root/antiKstar_cc'\n",
    "loc_charged_CC = base_file_loc + 'charged/recon_udst_*.root/antiKstar_cc'\n",
    "loc_mixed_CC = base_file_loc + 'mixed/recon_udst_*.root/antiKstar_cc'\n",
    "loc_taupair_CC = base_file_loc + 'taupair/recon_udst_*.root/antiKstar_cc'\n",
    "\n",
    "\n",
    "file_list += [loc_ccbar_CC,loc_uubar_CC,loc_uubar_CC,loc_ssbar_CC,loc_charged_CC,loc_mixed_CC,loc_taupair_CC]\n"
   ]
  },
  {
   "cell_type": "code",
   "execution_count": 6,
   "id": "83f2b94a-7f70-4448-83b8-c4f6c6d38ddd",
   "metadata": {},
   "outputs": [
    {
     "name": "stdout",
     "output_type": "stream",
     "text": [
      "155544.0\n",
      "[#1] INFO:InputArguments -- The formula  D0_M>1.68 & D0_M<2.05 & dM_pi0_75MeV > 0.022  claims to use the variables (D0_M,D0_cosHel_0,dM_pi0_75MeV) but only (D0_M,dM_pi0_75MeV) seem to be in use.\n",
      "  inputs:          D0_M>1.68 & D0_M<2.05 & dM_pi0_75MeV > 0.022 \n",
      "[#1] INFO:DataHandling -- RooTreeDataStore::loadValues(data) Skipping event #1 because D0_M cannot accommodate the value 1.66656\n",
      "[#1] INFO:DataHandling -- RooTreeDataStore::loadValues(data) Skipping event #24 because D0_M cannot accommodate the value 1.67658\n",
      "[#1] INFO:DataHandling -- RooTreeDataStore::loadValues(data) Skipping event #29 because D0_M cannot accommodate the value 1.65929\n",
      "[#1] INFO:DataHandling -- RooTreeDataStore::loadValues(data) Skipping event #39 because D0_M cannot accommodate the value 2.07606\n",
      "[#1] INFO:DataHandling -- RooTreeDataStore::loadValues(data) Skipping ...\n",
      "[#0] WARNING:DataHandling -- RooTreeDataStore::loadValues(data) Ignored 34055 out-of-range events\n"
     ]
    }
   ],
   "source": [
    "mychain = ROOT.TChain(\"antiKstar\")\n",
    "# mychain = ROOT.TChain(\"antiKstar_cc\")\n",
    "\n",
    "for i in file_list:\n",
    "    mychain.Add(i)\n",
    "    \n",
    "yrange = (-1, 1)\n",
    "x = ROOT.RooRealVar(\"D0_M\", \"M(D^{0}) [GeV/c^{2}]\", 1.68, 2.05, \"\")\n",
    "y = ROOT.RooRealVar(\"D0_cosHel_0\", \"cos#theta_{H}\", yrange[0], yrange[1], \"\")\n",
    "# z = ROOT.RooRealVar(\"Belle2Pi0Veto_75MeV\", \"M(D^{0}) [GeV/c^{2}]\",0,10, \"\")\n",
    "z = ROOT.RooRealVar(\"dM_pi0_75MeV\", \"M(D^{0}) [GeV/c^{2}]\",0,10, \"\")\n",
    "\n",
    "\n",
    "# data = ROOT.RooDataSet(\"data\",\"\", ROOT.RooArgSet(x,y,z), ROOT.RooFit.Import(mychain), Cut=\" D0_M>1.68 & D0_M<2.05 & Belle2Pi0Veto_75MeV > 0.022 \")\n",
    "before_data = ROOT.RooDataSet(\"data\",\"\", ROOT.RooArgSet(x,y,z), ROOT.RooFit.Import(mychain), Cut=\" D0_M>1.68 & D0_M<2.05 & dM_pi0_75MeV > 0.022 \")\n",
    "\n",
    "\n",
    "w_1 = ROOT.RooRealVar('w_1', 'w', 0,1)\n",
    "w_1.setVal(1)\n",
    "before_data.addColumn(w_1)\n",
    "data = ROOT.RooDataSet(before_data.GetName(), before_data.GetTitle(),before_data, before_data.get(), '' ,  'w_1')\n",
    "N_total = data.sumEntries()\n",
    "print(N_total)"
   ]
  },
  {
   "cell_type": "code",
   "execution_count": 7,
   "id": "b8d36c6a-1497-49d9-a091-9bfb24dbe7da",
   "metadata": {},
   "outputs": [],
   "source": [
    "# data.Print()"
   ]
  },
  {
   "cell_type": "code",
   "execution_count": 8,
   "id": "4923418b-db34-4362-a9ce-8d219d579cf0",
   "metadata": {},
   "outputs": [],
   "source": [
    "# data = ROOT.RooDataSet(before_data.GetName(), before_data.GetTitle(),before_data, before_data.get(), '' ,  'w')\n",
    "# data.append(signal_yes_weight)\n",
    "# N_total = data.sumEntries()\n",
    "# print(N_total)"
   ]
  },
  {
   "cell_type": "code",
   "execution_count": 9,
   "id": "49806a13-24b4-4a68-b3a9-85bee1dc1e08",
   "metadata": {},
   "outputs": [],
   "source": [
    "# data.sumEntries()"
   ]
  },
  {
   "cell_type": "code",
   "execution_count": null,
   "id": "aa43a0ac-678a-4e4a-ba2d-f22df7a85b7f",
   "metadata": {},
   "outputs": [],
   "source": []
  },
  {
   "cell_type": "code",
   "execution_count": 10,
   "id": "7964be0d-fd2f-49d6-b3ff-545f8a6c7f72",
   "metadata": {},
   "outputs": [],
   "source": [
    "f = ROOT.TFile.Open(\"/home/jykim/workspace/DRAW_and_FITTING/main/FITTING/antiKstargamma/1D_1ab_sigbkg/antiKstarg_signalMC_fitresult.root\")\n",
    "\n",
    "result_object = ROOT.gDirectory.Get(\"antiKstarg\")\n",
    "f.Close()\n",
    "\n",
    "fit_args = result_object.floatParsFinal()\n",
    "\n",
    "x_sig_alphaL = ROOT.RooRealVar(\"x_sig_alphaL\", \"\",  fit_args.at(0).getVal()) \n",
    "x_sig_alphaR = ROOT.RooRealVar(\"x_sig_alphaR\", \"\",  fit_args.at(1).getVal()) \n",
    "x_sig_mean  = ROOT.RooRealVar(\"x_sig_mean\", \"\",  fit_args.at(2).getVal()) \n",
    "x_sig_nL    = ROOT.RooRealVar(\"x_sig_nL\", \"\",  fit_args.at(3).getVal()) \n",
    "x_sig_nR    = ROOT.RooRealVar(\"x_sig_nR\", \"\",  fit_args.at(4).getVal()) \n",
    "x_sig_sigmaL = ROOT.RooRealVar(\"x_sig_sigmaL\", \"\",  fit_args.at(5).getVal()) \n",
    "x_sig_sigmaR = ROOT.RooRealVar(\"x_sig_sigmaR\", \"\",  fit_args.at(6).getVal()) \n",
    "\n"
   ]
  },
  {
   "cell_type": "code",
   "execution_count": 11,
   "id": "5517b311-f83a-45c6-930a-fdf9772aa737",
   "metadata": {},
   "outputs": [],
   "source": [
    "f = ROOT.TFile.Open(\"/home/jykim/workspace/DRAW_and_FITTING/main/FITTING/antiKstargamma/1D_1ab_sigbkg/antiKstarg_Vpi0_fitresult.root\")\n",
    "result_object2 = ROOT.gDirectory.Get(\"antiKstarg\")\n",
    "f.Close()\n",
    "fit_args2 = result_object2.floatParsFinal()\n",
    "\n",
    "#V pi0\n",
    "x_bkg1_alphaL = ROOT.RooRealVar(\"x_bkg1_alphaL\", \"\",  fit_args2.at(0).getVal()) \n",
    "x_bkg1_alphaR = ROOT.RooRealVar(\"x_bkg1_alphaR\", \"\",  fit_args2.at(1).getVal()) \n",
    "x_bkg1_mean  = ROOT.RooRealVar(\"x_bkg1_mean\", \"\",  fit_args2.at(2).getVal()) \n",
    "x_bkg1_nL    = ROOT.RooRealVar(\"x_bkg1_nL\", \"\",  fit_args2.at(3).getVal()) \n",
    "x_bkg1_nR    = ROOT.RooRealVar(\"x_bkg1_nR\", \"\",  fit_args2.at(4).getVal()) \n",
    "x_bkg1_sigmaL = ROOT.RooRealVar(\"x_bkg1_sigmaL\", \"\",  fit_args2.at(5).getVal()) \n",
    "x_bkg1_sigmaR = ROOT.RooRealVar(\"x_bkg1_sigmaR\", \"\",  fit_args2.at(6).getVal()) \n"
   ]
  },
  {
   "cell_type": "code",
   "execution_count": 12,
   "id": "acd295d9-9160-4565-a5c6-78353f3c1f03",
   "metadata": {},
   "outputs": [],
   "source": [
    "f = ROOT.TFile.Open(\"/home/jykim/workspace/DRAW_and_FITTING/main/FITTING/antiKstargamma/1D_1ab_sigbkg/antiKstarg_remain_fitresult.root\")\n",
    "result_object3 = ROOT.gDirectory.Get(\"antiKstarg\")\n",
    "f.Close()\n",
    "\n",
    "fit_args3 = result_object3.floatParsFinal()\n",
    "\n",
    "x_bkg2_mean = ROOT.RooRealVar(\"x_bkg2_mean\", \"\",  fit_args3.at(0).getVal()) \n",
    "x_bkg2frac1 = ROOT.RooRealVar(\"x_bkg2frac1\", \"fraction of component 1 in signal\", fit_args3.at(1).getVal())\n",
    "x_bkg2_sigma = ROOT.RooRealVar(\"x_bkg2_sigma\", \"\",  fit_args3.at(2).getVal()) \n",
    "x_bkg2_c0 = ROOT.RooRealVar(\"x_bkg2_c0\", \"c0\",fit_args3.at(3).getVal()) \n",
    "x_bkg2_c1 = ROOT.RooRealVar(\"x_bkg2_c1\", \"c0\",fit_args3.at(4).getVal()) \n",
    "\n",
    "\n",
    "# x_bkg2_tau = ROOT.RooRealVar(\"x_bkg2_tau\", \"\",  -5,-10,0) \n",
    "# x_bkg2_c0 = ROOT.RooRealVar(\"x_bkg2_c0\", \"c0\",0.2, -1,1) \n",
    "# x_bkg2_c1 = ROOT.RooRealVar(\"x_bkg2_c1\", \"c0\",0.2, -1,1) \n",
    "\n",
    "# x_bkg2_c2 = ROOT.RooRealVar(\"x_bkg2_c2\", \"c0\",0.2, -1,1) \n",
    "\n"
   ]
  },
  {
   "cell_type": "code",
   "execution_count": 13,
   "id": "4441d97a-4435-4ba7-a6a0-74d5abf8dfb9",
   "metadata": {},
   "outputs": [],
   "source": [
    "f = ROOT.TFile.Open(\"/home/jykim/workspace/DRAW_and_FITTING/main/FITTING/antiKstargamma/1D_1ab_sigbkg/antiKstarg_Vpi0_fitresult_coshel.root\")\n",
    "result_object4 = ROOT.gDirectory.Get(\"antiKstarg\")\n",
    "f.Close()\n",
    "fit_args4 = result_object4.floatParsFinal()\n",
    "\n",
    "y_bkg1_c0        = ROOT.RooRealVar(\"x_bkg1_c0\", \"\",  fit_args4.at(0).getVal()) \n",
    "y_bkg1_c1        = ROOT.RooRealVar(\"x_bkg1_c1\", \"\",  fit_args4.at(1).getVal()) \n",
    "y_bkg1_c2        = ROOT.RooRealVar(\"x_bkg1_c2\", \"\",  fit_args4.at(2).getVal()) \n",
    "\n",
    "y_bkg1_frac1 = ROOT.RooRealVar(\"x_bkg1_frac1\", \"\",  fit_args4.at(3).getVal()) \n",
    "y_bkg1_frac2 = ROOT.RooRealVar(\"x_bkg1_frac2\", \"\",  fit_args4.at(4).getVal()) \n",
    "\n",
    "y_bkg1_2_mean    = ROOT.RooRealVar(\"x_bkg1_2_mean\", \"\",  fit_args4.at(5).getVal()) \n",
    "y_bkg1_2_sigma1  = ROOT.RooRealVar(\"x_bkg1_2_sigma1\", \"\",  fit_args4.at(6).getVal()) \n",
    "y_bkg1_2_sigma2  = ROOT.RooRealVar(\"x_bkg1_2_sigma2\", \"\",  fit_args4.at(7).getVal()) \n"
   ]
  },
  {
   "cell_type": "code",
   "execution_count": 14,
   "id": "f8ac5cdc-7582-4e82-ad73-179038025be8",
   "metadata": {},
   "outputs": [],
   "source": [
    "f = ROOT.TFile.Open(\"/home/jykim/workspace/DRAW_and_FITTING/main/FITTING/antiKstargamma/1D_1ab_sigbkg/antiKstarg_remain_fitresult_coshel.root\")\n",
    "result_object5 = ROOT.gDirectory.Get(\"antiKstarg\")\n",
    "f.Close()\n",
    "fit_args5 = result_object5.floatParsFinal()\n",
    "\n",
    "y_bkg2_c0 = ROOT.RooRealVar(\"y_bkg2_c0\", \"\",  fit_args5.at(0).getVal()) \n",
    "y_bkg2_c1 = ROOT.RooRealVar(\"y_bkg2_c1\", \"\",  fit_args5.at(1).getVal()) \n",
    "#y_bkg2_c2 = ROOT.RooRealVar(\"y_bkg2_c2\", \"\",  fit_args5.at(2).getVal()) "
   ]
  },
  {
   "cell_type": "code",
   "execution_count": 15,
   "id": "3497d840-7fbc-4328-b896-bb227309d399",
   "metadata": {},
   "outputs": [],
   "source": [
    "# mychain = ROOT.TChain(\"antiKstar\")\n",
    "# # mychain = ROOT.TChain(\"phi_cc\")\n",
    "\n",
    "# for i in file_list:\n",
    "#     mychain.Add(i)\n",
    "\n",
    "# yrange = (-1, 1)\n",
    "# x = ROOT.RooRealVar(\"D0_M\", \"M(D^{0}) [GeV/c^{2}]\", 1.68, 2.05, \"\")\n",
    "# y = ROOT.RooRealVar(\"D0_cosHel_0\", \"cos#theta_{H}\", yrange[0], yrange[1], \"\")\n",
    "# # z = ROOT.RooRealVar(\"Belle2Pi0Veto_75MeV\", \"M(D^{0}) [GeV/c^{2}]\",0,10, \"\")\n",
    "# z = ROOT.RooRealVar(\"dM_pi0_75MeV\", \"M(D^{0}) [GeV/c^{2}]\",0,10, \"\")\n",
    "\n",
    "\n",
    "# # data = ROOT.RooDataSet(\"data\",\"\", ROOT.RooArgSet(x,y,z), ROOT.RooFit.Import(mychain), Cut=\" D0_M>1.68 & D0_M<2.05 & Belle2Pi0Veto_75MeV > 0.022 \")\n",
    "# data = ROOT.RooDataSet(\"data\",\"\", ROOT.RooArgSet(x,y,z), ROOT.RooFit.Import(mychain), Cut=\" D0_M>1.68 & D0_M<2.05 & dM_pi0_75MeV > 0.022 \")"
   ]
  },
  {
   "cell_type": "code",
   "execution_count": 16,
   "id": "a12e938e-48dc-465e-b22e-569fe5b97805",
   "metadata": {},
   "outputs": [],
   "source": [
    "def Linearity_test(N_Input=100):\n",
    "\n",
    "\n",
    "\n",
    "\n",
    "\n",
    "\n",
    "    # w_1 = ROOT.RooRealVar('w_1', 'w', 0,1)\n",
    "    # w_1.setVal(1)\n",
    "    # before_data.addColumn(w_1)\n",
    "    # data = ROOT.RooDataSet(before_data.GetName(), before_data.GetTitle(),before_data, before_data.get(), '' ,  'w_1')\n",
    "    \n",
    "    # mychain2 = ROOT.TChain(\"phi\")\n",
    "    # mychain2.Add(\"/media/jykim/T7/storage/01_recon/phi/D0_massveto_v2_half_1_optimzed_sigext_signalMC_recon_mdst_phi.root\")\n",
    "    # signal_no_weight = ROOT.RooDataSet(\"signal_no_weight\",\"\", ROOT.RooArgSet(x,y,z), ROOT.RooFit.Import(mychain2), Cut=\" D0_M>1.76 & D0_M<1.92 & dM_pi0_75MeV > 0.023 \")\n",
    "    # signal_no_weight = ROOT.RooDataSet(\"signal_no_weight\",\"\", ROOT.RooArgSet(x,y,z), ROOT.RooFit.Import(mychain2), Cut=\" D0_M>1.68 & D0_M<2.05 & dM_pi0_75MeV > 0.023 \")\n",
    "\n",
    "\n",
    "    # w = ROOT.RooRealVar('w', 'w', 0,1)\n",
    "\n",
    "\n",
    "    # N_sig_before = signal_no_weight.sumEntries()\n",
    "    # print(N_sig_before)\n",
    "\n",
    "    # N_Input = 100\n",
    "    # w.setVal(N_Input/N_sig_before)\n",
    "    # print(w)\n",
    "\n",
    "    # signal_no_weight.addColumn(w)\n",
    "    \n",
    "    # signal_yes_weight = ROOT.RooDataSet(signal_no_weight.GetName(), signal_no_weight.GetTitle(),signal_no_weight, signal_no_weight.get(), '' ,  'w')\n",
    "    \n",
    "    # data.append(signal_yes_weight)\n",
    "    N_total = data.sumEntries()\n",
    "    print(N_total)\n",
    "    \n",
    "    # file1_name=\"Plot_linearity_test/Linearity_x\" + str(N_Input)  + \".png\" \n",
    "    # file2_name=\"Plot_linearity_test/Linearity_y\" + str(N_Input)  + \".png\" \n",
    "\n",
    "    ####################\n",
    "    #D0_M\n",
    "    # x.setBins(50)\n",
    "    x_sig_model = ROOT.RooCrystalBall(\"x_sig_model\", \"Signal component 2\", x, x_sig_mean, x_sig_sigmaL, x_sig_sigmaR, x_sig_alphaL, x_sig_nL, x_sig_alphaR, x_sig_nR)\n",
    "\n",
    "\n",
    "    #### Construct bkg model for x\n",
    "    #K- K+ pi0\n",
    "\n",
    "    # x_bkg1_1 = ROOT.RooGaussian(\"x_bkg1_1\", \"Signal component 1\", x, x_bkg1_mean, x_bkg1_sigma1)\n",
    "    # x_bkg1_2 = ROOT.RooCBShape(\"x_bkg1_2\", \"Signal component 2\", x, x_bkg1_mean, x_bkg1_sigma2, x_bkg1_alpha, x_bkg1_n_CB)\n",
    "    # x_bkg1_model = ROOT.RooAddPdf(\"x_bkg1_model\", \"Signal1\", [x_bkg1_1, x_bkg1_2], x_bkg1frac1)\n",
    "\n",
    "    x_bkg1_model = ROOT.RooCrystalBall(\"x_bkg1_model\", \"Signal component 2\", x, x_bkg1_mean, x_bkg1_sigmaL, x_bkg1_sigmaR, x_bkg1_alphaL, x_bkg1_nL, x_bkg1_alphaR, x_bkg1_nR)\n",
    "\n",
    "\n",
    "    ####BKG2\n",
    "    # remaining\n",
    "    x_bkg2_2 = ROOT.RooGaussian(\"x_bkg2_2\", \"Signal component 1\", x,x_bkg2_mean, x_bkg2_sigma)\n",
    "    x_bkg2_3 = ROOT.RooPolynomial(\"x_bkg2_3\", \"Signal component 1\", x, ROOT.RooArgList(x_bkg2_c0, x_bkg2_c1))\n",
    "    x_bkg2frac1 = ROOT.RooRealVar(\"x_bkg2frac1\", \"fraction of component 1 in signal\", 0.5, 0.0, 1.0)\n",
    "    x_bkg2_model = ROOT.RooAddPdf(\"x_bkg2_model\", \"model\", [x_bkg2_2, x_bkg2_3], x_bkg2frac1)\n",
    "\n",
    "\n",
    "\n",
    "    # x_bkg2_model = ROOT.RooHistPdf(\"x_bkg2_model\", \"hist_pdf\", x, data_hist)\n",
    "    # x_bkg2_hist = ROOT.RooHistPdf(\"x_bkg2_hist\", \"hist_pdf\", x, data_hist)\n",
    "\n",
    "    # x_bkg2_c00 = ROOT.RooRealVar(\"x_bkg2_c00\", \"c0\",0.1, -1,1.)\n",
    "    # x_bkg2_poly = ROOT.RooPolynomial(\"x_bkg2_poly\", \"Signal component 1\", x_bkg2_c00)\n",
    "\n",
    "    # x_bkg2_model = ROOT.RooAddPdf(\"x_bkg2_model\", \"model\", [x_bkg2_hist, x_bkg2_poly], x_bkg2frac1)\n",
    "\n",
    "\n",
    "    # y_bkg3_c1 = ROOT.RooRealVar(\"y_bkg3_c1\", \"c1\",0.5, 0,1.)\n",
    "    # y_bkg3_c2 = ROOT.RooRealVar(\"y_bkg3_c2\", \"c2\",-0.3, -1.,0.)\n",
    "    # y_bkg3_model = ROOT.RooChebychev(\"y_bkg3_model\", \"Signal component 1\", y, ROOT.RooArgList(y_bkg3_c0, y_bkg3_c1, y_bkg3_c2))\n",
    "\n",
    "\n",
    "\n",
    "    #phipi0,Kshort K+k-\n",
    "    ####BKG3\n",
    "    # x_bkg3_mean = ROOT.RooRealVar(\"x_bkg3_mean\", \"mean of gaussians\", 1.65,1.58, 1.68)\n",
    "    # x_bkg3_sigma1 = ROOT.RooRealVar(\"x_bkg3_sigma1\", \"width of gaussians\", 0.01,0,0.08)\n",
    "\n",
    "    # x_bkg3_model = ROOT.RooGaussian(\"x_bkg3_model\", \"Signal component 1\", x,x_bkg3_mean, x_bkg3_sigma1)\n",
    "    #x_bkg3_mean = ROOT.RooRealVar(\"x_bkg3_mean\", \"mean of gaussians\", 1.65,1.58, 1.7)\n",
    "    #x_bkg3_sigma1 = ROOT.RooRealVar(\"x_bkg3_sigma1\", \"width of gaussians\", 0.01,0,0.07)\n",
    "\n",
    "\n",
    "    # x_bkg3_c0 = ROOT.RooRealVar(\"x_bkg3_c0\", \"c0\",0.1, 0,1.)\n",
    "    # # c1 = ROOT.RooRealVar(\"c1\", \"c1\",0.5, 0,1.)\n",
    "    # # c2 = ROOT.RooRealVar(\"c2\", \"c2\",-0.3, -1.,0.)\n",
    "    # x_bkg3_1 = ROOT.RooPolynomial(\"x_bkg3_1\", \"Signal component 1\", x, ROOT.RooArgList(x_bkg3_c0), lowestOrder=1)\n",
    "\n",
    "    # x_bkg3_tau = ROOT.RooRealVar(\"x_bkg3_tau\", \"tau\",-2, -20,0)\n",
    "    # x_bkg3_2 = ROOT.RooExponential(\"x_bkg3_2\", \"Signal component 1\", x, x_bkg3_tau)    \n",
    "\n",
    "    #x_bkg3_2 = ROOT.RooGaussian(\"x_bkg3_2\", \"Signal component 1\", x, x_bkg3_mean, x_bkg3_sigma1)\n",
    "\n",
    "\n",
    "    # x_bkg3frac1  = ROOT.RooRealVar(\"x_bkg3frac1\", \"fraction of component 1 in signal\", 0.5, 0.0, 1.0)\n",
    "    # x_bkg3_model = ROOT.RooAddPdf(\"x_bkg3_model\", \"Signal1\", [x_bkg3_1, x_bkg3_2], x_bkg3frac1)\n",
    "\n",
    "    ################\n",
    "    #D0_cosHel_0\n",
    "    # yrange=(-1,1)\n",
    "    # y = ROOT.RooRealVar(\"cos#theta_{H}\", \"cos#theta_{H}\", yrange[0], yrange[1], \"\")\n",
    "    # y.setBins(50)\n",
    "\n",
    "    y_sig_model = ROOT.MyPdf_one_minus_squared(\"y_sig_model\", \"y_sig\", y)\n",
    "\n",
    "    #### Construct bkg model for y\n",
    "    #K+ K- pi0\n",
    "    # y_bkg1_frac1 = ROOT.RooRealVar(\"y_bkg1_frac1\", \"fraction of component 1 in signal\",y_bkg1_frac1_var,y_bkg1_frac1_var,y_bkg1_frac1_var )\n",
    "    y_bkg1_2_1 = ROOT.RooGaussian(\"y_bkg1_2_1\", \"Signal component 1\", y, y_bkg1_2_mean, y_bkg1_2_sigma1)\n",
    "    y_bkg1_2_2 = ROOT.RooGaussian(\"y_bkg1_2_2\", \"Signal component 1\", y, y_bkg1_2_mean, y_bkg1_2_sigma2)\n",
    "    y_bkg1_2 = ROOT.RooAddPdf(\"y_bkg1_2\", \"model\", [y_bkg1_2_1, y_bkg1_2_2], y_bkg1_frac1)\n",
    "\n",
    "\n",
    "    y_bkg1_3 = ROOT.RooChebychev(\"y_bkg1_3\", \"Signal component 1\", y, ROOT.RooArgList(y_bkg1_c0, y_bkg1_c1, y_bkg1_c2))\n",
    "\n",
    "    # y_bkg1_frac2 = ROOT.RooRealVar(\"y_bkg1_frac2\", \"fraction of component 1 in signal\" ,y_bkg1_frac2_var,y_bkg1_frac2,y_bkg1_frac2)\n",
    "\n",
    "    y_bkg1_model = ROOT.RooAddPdf(\"y_bkg1_model\", \"model\", [y_bkg1_3, y_bkg1_2], y_bkg1_frac2)\n",
    "\n",
    "\n",
    "    #remaining\n",
    "    # y_bkg2_c0 = ROOT.RooRealVar(\"y_bkg2_c0\", \"c0\",0.5, -1,1)\n",
    "    # y_bkg2_c1 = ROOT.RooRealVar(\"y_bkg2_c1\", \"c1\",0.2, -1,1)\n",
    "\n",
    "    # y_bkg2_c0 = ROOT.RooRealVar(\"y_bkg2_c0\", \"c0\",-1.1456e-01)\n",
    "    # y_bkg2_c1 = ROOT.RooRealVar(\"y_bkg2_c1\", \"c1\",3.5924e-01)\n",
    "\n",
    "    #y_bkg2_model= ROOT.RooPolynomial(\"y_bkg2_model\", \"Signal component 1\", y, ROOT.RooArgList(y_bkg2_c0, y_bkg2_c1, y_bkg2_c2))\n",
    "    y_bkg2_model= ROOT.RooChebychev(\"y_bkg2_model\", \"Signal component 1\", y, ROOT.RooArgList(y_bkg2_c0, y_bkg2_c1))\n",
    "\n",
    "    ####BKG3\n",
    "    # y_bkg3_c0 = ROOT.RooRealVar(\"y_bkg3_c0\", \"c0\",0.1, 0,1.)\n",
    "    # y_bkg3_c1 = ROOT.RooRealVar(\"y_bkg3_c1\", \"c1\",0.5, 0,1.)\n",
    "    # y_bkg3_c2 = ROOT.RooRealVar(\"y_bkg3_c2\", \"c2\",-0.3, -1.,0.)\n",
    "    # y_bkg3_model = ROOT.RooChebychev(\"y_bkg3_model\", \"Signal component 1\", y, ROOT.RooArgList(y_bkg3_c0, y_bkg3_c1, y_bkg3_c2))\n",
    "    # y_bkg3_model = ROOT.MyPdf_xsquared_nopara(\"y_bkg3_model\", \"y_bkg3\", y)\n",
    "\n",
    "    #### Combine bkg models\n",
    "    # y_phipi0frac = ROOT.RooRealVar(\"y_phipi0frac\", \"fraction of component 1 in signal\", 0.2, 0.0, 1.0)\n",
    "    # y_bkg_model = ROOT.RooAddPdf(\"y_bkg_model\", \"Signal\", [y_bkg1_model, y_bkg2_model], y_phipi0frac)\n",
    "\n",
    "\n",
    "    ################\n",
    "    bkg1_xy_model = ROOT.RooProdPdf(\"bkg1_xy_model\",\"bkg1_xy_model\",ROOT.RooArgSet(x_bkg1_model,y_bkg1_model))\n",
    "    bkg2_xy_model = ROOT.RooProdPdf(\"bkg2_xy_model\",\"bkg2_xy_model\",ROOT.RooArgSet(x_bkg2_model,y_bkg2_model))\n",
    "\n",
    "\n",
    "    sig_model = ROOT.RooProdPdf(\"sig_model\",\"sig_xy_model\",ROOT.RooArgSet(x_sig_model, y_sig_model))\n",
    "\n",
    "\n",
    "    ####################################\n",
    "    # construct signal + bkg pdf\n",
    "    nsig = ROOT.RooRealVar(\"nsig\",\"# signal events\",N_total*0.01,0,N_total*0.5)\n",
    "    nbkg1 = ROOT.RooRealVar(\"nbkg1\",\"# bkg events\",N_total*0.8,0, N_total)\n",
    "    nbkg2 = ROOT.RooRealVar(\"nbkg2\",\"# bkg events\",N_total*0.1,0, N_total*0.5)\n",
    "    # nbkg3 = ROOT.RooRealVar(\"nbkg3\",\"# bkg events\",100,0, len(D0_M_np_data))\n",
    "\n",
    "    # nbkg3 = ROOT.RooRealVar(\"nbkg3\",\"# bkg events\",300,0., len(D0_M_np_data))\n",
    "\n",
    "\n",
    "    # extended_model = ROOT.RooAddPdf(\"extended_model\", \"x_model\", ROOT.RooArgSet(sig_model,bkg1_xy_model,bkg2_xy_model,bkg3_xy_model), ROOT.RooArgSet(nsig, nbkg1, nbkg2, nbkg3))\n",
    "    extended_model = ROOT.RooAddPdf(\"extended_model\", \"x_model\", ROOT.RooArgSet(sig_model,bkg1_xy_model,bkg2_xy_model), ROOT.RooArgSet(nsig, nbkg1, nbkg2))\n",
    "\n",
    "    #####################################\n",
    "    # # Associated nsig/nbkg as expected number of events with sig/bkg\n",
    "    # esig = ROOT.RooExtendPdf(\"esig\", \"extended signal pdf\", sig_xy_model, nsig)\n",
    "    # ebkg = ROOT.RooExtendPdf(\"ebkg\", \"extended background pdf\", bkg_xy_model, nbkg)\n",
    "\n",
    "    # # Sum extended components without coefs\n",
    "    # # -------------------------------------------------------------------------\n",
    "\n",
    "    # # Construct sum of two extended pdf (no coefficients required)\n",
    "    # extended_model = ROOT.RooAddPdf(\"extended_model\", \"bkg_sig\", [ebkg, esig ])\n",
    "\n",
    "\n",
    "    # datax = ROOT.RooDataSet.from_numpy({\"M(D^{0})\": np_data['D0_M']}, [x])\n",
    "    # datay = ROOT.RooDataSet.from_numpy({\"cos#theta_{H}\": np_data['D0_cosHel_0']}, [y])\n",
    "\n",
    "    # data = ROOT.RooDataSet.from_numpy({\"M(D^{0})\": D0_M_np_data, \"cos#theta_{H}\": D0_cosHel_0_np_data}, [x,y])\n",
    "    # data = ROOT.RooArgSet(x,y)\n",
    "    # data = ROOT.RooDataSet(\"data\",\"\", ROOT.RooArgSet(x, y), I)\n",
    "\n",
    "    canv = ROOT.TCanvas(\"Canvas\", \"Canvas\", 700, 640)\n",
    "\n",
    "    xlow = ctypes.c_double()\n",
    "    ylow = ctypes.c_double()\n",
    "    xup = ctypes.c_double()\n",
    "    yup = ctypes.c_double()\n",
    "\n",
    "    canv.GetPad(0).GetPadPar(xlow, ylow, xup, yup)\n",
    "    canv.Divide(1,2)\n",
    "\n",
    "    xlow = xlow.value\n",
    "    ylow = ylow.value\n",
    "    xup = xup.value\n",
    "    yup = yup.value\n",
    "\n",
    "    upPad = canv.GetPad(1)\n",
    "    upPad.SetPad(xlow, ylow+0.25*(yup-ylow),xup,yup)\n",
    "\n",
    "    dwPad = canv.GetPad(2)\n",
    "    dwPad.SetPad(xlow, ylow,xup,ylow+0.25*(yup-ylow))\n",
    "    \n",
    "    r = extended_model.fitTo(data,NumCPU=11, Extended=ROOT.kTRUE,PrintLevel=-1, Save=1)\n",
    "\n",
    "    nsig.setVal(N_Input)\n",
    "\n",
    "    mcstudy = ROOT.RooMCStudy(\n",
    "        extended_model,\n",
    "        {x,y},\n",
    "        # Binned=True,\n",
    "        Silence=True,\n",
    "        Extended=True,\n",
    "        FitOptions=dict(Save=True, PrintEvalErrors=0, NumCPU=12),\n",
    "    )\n",
    "\n",
    "    # Generate and fit events\n",
    "    # ---------------------------------------------\n",
    "\n",
    "    # Generate and fit 1000 samples of Poisson(nExpected) events\n",
    "    mcstudy.generateAndFit(500)\n",
    "\n",
    "    # Explore results of study\n",
    "    # ------------------------------------------------\n",
    "    # ------------------------------------------------\n",
    "\n",
    "    # Make plots of the distributions of mean, error on mean and the pull of\n",
    "    # mean\n",
    "    frame1 = mcstudy.plotParam(nsig, Bins=50)\n",
    "    frame2 = mcstudy.plotError(nsig, Bins=50)\n",
    "    frame3 = mcstudy.plotPull(nsig, Bins=50, FitGauss=False)\n",
    "    pullMean = ROOT.RooRealVar(\"pullMean\",\"\",0,-10,10)\n",
    "    pullSigma = ROOT.RooRealVar(\"pullSigma\",\"\",1,0.1,5)\n",
    "    #pullMean.setPlotLabel(\"pull #mu\")   # // optional (to get nicer plot labels if you want)\n",
    "    #pullSigma.setPlotLabel(\"pull #sigma\")\n",
    "    pullMean.setPlotLabel(\"#mu\")   # // optional (to get nicer plot labels if you want)\n",
    "    pullSigma.setPlotLabel(\"#sigma\")\n",
    "\n",
    "    pullGauss = ROOT.RooGaussian(\"pullGauss\", \"\", frame3.getPlotVar() , pullMean, pullSigma)\n",
    "    r_pull = pullGauss.fitTo(mcstudy.fitParDataSet(),NumCPU=11,PrintLevel=-1)\n",
    "    # Plot distribution of minimized likelihood\n",
    "    frame4 = mcstudy.plotNLL(Bins=50)\n",
    "\n",
    "    # Make some histograms from the parameter dataset\n",
    "    # hh_cor_a0_s1f = mcstudy.fitParDataSet().createHistogram(\"hh\", x_sig_sigma2, YVar=x_sig_mean)\n",
    "    # hh_cor_a0_a1 = mcstudy.fitParDataSet().createHistogram(\"hh\", x_sig_mean, YVar=x_sig_sigma2)\n",
    "\n",
    "    # Access some of the saved fit results from individual toys\n",
    "    # corrHist000 = mcstudy.fitResult(0).correlationHist(\"c000\")\n",
    "    # corrHist127 = mcstudy.fitResult(1).correlationHist(\"c001\")\n",
    "    # corrHist953 = mcstudy.fitResult(2).correlationHist(\"c002\")\n",
    "\n",
    "    # Draw all plots on a canvas\n",
    "    # ROOT.gStyle.SetPalette(1)\n",
    "    # ROOT.gStyle.SetOptStat(0)\n",
    "    c = ROOT.TCanvas(\"Canvas\", \"ToyMCstudy\", 1500, 500)\n",
    "    c.Divide(3, 1)\n",
    "    c.cd(1)\n",
    "    # ROOT.gPad.SetLeftMargin(0.15)\n",
    "    # frame3.GetYaxis().SetTitleOffset(1.4)\n",
    "    pullGauss.plotOn(frame3)\n",
    "    #pullGauss.paramOn(frame3,xmin=0.55, xmax=0.75, ymax=0.9, sigDigits=3)\n",
    "    pullGauss.paramOn(frame3, ROOT.RooFit.Layout(0.60, 0.80, 0.9), ROOT.RooFit.Format(\"NE\",ROOT.RooFit.AutoPrecision(1)))\n",
    "\n",
    "    frame3.Draw(\"PE\")\n",
    "    #\n",
    "    c.cd(2)\n",
    "    nsig_Mean = ROOT.RooRealVar(\"nsig_Mean\",\"\", N_Input,0.5*N_Input,1.5*N_Input)\n",
    "    nsig_Sigma = ROOT.RooRealVar(\"nsig_Sigma\",\"\",N_Input*0.5,N_Input*0.001,N_Input*0.8)\n",
    "    nsig_Mean.setPlotLabel(\"#mu\")   # // optional (to get nicer plot labels if you want)\n",
    "    nsig_Sigma.setPlotLabel(\"#sigma\")\n",
    "\n",
    "    nsig_Gauss = ROOT.RooGaussian(\"nsig_Gauss\", \"\", frame1.getPlotVar() , nsig_Mean, nsig_Sigma)\n",
    "    \n",
    "    r_nsig = nsig_Gauss.fitTo(mcstudy.fitParDataSet(),NumCPU=12,PrintLevel=-1)\n",
    "\n",
    "    nsig_Gauss.plotOn(frame1)\n",
    "    #pullGauss.paramOn(frame3,xmin=0.55, xmax=0.75, ymax=0.9, sigDigits=3)\n",
    "    nsig_Gauss.paramOn(frame1, ROOT.RooFit.Layout(0.60, 0.80, 0.9), ROOT.RooFit.Format(\"NE\",ROOT.RooFit.AutoPrecision(1)))\n",
    "\n",
    "    \n",
    "    frame1.Draw(\"PE\")\n",
    "    c.cd(3)\n",
    "    # ROOT.gPad.SetLeftMargin(0.15)\n",
    "    # frame2.GetYaxis().SetTitleOffset(1.4)\n",
    "    frame2.Draw(\"PE\")\n",
    "    # c.cd(4)\n",
    "    # #ROOT.gPad.SetLeftMargin(0.15)\n",
    "    # frame4.GetYaxis().SetTitleOffset(1.4)\n",
    "    # frame4.Draw(\"PE\")\n",
    "    file_name=\"/media/jykim/T7/saved_plots/fitting/linearity/antiKstarg/230807_linearity_\" + str(N_Input)  + \".png\" \n",
    "    c.SaveAs(file_name)\n",
    "\n",
    "    # Make ROOT.RooMCStudy object available on command line after\n",
    "    # macro finishes\n",
    "    # ROOT.gDirectory.Add(mcstudy)\n",
    "    \n",
    "    Nsig_mean = nsig_Mean.getValV()\n",
    "    Nsig_mean_error = nsig_Mean.getError()\n",
    "    \n",
    "    return Nsig_mean, Nsig_mean_error"
   ]
  },
  {
   "cell_type": "code",
   "execution_count": 17,
   "id": "0416739a-49bd-4835-a368-5fb2e7f162fa",
   "metadata": {},
   "outputs": [],
   "source": [
    "# Linearity_test(500)"
   ]
  },
  {
   "cell_type": "code",
   "execution_count": 18,
   "id": "e78dc4de-7629-423f-a3e3-043e69fa8252",
   "metadata": {},
   "outputs": [
    {
     "data": {
      "text/plain": [
       "400"
      ]
     },
     "execution_count": 18,
     "metadata": {},
     "output_type": "execute_result"
    }
   ],
   "source": [
    "6538*2 - 6338*2"
   ]
  },
  {
   "cell_type": "code",
   "execution_count": 26,
   "id": "01b9a43b-aaca-49a2-a104-5be07128a905",
   "metadata": {},
   "outputs": [],
   "source": [
    "N_start = 6338*2\n",
    "N_end = 6538*2\n",
    "N_step = 4\n",
    "N_input = list()\n",
    "for i in range(N_start,N_end, N_step):\n",
    "    N_input.append(i)"
   ]
  },
  {
   "cell_type": "code",
   "execution_count": null,
   "id": "f073b5eb-0d76-42b0-b234-37a5c8ff0e55",
   "metadata": {},
   "outputs": [
    {
     "name": "stdout",
     "output_type": "stream",
     "text": [
      "155544.0\n"
     ]
    }
   ],
   "source": [
    "N_predict = list()\n",
    "Fit_error = list()\n",
    "\n",
    "#N_sig_fit = 681\n",
    "#sqrt(681) ~ 26.0959\n",
    "# 26.0959 * 3 = 78\n",
    "\n",
    "for i in range(N_start,N_end, N_step):\n",
    "    N_input.append(i)\n",
    "    \n",
    "    N_fit, temp_fit_error = Linearity_test(i)\n",
    "    N_predict.append(N_fit)\n",
    "    Fit_error.append(temp_fit_error)\n",
    "    \n",
    "    print(f'Prediction: {N_fit}, Input: {i}, Error: {temp_fit_error}')"
   ]
  },
  {
   "cell_type": "code",
   "execution_count": 27,
   "id": "4ad9bc2b-981b-4c25-b0cb-39bfdb3ab09c",
   "metadata": {},
   "outputs": [
    {
     "data": {
      "text/plain": [
       "100"
      ]
     },
     "execution_count": 27,
     "metadata": {},
     "output_type": "execute_result"
    }
   ],
   "source": [
    "len(N_input)"
   ]
  },
  {
   "cell_type": "code",
   "execution_count": 28,
   "id": "a524448a-8e6e-49b3-8b64-fcc609321653",
   "metadata": {},
   "outputs": [
    {
     "data": {
      "text/plain": [
       "100"
      ]
     },
     "execution_count": 28,
     "metadata": {},
     "output_type": "execute_result"
    }
   ],
   "source": [
    "len(N_predict)"
   ]
  },
  {
   "cell_type": "code",
   "execution_count": 29,
   "id": "695b9a61-ecea-4eaa-a77a-97393989028a",
   "metadata": {},
   "outputs": [
    {
     "name": "stdout",
     "output_type": "stream",
     "text": [
      "iminuit version: 2.15.2\n"
     ]
    },
    {
     "data": {
      "image/png": "[encoded data removed]",
      "text/plain": [
       "<Figure size 800x550 with 1 Axes>"
      ]
     },
     "metadata": {},
     "output_type": "display_data"
    }
   ],
   "source": [
    "\n",
    "import matplotlib.pyplot as plt\n",
    "# everything in iminuit is done through the Minuit object, so we import it\n",
    "from iminuit import Minuit\n",
    "\n",
    "# we also need a cost function to fit and import the LeastSquares function\n",
    "from iminuit.cost import LeastSquares\n",
    "\n",
    "# display iminuit version\n",
    "import iminuit\n",
    "print(\"iminuit version:\", iminuit.__version__)\n",
    "\n",
    "# our line model, unicode parameter names are supported :)\n",
    "def line(x, c0, c1):\n",
    "    return c0 + x * c1\n",
    "\n",
    "least_squares = LeastSquares(N_input, N_predict, Fit_error, line)\n",
    "\n",
    "m = Minuit(least_squares, c0=0, c1=0)  # starting values for α and β\n",
    "\n",
    "m.migrad()  # finds minimum of least_squares function\n",
    "m.hesse()  \n",
    "\n",
    "\n",
    "# # plt.scatter(N_input, N_predict)\n",
    "\n",
    "\n",
    "\n",
    "plt.errorbar(N_input, N_predict, yerr=Fit_error, fmt=\"o\",label='Data')\n",
    "\n",
    "# N_input = np.array(N_input)\n",
    "np_N_input = np.linspace(N_start*0.97,N_end*1.03,101)\n",
    "\n",
    "plt.plot(np_N_input, line(np_N_input, *m.values), label=r\"Fit($y=c_0+c_1x$)\")\n",
    "# plt.plot([N_start*0.9,N_end*1.05], line([N_start*0.9,N_end*1.05], *m.values), label=r\"Fit($y=c_0+c_1x$)\")\n",
    "\n",
    "\n",
    "\n",
    "\n",
    "# plt.xlim(N_start*0.9,N_end*1.05)\n",
    "# plt.ylim(N_start*0.9,N_end*1.05)\n",
    "plt.plot([N_start*0.97,N_end*1.03], [N_start*0.97,N_end*1.03], label='y=x')\n",
    "\n",
    "# plt.plot([N_start,N_end], [N_start,N_end], label='y=x')\n",
    "\n",
    "\n",
    "# plt.legend()\n",
    "# plt.show()\n",
    "\n",
    "\n",
    "# display legend with some fit info\n",
    "fit_info = [\n",
    "    f\"$\\\\chi^2$/$n_\\\\mathrm{{dof}}$ = {m.fval:.1f} / {m.ndof:.0f} = {m.fmin.reduced_chi2:.1f}\",\n",
    "]\n",
    "for p, v, e in zip(m.parameters, m.values, m.errors):\n",
    "    if p=='c0':\n",
    "        p = r'$c_0$'\n",
    "    elif p=='c1':\n",
    "        p = r'$c_1$'\n",
    "    fit_info.append(f\"{p} = ${v:.3f} \\\\pm {e:.3f}$\")\n",
    "\n",
    "plt.legend(title=\"\\n\".join(fit_info), frameon=False, fontsize=13)\n",
    "\n",
    "plt.xlabel(\"Input\")\n",
    "plt.ylabel(\"Prediction\")\n",
    "plt.xlim(N_start*0.995,N_end*1.005)\n",
    "plt.ylim(N_start*0.995,N_end*1.005)\n",
    "# plt.xlim(N_start,N_end)\n",
    "# plt.ylim(N_start,N_end)\n",
    "plt.tight_layout()\n",
    "plt.savefig(\"/media/jykim/T7/saved_plots/fitting/linearity/antiKstarg/Linearity_test_230807_400_4interval_500Toy.png\")\n",
    "plt.show();\n"
   ]
  },
  {
   "cell_type": "code",
   "execution_count": null,
   "id": "651fb91e-76d6-4234-9b37-914f89c26b65",
   "metadata": {},
   "outputs": [],
   "source": []
  }
 ],
 "metadata": {
  "kernelspec": {
   "display_name": "Python 3 (ipykernel)",
   "language": "python",
   "name": "python3"
  },
  "language_info": {
   "codemirror_mode": {
    "name": "ipython",
    "version": 3
   },
   "file_extension": ".py",
   "mimetype": "text/x-python",
   "name": "python",
   "nbconvert_exporter": "python",
   "pygments_lexer": "ipython3",
   "version": "3.10.5"
  }
 },
 "nbformat": 4,
 "nbformat_minor": 5
}
