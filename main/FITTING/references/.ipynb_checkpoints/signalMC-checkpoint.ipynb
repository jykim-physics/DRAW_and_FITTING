{
 "cells": [
  {
   "cell_type": "code",
   "execution_count": 2,
   "id": "3d254ef6",
   "metadata": {},
   "outputs": [
    {
     "name": "stdout",
     "output_type": "stream",
     "text": [
      "Welcome to JupyROOT 6.26/04\n"
     ]
    }
   ],
   "source": [
    "import ROOT\n",
    "import ctypes\n",
    "import math"
   ]
  },
  {
   "cell_type": "code",
   "execution_count": 3,
   "id": "f08b92b2",
   "metadata": {},
   "outputs": [
    {
     "name": "stdout",
     "output_type": "stream",
     "text": [
      "\n",
      "Applying BELLE2 style settings...\n"
     ]
    }
   ],
   "source": [
    "ROOT.gROOT.LoadMacro('/home/jykim/workspace/DRAW_and_FITTING/main/Belle2Style.C')\n",
    "ROOT.SetBelle2Style()"
   ]
  },
  {
   "cell_type": "code",
   "execution_count": 24,
   "id": "7a8cf2f1",
   "metadata": {},
   "outputs": [],
   "source": [
    "\n",
    "loc_file = '/media/jykim/T7/storage/ref_study_signalMC/ntuples/ref_optv1_sigext_D2pippim_signal_own_1M.root'\n",
    "file_list = [loc_file]\n",
    "mychain = ROOT.TChain(\"ref_rho\")\n",
    "\n",
    "for i in file_list:\n",
    "    mychain.Add(i)"
   ]
  },
  {
   "cell_type": "code",
   "execution_count": 25,
   "id": "2bcbb9b3",
   "metadata": {},
   "outputs": [
    {
     "name": "stderr",
     "output_type": "stream",
     "text": [
      "Warning in <TROOT::Append>: Replacing existing TH1: dummy_TH1F (Potential memory leak).\n"
     ]
    }
   ],
   "source": [
    "dummy_TH1F = ROOT.TH1F(\"dummy_TH1F\",\"D0 mass\",70,1.82,1.91)"
   ]
  },
  {
   "cell_type": "code",
   "execution_count": 26,
   "id": "e27c6fae",
   "metadata": {},
   "outputs": [],
   "source": [
    "def apply_cuts(tree, histogram):\n",
    "    for event in tree:\n",
    "        # if event.D0_M > 1.67 and event.D0_M < 2.06 and event.pi0_veto_isSignal_75MeV==1:\n",
    "#         if event.D0_M > 1.82 and event.D0_M < 1.91 and event.Dstarp_isSignal==1:\n",
    "        if event.D0_M > 1.82 and event.D0_M < 1.91 :\n",
    "\n",
    "        # if event.D0_M > 1.78 and event.D0_M < 1.92:\n",
    "            histogram.Fill(event.D0_M)\n",
    "    return histogram"
   ]
  },
  {
   "cell_type": "code",
   "execution_count": 27,
   "id": "eef74556",
   "metadata": {},
   "outputs": [
    {
     "data": {
      "image/png": "[encoded data removed]",
      "text/plain": [
       "<IPython.core.display.Image object>"
      ]
     },
     "metadata": {},
     "output_type": "display_data"
    }
   ],
   "source": [
    "dummy_TH1F = apply_cuts(mychain, dummy_TH1F)\n",
    "c1 = ROOT.TCanvas()\n",
    "dummy_TH1F.Draw()\n",
    "c1.Draw()"
   ]
  },
  {
   "cell_type": "code",
   "execution_count": 22,
   "id": "37b982a2",
   "metadata": {},
   "outputs": [
    {
     "data": {
      "text/plain": [
       "250565.0"
      ]
     },
     "execution_count": 22,
     "metadata": {},
     "output_type": "execute_result"
    }
   ],
   "source": [
    "dummy_TH1F.GetEntries()"
   ]
  },
  {
   "cell_type": "code",
   "execution_count": 28,
   "id": "323883bb",
   "metadata": {},
   "outputs": [
    {
     "data": {
      "text/plain": [
       "254922.0"
      ]
     },
     "execution_count": 28,
     "metadata": {},
     "output_type": "execute_result"
    }
   ],
   "source": [
    "dummy_TH1F.GetEntries()"
   ]
  },
  {
   "cell_type": "code",
   "execution_count": 30,
   "id": "a7574e21",
   "metadata": {},
   "outputs": [
    {
     "data": {
      "text/plain": [
       "0.9829084975011965"
      ]
     },
     "execution_count": 30,
     "metadata": {},
     "output_type": "execute_result"
    }
   ],
   "source": [
    "250565.0/254922"
   ]
  },
  {
   "cell_type": "code",
   "execution_count": 10,
   "id": "0ce10edb",
   "metadata": {},
   "outputs": [],
   "source": [
    "scale_factor = 1\n",
    "fitting_region = (1.83, 1.89)\n",
    "\n",
    "x = ROOT.RooRealVar(\"M(D^{0})\", \"M(D^{0}) [GeV/c^{2}]\", fitting_region[0], fitting_region[1], \"\")\n",
    "# x.setBins(50)\n",
    "l = ROOT.RooArgList(x)\n",
    "signalhist = ROOT.RooDataHist(\"sighist\", \"sighist\", l, dummy_TH1F, scale_factor)"
   ]
  },
  {
   "cell_type": "code",
   "execution_count": 12,
   "id": "8140544a",
   "metadata": {},
   "outputs": [
    {
     "name": "stdout",
     "output_type": "stream",
     "text": [
      "[#1] INFO:Minimization -- RooAbsMinimizerFcn::setOptimizeConst: activating const optimization\n",
      "[#1] INFO:Fitting -- RooAbsOptTestStatistic::ctor(nll_sig_model_sighist) constructing test statistic for sub-range named fit\n",
      "[#1] INFO:Fitting -- RooAbsOptTestStatistic::ctor(nll_sig_model_sighist) fixing interpretation of coefficients of any RooAddPdf to full domain of observables \n",
      "[#1] INFO:Eval -- RooAbsTestStatistic::initMPMode: started 12 remote server process.\n",
      "[#1] INFO:Minimization -- RooAbsMinimizerFcn::optimizeConstantTerms: set of constant parameters changed, rerunning const optimizer\n",
      " **********\n",
      " **   10 **SET PRINT           1\n",
      " **********\n",
      " **********\n",
      " **   11 **SET NOGRAD\n",
      " **********\n",
      " PARAMETER DEFINITIONS:\n",
      "    NO.   NAME         VALUE      STEP SIZE      LIMITS\n",
      "     1 mean         1.86501e+00  1.86501e-01     no limits\n",
      " **********\n",
      " **   12 **FIX           1\n",
      " **********\n",
      " PARAMETER DEFINITIONS:\n",
      "    NO.   NAME         VALUE      STEP SIZE      LIMITS\n",
      "     2 sig1frac     5.00000e-01  1.00000e-01    0.00000e+00  1.00000e+00\n",
      "     3 sigma1       1.15101e-02  1.15101e-03     no limits\n",
      " **********\n",
      " **   13 **FIX           3\n",
      " **********\n",
      " PARAMETER DEFINITIONS:\n",
      "    NO.   NAME         VALUE      STEP SIZE      LIMITS\n",
      "     4 sigma2       4.51711e-03  4.51711e-04     no limits\n",
      " **********\n",
      " **   14 **FIX           4\n",
      " **********\n",
      " PARAMETER DEFINITIONS:\n",
      "    NO.   NAME         VALUE      STEP SIZE      LIMITS\n",
      "     5 sigma3       4.23601e-03  4.23601e-04     no limits\n",
      " **********\n",
      " **   15 **FIX           5\n",
      " **********\n",
      " **********\n",
      " **   16 **SET ERR         0.5\n",
      " **********\n",
      " **********\n",
      " **   17 **SET PRINT           1\n",
      " **********\n",
      " **********\n",
      " **   18 **SET STR           1\n",
      " **********\n",
      " NOW USING STRATEGY  1: TRY TO BALANCE SPEED AGAINST RELIABILITY\n",
      " **********\n",
      " **   19 **MIGRAD        2500           1\n",
      " **********\n",
      " FIRST CALL TO USER FUNCTION AT NEW START POINT, WITH IFLAG=4.\n",
      "[#1] INFO:Minimization --  The following expressions will be evaluated in cache-and-track mode: (sig1,sig2)\n",
      "[#1] INFO:Minimization --  The following expressions will be evaluated in cache-and-track mode: (sig1,sig2)\n",
      "[#1] INFO:Minimization --  The following expressions will be evaluated in cache-and-track mode: (sig1,sig2)\n",
      "[#1] INFO:Minimization --  The following expressions will be evaluated in cache-and-track mode: (sig1,sig2)\n",
      "[#1] INFO:Minimization --  The following expressions will be evaluated in cache-and-track mode: (sig1,sig2)\n",
      "[#1] INFO:Minimization --  The following expressions will be evaluated in cache-and-track mode: (sig1,sig2)\n",
      "[#1] INFO:Minimization --  The following expressions will be evaluated in cache-and-track mode: (sig1,sig2)\n",
      "[#1] INFO:Minimization --  The following expressions will be evaluated in cache-and-track mode: (sig1,sig2)\n",
      "[#1] INFO:Minimization --  The following expressions will be evaluated in cache-and-track mode: (sig1,sig2)\n",
      "[#1] INFO:Minimization --  The following expressions will be evaluated in cache-and-track mode: (sig1,sig2)\n",
      "[#1] INFO:Minimization --  The following expressions will be evaluated in cache-and-track mode: (sig1,sig2)\n",
      "[#1] INFO:Minimization --  The following expressions will be evaluated in cache-and-track mode: (sig1,sig2)\n",
      "[#1] INFO:Minimization --  The following expressions will be evaluated in cache-and-track mode: (sig1,sig2)\n",
      "[#1] INFO:Minimization --  The following expressions will be evaluated in cache-and-track mode: (sig1,sig2)\n",
      "[#1] INFO:Minimization --  The following expressions will be evaluated in cache-and-track mode: (sig1,sig2)\n",
      "[#1] INFO:Minimization --  The following expressions will be evaluated in cache-and-track mode: (sig1,sig2)\n",
      "[#1] INFO:Minimization --  The following expressions will be evaluated in cache-and-track mode: (sig1,sig2)\n",
      "[#1] INFO:Minimization --  The following expressions will be evaluated in cache-and-track mode: (sig1,sig2)\n",
      "[#1] INFO:Minimization --  The following expressions will be evaluated in cache-and-track mode: (sig1,sig2)\n",
      "[#1] INFO:Minimization --  The following expressions will be evaluated in cache-and-track mode: (sig1,sig2)\n",
      "[#1] INFO:Minimization --  The following expressions will be evaluated in cache-and-track mode: (sig1,sig2)\n",
      "[#1] INFO:Minimization --  The following expressions will be evaluated in cache-and-track mode: (sig1,sig2)\n",
      "[#1] INFO:Minimization --  The following expressions will be evaluated in cache-and-track mode: (sig1,sig2)\n",
      "[#1] INFO:Minimization --  The following expressions will be evaluated in cache-and-track mode: (sig1,sig2)\n",
      " START MIGRAD MINIMIZATION.  STRATEGY  1.  CONVERGENCE WHEN EDM .LT. 1.00e-03\n",
      " FCN=-891999 FROM MIGRAD    STATUS=INITIATE        4 CALLS           5 TOTAL\n",
      "                     EDM= unknown      STRATEGY= 1      NO ERROR MATRIX       \n",
      "  EXT PARAMETER               CURRENT GUESS       STEP         FIRST   \n",
      "  NO.   NAME      VALUE            ERROR          SIZE      DERIVATIVE \n",
      "   1  mean         1.86501e+00     fixed    \n",
      "   2  sig1frac     5.00000e-01   1.00000e-01   2.01358e-01   2.63077e+04\n",
      "   3  sigma1       1.15101e-02     fixed    \n",
      "   4  sigma2       4.51711e-03     fixed    \n",
      "   5  sigma3       4.23601e-03     fixed    \n",
      "                               ERR DEF= 0.5\n",
      " MIGRAD MINIMIZATION HAS CONVERGED.\n",
      " MIGRAD WILL VERIFY CONVERGENCE AND ERROR MATRIX.\n",
      " COVARIANCE MATRIX CALCULATED SUCCESSFULLY\n",
      " FCN=-897785 FROM MIGRAD    STATUS=CONVERGED      17 CALLS          18 TOTAL\n",
      "                     EDM=1.90191e-05    STRATEGY= 1      ERROR MATRIX ACCURATE \n",
      "  EXT PARAMETER                                   STEP         FIRST   \n",
      "  NO.   NAME      VALUE            ERROR          SIZE      DERIVATIVE \n",
      "   1  mean         1.86501e+00     fixed    \n",
      "   2  sig1frac     2.97833e-01   1.68301e-03   2.39615e-03  -1.18499e+00\n",
      "   3  sigma1       1.15101e-02     fixed    \n",
      "   4  sigma2       4.51711e-03     fixed    \n",
      "   5  sigma3       4.23601e-03     fixed    \n",
      "                               ERR DEF= 0.5\n",
      " EXTERNAL ERROR MATRIX.    NDIM=  25    NPAR=  1    ERR DEF=0.5\n",
      "  2.833e-06 \n",
      "[#1] INFO:Minimization -- RooAbsMinimizerFcn::optimizeConstantTerms: set of constant parameters changed, rerunning const optimizer\n",
      " **********\n",
      " **   20 **SET ERR         0.5\n",
      " **********\n",
      " **********\n",
      " **   21 **SET PRINT           1\n",
      " **********\n",
      " **********\n",
      " **   22 **HESSE        2500\n",
      " **********\n",
      "[#1] INFO:Minimization --  The following expressions will be evaluated in cache-and-track mode: (sig1,sig2)\n",
      "[#1] INFO:Minimization --  The following expressions will be evaluated in cache-and-track mode: (sig1,sig2)\n",
      "[#1] INFO:Minimization --  The following expressions will be evaluated in cache-and-track mode: (sig1,sig2)\n",
      "[#1] INFO:Minimization --  The following expressions will be evaluated in cache-and-track mode: (sig1,sig2)\n",
      "[#1] INFO:Minimization --  The following expressions will be evaluated in cache-and-track mode: (sig1,sig2)\n",
      "[#1] INFO:Minimization --  The following expressions will be evaluated in cache-and-track mode: (sig1,sig2)\n",
      "[#1] INFO:Minimization --  The following expressions will be evaluated in cache-and-track mode: (sig1,sig2)\n",
      "[#1] INFO:Minimization --  The following expressions will be evaluated in cache-and-track mode: (sig1,sig2)\n",
      "[#1] INFO:Minimization --  The following expressions will be evaluated in cache-and-track mode: (sig1,sig2)\n",
      "[#1] INFO:Minimization --  The following expressions will be evaluated in cache-and-track mode: (sig1,sig2)\n",
      "[#1] INFO:Minimization --  The following expressions will be evaluated in cache-and-track mode: (sig1,sig2)\n",
      "[#1] INFO:Minimization --  The following expressions will be evaluated in cache-and-track mode: (sig1,sig2)\n",
      " COVARIANCE MATRIX CALCULATED SUCCESSFULLY\n",
      " FCN=-897785 FROM HESSE     STATUS=OK              5 CALLS          23 TOTAL\n",
      "                     EDM=1.89581e-05    STRATEGY= 1      ERROR MATRIX ACCURATE \n",
      "  EXT PARAMETER                                INTERNAL      INTERNAL  \n",
      "  NO.   NAME      VALUE            ERROR       STEP SIZE       VALUE   \n",
      "   1  mean         1.86501e+00     fixed    \n",
      "   2  sig1frac     2.97833e-01   1.68301e-03   4.79231e-04  -4.16250e-01\n",
      "   3  sigma1       1.15101e-02     fixed    \n",
      "   4  sigma2       4.51711e-03     fixed    \n",
      "   5  sigma3       4.23601e-03     fixed    \n",
      "                               ERR DEF= 0.5\n",
      " EXTERNAL ERROR MATRIX.    NDIM=  25    NPAR=  1    ERR DEF=0.5\n",
      "  2.833e-06 \n",
      "[#1] INFO:Minimization -- RooAbsMinimizerFcn::setOptimizeConst: deactivating const optimization\n",
      "[#1] INFO:Plotting -- RooAbsPdf::plotOn(sig_model) p.d.f was fitted in a subrange and no explicit Range() and NormRange() was specified. Plotting / normalising in fit range. To override, do one of the following\n",
      "\t- Clear the automatic fit range attribute: <pdf>.setStringAttribute(\"fitrange\", nullptr);\n",
      "\t- Explicitly specify the plotting range: Range(\"<rangeName>\").\n",
      "\t- Explicitly specify where to compute the normalisation: NormRange(\"<rangeName>\").\n",
      "\tThe default (full) range can be denoted with Range(\"\") / NormRange(\"\").\n",
      "[#1] INFO:Plotting -- RooAbsPdf::plotOn(sig_model) only plotting range 'fit_nll_sig_model_sighist'\n",
      "[#1] INFO:Plotting -- RooAbsPdf::plotOn(sig_model) p.d.f. curve is normalized using explicit choice of ranges 'fit_nll_sig_model_sighist'\n",
      "[#1] INFO:Plotting -- RooAbsPdf::plotOn(sig_model) directly selected PDF components: (sig1)\n",
      "[#1] INFO:Plotting -- RooAbsPdf::plotOn(sig_model) indirectly selected PDF components: ()\n",
      "[#1] INFO:Plotting -- RooAbsPdf::plotOn(sig_model) p.d.f was fitted in a subrange and no explicit Range() and NormRange() was specified. Plotting / normalising in fit range. To override, do one of the following\n",
      "\t- Clear the automatic fit range attribute: <pdf>.setStringAttribute(\"fitrange\", nullptr);\n",
      "\t- Explicitly specify the plotting range: Range(\"<rangeName>\").\n",
      "\t- Explicitly specify where to compute the normalisation: NormRange(\"<rangeName>\").\n",
      "\tThe default (full) range can be denoted with Range(\"\") / NormRange(\"\").\n",
      "[#1] INFO:Plotting -- RooAbsPdf::plotOn(sig_model) only plotting range 'fit_nll_sig_model_sighist'\n",
      "[#1] INFO:Plotting -- RooAbsPdf::plotOn(sig_model) p.d.f. curve is normalized using explicit choice of ranges 'fit_nll_sig_model_sighist'\n",
      "[#1] INFO:Plotting -- RooAbsPdf::plotOn(sig_model) directly selected PDF components: (sig2)\n",
      "[#1] INFO:Plotting -- RooAbsPdf::plotOn(sig_model) indirectly selected PDF components: ()\n",
      "[#1] INFO:Plotting -- RooAbsPdf::plotOn(sig_model) p.d.f was fitted in a subrange and no explicit Range() and NormRange() was specified. Plotting / normalising in fit range. To override, do one of the following\n",
      "\t- Clear the automatic fit range attribute: <pdf>.setStringAttribute(\"fitrange\", nullptr);\n",
      "\t- Explicitly specify the plotting range: Range(\"<rangeName>\").\n",
      "\t- Explicitly specify where to compute the normalisation: NormRange(\"<rangeName>\").\n",
      "\tThe default (full) range can be denoted with Range(\"\") / NormRange(\"\").\n",
      "[#1] INFO:Plotting -- RooAbsPdf::plotOn(sig_model) only plotting range 'fit_nll_sig_model_sighist'\n",
      "[#1] INFO:Plotting -- RooAbsPdf::plotOn(sig_model) p.d.f. curve is normalized using explicit choice of ranges 'fit_nll_sig_model_sighist'\n"
     ]
    },
    {
     "name": "stderr",
     "output_type": "stream",
     "text": [
      "Warning in <TCanvas::Constructor>: Deleting canvas with same name: Canvas\n"
     ]
    },
    {
     "data": {
      "image/png": "[encoded data removed]",
      "text/plain": [
       "<IPython.core.display.Image object>"
      ]
     },
     "metadata": {},
     "output_type": "display_data"
    }
   ],
   "source": [
    "x.setBins(70)\n",
    "\n",
    "\n",
    "# rooDataSet = ROOT_df_start.Book(\n",
    "#     ROOT.std.move(ROOT.RooDataSetHelper(\"dataset\", \"Title of dataset\", ROOT.RooArgSet(x))), (\"D0_M\")\n",
    "# )\n",
    "# rooDataSet2 = ROOT_df_start.Book(\n",
    "#     ROOT.std.move(ROOT.RooDataSetHelper(\"dataset\", \"Title of dataset\", ROOT.RooArgSet(x, y))), (\"D0_M\", \"Dstarp_Q\")\n",
    "# )\n",
    "\n",
    "\n",
    "# mean = ROOT.RooRealVar(\"mean\", \"mean of gaussians\", 1.86,1.85, 1.87)\n",
    "# sigma1 = ROOT.RooRealVar(\"sigma1\", \"width of gaussians\", 0.02,0.001,0.05)\n",
    "# sigma2 = ROOT.RooRealVar(\"sigma2\", \"width of gaussians\", 0.01,0.001,0.05)\n",
    "# sigma3 = ROOT.RooRealVar(\"sigma3\", \"width of gaussians\", 0.01,0.001,0.05)\n",
    "\n",
    "mean = ROOT.RooRealVar(\"mean\", \"mean of gaussians\",1.86501,1.86501,1.86501 )\n",
    "sigma1 = ROOT.RooRealVar(\"sigma1\", \"width of gaussians\", 1.15101e-02,1.15101e-02,1.15101e-02)\n",
    "sigma2 = ROOT.RooRealVar(\"sigma2\", \"width of gaussians\", 4.51711e-03,4.51711e-03,4.51711e-03)\n",
    "sigma3 = ROOT.RooRealVar(\"sigma3\", \"width of gaussians\", 4.23601e-03,4.23601e-03,4.23601e-03)\n",
    "\n",
    "# alpha = ROOT.RooRealVar(\"alpha\", \"width of gaussians\", 0.5,0,20)\n",
    "# n_CB = ROOT.RooRealVar(\"n_CB\", \"width of gaussians\", 20,0,100)\n",
    " \n",
    "# Novo_peak = ROOT.RooRealVar(\"Novo_peak\", \"Novo peak\", 1.83,1.67,1.93)    \n",
    "# Novo_width = ROOT.RooRealVar(\"Novo_widh\", \"Novo peak\", 0.05,0,0.5)    \n",
    "# Novo_tail = ROOT.RooRealVar(\"Novo_tail\", \"Novo peak\", 0.5,0,10)    \n",
    "\n",
    "\n",
    "    \n",
    "sig1 = ROOT.RooGaussian(\"sig1\", \"Signal component 1\", x, mean, sigma1)\n",
    "# sig2 = ROOT.RooGaussian(\"sig2\", \"Signal component 1\", x, mean, sigma2)\n",
    "sig2 = ROOT.RooBifurGauss(\"sig2\", \"Signal component 1\", x, mean, sigma2,sigma3)\n",
    "\n",
    "sig1frac = ROOT.RooRealVar(\"sig1frac\", \"fraction of component 1 in signal\", 1.94146e-01)\n",
    "\n",
    "# sig1frac = ROOT.RooRealVar(\"sig1frac\", \"fraction of component 1 in signal\", 0.5, 0.0, 1.0)\n",
    "sig_model = ROOT.RooAddPdf(\"sig_model\", \"Signal1\", [sig1, sig2], sig1frac)\n",
    "\n",
    "\n",
    "\n",
    "\n",
    "c0 = ROOT.RooRealVar(\"c0\", \"c0\",0.1, -1,1)\n",
    "# c1 = ROOT.RooRealVar(\"c1\", \"c1\",0.5, -1,1)\n",
    "#c2 = ROOT.RooRealVar(\"c2\", \"c2\",-0.3, -1.,0.)\n",
    "# bkg_x_model = ROOT.RooPolynomial(\"bkg_x_model\", \"Signal component 1\", x, ROOT.RooArgList(c0,c1))\n",
    "#sig = ROOT.RooCBShape(\"sig2\", \"Signal component 2\", x, mean, sigma2, alpha, n_CB)\n",
    "# sig3 = ROOT.RooNovosibirsk(\"sig3\", \"Signal component 3\", x, mean, Novo_width, Novo_tail)\n",
    "\n",
    "bkg_x_model = ROOT.RooPolynomial(\"bkg_x_model\", \"Signal component 1\", x, c0)\n",
    "\n",
    "# tau = ROOT.RooRealVar(\"tau\", \"c1\",-15, -20,0)\n",
    "# bkg_x_model = ROOT.RooExponential(\"bkg_x_model\", \"Signal component 1\", x, tau)\n",
    "\n",
    "\n",
    "\n",
    "# data = ROOT.RooDataSet.from_numpy({\"M(D^{0})\": np_data}, [x])\n",
    "\n",
    "data = signalhist\n",
    "\n",
    "canv = ROOT.TCanvas(\"Canvas\", \"Canvas\", 700, 640)\n",
    "\n",
    "xlow = ctypes.c_double()\n",
    "ylow = ctypes.c_double()\n",
    "xup = ctypes.c_double()\n",
    "yup = ctypes.c_double()\n",
    "\n",
    "canv.GetPad(0).GetPadPar(xlow, ylow, xup, yup)\n",
    "canv.Divide(1,2)\n",
    "\n",
    "xlow = xlow.value\n",
    "ylow = ylow.value\n",
    "xup = xup.value\n",
    "yup = yup.value\n",
    "\n",
    "upPad = canv.GetPad(1)\n",
    "upPad.SetPad(xlow, ylow+0.25*(yup-ylow),xup,yup)\n",
    "\n",
    "dwPad = canv.GetPad(2)\n",
    "dwPad.SetPad(xlow, ylow,xup,ylow+0.25*(yup-ylow))\n",
    "\n",
    "\n",
    "\n",
    "nsig = ROOT.RooRealVar(\"nsig\",\"# signal events\",N_total*0.9,0,N_total)\n",
    "nbkg = ROOT.RooRealVar(\"nbkg\",\"# bkg events\",N_total*0.1,0, N_total)\n",
    "\n",
    "\n",
    "# nsig = ROOT.RooRealVar(\"nsig\",\"# signal events\",len(np_data)*0.8,0,len(np_data))\n",
    "# nbkg = ROOT.RooRealVar(\"nbkg\",\"# bkg events\",len(np_data)*0.2,0, len(np_data))\n",
    "\n",
    "extended_model = ROOT.RooAddPdf(\"extended_model\", \"x_model\", ROOT.RooArgSet(sig_model,bkg_x_model), ROOT.RooArgSet(nsig, nbkg))\n",
    "\n",
    "# r = extended_model.fitTo(roodataset,NumCPU=12, Range=fitting_region)\n",
    "\n",
    "r = extended_model.fitTo(data,NumCPU=12, Range=fitting_region)\n",
    "# r = sig.fitTo(data,NumCPU=12, Range=fitting_region)\n",
    "\n",
    "# r.Print()\n",
    "canv.cd(1) \n",
    "# frame = x.frame(Title=\"D^{0} #rightarrow #bar{K}^{*0} #pi^{0}\")\n",
    "frame = x.frame(Title=\" \")\n",
    "\n",
    "data.plotOn(frame,Name = \"data1\", XErrorSize=0)\n",
    "\n",
    "# sig.plotOn(frame, Name=\"gauss1\", Components=sig1, LineStyle=ROOT.kDashed, LineColor=593)\n",
    "# sig.plotOn(frame, Name=\"CB1\", Components=sig2, LineStyle=ROOT.kDashed, LineColor=593)\n",
    "# sig.plotOn(frame, Name=\"Novo\", Components=sig3, LineStyle=ROOT.kDashed, LineColor=593)\n",
    "\n",
    "\n",
    "# extended_model.plotOn(frame, Name=\"sig1\", Components=sig1, LineStyle=ROOT.kDashed, LineColor=ROOT.kBlue)\n",
    "\n",
    "# extended_model.plotOn(frame, Name=\"sig2\", Components=sig2, LineStyle=ROOT.kDashed, LineColor=ROOT.kGreen)\n",
    "\n",
    "\n",
    "extended_model.plotOn(frame, Name=\"sig\", Components=ROOT.RooArgSet(sig1,sig2), LineStyle=ROOT.kDashed, LineColor=ROOT.kRed)\n",
    "\n",
    "\n",
    "\n",
    "extended_model.plotOn(frame, Name=\"bkg\", Components=bkg_x_model, LineStyle=ROOT.kDashed, LineColor=ROOT.kGreen+3)\n",
    "\n",
    "extended_model.plotOn(frame, Name=\"fitting\")\n",
    "\n",
    "\n",
    "\n",
    "\n",
    "\n",
    "# sig.paramOn(frame)\n",
    "frame.GetXaxis().CenterTitle(True)\n",
    "\n",
    "frame.Draw(\"PE\")\n",
    "\n",
    "\n",
    "leg1 = ROOT.TLegend(0.75, 0.65, 0.90, 0.9)\n",
    "leg1.SetFillColor(ROOT.kWhite)\n",
    "# leg1.SetHeader(\"The Legend title\",\"C\")\n",
    "leg1.AddEntry(\"data1\", \"MC\", \"PE\")\n",
    "leg1.AddEntry(\"fitting\", \"Fit\", \"l\")\n",
    "leg1.AddEntry(\"sig\", \"Signal\", \"l\")\n",
    "leg1.AddEntry(\"bkg\", \"Bkg\", \"l\")\n",
    "leg1.SetBorderSize(0)\n",
    "leg1.Draw()\n",
    "\n",
    "hpull = frame.pullHist()\n",
    "hpull.SetFillStyle(1001)\n",
    "hpull.SetFillColor(1);\n",
    "for i in range(0,hpull.GetN()):#(int i=0;i<hpull.GetN();++i): \n",
    "    hpull.SetPointError(i,0.0,0.0,0.0,0.0)\n",
    "# pullplot = x.frame(Title(\" \"))\n",
    "pullplot = x.frame()\n",
    "pullplot.SetTitle(\"\")\n",
    "pullplot.addPlotable(hpull,\"BE\")\n",
    "# pullplot.addPlotable(hpull,\"PE\")\n",
    "\n",
    "pullplot.SetYTitle(\"Pull\")\n",
    "pullplot.GetXaxis().SetTitleSize(0)\n",
    "pullplot.GetYaxis().SetTitleSize(0.22)\n",
    "pullplot.GetYaxis().CenterTitle(True)\n",
    "pullplot.GetYaxis().SetTitleOffset(0.2)\n",
    "pullplot.SetMinimum(-4.)\n",
    "pullplot.SetMaximum(4.)\n",
    "pullplot.GetXaxis().SetLabelSize(0.15)\n",
    "pullplot.GetYaxis().SetLabelSize(0.105)\n",
    "canv.cd(2)\n",
    "pullplot.Draw()\n",
    "\n",
    "xmin1 = ctypes.c_double(fitting_region[0])\n",
    "xmax1 = ctypes.c_double(fitting_region[1])\n",
    "# xmin1 = 0.1\n",
    "# xmax1 = 0.18\n",
    "line = ROOT.TLine(xmin1,0.0,xmax1,0.0)\n",
    "line1 = ROOT.TLine(xmin1,3.0,xmax1,3.0)\n",
    "line2 = ROOT.TLine(xmin1,-3.0,xmax1,-3.0)\n",
    "\n",
    "line.SetLineColor(ROOT.kRed)\n",
    "line.SetLineWidth(3)\n",
    "line1.SetLineColor(ROOT.kRed)\n",
    "line2.SetLineColor(ROOT.kRed)\n",
    "line1.SetLineStyle(2)\n",
    "line2.SetLineStyle(2)\n",
    "line.Draw(\"SAME\")\n",
    "line1.Draw(\"SAME\")\n",
    "line2.Draw(\"SAME\")\n",
    "\n",
    "canv.Update()\n",
    "\n",
    "canv.Draw()\n",
    "# canv.SaveAs(\"ref_rho_MC15ri_1ab_DDbar_D0M.png\")"
   ]
  },
  {
   "cell_type": "code",
   "execution_count": null,
   "id": "b705e0cf",
   "metadata": {},
   "outputs": [],
   "source": []
  }
 ],
 "metadata": {
  "kernelspec": {
   "display_name": "Python 3 (ipykernel)",
   "language": "python",
   "name": "python3"
  },
  "language_info": {
   "codemirror_mode": {
    "name": "ipython",
    "version": 3
   },
   "file_extension": ".py",
   "mimetype": "text/x-python",
   "name": "python",
   "nbconvert_exporter": "python",
   "pygments_lexer": "ipython3",
   "version": "3.10.5"
  },
  "toc": {
   "base_numbering": 1,
   "nav_menu": {},
   "number_sections": true,
   "sideBar": true,
   "skip_h1_title": false,
   "title_cell": "Table of Contents",
   "title_sidebar": "Contents",
   "toc_cell": false,
   "toc_position": {},
   "toc_section_display": true,
   "toc_window_display": false
  }
 },
 "nbformat": 4,
 "nbformat_minor": 5
}
