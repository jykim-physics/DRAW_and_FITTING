{
 "cells": [
  {
   "cell_type": "code",
   "execution_count": null,
   "id": "3bdbf6d9-8fb7-4849-b476-a1ab02f06744",
   "metadata": {},
   "outputs": [
    {
     "ename": "",
     "evalue": "",
     "output_type": "error",
     "traceback": [
      "\u001b[1;31m원격 Jupyter 서버 'http://127.0.0.1:7635/'에 연결하지 못했습니다. 서버가 실행 중이고 연결할 수 있는지 확인합니다.(원격 Jupyter 서버 'http://127.0.0.1:7635/'에 연결하지 못했습니다. 서버가 실행 중이고 연결할 수 있는지 확인합니다.(Forbidden).)."
     ]
    }
   ],
   "source": [
    "import ROOT\n",
    "import ctypes"
   ]
  },
  {
   "cell_type": "code",
   "execution_count": 13,
   "id": "8842f652",
   "metadata": {},
   "outputs": [
    {
     "name": "stdout",
     "output_type": "stream",
     "text": [
      "\n",
      "Applying BELLE2 style settings...\n"
     ]
    }
   ],
   "source": [
    "ROOT.gROOT.LoadMacro('/home/jykim/workspace/DRAW_and_FITTING/main/Belle2Style.C')\n",
    "ROOT.SetBelle2Style()"
   ]
  },
  {
   "cell_type": "code",
   "execution_count": 12,
   "id": "ce78010d-d970-4fb0-b2d2-59f1e1572ab3",
   "metadata": {},
   "outputs": [],
   "source": [
    "# sig_file = ROOT.TFile.Open(\"/media/jykim/T7/storage/01_recon/phi/D0_massveto_v2_half_1_sig_ext_signalMC_recon_mdst_phi.root\")\n",
    "# signal_tree = sig_file.Get(\"antiKstar\")\n",
    "\n",
    "\n",
    "sig_1ab_file = ROOT.TFile.Open(\"/media/jykim/T7/storage/01_recon/massvetov2_sig_ext_1ab_sigbkg/topo/resultfile/result_rho/standard.root\")\n",
    "signal_1ab_tree = sig_1ab_file.Get(\"rho\")\n"
   ]
  },
  {
   "cell_type": "code",
   "execution_count": 3,
   "id": "4b72551a-ebd4-4a31-82f1-8eef0b26f8bf",
   "metadata": {},
   "outputs": [],
   "source": [
    "# D0_M_TH1F = ROOT.TH1F(\"D0_M_TH1F\",\"D0 mass\",50,1.67,2.06)\n",
    "D0_M_TH1F = ROOT.TH1F(\"D0_M_TH1F\",\"D0 mass\",50,1.72,1.92)\n",
    "D0_M_TH1F_2 = ROOT.TH1F(\"D0_M_TH1F_2\",\"D0 mass\",50,1.72,1.92)\n",
    "\n",
    "D0_cosHel_TH1F = ROOT.TH1F(\"D0_cosHel_TH1F\",\"D0_cosHel\",40, -1, 1)\n"
   ]
  },
  {
   "cell_type": "code",
   "execution_count": 4,
   "id": "3a69e135-44ce-49d2-a4b1-058596ee2bad",
   "metadata": {},
   "outputs": [],
   "source": [
    "def extract_histo(tree, histogram):\n",
    "    for event in tree:\n",
    "        histogram.Fill(event.D0_M)\n",
    "    return histogram"
   ]
  },
  {
   "cell_type": "code",
   "execution_count": 5,
   "id": "64f7ccbc-14d8-4a33-9644-53bb18aee9ef",
   "metadata": {},
   "outputs": [],
   "source": [
    "def extract_hist_coshel(tree, histogram):\n",
    "    for event in tree:\n",
    "        if event.nSigCascDcyBr_2==1 and event.D0_M > 1.67 and event.D0_M < 2.06 and event.Belle2Pi0Veto_75MeV > 0.022:\n",
    "\n",
    "            histogram.Fill(event.D0_cosHel_0)\n",
    "    return histogram"
   ]
  },
  {
   "cell_type": "code",
   "execution_count": 6,
   "id": "180bbf17-769e-4579-bb25-321d03c8a0ae",
   "metadata": {},
   "outputs": [],
   "source": [
    "def apply_cuts(tree, histogram):\n",
    "    for event in tree:\n",
    "        # if event.D0_M > 1.67 and event.D0_M < 2.06:\n",
    "        if event.D0_M > 1.78 and event.D0_M < 1.92 and event.Belle2Pi0Veto_75MeV > 0.022:\n",
    "\n",
    "            histogram.Fill(event.D0_M)\n",
    "    return histogram"
   ]
  },
  {
   "cell_type": "code",
   "execution_count": 7,
   "id": "79ebe577-8e50-4749-8933-7eefc08616d3",
   "metadata": {},
   "outputs": [],
   "source": [
    "def extract_signals(tree, histogram):\n",
    "    for event in tree:\n",
    "        # if event.D0_M > 1.67 and event.D0_M < 2.06:\n",
    "        if event.nSigCascDcyBr_2==1 and event.D0_M > 1.72 and event.D0_M < 1.92 and event.Belle2Pi0Veto_75MeV > 0.022:\n",
    "        # if event.nSigCascDcyBr_0==1 and event.D0_M > 1.67 and event.D0_M < 2.06 and event.Belle2Pi0Veto_75MeV > 0.02:\n",
    "\n",
    "            histogram.Fill(event.D0_M)\n",
    "    return histogram"
   ]
  },
  {
   "cell_type": "code",
   "execution_count": 8,
   "id": "4febd10f-30fb-4cee-a502-49bd41026d42",
   "metadata": {},
   "outputs": [
    {
     "data": {
      "image/png": "[encoded data removed]",
      "text/plain": [
       "<IPython.core.display.Image object>"
      ]
     },
     "metadata": {},
     "output_type": "display_data"
    }
   ],
   "source": [
    "D0_cosHel_TH1F = extract_hist_coshel(signal_1ab_tree, D0_cosHel_TH1F)\n",
    "c1 = ROOT.TCanvas()\n",
    "D0_cosHel_TH1F.Draw()\n",
    "c1.Draw()"
   ]
  },
  {
   "cell_type": "code",
   "execution_count": 9,
   "id": "740212a9-eb8a-45ef-9b3e-ec4f05cae564",
   "metadata": {},
   "outputs": [],
   "source": [
    "\n",
    "# D0_M_TH1F = apply_cuts(signal_tree, D0_M_TH1F)\n",
    "# c1 = ROOT.TCanvas()\n",
    "# D0_M_TH1F.Draw()\n",
    "# c1.Draw()"
   ]
  },
  {
   "cell_type": "code",
   "execution_count": 10,
   "id": "6db6a69e-2cc6-4a5f-8150-ed65215efbc6",
   "metadata": {},
   "outputs": [
    {
     "data": {
      "image/png": "[encoded data removed]",
      "text/plain": [
       "<IPython.core.display.Image object>"
      ]
     },
     "metadata": {},
     "output_type": "display_data"
    }
   ],
   "source": [
    "\n",
    "D0_M_TH1F_2 = extract_signals(signal_1ab_tree, D0_M_TH1F_2)\n",
    "# D0_M_TH1F_2 = apply_cuts(signal_1ab_tree, D0_M_TH1F_2)\n",
    "\n",
    "c1 = ROOT.TCanvas()\n",
    "D0_M_TH1F_2.Draw()\n",
    "c1.Draw()"
   ]
  },
  {
   "cell_type": "code",
   "execution_count": 11,
   "id": "6b227194-e200-426a-a720-ecd509f64fe7",
   "metadata": {},
   "outputs": [],
   "source": [
    "\n",
    "# scale_factor = D0_M_TH1F_2.GetEntries()/D0_M_TH1F.GetEntries()"
   ]
  },
  {
   "cell_type": "code",
   "execution_count": 12,
   "id": "cbed22c9-ed4a-476f-8c57-19a7aaab4665",
   "metadata": {},
   "outputs": [],
   "source": [
    "# scale_factor"
   ]
  },
  {
   "cell_type": "code",
   "execution_count": 13,
   "id": "07856c14-3fbb-45dd-b69c-ef1a94ebc3a9",
   "metadata": {},
   "outputs": [],
   "source": [
    "fitting_region = (1.72, 1.92)\n",
    "x = ROOT.RooRealVar(\"M(D^{0})\", \"M(D^{0}) [GeV/c^{2}]\", fitting_region[0], fitting_region[1], \"\")\n",
    "# x.setBins(50)\n",
    "l = ROOT.RooArgList(x)\n",
    "# signalhist = ROOT.RooDataHist(\"sighist\", \"sighist\", l, D0_M_TH1F, scale_factor)\n",
    "# signalhist = ROOT.RooDataHist(\"sighist\", \"sighist\", l, D0_M_TH1F, 1)\n",
    "\n",
    "signalhist = ROOT.RooDataHist(\"sighist\", \"sighist\", l, D0_M_TH1F_2, 1)\n"
   ]
  },
  {
   "cell_type": "code",
   "execution_count": 14,
   "id": "81461404-b419-43dc-b0a9-5a8ab1a4544b",
   "metadata": {},
   "outputs": [],
   "source": [
    "\n",
    "mean = ROOT.RooRealVar(\"mean\", \"mean of gaussians\", 1.86,1.83, 1.89)\n",
    "sigma1 = ROOT.RooRealVar(\"sigma1\", \"width of gaussians\", 0.03,0,0.5)\n",
    "sigma2 = ROOT.RooRealVar(\"sigma2\", \"width of gaussians\", 0.02,0,0.5)\n",
    "alpha = ROOT.RooRealVar(\"alpha\", \"width of gaussians\", 0.5,0,20)\n",
    "n_CB = ROOT.RooRealVar(\"n_CB\", \"width of gaussians\", 5,0,20)\n",
    " \n",
    "# Novo_peak = ROOT.RooRealVar(\"Novo_peak\", \"Novo peak\", 1.83,1.67,1.93)    \n",
    "# Novo_width = ROOT.RooRealVar(\"Novo_widh\", \"Novo peak\", 0.05,0,0.5)    \n",
    "# Novo_tail = ROOT.RooRealVar(\"Novo_tail\", \"Novo peak\", 0.5,0,10)    \n",
    "\n",
    "mu = ROOT.RooRealVar(\"mu\", \"Novo peak\", 1.83,1.67,1.93)    \n",
    "gamma = ROOT.RooRealVar(\"gamma\", \"Novo peak\", -1,-5,0)    \n",
    "para_lambda =  ROOT.RooRealVar(\"para_lambda\", \"Novo peak\", 1,-5,5)    \n",
    "delta = ROOT.RooRealVar(\"delta\", \"Novo peak\", 1.83,0,3)    \n"
   ]
  },
  {
   "cell_type": "code",
   "execution_count": 15,
   "id": "32658f60-999f-40d5-9109-803d213b55ed",
   "metadata": {},
   "outputs": [
    {
     "name": "stdout",
     "output_type": "stream",
     "text": [
      "[#0] WARNING:InputArguments -- The parameter 'sigma1' with range [0, 0.5] of the RooGaussian 'sig1' exceeds the safe range of (0, inf). Advise to limit its range.\n",
      "[#1] INFO:Eval -- RooRealVar::setRange(M(D^{0})) new range named 'fit' created with bounds [1.72,1.92]\n",
      "[#1] INFO:Minimization -- RooAbsMinimizerFcn::setOptimizeConst: activating const optimization\n",
      "[#1] INFO:Fitting -- RooAbsOptTestStatistic::ctor(nll_model_sighist) constructing test statistic for sub-range named fit\n",
      "[#1] INFO:Eval -- RooRealVar::setRange(M(D^{0})) new range named 'NormalizationRangeForfit' created with bounds [1.72,1.92]\n",
      "[#1] INFO:Eval -- RooRealVar::setRange(M(D^{0})) new range named 'fit_nll_model_sighist' created with bounds [1.72,1.92]\n",
      "[#1] INFO:Fitting -- RooAbsOptTestStatistic::ctor(nll_model_sighist) fixing interpretation of coefficients of any RooAddPdf to full domain of observables \n",
      "[#0] ERROR:Integration --  RooNumIntFactory::Init : libRooFitMore cannot be loaded. GSL integrators will not beavailable ! \n",
      "[#1] INFO:Eval -- RooAbsTestStatistic::initMPMode: started 12 remote server process.\n",
      "[#1] INFO:Minimization --  The following expressions will be evaluated in cache-and-track mode: (sig1,sig2)\n",
      "[#1] INFO:Minimization --  The following expressions will be evaluated in cache-and-track mode: (sig1,sig2)\n",
      "[#1] INFO:Minimization --  The following expressions will be evaluated in cache-and-track mode: (sig1,sig2)\n",
      "[#1] INFO:Minimization --  The following expressions will be evaluated in cache-and-track mode: (sig1,sig2)\n",
      "[#1] INFO:Minimization --  The following expressions will be evaluated in cache-and-track mode: (sig1,sig2)\n",
      "[#1] INFO:Minimization --  The following expressions will be evaluated in cache-and-track mode: (sig1,sig2)\n",
      "[#1] INFO:Minimization --  The following expressions will be evaluated in cache-and-track mode: (sig1,sig2)\n",
      "[#1] INFO:Minimization --  The following expressions will be evaluated in cache-and-track mode: (sig1,sig2)\n",
      "[#1] INFO:Minimization --  The following expressions will be evaluated in cache-and-track mode: (sig1,sig2)\n",
      "[#1] INFO:Minimization --  The following expressions will be evaluated in cache-and-track mode: (sig1,sig2)\n",
      "[#1] INFO:Minimization --  The following expressions will be evaluated in cache-and-track mode: (sig1,sig2)\n",
      "[#1] INFO:Minimization --  The following expressions will be evaluated in cache-and-track mode: (sig1,sig2)\n",
      "[#1] INFO:Minimization -- RooAbsMinimizerFcn::setOptimizeConst: deactivating const optimization\n",
      "\n",
      "  RooFitResult: minimized FCN value: -830.682, estimated distance to minimum: 0.000322786\n",
      "                covariance matrix quality: Full, accurate covariance matrix\n",
      "                Status : MINIMIZE=0 HESSE=0 \n",
      "\n",
      "    Floating Parameter    FinalValue +/-  Error   \n",
      "  --------------------  --------------------------\n",
      "                 alpha    1.2464e+00 +/-  1.25e+00\n",
      "                  mean    1.8600e+00 +/-  1.06e-03\n",
      "                  n_CB    2.9898e+00 +/-  5.64e+00\n",
      "              sig1frac    6.6140e-01 +/-  7.74e-01\n",
      "                sigma1    1.4374e-02 +/-  4.27e-03\n",
      "                sigma2    2.5076e-02 +/-  1.42e-02\n",
      "\n",
      "[#1] INFO:Plotting -- RooAbsPdf::plotOn(model) p.d.f was fitted in a subrange and no explicit Range() and NormRange() was specified. Plotting / normalising in fit range. To override, do one of the following\n",
      "\t- Clear the automatic fit range attribute: <pdf>.setStringAttribute(\"fitrange\", nullptr);\n",
      "\t- Explicitly specify the plotting range: Range(\"<rangeName>\").\n",
      "\t- Explicitly specify where to compute the normalisation: NormRange(\"<rangeName>\").\n",
      "\tThe default (full) range can be denoted with Range(\"\") / NormRange(\"\").\n",
      "[#1] INFO:Plotting -- RooAbsPdf::plotOn(model) only plotting range 'fit_nll_model_sighist'\n",
      "[#1] INFO:Plotting -- RooAbsPdf::plotOn(model) p.d.f. curve is normalized using explicit choice of ranges 'fit_nll_model_sighist'\n",
      "[#1] INFO:Plotting -- RooAbsPdf::plotOn(model) directly selected PDF components: (sig1)\n",
      "[#1] INFO:Plotting -- RooAbsPdf::plotOn(model) indirectly selected PDF components: ()\n",
      "[#1] INFO:Plotting -- RooAbsPdf::plotOn(model) p.d.f was fitted in a subrange and no explicit Range() and NormRange() was specified. Plotting / normalising in fit range. To override, do one of the following\n",
      "\t- Clear the automatic fit range attribute: <pdf>.setStringAttribute(\"fitrange\", nullptr);\n",
      "\t- Explicitly specify the plotting range: Range(\"<rangeName>\").\n",
      "\t- Explicitly specify where to compute the normalisation: NormRange(\"<rangeName>\").\n",
      "\tThe default (full) range can be denoted with Range(\"\") / NormRange(\"\").\n",
      "[#1] INFO:Plotting -- RooAbsPdf::plotOn(model) only plotting range 'fit_nll_model_sighist'\n",
      "[#1] INFO:Plotting -- RooAbsPdf::plotOn(model) p.d.f. curve is normalized using explicit choice of ranges 'fit_nll_model_sighist'\n",
      "[#1] INFO:Plotting -- RooAbsPdf::plotOn(model) directly selected PDF components: (sig2)\n",
      "[#1] INFO:Plotting -- RooAbsPdf::plotOn(model) indirectly selected PDF components: ()\n",
      "[#1] INFO:Plotting -- RooAbsPdf::plotOn(model) p.d.f was fitted in a subrange and no explicit Range() and NormRange() was specified. Plotting / normalising in fit range. To override, do one of the following\n",
      "\t- Clear the automatic fit range attribute: <pdf>.setStringAttribute(\"fitrange\", nullptr);\n",
      "\t- Explicitly specify the plotting range: Range(\"<rangeName>\").\n",
      "\t- Explicitly specify where to compute the normalisation: NormRange(\"<rangeName>\").\n",
      "\tThe default (full) range can be denoted with Range(\"\") / NormRange(\"\").\n",
      "[#1] INFO:Plotting -- RooAbsPdf::plotOn(model) only plotting range 'fit_nll_model_sighist'\n",
      "[#1] INFO:Plotting -- RooAbsPdf::plotOn(model) p.d.f. curve is normalized using explicit choice of ranges 'fit_nll_model_sighist'\n"
     ]
    },
    {
     "name": "stderr",
     "output_type": "stream",
     "text": [
      "cling::DynamicLibraryManager::loadLibrary(): libgsl.so.25: cannot open shared object file: No such file or directory\n",
      "Info in <TCanvas::Print>: png file /media/jykim/T7/saved_plots/fitting/results/rhogamma/rho_massveto_1ab_signal.png has been created\n"
     ]
    },
    {
     "data": {
      "image/png": "[encoded data removed]",
      "text/plain": [
       "<IPython.core.display.Image object>"
      ]
     },
     "metadata": {},
     "output_type": "display_data"
    }
   ],
   "source": [
    "canv = ROOT.TCanvas(\"Canvas\", \"Canvas\", 700, 640)\n",
    "\n",
    "xlow = ctypes.c_double()\n",
    "ylow = ctypes.c_double()\n",
    "xup = ctypes.c_double()\n",
    "yup = ctypes.c_double()\n",
    "\n",
    "canv.GetPad(0).GetPadPar(xlow, ylow, xup, yup)\n",
    "canv.Divide(1,2)\n",
    "\n",
    "xlow = xlow.value\n",
    "ylow = ylow.value\n",
    "xup = xup.value\n",
    "yup = yup.value\n",
    "\n",
    "upPad = canv.GetPad(1)\n",
    "upPad.SetPad(xlow, ylow+0.25*(yup-ylow),xup,yup)\n",
    "\n",
    "dwPad = canv.GetPad(2)\n",
    "dwPad.SetPad(xlow, ylow,xup,ylow+0.25*(yup-ylow))\n",
    "\n",
    "    \n",
    "sig1 = ROOT.RooGaussian(\"sig1\", \"Signal component 1\", x, mean, sigma1)\n",
    "# sig1 = ROOT.RooJohnson(\"sig1\", \"Signal component 1\", x,mu, para_lambda,gamma,delta)\n",
    "\n",
    "sig2 = ROOT.RooCBShape(\"sig2\", \"Signal component 2\", x, mean, sigma2, alpha, n_CB)\n",
    "# sig3 = ROOT.RooNovosibirsk(\"sig3\", \"Signal component 3\", x, mean, Novo_width, Novo_tail)\n",
    "\n",
    "\n",
    "sig1frac = ROOT.RooRealVar(\"sig1frac\", \"fraction of component 1 in signal\", 0.5, 0.0, 1.0)\n",
    "\n",
    "\n",
    "\n",
    "# model = ROOT.RooCBShape(\"model\", \"Signal component 2\", x, mean, sigma2, alpha, n_CB)\n",
    "\n",
    "model = ROOT.RooAddPdf(\"model\", \"model\", [sig1, sig2], sig1frac)\n",
    "\n",
    "\n",
    "r = model.fitTo(signalhist,NumCPU=12,Range=fitting_region,PrintLevel=-1, Save=1)\n",
    "\n",
    "r.Print()\n",
    "canv.cd(1) \n",
    "# frame = x.frame(Title=\"D^{0} #rightarrow #bar{K}^{*0} #pi^{0}\")\n",
    "frame = x.frame(Title=\" \")\n",
    "\n",
    "signalhist.plotOn(frame,Name = \"data1\", XErrorSize=0)\n",
    "\n",
    "model.plotOn(frame, Name=\"gauss1\", Components=sig1, LineStyle=ROOT.kDashed, LineColor=593)\n",
    "model.plotOn(frame, Name=\"CB1\", Components=sig2, LineStyle=ROOT.kDashed, LineColor=593)\n",
    "# sig.plotOn(frame, Name=\"Novo\", Components=sig3, LineStyle=ROOT.kDashed, LineColor=593)\n",
    "\n",
    "model.plotOn(frame, Name=\"fitting\",)\n",
    "\n",
    "\n",
    "# sig.paramOn(frame)\n",
    "frame.GetXaxis().SetTitleSize(0.047)\n",
    "frame.GetXaxis().CenterTitle(True)\n",
    "frame.GetYaxis().SetTitleSize(0.04)\n",
    "frame.GetYaxis().SetTitleOffset(1.2)\n",
    "frame.Draw(\"PE\")\n",
    "\n",
    "\n",
    "leg1 = ROOT.TLegend(0.75, 0.75, 0.9, 0.9)\n",
    "leg1.SetFillColor(ROOT.kWhite)\n",
    "# leg1.SetHeader(\"The Legend title\",\"C\")\n",
    "leg1.AddEntry(\"data1\", \"MC\", \"PE\")\n",
    "leg1.AddEntry(\"fitting\", \"fit\", \"l\")\n",
    "leg1.Draw()\n",
    "\n",
    "hpull = frame.pullHist()\n",
    "hpull.SetFillStyle(1001)\n",
    "hpull.SetFillColor(1);\n",
    "for i in range(0,hpull.GetN()):#(int i=0;i<hpull.GetN();++i): \n",
    "    hpull.SetPointError(i,0.0,0.0,0.0,0.0)\n",
    "# pullplot = x.frame(Title(\" \"))\n",
    "pullplot = x.frame()\n",
    "pullplot.SetTitle(\"\")\n",
    "pullplot.addPlotable(hpull,\"BE\")\n",
    "# pullplot.addPlotable(hpull,\"PE\")\n",
    "\n",
    "pullplot.SetYTitle(\"Pull\")\n",
    "pullplot.GetXaxis().SetTitleSize(0)\n",
    "pullplot.GetYaxis().SetTitleSize(0.17)\n",
    "pullplot.GetYaxis().CenterTitle(True)\n",
    "pullplot.GetYaxis().SetTitleOffset(0.2)\n",
    "pullplot.SetMinimum(-4.)\n",
    "pullplot.SetMaximum(4.)\n",
    "pullplot.GetXaxis().SetLabelSize(0.1)\n",
    "pullplot.GetYaxis().SetLabelSize(0.09)\n",
    "canv.cd(2)\n",
    "pullplot.Draw()\n",
    "\n",
    "xmin1 = ctypes.c_double(fitting_region[0])\n",
    "xmax1 = ctypes.c_double(fitting_region[1])\n",
    "# xmin1 = 0.1\n",
    "# xmax1 = 0.18\n",
    "line = ROOT.TLine(xmin1,0.0,xmax1,0.0)\n",
    "line1 = ROOT.TLine(xmin1,3.0,xmax1,3.0)\n",
    "line2 = ROOT.TLine(xmin1,-3.0,xmax1,-3.0)\n",
    "\n",
    "line.SetLineColor(ROOT.kRed)\n",
    "line.SetLineWidth(3)\n",
    "line1.SetLineColor(ROOT.kRed)\n",
    "line2.SetLineColor(ROOT.kRed)\n",
    "line1.SetLineStyle(2)\n",
    "line2.SetLineStyle(2)\n",
    "line.Draw(\"SAME\")\n",
    "line1.Draw(\"SAME\")\n",
    "line2.Draw(\"SAME\")\n",
    "\n",
    "canv.Update()\n",
    "\n",
    "canv.Draw()\n",
    "canv.SaveAs(\"/media/jykim/T7/saved_plots/fitting/results/rhogamma/rho_massveto_1ab_signal.png\")\n",
    "\n",
    "f = ROOT.TFile(\"phig_signalMC_fitresult.root\", \"RECREATE\")\n",
    "r.Write(\"phig_sig\")\n",
    "f.Close()\n"
   ]
  },
  {
   "cell_type": "code",
   "execution_count": 16,
   "id": "35ffd040-f571-4a12-bcd2-5df6cec6c76e",
   "metadata": {},
   "outputs": [
    {
     "name": "stdout",
     "output_type": "stream",
     "text": [
      "0x55759268b5b0 RooAddPdf::model = 0.117198 [Auto,Dirty] \n",
      "  0x55759251ec80/V- RooGaussian::sig1 = 0.0206251 [Auto,Dirty] \n",
      "    0x55758ec265d0/V- RooRealVar::M(D^{0}) = 1.82\n",
      "    0x557587c2c810/V- RooRealVar::mean = 1.86005 +/- 0.00106107\n",
      "    0x557587c0f560/V- RooRealVar::sigma1 = 0.0143745 +/- 0.0042688\n",
      "  0x55759251f220/V- RooRealVar::sig1frac = 0.661401 +/- 0.773894\n",
      "  0x55759256a3f0/V- RooCBShape::sig2 = 0.30584 [Auto,Dirty] \n",
      "    0x55758ec265d0/V- RooRealVar::M(D^{0}) = 1.82\n",
      "    0x557587c2c810/V- RooRealVar::mean = 1.86005 +/- 0.00106107\n",
      "    0x557587c17680/V- RooRealVar::sigma2 = 0.0250763 +/- 0.0141657\n",
      "    0x557587c0c4d0/V- RooRealVar::alpha = 1.24637 +/- 1.25341\n",
      "    0x557587befe10/V- RooRealVar::n_CB = 2.98981 +/- 5.64302\n"
     ]
    }
   ],
   "source": [
    "model.Print(\"t\")"
   ]
  },
  {
   "cell_type": "code",
   "execution_count": 17,
   "id": "43ffc56d-f01f-49c7-96d3-6e55a2bd4819",
   "metadata": {},
   "outputs": [],
   "source": [
    "f = ROOT.TFile.Open(\"phig_signalMC_fitresult.root\")\n",
    "r2 = ROOT.gDirectory.Get(\"phig_sig\")\n",
    "f.Close()\n"
   ]
  },
  {
   "cell_type": "code",
   "execution_count": 18,
   "id": "e449db02-3a12-4028-a58f-1daa29df377e",
   "metadata": {},
   "outputs": [
    {
     "name": "stdout",
     "output_type": "stream",
     "text": [
      "\n",
      "  RooFitResult: minimized FCN value: -830.682, estimated distance to minimum: 0.000322786\n",
      "                covariance matrix quality: Full, accurate covariance matrix\n",
      "                Status : MINIMIZE=0 HESSE=0 \n",
      "\n",
      "    Floating Parameter    FinalValue +/-  Error   \n",
      "  --------------------  --------------------------\n",
      "                 alpha    1.2464e+00 +/-  1.25e+00\n",
      "                  mean    1.8600e+00 +/-  1.06e-03\n",
      "                  n_CB    2.9898e+00 +/-  5.64e+00\n",
      "              sig1frac    6.6140e-01 +/-  7.74e-01\n",
      "                sigma1    1.4374e-02 +/-  4.27e-03\n",
      "                sigma2    2.5076e-02 +/-  1.42e-02\n",
      "\n"
     ]
    }
   ],
   "source": [
    "r2.Print()"
   ]
  },
  {
   "cell_type": "code",
   "execution_count": 19,
   "id": "b612badd-87c1-47fd-bb71-12982c4377b0",
   "metadata": {},
   "outputs": [
    {
     "data": {
      "text/plain": [
       "-0.907301969113463"
      ]
     },
     "execution_count": 19,
     "metadata": {},
     "output_type": "execute_result"
    }
   ],
   "source": [
    "r2.correlation(\"alpha\",\"n_CB\")"
   ]
  },
  {
   "cell_type": "code",
   "execution_count": 20,
   "id": "a81b463a-ffdb-4e4d-a472-7d01dccfa76d",
   "metadata": {},
   "outputs": [
    {
     "data": {
      "text/plain": [
       "0.00032278615602564903"
      ]
     },
     "execution_count": 20,
     "metadata": {},
     "output_type": "execute_result"
    }
   ],
   "source": [
    "r2.edm()"
   ]
  },
  {
   "cell_type": "code",
   "execution_count": 21,
   "id": "405e4318-7ba2-4362-acae-6d90a363da53",
   "metadata": {},
   "outputs": [
    {
     "data": {
      "text/plain": [
       "<cppyy.gbl.TMatrixTSym<double> object at 0x557593efb7f0>"
      ]
     },
     "execution_count": 21,
     "metadata": {},
     "output_type": "execute_result"
    }
   ],
   "source": [
    "r2.correlationMatrix()"
   ]
  },
  {
   "cell_type": "code",
   "execution_count": null,
   "id": "9f00b952-6846-4425-a62e-a7d87405471b",
   "metadata": {},
   "outputs": [],
   "source": []
  },
  {
   "cell_type": "markdown",
   "id": "06863275-42d8-4c31-8e85-64b63b7b2fcf",
   "metadata": {},
   "source": [
    "# cosHel"
   ]
  },
  {
   "cell_type": "code",
   "execution_count": 22,
   "id": "b0915556-da71-4172-8f0c-9e45ce4d3e49",
   "metadata": {},
   "outputs": [
    {
     "data": {
      "text/plain": [
       "93963597098912"
      ]
     },
     "execution_count": 22,
     "metadata": {},
     "output_type": "execute_result"
    },
    {
     "name": "stdout",
     "output_type": "stream",
     "text": [
      "(MyPdf_one_minus_squared) An instance of MyPdf_one_minus_squared.\n"
     ]
    },
    {
     "name": "stderr",
     "output_type": "stream",
     "text": [
      "Info in <TUnixSystem::ACLiC>: creating shared library /home/jykim/workspace/DRAW_and_FITTING/main/Fitting_1D/rhogamma/1D_1ab_sigbkg/./MyPdf_one_minus_squared_cxx.so\n"
     ]
    }
   ],
   "source": [
    "ROOT.RooClassFactory.makePdf(\"MyPdf_one_minus_squared\", \"x,c0\", \"\", \"c0*(1-x*x)\")\n",
    "ROOT.gROOT.ProcessLineSync(\".x MyPdf_one_minus_squared.cxx+\")"
   ]
  },
  {
   "cell_type": "code",
   "execution_count": 23,
   "id": "62228863-f658-49a0-821a-163dc8b29fa4",
   "metadata": {},
   "outputs": [],
   "source": [
    "# ROOT.RooClassFactory.makePdf(\"MyPdf_xsquared_nopara\", \"x\", \"\", \"x*x\")\n",
    "# ROOT.gROOT.ProcessLineSync(\".x MyPdf_xsquared_nopara.cxx+\")"
   ]
  },
  {
   "cell_type": "code",
   "execution_count": 24,
   "id": "4040839d-ec2d-46de-bc23-93a1bafa465a",
   "metadata": {},
   "outputs": [],
   "source": [
    "fitting_region = (-1, 1)\n",
    "y = ROOT.RooRealVar(\"cos#theta_{H}\", \"cos#theta_{H}\", fitting_region[0], fitting_region[1], \"\")\n",
    "# y.setBins(50)\n",
    "y_l = ROOT.RooArgList(y)\n",
    "# signalhist = ROOT.RooDataHist(\"sighist\", \"sighist\", l, D0_M_TH1F, scale_factor)\n",
    "y_signalhist = ROOT.RooDataHist(\"y_signalhist\", \"sighist\", y_l, D0_cosHel_TH1F, 1)\n"
   ]
  },
  {
   "cell_type": "code",
   "execution_count": 25,
   "id": "25a1b7ce-723a-457e-8292-84966e9442ec",
   "metadata": {},
   "outputs": [],
   "source": [
    "y_mean = ROOT.RooRealVar(\"y_mean\", \"mean of gaussians\", 0.5,0.4, 0.6)\n",
    "y_sigma1 = ROOT.RooRealVar(\"y_sigma1\", \"width of gaussians\", 0.03,0,0.2)\n",
    "y_sigma2 = ROOT.RooRealVar(\"y_sigma2\", \"width of gaussians\", 0.02,0,0.2)\n",
    "\n",
    "c0 = ROOT.RooRealVar(\"c0\", \"c0\",0.2, 0,1)\n",
    "\n",
    "\n",
    "Cheby_c0 = ROOT.RooRealVar(\"Cheby_c0\", \"c0\",0.2, -1,1)\n",
    "Cheby_c1 = ROOT.RooRealVar(\"Cheby_c1\", \"c0\",0.2, -1,1)\n",
    "Cheby_c2 = ROOT.RooRealVar(\"Cheby_c2\", \"c0\",0.2, -1,1)\n"
   ]
  },
  {
   "cell_type": "code",
   "execution_count": 26,
   "id": "66e2e17f-4019-42c9-a037-6114886ac950",
   "metadata": {},
   "outputs": [
    {
     "name": "stdout",
     "output_type": "stream",
     "text": [
      "[#1] INFO:Eval -- RooRealVar::setRange(cos#theta_{H}) new range named 'fit' created with bounds [-1,1]\n",
      "[#1] INFO:Minimization -- RooAbsMinimizerFcn::setOptimizeConst: activating const optimization\n",
      "[#1] INFO:Fitting -- RooAbsOptTestStatistic::ctor(nll_model_y_signalhist) constructing test statistic for sub-range named fit\n",
      "[#1] INFO:Eval -- RooRealVar::setRange(cos#theta_{H}) new range named 'NormalizationRangeForfit' created with bounds [-1,1]\n",
      "[#1] INFO:Eval -- RooRealVar::setRange(cos#theta_{H}) new range named 'fit_nll_model_y_signalhist' created with bounds [-1,1]\n",
      "[#1] INFO:Fitting -- RooAbsOptTestStatistic::ctor(nll_model_y_signalhist) fixing interpretation of coefficients of any RooAddPdf to full domain of observables \n",
      "[#1] INFO:NumericIntegration -- RooRealIntegral::init(model_Int[cos#theta_{H}]) using numeric integrator RooIntegrator1D to calculate Int(cos#theta_{H})\n",
      "[#1] INFO:Eval -- RooAbsTestStatistic::initMPMode: started 12 remote server process.\n",
      "[#1] INFO:NumericIntegration -- RooRealIntegral::init(model_Int[cos#theta_{H}]) using numeric integrator RooIntegrator1D to calculate Int(cos#theta_{H})\n",
      "[#1] INFO:NumericIntegration -- RooRealIntegral::init(model_Int[cos#theta_{H}]) using numeric integrator RooIntegrator1D to calculate Int(cos#theta_{H})\n",
      "[#1] INFO:NumericIntegration -- RooRealIntegral::init(model_Int[cos#theta_{H}]) using numeric integrator RooIntegrator1D to calculate Int(cos#theta_{H})\n",
      "[#1] INFO:NumericIntegration -- RooRealIntegral::init(model_Int[cos#theta_{H}]) using numeric integrator RooIntegrator1D to calculate Int(cos#theta_{H})\n",
      "[#1] INFO:NumericIntegration -- RooRealIntegral::init(model_Int[cos#theta_{H}]) using numeric integrator RooIntegrator1D to calculate Int(cos#theta_{H})\n",
      "[#1] INFO:NumericIntegration -- RooRealIntegral::init(model_Int[cos#theta_{H}]) using numeric integrator RooIntegrator1D to calculate Int(cos#theta_{H})\n",
      "[#1] INFO:NumericIntegration -- RooRealIntegral::init(model_Int[cos#theta_{H}]) using numeric integrator RooIntegrator1D to calculate Int(cos#theta_{H})\n",
      "[#1] INFO:NumericIntegration -- RooRealIntegral::init(model_Int[cos#theta_{H}]) using numeric integrator RooIntegrator1D to calculate Int(cos#theta_{H})\n",
      "[#1] INFO:NumericIntegration -- RooRealIntegral::init(model_Int[cos#theta_{H}]) using numeric integrator RooIntegrator1D to calculate Int(cos#theta_{H})\n",
      "[#1] INFO:NumericIntegration -- RooRealIntegral::init(model_Int[cos#theta_{H}]) using numeric integrator RooIntegrator1D to calculate Int(cos#theta_{H})\n",
      "[#1] INFO:NumericIntegration -- RooRealIntegral::init(model_Int[cos#theta_{H}]) using numeric integrator RooIntegrator1D to calculate Int(cos#theta_{H})\n",
      "[#1] INFO:NumericIntegration -- RooRealIntegral::init(model_Int[cos#theta_{H}]) using numeric integrator RooIntegrator1D to calculate Int(cos#theta_{H})\n",
      "[#1] INFO:Minimization -- RooAbsMinimizerFcn::setOptimizeConst: deactivating const optimization\n",
      "\n",
      "  RooFitResult: minimized FCN value: 195.56, estimated distance to minimum: 1.42109e-14\n",
      "                covariance matrix quality: Full, accurate covariance matrix\n",
      "                Status : MINIMIZE=0 HESSE=0 \n",
      "\n",
      "    Floating Parameter    FinalValue +/-  Error   \n",
      "  --------------------  --------------------------\n",
      "                    c0    2.0000e-01 +/-  5.56e-01\n",
      "\n",
      "[#1] INFO:Plotting -- RooAbsPdf::plotOn(model) p.d.f was fitted in a subrange and no explicit Range() and NormRange() was specified. Plotting / normalising in fit range. To override, do one of the following\n",
      "\t- Clear the automatic fit range attribute: <pdf>.setStringAttribute(\"fitrange\", nullptr);\n",
      "\t- Explicitly specify the plotting range: Range(\"<rangeName>\").\n",
      "\t- Explicitly specify where to compute the normalisation: NormRange(\"<rangeName>\").\n",
      "\tThe default (full) range can be denoted with Range(\"\") / NormRange(\"\").\n",
      "[#1] INFO:Plotting -- RooAbsPdf::plotOn(model) only plotting range 'fit_nll_model_y_signalhist'\n",
      "[#1] INFO:Plotting -- RooAbsPdf::plotOn(model) p.d.f. curve is normalized using explicit choice of ranges 'fit_nll_model_y_signalhist'\n",
      "[#1] INFO:NumericIntegration -- RooRealIntegral::init(model_Int[cos#theta_{H}]) using numeric integrator RooIntegrator1D to calculate Int(cos#theta_{H})\n",
      "[#1] INFO:NumericIntegration -- RooRealIntegral::init(model_Int[cos#theta_{H}|fit_nll_model_y_signalhist]_Norm[cos#theta_{H}]) using numeric integrator RooIntegrator1D to calculate Int(cos#theta_{H})\n"
     ]
    },
    {
     "name": "stderr",
     "output_type": "stream",
     "text": [
      "Warning in <TCanvas::Constructor>: Deleting canvas with same name: Canvas\n",
      "Info in <TCanvas::Print>: png file /media/jykim/T7/saved_plots/fitting/results/antiKstargamma/antiKstar_massveto_1ab_signal_coshel.png has been created\n"
     ]
    },
    {
     "data": {
      "image/png": "[encoded data removed]",
      "text/plain": [
       "<IPython.core.display.Image object>"
      ]
     },
     "metadata": {},
     "output_type": "display_data"
    }
   ],
   "source": [
    "canv = ROOT.TCanvas(\"Canvas\", \"Canvas\", 700, 640)\n",
    "\n",
    "xlow = ctypes.c_double()\n",
    "ylow = ctypes.c_double()\n",
    "xup = ctypes.c_double()\n",
    "yup = ctypes.c_double()\n",
    "\n",
    "canv.GetPad(0).GetPadPar(xlow, ylow, xup, yup)\n",
    "canv.Divide(1,2)\n",
    "\n",
    "xlow = xlow.value\n",
    "ylow = ylow.value\n",
    "xup = xup.value\n",
    "yup = yup.value\n",
    "\n",
    "upPad = canv.GetPad(1)\n",
    "upPad.SetPad(xlow, ylow+0.25*(yup-ylow),xup,yup)\n",
    "\n",
    "dwPad = canv.GetPad(2)\n",
    "dwPad.SetPad(xlow, ylow,xup,ylow+0.25*(yup-ylow))\n",
    "\n",
    "\n",
    "# y_bkg1_model = ROOT.MyPdf_xsquared_nopara(\"y_bkg1_model\", \"y_bkg1\", y)\n",
    "# model = ROOT.MyPdf_xsquared_nopara(\"model\", \"y_bkg1\", y)\n",
    "# sig1 = ROOT.MyPdf_xsquared_nopara(\"sig1\", \"y_bkg1\", y)\n",
    "model = ROOT.MyPdf_one_minus_squared(\"model\", \"y_bkg1\", y, c0)\n",
    "\n",
    "\n",
    "# sig2_1 = ROOT.RooGaussian(\"sig2_1\", \"Signal component 1\", y, y_mean, y_sigma1)\n",
    "# sig2_2 = ROOT.RooGaussian(\"sig2_2\", \"Signal component 1\", y, y_mean, y_sigma2)\n",
    "\n",
    "# frac2 = ROOT.RooRealVar(\"frac2\", \"fraction of component 1 in signal\", 0.5, 0.0, 1.0)\n",
    "# sig2 = ROOT.RooAddPdf(\"sig2\", \"model\", [sig2_1, sig2_2], frac2)\n",
    "\n",
    "\n",
    "# sig3 = ROOT.RooChebychev(\"sig3\", \"Signal component 1\", y, ROOT.RooArgList(Cheby_c0, Cheby_c1, Cheby_c2))\n",
    "\n",
    "# sig1frac = ROOT.RooRealVar(\"sig1frac\", \"fraction of component 1 in signal\", 0.5, 0.0, 1.0)\n",
    "# sig2frac = ROOT.RooRealVar(\"sig2frac\", \"fraction of component 1 in signal\", 0.5, 0.0, 1.0)\n",
    "\n",
    "\n",
    "# # model = ROOT.RooCBShape(\"model\", \"Signal component 2\", x, mean, sigma2, alpha, n_CB)\n",
    "\n",
    "# sig_model1 = ROOT.RooAddPdf(\"sig_model1\", \"model\", [sig1, sig2], sig1frac)\n",
    "# model = ROOT.RooAddPdf(\"model\", \"model\", [sig3, sig_model1], sig2frac)\n",
    "\n",
    "\n",
    "\n",
    "\n",
    "run = model.fitTo(y_signalhist,NumCPU=12,Range=(-1,1),PrintLevel=-1, Save=1)\n",
    "# run = model.fitTo(y_signalhist,NumCPU=12,Range=(-1,1),PrintLevel=-1)\n",
    "\n",
    "run.Print()\n",
    "canv.cd(1) \n",
    "# frame = x.frame(Title=\"D^{0} #rightarrow #bar{K}^{*0} #pi^{0}\")\n",
    "frame = y.frame(Title=\" \")\n",
    "\n",
    "y_signalhist.plotOn(frame,Name = \"data1\", XErrorSize=0)\n",
    "\n",
    "# model.plotOn(frame, Name=\"gauss1\", Components=sig1, LineStyle=ROOT.kDashed, LineColor=593)\n",
    "# model.plotOn(frame, Name=\"CB1\", Components=sig2, LineStyle=ROOT.kDashed, LineColor=593)\n",
    "# model.plotOn(frame, Name=\"Novo\", Components=sig3, LineStyle=ROOT.kDashed, LineColor=593)\n",
    "\n",
    "model.plotOn(frame, Name=\"fitting\",)\n",
    "\n",
    "\n",
    "# sig.paramOn(frame)\n",
    "frame.GetXaxis().SetTitleSize(0.047)\n",
    "frame.GetXaxis().CenterTitle(True)\n",
    "frame.GetYaxis().SetTitleSize(0.04)\n",
    "frame.GetYaxis().SetTitleOffset(1.2)\n",
    "frame.Draw(\"PE\")\n",
    "\n",
    "\n",
    "leg1 = ROOT.TLegend(0.15, 0.75, 0.3, 0.9)\n",
    "leg1.SetFillColor(ROOT.kWhite)\n",
    "# leg1.SetHeader(\"The Legend title\",\"C\")\n",
    "leg1.AddEntry(\"data1\", \"MC\", \"PE\")\n",
    "leg1.AddEntry(\"fitting\", \"fit\", \"l\")\n",
    "leg1.Draw()\n",
    "\n",
    "hpull = frame.pullHist()\n",
    "hpull.SetFillStyle(1001)\n",
    "hpull.SetFillColor(1);\n",
    "for i in range(0,hpull.GetN()):#(int i=0;i<hpull.GetN();++i): \n",
    "    hpull.SetPointError(i,0.0,0.0,0.0,0.0)\n",
    "# pullplot = x.frame(Title(\" \"))\n",
    "pullplot = y.frame()\n",
    "pullplot.SetTitle(\"\")\n",
    "pullplot.addPlotable(hpull,\"BE\")\n",
    "# pullplot.addPlotable(hpull,\"PE\")\n",
    "\n",
    "pullplot.SetYTitle(\"Pull\")\n",
    "pullplot.GetXaxis().SetTitleSize(0)\n",
    "pullplot.GetYaxis().SetTitleSize(0.17)\n",
    "pullplot.GetYaxis().CenterTitle(True)\n",
    "pullplot.GetYaxis().SetTitleOffset(0.2)\n",
    "pullplot.SetMinimum(-4.)\n",
    "pullplot.SetMaximum(4.)\n",
    "pullplot.GetXaxis().SetLabelSize(0.1)\n",
    "pullplot.GetYaxis().SetLabelSize(0.09)\n",
    "canv.cd(2)\n",
    "pullplot.Draw()\n",
    "\n",
    "xmin1 = ctypes.c_double(fitting_region[0])\n",
    "xmax1 = ctypes.c_double(fitting_region[1])\n",
    "# xmin1 = 0.1\n",
    "# xmax1 = 0.18\n",
    "line = ROOT.TLine(xmin1,0.0,xmax1,0.0)\n",
    "line1 = ROOT.TLine(xmin1,3.0,xmax1,3.0)\n",
    "line2 = ROOT.TLine(xmin1,-3.0,xmax1,-3.0)\n",
    "\n",
    "line.SetLineColor(ROOT.kRed)\n",
    "line.SetLineWidth(3)\n",
    "line1.SetLineColor(ROOT.kRed)\n",
    "line2.SetLineColor(ROOT.kRed)\n",
    "line1.SetLineStyle(2)\n",
    "line2.SetLineStyle(2)\n",
    "line.Draw(\"SAME\")\n",
    "line1.Draw(\"SAME\")\n",
    "line2.Draw(\"SAME\")\n",
    "\n",
    "canv.Update()\n",
    "\n",
    "canv.Draw()\n",
    "canv.SaveAs(\"/media/jykim/T7/saved_plots/fitting/results/antiKstargamma/antiKstar_massveto_1ab_signal_coshel.png\")\n",
    "\n",
    "f = ROOT.TFile(\"phig_signalMC_fitresult.root\", \"RECREATE\")\n",
    "r.Write(\"phig_sig\")\n",
    "f.Close()\n"
   ]
  },
  {
   "cell_type": "code",
   "execution_count": 27,
   "id": "20417329-fabd-44a1-8935-03a0adc3c805",
   "metadata": {},
   "outputs": [
    {
     "name": "stdout",
     "output_type": "stream",
     "text": [
      "0x5575918dd3a0 MyPdf_one_minus_squared::model = 0.2 [Auto,Dirty] \n",
      "  0x55759aae2d00/V- RooRealVar::cos#theta_{H} = 0\n",
      "  0x55759ae00320/V- RooRealVar::c0 = 0.2 +/- 0.556042\n"
     ]
    }
   ],
   "source": [
    "model.Print(\"t\")"
   ]
  },
  {
   "cell_type": "code",
   "execution_count": null,
   "id": "1210d96c-0597-4333-b6ae-766a98cd0c80",
   "metadata": {},
   "outputs": [],
   "source": []
  },
  {
   "cell_type": "code",
   "execution_count": 3,
   "id": "a77548c2",
   "metadata": {},
   "outputs": [],
   "source": [
    "#file_list = ['/media/jykim/T7/storage/01_recon/antiKstar/D0_massveto_v2_half_1_optimzed_sigext_signalMC_recon_mdst_antiKstar_*.root']\n",
    "file_list = [\"/media/jykim/T7/storage/01_recon/rho/D0_massveto_v2_half_1_optimzed_sigext_signalMC_recon_mdst_rho_*.root\"]\n"
   ]
  },
  {
   "cell_type": "code",
   "execution_count": 4,
   "id": "5e32c74a",
   "metadata": {},
   "outputs": [],
   "source": [
    "mychain = ROOT.TChain(\"rho\")\n",
    "# mychain = ROOT.TChain(\"phi_cc\")\n",
    "\n",
    "for i in file_list:\n",
    "    mychain.Add(i)"
   ]
  },
  {
   "cell_type": "code",
   "execution_count": 5,
   "id": "afd9ab20",
   "metadata": {},
   "outputs": [
    {
     "name": "stdout",
     "output_type": "stream",
     "text": [
      "63495.0\n",
      "[#1] INFO:InputArguments -- The formula  D0_M>1.72 & D0_M<1.94 & dM_pi0_75MeV > 0.023  claims to use the variables (D0_M,D0_cosHel_0,dM_pi0_75MeV,Dstarp_isSignal) but only (D0_M,dM_pi0_75MeV) seem to be in use.\n",
      "  inputs:          D0_M>1.72 & D0_M<1.94 & dM_pi0_75MeV > 0.023 \n",
      "[#1] INFO:DataHandling -- RooTreeDataStore::loadValues(data) Skipping event #166 because D0_M cannot accommodate the value 1.95881\n",
      "[#1] INFO:DataHandling -- RooTreeDataStore::loadValues(data) Skipping event #252 because D0_M cannot accommodate the value 2.06508\n",
      "[#1] INFO:DataHandling -- RooTreeDataStore::loadValues(data) Skipping event #275 because D0_M cannot accommodate the value 1.6549\n",
      "[#1] INFO:DataHandling -- RooTreeDataStore::loadValues(data) Skipping event #285 because D0_M cannot accommodate the value 1.71657\n",
      "[#1] INFO:DataHandling -- RooTreeDataStore::loadValues(data) Skipping ...\n",
      "[#0] WARNING:DataHandling -- RooTreeDataStore::loadValues(data) Ignored 943 out-of-range events\n"
     ]
    }
   ],
   "source": [
    "yrange = (-1, 1)\n",
    "\n",
    "x = ROOT.RooRealVar(\"D0_M\", \"M(D^{0}) [GeV/c^{2}]\", 1.72, 1.94, \"\")\n",
    "y = ROOT.RooRealVar(\"D0_cosHel_0\", \"cos#theta_{H}\", yrange[0], yrange[1], \"\")\n",
    "# z = ROOT.RooRealVar(\"Belle2Pi0Veto_75MeV\", \"M(D^{0}) [GeV/c^{2}]\",0,10, \"\")\n",
    "z = ROOT.RooRealVar(\"dM_pi0_75MeV\", \"M(D^{0}) [GeV/c^{2}]\",0,10, \"\")\n",
    "alpha = ROOT.RooRealVar(\"Dstarp_isSignal\", \"\",0,1, \"\")\n",
    "#a = ROOT.RooRealVar(\"iCascDcyBrP_Dst_0\", \"\",0,10000, \"\")\n",
    "\n",
    "# a = iCascDcyBrP_Dst_0\n",
    "\n",
    "# data = ROOT.RooDataSet(\"data\",\"\", ROOT.RooArgSet(x,y,z), ROOT.RooFit.Import(mychain), Cut=\" D0_M>1.68 & D0_M<2.05 & Belle2Pi0Veto_75MeV > 0.022 \")\n",
    "before_data = ROOT.RooDataSet(\"data\",\"\", ROOT.RooArgSet(x,y,z,alpha), ROOT.RooFit.Import(mychain), Cut=\" D0_M>1.72 & D0_M<1.94 & dM_pi0_75MeV > 0.023 \")\n",
    "\n",
    "\n",
    "w_1 = ROOT.RooRealVar('w_1', 'w', 0,1)\n",
    "w_1.setVal(1)\n",
    "before_data.addColumn(w_1)\n",
    "data1 = ROOT.RooDataSet(before_data.GetName(), before_data.GetTitle(),before_data, before_data.get(), '' ,  'w_1')\n",
    "N_total = data1.sumEntries()\n",
    "print(N_total)"
   ]
  },
  {
   "cell_type": "code",
   "execution_count": null,
   "id": "70355ebb",
   "metadata": {},
   "outputs": [
    {
     "ename": "",
     "evalue": "",
     "output_type": "error",
     "traceback": [
      "\u001b[1;31m원격 Jupyter 서버 'http://127.0.0.1:7635/'에 연결하지 못했습니다. 서버가 실행 중이고 연결할 수 있는지 확인합니다.(원격 Jupyter 서버 'http://127.0.0.1:7635/'에 연결하지 못했습니다. 서버가 실행 중이고 연결할 수 있는지 확인합니다.(Forbidden).)."
     ]
    }
   ],
   "source": [
    "#file_list = ['/media/jykim/T7/storage/01_recon/antiKstar/D0_massveto_v2_half_1_optimzed_sigext_signalMC_recon_mdst_antiKstar_*.root']\n",
    "file_list = [\"/media/jykim/T7/storage/01_recon/phi/D0bar_massveto_v2_half_1_optimzed_sigext_signalMC_recon_mdst_phi_*.root\"]\n"
   ]
  },
  {
   "cell_type": "code",
   "execution_count": null,
   "id": "694696b5",
   "metadata": {},
   "outputs": [],
   "source": [
    "# mychain2 = ROOT.TChain(\"antiKstar_cc\")\n",
    "mychain2 = ROOT.TChain(\"phi_cc\")\n",
    "\n",
    "for i in file_list:\n",
    "    mychain2.Add(i)"
   ]
  },
  {
   "cell_type": "code",
   "execution_count": null,
   "id": "05b82b67",
   "metadata": {},
   "outputs": [
    {
     "name": "stdout",
     "output_type": "stream",
     "text": [
      "37265.0\n",
      "[#1] INFO:InputArguments -- The formula  D0_M>1.72 & D0_M<1.94 & dM_pi0_75MeV > 0.022 claims to use the variables (D0_M,D0_cosHel_0,dM_pi0_75MeV,Dstarp_isSignal) but only (D0_M,dM_pi0_75MeV) seem to be in use.\n",
      "  inputs:          D0_M>1.72 & D0_M<1.94 & dM_pi0_75MeV > 0.022\n",
      "[#1] INFO:DataHandling -- RooTreeDataStore::loadValues(data2) Skipping event #18 because D0_M cannot accommodate the value 1.94315\n",
      "[#1] INFO:DataHandling -- RooTreeDataStore::loadValues(data2) Skipping event #164 because D0_M cannot accommodate the value 2.05615\n",
      "[#1] INFO:DataHandling -- RooTreeDataStore::loadValues(data2) Skipping event #257 because D0_M cannot accommodate the value 1.96915\n",
      "[#1] INFO:DataHandling -- RooTreeDataStore::loadValues(data2) Skipping event #493 because D0_M cannot accommodate the value 1.69168\n",
      "[#1] INFO:DataHandling -- RooTreeDataStore::loadValues(data2) Skipping ...\n",
      "[#0] WARNING:DataHandling -- RooTreeDataStore::loadValues(data2) Ignored 212 out-of-range events\n"
     ]
    }
   ],
   "source": [
    "\n",
    "# a = iCascDcyBrP_Dst_0\n",
    "#b = ROOT.RooRealVar(\"iCascDcyBrP_Dstm_0\", \"\",0,10000, \"\")\n",
    "\n",
    "# data = ROOT.RooDataSet(\"data\",\"\", ROOT.RooArgSet(x,y,z), ROOT.RooFit.Import(mychain), Cut=\" D0_M>1.68 & D0_M<2.05 & Belle2Pi0Veto_75MeV > 0.022 \")\n",
    "before_data2 = ROOT.RooDataSet(\"data2\",\"\", ROOT.RooArgSet(x,y,z,alpha), ROOT.RooFit.Import(mychain2), Cut=\" D0_M>1.72 & D0_M<1.94 & dM_pi0_75MeV > 0.022\")\n",
    "\n",
    "\n",
    "# w_1 = ROOT.RooRealVar('w_1', 'w', 0,1)\n",
    "# w_1.setVal(1) \n",
    "before_data2.addColumn(w_1)\n",
    "data2 = ROOT.RooDataSet(before_data2.GetName(), before_data2.GetTitle(),before_data2, before_data2.get(), '' ,  'w_1')\n",
    "N_total = data2.sumEntries()\n",
    "print(N_total)"
   ]
  },
  {
   "cell_type": "code",
   "execution_count": null,
   "id": "f61efe2f",
   "metadata": {},
   "outputs": [],
   "source": [
    "data1.append(data2)"
   ]
  },
  {
   "cell_type": "code",
   "execution_count": null,
   "id": "31e6acb0",
   "metadata": {},
   "outputs": [],
   "source": []
  },
  {
   "cell_type": "code",
   "execution_count": 6,
   "id": "0d9cc1e9",
   "metadata": {},
   "outputs": [
    {
     "data": {
      "text/plain": [
       "94276013357008"
      ]
     },
     "execution_count": 6,
     "metadata": {},
     "output_type": "execute_result"
    },
    {
     "name": "stdout",
     "output_type": "stream",
     "text": [
      "(MyPdf_one_minus_squared) An instance of MyPdf_one_minus_squared.\n"
     ]
    }
   ],
   "source": [
    "# ROOT.RooClassFactory.makePdf(\"MyPdf_one_minus_squared\", \"x,c0\", \"\", \"c0*(1-x*x)\")\n",
    "ROOT.gROOT.ProcessLineSync(\".x MyPdf_one_minus_squared.cxx+\")"
   ]
  },
  {
   "cell_type": "code",
   "execution_count": 7,
   "id": "f7e450e4",
   "metadata": {},
   "outputs": [],
   "source": [
    "# ROOT.RooClassFactory.makePdf(\"MyPdf_xsquared_nopara\", \"x\", \"\", \"x*x\")\n",
    "# ROOT.gROOT.ProcessLineSync(\".x MyPdf_xsquared_nopara.cxx+\")"
   ]
  },
  {
   "cell_type": "code",
   "execution_count": 8,
   "id": "3262edd1",
   "metadata": {},
   "outputs": [],
   "source": [
    "fitting_region = (-1, 1)\n",
    "# y = ROOT.RooRealVar(\"cos#theta_{H}\", \"cos#theta_{H}\", fitting_region[0], fitting_region[1], \"\")\n",
    "# y.setBins(50)\n",
    "# y_l = ROOT.RooArgList(y)\n",
    "# signalhist = ROOT.RooDataHist(\"sighist\", \"sighist\", l, D0_M_TH1F, scale_factor)\n",
    "# y_signalhist = ROOT.RooDataHist(\"y_signalhist\", \"sighist\", y_l, D0_cosHel_TH1F, 1)\n"
   ]
  },
  {
   "cell_type": "code",
   "execution_count": 9,
   "id": "9a824897",
   "metadata": {},
   "outputs": [],
   "source": [
    "y_mean = ROOT.RooRealVar(\"y_mean\", \"mean of gaussians\", 0.5,0.4, 0.6)\n",
    "y_sigma1 = ROOT.RooRealVar(\"y_sigma1\", \"width of gaussians\", 0.03,0,0.2)\n",
    "y_sigma2 = ROOT.RooRealVar(\"y_sigma2\", \"width of gaussians\", 0.02,0,0.2)\n",
    "\n",
    "c0 = ROOT.RooRealVar(\"c0\", \"c0\",0.2, 0,1)\n",
    "\n",
    "\n",
    "Cheby_c0 = ROOT.RooRealVar(\"Cheby_c0\", \"c0\",0.2, -1,1)\n",
    "Cheby_c1 = ROOT.RooRealVar(\"Cheby_c1\", \"c0\",0.2, -1,1)\n",
    "Cheby_c2 = ROOT.RooRealVar(\"Cheby_c2\", \"c0\",0.2, -1,1)\n"
   ]
  },
  {
   "cell_type": "code",
   "execution_count": null,
   "id": "3d7b3319",
   "metadata": {},
   "outputs": [],
   "source": []
  },
  {
   "cell_type": "code",
   "execution_count": 14,
   "id": "83842c56",
   "metadata": {},
   "outputs": [
    {
     "name": "stdout",
     "output_type": "stream",
     "text": [
      "[#1] INFO:Minimization -- RooAbsMinimizerFcn::setOptimizeConst: activating const optimization\n",
      "[#1] INFO:Fitting -- RooAbsOptTestStatistic::ctor(nll_model_data) constructing test statistic for sub-range named fit\n",
      "[#1] INFO:Fitting -- RooAbsOptTestStatistic::ctor(nll_model_data) fixing interpretation of coefficients of any RooAddPdf to full domain of observables \n",
      "[#1] INFO:NumericIntegration -- RooRealIntegral::init(model_Int[D0_cosHel_0]) using numeric integrator RooIntegrator1D to calculate Int(D0_cosHel_0)\n",
      "[#1] INFO:Eval -- RooAbsTestStatistic::initMPMode: started 12 remote server process.\n",
      "[#1] INFO:NumericIntegration -- RooRealIntegral::init(model_Int[D0_cosHel_0]) using numeric integrator RooIntegrator1D to calculate Int(D0_cosHel_0)\n",
      "[#1] INFO:NumericIntegration -- RooRealIntegral::init(model_Int[D0_cosHel_0]) using numeric integrator RooIntegrator1D to calculate Int(D0_cosHel_0)\n",
      "[#1] INFO:NumericIntegration -- RooRealIntegral::init(model_Int[D0_cosHel_0]) using numeric integrator RooIntegrator1D to calculate Int(D0_cosHel_0)\n",
      "[#1] INFO:NumericIntegration -- RooRealIntegral::init(model_Int[D0_cosHel_0]) using numeric integrator RooIntegrator1D to calculate Int(D0_cosHel_0)\n",
      "[#1] INFO:NumericIntegration -- RooRealIntegral::init(model_Int[D0_cosHel_0]) using numeric integrator RooIntegrator1D to calculate Int(D0_cosHel_0)\n",
      "[#1] INFO:NumericIntegration -- RooRealIntegral::init(model_Int[D0_cosHel_0]) using numeric integrator RooIntegrator1D to calculate Int(D0_cosHel_0)\n",
      "[#1] INFO:NumericIntegration -- RooRealIntegral::init(model_Int[D0_cosHel_0]) using numeric integrator RooIntegrator1D to calculate Int(D0_cosHel_0)\n",
      "[#1] INFO:NumericIntegration -- RooRealIntegral::init(model_Int[D0_cosHel_0]) using numeric integrator RooIntegrator1D to calculate Int(D0_cosHel_0)\n",
      "[#1] INFO:NumericIntegration -- RooRealIntegral::init(model_Int[D0_cosHel_0]) using numeric integrator RooIntegrator1D to calculate Int(D0_cosHel_0)\n",
      "[#1] INFO:NumericIntegration -- RooRealIntegral::init(model_Int[D0_cosHel_0]) using numeric integrator RooIntegrator1D to calculate Int(D0_cosHel_0)\n",
      "[#1] INFO:NumericIntegration -- RooRealIntegral::init(model_Int[D0_cosHel_0]) using numeric integrator RooIntegrator1D to calculate Int(D0_cosHel_0)\n",
      "[#1] INFO:NumericIntegration -- RooRealIntegral::init(model_Int[D0_cosHel_0]) using numeric integrator RooIntegrator1D to calculate Int(D0_cosHel_0)\n",
      "[#1] INFO:Minimization -- RooAbsMinimizerFcn::setOptimizeConst: deactivating const optimization\n",
      "\n",
      "  RooFitResult: minimized FCN value: 36052.2, estimated distance to minimum: 4.54747e-13\n",
      "                covariance matrix quality: Full, accurate covariance matrix\n",
      "                Status : MINIMIZE=0 HESSE=0 \n",
      "\n",
      "    Floating Parameter    FinalValue +/-  Error   \n",
      "  --------------------  --------------------------\n",
      "                    c0    2.0000e-01 +/-  8.15e-01\n",
      "\n",
      "[#1] INFO:Plotting -- RooAbsPdf::plotOn(model) p.d.f was fitted in a subrange and no explicit Range() and NormRange() was specified. Plotting / normalising in fit range. To override, do one of the following\n",
      "\t- Clear the automatic fit range attribute: <pdf>.setStringAttribute(\"fitrange\", nullptr);\n",
      "\t- Explicitly specify the plotting range: Range(\"<rangeName>\").\n",
      "\t- Explicitly specify where to compute the normalisation: NormRange(\"<rangeName>\").\n",
      "\tThe default (full) range can be denoted with Range(\"\") / NormRange(\"\").\n",
      "[#1] INFO:Plotting -- RooAbsPdf::plotOn(model) only plotting range 'fit_nll_model_data'\n",
      "[#1] INFO:Plotting -- RooAbsPdf::plotOn(model) p.d.f. curve is normalized using explicit choice of ranges 'fit_nll_model_data'\n",
      "[#1] INFO:NumericIntegration -- RooRealIntegral::init(model_Int[D0_cosHel_0]) using numeric integrator RooIntegrator1D to calculate Int(D0_cosHel_0)\n",
      "[#1] INFO:NumericIntegration -- RooRealIntegral::init(model_Int[D0_cosHel_0|fit_nll_model_data]_Norm[D0_cosHel_0]) using numeric integrator RooIntegrator1D to calculate Int(D0_cosHel_0)\n"
     ]
    },
    {
     "name": "stderr",
     "output_type": "stream",
     "text": [
      "Warning in <TCanvas::Constructor>: Deleting canvas with same name: Canvas\n",
      "Info in <TCanvas::Print>: png file /media/jykim/T7/saved_plots/fitting/results/rhogamma/rho_massveto_signal_coshel_only_D0.png has been created\n"
     ]
    },
    {
     "data": {
      "image/png": "[encoded data removed]",
      "text/plain": [
       "<IPython.core.display.Image object>"
      ]
     },
     "metadata": {},
     "output_type": "display_data"
    }
   ],
   "source": [
    "canv = ROOT.TCanvas(\"Canvas\", \"Canvas\", 700, 640)\n",
    "\n",
    "xlow = ctypes.c_double()\n",
    "ylow = ctypes.c_double()\n",
    "xup = ctypes.c_double()\n",
    "yup = ctypes.c_double()\n",
    "\n",
    "canv.GetPad(0).GetPadPar(xlow, ylow, xup, yup)\n",
    "canv.Divide(1,2)\n",
    "\n",
    "xlow = xlow.value\n",
    "ylow = ylow.value\n",
    "xup = xup.value\n",
    "yup = yup.value\n",
    "\n",
    "upPad = canv.GetPad(1)\n",
    "upPad.SetPad(xlow, ylow+0.25*(yup-ylow),xup,yup)\n",
    "\n",
    "dwPad = canv.GetPad(2)\n",
    "dwPad.SetPad(xlow, ylow,xup,ylow+0.25*(yup-ylow))\n",
    "\n",
    "\n",
    "# y_bkg1_model = ROOT.MyPdf_xsquared_nopara(\"y_bkg1_model\", \"y_bkg1\", y)\n",
    "# model = ROOT.MyPdf_xsquared_nopara(\"model\", \"y_bkg1\", y)\n",
    "# sig1 = ROOT.MyPdf_xsquared_nopara(\"sig1\", \"y_bkg1\", y)\n",
    "model = ROOT.MyPdf_one_minus_squared(\"model\", \"y_bkg1\", y, c0)\n",
    "\n",
    "\n",
    "# sig2_1 = ROOT.RooGaussian(\"sig2_1\", \"Signal component 1\", y, y_mean, y_sigma1)\n",
    "# sig2_2 = ROOT.RooGaussian(\"sig2_2\", \"Signal component 1\", y, y_mean, y_sigma2)\n",
    "\n",
    "# frac2 = ROOT.RooRealVar(\"frac2\", \"fraction of component 1 in signal\", 0.5, 0.0, 1.0)\n",
    "# sig2 = ROOT.RooAddPdf(\"sig2\", \"model\", [sig2_1, sig2_2], frac2)\n",
    "\n",
    "\n",
    "# sig3 = ROOT.RooChebychev(\"sig3\", \"Signal component 1\", y, ROOT.RooArgList(Cheby_c0, Cheby_c1, Cheby_c2))\n",
    "\n",
    "# sig1frac = ROOT.RooRealVar(\"sig1frac\", \"fraction of component 1 in signal\", 0.5, 0.0, 1.0)\n",
    "# sig2frac = ROOT.RooRealVar(\"sig2frac\", \"fraction of component 1 in signal\", 0.5, 0.0, 1.0)\n",
    "\n",
    "\n",
    "# # model = ROOT.RooCBShape(\"model\", \"Signal component 2\", x, mean, sigma2, alpha, n_CB)\n",
    "\n",
    "# sig_model1 = ROOT.RooAddPdf(\"sig_model1\", \"model\", [sig1, sig2], sig1frac)\n",
    "# model = ROOT.RooAddPdf(\"model\", \"model\", [sig3, sig_model1], sig2frac)\n",
    "\n",
    "\n",
    "\n",
    "\n",
    "run = model.fitTo(data1,NumCPU=12,Range=(-1,1),PrintLevel=-1, Save=1)\n",
    "# run = model.fitTo(y_signalhist,NumCPU=12,Range=(-1,1),PrintLevel=-1)\n",
    "\n",
    "run.Print()\n",
    "canv.cd(1) \n",
    "# frame = x.frame(Title=\"D^{0} #rightarrow #bar{K}^{*0} #pi^{0}\")\n",
    "frame = y.frame(Title=\" \")\n",
    "\n",
    "data1.plotOn(frame,Name = \"data1\", XErrorSize=0)\n",
    "\n",
    "# model.plotOn(frame, Name=\"gauss1\", Components=sig1, LineStyle=ROOT.kDashed, LineColor=593)\n",
    "# model.plotOn(frame, Name=\"CB1\", Components=sig2, LineStyle=ROOT.kDashed, LineColor=593)\n",
    "# model.plotOn(frame, Name=\"Novo\", Components=sig3, LineStyle=ROOT.kDashed, LineColor=593)\n",
    "\n",
    "model.plotOn(frame, Name=\"fitting\",)\n",
    "\n",
    "\n",
    "# sig.paramOn(frame)\n",
    "frame.GetXaxis().CenterTitle(True)\n",
    "frame.Draw(\"PE\")\n",
    "\n",
    "\n",
    "leg1 = ROOT.TLegend(0.20, 0.75, 0.35, 0.9)\n",
    "leg1.SetFillColor(ROOT.kWhite)\n",
    "# leg1.SetHeader(\"The Legend title\",\"C\")\n",
    "leg1.AddEntry(\"data1\", \"MC\", \"PE\")\n",
    "leg1.AddEntry(\"fitting\", \"fit\", \"l\")\n",
    "leg1.Draw()\n",
    "\n",
    "hpull = frame.pullHist()\n",
    "hpull.SetFillStyle(1001)\n",
    "hpull.SetFillColor(1);\n",
    "for i in range(0,hpull.GetN()):#(int i=0;i<hpull.GetN();++i): \n",
    "    hpull.SetPointError(i,0.0,0.0,0.0,0.0)\n",
    "# pullplot = x.frame(Title(\" \"))\n",
    "pullplot = y.frame()\n",
    "pullplot.SetTitle(\"\")\n",
    "pullplot.addPlotable(hpull,\"BE\")\n",
    "# pullplot.addPlotable(hpull,\"PE\")\n",
    "\n",
    "pullplot.SetYTitle(\"Pull\")\n",
    "pullplot.GetXaxis().SetTitleSize(0)\n",
    "pullplot.GetYaxis().SetTitleSize(0.22)\n",
    "pullplot.GetYaxis().CenterTitle(True)\n",
    "pullplot.GetYaxis().SetTitleOffset(0.2)\n",
    "pullplot.SetMinimum(-4.)\n",
    "pullplot.SetMaximum(4.)\n",
    "pullplot.GetXaxis().SetLabelSize(0.15)\n",
    "pullplot.GetYaxis().SetLabelSize(0.105)\n",
    "\n",
    "canv.cd(2)\n",
    "pullplot.Draw()\n",
    "\n",
    "xmin1 = ctypes.c_double(fitting_region[0])\n",
    "xmax1 = ctypes.c_double(fitting_region[1])\n",
    "# xmin1 = 0.1\n",
    "# xmax1 = 0.18\n",
    "line = ROOT.TLine(xmin1,0.0,xmax1,0.0)\n",
    "line1 = ROOT.TLine(xmin1,3.0,xmax1,3.0)\n",
    "line2 = ROOT.TLine(xmin1,-3.0,xmax1,-3.0)\n",
    "\n",
    "line.SetLineColor(ROOT.kRed)\n",
    "line.SetLineWidth(3)\n",
    "line1.SetLineColor(ROOT.kRed)\n",
    "line2.SetLineColor(ROOT.kRed)\n",
    "line1.SetLineStyle(2)\n",
    "line2.SetLineStyle(2)\n",
    "line.Draw(\"SAME\")\n",
    "line1.Draw(\"SAME\")\n",
    "line2.Draw(\"SAME\")\n",
    "\n",
    "canv.Update()\n",
    "\n",
    "canv.Draw()\n",
    "canv.SaveAs(\"/media/jykim/T7/saved_plots/fitting/results/rhogamma/rho_massveto_signal_coshel_only_D0.png\")\n",
    "# canv.SaveAs(\"/media/jykim/T7/saved_plots/fitting/results/antiKstargamma/antiKstar_massveto_1ab_signal_coshel_try2.png\")\n",
    "\n",
    "# f = ROOT.TFile(\"antiKstarg_signalMC_fitresult.root\", \"RECREATE\")\n",
    "# r.Write(\"antiKstarg\")\n",
    "\n",
    "# f.Close()\n"
   ]
  },
  {
   "cell_type": "code",
   "execution_count": null,
   "id": "64d35e93",
   "metadata": {},
   "outputs": [
    {
     "name": "stdout",
     "output_type": "stream",
     "text": [
      "0x55f4391723d0 MyPdf_one_minus_squared::model = 0.199998 [Auto,Dirty] \n",
      "  0x55f439ce2b20/V- RooRealVar::cos#theta_{H} = 0\n",
      "  0x55f4395f50e0/V- RooRealVar::c0 = 0.199998 +/- 0.816292\n"
     ]
    }
   ],
   "source": [
    "model.Print(\"t\")"
   ]
  }
 ],
 "metadata": {
  "kernelspec": {
   "display_name": "Python 3 (ipykernel)",
   "language": "python",
   "name": "python3"
  }
 },
 "nbformat": 4,
 "nbformat_minor": 5
}
