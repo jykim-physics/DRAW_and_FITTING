{
 "cells": [
  {
   "cell_type": "code",
   "execution_count": 1,
   "id": "3bdbf6d9-8fb7-4849-b476-a1ab02f06744",
   "metadata": {},
   "outputs": [
    {
     "name": "stdout",
     "output_type": "stream",
     "text": [
      "Welcome to JupyROOT 6.26/04\n"
     ]
    }
   ],
   "source": [
    "import ROOT\n",
    "import ctypes"
   ]
  },
  {
   "cell_type": "code",
   "execution_count": 2,
   "id": "ce78010d-d970-4fb0-b2d2-59f1e1572ab3",
   "metadata": {},
   "outputs": [],
   "source": [
    "base_file_loc = '/media/jykim/T7/storage/01_recon/massvetov2_sig_ext_1ab_bkg/'\n",
    "\n",
    "# loc_ccbar = base_file_loc + 'ccbar/recon_udst_*.root'\n",
    "# loc_ccbar = base_file_loc + 'topo/resultfile/result_antiKstar/standard.root'\n",
    "loc_uubar = base_file_loc + 'uubar/recon_udst_*.root'\n",
    "loc_ddbar = base_file_loc + 'ddbar/recon_udst_*.root'\n",
    "loc_ssbar = base_file_loc + 'ssbar/recon_udst_*.root'\n",
    "loc_charged = base_file_loc + 'charged/recon_udst_*.root'\n",
    "loc_mixed = base_file_loc + 'mixed/recon_udst_*.root'\n",
    "loc_taupair = base_file_loc + 'taupair/recon_udst_*.root'"
   ]
  },
  {
   "cell_type": "code",
   "execution_count": 3,
   "id": "fba00b9e-3960-4959-a70a-220dea3f98f6",
   "metadata": {},
   "outputs": [],
   "source": [
    "file_list = [loc_uubar,loc_uubar,loc_ssbar,loc_charged,loc_mixed,loc_taupair]"
   ]
  },
  {
   "cell_type": "code",
   "execution_count": 4,
   "id": "fbc9b9df-796e-4026-8a9a-23f7bbab5283",
   "metadata": {},
   "outputs": [],
   "source": [
    "mychain = ROOT.TChain(\"rho\")"
   ]
  },
  {
   "cell_type": "code",
   "execution_count": 5,
   "id": "89069966-c825-47b3-ba08-5c879ba3dc79",
   "metadata": {},
   "outputs": [],
   "source": [
    "for i in file_list:\n",
    "    mychain.Add(i)"
   ]
  },
  {
   "cell_type": "code",
   "execution_count": 6,
   "id": "c06fff6a-0237-4918-8dc3-a770fd2c2bf8",
   "metadata": {},
   "outputs": [],
   "source": [
    "D0_M_TH1F = ROOT.TH1F(\"D0_M_TH1F\",\"D0 mass\",50,1.67, 2.06)\n",
    "D0_cosHel_TH1F = ROOT.TH1F(\"D0_cosHel_TH1F\",\"D0_cosHel\",50, -1, 1)\n"
   ]
  },
  {
   "cell_type": "code",
   "execution_count": 7,
   "id": "78bae0ce-aa73-44e8-9053-176de18a86c9",
   "metadata": {},
   "outputs": [],
   "source": [
    "def fill_D0_M(tree, histogram):\n",
    "    for event in tree:\n",
    "        # if event.D0_M > 1.67 and event.D0_M < 2.06 and event.pi0_veto_isSignal_75MeV==1:\n",
    "        if event.D0_M > 1.67 and event.D0_M < 2.06:\n",
    "\n",
    "        # if event.D0_M > 1.78 and event.D0_M < 1.92:\n",
    "            histogram.Fill(event.D0_M)\n",
    "    return histogram"
   ]
  },
  {
   "cell_type": "code",
   "execution_count": 8,
   "id": "418e7885-e72d-4a3b-8f36-1657e93c881b",
   "metadata": {},
   "outputs": [],
   "source": [
    "def fill_coshel(tree, histogram):\n",
    "    for event in tree:\n",
    "        # if event.D0_M > 1.67 and event.D0_M < 2.06 and event.pi0_veto_isSignal_75MeV==1:\n",
    "        if event.D0_M > 1.67 and event.D0_M < 2.06:\n",
    "\n",
    "        # if event.D0_M > 1.78 and event.D0_M < 1.92:\n",
    "            histogram.Fill(event.D0_cosHel_0)\n",
    "    return histogram"
   ]
  },
  {
   "cell_type": "code",
   "execution_count": 9,
   "id": "acaff621-0785-4276-8f00-9763a853c8c6",
   "metadata": {},
   "outputs": [
    {
     "data": {
      "image/png": "[encoded data removed]",
      "text/plain": [
       "<IPython.core.display.Image object>"
      ]
     },
     "metadata": {},
     "output_type": "display_data"
    }
   ],
   "source": [
    "D0_M_TH1F = fill_D0_M(mychain, D0_M_TH1F)\n",
    "c1 = ROOT.TCanvas()\n",
    "D0_M_TH1F.Draw()\n",
    "c1.Draw()"
   ]
  },
  {
   "cell_type": "code",
   "execution_count": 10,
   "id": "bb1b5901-4158-4b20-b6cb-514137251d4b",
   "metadata": {},
   "outputs": [
    {
     "data": {
      "image/png": "[encoded data removed]",
      "text/plain": [
       "<IPython.core.display.Image object>"
      ]
     },
     "metadata": {},
     "output_type": "display_data"
    }
   ],
   "source": [
    "D0_cosHel_TH1F = fill_coshel(mychain, D0_cosHel_TH1F)\n",
    "c2 = ROOT.TCanvas()\n",
    "D0_cosHel_TH1F.Draw()\n",
    "c2.Draw()"
   ]
  },
  {
   "cell_type": "code",
   "execution_count": null,
   "id": "e2c78364-af7a-48b5-bf7d-fea72ff974f3",
   "metadata": {},
   "outputs": [],
   "source": []
  },
  {
   "cell_type": "code",
   "execution_count": 11,
   "id": "6b227194-e200-426a-a720-ecd509f64fe7",
   "metadata": {},
   "outputs": [],
   "source": [
    "\n",
    "# scale_factor = D0_M_TH1F_2.GetEntries()/D0_M_TH1F.GetEntries()"
   ]
  },
  {
   "cell_type": "code",
   "execution_count": 12,
   "id": "cbed22c9-ed4a-476f-8c57-19a7aaab4665",
   "metadata": {},
   "outputs": [],
   "source": [
    "# scale_factor"
   ]
  },
  {
   "cell_type": "code",
   "execution_count": 13,
   "id": "07856c14-3fbb-45dd-b69c-ef1a94ebc3a9",
   "metadata": {},
   "outputs": [],
   "source": [
    "fitting_region = (1.67, 2.06)\n",
    "x = ROOT.RooRealVar(\"M(D^{0})\", \"M(D^{0}) [GeV/c^{2}]\", fitting_region[0], fitting_region[1], \"\")\n",
    "# x.setBins(40)\n",
    "l = ROOT.RooArgList(x)\n",
    "# signalhist = ROOT.RooDataHist(\"sighist\", \"sighist\", l, D0_M_TH1F, scale_factor)\n",
    "signalhist = ROOT.RooDataHist(\"sighist\", \"sighist\", l, D0_M_TH1F, 1)\n"
   ]
  },
  {
   "cell_type": "code",
   "execution_count": null,
   "id": "68f1a838-f4d5-4907-b404-89a741fe5f9a",
   "metadata": {},
   "outputs": [],
   "source": []
  },
  {
   "cell_type": "code",
   "execution_count": 14,
   "id": "81461404-b419-43dc-b0a9-5a8ab1a4544b",
   "metadata": {},
   "outputs": [],
   "source": [
    "\n",
    "mean = ROOT.RooRealVar(\"mean\", \"mean of gaussians\", 1.6,1.4, 1.67)\n",
    "sigma1 = ROOT.RooRealVar(\"sigma1\", \"width of gaussians\", 0.03,0,0.5)\n",
    "# sigma2 = ROOT.RooRealVar(\"sigma2\", \"width of gaussians\", 0.02,0,0.5)\n",
    "# alpha = ROOT.RooRealVar(\"alpha\", \"width of gaussians\", 0.5,0,2)\n",
    "# n_CB = ROOT.RooRealVar(\"n_CB\", \"width of gaussians\", 5,0,10)\n",
    "\n",
    "x_bkg2_c0 = ROOT.RooRealVar(\"x_bkg2_c0\", \"c0\",0.2, -1,1)\n",
    "x_bkg2_c1 = ROOT.RooRealVar(\"x_bkg2_c1\", \"c1\",0.2, -1,1)\n",
    "\n",
    "# Novo_peak = ROOT.RooRealVar(\"Novo_peak\", \"Novo peak\", 1.83,1.67,1.93)    \n",
    "# Novo_width = RO\n",
    "# ROOT.RooRealVar(\"Novo_widh\", \"Novo peak\", 0.05,0,0.5)    \n",
    "# Novo_tail = ROOT.RooRealVar(\"Novo_tail\", \"Novo peak\", 0.5,0,10)    \n",
    "\n",
    "\n",
    "x_bkg3_tau = ROOT.RooRealVar(\"x_bkg3_tau\", \"tau\",-2, -20,0)\n"
   ]
  },
  {
   "cell_type": "code",
   "execution_count": 15,
   "id": "32658f60-999f-40d5-9109-803d213b55ed",
   "metadata": {},
   "outputs": [
    {
     "name": "stdout",
     "output_type": "stream",
     "text": [
      "[#0] WARNING:InputArguments -- The parameter 'sigma1' with range [0, 0.5] of the RooGaussian 'sig1' exceeds the safe range of (0, inf). Advise to limit its range.\n",
      "[#1] INFO:Eval -- RooRealVar::setRange(M(D^{0})) new range named 'fit' created with bounds [1.67,2.06]\n",
      "[#1] INFO:Minimization -- RooAbsMinimizerFcn::setOptimizeConst: activating const optimization\n",
      "[#1] INFO:Fitting -- RooAbsOptTestStatistic::ctor(nll_model_sighist) constructing test statistic for sub-range named fit\n",
      "[#1] INFO:Eval -- RooRealVar::setRange(M(D^{0})) new range named 'NormalizationRangeForfit' created with bounds [1.67,2.06]\n",
      "[#1] INFO:Eval -- RooRealVar::setRange(M(D^{0})) new range named 'fit_nll_model_sighist' created with bounds [1.67,2.06]\n",
      "[#1] INFO:Fitting -- RooAbsOptTestStatistic::ctor(nll_model_sighist) fixing interpretation of coefficients of any RooAddPdf to full domain of observables \n",
      "[#0] ERROR:Integration --  RooNumIntFactory::Init : libRooFitMore cannot be loaded. GSL integrators will not beavailable ! \n",
      "[#1] INFO:Eval -- RooAbsTestStatistic::initMPMode: started 12 remote server process.\n",
      "RooAbsMinimizerFcn: Minimized function has error status.\n",
      "Returning maximum FCN so far (-23240.3) to force MIGRAD to back out of this region. Error log follows.\n",
      "Parameter values: \tx_bkg2_c0=-0.95657\tx_bkg2_c1=0.2\n",
      "PID41400/RooRealMPFE::nll_model_sighist_559868710c70_MPFE11[ arg=nll_model_sighist_GOF11 vars=(x_bkg2_c0,x_bkg2_c1) ]\n",
      "     function value is NAN @ paramSet=(x_bkg2_c0 = -0.95657,x_bkg2_c1 = 0.2)\n",
      "     function value is NAN @ paramSet=(x_bkg2_c0 = -0.95657,x_bkg2_c1 = 0.2)\n",
      "     function value is NAN @ paramSet=(x_bkg2_c0 = -0.95657,x_bkg2_c1 = 0.2)\n",
      "     function value is NAN @ paramSet=(x_bkg2_c0 = -0.95657,x_bkg2_c1 = 0.2)\n",
      "     function value is NAN @ paramSet=(x_bkg2_c0 = -0.95657,x_bkg2_c1 = 0.2)\n",
      "     function value is NAN @ paramSet=(x_bkg2_c0 = -0.95657,x_bkg2_c1 = 0.2)\n",
      "     function value is NAN @ paramSet=(x_bkg2_c0 = -0.95657,x_bkg2_c1 = 0.2)\n",
      "     function value is NAN @ paramSet=(x_bkg2_c0 = -0.95657,x_bkg2_c1 = 0.2)\n",
      "     function value is NAN @ paramSet=(x_bkg2_c0 = -0.95657,x_bkg2_c1 = 0.2)\n",
      "     function value is NAN @ paramSet=(x_bkg2_c0 = -0.95657,x_bkg2_c1 = 0.2)\n",
      "     function value is NAN @ paramSet=(x_bkg2_c0 = -0.95657,x_bkg2_c1 = 0.2)\n",
      "     function value is NAN @ paramSet=(x_bkg2_c0 = -0.95657,x_bkg2_c1 = 0.2)\n",
      "    ... (remaining 14 messages suppressed)\n",
      "RooNLLVar::nll_model_sighist[ paramSet=(x_bkg2_c0,x_bkg2_c1) ]\n",
      "     function value is NAN @ paramSet=(x_bkg2_c0 = -0.95657,x_bkg2_c1 = 0.2)\n",
      "\n",
      "RooAbsMinimizerFcn: Minimized function has error status.\n",
      "Returning maximum FCN so far (-23240.3) to force MIGRAD to back out of this region. Error log follows.\n",
      "Parameter values: \tx_bkg2_c0=-0.923565\tx_bkg2_c1=0.2\n",
      "PID41400/RooRealMPFE::nll_model_sighist_559868710c70_MPFE11[ arg=nll_model_sighist_GOF11 vars=(x_bkg2_c0,x_bkg2_c1) ]\n",
      "     function value is NAN @ paramSet=(x_bkg2_c0 = -0.923565,x_bkg2_c1 = 0.2)\n",
      "     function value is NAN @ paramSet=(x_bkg2_c0 = -0.923565,x_bkg2_c1 = 0.2)\n",
      "     function value is NAN @ paramSet=(x_bkg2_c0 = -0.923565,x_bkg2_c1 = 0.2)\n",
      "     function value is NAN @ paramSet=(x_bkg2_c0 = -0.923565,x_bkg2_c1 = 0.2)\n",
      "     function value is NAN @ paramSet=(x_bkg2_c0 = -0.923565,x_bkg2_c1 = 0.2)\n",
      "     function value is NAN @ paramSet=(x_bkg2_c0 = -0.923565,x_bkg2_c1 = 0.2)\n",
      "     function value is NAN @ paramSet=(x_bkg2_c0 = -0.923565,x_bkg2_c1 = 0.2)\n",
      "     function value is NAN @ paramSet=(x_bkg2_c0 = -0.923565,x_bkg2_c1 = 0.2)\n",
      "     function value is NAN @ paramSet=(x_bkg2_c0 = -0.923565,x_bkg2_c1 = 0.2)\n",
      "     function value is NAN @ paramSet=(x_bkg2_c0 = -0.923565,x_bkg2_c1 = 0.2)\n",
      "     function value is NAN @ paramSet=(x_bkg2_c0 = -0.923565,x_bkg2_c1 = 0.2)\n",
      "     function value is NAN @ paramSet=(x_bkg2_c0 = -0.923565,x_bkg2_c1 = 0.2)\n",
      "    ... (remaining 14 messages suppressed)\n",
      "RooNLLVar::nll_model_sighist[ paramSet=(x_bkg2_c0,x_bkg2_c1) ]\n",
      "     function value is NAN @ paramSet=(x_bkg2_c0 = -0.923565,x_bkg2_c1 = 0.2)\n",
      "\n",
      "RooAbsMinimizerFcn: Minimized function has error status.\n",
      "Returning maximum FCN so far (-23240.3) to force MIGRAD to back out of this region. Error log follows.\n",
      "Parameter values: \tx_bkg2_c0=-0.923271\tx_bkg2_c1=0.2\n",
      "PID41400/RooRealMPFE::nll_model_sighist_559868710c70_MPFE11[ arg=nll_model_sighist_GOF11 vars=(x_bkg2_c0,x_bkg2_c1) ]\n",
      "     function value is NAN @ paramSet=(x_bkg2_c0 = -0.923271,x_bkg2_c1 = 0.2)\n",
      "     function value is NAN @ paramSet=(x_bkg2_c0 = -0.923271,x_bkg2_c1 = 0.2)\n",
      "     function value is NAN @ paramSet=(x_bkg2_c0 = -0.923271,x_bkg2_c1 = 0.2)\n",
      "     function value is NAN @ paramSet=(x_bkg2_c0 = -0.923271,x_bkg2_c1 = 0.2)\n",
      "     function value is NAN @ paramSet=(x_bkg2_c0 = -0.923271,x_bkg2_c1 = 0.2)\n",
      "     function value is NAN @ paramSet=(x_bkg2_c0 = -0.923271,x_bkg2_c1 = 0.2)\n",
      "     function value is NAN @ paramSet=(x_bkg2_c0 = -0.923271,x_bkg2_c1 = 0.2)\n",
      "     function value is NAN @ paramSet=(x_bkg2_c0 = -0.923271,x_bkg2_c1 = 0.2)\n",
      "     function value is NAN @ paramSet=(x_bkg2_c0 = -0.923271,x_bkg2_c1 = 0.2)\n",
      "     function value is NAN @ paramSet=(x_bkg2_c0 = -0.923271,x_bkg2_c1 = 0.2)\n",
      "     function value is NAN @ paramSet=(x_bkg2_c0 = -0.923271,x_bkg2_c1 = 0.2)\n",
      "     function value is NAN @ paramSet=(x_bkg2_c0 = -0.923271,x_bkg2_c1 = 0.2)\n",
      "    ... (remaining 14 messages suppressed)\n",
      "RooNLLVar::nll_model_sighist[ paramSet=(x_bkg2_c0,x_bkg2_c1) ]\n",
      "     function value is NAN @ paramSet=(x_bkg2_c0 = -0.923271,x_bkg2_c1 = 0.2)\n",
      "\n",
      "RooAbsMinimizerFcn: Minimized function has error status.\n",
      "Returning maximum FCN so far (-23240.3) to force MIGRAD to back out of this region. Error log follows.\n",
      "Parameter values: \tx_bkg2_c0=-0.922977\tx_bkg2_c1=0.2\n",
      "PID41400/RooRealMPFE::nll_model_sighist_559868710c70_MPFE11[ arg=nll_model_sighist_GOF11 vars=(x_bkg2_c0,x_bkg2_c1) ]\n",
      "     function value is NAN @ paramSet=(x_bkg2_c0 = -0.922977,x_bkg2_c1 = 0.2)\n",
      "     function value is NAN @ paramSet=(x_bkg2_c0 = -0.922977,x_bkg2_c1 = 0.2)\n",
      "     function value is NAN @ paramSet=(x_bkg2_c0 = -0.922977,x_bkg2_c1 = 0.2)\n",
      "     function value is NAN @ paramSet=(x_bkg2_c0 = -0.922977,x_bkg2_c1 = 0.2)\n",
      "     function value is NAN @ paramSet=(x_bkg2_c0 = -0.922977,x_bkg2_c1 = 0.2)\n",
      "     function value is NAN @ paramSet=(x_bkg2_c0 = -0.922977,x_bkg2_c1 = 0.2)\n",
      "     function value is NAN @ paramSet=(x_bkg2_c0 = -0.922977,x_bkg2_c1 = 0.2)\n",
      "     function value is NAN @ paramSet=(x_bkg2_c0 = -0.922977,x_bkg2_c1 = 0.2)\n",
      "     function value is NAN @ paramSet=(x_bkg2_c0 = -0.922977,x_bkg2_c1 = 0.2)\n",
      "     function value is NAN @ paramSet=(x_bkg2_c0 = -0.922977,x_bkg2_c1 = 0.2)\n",
      "     function value is NAN @ paramSet=(x_bkg2_c0 = -0.922977,x_bkg2_c1 = 0.2)\n",
      "     function value is NAN @ paramSet=(x_bkg2_c0 = -0.922977,x_bkg2_c1 = 0.2)\n",
      "    ... (remaining 14 messages suppressed)\n",
      "RooNLLVar::nll_model_sighist[ paramSet=(x_bkg2_c0,x_bkg2_c1) ]\n",
      "     function value is NAN @ paramSet=(x_bkg2_c0 = -0.922977,x_bkg2_c1 = 0.2)\n",
      "\n",
      "[#1] INFO:Minimization -- RooAbsMinimizerFcn::setOptimizeConst: deactivating const optimization\n",
      "\n",
      "  RooFitResult: minimized FCN value: -23476.2, estimated distance to minimum: 4.97852e-07\n",
      "                covariance matrix quality: Full, accurate covariance matrix\n",
      "                Status : MINIMIZE=0 HESSE=0 \n",
      "\n",
      "    Floating Parameter    FinalValue +/-  Error   \n",
      "  --------------------  --------------------------\n",
      "             x_bkg2_c0   -8.9521e-01 +/-  2.96e-02\n",
      "             x_bkg2_c1    2.2036e-01 +/-  1.12e-02\n",
      "\n",
      "[#1] INFO:Plotting -- RooAbsPdf::plotOn(model) p.d.f was fitted in a subrange and no explicit Range() and NormRange() was specified. Plotting / normalising in fit range. To override, do one of the following\n",
      "\t- Clear the automatic fit range attribute: <pdf>.setStringAttribute(\"fitrange\", nullptr);\n",
      "\t- Explicitly specify the plotting range: Range(\"<rangeName>\").\n",
      "\t- Explicitly specify where to compute the normalisation: NormRange(\"<rangeName>\").\n",
      "\tThe default (full) range can be denoted with Range(\"\") / NormRange(\"\").\n",
      "[#1] INFO:Plotting -- RooAbsPdf::plotOn(model) only plotting range 'fit_nll_model_sighist'\n",
      "[#1] INFO:Plotting -- RooAbsPdf::plotOn(model) p.d.f. curve is normalized using explicit choice of ranges 'fit_nll_model_sighist'\n"
     ]
    },
    {
     "name": "stderr",
     "output_type": "stream",
     "text": [
      "cling::DynamicLibraryManager::loadLibrary(): libgsl.so.25: cannot open shared object file: No such file or directory\n",
      "Info in <TCanvas::Print>: png file /media/jykim/T7/saved_plots/fitting/results/rhogamma/rho_massveto_1ab_except_ccbar.png has been created\n"
     ]
    },
    {
     "data": {
      "image/png": "[encoded data removed]",
      "text/plain": [
       "<IPython.core.display.Image object>"
      ]
     },
     "metadata": {},
     "output_type": "display_data"
    }
   ],
   "source": [
    "canv = ROOT.TCanvas(\"Canvas\", \"Canvas\", 700, 640)\n",
    "\n",
    "xlow = ctypes.c_double()\n",
    "ylow = ctypes.c_double()\n",
    "xup = ctypes.c_double()\n",
    "yup = ctypes.c_double()\n",
    "\n",
    "canv.GetPad(0).GetPadPar(xlow, ylow, xup, yup)\n",
    "canv.Divide(1,2)\n",
    "\n",
    "xlow = xlow.value\n",
    "ylow = ylow.value\n",
    "xup = xup.value\n",
    "yup = yup.value\n",
    "\n",
    "upPad = canv.GetPad(1)\n",
    "upPad.SetPad(xlow, ylow+0.25*(yup-ylow),xup,yup)\n",
    "\n",
    "dwPad = canv.GetPad(2)\n",
    "dwPad.SetPad(xlow, ylow,xup,ylow+0.25*(yup-ylow))\n",
    "\n",
    "    \n",
    "sig1 = ROOT.RooGaussian(\"sig1\", \"Signal component 1\", x, mean, sigma1)\n",
    "# # sig2 = ROOT.RooCBShape(\"sig2\", \"Signal component 2\", x, mean, sigma2, alpha, n_CB)\n",
    "# # # sig3 = ROOT.RooNovosibirsk(\"sig3\", \"Signal component 3\", x, mean, Novo_width, Novo_tail)\n",
    "\n",
    "\n",
    "sig2 = ROOT.RooExponential(\"sig2\", \"Signal component 1\", x, x_bkg3_tau) \n",
    "\n",
    "# sig2 = ROOT.RooPolynomial(\"sig2\", \"Signal component 1\", x, ROOT.RooArgList(x_bkg2_c0, x_bkg2_c1))\n",
    "sig1frac = ROOT.RooRealVar(\"sig1frac\", \"fraction of component 1 in signal\", 0.5, 0.0, 1.0)\n",
    "\n",
    "\n",
    "# # model = ROOT.RooCBShape(\"model\", \"Signal component 2\", x, mean, sigma2, alpha, n_CB)\n",
    "# model = ROOT.RooAddPdf(\"model\", \"model\", [sig1, sig2], sig1frac)\n",
    "\n",
    "model = ROOT.RooPolynomial(\"model\", \"Signal component 1\", x, ROOT.RooArgList(x_bkg2_c0, x_bkg2_c1))\n",
    "\n",
    "\n",
    "r = model.fitTo(signalhist,NumCPU=12,Range=fitting_region,PrintLevel=-1, Save=1)\n",
    "\n",
    "r.Print()\n",
    "canv.cd(1) \n",
    "# frame = x.frame(Title=\"D^{0} #rightarrow #bar{K}^{*0} #pi^{0}\")\n",
    "frame = x.frame(Title=\" \")\n",
    "\n",
    "signalhist.plotOn(frame,Name = \"data1\", XErrorSize=0)\n",
    "\n",
    "# model.plotOn(frame, Name=\"gauss1\", Components=sig1, LineStyle=ROOT.kDashed, LineColor=593)\n",
    "# model.plotOn(frame, Name=\"CB1\", Components=sig2, LineStyle=ROOT.kDashed, LineColor=593)\n",
    "# sig.plotOn(frame, Name=\"Novo\", Components=sig3, LineStyle=ROOT.kDashed, LineColor=593)\n",
    "\n",
    "model.plotOn(frame, Name=\"fitting\",)\n",
    "\n",
    "\n",
    "# sig.paramOn(frame)\n",
    "frame.GetXaxis().SetTitleSize(0.047)\n",
    "frame.GetXaxis().CenterTitle(True)\n",
    "frame.GetYaxis().SetTitleSize(0.04)\n",
    "frame.GetYaxis().SetTitleOffset(1.2)\n",
    "frame.Draw(\"PE\")\n",
    "\n",
    "\n",
    "leg1 = ROOT.TLegend(0.75, 0.75, 0.9, 0.9)\n",
    "leg1.SetFillColor(ROOT.kWhite)\n",
    "# leg1.SetHeader(\"The Legend title\",\"C\")\n",
    "leg1.AddEntry(\"data1\", \"MC\", \"PE\")\n",
    "leg1.AddEntry(\"fitting\", \"fit\", \"l\")\n",
    "leg1.Draw()\n",
    "\n",
    "hpull = frame.pullHist()\n",
    "hpull.SetFillStyle(1001)\n",
    "hpull.SetFillColor(1);\n",
    "for i in range(0,hpull.GetN()):#(int i=0;i<hpull.GetN();++i): \n",
    "    hpull.SetPointError(i,0.0,0.0,0.0,0.0)\n",
    "# pullplot = x.frame(Title(\" \"))\n",
    "pullplot = x.frame()\n",
    "pullplot.SetTitle(\"\")\n",
    "pullplot.addPlotable(hpull,\"BE\")\n",
    "# pullplot.addPlotable(hpull,\"PE\")\n",
    "\n",
    "pullplot.SetYTitle(\"Pull\")\n",
    "pullplot.GetXaxis().SetTitleSize(0)\n",
    "pullplot.GetYaxis().SetTitleSize(0.17)\n",
    "pullplot.GetYaxis().CenterTitle(True)\n",
    "pullplot.GetYaxis().SetTitleOffset(0.2)\n",
    "pullplot.SetMinimum(-4.)\n",
    "pullplot.SetMaximum(4.)\n",
    "pullplot.GetXaxis().SetLabelSize(0.1)\n",
    "pullplot.GetYaxis().SetLabelSize(0.09)\n",
    "canv.cd(2)\n",
    "pullplot.Draw()\n",
    "\n",
    "xmin1 = ctypes.c_double(fitting_region[0])\n",
    "xmax1 = ctypes.c_double(fitting_region[1])\n",
    "# xmin1 = 0.1\n",
    "# xmax1 = 0.18\n",
    "line = ROOT.TLine(xmin1,0.0,xmax1,0.0)\n",
    "line1 = ROOT.TLine(xmin1,3.0,xmax1,3.0)\n",
    "line2 = ROOT.TLine(xmin1,-3.0,xmax1,-3.0)\n",
    "\n",
    "line.SetLineColor(ROOT.kRed)\n",
    "line.SetLineWidth(3)\n",
    "line1.SetLineColor(ROOT.kRed)\n",
    "line2.SetLineColor(ROOT.kRed)\n",
    "line1.SetLineStyle(2)\n",
    "line2.SetLineStyle(2)\n",
    "line.Draw(\"SAME\")\n",
    "line1.Draw(\"SAME\")\n",
    "line2.Draw(\"SAME\")\n",
    "\n",
    "canv.Update()\n",
    "\n",
    "canv.Draw()\n",
    "canv.SaveAs(\"/media/jykim/T7/saved_plots/fitting/results/rhogamma/rho_massveto_1ab_except_ccbar.png\")\n",
    "#canv.SaveAs(\"test.png\")\n",
    "\n",
    "f = ROOT.TFile(\"phig_signalMC_fitresult.root\", \"RECREATE\")\n",
    "r.Write(\"phig_sig\")\n",
    "f.Close()\n"
   ]
  },
  {
   "cell_type": "code",
   "execution_count": 16,
   "id": "35ffd040-f571-4a12-bcd2-5df6cec6c76e",
   "metadata": {},
   "outputs": [
    {
     "name": "stdout",
     "output_type": "stream",
     "text": [
      "0x559862c3e970 RooPolynomial::model = 0.0969121 [Auto,Dirty] \n",
      "  0x559867baa560/V- RooRealVar::M(D^{0}) = 1.865\n",
      "  0x5598682d6780/V- RooRealVar::x_bkg2_c0 = -0.895207 +/- 0.029558\n",
      "  0x5598682f0e70/V- RooRealVar::x_bkg2_c1 = 0.220363 +/- 0.0111967\n"
     ]
    }
   ],
   "source": [
    "model.Print(\"t\")"
   ]
  },
  {
   "cell_type": "code",
   "execution_count": 17,
   "id": "43ffc56d-f01f-49c7-96d3-6e55a2bd4819",
   "metadata": {},
   "outputs": [],
   "source": [
    "f = ROOT.TFile.Open(\"phig_signalMC_fitresult.root\")\n",
    "r2 = ROOT.gDirectory.Get(\"phig_sig\")\n",
    "f.Close()\n"
   ]
  },
  {
   "cell_type": "code",
   "execution_count": 18,
   "id": "e449db02-3a12-4028-a58f-1daa29df377e",
   "metadata": {},
   "outputs": [
    {
     "name": "stdout",
     "output_type": "stream",
     "text": [
      "\n",
      "  RooFitResult: minimized FCN value: -23476.2, estimated distance to minimum: 4.97852e-07\n",
      "                covariance matrix quality: Full, accurate covariance matrix\n",
      "                Status : MINIMIZE=0 HESSE=0 \n",
      "\n",
      "    Floating Parameter    FinalValue +/-  Error   \n",
      "  --------------------  --------------------------\n",
      "             x_bkg2_c0   -8.9521e-01 +/-  2.96e-02\n",
      "             x_bkg2_c1    2.2036e-01 +/-  1.12e-02\n",
      "\n"
     ]
    }
   ],
   "source": [
    "r2.Print()"
   ]
  },
  {
   "cell_type": "code",
   "execution_count": 19,
   "id": "b612badd-87c1-47fd-bb71-12982c4377b0",
   "metadata": {},
   "outputs": [
    {
     "data": {
      "text/plain": [
       "-0.9967762625226805"
      ]
     },
     "execution_count": 19,
     "metadata": {},
     "output_type": "execute_result"
    }
   ],
   "source": [
    "r2.correlation(\"x_bkg2_c0\",\"x_bkg2_c1\")"
   ]
  },
  {
   "cell_type": "code",
   "execution_count": 20,
   "id": "a81b463a-ffdb-4e4d-a472-7d01dccfa76d",
   "metadata": {},
   "outputs": [
    {
     "data": {
      "text/plain": [
       "4.978516275473238e-07"
      ]
     },
     "execution_count": 20,
     "metadata": {},
     "output_type": "execute_result"
    }
   ],
   "source": [
    "r2.edm()"
   ]
  },
  {
   "cell_type": "code",
   "execution_count": 21,
   "id": "405e4318-7ba2-4362-acae-6d90a363da53",
   "metadata": {},
   "outputs": [
    {
     "data": {
      "text/plain": [
       "<cppyy.gbl.TMatrixTSym<double> object at 0x559869e6e900>"
      ]
     },
     "execution_count": 21,
     "metadata": {},
     "output_type": "execute_result"
    }
   ],
   "source": [
    "r2.correlationMatrix()"
   ]
  },
  {
   "cell_type": "code",
   "execution_count": null,
   "id": "9f00b952-6846-4425-a62e-a7d87405471b",
   "metadata": {},
   "outputs": [],
   "source": []
  },
  {
   "cell_type": "code",
   "execution_count": null,
   "id": "cec9e79d-5f5c-4451-9e51-2b84a6e283e8",
   "metadata": {},
   "outputs": [],
   "source": []
  },
  {
   "cell_type": "markdown",
   "id": "abc3ed7d-57c5-4c9a-a600-d2a11a909acc",
   "metadata": {},
   "source": [
    "# cosHel"
   ]
  },
  {
   "cell_type": "code",
   "execution_count": 22,
   "id": "53b2d74b-9d32-43c7-9942-053bb2eae63b",
   "metadata": {},
   "outputs": [],
   "source": [
    "# ROOT.RooClassFactory.makePdf(\"MyPdf_one_minus_squared\", \"x,c0\", \"\", \"c0*(1x*x)\")\n",
    "# ROOT.gROOT.ProcessLineSync(\".x MyPdf_one_minus_squared.cxx+\")"
   ]
  },
  {
   "cell_type": "code",
   "execution_count": 23,
   "id": "4abadc13-0d48-44fe-b9b2-c5d54d7afd08",
   "metadata": {},
   "outputs": [
    {
     "data": {
      "text/plain": [
       "94113212687360"
      ]
     },
     "execution_count": 23,
     "metadata": {},
     "output_type": "execute_result"
    },
    {
     "name": "stdout",
     "output_type": "stream",
     "text": [
      "(MyPdf_xsquared) An instance of MyPdf_xsquared.\n"
     ]
    }
   ],
   "source": [
    "# ROOT.RooClassFactory.makePdf(\"MyPdf_xsquared\", \"x,c0\", \"\", \"c0*x*x\")\n",
    "ROOT.gROOT.ProcessLineSync(\".x MyPdf_xsquared.cxx+\")"
   ]
  },
  {
   "cell_type": "code",
   "execution_count": 24,
   "id": "7e43b6a0-b383-4404-88e7-348da654fe5a",
   "metadata": {},
   "outputs": [],
   "source": [
    "# ROOT.RooClassFactory.makePdf(\"MyPdf_xsquared_nopara\", \"x\", \"\", \"x*x\")\n",
    "# ROOT.gROOT.ProcessLineSync(\".x MyPdf_xsquared_nopara.cxx+\")"
   ]
  },
  {
   "cell_type": "code",
   "execution_count": 25,
   "id": "49fcd328-6279-4927-ae57-12c5d33eb0de",
   "metadata": {},
   "outputs": [],
   "source": [
    "fitting_region = (-1, 1)\n",
    "y = ROOT.RooRealVar(\"cos#theta_{H}\", \"cos#theta_{H}\", fitting_region[0], fitting_region[1], \"\")\n",
    "# y.setBins(50)\n",
    "y_l = ROOT.RooArgList(y)\n",
    "# signalhist = ROOT.RooDataHist(\"sighist\", \"sighist\", l, D0_M_TH1F, scale_factor)\n",
    "y_signalhist = ROOT.RooDataHist(\"y_signalhist\", \"sighist\", y_l, D0_cosHel_TH1F, 1)\n"
   ]
  },
  {
   "cell_type": "code",
   "execution_count": 26,
   "id": "564b955d-6269-4207-a277-0a9c0d967eb7",
   "metadata": {},
   "outputs": [],
   "source": [
    "y_mean1 = ROOT.RooRealVar(\"y_mean1\", \"mean of gaussians\", -0.7,-0.8, -0.6)\n",
    "# y_mean2 = ROOT.RooRealVar(\"y_mean2\", \"mean of gaussians\", 0.9,0.8, 1.2)\n",
    "\n",
    "y_sigma1 = ROOT.RooRealVar(\"y_sigma1\", \"width of gaussians\", 0.03,0,0.2)\n",
    "y_sigma2 = ROOT.RooRealVar(\"y_sigma2\", \"width of gaussians\", 0.1,0,0.2)\n",
    "\n",
    "c0 = ROOT.RooRealVar(\"c0\", \"c0\",0.2, 0,1)\n",
    "\n",
    "\n",
    "Cheby_c0 = ROOT.RooRealVar(\"Cheby_c0\", \"c0\",0.2, -1,1)\n",
    "Cheby_c1 = ROOT.RooRealVar(\"Cheby_c1\", \"c0\",0.2, -1,1)\n",
    "Cheby_c2 = ROOT.RooRealVar(\"Cheby_c2\", \"c0\",-0.2, -1,1)\n"
   ]
  },
  {
   "cell_type": "code",
   "execution_count": 27,
   "id": "c5960f99-751f-4a17-9d46-57b6e24d7ef7",
   "metadata": {},
   "outputs": [
    {
     "name": "stdout",
     "output_type": "stream",
     "text": [
      "[#0] WARNING:InputArguments -- The parameter 'y_sigma1' with range [0, 0.2] of the RooGaussian 'sig2' exceeds the safe range of (0, inf). Advise to limit its range.\n",
      "[#1] INFO:Eval -- RooRealVar::setRange(cos#theta_{H}) new range named 'fit' created with bounds [-1,1]\n",
      "[#1] INFO:Minimization -- RooAbsMinimizerFcn::setOptimizeConst: activating const optimization\n",
      "[#1] INFO:Fitting -- RooAbsOptTestStatistic::ctor(nll_model_y_signalhist) constructing test statistic for sub-range named fit\n",
      "[#1] INFO:Eval -- RooRealVar::setRange(cos#theta_{H}) new range named 'NormalizationRangeForfit' created with bounds [-1,1]\n",
      "[#1] INFO:Eval -- RooRealVar::setRange(cos#theta_{H}) new range named 'fit_nll_model_y_signalhist' created with bounds [-1,1]\n",
      "[#1] INFO:Fitting -- RooAbsOptTestStatistic::ctor(nll_model_y_signalhist) fixing interpretation of coefficients of any RooAddPdf to full domain of observables \n",
      "[#1] INFO:Eval -- RooAbsTestStatistic::initMPMode: started 12 remote server process.\n",
      "[#1] INFO:Minimization -- RooAbsMinimizerFcn::setOptimizeConst: deactivating const optimization\n",
      "\n",
      "  RooFitResult: minimized FCN value: 17006.4, estimated distance to minimum: 6.2134e-05\n",
      "                covariance matrix quality: Full, accurate covariance matrix\n",
      "                Status : MINIMIZE=0 HESSE=0 \n",
      "\n",
      "    Floating Parameter    FinalValue +/-  Error   \n",
      "  --------------------  --------------------------\n",
      "              Cheby_c0    1.6446e-01 +/-  1.29e-02\n",
      "              Cheby_c1    1.6020e-01 +/-  9.80e-03\n",
      "              Cheby_c2    4.7878e-02 +/-  1.02e-02\n",
      "\n",
      "[#1] INFO:Plotting -- RooAbsPdf::plotOn(model) p.d.f was fitted in a subrange and no explicit Range() and NormRange() was specified. Plotting / normalising in fit range. To override, do one of the following\n",
      "\t- Clear the automatic fit range attribute: <pdf>.setStringAttribute(\"fitrange\", nullptr);\n",
      "\t- Explicitly specify the plotting range: Range(\"<rangeName>\").\n",
      "\t- Explicitly specify where to compute the normalisation: NormRange(\"<rangeName>\").\n",
      "\tThe default (full) range can be denoted with Range(\"\") / NormRange(\"\").\n",
      "[#1] INFO:Plotting -- RooAbsPdf::plotOn(model) only plotting range 'fit_nll_model_y_signalhist'\n",
      "[#1] INFO:Plotting -- RooAbsPdf::plotOn(model) p.d.f. curve is normalized using explicit choice of ranges 'fit_nll_model_y_signalhist'\n",
      "[#0] ERROR:Plotting -- RooAbsPdf::plotOn(model) ERROR: component selection set (sig2) does not match any components of p.d.f.\n",
      "[#1] INFO:Plotting -- RooAbsPdf::plotOn(model) p.d.f was fitted in a subrange and no explicit Range() and NormRange() was specified. Plotting / normalising in fit range. To override, do one of the following\n",
      "\t- Clear the automatic fit range attribute: <pdf>.setStringAttribute(\"fitrange\", nullptr);\n",
      "\t- Explicitly specify the plotting range: Range(\"<rangeName>\").\n",
      "\t- Explicitly specify where to compute the normalisation: NormRange(\"<rangeName>\").\n",
      "\tThe default (full) range can be denoted with Range(\"\") / NormRange(\"\").\n",
      "[#1] INFO:Plotting -- RooAbsPdf::plotOn(model) only plotting range 'fit_nll_model_y_signalhist'\n",
      "[#1] INFO:Plotting -- RooAbsPdf::plotOn(model) p.d.f. curve is normalized using explicit choice of ranges 'fit_nll_model_y_signalhist'\n",
      "[#0] ERROR:Plotting -- RooAbsPdf::plotOn(model) ERROR: component selection set (sig3) does not match any components of p.d.f.\n",
      "[#1] INFO:Plotting -- RooAbsPdf::plotOn(model) p.d.f was fitted in a subrange and no explicit Range() and NormRange() was specified. Plotting / normalising in fit range. To override, do one of the following\n",
      "\t- Clear the automatic fit range attribute: <pdf>.setStringAttribute(\"fitrange\", nullptr);\n",
      "\t- Explicitly specify the plotting range: Range(\"<rangeName>\").\n",
      "\t- Explicitly specify where to compute the normalisation: NormRange(\"<rangeName>\").\n",
      "\tThe default (full) range can be denoted with Range(\"\") / NormRange(\"\").\n",
      "[#1] INFO:Plotting -- RooAbsPdf::plotOn(model) only plotting range 'fit_nll_model_y_signalhist'\n",
      "[#1] INFO:Plotting -- RooAbsPdf::plotOn(model) p.d.f. curve is normalized using explicit choice of ranges 'fit_nll_model_y_signalhist'\n"
     ]
    },
    {
     "name": "stderr",
     "output_type": "stream",
     "text": [
      "Warning in <TCanvas::Constructor>: Deleting canvas with same name: Canvas\n",
      "Info in <TCanvas::Print>: png file /media/jykim/T7/saved_plots/fitting/results/rhogamma/rho_massveto_1ab_except_ccbar_coshel.png has been created\n"
     ]
    },
    {
     "data": {
      "image/png": "[encoded data removed]",
      "text/plain": [
       "<IPython.core.display.Image object>"
      ]
     },
     "metadata": {},
     "output_type": "display_data"
    }
   ],
   "source": [
    "canv = ROOT.TCanvas(\"Canvas\", \"Canvas\", 700, 640)\n",
    "\n",
    "xlow = ctypes.c_double()\n",
    "ylow = ctypes.c_double()\n",
    "xup = ctypes.c_double()\n",
    "yup = ctypes.c_double()\n",
    "\n",
    "canv.GetPad(0).GetPadPar(xlow, ylow, xup, yup)\n",
    "canv.Divide(1,2)\n",
    "\n",
    "xlow = xlow.value\n",
    "ylow = ylow.value\n",
    "xup = xup.value\n",
    "yup = yup.value\n",
    "\n",
    "upPad = canv.GetPad(1)\n",
    "upPad.SetPad(xlow, ylow+0.25*(yup-ylow),xup,yup)\n",
    "\n",
    "dwPad = canv.GetPad(2)\n",
    "dwPad.SetPad(xlow, ylow,xup,ylow+0.25*(yup-ylow))\n",
    "\n",
    "\n",
    "# y_bkg1_model = ROOT.MyPdf_xsquared_nopara(\"y_bkg1_model\", \"y_bkg1\", y)\n",
    "# model = ROOT.MyPdf_xsquared_nopara(\"model\", \"y_bkg1\", y)\n",
    "# sig1 = ROOT.MyPdf_xsquared_nopara(\"sig1\", \"y_bkg1\", y)\n",
    "sig1 = ROOT.MyPdf_xsquared(\"sig1\", \"y_bkg1\", y, c0)\n",
    "\n",
    "\n",
    "sig2 = ROOT.RooGaussian(\"sig2\", \"Signal component 1\", y, y_mean1, y_sigma1)\n",
    "# sig2_2 = ROOT.RooGaussian(\"sig2_2\", \"Signal component 1\", y, y_mean2, y_sigma2)\n",
    "\n",
    "# frac2 = ROOT.RooRealVar(\"frac2\", \"fraction of component 1 in signal\", 0.5, 0.0, 1.0)\n",
    "# sig2 = ROOT.RooAddPdf(\"sig2\", \"model\", [sig2_1, sig2_2], frac2)\n",
    "\n",
    "\n",
    "sig3 = ROOT.RooChebychev(\"sig3\", \"Signal component 1\", y, ROOT.RooArgList(Cheby_c0, Cheby_c1, Cheby_c2))\n",
    "\n",
    "# sig1frac = ROOT.RooRealVar(\"sig1frac\", \"fraction of component 1 in signal\", 0.5, 0.0, 1.0)\n",
    "sig2frac = ROOT.RooRealVar(\"sig2frac\", \"fraction of component 1 in signal\", 0.5, 0.0, 1.0)\n",
    "\n",
    "\n",
    "# model = ROOT.RooCBShape(\"model\", \"Signal component 2\", x, mean, sigma2, alpha, n_CB)\n",
    "\n",
    "# sig_model1 = ROOT.RooAddPdf(\"sig_model1\", \"model\", [sig1, sig2], sig1frac)\n",
    "\n",
    "\n",
    "# model = ROOT.RooAddPdf(\"model\", \"model\", [sig3, sig2], sig2frac)\n",
    "\n",
    "model = ROOT.RooChebychev(\"model\", \"Signal component 1\", y, ROOT.RooArgList(Cheby_c0, Cheby_c1, Cheby_c2))\n",
    "\n",
    "\n",
    "\n",
    "run = model.fitTo(y_signalhist,NumCPU=12,Range=(-1,1),PrintLevel=-1, Save=1)\n",
    "# run = model.fitTo(y_signalhist,NumCPU=12,Range=(-1,1),PrintLevel=-1)\n",
    "\n",
    "run.Print()\n",
    "canv.cd(1) \n",
    "# frame = x.frame(Title=\"D^{0} #rightarrow #bar{K}^{*0} #pi^{0}\")\n",
    "frame = y.frame(Title=\" \")\n",
    "\n",
    "y_signalhist.plotOn(frame,Name = \"data1\", XErrorSize=0)\n",
    "\n",
    "# model.plotOn(frame, Name=\"gauss1\", Components=sig1, LineStyle=ROOT.kDashed, LineColor=593)\n",
    "model.plotOn(frame, Name=\"CB1\", Components=sig2, LineStyle=ROOT.kDashed, LineColor=593)\n",
    "# model.plotOn(frame, Name=\"CB1\", Components=sig2_1, LineStyle=ROOT.kDashed, LineColor=593)\n",
    "# model.plotOn(frame, Name=\"CB1\", Components=sig2_2, LineStyle=ROOT.kDashed, LineColor=593)\n",
    "\n",
    "model.plotOn(frame, Name=\"Novo\", Components=sig3, LineStyle=ROOT.kDashed, LineColor=593)\n",
    "\n",
    "model.plotOn(frame, Name=\"fitting\",)\n",
    "\n",
    "\n",
    "# sig.paramOn(frame)\n",
    "frame.GetXaxis().SetTitleSize(0.047)\n",
    "frame.GetXaxis().CenterTitle(True)\n",
    "frame.GetYaxis().SetTitleSize(0.04)\n",
    "frame.GetYaxis().SetTitleOffset(1.2)\n",
    "frame.Draw(\"PE\")\n",
    "\n",
    "\n",
    "leg1 = ROOT.TLegend(0.25, 0.75, 0.4, 0.9)\n",
    "leg1.SetFillColor(ROOT.kWhite)\n",
    "# leg1.SetHeader(\"The Legend title\",\"C\")\n",
    "leg1.AddEntry(\"data1\", \"MC\", \"PE\")\n",
    "leg1.AddEntry(\"fitting\", \"fit\", \"l\")\n",
    "leg1.Draw()\n",
    "\n",
    "hpull = frame.pullHist()\n",
    "hpull.SetFillStyle(1001)\n",
    "hpull.SetFillColor(1);\n",
    "for i in range(0,hpull.GetN()):#(int i=0;i<hpull.GetN();++i): \n",
    "    hpull.SetPointError(i,0.0,0.0,0.0,0.0)\n",
    "# pullplot = x.frame(Title(\" \"))\n",
    "pullplot = y.frame()\n",
    "pullplot.SetTitle(\"\")\n",
    "pullplot.addPlotable(hpull,\"BE\")\n",
    "# pullplot.addPlotable(hpull,\"PE\")\n",
    "\n",
    "pullplot.SetYTitle(\"Pull\")\n",
    "pullplot.GetXaxis().SetTitleSize(0)\n",
    "pullplot.GetYaxis().SetTitleSize(0.17)\n",
    "pullplot.GetYaxis().CenterTitle(True)\n",
    "pullplot.GetYaxis().SetTitleOffset(0.2)\n",
    "pullplot.SetMinimum(-4.)\n",
    "pullplot.SetMaximum(4.)\n",
    "pullplot.GetXaxis().SetLabelSize(0.1)\n",
    "pullplot.GetYaxis().SetLabelSize(0.09)\n",
    "canv.cd(2)\n",
    "pullplot.Draw()\n",
    "\n",
    "xmin1 = ctypes.c_double(fitting_region[0])\n",
    "xmax1 = ctypes.c_double(fitting_region[1])\n",
    "# xmin1 = 0.1\n",
    "# xmax1 = 0.18\n",
    "line = ROOT.TLine(xmin1,0.0,xmax1,0.0)\n",
    "line1 = ROOT.TLine(xmin1,3.0,xmax1,3.0)\n",
    "line2 = ROOT.TLine(xmin1,-3.0,xmax1,-3.0)\n",
    "\n",
    "line.SetLineColor(ROOT.kRed)\n",
    "line.SetLineWidth(3)\n",
    "line1.SetLineColor(ROOT.kRed)\n",
    "line2.SetLineColor(ROOT.kRed)\n",
    "line1.SetLineStyle(2)\n",
    "line2.SetLineStyle(2)\n",
    "line.Draw(\"SAME\")\n",
    "line1.Draw(\"SAME\")\n",
    "line2.Draw(\"SAME\")\n",
    "\n",
    "canv.Update()\n",
    "\n",
    "canv.Draw()\n",
    "canv.SaveAs(\"/media/jykim/T7/saved_plots/fitting/results/rhogamma/rho_massveto_1ab_except_ccbar_coshel.png\")\n",
    "\n",
    "f = ROOT.TFile(\"phig_signalMC_fitresult.root\", \"RECREATE\")\n",
    "r.Write(\"phig_sig\")\n",
    "f.Close()\n"
   ]
  },
  {
   "cell_type": "code",
   "execution_count": 28,
   "id": "13953686-2caf-46cd-bfef-c06a5f5c7804",
   "metadata": {},
   "outputs": [
    {
     "name": "stdout",
     "output_type": "stream",
     "text": [
      "0x5598708bb440 RooChebychev::model = 0.839796 [Auto,Dirty] \n",
      "  0x5598708829c0/V- RooRealVar::cos#theta_{H} = 0\n",
      "  0x559870957080/V- RooRealVar::Cheby_c0 = 0.164458 +/- 0.0128786\n",
      "  0x559870833b70/V- RooRealVar::Cheby_c1 = 0.160204 +/- 0.0098019\n",
      "  0x55987087e690/V- RooRealVar::Cheby_c2 = 0.0478783 +/- 0.0102342\n"
     ]
    }
   ],
   "source": [
    "model.Print(\"t\")"
   ]
  },
  {
   "cell_type": "code",
   "execution_count": null,
   "id": "4e3e768d-5095-45b0-a020-d3ddd6328d18",
   "metadata": {},
   "outputs": [],
   "source": []
  }
 ],
 "metadata": {
  "kernelspec": {
   "display_name": "Python 3 (ipykernel)",
   "language": "python",
   "name": "python3"
  },
  "language_info": {
   "codemirror_mode": {
    "name": "ipython",
    "version": 3
   },
   "file_extension": ".py",
   "mimetype": "text/x-python",
   "name": "python",
   "nbconvert_exporter": "python",
   "pygments_lexer": "ipython3",
   "version": "3.10.5"
  }
 },
 "nbformat": 4,
 "nbformat_minor": 5
}
