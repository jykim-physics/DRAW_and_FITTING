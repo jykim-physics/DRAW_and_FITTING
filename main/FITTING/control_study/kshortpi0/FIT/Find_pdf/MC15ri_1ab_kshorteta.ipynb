{
 "cells": [
  {
   "cell_type": "code",
   "execution_count": 1,
   "id": "297928b7-1b82-49dc-90df-8b9337d4dedf",
   "metadata": {},
   "outputs": [
    {
     "name": "stdout",
     "output_type": "stream",
     "text": [
      "Welcome to JupyROOT 6.26/04\n"
     ]
    }
   ],
   "source": [
    "import ROOT\n",
    "import ctypes"
   ]
  },
  {
   "cell_type": "code",
   "execution_count": 2,
   "id": "8d8843a0-5688-49f7-9a8c-04ef952a8f49",
   "metadata": {},
   "outputs": [
    {
     "name": "stdout",
     "output_type": "stream",
     "text": [
      "\n",
      "Applying BELLE2 style settings...\n"
     ]
    }
   ],
   "source": [
    "ROOT.gROOT.LoadMacro('/home/jykim/workspace/DRAW_and_FITTING/main/Belle2Style.C')\n",
    "ROOT.SetBelle2Style()"
   ]
  },
  {
   "cell_type": "code",
   "execution_count": null,
   "id": "b4357239-f7f0-4c22-8902-88b37bde983b",
   "metadata": {},
   "outputs": [],
   "source": []
  },
  {
   "cell_type": "code",
   "execution_count": 3,
   "id": "36b24cf0-9f71-4c21-a9df-9b664dc78e4b",
   "metadata": {},
   "outputs": [],
   "source": [
    "#file_list = ['/media/jykim/T7/storage/01_recon/antiKstar/D0_massveto_v2_half_1_optimzed_sigext_signalMC_recon_mdst_antiKstar_*.root']\n",
    "file_list = [\"/media/jykim/T7/storage/01_recon/massveto_calib_0614_calib_skim/topo/resultfile/result_kshort/standard.root\"]\n"
   ]
  },
  {
   "cell_type": "code",
   "execution_count": 4,
   "id": "f6f9b4a9-57fb-4d2b-9270-25715a12fedb",
   "metadata": {},
   "outputs": [],
   "source": [
    "mychain = ROOT.TChain(\"kshort\")\n",
    "# mychain = ROOT.TChain(\"phi_cc\")\n",
    "\n",
    "for i in file_list:\n",
    "    mychain.Add(i)"
   ]
  },
  {
   "cell_type": "code",
   "execution_count": 5,
   "id": "f0b3e222-4cb7-47a8-a0b4-d8fcfc09c55e",
   "metadata": {},
   "outputs": [
    {
     "name": "stdout",
     "output_type": "stream",
     "text": [
      "3273.0\n",
      "[#1] INFO:InputArguments -- The formula  D0_M>1.68 & D0_M<2.05 & dM_pi0_75MeV > 0.022 & iCascDcyBrP_Dst_0 ==1   claims to use the variables (D0_M,D0_cosHel_0,dM_pi0_75MeV,iCascDcyBrP_Dst_0) but only (D0_M,dM_pi0_75MeV,iCascDcyBrP_Dst_0) seem to be in use.\n",
      "  inputs:          D0_M>1.68 & D0_M<2.05 & dM_pi0_75MeV > 0.022 & iCascDcyBrP_Dst_0 ==1  \n",
      "[#1] INFO:DataHandling -- RooAbsReal::attachToTree(iCascDcyBrP_Dst_0) TTree Int_t branch iCascDcyBrP_Dst_0 will be converted to double precision.\n",
      "[#1] INFO:DataHandling -- RooTreeDataStore::loadValues(data) Skipping event #1 because iCascDcyBrP_Dst_0 cannot accommodate the value -1\n",
      "[#1] INFO:DataHandling -- RooTreeDataStore::loadValues(data) Skipping event #21 because iCascDcyBrP_Dst_0 cannot accommodate the value -1\n",
      "[#1] INFO:DataHandling -- RooTreeDataStore::loadValues(data) Skipping event #66 because iCascDcyBrP_Dst_0 cannot accommodate the value -1\n",
      "[#1] INFO:DataHandling -- RooTreeDataStore::loadValues(data) Skipping event #69 because iCascDcyBrP_Dst_0 cannot accommodate the value -1\n",
      "[#1] INFO:DataHandling -- RooTreeDataStore::loadValues(data) Skipping ...\n",
      "[#0] WARNING:DataHandling -- RooTreeDataStore::loadValues(data) Ignored 2640 out-of-range events\n"
     ]
    }
   ],
   "source": [
    "yrange = (-1, 1)\n",
    "\n",
    "x = ROOT.RooRealVar(\"D0_M\", \"M(D^{0}) [GeV/c^{2}]\", 1.68, 2.05, \"\")\n",
    "y = ROOT.RooRealVar(\"D0_cosHel_0\", \"cos#theta_{H}\", yrange[0], yrange[1], \"\")\n",
    "# z = ROOT.RooRealVar(\"Belle2Pi0Veto_75MeV\", \"M(D^{0}) [GeV/c^{2}]\",0,10, \"\")\n",
    "z = ROOT.RooRealVar(\"dM_pi0_75MeV\", \"M(D^{0}) [GeV/c^{2}]\",0,10, \"\")\n",
    "a = ROOT.RooRealVar(\"iCascDcyBrP_Dst_0\", \"\",0,10000, \"\")\n",
    "\n",
    "# a = iCascDcyBrP_Dst_0\n",
    "\n",
    "# data = ROOT.RooDataSet(\"data\",\"\", ROOT.RooArgSet(x,y,z), ROOT.RooFit.Import(mychain), Cut=\" D0_M>1.68 & D0_M<2.05 & Belle2Pi0Veto_75MeV > 0.022 \")\n",
    "before_data = ROOT.RooDataSet(\"data\",\"\", ROOT.RooArgSet(x,y,z, a), ROOT.RooFit.Import(mychain), Cut=\" D0_M>1.68 & D0_M<2.05 & dM_pi0_75MeV > 0.022 & iCascDcyBrP_Dst_0 ==1  \")\n",
    "\n",
    "\n",
    "w_1 = ROOT.RooRealVar('w_1', 'w', 0,1)\n",
    "w_1.setVal(1)\n",
    "before_data.addColumn(w_1)\n",
    "data1 = ROOT.RooDataSet(before_data.GetName(), before_data.GetTitle(),before_data, before_data.get(), '' ,  'w_1')\n",
    "N_total = data1.sumEntries()\n",
    "print(N_total)"
   ]
  },
  {
   "cell_type": "code",
   "execution_count": null,
   "id": "75862649-8326-4d22-960e-d21bcca713c9",
   "metadata": {},
   "outputs": [],
   "source": []
  },
  {
   "cell_type": "code",
   "execution_count": 6,
   "id": "ebe35b95-a4ec-4dd8-9d5d-43c7cd24ac6e",
   "metadata": {},
   "outputs": [],
   "source": [
    "#file_list = ['/media/jykim/T7/storage/01_recon/antiKstar/D0_massveto_v2_half_1_optimzed_sigext_signalMC_recon_mdst_antiKstar_*.root']\n",
    "file_list = [\"/media/jykim/T7/storage/01_recon/massveto_calib_0614_calib_skim/topo/resultfile/result_kshort_cc/standard.root\"]\n"
   ]
  },
  {
   "cell_type": "code",
   "execution_count": 8,
   "id": "80ba808f-e2a5-4ad6-b3a5-41b4e482d8b4",
   "metadata": {},
   "outputs": [],
   "source": [
    "mychain2 = ROOT.TChain(\"kshort_cc\")\n",
    "# mychain = ROOT.TChain(\"phi_cc\")\n",
    "\n",
    "for i in file_list:\n",
    "    mychain2.Add(i)"
   ]
  },
  {
   "cell_type": "code",
   "execution_count": 9,
   "id": "e474cf77-fd43-4744-be8c-88e2631241f4",
   "metadata": {},
   "outputs": [
    {
     "name": "stdout",
     "output_type": "stream",
     "text": [
      "3085.0\n",
      "[#1] INFO:InputArguments -- The formula  D0_M>1.68 & D0_M<2.05 & dM_pi0_75MeV > 0.022 & iCascDcyBrP_Dstm_0 ==1   claims to use the variables (D0_M,D0_cosHel_0,dM_pi0_75MeV,iCascDcyBrP_Dstm_0) but only (D0_M,dM_pi0_75MeV,iCascDcyBrP_Dstm_0) seem to be in use.\n",
      "  inputs:          D0_M>1.68 & D0_M<2.05 & dM_pi0_75MeV > 0.022 & iCascDcyBrP_Dstm_0 ==1  \n",
      "[#1] INFO:DataHandling -- RooAbsReal::attachToTree(iCascDcyBrP_Dstm_0) TTree Int_t branch iCascDcyBrP_Dstm_0 will be converted to double precision.\n",
      "[#1] INFO:DataHandling -- RooTreeDataStore::loadValues(data2) Skipping event #32 because iCascDcyBrP_Dstm_0 cannot accommodate the value -1\n",
      "[#1] INFO:DataHandling -- RooTreeDataStore::loadValues(data2) Skipping event #122 because iCascDcyBrP_Dstm_0 cannot accommodate the value -1\n",
      "[#1] INFO:DataHandling -- RooTreeDataStore::loadValues(data2) Skipping event #126 because iCascDcyBrP_Dstm_0 cannot accommodate the value -1\n",
      "[#1] INFO:DataHandling -- RooTreeDataStore::loadValues(data2) Skipping event #153 because iCascDcyBrP_Dstm_0 cannot accommodate the value -1\n",
      "[#1] INFO:DataHandling -- RooTreeDataStore::loadValues(data2) Skipping ...\n",
      "[#0] WARNING:DataHandling -- RooTreeDataStore::loadValues(data2) Ignored 2527 out-of-range events\n"
     ]
    }
   ],
   "source": [
    "\n",
    "# a = iCascDcyBrP_Dst_0\n",
    "b = ROOT.RooRealVar(\"iCascDcyBrP_Dstm_0\", \"\",0,10000, \"\")\n",
    "\n",
    "# data = ROOT.RooDataSet(\"data\",\"\", ROOT.RooArgSet(x,y,z), ROOT.RooFit.Import(mychain), Cut=\" D0_M>1.68 & D0_M<2.05 & Belle2Pi0Veto_75MeV > 0.022 \")\n",
    "before_data2 = ROOT.RooDataSet(\"data2\",\"\", ROOT.RooArgSet(x,y,z, b), ROOT.RooFit.Import(mychain2), Cut=\" D0_M>1.68 & D0_M<2.05 & dM_pi0_75MeV > 0.022 & iCascDcyBrP_Dstm_0 ==1  \")\n",
    "\n",
    "\n",
    "# w_1 = ROOT.RooRealVar('w_1', 'w', 0,1)\n",
    "# w_1.setVal(1) \n",
    "before_data2.addColumn(w_1)\n",
    "data2 = ROOT.RooDataSet(before_data2.GetName(), before_data2.GetTitle(),before_data2, before_data2.get(), '' ,  'w_1')\n",
    "N_total = data2.sumEntries()\n",
    "print(N_total)"
   ]
  },
  {
   "cell_type": "code",
   "execution_count": 10,
   "id": "ddd5e8cd-aafe-4761-a526-073554920e37",
   "metadata": {},
   "outputs": [],
   "source": [
    "data1.append(data2)"
   ]
  },
  {
   "cell_type": "code",
   "execution_count": 11,
   "id": "43ddf7ef-e1bf-4b99-ad6d-87569928c489",
   "metadata": {},
   "outputs": [
    {
     "data": {
      "text/plain": [
       "<cppyy.gbl.RooDataSet object at 0x55a70527c860>"
      ]
     },
     "execution_count": 11,
     "metadata": {},
     "output_type": "execute_result"
    }
   ],
   "source": [
    "data1"
   ]
  },
  {
   "cell_type": "code",
   "execution_count": 12,
   "id": "4b0c8e02-f608-4c5d-8cce-c5151cb22cac",
   "metadata": {},
   "outputs": [
    {
     "data": {
      "text/plain": [
       "6358.0"
      ]
     },
     "execution_count": 12,
     "metadata": {},
     "output_type": "execute_result"
    }
   ],
   "source": [
    "data1.sumEntries()"
   ]
  },
  {
   "cell_type": "code",
   "execution_count": null,
   "id": "aa035661-aa68-4851-a6b1-d5b8e7736ae6",
   "metadata": {},
   "outputs": [],
   "source": []
  },
  {
   "cell_type": "markdown",
   "id": "0f148649-602b-4713-9034-2d67ad7d3019",
   "metadata": {},
   "source": [
    "# D0_M"
   ]
  },
  {
   "cell_type": "code",
   "execution_count": 13,
   "id": "bdd84a13-a179-4af3-a557-dd36e996bb7b",
   "metadata": {},
   "outputs": [],
   "source": [
    "fitting_region = (1.68, 2.05)\n",
    "# x = ROOT.RooRealVar(\"M(D^{0})\", \"M(D^{0}) [GeV/c^{2}]\", fitting_region[0], fitting_region[1], \"\")\n",
    "# # x.setBins(50)\n",
    "# l = ROOT.RooArgList(x)\n",
    "# # signalhist = ROOT.RooDataHist(\"sighist\", \"sighist\", l, D0_M_TH1F, scale_factor)\n",
    "# signalhist = ROOT.RooDataHist(\"sighist\", \"sighist\", l, D0_M_TH1F_2, 1)\n"
   ]
  },
  {
   "cell_type": "code",
   "execution_count": 17,
   "id": "da51edfe-3ee8-431e-a6f0-5c432ada199d",
   "metadata": {},
   "outputs": [],
   "source": [
    "\n",
    "mean = ROOT.RooRealVar(\"mean\", \"mean of gaussians\", 1.7,1.67, 1.8)\n",
    "sigma1 = ROOT.RooRealVar(\"sigma1\", \"width of gaussians\", 0.01,0,0.04)\n",
    "sigma2 = ROOT.RooRealVar(\"sigma2\", \"width of gaussians\", 0.02,0,0.05)\n",
    "alpha = ROOT.RooRealVar(\"alpha\", \"width of gaussians\", 0.5,0,2)\n",
    "n_CB = ROOT.RooRealVar(\"alpha\", \"width of gaussians\", 0.5,0,2)\n",
    " \n",
    "Novo_peak = ROOT.RooRealVar(\"Novo_peak\", \"Novo peak\", 1.7,1.67,1.8)    \n",
    "Novo_width = ROOT.RooRealVar(\"Novo_widh\", \"Novo peak\", 0.05,0,0.5)    \n",
    "Novo_tail = ROOT.RooRealVar(\"Novo_tail\", \"Novo peak\", 0.5,0,10)    \n",
    "\n",
    "\n",
    "sigma3 = ROOT.RooRealVar(\"sigma3\", \"width of gaussians\", 0.02,0,0.5)\n",
    "alpha2 = ROOT.RooRealVar(\"alph2\", \"width of gaussians\", 0.5,0,2)\n",
    "n_CB2 = ROOT.RooRealVar(\"n_CB2\", \"width of gaussians\", 5,0,10)"
   ]
  },
  {
   "cell_type": "code",
   "execution_count": 18,
   "id": "47ca096e-fbe2-4e0a-a56e-55d2440d60c3",
   "metadata": {},
   "outputs": [],
   "source": [
    "sigmaL = ROOT.RooRealVar(\"sigmaL\", \"width of gaussians\", 0.01,0,0.04)\n",
    "sigmaR = ROOT.RooRealVar(\"sigmaR\", \"width of gaussians\", 0.01,0,0.04)\n",
    "alphaL = ROOT.RooRealVar(\"alphaL\", \"width of gaussians\", 0.5,0,2)\n",
    "nL     = ROOT.RooRealVar(\"nL\", \"width of gaussians\", 0.5,0,4)\n",
    "alphaR = ROOT.RooRealVar(\"alphaR\", \"width of gaussians\", 0.5,0,3)\n",
    "nR     = ROOT.RooRealVar(\"nR\", \"width of gaussians\", 0.5,0,2)"
   ]
  },
  {
   "cell_type": "code",
   "execution_count": 20,
   "id": "2150c844-1c35-4b1b-9bac-c4a725a72f4b",
   "metadata": {},
   "outputs": [
    {
     "name": "stdout",
     "output_type": "stream",
     "text": [
      "[#0] WARNING:InputArguments -- The parameter 'sigma1' with range [0, 0.04] of the RooGaussian 'sig1' exceeds the safe range of (0, inf). Advise to limit its range.\n",
      "[#0] WARNING:InputArguments -- The parameter 'sigmaL' with range [0, 0.04] of the RooCrystalBall 'model' exceeds the safe range of (0, inf). Advise to limit its range.\n",
      "[#0] WARNING:InputArguments -- The parameter 'sigmaR' with range [0, 0.04] of the RooCrystalBall 'model' exceeds the safe range of (0, inf). Advise to limit its range.\n",
      "[#0] WARNING:InputArguments -- The parameter 'alphaL' with range [0, 2] of the RooCrystalBall 'model' exceeds the safe range of (0, inf). Advise to limit its range.\n",
      "[#0] WARNING:InputArguments -- The parameter 'alphaR' with range [0, 3] of the RooCrystalBall 'model' exceeds the safe range of (0, inf). Advise to limit its range.\n",
      "[#0] WARNING:InputArguments -- The parameter 'nL' with range [0, 4] of the RooCrystalBall 'model' exceeds the safe range of (0, inf). Advise to limit its range.\n",
      "[#0] WARNING:InputArguments -- The parameter 'nR' with range [0, 2] of the RooCrystalBall 'model' exceeds the safe range of (0, inf). Advise to limit its range.\n",
      "[#1] INFO:Minimization -- RooAbsMinimizerFcn::setOptimizeConst: activating const optimization\n",
      "[#1] INFO:Fitting -- RooAbsOptTestStatistic::ctor(nll_model_data) constructing test statistic for sub-range named fit\n",
      "[#1] INFO:Fitting -- RooAbsOptTestStatistic::ctor(nll_model_data) fixing interpretation of coefficients of any RooAddPdf to full domain of observables \n",
      "[#1] INFO:Eval -- RooAbsTestStatistic::initMPMode: started 12 remote server process.\n",
      " **********\n",
      " **   19 **SET PRINT           1\n",
      " **********\n",
      " **********\n",
      " **   20 **SET NOGRAD\n",
      " **********\n",
      " PARAMETER DEFINITIONS:\n",
      "    NO.   NAME         VALUE      STEP SIZE      LIMITS\n",
      "     1 alphaL       2.82617e-01  6.32182e-02    0.00000e+00  2.00000e+00\n",
      "     2 alphaR       2.83709e+00  1.00967e-01    0.00000e+00  3.00000e+00\n",
      "     3 mean         1.74544e+00  1.48044e-03    1.67000e+00  1.80000e+00\n",
      "     4 nL           3.99944e+00  3.22635e+00    0.00000e+00  4.00000e+00\n",
      " MINUIT WARNING IN PARAMETR\n",
      " ============== VARIABLE4 BROUGHT BACK INSIDE LIMITS.\n",
      "     5 nR           2.23582e-01  9.53490e-02    0.00000e+00  2.00000e+00\n",
      "     6 sigmaL       3.99997e-02  2.90744e-02    0.00000e+00  4.00000e-02\n",
      " MINUIT WARNING IN PARAMETR\n",
      " ============== VARIABLE6 BROUGHT BACK INSIDE LIMITS.\n",
      "     7 sigmaR       2.22256e-02  8.37551e-04    0.00000e+00  4.00000e-02\n",
      " **********\n",
      " **   21 **SET ERR         0.5\n",
      " **********\n",
      " **********\n",
      " **   22 **SET PRINT           1\n",
      " **********\n",
      " **********\n",
      " **   23 **SET STR           1\n",
      " **********\n",
      " NOW USING STRATEGY  1: TRY TO BALANCE SPEED AGAINST RELIABILITY\n",
      " **********\n",
      " **   24 **MIGRAD        3500           1\n",
      " **********\n",
      " FIRST CALL TO USER FUNCTION AT NEW START POINT, WITH IFLAG=4.\n",
      " START MIGRAD MINIMIZATION.  STRATEGY  1.  CONVERGENCE WHEN EDM .LT. 1.00e-03\n",
      " FCN=-13348.7 FROM MIGRAD    STATUS=INITIATE       26 CALLS          27 TOTAL\n",
      "                     EDM= unknown      STRATEGY= 1      NO ERROR MATRIX       \n",
      "  EXT PARAMETER               CURRENT GUESS       STEP         FIRST   \n",
      "  NO.   NAME      VALUE            ERROR          SIZE      DERIVATIVE \n",
      "   1  alphaL       2.82617e-01   6.32182e-02   9.12747e-02   2.88594e-02\n",
      "   2  alphaR       2.83709e+00   1.00967e-01   1.56914e-01  -1.11355e-02\n",
      "   3  mean         1.74544e+00   1.48044e-03   2.30781e-02   2.23852e-01\n",
      "   4  nL           3.99944e+00   3.22635e+00   1.11464e+00  -1.25848e-03\n",
      "   5  nR           2.23582e-01   9.53490e-02   1.54788e-01  -8.33288e-03\n",
      "   6  sigmaL       3.99997e-02   2.90744e-02   1.01990e+00  -3.04238e-03\n",
      "   7  sigmaR       2.22256e-02   8.37551e-04   4.21522e-02   9.24499e-02\n",
      "                               ERR DEF= 0.5\n",
      " MIGRAD MINIMIZATION HAS CONVERGED.\n",
      " MIGRAD WILL VERIFY CONVERGENCE AND ERROR MATRIX.\n",
      " COVARIANCE MATRIX CALCULATED SUCCESSFULLY\n",
      " FCN=-13348.7 FROM MIGRAD    STATUS=CONVERGED     104 CALLS         105 TOTAL\n",
      "                     EDM=3.42207e-06    STRATEGY= 1      ERROR MATRIX ACCURATE \n",
      "  EXT PARAMETER                                   STEP         FIRST   \n",
      "  NO.   NAME      VALUE            ERROR          SIZE      DERIVATIVE \n",
      "   1  alphaL       2.82586e-01   4.02245e-02   3.57910e-03  -1.86400e-02\n",
      "   2  alphaR       2.83710e+00   9.29933e-02   3.60057e-03   1.35607e-02\n",
      "   3  mean         1.74544e+00   1.41433e-03   6.33050e-04  -1.33165e-01\n",
      "   4  nL           3.99998e+00   3.25927e+00   3.52777e-01  -2.34739e-04\n",
      "   5  nR           2.23591e-01   8.78335e-02   3.67222e-03   9.16830e-03\n",
      "   6  sigmaL       4.00000e-02   2.85364e-02   1.06901e-01** at limit **\n",
      "   7  sigmaR       2.22252e-02   8.06994e-04   1.26618e-03  -7.05542e-02\n",
      "                               ERR DEF= 0.5\n",
      " EXTERNAL ERROR MATRIX.    NDIM=  25    NPAR=  7    ERR DEF=0.5\n",
      "  1.620e-03  1.741e-04 -2.686e-05  1.698e-04  4.536e-05 -2.607e-07  1.089e-05 \n",
      "  1.741e-04  8.702e-03 -4.406e-06  4.014e-06 -7.741e-03  1.097e-08  1.412e-06 \n",
      " -2.686e-05 -4.406e-06  2.001e-06 -6.603e-07 -3.404e-06 -1.879e-09 -1.042e-06 \n",
      "  1.698e-04  4.014e-06 -6.603e-07  1.778e-03  1.116e-06 -1.584e-09  2.750e-07 \n",
      "  4.536e-05 -7.741e-03 -3.404e-06  1.116e-06  7.765e-03  3.177e-09  2.400e-06 \n",
      " -2.607e-07  1.097e-08 -1.879e-09 -1.584e-09  3.177e-09  5.065e-10  7.948e-10 \n",
      "  1.089e-05  1.412e-06 -1.042e-06  2.750e-07  2.400e-06  7.948e-10  6.516e-07 \n",
      " PARAMETER  CORRELATION COEFFICIENTS  \n",
      "       NO.  GLOBAL      1      2      3      4      5      6      7\n",
      "        1  0.63009   1.000  0.046 -0.472  0.100  0.013 -0.288  0.335\n",
      "        2  0.94436   0.046  1.000 -0.033  0.001 -0.942  0.005  0.019\n",
      "        3  0.93300  -0.472 -0.033  1.000 -0.011 -0.027 -0.059 -0.913\n",
      "        4  0.11926   0.100  0.001 -0.011  1.000  0.000 -0.002  0.008\n",
      "        5  0.94426   0.013 -0.942 -0.027  0.000  1.000  0.002  0.034\n",
      "        6  0.38828  -0.288  0.005 -0.059 -0.002  0.002  1.000  0.044\n",
      "        7  0.92050   0.335  0.019 -0.913  0.008  0.034  0.044  1.000\n",
      " **********\n",
      " **   25 **SET ERR         0.5\n",
      " **********\n",
      " **********\n",
      " **   26 **SET PRINT           1\n",
      " **********\n",
      " **********\n",
      " **   27 **HESSE        3500\n",
      " **********\n",
      " COVARIANCE MATRIX CALCULATED SUCCESSFULLY\n",
      " FCN=-13348.7 FROM HESSE     STATUS=OK             54 CALLS         159 TOTAL\n",
      "                     EDM=4.80584e-06    STRATEGY= 1      ERROR MATRIX ACCURATE \n",
      "  EXT PARAMETER                                INTERNAL      INTERNAL  \n",
      "  NO.   NAME      VALUE            ERROR       STEP SIZE       VALUE   \n",
      "   1  alphaL       2.82586e-01   7.23185e-02   1.43164e-04  -8.00084e-01\n",
      "   2  alphaR       2.83710e+00   1.00992e-01   1.44023e-04   1.10042e+00\n",
      "   3  mean         1.74544e+00   1.49512e-03   1.26610e-04   1.61363e-01\n",
      "   4  nL           3.99998e+00   3.21111e+00   1.41111e-02   1.56605e+00\n",
      "   5  nR           2.23591e-01   9.53657e-02   1.46889e-04  -8.88948e-01\n",
      "   6  sigmaL       4.00000e-02   3.10010e-02   4.36156e-01   1.57001e+00\n",
      "                                 WARNING -   - ABOVE PARAMETER IS AT LIMIT.\n",
      "   7  sigmaR       2.22252e-02   8.42620e-04   5.06473e-05   1.11492e-01\n",
      "                               ERR DEF= 0.5\n",
      " EXTERNAL ERROR MATRIX.    NDIM=  25    NPAR=  7    ERR DEF=0.5\n",
      "  5.249e-03  6.594e-05 -5.305e-06  1.888e-06  2.029e-06 -1.621e-06  1.508e-06 \n",
      "  6.594e-05  1.028e-02 -5.166e-06  6.459e-08 -9.223e-03  5.696e-08  1.470e-06 \n",
      " -5.305e-06 -5.166e-06  2.236e-06 -1.097e-08 -3.874e-06 -1.013e-08 -1.159e-06 \n",
      "  1.888e-06  6.459e-08 -1.097e-08  1.818e-03  1.716e-08  1.582e-10  4.679e-09 \n",
      "  2.029e-06 -9.223e-03 -3.874e-06  1.716e-08  9.165e-03  1.307e-08  2.898e-06 \n",
      " -1.621e-06  5.696e-08 -1.013e-08  1.582e-10  1.307e-08  6.977e-10  4.473e-09 \n",
      "  1.508e-06  1.470e-06 -1.159e-06  4.679e-09  2.898e-06  4.473e-09  7.104e-07 \n",
      " PARAMETER  CORRELATION COEFFICIENTS  \n",
      "       NO.  GLOBAL      1      2      3      4      5      6      7\n",
      "        1  0.90212   1.000  0.009 -0.049  0.001  0.000 -0.847  0.025\n",
      "        2  0.95309   0.009  1.000 -0.034  0.000 -0.950  0.021  0.017\n",
      "        3  0.94026  -0.049 -0.034  1.000 -0.000 -0.027 -0.256 -0.919\n",
      "        4  0.00159   0.001  0.000 -0.000  1.000  0.000  0.000  0.000\n",
      "        5  0.95299   0.000 -0.950 -0.027  0.000  1.000  0.005  0.036\n",
      "        6  0.90927  -0.847  0.021 -0.256  0.000  0.005  1.000  0.201\n",
      "        7  0.92735   0.025  0.017 -0.919  0.000  0.036  0.201  1.000\n",
      "[#1] INFO:Minimization -- RooAbsMinimizerFcn::setOptimizeConst: deactivating const optimization\n",
      "\n",
      "  RooFitResult: minimized FCN value: -13348.7, estimated distance to minimum: 4.80584e-06\n",
      "                covariance matrix quality: Full, accurate covariance matrix\n",
      "                Status : MINIMIZE=0 HESSE=0 \n",
      "\n",
      "    Floating Parameter    FinalValue +/-  Error   \n",
      "  --------------------  --------------------------\n",
      "                alphaL    2.8259e-01 +/-  7.23e-02\n",
      "                alphaR    2.8371e+00 +/-  1.01e-01\n",
      "                  mean    1.7454e+00 +/-  1.50e-03\n",
      "                    nL    4.0000e+00 +/-  3.21e+00\n",
      "                    nR    2.2359e-01 +/-  9.54e-02\n",
      "                sigmaL    4.0000e-02 +/-  3.10e-02\n",
      "                sigmaR    2.2225e-02 +/-  8.43e-04\n",
      "\n",
      "[#1] INFO:Plotting -- RooAbsPdf::plotOn(model) p.d.f was fitted in a subrange and no explicit Range() and NormRange() was specified. Plotting / normalising in fit range. To override, do one of the following\n",
      "\t- Clear the automatic fit range attribute: <pdf>.setStringAttribute(\"fitrange\", nullptr);\n",
      "\t- Explicitly specify the plotting range: Range(\"<rangeName>\").\n",
      "\t- Explicitly specify where to compute the normalisation: NormRange(\"<rangeName>\").\n",
      "\tThe default (full) range can be denoted with Range(\"\") / NormRange(\"\").\n",
      "[#1] INFO:Plotting -- RooAbsPdf::plotOn(model) only plotting range 'fit_nll_model_data'\n",
      "[#1] INFO:Plotting -- RooAbsPdf::plotOn(model) p.d.f. curve is normalized using explicit choice of ranges 'fit_nll_model_data'\n",
      "[#0] ERROR:Plotting -- RooAbsPdf::plotOn(model) ERROR: component selection set (sig1) does not match any components of p.d.f.\n",
      "[#1] INFO:Plotting -- RooAbsPdf::plotOn(model) p.d.f was fitted in a subrange and no explicit Range() and NormRange() was specified. Plotting / normalising in fit range. To override, do one of the following\n",
      "\t- Clear the automatic fit range attribute: <pdf>.setStringAttribute(\"fitrange\", nullptr);\n",
      "\t- Explicitly specify the plotting range: Range(\"<rangeName>\").\n",
      "\t- Explicitly specify where to compute the normalisation: NormRange(\"<rangeName>\").\n",
      "\tThe default (full) range can be denoted with Range(\"\") / NormRange(\"\").\n",
      "[#1] INFO:Plotting -- RooAbsPdf::plotOn(model) only plotting range 'fit_nll_model_data'\n",
      "[#1] INFO:Plotting -- RooAbsPdf::plotOn(model) p.d.f. curve is normalized using explicit choice of ranges 'fit_nll_model_data'\n",
      "[#0] ERROR:Plotting -- RooAbsPdf::plotOn(model) ERROR: component selection set (sig2) does not match any components of p.d.f.\n",
      "[#1] INFO:Plotting -- RooAbsPdf::plotOn(model) p.d.f was fitted in a subrange and no explicit Range() and NormRange() was specified. Plotting / normalising in fit range. To override, do one of the following\n",
      "\t- Clear the automatic fit range attribute: <pdf>.setStringAttribute(\"fitrange\", nullptr);\n",
      "\t- Explicitly specify the plotting range: Range(\"<rangeName>\").\n",
      "\t- Explicitly specify where to compute the normalisation: NormRange(\"<rangeName>\").\n",
      "\tThe default (full) range can be denoted with Range(\"\") / NormRange(\"\").\n",
      "[#1] INFO:Plotting -- RooAbsPdf::plotOn(model) only plotting range 'fit_nll_model_data'\n",
      "[#1] INFO:Plotting -- RooAbsPdf::plotOn(model) p.d.f. curve is normalized using explicit choice of ranges 'fit_nll_model_data'\n"
     ]
    },
    {
     "name": "stderr",
     "output_type": "stream",
     "text": [
      "Warning in <TCanvas::Constructor>: Deleting canvas with same name: Canvas\n",
      "Info in <TCanvas::Print>: png file /media/jykim/T7/saved_plots/fitting/results/kshortgamma/kshort_massveto_1ab_Veta.png has been created\n"
     ]
    },
    {
     "data": {
      "image/png": "[encoded data removed]",
      "text/plain": [
       "<IPython.core.display.Image object>"
      ]
     },
     "metadata": {},
     "output_type": "display_data"
    }
   ],
   "source": [
    "canv = ROOT.TCanvas(\"Canvas\", \"Canvas\", 700, 640)\n",
    "\n",
    "xlow = ctypes.c_double()\n",
    "ylow = ctypes.c_double()\n",
    "xup = ctypes.c_double()\n",
    "yup = ctypes.c_double()\n",
    "\n",
    "canv.GetPad(0).GetPadPar(xlow, ylow, xup, yup)\n",
    "canv.Divide(1,2)\n",
    "\n",
    "xlow = xlow.value\n",
    "ylow = ylow.value\n",
    "xup = xup.value\n",
    "yup = yup.value\n",
    "\n",
    "upPad = canv.GetPad(1)\n",
    "upPad.SetPad(xlow, ylow+0.25*(yup-ylow),xup,yup)\n",
    "\n",
    "dwPad = canv.GetPad(2)\n",
    "dwPad.SetPad(xlow, ylow,xup,ylow+0.25*(yup-ylow))\n",
    "\n",
    "    \n",
    "sig1 = ROOT.RooGaussian(\"sig1\", \"Signal component 1\", x, mean, sigma1)\n",
    "sig2 = ROOT.RooCBShape(\"sig2\", \"Signal component 2\", x, mean, sigma2, alpha, n_CB)\n",
    "# # sig1 = ROOT.RooNovosibirsk(\"sig1\", \"Signal component 3\", x, mean, Novo_width, Novo_tail)\n",
    "# # sig1 = ROOT.RooNovosibirsk(\"sig1\", \"Signal component 3\", x, Novo_peak, Novo_width, Novo_tail)\n",
    "# # sig1 = ROOT.RooCBShape(\"sig1\", \"Signal component 2\", x, mean, sigma3, alpha2, n_CB2)\n",
    "\n",
    "\n",
    "sig1frac = ROOT.RooRealVar(\"sig1frac\", \"fraction of component 1 in signal\", 0.5, 0.0, 1.0)\n",
    "\n",
    "\n",
    "\n",
    "# model = ROOT.RooCBShape(\"model\", \"Signal component 2\", x, mean, sigma2, alpha, n_CB)\n",
    "\n",
    "#model = ROOT.RooAddPdf(\"model\", \"model\", [sig1, sig2], sig1frac)\n",
    "\n",
    "model = ROOT.RooCrystalBall(\"model\", \"Signal component 2\", x, mean, sigmaL, sigmaR, alphaL, nL, alphaR, nR)\n",
    "\n",
    "# model = ROOT.RooCBShape(\"model\", \"Signal component 2\", x, mean, sigma2, alpha, n_CB)\n",
    "\n",
    "\n",
    "# # # Create the Crystal Ball function\n",
    "# cb = ROOT.RooCBShape(\"cb\", \"Crystal Ball\", x, mean, sigma2, alpha, n_CB)\n",
    "\n",
    "# # Create the parameters for the Gaussian function\n",
    "# mean_gauss = ROOT.RooRealVar(\"mean_gauss\", \"Mean of Gaussian\", 0, 0, 1)\n",
    "# sigma_gauss = ROOT.RooRealVar(\"sigma_gauss\", \"Width of Gaussian\", 0.01, 0.001, 0.5)\n",
    "\n",
    "# # Create the Gaussian function\n",
    "# gauss = ROOT.RooGaussian(\"gauss\", \"Gaussian\", x, mean_gauss, sigma_gauss)\n",
    "\n",
    "# # Create the convolution PDF using RooFFTConvPdf\n",
    "# model = ROOT.RooFFTConvPdf(\"model\", \"Convolution PDF\", x, cb, gauss)\n",
    "\n",
    "\n",
    "\n",
    "# r = model.fitTo(signalhist,NumCPU=12,Range=fitting_region,PrintLevel=-1, Save=1)\n",
    "#r = model.fitTo(signalhist,NumCPU=12,Range=fitting_region,PrintLevel=-1, Save=1)\n",
    "r = model.fitTo(data1,NumCPU=12,Range=fitting_region,PrintLevel=1, Save=1)\n",
    "\n",
    "r.Print()\n",
    "canv.cd(1) \n",
    "# frame = x.frame(Title=\"D^{0} #rightarrow #bar{K}^{*0} #pi^{0}\")\n",
    "frame = x.frame(Title=\" \")\n",
    "\n",
    "#signalhist.plotOn(frame,Name = \"data1\", XErrorSize=0)\n",
    "data1.plotOn(frame,Name = \"data1\", XErrorSize=0)\n",
    "\n",
    "model.plotOn(frame, Name=\"gauss1\", Components=sig1, LineStyle=ROOT.kDashed, LineColor=593)\n",
    "model.plotOn(frame, Name=\"CB1\", Components=sig2, LineStyle=ROOT.kDashed, LineColor=593)\n",
    "# sig.plotOn(frame, Name=\"Novo\", Components=sig3, LineStyle=ROOT.kDashed, LineColor=593)\n",
    "\n",
    "model.plotOn(frame, Name=\"fitting\",)\n",
    "\n",
    "\n",
    "# sig.paramOn(frame)\n",
    "frame.GetXaxis().CenterTitle(True)\n",
    "frame.Draw(\"PE\")\n",
    "\n",
    "\n",
    "leg1 = ROOT.TLegend(0.55, 0.75, 0.7, 0.9)\n",
    "# leg1.SetBorderSize(0)\n",
    "leg1.SetFillColor(ROOT.kWhite)\n",
    "# leg1.SetHeader(\"The Legend title\",\"C\")\n",
    "leg1.AddEntry(\"data1\", \"MC\", \"PE\")\n",
    "leg1.AddEntry(\"fitting\", \"fit\", \"l\")\n",
    "leg1.Draw()\n",
    "\n",
    "hpull = frame.pullHist()\n",
    "hpull.SetFillStyle(1001)\n",
    "hpull.SetFillColor(1);\n",
    "for i in range(0,hpull.GetN()):#(int i=0;i<hpull.GetN();++i): \n",
    "    hpull.SetPointError(i,0.0,0.0,0.0,0.0)\n",
    "# pullplot = x.frame(Title(\" \"))\n",
    "pullplot = x.frame()\n",
    "pullplot.SetTitle(\"\")\n",
    "pullplot.addPlotable(hpull,\"BE\")\n",
    "# pullplot.addPlotable(hpull,\"PE\")\n",
    "\n",
    "pullplot.SetYTitle(\"Pull\")\n",
    "pullplot.GetXaxis().SetTitleSize(0)\n",
    "pullplot.GetYaxis().SetTitleSize(0.22)\n",
    "pullplot.GetYaxis().CenterTitle(True)\n",
    "pullplot.GetYaxis().SetTitleOffset(0.2)\n",
    "pullplot.SetMinimum(-4.)\n",
    "pullplot.SetMaximum(4.)\n",
    "pullplot.GetXaxis().SetLabelSize(0.15)\n",
    "pullplot.GetYaxis().SetLabelSize(0.105)\n",
    "canv.cd(2)\n",
    "pullplot.Draw()\n",
    "\n",
    "xmin1 = ctypes.c_double(fitting_region[0])\n",
    "xmax1 = ctypes.c_double(fitting_region[1])\n",
    "# xmin1 = 0.1\n",
    "# xmax1 = 0.18\n",
    "line = ROOT.TLine(xmin1,0.0,xmax1,0.0)\n",
    "line1 = ROOT.TLine(xmin1,3.0,xmax1,3.0)\n",
    "line2 = ROOT.TLine(xmin1,-3.0,xmax1,-3.0)\n",
    "\n",
    "line.SetLineColor(ROOT.kRed)\n",
    "line.SetLineWidth(3)\n",
    "line1.SetLineColor(ROOT.kRed)\n",
    "line2.SetLineColor(ROOT.kRed)\n",
    "line1.SetLineStyle(2)\n",
    "line2.SetLineStyle(2)\n",
    "line.Draw(\"SAME\")\n",
    "line1.Draw(\"SAME\")\n",
    "line2.Draw(\"SAME\")\n",
    "\n",
    "canv.Update()\n",
    "\n",
    "canv.Draw()\n",
    "canv.SaveAs(\"/media/jykim/T7/saved_plots/fitting/results/kshortgamma/kshort_massveto_1ab_Veta.png\")\n",
    "\n",
    "f = ROOT.TFile(\"kshortg_Veta_fitresult.root\", \"RECREATE\")\n",
    "r.Write(\"kshortg\")\n",
    "f.Close()\n"
   ]
  },
  {
   "cell_type": "code",
   "execution_count": 21,
   "id": "2b3667ab-f690-4887-84e3-4a2a663454cf",
   "metadata": {},
   "outputs": [
    {
     "name": "stdout",
     "output_type": "stream",
     "text": [
      "RooCrystalBall::model[ x=D0_M x0=mean sigmaL=sigmaL sigmaR=sigmaR alphaL=alphaL nL=nL alphaR=alphaR nR=nR ] = 0.00816343\n"
     ]
    }
   ],
   "source": [
    "model.Print()"
   ]
  },
  {
   "cell_type": "code",
   "execution_count": 22,
   "id": "4011c1a1-48d5-43b1-a38e-0e65f007e41f",
   "metadata": {},
   "outputs": [
    {
     "name": "stdout",
     "output_type": "stream",
     "text": [
      "0x55a7078014d0 RooCrystalBall::model = 0.00816343 [Auto,Dirty] \n",
      "  0x55a7049f7010/V- RooRealVar::D0_M = 1.865\n",
      "  0x55a71186e0f0/V- RooRealVar::mean = 1.74544 +/- 0.00149512\n",
      "  0x55a7064555f0/V- RooRealVar::sigmaL = 0.04 +/- 0.031001\n",
      "  0x55a70a9f5f50/V- RooRealVar::sigmaR = 0.0222252 +/- 0.00084262\n",
      "  0x55a70ab824f0/V- RooRealVar::alphaL = 0.282586 +/- 0.0723185\n",
      "  0x55a708a51630/V- RooRealVar::nL = 3.99998 +/- 3.21111\n",
      "  0x55a705d426a0/V- RooRealVar::alphaR = 2.8371 +/- 0.100992\n",
      "  0x55a706ada7e0/V- RooRealVar::nR = 0.223591 +/- 0.0953657\n"
     ]
    }
   ],
   "source": [
    "model.Print(\"t\")"
   ]
  },
  {
   "cell_type": "code",
   "execution_count": 23,
   "id": "5fb42260-30bf-41ee-808f-9b6bde30352b",
   "metadata": {},
   "outputs": [],
   "source": [
    "f = ROOT.TFile.Open(\"kshortg_Veta_fitresult.root\")\n",
    "r2 = ROOT.gDirectory.Get(\"kshortg\")\n",
    "f.Close()\n"
   ]
  },
  {
   "cell_type": "code",
   "execution_count": 24,
   "id": "1ead06a3-6ed2-4ee4-b000-a7c4227c4fc8",
   "metadata": {},
   "outputs": [
    {
     "name": "stdout",
     "output_type": "stream",
     "text": [
      "\n",
      "  RooFitResult: minimized FCN value: -13348.7, estimated distance to minimum: 4.80584e-06\n",
      "                covariance matrix quality: Full, accurate covariance matrix\n",
      "                Status : MINIMIZE=0 HESSE=0 \n",
      "\n",
      "    Floating Parameter    FinalValue +/-  Error   \n",
      "  --------------------  --------------------------\n",
      "                alphaL    2.8259e-01 +/-  7.23e-02\n",
      "                alphaR    2.8371e+00 +/-  1.01e-01\n",
      "                  mean    1.7454e+00 +/-  1.50e-03\n",
      "                    nL    4.0000e+00 +/-  3.21e+00\n",
      "                    nR    2.2359e-01 +/-  9.54e-02\n",
      "                sigmaL    4.0000e-02 +/-  3.10e-02\n",
      "                sigmaR    2.2225e-02 +/-  8.43e-04\n",
      "\n"
     ]
    }
   ],
   "source": [
    "r2.Print()"
   ]
  },
  {
   "cell_type": "code",
   "execution_count": null,
   "id": "8643378b-eb0d-4ed5-80f1-0ff64479c23d",
   "metadata": {},
   "outputs": [],
   "source": []
  }
 ],
 "metadata": {
  "kernelspec": {
   "display_name": "Python 3 (ipykernel)",
   "language": "python",
   "name": "python3"
  },
  "language_info": {
   "codemirror_mode": {
    "name": "ipython",
    "version": 3
   },
   "file_extension": ".py",
   "mimetype": "text/x-python",
   "name": "python",
   "nbconvert_exporter": "python",
   "pygments_lexer": "ipython3",
   "version": "3.10.5"
  }
 },
 "nbformat": 4,
 "nbformat_minor": 5
}
