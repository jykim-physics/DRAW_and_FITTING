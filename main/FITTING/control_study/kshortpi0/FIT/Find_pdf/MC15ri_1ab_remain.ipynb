{
 "cells": [
  {
   "cell_type": "code",
   "execution_count": 1,
   "id": "297928b7-1b82-49dc-90df-8b9337d4dedf",
   "metadata": {},
   "outputs": [
    {
     "name": "stdout",
     "output_type": "stream",
     "text": [
      "Welcome to JupyROOT 6.26/04\n"
     ]
    }
   ],
   "source": [
    "import ROOT\n",
    "import ctypes"
   ]
  },
  {
   "cell_type": "code",
   "execution_count": 2,
   "id": "8d8843a0-5688-49f7-9a8c-04ef952a8f49",
   "metadata": {},
   "outputs": [
    {
     "name": "stdout",
     "output_type": "stream",
     "text": [
      "\n",
      "Applying BELLE2 style settings...\n"
     ]
    }
   ],
   "source": [
    "ROOT.gROOT.LoadMacro('/home/jykim/workspace/DRAW_and_FITTING/main/Belle2Style.C')\n",
    "ROOT.SetBelle2Style()"
   ]
  },
  {
   "cell_type": "code",
   "execution_count": null,
   "id": "b4357239-f7f0-4c22-8902-88b37bde983b",
   "metadata": {},
   "outputs": [],
   "source": []
  },
  {
   "cell_type": "code",
   "execution_count": 3,
   "id": "36b24cf0-9f71-4c21-a9df-9b664dc78e4b",
   "metadata": {},
   "outputs": [],
   "source": [
    "#file_list = ['/media/jykim/T7/storage/01_recon/antiKstar/D0_massveto_v2_half_1_optimzed_sigext_signalMC_recon_mdst_antiKstar_*.root']\n",
    "file_list = [\"/media/jykim/T7/storage/01_recon/massveto_calib_0614_calib_skim/topo/resultfile/result_kshort/standard.root\"]\n"
   ]
  },
  {
   "cell_type": "code",
   "execution_count": 4,
   "id": "f6f9b4a9-57fb-4d2b-9270-25715a12fedb",
   "metadata": {},
   "outputs": [],
   "source": [
    "mychain = ROOT.TChain(\"kshort\")\n",
    "# mychain = ROOT.TChain(\"phi_cc\")\n",
    "\n",
    "for i in file_list:\n",
    "    mychain.Add(i)"
   ]
  },
  {
   "cell_type": "code",
   "execution_count": 5,
   "id": "f0b3e222-4cb7-47a8-a0b4-d8fcfc09c55e",
   "metadata": {},
   "outputs": [
    {
     "name": "stdout",
     "output_type": "stream",
     "text": [
      "6713.0\n",
      "[#1] INFO:InputArguments -- The formula  D0_M>1.68 & D0_M<2.05 & dM_pi0_75MeV > 0.022 & iCascDcyBrP_Dst_0 !=1 & iCascDcyBrP_Dst_0 !=0  claims to use the variables (D0_M,D0_cosHel_0,dM_pi0_75MeV,iCascDcyBrP_Dst_0) but only (D0_M,dM_pi0_75MeV,iCascDcyBrP_Dst_0) seem to be in use.\n",
      "  inputs:          D0_M>1.68 & D0_M<2.05 & dM_pi0_75MeV > 0.022 & iCascDcyBrP_Dst_0 !=1 & iCascDcyBrP_Dst_0 !=0 \n",
      "[#1] INFO:DataHandling -- RooAbsReal::attachToTree(iCascDcyBrP_Dst_0) TTree Int_t branch iCascDcyBrP_Dst_0 will be converted to double precision.\n",
      "[#1] INFO:DataHandling -- RooTreeDataStore::loadValues(data) Skipping event #1 because iCascDcyBrP_Dst_0 cannot accommodate the value -1\n",
      "[#1] INFO:DataHandling -- RooTreeDataStore::loadValues(data) Skipping event #21 because iCascDcyBrP_Dst_0 cannot accommodate the value -1\n",
      "[#1] INFO:DataHandling -- RooTreeDataStore::loadValues(data) Skipping event #66 because iCascDcyBrP_Dst_0 cannot accommodate the value -1\n",
      "[#1] INFO:DataHandling -- RooTreeDataStore::loadValues(data) Skipping event #69 because iCascDcyBrP_Dst_0 cannot accommodate the value -1\n",
      "[#1] INFO:DataHandling -- RooTreeDataStore::loadValues(data) Skipping ...\n",
      "[#0] WARNING:DataHandling -- RooTreeDataStore::loadValues(data) Ignored 2640 out-of-range events\n"
     ]
    }
   ],
   "source": [
    "yrange = (-1, 1)\n",
    "\n",
    "x = ROOT.RooRealVar(\"D0_M\", \"M(D^{0}) [GeV/c^{2}]\", 1.68, 2.05, \"\")\n",
    "y = ROOT.RooRealVar(\"D0_cosHel_0\", \"cos#theta_{H}\", yrange[0], yrange[1], \"\")\n",
    "# z = ROOT.RooRealVar(\"Belle2Pi0Veto_75MeV\", \"M(D^{0}) [GeV/c^{2}]\",0,10, \"\")\n",
    "z = ROOT.RooRealVar(\"dM_pi0_75MeV\", \"M(D^{0}) [GeV/c^{2}]\",0,10, \"\")\n",
    "a = ROOT.RooRealVar(\"iCascDcyBrP_Dst_0\", \"\",0,10000, \"\")\n",
    "\n",
    "# a = iCascDcyBrP_Dst_0\n",
    "\n",
    "# data = ROOT.RooDataSet(\"data\",\"\", ROOT.RooArgSet(x,y,z), ROOT.RooFit.Import(mychain), Cut=\" D0_M>1.68 & D0_M<2.05 & Belle2Pi0Veto_75MeV > 0.022 \")\n",
    "before_data = ROOT.RooDataSet(\"data\",\"\", ROOT.RooArgSet(x,y,z, a), ROOT.RooFit.Import(mychain), Cut=\" D0_M>1.68 & D0_M<2.05 & dM_pi0_75MeV > 0.022 & iCascDcyBrP_Dst_0 !=1 & iCascDcyBrP_Dst_0 !=0 \")\n",
    "\n",
    "\n",
    "w_1 = ROOT.RooRealVar('w_1', 'w', 0,1)\n",
    "w_1.setVal(1)\n",
    "before_data.addColumn(w_1)\n",
    "data1 = ROOT.RooDataSet(before_data.GetName(), before_data.GetTitle(),before_data, before_data.get(), '' ,  'w_1')\n",
    "N_total = data1.sumEntries()\n",
    "print(N_total)"
   ]
  },
  {
   "cell_type": "code",
   "execution_count": null,
   "id": "75862649-8326-4d22-960e-d21bcca713c9",
   "metadata": {},
   "outputs": [],
   "source": []
  },
  {
   "cell_type": "code",
   "execution_count": 6,
   "id": "ebe35b95-a4ec-4dd8-9d5d-43c7cd24ac6e",
   "metadata": {},
   "outputs": [],
   "source": [
    "#file_list = ['/media/jykim/T7/storage/01_recon/antiKstar/D0_massveto_v2_half_1_optimzed_sigext_signalMC_recon_mdst_antiKstar_*.root']\n",
    "file_list = [\"/media/jykim/T7/storage/01_recon/massveto_calib_0614_calib_skim/topo/resultfile/result_kshort_cc/standard.root\"]\n"
   ]
  },
  {
   "cell_type": "code",
   "execution_count": 7,
   "id": "80ba808f-e2a5-4ad6-b3a5-41b4e482d8b4",
   "metadata": {},
   "outputs": [],
   "source": [
    "mychain2 = ROOT.TChain(\"kshort_cc\")\n",
    "# mychain = ROOT.TChain(\"phi_cc\")\n",
    "\n",
    "for i in file_list:\n",
    "    mychain2.Add(i)"
   ]
  },
  {
   "cell_type": "code",
   "execution_count": 8,
   "id": "e474cf77-fd43-4744-be8c-88e2631241f4",
   "metadata": {},
   "outputs": [
    {
     "name": "stdout",
     "output_type": "stream",
     "text": [
      "6490.0\n",
      "[#1] INFO:InputArguments -- The formula  D0_M>1.68 & D0_M<2.05 & dM_pi0_75MeV > 0.022 & iCascDcyBrP_Dstm_0 !=1 & iCascDcyBrP_Dstm_0 !=0   claims to use the variables (D0_M,D0_cosHel_0,dM_pi0_75MeV,iCascDcyBrP_Dstm_0) but only (D0_M,dM_pi0_75MeV,iCascDcyBrP_Dstm_0) seem to be in use.\n",
      "  inputs:          D0_M>1.68 & D0_M<2.05 & dM_pi0_75MeV > 0.022 & iCascDcyBrP_Dstm_0 !=1 & iCascDcyBrP_Dstm_0 !=0  \n",
      "[#1] INFO:DataHandling -- RooAbsReal::attachToTree(iCascDcyBrP_Dstm_0) TTree Int_t branch iCascDcyBrP_Dstm_0 will be converted to double precision.\n",
      "[#1] INFO:DataHandling -- RooTreeDataStore::loadValues(data2) Skipping event #32 because iCascDcyBrP_Dstm_0 cannot accommodate the value -1\n",
      "[#1] INFO:DataHandling -- RooTreeDataStore::loadValues(data2) Skipping event #122 because iCascDcyBrP_Dstm_0 cannot accommodate the value -1\n",
      "[#1] INFO:DataHandling -- RooTreeDataStore::loadValues(data2) Skipping event #126 because iCascDcyBrP_Dstm_0 cannot accommodate the value -1\n",
      "[#1] INFO:DataHandling -- RooTreeDataStore::loadValues(data2) Skipping event #153 because iCascDcyBrP_Dstm_0 cannot accommodate the value -1\n",
      "[#1] INFO:DataHandling -- RooTreeDataStore::loadValues(data2) Skipping ...\n",
      "[#0] WARNING:DataHandling -- RooTreeDataStore::loadValues(data2) Ignored 2527 out-of-range events\n"
     ]
    }
   ],
   "source": [
    "\n",
    "# a = iCascDcyBrP_Dst_0\n",
    "b = ROOT.RooRealVar(\"iCascDcyBrP_Dstm_0\", \"\",0,10000, \"\")\n",
    "\n",
    "# data = ROOT.RooDataSet(\"data\",\"\", ROOT.RooArgSet(x,y,z), ROOT.RooFit.Import(mychain), Cut=\" D0_M>1.68 & D0_M<2.05 & Belle2Pi0Veto_75MeV > 0.022 \")\n",
    "before_data2 = ROOT.RooDataSet(\"data2\",\"\", ROOT.RooArgSet(x,y,z, b), ROOT.RooFit.Import(mychain2), Cut=\" D0_M>1.68 & D0_M<2.05 & dM_pi0_75MeV > 0.022 & iCascDcyBrP_Dstm_0 !=1 & iCascDcyBrP_Dstm_0 !=0  \")\n",
    "\n",
    "\n",
    "# w_1 = ROOT.RooRealVar('w_1', 'w', 0,1)\n",
    "# w_1.setVal(1) \n",
    "before_data2.addColumn(w_1)\n",
    "data2 = ROOT.RooDataSet(before_data2.GetName(), before_data2.GetTitle(),before_data2, before_data2.get(), '' ,  'w_1')\n",
    "N_total = data2.sumEntries()\n",
    "print(N_total)"
   ]
  },
  {
   "cell_type": "code",
   "execution_count": 9,
   "id": "ddd5e8cd-aafe-4761-a526-073554920e37",
   "metadata": {},
   "outputs": [],
   "source": [
    "data1.append(data2)"
   ]
  },
  {
   "cell_type": "code",
   "execution_count": 10,
   "id": "43ddf7ef-e1bf-4b99-ad6d-87569928c489",
   "metadata": {},
   "outputs": [
    {
     "data": {
      "text/plain": [
       "<cppyy.gbl.RooDataSet object at 0x5558150c6960>"
      ]
     },
     "execution_count": 10,
     "metadata": {},
     "output_type": "execute_result"
    }
   ],
   "source": [
    "data1"
   ]
  },
  {
   "cell_type": "code",
   "execution_count": 11,
   "id": "4b0c8e02-f608-4c5d-8cce-c5151cb22cac",
   "metadata": {},
   "outputs": [
    {
     "data": {
      "text/plain": [
       "13203.0"
      ]
     },
     "execution_count": 11,
     "metadata": {},
     "output_type": "execute_result"
    }
   ],
   "source": [
    "data1.sumEntries()"
   ]
  },
  {
   "cell_type": "code",
   "execution_count": null,
   "id": "aa035661-aa68-4851-a6b1-d5b8e7736ae6",
   "metadata": {},
   "outputs": [],
   "source": []
  },
  {
   "cell_type": "markdown",
   "id": "0f148649-602b-4713-9034-2d67ad7d3019",
   "metadata": {},
   "source": [
    "# D0_M"
   ]
  },
  {
   "cell_type": "code",
   "execution_count": 12,
   "id": "bdd84a13-a179-4af3-a557-dd36e996bb7b",
   "metadata": {},
   "outputs": [],
   "source": [
    "fitting_region = (1.68, 2.05)\n",
    "# x = ROOT.RooRealVar(\"M(D^{0})\", \"M(D^{0}) [GeV/c^{2}]\", fitting_region[0], fitting_region[1], \"\")\n",
    "# # x.setBins(50)\n",
    "# l = ROOT.RooArgList(x)\n",
    "# # signalhist = ROOT.RooDataHist(\"sighist\", \"sighist\", l, D0_M_TH1F, scale_factor)\n",
    "# signalhist = ROOT.RooDataHist(\"sighist\", \"sighist\", l, D0_M_TH1F_2, 1)\n"
   ]
  },
  {
   "cell_type": "code",
   "execution_count": 14,
   "id": "da51edfe-3ee8-431e-a6f0-5c432ada199d",
   "metadata": {},
   "outputs": [],
   "source": [
    "\n",
    "mean = ROOT.RooRealVar(\"mean\", \"mean of gaussians\", 1.7,1.67, 1.8)\n",
    "sigma1 = ROOT.RooRealVar(\"sigma1\", \"width of gaussians\", 0.01,0,0.04)\n",
    "sigma2 = ROOT.RooRealVar(\"sigma2\", \"width of gaussians\", 0.02,0,0.05)\n",
    "alpha = ROOT.RooRealVar(\"alpha\", \"width of gaussians\", 0.5,0,2)\n",
    "n_CB = ROOT.RooRealVar(\"alpha\", \"width of gaussians\", 0.5,0,2)\n",
    " \n",
    "Novo_peak = ROOT.RooRealVar(\"Novo_peak\", \"Novo peak\", 1.7,1.67,1.8)    \n",
    "Novo_width = ROOT.RooRealVar(\"Novo_widh\", \"Novo peak\", 0.05,0,0.5)    \n",
    "Novo_tail = ROOT.RooRealVar(\"Novo_tail\", \"Novo peak\", 0.5,0,10)    \n",
    "\n",
    "\n",
    "sigma3 = ROOT.RooRealVar(\"sigma3\", \"width of gaussians\", 0.02,0,0.5)\n",
    "alpha2 = ROOT.RooRealVar(\"alph2\", \"width of gaussians\", 0.5,0,2)\n",
    "n_CB2 = ROOT.RooRealVar(\"n_CB2\", \"width of gaussians\", 5,0,10)"
   ]
  },
  {
   "cell_type": "code",
   "execution_count": 15,
   "id": "47ca096e-fbe2-4e0a-a56e-55d2440d60c3",
   "metadata": {},
   "outputs": [],
   "source": [
    "sigmaL = ROOT.RooRealVar(\"sigmaL\", \"width of gaussians\", 0.01,0,0.04)\n",
    "sigmaR = ROOT.RooRealVar(\"sigmaR\", \"width of gaussians\", 0.01,0,0.04)\n",
    "alphaL = ROOT.RooRealVar(\"alphaL\", \"width of gaussians\", 0.5,0,2)\n",
    "nL     = ROOT.RooRealVar(\"nL\", \"width of gaussians\", 0.5,0,4)\n",
    "alphaR = ROOT.RooRealVar(\"alphaR\", \"width of gaussians\", 0.5,0,3)\n",
    "nR     = ROOT.RooRealVar(\"nR\", \"width of gaussians\", 0.5,0,2)"
   ]
  },
  {
   "cell_type": "code",
   "execution_count": 17,
   "id": "2150c844-1c35-4b1b-9bac-c4a725a72f4b",
   "metadata": {},
   "outputs": [
    {
     "name": "stdout",
     "output_type": "stream",
     "text": [
      "[#0] WARNING:InputArguments -- The parameter 'sigma1' with range [0, 0.04] of the RooGaussian 'sig1' exceeds the safe range of (0, inf). Advise to limit its range.\n",
      "[#0] WARNING:InputArguments -- The parameter 'sigmaL' with range [0, 0.04] of the RooCrystalBall 'model' exceeds the safe range of (0, inf). Advise to limit its range.\n",
      "[#0] WARNING:InputArguments -- The parameter 'sigmaR' with range [0, 0.04] of the RooCrystalBall 'model' exceeds the safe range of (0, inf). Advise to limit its range.\n",
      "[#0] WARNING:InputArguments -- The parameter 'alphaL' with range [0, 2] of the RooCrystalBall 'model' exceeds the safe range of (0, inf). Advise to limit its range.\n",
      "[#0] WARNING:InputArguments -- The parameter 'alphaR' with range [0, 3] of the RooCrystalBall 'model' exceeds the safe range of (0, inf). Advise to limit its range.\n",
      "[#0] WARNING:InputArguments -- The parameter 'nL' with range [0, 4] of the RooCrystalBall 'model' exceeds the safe range of (0, inf). Advise to limit its range.\n",
      "[#0] WARNING:InputArguments -- The parameter 'nR' with range [0, 2] of the RooCrystalBall 'model' exceeds the safe range of (0, inf). Advise to limit its range.\n",
      "[#1] INFO:Minimization -- RooAbsMinimizerFcn::setOptimizeConst: activating const optimization\n",
      "[#1] INFO:Fitting -- RooAbsOptTestStatistic::ctor(nll_model_data) constructing test statistic for sub-range named fit\n",
      "[#1] INFO:Fitting -- RooAbsOptTestStatistic::ctor(nll_model_data) fixing interpretation of coefficients of any RooAddPdf to full domain of observables \n",
      "[#1] INFO:Eval -- RooAbsTestStatistic::initMPMode: started 12 remote server process.\n",
      " **********\n",
      " **   10 **SET PRINT           1\n",
      " **********\n",
      " **********\n",
      " **   11 **SET NOGRAD\n",
      " **********\n",
      " PARAMETER DEFINITIONS:\n",
      "    NO.   NAME         VALUE      STEP SIZE      LIMITS\n",
      "     1 alphaL       6.01442e-05  3.30378e-01    0.00000e+00  2.00000e+00\n",
      " MINUIT WARNING IN PARAMETR\n",
      " ============== VARIABLE1 BROUGHT BACK INSIDE LIMITS.\n",
      "     2 alphaR       2.86610e-01  2.97172e-04    0.00000e+00  3.00000e+00\n",
      "     3 mean         1.69977e+00  2.01017e-04    1.67000e+00  1.80000e+00\n",
      "     4 nL           1.93725e-05  3.98613e+00    0.00000e+00  4.00000e+00\n",
      " MINUIT WARNING IN PARAMETR\n",
      " ============== VARIABLE4 BROUGHT BACK INSIDE LIMITS.\n",
      "     5 nR           1.99999e+00  2.35196e-04    0.00000e+00  2.00000e+00\n",
      " MINUIT WARNING IN PARAMETR\n",
      " ============== VARIABLE5 BROUGHT BACK INSIDE LIMITS.\n",
      "     6 sigmaL       7.04692e-03  2.21859e-02    0.00000e+00  4.00000e-02\n",
      " MINUIT WARNING IN PARAMETR\n",
      " ============== VARIABLE6 BROUGHT BACK INSIDE LIMITS.\n",
      "     7 sigmaR       3.70845e-02  3.97226e-05    0.00000e+00  4.00000e-02\n",
      " **********\n",
      " **   12 **SET ERR         0.5\n",
      " **********\n",
      " **********\n",
      " **   13 **SET PRINT           1\n",
      " **********\n",
      " **********\n",
      " **   14 **SET STR           1\n",
      " **********\n",
      " NOW USING STRATEGY  1: TRY TO BALANCE SPEED AGAINST RELIABILITY\n",
      " **********\n",
      " **   15 **MIGRAD        3500           1\n",
      " **********\n",
      " FIRST CALL TO USER FUNCTION AT NEW START POINT, WITH IFLAG=4.\n",
      " START MIGRAD MINIMIZATION.  STRATEGY  1.  CONVERGENCE WHEN EDM .LT. 1.00e-03\n",
      " FCN=-14998.4 FROM MIGRAD    STATUS=INITIATE       28 CALLS          29 TOTAL\n",
      "                     EDM= unknown      STRATEGY= 1      NO ERROR MATRIX       \n",
      "  EXT PARAMETER               CURRENT GUESS       STEP         FIRST   \n",
      "  NO.   NAME      VALUE            ERROR          SIZE      DERIVATIVE \n",
      "   1  alphaL       6.01442e-05   3.30378e-01   4.17612e-01   1.50064e-03\n",
      "   2  alphaR       2.86610e-01   2.97172e-04   3.36982e-04   3.12992e+00\n",
      "   3  mean         1.69977e+00   2.01017e-04   3.68000e-03  -1.36967e-02\n",
      "   4  nL           1.93725e-05   3.98613e+00   1.51094e+00   8.73281e-07\n",
      "   5  nR           1.99999e+00   2.35196e-04   1.00087e-02  -1.55905e-02\n",
      "   6  sigmaL       7.04692e-03   2.21859e-02   1.02434e+00  -6.43769e-04\n",
      "   7  sigmaR       3.70845e-02   3.97226e-05   3.82028e-03  -3.43779e-01\n",
      "                               ERR DEF= 0.5\n",
      " MIGRAD MINIMIZATION HAS CONVERGED.\n",
      " MIGRAD WILL VERIFY CONVERGENCE AND ERROR MATRIX.\n",
      " MINUIT WARNING IN HESSE   \n",
      " ============== Negative diagonal element 4 in Error Matrix\n",
      " MINUIT WARNING IN HESSE   \n",
      " ============== 1 added to diagonal of error matrix\n",
      " EIGENVALUES OF SECOND-DERIVATIVE MATRIX:\n",
      "        -7.7997e-01  1.0971e-02  9.7517e-01  1.0000e+00  1.0145e+00  1.9991e+00  2.7803e+00\n",
      " MINUIT WARNING IN HESSE   \n",
      " ============== MATRIX FORCED POS-DEF BY ADDING 0.782749 TO DIAGONAL.\n",
      " FCN=-14998.4 FROM MIGRAD    STATUS=CONVERGED     122 CALLS         123 TOTAL\n",
      "                     EDM=5.59822e-05    STRATEGY= 1      ERR MATRIX NOT POS-DEF\n",
      "  EXT PARAMETER                APPROXIMATE        STEP         FIRST   \n",
      "  NO.   NAME      VALUE            ERROR          SIZE      DERIVATIVE \n",
      "   1  alphaL       5.95325e-08   1.07585e+00   1.70720e-01** at limit **\n",
      "   2  alphaR       2.86585e-01   5.86932e-03   6.23230e-04   2.42604e-01\n",
      "   3  mean         1.69976e+00   3.27590e-03   6.77420e-03  -4.21510e-02\n",
      "   4  nL           1.92743e-05   2.33546e+00   5.00000e-01   4.84761e-08\n",
      "   5  nR           2.00000e+00   4.93681e-02   3.88462e-02   6.73126e-03\n",
      "   6  sigmaL       2.33908e-02   1.34207e-02   5.00000e-01  -4.97357e-07\n",
      "   7  sigmaR       3.71002e-02   7.85845e-04   7.10773e-03  -8.98195e-02\n",
      "                               ERR DEF= 0.5\n",
      " EXTERNAL ERROR MATRIX.    NDIM=  25    NPAR=  7    ERR DEF=0.5\n",
      "  1.717e-05  2.146e-06 -2.366e-07 -4.873e-04  1.618e-10 -5.535e-07 -3.805e-07 \n",
      "  2.146e-06  3.445e-05 -4.895e-07 -6.091e-05  5.844e-08 -6.919e-08  2.478e-06 \n",
      " -2.366e-07 -4.895e-07  1.074e-05  6.715e-06  1.307e-08  7.641e-09 -1.208e-07 \n",
      " -4.873e-04 -6.091e-05  6.715e-06  1.387e-02 -4.591e-09  1.571e-05  1.080e-05 \n",
      "  1.618e-10  5.844e-08  1.307e-08 -4.591e-09  2.115e-07 -5.198e-12 -7.234e-09 \n",
      " -5.535e-07 -6.919e-08  7.641e-09  1.571e-05 -5.198e-12  2.179e-04  1.227e-08 \n",
      " -3.805e-07  2.478e-06 -1.208e-07  1.080e-05 -7.234e-09  1.227e-08  6.187e-07 \n",
      "ERR MATRIX NOT POS-DEF\n",
      " PARAMETER  CORRELATION COEFFICIENTS  \n",
      "       NO.  GLOBAL      1      2      3      4      5      6      7\n",
      "        1  0.99844   1.000  0.088 -0.017 -0.998  0.000 -0.009 -0.117\n",
      "        2  0.55890   0.088  1.000 -0.025 -0.088  0.022 -0.001  0.537\n",
      "        3  0.05288  -0.017 -0.025  1.000  0.017  0.009  0.000 -0.047\n",
      "        4  0.99844  -0.998 -0.088  0.017  1.000 -0.000  0.009  0.117\n",
      "        5  0.04492   0.000  0.022  0.009 -0.000  1.000 -0.000 -0.020\n",
      "        6  0.00905  -0.009 -0.001  0.000  0.009 -0.000  1.000  0.001\n",
      "        7  0.56357  -0.117  0.537 -0.047  0.117 -0.020  0.001  1.000\n",
      " ERR MATRIX NOT POS-DEF\n",
      " **********\n",
      " **   16 **HESSE        3500\n",
      " **********\n",
      " MINUIT WARNING IN HESSE   \n",
      " ============== Negative diagonal element 4 in Error Matrix\n",
      " MINUIT WARNING IN HESSE   \n",
      " ============== 1 added to diagonal of error matrix\n",
      " EIGENVALUES OF SECOND-DERIVATIVE MATRIX:\n",
      "        -5.6670e+00  3.9574e-03  9.9438e-01  1.0000e+00  1.0042e+00  1.9960e+00  7.6685e+00\n",
      " MINUIT WARNING IN HESSE   \n",
      " ============== MATRIX FORCED POS-DEF BY ADDING 5.674669 TO DIAGONAL.\n",
      " FCN=-14998.4 FROM HESSE     STATUS=NOT POSDEF     62 CALLS         185 TOTAL\n",
      "                     EDM=7.48006e-05    STRATEGY= 1      ERR MATRIX NOT POS-DEF\n",
      "  EXT PARAMETER                APPROXIMATE     INTERNAL      INTERNAL  \n",
      "  NO.   NAME      VALUE            ERROR       STEP SIZE       VALUE   \n",
      "   1  alphaL       5.95325e-08   1.11220e+00   5.00000e-01  -1.57045e+00\n",
      "                                 WARNING -   - ABOVE PARAMETER IS AT LIMIT.\n",
      "   2  alphaR       2.86585e-01   2.76413e-03   1.24646e-04  -9.42353e-01\n",
      "   3  mean         1.69976e+00   2.07497e-03   2.70968e-04  -5.72985e-01\n",
      "   4  nL           1.92743e-05   3.20839e+00   5.00000e-01  -1.56641e+00\n",
      "   5  nR           2.00000e+00   1.33053e-02   7.76925e-03   1.57225e+00\n",
      "   6  sigmaL       2.33908e-02   7.46366e-03   5.00000e-01   1.70361e-01\n",
      "   7  sigmaR       3.71002e-02   3.75668e-04   2.84309e-04   1.02557e+00\n",
      "                               ERR DEF= 0.5\n",
      " EXTERNAL ERROR MATRIX.    NDIM=  25    NPAR=  7    ERR DEF=0.5\n",
      "  3.734e-06  2.090e-06 -2.298e-06 -1.367e-04 -2.061e-09 -1.204e-06 -3.106e-07 \n",
      "  2.090e-06  7.640e-06 -1.290e-06 -7.654e-05  2.555e-10 -6.738e-07 -4.523e-08 \n",
      " -2.298e-06 -1.290e-06  4.308e-06  8.416e-05  1.492e-09  7.409e-07  1.849e-07 \n",
      " -1.367e-04 -7.654e-05  8.416e-05  5.019e-03  7.547e-08  4.408e-05  1.137e-05 \n",
      " -2.061e-09  2.555e-10  1.492e-09  7.547e-08  5.665e-08  6.644e-10 -1.237e-11 \n",
      " -1.204e-06 -6.738e-07  7.409e-07  4.408e-05  6.644e-10  5.859e-05  1.001e-07 \n",
      " -3.106e-07 -4.523e-08  1.849e-07  1.137e-05 -1.237e-11  1.001e-07  1.412e-07 \n",
      "ERR MATRIX NOT POS-DEF\n",
      " PARAMETER  CORRELATION COEFFICIENTS  \n",
      "       NO.  GLOBAL      1      2      3      4      5      6      7\n",
      "        1  0.99885   1.000  0.391 -0.573 -0.999 -0.004 -0.081 -0.428\n",
      "        2  0.41461   0.391  1.000 -0.225 -0.391  0.000 -0.032 -0.044\n",
      "        3  0.57313  -0.573 -0.225  1.000  0.572  0.003  0.047  0.237\n",
      "        4  0.99885  -0.999 -0.391  0.572  1.000  0.004  0.081  0.427\n",
      "        5  0.00573  -0.004  0.000  0.003  0.004  1.000  0.000 -0.000\n",
      "        6  0.08138  -0.081 -0.032  0.047  0.081  0.000  1.000  0.035\n",
      "        7  0.44855  -0.428 -0.044  0.237  0.427 -0.000  0.035  1.000\n",
      " ERR MATRIX NOT POS-DEF\n",
      " **********\n",
      " **   17 **SET ERR         0.5\n",
      " **********\n",
      " **********\n",
      " **   18 **SET PRINT           1\n",
      " **********\n",
      " **********\n",
      " **   19 **HESSE        3500\n",
      " **********\n",
      " MINUIT WARNING IN HESSE   \n",
      " ============== Negative diagonal element 4 in Error Matrix\n",
      " MINUIT WARNING IN HESSE   \n",
      " ============== 1 added to diagonal of error matrix\n",
      " EIGENVALUES OF SECOND-DERIVATIVE MATRIX:\n",
      "        -5.6668e+00  3.8638e-03  9.9760e-01  1.0000e+00  1.0017e+00  1.9957e+00  7.6679e+00\n",
      " MINUIT WARNING IN HESSE   \n",
      " ============== MATRIX FORCED POS-DEF BY ADDING 5.674479 TO DIAGONAL.\n",
      " FCN=-14998.4 FROM HESSE     STATUS=NOT POSDEF     62 CALLS         247 TOTAL\n",
      "                     EDM=7.45223e-05    STRATEGY= 1      ERR MATRIX NOT POS-DEF\n",
      "  EXT PARAMETER                APPROXIMATE     INTERNAL      INTERNAL  \n",
      "  NO.   NAME      VALUE            ERROR       STEP SIZE       VALUE   \n",
      "   1  alphaL       5.95325e-08   1.11216e+00   5.00000e-01  -1.57045e+00\n",
      "                                 WARNING -   - ABOVE PARAMETER IS AT LIMIT.\n",
      "   2  alphaR       2.86585e-01   2.76410e-03   2.49292e-05  -9.42353e-01\n",
      "   3  mean         1.69976e+00   2.06203e-03   5.41936e-05  -5.72985e-01\n",
      "   4  nL           1.92743e-05   3.20899e+00   5.00000e-01  -1.56641e+00\n",
      "   5  nR           2.00000e+00   1.33080e-02   1.55385e-03   1.57225e+00\n",
      "   6  sigmaL       2.33908e-02   7.46376e-03   5.00000e-01   1.70361e-01\n",
      "   7  sigmaR       3.71002e-02   3.75730e-04   5.68619e-05   1.02557e+00\n",
      "                               ERR DEF= 0.5\n",
      " EXTERNAL ERROR MATRIX.    NDIM=  25    NPAR=  7    ERR DEF=0.5\n",
      "  3.735e-06  2.090e-06 -2.244e-06 -1.368e-04 -8.605e-10 -1.204e-06 -3.109e-07 \n",
      "  2.090e-06  7.640e-06 -1.259e-06 -7.653e-05  1.077e-10 -6.737e-07 -4.532e-08 \n",
      " -2.244e-06 -1.259e-06  4.254e-06  8.219e-05  6.111e-10  7.235e-07  1.806e-07 \n",
      " -1.368e-04 -7.653e-05  8.219e-05  5.020e-03  3.151e-08  4.409e-05  1.138e-05 \n",
      " -8.605e-10  1.077e-10  6.111e-10  3.151e-08  5.666e-08  2.774e-10 -5.290e-12 \n",
      " -1.204e-06 -6.737e-07  7.235e-07  4.409e-05  2.774e-10  5.859e-05  1.002e-07 \n",
      " -3.109e-07 -4.532e-08  1.806e-07  1.138e-05 -5.290e-12  1.002e-07  1.412e-07 \n",
      "ERR MATRIX NOT POS-DEF\n",
      " PARAMETER  CORRELATION COEFFICIENTS  \n",
      "       NO.  GLOBAL      1      2      3      4      5      6      7\n",
      "        1  0.99885   1.000  0.391 -0.563 -0.999 -0.002 -0.081 -0.428\n",
      "        2  0.41455   0.391  1.000 -0.221 -0.391  0.000 -0.032 -0.044\n",
      "        3  0.56315  -0.563 -0.221  1.000  0.562  0.001  0.046  0.233\n",
      "        4  0.99885  -0.999 -0.391  0.562  1.000  0.002  0.081  0.428\n",
      "        5  0.00239  -0.002  0.000  0.001  0.002  1.000  0.000 -0.000\n",
      "        6  0.08139  -0.081 -0.032  0.046  0.081  0.000  1.000  0.035\n",
      "        7  0.44883  -0.428 -0.044  0.233  0.428 -0.000  0.035  1.000\n",
      " ERR MATRIX NOT POS-DEF\n",
      "[#1] INFO:Minimization -- RooAbsMinimizerFcn::setOptimizeConst: deactivating const optimization\n",
      "\n",
      "  RooFitResult: minimized FCN value: -14998.4, estimated distance to minimum: 7.45223e-05\n",
      "                covariance matrix quality: Full matrix, but forced positive-definite\n",
      "                Status : MINIMIZE=0 HESSE=0 \n",
      "\n",
      "    Floating Parameter    FinalValue +/-  Error   \n",
      "  --------------------  --------------------------\n",
      "                alphaL    5.9532e-08 +/-  1.11e+00\n",
      "                alphaR    2.8658e-01 +/-  2.76e-03\n",
      "                  mean    1.6998e+00 +/-  2.06e-03\n",
      "                    nL    1.9274e-05 +/-  3.21e+00\n",
      "                    nR    2.0000e+00 +/-  1.33e-02\n",
      "                sigmaL    2.3391e-02 +/-  7.46e-03\n",
      "                sigmaR    3.7100e-02 +/-  3.76e-04\n",
      "\n",
      "[#1] INFO:Plotting -- RooAbsPdf::plotOn(model) p.d.f was fitted in a subrange and no explicit Range() and NormRange() was specified. Plotting / normalising in fit range. To override, do one of the following\n",
      "\t- Clear the automatic fit range attribute: <pdf>.setStringAttribute(\"fitrange\", nullptr);\n",
      "\t- Explicitly specify the plotting range: Range(\"<rangeName>\").\n",
      "\t- Explicitly specify where to compute the normalisation: NormRange(\"<rangeName>\").\n",
      "\tThe default (full) range can be denoted with Range(\"\") / NormRange(\"\").\n",
      "[#1] INFO:Plotting -- RooAbsPdf::plotOn(model) only plotting range 'fit_nll_model_data'\n",
      "[#1] INFO:Plotting -- RooAbsPdf::plotOn(model) p.d.f. curve is normalized using explicit choice of ranges 'fit_nll_model_data'\n",
      "[#0] ERROR:Plotting -- RooAbsPdf::plotOn(model) ERROR: component selection set (sig1) does not match any components of p.d.f.\n",
      "[#1] INFO:Plotting -- RooAbsPdf::plotOn(model) p.d.f was fitted in a subrange and no explicit Range() and NormRange() was specified. Plotting / normalising in fit range. To override, do one of the following\n",
      "\t- Clear the automatic fit range attribute: <pdf>.setStringAttribute(\"fitrange\", nullptr);\n",
      "\t- Explicitly specify the plotting range: Range(\"<rangeName>\").\n",
      "\t- Explicitly specify where to compute the normalisation: NormRange(\"<rangeName>\").\n",
      "\tThe default (full) range can be denoted with Range(\"\") / NormRange(\"\").\n",
      "[#1] INFO:Plotting -- RooAbsPdf::plotOn(model) only plotting range 'fit_nll_model_data'\n",
      "[#1] INFO:Plotting -- RooAbsPdf::plotOn(model) p.d.f. curve is normalized using explicit choice of ranges 'fit_nll_model_data'\n",
      "[#0] ERROR:Plotting -- RooAbsPdf::plotOn(model) ERROR: component selection set (sig2) does not match any components of p.d.f.\n",
      "[#1] INFO:Plotting -- RooAbsPdf::plotOn(model) p.d.f was fitted in a subrange and no explicit Range() and NormRange() was specified. Plotting / normalising in fit range. To override, do one of the following\n",
      "\t- Clear the automatic fit range attribute: <pdf>.setStringAttribute(\"fitrange\", nullptr);\n",
      "\t- Explicitly specify the plotting range: Range(\"<rangeName>\").\n",
      "\t- Explicitly specify where to compute the normalisation: NormRange(\"<rangeName>\").\n",
      "\tThe default (full) range can be denoted with Range(\"\") / NormRange(\"\").\n",
      "[#1] INFO:Plotting -- RooAbsPdf::plotOn(model) only plotting range 'fit_nll_model_data'\n",
      "[#1] INFO:Plotting -- RooAbsPdf::plotOn(model) p.d.f. curve is normalized using explicit choice of ranges 'fit_nll_model_data'\n"
     ]
    },
    {
     "name": "stderr",
     "output_type": "stream",
     "text": [
      "Warning in <TCanvas::Constructor>: Deleting canvas with same name: Canvas\n",
      "Info in <TCanvas::Print>: png file /media/jykim/T7/saved_plots/fitting/results/kshortgamma/kshort_massveto_1ab_remain.png has been created\n"
     ]
    },
    {
     "data": {
      "image/png": "[encoded data removed]",
      "text/plain": [
       "<IPython.core.display.Image object>"
      ]
     },
     "metadata": {},
     "output_type": "display_data"
    }
   ],
   "source": [
    "canv = ROOT.TCanvas(\"Canvas\", \"Canvas\", 700, 640)\n",
    "\n",
    "xlow = ctypes.c_double()\n",
    "ylow = ctypes.c_double()\n",
    "xup = ctypes.c_double()\n",
    "yup = ctypes.c_double()\n",
    "\n",
    "canv.GetPad(0).GetPadPar(xlow, ylow, xup, yup)\n",
    "canv.Divide(1,2)\n",
    "\n",
    "xlow = xlow.value\n",
    "ylow = ylow.value\n",
    "xup = xup.value\n",
    "yup = yup.value\n",
    "\n",
    "upPad = canv.GetPad(1)\n",
    "upPad.SetPad(xlow, ylow+0.25*(yup-ylow),xup,yup)\n",
    "\n",
    "dwPad = canv.GetPad(2)\n",
    "dwPad.SetPad(xlow, ylow,xup,ylow+0.25*(yup-ylow))\n",
    "\n",
    "    \n",
    "sig1 = ROOT.RooGaussian(\"sig1\", \"Signal component 1\", x, mean, sigma1)\n",
    "sig2 = ROOT.RooCBShape(\"sig2\", \"Signal component 2\", x, mean, sigma2, alpha, n_CB)\n",
    "# # sig1 = ROOT.RooNovosibirsk(\"sig1\", \"Signal component 3\", x, mean, Novo_width, Novo_tail)\n",
    "# # sig1 = ROOT.RooNovosibirsk(\"sig1\", \"Signal component 3\", x, Novo_peak, Novo_width, Novo_tail)\n",
    "# # sig1 = ROOT.RooCBShape(\"sig1\", \"Signal component 2\", x, mean, sigma3, alpha2, n_CB2)\n",
    "\n",
    "\n",
    "sig1frac = ROOT.RooRealVar(\"sig1frac\", \"fraction of component 1 in signal\", 0.5, 0.0, 1.0)\n",
    "\n",
    "\n",
    "\n",
    "# model = ROOT.RooCBShape(\"model\", \"Signal component 2\", x, mean, sigma2, alpha, n_CB)\n",
    "\n",
    "#model = ROOT.RooAddPdf(\"model\", \"model\", [sig1, sig2], sig1frac)\n",
    "\n",
    "model = ROOT.RooCrystalBall(\"model\", \"Signal component 2\", x, mean, sigmaL, sigmaR, alphaL, nL, alphaR, nR)\n",
    "\n",
    "# model = ROOT.RooCBShape(\"model\", \"Signal component 2\", x, mean, sigma2, alpha, n_CB)\n",
    "\n",
    "\n",
    "# # # Create the Crystal Ball function\n",
    "# cb = ROOT.RooCBShape(\"cb\", \"Crystal Ball\", x, mean, sigma2, alpha, n_CB)\n",
    "\n",
    "# # Create the parameters for the Gaussian function\n",
    "# mean_gauss = ROOT.RooRealVar(\"mean_gauss\", \"Mean of Gaussian\", 0, 0, 1)\n",
    "# sigma_gauss = ROOT.RooRealVar(\"sigma_gauss\", \"Width of Gaussian\", 0.01, 0.001, 0.5)\n",
    "\n",
    "# # Create the Gaussian function\n",
    "# gauss = ROOT.RooGaussian(\"gauss\", \"Gaussian\", x, mean_gauss, sigma_gauss)\n",
    "\n",
    "# # Create the convolution PDF using RooFFTConvPdf\n",
    "# model = ROOT.RooFFTConvPdf(\"model\", \"Convolution PDF\", x, cb, gauss)\n",
    "\n",
    "\n",
    "\n",
    "# r = model.fitTo(signalhist,NumCPU=12,Range=fitting_region,PrintLevel=-1, Save=1)\n",
    "#r = model.fitTo(signalhist,NumCPU=12,Range=fitting_region,PrintLevel=-1, Save=1)\n",
    "r = model.fitTo(data1,NumCPU=12,Range=fitting_region,PrintLevel=1, Save=1)\n",
    "\n",
    "r.Print()\n",
    "canv.cd(1) \n",
    "# frame = x.frame(Title=\"D^{0} #rightarrow #bar{K}^{*0} #pi^{0}\")\n",
    "frame = x.frame(Title=\" \")\n",
    "\n",
    "#signalhist.plotOn(frame,Name = \"data1\", XErrorSize=0)\n",
    "data1.plotOn(frame,Name = \"data1\", XErrorSize=0)\n",
    "\n",
    "model.plotOn(frame, Name=\"gauss1\", Components=sig1, LineStyle=ROOT.kDashed, LineColor=593)\n",
    "model.plotOn(frame, Name=\"CB1\", Components=sig2, LineStyle=ROOT.kDashed, LineColor=593)\n",
    "# sig.plotOn(frame, Name=\"Novo\", Components=sig3, LineStyle=ROOT.kDashed, LineColor=593)\n",
    "\n",
    "model.plotOn(frame, Name=\"fitting\",)\n",
    "\n",
    "\n",
    "# sig.paramOn(frame)\n",
    "frame.GetXaxis().CenterTitle(True)\n",
    "frame.Draw(\"PE\")\n",
    "\n",
    "\n",
    "leg1 = ROOT.TLegend(0.70, 0.75, 0.85, 0.9)\n",
    "# leg1.SetBorderSize(0)\n",
    "leg1.SetFillColor(ROOT.kWhite)\n",
    "# leg1.SetHeader(\"The Legend title\",\"C\")\n",
    "leg1.AddEntry(\"data1\", \"MC\", \"PE\")\n",
    "leg1.AddEntry(\"fitting\", \"fit\", \"l\")\n",
    "leg1.Draw()\n",
    "\n",
    "hpull = frame.pullHist()\n",
    "hpull.SetFillStyle(1001)\n",
    "hpull.SetFillColor(1);\n",
    "for i in range(0,hpull.GetN()):#(int i=0;i<hpull.GetN();++i): \n",
    "    hpull.SetPointError(i,0.0,0.0,0.0,0.0)\n",
    "# pullplot = x.frame(Title(\" \"))\n",
    "pullplot = x.frame()\n",
    "pullplot.SetTitle(\"\")\n",
    "pullplot.addPlotable(hpull,\"BE\")\n",
    "# pullplot.addPlotable(hpull,\"PE\")\n",
    "\n",
    "pullplot.SetYTitle(\"Pull\")\n",
    "pullplot.GetXaxis().SetTitleSize(0)\n",
    "pullplot.GetYaxis().SetTitleSize(0.22)\n",
    "pullplot.GetYaxis().CenterTitle(True)\n",
    "pullplot.GetYaxis().SetTitleOffset(0.2)\n",
    "pullplot.SetMinimum(-4.)\n",
    "pullplot.SetMaximum(4.)\n",
    "pullplot.GetXaxis().SetLabelSize(0.15)\n",
    "pullplot.GetYaxis().SetLabelSize(0.105)\n",
    "canv.cd(2)\n",
    "pullplot.Draw()\n",
    "\n",
    "xmin1 = ctypes.c_double(fitting_region[0])\n",
    "xmax1 = ctypes.c_double(fitting_region[1])\n",
    "# xmin1 = 0.1\n",
    "# xmax1 = 0.18\n",
    "line = ROOT.TLine(xmin1,0.0,xmax1,0.0)\n",
    "line1 = ROOT.TLine(xmin1,3.0,xmax1,3.0)\n",
    "line2 = ROOT.TLine(xmin1,-3.0,xmax1,-3.0)\n",
    "\n",
    "line.SetLineColor(ROOT.kRed)\n",
    "line.SetLineWidth(3)\n",
    "line1.SetLineColor(ROOT.kRed)\n",
    "line2.SetLineColor(ROOT.kRed)\n",
    "line1.SetLineStyle(2)\n",
    "line2.SetLineStyle(2)\n",
    "line.Draw(\"SAME\")\n",
    "line1.Draw(\"SAME\")\n",
    "line2.Draw(\"SAME\")\n",
    "\n",
    "canv.Update()\n",
    "\n",
    "canv.Draw()\n",
    "canv.SaveAs(\"/media/jykim/T7/saved_plots/fitting/results/kshortgamma/kshort_massveto_1ab_remain.png\")\n",
    "\n",
    "f = ROOT.TFile(\"kshortg_remain_fitresult.root\", \"RECREATE\")\n",
    "r.Write(\"kshortg\")\n",
    "f.Close()\n"
   ]
  },
  {
   "cell_type": "code",
   "execution_count": 21,
   "id": "2b3667ab-f690-4887-84e3-4a2a663454cf",
   "metadata": {},
   "outputs": [
    {
     "name": "stdout",
     "output_type": "stream",
     "text": [
      "RooCrystalBall::model[ x=D0_M x0=mean sigmaL=sigmaL sigmaR=sigmaR alphaL=alphaL nL=nL alphaR=alphaR nR=nR ] = 0.00816343\n"
     ]
    }
   ],
   "source": [
    "model.Print()"
   ]
  },
  {
   "cell_type": "code",
   "execution_count": 22,
   "id": "4011c1a1-48d5-43b1-a38e-0e65f007e41f",
   "metadata": {},
   "outputs": [
    {
     "name": "stdout",
     "output_type": "stream",
     "text": [
      "0x55a7078014d0 RooCrystalBall::model = 0.00816343 [Auto,Dirty] \n",
      "  0x55a7049f7010/V- RooRealVar::D0_M = 1.865\n",
      "  0x55a71186e0f0/V- RooRealVar::mean = 1.74544 +/- 0.00149512\n",
      "  0x55a7064555f0/V- RooRealVar::sigmaL = 0.04 +/- 0.031001\n",
      "  0x55a70a9f5f50/V- RooRealVar::sigmaR = 0.0222252 +/- 0.00084262\n",
      "  0x55a70ab824f0/V- RooRealVar::alphaL = 0.282586 +/- 0.0723185\n",
      "  0x55a708a51630/V- RooRealVar::nL = 3.99998 +/- 3.21111\n",
      "  0x55a705d426a0/V- RooRealVar::alphaR = 2.8371 +/- 0.100992\n",
      "  0x55a706ada7e0/V- RooRealVar::nR = 0.223591 +/- 0.0953657\n"
     ]
    }
   ],
   "source": [
    "model.Print(\"t\")"
   ]
  },
  {
   "cell_type": "code",
   "execution_count": 23,
   "id": "5fb42260-30bf-41ee-808f-9b6bde30352b",
   "metadata": {},
   "outputs": [],
   "source": [
    "f = ROOT.TFile.Open(\"kshortg_Veta_fitresult.root\")\n",
    "r2 = ROOT.gDirectory.Get(\"kshortg\")\n",
    "f.Close()\n"
   ]
  },
  {
   "cell_type": "code",
   "execution_count": 24,
   "id": "1ead06a3-6ed2-4ee4-b000-a7c4227c4fc8",
   "metadata": {},
   "outputs": [
    {
     "name": "stdout",
     "output_type": "stream",
     "text": [
      "\n",
      "  RooFitResult: minimized FCN value: -13348.7, estimated distance to minimum: 4.80584e-06\n",
      "                covariance matrix quality: Full, accurate covariance matrix\n",
      "                Status : MINIMIZE=0 HESSE=0 \n",
      "\n",
      "    Floating Parameter    FinalValue +/-  Error   \n",
      "  --------------------  --------------------------\n",
      "                alphaL    2.8259e-01 +/-  7.23e-02\n",
      "                alphaR    2.8371e+00 +/-  1.01e-01\n",
      "                  mean    1.7454e+00 +/-  1.50e-03\n",
      "                    nL    4.0000e+00 +/-  3.21e+00\n",
      "                    nR    2.2359e-01 +/-  9.54e-02\n",
      "                sigmaL    4.0000e-02 +/-  3.10e-02\n",
      "                sigmaR    2.2225e-02 +/-  8.43e-04\n",
      "\n"
     ]
    }
   ],
   "source": [
    "r2.Print()"
   ]
  },
  {
   "cell_type": "code",
   "execution_count": null,
   "id": "8643378b-eb0d-4ed5-80f1-0ff64479c23d",
   "metadata": {},
   "outputs": [],
   "source": []
  }
 ],
 "metadata": {
  "kernelspec": {
   "display_name": "Python 3 (ipykernel)",
   "language": "python",
   "name": "python3"
  },
  "language_info": {
   "codemirror_mode": {
    "name": "ipython",
    "version": 3
   },
   "file_extension": ".py",
   "mimetype": "text/x-python",
   "name": "python",
   "nbconvert_exporter": "python",
   "pygments_lexer": "ipython3",
   "version": "3.10.5"
  }
 },
 "nbformat": 4,
 "nbformat_minor": 5
}
