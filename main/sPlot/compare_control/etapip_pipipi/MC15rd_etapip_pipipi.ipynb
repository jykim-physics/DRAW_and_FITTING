{
 "cells": [
  {
   "cell_type": "code",
   "execution_count": 1,
   "id": "ae5d5f69-7e12-4ba1-b73e-2e667c79d727",
   "metadata": {},
   "outputs": [],
   "source": [
    "import uproot\n",
    "import pandas as pd\n",
    "import numpy as np\n",
    "import glob\n"
   ]
  },
  {
   "cell_type": "code",
   "execution_count": 2,
   "id": "a9a2f663-5a59-40f7-b76a-36a6f432c172",
   "metadata": {},
   "outputs": [],
   "source": [
    "import matplotlib.pyplot as plt\n",
    "plt.style.use('default')\n",
    "plt.style.use('belle2')\n",
    "\n",
    "import os"
   ]
  },
  {
   "cell_type": "code",
   "execution_count": 3,
   "id": "78867cb7-c871-4c32-af0c-718c8e346cae",
   "metadata": {},
   "outputs": [],
   "source": [
    "import glob\n",
    "\n",
    "base_path = \"/share/storage/jykim/storage_b2/storage/reduced_ntuples/MC15rd/Kspip/MC15rd_etaetapip_loose_v3_241129\"\n",
    "cm_elements = [\"MCrd_Ks_e7_18_4S_v3\", \"MCrd_Ks_e20_b26_v1\", \"MCrd_Ks_e20_e26_4S_v2\", \"MCrd_Ks_e21_5S_scan_v1\", \"MCrd_Ks_mori_off_v1\"]\n",
    "cut_expression = \"Dp_isSignal == 1\"\n",
    "\n",
    "file_list = []\n",
    "for element in cm_elements:\n",
    "    pattern = f\"{base_path}/{element}/*.root\"\n",
    "    file_list += glob.glob(pattern)\n",
    "\n",
    "\n",
    "dataframes = []\n",
    "# Process each file\n",
    "for file_name in file_list:\n",
    "    # Load the ROOT file and tree\n",
    "    file = uproot.open(file_name)\n",
    "    tree = file[\"Ks\"]\n",
    "\n",
    "    # Specify the branches you want to extract\n",
    "    # branches = ['Pip_pionID','Dp_Psum','Pip_genMotherID','etapip_Eta_genMotherID','Pip_genMotherPDG','etapip_Eta_genMotherPDG','Dp_cosHelicityAngleMomentum','Pip_dr',\"Dp_isSignal\",\"Dp_cosAngleBetweenMomentumAndVertexVectorInXYPlane\", \"Pip_p\",\"Dp_CMS_p\",\"etapip_Eta_p\",\"CFT_prob\",\"Dp_M\",\"num_Dstar_no_nan\",]  # Replace with actual branch names\n",
    "\n",
    "    branches = ['Dp_isSignal','Dp_M','Dp_CMS_cosTheta','Pip_cosTheta','Pip_p','Pip_charge']\n",
    "    # Convert the selected branches to a Pandas DataFrame\n",
    "    # df_temp = tree.arrays(branches, library=\"pd\")\n",
    "    df_temp = tree.arrays(\n",
    "        branches,\n",
    "        library=\"pd\",\n",
    "        entry_start=None,  # Optional: start at a specific entry\n",
    "        entry_stop=None,   # Optional: stop at a specific entry\n",
    "        filter_name=branches,  # Load only specified branches\n",
    "        cut=cut_expression  # Apply the cut\n",
    "    )\n",
    "    # df_temp = tree.arrays(library=\"pd\")\n",
    "\n",
    "    # Append the DataFrame to the list\n",
    "    dataframes.append(df_temp)\n",
    "\n",
    "# Concatenate all DataFrames into a single DataFrame\n",
    "df_bkg = pd.concat(dataframes, ignore_index=True)\n",
    "\n",
    "# df_bkg = df_bkg.query('Dp_isSignal!=1')\n",
    "# df_bkg = df_bkg.query('(Pip_genMotherID!=etapip_Eta_genMotherID) | abs(Pip_genMotherPDG)!=431 | abs(etapip_Eta_genMotherPDG)!=431')"
   ]
  },
  {
   "cell_type": "code",
   "execution_count": 4,
   "id": "129b0f43-fbe6-492e-b459-6bd44882f080",
   "metadata": {},
   "outputs": [],
   "source": [
    "# df_bkg = df_bkg.query('num_Dstar_no_nan>0')\n",
    "# df_bkg = df_bkg.query('Pip_pionID<0.01')\n",
    "# df_bkg = df_bkg.query('Dp_M> 1.7 & Dp_M<2.1')\n",
    "# df_bkg = df_bkg.query('Dp_M> 1.8 & Dp_M<2.05')"
   ]
  },
  {
   "cell_type": "code",
   "execution_count": 5,
   "id": "e51e23bb-7b39-4b72-95de-0ea07e29a749",
   "metadata": {},
   "outputs": [
    {
     "data": {
      "text/html": [
       "<div>\n",
       "<style scoped>\n",
       "    .dataframe tbody tr th:only-of-type {\n",
       "        vertical-align: middle;\n",
       "    }\n",
       "\n",
       "    .dataframe tbody tr th {\n",
       "        vertical-align: top;\n",
       "    }\n",
       "\n",
       "    .dataframe thead th {\n",
       "        text-align: right;\n",
       "    }\n",
       "</style>\n",
       "<table border=\"1\" class=\"dataframe\">\n",
       "  <thead>\n",
       "    <tr style=\"text-align: right;\">\n",
       "      <th></th>\n",
       "      <th>Dp_isSignal</th>\n",
       "      <th>Dp_M</th>\n",
       "      <th>Dp_CMS_cosTheta</th>\n",
       "      <th>Pip_cosTheta</th>\n",
       "      <th>Pip_p</th>\n",
       "      <th>Pip_charge</th>\n",
       "    </tr>\n",
       "  </thead>\n",
       "  <tbody>\n",
       "    <tr>\n",
       "      <th>count</th>\n",
       "      <td>2451319.0</td>\n",
       "      <td>2.451319e+06</td>\n",
       "      <td>2.451319e+06</td>\n",
       "      <td>2.451319e+06</td>\n",
       "      <td>2.451319e+06</td>\n",
       "      <td>2.451319e+06</td>\n",
       "    </tr>\n",
       "    <tr>\n",
       "      <th>mean</th>\n",
       "      <td>1.0</td>\n",
       "      <td>1.868468e+00</td>\n",
       "      <td>7.187010e-02</td>\n",
       "      <td>2.696775e-01</td>\n",
       "      <td>1.742698e+00</td>\n",
       "      <td>1.031689e-03</td>\n",
       "    </tr>\n",
       "    <tr>\n",
       "      <th>std</th>\n",
       "      <td>0.0</td>\n",
       "      <td>1.614982e-02</td>\n",
       "      <td>5.291863e-01</td>\n",
       "      <td>4.956641e-01</td>\n",
       "      <td>1.016949e+00</td>\n",
       "      <td>9.999997e-01</td>\n",
       "    </tr>\n",
       "    <tr>\n",
       "      <th>min</th>\n",
       "      <td>1.0</td>\n",
       "      <td>1.600204e+00</td>\n",
       "      <td>-9.999998e-01</td>\n",
       "      <td>-9.311164e-01</td>\n",
       "      <td>8.568603e-02</td>\n",
       "      <td>-1.000000e+00</td>\n",
       "    </tr>\n",
       "    <tr>\n",
       "      <th>25%</th>\n",
       "      <td>1.0</td>\n",
       "      <td>1.865827e+00</td>\n",
       "      <td>-3.811223e-01</td>\n",
       "      <td>-1.275891e-01</td>\n",
       "      <td>8.732903e-01</td>\n",
       "      <td>-1.000000e+00</td>\n",
       "    </tr>\n",
       "    <tr>\n",
       "      <th>50%</th>\n",
       "      <td>1.0</td>\n",
       "      <td>1.869510e+00</td>\n",
       "      <td>9.182282e-02</td>\n",
       "      <td>3.460908e-01</td>\n",
       "      <td>1.642110e+00</td>\n",
       "      <td>1.000000e+00</td>\n",
       "    </tr>\n",
       "    <tr>\n",
       "      <th>75%</th>\n",
       "      <td>1.0</td>\n",
       "      <td>1.872943e+00</td>\n",
       "      <td>5.349615e-01</td>\n",
       "      <td>7.156022e-01</td>\n",
       "      <td>2.451568e+00</td>\n",
       "      <td>1.000000e+00</td>\n",
       "    </tr>\n",
       "    <tr>\n",
       "      <th>max</th>\n",
       "      <td>1.0</td>\n",
       "      <td>2.099934e+00</td>\n",
       "      <td>9.999999e-01</td>\n",
       "      <td>9.774101e-01</td>\n",
       "      <td>7.028467e+00</td>\n",
       "      <td>1.000000e+00</td>\n",
       "    </tr>\n",
       "  </tbody>\n",
       "</table>\n",
       "</div>"
      ],
      "text/plain": [
       "       Dp_isSignal          Dp_M  Dp_CMS_cosTheta  Pip_cosTheta         Pip_p  \\\n",
       "count    2451319.0  2.451319e+06     2.451319e+06  2.451319e+06  2.451319e+06   \n",
       "mean           1.0  1.868468e+00     7.187010e-02  2.696775e-01  1.742698e+00   \n",
       "std            0.0  1.614982e-02     5.291863e-01  4.956641e-01  1.016949e+00   \n",
       "min            1.0  1.600204e+00    -9.999998e-01 -9.311164e-01  8.568603e-02   \n",
       "25%            1.0  1.865827e+00    -3.811223e-01 -1.275891e-01  8.732903e-01   \n",
       "50%            1.0  1.869510e+00     9.182282e-02  3.460908e-01  1.642110e+00   \n",
       "75%            1.0  1.872943e+00     5.349615e-01  7.156022e-01  2.451568e+00   \n",
       "max            1.0  2.099934e+00     9.999999e-01  9.774101e-01  7.028467e+00   \n",
       "\n",
       "         Pip_charge  \n",
       "count  2.451319e+06  \n",
       "mean   1.031689e-03  \n",
       "std    9.999997e-01  \n",
       "min   -1.000000e+00  \n",
       "25%   -1.000000e+00  \n",
       "50%    1.000000e+00  \n",
       "75%    1.000000e+00  \n",
       "max    1.000000e+00  "
      ]
     },
     "execution_count": 5,
     "metadata": {},
     "output_type": "execute_result"
    }
   ],
   "source": [
    "df_bkg.describe()"
   ]
  },
  {
   "cell_type": "code",
   "execution_count": 6,
   "id": "93ae8318-36d1-4c0b-9a34-d36368abfd4d",
   "metadata": {},
   "outputs": [
    {
     "name": "stdout",
     "output_type": "stream",
     "text": [
      "Dp_isSignal        False\n",
      "Dp_M               False\n",
      "Dp_CMS_cosTheta    False\n",
      "Pip_cosTheta       False\n",
      "Pip_p              False\n",
      "Pip_charge         False\n",
      "dtype: bool\n"
     ]
    }
   ],
   "source": [
    "nan_columns = df_bkg.isnull().any()\n",
    "print(nan_columns)"
   ]
  },
  {
   "cell_type": "code",
   "execution_count": 7,
   "id": "f2f71790-ad77-479b-99cf-8afd9e7c199d",
   "metadata": {},
   "outputs": [],
   "source": [
    "# df_generic_matched = df_bkg.query('Dp_isSignal==1')\n",
    "df_generic_matched = df_bkg.query('Dp_M>0')\n"
   ]
  },
  {
   "cell_type": "code",
   "execution_count": 8,
   "id": "c8859765-55ac-49ea-bb7f-c6b71fc8f6bd",
   "metadata": {},
   "outputs": [
    {
     "data": {
      "text/html": [
       "<div>\n",
       "<style scoped>\n",
       "    .dataframe tbody tr th:only-of-type {\n",
       "        vertical-align: middle;\n",
       "    }\n",
       "\n",
       "    .dataframe tbody tr th {\n",
       "        vertical-align: top;\n",
       "    }\n",
       "\n",
       "    .dataframe thead th {\n",
       "        text-align: right;\n",
       "    }\n",
       "</style>\n",
       "<table border=\"1\" class=\"dataframe\">\n",
       "  <thead>\n",
       "    <tr style=\"text-align: right;\">\n",
       "      <th></th>\n",
       "      <th>Dp_isSignal</th>\n",
       "      <th>Dp_M</th>\n",
       "      <th>Dp_CMS_cosTheta</th>\n",
       "      <th>Pip_cosTheta</th>\n",
       "      <th>Pip_p</th>\n",
       "      <th>Pip_charge</th>\n",
       "    </tr>\n",
       "  </thead>\n",
       "  <tbody>\n",
       "    <tr>\n",
       "      <th>count</th>\n",
       "      <td>2451319.0</td>\n",
       "      <td>2.451319e+06</td>\n",
       "      <td>2.451319e+06</td>\n",
       "      <td>2.451319e+06</td>\n",
       "      <td>2.451319e+06</td>\n",
       "      <td>2.451319e+06</td>\n",
       "    </tr>\n",
       "    <tr>\n",
       "      <th>mean</th>\n",
       "      <td>1.0</td>\n",
       "      <td>1.868468e+00</td>\n",
       "      <td>7.187010e-02</td>\n",
       "      <td>2.696775e-01</td>\n",
       "      <td>1.742698e+00</td>\n",
       "      <td>1.031689e-03</td>\n",
       "    </tr>\n",
       "    <tr>\n",
       "      <th>std</th>\n",
       "      <td>0.0</td>\n",
       "      <td>1.614982e-02</td>\n",
       "      <td>5.291863e-01</td>\n",
       "      <td>4.956641e-01</td>\n",
       "      <td>1.016949e+00</td>\n",
       "      <td>9.999997e-01</td>\n",
       "    </tr>\n",
       "    <tr>\n",
       "      <th>min</th>\n",
       "      <td>1.0</td>\n",
       "      <td>1.600204e+00</td>\n",
       "      <td>-9.999998e-01</td>\n",
       "      <td>-9.311164e-01</td>\n",
       "      <td>8.568603e-02</td>\n",
       "      <td>-1.000000e+00</td>\n",
       "    </tr>\n",
       "    <tr>\n",
       "      <th>25%</th>\n",
       "      <td>1.0</td>\n",
       "      <td>1.865827e+00</td>\n",
       "      <td>-3.811223e-01</td>\n",
       "      <td>-1.275891e-01</td>\n",
       "      <td>8.732903e-01</td>\n",
       "      <td>-1.000000e+00</td>\n",
       "    </tr>\n",
       "    <tr>\n",
       "      <th>50%</th>\n",
       "      <td>1.0</td>\n",
       "      <td>1.869510e+00</td>\n",
       "      <td>9.182282e-02</td>\n",
       "      <td>3.460908e-01</td>\n",
       "      <td>1.642110e+00</td>\n",
       "      <td>1.000000e+00</td>\n",
       "    </tr>\n",
       "    <tr>\n",
       "      <th>75%</th>\n",
       "      <td>1.0</td>\n",
       "      <td>1.872943e+00</td>\n",
       "      <td>5.349615e-01</td>\n",
       "      <td>7.156022e-01</td>\n",
       "      <td>2.451568e+00</td>\n",
       "      <td>1.000000e+00</td>\n",
       "    </tr>\n",
       "    <tr>\n",
       "      <th>max</th>\n",
       "      <td>1.0</td>\n",
       "      <td>2.099934e+00</td>\n",
       "      <td>9.999999e-01</td>\n",
       "      <td>9.774101e-01</td>\n",
       "      <td>7.028467e+00</td>\n",
       "      <td>1.000000e+00</td>\n",
       "    </tr>\n",
       "  </tbody>\n",
       "</table>\n",
       "</div>"
      ],
      "text/plain": [
       "       Dp_isSignal          Dp_M  Dp_CMS_cosTheta  Pip_cosTheta         Pip_p  \\\n",
       "count    2451319.0  2.451319e+06     2.451319e+06  2.451319e+06  2.451319e+06   \n",
       "mean           1.0  1.868468e+00     7.187010e-02  2.696775e-01  1.742698e+00   \n",
       "std            0.0  1.614982e-02     5.291863e-01  4.956641e-01  1.016949e+00   \n",
       "min            1.0  1.600204e+00    -9.999998e-01 -9.311164e-01  8.568603e-02   \n",
       "25%            1.0  1.865827e+00    -3.811223e-01 -1.275891e-01  8.732903e-01   \n",
       "50%            1.0  1.869510e+00     9.182282e-02  3.460908e-01  1.642110e+00   \n",
       "75%            1.0  1.872943e+00     5.349615e-01  7.156022e-01  2.451568e+00   \n",
       "max            1.0  2.099934e+00     9.999999e-01  9.774101e-01  7.028467e+00   \n",
       "\n",
       "         Pip_charge  \n",
       "count  2.451319e+06  \n",
       "mean   1.031689e-03  \n",
       "std    9.999997e-01  \n",
       "min   -1.000000e+00  \n",
       "25%   -1.000000e+00  \n",
       "50%    1.000000e+00  \n",
       "75%    1.000000e+00  \n",
       "max    1.000000e+00  "
      ]
     },
     "execution_count": 8,
     "metadata": {},
     "output_type": "execute_result"
    }
   ],
   "source": [
    "df_generic_matched.describe()"
   ]
  },
  {
   "cell_type": "code",
   "execution_count": 11,
   "id": "af3da04f-6f17-42dc-abe7-4f8c8036eed4",
   "metadata": {},
   "outputs": [],
   "source": [
    "base_path_sig = \"/share/storage/jykim/storage_ghi/Ntuples_ghi_2/MC15rd_sigMC\"\n",
    "elements_sig = [\"Dptoetapip_pipipi\", \"Dptoetapip_pipipi_cc\"]\n",
    "project_name = \"241129_loose_v3\"\n",
    "\n",
    "file_list_sig = []\n",
    "for element in elements_sig:\n",
    "    pattern = f\"{base_path_sig}/{element}/{project_name}/*.root\"\n",
    "    file_list_sig += glob.glob(pattern)"
   ]
  },
  {
   "cell_type": "code",
   "execution_count": 12,
   "id": "6211c482-1e6b-4fd5-bbe0-ef2aa838bd28",
   "metadata": {},
   "outputs": [],
   "source": [
    "dataframes_signal = []\n",
    "cut_expression = \"Dp_isSignal == 1\"  # Replace with your actual cut condition\n",
    "\n",
    "for file_name in file_list_sig:\n",
    "    # Load the ROOT file and tree\n",
    "    file = uproot.open(file_name)\n",
    "    tree = file[\"etapip_pipipi\"]\n",
    "\n",
    "    # Specify the branches you want to extract\n",
    "    #branches = ['Dp_Psum','dM_pi0_mask_nonan','dM_pi0_mask_2_nonan','Pip_genMotherID','etapip_Eta_genMotherID','Pip_genMotherPDG','etapip_Eta_genMotherPDG','Dp_cosHelicityAngleMomentum','Pip_dr',\"Dp_isSignal\",\"Dp_cosAngleBetweenMomentumAndVertexVectorInXYPlane\", \"Pip_p\",\"Dp_CMS_p\",\"etapip_Eta_Easym\",\"etapip_Eta_p\",\"CFT_prob\",\"Dp_M\",\"num_Dstar_no_nan\",\"etapip_Eta_daughterDiffOfPhi_0_1\",\"etapip_Eta_daughterAngle_0_1\"]  # Replace with actual branch names\n",
    "    # branches = ['Dp_Psum','dM_pi0_mask','dM_pi0_mask_2','Pip_genMotherID','etapip_Eta_genMotherID','Pip_genMotherPDG','etapip_Eta_genMotherPDG','Dp_cosHelicityAngleMomentum','Pip_dr',\"Dp_isSignal\",\"Dp_cosAngleBetweenMomentumAndVertexVectorInXYPlane\", \"Pip_p\",\"Dp_CMS_p\",\"etapip_Eta_Easym\",\"etapip_Eta_p\",\"CFT_prob\",\"Dp_M\",\"num_Dstar_no_nan\",\"etapip_Eta_daughterDiffOfPhi_0_1\",\"etapip_Eta_daughterAngle_0_1\"]  # Replace with actual branch names\n",
    "    # branches = ['Pip_pionID','Dp_Psum','dM_pi0_mask_nonan','dM_pi0_mask_2_nonan','Pip_genMotherID','etapip_Eta_genMotherID','Pip_genMotherPDG','etapip_Eta_genMotherPDG','Dp_cosHelicityAngleMomentum','Pip_dr',\"Dp_isSignal\",\"Dp_cosAngleBetweenMomentumAndVertexVectorInXYPlane\", \"Pip_p\",\"Dp_CMS_p\",\"etapip_Eta_Easym\",\"etapip_Eta_p\",\"CFT_prob\",\"Dp_M\",\"num_Dstar_no_nan\",\"etapip_Eta_daughterDiffOfPhi_0_1\",\"etapip_Eta_daughterAngle_0_1\"]  # Replace with actual branch names\n",
    "    branches = ['Dp_isSignal','Dp_M','Dp_CMS_cosTheta','Pip_cosTheta','Pip_p','Pip_charge']\n",
    "    # Convert the selected branches to a Pandas DataFrame\n",
    "    # df_temp = tree.arrays(branches, library=\"pd\")\n",
    "    df_temp = tree.arrays(\n",
    "        branches,\n",
    "        library=\"pd\",\n",
    "        entry_start=None,  # Optional: start at a specific entry\n",
    "        entry_stop=None,   # Optional: stop at a specific entry\n",
    "        filter_name=branches,  # Load only specified branches\n",
    "        cut=cut_expression  # Apply the cut\n",
    "    )\n",
    "    # df_temp = tree.arrays(library=\"pd\")\n",
    "\n",
    "    # Append the DataFrame to the list\n",
    "    dataframes_signal.append(df_temp)\n",
    "\n",
    "\n",
    "df_signal = pd.concat(dataframes_signal, ignore_index=True)\n"
   ]
  },
  {
   "cell_type": "code",
   "execution_count": 13,
   "id": "2e5c4beb-fdcf-4378-8936-4b96d9a0e420",
   "metadata": {},
   "outputs": [],
   "source": [
    "# df_signal = df_signal.query('num_Dstar_no_nan>0')\n",
    "# df_signal = df_signal.query('Pip_pionID<0.01')"
   ]
  },
  {
   "cell_type": "code",
   "execution_count": 14,
   "id": "4239a5a6-c53a-4829-8ebb-8069cd874ccb",
   "metadata": {},
   "outputs": [
    {
     "data": {
      "text/html": [
       "<div>\n",
       "<style scoped>\n",
       "    .dataframe tbody tr th:only-of-type {\n",
       "        vertical-align: middle;\n",
       "    }\n",
       "\n",
       "    .dataframe tbody tr th {\n",
       "        vertical-align: top;\n",
       "    }\n",
       "\n",
       "    .dataframe thead th {\n",
       "        text-align: right;\n",
       "    }\n",
       "</style>\n",
       "<table border=\"1\" class=\"dataframe\">\n",
       "  <thead>\n",
       "    <tr style=\"text-align: right;\">\n",
       "      <th></th>\n",
       "      <th>Dp_isSignal</th>\n",
       "      <th>Dp_M</th>\n",
       "      <th>Dp_CMS_cosTheta</th>\n",
       "      <th>Pip_cosTheta</th>\n",
       "      <th>Pip_p</th>\n",
       "      <th>Pip_charge</th>\n",
       "    </tr>\n",
       "  </thead>\n",
       "  <tbody>\n",
       "    <tr>\n",
       "      <th>count</th>\n",
       "      <td>560718.0</td>\n",
       "      <td>560718.000000</td>\n",
       "      <td>560718.000000</td>\n",
       "      <td>560718.000000</td>\n",
       "      <td>560718.000000</td>\n",
       "      <td>560718.000000</td>\n",
       "    </tr>\n",
       "    <tr>\n",
       "      <th>mean</th>\n",
       "      <td>1.0</td>\n",
       "      <td>1.867031</td>\n",
       "      <td>0.062792</td>\n",
       "      <td>0.260396</td>\n",
       "      <td>1.536839</td>\n",
       "      <td>0.001537</td>\n",
       "    </tr>\n",
       "    <tr>\n",
       "      <th>std</th>\n",
       "      <td>0.0</td>\n",
       "      <td>0.019517</td>\n",
       "      <td>0.480298</td>\n",
       "      <td>0.500434</td>\n",
       "      <td>0.928508</td>\n",
       "      <td>1.000000</td>\n",
       "    </tr>\n",
       "    <tr>\n",
       "      <th>min</th>\n",
       "      <td>1.0</td>\n",
       "      <td>1.500375</td>\n",
       "      <td>-0.999810</td>\n",
       "      <td>-0.945639</td>\n",
       "      <td>0.093315</td>\n",
       "      <td>-1.000000</td>\n",
       "    </tr>\n",
       "    <tr>\n",
       "      <th>25%</th>\n",
       "      <td>1.0</td>\n",
       "      <td>1.863942</td>\n",
       "      <td>-0.331682</td>\n",
       "      <td>-0.143301</td>\n",
       "      <td>0.759511</td>\n",
       "      <td>-1.000000</td>\n",
       "    </tr>\n",
       "    <tr>\n",
       "      <th>50%</th>\n",
       "      <td>1.0</td>\n",
       "      <td>1.868703</td>\n",
       "      <td>0.072630</td>\n",
       "      <td>0.337842</td>\n",
       "      <td>1.393213</td>\n",
       "      <td>1.000000</td>\n",
       "    </tr>\n",
       "    <tr>\n",
       "      <th>75%</th>\n",
       "      <td>1.0</td>\n",
       "      <td>1.873064</td>\n",
       "      <td>0.467448</td>\n",
       "      <td>0.710257</td>\n",
       "      <td>2.165270</td>\n",
       "      <td>1.000000</td>\n",
       "    </tr>\n",
       "    <tr>\n",
       "      <th>max</th>\n",
       "      <td>1.0</td>\n",
       "      <td>2.098275</td>\n",
       "      <td>0.999976</td>\n",
       "      <td>0.978242</td>\n",
       "      <td>5.886844</td>\n",
       "      <td>1.000000</td>\n",
       "    </tr>\n",
       "  </tbody>\n",
       "</table>\n",
       "</div>"
      ],
      "text/plain": [
       "       Dp_isSignal           Dp_M  Dp_CMS_cosTheta   Pip_cosTheta  \\\n",
       "count     560718.0  560718.000000    560718.000000  560718.000000   \n",
       "mean           1.0       1.867031         0.062792       0.260396   \n",
       "std            0.0       0.019517         0.480298       0.500434   \n",
       "min            1.0       1.500375        -0.999810      -0.945639   \n",
       "25%            1.0       1.863942        -0.331682      -0.143301   \n",
       "50%            1.0       1.868703         0.072630       0.337842   \n",
       "75%            1.0       1.873064         0.467448       0.710257   \n",
       "max            1.0       2.098275         0.999976       0.978242   \n",
       "\n",
       "               Pip_p     Pip_charge  \n",
       "count  560718.000000  560718.000000  \n",
       "mean        1.536839       0.001537  \n",
       "std         0.928508       1.000000  \n",
       "min         0.093315      -1.000000  \n",
       "25%         0.759511      -1.000000  \n",
       "50%         1.393213       1.000000  \n",
       "75%         2.165270       1.000000  \n",
       "max         5.886844       1.000000  "
      ]
     },
     "execution_count": 14,
     "metadata": {},
     "output_type": "execute_result"
    }
   ],
   "source": [
    "df_signal.describe()"
   ]
  },
  {
   "cell_type": "code",
   "execution_count": 15,
   "id": "312611e3-20be-45b9-ad04-8af6435ecdb9",
   "metadata": {},
   "outputs": [
    {
     "name": "stdout",
     "output_type": "stream",
     "text": [
      "Dp_isSignal        False\n",
      "Dp_M               False\n",
      "Dp_CMS_cosTheta    False\n",
      "Pip_cosTheta       False\n",
      "Pip_p              False\n",
      "Pip_charge         False\n",
      "dtype: bool\n"
     ]
    }
   ],
   "source": [
    "nan_columns = df_signal.isnull().any()\n",
    "print(nan_columns)"
   ]
  },
  {
   "cell_type": "code",
   "execution_count": 16,
   "id": "2182d367-c2dc-424c-bf45-ce739c2460e1",
   "metadata": {},
   "outputs": [
    {
     "name": "stderr",
     "output_type": "stream",
     "text": [
      "/home/jykim/.local/lib/python3.10/site-packages/IPython/core/interactiveshell.py:3378: UserWarning: The recommended fonts to use plothist were not found. You can install them by typing 'install_latin_modern_fonts' in your terminal. If it still does not work, please check the documentation at https://plothist.readthedocs.io/en/latest/usage/font_installation.html\n",
      "  exec(code_obj, self.user_global_ns, self.user_ns)\n"
     ]
    }
   ],
   "source": [
    "from plothist import make_hist, plot_hist\n",
    "# import matplotlib.pyplot as plt\n",
    "from plothist import plot_two_hist_comparison\n"
   ]
  },
  {
   "cell_type": "code",
   "execution_count": 18,
   "id": "339cfab5-e0d3-44b4-9dd4-78a550e72593",
   "metadata": {},
   "outputs": [],
   "source": [
    "tree_to_compare = \"etapip_pipipi\""
   ]
  },
  {
   "cell_type": "code",
   "execution_count": 24,
   "id": "d8ad17d1-33af-4866-b65e-27fef494b986",
   "metadata": {},
   "outputs": [],
   "source": [
    "plt.rcParams['font.family'] = 'DejaVu Sans'\n"
   ]
  },
  {
   "cell_type": "code",
   "execution_count": 25,
   "id": "25e76200-cb66-470e-81fd-bc940cfc4165",
   "metadata": {},
   "outputs": [
    {
     "data": {
      "image/png": "[encoded data removed]",
      "text/plain": [
       "<Figure size 600x500 with 2 Axes>"
      ]
     },
     "metadata": {},
     "output_type": "display_data"
    }
   ],
   "source": [
    "name = \"Pip_p\"\n",
    "category = \"category\"\n",
    "xlabel = r\"$p(\\pi^+)$\"\n",
    "\n",
    "# x1 = df[name][df[category] == 1]\n",
    "# x2 = df[name][df[category] == 2]\n",
    "\n",
    "x1 = df_generic_matched[name]\n",
    "x2 = df_signal[name]\n",
    "\n",
    "# x_range = (min(min(x1), min(x2)), max(max(x1), max(x2)))\n",
    "x_range = (min(min(x1), min(x2)),5.5)\n",
    "\n",
    "h1 = make_hist(x1, bins=60, range=x_range, weights=1/len(x1))\n",
    "h2 = make_hist(x2, bins=60, range=x_range, weights=1/len(x2))\n",
    "\n",
    "\n",
    "# Default comparison is ratio\n",
    "fig, ax_main, ax_comparison = plot_two_hist_comparison(\n",
    "    h1,\n",
    "    h2,\n",
    "    xlabel=xlabel,\n",
    "    ylabel=\"Entries\",\n",
    "    h1_label=\"Control\",\n",
    "    h2_label=\"Signal\",\n",
    ")\n",
    "\n",
    "fig.savefig(f\"MC15rd_{tree_to_compare}_{name}.png\", bbox_inches=\"tight\")"
   ]
  },
  {
   "cell_type": "code",
   "execution_count": 26,
   "id": "e3c6ed29-f18c-4b3f-bd8a-fd21d1980395",
   "metadata": {},
   "outputs": [
    {
     "data": {
      "text/plain": [
       "Histogram(Regular(60, 0.085686, 5.5, underflow=False, overflow=False), storage=Weight()) # Sum: WeightedSum(value=0.999844, variance=4.0788e-07)"
      ]
     },
     "execution_count": 26,
     "metadata": {},
     "output_type": "execute_result"
    }
   ],
   "source": [
    "h1"
   ]
  },
  {
   "cell_type": "code",
   "execution_count": 27,
   "id": "61af7423-444c-4887-a418-81e8c2f92ae4",
   "metadata": {},
   "outputs": [
    {
     "data": {
      "text/plain": [
       "Histogram(Regular(60, 0.085686, 5.5, underflow=False, overflow=False), storage=Weight()) # Sum: WeightedSum(value=0.999966, variance=1.78337e-06)"
      ]
     },
     "execution_count": 27,
     "metadata": {},
     "output_type": "execute_result"
    }
   ],
   "source": [
    "h2"
   ]
  },
  {
   "cell_type": "code",
   "execution_count": null,
   "id": "41bbd4dd-cb0e-46b7-9305-80d1aa212c87",
   "metadata": {},
   "outputs": [],
   "source": []
  },
  {
   "cell_type": "code",
   "execution_count": 28,
   "id": "05092a2c-3fe6-4202-b955-7c27f9b0dc6b",
   "metadata": {},
   "outputs": [
    {
     "data": {
      "image/png": "[encoded data removed]",
      "text/plain": [
       "<Figure size 600x500 with 2 Axes>"
      ]
     },
     "metadata": {},
     "output_type": "display_data"
    }
   ],
   "source": [
    "name = \"Pip_cosTheta\"\n",
    "category = \"category\"\n",
    "xlabel = r\"$cos\\theta(\\pi^+)$\"\n",
    "\n",
    "# x1 = df[name][df[category] == 1]\n",
    "# x2 = df[name][df[category] == 2]\n",
    "\n",
    "x1 = df_generic_matched[name]\n",
    "x2 = df_signal[name]\n",
    "\n",
    "# x_range = (min(min(x1), min(x2)), max(max(x1), max(x2)))\n",
    "x_range = (-1,1)\n",
    "\n",
    "h1 = make_hist(x1, bins=40, range=x_range, weights=1/len(x1))\n",
    "h2 = make_hist(x2, bins=40, range=x_range, weights=1/len(x2))\n",
    "\n",
    "\n",
    "# Default comparison is ratio\n",
    "fig, ax_main, ax_comparison = plot_two_hist_comparison(\n",
    "    h1,\n",
    "    h2,\n",
    "    xlabel=xlabel,\n",
    "    ylabel=\"Entries\",\n",
    "    h1_label=\"Control\",\n",
    "    h2_label=\"Signal\",\n",
    ")\n",
    "\n",
    "fig.savefig(f\"MC15rd_{tree_to_compare}_{name}.png\", bbox_inches=\"tight\")"
   ]
  },
  {
   "cell_type": "code",
   "execution_count": 29,
   "id": "4ddac5a1-05d6-4301-b9e1-65791f32e19c",
   "metadata": {},
   "outputs": [],
   "source": [
    "from plothist import (\n",
    "    create_variable_registry,\n",
    "    update_variable_registry_ranges,\n",
    "    get_variable_from_registry,\n",
    ")\n",
    "# custom_dict = {\"legend_location\" : 'upper left'}\n",
    "# create_variable_registry(custom_dict=custom_dict)"
   ]
  },
  {
   "cell_type": "code",
   "execution_count": 30,
   "id": "a096aa6b-9cb8-4b22-8803-c3006b25b6fe",
   "metadata": {},
   "outputs": [
    {
     "data": {
      "image/png": "[encoded data removed]",
      "text/plain": [
       "<Figure size 600x500 with 2 Axes>"
      ]
     },
     "metadata": {},
     "output_type": "display_data"
    }
   ],
   "source": [
    "name = \"Dp_CMS_cosTheta\"\n",
    "category = \"category\"\n",
    "xlabel = r\"$cos\\theta^*(D^+)$\"\n",
    "\n",
    "\n",
    "x1 = df_generic_matched[name]\n",
    "x2 = df_signal[name]\n",
    "\n",
    "# x_range = (min(min(x1), min(x2)), max(max(x1), max(x2)))\n",
    "x_range = (-1,1)\n",
    "\n",
    "h1 = make_hist(x1, bins=40, range=x_range, weights=1/len(x1))\n",
    "h2 = make_hist(x2, bins=40, range=x_range, weights=1/len(x2))\n",
    "\n",
    "\n",
    "# Default comparison is ratio\n",
    "fig, ax_main, ax_comparison = plot_two_hist_comparison(\n",
    "    h1,\n",
    "    h2,\n",
    "    xlabel=xlabel,\n",
    "    ylabel=\"Entries\",\n",
    "    h1_label=\"Control\",\n",
    "    h2_label=\"Signal\",\n",
    ")\n",
    "# fig.legend(loc=\"upper left\")\n",
    "ax_main.legend(loc=\"upper left\") \n",
    "fig.savefig(f\"MC15rd_{tree_to_compare}_{name}.png\", bbox_inches=\"tight\")"
   ]
  },
  {
   "cell_type": "code",
   "execution_count": null,
   "id": "928d770c-00cc-4f59-8752-7abd9aecb197",
   "metadata": {},
   "outputs": [],
   "source": []
  },
  {
   "cell_type": "code",
   "execution_count": null,
   "id": "d8c7f9c7-4479-45c8-828e-2a3b409e85bc",
   "metadata": {},
   "outputs": [],
   "source": []
  }
 ],
 "metadata": {
  "kernelspec": {
   "display_name": "Python 3 (ipykernel)",
   "language": "python",
   "name": "python3"
  },
  "language_info": {
   "codemirror_mode": {
    "name": "ipython",
    "version": 3
   },
   "file_extension": ".py",
   "mimetype": "text/x-python",
   "name": "python",
   "nbconvert_exporter": "python",
   "pygments_lexer": "ipython3",
   "version": "3.10.5"
  }
 },
 "nbformat": 4,
 "nbformat_minor": 5
}
