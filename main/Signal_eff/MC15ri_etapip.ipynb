{
 "cells": [
  {
   "cell_type": "code",
   "execution_count": 1,
   "id": "f544fa2a-72f8-4043-9b54-4f18fed24eb1",
   "metadata": {},
   "outputs": [
    {
     "name": "stdout",
     "output_type": "stream",
     "text": [
      "Welcome to JupyROOT 6.26/04\n"
     ]
    }
   ],
   "source": [
    "%matplotlib inline\n",
    "%load_ext autoreload\n",
    "%autoreload 2\n",
    "import seaborn as sns\n",
    "import matplotlib.pyplot as plt\n",
    "import numpy as np\n",
    "import pandas as pd\n",
    "import math\n",
    "import glob\n",
    "try:\n",
    "#     plt.style.use('belle2')\n",
    "    plt.style.use('belle2_serif')\n",
    "#     plt.style.use('belle2_modern')\n",
    "except OSError:\n",
    "    print(\"Please install belle2 matplotlib style\")   \n",
    "px = 1/plt.rcParams['figure.dpi']\n",
    "\n",
    "from main.data_tools.extract_ntuples import get_pd, get_np\n",
    "from main.draw_tools.decorations import b2helix, watermark\n",
    "from mpl_toolkits.axes_grid1 import make_axes_locatable\n",
    "\n",
    "import matplotlib.cm as cm\n",
    "import matplotlib.ticker as ticker"
   ]
  },
  {
   "cell_type": "code",
   "execution_count": 2,
   "id": "6cd13ce0-30e7-409f-a3a7-b573fa26f167",
   "metadata": {},
   "outputs": [],
   "source": [
    "def cal_eff_purity_ownMC(file_name,file_list, tree, base_filter, N_gen):\n",
    "    \n",
    "    variables = ['Dp_isSignal','Dp_M','__experiment__', '__run__', '__event__']\n",
    "    \n",
    "    N_rec = 0\n",
    "    N_rec_true = 0\n",
    "\n",
    "    # Initialize an empty dataframe to store concatenated results\n",
    "    concatenated_df = pd.DataFrame()\n",
    "\n",
    "    for file in file_list:\n",
    "        recon_df = get_pd(file, tree, base_filter, variables)\n",
    "        N_rec += len(recon_df)\n",
    "        extracted_df = recon_df[[\"__experiment__\", \"__run__\", \"__event__\"]].drop_duplicates()\n",
    "\n",
    "        # Concatenate the extracted dataframe with the concatenated_df\n",
    "        concatenated_df = pd.concat([concatenated_df, extracted_df], ignore_index=True)\n",
    "\n",
    "    multiplicity = len(concatenated_df) / N_rec\n",
    "\n",
    "    eff = N_rec/N_gen\n",
    "\n",
    "    # Initialize an empty dataframe to store concatenated results\n",
    "    concatenated_df2 = pd.DataFrame()\n",
    "\n",
    "    N_rec2 = 0\n",
    "    N_rec_true2 = 0\n",
    "    \n",
    "    for file in file_list:\n",
    "        recon_df2 = get_pd(file, tree, base_filter, variables)\n",
    "        N_rec2 += len(recon_df2)\n",
    "        extracted_df2 = recon_df2.query('Dp_isSignal==1')\n",
    "        N_rec_true2 += len(extracted_df2)\n",
    "\n",
    "        # Concatenate the extracted dataframe with the concatenated_df\n",
    "        concatenated_df2 = pd.concat([concatenated_df2, extracted_df2], ignore_index=True)\n",
    "    \n",
    "    purity = N_rec_true2/N_rec2\n",
    "    \n",
    "    print(f\"eff={eff:.5f}, purity={purity:.5f}, multiplicity={multiplicity:.5f}\")\n",
    "    \n",
    "    return (eff, purity, multiplicity)"
   ]
  },
  {
   "cell_type": "code",
   "execution_count": 7,
   "id": "4b9ee2d9-0c2f-4c40-80f0-89fc4d39bd01",
   "metadata": {},
   "outputs": [],
   "source": [
    "def calculate_sig_eff_err(eff, N_gen):\n",
    "\n",
    "    error = math.sqrt(eff * (1 - eff) / N_gen)\n",
    "    return error"
   ]
  },
  {
   "cell_type": "markdown",
   "id": "676a21c1-4025-4ca4-9fb8-edf60b82944b",
   "metadata": {},
   "source": [
    "# D+ -> eta pi+"
   ]
  },
  {
   "cell_type": "code",
   "execution_count": 3,
   "id": "2bd69a2f-a2a2-40d7-9296-85947166601c",
   "metadata": {},
   "outputs": [
    {
     "name": "stdout",
     "output_type": "stream",
     "text": [
      "40\n",
      "eff=0.08854, purity=0.97729, multiplicity=1.00000\n"
     ]
    }
   ],
   "source": [
    "file = '/share/storage/jykim/storage_ghi/Ntuples_ghi_2/MC15ri_sigMC/Dptoetapip_gg/241106_loose_v2/etapip_gg/*BCS.root'\n",
    "base_filter=' Dp_M>1.7 && Dp_M<2.06'\n",
    "base_filter=' Dp_M>1.76 && Dp_M<1.96'\n",
    "\n",
    "tree = 'etapip_gg'\n",
    "root_files = glob.glob(file)\n",
    "\n",
    "file_cc = '/share/storage/jykim/storage_ghi/Ntuples_ghi_2/MC15ri_sigMC/Dptoetapip_gg_cc/241106_loose_v2/etapip_gg/*BCS.root'\n",
    "root_files += glob.glob(file_cc)\n",
    "\n",
    "print(len(root_files))\n",
    "\n",
    "D0eff,D0purity,D0multiplicity = cal_eff_purity_ownMC(file,root_files, tree, base_filter, 2e+6)"
   ]
  },
  {
   "cell_type": "code",
   "execution_count": 8,
   "id": "fc4ff1a7-d478-42ce-a953-532595c4312c",
   "metadata": {},
   "outputs": [
    {
     "data": {
      "text/plain": [
       "0.0002008739261327861"
      ]
     },
     "execution_count": 8,
     "metadata": {},
     "output_type": "execute_result"
    }
   ],
   "source": [
    "calculate_sig_eff_err(0.08854, 2e+6)"
   ]
  },
  {
   "cell_type": "code",
   "execution_count": 4,
   "id": "5392892d-9502-4d1e-b1c4-762e5463ad6f",
   "metadata": {},
   "outputs": [
    {
     "name": "stdout",
     "output_type": "stream",
     "text": [
      "40\n",
      "eff=0.06173, purity=0.94395, multiplicity=1.00000\n"
     ]
    }
   ],
   "source": [
    "file = '/share/storage/jykim/storage_ghi/Ntuples_ghi_2/MC15ri_sigMC/Dptoetapip_pipipi/241106_loose_v2/etapip_pipipi/*BCS.root'\n",
    "base_filter=' Dp_M>1.8 && Dp_M<1.93'\n",
    "\n",
    "tree = 'etapip_pipipi'\n",
    "root_files = glob.glob(file)\n",
    "\n",
    "file_cc = '/share/storage/jykim/storage_ghi/Ntuples_ghi_2/MC15ri_sigMC/Dptoetapip_pipipi_cc/241106_loose_v2/etapip_pipipi/*BCS.root'\n",
    "root_files += glob.glob(file_cc)\n",
    "\n",
    "print(len(root_files))\n",
    "\n",
    "D0eff,D0purity,D0multiplicity = cal_eff_purity_ownMC(file,root_files, tree, base_filter, 2e+6)"
   ]
  },
  {
   "cell_type": "code",
   "execution_count": 9,
   "id": "68ed002d-5d9a-44ba-9671-02ca1cdacfb1",
   "metadata": {},
   "outputs": [
    {
     "data": {
      "text/plain": [
       "0.00017017550807915926"
      ]
     },
     "execution_count": 9,
     "metadata": {},
     "output_type": "execute_result"
    }
   ],
   "source": [
    "calculate_sig_eff_err(0.06173, 2e+6)"
   ]
  },
  {
   "cell_type": "markdown",
   "id": "e8a302c3-89c2-4208-beb5-d35a1be0a185",
   "metadata": {},
   "source": [
    "# Ds+ -> eta pi+"
   ]
  },
  {
   "cell_type": "code",
   "execution_count": 12,
   "id": "be336f3f-defd-477e-b7fd-bf017681ee6f",
   "metadata": {},
   "outputs": [
    {
     "name": "stdout",
     "output_type": "stream",
     "text": [
      "40\n",
      "eff=0.07540, purity=0.00023, multiplicity=1.00000\n"
     ]
    }
   ],
   "source": [
    "file = '/share/storage/jykim/storage_ghi/Ntuples_ghi_2/MC15ri_sigMC/Dsptoetapip_gg/241106_loose_v2/etapip_gg/*BCS.root'\n",
    "base_filter=' Dp_M>1.86 && Dp_M<2.06'\n",
    "\n",
    "tree = 'etapip_gg'\n",
    "root_files = glob.glob(file)\n",
    "\n",
    "file_cc = '/share/storage/jykim/storage_ghi/Ntuples_ghi_2/MC15ri_sigMC/Dsptoetapip_gg_cc/241106_loose_v2/etapip_gg/*BCS.root'\n",
    "root_files += glob.glob(file_cc)\n",
    "\n",
    "print(len(root_files))\n",
    "\n",
    "D0eff,D0purity,D0multiplicity = cal_eff_purity_ownMC(file,root_files, tree, base_filter, 2e+6)"
   ]
  },
  {
   "cell_type": "code",
   "execution_count": 13,
   "id": "8e7c4c44-66bc-4f4a-8457-1794d9134ade",
   "metadata": {},
   "outputs": [
    {
     "data": {
      "text/plain": [
       "0.00018670141938399932"
      ]
     },
     "execution_count": 13,
     "metadata": {},
     "output_type": "execute_result"
    }
   ],
   "source": [
    "calculate_sig_eff_err(0.07540, 2e+6)"
   ]
  },
  {
   "cell_type": "code",
   "execution_count": 14,
   "id": "1e095bb9-84c9-4905-8e37-3c361a1396a2",
   "metadata": {},
   "outputs": [
    {
     "name": "stdout",
     "output_type": "stream",
     "text": [
      "40\n",
      "eff=0.05289, purity=0.00000, multiplicity=1.00000\n"
     ]
    }
   ],
   "source": [
    "file = '/share/storage/jykim/storage_ghi/Ntuples_ghi_2/MC15ri_sigMC/Dsptoetapip_pipipi/241106_loose_v2/etapip_pipipi/*BCS.root'\n",
    "base_filter=' Dp_M>1.91 && Dp_M<2.02'\n",
    "\n",
    "tree = 'etapip_pipipi'\n",
    "root_files = glob.glob(file)\n",
    "\n",
    "file_cc = '/share/storage/jykim/storage_ghi/Ntuples_ghi_2/MC15ri_sigMC/Dsptoetapip_pipipi_cc/241106_loose_v2/etapip_pipipi/*BCS.root'\n",
    "root_files += glob.glob(file_cc)\n",
    "\n",
    "print(len(root_files))\n",
    "\n",
    "D0eff,D0purity,D0multiplicity = cal_eff_purity_ownMC(file,root_files, tree, base_filter, 2e+6)"
   ]
  },
  {
   "cell_type": "code",
   "execution_count": 15,
   "id": "2eb053bd-ba3a-41a2-94b2-62d2d2468448",
   "metadata": {},
   "outputs": [
    {
     "data": {
      "text/plain": [
       "0.00015826030440385232"
      ]
     },
     "execution_count": 15,
     "metadata": {},
     "output_type": "execute_result"
    }
   ],
   "source": [
    "calculate_sig_eff_err(0.05289, 2e+6)"
   ]
  },
  {
   "cell_type": "code",
   "execution_count": null,
   "id": "b044fc06-0477-403e-8b96-821335dee8b9",
   "metadata": {},
   "outputs": [],
   "source": []
  },
  {
   "cell_type": "code",
   "execution_count": null,
   "id": "c9cf1226-4304-435c-b8b3-9bd77da55baf",
   "metadata": {},
   "outputs": [],
   "source": []
  }
 ],
 "metadata": {
  "kernelspec": {
   "display_name": "Python 3 (ipykernel)",
   "language": "python",
   "name": "python3"
  },
  "language_info": {
   "codemirror_mode": {
    "name": "ipython",
    "version": 3
   },
   "file_extension": ".py",
   "mimetype": "text/x-python",
   "name": "python",
   "nbconvert_exporter": "python",
   "pygments_lexer": "ipython3",
   "version": "3.10.5"
  }
 },
 "nbformat": 4,
 "nbformat_minor": 5
}
