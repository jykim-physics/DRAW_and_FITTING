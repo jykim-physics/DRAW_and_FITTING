{
 "cells": [
  {
   "cell_type": "code",
   "execution_count": 1,
   "id": "b0192fc0-53a1-4af8-bd4f-2bad78116f6e",
   "metadata": {
    "jupyter": {
     "source_hidden": true
    },
    "tags": []
   },
   "outputs": [
    {
     "name": "stdout",
     "output_type": "stream",
     "text": [
      "Welcome to JupyROOT 6.26/04\n"
     ]
    }
   ],
   "source": [
    "%matplotlib inline\n",
    "%load_ext autoreload\n",
    "%autoreload 2\n",
    "import seaborn as sns\n",
    "import matplotlib.pyplot as plt\n",
    "import numpy as np\n",
    "import pandas as pd\n",
    "import math\n",
    "try:\n",
    "#     plt.style.use('belle2')\n",
    "\\\n",
    "    plt.style.use('belle2_serif')\n",
    "#     plt.style.use('belle2_modern')\n",
    "except OSError:\n",
    "    print(\"Please install belle2 matplotlib style\")   \n",
    "px = 1/plt.rcParams['figure.dpi']\n",
    "\n",
    "from main.data_tools.extract_ntuples import get_pd, get_np\n",
    "from main.draw_tools.decorations import b2helix, watermark\n",
    "from mpl_toolkits.axes_grid1 import make_axes_locatable\n",
    "\n",
    "import matplotlib.cm as cm\n",
    "import matplotlib.ticker as ticker\n",
    "import glob\n"
   ]
  },
  {
   "cell_type": "code",
   "execution_count": 2,
   "id": "8eb9ec0b-31ff-4a23-800e-7a4a104fa791",
   "metadata": {},
   "outputs": [],
   "source": [
    "# def cal_eff_purity(file, tree, base_filter, N_gen):\n",
    "    \n",
    "#     variables = ['Dstarp_isSignal','D0_M','__experiment__', '__run__', '__event__']\n",
    "#     recon_df = get_pd(file, tree, base_filter, variables)\n",
    "\n",
    "#     if len(recon_df[[\"__experiment__\", \"__run__\", \"__event__\"]]) != 0:\n",
    "#         multiplicity = len(recon_df[[\"__experiment__\", \"__run__\", \"__event__\"]].drop_duplicates()) / len(recon_df)\n",
    "#         # multiplicity = len(recon_df[[\"__experiment__\", \"__run__\", \"__event__\"]].drop_duplicates()) / len(recon_df[[\"__experiment__\", \"__run__\", \"__event__\"]])\n",
    "\n",
    "#     N_rec = len(recon_df)\n",
    "#     eff = N_rec/N_gen\n",
    "    \n",
    "#     N_true = len(recon_df[recon_df['Dstarp_isSignal']==1])\n",
    "#     purity = N_true/N_rec\n",
    "    \n",
    "#     print(f\"eff={eff:.4f}, purity={purity:.4f}, multiplicity={multiplicity:.4f}\")\n",
    "    \n",
    "#     return (eff, purity, multiplicity)"
   ]
  },
  {
   "cell_type": "code",
   "execution_count": 3,
   "id": "b2773caf",
   "metadata": {},
   "outputs": [],
   "source": [
    "def cal_eff_purity_ownMC(file_name,file_list, tree, base_filter, N_gen):\n",
    "    \n",
    "    variables = ['Dstarp_isSignal','D0_M','__experiment__', '__run__', '__event__']\n",
    "    \n",
    "    N_rec = 0\n",
    "\n",
    "    # Initialize an empty dataframe to store concatenated results\n",
    "    concatenated_df = pd.DataFrame()\n",
    "\n",
    "    for file in file_list:\n",
    "        recon_df = get_pd(file, tree, base_filter, variables)\n",
    "        N_rec += len(recon_df)\n",
    "        extracted_df = recon_df[[\"__experiment__\", \"__run__\", \"__event__\"]].drop_duplicates()\n",
    "\n",
    "        # Concatenate the extracted dataframe with the concatenated_df\n",
    "        concatenated_df = pd.concat([concatenated_df, extracted_df], ignore_index=True)\n",
    "\n",
    "    multiplicity = len(concatenated_df) / N_rec\n",
    "\n",
    "    eff = N_rec/N_gen\n",
    "    \n",
    "    recon_df = get_pd(file_name, tree, base_filter, variables)\n",
    "    N_true = len(recon_df.query('Dstarp_isSignal==1'))\n",
    "    purity = N_true/N_rec\n",
    "    \n",
    "    print(f\"eff={eff:.4f}, purity={purity:.4f}, multiplicity={multiplicity:.4f}\")\n",
    "    \n",
    "    return (eff, purity, multiplicity)"
   ]
  },
  {
   "cell_type": "markdown",
   "id": "445daab9-12c4-4fa5-a870-02ca4d62c768",
   "metadata": {},
   "source": [
    "# ref for phi"
   ]
  },
  {
   "cell_type": "markdown",
   "id": "af8b88cd-0410-4b60-b41f-c2c0d0eb47af",
   "metadata": {},
   "source": [
    "## ref_phi"
   ]
  },
  {
   "cell_type": "code",
   "execution_count": 76,
   "id": "ad73532b",
   "metadata": {},
   "outputs": [
    {
     "name": "stdout",
     "output_type": "stream",
     "text": [
      "eff=0.2518, purity=0.9841, multiplicity=1.0000\n"
     ]
    },
    {
     "data": {
      "text/plain": [
       "(0.251849, 0.9841373203784808, 1.0)"
      ]
     },
     "execution_count": 76,
     "metadata": {},
     "output_type": "execute_result"
    }
   ],
   "source": [
    "file = '/media/jykim/T7/storage/ref_study_signalMC/ntuples/'\n",
    "file += 'ref_phi/ref_optv1_sigext_D2kpkm_signal_own_1M_recon_mdst_10000_*.root'\n",
    "base_filter=' D0_M>1.83 && D0_M<1.9 && ref_phi_rank_Dstp==1 '\n",
    "tree = 'ref_phi'\n",
    "root_files = glob.glob(file)\n",
    "print(len(root_files))\n",
    "cal_eff_purity_ownMC(file,root_files, tree, base_filter, 1e+6)"
   ]
  },
  {
   "cell_type": "code",
   "execution_count": 6,
   "id": "f07cb613-7459-425e-a765-90ae2d514416",
   "metadata": {},
   "outputs": [
    {
     "name": "stdout",
     "output_type": "stream",
     "text": [
      "100\n",
      "eff=0.2522, purity=0.9839, multiplicity=0.9987\n"
     ]
    }
   ],
   "source": [
    "file = '/media/jykim/T7/storage/ref_study_signalMC/ntuples/'\n",
    "file += 'ref_phi/ref_optv1_sigext_D2kpkm_signal_own_1M_recon_mdst_10000_*.root'\n",
    "base_filter=' D0_M>1.83 && D0_M<1.9'\n",
    "tree = 'ref_phi'\n",
    "root_files = glob.glob(file)\n",
    "print(len(root_files))\n",
    "D0eff,D0purity,D0multiplicity = cal_eff_purity_ownMC(file, root_files, tree, base_filter, 1e+6)"
   ]
  },
  {
   "cell_type": "markdown",
   "id": "ecd6f495-5968-4829-9161-56e5a01f4d3a",
   "metadata": {},
   "source": [
    "## ref_phi_cc"
   ]
  },
  {
   "cell_type": "code",
   "execution_count": 80,
   "id": "c7e8e809-99de-4a60-a739-7421da525763",
   "metadata": {},
   "outputs": [
    {
     "name": "stdout",
     "output_type": "stream",
     "text": [
      "eff=0.2454, purity=0.9849, multiplicity=1.0000\n"
     ]
    },
    {
     "data": {
      "text/plain": [
       "(0.245361, 0.9848508931737318, 1.0)"
      ]
     },
     "execution_count": 80,
     "metadata": {},
     "output_type": "execute_result"
    }
   ],
   "source": [
    "file = '/media/jykim/T7/storage/ref_study_signalMC/ntuples/'\n",
    "file += 'ref_phi/ref_optv1_sigext_cc_D2kpkm_signal_own_1M_recon_mdst_10000_*.root'\n",
    "base_filter=' D0_M>1.83 && D0_M<1.9 && ref_phi_rank_Dstm==1 '\n",
    "tree = 'ref_phi_cc'\n",
    "root_files = glob.glob(file)\n",
    "print(len(root_files))\n",
    "cal_eff_purity_ownMC(file,root_files, tree, base_filter, 1e+6)\n"
   ]
  },
  {
   "cell_type": "code",
   "execution_count": 7,
   "id": "3e7e70e1",
   "metadata": {},
   "outputs": [
    {
     "name": "stdout",
     "output_type": "stream",
     "text": [
      "100\n",
      "eff=0.2457, purity=0.9845, multiplicity=0.9988\n"
     ]
    }
   ],
   "source": [
    "file = '/media/jykim/T7/storage/ref_study_signalMC/ntuples/'\n",
    "file += 'ref_phi/ref_optv1_sigext_cc_D2kpkm_signal_own_1M_recon_mdst_10000_*.root'\n",
    "base_filter=' D0_M>1.83 && D0_M<1.9 '\n",
    "tree = 'ref_phi_cc'\n",
    "root_files = glob.glob(file)\n",
    "print(len(root_files))\n",
    "D0bareff,D0barpurity,D0barmultiplicity = cal_eff_purity_ownMC(file,root_files, tree, base_filter, 1e+6)\n",
    " "
   ]
  },
  {
   "cell_type": "code",
   "execution_count": 8,
   "id": "ec6a0074",
   "metadata": {},
   "outputs": [
    {
     "name": "stdout",
     "output_type": "stream",
     "text": [
      "Data saved to /media/jykim/T7/saved_plots/Measurement/phi/ref_eff_D0_D0bar.csv\n"
     ]
    }
   ],
   "source": [
    "(D0eff + D0bareff)/2\n",
    "\n",
    "import csv\n",
    "\n",
    "# Your dictionary\n",
    "data_dict = {\n",
    "    'Eff': [D0eff, D0bareff],\n",
    "    'Purity': [D0purity, D0barpurity],\n",
    "    'Multiplicity': [D0multiplicity, D0barmultiplicity]\n",
    "}\n",
    "\n",
    "# CSV file name\n",
    "csv_file = '/media/jykim/T7/saved_plots/Measurement/phi/ref_eff_D0_D0bar.csv'\n",
    "\n",
    "# Write the dictionary to a CSV file\n",
    "with open(csv_file, 'w', newline='') as file:\n",
    "    writer = csv.writer(file)\n",
    "    \n",
    "    # Write the header row\n",
    "    header = list(data_dict.keys())\n",
    "    writer.writerow(header)\n",
    "    \n",
    "    # Write the data rows\n",
    "    for row in zip(*data_dict.values()):\n",
    "        writer.writerow(row)\n",
    "\n",
    "print(f'Data saved to {csv_file}')"
   ]
  },
  {
   "cell_type": "code",
   "execution_count": 43,
   "id": "5d8286ec",
   "metadata": {},
   "outputs": [
    {
     "name": "stdout",
     "output_type": "stream",
     "text": [
      "eff=0.2454, purity=0.9849, multiplicity=0.0408\n"
     ]
    },
    {
     "data": {
      "text/plain": [
       "(0.245361, 0.9848508931737318, 0.04075627340938454)"
      ]
     },
     "execution_count": 43,
     "metadata": {},
     "output_type": "execute_result"
    }
   ],
   "source": [
    "# file = '/media/jykim/T7/storage/ref_study_signalMC/ntuples/'\n",
    "# file += 'ref_phi/ref_optv1_sigext_cc_D2kpkm_signal_own_1M_recon_mdst_10000_*.root'\n",
    "# base_filter=' D0_M>1.83 && D0_M<1.9 && ref_phi_rank_Dstm==1 '\n",
    "# tree = 'ref_phi_cc'\n",
    "\n",
    "# #cal_eff_purity(file, tree, base_filter, 1e+6*0d.4897)\n",
    "# cal_eff_purity(file, tree, base_filter, 1e+6)"
   ]
  },
  {
   "cell_type": "code",
   "execution_count": null,
   "id": "79016a29-f317-4070-95a1-03080754f839",
   "metadata": {},
   "outputs": [],
   "source": []
  },
  {
   "cell_type": "markdown",
   "id": "8120f530",
   "metadata": {},
   "source": [
    "## ref_antiKstar"
   ]
  },
  {
   "cell_type": "code",
   "execution_count": 83,
   "id": "ae0c4721",
   "metadata": {},
   "outputs": [
    {
     "name": "stdout",
     "output_type": "stream",
     "text": [
      "eff=2.6058, purity=0.9834, multiplicity=1.0000\n"
     ]
    },
    {
     "data": {
      "text/plain": [
       "(2.605765, 0.9834037221315046, 1.0)"
      ]
     },
     "execution_count": 83,
     "metadata": {},
     "output_type": "execute_result"
    }
   ],
   "source": [
    "file = '/media/jykim/T7/storage/ref_study_signalMC/ntuples/'\n",
    "file += 'ref_antiKstar/ref_optv1_sigext_D2kmpip_signal_10M_recon_mdst_*.root'\n",
    "base_filter=' D0_M>1.83 && D0_M<1.9 && ref_antiKstar_rank_Dstp==1 '\n",
    "tree = 'ref_antiKstar'\n",
    "root_files = glob.glob(file)\n",
    "print(len(root_files))\n",
    "cal_eff_purity_ownMC(file,root_files, tree, base_filter, 1e+6)"
   ]
  },
  {
   "cell_type": "code",
   "execution_count": 84,
   "id": "15568aaa",
   "metadata": {},
   "outputs": [
    {
     "name": "stdout",
     "output_type": "stream",
     "text": [
      "eff=2.6105, purity=0.9829, multiplicity=0.9984\n"
     ]
    },
    {
     "data": {
      "text/plain": [
       "(2.610483, 0.9829188698030211, 0.998437836982658)"
      ]
     },
     "execution_count": 84,
     "metadata": {},
     "output_type": "execute_result"
    }
   ],
   "source": [
    "file = '/media/jykim/T7/storage/ref_study_signalMC/ntuples/'\n",
    "file += 'ref_antiKstar/ref_optv1_sigext_D2kmpip_signal_10M_recon_mdst_*.root'\n",
    "base_filter=' D0_M>1.83 && D0_M<1.9  '\n",
    "tree = 'ref_antiKstar'\n",
    "root_files = glob.glob(file)\n",
    "print(len(root_files))\n",
    "cal_eff_purity_ownMC(file,root_files, tree, base_filter, 1e+6)"
   ]
  },
  {
   "cell_type": "code",
   "execution_count": 85,
   "id": "65e622de",
   "metadata": {},
   "outputs": [],
   "source": [
    "# file = '/media/jykim/T7/storage/ref_study_signalMC/ntuples/'\n",
    "# file += 'ref_antiKstar/ref_optv1_sigext_D2kmpip_signal_10M_recon_mdst_*.root'\n",
    "# base_filter=' D0_M>1.83 && D0_M<1.9 && ref_antiKstar_rank_Dstp==1 '\n",
    "# tree = 'ref_antiKstar'\n",
    "\n",
    "# #cal_eff_purity(file, tree, base_filter, 1e+6*0.4897)\n",
    "# cal_eff_purity(file, tree, base_filter, 10e+6)"
   ]
  },
  {
   "cell_type": "code",
   "execution_count": 86,
   "id": "7b40c171",
   "metadata": {},
   "outputs": [],
   "source": [
    "# file = '/media/jykim/T7/storage/ref_study_signalMC/ntuples/'\n",
    "# file += 'ref_antiKstar/ref_optv1_sigext_D2kmpip_signal_10M_recon_mdst_*.root'\n",
    "# base_filter=' D0_M>1.83 && D0_M<1.9 '\n",
    "# tree = 'ref_antiKstar'\n",
    "\n",
    "# #cal_eff_purity(file, tree, base_filter, 1e+6*0.4897)\n",
    "# cal_eff_purity(file, tree, base_filter, 10e+6)"
   ]
  },
  {
   "cell_type": "markdown",
   "id": "30413611",
   "metadata": {},
   "source": [
    "## ref_antiKstar_cc"
   ]
  },
  {
   "cell_type": "code",
   "execution_count": null,
   "id": "78dc7484",
   "metadata": {},
   "outputs": [],
   "source": [
    "file = '/media/jykim/T7/storage/ref_study_signalMC/ntuples/'\n",
    "file += 'ref_antiKstar/ref_optv1_sigext_cc_D2kmpip_signal_10M_recon_mdst_*.root'\n",
    "base_filter=' D0_M>1.83 && D0_M<1.9 && ref_antiKstar_rank_Dstm==1 '\n",
    "tree = 'ref_antiKstar_cc'\n",
    "root_files = glob.glob(file)\n",
    "print(len(root_files))\n",
    "cal_eff_purity_ownMC(file,root_files, tree, base_filter, 1e+6)"
   ]
  },
  {
   "cell_type": "code",
   "execution_count": 87,
   "id": "12a05509",
   "metadata": {},
   "outputs": [
    {
     "name": "stdout",
     "output_type": "stream",
     "text": [
      "eff=2.5129, purity=0.9834, multiplicity=0.9985\n"
     ]
    },
    {
     "data": {
      "text/plain": [
       "(2.512941, 0.9833657057607003, 0.9985216525179063)"
      ]
     },
     "execution_count": 87,
     "metadata": {},
     "output_type": "execute_result"
    }
   ],
   "source": [
    "file = '/media/jykim/T7/storage/ref_study_signalMC/ntuples/'\n",
    "file += 'ref_antiKstar/ref_optv1_sigext_cc_D2kmpip_signal_10M_recon_mdst_*.root'\n",
    "base_filter=' D0_M>1.83 && D0_M<1.9  '\n",
    "tree = 'ref_antiKstar_cc'\n",
    "root_files = glob.glob(file)\n",
    "print(len(root_files))\n",
    "cal_eff_purity_ownMC(file,root_files, tree, base_filter, 10e+6)"
   ]
  },
  {
   "cell_type": "code",
   "execution_count": null,
   "id": "13b52ce7",
   "metadata": {},
   "outputs": [],
   "source": []
  },
  {
   "cell_type": "markdown",
   "id": "0c66bab8",
   "metadata": {},
   "source": [
    "## ref_rho"
   ]
  },
  {
   "cell_type": "code",
   "execution_count": 88,
   "id": "afb52867",
   "metadata": {},
   "outputs": [
    {
     "name": "stdout",
     "output_type": "stream",
     "text": [
      "eff=0.2514, purity=0.9844, multiplicity=1.0000\n"
     ]
    },
    {
     "data": {
      "text/plain": [
       "(0.251434, 0.9844253362711487, 1.0)"
      ]
     },
     "execution_count": 88,
     "metadata": {},
     "output_type": "execute_result"
    }
   ],
   "source": [
    "file = '/media/jykim/T7/storage/ref_study_signalMC/ntuples/'\n",
    "file += 'ref_rho/ref_optv1_sigext_D2pippim_signal_own_1M_recon_mdst_10000_*.root'\n",
    "base_filter=' D0_M>1.83 && D0_M<1.9 && ref_rho_rank_Dstp==1 '\n",
    "tree = 'ref_rho'\n",
    "root_files = glob.glob(file)\n",
    "print(len(root_files))\n",
    "cal_eff_purity_ownMC(file,root_files, tree, base_filter, 1e+6)"
   ]
  },
  {
   "cell_type": "code",
   "execution_count": 89,
   "id": "8cd4ddea",
   "metadata": {},
   "outputs": [
    {
     "name": "stdout",
     "output_type": "stream",
     "text": [
      "eff=0.2519, purity=0.9837, multiplicity=0.9985\n"
     ]
    },
    {
     "data": {
      "text/plain": [
       "(0.251855, 0.9837327033412082, 0.998479283714836)"
      ]
     },
     "execution_count": 89,
     "metadata": {},
     "output_type": "execute_result"
    }
   ],
   "source": [
    "file = '/media/jykim/T7/storage/ref_study_signalMC/ntuples/'\n",
    "file += 'ref_rho/ref_optv1_sigext_D2pippim_signal_own_1M_recon_mdst_10000_*.root'\n",
    "base_filter=' D0_M>1.83 && D0_M<1.9 '\n",
    "tree = 'ref_rho'\n",
    "root_files = glob.glob(file)\n",
    "print(len(root_files))\n",
    "cal_eff_purity_ownMC(file,root_files, tree, base_filter, 1e+6)"
   ]
  },
  {
   "cell_type": "markdown",
   "id": "71bbff64",
   "metadata": {},
   "source": [
    "## ref_rho_cc"
   ]
  },
  {
   "cell_type": "code",
   "execution_count": 90,
   "id": "3ac71099",
   "metadata": {},
   "outputs": [
    {
     "name": "stdout",
     "output_type": "stream",
     "text": [
      "eff=0.2460, purity=0.9849, multiplicity=1.0000\n"
     ]
    },
    {
     "data": {
      "text/plain": [
       "(0.245986, 0.98488938394868, 1.0)"
      ]
     },
     "execution_count": 90,
     "metadata": {},
     "output_type": "execute_result"
    }
   ],
   "source": [
    "file = '/media/jykim/T7/storage/ref_study_signalMC/ntuples/'\n",
    "file += 'ref_rho/ref_optv1_sigext_cc_D2pippim_signal_own_1M_recon_mdst_10000_*.root'\n",
    "base_filter=' D0_M>1.83 && D0_M<1.9 && ref_rho_rank_Dstm==1 '\n",
    "tree = 'ref_rho_cc'\n",
    "root_files = glob.glob(file)\n",
    "print(len(root_files))\n",
    "cal_eff_purity_ownMC(file,root_files, tree, base_filter, 1e+6)"
   ]
  },
  {
   "cell_type": "code",
   "execution_count": 91,
   "id": "4d26d8dd",
   "metadata": {},
   "outputs": [
    {
     "name": "stdout",
     "output_type": "stream",
     "text": [
      "eff=0.2464, purity=0.9843, multiplicity=0.9986\n"
     ]
    },
    {
     "data": {
      "text/plain": [
       "(0.246373, 0.984348934339396, 0.9985996842186441)"
      ]
     },
     "execution_count": 91,
     "metadata": {},
     "output_type": "execute_result"
    }
   ],
   "source": [
    "file = '/media/jykim/T7/storage/ref_study_signalMC/ntuples/'\n",
    "file += 'ref_rho/ref_optv1_sigext_cc_D2pippim_signal_own_1M_recon_mdst_10000_*.root'\n",
    "base_filter=' D0_M>1.83 && D0_M<1.9'\n",
    "tree = 'ref_rho_cc'\n",
    "root_files = glob.glob(file)\n",
    "print(len(root_files))\n",
    "cal_eff_purity_ownMC(file,root_files, tree, base_filter, 1e+6)"
   ]
  },
  {
   "cell_type": "code",
   "execution_count": 92,
   "id": "c07885fc",
   "metadata": {},
   "outputs": [
    {
     "name": "stdout",
     "output_type": "stream",
     "text": [
      "100\n"
     ]
    }
   ],
   "source": [
    "print(len(root_files))"
   ]
  },
  {
   "cell_type": "markdown",
   "id": "5dd1b7e8",
   "metadata": {},
   "source": [
    "## ref_omega"
   ]
  },
  {
   "cell_type": "markdown",
   "id": "e57e5df8",
   "metadata": {},
   "source": [
    "## ref_omega_cc"
   ]
  },
  {
   "cell_type": "markdown",
   "id": "57e2778c",
   "metadata": {},
   "source": []
  }
 ],
 "metadata": {
  "kernelspec": {
   "display_name": "Python 3 (ipykernel)",
   "language": "python",
   "name": "python3"
  },
  "language_info": {
   "codemirror_mode": {
    "name": "ipython",
    "version": 3
   },
   "file_extension": ".py",
   "mimetype": "text/x-python",
   "name": "python",
   "nbconvert_exporter": "python",
   "pygments_lexer": "ipython3",
   "version": "3.10.5"
  }
 },
 "nbformat": 4,
 "nbformat_minor": 5
}
