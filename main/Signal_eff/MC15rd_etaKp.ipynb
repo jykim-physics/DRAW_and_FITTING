{
 "cells": [
  {
   "cell_type": "code",
   "execution_count": 6,
   "id": "5adcc8c9-ff97-4b65-b9a0-50c10469c7b3",
   "metadata": {},
   "outputs": [
    {
     "name": "stdout",
     "output_type": "stream",
     "text": [
      "The autoreload extension is already loaded. To reload it, use:\n",
      "  %reload_ext autoreload\n"
     ]
    }
   ],
   "source": [
    "%matplotlib inline\n",
    "%load_ext autoreload\n",
    "%autoreload 2\n",
    "import seaborn as sns\n",
    "import matplotlib.pyplot as plt\n",
    "import numpy as np\n",
    "import pandas as pd\n",
    "import math\n",
    "import glob\n",
    "try:\n",
    "#     plt.style.use('belle2')\n",
    "    plt.style.use('belle2_serif')\n",
    "#     plt.style.use('belle2_modern')\n",
    "except OSError:\n",
    "    print(\"Please install belle2 matplotlib style\")   \n",
    "px = 1/plt.rcParams['figure.dpi']\n",
    "\n",
    "from main.data_tools.extract_ntuples import get_pd, get_np\n",
    "from main.draw_tools.decorations import b2helix, watermark\n",
    "from mpl_toolkits.axes_grid1 import make_axes_locatable\n",
    "\n",
    "import matplotlib.cm as cm\n",
    "import matplotlib.ticker as ticker"
   ]
  },
  {
   "cell_type": "code",
   "execution_count": 7,
   "id": "3c1f1fcf-9749-4610-a005-2823f5df2cf7",
   "metadata": {},
   "outputs": [],
   "source": [
    "def cal_eff_purity_ownMC(file_name,file_list, tree, base_filter, N_gen):\n",
    "    \n",
    "    variables = ['Dp_isSignal','Dp_M','__experiment__', '__run__', '__event__']\n",
    "    \n",
    "    N_rec = 0\n",
    "    N_rec_true = 0\n",
    "\n",
    "    # Initialize an empty dataframe to store concatenated results\n",
    "    concatenated_df = pd.DataFrame()\n",
    "\n",
    "    for file in file_list:\n",
    "        recon_df = get_pd(file, tree, base_filter, variables)\n",
    "        N_rec += len(recon_df)\n",
    "        extracted_df = recon_df[[\"__experiment__\", \"__run__\", \"__event__\"]].drop_duplicates()\n",
    "\n",
    "        # Concatenate the extracted dataframe with the concatenated_df\n",
    "        concatenated_df = pd.concat([concatenated_df, extracted_df], ignore_index=True)\n",
    "\n",
    "    multiplicity = len(concatenated_df) / N_rec\n",
    "\n",
    "    eff = N_rec/N_gen\n",
    "\n",
    "    # Initialize an empty dataframe to store concatenated results\n",
    "    concatenated_df2 = pd.DataFrame()\n",
    "\n",
    "    N_rec2 = 0\n",
    "    N_rec_true2 = 0\n",
    "    \n",
    "    for file in file_list:\n",
    "        recon_df2 = get_pd(file, tree, base_filter, variables)\n",
    "        N_rec2 += len(recon_df2)\n",
    "        extracted_df2 = recon_df2.query('Dp_isSignal==1')\n",
    "        N_rec_true2 += len(extracted_df2)\n",
    "\n",
    "        # Concatenate the extracted dataframe with the concatenated_df\n",
    "        concatenated_df2 = pd.concat([concatenated_df2, extracted_df2], ignore_index=True)\n",
    "    \n",
    "    purity = N_rec_true2/N_rec2\n",
    "    \n",
    "    print(f\"eff={eff:.5f}, purity={purity:.5f}, multiplicity={multiplicity:.5f}\")\n",
    "    \n",
    "    return (eff, purity, multiplicity)"
   ]
  },
  {
   "cell_type": "code",
   "execution_count": 8,
   "id": "d33883ee-c070-4095-8511-224975653697",
   "metadata": {},
   "outputs": [],
   "source": [
    "def calculate_sig_eff_err(eff, N_gen):\n",
    "\n",
    "    error = math.sqrt(eff * (1 - eff) / N_gen)\n",
    "    return error"
   ]
  },
  {
   "cell_type": "markdown",
   "id": "a0b95fe7-61e7-4432-998a-e3ec205a4b91",
   "metadata": {},
   "source": [
    "# D+ -> eta K+"
   ]
  },
  {
   "cell_type": "code",
   "execution_count": 9,
   "id": "7bb594c9-3497-4c24-8e30-5ec0ca2961ea",
   "metadata": {},
   "outputs": [],
   "source": [
    "# Numer of files should be 22*2 = 44"
   ]
  },
  {
   "cell_type": "code",
   "execution_count": 10,
   "id": "fe07af00-cfe5-4c88-8335-dd1b89c7b0a2",
   "metadata": {},
   "outputs": [
    {
     "name": "stdout",
     "output_type": "stream",
     "text": [
      "25\n",
      "eff=0.02320, purity=0.98961, multiplicity=1.00000\n"
     ]
    }
   ],
   "source": [
    "file = '/share/storage/jykim/storage_ghi/Ntuples_ghi_2/MC15rd_sigMC/DptoetaKp_gg/241114_loose_v2/etapip_gg_K/*BCS.root'\n",
    "base_filter=' Dp_M>1.76 && Dp_M<1.96'\n",
    "base_filter=' Dp_M>1.78 && Dp_M<1.94'\n",
    "\n",
    "tree = 'etapip_gg_K'\n",
    "root_files = glob.glob(file)\n",
    "\n",
    "file_cc = '/share/storage/jykim/storage_ghi/Ntuples_ghi_2/MC15rd_sigMC/DptoetaKp_gg_cc/241114_loose_v2/etapip_gg_K/*BCS.root'\n",
    "root_files += glob.glob(file_cc)\n",
    "\n",
    "print(len(root_files))\n",
    "\n",
    "D0eff,D0purity,D0multiplicity = cal_eff_purity_ownMC(file,root_files, tree, base_filter, 6e+6)"
   ]
  },
  {
   "cell_type": "code",
   "execution_count": 6,
   "id": "98e35cac-91d7-408a-9d9f-5dfe2db1f5be",
   "metadata": {},
   "outputs": [
    {
     "data": {
      "text/plain": [
       "6.0976486041752195e-05"
      ]
     },
     "execution_count": 6,
     "metadata": {},
     "output_type": "execute_result"
    }
   ],
   "source": [
    "calculate_sig_eff_err(0.02283, 6e+6)"
   ]
  },
  {
   "cell_type": "code",
   "execution_count": 7,
   "id": "4569bd46-3ab1-4a89-b3df-7b8ded53d770",
   "metadata": {},
   "outputs": [],
   "source": [
    "# Numer of files should be 23*2 = 46"
   ]
  },
  {
   "cell_type": "code",
   "execution_count": 11,
   "id": "9a7ad9dc-6558-4026-99c7-ffb6801dc420",
   "metadata": {},
   "outputs": [
    {
     "name": "stdout",
     "output_type": "stream",
     "text": [
      "46\n",
      "eff=0.02898, purity=0.94241, multiplicity=1.00000\n"
     ]
    }
   ],
   "source": [
    "file = '/share/storage/jykim/storage_ghi/Ntuples_ghi_2/MC15rd_sigMC/DptoetaKp_pipipi/241114_loose_v2/etapip_pipipi_K/*BCS.root'\n",
    "base_filter=' Dp_M>1.8 && Dp_M<1.93'\n",
    "\n",
    "tree = 'etapip_pipipi_K'\n",
    "root_files = glob.glob(file)\n",
    "\n",
    "file_cc = '/share/storage/jykim/storage_ghi/Ntuples_ghi_2/MC15rd_sigMC/DptoetaKp_pipipi_cc/241114_loose_v2/etapip_pipipi_K/*BCS.root'\n",
    "root_files += glob.glob(file_cc)\n",
    "\n",
    "print(len(root_files))\n",
    "\n",
    "D0eff,D0purity,D0multiplicity = cal_eff_purity_ownMC(file,root_files, tree, base_filter, 6e+6)"
   ]
  },
  {
   "cell_type": "code",
   "execution_count": 9,
   "id": "57c7d9e9-d91b-43e1-bb7d-68d9d59d5743",
   "metadata": {},
   "outputs": [
    {
     "data": {
      "text/plain": [
       "6.848376887993242e-05"
      ]
     },
     "execution_count": 9,
     "metadata": {},
     "output_type": "execute_result"
    }
   ],
   "source": [
    "calculate_sig_eff_err(0.02898, 6e+6)"
   ]
  },
  {
   "cell_type": "markdown",
   "id": "4fed3aeb-f8f6-4f93-a14b-dc7af207319b",
   "metadata": {},
   "source": [
    "## reference"
   ]
  },
  {
   "cell_type": "code",
   "execution_count": 10,
   "id": "2ada2f5c-57ed-4469-918c-8ec12f4eac92",
   "metadata": {},
   "outputs": [
    {
     "name": "stdout",
     "output_type": "stream",
     "text": [
      "44\n",
      "eff=0.05682, purity=0.98652, multiplicity=1.00000\n"
     ]
    }
   ],
   "source": [
    "file = '/share/storage/jykim/storage_ghi/Ntuples_ghi_2/MC15rd_sigMC/Dptoetapip_gg/241114_loose_v2/etapip_gg/ref/*BCS.root'\n",
    "base_filter=' Dp_M>1.7 && Dp_M<2.06'\n",
    "base_filter=' Dp_M>1.76 && Dp_M<1.96'\n",
    "\n",
    "tree = 'etapip_gg'\n",
    "root_files = glob.glob(file)\n",
    "\n",
    "file_cc = '/share/storage/jykim/storage_ghi/Ntuples_ghi_2/MC15rd_sigMC/Dptoetapip_gg_cc/241114_loose_v2/etapip_gg/ref/*BCS.root'\n",
    "root_files += glob.glob(file_cc)\n",
    "\n",
    "print(len(root_files))\n",
    "\n",
    "D0eff,D0purity,D0multiplicity = cal_eff_purity_ownMC(file,root_files, tree, base_filter, 6e+6)"
   ]
  },
  {
   "cell_type": "code",
   "execution_count": 12,
   "id": "0921ae80-2d5a-4cdb-b7d7-164588e31754",
   "metadata": {},
   "outputs": [
    {
     "data": {
      "text/plain": [
       "9.450880699702012e-05"
      ]
     },
     "execution_count": 12,
     "metadata": {},
     "output_type": "execute_result"
    }
   ],
   "source": [
    "calculate_sig_eff_err(0.05682, 6e+6)"
   ]
  },
  {
   "cell_type": "code",
   "execution_count": 13,
   "id": "17b2900d-198f-430a-814a-f1365eda07ed",
   "metadata": {},
   "outputs": [
    {
     "name": "stdout",
     "output_type": "stream",
     "text": [
      "46\n",
      "eff=0.03665, purity=0.94822, multiplicity=1.00000\n"
     ]
    }
   ],
   "source": [
    "file = '/share/storage/jykim/storage_ghi/Ntuples_ghi_2/MC15rd_sigMC/Dptoetapip_pipipi/241114_loose_v2/etapip_pipipi/ref/*BCS.root'\n",
    "base_filter=' Dp_M>1.8 && Dp_M<1.93'\n",
    "\n",
    "tree = 'etapip_pipipi'\n",
    "root_files = glob.glob(file)\n",
    "\n",
    "file_cc = '/share/storage/jykim/storage_ghi/Ntuples_ghi_2/MC15rd_sigMC/Dptoetapip_pipipi_cc/241114_loose_v2/etapip_pipipi/ref/*BCS.root'\n",
    "root_files += glob.glob(file_cc)\n",
    "\n",
    "print(len(root_files))\n",
    "\n",
    "D0eff,D0purity,D0multiplicity = cal_eff_purity_ownMC(file,root_files, tree, base_filter, 6e+6)"
   ]
  },
  {
   "cell_type": "code",
   "execution_count": 14,
   "id": "6a8552cd-8c05-4630-91eb-f6e296d60523",
   "metadata": {},
   "outputs": [
    {
     "data": {
      "text/plain": [
       "7.671025300875148e-05"
      ]
     },
     "execution_count": 14,
     "metadata": {},
     "output_type": "execute_result"
    }
   ],
   "source": [
    "calculate_sig_eff_err(0.03665, 6e+6)"
   ]
  },
  {
   "cell_type": "code",
   "execution_count": null,
   "id": "131702ca-3515-43f6-9c58-e6715ca61047",
   "metadata": {},
   "outputs": [],
   "source": []
  },
  {
   "cell_type": "markdown",
   "id": "3389994d-f9ae-47fb-875a-17aabdaa4c28",
   "metadata": {},
   "source": [
    "# Ds+ -> eta K+"
   ]
  },
  {
   "cell_type": "code",
   "execution_count": 14,
   "id": "99f9c817-4c13-4faa-ad90-1c869f7dcece",
   "metadata": {},
   "outputs": [
    {
     "name": "stdout",
     "output_type": "stream",
     "text": [
      "44\n",
      "eff=0.02672, purity=0.00001, multiplicity=1.00000\n"
     ]
    }
   ],
   "source": [
    "file = '/share/storage/jykim/storage_ghi/Ntuples_ghi_2/MC15rd_sigMC/DsptoetaKp_gg/241114_loose_v2/etapip_gg_K/*BCS.root'\n",
    "base_filter=' Dp_M>1.86 && Dp_M<2.06'\n",
    "\n",
    "tree = 'etapip_gg_K'\n",
    "root_files = glob.glob(file)\n",
    "\n",
    "file_cc = '/share/storage/jykim/storage_ghi/Ntuples_ghi_2/MC15rd_sigMC/DsptoetaKp_gg_cc/241114_loose_v2/etapip_gg_K/*BCS.root'\n",
    "root_files += glob.glob(file_cc)\n",
    "\n",
    "print(len(root_files))\n",
    "\n",
    "D0eff,D0purity,D0multiplicity = cal_eff_purity_ownMC(file,root_files, tree, base_filter, 6e+6)"
   ]
  },
  {
   "cell_type": "code",
   "execution_count": 15,
   "id": "fb1102bb-f5b8-47bf-a840-3ffc308571ff",
   "metadata": {},
   "outputs": [
    {
     "data": {
      "text/plain": [
       "6.583570662388813e-05"
      ]
     },
     "execution_count": 15,
     "metadata": {},
     "output_type": "execute_result"
    }
   ],
   "source": [
    "calculate_sig_eff_err(0.02672, 6e+6)"
   ]
  },
  {
   "cell_type": "code",
   "execution_count": 16,
   "id": "f5a1a946-2e7c-4bcf-a645-23e042e3314d",
   "metadata": {},
   "outputs": [
    {
     "name": "stdout",
     "output_type": "stream",
     "text": [
      "46\n",
      "eff=0.01666, purity=0.00000, multiplicity=1.00000\n"
     ]
    }
   ],
   "source": [
    "file = '/share/storage/jykim/storage_ghi/Ntuples_ghi_2/MC15rd_sigMC/DsptoetaKp_pipipi/241114_loose_v2/etapip_pipipi_K/*BCS.root'\n",
    "base_filter=' Dp_M>1.91 && Dp_M<2.02'\n",
    "\n",
    "tree = 'etapip_pipipi_K'\n",
    "root_files = glob.glob(file)\n",
    "\n",
    "file_cc = '/share/storage/jykim/storage_ghi/Ntuples_ghi_2/MC15rd_sigMC/DsptoetaKp_pipipi_cc/241114_loose_v2/etapip_pipipi_K/*BCS.root'\n",
    "root_files += glob.glob(file_cc)\n",
    "\n",
    "print(len(root_files))\n",
    "\n",
    "D0eff,D0purity,D0multiplicity = cal_eff_purity_ownMC(file,root_files, tree, base_filter, 6e+6)"
   ]
  },
  {
   "cell_type": "code",
   "execution_count": 17,
   "id": "f1ebcf92-8895-44b2-ab14-e9e10d34dd3c",
   "metadata": {},
   "outputs": [
    {
     "data": {
      "text/plain": [
       "5.225330037423474e-05"
      ]
     },
     "execution_count": 17,
     "metadata": {},
     "output_type": "execute_result"
    }
   ],
   "source": [
    "calculate_sig_eff_err(0.01666, 6e+6)"
   ]
  },
  {
   "cell_type": "markdown",
   "id": "8d11ec24-cb61-4617-b736-2a6167f918d4",
   "metadata": {},
   "source": [
    "## reference\n"
   ]
  },
  {
   "cell_type": "code",
   "execution_count": 18,
   "id": "d8f77e09-3866-4dd3-886d-bb9e208f98f7",
   "metadata": {},
   "outputs": [
    {
     "name": "stdout",
     "output_type": "stream",
     "text": [
      "44\n",
      "eff=0.10557, purity=0.00018, multiplicity=1.00000\n"
     ]
    }
   ],
   "source": [
    "file = '/share/storage/jykim/storage_ghi/Ntuples_ghi_2/MC15rd_sigMC/Dsptoetapip_gg/241114_loose_v2/etapip_gg/ref/*BCS.root'\n",
    "base_filter=' Dp_M>1.87 && Dp_M<2.05'\n",
    "\n",
    "tree = 'etapip_gg'\n",
    "root_files = glob.glob(file)\n",
    "\n",
    "file_cc = '/share/storage/jykim/storage_ghi/Ntuples_ghi_2/MC15rd_sigMC/Dsptoetapip_gg_cc/241114_loose_v2/etapip_gg/ref/*BCS.root'\n",
    "root_files += glob.glob(file_cc)\n",
    "\n",
    "print(len(root_files))\n",
    "\n",
    "D0eff,D0purity,D0multiplicity = cal_eff_purity_ownMC(file,root_files, tree, base_filter, 2e+6)"
   ]
  },
  {
   "cell_type": "code",
   "execution_count": 20,
   "id": "e0c2fd52-bc90-4b84-9a80-1faf5f565701",
   "metadata": {},
   "outputs": [
    {
     "data": {
      "text/plain": [
       "0.00012544917636238192"
      ]
     },
     "execution_count": 20,
     "metadata": {},
     "output_type": "execute_result"
    }
   ],
   "source": [
    "calculate_sig_eff_err(0.10557, 6e+6)"
   ]
  },
  {
   "cell_type": "code",
   "execution_count": 19,
   "id": "8d6c7526-a9a6-4f97-bc6c-8379a23eddb0",
   "metadata": {},
   "outputs": [
    {
     "name": "stdout",
     "output_type": "stream",
     "text": [
      "46\n",
      "eff=0.06697, purity=0.00000, multiplicity=1.00000\n"
     ]
    }
   ],
   "source": [
    "file = '/share/storage/jykim/storage_ghi/Ntuples_ghi_2/MC15rd_sigMC/Dsptoetapip_pipipi/241114_loose_v2/etapip_pipipi/ref/*BCS.root'\n",
    "base_filter=' Dp_M>1.90 && Dp_M<2.03'\n",
    "tree = 'etapip_pipipi'\n",
    "root_files = glob.glob(file)\n",
    "\n",
    "file_cc = '/share/storage/jykim/storage_ghi/Ntuples_ghi_2/MC15rd_sigMC/Dsptoetapip_pipipi_cc/241114_loose_v2/etapip_pipipi/ref/*BCS.root'\n",
    "\n",
    "root_files += glob.glob(file_cc)\n",
    "\n",
    "print(len(root_files))\n",
    "\n",
    "D0eff,D0purity,D0multiplicity = cal_eff_purity_ownMC(file,root_files, tree, base_filter, 2e+6)"
   ]
  },
  {
   "cell_type": "code",
   "execution_count": 21,
   "id": "7186bfeb-27a9-435d-91d4-526c4721024b",
   "metadata": {},
   "outputs": [
    {
     "data": {
      "text/plain": [
       "0.00010204984002927197"
      ]
     },
     "execution_count": 21,
     "metadata": {},
     "output_type": "execute_result"
    }
   ],
   "source": [
    "calculate_sig_eff_err(0.06697, 6e+6)"
   ]
  },
  {
   "cell_type": "code",
   "execution_count": null,
   "id": "3aab031c-95ac-4311-8d32-aee1a78c89b0",
   "metadata": {},
   "outputs": [],
   "source": []
  }
 ],
 "metadata": {
  "kernelspec": {
   "display_name": "Python 3 (ipykernel)",
   "language": "python",
   "name": "python3"
  },
  "language_info": {
   "codemirror_mode": {
    "name": "ipython",
    "version": 3
   },
   "file_extension": ".py",
   "mimetype": "text/x-python",
   "name": "python",
   "nbconvert_exporter": "python",
   "pygments_lexer": "ipython3",
   "version": "3.10.5"
  }
 },
 "nbformat": 4,
 "nbformat_minor": 5
}
