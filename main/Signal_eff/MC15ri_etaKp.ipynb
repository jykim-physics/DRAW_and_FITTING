{
 "cells": [
  {
   "cell_type": "code",
   "execution_count": 49,
   "id": "d2a6d65f-94fb-4eae-a02f-f6a5fe342989",
   "metadata": {},
   "outputs": [
    {
     "name": "stdout",
     "output_type": "stream",
     "text": [
      "The autoreload extension is already loaded. To reload it, use:\n",
      "  %reload_ext autoreload\n"
     ]
    }
   ],
   "source": [
    "%matplotlib inline\n",
    "%load_ext autoreload\n",
    "%autoreload 2\n",
    "import seaborn as sns\n",
    "import matplotlib.pyplot as plt\n",
    "import numpy as np\n",
    "import pandas as pd\n",
    "import math\n",
    "import glob\n",
    "try:\n",
    "#     plt.style.use('belle2')\n",
    "    plt.style.use('belle2_serif')\n",
    "#     plt.style.use('belle2_modern')\n",
    "except OSError:\n",
    "    print(\"Please install belle2 matplotlib style\")   \n",
    "px = 1/plt.rcParams['figure.dpi']\n",
    "\n",
    "from main.data_tools.extract_ntuples import get_pd, get_np\n",
    "from main.draw_tools.decorations import b2helix, watermark\n",
    "from mpl_toolkits.axes_grid1 import make_axes_locatable\n",
    "\n",
    "import matplotlib.cm as cm\n",
    "import matplotlib.ticker as ticker"
   ]
  },
  {
   "cell_type": "code",
   "execution_count": 50,
   "id": "8572eaa3-1890-4e92-92d4-2ad54aa3a4ce",
   "metadata": {},
   "outputs": [],
   "source": [
    "def cal_eff_purity_ownMC(file_name,file_list, tree, base_filter, N_gen):\n",
    "    \n",
    "    variables = ['Dp_isSignal','Dp_M','__experiment__', '__run__', '__event__']\n",
    "    \n",
    "    N_rec = 0\n",
    "    N_rec_true = 0\n",
    "\n",
    "    # Initialize an empty dataframe to store concatenated results\n",
    "    concatenated_df = pd.DataFrame()\n",
    "\n",
    "    for file in file_list:\n",
    "        recon_df = get_pd(file, tree, base_filter, variables)\n",
    "        N_rec += len(recon_df)\n",
    "        extracted_df = recon_df[[\"__experiment__\", \"__run__\", \"__event__\"]].drop_duplicates()\n",
    "\n",
    "        # Concatenate the extracted dataframe with the concatenated_df\n",
    "        concatenated_df = pd.concat([concatenated_df, extracted_df], ignore_index=True)\n",
    "\n",
    "    multiplicity = len(concatenated_df) / N_rec\n",
    "\n",
    "    eff = N_rec/N_gen\n",
    "\n",
    "    # Initialize an empty dataframe to store concatenated results\n",
    "    concatenated_df2 = pd.DataFrame()\n",
    "\n",
    "    N_rec2 = 0\n",
    "    N_rec_true2 = 0\n",
    "    \n",
    "    for file in file_list:\n",
    "        recon_df2 = get_pd(file, tree, base_filter, variables)\n",
    "        N_rec2 += len(recon_df2)\n",
    "        extracted_df2 = recon_df2.query('Dp_isSignal==1')\n",
    "        N_rec_true2 += len(extracted_df2)\n",
    "\n",
    "        # Concatenate the extracted dataframe with the concatenated_df\n",
    "        concatenated_df2 = pd.concat([concatenated_df2, extracted_df2], ignore_index=True)\n",
    "    \n",
    "    purity = N_rec_true2/N_rec2\n",
    "    \n",
    "    print(f\"eff={eff:.5f}, purity={purity:.5f}, multiplicity={multiplicity:.5f}\")\n",
    "    \n",
    "    return (eff, purity, multiplicity)"
   ]
  },
  {
   "cell_type": "code",
   "execution_count": null,
   "id": "3277c46d-568a-4c0a-9907-2ff4ad346c44",
   "metadata": {},
   "outputs": [],
   "source": []
  },
  {
   "cell_type": "markdown",
   "id": "c68e87f6-b910-47f8-a57e-68629ede53ff",
   "metadata": {},
   "source": [
    "# D+ -> eta K+"
   ]
  },
  {
   "cell_type": "code",
   "execution_count": 30,
   "id": "afec53fc-1c93-451a-8210-01a98aa4ac36",
   "metadata": {},
   "outputs": [
    {
     "name": "stdout",
     "output_type": "stream",
     "text": [
      "40\n",
      "eff=0.04398, purity=0.98431, multiplicity=1.00000\n"
     ]
    }
   ],
   "source": [
    "file = '/share/storage/jykim/storage_ghi/Ntuples_ghi_2/MC15ri_sigMC/Dptoetapip_gg/241106_loose_v2/etapip_gg_K_bdt_to_etapip_gg/*BCS.root'\n",
    "base_filter=' Dp_M>1.7 && Dp_M<2.06'\n",
    "\n",
    "tree = 'etapip_gg'\n",
    "root_files = glob.glob(file)\n",
    "\n",
    "file_cc = '/share/storage/jykim/storage_ghi/Ntuples_ghi_2/MC15ri_sigMC/Dptoetapip_gg_cc/241106_loose_v2/etapip_gg_K_bdt_to_etapip_gg/*BCS.root'\n",
    "root_files += glob.glob(file_cc)\n",
    "\n",
    "print(len(root_files))\n",
    "\n",
    "D0eff,D0purity,D0multiplicity = cal_eff_purity_ownMC(file,root_files, tree, base_filter, 2e+6)"
   ]
  },
  {
   "cell_type": "code",
   "execution_count": 51,
   "id": "51d48a06-bacc-4d64-acdb-f363079b8c72",
   "metadata": {},
   "outputs": [
    {
     "name": "stdout",
     "output_type": "stream",
     "text": [
      "40\n",
      "eff=0.04363, purity=0.98956, multiplicity=1.00000\n"
     ]
    }
   ],
   "source": [
    "file = '/share/storage/jykim/storage_ghi/Ntuples_ghi_2/MC15ri_sigMC/Dptoetapip_gg/241106_loose_v2/etapip_gg_K_bdt_to_etapip_gg/*BCS.root'\n",
    "base_filter=' Dp_M>1.7 && Dp_M<2.06'\n",
    "base_filter=' Dp_M>1.76 && Dp_M<1.96'\n",
    "\n",
    "tree = 'etapip_gg'\n",
    "root_files = glob.glob(file)\n",
    "\n",
    "file_cc = '/share/storage/jykim/storage_ghi/Ntuples_ghi_2/MC15ri_sigMC/Dptoetapip_gg_cc/241106_loose_v2/etapip_gg_K_bdt_to_etapip_gg/*BCS.root'\n",
    "root_files += glob.glob(file_cc)\n",
    "\n",
    "print(len(root_files))\n",
    "\n",
    "D0eff,D0purity,D0multiplicity = cal_eff_purity_ownMC(file,root_files, tree, base_filter, 2e+6)"
   ]
  },
  {
   "cell_type": "code",
   "execution_count": 31,
   "id": "30d05913-56bc-4aab-b566-aaa88950690f",
   "metadata": {},
   "outputs": [
    {
     "name": "stdout",
     "output_type": "stream",
     "text": [
      "40\n",
      "eff=0.04065, purity=0.98324, multiplicity=1.00000\n"
     ]
    }
   ],
   "source": [
    "file = '/share/storage/jykim/storage_ghi/Ntuples_ghi_2/MC15ri_sigMC/DptoetaKp_gg/241106_loose_v2/etapip_gg_K/*BCS.root'\n",
    "base_filter=' Dp_M>1.7 && Dp_M<2.06'\n",
    "tree = 'etapip_gg_K'\n",
    "root_files = glob.glob(file)\n",
    "\n",
    "file_cc = '/share/storage/jykim/storage_ghi/Ntuples_ghi_2/MC15ri_sigMC/DptoetaKp_gg_cc/241106_loose_v2/etapip_gg_K/*BCS.root'\n",
    "root_files += glob.glob(file_cc)\n",
    "\n",
    "print(len(root_files))\n",
    "\n",
    "D0eff,D0purity,D0multiplicity = cal_eff_purity_ownMC(file,root_files, tree, base_filter, 2e+6)"
   ]
  },
  {
   "cell_type": "code",
   "execution_count": 47,
   "id": "616c0905-1526-4878-9675-54e12f6ee43d",
   "metadata": {},
   "outputs": [
    {
     "name": "stdout",
     "output_type": "stream",
     "text": [
      "40\n",
      "eff=0.03423, purity=0.98941, multiplicity=1.00000\n"
     ]
    }
   ],
   "source": [
    "file = '/share/storage/jykim/storage_ghi/Ntuples_ghi_2/MC15ri_sigMC/DptoetaKp_gg/241106_loose_v2/etapip_gg_K/*BCS.root'\n",
    "base_filter=' Dp_M>1.7 && Dp_M<2.06'\n",
    "base_filter=' Dp_M>1.76 && Dp_M<1.96'\n",
    "\n",
    "tree = 'etapip_gg_K'\n",
    "root_files = glob.glob(file)\n",
    "\n",
    "file_cc = '/share/storage/jykim/storage_ghi/Ntuples_ghi_2/MC15ri_sigMC/DptoetaKp_gg_cc/241106_loose_v2/etapip_gg_K/*BCS.root'\n",
    "root_files += glob.glob(file_cc)\n",
    "\n",
    "print(len(root_files))\n",
    "\n",
    "D0eff,D0purity,D0multiplicity = cal_eff_purity_ownMC(file,root_files, tree, base_filter, 2e+6)"
   ]
  },
  {
   "cell_type": "code",
   "execution_count": 52,
   "id": "d057ee86-5662-4aaa-a2ca-45e999b263ac",
   "metadata": {},
   "outputs": [],
   "source": [
    "#pipipi"
   ]
  },
  {
   "cell_type": "code",
   "execution_count": 32,
   "id": "4baf1d57-7d22-45f1-90f7-cc5d6e75fb4a",
   "metadata": {},
   "outputs": [
    {
     "name": "stdout",
     "output_type": "stream",
     "text": [
      "40\n",
      "eff=0.04163, purity=0.92983, multiplicity=1.00000\n"
     ]
    }
   ],
   "source": [
    "file = '/share/storage/jykim/storage_ghi/Ntuples_ghi_2/MC15ri_sigMC/Dptoetapip_pipipi/241106_loose_v2/etapip_pipipi_K_bdt_to_etapip_pipipi/*BCS.root'\n",
    "base_filter=' Dp_M>1.7 && Dp_M<2.06'\n",
    "tree = 'etapip_pipipi'\n",
    "root_files = glob.glob(file)\n",
    "\n",
    "file_cc = '/share/storage/jykim/storage_ghi/Ntuples_ghi_2/MC15ri_sigMC/Dptoetapip_pipipi_cc/241106_loose_v2/etapip_pipipi_K_bdt_to_etapip_pipipi/*BCS.root'\n",
    "root_files += glob.glob(file_cc)\n",
    "\n",
    "print(len(root_files))\n",
    "\n",
    "D0eff,D0purity,D0multiplicity = cal_eff_purity_ownMC(file,root_files, tree, base_filter, 2e+6)"
   ]
  },
  {
   "cell_type": "code",
   "execution_count": 54,
   "id": "202855e9-5c39-4fae-967e-ec4693a3d06f",
   "metadata": {},
   "outputs": [
    {
     "name": "stdout",
     "output_type": "stream",
     "text": [
      "40\n",
      "eff=0.04053, purity=0.94867, multiplicity=1.00000\n"
     ]
    }
   ],
   "source": [
    "file = '/share/storage/jykim/storage_ghi/Ntuples_ghi_2/MC15ri_sigMC/Dptoetapip_pipipi/241106_loose_v2/etapip_pipipi_K_bdt_to_etapip_pipipi/*BCS.root'\n",
    "base_filter=' Dp_M>1.8 && Dp_M<1.93'\n",
    "\n",
    "tree = 'etapip_pipipi'\n",
    "root_files = glob.glob(file)\n",
    "\n",
    "file_cc = '/share/storage/jykim/storage_ghi/Ntuples_ghi_2/MC15ri_sigMC/Dptoetapip_pipipi_cc/241106_loose_v2/etapip_pipipi_K_bdt_to_etapip_pipipi/*BCS.root'\n",
    "root_files += glob.glob(file_cc)\n",
    "\n",
    "print(len(root_files))\n",
    "\n",
    "D0eff,D0purity,D0multiplicity = cal_eff_purity_ownMC(file,root_files, tree, base_filter, 2e+6)"
   ]
  },
  {
   "cell_type": "code",
   "execution_count": 53,
   "id": "7cf74958-3eba-4615-ac0d-c47e0eac59a8",
   "metadata": {},
   "outputs": [
    {
     "name": "stdout",
     "output_type": "stream",
     "text": [
      "40\n",
      "eff=0.03281, purity=0.94630, multiplicity=1.00000\n"
     ]
    }
   ],
   "source": [
    "file = '/share/storage/jykim/storage_ghi/Ntuples_ghi_2/MC15ri_sigMC/DptoetaKp_pipipi/241106_loose_v2/etapip_pipipi_K/*BCS.root'\n",
    "base_filter=' Dp_M>1.7 && Dp_M<2.06'\n",
    "base_filter=' Dp_M>1.81 && Dp_M<1.92'\n",
    "\n",
    "tree = 'etapip_pipipi_K'\n",
    "root_files = glob.glob(file)\n",
    "\n",
    "file_cc = '/share/storage/jykim/storage_ghi/Ntuples_ghi_2/MC15ri_sigMC/DptoetaKp_pipipi_cc/241106_loose_v2/etapip_pipipi_K/*BCS.root'\n",
    "root_files += glob.glob(file_cc)\n",
    "\n",
    "print(len(root_files))\n",
    "\n",
    "D0eff,D0purity,D0multiplicity = cal_eff_purity_ownMC(file,root_files, tree, base_filter, 2e+6)"
   ]
  },
  {
   "cell_type": "markdown",
   "id": "b3578d5a-6e7b-4f38-b770-8aaa6783bf0f",
   "metadata": {},
   "source": [
    "# D_s+ -> eta K+"
   ]
  },
  {
   "cell_type": "code",
   "execution_count": 55,
   "id": "d7d855fa-8bda-4767-9a0f-ea24b4a667e1",
   "metadata": {},
   "outputs": [
    {
     "name": "stdout",
     "output_type": "stream",
     "text": [
      "40\n",
      "eff=0.02711, purity=0.00020, multiplicity=1.00000\n"
     ]
    }
   ],
   "source": [
    "file = '/share/storage/jykim/storage_ghi/Ntuples_ghi_2/MC15ri_sigMC/Dsptoetapip_gg/241106_loose_v2/etapip_gg_K_bdt_to_etapip_gg/*BCS.root'\n",
    "base_filter=' Dp_M>1.87 && Dp_M<2.05'\n",
    "\n",
    "tree = 'etapip_gg'\n",
    "root_files = glob.glob(file)\n",
    "\n",
    "file_cc = '/share/storage/jykim/storage_ghi/Ntuples_ghi_2/MC15ri_sigMC/Dsptoetapip_gg_cc/241106_loose_v2/etapip_gg_K_bdt_to_etapip_gg/*BCS.root'\n",
    "root_files += glob.glob(file_cc)\n",
    "\n",
    "print(len(root_files))\n",
    "\n",
    "D0eff,D0purity,D0multiplicity = cal_eff_purity_ownMC(file,root_files, tree, base_filter, 2e+6)"
   ]
  },
  {
   "cell_type": "code",
   "execution_count": 56,
   "id": "d5e2d139-5982-48d2-8d7d-d83abf1c9989",
   "metadata": {},
   "outputs": [
    {
     "name": "stdout",
     "output_type": "stream",
     "text": [
      "39\n",
      "eff=0.01985, purity=0.00000, multiplicity=1.00000\n"
     ]
    }
   ],
   "source": [
    "file = '/share/storage/jykim/storage_ghi/Ntuples_ghi_2/MC15ri_sigMC/DsptoetaKp_gg/241106_loose_v2/etapip_gg_K/*BCS.root'\n",
    "base_filter=' Dp_M>1.86 && Dp_M<2.06'\n",
    "\n",
    "tree = 'etapip_gg_K'\n",
    "root_files = glob.glob(file)\n",
    "\n",
    "file_cc = '/share/storage/jykim/storage_ghi/Ntuples_ghi_2/MC15ri_sigMC/DsptoetaKp_gg_cc/241106_loose_v2/etapip_gg_K/*BCS.root'\n",
    "root_files += glob.glob(file_cc)\n",
    "\n",
    "print(len(root_files))\n",
    "\n",
    "D0eff,D0purity,D0multiplicity = cal_eff_purity_ownMC(file,root_files, tree, base_filter, 2e+6)"
   ]
  },
  {
   "cell_type": "code",
   "execution_count": null,
   "id": "88561d6e-7b8d-488a-8150-1f66548ea66c",
   "metadata": {},
   "outputs": [],
   "source": [
    "#for 40 files, should be 0.020358"
   ]
  },
  {
   "cell_type": "code",
   "execution_count": 57,
   "id": "0c05eba5-b3fb-4cf5-a628-96951ef270e1",
   "metadata": {},
   "outputs": [
    {
     "name": "stdout",
     "output_type": "stream",
     "text": [
      "40\n",
      "eff=0.02587, purity=0.00000, multiplicity=1.00000\n"
     ]
    }
   ],
   "source": [
    "file = '/share/storage/jykim/storage_ghi/Ntuples_ghi_2/MC15ri_sigMC/Dsptoetapip_pipipi/241106_loose_v2/etapip_pipipi_K_bdt_to_etapip_pipipi/*BCS.root'\n",
    "base_filter=' Dp_M>1.90 && Dp_M<2.03'\n",
    "tree = 'etapip_pipipi'\n",
    "root_files = glob.glob(file)\n",
    "\n",
    "file_cc = '/share/storage/jykim/storage_ghi/Ntuples_ghi_2/MC15ri_sigMC/Dsptoetapip_pipipi_cc/241106_loose_v2/etapip_pipipi_K_bdt_to_etapip_pipipi/*BCS.root'\n",
    "root_files += glob.glob(file_cc)\n",
    "\n",
    "print(len(root_files))\n",
    "\n",
    "D0eff,D0purity,D0multiplicity = cal_eff_purity_ownMC(file,root_files, tree, base_filter, 2e+6)"
   ]
  },
  {
   "cell_type": "code",
   "execution_count": 58,
   "id": "be87a899-20c1-488c-b724-e889b9491516",
   "metadata": {},
   "outputs": [
    {
     "name": "stdout",
     "output_type": "stream",
     "text": [
      "40\n",
      "eff=0.02015, purity=0.00000, multiplicity=1.00000\n"
     ]
    }
   ],
   "source": [
    "file = '/share/storage/jykim/storage_ghi/Ntuples_ghi_2/MC15ri_sigMC/DsptoetaKp_pipipi/241106_loose_v2/etapip_pipipi_K/*BCS.root'\n",
    "base_filter=' Dp_M>1.91 && Dp_M<2.02'\n",
    "tree = 'etapip_pipipi_K'\n",
    "root_files = glob.glob(file)\n",
    "\n",
    "file_cc = '/share/storage/jykim/storage_ghi/Ntuples_ghi_2/MC15ri_sigMC/DsptoetaKp_pipipi_cc/241106_loose_v2/etapip_pipipi_K/*BCS.root'\n",
    "root_files += glob.glob(file_cc)\n",
    "\n",
    "print(len(root_files))\n",
    "\n",
    "D0eff,D0purity,D0multiplicity = cal_eff_purity_ownMC(file,root_files, tree, base_filter, 2e+6)"
   ]
  },
  {
   "cell_type": "code",
   "execution_count": null,
   "id": "51c60140-7a81-4dd3-94e7-207189d1e579",
   "metadata": {},
   "outputs": [],
   "source": []
  }
 ],
 "metadata": {
  "kernelspec": {
   "display_name": "Python 3 (ipykernel)",
   "language": "python",
   "name": "python3"
  },
  "language_info": {
   "codemirror_mode": {
    "name": "ipython",
    "version": 3
   },
   "file_extension": ".py",
   "mimetype": "text/x-python",
   "name": "python",
   "nbconvert_exporter": "python",
   "pygments_lexer": "ipython3",
   "version": "3.10.5"
  }
 },
 "nbformat": 4,
 "nbformat_minor": 5
}
