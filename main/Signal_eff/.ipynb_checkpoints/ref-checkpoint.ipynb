{
 "cells": [
  {
   "cell_type": "code",
   "execution_count": 1,
   "id": "b0192fc0-53a1-4af8-bd4f-2bad78116f6e",
   "metadata": {},
   "outputs": [
    {
     "name": "stdout",
     "output_type": "stream",
     "text": [
      "Welcome to JupyROOT 6.26/04\n"
     ]
    }
   ],
   "source": [
    "%matplotlib inline\n",
    "%load_ext autoreload\n",
    "%autoreload 2\n",
    "import seaborn as sns\n",
    "import matplotlib.pyplot as plt\n",
    "import numpy as np\n",
    "import pandas as pd\n",
    "import math\n",
    "try:\n",
    "#     plt.style.use('belle2')\n",
    "\\\n",
    "    plt.style.use('belle2_serif')\n",
    "#     plt.style.use('belle2_modern')\n",
    "except OSError:\n",
    "    print(\"Please install belle2 matplotlib style\")   \n",
    "px = 1/plt.rcParams['figure.dpi']\n",
    "\n",
    "from main.data_tools.extract_ntuples import get_pd, get_np\n",
    "from main.draw_tools.decorations import b2helix, watermark\n",
    "from mpl_toolkits.axes_grid1 import make_axes_locatable\n",
    "\n",
    "import matplotlib.cm as cm\n",
    "import matplotlib.ticker as ticker"
   ]
  },
  {
   "cell_type": "code",
   "execution_count": 2,
   "id": "8eb9ec0b-31ff-4a23-800e-7a4a104fa791",
   "metadata": {},
   "outputs": [],
   "source": [
    "def cal_eff_purity(file, tree, base_filter, N_gen):\n",
    "    \n",
    "    variables = ['Dstarp_isSignal','D0_M','__experiment__', '__run__', '__event__']\n",
    "    recon_df = get_pd(file, tree, base_filter, variables)\n",
    "    \n",
    "    multiplicity = len(recon_df[[\"__experiment__\", \"__run__\", \"__event__\"]].drop_duplicates()) / len(recon_df[[\"__experiment__\", \"__run__\", \"__event__\"]])\n",
    "    \n",
    "    N_rec = len(recon_df)\n",
    "    eff = N_rec/N_gen\n",
    "    \n",
    "    N_true = len(recon_df[recon_df['Dstarp_isSignal']==1])\n",
    "    purity = N_true/N_rec\n",
    "    \n",
    "    print(f\"eff={eff:.4f}, purity={purity:.4f}, multiplicity={multiplicity:.4f}\")\n",
    "    \n",
    "    return (eff, purity, multiplicity)"
   ]
  },
  {
   "cell_type": "markdown",
   "id": "445daab9-12c4-4fa5-a870-02ca4d62c768",
   "metadata": {},
   "source": [
    "# ref for phi"
   ]
  },
  {
   "cell_type": "markdown",
   "id": "af8b88cd-0410-4b60-b41f-c2c0d0eb47af",
   "metadata": {},
   "source": [
    "## ref_phi"
   ]
  },
  {
   "cell_type": "code",
   "execution_count": 10,
   "id": "d7602747-e0ab-45ec-ac01-4b399efb15e3",
   "metadata": {},
   "outputs": [
    {
     "name": "stdout",
     "output_type": "stream",
     "text": [
      "eff=0.2522, purity=0.9839, multiplicity=0.0397\n"
     ]
    },
    {
     "data": {
      "text/plain": [
       "(0.252191, 0.9838693688513864, 0.03965248561606084)"
      ]
     },
     "execution_count": 10,
     "metadata": {},
     "output_type": "execute_result"
    }
   ],
   "source": [
    "file = '/media/jykim/T7/storage/ref_study_signalMC/ntuples/'\n",
    "file += 'ref_optv1_sigext_D2kpkm_signal_own_1M_ref_recon_mdst_10000_*.root'\n",
    "base_filter=' D0_M>1.83 && D0_M<1.9 '\n",
    "tree = 'ref_phi'\n",
    "\n",
    "#cal_eff_purity(file, tree, base_filter, 1e+6*0.4897)\n",
    "cal_eff_purity(file, tree, base_filter, 1e+6)"
   ]
  },
  {
   "cell_type": "markdown",
   "id": "ecd6f495-5968-4829-9161-56e5a01f4d3a",
   "metadata": {},
   "source": [
    "## ref_phi_cc"
   ]
  },
  {
   "cell_type": "code",
   "execution_count": 11,
   "id": "c7e8e809-99de-4a60-a739-7421da525763",
   "metadata": {},
   "outputs": [
    {
     "name": "stdout",
     "output_type": "stream",
     "text": [
      "eff=0.2457, purity=0.9845, multiplicity=0.0407\n"
     ]
    },
    {
     "data": {
      "text/plain": [
       "(0.245668, 0.9845278994415227, 0.040705342169106276)"
      ]
     },
     "execution_count": 11,
     "metadata": {},
     "output_type": "execute_result"
    }
   ],
   "source": [
    "file = '/media/jykim/T7/storage/ref_study_signalMC/ntuples/'\n",
    "file += 'ref_optv1_sigext_cc_D2kpkm_signal_own_1M_ref_recon_mdst_10000_*.root'\n",
    "base_filter=' D0_M>1.83 && D0_M<1.9'\n",
    "tree = 'ref_phi_cc'\n",
    "\n",
    "#cal_eff_purity(file, tree, base_filter, 1e+6*0.4897)\n",
    "cal_eff_purity(file, tree, base_filter, 1e+6)"
   ]
  },
  {
   "cell_type": "code",
   "execution_count": null,
   "id": "79016a29-f317-4070-95a1-03080754f839",
   "metadata": {},
   "outputs": [],
   "source": []
  }
 ],
 "metadata": {
  "kernelspec": {
   "display_name": "Python 3 (ipykernel)",
   "language": "python",
   "name": "python3"
  },
  "language_info": {
   "codemirror_mode": {
    "name": "ipython",
    "version": 3
   },
   "file_extension": ".py",
   "mimetype": "text/x-python",
   "name": "python",
   "nbconvert_exporter": "python",
   "pygments_lexer": "ipython3",
   "version": "3.10.5"
  }
 },
 "nbformat": 4,
 "nbformat_minor": 5
}
