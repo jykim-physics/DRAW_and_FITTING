{
 "cells": [
  {
   "cell_type": "code",
   "execution_count": 60,
   "id": "3bdbf6d9-8fb7-4849-b476-a1ab02f06744",
   "metadata": {},
   "outputs": [],
   "source": [
    "import ROOT\n",
    "import ctypes"
   ]
  },
  {
   "cell_type": "code",
   "execution_count": 63,
   "id": "864d88c6-6568-4e2b-a855-cc44e25ce370",
   "metadata": {},
   "outputs": [
    {
     "name": "stdout",
     "output_type": "stream",
     "text": [
      "\n",
      "Applying BELLE2 style settings...\n"
     ]
    }
   ],
   "source": [
    "ROOT.gROOT.LoadMacro('/home/jykim/workspace/DRAW_and_FITTING/main/Belle2Style.C')\n",
    "ROOT.SetBelle2Style()"
   ]
  },
  {
   "cell_type": "code",
   "execution_count": 64,
   "id": "ce78010d-d970-4fb0-b2d2-59f1e1572ab3",
   "metadata": {},
   "outputs": [],
   "source": [
    "\n",
    "\n",
    "sig_1ab_file = ROOT.TFile.Open(\"/media/jykim/T7/storage/01_recon/massvetov2_sig_ext_1ab_sigbkg/topo/resultfile/result_antiKstar/standard.root\")\n",
    "signal_1ab_tree = sig_1ab_file.Get(\"antiKstar\")\n"
   ]
  },
  {
   "cell_type": "code",
   "execution_count": 65,
   "id": "4b72551a-ebd4-4a31-82f1-8eef0b26f8bf",
   "metadata": {},
   "outputs": [],
   "source": [
    "# D0_M_TH1F = ROOT.TH1F(\"D0_M_TH1F\",\"D0 mass\",50,1.67,2.06)\n",
    "# D0_M_TH1F = ROOT.TH1F(\"D0_M_TH1F\",\"D0 mass\",50,1.72,1.92)\n",
    "D0_M_TH1F_2 = ROOT.TH1F(\"D0_M_TH1F_2\",\"D0 mass\",40,1.67, 2.06)\n",
    "# D0_M_TH1F_2 = ROOT.TH1F(\"D0_M_TH1F_2\",\"D0 mass\",50,1.67, 1.9)\n",
    "\n",
    "D0_cosHel_TH1F = ROOT.TH1F(\"D0_cosHel_TH1F\",\"D0_cosHel\",40, -1, 1)\n"
   ]
  },
  {
   "cell_type": "code",
   "execution_count": 66,
   "id": "3a69e135-44ce-49d2-a4b1-058596ee2bad",
   "metadata": {},
   "outputs": [],
   "source": [
    "def extract_histo(tree, histogram):\n",
    "    for event in tree:\n",
    "        histogram.Fill(event.D0_M)\n",
    "    return histogram"
   ]
  },
  {
   "cell_type": "code",
   "execution_count": 67,
   "id": "598cba1c-16c9-4262-a196-4a258fa19c13",
   "metadata": {},
   "outputs": [],
   "source": [
    "def extract_hist_coshel(tree, histogram):\n",
    "    for event in tree:\n",
    "        if (event.iCascDcyBrP_Dst_0 !=0 and event.iCascDcyBrP_Dst_0 !=2  ) and event.D0_M > 1.67 and event.D0_M < 2.06 and event.Belle2Pi0Veto_75MeV > 0.022:\n",
    "\n",
    "            histogram.Fill(event.D0_cosHel_0)\n",
    "    return histogram"
   ]
  },
  {
   "cell_type": "code",
   "execution_count": 68,
   "id": "180bbf17-769e-4579-bb25-321d03c8a0ae",
   "metadata": {},
   "outputs": [],
   "source": [
    "def apply_cuts(tree, histogram):\n",
    "    for event in tree:\n",
    "        # if event.D0_M > 1.67 and event.D0_M < 2.06:\n",
    "        if event.D0_M > 1.78 and event.D0_M < 1.92:\n",
    "\n",
    "            histogram.Fill(event.D0_M)\n",
    "    return histogram"
   ]
  },
  {
   "cell_type": "code",
   "execution_count": 69,
   "id": "79ebe577-8e50-4749-8933-7eefc08616d3",
   "metadata": {},
   "outputs": [],
   "source": [
    "def extract_signals(tree, histogram):\n",
    "    for event in tree:\n",
    "        # if event.D0_M > 1.67 and event.D0_M < 2.06:\n",
    "        # if event.iCascDcyBrP_Dst_0 ==63 and event.D0_M > 1.67 and event.D0_M < 2.06:\n",
    "        # if (event.iCascDcyBrP_Dst_0 !=0 and event.iCascDcyBrP_Dst_0 !=1) and event.D0_M > 1.67 and event.D0_M < 2.06 and event.Belle2Pi0Veto_75MeV > 0.02:\n",
    "\n",
    "        if ( event.iCascDcyBrP_Dst_0 !=0 and event.iCascDcyBrP_Dst_0 !=2  ) and event.D0_M > 1.67 and event.D0_M < 2.06 and event.Belle2Pi0Veto_75MeV > 0.022:\n",
    "        # if (event.iCascDcyBrP_Dst_0 !=0 and event.iCascDcyBrP_Dst_0 !=1 ) and event.D0_M > 1.67 and event.D0_M < 2.06 and event.Belle2Pi0Veto_75MeV > 0.02:\n",
    "\n",
    "            histogram.Fill(event.D0_M)\n",
    "    return histogram"
   ]
  },
  {
   "cell_type": "code",
   "execution_count": 70,
   "id": "740212a9-eb8a-45ef-9b3e-ec4f05cae564",
   "metadata": {},
   "outputs": [
    {
     "data": {
      "image/png": "[encoded data removed]",
      "text/plain": [
       "<IPython.core.display.Image object>"
      ]
     },
     "metadata": {},
     "output_type": "display_data"
    }
   ],
   "source": [
    "\n",
    "D0_cosHel_TH1F = extract_hist_coshel(signal_1ab_tree, D0_cosHel_TH1F)\n",
    "c1 = ROOT.TCanvas()\n",
    "D0_cosHel_TH1F.Draw()\n",
    "c1.Draw()"
   ]
  },
  {
   "cell_type": "code",
   "execution_count": 71,
   "id": "6db6a69e-2cc6-4a5f-8150-ed65215efbc6",
   "metadata": {},
   "outputs": [
    {
     "data": {
      "image/png": "[encoded data removed]",
      "text/plain": [
       "<IPython.core.display.Image object>"
      ]
     },
     "metadata": {},
     "output_type": "display_data"
    }
   ],
   "source": [
    "\n",
    "D0_M_TH1F_2 = extract_signals(signal_1ab_tree, D0_M_TH1F_2)\n",
    "# D0_M_TH1F_2 = apply_cuts(signal_1ab_tree, D0_M_TH1F_2)\n",
    "\n",
    "c1 = ROOT.TCanvas()\n",
    "D0_M_TH1F_2.Draw()\n",
    "c1.Draw()"
   ]
  },
  {
   "cell_type": "code",
   "execution_count": 40,
   "id": "a93358b9-8ccf-49e0-b0e2-0c9d6085c38c",
   "metadata": {},
   "outputs": [],
   "source": [
    "\n",
    "# D0_M_TH1F_2 = extract_signals(signal_1ab_tree, D0_M_TH1F_2)\n",
    "# # D0_M_TH1F_2 = apply_cuts(signal_1ab_tree, D0_M_TH1F_2)\n",
    "\n",
    "# c1 = ROOT.TCanvas()\n",
    "# D0_M_TH1F_2.Draw()\n",
    "# c1.Draw()"
   ]
  },
  {
   "cell_type": "code",
   "execution_count": 41,
   "id": "6b227194-e200-426a-a720-ecd509f64fe7",
   "metadata": {},
   "outputs": [],
   "source": [
    "\n",
    "# scale_factor = D0_M_TH1F_2.GetEntries()/D0_M_TH1F.GetEntries()"
   ]
  },
  {
   "cell_type": "code",
   "execution_count": 42,
   "id": "cbed22c9-ed4a-476f-8c57-19a7aaab4665",
   "metadata": {},
   "outputs": [],
   "source": [
    "# scale_factor"
   ]
  },
  {
   "cell_type": "code",
   "execution_count": 72,
   "id": "07856c14-3fbb-45dd-b69c-ef1a94ebc3a9",
   "metadata": {},
   "outputs": [],
   "source": [
    "fitting_region = (1.67, 2.06)\n",
    "x = ROOT.RooRealVar(\"M(D^{0})\", \"M(D^{0}) [GeV/c^{2}]\", fitting_region[0], fitting_region[1], \"\")\n",
    "# x.setBins(40)\n",
    "l = ROOT.RooArgList(x)\n",
    "# signalhist = ROOT.RooDataHist(\"sighist\", \"sighist\", l, D0_M_TH1F, scale_factor)\n",
    "signalhist = ROOT.RooDataHist(\"sighist\", \"sighist\", l, D0_M_TH1F_2, 1)\n"
   ]
  },
  {
   "cell_type": "code",
   "execution_count": 73,
   "id": "81461404-b419-43dc-b0a9-5a8ab1a4544b",
   "metadata": {},
   "outputs": [],
   "source": [
    "\n",
    "mean = ROOT.RooRealVar(\"mean\", \"mean of gaussians\", 1.6,1.4, 1.67)\n",
    "sigma1 = ROOT.RooRealVar(\"sigma1\", \"width of gaussians\", 0.03,0,0.5)\n",
    "# sigma2 = ROOT.RooRealVar(\"sigma2\", \"width of gaussians\", 0.02,0,0.5)\n",
    "# alpha = ROOT.RooRealVar(\"alpha\", \"width of gaussians\", 0.5,0,2)\n",
    "# n_CB = ROOT.RooRealVar(\"n_CB\", \"width of gaussians\", 5,0,10)\n",
    "\n",
    "x_bkg2_c0 = ROOT.RooRealVar(\"x_bkg2_c0\", \"c0\",0.2, -1,1)\n",
    "x_bkg2_c1 = ROOT.RooRealVar(\"x_bkg2_c1\", \"c1\",0.2, -1,1)\n",
    "\n",
    "# Novo_peak = ROOT.RooRealVar(\"Novo_peak\", \"Novo peak\", 1.83,1.67,1.93)    \n",
    "# Novo_width = RO\n",
    "# ROOT.RooRealVar(\"Novo_widh\", \"Novo peak\", 0.05,0,0.5)    \n",
    "# Novo_tail = ROOT.RooRealVar(\"Novo_tail\", \"Novo peak\", 0.5,0,10)    \n",
    "\n",
    "\n",
    "x_bkg3_tau = ROOT.RooRealVar(\"x_bkg3_tau\", \"tau\",-2, -20,0)\n"
   ]
  },
  {
   "cell_type": "code",
   "execution_count": 45,
   "id": "196324cc-2b64-4786-8e60-e99ee014b7aa",
   "metadata": {},
   "outputs": [],
   "source": [
    "# # font=72; #// Helvetica italics\n",
    "# font=42; # Helvetica\n",
    "# tsize=0.05\n",
    "\n",
    "#   # // use plain black on white colors\n",
    "# icol=0 # // WHITE\n",
    "# ROOT.gStyle.SetFrameBorderMode(icol);\n",
    "# ROOT.gStyle.SetFrameFillColor(icol);\n",
    "# ROOT.gStyle.SetCanvasBorderMode(icol);\n",
    "# ROOT.gStyle.SetCanvasColor(icol);\n",
    "# ROOT.gStyle.SetPadBorderMode(icol);\n",
    "# ROOT.gStyle.SetPadColor(icol);\n",
    "# ROOT.gStyle.SetStatColor(icol);\n",
    "#   # //belle2Style->SetFillColor(icol); // don't use: white fill color for *all* objects\n",
    "\n",
    "#   # // set margin sizes\n",
    "# ROOT.gStyle.SetPadTopMargin(0.05);\n",
    "# ROOT.gStyle.SetPadRightMargin(0.05);\n",
    "# ROOT.gStyle.SetPadBottomMargin(0.16);\n",
    "# ROOT.gStyle.SetPadLeftMargin(0.16);\n",
    "\n",
    "#   # // set title offsets (for axis label)\n",
    "# ROOT.gStyle.SetTitleXOffset(1.0);\n",
    "# ROOT.gStyle.SetTitleYOffset(1.0);\n",
    "\n",
    "# ROOT.gStyle.SetTextFont(font);\n",
    "# ROOT.gStyle.SetTextSize(tsize);\n",
    "    \n",
    "# ROOT.gStyle.SetLabelFont(font,\"x\");\n",
    "# ROOT.gStyle.SetTitleFont(font,\"x\");\n",
    "# ROOT.gStyle.SetLabelFont(font,\"y\");\n",
    "# ROOT.gStyle.SetTitleFont(font,\"y\");\n",
    "# ROOT.gStyle.SetLabelFont(font,\"z\");\n",
    "# ROOT.gStyle.SetTitleFont(font,\"z\");\n",
    "  \n",
    "# ROOT.gStyle.SetLabelSize(tsize,\"x\");\n",
    "# ROOT.gStyle.SetTitleSize(.065,\"x\");\n",
    "# ROOT.gStyle.SetLabelSize(tsize,\"y\");\n",
    "# ROOT.gStyle.SetTitleSize(.065,\"y\");\n",
    "# ROOT.gStyle.SetLabelSize(tsize,\"z\");\n",
    "# ROOT.gStyle.SetTitleSize(.065,\"z\");\n",
    "    \n",
    "# ROOT.gStyle.SetTitleOffset(1.1,\"x\");\n",
    "# ROOT.gStyle.SetTitleOffset(1.1,\"y\");\n",
    "# ROOT.gStyle.SetTitleOffset(1.1,\"z\");\n",
    "\n",
    "# ROOT.gStyle.SetLabelOffset(0.015,\"x\");\n",
    "# ROOT.gStyle.SetLabelOffset(0.015,\"y\");\n",
    "# ROOT.gStyle.SetLabelOffset(0.015,\"z\");\n"
   ]
  },
  {
   "cell_type": "code",
   "execution_count": 79,
   "id": "32658f60-999f-40d5-9109-803d213b55ed",
   "metadata": {},
   "outputs": [
    {
     "name": "stdout",
     "output_type": "stream",
     "text": [
      "[#0] WARNING:InputArguments -- The parameter 'sigma1' with range [0, 0.5] of the RooGaussian 'sig1' exceeds the safe range of (0, inf). Advise to limit its range.\n",
      "[#1] INFO:Minimization -- RooAbsMinimizerFcn::setOptimizeConst: activating const optimization\n",
      "[#1] INFO:Fitting -- RooAbsOptTestStatistic::ctor(nll_model_sighist) constructing test statistic for sub-range named fit\n",
      "[#1] INFO:Fitting -- RooAbsOptTestStatistic::ctor(nll_model_sighist) fixing interpretation of coefficients of any RooAddPdf to full domain of observables \n",
      "[#1] INFO:Eval -- RooAbsTestStatistic::initMPMode: started 12 remote server process.\n",
      "[#1] INFO:Minimization --  The following expressions will be evaluated in cache-and-track mode: (sig1,sig2)\n",
      "[#1] INFO:Minimization --  The following expressions will be evaluated in cache-and-track mode: (sig1,sig2)\n",
      "[#1] INFO:Minimization --  The following expressions will be evaluated in cache-and-track mode: (sig1,sig2)\n",
      "[#1] INFO:Minimization --  The following expressions will be evaluated in cache-and-track mode: (sig1,sig2)\n",
      "[#1] INFO:Minimization --  The following expressions will be evaluated in cache-and-track mode: (sig1,sig2)\n",
      "[#1] INFO:Minimization --  The following expressions will be evaluated in cache-and-track mode: (sig1,sig2)\n",
      "[#1] INFO:Minimization --  The following expressions will be evaluated in cache-and-track mode: (sig1,sig2)\n",
      "[#1] INFO:Minimization --  The following expressions will be evaluated in cache-and-track mode: (sig1,sig2)\n",
      "[#1] INFO:Minimization --  The following expressions will be evaluated in cache-and-track mode: (sig1,sig2)\n",
      "[#1] INFO:Minimization --  The following expressions will be evaluated in cache-and-track mode: (sig1,sig2)\n",
      "[#1] INFO:Minimization --  The following expressions will be evaluated in cache-and-track mode: (sig1,sig2)\n",
      "[#1] INFO:Minimization --  The following expressions will be evaluated in cache-and-track mode: (sig1,sig2)\n",
      "[#1] INFO:Minimization -- RooAbsMinimizerFcn::setOptimizeConst: deactivating const optimization\n",
      "\n",
      "  RooFitResult: minimized FCN value: -10928.5, estimated distance to minimum: 8.81571e-05\n",
      "                covariance matrix quality: Full, accurate covariance matrix\n",
      "                Status : MINIMIZE=0 HESSE=0 \n",
      "\n",
      "    Floating Parameter    FinalValue +/-  Error   \n",
      "  --------------------  --------------------------\n",
      "                  mean    1.6700e+00 +/-  2.02e-03\n",
      "              sig1frac    1.8531e-01 +/-  1.38e-02\n",
      "                sigma1    4.5649e-02 +/-  2.25e-03\n",
      "            x_bkg3_tau   -2.2908e+00 +/-  1.82e-01\n",
      "\n",
      "[#1] INFO:Plotting -- RooAbsPdf::plotOn(model) p.d.f was fitted in a subrange and no explicit Range() and NormRange() was specified. Plotting / normalising in fit range. To override, do one of the following\n",
      "\t- Clear the automatic fit range attribute: <pdf>.setStringAttribute(\"fitrange\", nullptr);\n",
      "\t- Explicitly specify the plotting range: Range(\"<rangeName>\").\n",
      "\t- Explicitly specify where to compute the normalisation: NormRange(\"<rangeName>\").\n",
      "\tThe default (full) range can be denoted with Range(\"\") / NormRange(\"\").\n",
      "[#1] INFO:Plotting -- RooAbsPdf::plotOn(model) only plotting range 'fit_nll_model_sighist'\n",
      "[#1] INFO:Plotting -- RooAbsPdf::plotOn(model) p.d.f. curve is normalized using explicit choice of ranges 'fit_nll_model_sighist'\n"
     ]
    },
    {
     "name": "stderr",
     "output_type": "stream",
     "text": [
      "Warning in <TCanvas::Constructor>: Deleting canvas with same name: Canvas\n",
      "Info in <TCanvas::Print>: png file /media/jykim/T7/saved_plots/fitting/results/antiKstargamma/antiKstar_massveto_1ab_remain.png has been created\n"
     ]
    },
    {
     "data": {
      "image/png": "[encoded data removed]",
      "text/plain": [
       "<IPython.core.display.Image object>"
      ]
     },
     "metadata": {},
     "output_type": "display_data"
    }
   ],
   "source": [
    "canv = ROOT.TCanvas(\"Canvas\", \"Canvas\", 700, 640)\n",
    "\n",
    "xlow = ctypes.c_double()\n",
    "ylow = ctypes.c_double()\n",
    "xup = ctypes.c_double()\n",
    "yup = ctypes.c_double()\n",
    "\n",
    "canv.GetPad(0).GetPadPar(xlow, ylow, xup, yup)\n",
    "canv.Divide(1,2)\n",
    "\n",
    "xlow = xlow.value\n",
    "ylow = ylow.value\n",
    "xup = xup.value\n",
    "yup = yup.value\n",
    "\n",
    "upPad = canv.GetPad(1)\n",
    "upPad.SetPad(xlow, ylow+0.25*(yup-ylow),xup,yup)\n",
    "\n",
    "dwPad = canv.GetPad(2)\n",
    "dwPad.SetPad(xlow, ylow,xup,ylow+0.25*(yup-ylow))\n",
    "\n",
    "    \n",
    "sig1 = ROOT.RooGaussian(\"sig1\", \"Signal component 1\", x, mean, sigma1)\n",
    "# # sig2 = ROOT.RooCBShape(\"sig2\", \"Signal component 2\", x, mean, sigma2, alpha, n_CB)\n",
    "# # # sig3 = ROOT.RooNovosibirsk(\"sig3\", \"Signal component 3\", x, mean, Novo_width, Novo_tail)\n",
    "\n",
    "\n",
    "sig2 = ROOT.RooExponential(\"sig2\", \"Signal component 1\", x, x_bkg3_tau) \n",
    "\n",
    "# sig2 = ROOT.RooPolynomial(\"sig2\", \"Signal component 1\", x, ROOT.RooArgList(x_bkg2_c0, x_bkg2_c1))\n",
    "sig1frac = ROOT.RooRealVar(\"sig1frac\", \"fraction of component 1 in signal\", 0.5, 0.0, 1.0)\n",
    "\n",
    "\n",
    "# # model = ROOT.RooCBShape(\"model\", \"Signal component 2\", x, mean, sigma2, alpha, n_CB)\n",
    "model = ROOT.RooAddPdf(\"model\", \"model\", [sig1, sig2], sig1frac)\n",
    "\n",
    "# model = ROOT.RooPolynomial(\"model\", \"Signal component 1\", x, ROOT.RooArgList(x_bkg2_c0, x_bkg2_c1))\n",
    "\n",
    "\n",
    "r = model.fitTo(signalhist,NumCPU=12,Range=fitting_region,PrintLevel=-1, Save=1)\n",
    "\n",
    "r.Print()\n",
    "canv.cd(1) \n",
    "# frame = x.frame(Title=\"D^{0} #rightarrow #bar{K}^{*0} #pi^{0}\")\n",
    "frame = x.frame(Title=\" \")\n",
    "\n",
    "signalhist.plotOn(frame,Name = \"data1\", XErrorSize=0)\n",
    "\n",
    "# model.plotOn(frame, Name=\"gauss1\", Components=sig1, LineStyle=ROOT.kDashed, LineColor=593)\n",
    "# model.plotOn(frame, Name=\"CB1\", Components=sig2, LineStyle=ROOT.kDashed, LineColor=593)\n",
    "# sig.plotOn(frame, Name=\"Novo\", Components=sig3, LineStyle=ROOT.kDashed, LineColor=593)\n",
    "\n",
    "model.plotOn(frame, Name=\"fitting\",)\n",
    "\n",
    "\n",
    "# sig.paramOn(frame)\n",
    "frame.GetXaxis().CenterTitle(True)\n",
    "frame.Draw(\"PE\")\n",
    "\n",
    "\n",
    "leg1 = ROOT.TLegend(0.75, 0.75, 0.9, 0.9)\n",
    "leg1.SetBorderSize(0)\n",
    "\n",
    "leg1.SetFillColor(ROOT.kWhite)\n",
    "# leg1.SetHeader(\"The Legend title\",\"C\")\n",
    "leg1.AddEntry(\"data1\", \"MC\", \"PE\")\n",
    "leg1.AddEntry(\"fitting\", \"fit\", \"l\")\n",
    "leg1.Draw()\n",
    "\n",
    "hpull = frame.pullHist()\n",
    "hpull.SetFillStyle(1001)\n",
    "hpull.SetFillColor(1);\n",
    "for i in range(0,hpull.GetN()):#(int i=0;i<hpull.GetN();++i): \n",
    "    hpull.SetPointError(i,0.0,0.0,0.0,0.0)\n",
    "# pullplot = x.frame(Title(\" \"))\n",
    "pullplot = x.frame()\n",
    "pullplot.SetTitle(\"\")\n",
    "pullplot.addPlotable(hpull,\"BE\")\n",
    "# pullplot.addPlotable(hpull,\"PE\")\n",
    "\n",
    "pullplot.SetYTitle(\"Pull\")\n",
    "pullplot.GetXaxis().SetTitleSize(0)\n",
    "pullplot.GetYaxis().SetTitleSize(0.22)\n",
    "pullplot.GetYaxis().CenterTitle(True)\n",
    "pullplot.GetYaxis().SetTitleOffset(0.2)\n",
    "pullplot.SetMinimum(-4.)\n",
    "pullplot.SetMaximum(4.)\n",
    "pullplot.GetXaxis().SetLabelSize(0.15)\n",
    "pullplot.GetYaxis().SetLabelSize(0.105)\n",
    "canv.cd(2)\n",
    "pullplot.Draw()\n",
    "\n",
    "xmin1 = ctypes.c_double(fitting_region[0])\n",
    "xmax1 = ctypes.c_double(fitting_region[1])\n",
    "# xmin1 = 0.1\n",
    "# xmax1 = 0.18\n",
    "line = ROOT.TLine(xmin1,0.0,xmax1,0.0)\n",
    "line1 = ROOT.TLine(xmin1,3.0,xmax1,3.0)\n",
    "line2 = ROOT.TLine(xmin1,-3.0,xmax1,-3.0)\n",
    "\n",
    "line.SetLineColor(ROOT.kRed)\n",
    "line.SetLineWidth(3)\n",
    "line1.SetLineColor(ROOT.kRed)\n",
    "line2.SetLineColor(ROOT.kRed)\n",
    "line1.SetLineStyle(2)\n",
    "line2.SetLineStyle(2)\n",
    "line.Draw(\"SAME\")\n",
    "line1.Draw(\"SAME\")\n",
    "line2.Draw(\"SAME\")\n",
    "\n",
    "canv.Update()\n",
    "\n",
    "canv.Draw()\n",
    "canv.SaveAs(\"/media/jykim/T7/saved_plots/fitting/results/antiKstargamma/antiKstar_massveto_1ab_remain.png\")\n",
    "#canv.SaveAs(\"test.png\")\n",
    "\n",
    "f = ROOT.TFile(\"phig_signalMC_fitresult.root\", \"RECREATE\")\n",
    "r.Write(\"phig_sig\")\n",
    "f.Close()\n"
   ]
  },
  {
   "cell_type": "code",
   "execution_count": 47,
   "id": "35ffd040-f571-4a12-bcd2-5df6cec6c76e",
   "metadata": {},
   "outputs": [
    {
     "name": "stdout",
     "output_type": "stream",
     "text": [
      "0x55bf9e6090c0 RooAddPdf::model = 0.0114143 [Auto,Dirty] \n",
      "  0x55bf9dcc3750/V- RooGaussian::sig1 = 0.000109851 [Auto,Dirty] \n",
      "    0x55bf9e715b20/V- RooRealVar::M(D^{0}) = 1.865\n",
      "    0x55bf9a47ed60/V- RooRealVar::mean = 1.67 +/- 0.00203633\n",
      "    0x55bf94c5c440/V- RooRealVar::sigma1 = 0.0456676 +/- 0.00225076\n",
      "  0x55bf94c6d090/V- RooRealVar::sig1frac = 0.18542 +/- 0.0138441\n",
      "  0x55bf99351890/V- RooExponential::sig2 = 0.0139875 [Auto,Dirty] \n",
      "    0x55bf9e715b20/V- RooRealVar::M(D^{0}) = 1.865\n",
      "    0x55bf94c63430/V- RooRealVar::x_bkg3_tau = -2.28933 +/- 0.182122\n"
     ]
    }
   ],
   "source": [
    "model.Print(\"t\")"
   ]
  },
  {
   "cell_type": "code",
   "execution_count": 48,
   "id": "43ffc56d-f01f-49c7-96d3-6e55a2bd4819",
   "metadata": {},
   "outputs": [],
   "source": [
    "f = ROOT.TFile.Open(\"phig_signalMC_fitresult.root\")\n",
    "r2 = ROOT.gDirectory.Get(\"phig_sig\")\n",
    "f.Close()\n"
   ]
  },
  {
   "cell_type": "code",
   "execution_count": 49,
   "id": "e449db02-3a12-4028-a58f-1daa29df377e",
   "metadata": {},
   "outputs": [
    {
     "name": "stdout",
     "output_type": "stream",
     "text": [
      "\n",
      "  RooFitResult: minimized FCN value: -10928.5, estimated distance to minimum: 2.54438e-05\n",
      "                covariance matrix quality: Full, accurate covariance matrix\n",
      "                Status : MINIMIZE=0 HESSE=0 \n",
      "\n",
      "    Floating Parameter    FinalValue +/-  Error   \n",
      "  --------------------  --------------------------\n",
      "                  mean    1.6700e+00 +/-  2.04e-03\n",
      "              sig1frac    1.8542e-01 +/-  1.38e-02\n",
      "                sigma1    4.5668e-02 +/-  2.25e-03\n",
      "            x_bkg3_tau   -2.2893e+00 +/-  1.82e-01\n",
      "\n"
     ]
    }
   ],
   "source": [
    "r2.Print()"
   ]
  },
  {
   "cell_type": "code",
   "execution_count": 50,
   "id": "b612badd-87c1-47fd-bb71-12982c4377b0",
   "metadata": {},
   "outputs": [
    {
     "data": {
      "text/plain": [
       "0.0"
      ]
     },
     "execution_count": 50,
     "metadata": {},
     "output_type": "execute_result"
    },
    {
     "name": "stdout",
     "output_type": "stream",
     "text": [
      "[#0] ERROR:InputArguments -- RooFitResult::correlation(fitresult_model_sighist) parameter x_bkg2_c0 is not a floating fit parameter\n"
     ]
    }
   ],
   "source": [
    "r2.correlation(\"x_bkg2_c0\",\"x_bkg2_c1\")"
   ]
  },
  {
   "cell_type": "code",
   "execution_count": 51,
   "id": "a81b463a-ffdb-4e4d-a472-7d01dccfa76d",
   "metadata": {},
   "outputs": [
    {
     "data": {
      "text/plain": [
       "2.54437789718335e-05"
      ]
     },
     "execution_count": 51,
     "metadata": {},
     "output_type": "execute_result"
    }
   ],
   "source": [
    "r2.edm()"
   ]
  },
  {
   "cell_type": "code",
   "execution_count": 52,
   "id": "405e4318-7ba2-4362-acae-6d90a363da53",
   "metadata": {},
   "outputs": [
    {
     "data": {
      "text/plain": [
       "<cppyy.gbl.TMatrixTSym<double> object at 0x55bf9b72a850>"
      ]
     },
     "execution_count": 52,
     "metadata": {},
     "output_type": "execute_result"
    }
   ],
   "source": [
    "r2.correlationMatrix()"
   ]
  },
  {
   "cell_type": "code",
   "execution_count": null,
   "id": "9f00b952-6846-4425-a62e-a7d87405471b",
   "metadata": {},
   "outputs": [],
   "source": []
  },
  {
   "cell_type": "code",
   "execution_count": null,
   "id": "cec9e79d-5f5c-4451-9e51-2b84a6e283e8",
   "metadata": {},
   "outputs": [],
   "source": []
  },
  {
   "cell_type": "markdown",
   "id": "abc3ed7d-57c5-4c9a-a600-d2a11a909acc",
   "metadata": {},
   "source": [
    "# cosHel"
   ]
  },
  {
   "cell_type": "code",
   "execution_count": 53,
   "id": "4abadc13-0d48-44fe-b9b2-c5d54d7afd08",
   "metadata": {},
   "outputs": [
    {
     "data": {
      "text/plain": [
       "94281613692336"
      ]
     },
     "execution_count": 53,
     "metadata": {},
     "output_type": "execute_result"
    },
    {
     "name": "stdout",
     "output_type": "stream",
     "text": [
      "(MyPdf_xsquared) An instance of MyPdf_xsquared.\n"
     ]
    }
   ],
   "source": [
    "# ROOT.RooClassFactory.makePdf(\"MyPdf_xsquared\", \"x,c0\", \"\", \"c0*x*x\")\n",
    "ROOT.gROOT.ProcessLineSync(\".x MyPdf_xsquared.cxx+\")"
   ]
  },
  {
   "cell_type": "code",
   "execution_count": 54,
   "id": "7e43b6a0-b383-4404-88e7-348da654fe5a",
   "metadata": {},
   "outputs": [],
   "source": [
    "# ROOT.RooClassFactory.makePdf(\"MyPdf_xsquared_nopara\", \"x\", \"\", \"x*x\")\n",
    "# ROOT.gROOT.ProcessLineSync(\".x MyPdf_xsquared_nopara.cxx+\")"
   ]
  },
  {
   "cell_type": "code",
   "execution_count": 55,
   "id": "49fcd328-6279-4927-ae57-12c5d33eb0de",
   "metadata": {},
   "outputs": [],
   "source": [
    "fitting_region = (-1, 1)\n",
    "y = ROOT.RooRealVar(\"cos#theta_{H}\", \"cos#theta_{H}\", fitting_region[0], fitting_region[1], \"\")\n",
    "# y.setBins(50)\n",
    "y_l = ROOT.RooArgList(y)\n",
    "# signalhist = ROOT.RooDataHist(\"sighist\", \"sighist\", l, D0_M_TH1F, scale_factor)\n",
    "y_signalhist = ROOT.RooDataHist(\"y_signalhist\", \"sighist\", y_l, D0_cosHel_TH1F, 1)\n"
   ]
  },
  {
   "cell_type": "code",
   "execution_count": 56,
   "id": "f05e53b1-6d82-40a9-bf3e-99ab1e738b35",
   "metadata": {},
   "outputs": [],
   "source": [
    "y_mean = ROOT.RooRealVar(\"y_mean\", \"mean of gaussians\", 0.5,0.4, 0.6)\n",
    "y_sigma1 = ROOT.RooRealVar(\"y_sigma1\", \"width of gaussians\", 0.03,0,0.2)\n",
    "y_sigma2 = ROOT.RooRealVar(\"y_sigma2\", \"width of gaussians\", 0.02,0,0.2)\n",
    "\n",
    "c0 = ROOT.RooRealVar(\"c0\", \"c0\",0.2, 0,1)\n",
    "\n",
    "\n",
    "Cheby_c0 = ROOT.RooRealVar(\"Cheby_c0\", \"c0\",0.2, -1,1)\n",
    "Cheby_c1 = ROOT.RooRealVar(\"Cheby_c1\", \"c0\",0.2, -1,1)\n",
    "Cheby_c2 = ROOT.RooRealVar(\"Cheby_c2\", \"c0\",-0.2, -1,1)\n"
   ]
  },
  {
   "cell_type": "code",
   "execution_count": 57,
   "id": "4d628948-084a-4716-8599-7d1ed064d14b",
   "metadata": {},
   "outputs": [],
   "source": [
    "# font=72; #// Helvetica italics\n",
    "font=42; # Helvetica\n",
    "tsize=0.05\n",
    "\n",
    "  # // use plain black on white colors\n",
    "icol=0 # // WHITE\n",
    "ROOT.gStyle.SetFrameBorderMode(icol);\n",
    "ROOT.gStyle.SetFrameFillColor(icol);\n",
    "ROOT.gStyle.SetCanvasBorderMode(icol);\n",
    "ROOT.gStyle.SetCanvasColor(icol);\n",
    "ROOT.gStyle.SetPadBorderMode(icol);\n",
    "ROOT.gStyle.SetPadColor(icol);\n",
    "ROOT.gStyle.SetStatColor(icol);\n",
    "  # //belle2Style->SetFillColor(icol); // don't use: white fill color for *all* objects\n",
    "\n",
    "  # // set margin sizes\n",
    "ROOT.gStyle.SetPadTopMargin(0.05);\n",
    "ROOT.gStyle.SetPadRightMargin(0.05);\n",
    "ROOT.gStyle.SetPadBottomMargin(0.16);\n",
    "ROOT.gStyle.SetPadLeftMargin(0.16);\n",
    "\n",
    "  # // set title offsets (for axis label)\n",
    "ROOT.gStyle.SetTitleXOffset(1.0);\n",
    "ROOT.gStyle.SetTitleYOffset(1.0);\n",
    "\n",
    "ROOT.gStyle.SetTextFont(font);\n",
    "ROOT.gStyle.SetTextSize(tsize);\n",
    "    \n",
    "ROOT.gStyle.SetLabelFont(font,\"x\");\n",
    "ROOT.gStyle.SetTitleFont(font,\"x\");\n",
    "ROOT.gStyle.SetLabelFont(font,\"y\");\n",
    "ROOT.gStyle.SetTitleFont(font,\"y\");\n",
    "ROOT.gStyle.SetLabelFont(font,\"z\");\n",
    "ROOT.gStyle.SetTitleFont(font,\"z\");\n",
    "  \n",
    "ROOT.gStyle.SetLabelSize(tsize,\"x\");\n",
    "ROOT.gStyle.SetTitleSize(.065,\"x\");\n",
    "ROOT.gStyle.SetLabelSize(tsize,\"y\");\n",
    "ROOT.gStyle.SetTitleSize(.065,\"y\");\n",
    "ROOT.gStyle.SetLabelSize(tsize,\"z\");\n",
    "ROOT.gStyle.SetTitleSize(.065,\"z\");\n",
    "    \n",
    "ROOT.gStyle.SetTitleOffset(1.1,\"x\");\n",
    "ROOT.gStyle.SetTitleOffset(1.1,\"y\");\n",
    "ROOT.gStyle.SetTitleOffset(1.1,\"z\");\n",
    "\n",
    "ROOT.gStyle.SetLabelOffset(0.015,\"x\");\n",
    "ROOT.gStyle.SetLabelOffset(0.015,\"y\");\n",
    "ROOT.gStyle.SetLabelOffset(0.015,\"z\");\n"
   ]
  },
  {
   "cell_type": "code",
   "execution_count": 58,
   "id": "c36a7199-c42c-4807-9e0e-e6480a4be02f",
   "metadata": {},
   "outputs": [
    {
     "name": "stdout",
     "output_type": "stream",
     "text": [
      "[#0] WARNING:InputArguments -- The parameter 'y_sigma1' with range [0, 0.2] of the RooGaussian 'sig2_1' exceeds the safe range of (0, inf). Advise to limit its range.\n",
      "[#0] WARNING:InputArguments -- The parameter 'y_sigma2' with range [0, 0.2] of the RooGaussian 'sig2_2' exceeds the safe range of (0, inf). Advise to limit its range.\n",
      "[#1] INFO:Eval -- RooRealVar::setRange(cos#theta_{H}) new range named 'fit' created with bounds [-1,1]\n",
      "[#1] INFO:Minimization -- RooAbsMinimizerFcn::setOptimizeConst: activating const optimization\n",
      "[#1] INFO:Fitting -- RooAbsOptTestStatistic::ctor(nll_model_y_signalhist) constructing test statistic for sub-range named fit\n",
      "[#1] INFO:Eval -- RooRealVar::setRange(cos#theta_{H}) new range named 'NormalizationRangeForfit' created with bounds [-1,1]\n",
      "[#1] INFO:Eval -- RooRealVar::setRange(cos#theta_{H}) new range named 'fit_nll_model_y_signalhist' created with bounds [-1,1]\n",
      "[#1] INFO:Fitting -- RooAbsOptTestStatistic::ctor(nll_model_y_signalhist) fixing interpretation of coefficients of any RooAddPdf to full domain of observables \n",
      "[#1] INFO:Eval -- RooAbsTestStatistic::initMPMode: started 12 remote server process.\n",
      "[#1] INFO:Minimization -- RooAbsMinimizerFcn::setOptimizeConst: deactivating const optimization\n",
      "\n",
      "  RooFitResult: minimized FCN value: 7034.74, estimated distance to minimum: 3.10983e-09\n",
      "                covariance matrix quality: Full, accurate covariance matrix\n",
      "                Status : MINIMIZE=0 HESSE=0 \n",
      "\n",
      "    Floating Parameter    FinalValue +/-  Error   \n",
      "  --------------------  --------------------------\n",
      "              Cheby_c0    3.0869e-02 +/-  1.68e-02\n",
      "              Cheby_c1    1.8295e-01 +/-  1.49e-02\n",
      "\n",
      "[#1] INFO:Plotting -- RooAbsPdf::plotOn(model) p.d.f was fitted in a subrange and no explicit Range() and NormRange() was specified. Plotting / normalising in fit range. To override, do one of the following\n",
      "\t- Clear the automatic fit range attribute: <pdf>.setStringAttribute(\"fitrange\", nullptr);\n",
      "\t- Explicitly specify the plotting range: Range(\"<rangeName>\").\n",
      "\t- Explicitly specify where to compute the normalisation: NormRange(\"<rangeName>\").\n",
      "\tThe default (full) range can be denoted with Range(\"\") / NormRange(\"\").\n",
      "[#1] INFO:Plotting -- RooAbsPdf::plotOn(model) only plotting range 'fit_nll_model_y_signalhist'\n",
      "[#1] INFO:Plotting -- RooAbsPdf::plotOn(model) p.d.f. curve is normalized using explicit choice of ranges 'fit_nll_model_y_signalhist'\n"
     ]
    },
    {
     "name": "stderr",
     "output_type": "stream",
     "text": [
      "Warning in <TCanvas::Constructor>: Deleting canvas with same name: Canvas\n",
      "Info in <TCanvas::Print>: png file /media/jykim/T7/saved_plots/fitting/results/antiKstargamma/antiKstar_massveto_1ab_remain_coshel.png has been created\n"
     ]
    },
    {
     "data": {
      "image/png": "[encoded data removed]",
      "text/plain": [
       "<IPython.core.display.Image object>"
      ]
     },
     "metadata": {},
     "output_type": "display_data"
    }
   ],
   "source": [
    "canv = ROOT.TCanvas(\"Canvas\", \"Canvas\", 700, 640)\n",
    "\n",
    "xlow = ctypes.c_double()\n",
    "ylow = ctypes.c_double()\n",
    "xup = ctypes.c_double()\n",
    "yup = ctypes.c_double()\n",
    "\n",
    "canv.GetPad(0).GetPadPar(xlow, ylow, xup, yup)\n",
    "canv.Divide(1,2)\n",
    "\n",
    "xlow = xlow.value\n",
    "ylow = ylow.value\n",
    "xup = xup.value\n",
    "yup = yup.value\n",
    "\n",
    "upPad = canv.GetPad(1)\n",
    "upPad.SetPad(xlow, ylow+0.25*(yup-ylow),xup,yup)\n",
    "\n",
    "dwPad = canv.GetPad(2)\n",
    "dwPad.SetPad(xlow, ylow,xup,ylow+0.25*(yup-ylow))\n",
    "\n",
    "\n",
    "# y_bkg1_model = ROOT.MyPdf_xsquared_nopara(\"y_bkg1_model\", \"y_bkg1\", y)\n",
    "# model = ROOT.MyPdf_xsquared_nopara(\"model\", \"y_bkg1\", y)\n",
    "# sig1 = ROOT.MyPdf_xsquared_nopara(\"sig1\", \"y_bkg1\", y)\n",
    "sig1 = ROOT.MyPdf_xsquared(\"sig1\", \"y_bkg1\", y, c0)\n",
    "\n",
    "\n",
    "sig2_1 = ROOT.RooGaussian(\"sig2_1\", \"Signal component 1\", y, y_mean, y_sigma1)\n",
    "sig2_2 = ROOT.RooGaussian(\"sig2_2\", \"Signal component 1\", y, y_mean, y_sigma2)\n",
    "\n",
    "frac2 = ROOT.RooRealVar(\"frac2\", \"fraction of component 1 in signal\", 0.5, 0.0, 1.0)\n",
    "sig2 = ROOT.RooAddPdf(\"sig2\", \"model\", [sig2_1, sig2_2], frac2)\n",
    "\n",
    "\n",
    "sig3 = ROOT.RooChebychev(\"sig3\", \"Signal component 1\", y, ROOT.RooArgList(Cheby_c0, Cheby_c1, Cheby_c2))\n",
    "\n",
    "sig1frac = ROOT.RooRealVar(\"sig1frac\", \"fraction of component 1 in signal\", 0.5, 0.0, 1.0)\n",
    "sig2frac = ROOT.RooRealVar(\"sig2frac\", \"fraction of component 1 in signal\", 0.5, 0.0, 1.0)\n",
    "\n",
    "\n",
    "# model = ROOT.RooCBShape(\"model\", \"Signal component 2\", x, mean, sigma2, alpha, n_CB)\n",
    "\n",
    "sig_model1 = ROOT.RooAddPdf(\"sig_model1\", \"model\", [sig1, sig2], sig1frac)\n",
    "# model = ROOT.RooAddPdf(\"model\", \"model\", [sig3, sig_model1], sig2frac)\n",
    "\n",
    "\n",
    "model = ROOT.RooChebychev(\"model\", \"Signal component 1\", y, ROOT.RooArgList(Cheby_c0, Cheby_c1))\n",
    "\n",
    "\n",
    "run = model.fitTo(y_signalhist,NumCPU=12,Range=(-1,1),PrintLevel=-1, Save=1)\n",
    "# run = model.fitTo(y_signalhist,NumCPU=12,Range=(-1,1),PrintLevel=-1)\n",
    "\n",
    "run.Print()\n",
    "canv.cd(1) \n",
    "# frame = x.frame(Title=\"D^{0} #rightarrow #bar{K}^{*0} #pi^{0}\")\n",
    "frame = y.frame(Title=\" \")\n",
    "\n",
    "y_signalhist.plotOn(frame,Name = \"data1\", XErrorSize=0)\n",
    "\n",
    "# model.plotOn(frame, Name=\"gauss1\", Components=sig1, LineStyle=ROOT.kDashed, LineColor=593)\n",
    "# model.plotOn(frame, Name=\"CB1\", Components=sig2, LineStyle=ROOT.kDashed, LineColor=593)\n",
    "# model.plotOn(frame, Name=\"Novo\", Components=sig3, LineStyle=ROOT.kDashed, LineColor=593)\n",
    "\n",
    "model.plotOn(frame, Name=\"fitting\",)\n",
    "\n",
    "\n",
    "# sig.paramOn(frame)\n",
    "frame.GetXaxis().CenterTitle(True)\n",
    "frame.Draw(\"PE\")\n",
    "\n",
    "\n",
    "leg1 = ROOT.TLegend(0.25, 0.75, 0.4, 0.9)\n",
    "leg1.SetBorderSize(0)\n",
    "\n",
    "leg1.SetFillColor(ROOT.kWhite)\n",
    "# leg1.SetHeader(\"The Legend title\",\"C\")\n",
    "leg1.AddEntry(\"data1\", \"MC\", \"PE\")\n",
    "leg1.AddEntry(\"fitting\", \"fit\", \"l\")\n",
    "leg1.Draw()\n",
    "\n",
    "hpull = frame.pullHist()\n",
    "hpull.SetFillStyle(1001)\n",
    "hpull.SetFillColor(1);\n",
    "for i in range(0,hpull.GetN()):#(int i=0;i<hpull.GetN();++i): \n",
    "    hpull.SetPointError(i,0.0,0.0,0.0,0.0)\n",
    "# pullplot = x.frame(Title(\" \"))\n",
    "pullplot = y.frame()\n",
    "pullplot.SetTitle(\"\")\n",
    "pullplot.addPlotable(hpull,\"BE\")\n",
    "# pullplot.addPlotable(hpull,\"PE\")\n",
    "\n",
    "pullplot.SetYTitle(\"Pull\")\n",
    "pullplot.GetXaxis().SetTitleSize(0)\n",
    "pullplot.GetYaxis().SetTitleSize(0.22)\n",
    "pullplot.GetYaxis().CenterTitle(True)\n",
    "pullplot.GetYaxis().SetTitleOffset(0.2)\n",
    "pullplot.SetMinimum(-4.)\n",
    "pullplot.SetMaximum(4.)\n",
    "pullplot.GetXaxis().SetLabelSize(0.15)\n",
    "pullplot.GetYaxis().SetLabelSize(0.105)\n",
    "canv.cd(2)\n",
    "pullplot.Draw()\n",
    "\n",
    "xmin1 = ctypes.c_double(fitting_region[0])\n",
    "xmax1 = ctypes.c_double(fitting_region[1])\n",
    "# xmin1 = 0.1\n",
    "# xmax1 = 0.18\n",
    "line = ROOT.TLine(xmin1,0.0,xmax1,0.0)\n",
    "line1 = ROOT.TLine(xmin1,3.0,xmax1,3.0)\n",
    "line2 = ROOT.TLine(xmin1,-3.0,xmax1,-3.0)\n",
    "\n",
    "line.SetLineColor(ROOT.kRed)\n",
    "line.SetLineWidth(3)\n",
    "line1.SetLineColor(ROOT.kRed)\n",
    "line2.SetLineColor(ROOT.kRed)\n",
    "line1.SetLineStyle(2)\n",
    "line2.SetLineStyle(2)\n",
    "line.Draw(\"SAME\")\n",
    "line1.Draw(\"SAME\")\n",
    "line2.Draw(\"SAME\")\n",
    "\n",
    "canv.Update()\n",
    "\n",
    "canv.Draw()\n",
    "canv.SaveAs(\"/media/jykim/T7/saved_plots/fitting/results/antiKstargamma/antiKstar_massveto_1ab_remain_coshel.png\")\n",
    "\n",
    "f = ROOT.TFile(\"phig_signalMC_fitresult.root\", \"RECREATE\")\n",
    "r.Write(\"phig_sig\")\n",
    "f.Close()\n"
   ]
  },
  {
   "cell_type": "code",
   "execution_count": 59,
   "id": "13953686-2caf-46cd-bfef-c06a5f5c7804",
   "metadata": {},
   "outputs": [
    {
     "name": "stdout",
     "output_type": "stream",
     "text": [
      "0x55bfa7a90e30 RooChebychev::model = 0.81705 [Auto,Dirty] \n",
      "  0x55bfa7361d10/V- RooRealVar::cos#theta_{H} = 0\n",
      "  0x55bfa73633b0/V- RooRealVar::Cheby_c0 = 0.0308692 +/- 0.0168058\n",
      "  0x55bfa7b2ac50/V- RooRealVar::Cheby_c1 = 0.18295 +/- 0.0149482\n"
     ]
    }
   ],
   "source": [
    "model.Print(\"t\")"
   ]
  },
  {
   "cell_type": "code",
   "execution_count": null,
   "id": "4e3e768d-5095-45b0-a020-d3ddd6328d18",
   "metadata": {},
   "outputs": [],
   "source": []
  }
 ],
 "metadata": {
  "kernelspec": {
   "display_name": "Python 3 (ipykernel)",
   "language": "python",
   "name": "python3"
  },
  "language_info": {
   "codemirror_mode": {
    "name": "ipython",
    "version": 3
   },
   "file_extension": ".py",
   "mimetype": "text/x-python",
   "name": "python",
   "nbconvert_exporter": "python",
   "pygments_lexer": "ipython3",
   "version": "3.10.5"
  }
 },
 "nbformat": 4,
 "nbformat_minor": 5
}
