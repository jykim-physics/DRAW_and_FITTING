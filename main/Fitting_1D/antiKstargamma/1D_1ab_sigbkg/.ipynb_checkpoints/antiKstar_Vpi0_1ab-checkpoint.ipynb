{
 "cells": [
  {
   "cell_type": "code",
   "execution_count": 1,
   "id": "3bdbf6d9-8fb7-4849-b476-a1ab02f06744",
   "metadata": {},
   "outputs": [
    {
     "name": "stdout",
     "output_type": "stream",
     "text": [
      "Welcome to JupyROOT 6.26/04\n"
     ]
    }
   ],
   "source": [
    "import ROOT\n",
    "import ctypes"
   ]
  },
  {
   "cell_type": "code",
   "execution_count": 2,
   "id": "ce78010d-d970-4fb0-b2d2-59f1e1572ab3",
   "metadata": {},
   "outputs": [],
   "source": [
    "\n",
    "\n",
    "sig_1ab_file = ROOT.TFile.Open(\"/media/jykim/T7/storage/01_recon/massvetov2_sig_ext_1ab_sigbkg/topo/resultfile/result_antiKstar/standard.root\")\n",
    "signal_1ab_tree = sig_1ab_file.Get(\"antiKstar\")\n",
    "\n"
   ]
  },
  {
   "cell_type": "code",
   "execution_count": 3,
   "id": "4b72551a-ebd4-4a31-82f1-8eef0b26f8bf",
   "metadata": {},
   "outputs": [],
   "source": [
    "# D0_M_TH1F = ROOT.TH1F(\"D0_M_TH1F\",\"D0 mass\",50,1.67,2.06)\n",
    "# D0_M_TH1F = ROOT.TH1F(\"D0_M_TH1F\",\"D0 mass\",50,1.72,1.92)\n",
    "# D0_M_TH1F_2 = ROOT.TH1F(\"D0_M_TH1F_2\",\"D0 mass\",50,1.67, 2.06)\n",
    "D0_M_TH1F_2 = ROOT.TH1F(\"D0_M_TH1F_2\",\"D0 mass\",50,1.67, 1.9)\n",
    "D0_cosHel_TH1F = ROOT.TH1F(\"D0_cosHel_TH1F\",\"D0_cosHel\",40, -1, 1)\n"
   ]
  },
  {
   "cell_type": "code",
   "execution_count": 4,
   "id": "3a69e135-44ce-49d2-a4b1-058596ee2bad",
   "metadata": {},
   "outputs": [],
   "source": [
    "def extract_histo(tree, histogram):\n",
    "    for event in tree:\n",
    "        histogram.Fill(event.D0_M)\n",
    "    return histogram"
   ]
  },
  {
   "cell_type": "code",
   "execution_count": 5,
   "id": "8afdb8a1-3b3a-4976-974d-855ad6fbee46",
   "metadata": {},
   "outputs": [],
   "source": [
    "def extract_hist_coshel(tree, histogram):\n",
    "    for event in tree:\n",
    "        if event.iCascDcyBrP_Dst_0 ==0 and event.D0_M > 1.67 and event.D0_M < 2.06 and event.Belle2Pi0Veto_75MeV > 0.022:\n",
    "\n",
    "            histogram.Fill(event.D0_cosHel_0)\n",
    "    return histogram"
   ]
  },
  {
   "cell_type": "code",
   "execution_count": 6,
   "id": "180bbf17-769e-4579-bb25-321d03c8a0ae",
   "metadata": {},
   "outputs": [],
   "source": [
    "def apply_cuts(tree, histogram):\n",
    "    for event in tree:\n",
    "        # if event.D0_M > 1.67 and event.D0_M < 2.06:\n",
    "        if event.D0_M > 1.78 and event.D0_M < 1.92:\n",
    "\n",
    "            histogram.Fill(event.D0_M)\n",
    "    return histogram"
   ]
  },
  {
   "cell_type": "code",
   "execution_count": 7,
   "id": "79ebe577-8e50-4749-8933-7eefc08616d3",
   "metadata": {},
   "outputs": [],
   "source": [
    "def extract_signals(tree, histogram):\n",
    "    for event in tree:\n",
    "        # if event.D0_M > 1.67 and event.D0_M < 2.06:\n",
    "        # if event.iCascDcyBrP_Dst_0 ==0 and event.D0_M > 1.67 and event.D0_M < 2.06:\n",
    "        if event.iCascDcyBrP_Dst_0 ==0 and event.D0_M > 1.67 and event.D0_M < 1.9 and event.Belle2Pi0Veto_75MeV > 0.022:\n",
    "\n",
    "            histogram.Fill(event.D0_M)\n",
    "    return histogram"
   ]
  },
  {
   "cell_type": "code",
   "execution_count": 8,
   "id": "a099ad3f-d6d3-4283-be2f-c9208bd80709",
   "metadata": {},
   "outputs": [
    {
     "data": {
      "image/png": "[encoded data removed]",
      "text/plain": [
       "<IPython.core.display.Image object>"
      ]
     },
     "metadata": {},
     "output_type": "display_data"
    }
   ],
   "source": [
    "D0_cosHel_TH1F = extract_hist_coshel(signal_1ab_tree, D0_cosHel_TH1F)\n",
    "c1 = ROOT.TCanvas()\n",
    "D0_cosHel_TH1F.Draw()\n",
    "c1.Draw()"
   ]
  },
  {
   "cell_type": "code",
   "execution_count": 9,
   "id": "740212a9-eb8a-45ef-9b3e-ec4f05cae564",
   "metadata": {},
   "outputs": [],
   "source": [
    "\n",
    "# D0_M_TH1F = apply_cuts(signal_tree, D0_M_TH1F)\n",
    "# c1 = ROOT.TCanvas()\n",
    "# D0_M_TH1F.Draw()\n",
    "# c1.Draw()"
   ]
  },
  {
   "cell_type": "code",
   "execution_count": 10,
   "id": "6db6a69e-2cc6-4a5f-8150-ed65215efbc6",
   "metadata": {},
   "outputs": [
    {
     "data": {
      "image/png": "[encoded data removed]",
      "text/plain": [
       "<IPython.core.display.Image object>"
      ]
     },
     "metadata": {},
     "output_type": "display_data"
    }
   ],
   "source": [
    "\n",
    "D0_M_TH1F_2 = extract_signals(signal_1ab_tree, D0_M_TH1F_2)\n",
    "# D0_M_TH1F_2 = apply_cuts(signal_1ab_tree, D0_M_TH1F_2)\n",
    "\n",
    "c1 = ROOT.TCanvas()\n",
    "D0_M_TH1F_2.Draw()\n",
    "c1.Draw()"
   ]
  },
  {
   "cell_type": "code",
   "execution_count": 11,
   "id": "6b227194-e200-426a-a720-ecd509f64fe7",
   "metadata": {},
   "outputs": [],
   "source": [
    "\n",
    "# scale_factor = D0_M_TH1F_2.GetEntries()/D0_M_TH1F.GetEntries()"
   ]
  },
  {
   "cell_type": "code",
   "execution_count": 12,
   "id": "cbed22c9-ed4a-476f-8c57-19a7aaab4665",
   "metadata": {},
   "outputs": [],
   "source": [
    "# scale_factor"
   ]
  },
  {
   "cell_type": "markdown",
   "id": "6dd87461-e53c-435b-98b4-f1860bd96dd5",
   "metadata": {},
   "source": [
    "# D0_M"
   ]
  },
  {
   "cell_type": "code",
   "execution_count": 13,
   "id": "07856c14-3fbb-45dd-b69c-ef1a94ebc3a9",
   "metadata": {},
   "outputs": [],
   "source": [
    "fitting_region = (1.67, 1.9)\n",
    "x = ROOT.RooRealVar(\"M(D^{0})\", \"M(D^{0}) [GeV/c^{2}]\", fitting_region[0], fitting_region[1], \"\")\n",
    "# x.setBins(50)\n",
    "l = ROOT.RooArgList(x)\n",
    "# signalhist = ROOT.RooDataHist(\"sighist\", \"sighist\", l, D0_M_TH1F, scale_factor)\n",
    "signalhist = ROOT.RooDataHist(\"sighist\", \"sighist\", l, D0_M_TH1F_2, 1)\n"
   ]
  },
  {
   "cell_type": "code",
   "execution_count": 14,
   "id": "81461404-b419-43dc-b0a9-5a8ab1a4544b",
   "metadata": {},
   "outputs": [],
   "source": [
    "\n",
    "mean = ROOT.RooRealVar(\"mean\", \"mean of gaussians\", 1.84,1.83, 1.86)\n",
    "sigma1 = ROOT.RooRealVar(\"sigma1\", \"width of gaussians\", 0.03,0,0.5)\n",
    "sigma2 = ROOT.RooRealVar(\"sigma2\", \"width of gaussians\", 0.02,0,0.5)\n",
    "alpha = ROOT.RooRealVar(\"alpha\", \"width of gaussians\", 0.5,0,2)\n",
    "n_CB = ROOT.RooRealVar(\"n_CB\", \"width of gaussians\", 5,0,10)\n",
    " \n",
    "Novo_peak = ROOT.RooRealVar(\"Novo_peak\", \"Novo peak\", 1.83,1.67,1.93)    \n",
    "Novo_width = ROOT.RooRealVar(\"Novo_widh\", \"Novo peak\", 0.05,0,0.5)    \n",
    "Novo_tail = ROOT.RooRealVar(\"Novo_tail\", \"Novo peak\", 0.5,0,10)    \n",
    "\n",
    "\n",
    "sigma3 = ROOT.RooRealVar(\"sigma3\", \"width of gaussians\", 0.02,0,0.5)\n",
    "alpha2 = ROOT.RooRealVar(\"alph2\", \"width of gaussians\", 0.5,0,2)\n",
    "n_CB2 = ROOT.RooRealVar(\"n_CB2\", \"width of gaussians\", 5,0,10)"
   ]
  },
  {
   "cell_type": "code",
   "execution_count": 15,
   "id": "32658f60-999f-40d5-9109-803d213b55ed",
   "metadata": {},
   "outputs": [
    {
     "name": "stdout",
     "output_type": "stream",
     "text": [
      "[#0] WARNING:InputArguments -- The parameter 'sigma1' with range [0, 0.5] of the RooGaussian 'sig1' exceeds the safe range of (0, inf). Advise to limit its range.\n",
      "[#1] INFO:Eval -- RooRealVar::setRange(M(D^{0})) new range named 'fit' created with bounds [1.67,1.9]\n",
      "[#1] INFO:Minimization -- RooAbsMinimizerFcn::setOptimizeConst: activating const optimization\n",
      "[#1] INFO:Fitting -- RooAbsOptTestStatistic::ctor(nll_model_sighist) constructing test statistic for sub-range named fit\n",
      "[#1] INFO:Eval -- RooRealVar::setRange(M(D^{0})) new range named 'NormalizationRangeForfit' created with bounds [1.67,1.9]\n",
      "[#1] INFO:Eval -- RooRealVar::setRange(M(D^{0})) new range named 'fit_nll_model_sighist' created with bounds [1.67,1.9]\n",
      "[#1] INFO:Fitting -- RooAbsOptTestStatistic::ctor(nll_model_sighist) fixing interpretation of coefficients of any RooAddPdf to full domain of observables \n",
      "[#0] ERROR:Integration --  RooNumIntFactory::Init : libRooFitMore cannot be loaded. GSL integrators will not beavailable ! \n",
      "[#1] INFO:Eval -- RooAbsTestStatistic::initMPMode: started 12 remote server process.\n",
      "[#1] INFO:Minimization --  The following expressions will be evaluated in cache-and-track mode: (sig1,sig2)\n",
      "[#1] INFO:Minimization --  The following expressions will be evaluated in cache-and-track mode: (sig1,sig2)\n",
      "[#1] INFO:Minimization --  The following expressions will be evaluated in cache-and-track mode: (sig1,sig2)\n",
      "[#1] INFO:Minimization --  The following expressions will be evaluated in cache-and-track mode: (sig1,sig2)\n",
      "[#1] INFO:Minimization --  The following expressions will be evaluated in cache-and-track mode: (sig1,sig2)\n",
      "[#1] INFO:Minimization --  The following expressions will be evaluated in cache-and-track mode: (sig1,sig2)\n",
      "[#1] INFO:Minimization --  The following expressions will be evaluated in cache-and-track mode: (sig1,sig2)\n",
      "[#1] INFO:Minimization --  The following expressions will be evaluated in cache-and-track mode: (sig1,sig2)\n",
      "[#1] INFO:Minimization --  The following expressions will be evaluated in cache-and-track mode: (sig1,sig2)\n",
      "[#1] INFO:Minimization --  The following expressions will be evaluated in cache-and-track mode: (sig1,sig2)\n",
      "[#1] INFO:Minimization --  The following expressions will be evaluated in cache-and-track mode: (sig1,sig2)\n",
      "[#1] INFO:Minimization --  The following expressions will be evaluated in cache-and-track mode: (sig1,sig2)\n",
      "[#1] INFO:Minimization -- RooAbsMinimizerFcn::setOptimizeConst: deactivating const optimization\n",
      "\n",
      "  RooFitResult: minimized FCN value: -114338, estimated distance to minimum: 4.04012e-05\n",
      "                covariance matrix quality: Full, accurate covariance matrix\n",
      "                Status : MINIMIZE=0 HESSE=0 \n",
      "\n",
      "    Floating Parameter    FinalValue +/-  Error   \n",
      "  --------------------  --------------------------\n",
      "                 alpha    3.7326e-01 +/-  2.39e-02\n",
      "                  mean    1.8417e+00 +/-  2.22e-04\n",
      "                  n_CB    3.6990e+00 +/-  3.78e-01\n",
      "              sig1frac    2.3818e-01 +/-  2.12e-02\n",
      "                sigma1    2.2756e-02 +/-  5.58e-04\n",
      "                sigma2    1.4420e-02 +/-  2.67e-04\n",
      "\n",
      "[#1] INFO:Plotting -- RooAbsPdf::plotOn(model) p.d.f was fitted in a subrange and no explicit Range() and NormRange() was specified. Plotting / normalising in fit range. To override, do one of the following\n",
      "\t- Clear the automatic fit range attribute: <pdf>.setStringAttribute(\"fitrange\", nullptr);\n",
      "\t- Explicitly specify the plotting range: Range(\"<rangeName>\").\n",
      "\t- Explicitly specify where to compute the normalisation: NormRange(\"<rangeName>\").\n",
      "\tThe default (full) range can be denoted with Range(\"\") / NormRange(\"\").\n",
      "[#1] INFO:Plotting -- RooAbsPdf::plotOn(model) only plotting range 'fit_nll_model_sighist'\n",
      "[#1] INFO:Plotting -- RooAbsPdf::plotOn(model) p.d.f. curve is normalized using explicit choice of ranges 'fit_nll_model_sighist'\n",
      "[#1] INFO:Plotting -- RooAbsPdf::plotOn(model) directly selected PDF components: (sig1)\n",
      "[#1] INFO:Plotting -- RooAbsPdf::plotOn(model) indirectly selected PDF components: ()\n",
      "[#1] INFO:Plotting -- RooAbsPdf::plotOn(model) p.d.f was fitted in a subrange and no explicit Range() and NormRange() was specified. Plotting / normalising in fit range. To override, do one of the following\n",
      "\t- Clear the automatic fit range attribute: <pdf>.setStringAttribute(\"fitrange\", nullptr);\n",
      "\t- Explicitly specify the plotting range: Range(\"<rangeName>\").\n",
      "\t- Explicitly specify where to compute the normalisation: NormRange(\"<rangeName>\").\n",
      "\tThe default (full) range can be denoted with Range(\"\") / NormRange(\"\").\n",
      "[#1] INFO:Plotting -- RooAbsPdf::plotOn(model) only plotting range 'fit_nll_model_sighist'\n",
      "[#1] INFO:Plotting -- RooAbsPdf::plotOn(model) p.d.f. curve is normalized using explicit choice of ranges 'fit_nll_model_sighist'\n",
      "[#1] INFO:Plotting -- RooAbsPdf::plotOn(model) directly selected PDF components: (sig2)\n",
      "[#1] INFO:Plotting -- RooAbsPdf::plotOn(model) indirectly selected PDF components: ()\n",
      "[#1] INFO:Plotting -- RooAbsPdf::plotOn(model) p.d.f was fitted in a subrange and no explicit Range() and NormRange() was specified. Plotting / normalising in fit range. To override, do one of the following\n",
      "\t- Clear the automatic fit range attribute: <pdf>.setStringAttribute(\"fitrange\", nullptr);\n",
      "\t- Explicitly specify the plotting range: Range(\"<rangeName>\").\n",
      "\t- Explicitly specify where to compute the normalisation: NormRange(\"<rangeName>\").\n",
      "\tThe default (full) range can be denoted with Range(\"\") / NormRange(\"\").\n",
      "[#1] INFO:Plotting -- RooAbsPdf::plotOn(model) only plotting range 'fit_nll_model_sighist'\n",
      "[#1] INFO:Plotting -- RooAbsPdf::plotOn(model) p.d.f. curve is normalized using explicit choice of ranges 'fit_nll_model_sighist'\n"
     ]
    },
    {
     "name": "stderr",
     "output_type": "stream",
     "text": [
      "cling::DynamicLibraryManager::loadLibrary(): libgsl.so.25: cannot open shared object file: No such file or directory\n",
      "Info in <TCanvas::Print>: png file /media/jykim/T7/saved_plots/fitting/results/antiKstargamma/antiKstar_massveto_1ab_Vpi0.png has been created\n"
     ]
    },
    {
     "data": {
      "image/png": "[encoded data removed]",
      "text/plain": [
       "<IPython.core.display.Image object>"
      ]
     },
     "metadata": {},
     "output_type": "display_data"
    }
   ],
   "source": [
    "canv = ROOT.TCanvas(\"Canvas\", \"Canvas\", 700, 640)\n",
    "\n",
    "xlow = ctypes.c_double()\n",
    "ylow = ctypes.c_double()\n",
    "xup = ctypes.c_double()\n",
    "yup = ctypes.c_double()\n",
    "\n",
    "canv.GetPad(0).GetPadPar(xlow, ylow, xup, yup)\n",
    "canv.Divide(1,2)\n",
    "\n",
    "xlow = xlow.value\n",
    "ylow = ylow.value\n",
    "xup = xup.value\n",
    "yup = yup.value\n",
    "\n",
    "upPad = canv.GetPad(1)\n",
    "upPad.SetPad(xlow, ylow+0.25*(yup-ylow),xup,yup)\n",
    "\n",
    "dwPad = canv.GetPad(2)\n",
    "dwPad.SetPad(xlow, ylow,xup,ylow+0.25*(yup-ylow))\n",
    "\n",
    "    \n",
    "sig1 = ROOT.RooGaussian(\"sig1\", \"Signal component 1\", x, mean, sigma1)\n",
    "sig2 = ROOT.RooCBShape(\"sig2\", \"Signal component 2\", x, mean, sigma2, alpha, n_CB)\n",
    "# sig1 = ROOT.RooNovosibirsk(\"sig1\", \"Signal component 3\", x, mean, Novo_width, Novo_tail)\n",
    "# sig1 = ROOT.RooNovosibirsk(\"sig1\", \"Signal component 3\", x, Novo_peak, Novo_width, Novo_tail)\n",
    "# sig1 = ROOT.RooCBShape(\"sig1\", \"Signal component 2\", x, mean, sigma3, alpha2, n_CB2)\n",
    "\n",
    "\n",
    "sig1frac = ROOT.RooRealVar(\"sig1frac\", \"fraction of component 1 in signal\", 0.5, 0.0, 1.0)\n",
    "\n",
    "\n",
    "\n",
    "# model = ROOT.RooCBShape(\"model\", \"Signal component 2\", x, mean, sigma2, alpha, n_CB)\n",
    "\n",
    "model = ROOT.RooAddPdf(\"model\", \"model\", [sig1, sig2], sig1frac)\n",
    "\n",
    "\n",
    "# r = model.fitTo(signalhist,NumCPU=12,Range=fitting_region,PrintLevel=-1, Save=1)\n",
    "r = model.fitTo(signalhist,NumCPU=12,Range=(1.67,1.9),PrintLevel=-1, Save=1)\n",
    "\n",
    "r.Print()\n",
    "canv.cd(1) \n",
    "# frame = x.frame(Title=\"D^{0} #rightarrow #bar{K}^{*0} #pi^{0}\")\n",
    "frame = x.frame(Title=\" \")\n",
    "\n",
    "signalhist.plotOn(frame,Name = \"data1\", XErrorSize=0)\n",
    "\n",
    "model.plotOn(frame, Name=\"gauss1\", Components=sig1, LineStyle=ROOT.kDashed, LineColor=593)\n",
    "model.plotOn(frame, Name=\"CB1\", Components=sig2, LineStyle=ROOT.kDashed, LineColor=593)\n",
    "# sig.plotOn(frame, Name=\"Novo\", Components=sig3, LineStyle=ROOT.kDashed, LineColor=593)\n",
    "\n",
    "model.plotOn(frame, Name=\"fitting\",)\n",
    "\n",
    "\n",
    "# sig.paramOn(frame)\n",
    "frame.GetXaxis().SetTitleSize(0.047)\n",
    "frame.GetXaxis().CenterTitle(True)\n",
    "frame.GetYaxis().SetTitleSize(0.04)\n",
    "frame.GetYaxis().SetTitleOffset(1.2)\n",
    "frame.Draw(\"PE\")\n",
    "\n",
    "\n",
    "leg1 = ROOT.TLegend(0.75, 0.75, 0.9, 0.9)\n",
    "leg1.SetFillColor(ROOT.kWhite)\n",
    "# leg1.SetHeader(\"The Legend title\",\"C\")\n",
    "leg1.AddEntry(\"data1\", \"MC\", \"PE\")\n",
    "leg1.AddEntry(\"fitting\", \"fit\", \"l\")\n",
    "leg1.Draw()\n",
    "\n",
    "hpull = frame.pullHist()\n",
    "hpull.SetFillStyle(1001)\n",
    "hpull.SetFillColor(1);\n",
    "for i in range(0,hpull.GetN()):#(int i=0;i<hpull.GetN();++i): \n",
    "    hpull.SetPointError(i,0.0,0.0,0.0,0.0)\n",
    "# pullplot = x.frame(Title(\" \"))\n",
    "pullplot = x.frame()\n",
    "pullplot.SetTitle(\"\")\n",
    "pullplot.addPlotable(hpull,\"BE\")\n",
    "# pullplot.addPlotable(hpull,\"PE\")\n",
    "\n",
    "pullplot.SetYTitle(\"Pull\")\n",
    "pullplot.GetXaxis().SetTitleSize(0)\n",
    "pullplot.GetYaxis().SetTitleSize(0.17)\n",
    "pullplot.GetYaxis().CenterTitle(True)\n",
    "pullplot.GetYaxis().SetTitleOffset(0.2)\n",
    "pullplot.SetMinimum(-4.)\n",
    "pullplot.SetMaximum(4.)\n",
    "pullplot.GetXaxis().SetLabelSize(0.1)\n",
    "pullplot.GetYaxis().SetLabelSize(0.09)\n",
    "canv.cd(2)\n",
    "pullplot.Draw()\n",
    "\n",
    "xmin1 = ctypes.c_double(fitting_region[0])\n",
    "xmax1 = ctypes.c_double(fitting_region[1])\n",
    "# xmin1 = 0.1\n",
    "# xmax1 = 0.18\n",
    "line = ROOT.TLine(xmin1,0.0,xmax1,0.0)\n",
    "line1 = ROOT.TLine(xmin1,3.0,xmax1,3.0)\n",
    "line2 = ROOT.TLine(xmin1,-3.0,xmax1,-3.0)\n",
    "\n",
    "line.SetLineColor(ROOT.kRed)\n",
    "line.SetLineWidth(3)\n",
    "line1.SetLineColor(ROOT.kRed)\n",
    "line2.SetLineColor(ROOT.kRed)\n",
    "line1.SetLineStyle(2)\n",
    "line2.SetLineStyle(2)\n",
    "line.Draw(\"SAME\")\n",
    "line1.Draw(\"SAME\")\n",
    "line2.Draw(\"SAME\")\n",
    "\n",
    "canv.Update()\n",
    "\n",
    "canv.Draw()\n",
    "canv.SaveAs(\"/media/jykim/T7/saved_plots/fitting/results/antiKstargamma/antiKstar_massveto_1ab_Vpi0.png\")\n",
    "\n",
    "f = ROOT.TFile(\"phig_signalMC_fitresult.root\", \"RECREATE\")\n",
    "r.Write(\"phig_sig\")\n",
    "f.Close()\n"
   ]
  },
  {
   "cell_type": "code",
   "execution_count": 16,
   "id": "35ffd040-f571-4a12-bcd2-5df6cec6c76e",
   "metadata": {},
   "outputs": [
    {
     "name": "stdout",
     "output_type": "stream",
     "text": [
      "0x55ca065d9ce0 RooAddPdf::model = 0.239057 [Auto,Dirty] \n",
      "  0x55ca063de930/V- RooGaussian::sig1 = 0.0448441 [Auto,Dirty] \n",
      "    0x55ca02680c20/V- RooRealVar::M(D^{0}) = 1.785\n",
      "    0x55ca08625bf0/V- RooRealVar::mean = 1.8417 +/- 0.000221798\n",
      "    0x55ca085bd090/V- RooRealVar::sigma1 = 0.0227556 +/- 0.000558472\n",
      "  0x55ca063ecdf0/V- RooRealVar::sig1frac = 0.238183 +/- 0.0211904\n",
      "  0x55c9fc051150/V- RooCBShape::sig2 = 0.299779 [Auto,Dirty] \n",
      "    0x55ca02680c20/V- RooRealVar::M(D^{0}) = 1.785\n",
      "    0x55ca08625bf0/V- RooRealVar::mean = 1.8417 +/- 0.000221798\n",
      "    0x55ca085f7090/V- RooRealVar::sigma2 = 0.0144196 +/- 0.000266974\n",
      "    0x55ca086137b0/V- RooRealVar::alpha = 0.37326 +/- 0.0238554\n",
      "    0x55ca08626c20/V- RooRealVar::n_CB = 3.699 +/- 0.377737\n"
     ]
    }
   ],
   "source": [
    "model.Print(\"t\")"
   ]
  },
  {
   "cell_type": "code",
   "execution_count": 17,
   "id": "43ffc56d-f01f-49c7-96d3-6e55a2bd4819",
   "metadata": {},
   "outputs": [],
   "source": [
    "f = ROOT.TFile.Open(\"phig_signalMC_fitresult.root\")\n",
    "r2 = ROOT.gDirectory.Get(\"phig_sig\")\n",
    "f.Close()\n"
   ]
  },
  {
   "cell_type": "code",
   "execution_count": 18,
   "id": "e449db02-3a12-4028-a58f-1daa29df377e",
   "metadata": {},
   "outputs": [
    {
     "name": "stdout",
     "output_type": "stream",
     "text": [
      "\n",
      "  RooFitResult: minimized FCN value: -114338, estimated distance to minimum: 4.04012e-05\n",
      "                covariance matrix quality: Full, accurate covariance matrix\n",
      "                Status : MINIMIZE=0 HESSE=0 \n",
      "\n",
      "    Floating Parameter    FinalValue +/-  Error   \n",
      "  --------------------  --------------------------\n",
      "                 alpha    3.7326e-01 +/-  2.39e-02\n",
      "                  mean    1.8417e+00 +/-  2.22e-04\n",
      "                  n_CB    3.6990e+00 +/-  3.78e-01\n",
      "              sig1frac    2.3818e-01 +/-  2.12e-02\n",
      "                sigma1    2.2756e-02 +/-  5.58e-04\n",
      "                sigma2    1.4420e-02 +/-  2.67e-04\n",
      "\n"
     ]
    }
   ],
   "source": [
    "r2.Print()"
   ]
  },
  {
   "cell_type": "code",
   "execution_count": 19,
   "id": "b612badd-87c1-47fd-bb71-12982c4377b0",
   "metadata": {},
   "outputs": [
    {
     "data": {
      "text/plain": [
       "-0.8745236220190833"
      ]
     },
     "execution_count": 19,
     "metadata": {},
     "output_type": "execute_result"
    }
   ],
   "source": [
    "r2.correlation(\"alpha\",\"n_CB\")"
   ]
  },
  {
   "cell_type": "code",
   "execution_count": 20,
   "id": "a81b463a-ffdb-4e4d-a472-7d01dccfa76d",
   "metadata": {},
   "outputs": [
    {
     "data": {
      "text/plain": [
       "4.0401224791271204e-05"
      ]
     },
     "execution_count": 20,
     "metadata": {},
     "output_type": "execute_result"
    }
   ],
   "source": [
    "r2.edm()"
   ]
  },
  {
   "cell_type": "code",
   "execution_count": 21,
   "id": "405e4318-7ba2-4362-acae-6d90a363da53",
   "metadata": {},
   "outputs": [
    {
     "data": {
      "text/plain": [
       "<cppyy.gbl.TMatrixTSym<double> object at 0x55ca07dc1170>"
      ]
     },
     "execution_count": 21,
     "metadata": {},
     "output_type": "execute_result"
    }
   ],
   "source": [
    "r2.correlationMatrix()"
   ]
  },
  {
   "cell_type": "markdown",
   "id": "e2a69432-4b5a-4bc5-a795-b6ef90ce8ecf",
   "metadata": {},
   "source": [
    "# cosHel"
   ]
  },
  {
   "cell_type": "code",
   "execution_count": 22,
   "id": "df595432-4e00-4060-8537-d235fd0f6ac7",
   "metadata": {},
   "outputs": [
    {
     "data": {
      "text/plain": [
       "94326312163520"
      ]
     },
     "execution_count": 22,
     "metadata": {},
     "output_type": "execute_result"
    },
    {
     "name": "stdout",
     "output_type": "stream",
     "text": [
      "(MyPdf_xsquared) An instance of MyPdf_xsquared.\n"
     ]
    }
   ],
   "source": [
    "# ROOT.RooClassFactory.makePdf(\"MyPdf_xsquared\", \"x,c0\", \"\", \"c0*x*x\")\n",
    "ROOT.gROOT.ProcessLineSync(\".x MyPdf_xsquared.cxx+\")"
   ]
  },
  {
   "cell_type": "code",
   "execution_count": 23,
   "id": "5f071c3e-71ab-4241-bc8e-100bd011cb23",
   "metadata": {},
   "outputs": [],
   "source": [
    "# ROOT.RooClassFactory.makePdf(\"MyPdf_xsquared_nopara\", \"x\", \"\", \"x*x\")\n",
    "# ROOT.gROOT.ProcessLineSync(\".x MyPdf_xsquared_nopara.cxx+\")"
   ]
  },
  {
   "cell_type": "code",
   "execution_count": 24,
   "id": "19e89bb8-47b3-4f19-b5dc-77d34f227d36",
   "metadata": {},
   "outputs": [],
   "source": [
    "fitting_region = (-1, 1)\n",
    "y = ROOT.RooRealVar(\"cos#theta_{H}\", \"cos#theta_{H}\", fitting_region[0], fitting_region[1], \"\")\n",
    "# y.setBins(50)\n",
    "y_l = ROOT.RooArgList(y)\n",
    "# signalhist = ROOT.RooDataHist(\"sighist\", \"sighist\", l, D0_M_TH1F, scale_factor)\n",
    "y_signalhist = ROOT.RooDataHist(\"y_signalhist\", \"sighist\", y_l, D0_cosHel_TH1F, 1)\n"
   ]
  },
  {
   "cell_type": "code",
   "execution_count": 25,
   "id": "53aa81e3-2417-4ad3-8b8f-88964ea976ea",
   "metadata": {},
   "outputs": [],
   "source": [
    "y_mean = ROOT.RooRealVar(\"y_mean\", \"mean of gaussians\", 0.5,0.4, 0.6)\n",
    "y_sigma1 = ROOT.RooRealVar(\"y_sigma1\", \"width of gaussians\", 0.03,0,0.2)\n",
    "y_sigma2 = ROOT.RooRealVar(\"y_sigma2\", \"width of gaussians\", 0.02,0,0.2)\n",
    "\n",
    "c0 = ROOT.RooRealVar(\"c0\", \"c0\",0.2, 0,1)\n",
    "\n",
    "\n",
    "Cheby_c0 = ROOT.RooRealVar(\"Cheby_c0\", \"c0\",0.2, -1,1)\n",
    "Cheby_c1 = ROOT.RooRealVar(\"Cheby_c1\", \"c0\",0.2, -1,1)\n",
    "Cheby_c2 = ROOT.RooRealVar(\"Cheby_c2\", \"c0\",-0.2, -1,1)\n"
   ]
  },
  {
   "cell_type": "code",
   "execution_count": 26,
   "id": "f20572b0-6ce9-482a-9d27-4a0302fa4be7",
   "metadata": {},
   "outputs": [
    {
     "name": "stdout",
     "output_type": "stream",
     "text": [
      "[#0] WARNING:InputArguments -- The parameter 'y_sigma1' with range [0, 0.2] of the RooGaussian 'sig2_1' exceeds the safe range of (0, inf). Advise to limit its range.\n",
      "[#0] WARNING:InputArguments -- The parameter 'y_sigma2' with range [0, 0.2] of the RooGaussian 'sig2_2' exceeds the safe range of (0, inf). Advise to limit its range.\n",
      "[#1] INFO:Eval -- RooRealVar::setRange(cos#theta_{H}) new range named 'fit' created with bounds [-1,1]\n",
      "[#1] INFO:Minimization -- RooAbsMinimizerFcn::setOptimizeConst: activating const optimization\n",
      "[#1] INFO:Fitting -- RooAbsOptTestStatistic::ctor(nll_model_y_signalhist) constructing test statistic for sub-range named fit\n",
      "[#1] INFO:Eval -- RooRealVar::setRange(cos#theta_{H}) new range named 'NormalizationRangeForfit' created with bounds [-1,1]\n",
      "[#1] INFO:Eval -- RooRealVar::setRange(cos#theta_{H}) new range named 'fit_nll_model_y_signalhist' created with bounds [-1,1]\n",
      "[#1] INFO:Fitting -- RooAbsOptTestStatistic::ctor(nll_model_y_signalhist) fixing interpretation of coefficients of any RooAddPdf to full domain of observables \n",
      "[#1] INFO:NumericIntegration -- RooRealIntegral::init(sig1_Int[cos#theta_{H}]) using numeric integrator RooIntegrator1D to calculate Int(cos#theta_{H})\n",
      "[#1] INFO:Eval -- RooAbsTestStatistic::initMPMode: started 12 remote server process.\n",
      "[#1] INFO:NumericIntegration -- RooRealIntegral::init(sig1_Int[cos#theta_{H}]) using numeric integrator RooIntegrator1D to calculate Int(cos#theta_{H})\n",
      "[#1] INFO:NumericIntegration -- RooRealIntegral::init(sig1_Int[cos#theta_{H}]) using numeric integrator RooIntegrator1D to calculate Int(cos#theta_{H})\n",
      "[#1] INFO:NumericIntegration -- RooRealIntegral::init(sig1_Int[cos#theta_{H}]) using numeric integrator RooIntegrator1D to calculate Int(cos#theta_{H})\n",
      "[#1] INFO:NumericIntegration -- RooRealIntegral::init(sig1_Int[cos#theta_{H}]) using numeric integrator RooIntegrator1D to calculate Int(cos#theta_{H})\n",
      "[#1] INFO:NumericIntegration -- RooRealIntegral::init(sig1_Int[cos#theta_{H}]) using numeric integrator RooIntegrator1D to calculate Int(cos#theta_{H})\n",
      "[#1] INFO:NumericIntegration -- RooRealIntegral::init(sig1_Int[cos#theta_{H}]) using numeric integrator RooIntegrator1D to calculate Int(cos#theta_{H})\n",
      "[#1] INFO:NumericIntegration -- RooRealIntegral::init(sig1_Int[cos#theta_{H}]) using numeric integrator RooIntegrator1D to calculate Int(cos#theta_{H})\n",
      "[#1] INFO:NumericIntegration -- RooRealIntegral::init(sig1_Int[cos#theta_{H}]) using numeric integrator RooIntegrator1D to calculate Int(cos#theta_{H})\n",
      "[#1] INFO:NumericIntegration -- RooRealIntegral::init(sig1_Int[cos#theta_{H}]) using numeric integrator RooIntegrator1D to calculate Int(cos#theta_{H})\n",
      "[#1] INFO:NumericIntegration -- RooRealIntegral::init(sig1_Int[cos#theta_{H}]) using numeric integrator RooIntegrator1D to calculate Int(cos#theta_{H})\n",
      "[#1] INFO:NumericIntegration -- RooRealIntegral::init(sig1_Int[cos#theta_{H}]) using numeric integrator RooIntegrator1D to calculate Int(cos#theta_{H})\n",
      "[#1] INFO:NumericIntegration -- RooRealIntegral::init(sig1_Int[cos#theta_{H}]) using numeric integrator RooIntegrator1D to calculate Int(cos#theta_{H})\n",
      "[#1] INFO:NumericIntegration -- RooRealIntegral::init(sig1_Int[cos#theta_{H}]) using numeric integrator RooIntegrator1D to calculate Int(cos#theta_{H})\n",
      "[#1] INFO:NumericIntegration -- RooRealIntegral::init(sig1_Int[cos#theta_{H}]) using numeric integrator RooIntegrator1D to calculate Int(cos#theta_{H})\n",
      "[#1] INFO:NumericIntegration -- RooRealIntegral::init(sig1_Int[cos#theta_{H}]) using numeric integrator RooIntegrator1D to calculate Int(cos#theta_{H})\n",
      "[#1] INFO:NumericIntegration -- RooRealIntegral::init(sig1_Int[cos#theta_{H}]) using numeric integrator RooIntegrator1D to calculate Int(cos#theta_{H})\n",
      "[#1] INFO:NumericIntegration -- RooRealIntegral::init(sig1_Int[cos#theta_{H}]) using numeric integrator RooIntegrator1D to calculate Int(cos#theta_{H})\n",
      "[#1] INFO:NumericIntegration -- RooRealIntegral::init(sig1_Int[cos#theta_{H}]) using numeric integrator RooIntegrator1D to calculate Int(cos#theta_{H})\n",
      "[#1] INFO:NumericIntegration -- RooRealIntegral::init(sig1_Int[cos#theta_{H}]) using numeric integrator RooIntegrator1D to calculate Int(cos#theta_{H})\n",
      "[#1] INFO:NumericIntegration -- RooRealIntegral::init(sig1_Int[cos#theta_{H}]) using numeric integrator RooIntegrator1D to calculate Int(cos#theta_{H})\n",
      "[#1] INFO:NumericIntegration -- RooRealIntegral::init(sig1_Int[cos#theta_{H}]) using numeric integrator RooIntegrator1D to calculate Int(cos#theta_{H})\n",
      "[#1] INFO:NumericIntegration -- RooRealIntegral::init(sig1_Int[cos#theta_{H}]) using numeric integrator RooIntegrator1D to calculate Int(cos#theta_{H})\n",
      "[#1] INFO:NumericIntegration -- RooRealIntegral::init(sig1_Int[cos#theta_{H}]) using numeric integrator RooIntegrator1D to calculate Int(cos#theta_{H})\n",
      "[#1] INFO:NumericIntegration -- RooRealIntegral::init(sig1_Int[cos#theta_{H}]) using numeric integrator RooIntegrator1D to calculate Int(cos#theta_{H})\n",
      "[#1] INFO:Minimization --  The following expressions will be evaluated in cache-and-track mode: (sig3,sig1,sig2_1,sig2_2)\n",
      "[#1] INFO:Minimization --  The following expressions will be evaluated in cache-and-track mode: (sig3,sig1,sig2_1,sig2_2)\n",
      "[#1] INFO:Minimization --  The following expressions will be evaluated in cache-and-track mode: (sig3,sig1,sig2_1,sig2_2)\n",
      "[#1] INFO:Minimization --  The following expressions will be evaluated in cache-and-track mode: (sig3,sig1,sig2_1,sig2_2)\n",
      "[#1] INFO:Minimization --  The following expressions will be evaluated in cache-and-track mode: (sig3,sig1,sig2_1,sig2_2)\n",
      "[#1] INFO:Minimization --  The following expressions will be evaluated in cache-and-track mode: (sig3,sig1,sig2_1,sig2_2)\n",
      "[#1] INFO:Minimization --  The following expressions will be evaluated in cache-and-track mode: (sig3,sig1,sig2_1,sig2_2)\n",
      "[#1] INFO:Minimization --  The following expressions will be evaluated in cache-and-track mode: (sig3,sig1,sig2_1,sig2_2)\n",
      "[#1] INFO:Minimization --  The following expressions will be evaluated in cache-and-track mode: (sig3,sig1,sig2_1,sig2_2)\n",
      "[#1] INFO:Minimization --  The following expressions will be evaluated in cache-and-track mode: (sig3,sig1,sig2_1,sig2_2)\n",
      "[#1] INFO:Minimization --  The following expressions will be evaluated in cache-and-track mode: (sig3,sig1,sig2_1,sig2_2)\n",
      "[#1] INFO:Minimization --  The following expressions will be evaluated in cache-and-track mode: (sig3,sig1,sig2_1,sig2_2)\n",
      "RooAbsMinimizerFcn: Minimized function has error status.\n",
      "Returning maximum FCN so far (35714.4) to force MIGRAD to back out of this region. Error log follows.\n",
      "Parameter values: \tCheby_c0=0.70178\tCheby_c1=0.956083\tCheby_c2=-0.495993\tc0=0.302362\tfrac2=0.967154\tsig1frac=0.946164\tsig2frac=0.838781\ty_mean=0.501277\ty_sigma1=0.0498229\ty_sigma2=0.027511\n",
      "PID32977/RooRealMPFE::nll_model_y_signalhist_55ca0ecd7e40_MPFE5[ arg=nll_model_y_signalhist_GOF5 vars=(Cheby_c0,Cheby_c1,Cheby_c2,c0,frac2,sig1frac,sig2frac,y_mean,y_sigma1,y_sigma2) ]\n",
      "     getLogVal() top-level p.d.f evaluates to NaN @ !refCoefNorm=(cos#theta_{H} = -0.625), !pdfs=(sig3 = -0.0933745/1.36261,sig_model1 = 0.554393), !coefficients=(sig2frac = 0.838781)\n",
      "     getLogVal() top-level p.d.f evaluates to NaN @ !refCoefNorm=(cos#theta_{H} = -0.575), !pdfs=(sig3 = -0.205813/1.36261,sig_model1 = 0.469238), !coefficients=(sig2frac = 0.838781)\n",
      "     getLogVal() top-level p.d.f evaluates to NaN @ !refCoefNorm=(cos#theta_{H} = -0.525), !pdfs=(sig3 = -0.291579/1.36261,sig_model1 = 0.39118), !coefficients=(sig2frac = 0.838781)\n",
      "     getLogVal() top-level p.d.f evaluates to NaN @ !refCoefNorm=(cos#theta_{H} = -0.625), !pdfs=(sig3 = -0.0933745/1.36261,sig_model1 = 0.554393), !coefficients=(sig2frac = 0.838781)\n",
      "     getLogVal() top-level p.d.f evaluates to NaN @ !refCoefNorm=(cos#theta_{H} = -0.575), !pdfs=(sig3 = -0.205813/1.36261,sig_model1 = 0.469238), !coefficients=(sig2frac = 0.838781)\n",
      "     getLogVal() top-level p.d.f evaluates to NaN @ !refCoefNorm=(cos#theta_{H} = -0.525), !pdfs=(sig3 = -0.291579/1.36261,sig_model1 = 0.39118), !coefficients=(sig2frac = 0.838781)\n",
      "     getLogVal() top-level p.d.f evaluates to NaN @ !refCoefNorm=(cos#theta_{H} = -0.625), !pdfs=(sig3 = -0.0933745/1.36261,sig_model1 = 0.554393), !coefficients=(sig2frac = 0.838781)\n",
      "     getLogVal() top-level p.d.f evaluates to NaN @ !refCoefNorm=(cos#theta_{H} = -0.575), !pdfs=(sig3 = -0.205813/1.36261,sig_model1 = 0.469238), !coefficients=(sig2frac = 0.838781)\n",
      "     getLogVal() top-level p.d.f evaluates to NaN @ !refCoefNorm=(cos#theta_{H} = -0.525), !pdfs=(sig3 = -0.291579/1.36261,sig_model1 = 0.39118), !coefficients=(sig2frac = 0.838781)\n",
      "     getLogVal() top-level p.d.f evaluates to NaN @ !refCoefNorm=(cos#theta_{H} = -0.475), !pdfs=(sig3 = -0.35216/1.36261,sig_model1 = 0.320218), !coefficients=(sig2frac = 0.838781)\n",
      "     getLogVal() top-level p.d.f evaluates to NaN @ !refCoefNorm=(cos#theta_{H} = -0.425), !pdfs=(sig3 = -0.389045/1.36261,sig_model1 = 0.256351), !coefficients=(sig2frac = 0.838781)\n",
      "     getLogVal() top-level p.d.f evaluates to NaN @ !refCoefNorm=(cos#theta_{H} = -0.375), !pdfs=(sig3 = -0.403721/1.36261,sig_model1 = 0.199582), !coefficients=(sig2frac = 0.838781)\n",
      "    ... (remaining 29 messages suppressed)\n",
      "RooNLLVar::nll_model_y_signalhist[ paramSet=(Cheby_c0,Cheby_c1,Cheby_c2,c0,frac2,sig1frac,sig2frac,y_mean,y_sigma1,y_sigma2) ]\n",
      "     function value is NAN @ paramSet=(Cheby_c0 = 0.70178,Cheby_c1 = 0.956083,Cheby_c2 = -0.495993,c0 = 0.302362,frac2 = 0.967154,sig1frac = 0.946164,sig2frac = 0.838781,y_mean = 0.501277,y_sigma1 = 0.0498229,y_sigma2 = 0.027511)\n",
      "\n",
      "[#1] INFO:Minimization -- RooAbsMinimizerFcn::setOptimizeConst: deactivating const optimization\n",
      "\n",
      "  RooFitResult: minimized FCN value: 25323.4, estimated distance to minimum: 8.44929e-05\n",
      "                covariance matrix quality: Approximation only, not accurate\n",
      "                Status : MINIMIZE=0 HESSE=0 \n",
      "\n",
      "    Floating Parameter    FinalValue +/-  Error   \n",
      "  --------------------  --------------------------\n",
      "              Cheby_c0    7.9237e-01 +/-  1.06e-02\n",
      "              Cheby_c1    7.1355e-01 +/-  5.60e-03\n",
      "              Cheby_c2    5.7168e-02 +/-  6.70e-03\n",
      "                    c0    1.0637e-01 +/-  5.53e-01\n",
      "                 frac2    4.9163e-01 +/-  2.04e-02\n",
      "              sig1frac    6.1573e-01 +/-  4.90e-03\n",
      "              sig2frac    5.1251e-01 +/-  7.16e-03\n",
      "                y_mean    4.8195e-01 +/-  2.22e-03\n",
      "              y_sigma1    2.0000e-01 +/-  1.30e-02\n",
      "              y_sigma2    9.2962e-02 +/-  2.38e-03\n",
      "\n",
      "[#1] INFO:Plotting -- RooAbsPdf::plotOn(model) p.d.f was fitted in a subrange and no explicit Range() and NormRange() was specified. Plotting / normalising in fit range. To override, do one of the following\n",
      "\t- Clear the automatic fit range attribute: <pdf>.setStringAttribute(\"fitrange\", nullptr);\n",
      "\t- Explicitly specify the plotting range: Range(\"<rangeName>\").\n",
      "\t- Explicitly specify where to compute the normalisation: NormRange(\"<rangeName>\").\n",
      "\tThe default (full) range can be denoted with Range(\"\") / NormRange(\"\").\n",
      "[#1] INFO:Plotting -- RooAbsPdf::plotOn(model) only plotting range 'fit_nll_model_y_signalhist'\n",
      "[#1] INFO:Plotting -- RooAbsPdf::plotOn(model) p.d.f. curve is normalized using explicit choice of ranges 'fit_nll_model_y_signalhist'\n",
      "[#1] INFO:Plotting -- RooAbsPdf::plotOn(model) directly selected PDF components: (sig1)\n",
      "[#1] INFO:Plotting -- RooAbsPdf::plotOn(model) indirectly selected PDF components: (sig_model1)\n",
      "[#1] INFO:NumericIntegration -- RooRealIntegral::init(sig1_Int[cos#theta_{H}]) using numeric integrator RooIntegrator1D to calculate Int(cos#theta_{H})\n",
      "[#1] INFO:NumericIntegration -- RooRealIntegral::init(model_Int[cos#theta_{H}|fit_nll_model_y_signalhist]_Norm[cos#theta_{H}]) using numeric integrator RooIntegrator1D to calculate Int(cos#theta_{H})\n",
      "[#1] INFO:Plotting -- RooAbsPdf::plotOn(model) p.d.f was fitted in a subrange and no explicit Range() and NormRange() was specified. Plotting / normalising in fit range. To override, do one of the following\n",
      "\t- Clear the automatic fit range attribute: <pdf>.setStringAttribute(\"fitrange\", nullptr);\n",
      "\t- Explicitly specify the plotting range: Range(\"<rangeName>\").\n",
      "\t- Explicitly specify where to compute the normalisation: NormRange(\"<rangeName>\").\n",
      "\tThe default (full) range can be denoted with Range(\"\") / NormRange(\"\").\n",
      "[#1] INFO:Plotting -- RooAbsPdf::plotOn(model) only plotting range 'fit_nll_model_y_signalhist'\n",
      "[#1] INFO:Plotting -- RooAbsPdf::plotOn(model) p.d.f. curve is normalized using explicit choice of ranges 'fit_nll_model_y_signalhist'\n",
      "[#1] INFO:Plotting -- RooAbsPdf::plotOn(model) directly selected PDF components: (sig2)\n",
      "[#1] INFO:Plotting -- RooAbsPdf::plotOn(model) indirectly selected PDF components: (sig2_1,sig2_2,sig_model1)\n",
      "[#1] INFO:NumericIntegration -- RooRealIntegral::init(sig1_Int[cos#theta_{H}]) using numeric integrator RooIntegrator1D to calculate Int(cos#theta_{H})\n",
      "[#1] INFO:NumericIntegration -- RooRealIntegral::init(model_Int[cos#theta_{H}|fit_nll_model_y_signalhist]_Norm[cos#theta_{H}]) using numeric integrator RooIntegrator1D to calculate Int(cos#theta_{H})\n",
      "[#1] INFO:Plotting -- RooAbsPdf::plotOn(model) p.d.f was fitted in a subrange and no explicit Range() and NormRange() was specified. Plotting / normalising in fit range. To override, do one of the following\n",
      "\t- Clear the automatic fit range attribute: <pdf>.setStringAttribute(\"fitrange\", nullptr);\n",
      "\t- Explicitly specify the plotting range: Range(\"<rangeName>\").\n",
      "\t- Explicitly specify where to compute the normalisation: NormRange(\"<rangeName>\").\n",
      "\tThe default (full) range can be denoted with Range(\"\") / NormRange(\"\").\n",
      "[#1] INFO:Plotting -- RooAbsPdf::plotOn(model) only plotting range 'fit_nll_model_y_signalhist'\n",
      "[#1] INFO:Plotting -- RooAbsPdf::plotOn(model) p.d.f. curve is normalized using explicit choice of ranges 'fit_nll_model_y_signalhist'\n",
      "[#1] INFO:Plotting -- RooAbsPdf::plotOn(model) directly selected PDF components: (sig3)\n",
      "[#1] INFO:Plotting -- RooAbsPdf::plotOn(model) indirectly selected PDF components: ()\n",
      "[#1] INFO:NumericIntegration -- RooRealIntegral::init(sig1_Int[cos#theta_{H}]) using numeric integrator RooIntegrator1D to calculate Int(cos#theta_{H})\n",
      "[#1] INFO:NumericIntegration -- RooRealIntegral::init(model_Int[cos#theta_{H}|fit_nll_model_y_signalhist]_Norm[cos#theta_{H}]) using numeric integrator RooIntegrator1D to calculate Int(cos#theta_{H})\n",
      "[#1] INFO:Plotting -- RooAbsPdf::plotOn(model) p.d.f was fitted in a subrange and no explicit Range() and NormRange() was specified. Plotting / normalising in fit range. To override, do one of the following\n",
      "\t- Clear the automatic fit range attribute: <pdf>.setStringAttribute(\"fitrange\", nullptr);\n",
      "\t- Explicitly specify the plotting range: Range(\"<rangeName>\").\n",
      "\t- Explicitly specify where to compute the normalisation: NormRange(\"<rangeName>\").\n",
      "\tThe default (full) range can be denoted with Range(\"\") / NormRange(\"\").\n",
      "[#1] INFO:Plotting -- RooAbsPdf::plotOn(model) only plotting range 'fit_nll_model_y_signalhist'\n",
      "[#1] INFO:Plotting -- RooAbsPdf::plotOn(model) p.d.f. curve is normalized using explicit choice of ranges 'fit_nll_model_y_signalhist'\n",
      "[#1] INFO:NumericIntegration -- RooRealIntegral::init(sig1_Int[cos#theta_{H}]) using numeric integrator RooIntegrator1D to calculate Int(cos#theta_{H})\n",
      "[#1] INFO:NumericIntegration -- RooRealIntegral::init(model_Int[cos#theta_{H}|fit_nll_model_y_signalhist]_Norm[cos#theta_{H}]) using numeric integrator RooIntegrator1D to calculate Int(cos#theta_{H})\n"
     ]
    },
    {
     "name": "stderr",
     "output_type": "stream",
     "text": [
      "Warning in <TCanvas::Constructor>: Deleting canvas with same name: Canvas\n",
      "Info in <TCanvas::Print>: png file /media/jykim/T7/saved_plots/fitting/results/antiKstargamma/antiKstar_massveto_1ab_Vpi0_coshel.png has been created\n"
     ]
    },
    {
     "data": {
      "image/png": "[encoded data removed]",
      "text/plain": [
       "<IPython.core.display.Image object>"
      ]
     },
     "metadata": {},
     "output_type": "display_data"
    }
   ],
   "source": [
    "canv = ROOT.TCanvas(\"Canvas\", \"Canvas\", 700, 640)\n",
    "\n",
    "xlow = ctypes.c_double()\n",
    "ylow = ctypes.c_double()\n",
    "xup = ctypes.c_double()\n",
    "yup = ctypes.c_double()\n",
    "\n",
    "canv.GetPad(0).GetPadPar(xlow, ylow, xup, yup)\n",
    "canv.Divide(1,2)\n",
    "\n",
    "xlow = xlow.value\n",
    "ylow = ylow.value\n",
    "xup = xup.value\n",
    "yup = yup.value\n",
    "\n",
    "upPad = canv.GetPad(1)\n",
    "upPad.SetPad(xlow, ylow+0.25*(yup-ylow),xup,yup)\n",
    "\n",
    "dwPad = canv.GetPad(2)\n",
    "dwPad.SetPad(xlow, ylow,xup,ylow+0.25*(yup-ylow))\n",
    "\n",
    "\n",
    "# y_bkg1_model = ROOT.MyPdf_xsquared_nopara(\"y_bkg1_model\", \"y_bkg1\", y)\n",
    "# model = ROOT.MyPdf_xsquared_nopara(\"model\", \"y_bkg1\", y)\n",
    "# sig1 = ROOT.MyPdf_xsquared_nopara(\"sig1\", \"y_bkg1\", y)\n",
    "sig1 = ROOT.MyPdf_xsquared(\"sig1\", \"y_bkg1\", y, c0)\n",
    "\n",
    "\n",
    "sig2_1 = ROOT.RooGaussian(\"sig2_1\", \"Signal component 1\", y, y_mean, y_sigma1)\n",
    "sig2_2 = ROOT.RooGaussian(\"sig2_2\", \"Signal component 1\", y, y_mean, y_sigma2)\n",
    "\n",
    "frac2 = ROOT.RooRealVar(\"frac2\", \"fraction of component 1 in signal\", 0.5, 0.0, 1.0)\n",
    "sig2 = ROOT.RooAddPdf(\"sig2\", \"model\", [sig2_1, sig2_2], frac2)\n",
    "\n",
    "\n",
    "sig3 = ROOT.RooChebychev(\"sig3\", \"Signal component 1\", y, ROOT.RooArgList(Cheby_c0, Cheby_c1, Cheby_c2))\n",
    "\n",
    "sig1frac = ROOT.RooRealVar(\"sig1frac\", \"fraction of component 1 in signal\", 0.5, 0.0, 1.0)\n",
    "sig2frac = ROOT.RooRealVar(\"sig2frac\", \"fraction of component 1 in signal\", 0.5, 0.0, 1.0)\n",
    "\n",
    "\n",
    "# model = ROOT.RooCBShape(\"model\", \"Signal component 2\", x, mean, sigma2, alpha, n_CB)\n",
    "\n",
    "sig_model1 = ROOT.RooAddPdf(\"sig_model1\", \"model\", [sig1, sig2], sig1frac)\n",
    "model = ROOT.RooAddPdf(\"model\", \"model\", [sig3, sig_model1], sig2frac)\n",
    "\n",
    "\n",
    "\n",
    "\n",
    "run = model.fitTo(y_signalhist,NumCPU=12,Range=(-1,1),PrintLevel=-1, Save=1)\n",
    "# run = model.fitTo(y_signalhist,NumCPU=12,Range=(-1,1),PrintLevel=-1)\n",
    "\n",
    "run.Print()\n",
    "canv.cd(1) \n",
    "# frame = x.frame(Title=\"D^{0} #rightarrow #bar{K}^{*0} #pi^{0}\")\n",
    "frame = y.frame(Title=\" \")\n",
    "\n",
    "y_signalhist.plotOn(frame,Name = \"data1\", XErrorSize=0)\n",
    "\n",
    "model.plotOn(frame, Name=\"gauss1\", Components=sig1, LineStyle=ROOT.kDashed, LineColor=593)\n",
    "model.plotOn(frame, Name=\"CB1\", Components=sig2, LineStyle=ROOT.kDashed, LineColor=593)\n",
    "model.plotOn(frame, Name=\"Novo\", Components=sig3, LineStyle=ROOT.kDashed, LineColor=593)\n",
    "\n",
    "model.plotOn(frame, Name=\"fitting\",)\n",
    "\n",
    "\n",
    "# sig.paramOn(frame)\n",
    "frame.GetXaxis().SetTitleSize(0.047)\n",
    "frame.GetXaxis().CenterTitle(True)\n",
    "frame.GetYaxis().SetTitleSize(0.04)\n",
    "frame.GetYaxis().SetTitleOffset(1.2)\n",
    "frame.Draw(\"PE\")\n",
    "\n",
    "\n",
    "leg1 = ROOT.TLegend(0.15, 0.75, 0.3, 0.9)\n",
    "leg1.SetFillColor(ROOT.kWhite)\n",
    "# leg1.SetHeader(\"The Legend title\",\"C\")\n",
    "leg1.AddEntry(\"data1\", \"MC\", \"PE\")\n",
    "leg1.AddEntry(\"fitting\", \"fit\", \"l\")\n",
    "leg1.Draw()\n",
    "\n",
    "hpull = frame.pullHist()\n",
    "hpull.SetFillStyle(1001)\n",
    "hpull.SetFillColor(1);\n",
    "for i in range(0,hpull.GetN()):#(int i=0;i<hpull.GetN();++i): \n",
    "    hpull.SetPointError(i,0.0,0.0,0.0,0.0)\n",
    "# pullplot = x.frame(Title(\" \"))\n",
    "pullplot = y.frame()\n",
    "pullplot.SetTitle(\"\")\n",
    "pullplot.addPlotable(hpull,\"BE\")\n",
    "# pullplot.addPlotable(hpull,\"PE\")\n",
    "\n",
    "pullplot.SetYTitle(\"Pull\")\n",
    "pullplot.GetXaxis().SetTitleSize(0)\n",
    "pullplot.GetYaxis().SetTitleSize(0.17)\n",
    "pullplot.GetYaxis().CenterTitle(True)\n",
    "pullplot.GetYaxis().SetTitleOffset(0.2)\n",
    "pullplot.SetMinimum(-4.)\n",
    "pullplot.SetMaximum(4.)\n",
    "pullplot.GetXaxis().SetLabelSize(0.1)\n",
    "pullplot.GetYaxis().SetLabelSize(0.09)\n",
    "canv.cd(2)\n",
    "pullplot.Draw()\n",
    "\n",
    "xmin1 = ctypes.c_double(fitting_region[0])\n",
    "xmax1 = ctypes.c_double(fitting_region[1])\n",
    "# xmin1 = 0.1\n",
    "# xmax1 = 0.18\n",
    "line = ROOT.TLine(xmin1,0.0,xmax1,0.0)\n",
    "line1 = ROOT.TLine(xmin1,3.0,xmax1,3.0)\n",
    "line2 = ROOT.TLine(xmin1,-3.0,xmax1,-3.0)\n",
    "\n",
    "line.SetLineColor(ROOT.kRed)\n",
    "line.SetLineWidth(3)\n",
    "line1.SetLineColor(ROOT.kRed)\n",
    "line2.SetLineColor(ROOT.kRed)\n",
    "line1.SetLineStyle(2)\n",
    "line2.SetLineStyle(2)\n",
    "line.Draw(\"SAME\")\n",
    "line1.Draw(\"SAME\")\n",
    "line2.Draw(\"SAME\")\n",
    "\n",
    "canv.Update()\n",
    "\n",
    "canv.Draw()\n",
    "canv.SaveAs(\"/media/jykim/T7/saved_plots/fitting/results/antiKstargamma/antiKstar_massveto_1ab_Vpi0_coshel.png\")\n",
    "\n",
    "f = ROOT.TFile(\"phig_signalMC_fitresult.root\", \"RECREATE\")\n",
    "r.Write(\"phig_sig\")\n",
    "f.Close()\n"
   ]
  },
  {
   "cell_type": "code",
   "execution_count": 27,
   "id": "bdaf6345-b793-4afb-bbe4-84aee64a237c",
   "metadata": {},
   "outputs": [
    {
     "name": "stdout",
     "output_type": "stream",
     "text": [
      "0x55ca0eccf580 RooAddPdf::model = 0.151858 [Auto,Dirty] \n",
      "  0x55ca0e589e30/V- RooChebychev::sig3 = 0.286452 [Auto,Dirty] \n",
      "    0x55ca0e5097c0/V- RooRealVar::cos#theta_{H} = 0\n",
      "    0x55ca0d533340/V- RooRealVar::Cheby_c0 = 0.792369 +/- 0.0106256\n",
      "    0x55ca0e52d960/V- RooRealVar::Cheby_c1 = 0.713548 +/- 0.00560229\n",
      "    0x55ca0e5c12e0/V- RooRealVar::Cheby_c2 = 0.057168 +/- 0.00670044\n",
      "  0x55ca063ecdf0/V- RooRealVar::sig2frac = 0.512507 +/- 0.00716493\n",
      "  0x55ca0e4fac50/V- RooAddPdf::sig_model1 = 0.0103584 [Auto,Dirty] \n",
      "    0x55ca0e536920/V- MyPdf_xsquared::sig1 = 0 [Auto,Dirty] \n",
      "      0x55ca0e5097c0/V- RooRealVar::cos#theta_{H} = 0\n",
      "      0x55ca0d4f7e20/V- RooRealVar::c0 = 0.106365 +/- 0.553101\n",
      "    0x55ca0660afc0/V- RooRealVar::sig1frac = 0.615735 +/- 0.00490199\n",
      "    0x55ca0ece5c40/V- RooAddPdf::sig2 = 0.0269565 [Auto,Dirty] \n",
      "      0x55ca063de930/V- RooGaussian::sig2_1 = 0.0548288 [Auto,Dirty] \n",
      "        0x55ca0e5097c0/V- RooRealVar::cos#theta_{H} = 0\n",
      "        0x55ca0e559580/V- RooRealVar::y_mean = 0.481953 +/- 0.00221973\n",
      "        0x55ca0e545fd0/V- RooRealVar::y_sigma1 = 0.199998 +/- 0.0129987\n",
      "      0x55ca0ecda9c0/V- RooRealVar::frac2 = 0.491635 +/- 0.0203838\n",
      "      0x55ca0e5126e0/V- RooGaussian::sig2_2 = 1.45691e-06 [Auto,Dirty] \n",
      "        0x55ca0e5097c0/V- RooRealVar::cos#theta_{H} = 0\n",
      "        0x55ca0e559580/V- RooRealVar::y_mean = 0.481953 +/- 0.00221973\n",
      "        0x55ca0d4ea8c0/V- RooRealVar::y_sigma2 = 0.0929615 +/- 0.00237947\n"
     ]
    }
   ],
   "source": [
    "model.Print(\"t\")"
   ]
  },
  {
   "cell_type": "code",
   "execution_count": null,
   "id": "1b377f60-eeb0-4d49-bc52-576bac7c88ee",
   "metadata": {},
   "outputs": [],
   "source": []
  },
  {
   "cell_type": "code",
   "execution_count": null,
   "id": "927030fc-1be0-46ea-a6f0-b533898a7ebb",
   "metadata": {},
   "outputs": [],
   "source": []
  },
  {
   "cell_type": "code",
   "execution_count": null,
   "id": "393e9c45-8ae4-4e07-9c4e-a7a87d6ca948",
   "metadata": {},
   "outputs": [],
   "source": []
  },
  {
   "cell_type": "code",
   "execution_count": null,
   "id": "2985305a-e558-46d9-a8c2-be54ebab2972",
   "metadata": {},
   "outputs": [],
   "source": []
  }
 ],
 "metadata": {
  "kernelspec": {
   "display_name": "Python 3 (ipykernel)",
   "language": "python",
   "name": "python3"
  },
  "language_info": {
   "codemirror_mode": {
    "name": "ipython",
    "version": 3
   },
   "file_extension": ".py",
   "mimetype": "text/x-python",
   "name": "python",
   "nbconvert_exporter": "python",
   "pygments_lexer": "ipython3",
   "version": "3.10.5"
  }
 },
 "nbformat": 4,
 "nbformat_minor": 5
}
