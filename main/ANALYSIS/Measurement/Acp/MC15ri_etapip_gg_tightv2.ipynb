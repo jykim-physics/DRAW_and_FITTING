{
 "cells": [
  {
   "cell_type": "code",
   "execution_count": 33,
   "id": "b42fe51e-9a01-4a14-8e3b-9b28cd0e65df",
   "metadata": {},
   "outputs": [
    {
     "name": "stdout",
     "output_type": "stream",
     "text": [
      "The autoreload extension is already loaded. To reload it, use:\n",
      "  %reload_ext autoreload\n"
     ]
    }
   ],
   "source": [
    "%matplotlib inline\n",
    "%load_ext autoreload\n",
    "%autoreload 2\n",
    "#import seaborn as sns\n",
    "import matplotlib.pyplot as plt\n",
    "import numpy as np\n",
    "#import pandas as pd\n",
    "import math\n",
    "from math import sqrt\n",
    "import ROOT\n",
    "import ctypes\n",
    "try:\n",
    "#     plt.style.use('belle2')\n",
    "    plt.style.use('belle2_serif')\n",
    "#     plt.style.use('belle2_modern')\n",
    "except OSError:\n",
    "    print(\"Please install belle2 matplotlib style\") \n",
    "px = 1/plt.rcParams['figure.dpi']\n",
    "\n",
    "from main.data_tools.extract_ntuples import get_pd, get_np\n",
    "from main.draw_tools.decorations import b2helix, watermark\n",
    "from main.draw_tools.stacking_with_error_bars import MC_stack_plot, MC_stack_plot_density\n",
    "\n",
    "from main.data_tools.error_bars import make_data_weight\n",
    "from main.data_tools.query_dataframes import cut_dfs_7types\n",
    "\n",
    "from main.data_tools.Acp_calculator import Acp_and_AcpError_cal, Acp_cal\n"
   ]
  },
  {
   "cell_type": "code",
   "execution_count": 2,
   "id": "4108a1d3-1bfd-4760-8f7f-1dadd9ea6864",
   "metadata": {},
   "outputs": [],
   "source": [
    "f = ROOT.TFile.Open(\"/media/jykim/T7/saved_plots/storage_plots/plots/MC15ri/etapip/gg/generic/fitresult/MC15ri_1ab_etapip_gg_fit_tight_v2.root\")\n",
    "f = ROOT.TFile.Open(\"/media/jykim/T7/saved_plots/storage_plots/plots/MC15ri/etapip/gg/generic/fitresult/MC15ri_1ab_etapip_gg_fit_tight_v2_fitv6.root\")\n",
    "# f = ROOT.TFile.Open(\"/media/jykim/T7/saved_plots/storage_plots/plots/MC15ri/etapip/gg/generic/fitresult/MC15ri_1ab_etapip_gg_fit_tight_v2_fitv8.root\")\n",
    "# f = ROOT.TFile.Open(\"/media/jykim/T7/saved_plots/storage_plots/plots/MC15ri/etapip/gg/generic/fitresult/MC15ri_1ab_etapip_gg_fit_tight_v2_fitv9.root\")\n",
    "\n",
    "# f = ROOT.TFile.Open(\"/media/jykim/T7/saved_plots/storage_plots/plots/MC15ri/etapip/gg/generic/fitresult/MC15ri_1ab_etapip_gg_fit_tight_v2_fitv3.root\")\n",
    "\n",
    "result_object1 = ROOT.gDirectory.Get(\"jykim\")\n",
    "f.Close()\n",
    "\n",
    "fit_args1 = result_object1.floatParsFinal()"
   ]
  },
  {
   "cell_type": "code",
   "execution_count": 3,
   "id": "41e365b3-0770-41e4-8d70-d1dd992e5363",
   "metadata": {},
   "outputs": [
    {
     "name": "stdout",
     "output_type": "stream",
     "text": [
      "{'Ds_mean_gaussian': {'value': -0.02480145480417595, 'error': 7.118866054480148e-05}, 'Ds_sigma_gaussian': {'value': 0.00972379997772096, 'error': 8.013012376110043e-05}, 'mean_gaussian': {'value': -0.012838556238303545, 'error': 0.0001530228738057342}, 'nDs': {'value': 123855.84391070482, 'error': 749.6161708649412}, 'nbkg1': {'value': 965656.2491368889, 'error': 2966.788432014497}, 'nbkg2': {'value': 46490.78207139758, 'error': 2038.0192099318772}, 'nsig': {'value': 48184.70552475348, 'error': 787.6833629236986}, 'rhopeta_mean': {'value': 1.7345020850324213, 'error': 0.0029129107421636507}, 'rhopeta_sigma': {'value': 0.04808996318747624, 'error': 0.0014273106868080275}, 'sigma_gaussian': {'value': 0.007743617418311538, 'error': 0.00021935939884104144}, 'x_bkg1_tau': {'value': -1.4605687423761502, 'error': 0.03105866928489618}}\n"
     ]
    }
   ],
   "source": [
    "# Create an empty dictionary\n",
    "param_dict = {}\n",
    "\n",
    "# Iterate over the floating parameters\n",
    "for i in range(fit_args1.getSize()):\n",
    "    # Get parameter name\n",
    "    param_name = fit_args1.at(i).GetName()\n",
    "    \n",
    "    # Get parameter value\n",
    "    param_value = fit_args1.at(i).getVal()\n",
    "    \n",
    "    # Get parameter error\n",
    "    param_error = fit_args1.at(i).getError()\n",
    "    \n",
    "    # Add the parameter name, value, and error to the dictionary\n",
    "    param_dict[param_name] = {'value': param_value, 'error': param_error}\n",
    "\n",
    "# Print the dictionary\n",
    "print(param_dict)\n"
   ]
  },
  {
   "cell_type": "code",
   "execution_count": 4,
   "id": "4e823733-4d6b-4731-b23c-4b2096aa6f6a",
   "metadata": {},
   "outputs": [
    {
     "name": "stdout",
     "output_type": "stream",
     "text": [
      "\n",
      "  RooFitResult: minimized FCN value: -1.68745e+07, estimated distance to minimum: 0.0281106\n",
      "                covariance matrix quality: Full, accurate covariance matrix\n",
      "                Status : MINIMIZE=-1 HESSE=4 HESSE=4 \n",
      "\n",
      "    Constant Parameter    Value     \n",
      "  --------------------  ------------\n",
      "              Ds_delta    4.0421e-01\n",
      "              Ds_gamma    3.4049e-01\n",
      "       Ds_mean_johnson    1.9933e+00\n",
      "      Ds_sigma_johnson    1.1644e-03\n",
      "                 delta    8.9054e-01\n",
      "                 gamma    3.3994e-01\n",
      "          mean_johnson    1.8837e+00\n",
      "         sigma_johnson    6.0692e-03\n",
      "\n",
      "    Floating Parameter  InitialValue    FinalValue +/-  Error     GblCorr.\n",
      "  --------------------  ------------  --------------------------  --------\n",
      "      Ds_mean_gaussian    0.0000e+00   -2.4801e-02 +/-  7.12e-05  <none>\n",
      "     Ds_sigma_gaussian    1.0000e-02    9.7238e-03 +/-  8.01e-05  <none>\n",
      "         mean_gaussian    0.0000e+00   -1.2839e-02 +/-  1.53e-04  <none>\n",
      "                   nDs    9.4738e+05    1.2386e+05 +/-  7.50e+02  <none>\n",
      "                 nbkg1    9.4738e+05    9.6566e+05 +/-  2.97e+03  <none>\n",
      "                 nbkg2    2.3684e+05    4.6491e+04 +/-  2.04e+03  <none>\n",
      "                  nsig    1.1842e+04    4.8185e+04 +/-  7.88e+02  <none>\n",
      "          rhopeta_mean    1.7500e+00    1.7345e+00 +/-  2.91e-03  <none>\n",
      "         rhopeta_sigma    3.0000e-02    4.8090e-02 +/-  1.43e-03  <none>\n",
      "        sigma_gaussian    1.0000e-02    7.7436e-03 +/-  2.19e-04  <none>\n",
      "            x_bkg1_tau   -5.0000e-01   -1.4606e+00 +/-  3.11e-02  <none>\n",
      "\n"
     ]
    }
   ],
   "source": [
    "result_object1.Print(\"v\")"
   ]
  },
  {
   "cell_type": "code",
   "execution_count": 5,
   "id": "14fa719d-c9c3-4d54-ae27-7b4df15ea343",
   "metadata": {},
   "outputs": [],
   "source": [
    "# f = ROOT.TFile.Open(\"/media/jykim/T7/saved_plots/storage_plots/plots/MC15ri/etapip/gg/generic/fitresult/MC15ri_1ab_etapip_gg_cc_fit_tight_v2.root\")\n",
    "f = ROOT.TFile.Open(\"/media/jykim/T7/saved_plots/storage_plots/plots/MC15ri/etapip/gg/generic/fitresult/MC15ri_1ab_etapip_gg_cc_fit_tight_v2_fitv5.root\")\n",
    "f = ROOT.TFile.Open(\"/media/jykim/T7/saved_plots/storage_plots/plots/MC15ri/etapip/gg/generic/fitresult/MC15ri_1ab_etapip_gg_cc_fit_tight_v2_fitv8.root\")\n",
    "f = ROOT.TFile.Open(\"/media/jykim/T7/saved_plots/storage_plots/plots/MC15ri/etapip/gg/generic/fitresult/MC15ri_1ab_etapip_gg_cc_fit_tight_v2_fitv9.root\")\n",
    "f = ROOT.TFile.Open(\"/media/jykim/T7/saved_plots/storage_plots/plots/MC15ri/etapip/gg/generic/fitresult/MC15ri_1ab_etapip_gg_cc_fit_tight_v2_fitv6.root\")\n",
    "\n",
    "result_object1_cc = ROOT.gDirectory.Get(\"jykim\")\n",
    "f.Close()\n",
    "\n",
    "fit_args1_cc = result_object1_cc.floatParsFinal()"
   ]
  },
  {
   "cell_type": "code",
   "execution_count": 6,
   "id": "82234bbb-4c65-49ae-a54d-09a75188a676",
   "metadata": {},
   "outputs": [
    {
     "name": "stdout",
     "output_type": "stream",
     "text": [
      "{'Ds_mean_gaussian': {'value': -0.02497720502083478, 'error': 7.32237929475111e-05}, 'Ds_sigma_gaussian': {'value': 0.00954500698070923, 'error': 8.221343282467254e-05}, 'mean_gaussian': {'value': -0.013133758739940715, 'error': 0.00016028391170685332}, 'nDs': {'value': 123380.97455154826, 'error': 823.0391799054795}, 'nbkg1': {'value': 986887.9491389946, 'error': 6219.037735381331}, 'nbkg2': {'value': 50976.30810542106, 'error': 5128.28899167335}, 'nsig': {'value': 47951.328531009334, 'error': 896.7260552904836}, 'rhopeta_mean': {'value': 1.7367133844791016, 'error': 0.013682621730446}, 'rhopeta_sigma': {'value': 0.04999999947102148, 'error': 5.80924006109202e-06}, 'sigma_gaussian': {'value': 0.007180949982842179, 'error': 0.00022885347925742815}, 'x_bkg1_tau': {'value': -1.4294747629496172, 'error': 0.06371121403559647}}\n"
     ]
    }
   ],
   "source": [
    "# Create an empty dictionary\n",
    "param_dict_cc = {}\n",
    "\n",
    "# Iterate over the floating parameters\n",
    "for i in range(fit_args1_cc.getSize()):\n",
    "    # Get parameter name\n",
    "    param_name = fit_args1_cc.at(i).GetName()\n",
    "    \n",
    "    # Get parameter value\n",
    "    param_value = fit_args1_cc.at(i).getVal()\n",
    "    \n",
    "    # Get parameter error\n",
    "    param_error = fit_args1_cc.at(i).getError()\n",
    "    \n",
    "    # Add the parameter name, value, and error to the dictionary\n",
    "    param_dict_cc[param_name] = {'value': param_value, 'error': param_error}\n",
    "\n",
    "# Print the dictionary\n",
    "print(param_dict_cc)\n"
   ]
  },
  {
   "cell_type": "code",
   "execution_count": 7,
   "id": "a4c207dc-e0e0-4a44-badd-94fecd4e3fa2",
   "metadata": {},
   "outputs": [
    {
     "name": "stdout",
     "output_type": "stream",
     "text": [
      "\n",
      "  RooFitResult: minimized FCN value: -1.72551e+07, estimated distance to minimum: 0.0176957\n",
      "                covariance matrix quality: Full matrix, but forced positive-definite\n",
      "                Status : MINIMIZE=-1 HESSE=4 HESSE=4 \n",
      "\n",
      "    Constant Parameter    Value     \n",
      "  --------------------  ------------\n",
      "              Ds_delta    4.0421e-01\n",
      "              Ds_gamma    3.4049e-01\n",
      "       Ds_mean_johnson    1.9933e+00\n",
      "      Ds_sigma_johnson    1.1644e-03\n",
      "                 delta    8.9054e-01\n",
      "                 gamma    3.3994e-01\n",
      "          mean_johnson    1.8837e+00\n",
      "         sigma_johnson    6.0692e-03\n",
      "\n",
      "    Floating Parameter  InitialValue    FinalValue +/-  Error     GblCorr.\n",
      "  --------------------  ------------  --------------------------  --------\n",
      "      Ds_mean_gaussian    0.0000e+00   -2.4977e-02 +/-  7.32e-05  <none>\n",
      "     Ds_sigma_gaussian    1.0000e-02    9.5450e-03 +/-  8.22e-05  <none>\n",
      "         mean_gaussian    0.0000e+00   -1.3134e-02 +/-  1.60e-04  <none>\n",
      "                   nDs    9.6736e+05    1.2338e+05 +/-  8.23e+02  <none>\n",
      "                 nbkg1    9.6736e+05    9.8689e+05 +/-  6.22e+03  <none>\n",
      "                 nbkg2    2.4184e+05    5.0976e+04 +/-  5.13e+03  <none>\n",
      "                  nsig    1.2092e+04    4.7951e+04 +/-  8.97e+02  <none>\n",
      "          rhopeta_mean    1.7500e+00    1.7367e+00 +/-  1.37e-02  <none>\n",
      "         rhopeta_sigma    3.0000e-02    5.0000e-02 +/-  5.81e-06  <none>\n",
      "        sigma_gaussian    1.0000e-02    7.1809e-03 +/-  2.29e-04  <none>\n",
      "            x_bkg1_tau   -5.0000e-01   -1.4295e+00 +/-  6.37e-02  <none>\n",
      "\n"
     ]
    }
   ],
   "source": [
    "result_object1_cc.Print(\"v\")"
   ]
  },
  {
   "cell_type": "code",
   "execution_count": 12,
   "id": "6147e20f-e69a-455e-b1cc-96a6f22237a5",
   "metadata": {},
   "outputs": [],
   "source": [
    "base_file_loc =  '/media/jykim/T7_2/storage/Ntuples_ghi_2/MC15ri_generic/MC15ri_etaetapip_tight_v2_240419_Kp_BCS_etapi0const/'\n",
    "base_file_loc = '/share/storage/jykim/storage_ghi/Ntuples_ghi_2/MC15ri_generic/MC15ri_etaetapip_tight_v2_240419_Kp_BCS_etapi0const/'\n",
    "\n",
    "#loc_ccbar = base_file_loc + 'ccbar/tight_v2_240419_Kp_BCS_etapi0const_ccbar_output_02*.root'\n",
    "loc_ccbar = base_file_loc + 'ccbar/*.root'\n",
    "# base_filter=' Pip_charge==1'\n",
    "base_filter='etapip_gg_rank==1 && Dp_isSignal==1 && Dp_M>1.76 && Dp_M<2.1'"
   ]
  },
  {
   "cell_type": "code",
   "execution_count": 13,
   "id": "d72fe56b-a4c2-4850-b12d-6e0d14958fdc",
   "metadata": {},
   "outputs": [],
   "source": [
    "tree = 'etapip_gg'\n",
    "variables = [\"__experiment__\", \"__run__\", \"__event__\",\\\n",
    "             'Dp_M','Dp_isSignal','Dp_CMS_p','Dp_cosAngleBetweenMomentumAndVertexVector','Dp_cosAngleBetweenMomentumAndVertexVectorInXYPlane',\\\n",
    "             'Dp_acos_cosAngleBetweenMomentumAndVertexVector','Dp_acos_cosAngleBetweenMomentumAndVertexVectorInXYPlane',\\\n",
    "             'etapip_Eta_M','etapip_Eta_isSignal','etapip_Eta_daughterDiffOfPhi_0_1','etapip_Eta_daughterAngle_0_1','etapip_Eta_Easym','etapip_Eta_p',\\\n",
    "             'etapip_gamma1_p','etapip_gamma2_p','etapip_gamma1_clusterNHits','etapip_gamma2_clusterNHits',\\\n",
    "             'etapip_gamma1_clusterReg', 'etapip_gamma2_clusterReg',\\\n",
    "             'Pip_pionID','Pip_pionIDNN','Pip_mcPDG','Pip_dr','Pip_dr','Pip_p','Pip_charge',\\\n",
    "             'ROE_Mgg','dM_pi0','ROE_Mgg_50MeV','dM_pi0_50MeV','ROE_Mgg_75MeV','dM_pi0_75MeV','ROE_Mgg_mask','dM_pi0_mask',\\\n",
    "             'ROE_Mgg_2','dM_pi0_2','ROE_Mgg_50MeV_2','dM_pi0_50MeV_2','ROE_Mgg_75MeV_2','dM_pi0_75MeV_2','ROE_Mgg_mask_2','dM_pi0_mask_2',\\\n",
    "             'veto_isSignal','veto_isSignal_50MeV','veto_isSignal_75MeV','veto_isSignal_mask']"
   ]
  },
  {
   "cell_type": "code",
   "execution_count": 14,
   "id": "399b38cd-c6ac-4620-8e2e-9a97deafe793",
   "metadata": {},
   "outputs": [],
   "source": [
    "pd_ccbar_0 = get_pd(file=loc_ccbar, tree=tree,base_filter=base_filter,variables=variables)"
   ]
  },
  {
   "cell_type": "code",
   "execution_count": 15,
   "id": "fa51ff31-c5e0-4f5a-a4f6-419a7754e58b",
   "metadata": {},
   "outputs": [
    {
     "data": {
      "text/html": [
       "<div>\n",
       "<style scoped>\n",
       "    .dataframe tbody tr th:only-of-type {\n",
       "        vertical-align: middle;\n",
       "    }\n",
       "\n",
       "    .dataframe tbody tr th {\n",
       "        vertical-align: top;\n",
       "    }\n",
       "\n",
       "    .dataframe thead th {\n",
       "        text-align: right;\n",
       "    }\n",
       "</style>\n",
       "<table border=\"1\" class=\"dataframe\">\n",
       "  <thead>\n",
       "    <tr style=\"text-align: right;\">\n",
       "      <th></th>\n",
       "      <th>__experiment__</th>\n",
       "      <th>__run__</th>\n",
       "      <th>__event__</th>\n",
       "      <th>Dp_M</th>\n",
       "      <th>Dp_isSignal</th>\n",
       "      <th>Dp_CMS_p</th>\n",
       "      <th>Dp_cosAngleBetweenMomentumAndVertexVector</th>\n",
       "      <th>Dp_cosAngleBetweenMomentumAndVertexVectorInXYPlane</th>\n",
       "      <th>Dp_acos_cosAngleBetweenMomentumAndVertexVector</th>\n",
       "      <th>Dp_acos_cosAngleBetweenMomentumAndVertexVectorInXYPlane</th>\n",
       "      <th>...</th>\n",
       "      <th>ROE_Mgg_50MeV_2</th>\n",
       "      <th>dM_pi0_50MeV_2</th>\n",
       "      <th>ROE_Mgg_75MeV_2</th>\n",
       "      <th>dM_pi0_75MeV_2</th>\n",
       "      <th>ROE_Mgg_mask_2</th>\n",
       "      <th>dM_pi0_mask_2</th>\n",
       "      <th>veto_isSignal</th>\n",
       "      <th>veto_isSignal_50MeV</th>\n",
       "      <th>veto_isSignal_75MeV</th>\n",
       "      <th>veto_isSignal_mask</th>\n",
       "    </tr>\n",
       "  </thead>\n",
       "  <tbody>\n",
       "    <tr>\n",
       "      <th>count</th>\n",
       "      <td>92265.0</td>\n",
       "      <td>92265.0</td>\n",
       "      <td>9.226500e+04</td>\n",
       "      <td>92265.000000</td>\n",
       "      <td>92265.0</td>\n",
       "      <td>92265.000000</td>\n",
       "      <td>92265.000000</td>\n",
       "      <td>92265.000000</td>\n",
       "      <td>92265.000000</td>\n",
       "      <td>9.226500e+04</td>\n",
       "      <td>...</td>\n",
       "      <td>92265.000000</td>\n",
       "      <td>92265.000000</td>\n",
       "      <td>92265.000000</td>\n",
       "      <td>92265.000000</td>\n",
       "      <td>91687.000000</td>\n",
       "      <td>91687.000000</td>\n",
       "      <td>37109.0</td>\n",
       "      <td>57375.0</td>\n",
       "      <td>67523.0</td>\n",
       "      <td>75765.0</td>\n",
       "    </tr>\n",
       "    <tr>\n",
       "      <th>mean</th>\n",
       "      <td>1003.0</td>\n",
       "      <td>0.0</td>\n",
       "      <td>1.329840e+08</td>\n",
       "      <td>1.866529</td>\n",
       "      <td>1.0</td>\n",
       "      <td>3.395372</td>\n",
       "      <td>0.790279</td>\n",
       "      <td>0.999886</td>\n",
       "      <td>0.494433</td>\n",
       "      <td>7.624635e-03</td>\n",
       "      <td>...</td>\n",
       "      <td>0.270450</td>\n",
       "      <td>0.149504</td>\n",
       "      <td>0.331400</td>\n",
       "      <td>0.208805</td>\n",
       "      <td>0.345193</td>\n",
       "      <td>0.222757</td>\n",
       "      <td>0.0</td>\n",
       "      <td>0.0</td>\n",
       "      <td>0.0</td>\n",
       "      <td>0.0</td>\n",
       "    </tr>\n",
       "    <tr>\n",
       "      <th>std</th>\n",
       "      <td>0.0</td>\n",
       "      <td>0.0</td>\n",
       "      <td>7.686347e+07</td>\n",
       "      <td>0.015973</td>\n",
       "      <td>0.0</td>\n",
       "      <td>0.573718</td>\n",
       "      <td>0.349021</td>\n",
       "      <td>0.000430</td>\n",
       "      <td>0.513052</td>\n",
       "      <td>1.307178e-02</td>\n",
       "      <td>...</td>\n",
       "      <td>0.191618</td>\n",
       "      <td>0.180881</td>\n",
       "      <td>0.249285</td>\n",
       "      <td>0.239006</td>\n",
       "      <td>0.284594</td>\n",
       "      <td>0.274887</td>\n",
       "      <td>0.0</td>\n",
       "      <td>0.0</td>\n",
       "      <td>0.0</td>\n",
       "      <td>0.0</td>\n",
       "    </tr>\n",
       "    <tr>\n",
       "      <th>min</th>\n",
       "      <td>1003.0</td>\n",
       "      <td>0.0</td>\n",
       "      <td>4.320000e+02</td>\n",
       "      <td>1.760116</td>\n",
       "      <td>1.0</td>\n",
       "      <td>2.500027</td>\n",
       "      <td>-0.995366</td>\n",
       "      <td>0.995004</td>\n",
       "      <td>0.000004</td>\n",
       "      <td>2.107342e-08</td>\n",
       "      <td>...</td>\n",
       "      <td>0.030011</td>\n",
       "      <td>0.000003</td>\n",
       "      <td>0.030036</td>\n",
       "      <td>0.011001</td>\n",
       "      <td>0.030036</td>\n",
       "      <td>0.000003</td>\n",
       "      <td>0.0</td>\n",
       "      <td>0.0</td>\n",
       "      <td>0.0</td>\n",
       "      <td>0.0</td>\n",
       "    </tr>\n",
       "    <tr>\n",
       "      <th>25%</th>\n",
       "      <td>1003.0</td>\n",
       "      <td>0.0</td>\n",
       "      <td>6.626449e+07</td>\n",
       "      <td>1.859279</td>\n",
       "      <td>1.0</td>\n",
       "      <td>2.913909</td>\n",
       "      <td>0.757813</td>\n",
       "      <td>0.999967</td>\n",
       "      <td>0.114666</td>\n",
       "      <td>8.372114e-04</td>\n",
       "      <td>...</td>\n",
       "      <td>0.153406</td>\n",
       "      <td>0.035906</td>\n",
       "      <td>0.172966</td>\n",
       "      <td>0.052070</td>\n",
       "      <td>0.169709</td>\n",
       "      <td>0.050234</td>\n",
       "      <td>0.0</td>\n",
       "      <td>0.0</td>\n",
       "      <td>0.0</td>\n",
       "      <td>0.0</td>\n",
       "    </tr>\n",
       "    <tr>\n",
       "      <th>50%</th>\n",
       "      <td>1003.0</td>\n",
       "      <td>0.0</td>\n",
       "      <td>1.329447e+08</td>\n",
       "      <td>1.867686</td>\n",
       "      <td>1.0</td>\n",
       "      <td>3.333012</td>\n",
       "      <td>0.953397</td>\n",
       "      <td>0.999996</td>\n",
       "      <td>0.306494</td>\n",
       "      <td>2.771851e-03</td>\n",
       "      <td>...</td>\n",
       "      <td>0.217223</td>\n",
       "      <td>0.085439</td>\n",
       "      <td>0.262082</td>\n",
       "      <td>0.127102</td>\n",
       "      <td>0.262264</td>\n",
       "      <td>0.127284</td>\n",
       "      <td>0.0</td>\n",
       "      <td>0.0</td>\n",
       "      <td>0.0</td>\n",
       "      <td>0.0</td>\n",
       "    </tr>\n",
       "    <tr>\n",
       "      <th>75%</th>\n",
       "      <td>1003.0</td>\n",
       "      <td>0.0</td>\n",
       "      <td>1.995438e+08</td>\n",
       "      <td>1.875318</td>\n",
       "      <td>1.0</td>\n",
       "      <td>3.818538</td>\n",
       "      <td>0.993433</td>\n",
       "      <td>1.000000</td>\n",
       "      <td>0.710841</td>\n",
       "      <td>8.085681e-03</td>\n",
       "      <td>...</td>\n",
       "      <td>0.333454</td>\n",
       "      <td>0.198474</td>\n",
       "      <td>0.416764</td>\n",
       "      <td>0.281784</td>\n",
       "      <td>0.431818</td>\n",
       "      <td>0.296838</td>\n",
       "      <td>0.0</td>\n",
       "      <td>0.0</td>\n",
       "      <td>0.0</td>\n",
       "      <td>0.0</td>\n",
       "    </tr>\n",
       "    <tr>\n",
       "      <th>max</th>\n",
       "      <td>1003.0</td>\n",
       "      <td>0.0</td>\n",
       "      <td>2.657937e+08</td>\n",
       "      <td>2.073636</td>\n",
       "      <td>1.0</td>\n",
       "      <td>4.982952</td>\n",
       "      <td>1.000000</td>\n",
       "      <td>1.000000</td>\n",
       "      <td>3.045285</td>\n",
       "      <td>9.999885e-02</td>\n",
       "      <td>...</td>\n",
       "      <td>5.368346</td>\n",
       "      <td>5.233366</td>\n",
       "      <td>7.134550</td>\n",
       "      <td>6.999570</td>\n",
       "      <td>7.134550</td>\n",
       "      <td>6.999570</td>\n",
       "      <td>0.0</td>\n",
       "      <td>0.0</td>\n",
       "      <td>0.0</td>\n",
       "      <td>0.0</td>\n",
       "    </tr>\n",
       "  </tbody>\n",
       "</table>\n",
       "<p>8 rows × 48 columns</p>\n",
       "</div>"
      ],
      "text/plain": [
       "       __experiment__  __run__     __event__          Dp_M  Dp_isSignal  \\\n",
       "count         92265.0  92265.0  9.226500e+04  92265.000000      92265.0   \n",
       "mean           1003.0      0.0  1.329840e+08      1.866529          1.0   \n",
       "std               0.0      0.0  7.686347e+07      0.015973          0.0   \n",
       "min            1003.0      0.0  4.320000e+02      1.760116          1.0   \n",
       "25%            1003.0      0.0  6.626449e+07      1.859279          1.0   \n",
       "50%            1003.0      0.0  1.329447e+08      1.867686          1.0   \n",
       "75%            1003.0      0.0  1.995438e+08      1.875318          1.0   \n",
       "max            1003.0      0.0  2.657937e+08      2.073636          1.0   \n",
       "\n",
       "           Dp_CMS_p  Dp_cosAngleBetweenMomentumAndVertexVector  \\\n",
       "count  92265.000000                               92265.000000   \n",
       "mean       3.395372                                   0.790279   \n",
       "std        0.573718                                   0.349021   \n",
       "min        2.500027                                  -0.995366   \n",
       "25%        2.913909                                   0.757813   \n",
       "50%        3.333012                                   0.953397   \n",
       "75%        3.818538                                   0.993433   \n",
       "max        4.982952                                   1.000000   \n",
       "\n",
       "       Dp_cosAngleBetweenMomentumAndVertexVectorInXYPlane  \\\n",
       "count                                       92265.000000    \n",
       "mean                                            0.999886    \n",
       "std                                             0.000430    \n",
       "min                                             0.995004    \n",
       "25%                                             0.999967    \n",
       "50%                                             0.999996    \n",
       "75%                                             1.000000    \n",
       "max                                             1.000000    \n",
       "\n",
       "       Dp_acos_cosAngleBetweenMomentumAndVertexVector  \\\n",
       "count                                    92265.000000   \n",
       "mean                                         0.494433   \n",
       "std                                          0.513052   \n",
       "min                                          0.000004   \n",
       "25%                                          0.114666   \n",
       "50%                                          0.306494   \n",
       "75%                                          0.710841   \n",
       "max                                          3.045285   \n",
       "\n",
       "       Dp_acos_cosAngleBetweenMomentumAndVertexVectorInXYPlane  ...  \\\n",
       "count                                       9.226500e+04        ...   \n",
       "mean                                        7.624635e-03        ...   \n",
       "std                                         1.307178e-02        ...   \n",
       "min                                         2.107342e-08        ...   \n",
       "25%                                         8.372114e-04        ...   \n",
       "50%                                         2.771851e-03        ...   \n",
       "75%                                         8.085681e-03        ...   \n",
       "max                                         9.999885e-02        ...   \n",
       "\n",
       "       ROE_Mgg_50MeV_2  dM_pi0_50MeV_2  ROE_Mgg_75MeV_2  dM_pi0_75MeV_2  \\\n",
       "count     92265.000000    92265.000000     92265.000000    92265.000000   \n",
       "mean          0.270450        0.149504         0.331400        0.208805   \n",
       "std           0.191618        0.180881         0.249285        0.239006   \n",
       "min           0.030011        0.000003         0.030036        0.011001   \n",
       "25%           0.153406        0.035906         0.172966        0.052070   \n",
       "50%           0.217223        0.085439         0.262082        0.127102   \n",
       "75%           0.333454        0.198474         0.416764        0.281784   \n",
       "max           5.368346        5.233366         7.134550        6.999570   \n",
       "\n",
       "       ROE_Mgg_mask_2  dM_pi0_mask_2  veto_isSignal  veto_isSignal_50MeV  \\\n",
       "count    91687.000000   91687.000000        37109.0              57375.0   \n",
       "mean         0.345193       0.222757            0.0                  0.0   \n",
       "std          0.284594       0.274887            0.0                  0.0   \n",
       "min          0.030036       0.000003            0.0                  0.0   \n",
       "25%          0.169709       0.050234            0.0                  0.0   \n",
       "50%          0.262264       0.127284            0.0                  0.0   \n",
       "75%          0.431818       0.296838            0.0                  0.0   \n",
       "max          7.134550       6.999570            0.0                  0.0   \n",
       "\n",
       "       veto_isSignal_75MeV  veto_isSignal_mask  \n",
       "count              67523.0             75765.0  \n",
       "mean                   0.0                 0.0  \n",
       "std                    0.0                 0.0  \n",
       "min                    0.0                 0.0  \n",
       "25%                    0.0                 0.0  \n",
       "50%                    0.0                 0.0  \n",
       "75%                    0.0                 0.0  \n",
       "max                    0.0                 0.0  \n",
       "\n",
       "[8 rows x 48 columns]"
      ]
     },
     "execution_count": 15,
     "metadata": {},
     "output_type": "execute_result"
    }
   ],
   "source": [
    "pd_ccbar_0.describe()\n",
    "\n",
    "# true_Dp = len(pd_ccbar_0)"
   ]
  },
  {
   "cell_type": "code",
   "execution_count": 16,
   "id": "f201a47e-d514-4119-89a3-28defa29377a",
   "metadata": {},
   "outputs": [],
   "source": [
    "file_name = '/media/jykim/T7_2/storage/Ntuples_ghi_2/MC15ri_generic/MC15ri_etaetapip_tight_v2_240419_Kp_BCS_etapi0const/topo/resultfile/result_etapip_gg/*.root'\n",
    "file_name = '/share/storage/jykim/storage_ghi//Ntuples_ghi_2/MC15ri_generic/MC15ri_etaetapip_tight_v2_240419_Kp_BCS_etapi0const/topo/resultfile/result_etapip_gg/*.root'\n",
    "\n",
    "base_filter = '(etapip_gg_rank==1) && Dp_M>1.76 && Dp_M<2.1'\n",
    "# base_filter = '(etapip_gg_rank==1)'\n",
    "\n",
    "tree = 'etapip_gg'\n",
    "variables = [\"__experiment__\", \"__run__\", \"__event__\",\\\n",
    "             'Dp_M','Dp_isSignal','Dp_CMS_p','Dp_cosAngleBetweenMomentumAndVertexVector','Dp_cosAngleBetweenMomentumAndVertexVectorInXYPlane',\\\n",
    "             'Dp_acos_cosAngleBetweenMomentumAndVertexVector','Dp_acos_cosAngleBetweenMomentumAndVertexVectorInXYPlane',\\\n",
    "             'Pip_pionID','Pip_pionIDNN','Pip_mcPDG','Pip_dr','Pip_dr','Pip_p','Pip_charge',\\\n",
    "             'iProdBrP_Dsp_0','iProdBrP_Dp_0','iCascDcyBrP_Dp_0','iCascDcyBrCcP_Dp_0','iCascDcyBrP_Dsp_0','iCascDcyBrCcP_Dsp_0']\n",
    "etapip_signal_topo = get_pd(file=file_name, tree=tree,base_filter=base_filter,variables=variables)"
   ]
  },
  {
   "cell_type": "code",
   "execution_count": 56,
   "id": "c6a2ff2a-902a-4100-9c4d-c9871b16f58f",
   "metadata": {},
   "outputs": [],
   "source": [
    "Nsig_Dp_MC_topo = len(etapip_signal_topo.query('Pip_charge==1 &  iCascDcyBrP_Dp_0==3'))\n",
    "\n",
    "Nsig_Dm_MC_topo = len(etapip_signal_topo.query('Pip_charge==-1 & iCascDcyBrCcP_Dp_0==3'))"
   ]
  },
  {
   "cell_type": "code",
   "execution_count": 57,
   "id": "5a95507c-fb6d-4f64-bb28-a43c19d1a39c",
   "metadata": {},
   "outputs": [
    {
     "name": "stdout",
     "output_type": "stream",
     "text": [
      "48845\n"
     ]
    }
   ],
   "source": [
    "print(Nsig_Dp_MC_topo)"
   ]
  },
  {
   "cell_type": "code",
   "execution_count": 58,
   "id": "993327a0-926f-4742-8bcf-56e86802f8d3",
   "metadata": {},
   "outputs": [
    {
     "name": "stdout",
     "output_type": "stream",
     "text": [
      "48455\n"
     ]
    }
   ],
   "source": [
    "print(Nsig_Dm_MC_topo)"
   ]
  },
  {
   "cell_type": "code",
   "execution_count": 59,
   "id": "91a4e41f-545c-47fd-b344-7ab9fb3fd120",
   "metadata": {},
   "outputs": [],
   "source": [
    "Nsig_err_Dp_MC_topo = math.sqrt(Nsig_Dp_MC_topo)\n",
    "Nsig_err_Dm_MC_topo = math.sqrt(Nsig_Dm_MC_topo)"
   ]
  },
  {
   "cell_type": "code",
   "execution_count": 60,
   "id": "6fc9d97c-ba39-47ea-8c45-d75ef4bfcb9a",
   "metadata": {},
   "outputs": [
    {
     "data": {
      "text/plain": [
       "0.004008221993833504"
      ]
     },
     "execution_count": 60,
     "metadata": {},
     "output_type": "execute_result"
    }
   ],
   "source": [
    "Acp_cal(Nsig_Dp_MC_topo,Nsig_Dm_MC_topo)"
   ]
  },
  {
   "cell_type": "code",
   "execution_count": 61,
   "id": "34b0be3e-126f-4049-9f59-955d96265cc4",
   "metadata": {},
   "outputs": [
    {
     "data": {
      "text/plain": [
       "(0.004008221993833504, 5.0991167005776714e-05)"
      ]
     },
     "execution_count": 61,
     "metadata": {},
     "output_type": "execute_result"
    }
   ],
   "source": [
    "Acp_and_AcpError_cal(Nsig_Dp_MC_topo,Nsig_Dm_MC_topo, Nsig_err_Dp_MC_topo,Nsig_err_Dm_MC_topo)"
   ]
  },
  {
   "cell_type": "code",
   "execution_count": 62,
   "id": "17589f7f-7de8-4026-9bf2-a2f44296e8e7",
   "metadata": {},
   "outputs": [],
   "source": [
    "Nsig_Dp_MC_true = len(pd_ccbar_0.query('Pip_charge==1'))\n",
    "Nsig_Dm_MC_true = len(pd_ccbar_0.query('Pip_charge==-1'))"
   ]
  },
  {
   "cell_type": "code",
   "execution_count": 63,
   "id": "e2f5b774-b272-41a6-8bfe-05e9f109ec3a",
   "metadata": {},
   "outputs": [],
   "source": [
    "Nsig_err_Dp_MC_true = math.sqrt(Nsig_Dp_MC_true )\n",
    "Nsig_err_Dm_MC_true = math.sqrt(Nsig_Dm_MC_true )"
   ]
  },
  {
   "cell_type": "code",
   "execution_count": 64,
   "id": "a70ac261-5a33-4c80-84be-4a8c3c34bb8c",
   "metadata": {},
   "outputs": [
    {
     "data": {
      "text/plain": [
       "46381"
      ]
     },
     "execution_count": 64,
     "metadata": {},
     "output_type": "execute_result"
    }
   ],
   "source": [
    "Nsig_Dp_MC_true"
   ]
  },
  {
   "cell_type": "code",
   "execution_count": 65,
   "id": "2b262189-d686-434c-bcfe-f11b17201999",
   "metadata": {},
   "outputs": [
    {
     "data": {
      "text/plain": [
       "45884"
      ]
     },
     "execution_count": 65,
     "metadata": {},
     "output_type": "execute_result"
    }
   ],
   "source": [
    "Nsig_Dm_MC_true"
   ]
  },
  {
   "cell_type": "code",
   "execution_count": 66,
   "id": "a83dc4a0-5263-4d6b-9e9c-f9607e06c990",
   "metadata": {},
   "outputs": [
    {
     "data": {
      "text/plain": [
       "(0.005386657995989812, 7.017895415498685e-05)"
      ]
     },
     "execution_count": 66,
     "metadata": {},
     "output_type": "execute_result"
    }
   ],
   "source": [
    "Acp_and_AcpError_cal(Nsig_Dp_MC_true ,Nsig_Dm_MC_true, Nsig_err_Dp_MC_true, Nsig_err_Dm_MC_true )"
   ]
  },
  {
   "cell_type": "code",
   "execution_count": 67,
   "id": "a1212345-de01-4031-bc4b-17238e10232e",
   "metadata": {},
   "outputs": [],
   "source": [
    "Nsig_Dp_recon = param_dict['nsig']['value']\n",
    "Nsig_Dm_recon = param_dict_cc['nsig']['value']\n",
    "\n",
    "Nsig_err_Dp_recon = param_dict['nsig']['error']\n",
    "Nsig_err_Dm_recon = param_dict_cc['nsig']['error']\n"
   ]
  },
  {
   "cell_type": "code",
   "execution_count": 68,
   "id": "77b4ed0d-8bd8-48ca-b731-a6781b1bf291",
   "metadata": {},
   "outputs": [
    {
     "data": {
      "text/plain": [
       "(0.00242757043221461, 0.00012001499564082314)"
      ]
     },
     "execution_count": 68,
     "metadata": {},
     "output_type": "execute_result"
    }
   ],
   "source": [
    "Acp_and_AcpError_cal(Nsig_Dp_recon , Nsig_Dm_recon , Nsig_err_Dp_recon, Nsig_err_Dm_recon)"
   ]
  },
  {
   "cell_type": "code",
   "execution_count": 83,
   "id": "fae2a135-8a4a-4eba-a4c7-85c31f7ca11a",
   "metadata": {},
   "outputs": [],
   "source": [
    "topo_Acp, topo_AcpErr =  Acp_and_AcpError_cal(Nsig_Dp_MC_topo,Nsig_Dm_MC_topo, Nsig_err_Dp_MC_topo,Nsig_err_Dm_MC_topo)"
   ]
  },
  {
   "cell_type": "code",
   "execution_count": 84,
   "id": "913b18b1-301f-45ce-95e9-3c75b88b2e86",
   "metadata": {},
   "outputs": [],
   "source": [
    "true_Acp, true_AcpErr = Acp_and_AcpError_cal(Nsig_Dp_MC_true ,Nsig_Dm_MC_true, Nsig_err_Dp_MC_true, Nsig_err_Dm_MC_true )"
   ]
  },
  {
   "cell_type": "code",
   "execution_count": 85,
   "id": "0a390c88-e08c-428a-943f-5581719c870d",
   "metadata": {},
   "outputs": [],
   "source": [
    "recon_Acp, recon_AcpErr = Acp_and_AcpError_cal(Nsig_Dp_recon , Nsig_Dm_recon , Nsig_err_Dp_recon, Nsig_err_Dm_recon)"
   ]
  },
  {
   "cell_type": "code",
   "execution_count": 98,
   "id": "0e4795d7-2cf5-4369-9ce8-bb4f94ffed3a",
   "metadata": {},
   "outputs": [
    {
     "data": {
      "image/png": "[encoded data removed]",
      "text/plain": [
       "<Figure size 800x550 with 1 Axes>"
      ]
     },
     "metadata": {},
     "output_type": "display_data"
    }
   ],
   "source": [
    "# Plotting\n",
    "plt.errorbar(1, topo_Acp, yerr=topo_AcpErr, fmt='o',capsize=4, label='TopoAna')\n",
    "plt.errorbar(2, true_Acp, yerr=true_AcpErr, fmt='o',capsize=4, label='MC matched')\n",
    "plt.errorbar(3, recon_Acp, yerr=recon_AcpErr, fmt='o',capsize=4, label='Recon')\n",
    "\n",
    "# Customizing plot\n",
    "plt.xticks([1, 2, 3], ['TopoAna', 'MC matched', 'Fitted'])\n",
    "# plt.xlabel('Variables')\n",
    "plt.ylabel('Acp')\n",
    "# plt.title('Plot with Error Bars')\n",
    "# plt.legend()\n",
    "plt.grid(True, alpha=0.5) \n",
    "# Display plot\n",
    "# plt.ylim(0,)\n",
    "plt.tight_layout()\n",
    "plt.savefig(\"/share/storage/jykim/plots/MC15ri/etapip/gg/Acp/MC15ri_1ab_etapip_gg_compare_tight_v2_fitv6_Acp.png\")\n",
    "plt.show()"
   ]
  },
  {
   "cell_type": "code",
   "execution_count": null,
   "id": "f381cf0a-73c6-46eb-86b9-bd7fe0a82a1a",
   "metadata": {},
   "outputs": [],
   "source": []
  },
  {
   "cell_type": "code",
   "execution_count": null,
   "id": "0c44f6f8-557b-4d33-b013-5b2899729959",
   "metadata": {},
   "outputs": [],
   "source": []
  },
  {
   "cell_type": "code",
   "execution_count": 23,
   "id": "7c49298c-13b5-40b6-a72e-68c4354d1c30",
   "metadata": {},
   "outputs": [],
   "source": [
    "Pull_Dp = (param_dict['nsig']['value']-Nsig_Dp_MC_topo)/param_dict['nsig']['error']"
   ]
  },
  {
   "cell_type": "code",
   "execution_count": 24,
   "id": "e430caa9-ca61-4548-8733-468977e74866",
   "metadata": {},
   "outputs": [],
   "source": [
    "Pull_Dm = (param_dict_cc['nsig']['value']-Nsig_Dm_MC_topo)/param_dict_cc['nsig']['error']"
   ]
  },
  {
   "cell_type": "code",
   "execution_count": 25,
   "id": "9dda93e2-f6cb-4bde-a7b3-731136f059b8",
   "metadata": {},
   "outputs": [
    {
     "data": {
      "text/plain": [
       "48184.70552475348"
      ]
     },
     "execution_count": 25,
     "metadata": {},
     "output_type": "execute_result"
    }
   ],
   "source": [
    "param_dict['nsig']['value']"
   ]
  },
  {
   "cell_type": "code",
   "execution_count": 26,
   "id": "aed465b2-5000-4878-be3a-ae8e3f22a2f6",
   "metadata": {},
   "outputs": [
    {
     "data": {
      "text/plain": [
       "47951.328531009334"
      ]
     },
     "execution_count": 26,
     "metadata": {},
     "output_type": "execute_result"
    }
   ],
   "source": [
    "param_dict_cc['nsig']['value']"
   ]
  },
  {
   "cell_type": "code",
   "execution_count": 27,
   "id": "77bebdd8-f7c1-4b2e-86da-c0e8adffa06d",
   "metadata": {},
   "outputs": [
    {
     "data": {
      "text/plain": [
       "787.6833629236986"
      ]
     },
     "execution_count": 27,
     "metadata": {},
     "output_type": "execute_result"
    }
   ],
   "source": [
    "param_dict['nsig']['error']"
   ]
  },
  {
   "cell_type": "code",
   "execution_count": 28,
   "id": "03c5edb6-3355-430b-be37-dbcad289c653",
   "metadata": {},
   "outputs": [
    {
     "data": {
      "text/plain": [
       "896.7260552904836"
      ]
     },
     "execution_count": 28,
     "metadata": {},
     "output_type": "execute_result"
    }
   ],
   "source": [
    "param_dict_cc['nsig']['error']"
   ]
  },
  {
   "cell_type": "code",
   "execution_count": 29,
   "id": "c2a2911d-f651-4912-9c12-dac0b6b15d92",
   "metadata": {},
   "outputs": [
    {
     "data": {
      "text/plain": [
       "-0.8382739896849651"
      ]
     },
     "execution_count": 29,
     "metadata": {},
     "output_type": "execute_result"
    }
   ],
   "source": [
    "Pull_Dp"
   ]
  },
  {
   "cell_type": "code",
   "execution_count": 30,
   "id": "650d4fed-defb-4572-a4f5-2c7484a597d2",
   "metadata": {},
   "outputs": [
    {
     "data": {
      "text/plain": [
       "-0.5616781914823558"
      ]
     },
     "execution_count": 30,
     "metadata": {},
     "output_type": "execute_result"
    }
   ],
   "source": [
    "Pull_Dm"
   ]
  },
  {
   "cell_type": "code",
   "execution_count": 341,
   "id": "72bc01f7-4cf1-4156-8a2b-ee8b15b275b3",
   "metadata": {},
   "outputs": [
    {
     "data": {
      "text/plain": [
       "0        1.0\n",
       "1        1.0\n",
       "2       -1.0\n",
       "3       -1.0\n",
       "4        1.0\n",
       "        ... \n",
       "92641   -1.0\n",
       "92642    1.0\n",
       "92643    1.0\n",
       "92644   -1.0\n",
       "92645   -1.0\n",
       "Name: Pip_charge, Length: 92646, dtype: float64"
      ]
     },
     "execution_count": 341,
     "metadata": {},
     "output_type": "execute_result"
    }
   ],
   "source": [
    "pd_ccbar_0.Pip_charge"
   ]
  },
  {
   "cell_type": "code",
   "execution_count": 306,
   "id": "41ff38fa-df39-4cf4-904f-26b26eab75c4",
   "metadata": {},
   "outputs": [
    {
     "data": {
      "text/plain": [
       "0.0329323108065476"
      ]
     },
     "execution_count": 306,
     "metadata": {},
     "output_type": "execute_result"
    }
   ],
   "source": [
    "(48084.0320003556 - 46551)/46551"
   ]
  },
  {
   "cell_type": "code",
   "execution_count": null,
   "id": "1a8ba07d-c025-43a5-b453-ee2538499dbf",
   "metadata": {},
   "outputs": [],
   "source": []
  }
 ],
 "metadata": {
  "kernelspec": {
   "display_name": "Python 3 (ipykernel)",
   "language": "python",
   "name": "python3"
  },
  "language_info": {
   "codemirror_mode": {
    "name": "ipython",
    "version": 3
   },
   "file_extension": ".py",
   "mimetype": "text/x-python",
   "name": "python",
   "nbconvert_exporter": "python",
   "pygments_lexer": "ipython3",
   "version": "3.10.5"
  }
 },
 "nbformat": 4,
 "nbformat_minor": 5
}
