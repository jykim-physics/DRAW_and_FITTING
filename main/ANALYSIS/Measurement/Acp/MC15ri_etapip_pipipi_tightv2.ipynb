{
 "cells": [
  {
   "cell_type": "code",
   "execution_count": 4,
   "id": "b42fe51e-9a01-4a14-8e3b-9b28cd0e65df",
   "metadata": {},
   "outputs": [
    {
     "name": "stdout",
     "output_type": "stream",
     "text": [
      "The autoreload extension is already loaded. To reload it, use:\n",
      "  %reload_ext autoreload\n"
     ]
    }
   ],
   "source": [
    "%matplotlib inline\n",
    "%load_ext autoreload\n",
    "%autoreload 2\n",
    "#import seaborn as sns\n",
    "import matplotlib.pyplot as plt\n",
    "import numpy as np\n",
    "#import pandas as pd\n",
    "import math\n",
    "from math import sqrt\n",
    "import ROOT\n",
    "import ctypes\n",
    "try:\n",
    "#     plt.style.use('belle2')\n",
    "    plt.style.use('belle2_serif')\n",
    "#     plt.style.use('belle2_modern')\n",
    "except OSError:\n",
    "    print(\"Please install belle2 matplotlib style\") \n",
    "px = 1/plt.rcParams['figure.dpi']\n",
    "\n",
    "from main.data_tools.extract_ntuples import get_pd, get_np\n",
    "from main.draw_tools.decorations import b2helix, watermark\n",
    "from main.draw_tools.stacking_with_error_bars import MC_stack_plot, MC_stack_plot_density\n",
    "\n",
    "from main.data_tools.error_bars import make_data_weight\n",
    "from main.data_tools.query_dataframes import cut_dfs_7types\n",
    "\n",
    "from main.data_tools.Acp_calculator import Acp_and_AcpError_cal, Acp_cal\n"
   ]
  },
  {
   "cell_type": "code",
   "execution_count": 5,
   "id": "4108a1d3-1bfd-4760-8f7f-1dadd9ea6864",
   "metadata": {},
   "outputs": [],
   "source": [
    "f = ROOT.TFile.Open(\"/media/jykim/T7/saved_plots/storage_plots/plots/MC15ri/etapip/pipipi/generic/fitresult/MC15ri_1ab_etapip_pipipi_fit_tight_v2.root\")\n",
    "f = ROOT.TFile.Open(\"/media/jykim/T7/saved_plots/storage_plots/plots/MC15ri/etapip/pipipi/generic/fitresult/MC15ri_1ab_etapip_pipipi_fit_tight_v2_fitv6.root\")\n",
    "# f = ROOT.TFile.Open(\"/media/jykim/T7/saved_plots/storage_plots/plots/MC15ri/etapip/pipipi/generic/fitresult/MC15ri_1ab_etapip_pipipi_fit_tight_v2_fitv8.root\")\n",
    "# f = ROOT.TFile.Open(\"/media/jykim/T7/saved_plots/storage_plots/plots/MC15ri/etapip/pipipi/generic/fitresult/MC15ri_1ab_etapip_pipipi_fit_tight_v2_fitv9.root\")\n",
    "\n",
    "# f = ROOT.TFile.Open(\"/media/jykim/T7/saved_plots/storage_plots/plots/MC15ri/etapip/pipipi/generic/fitresult/MC15ri_1ab_etapip_pipipi_fit_tight_v2_fitv5.root\")\n",
    "\n",
    "result_object1 = ROOT.gDirectory.Get(\"jykim\")\n",
    "f.Close()\n",
    "\n",
    "fit_args1 = result_object1.floatParsFinal()"
   ]
  },
  {
   "cell_type": "code",
   "execution_count": 6,
   "id": "41e365b3-0770-41e4-8d70-d1dd992e5363",
   "metadata": {},
   "outputs": [
    {
     "name": "stdout",
     "output_type": "stream",
     "text": [
      "{'Ds_mean_gaussian': {'value': -0.0075350932114954805, 'error': 5.055907254933824e-05}, 'Ds_sigma_gaussian': {'value': 0.005283210178465145, 'error': 5.382685374319283e-05}, 'mean_gaussian': {'value': 0.005046862351166359, 'error': 0.00010224622634277855}, 'nDs': {'value': 43246.54618959445, 'error': 344.6230441506723}, 'nbkg1': {'value': 245579.52718866742, 'error': 3603.3884143930622}, 'nbkg2': {'value': 23421.0426673919, 'error': 3247.4374332358207}, 'nsig': {'value': 18564.231547870728, 'error': 325.04673550196685}, 'rhopeta_mean': {'value': 1.6666195844653882, 'error': 0.0642602281775559}, 'rhopeta_sigma': {'value': 0.07833151118716437, 'error': 0.014355001953712495}, 'sigma_gaussian': {'value': 0.005392565021726487, 'error': 0.00011195202794568201}, 'x_bkg1_tau': {'value': -1.4239980680607403, 'error': 0.1475960912533959}}\n"
     ]
    }
   ],
   "source": [
    "# Create an empty dictionary\n",
    "param_dict = {}\n",
    "\n",
    "# Iterate over the floating parameters\n",
    "for i in range(fit_args1.getSize()):\n",
    "    # Get parameter name\n",
    "    param_name = fit_args1.at(i).GetName()\n",
    "    \n",
    "    # Get parameter value\n",
    "    param_value = fit_args1.at(i).getVal()\n",
    "    \n",
    "    # Get parameter error\n",
    "    param_error = fit_args1.at(i).getError()\n",
    "    \n",
    "    # Add the parameter name, value, and error to the dictionary\n",
    "    param_dict[param_name] = {'value': param_value, 'error': param_error}\n",
    "\n",
    "# Print the dictionary\n",
    "print(param_dict)\n"
   ]
  },
  {
   "cell_type": "code",
   "execution_count": 7,
   "id": "a8e52978-4bf7-4a56-8e51-2e99acbd531e",
   "metadata": {},
   "outputs": [
    {
     "name": "stdout",
     "output_type": "stream",
     "text": [
      "\n",
      "  RooFitResult: minimized FCN value: -4.30622e+06, estimated distance to minimum: 0.00555004\n",
      "                covariance matrix quality: Full, accurate covariance matrix\n",
      "                Status : MINIMIZE=-1 HESSE=4 HESSE=4 \n",
      "\n",
      "    Constant Parameter    Value     \n",
      "  --------------------  ------------\n",
      "              Ds_delta    2.9792e-01\n",
      "              Ds_gamma    2.0698e-01\n",
      "       Ds_mean_johnson    1.9759e+00\n",
      "      Ds_sigma_johnson    2.7444e-04\n",
      "                 delta    2.1858e-01\n",
      "                 gamma    2.2371e-01\n",
      "          mean_johnson    1.8647e+00\n",
      "         sigma_johnson    8.7073e-05\n",
      "\n",
      "    Floating Parameter  InitialValue    FinalValue +/-  Error     GblCorr.\n",
      "  --------------------  ------------  --------------------------  --------\n",
      "      Ds_mean_gaussian    0.0000e+00   -7.5351e-03 +/-  5.06e-05  <none>\n",
      "     Ds_sigma_gaussian    1.0000e-02    5.2832e-03 +/-  5.38e-05  <none>\n",
      "         mean_gaussian    0.0000e+00    5.0469e-03 +/-  1.02e-04  <none>\n",
      "                   nDs    2.6465e+05    4.3247e+04 +/-  3.45e+02  <none>\n",
      "                 nbkg1    2.6465e+05    2.4558e+05 +/-  3.60e+03  <none>\n",
      "                 nbkg2    6.6162e+04    2.3421e+04 +/-  3.25e+03  <none>\n",
      "                  nsig    3.3081e+03    1.8564e+04 +/-  3.25e+02  <none>\n",
      "          rhopeta_mean    1.7500e+00    1.6666e+00 +/-  6.43e-02  <none>\n",
      "         rhopeta_sigma    3.0000e-02    7.8332e-02 +/-  1.44e-02  <none>\n",
      "        sigma_gaussian    1.0000e-02    5.3926e-03 +/-  1.12e-04  <none>\n",
      "            x_bkg1_tau   -5.0000e-01   -1.4240e+00 +/-  1.48e-01  <none>\n",
      "\n"
     ]
    }
   ],
   "source": [
    "result_object1.Print(\"v\")"
   ]
  },
  {
   "cell_type": "code",
   "execution_count": 8,
   "id": "14fa719d-c9c3-4d54-ae27-7b4df15ea343",
   "metadata": {},
   "outputs": [],
   "source": [
    "f = ROOT.TFile.Open(\"/media/jykim/T7/saved_plots/storage_plots/plots/MC15ri/etapip/pipipi/generic/fitresult/MC15ri_1ab_etapip_pipipi_cc_fit_tight_v2.root\")\n",
    "f = ROOT.TFile.Open(\"/media/jykim/T7/saved_plots/storage_plots/plots/MC15ri/etapip/pipipi/generic/fitresult/MC15ri_1ab_etapip_pipipi_cc_fit_tight_v2_fitv3.root\")\n",
    "f = ROOT.TFile.Open(\"/media/jykim/T7/saved_plots/storage_plots/plots/MC15ri/etapip/pipipi/generic/fitresult/MC15ri_1ab_etapip_pipipi_cc_fit_tight_v2_fitv6.root\")\n",
    "# f = ROOT.TFile.Open(\"/media/jykim/T7/saved_plots/storage_plots/plots/MC15ri/etapip/pipipi/generic/fitresult/MC15ri_1ab_etapip_pipipi_cc_fit_tight_v2_fitv8.root\")\n",
    "# f = ROOT.TFile.Open(\"/media/jykim/T7/saved_plots/storage_plots/plots/MC15ri/etapip/pipipi/generic/fitresult/MC15ri_1ab_etapip_pipipi_cc_fit_tight_v2_fitv9.root\")\n",
    "\n",
    "result_object1_cc = ROOT.gDirectory.Get(\"jykim\")\n",
    "f.Close()\n",
    "\n",
    "fit_args1_cc = result_object1_cc.floatParsFinal()"
   ]
  },
  {
   "cell_type": "code",
   "execution_count": 9,
   "id": "82234bbb-4c65-49ae-a54d-09a75188a676",
   "metadata": {},
   "outputs": [
    {
     "name": "stdout",
     "output_type": "stream",
     "text": [
      "{'Ds_mean_gaussian': {'value': -0.007513406089777908, 'error': 5.016899958689968e-05}, 'Ds_sigma_gaussian': {'value': 0.005281778062266999, 'error': 5.2195500823675755e-05}, 'mean_gaussian': {'value': 0.004919015907504987, 'error': 9.998308591058188e-05}, 'nDs': {'value': 43001.11826860264, 'error': 321.65227996010907}, 'nbkg1': {'value': 248370.80489137518, 'error': 2546.269279816641}, 'nbkg2': {'value': 24063.143222859428, 'error': 2406.7833671828303}, 'nsig': {'value': 19030.05631149187, 'error': 314.25247903132146}, 'rhopeta_mean': {'value': 1.6565429627028045, 'error': 0.05084750764916732}, 'rhopeta_sigma': {'value': 0.08050121955125991, 'error': 0.016661234718136193}, 'sigma_gaussian': {'value': 0.005524317834086095, 'error': 0.00011151884890973141}, 'x_bkg1_tau': {'value': -1.4532839751116065, 'error': 0.09525711083549668}}\n"
     ]
    }
   ],
   "source": [
    "# Create an empty dictionary\n",
    "param_dict_cc = {}\n",
    "\n",
    "# Iterate over the floating parameters\n",
    "for i in range(fit_args1_cc.getSize()):\n",
    "    # Get parameter name\n",
    "    param_name = fit_args1_cc.at(i).GetName()\n",
    "    \n",
    "    # Get parameter value\n",
    "    param_value = fit_args1_cc.at(i).getVal()\n",
    "    \n",
    "    # Get parameter error\n",
    "    param_error = fit_args1_cc.at(i).getError()\n",
    "    \n",
    "    # Add the parameter name, value, and error to the dictionary\n",
    "    param_dict_cc[param_name] = {'value': param_value, 'error': param_error}\n",
    "\n",
    "# Print the dictionary\n",
    "print(param_dict_cc)\n"
   ]
  },
  {
   "cell_type": "code",
   "execution_count": 10,
   "id": "a4c207dc-e0e0-4a44-badd-94fecd4e3fa2",
   "metadata": {},
   "outputs": [
    {
     "name": "stdout",
     "output_type": "stream",
     "text": [
      "\n",
      "  RooFitResult: minimized FCN value: -4.35722e+06, estimated distance to minimum: 0.0246071\n",
      "                covariance matrix quality: Full, accurate covariance matrix\n",
      "                Status : MINIMIZE=-1 HESSE=4 HESSE=4 \n",
      "\n",
      "    Constant Parameter    Value     \n",
      "  --------------------  ------------\n",
      "              Ds_delta    2.9792e-01\n",
      "              Ds_gamma    2.0698e-01\n",
      "       Ds_mean_johnson    1.9759e+00\n",
      "      Ds_sigma_johnson    2.7444e-04\n",
      "                 delta    2.1858e-01\n",
      "                 gamma    2.2371e-01\n",
      "          mean_johnson    1.8647e+00\n",
      "         sigma_johnson    8.7073e-05\n",
      "\n",
      "    Floating Parameter  InitialValue    FinalValue +/-  Error     GblCorr.\n",
      "  --------------------  ------------  --------------------------  --------\n",
      "      Ds_mean_gaussian    0.0000e+00   -7.5134e-03 +/-  5.02e-05  <none>\n",
      "     Ds_sigma_gaussian    1.0000e-02    5.2818e-03 +/-  5.22e-05  <none>\n",
      "         mean_gaussian    0.0000e+00    4.9190e-03 +/-  1.00e-04  <none>\n",
      "                   nDs    2.6757e+05    4.3001e+04 +/-  3.22e+02  <none>\n",
      "                 nbkg1    2.6757e+05    2.4837e+05 +/-  2.55e+03  <none>\n",
      "                 nbkg2    6.6893e+04    2.4063e+04 +/-  2.41e+03  <none>\n",
      "                  nsig    3.3446e+03    1.9030e+04 +/-  3.14e+02  <none>\n",
      "          rhopeta_mean    1.7500e+00    1.6565e+00 +/-  5.08e-02  <none>\n",
      "         rhopeta_sigma    3.0000e-02    8.0501e-02 +/-  1.67e-02  <none>\n",
      "        sigma_gaussian    1.0000e-02    5.5243e-03 +/-  1.12e-04  <none>\n",
      "            x_bkg1_tau   -5.0000e-01   -1.4533e+00 +/-  9.53e-02  <none>\n",
      "\n"
     ]
    }
   ],
   "source": [
    "result_object1_cc.Print(\"v\")"
   ]
  },
  {
   "cell_type": "code",
   "execution_count": 11,
   "id": "6147e20f-e69a-455e-b1cc-96a6f22237a5",
   "metadata": {},
   "outputs": [],
   "source": [
    "base_file_loc =  '/media/jykim/T7_2/storage/Ntuples_ghi_2/MC15ri_generic/MC15ri_etaetapip_tight_v2_240419_Kp_BCS_etapi0const/'\n",
    "base_file_loc =  '/share/storage/jykim/storage_ghi/Ntuples_ghi_2/MC15ri_generic/MC15ri_etaetapip_tight_v2_240419_Kp_BCS_etapi0const/'\n",
    "\n",
    "\n",
    "#loc_ccbar = base_file_loc + 'ccbar/tight_v2_240419_Kp_BCS_etapi0const_ccbar_output_02*.root'\n",
    "loc_ccbar = base_file_loc + 'ccbar/*.root'\n",
    "# base_filter=' Pip_charge==1'\n",
    "base_filter='etapip_pipipi_rank==1 && Dp_isSignal==1 && Dp_M>1.76 && Dp_M<2.1'"
   ]
  },
  {
   "cell_type": "code",
   "execution_count": 12,
   "id": "d72fe56b-a4c2-4850-b12d-6e0d14958fdc",
   "metadata": {},
   "outputs": [],
   "source": [
    "tree = 'etapip_pipipi'\n",
    "variables = [\"__experiment__\", \"__run__\", \"__event__\",\\\n",
    "             'Dp_M','Dp_isSignal','Dp_CMS_p','Dp_cosAngleBetweenMomentumAndVertexVector','Dp_cosAngleBetweenMomentumAndVertexVectorInXYPlane',\\\n",
    "             'Dp_acos_cosAngleBetweenMomentumAndVertexVector','Dp_acos_cosAngleBetweenMomentumAndVertexVectorInXYPlane',\\\n",
    "             'Pip_pionID','Pip_pionIDNN','Pip_mcPDG','Pip_dr','Pip_dr','Pip_p','Pip_charge',]"
   ]
  },
  {
   "cell_type": "code",
   "execution_count": 13,
   "id": "399b38cd-c6ac-4620-8e2e-9a97deafe793",
   "metadata": {},
   "outputs": [
    {
     "name": "stderr",
     "output_type": "stream",
     "text": [
      "IOStream.flush timed out\n"
     ]
    }
   ],
   "source": [
    "pd_ccbar_0 = get_pd(file=loc_ccbar, tree=tree,base_filter=base_filter,variables=variables)"
   ]
  },
  {
   "cell_type": "code",
   "execution_count": 14,
   "id": "fa51ff31-c5e0-4f5a-a4f6-419a7754e58b",
   "metadata": {},
   "outputs": [
    {
     "data": {
      "text/html": [
       "<div>\n",
       "<style scoped>\n",
       "    .dataframe tbody tr th:only-of-type {\n",
       "        vertical-align: middle;\n",
       "    }\n",
       "\n",
       "    .dataframe tbody tr th {\n",
       "        vertical-align: top;\n",
       "    }\n",
       "\n",
       "    .dataframe thead th {\n",
       "        text-align: right;\n",
       "    }\n",
       "</style>\n",
       "<table border=\"1\" class=\"dataframe\">\n",
       "  <thead>\n",
       "    <tr style=\"text-align: right;\">\n",
       "      <th></th>\n",
       "      <th>__experiment__</th>\n",
       "      <th>__run__</th>\n",
       "      <th>__event__</th>\n",
       "      <th>Dp_M</th>\n",
       "      <th>Dp_isSignal</th>\n",
       "      <th>Dp_CMS_p</th>\n",
       "      <th>Dp_cosAngleBetweenMomentumAndVertexVector</th>\n",
       "      <th>Dp_cosAngleBetweenMomentumAndVertexVectorInXYPlane</th>\n",
       "      <th>Dp_acos_cosAngleBetweenMomentumAndVertexVector</th>\n",
       "      <th>Dp_acos_cosAngleBetweenMomentumAndVertexVectorInXYPlane</th>\n",
       "      <th>Pip_pionID</th>\n",
       "      <th>Pip_pionIDNN</th>\n",
       "      <th>Pip_mcPDG</th>\n",
       "      <th>Pip_dr</th>\n",
       "      <th>Pip_p</th>\n",
       "      <th>Pip_charge</th>\n",
       "    </tr>\n",
       "  </thead>\n",
       "  <tbody>\n",
       "    <tr>\n",
       "      <th>count</th>\n",
       "      <td>32889.0</td>\n",
       "      <td>32889.0</td>\n",
       "      <td>3.288900e+04</td>\n",
       "      <td>32889.000000</td>\n",
       "      <td>32889.0</td>\n",
       "      <td>32889.000000</td>\n",
       "      <td>32889.000000</td>\n",
       "      <td>32889.000000</td>\n",
       "      <td>32889.000000</td>\n",
       "      <td>3.288900e+04</td>\n",
       "      <td>32889.000000</td>\n",
       "      <td>32889.000000</td>\n",
       "      <td>32889.000000</td>\n",
       "      <td>3.288900e+04</td>\n",
       "      <td>32889.000000</td>\n",
       "      <td>32889.000000</td>\n",
       "    </tr>\n",
       "    <tr>\n",
       "      <th>mean</th>\n",
       "      <td>1003.0</td>\n",
       "      <td>0.0</td>\n",
       "      <td>1.331371e+08</td>\n",
       "      <td>1.868176</td>\n",
       "      <td>1.0</td>\n",
       "      <td>3.404399</td>\n",
       "      <td>0.792972</td>\n",
       "      <td>0.999696</td>\n",
       "      <td>0.497708</td>\n",
       "      <td>1.503425e-02</td>\n",
       "      <td>0.959382</td>\n",
       "      <td>0.940403</td>\n",
       "      <td>1.430661</td>\n",
       "      <td>2.685343e-02</td>\n",
       "      <td>1.629125</td>\n",
       "      <td>0.006780</td>\n",
       "    </tr>\n",
       "    <tr>\n",
       "      <th>std</th>\n",
       "      <td>0.0</td>\n",
       "      <td>0.0</td>\n",
       "      <td>7.642166e+07</td>\n",
       "      <td>0.010714</td>\n",
       "      <td>0.0</td>\n",
       "      <td>0.572350</td>\n",
       "      <td>0.337474</td>\n",
       "      <td>0.000731</td>\n",
       "      <td>0.497978</td>\n",
       "      <td>1.957233e-02</td>\n",
       "      <td>0.088889</td>\n",
       "      <td>0.118824</td>\n",
       "      <td>210.998357</td>\n",
       "      <td>3.195213e-02</td>\n",
       "      <td>0.866370</td>\n",
       "      <td>0.999992</td>\n",
       "    </tr>\n",
       "    <tr>\n",
       "      <th>min</th>\n",
       "      <td>1003.0</td>\n",
       "      <td>0.0</td>\n",
       "      <td>1.207100e+04</td>\n",
       "      <td>1.760221</td>\n",
       "      <td>1.0</td>\n",
       "      <td>2.500079</td>\n",
       "      <td>-0.980324</td>\n",
       "      <td>0.995006</td>\n",
       "      <td>0.000072</td>\n",
       "      <td>5.251470e-07</td>\n",
       "      <td>0.600142</td>\n",
       "      <td>0.134268</td>\n",
       "      <td>-211.000000</td>\n",
       "      <td>6.755115e-07</td>\n",
       "      <td>0.118758</td>\n",
       "      <td>-1.000000</td>\n",
       "    </tr>\n",
       "    <tr>\n",
       "      <th>25%</th>\n",
       "      <td>1003.0</td>\n",
       "      <td>0.0</td>\n",
       "      <td>6.723623e+07</td>\n",
       "      <td>1.864443</td>\n",
       "      <td>1.0</td>\n",
       "      <td>2.925185</td>\n",
       "      <td>0.754750</td>\n",
       "      <td>0.999809</td>\n",
       "      <td>0.126393</td>\n",
       "      <td>2.132703e-03</td>\n",
       "      <td>0.979756</td>\n",
       "      <td>0.951694</td>\n",
       "      <td>-211.000000</td>\n",
       "      <td>6.817622e-03</td>\n",
       "      <td>0.940859</td>\n",
       "      <td>-1.000000</td>\n",
       "    </tr>\n",
       "    <tr>\n",
       "      <th>50%</th>\n",
       "      <td>1003.0</td>\n",
       "      <td>0.0</td>\n",
       "      <td>1.328855e+08</td>\n",
       "      <td>1.868954</td>\n",
       "      <td>1.0</td>\n",
       "      <td>3.343140</td>\n",
       "      <td>0.949197</td>\n",
       "      <td>0.999975</td>\n",
       "      <td>0.320122</td>\n",
       "      <td>7.108567e-03</td>\n",
       "      <td>0.999272</td>\n",
       "      <td>0.993922</td>\n",
       "      <td>211.000000</td>\n",
       "      <td>1.640635e-02</td>\n",
       "      <td>1.526628</td>\n",
       "      <td>1.000000</td>\n",
       "    </tr>\n",
       "    <tr>\n",
       "      <th>75%</th>\n",
       "      <td>1003.0</td>\n",
       "      <td>0.0</td>\n",
       "      <td>1.984395e+08</td>\n",
       "      <td>1.873119</td>\n",
       "      <td>1.0</td>\n",
       "      <td>3.829469</td>\n",
       "      <td>0.992023</td>\n",
       "      <td>0.999998</td>\n",
       "      <td>0.715523</td>\n",
       "      <td>1.954563e-02</td>\n",
       "      <td>0.999981</td>\n",
       "      <td>0.999879</td>\n",
       "      <td>211.000000</td>\n",
       "      <td>3.470384e-02</td>\n",
       "      <td>2.216561</td>\n",
       "      <td>1.000000</td>\n",
       "    </tr>\n",
       "    <tr>\n",
       "      <th>max</th>\n",
       "      <td>1003.0</td>\n",
       "      <td>0.0</td>\n",
       "      <td>2.657819e+08</td>\n",
       "      <td>2.014444</td>\n",
       "      <td>1.0</td>\n",
       "      <td>5.036367</td>\n",
       "      <td>1.000000</td>\n",
       "      <td>1.000000</td>\n",
       "      <td>2.942894</td>\n",
       "      <td>9.998337e-02</td>\n",
       "      <td>1.000000</td>\n",
       "      <td>1.000000</td>\n",
       "      <td>211.000000</td>\n",
       "      <td>5.249867e-01</td>\n",
       "      <td>5.639777</td>\n",
       "      <td>1.000000</td>\n",
       "    </tr>\n",
       "  </tbody>\n",
       "</table>\n",
       "</div>"
      ],
      "text/plain": [
       "       __experiment__  __run__     __event__          Dp_M  Dp_isSignal  \\\n",
       "count         32889.0  32889.0  3.288900e+04  32889.000000      32889.0   \n",
       "mean           1003.0      0.0  1.331371e+08      1.868176          1.0   \n",
       "std               0.0      0.0  7.642166e+07      0.010714          0.0   \n",
       "min            1003.0      0.0  1.207100e+04      1.760221          1.0   \n",
       "25%            1003.0      0.0  6.723623e+07      1.864443          1.0   \n",
       "50%            1003.0      0.0  1.328855e+08      1.868954          1.0   \n",
       "75%            1003.0      0.0  1.984395e+08      1.873119          1.0   \n",
       "max            1003.0      0.0  2.657819e+08      2.014444          1.0   \n",
       "\n",
       "           Dp_CMS_p  Dp_cosAngleBetweenMomentumAndVertexVector  \\\n",
       "count  32889.000000                               32889.000000   \n",
       "mean       3.404399                                   0.792972   \n",
       "std        0.572350                                   0.337474   \n",
       "min        2.500079                                  -0.980324   \n",
       "25%        2.925185                                   0.754750   \n",
       "50%        3.343140                                   0.949197   \n",
       "75%        3.829469                                   0.992023   \n",
       "max        5.036367                                   1.000000   \n",
       "\n",
       "       Dp_cosAngleBetweenMomentumAndVertexVectorInXYPlane  \\\n",
       "count                                       32889.000000    \n",
       "mean                                            0.999696    \n",
       "std                                             0.000731    \n",
       "min                                             0.995006    \n",
       "25%                                             0.999809    \n",
       "50%                                             0.999975    \n",
       "75%                                             0.999998    \n",
       "max                                             1.000000    \n",
       "\n",
       "       Dp_acos_cosAngleBetweenMomentumAndVertexVector  \\\n",
       "count                                    32889.000000   \n",
       "mean                                         0.497708   \n",
       "std                                          0.497978   \n",
       "min                                          0.000072   \n",
       "25%                                          0.126393   \n",
       "50%                                          0.320122   \n",
       "75%                                          0.715523   \n",
       "max                                          2.942894   \n",
       "\n",
       "       Dp_acos_cosAngleBetweenMomentumAndVertexVectorInXYPlane    Pip_pionID  \\\n",
       "count                                       3.288900e+04        32889.000000   \n",
       "mean                                        1.503425e-02            0.959382   \n",
       "std                                         1.957233e-02            0.088889   \n",
       "min                                         5.251470e-07            0.600142   \n",
       "25%                                         2.132703e-03            0.979756   \n",
       "50%                                         7.108567e-03            0.999272   \n",
       "75%                                         1.954563e-02            0.999981   \n",
       "max                                         9.998337e-02            1.000000   \n",
       "\n",
       "       Pip_pionIDNN     Pip_mcPDG        Pip_dr         Pip_p    Pip_charge  \n",
       "count  32889.000000  32889.000000  3.288900e+04  32889.000000  32889.000000  \n",
       "mean       0.940403      1.430661  2.685343e-02      1.629125      0.006780  \n",
       "std        0.118824    210.998357  3.195213e-02      0.866370      0.999992  \n",
       "min        0.134268   -211.000000  6.755115e-07      0.118758     -1.000000  \n",
       "25%        0.951694   -211.000000  6.817622e-03      0.940859     -1.000000  \n",
       "50%        0.993922    211.000000  1.640635e-02      1.526628      1.000000  \n",
       "75%        0.999879    211.000000  3.470384e-02      2.216561      1.000000  \n",
       "max        1.000000    211.000000  5.249867e-01      5.639777      1.000000  "
      ]
     },
     "execution_count": 14,
     "metadata": {},
     "output_type": "execute_result"
    }
   ],
   "source": [
    "pd_ccbar_0.describe()\n",
    "\n",
    "# true_Dp = len(pd_ccbar_0)"
   ]
  },
  {
   "cell_type": "code",
   "execution_count": 15,
   "id": "17589f7f-7de8-4026-9bf2-a2f44296e8e7",
   "metadata": {},
   "outputs": [],
   "source": [
    "Nsig_Dp_MC = len(pd_ccbar_0.query('Pip_charge==1'))\n",
    "\n",
    "Nsig_Dm_MC = len(pd_ccbar_0.query('Pip_charge==-1'))"
   ]
  },
  {
   "cell_type": "code",
   "execution_count": 16,
   "id": "b3f4fe06-c183-4550-b3db-06446459ae69",
   "metadata": {},
   "outputs": [],
   "source": [
    "file_name = '/media/jykim/T7_2/storage/Ntuples_ghi_2/MC15ri_generic/MC15ri_etaetapip_tight_v2_240419_Kp_BCS_etapi0const/topo/resultfile/result_etapip_pipipi/*.root'\n",
    "file_name =  '/share/storage/jykim/storage_ghi/Ntuples_ghi_2/MC15ri_generic/MC15ri_etaetapip_tight_v2_240419_Kp_BCS_etapi0const/topo/resultfile/result_etapip_pipipi/*.root'\n",
    "\n",
    "\n",
    "base_filter = '(etapip_pipipi_rank==1) && Dp_M>1.76 && Dp_M<2.1'\n",
    "\n",
    "tree = 'etapip_pipipi'\n",
    "variables = [\"__experiment__\", \"__run__\", \"__event__\",\\\n",
    "             'Dp_M','Dp_isSignal','Dp_CMS_p','Dp_cosAngleBetweenMomentumAndVertexVector','Dp_cosAngleBetweenMomentumAndVertexVectorInXYPlane',\\\n",
    "             'Dp_acos_cosAngleBetweenMomentumAndVertexVector','Dp_acos_cosAngleBetweenMomentumAndVertexVectorInXYPlane',\\\n",
    "             'Pip_pionID','Pip_pionIDNN','Pip_mcPDG','Pip_dr','Pip_dr','Pip_p','Pip_charge',\\\n",
    "             'iProdBrP_Dsp_0','iProdBrP_Dp_0','iCascDcyBrP_Dp_0','iCascDcyBrCcP_Dp_0','iCascDcyBrP_Dsp_0','iCascDcyBrCcP_Dsp_0']\n",
    "etapip_signal_topo = get_pd(file=file_name, tree=tree,base_filter=base_filter,variables=variables)"
   ]
  },
  {
   "cell_type": "code",
   "execution_count": 17,
   "id": "a0e02242-7963-45d5-8582-ab938cd34e5d",
   "metadata": {},
   "outputs": [],
   "source": [
    "Nsig_Dp_MC_topo = len(etapip_signal_topo.query('Pip_charge==1  & iCascDcyBrP_Dp_0==0'))\n",
    "\n",
    "Nsig_Dm_MC_topo = len(etapip_signal_topo.query('Pip_charge==-1 & iCascDcyBrCcP_Dp_0==0'))"
   ]
  },
  {
   "cell_type": "code",
   "execution_count": 18,
   "id": "a3ccfd62-2471-44c1-a493-17169206a3ad",
   "metadata": {},
   "outputs": [
    {
     "name": "stdout",
     "output_type": "stream",
     "text": [
      "18599\n"
     ]
    }
   ],
   "source": [
    "print(Nsig_Dp_MC_topo)"
   ]
  },
  {
   "cell_type": "code",
   "execution_count": 19,
   "id": "9cf3ce1c-25fb-47b1-bfad-5acc6c31da46",
   "metadata": {},
   "outputs": [
    {
     "name": "stdout",
     "output_type": "stream",
     "text": [
      "18459\n"
     ]
    }
   ],
   "source": [
    "print(Nsig_Dm_MC_topo)"
   ]
  },
  {
   "cell_type": "code",
   "execution_count": 20,
   "id": "a0554d87-058b-482e-958d-581f47c69eb0",
   "metadata": {},
   "outputs": [],
   "source": [
    "Nsig_err_Dp_MC_topo = math.sqrt(Nsig_Dp_MC_topo)\n",
    "Nsig_err_Dm_MC_topo = math.sqrt(Nsig_Dm_MC_topo)"
   ]
  },
  {
   "cell_type": "code",
   "execution_count": 21,
   "id": "f15ee0af-4e86-4be6-aea1-07d5396e91ee",
   "metadata": {},
   "outputs": [
    {
     "data": {
      "text/plain": [
       "0.0037778617302606727"
      ]
     },
     "execution_count": 21,
     "metadata": {},
     "output_type": "execute_result"
    }
   ],
   "source": [
    "Acp_cal(Nsig_Dp_MC_topo,Nsig_Dm_MC_topo)"
   ]
  },
  {
   "cell_type": "code",
   "execution_count": 22,
   "id": "0d42b177-16c3-4581-8f8e-adf98380c0be",
   "metadata": {},
   "outputs": [
    {
     "data": {
      "text/plain": [
       "(0.0037778617302606727, 7.791715521524226e-05)"
      ]
     },
     "execution_count": 22,
     "metadata": {},
     "output_type": "execute_result"
    }
   ],
   "source": [
    "Acp_and_AcpError_cal(Nsig_Dp_MC_topo,Nsig_Dm_MC_topo, Nsig_err_Dp_MC_topo,Nsig_err_Dm_MC_topo)"
   ]
  },
  {
   "cell_type": "code",
   "execution_count": 23,
   "id": "1ca04a73-0286-4cf4-8f5a-b29f9b6a2c28",
   "metadata": {},
   "outputs": [],
   "source": [
    "Nsig_Dp_MC_true = len(pd_ccbar_0.query('Pip_charge==1'))\n",
    "Nsig_Dm_MC_true = len(pd_ccbar_0.query('Pip_charge==-1'))"
   ]
  },
  {
   "cell_type": "code",
   "execution_count": 24,
   "id": "f8393f8f-767f-47ab-a468-47f00c0178f7",
   "metadata": {},
   "outputs": [],
   "source": [
    "Nsig_err_Dp_MC_true = math.sqrt(Nsig_Dp_MC_true )\n",
    "Nsig_err_Dm_MC_true = math.sqrt(Nsig_Dm_MC_true )"
   ]
  },
  {
   "cell_type": "code",
   "execution_count": 25,
   "id": "f9f357f7-5e67-4f31-bc66-a6e3d4f87be8",
   "metadata": {},
   "outputs": [
    {
     "data": {
      "text/plain": [
       "16556"
      ]
     },
     "execution_count": 25,
     "metadata": {},
     "output_type": "execute_result"
    }
   ],
   "source": [
    "Nsig_Dp_MC_true"
   ]
  },
  {
   "cell_type": "code",
   "execution_count": 26,
   "id": "312edcdd-04cb-4541-9b91-d883cd566ca1",
   "metadata": {},
   "outputs": [
    {
     "data": {
      "text/plain": [
       "16333"
      ]
     },
     "execution_count": 26,
     "metadata": {},
     "output_type": "execute_result"
    }
   ],
   "source": [
    "Nsig_Dm_MC_true"
   ]
  },
  {
   "cell_type": "code",
   "execution_count": 27,
   "id": "c3051ec0-aa59-42a4-94b3-cf7ff33838ca",
   "metadata": {},
   "outputs": [
    {
     "data": {
      "text/plain": [
       "(0.0067803824987077745, 0.00014755744913750758)"
      ]
     },
     "execution_count": 27,
     "metadata": {},
     "output_type": "execute_result"
    }
   ],
   "source": [
    "Acp_and_AcpError_cal(Nsig_Dp_MC_true ,Nsig_Dm_MC_true, Nsig_err_Dp_MC_true, Nsig_err_Dm_MC_true )"
   ]
  },
  {
   "cell_type": "code",
   "execution_count": 28,
   "id": "f432669c-3f8a-490b-b810-ba74f37c00bb",
   "metadata": {},
   "outputs": [],
   "source": [
    "Nsig_Dp_recon = param_dict['nsig']['value']\n",
    "Nsig_Dm_recon = param_dict_cc['nsig']['value']\n",
    "\n",
    "Nsig_err_Dp_recon = param_dict['nsig']['error']\n",
    "Nsig_err_Dm_recon = param_dict_cc['nsig']['error']\n"
   ]
  },
  {
   "cell_type": "code",
   "execution_count": 46,
   "id": "2b737992-fdda-4104-af0d-4b82ce4d40a6",
   "metadata": {},
   "outputs": [
    {
     "data": {
      "text/plain": [
       "(-0.01239083887860191, 0.01203217414465582)"
      ]
     },
     "execution_count": 46,
     "metadata": {},
     "output_type": "execute_result"
    }
   ],
   "source": [
    "Acp_and_AcpError_cal(Nsig_Dp_recon , Nsig_Dm_recon , Nsig_err_Dp_recon, Nsig_err_Dm_recon)"
   ]
  },
  {
   "cell_type": "code",
   "execution_count": 47,
   "id": "2efd08ae-078b-4f15-ae62-f8723bae03f1",
   "metadata": {},
   "outputs": [],
   "source": [
    "topo_Acp, topo_AcpErr =  Acp_and_AcpError_cal(Nsig_Dp_MC_topo,Nsig_Dm_MC_topo, Nsig_err_Dp_MC_topo,Nsig_err_Dm_MC_topo)"
   ]
  },
  {
   "cell_type": "code",
   "execution_count": 48,
   "id": "33327e6f-2465-49bd-9d5e-332fa8b83f4c",
   "metadata": {},
   "outputs": [
    {
     "data": {
      "text/plain": [
       "(0.0037778617302606727, 0.005194645465500435)"
      ]
     },
     "execution_count": 48,
     "metadata": {},
     "output_type": "execute_result"
    }
   ],
   "source": [
    "Acp_and_AcpError_cal(Nsig_Dp_MC_topo,Nsig_Dm_MC_topo, Nsig_err_Dp_MC_topo,Nsig_err_Dm_MC_topo)"
   ]
  },
  {
   "cell_type": "code",
   "execution_count": 49,
   "id": "6b97fb2a-49e2-4670-8e06-42146c4c083c",
   "metadata": {},
   "outputs": [],
   "source": [
    "true_Acp, true_AcpErr = Acp_and_AcpError_cal(Nsig_Dp_MC_true ,Nsig_Dm_MC_true, Nsig_err_Dp_MC_true, Nsig_err_Dm_MC_true )"
   ]
  },
  {
   "cell_type": "code",
   "execution_count": 50,
   "id": "69572cce-2b41-4a61-a009-8ddc31cfe93f",
   "metadata": {},
   "outputs": [
    {
     "data": {
      "text/plain": [
       "(0.0067803824987077745, 0.005513973598410242)"
      ]
     },
     "execution_count": 50,
     "metadata": {},
     "output_type": "execute_result"
    }
   ],
   "source": [
    "Acp_and_AcpError_cal(Nsig_Dp_MC_true ,Nsig_Dm_MC_true, Nsig_err_Dp_MC_true, Nsig_err_Dm_MC_true )"
   ]
  },
  {
   "cell_type": "code",
   "execution_count": 51,
   "id": "19d304bf-0402-4cff-847f-fcfd2f014745",
   "metadata": {},
   "outputs": [],
   "source": [
    "recon_Acp, recon_AcpErr = Acp_and_AcpError_cal(Nsig_Dp_recon , Nsig_Dm_recon , Nsig_err_Dp_recon, Nsig_err_Dm_recon)"
   ]
  },
  {
   "cell_type": "code",
   "execution_count": 52,
   "id": "94c60881-4b53-4e81-b361-f75e707cb0c3",
   "metadata": {},
   "outputs": [
    {
     "data": {
      "text/plain": [
       "(-0.01239083887860191, 0.01203217414465582)"
      ]
     },
     "execution_count": 52,
     "metadata": {},
     "output_type": "execute_result"
    }
   ],
   "source": [
    "Acp_and_AcpError_cal(Nsig_Dp_recon , Nsig_Dm_recon , Nsig_err_Dp_recon, Nsig_err_Dm_recon)"
   ]
  },
  {
   "cell_type": "code",
   "execution_count": 63,
   "id": "a3829299-7d1a-4d57-b376-89fa4e46a5c6",
   "metadata": {},
   "outputs": [
    {
     "data": {
      "image/png": "[encoded data removed]",
      "text/plain": [
       "<Figure size 800x550 with 1 Axes>"
      ]
     },
     "metadata": {},
     "output_type": "display_data"
    }
   ],
   "source": [
    "# Plotting\n",
    "plt.errorbar(1, topo_Acp, yerr=topo_AcpErr, fmt='o',capsize=4, label='TopoAna')\n",
    "plt.errorbar(2, true_Acp, yerr=true_AcpErr, fmt='o',capsize=4, label='MC matched')\n",
    "plt.errorbar(3, recon_Acp, yerr=recon_AcpErr, fmt='o',capsize=4, label='Reconstruction')\n",
    "\n",
    "# Customizing plot\n",
    "plt.xticks([1, 2, 3], ['TopoAna', 'MC matched', 'Fitted'])\n",
    "# plt.xlabel('Variables')\n",
    "plt.ylabel('Acp')\n",
    "# plt.title('Plot with Error Bars')\n",
    "# plt.legend()\n",
    "\n",
    "plt.grid(True, alpha=0.5) # Display plot\n",
    "# plt.ylim(0,)\n",
    "\n",
    "plt.tight_layout()\n",
    "plt.savefig(\"/share/storage/jykim/plots/MC15ri/etapip/pipipi/Acp/MC15ri_1ab_etapip_pipipi_compare_tight_v2_fitv6_Acp.png\")\n",
    "\n",
    "plt.show()"
   ]
  },
  {
   "cell_type": "code",
   "execution_count": null,
   "id": "8319b6ee-66f7-4edb-bb2a-5da69cee5cf2",
   "metadata": {},
   "outputs": [],
   "source": []
  },
  {
   "cell_type": "code",
   "execution_count": null,
   "id": "e0f586c2-49ba-49d7-adef-4f1125190e9e",
   "metadata": {},
   "outputs": [],
   "source": []
  },
  {
   "cell_type": "code",
   "execution_count": null,
   "id": "e25bc669-ce11-4146-a16d-fda93b4ee659",
   "metadata": {},
   "outputs": [],
   "source": []
  },
  {
   "cell_type": "code",
   "execution_count": null,
   "id": "37acb73f-f2e1-474c-8ccd-145652fa164c",
   "metadata": {},
   "outputs": [],
   "source": []
  },
  {
   "cell_type": "code",
   "execution_count": null,
   "id": "9fff9a52-f15e-40fa-8a1b-35571721308f",
   "metadata": {},
   "outputs": [],
   "source": []
  },
  {
   "cell_type": "code",
   "execution_count": null,
   "id": "ebaea01c-217d-4ee3-a370-eda48cd95388",
   "metadata": {},
   "outputs": [],
   "source": []
  },
  {
   "cell_type": "code",
   "execution_count": null,
   "id": "8f251dbe-8ac4-4c45-ab24-cabf3c141d23",
   "metadata": {},
   "outputs": [],
   "source": []
  },
  {
   "cell_type": "code",
   "execution_count": null,
   "id": "86a2344d-9df3-4e81-93c1-932cb3c0795d",
   "metadata": {},
   "outputs": [],
   "source": []
  },
  {
   "cell_type": "code",
   "execution_count": null,
   "id": "8bec7299-bd68-40e2-9960-b0e185251192",
   "metadata": {},
   "outputs": [],
   "source": []
  },
  {
   "cell_type": "code",
   "execution_count": null,
   "id": "bf6be35f-0464-4fb9-9552-d72406ca0e30",
   "metadata": {},
   "outputs": [],
   "source": []
  },
  {
   "cell_type": "code",
   "execution_count": null,
   "id": "d8e36907-9b1e-4606-970b-68d199285461",
   "metadata": {},
   "outputs": [],
   "source": []
  },
  {
   "cell_type": "code",
   "execution_count": null,
   "id": "a5e79941-f6ed-435d-8408-81d856b1c558",
   "metadata": {},
   "outputs": [],
   "source": []
  },
  {
   "cell_type": "code",
   "execution_count": null,
   "id": "61b5df22-8629-499b-9565-dcc03a1ec3b6",
   "metadata": {},
   "outputs": [],
   "source": []
  },
  {
   "cell_type": "code",
   "execution_count": 3,
   "id": "269b39ff-3eec-4c17-a57f-198c73edba30",
   "metadata": {},
   "outputs": [
    {
     "ename": "NameError",
     "evalue": "name 'Nsig_Dp_MC_topo' is not defined",
     "output_type": "error",
     "traceback": [
      "\u001b[0;31m---------------------------------------------------------------------------\u001b[0m",
      "\u001b[0;31mNameError\u001b[0m                                 Traceback (most recent call last)",
      "Cell \u001b[0;32mIn [3], line 1\u001b[0m\n\u001b[0;32m----> 1\u001b[0m Acp_and_AcpError_cal(\u001b[43mNsig_Dp_MC_topo\u001b[49m,Nsig_Dm_MC_topo)\n",
      "\u001b[0;31mNameError\u001b[0m: name 'Nsig_Dp_MC_topo' is not defined"
     ]
    }
   ],
   "source": []
  },
  {
   "cell_type": "code",
   "execution_count": 199,
   "id": "293abfcd-3d82-42c3-b753-77389262fc8c",
   "metadata": {},
   "outputs": [],
   "source": [
    "# print('MC Acp=',(Nsig_Dp_MC - Nsig_Dm_MC ) / (Nsig_Dp_MC + Nsig_Dm_MC ) )"
   ]
  },
  {
   "cell_type": "code",
   "execution_count": 212,
   "id": "59fc66d5-6c35-4457-8acc-859ed4ec67e0",
   "metadata": {},
   "outputs": [
    {
     "name": "stdout",
     "output_type": "stream",
     "text": [
      "MC Acp= 0.0037778617302606727\n"
     ]
    }
   ],
   "source": [
    "print('MC Acp=',(Nsig_Dp_MC_topo - Nsig_Dm_MC_topo ) / (Nsig_Dp_MC_topo + Nsig_Dm_MC_topo ) )"
   ]
  },
  {
   "cell_type": "code",
   "execution_count": 213,
   "id": "b71f2ac4-390b-4835-b10f-8f037d7260f4",
   "metadata": {},
   "outputs": [
    {
     "data": {
      "text/plain": [
       "18564.231547870728"
      ]
     },
     "execution_count": 213,
     "metadata": {},
     "output_type": "execute_result"
    }
   ],
   "source": [
    "Nsig_Dp = param_dict['nsig']['value']\n",
    "param_dict['nsig']['value']\n"
   ]
  },
  {
   "cell_type": "code",
   "execution_count": 214,
   "id": "afe70b71-d9b6-46bc-a497-055f6f0cf0eb",
   "metadata": {},
   "outputs": [
    {
     "data": {
      "text/plain": [
       "325.04673550196685"
      ]
     },
     "execution_count": 214,
     "metadata": {},
     "output_type": "execute_result"
    }
   ],
   "source": [
    "param_dict['nsig']['error']\n"
   ]
  },
  {
   "cell_type": "code",
   "execution_count": 215,
   "id": "057d5bd8-73bc-4bc0-9751-90c66b426208",
   "metadata": {
    "scrolled": true
   },
   "outputs": [
    {
     "data": {
      "text/plain": [
       "19030.05631149187"
      ]
     },
     "execution_count": 215,
     "metadata": {},
     "output_type": "execute_result"
    }
   ],
   "source": [
    "Nsig_Dm = param_dict_cc['nsig']['value']\n",
    "param_dict_cc['nsig']['value']"
   ]
  },
  {
   "cell_type": "code",
   "execution_count": 216,
   "id": "166bd845-22a3-4fe4-be5f-30c55e8c37aa",
   "metadata": {},
   "outputs": [
    {
     "data": {
      "text/plain": [
       "314.25247903132146"
      ]
     },
     "execution_count": 216,
     "metadata": {},
     "output_type": "execute_result"
    }
   ],
   "source": [
    "param_dict_cc['nsig']['error']"
   ]
  },
  {
   "cell_type": "code",
   "execution_count": 217,
   "id": "1632ebf9-b976-40d2-9bb6-b86115a44ac6",
   "metadata": {},
   "outputs": [
    {
     "name": "stdout",
     "output_type": "stream",
     "text": [
      "Measurment of Acp= -0.01239083887860191\n"
     ]
    }
   ],
   "source": [
    "print('Measurment of Acp=',(Nsig_Dp - Nsig_Dm ) / (Nsig_Dp + Nsig_Dm ) )"
   ]
  },
  {
   "cell_type": "code",
   "execution_count": 218,
   "id": "7c49298c-13b5-40b6-a72e-68c4354d1c30",
   "metadata": {},
   "outputs": [],
   "source": [
    "Pull_Dp = (param_dict['nsig']['value']-Nsig_Dp_MC_topo)/param_dict['nsig']['error']"
   ]
  },
  {
   "cell_type": "code",
   "execution_count": 219,
   "id": "e430caa9-ca61-4548-8733-468977e74866",
   "metadata": {},
   "outputs": [],
   "source": [
    "Pull_Dm = (param_dict_cc['nsig']['value']-Nsig_Dm_MC_topo)/param_dict_cc['nsig']['error']"
   ]
  },
  {
   "cell_type": "code",
   "execution_count": 220,
   "id": "c2a2911d-f651-4912-9c12-dac0b6b15d92",
   "metadata": {},
   "outputs": [
    {
     "data": {
      "text/plain": [
       "-0.10696447104930795"
      ]
     },
     "execution_count": 220,
     "metadata": {},
     "output_type": "execute_result"
    }
   ],
   "source": [
    "Pull_Dp"
   ]
  },
  {
   "cell_type": "code",
   "execution_count": 221,
   "id": "876bdade-c11a-489a-9403-4dbc77538c43",
   "metadata": {},
   "outputs": [
    {
     "data": {
      "text/plain": [
       "1.8171895198794996"
      ]
     },
     "execution_count": 221,
     "metadata": {},
     "output_type": "execute_result"
    }
   ],
   "source": [
    "Pull_Dm"
   ]
  },
  {
   "cell_type": "code",
   "execution_count": 169,
   "id": "72bc01f7-4cf1-4156-8a2b-ee8b15b275b3",
   "metadata": {},
   "outputs": [
    {
     "ename": "NameError",
     "evalue": "name 'pd_ccbar_0' is not defined",
     "output_type": "error",
     "traceback": [
      "\u001b[0;31m---------------------------------------------------------------------------\u001b[0m",
      "\u001b[0;31mNameError\u001b[0m                                 Traceback (most recent call last)",
      "Cell \u001b[0;32mIn [169], line 1\u001b[0m\n\u001b[0;32m----> 1\u001b[0m \u001b[43mpd_ccbar_0\u001b[49m\u001b[38;5;241m.\u001b[39mPip_charge\n",
      "\u001b[0;31mNameError\u001b[0m: name 'pd_ccbar_0' is not defined"
     ]
    }
   ],
   "source": [
    "pd_ccbar_0.Pip_charge"
   ]
  },
  {
   "cell_type": "code",
   "execution_count": 317,
   "id": "41ff38fa-df39-4cf4-904f-26b26eab75c4",
   "metadata": {},
   "outputs": [
    {
     "data": {
      "text/plain": [
       "0.045261188455007414"
      ]
     },
     "execution_count": 317,
     "metadata": {},
     "output_type": "execute_result"
    }
   ],
   "source": [
    "(17377.4672580645 - 16625)/16625\n",
    "\n"
   ]
  },
  {
   "cell_type": "code",
   "execution_count": null,
   "id": "490c0d6c-1246-4ba8-86d0-67691dc36a9c",
   "metadata": {},
   "outputs": [],
   "source": []
  }
 ],
 "metadata": {
  "kernelspec": {
   "display_name": "Python 3 (ipykernel)",
   "language": "python",
   "name": "python3"
  },
  "language_info": {
   "codemirror_mode": {
    "name": "ipython",
    "version": 3
   },
   "file_extension": ".py",
   "mimetype": "text/x-python",
   "name": "python",
   "nbconvert_exporter": "python",
   "pygments_lexer": "ipython3",
   "version": "3.10.5"
  }
 },
 "nbformat": 4,
 "nbformat_minor": 5
}
