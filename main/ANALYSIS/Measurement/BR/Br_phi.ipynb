{
 "cells": [
  {
   "cell_type": "code",
   "execution_count": 32,
   "id": "3b5f79ab-977f-4f25-8fe8-3e8b43cfc7c7",
   "metadata": {},
   "outputs": [
    {
     "name": "stdout",
     "output_type": "stream",
     "text": [
      "The autoreload extension is already loaded. To reload it, use:\n",
      "  %reload_ext autoreload\n"
     ]
    }
   ],
   "source": [
    "%matplotlib inline\n",
    "%load_ext autoreload\n",
    "%autoreload 2\n",
    "import seaborn as sns\n",
    "import matplotlib.pyplot as plt\n",
    "import numpy as np\n",
    "import pandas as pd\n",
    "import math\n",
    "from math import sqrt\n",
    "import ROOT\n",
    "import ctypes\n",
    "try:\n",
    "#     plt.style.use('belle2')\n",
    "    plt.style.use('belle2_serif')\n",
    "#     plt.style.use('belle2_modern')\n",
    "except OSError:\n",
    "    print(\"Please install belle2 matplotlib style\") \n",
    "px = 1/plt.rcParams['figure.dpi']\n",
    "\n",
    "from main.data_tools.extract_ntuples import get_pd, get_np\n",
    "from main.draw_tools.decorations import b2helix, watermark\n",
    "from main.draw_tools.stacking_with_error_bars import MC_stack_plot, MC_stack_plot_density\n",
    "\n",
    "from main.data_tools.error_bars import make_data_weight\n",
    "from main.data_tools.query_dataframes import cut_dfs_7types\n"
   ]
  },
  {
   "cell_type": "code",
   "execution_count": null,
   "id": "8a3c2260-34ed-4af2-9c67-30688b5d3f8b",
   "metadata": {},
   "outputs": [],
   "source": []
  },
  {
   "cell_type": "code",
   "execution_count": 2,
   "id": "4c2358ef-acc0-4633-9f16-92620ab9bc62",
   "metadata": {},
   "outputs": [],
   "source": [
    "data_dict = {r'$N_{topo}$': [684, 3634, 1283],\n",
    "             'Fit': [681.225, 3697.640, 1305.752],\n",
    "             'Pull': [-0.074, 0.891, 0.482] \n",
    "            }"
   ]
  },
  {
   "cell_type": "code",
   "execution_count": 3,
   "id": "4e8d2f94-7aea-4091-9a0d-a0a3bbc8ae51",
   "metadata": {},
   "outputs": [],
   "source": [
    "df = pd.DataFrame(data_dict)"
   ]
  },
  {
   "cell_type": "code",
   "execution_count": 5,
   "id": "f86e5b01-52b1-485d-94f9-aecf280bcb98",
   "metadata": {},
   "outputs": [
    {
     "data": {
      "text/html": [
       "<div>\n",
       "<style scoped>\n",
       "    .dataframe tbody tr th:only-of-type {\n",
       "        vertical-align: middle;\n",
       "    }\n",
       "\n",
       "    .dataframe tbody tr th {\n",
       "        vertical-align: top;\n",
       "    }\n",
       "\n",
       "    .dataframe thead th {\n",
       "        text-align: right;\n",
       "    }\n",
       "</style>\n",
       "<table border=\"1\" class=\"dataframe\">\n",
       "  <thead>\n",
       "    <tr style=\"text-align: right;\">\n",
       "      <th></th>\n",
       "      <th>$N_{topo}$</th>\n",
       "      <th>Fit</th>\n",
       "      <th>Pull</th>\n",
       "    </tr>\n",
       "  </thead>\n",
       "  <tbody>\n",
       "    <tr>\n",
       "      <th>$D^0 \\to \\phi \\gamma$</th>\n",
       "      <td>684</td>\n",
       "      <td>681.225</td>\n",
       "      <td>-0.074</td>\n",
       "    </tr>\n",
       "    <tr>\n",
       "      <th>$D^0 \\to \\phi \\pi^0$</th>\n",
       "      <td>3634</td>\n",
       "      <td>3697.640</td>\n",
       "      <td>0.891</td>\n",
       "    </tr>\n",
       "    <tr>\n",
       "      <th>Others</th>\n",
       "      <td>1283</td>\n",
       "      <td>1305.752</td>\n",
       "      <td>0.482</td>\n",
       "    </tr>\n",
       "  </tbody>\n",
       "</table>\n",
       "</div>"
      ],
      "text/plain": [
       "                       $N_{topo}$       Fit   Pull\n",
       "$D^0 \\to \\phi \\gamma$         684   681.225 -0.074\n",
       "$D^0 \\to \\phi \\pi^0$         3634  3697.640  0.891\n",
       "Others                       1283  1305.752  0.482"
      ]
     },
     "execution_count": 5,
     "metadata": {},
     "output_type": "execute_result"
    }
   ],
   "source": [
    "df.index = [r'$D^0 \\to \\phi \\gamma$', r'$D^0 \\to \\phi \\pi^0$', 'Others']\n",
    "df"
   ]
  },
  {
   "cell_type": "code",
   "execution_count": null,
   "id": "37e137e8-2ae1-4fc4-a0df-cfc5bf2a8364",
   "metadata": {},
   "outputs": [],
   "source": [
    "292.645\n",
    "\n",
    "pull_1 = \n",
    "\n",
    "ref_data_dict = {r'$N_{topo}$': [684, 3634, 1283],\n",
    "             'Fit': [70080.9, 3697.640, 1305.752],\n",
    "             'Pull': [-0.074, 0.891, 0.482] \n",
    "            }"
   ]
  },
  {
   "cell_type": "code",
   "execution_count": 13,
   "id": "c3de7195-4364-46a6-a5e3-f10bb8195574",
   "metadata": {},
   "outputs": [],
   "source": [
    "import csv\n",
    "# CSV file name\n",
    "\n",
    "def csv_to_dict(csv_file):\n",
    "    # Initialize an empty dictionary\n",
    "    data_dict = {}\n",
    "\n",
    "    # Read the CSV file and convert it into a dictionary\n",
    "    with open(csv_file, 'r') as file:\n",
    "        reader = csv.DictReader(file)\n",
    "        for row in reader:\n",
    "            for key, value in row.items():\n",
    "                if key not in data_dict:\n",
    "                    data_dict[key] = []\n",
    "                data_dict[key].append(value)\n",
    "    return data_dict\n",
    "\n",
    "\n"
   ]
  },
  {
   "cell_type": "code",
   "execution_count": 47,
   "id": "42caf5e2-a9c1-4f33-8bd5-f29938c204ab",
   "metadata": {},
   "outputs": [
    {
     "name": "stdout",
     "output_type": "stream",
     "text": [
      "681.2254082330801\n"
     ]
    }
   ],
   "source": [
    "csv_file = '/media/jykim/T7/saved_plots/Measurement/phi/Fit_results.csv'\n",
    "Fit_results_dict = csv_to_dict(csv_file)\n",
    "\n",
    "N_Fit = Fit_results_dict['Fit']\n",
    "Nsig = float(N_Fit[0])\n",
    "print(Nsig)\n",
    "Nsig_err = float(Fit_results_dict['Error'][0])\n",
    "\n",
    "csv_file = '/media/jykim/T7/saved_plots/Measurement/phi/eff_D0_D0bar.csv'\n",
    "eff_purity_multiplicity_dict = csv_to_dict(csv_file)\n",
    "\n",
    "D0_eff = float(eff_purity_multiplicity_dict['Eff'][0])\n",
    "D0_purity = float(eff_purity_multiplicity_dict['Purity'][0])\n",
    "D0_signal_eff = D0_eff * D0_purity\n",
    "\n",
    "\n",
    "D0bar_eff = float(eff_purity_multiplicity_dict['Eff'][1])\n",
    "D0bar_purity = float(eff_purity_multiplicity_dict['Purity'][1])\n",
    "D0bar_signal_eff = D0bar_eff * D0bar_purity\n"
   ]
  },
  {
   "cell_type": "code",
   "execution_count": 39,
   "id": "92042e52",
   "metadata": {},
   "outputs": [],
   "source": [
    "# csv_file = '/media/jykim/T7/saved_plots/Measurement/phi/ref_Fit_results.csv'\n",
    "# Fit_results_dict = csv_to_dict(csv_file)\n",
    "\n",
    "# N_Fit = Fit_results_dict['Fit']\n",
    "# Nsig = float(N_Fit[0])\n",
    "# print(Nsig)\n",
    "\n",
    "csv_file = '/media/jykim/T7/saved_plots/Measurement/phi/ref_eff_D0_D0bar.csv'\n",
    "eff_purity_multiplicity_dict = csv_to_dict(csv_file)\n",
    "\n",
    "D0_ref_eff = float(eff_purity_multiplicity_dict['Eff'][0])\n",
    "D0_ref_purity = float(eff_purity_multiplicity_dict['Purity'][0])\n",
    "D0_signal_ref_eff = D0_ref_eff * D0_ref_purity\n",
    "\n",
    "\n",
    "D0bar_ref_eff = float(eff_purity_multiplicity_dict['Eff'][1])\n",
    "D0bar_ref_purity = float(eff_purity_multiplicity_dict['Purity'][1])\n",
    "D0bar_signal_ref_eff = D0bar_ref_eff * D0bar_ref_purity"
   ]
  },
  {
   "cell_type": "code",
   "execution_count": 28,
   "id": "bcc1b641-d8dc-4376-add5-cb2bae82625e",
   "metadata": {},
   "outputs": [],
   "source": [
    "def cal_Br_Central_value(Nsig, Nref, eff_sig, eff_ref, Br_ref_PDG):\n",
    "    print(\"Input values:\")\n",
    "    print(\"Nsig:\", Nsig)\n",
    "    print(\"Nref:\", Nref)\n",
    "    print(\"eff_sig:\", eff_sig)\n",
    "    print(\"eff_ref:\", eff_ref)\n",
    "    print(\"Br_ref_PDG:\", Br_ref_PDG)\n",
    "    \n",
    "    N_real_sig = Nsig / eff_sig\n",
    "    N_real_ref = Nref / eff_ref\n",
    "    \n",
    "    Br = Br_ref_PDG * N_real_sig / N_real_ref\n",
    "    \n",
    "    return Br"
   ]
  },
  {
   "cell_type": "code",
   "execution_count": 35,
   "id": "68f80952-ddf0-41d3-b8dc-3d39cfbffc84",
   "metadata": {},
   "outputs": [
    {
     "name": "stdout",
     "output_type": "stream",
     "text": [
      "Input values:\n",
      "Nsig: 681.225\n",
      "Nref: 333616.0\n",
      "eff_sig: 0.07387\n",
      "eff_ref: 0.24497\n",
      "Br_ref_PDG: 0.00408\n"
     ]
    },
    {
     "data": {
      "text/plain": [
       "2.7627950734003363e-05"
      ]
     },
     "execution_count": 35,
     "metadata": {},
     "output_type": "execute_result"
    }
   ],
   "source": [
    "cal_Br_Central_value(681.225, 3.33616e+05,0.07387, 0.24497,4.08 /1000 )\n"
   ]
  },
  {
   "cell_type": "code",
   "execution_count": 45,
   "id": "81a174d6",
   "metadata": {},
   "outputs": [
    {
     "name": "stdout",
     "output_type": "stream",
     "text": [
      "Input values:\n",
      "Nsig: 681.2254082330801\n",
      "Nref: 334515\n",
      "eff_sig: 0.07386499999999999\n",
      "eff_ref: 0.244995\n",
      "Br_ref_PDG: 0.00408\n"
     ]
    },
    {
     "data": {
      "text/plain": [
       "2.7558395155650944e-05"
      ]
     },
     "execution_count": 45,
     "metadata": {},
     "output_type": "execute_result"
    }
   ],
   "source": [
    "\n",
    "cal_Br_Central_value(Nsig, 334515, (D0_signal_eff+D0bar_signal_eff)/2, (D0_signal_ref_eff+D0bar_signal_ref_eff)/2, 4.08 /1000 )\n",
    "\n",
    "# (2.7558395155650944e-05 - 2.80e-05)"
   ]
  },
  {
   "cell_type": "code",
   "execution_count": 43,
   "id": "151089f9-f5e1-4340-827d-1b6b17827e51",
   "metadata": {},
   "outputs": [
    {
     "data": {
      "text/plain": [
       "-3.720492659966362e-07"
      ]
     },
     "execution_count": 43,
     "metadata": {},
     "output_type": "execute_result"
    }
   ],
   "source": [
    "(2.7627950734003363e-05 - 2.80e-05)"
   ]
  },
  {
   "cell_type": "code",
   "execution_count": 53,
   "id": "3d2b8d31",
   "metadata": {},
   "outputs": [],
   "source": [
    "from math import sqrt\n",
    "def cal_Br_error_stat(  Nsig_err, Nsig, Nref_err, Nref, central_value):\n",
    "    \n",
    "    Variance =  (Nsig_err/Nsig)**2  \\\n",
    "                + (Nref_err/Nref)**2 \n",
    "        \n",
    "    \n",
    "    TOTAL = sqrt(Variance)*central_value\n",
    "    \n",
    "    return TOTAL"
   ]
  },
  {
   "cell_type": "code",
   "execution_count": 65,
   "id": "f1da7cef",
   "metadata": {},
   "outputs": [
    {
     "name": "stdout",
     "output_type": "stream",
     "text": [
      "Input values:\n",
      "Nsig: 681.2254082330801\n",
      "Nref: 334515\n",
      "eff_sig: 0.07386499999999999\n",
      "eff_ref: 0.244995\n",
      "Br_ref_PDG: 0.00408\n",
      "Central value = 2.7558395155650944e-05\n",
      "statistical uncertainty = 1.5219074742752008e-06\n",
      "pull = -0.2902\n"
     ]
    }
   ],
   "source": [
    "central_value = cal_Br_Central_value(Nsig, 334515, (D0_signal_eff+D0bar_signal_eff)/2, (D0_signal_ref_eff+D0bar_signal_ref_eff)/2, 4.08 /1000 )\n",
    "\n",
    "\n",
    "stat_unc = cal_Br_error_stat(  Nsig_err, Nsig, 675.376, 334515, central_value)\n",
    "\n",
    "print(f'Central value = {central_value}')\n",
    "print(f'statistical uncertainty = {stat_unc}')\n",
    "print(f'pull = {(central_value - 2.80e-05)/stat_unc:.4f}')\n",
    "\n"
   ]
  },
  {
   "cell_type": "code",
   "execution_count": 33,
   "id": "8f728863-850c-4ac8-bf6f-a4bbc34e0650",
   "metadata": {},
   "outputs": [],
   "source": [
    "def cal_Br_error( Br_ref_PDG_err,Br_ref_PDG, Nsig_err, Nsig, Nref_err, Nref, eff_sig_err, eff_sig, eff_ref_err, eff_ref, central_value):\n",
    "    \n",
    "    Variance = (Br_ref_PDG_err/Br_ref_PDG)**2 + (Nsig_err/Nsig)**2 + (eff_sig_err/eff_sig)**2 \\\n",
    "                + (Nref_err/Nref)**2 + (eff_ref_err/eff_ref)**2\n",
    "        \n",
    "    \n",
    "    TOTAL = sqrt(Variance)*central_value\n",
    "    \n",
    "    return TOTAL"
   ]
  },
  {
   "cell_type": "code",
   "execution_count": 34,
   "id": "8c304b20-7d83-4190-aeef-18feed61b56d",
   "metadata": {},
   "outputs": [
    {
     "data": {
      "text/plain": [
       "1.1736071632645529e-06"
      ]
     },
     "execution_count": 34,
     "metadata": {},
     "output_type": "execute_result"
    }
   ],
   "source": [
    "Br_ref_PDG_err= 0.06 / 10**(3)\n",
    "Br_ref_PDG= 4.06 / 10**(3)\n",
    "\n",
    "Nsig_err= 26.983\n",
    "Nsig= 681.225\n",
    "Nref_err= 602.563\n",
    "Nref= 333616\n",
    "eff_sig_err=0.00026\n",
    "eff_sig=0.07387\n",
    "eff_ref_err=0.00030\n",
    "eff_ref=0.24497\n",
    "\n",
    "\n",
    "central_value = cal_Br_Central_value(681.225, 3.33616e+05,0.07387, 0.24497,4.08 /1000 )\n",
    "\n",
    "\n",
    "cal_Br_error( Br_ref_PDG_err,Br_ref_PDG, Nsig_err, Nsig, Nref_err, Nref, eff_sig_err, eff_sig, eff_ref_err, eff_ref, central_value)\n",
    "\n",
    "\n"
   ]
  },
  {
   "cell_type": "code",
   "execution_count": 35,
   "id": "db21789c-20a6-49fc-b52e-a20c3c09f205",
   "metadata": {},
   "outputs": [
    {
     "data": {
      "text/plain": [
       "1.4142135623730951"
      ]
     },
     "execution_count": 35,
     "metadata": {},
     "output_type": "execute_result"
    }
   ],
   "source": [
    "sqrt(2)"
   ]
  },
  {
   "cell_type": "markdown",
   "id": "f0ffdfde-059d-4fec-a97c-e7ba05d1b46d",
   "metadata": {},
   "source": [
    "## "
   ]
  }
 ],
 "metadata": {
  "kernelspec": {
   "display_name": "Python 3 (ipykernel)",
   "language": "python",
   "name": "python3"
  },
  "language_info": {
   "codemirror_mode": {
    "name": "ipython",
    "version": 3
   },
   "file_extension": ".py",
   "mimetype": "text/x-python",
   "name": "python",
   "nbconvert_exporter": "python",
   "pygments_lexer": "ipython3",
   "version": "3.10.5"
  }
 },
 "nbformat": 4,
 "nbformat_minor": 5
}
