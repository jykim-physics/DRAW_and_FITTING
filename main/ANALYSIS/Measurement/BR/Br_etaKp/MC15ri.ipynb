{
 "cells": [
  {
   "cell_type": "code",
   "execution_count": 230,
   "id": "2ad6aa3e-4ce8-4f02-aca1-64add6871f2d",
   "metadata": {},
   "outputs": [
    {
     "name": "stdout",
     "output_type": "stream",
     "text": [
      "The autoreload extension is already loaded. To reload it, use:\n",
      "  %reload_ext autoreload\n"
     ]
    }
   ],
   "source": [
    "%matplotlib inline\n",
    "%load_ext autoreload\n",
    "%autoreload 2\n",
    "import seaborn as sns\n",
    "import matplotlib.pyplot as plt\n",
    "import numpy as np\n",
    "import pandas as pd\n",
    "import math\n",
    "from math import sqrt\n",
    "import ROOT\n",
    "import ctypes\n",
    "try:\n",
    "#     plt.style.use('belle2')\n",
    "    plt.style.use('belle2_serif')\n",
    "#     plt.style.use('belle2_modern')\n",
    "except OSError:\n",
    "    print(\"Please install belle2 matplotlib style\") \n",
    "px = 1/plt.rcParams['figure.dpi']\n",
    "\n",
    "from main.data_tools.extract_ntuples import get_pd, get_np\n",
    "from main.draw_tools.decorations import b2helix, watermark\n",
    "from main.draw_tools.stacking_with_error_bars import MC_stack_plot, MC_stack_plot_density\n",
    "\n",
    "from main.data_tools.error_bars import make_data_weight\n",
    "from main.data_tools.query_dataframes import cut_dfs_7types\n",
    "\n",
    "from matplotlib.ticker import ScalarFormatter\n"
   ]
  },
  {
   "cell_type": "code",
   "execution_count": 231,
   "id": "1e136fdf-e2ed-42d9-b849-d50d1b3976ea",
   "metadata": {},
   "outputs": [],
   "source": [
    "def cal_Br_Central_value(Nsig, Nref, eff_sig, eff_ref, Br_ref_dec):\n",
    "    print(\"Input values:\")\n",
    "    print(\"Nsig:\", Nsig)\n",
    "    print(\"Nref:\", Nref)\n",
    "    print(\"eff_sig:\", eff_sig)\n",
    "    print(\"eff_ref:\", eff_ref)\n",
    "    print(\"Br_ref_dec:\", Br_ref_dec)\n",
    "    \n",
    "    N_real_sig = Nsig / eff_sig\n",
    "    N_real_ref = Nref / eff_ref\n",
    "    \n",
    "    Br = Br_ref_dec * (N_real_sig / N_real_ref)\n",
    "    \n",
    "    return Br\n",
    "    \n",
    "from math import sqrt\n",
    "\n",
    "def cal_Br_error_stat(Nsig_err, Nsig, Nref_err, Nref, central_value):\n",
    "    Variance = (Nsig_err / Nsig)**2 + (Nref_err / Nref)**2\n",
    "    TOTAL = sqrt(Variance) * central_value\n",
    "    return TOTAL\n",
    "\n",
    "def cal_Br_error_with_eff(Nsig_err, Nsig, Nref_err, Nref, eff_sig_err, eff_sig, eff_ref_err, eff_ref, central_value):\n",
    "    Variance = (Nsig_err / Nsig)**2 + (eff_sig_err / eff_sig)**2 + (Nref_err / Nref)**2 + (eff_ref_err / eff_ref)**2\n",
    "    TOTAL = sqrt(Variance) * central_value\n",
    "    return TOTAL\n"
   ]
  },
  {
   "cell_type": "code",
   "execution_count": 232,
   "id": "b070a6f1-23f6-4ebd-bf6e-a97363bb0e13",
   "metadata": {},
   "outputs": [],
   "source": [
    "from math import sqrt\n",
    "\n",
    "# Function to calculate the central branching ratio value\n",
    "def calculate_br(Nsig, Nref, eff_sig, eff_ref, Br_ref_dec):\n",
    "    N_real_sig = Nsig / eff_sig\n",
    "    N_real_ref = Nref / eff_ref\n",
    "    Br = Br_ref_dec * (N_real_sig / N_real_ref)\n",
    "    return Br\n",
    "\n",
    "# Function to calculate statistical uncertainty\n",
    "def calculate_stat_uncertainty(Nsig_err, Nsig, Nref_err, Nref, central_value):\n",
    "    variance = (Nsig_err / Nsig)**2 + (Nref_err / Nref)**2\n",
    "    return sqrt(variance) * central_value\n",
    "\n",
    "# Function to print results in a formatted way\n",
    "def print_results(label, central_value, stat_unc, Br_sig_dec):\n",
    "    pull = (central_value - Br_sig_dec) / stat_unc\n",
    "    print(f'{label} Central value = {central_value:.4e}')\n",
    "    print(f'{label} Statistical uncertainty = {stat_unc:.4e}')\n",
    "    print(f'{label} Pull = {pull:.4f}')\n",
    "    print(f'{label} stas. unc./Central value = {stat_unc/central_value:.4e}\\n')\n",
    "\n",
    "# Error-weighted combination function\n",
    "def combine_error_weighted(x, y, x_err, y_err):\n",
    "    central_value = (x / x_err**2 + y / y_err**2) / (1 / x_err**2 + 1 / y_err**2)\n",
    "    error = 1 / sqrt(1 / x_err**2 + 1 / y_err**2)\n",
    "    return central_value, error"
   ]
  },
  {
   "cell_type": "code",
   "execution_count": 233,
   "id": "49ab4dc0-b190-4fe7-94d2-9ba970283524",
   "metadata": {},
   "outputs": [],
   "source": [
    "# signal_eff_error = math.sqrt(signal_eff * (1 - signal_eff) / N_gen)\n",
    "\n",
    "def calculate_sig_eff_err(eff, N_gen):\n",
    "\n",
    "    error = math.sqrt(eff * (1 - eff) / N_gen)\n",
    "    return error"
   ]
  },
  {
   "cell_type": "markdown",
   "id": "4c44819f-23a3-4a86-8266-bc57423b0641",
   "metadata": {},
   "source": [
    "# Br(D+ -> eta K+)"
   ]
  },
  {
   "cell_type": "code",
   "execution_count": 391,
   "id": "9af66155-e886-4166-beeb-45c2f6cd54de",
   "metadata": {},
   "outputs": [],
   "source": [
    "# Constants\n",
    "Br_ref_dec = 0.003770000\n",
    "Br_sig_dec = 0.000125000\n",
    "\n",
    "Br_sig_PDG = 0.0001250000\n",
    "Br_sig_PDG_err = 0.0000160000"
   ]
  },
  {
   "cell_type": "code",
   "execution_count": 392,
   "id": "5c0e1d9a-8e7c-4177-a811-a6a05ec0a029",
   "metadata": {},
   "outputs": [
    {
     "name": "stdout",
     "output_type": "stream",
     "text": [
      "signal eff error: 1.285658e-04, ref eff error: 1.444410e-04\n"
     ]
    }
   ],
   "source": [
    "\n",
    "eff_sig_cal = 0.03423\n",
    "# eff_sig_err_cal = calculate_sig_eff_err(0.04065, 2e+6)\n",
    "\n",
    "eff_sig_err_cal = calculate_sig_eff_err(eff_sig_cal, 2e+6)\n",
    "\n",
    "eff_sig_err_cal\n",
    "\n",
    "eff_ref_cal = 0.04363\n",
    "\n",
    "eff_ref_err_cal = calculate_sig_eff_err(eff_ref_cal, 2e+6)\n",
    "eff_ref_err_cal\n",
    "\n",
    "print(f\"signal eff error: {eff_sig_err_cal:.6e}, ref eff error: {eff_ref_err_cal:.6e}\")"
   ]
  },
  {
   "cell_type": "code",
   "execution_count": 393,
   "id": "a5c09bee-f7f7-403c-b500-4c002aebefec",
   "metadata": {},
   "outputs": [
    {
     "name": "stdout",
     "output_type": "stream",
     "text": [
      "Mode: eta -> gg Central value = 1.2356e-04\n",
      "Mode: eta -> gg Statistical uncertainty = 1.0126e-05\n",
      "Mode: eta -> gg Pull = -0.1425\n",
      "Mode: eta -> gg stas. unc./Central value = 8.1953e-02\n",
      "\n"
     ]
    }
   ],
   "source": [
    "# First calculation for mode: eta -> gg\n",
    "Nsig_err, Nsig, Nref_err, Nref = 32.717749, 402.184121, 155.219974, 15641.452941\n",
    "\n",
    "eff_sig_err, eff_sig, eff_ref_err, eff_ref = eff_sig_err_cal, eff_sig_cal, eff_ref_err_cal, eff_ref_cal\n",
    "\n",
    "central_value_1 = calculate_br(Nsig, Nref, eff_sig, eff_ref, Br_ref_dec)\n",
    "stat_unc_1 = calculate_stat_uncertainty(Nsig_err, Nsig, Nref_err, Nref, central_value_1)\n",
    "print_results(\"Mode: eta -> gg\", central_value_1, stat_unc_1, Br_sig_dec)\n"
   ]
  },
  {
   "cell_type": "code",
   "execution_count": 394,
   "id": "d28a65dd-35c1-4405-a08d-8093828da2e7",
   "metadata": {},
   "outputs": [
    {
     "data": {
      "text/plain": [
       "0.0001394405233423914"
      ]
     },
     "execution_count": 394,
     "metadata": {},
     "output_type": "execute_result"
    }
   ],
   "source": [
    "\n",
    "# eff_sig_cal = 0.03811\n",
    "# eff_sig_cal = 0.033\n",
    "eff_sig_cal = 0.03281\n",
    "\n",
    "# eff_sig_err_cal = calculate_sig_eff_err(0.03877, 2e+6)\n",
    "eff_sig_err_cal = calculate_sig_eff_err(eff_sig_cal, 2e+6)\n",
    "\n",
    "eff_ref_cal = 0.04053\n",
    "\n",
    "eff_ref_err_cal = calculate_sig_eff_err(eff_ref_cal, 2e+6)\n",
    "eff_ref_err_cal"
   ]
  },
  {
   "cell_type": "code",
   "execution_count": 395,
   "id": "f39a93b9-3c48-449a-9d59-76b2b740b93e",
   "metadata": {},
   "outputs": [
    {
     "name": "stdout",
     "output_type": "stream",
     "text": [
      "Mode: eta -> pipipi Central value = 1.1492e-04\n",
      "Mode: eta -> pipipi Statistical uncertainty = 1.3431e-05\n",
      "Mode: eta -> pipipi Pull = -0.7506\n",
      "Mode: eta -> pipipi stas. unc./Central value = 1.1687e-01\n",
      "\n"
     ]
    }
   ],
   "source": [
    "# Second calculation for mode: eta -> pipipi\n",
    "Nsig_err, Nsig, Nref_err, Nref = 24.527538, 211.0275429, 104.910166, 8551.817251\n",
    "eff_sig_err, eff_sig, eff_ref_err, eff_ref = eff_sig_err_cal, eff_sig_cal ,eff_ref_err_cal,eff_ref_cal\n",
    "\n",
    "central_value_2 = calculate_br(Nsig, Nref, eff_sig, eff_ref, Br_ref_dec)\n",
    "stat_unc_2 = calculate_stat_uncertainty(Nsig_err, Nsig, Nref_err, Nref, central_value_2)\n",
    "print_results(\"Mode: eta -> pipipi\", central_value_2, stat_unc_2, Br_sig_dec)"
   ]
  },
  {
   "cell_type": "code",
   "execution_count": 396,
   "id": "13c80b55-ef65-49d6-823e-d99898152dbe",
   "metadata": {},
   "outputs": [
    {
     "name": "stdout",
     "output_type": "stream",
     "text": [
      "Combined Central value = 1.2043e-04\n",
      "Combined Statistical uncertainty = 8.0855e-06\n",
      "Combined Pull = -0.5656\n",
      "Combined stas. unc./Central value = 6.7141e-02\n",
      "\n"
     ]
    }
   ],
   "source": [
    "# Combined error-weighted result\n",
    "combined_central_value, combined_error = combine_error_weighted(central_value_1, central_value_2, stat_unc_1, stat_unc_2)\n",
    "print_results(\"Combined\", combined_central_value, combined_error, Br_sig_dec)"
   ]
  },
  {
   "cell_type": "code",
   "execution_count": 397,
   "id": "3bf51066-ca00-45a3-ba03-a93fb3f4ef46",
   "metadata": {},
   "outputs": [
    {
     "data": {
      "image/png": "[encoded data removed]",
      "text/plain": [
       "<Figure size 800x550 with 1 Axes>"
      ]
     },
     "metadata": {},
     "output_type": "display_data"
    }
   ],
   "source": [
    "# Plotting\n",
    "plt.errorbar(1, central_value_1, yerr=stat_unc_1, fmt='o', capsize=4)\n",
    "plt.errorbar(2, central_value_2, yerr=stat_unc_2, fmt='o', capsize=4)\n",
    "plt.errorbar(3, combined_central_value, yerr=combined_error, fmt='o', capsize=4)\n",
    "plt.errorbar(4, Br_sig_dec, yerr=0, fmt='o', capsize=4, label='Input',color='gray')\n",
    "plt.errorbar(5, Br_sig_PDG, yerr=Br_sig_PDG_err, fmt='o', capsize=4,color='gray')\n",
    "plt.errorbar(6, 0.151/1000, yerr=0.025/1000, fmt='o', capsize=4,color='gray')\n",
    "plt.errorbar(7, 1.08/10000, yerr=0.17/10000, fmt='o', capsize=4,color='gray')\n",
    "\n",
    "# Customizing plot\n",
    "plt.xticks([1, 2, 3, 4, 5, 6, 7], [r'$D^+ \\to \\eta_{\\gamma\\gamma} K^+$', r'$D^+ \\to \\eta_{3\\pi} K^+$', 'Combined','Input','PDG','BESIII\\n(2018)','Belle\\n(2011)'], fontsize=12)\n",
    "# plt.xticks([1, 2, 3, 4], [r'$D^+ \\to \\eta_{\\gamma\\gamma} K^+$', r'$D^+ \\to \\eta_{3\\pi} K^+$', 'Combined','Input','PDG'], fontsize=12)\n",
    "\n",
    "plt.gca().yaxis.set_major_formatter(ScalarFormatter(useMathText=True))\n",
    "plt.ticklabel_format(axis=\"y\", style=\"sci\", scilimits=(0,0))\n",
    "\n",
    "plt.ylabel('Br')\n",
    "plt.grid(True, alpha=0.5)\n",
    "plt.title(\"Only stats. uncertainty\")\n",
    "# plt.legend()\n",
    "plt.tight_layout()\n",
    "plt.savefig(\"MC15ri_427_87_etaKp_gg_Br_fix_sigeff.png\")\n",
    "plt.show()"
   ]
  },
  {
   "cell_type": "code",
   "execution_count": null,
   "id": "1fb4e274-2eb8-4998-94c6-7a9ce063a512",
   "metadata": {},
   "outputs": [],
   "source": []
  },
  {
   "cell_type": "markdown",
   "id": "653dffef-6828-436d-8fac-62966459bb52",
   "metadata": {},
   "source": [
    "# Br(Ds+ -> eta K+)"
   ]
  },
  {
   "cell_type": "code",
   "execution_count": 408,
   "id": "4f6304b9-336f-44e2-be9c-678815183d8d",
   "metadata": {},
   "outputs": [],
   "source": [
    "# Constants\n",
    "Br_ref_dec = 0.017000000\n",
    "Br_sig_dec = 0.001600000\n",
    "\n",
    "Br_sig_PDG = 0.001730000\n",
    "Br_sig_PDG_err = 0.000080000\n"
   ]
  },
  {
   "cell_type": "code",
   "execution_count": 409,
   "id": "a2b1d3cf-fd18-457f-999d-d50121654635",
   "metadata": {},
   "outputs": [
    {
     "name": "stdout",
     "output_type": "stream",
     "text": [
      "signal eff error: 1.011309e-04, ref eff error: 1.148369e-04\n"
     ]
    }
   ],
   "source": [
    "\n",
    "# eff_sig_cal = 0.02003\n",
    "eff_sig_cal = 0.020358\n",
    "# eff_sig_err_cal = calculate_sig_eff_err(eff_sig_cal, 2e+6)\n",
    "eff_sig_err_cal = calculate_sig_eff_err(eff_sig_cal, 1950000)\n",
    "# eff_ref_cal = 0.02749\n",
    "eff_ref_cal = 0.02711\n",
    "eff_ref_err_cal = calculate_sig_eff_err(eff_ref_cal, 2e+6)\n",
    "print(f\"signal eff error: {eff_sig_err_cal:.6e}, ref eff error: {eff_ref_err_cal:.6e}\")"
   ]
  },
  {
   "cell_type": "code",
   "execution_count": 410,
   "id": "c76634ca-6810-4e80-83b0-400fbf9bf91e",
   "metadata": {},
   "outputs": [
    {
     "name": "stdout",
     "output_type": "stream",
     "text": [
      "Mode: eta -> gg Central value = 1.5895e-03\n",
      "Mode: eta -> gg Statistical uncertainty = 5.2874e-05\n",
      "Mode: eta -> gg Pull = -0.1986\n",
      "Mode: eta -> gg stas. unc./Central value = 3.3264e-02\n",
      "\n"
     ]
    }
   ],
   "source": [
    "# First calculation for mode: eta -> gg\n",
    "Nsig_err, Nsig, Nref_err, Nref = 54.0174866,1663.502482, 170.963330, 23692.229759\n",
    "eff_sig_err, eff_sig, eff_ref_err, eff_ref = eff_sig_err_cal, eff_sig_cal, eff_ref_err_cal, eff_ref_cal\n",
    "\n",
    "central_value_1 = calculate_br(Nsig, Nref, eff_sig, eff_ref, Br_ref_dec)\n",
    "stat_unc_1 = calculate_stat_uncertainty(Nsig_err, Nsig, Nref_err, Nref, central_value_1)\n",
    "print_results(\"Mode: eta -> gg\", central_value_1, stat_unc_1, Br_sig_dec)"
   ]
  },
  {
   "cell_type": "code",
   "execution_count": 411,
   "id": "0f88a645-40da-44c2-b9b1-81162e1190fa",
   "metadata": {},
   "outputs": [
    {
     "data": {
      "text/plain": [
       "0.00011225137660625815"
      ]
     },
     "execution_count": 411,
     "metadata": {},
     "output_type": "execute_result"
    }
   ],
   "source": [
    "eff_sig_cal  = 0.02015\n",
    "eff_sig_err_cal = calculate_sig_eff_err(eff_sig_cal, 2e+6)\n",
    "eff_sig_err_cal\n",
    "\n",
    "\n",
    "eff_ref_cal = 0.02587\n",
    "# eff_ref_err_cal = calculate_sig_eff_err(0.02653, 2e+6)\n",
    "eff_ref_err_cal = calculate_sig_eff_err(eff_ref_cal, 2e+6)\n",
    "\n",
    "eff_ref_err_cal"
   ]
  },
  {
   "cell_type": "code",
   "execution_count": 412,
   "id": "45be4862-a135-4ba2-8fea-3680e713c1a9",
   "metadata": {},
   "outputs": [
    {
     "name": "stdout",
     "output_type": "stream",
     "text": [
      "Mode: eta -> pipipi Central value = 1.6062e-03\n",
      "Mode: eta -> pipipi Statistical uncertainty = 6.4184e-05\n",
      "Mode: eta -> pipipi Pull = 0.0964\n",
      "Mode: eta -> pipipi stas. unc./Central value = 3.9961e-02\n",
      "\n"
     ]
    }
   ],
   "source": [
    "# Second calculation for mode: eta -> pipipi\n",
    "Nsig_err, Nsig, Nref_err, Nref = 36.849378,948.123633,119.704817 ,12883.643142\n",
    "eff_sig_err, eff_sig, eff_ref_err, eff_ref = eff_sig_err_cal, eff_sig_cal , eff_ref_err_cal, eff_ref_cal\n",
    "\n",
    "central_value_2 = calculate_br(Nsig, Nref, eff_sig, eff_ref, Br_ref_dec)\n",
    "stat_unc_2 = calculate_stat_uncertainty(Nsig_err, Nsig, Nref_err, Nref, central_value_2)\n",
    "print_results(\"Mode: eta -> pipipi\", central_value_2, stat_unc_2, Br_sig_dec)"
   ]
  },
  {
   "cell_type": "code",
   "execution_count": 413,
   "id": "bb3714fa-f6bf-47e6-90f7-0bf1147b3f9b",
   "metadata": {},
   "outputs": [
    {
     "name": "stdout",
     "output_type": "stream",
     "text": [
      "Combined Central value = 1.5962e-03\n",
      "Combined Statistical uncertainty = 4.0810e-05\n",
      "Combined Pull = -0.0920\n",
      "Combined stas. unc./Central value = 2.5566e-02\n",
      "\n"
     ]
    }
   ],
   "source": [
    "# Combined error-weighted result\n",
    "combined_central_value, combined_error = combine_error_weighted(central_value_1, central_value_2, stat_unc_1, stat_unc_2)\n",
    "print_results(\"Combined\", combined_central_value, combined_error, Br_sig_dec)"
   ]
  },
  {
   "cell_type": "code",
   "execution_count": 414,
   "id": "6c109c64-1d44-4d39-ae09-8ce03ce90eeb",
   "metadata": {},
   "outputs": [
    {
     "data": {
      "image/png": "[encoded data removed]",
      "text/plain": [
       "<Figure size 800x550 with 1 Axes>"
      ]
     },
     "metadata": {},
     "output_type": "display_data"
    }
   ],
   "source": [
    "# Plotting\n",
    "plt.errorbar(1, central_value_1, yerr=stat_unc_1, fmt='o', capsize=4)\n",
    "plt.errorbar(2, central_value_2, yerr=stat_unc_2, fmt='o', capsize=4)\n",
    "plt.errorbar(3, combined_central_value, yerr=combined_error, fmt='o', capsize=4)\n",
    "plt.errorbar(4, Br_sig_dec, yerr=0, fmt='o', capsize=4, label='Input',color='gray')\n",
    "plt.errorbar(5, Br_sig_PDG, yerr=Br_sig_PDG_err, fmt='o', capsize=4,color='gray')\n",
    "plt.errorbar(6, 1.75/1000, yerr=0.05/1000, fmt='o', capsize=4,color='gray')\n",
    "plt.errorbar(7, 1.62/1000, yerr=0.1/1000, fmt='o', capsize=4,color='gray')\n",
    "\n",
    "# Customizing plot\n",
    "plt.xticks([1, 2, 3, 4, 5, 6, 7], [r'$D_s^+ \\to \\eta_{\\gamma\\gamma} K^+$', r'$D_s^+ \\to \\eta_{3\\pi} K^+$', 'Combined','Input','PDG','Belle\\n(2021)','BESIII\\n(2020)'], fontsize=12)\n",
    "# plt.xticks([1, 2, 3, 4], [r'$D^+ \\to \\eta_{\\gamma\\gamma} K^+$', r'$D^+ \\to \\eta_{3\\pi} K^+$', 'Combined','Input','PDG'], fontsize=12)\n",
    "\n",
    "plt.gca().yaxis.set_major_formatter(ScalarFormatter(useMathText=True))\n",
    "plt.ticklabel_format(axis=\"y\", style=\"sci\", scilimits=(0,0))\n",
    "\n",
    "plt.ylabel('Br')\n",
    "plt.grid(True, alpha=0.5)\n",
    "plt.title(\"Only stats. uncertainty\")\n",
    "\n",
    "# plt.legend()\n",
    "plt.tight_layout()\n",
    "plt.savefig(\"MC15ri_427_87_etaKp_gg_Ds_Br.png\")\n",
    "plt.show()"
   ]
  },
  {
   "cell_type": "code",
   "execution_count": null,
   "id": "7b8dcc47-bf0b-4c7d-87ca-4461780684f6",
   "metadata": {},
   "outputs": [],
   "source": []
  },
  {
   "cell_type": "code",
   "execution_count": null,
   "id": "88b7abc6-914f-4d68-8997-be81a7d72e98",
   "metadata": {},
   "outputs": [],
   "source": []
  }
 ],
 "metadata": {
  "kernelspec": {
   "display_name": "Python 3 (ipykernel)",
   "language": "python",
   "name": "python3"
  },
  "language_info": {
   "codemirror_mode": {
    "name": "ipython",
    "version": 3
   },
   "file_extension": ".py",
   "mimetype": "text/x-python",
   "name": "python",
   "nbconvert_exporter": "python",
   "pygments_lexer": "ipython3",
   "version": "3.10.5"
  }
 },
 "nbformat": 4,
 "nbformat_minor": 5
}
