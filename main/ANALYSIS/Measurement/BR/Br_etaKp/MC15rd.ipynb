{
 "cells": [
  {
   "cell_type": "code",
   "execution_count": 43,
   "id": "ea3ee144-1e69-4e31-8c26-f1cf1665172d",
   "metadata": {},
   "outputs": [
    {
     "name": "stdout",
     "output_type": "stream",
     "text": [
      "The autoreload extension is already loaded. To reload it, use:\n",
      "  %reload_ext autoreload\n"
     ]
    }
   ],
   "source": [
    "%matplotlib inline\n",
    "%load_ext autoreload\n",
    "%autoreload 2\n",
    "import seaborn as sns\n",
    "import matplotlib.pyplot as plt\n",
    "import numpy as np\n",
    "import pandas as pd\n",
    "import math\n",
    "from math import sqrt\n",
    "import ROOT\n",
    "import ctypes\n",
    "try:\n",
    "#     plt.style.use('belle2')\n",
    "    plt.style.use('belle2_serif')\n",
    "#     plt.style.use('belle2_modern')\n",
    "except OSError:\n",
    "    print(\"Please install belle2 matplotlib style\") \n",
    "px = 1/plt.rcParams['figure.dpi']\n",
    "\n",
    "from main.data_tools.extract_ntuples import get_pd, get_np\n",
    "from main.draw_tools.decorations import b2helix, watermark\n",
    "from main.draw_tools.stacking_with_error_bars import MC_stack_plot, MC_stack_plot_density\n",
    "\n",
    "from main.data_tools.error_bars import make_data_weight\n",
    "from main.data_tools.query_dataframes import cut_dfs_7types\n",
    "\n",
    "from matplotlib.ticker import ScalarFormatter\n"
   ]
  },
  {
   "cell_type": "code",
   "execution_count": 44,
   "id": "8ec58024-07f2-4fe5-9e82-3574c5305e8c",
   "metadata": {},
   "outputs": [],
   "source": [
    "def cal_Br_Central_value(Nsig, Nref, eff_sig, eff_ref, Br_ref_dec):\n",
    "    print(\"Input values:\")\n",
    "    print(\"Nsig:\", Nsig)\n",
    "    print(\"Nref:\", Nref)\n",
    "    print(\"eff_sig:\", eff_sig)\n",
    "    print(\"eff_ref:\", eff_ref)\n",
    "    print(\"Br_ref_dec:\", Br_ref_dec)\n",
    "    \n",
    "    N_real_sig = Nsig / eff_sig\n",
    "    N_real_ref = Nref / eff_ref\n",
    "    \n",
    "    Br = Br_ref_dec * (N_real_sig / N_real_ref)\n",
    "    \n",
    "    return Br\n",
    "    \n",
    "from math import sqrt\n",
    "\n",
    "def cal_Br_error_stat(Nsig_err, Nsig, Nref_err, Nref, central_value):\n",
    "    Variance = (Nsig_err / Nsig)**2 + (Nref_err / Nref)**2\n",
    "    TOTAL = sqrt(Variance) * central_value\n",
    "    return TOTAL\n",
    "\n",
    "def cal_Br_error_with_eff(Nsig_err, Nsig, Nref_err, Nref, eff_sig_err, eff_sig, eff_ref_err, eff_ref, central_value):\n",
    "    Variance = (Nsig_err / Nsig)**2 + (eff_sig_err / eff_sig)**2 + (Nref_err / Nref)**2 + (eff_ref_err / eff_ref)**2\n",
    "    TOTAL = sqrt(Variance) * central_value\n",
    "    return TOTAL\n"
   ]
  },
  {
   "cell_type": "code",
   "execution_count": 45,
   "id": "2d1bc81a-71a7-498a-b5c4-432c6ebce9f6",
   "metadata": {},
   "outputs": [],
   "source": [
    "from math import sqrt\n",
    "\n",
    "# Function to calculate the central branching ratio value\n",
    "def calculate_br(Nsig, Nref, eff_sig, eff_ref, Br_ref_dec):\n",
    "    N_real_sig = Nsig / eff_sig\n",
    "    N_real_ref = Nref / eff_ref\n",
    "    Br = Br_ref_dec * (N_real_sig / N_real_ref)\n",
    "    return Br\n",
    "\n",
    "# Function to calculate statistical uncertainty\n",
    "def calculate_stat_uncertainty(Nsig_err, Nsig, Nref_err, Nref, central_value):\n",
    "    variance = (Nsig_err / Nsig)**2 + (Nref_err / Nref)**2\n",
    "    return sqrt(variance) * central_value\n",
    "\n",
    "# Function to print results in a formatted way\n",
    "def print_results(label, central_value, stat_unc, Br_sig_dec):\n",
    "    pull = (central_value - Br_sig_dec) / stat_unc\n",
    "    print(f'{label} Central value = {central_value:.4e}')\n",
    "    print(f'{label} Statistical uncertainty = {stat_unc:.4e}')\n",
    "    print(f'{label} Pull = {pull:.4f}')\n",
    "    print(f'{label} stas. unc./Central value = {stat_unc/central_value:.4e}\\n')\n",
    "\n",
    "# Error-weighted combination function\n",
    "def combine_error_weighted(x, y, x_err, y_err):\n",
    "    central_value = (x / x_err**2 + y / y_err**2) / (1 / x_err**2 + 1 / y_err**2)\n",
    "    error = 1 / sqrt(1 / x_err**2 + 1 / y_err**2)\n",
    "    return central_value, error"
   ]
  },
  {
   "cell_type": "code",
   "execution_count": 46,
   "id": "d8460ac4-6102-401d-8938-324eb4fd55bc",
   "metadata": {},
   "outputs": [],
   "source": [
    "# signal_eff_error = math.sqrt(signal_eff * (1 - signal_eff) / N_gen)\n",
    "\n",
    "def calculate_sig_eff_err(eff, N_gen):\n",
    "\n",
    "    error = math.sqrt(eff * (1 - eff) / N_gen)\n",
    "    return error"
   ]
  },
  {
   "cell_type": "markdown",
   "id": "3e503cf4-41d5-4b8b-b1cb-ab82749f7879",
   "metadata": {},
   "source": [
    "# Br(D+ -> eta K+)"
   ]
  },
  {
   "cell_type": "code",
   "execution_count": 47,
   "id": "c8e60671-32df-41ce-a4c7-ca3b1d34aaef",
   "metadata": {},
   "outputs": [],
   "source": [
    "# Constants\n",
    "Br_ref_dec = 0.003770000\n",
    "Br_sig_dec = 0.000125000\n",
    "\n",
    "Br_sig_PDG = 0.0001250000\n",
    "Br_sig_PDG_err = 0.0000160000"
   ]
  },
  {
   "cell_type": "code",
   "execution_count": 48,
   "id": "b06f49a8-86fe-4899-ae01-347b51da94a9",
   "metadata": {},
   "outputs": [
    {
     "name": "stdout",
     "output_type": "stream",
     "text": [
      "signal eff error: 7.586729e-05, ref eff error: 9.175799e-05\n"
     ]
    }
   ],
   "source": [
    "\n",
    "eff_sig_cal = 0.035818\n",
    "# eff_sig_err_cal = calculate_sig_eff_err(0.04065, 2e+6)\n",
    "\n",
    "eff_sig_err_cal = calculate_sig_eff_err(eff_sig_cal, 6e+6)\n",
    "\n",
    "eff_sig_err_cal\n",
    "\n",
    "eff_ref_cal = 0.053365\n",
    "\n",
    "eff_ref_err_cal = calculate_sig_eff_err(eff_ref_cal, 6e+6)\n",
    "eff_ref_err_cal\n",
    "\n",
    "print(f\"signal eff error: {eff_sig_err_cal:.6e}, ref eff error: {eff_ref_err_cal:.6e}\")"
   ]
  },
  {
   "cell_type": "code",
   "execution_count": 49,
   "id": "c87da8eb-0b1c-4bb9-8b64-7823c9b09267",
   "metadata": {},
   "outputs": [
    {
     "name": "stdout",
     "output_type": "stream",
     "text": [
      "Mode: eta -> gg Central value = 1.2681e-04\n",
      "Mode: eta -> gg Statistical uncertainty = 1.0429e-05\n",
      "Mode: eta -> gg Pull = 0.1734\n",
      "Mode: eta -> gg stas. unc./Central value = 8.2241e-02\n",
      "\n"
     ]
    }
   ],
   "source": [
    "# First calculation for mode: eta -> gg\n",
    "Nsig_err, Nsig, Nref_err, Nref = 35.21465445, 431.129888013, 183.09397588339016, 19096.708690420874\n",
    "\n",
    "eff_sig_err, eff_sig, eff_ref_err, eff_ref = eff_sig_err_cal, eff_sig_cal, eff_ref_err_cal, eff_ref_cal\n",
    "\n",
    "central_value_1 = calculate_br(Nsig, Nref, eff_sig, eff_ref, Br_ref_dec)\n",
    "stat_unc_1 = calculate_stat_uncertainty(Nsig_err, Nsig, Nref_err, Nref, central_value_1)\n",
    "print_results(\"Mode: eta -> gg\", central_value_1, stat_unc_1, Br_sig_dec)\n"
   ]
  },
  {
   "cell_type": "code",
   "execution_count": 50,
   "id": "de0f5013-6296-43a9-abde-9922a6f655d6",
   "metadata": {},
   "outputs": [
    {
     "name": "stdout",
     "output_type": "stream",
     "text": [
      "signal eff error: 6.542572e-05, ref eff error: 7.834788e-05\n"
     ]
    }
   ],
   "source": [
    "\n",
    "# eff_sig_cal = 0.03811\n",
    "# eff_sig_cal = 0.033\n",
    "eff_sig_cal = 0.026379\n",
    "\n",
    "# eff_sig_err_cal = calculate_sig_eff_err(0.03877, 2e+6)\n",
    "eff_sig_err_cal = calculate_sig_eff_err(eff_sig_cal, 6e+6)\n",
    "\n",
    "eff_ref_cal = 0.038297\n",
    "\n",
    "eff_ref_err_cal = calculate_sig_eff_err(eff_ref_cal, 6e+6)\n",
    "\n",
    "print(f\"signal eff error: {eff_sig_err_cal:.6e}, ref eff error: {eff_ref_err_cal:.6e}\")"
   ]
  },
  {
   "cell_type": "code",
   "execution_count": 51,
   "id": "f8b57873-0541-49b5-85c8-4d188ac10c12",
   "metadata": {},
   "outputs": [
    {
     "name": "stdout",
     "output_type": "stream",
     "text": [
      "Mode: eta -> pipipi Central value = 1.3119e-04\n",
      "Mode: eta -> pipipi Statistical uncertainty = 1.3161e-05\n",
      "Mode: eta -> pipipi Pull = 0.4700\n",
      "Mode: eta -> pipipi stas. unc./Central value = 1.0033e-01\n",
      "\n"
     ]
    }
   ],
   "source": [
    "# Second calculation for mode: eta -> pipipi\n",
    "Nsig_err, Nsig, Nref_err, Nref = 18.3065450243, 183.968662081, 98.01854442095419, 7675.473504052207\n",
    "eff_sig_err, eff_sig, eff_ref_err, eff_ref = eff_sig_err_cal, eff_sig_cal ,eff_ref_err_cal,eff_ref_cal\n",
    "\n",
    "central_value_2 = calculate_br(Nsig, Nref, eff_sig, eff_ref, Br_ref_dec)\n",
    "stat_unc_2 = calculate_stat_uncertainty(Nsig_err, Nsig, Nref_err, Nref, central_value_2)\n",
    "print_results(\"Mode: eta -> pipipi\", central_value_2, stat_unc_2, Br_sig_dec)"
   ]
  },
  {
   "cell_type": "code",
   "execution_count": 52,
   "id": "9e08c3dd-ee0b-4e4f-9791-56524407af8e",
   "metadata": {},
   "outputs": [
    {
     "name": "stdout",
     "output_type": "stream",
     "text": [
      "Combined Central value = 1.2850e-04\n",
      "Combined Statistical uncertainty = 8.1738e-06\n",
      "Combined Pull = 0.4278\n",
      "Combined stas. unc./Central value = 6.3611e-02\n",
      "\n"
     ]
    }
   ],
   "source": [
    "# Combined error-weighted result\n",
    "combined_central_value, combined_error = combine_error_weighted(central_value_1, central_value_2, stat_unc_1, stat_unc_2)\n",
    "print_results(\"Combined\", combined_central_value, combined_error, Br_sig_dec)"
   ]
  },
  {
   "cell_type": "code",
   "execution_count": 53,
   "id": "3551c995-00ab-445e-bde3-0b6f34c0c0c0",
   "metadata": {},
   "outputs": [
    {
     "data": {
      "image/png": "[encoded data removed]",
      "text/plain": [
       "<Figure size 800x550 with 1 Axes>"
      ]
     },
     "metadata": {},
     "output_type": "display_data"
    }
   ],
   "source": [
    "# Plotting\n",
    "plt.errorbar(1, central_value_1, yerr=stat_unc_1, fmt='o', capsize=4)\n",
    "plt.errorbar(2, central_value_2, yerr=stat_unc_2, fmt='o', capsize=4)\n",
    "plt.errorbar(3, combined_central_value, yerr=combined_error, fmt='o', capsize=4)\n",
    "plt.errorbar(4, Br_sig_dec, yerr=0, fmt='o', capsize=4, label='Input',color='gray')\n",
    "plt.errorbar(5, Br_sig_PDG, yerr=Br_sig_PDG_err, fmt='o', capsize=4,color='gray')\n",
    "plt.errorbar(6, 0.151/1000, yerr=0.025/1000, fmt='o', capsize=4,color='gray')\n",
    "plt.errorbar(7, 1.08/10000, yerr=0.17/10000, fmt='o', capsize=4,color='gray')\n",
    "\n",
    "# Customizing plot\n",
    "plt.xticks([1, 2, 3, 4, 5, 6, 7], [r'$D^+ \\to \\eta_{\\gamma\\gamma} K^+$', r'$D^+ \\to \\eta_{3\\pi} K^+$', 'Combined','Input','PDG','BESIII\\n(2018)','Belle\\n(2011)'], fontsize=11)\n",
    "# plt.xticks([1, 2, 3, 4], [r'$D^+ \\to \\eta_{\\gamma\\gamma} K^+$', r'$D^+ \\to \\eta_{3\\pi} K^+$', 'Combined','Input','PDG'], fontsize=12)\n",
    "\n",
    "plt.gca().yaxis.set_major_formatter(ScalarFormatter(useMathText=True))\n",
    "plt.ticklabel_format(axis=\"y\", style=\"sci\", scilimits=(0,0))\n",
    "\n",
    "plt.ylabel('Br')\n",
    "plt.grid(True, alpha=0.5)\n",
    "plt.title(\"Only stats. uncertainty\")\n",
    "# plt.legend()\n",
    "plt.tight_layout()\n",
    "plt.savefig(\"MC15rd_427_87_etaKp_gg_Br_fix_sigeff.png\")\n",
    "plt.show()"
   ]
  },
  {
   "cell_type": "markdown",
   "id": "4211f550-5c2e-43ed-9b85-0d8f7efcb980",
   "metadata": {},
   "source": [
    "# Br(Ds+ -> eta K+)"
   ]
  },
  {
   "cell_type": "code",
   "execution_count": 54,
   "id": "259f5785-b263-4d8b-9b1a-0e1535b21ed6",
   "metadata": {},
   "outputs": [],
   "source": [
    "# Constants\n",
    "Br_ref_dec = 0.017000000\n",
    "Br_sig_dec = 0.001600000\n",
    "\n",
    "Br_sig_PDG = 0.001730000\n",
    "Br_sig_PDG_err = 0.000080000\n"
   ]
  },
  {
   "cell_type": "code",
   "execution_count": 55,
   "id": "75bd94a6-11d0-45ec-a2c6-312cd6b20f58",
   "metadata": {},
   "outputs": [
    {
     "name": "stdout",
     "output_type": "stream",
     "text": [
      "signal eff error: 6.060221e-05, ref eff error: 7.467977e-05\n"
     ]
    }
   ],
   "source": [
    "\n",
    "eff_sig_cal =  0.022544\n",
    "eff_sig_err_cal = calculate_sig_eff_err(eff_sig_cal,  6e+6)\n",
    "\n",
    "eff_ref_cal = 0.034664\n",
    "eff_ref_err_cal = calculate_sig_eff_err(eff_ref_cal, 6e+6)\n",
    "print(f\"signal eff error: {eff_sig_err_cal:.6e}, ref eff error: {eff_ref_err_cal:.6e}\")"
   ]
  },
  {
   "cell_type": "code",
   "execution_count": 56,
   "id": "73a08afc-6c22-4c1b-bee1-0c8ece8a3e29",
   "metadata": {},
   "outputs": [
    {
     "name": "stdout",
     "output_type": "stream",
     "text": [
      "Mode: eta -> gg Central value = 1.6025e-03\n",
      "Mode: eta -> gg Statistical uncertainty = 4.8079e-05\n",
      "Mode: eta -> gg Pull = 0.0513\n",
      "Mode: eta -> gg stas. unc./Central value = 3.0003e-02\n",
      "\n"
     ]
    }
   ],
   "source": [
    "# First calculation for mode: eta -> gg\n",
    "Nsig_err, Nsig, Nref_err, Nref = 53.99892604272452,  1842.395223699097,192.81220129161738 , 30053.14684527584\n",
    "eff_sig_err, eff_sig, eff_ref_err, eff_ref = eff_sig_err_cal, eff_sig_cal, eff_ref_err_cal, eff_ref_cal\n",
    "\n",
    "central_value_1 = calculate_br(Nsig, Nref, eff_sig, eff_ref, Br_ref_dec)\n",
    "stat_unc_1 = calculate_stat_uncertainty(Nsig_err, Nsig, Nref_err, Nref, central_value_1)\n",
    "print_results(\"Mode: eta -> gg\", central_value_1, stat_unc_1, Br_sig_dec)"
   ]
  },
  {
   "cell_type": "code",
   "execution_count": 57,
   "id": "a888d2e5-e479-416b-8f19-2027be773d47",
   "metadata": {},
   "outputs": [
    {
     "name": "stdout",
     "output_type": "stream",
     "text": [
      "signal eff error: 4.872888e-05, ref eff error: 5.989785e-05\n"
     ]
    }
   ],
   "source": [
    "eff_sig_cal  =   0.014456\n",
    "eff_sig_err_cal = calculate_sig_eff_err(eff_sig_cal, 6e+6)\n",
    "eff_sig_err_cal\n",
    "\n",
    "\n",
    "eff_ref_cal = 0.022011\n",
    "# eff_ref_err_cal = calculate_sig_eff_err(0.02653, 2e+6)\n",
    "eff_ref_err_cal = calculate_sig_eff_err(eff_ref_cal, 6e+6)\n",
    "\n",
    "print(f\"signal eff error: {eff_sig_err_cal:.6e}, ref eff error: {eff_ref_err_cal:.6e}\")"
   ]
  },
  {
   "cell_type": "code",
   "execution_count": 58,
   "id": "218aeadf-6636-4d8e-97ce-586527eb809e",
   "metadata": {},
   "outputs": [
    {
     "name": "stdout",
     "output_type": "stream",
     "text": [
      "Mode: eta -> pipipi Central value = 1.6405e-03\n",
      "Mode: eta -> pipipi Statistical uncertainty = 7.2779e-05\n",
      "Mode: eta -> pipipi Pull = 0.5561\n",
      "Mode: eta -> pipipi stas. unc./Central value = 4.4365e-02\n",
      "\n"
     ]
    }
   ],
   "source": [
    "# Second calculation for mode: eta -> pipipi\n",
    "Nsig_err, Nsig, Nref_err, Nref = 29.55044819291726, 684.0903521939094, 109.17031712948847, 10794.088365817926\n",
    "eff_sig_err, eff_sig, eff_ref_err, eff_ref = eff_sig_err_cal, eff_sig_cal , eff_ref_err_cal, eff_ref_cal\n",
    "\n",
    "central_value_2 = calculate_br(Nsig, Nref, eff_sig, eff_ref, Br_ref_dec)\n",
    "stat_unc_2 = calculate_stat_uncertainty(Nsig_err, Nsig, Nref_err, Nref, central_value_2)\n",
    "print_results(\"Mode: eta -> pipipi\", central_value_2, stat_unc_2, Br_sig_dec)"
   ]
  },
  {
   "cell_type": "code",
   "execution_count": 59,
   "id": "669a5a41-c20d-4ed9-b394-bdf091d0a04b",
   "metadata": {},
   "outputs": [
    {
     "name": "stdout",
     "output_type": "stream",
     "text": [
      "Combined Central value = 1.6140e-03\n",
      "Combined Statistical uncertainty = 4.0116e-05\n",
      "Combined Pull = 0.3493\n",
      "Combined stas. unc./Central value = 2.4855e-02\n",
      "\n"
     ]
    }
   ],
   "source": [
    "# Combined error-weighted result\n",
    "combined_central_value, combined_error = combine_error_weighted(central_value_1, central_value_2, stat_unc_1, stat_unc_2)\n",
    "print_results(\"Combined\", combined_central_value, combined_error, Br_sig_dec)"
   ]
  },
  {
   "cell_type": "code",
   "execution_count": 60,
   "id": "29705c1f-01a2-43ae-becd-85d4dbf0f39f",
   "metadata": {},
   "outputs": [
    {
     "data": {
      "image/png": "[encoded data removed]",
      "text/plain": [
       "<Figure size 800x550 with 1 Axes>"
      ]
     },
     "metadata": {},
     "output_type": "display_data"
    }
   ],
   "source": [
    "# Plotting\n",
    "plt.errorbar(1, central_value_1, yerr=stat_unc_1, fmt='o', capsize=4)\n",
    "plt.errorbar(2, central_value_2, yerr=stat_unc_2, fmt='o', capsize=4)\n",
    "plt.errorbar(3, combined_central_value, yerr=combined_error, fmt='o', capsize=4)\n",
    "plt.errorbar(4, Br_sig_dec, yerr=0, fmt='o', capsize=4, label='Input',color='gray')\n",
    "plt.errorbar(5, Br_sig_PDG, yerr=Br_sig_PDG_err, fmt='o', capsize=4,color='gray')\n",
    "plt.errorbar(6, 1.75/1000, yerr=0.05/1000, fmt='o', capsize=4,color='gray')\n",
    "plt.errorbar(7, 1.62/1000, yerr=0.1/1000, fmt='o', capsize=4,color='gray')\n",
    "\n",
    "# Customizing plot\n",
    "plt.xticks([1, 2, 3, 4, 5, 6, 7], [r'$D_s^+ \\to \\eta_{\\gamma\\gamma} K^+$', r'$D_s^+ \\to \\eta_{3\\pi} K^+$', 'Combined','Input','PDG','Belle\\n(2021)','BESIII\\n(2020)'], fontsize=12)\n",
    "# plt.xticks([1, 2, 3, 4], [r'$D^+ \\to \\eta_{\\gamma\\gamma} K^+$', r'$D^+ \\to \\eta_{3\\pi} K^+$', 'Combined','Input','PDG'], fontsize=12)\n",
    "\n",
    "plt.gca().yaxis.set_major_formatter(ScalarFormatter(useMathText=True))\n",
    "plt.ticklabel_format(axis=\"y\", style=\"sci\", scilimits=(0,0))\n",
    "\n",
    "plt.ylabel('Br')\n",
    "plt.grid(True, alpha=0.5)\n",
    "plt.title(\"Only stats. uncertainty\")\n",
    "\n",
    "# plt.legend()\n",
    "plt.tight_layout()\n",
    "plt.savefig(\"MC15rd_427_87_etaKp_gg_Ds_Br.png\")\n",
    "plt.show()"
   ]
  },
  {
   "cell_type": "code",
   "execution_count": null,
   "id": "7faff459-b3fe-4cd1-8794-b462f219bc8c",
   "metadata": {},
   "outputs": [],
   "source": []
  }
 ],
 "metadata": {
  "kernelspec": {
   "display_name": "Python 3 (ipykernel)",
   "language": "python",
   "name": "python3"
  },
  "language_info": {
   "codemirror_mode": {
    "name": "ipython",
    "version": 3
   },
   "file_extension": ".py",
   "mimetype": "text/x-python",
   "name": "python",
   "nbconvert_exporter": "python",
   "pygments_lexer": "ipython3",
   "version": "3.10.5"
  }
 },
 "nbformat": 4,
 "nbformat_minor": 5
}
