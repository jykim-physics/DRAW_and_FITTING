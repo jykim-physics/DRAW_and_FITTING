{
 "cells": [
  {
   "cell_type": "code",
   "execution_count": 1,
   "id": "ae85be28-6827-4017-8773-e8dd573f34b9",
   "metadata": {},
   "outputs": [
    {
     "name": "stdout",
     "output_type": "stream",
     "text": [
      "Welcome to JupyROOT 6.26/04\n"
     ]
    }
   ],
   "source": [
    "%matplotlib inline\n",
    "%load_ext autoreload\n",
    "%autoreload 2\n",
    "import seaborn as sns\n",
    "import matplotlib.pyplot as plt\n",
    "import numpy as np\n",
    "import pandas as pd\n",
    "import math\n",
    "from scipy import stats\n",
    "\n",
    "try:\n",
    "#     plt.style.use('belle2')\n",
    "    plt.style.use('belle2_serif')\n",
    "#     plt.style.use('belle2_modern')\n",
    "except OSError:\n",
    "    print(\"Please install belle2 matplotlib style\")   \n",
    "px = 1/plt.rcParams['figure.dpi']\n",
    "\n",
    "from main.data_tools.extract_ntuples import get_pd, get_np\n",
    "from main.draw_tools.decorations import b2helix, watermark\n",
    "from main.draw_tools.stacking_with_error_bars import MC_stack_plot, MC_stack_plot_density\n",
    "\n",
    "from main.data_tools.error_bars import make_data_weight\n",
    "from main.data_tools.query_dataframes import cut_dfs_7types"
   ]
  },
  {
   "cell_type": "code",
   "execution_count": 2,
   "id": "dc9c7f2d-75b0-4c2c-9ff1-6b946bd34c18",
   "metadata": {},
   "outputs": [],
   "source": [
    "Nref_err= 602.563\n",
    "Nref= 333616\n",
    "\n",
    "eff_ref_err=0.00030\n",
    "eff_ref=0.24497\n"
   ]
  },
  {
   "cell_type": "code",
   "execution_count": 5,
   "id": "d066b907-ff24-4025-9802-8c2a2f0f2c9f",
   "metadata": {},
   "outputs": [
    {
     "name": "stdout",
     "output_type": "stream",
     "text": [
      "1361864.7181287506\n"
     ]
    }
   ],
   "source": [
    "# D star to D0 to K+ K- and c.c. \n",
    "Number_of_D0toKK = Nref/eff_ref\n",
    "print(Number_of_D0toKK)"
   ]
  },
  {
   "cell_type": "code",
   "execution_count": 6,
   "id": "a19d39c7-ec47-4cb5-bea0-ec8f089ef99a",
   "metadata": {},
   "outputs": [],
   "source": [
    "Br_ref_PDG_err= 0.06 / 10**(3)\n",
    "Br_ref_PDG= 4.06 / 10**(3)"
   ]
  },
  {
   "cell_type": "code",
   "execution_count": 9,
   "id": "e8556dd6-3a01-417f-bbc2-40797d8a4b9e",
   "metadata": {},
   "outputs": [
    {
     "name": "stdout",
     "output_type": "stream",
     "text": [
      "39245.85517760193\n",
      "664160.6260824943\n",
      "1083453.9506295233\n"
     ]
    }
   ],
   "source": [
    "# D star to D0 to omega pi0\n",
    "Br_omega_pi0 = 1.17 / 10**4\n",
    "#error = 0.35 / 10**4\n",
    "N_omega_pi0 = Number_of_D0toKK*Br_omega_pi0/Br_ref_PDG\n",
    "print(N_omega_pi0)\n",
    "# D star to D0 to omega eta\n",
    "Br_omega_eta = 1.98 / 10**3\n",
    "#error = 0.18 / 10**3\n",
    "N_omega_eta = Number_of_D0toKK*Br_omega_eta/Br_ref_PDG\n",
    "print(N_omega_eta)\n",
    "# D star to D0 to pip pi- pi0 eta\n",
    "Br_3pi_eta = 3.23 / 10**3\n",
    "#error = 0.22 / 10**3\n",
    "N_3pi_eta = Number_of_D0toKK*Br_3pi_eta/Br_ref_PDG\n",
    "print(N_3pi_eta)"
   ]
  },
  {
   "cell_type": "code",
   "execution_count": null,
   "id": "f3e244ad-b319-45ee-9b64-e1cd1569729c",
   "metadata": {},
   "outputs": [],
   "source": []
  }
 ],
 "metadata": {
  "kernelspec": {
   "display_name": "Python 3 (ipykernel)",
   "language": "python",
   "name": "python3"
  },
  "language_info": {
   "codemirror_mode": {
    "name": "ipython",
    "version": 3
   },
   "file_extension": ".py",
   "mimetype": "text/x-python",
   "name": "python",
   "nbconvert_exporter": "python",
   "pygments_lexer": "ipython3",
   "version": "3.10.5"
  }
 },
 "nbformat": 4,
 "nbformat_minor": 5
}
