{
 "cells": [
  {
   "cell_type": "code",
   "execution_count": 1,
   "id": "f8e5f1f5-a23d-415a-83d8-e67e29279c5b",
   "metadata": {},
   "outputs": [
    {
     "name": "stderr",
     "output_type": "stream",
     "text": [
      "\n",
      "Bad key mathtext.fallback_to_cm in file /home/belle2/jaeyoung/.config/matplotlib/stylelib/belle2.mplstyle, line 35 ('mathtext.fallback_to_cm : True  # When True, use symbols from the Computer Modern')\n",
      "You probably need to get an updated matplotlibrc file from\n",
      "https://github.com/matplotlib/matplotlib/blob/v3.5.1/matplotlibrc.template\n",
      "or from the matplotlib source distribution\n",
      "\n",
      "Bad key mathtext.fallback_to_cm in file /home/belle2/jaeyoung/.config/matplotlib/stylelib/belle2_modern.mplstyle, line 27 ('mathtext.fallback_to_cm : True  # When True, use symbols from the Computer Modern')\n",
      "You probably need to get an updated matplotlibrc file from\n",
      "https://github.com/matplotlib/matplotlib/blob/v3.5.1/matplotlibrc.template\n",
      "or from the matplotlib source distribution\n",
      "\n",
      "Bad key mathtext.fallback_to_cm in file /home/belle2/jaeyoung/.config/matplotlib/stylelib/belle2_serif.mplstyle, line 27 ('mathtext.fallback_to_cm : True  # When True, use symbols from the Computer Modern')\n",
      "You probably need to get an updated matplotlibrc file from\n",
      "https://github.com/matplotlib/matplotlib/blob/v3.5.1/matplotlibrc.template\n",
      "or from the matplotlib source distribution\n",
      "/cvmfs/belle.cern.ch/el7/externals/v01-11-00/Linux_x86_64/common/lib/python3.8/site-packages/scipy/__init__.py:146: UserWarning: A NumPy version >=1.16.5 and <1.23.0 is required for this version of SciPy (detected version 1.24.4\n",
      "  warnings.warn(f\"A NumPy version >={np_minversion} and <{np_maxversion}\"\n"
     ]
    },
    {
     "name": "stdout",
     "output_type": "stream",
     "text": [
      "Welcome to JupyROOT 6.24/06\n"
     ]
    }
   ],
   "source": [
    "%matplotlib inline\n",
    "%load_ext autoreload\n",
    "%autoreload 2\n",
    "import seaborn as sns\n",
    "import matplotlib.pyplot as plt\n",
    "import numpy as np\n",
    "import pandas as pd\n",
    "import math\n",
    "import os\n",
    "from scipy import stats\n",
    "\n",
    "try:\n",
    "#     plt.style.use('belle2')\n",
    "    plt.style.use('belle2_serif')\n",
    "#     plt.style.use('belle2_modern')\n",
    "except OSError:\n",
    "    print(\"Please install belle2 matplotlib style\")   \n",
    "px = 1/plt.rcParams['figure.dpi']\n",
    "\n",
    "from main.data_tools.extract_ntuples import get_pd, get_np\n",
    "from main.draw_tools.decorations import b2helix, watermark\n",
    "from main.draw_tools.stacking_with_error_bars import MC_stack_plot, MC_stack_plot_density\n",
    "\n",
    "from main.data_tools.error_bars import make_data_weight\n",
    "from main.data_tools.query_dataframes import cut_dfs_7types"
   ]
  },
  {
   "cell_type": "code",
   "execution_count": 2,
   "id": "2e83736d-761f-4c0f-abeb-d3f87be0a300",
   "metadata": {},
   "outputs": [],
   "source": [
    "base_file_loc = '/home/belle2/jaeyoung/storage_b2/storage/reduced_ntuples/MC15ri/etapip_eteeta/MC15ri_etaetapip_loose_v0_240828_roe_Dptag_CFT'\n"
   ]
  },
  {
   "cell_type": "code",
   "execution_count": 3,
   "id": "3d7271b0-70f6-431c-b81b-e468c6656574",
   "metadata": {},
   "outputs": [
    {
     "name": "stdout",
     "output_type": "stream",
     "text": [
      "MC15ri_etaetapip_loose_v0_240828_roe_Dptag_CFT_ccbar.root\n",
      "MC15ri_etaetapip_loose_v0_240828_roe_Dptag_CFT_charged.root\n",
      "MC15ri_etaetapip_loose_v0_240828_roe_Dptag_CFT_ddbar.root\n",
      "MC15ri_etaetapip_loose_v0_240828_roe_Dptag_CFT_mixed.root\n",
      "MC15ri_etaetapip_loose_v0_240828_roe_Dptag_CFT_ssbar.root\n",
      "MC15ri_etaetapip_loose_v0_240828_roe_Dptag_CFT_taupair.root\n",
      "MC15ri_etaetapip_loose_v0_240828_roe_Dptag_CFT_uubar.root\n",
      "config.yaml\n",
      "draw_all_stack_histo2.py\n",
      "etaeta_gg_tag.log\n",
      "etaeta_gpi_tag.log\n",
      "etaeta_pipi_tag.log\n",
      "etapip_gg.log\n",
      "etapip_gg_K.log\n",
      "etapip_pipipi.log\n",
      "etapip_pipipi_K.log\n",
      "submit.sh\n",
      "topo\n"
     ]
    }
   ],
   "source": [
    "!ls /home/belle2/jaeyoung/storage_b2/storage/reduced_ntuples/MC15ri/etapip_eteeta/MC15ri_etaetapip_loose_v0_240828_roe_Dptag_CFT"
   ]
  },
  {
   "cell_type": "code",
   "execution_count": 4,
   "id": "d9649ddd-bcad-4679-9c12-cf59f10635ee",
   "metadata": {},
   "outputs": [],
   "source": [
    "# generic_ccbar = base_file_loc + 'ccbar/tight_v2_240827_roe_Dptag_ccbar_output_00*.root'\n",
    "\n",
    "generic_ccbar = base_file_loc + '/*ccbar.root'\n",
    "\n",
    "# phigamma_ccbar = base_file_loc + 'topo/generic_ccbar.root'\n",
    "# phigamma_ccbar = base_file_loc + 'topo/resultfile/result_phi/standard.root'\n",
    "\n",
    "generic_uubar = base_file_loc + '/*uubar.root'\n",
    "generic_ddbar = base_file_loc + '/*ddbar.root'\n",
    "generic_ssbar = base_file_loc + '/*ssbar.root'\n",
    "generic_charged = base_file_loc + '/*charged.root'\n",
    "generic_mixed = base_file_loc + '/*mixed.root'\n",
    "generic_taupair = base_file_loc + '/*taupair.root'"
   ]
  },
  {
   "cell_type": "code",
   "execution_count": 5,
   "id": "29720b27-8433-4991-b236-c6171ed64697",
   "metadata": {},
   "outputs": [],
   "source": [
    "base_filter=' Dp_M>0'\n",
    "# base_filter='etapip_gg_rank==1'\n",
    "# base_filter+= '  && bdt>0.4'\n",
    "\n",
    "# base_filter += ' && ((etapip_gamma1_clusterReg==1 && etapip_gamma1_E>0.05) || (etapip_gamma1_clusterReg==3 && etapip_gamma1_E>0.075) || (etapip_gamma1_clusterReg==2 && etapip_gamma1_E>0.05))'\n",
    "# base_filter += ' && ((etapip_gamma2_clusterReg==1 && etapip_gamma2_E>0.05) || (etapip_gamma2_clusterReg==3 && etapip_gamma2_E>0.075) || (etapip_gamma2_clusterReg==2 && etapip_gamma2_E>0.05))'\n",
    "# base_filter += ' && Pip_pionID > 0.6'\n",
    "# base_filter += ' && etapip_Eta_p > 0.8'\n",
    "# base_filter += ' && etapip_Eta_M > 0.52'\n",
    "# base_filter += ' && Dp_acos_cosAngleBetweenMomentumAndVertexVectorInXYPlane<0.1'\n",
    "# base_filter += ' && abs(etapip_Eta_daughterDiffOfPhi_0_1)<2 & etapip_Eta_daughterAngle_0_1<1.7'\n",
    "# base_filter += ' && dM_pi0_75MeV>0.011 && dM_pi0_75MeV_2>0.011 && Dp_CMS_p>3'\n",
    "\n",
    "# base_filter += ' && Dp_acos_cosAngleBetweenMomentumAndVertexVectorInXYPlane<1.04719'\n",
    "# base_filter += ' && Dp_acos_cosAngleBetweenMomentumAndVertexVectorInXYPlane<1.04719'\n",
    "\n",
    "\n",
    "\n",
    "# base_filter += \" && Dp_acos_cosAngleBetweenMomentumAndVertexVectorInXYPlane<0.1 && \\\n",
    "#                 etapip_Eta_M>0.535 && \\\n",
    "#                 abs(eta_Pi0_daughterDiffOfPhi_0_1)<1.5 && eta_Pi0_daughterAngle_0_1<1.4 && eta_Pi0_M>0.12 && \\\n",
    "#                 etapip_Eta_p>0.8 && etapip_pi0_gamma1_p>0.075 && etapip_pi0_gamma2_p>0.075 && Dp_CMS_p>3 && \\\n",
    "#                 Pih_pionID>0.6 && eta_Pip_pionID>0.6 && eta_Pim_pionID>0.6\"\n",
    "\n",
    "# 0.523598\n",
    "# base_filter+= ' && abs(etapip_Eta_daughterDiffOfPhi_0_1)<2.5 && etapip_Eta_daughterAngle_0_1<2 '\n",
    "# base_filter+= ' && etapip_gamma1_p>0.1 && etapip_gamma2_p>0.1'\n",
    "# base_filter+= ' && etapip_Eta_M>0.51 && etapip_Eta_M<0.57 '\n"
   ]
  },
  {
   "cell_type": "code",
   "execution_count": 6,
   "id": "a8533762-c739-4299-9993-e6654f42549b",
   "metadata": {},
   "outputs": [],
   "source": [
    "tree = 'etapip_gg'\n",
    "variables = [\"__experiment__\", \"__run__\", \"__event__\",\\\n",
    "             'Dp_M','Dp_isSignal','Dp_CMS_p','Dp_cosAngleBetweenMomentumAndVertexVector','Dp_cosAngleBetweenMomentumAndVertexVectorInXYPlane',\\\n",
    "             'Dp_acos_cosAngleBetweenMomentumAndVertexVector','Dp_acos_cosAngleBetweenMomentumAndVertexVectorInXYPlane',\\\n",
    "             'etapip_Eta_M','etapip_Eta_isSignal','etapip_Eta_daughterDiffOfPhi_0_1','etapip_Eta_daughterAngle_0_1','etapip_Eta_Easym','etapip_Eta_p',\\\n",
    "             'etapip_gamma1_p','etapip_gamma2_p','etapip_gamma1_clusterNHits','etapip_gamma2_clusterNHits',\\\n",
    "             'etapip_gamma1_clusterReg', 'etapip_gamma2_clusterReg',\\\n",
    "             'Pip_pionID','Pip_pionIDNN','Pip_mcPDG','Pip_dr','Pip_dr','Pip_p',\\\n",
    "             'ROE_Mgg','dM_pi0','ROE_Mgg_50MeV','dM_pi0_50MeV','ROE_Mgg_75MeV','dM_pi0_75MeV','ROE_Mgg_mask','dM_pi0_mask',\\\n",
    "             'ROE_Mgg_2','dM_pi0_2','ROE_Mgg_50MeV_2','dM_pi0_50MeV_2','ROE_Mgg_75MeV_2','dM_pi0_75MeV_2','ROE_Mgg_mask_2','dM_pi0_mask_2',\\\n",
    "             'veto_isSignal','veto_isSignal_50MeV','veto_isSignal_75MeV','veto_isSignal_mask',\\\n",
    "             'num_Dstar','num_Dstar_no_nan','CFT_qr','CFT_prob']\n",
    "             #'bdt'\n",
    "\n"
   ]
  },
  {
   "cell_type": "code",
   "execution_count": null,
   "id": "12afb7d8-3387-4e98-98ea-abf3ce33c8a5",
   "metadata": {},
   "outputs": [],
   "source": []
  },
  {
   "cell_type": "code",
   "execution_count": 7,
   "id": "7bf8b287-be41-4e2c-ab3c-5d39e5cbf879",
   "metadata": {},
   "outputs": [
    {
     "name": "stderr",
     "output_type": "stream",
     "text": [
      "input_line_84:10:7: warning: ignoring return value of function declared with 'nodiscard' attribute [-Wunused-result]\n",
      "      ((const vector<int>*)obj)->empty();\n",
      "      ^~~~~~~~~~~~~~~~~~~~~~~~~~~~~~~~\n",
      "input_line_95:10:7: warning: ignoring return value of function declared with 'nodiscard' attribute [-Wunused-result]\n",
      "      ((const vector<unsigned int>*)obj)->empty();\n",
      "      ^~~~~~~~~~~~~~~~~~~~~~~~~~~~~~~~~~~~~~~~~\n",
      "input_line_102:10:7: warning: ignoring return value of function declared with 'nodiscard' attribute [-Wunused-result]\n",
      "      ((const vector<double>*)obj)->empty();\n",
      "      ^~~~~~~~~~~~~~~~~~~~~~~~~~~~~~~~~~~\n"
     ]
    }
   ],
   "source": [
    "pd_ccbar_0 = get_pd(file=generic_ccbar, tree=tree,base_filter=base_filter,variables=variables)\n",
    "pd_uubar_0 = get_pd(file=generic_uubar, tree=tree,base_filter=base_filter,variables=variables)\n",
    "pd_ddbar_0 = get_pd(file=generic_ddbar, tree=tree,base_filter=base_filter,variables=variables)\n",
    "pd_ssbar_0 = get_pd(file=generic_ssbar, tree=tree,base_filter=base_filter,variables=variables)\n",
    "pd_charged_0 = get_pd(file=generic_charged, tree=tree,base_filter=base_filter,variables=variables)\n",
    "pd_mixed_0 = get_pd(file=generic_mixed, tree=tree,base_filter=base_filter,variables=variables)\n",
    "pd_taupair_0 = get_pd(file=generic_taupair, tree=tree,base_filter=base_filter,variables=variables)"
   ]
  },
  {
   "cell_type": "code",
   "execution_count": 8,
   "id": "4d3c7750-f50a-4e33-a271-6b65a159a439",
   "metadata": {},
   "outputs": [],
   "source": [
    "pd_ccbar = pd_ccbar_0.reset_index(drop=True)\n",
    "pd_uubar = pd_uubar_0.reset_index(drop=True)\n",
    "pd_ddbar = pd_ddbar_0.reset_index(drop=True)\n",
    "pd_ssbar = pd_ssbar_0.reset_index(drop=True)\n",
    "pd_charged = pd_charged_0.reset_index(drop=True)\n",
    "pd_mixed = pd_mixed_0.reset_index(drop=True)\n",
    "pd_taupair = pd_taupair_0.reset_index(drop=True)"
   ]
  },
  {
   "cell_type": "code",
   "execution_count": 9,
   "id": "c0bfaccf-9bc3-49cf-802b-2f13297e58bc",
   "metadata": {},
   "outputs": [
    {
     "name": "stdout",
     "output_type": "stream",
     "text": [
      "14393431\n",
      "16090988\n",
      "0.894502624698993\n"
     ]
    }
   ],
   "source": [
    "numerator = len(pd_ccbar[[\"__experiment__\", \"__run__\", \"__event__\"]].drop_duplicates()) + \\\n",
    "            len(pd_uubar[[\"__experiment__\", \"__run__\", \"__event__\"]].drop_duplicates()) + \\\n",
    "            len(pd_ddbar[[\"__experiment__\", \"__run__\", \"__event__\"]].drop_duplicates()) + \\\n",
    "            len(pd_ssbar[[\"__experiment__\", \"__run__\", \"__event__\"]].drop_duplicates()) + \\\n",
    "            len(pd_charged[[\"__experiment__\", \"__run__\", \"__event__\"]].drop_duplicates()) + \\\n",
    "            len(pd_mixed[[\"__experiment__\", \"__run__\", \"__event__\"]].drop_duplicates()) + \\\n",
    "            len(pd_taupair[[\"__experiment__\", \"__run__\", \"__event__\"]].drop_duplicates())\n",
    "denominator = len(pd_ccbar[[\"__experiment__\", \"__run__\", \"__event__\"]]) + \\\n",
    "                len(pd_uubar[[\"__experiment__\", \"__run__\", \"__event__\"]]) + \\\n",
    "                len(pd_ddbar[[\"__experiment__\", \"__run__\", \"__event__\"]]) + \\\n",
    "                len(pd_ssbar[[\"__experiment__\", \"__run__\", \"__event__\"]]) + \\\n",
    "                len(pd_charged[[\"__experiment__\", \"__run__\", \"__event__\"]]) + \\\n",
    "                len(pd_mixed[[\"__experiment__\", \"__run__\", \"__event__\"]]) + \\\n",
    "                len(pd_taupair[[\"__experiment__\", \"__run__\", \"__event__\"]]) \n",
    "\n",
    "\n",
    "print(numerator)\n",
    "print(denominator)\n",
    "\n",
    "multiplicity = numerator/denominator\n",
    "\n",
    "print(multiplicity)"
   ]
  },
  {
   "cell_type": "code",
   "execution_count": 10,
   "id": "6449776c-167c-49ba-9450-eb73b78be8cc",
   "metadata": {},
   "outputs": [],
   "source": [
    "cut = 'Dp_M>0.0'\n",
    "\n",
    "# cut = 'bdt>0.4'\n",
    "\n",
    "\n",
    "# cut +='& abs(etapip_Eta_daughterDiffOfPhi_0_1)<2 & etapip_Eta_daughterAngle_0_1<1.7 & Pip_pionID > 0.6 & dM_pi0_75MeV>0.011 & Dp_cosAngleBetweenMomentumAndVertexVector>0.99'\n",
    "# cut +=' & etapip_gamma1_p>0.3 & etapip_gamma2_p>0.3'\n",
    "# cut = 'etapip_Eta_isSignal==1'\n",
    "# cut = 'rank==1'\n",
    "# cut = 'Pi0_Prob2>0.52'\n",
    "\n",
    "# cut = '__ncandidates__ ==2'\n",
    "# cut = 'Belle2Pi0Veto_75MeV >0.023'\n",
    "# cut = 'abs(Phi_M - 1.0195) < 0.011 & abs(Dstarp_delM-(2.0103-1.8648))<0.001 & Dstarp_CMS_p>2.5 '\n",
    "# (2.0103-1.8648) - 0.001\n",
    "pd_ccbar, pd_uubar,pd_ddbar,pd_ssbar,pd_charged, pd_mixed, pd_taupair = cut_dfs_7types(cut, pd_ccbar, pd_uubar,pd_ddbar,pd_ssbar,pd_charged, pd_mixed, pd_taupair)"
   ]
  },
  {
   "cell_type": "code",
   "execution_count": 11,
   "id": "22a8a63d-b62a-49e9-83e3-5a22813185f4",
   "metadata": {},
   "outputs": [],
   "source": [
    "# Extract the directory from the file path\n",
    "plot_directory = \"/home/belle2/jaeyoung/storage_b2/storage/PLOTS/mc15ri_generic/MC15ri_etaetapip_loose_v0_240828_roe_Dptag_CFT_yes_tag/cut_study\"\n",
    "# plot_directory = os.path.dirname(file_path)\n",
    "if not os.path.exists(plot_directory):\n",
    "    os.makedirs(plot_directory)"
   ]
  },
  {
   "cell_type": "code",
   "execution_count": 12,
   "id": "28811b3e-81b9-42f5-8d21-3dab4bfb7013",
   "metadata": {},
   "outputs": [],
   "source": [
    "var = 'Dp_M'\n",
    "data  = [pd_taupair[var], pd_mixed[var], pd_charged[var],pd_ssbar[var], pd_ddbar[var],pd_uubar[var], pd_ccbar[var]]  \n",
    "scale = 1\n",
    "luminosity=r\"$1000\\; \\mathrm{fb}^{-1}$\"\n",
    "xrange = (1.6,2.1)\n",
    "nbins=50\n",
    "img_path=''\n",
    "xlabel=''"
   ]
  },
  {
   "cell_type": "code",
   "execution_count": 13,
   "id": "da72795d-bba3-4d49-9d72-c7a5ad0d682c",
   "metadata": {},
   "outputs": [],
   "source": [
    "def wrap_draw(var=var,data=data,scale=scale,xrange=xrange,nbins=nbins,xlabel=xlabel, luminosity=luminosity,img_path=\"\",force_range=tuple(),unit=\"[GeV/c^2]\" ):\n",
    "    data  = [pd_taupair[var], pd_mixed[var], pd_charged[var],pd_ssbar[var], pd_ddbar[var],pd_uubar[var], pd_ccbar[var]]  \n",
    "    labels = [   r'$\\tau\\bar{\\tau}$', r'$B^0\\bar{B}^0$', r'$B^+B^-$', r'$s\\bar{s}$'  ,r'$d\\bar{d}$', r'$u\\bar{u}$', r'$c\\bar{c}$']\n",
    "    MC_stack_plot(data, var, scale, xrange, nbins, xlabel=xlabel, labels=labels,title=\"\", unit=unit,luminosity=luminosity,force_range=force_range,save_repo=img_path)\n",
    "    plt.tight_layout()\n",
    "\n",
    "    # plt.savefig(img_path)"
   ]
  },
  {
   "cell_type": "code",
   "execution_count": 14,
   "id": "c122254f-65de-42d2-a169-857134f0c1b2",
   "metadata": {},
   "outputs": [],
   "source": [
    "# data  = [pd_taupair[var], pd_mixed[var], pd_charged[var],pd_ssbar[var], pd_ddbar[var],pd_uubar[var], pd_ccbar[var]]  \n",
    "scale = 1\n",
    "luminosity=r\"$1000\\; \\mathrm{fb}^{-1}$\""
   ]
  },
  {
   "cell_type": "code",
   "execution_count": 15,
   "id": "348d4e2e-5581-4bfa-8f70-e0138656e071",
   "metadata": {},
   "outputs": [
    {
     "name": "stdout",
     "output_type": "stream",
     "text": [
      "[206871. 205459. 203731. 202066. 198999. 197125. 195331. 192594. 190650.\n",
      " 188837. 186679. 183965. 182592. 179747. 176845. 174781. 172378. 169162.\n",
      " 167230. 165670. 162661. 160449. 158508. 156121. 155206. 152966. 151384.\n",
      " 150915. 149800. 150513. 151930. 155404. 159515. 160945. 157479. 151965.\n",
      " 145379. 140066. 137227. 135063. 134250. 132916. 132366. 130066. 130142.\n",
      " 130610. 130224. 131164. 133733. 137839. 145421. 156921. 166160. 170772.\n",
      " 164081. 149609. 136370. 126976. 120971. 117815. 116101. 114120. 113559.\n",
      " 112804. 111710. 111188. 109972. 109608. 108864. 107643.]\n",
      "fitst_bin_entries=206871.0\n"
     ]
    },
    {
     "data": {
      "image/png": "[encoded data removed]",
      "text/plain": [
       "<Figure size 720x432 with 1 Axes>"
      ]
     },
     "metadata": {},
     "output_type": "display_data"
    }
   ],
   "source": [
    "var = 'Dp_M'\n",
    "data  = [pd_taupair[var], pd_mixed[var], pd_charged[var],pd_ssbar[var], pd_ddbar[var],pd_uubar[var], pd_ccbar[var]]  \n",
    "\n",
    "xrange = (1.67,2.1)\n",
    "xrange = (1.7,2.05)\n",
    "\n",
    "nbins = 70\n",
    "xlabel = \"$\\mathrm{M(D^+)}$\"\n",
    "\n",
    "# img_path = plot_directory + \"/MC15ri_Dpetapip_gg_pre_sel_DpM_step0.png\"\n",
    "# img_path = plot_directory + \"/MC15ri_Dpetapip_gg_tight_selv1_DpM.png\"\n",
    "img_path = plot_directory + \"/MC15ri_Dpetapip_gg_loose_v0_all.png\"\n",
    "\n",
    "# img_path = plot_directory + \"/test.png\"\n",
    "\n",
    "# plt.ylim(0,150000)\n",
    "wrap_draw(var=var,data=data,scale=scale,xrange=xrange,nbins=nbins,xlabel=xlabel, luminosity=luminosity,img_path=\"\")\n",
    "# plt.ylim(0,90000)\n",
    "plt.savefig(img_path)\n"
   ]
  },
  {
   "cell_type": "code",
   "execution_count": 16,
   "id": "e7a9ac9d-0d34-4dcf-85f7-17ec64731ada",
   "metadata": {},
   "outputs": [
    {
     "name": "stdout",
     "output_type": "stream",
     "text": [
      "[0.0000000e+00 1.5308449e+07 0.0000000e+00 6.3237000e+05 1.1896100e+05\n",
      " 2.3731000e+04 5.5270000e+03 1.3540000e+03 3.8900000e+02 1.3200000e+02\n",
      " 4.3000000e+01 2.5000000e+01]\n",
      "fitst_bin_entries=0.0\n"
     ]
    },
    {
     "data": {
      "image/png": "[encoded data removed]",
      "text/plain": [
       "<Figure size 720x432 with 1 Axes>"
      ]
     },
     "metadata": {},
     "output_type": "display_data"
    }
   ],
   "source": [
    "var = 'num_Dstar_no_nan'\n",
    "data  = [pd_taupair[var], pd_mixed[var], pd_charged[var],pd_ssbar[var], pd_ddbar[var],pd_uubar[var], pd_ccbar[var]]  \n",
    "\n",
    "xrange = (1.67,2.1)\n",
    "xrange = (-2,10)\n",
    "nbins = 12\n",
    "xlabel = r\"# of $D^{*+}$\"\n",
    "unit = \"\"\n",
    "\n",
    "# img_path = plot_directory + \"/MC15ri_Dpetapip_gg_pre_sel_DpM_step0.png\"\n",
    "# img_path = plot_directory + \"/MC15ri_Dpetapip_gg_tight_selv1_DpM.png\"\n",
    "img_path = plot_directory + \"/MC15ri_Dpetapip_gg_loose_v0_all_num_Dstar_no_nan.png\"\n",
    "\n",
    "# img_path = plot_directory + \"/test.png\"\n",
    "\n",
    "# plt.ylim(0,150000)\n",
    "wrap_draw(var=var,data=data,scale=scale,xrange=xrange,nbins=nbins,xlabel=xlabel, luminosity=luminosity,img_path=\"\",unit=unit)\n",
    "# plt.ylim(0,90000)\n",
    "plt.yscale(\"log\")\n",
    "# plt.tight_layout()\n",
    "plt.savefig(img_path)\n"
   ]
  },
  {
   "cell_type": "code",
   "execution_count": 17,
   "id": "1378dc52-97de-4fd2-9121-2011f2f9495a",
   "metadata": {},
   "outputs": [],
   "source": [
    "cut = 'Dp_M>0.0'\n",
    "cut += ' & num_Dstar_no_nan>0'\n",
    "\n",
    "\n",
    "# cut +='& abs(etapip_Eta_daughterDiffOfPhi_0_1)<2 & etapip_Eta_daughterAngle_0_1<1.7 & Pip_pionID > 0.6 & dM_pi0_75MeV>0.011 & Dp_cosAngleBetweenMomentumAndVertexVector>0.99'\n",
    "# cut +=' & etapip_gamma1_p>0.3 & etapip_gamma2_p>0.3'\n",
    "# cut = 'etapip_Eta_isSignal==1'\n",
    "# cut = 'rank==1'\n",
    "# cut = 'Pi0_Prob2>0.52'v\n",
    "\n",
    "# cut = '__ncandidates__ ==2'\n",
    "# cut = 'Belle2Pi0Veto_75MeV >0.023'\n",
    "# cut = 'abs(Phi_M - 1.0195) < 0.011 & abs(Dstarp_delM-(2.0103-1.8648))<0.001 & Dstarp_CMS_p>2.5 '\n",
    "# (2.0103-1.8648) - 0.001\n",
    "pd_ccbar, pd_uubar,pd_ddbar,pd_ssbar,pd_charged, pd_mixed, pd_taupair = cut_dfs_7types(cut, pd_ccbar, pd_uubar,pd_ddbar,pd_ssbar,pd_charged, pd_mixed, pd_taupair)"
   ]
  },
  {
   "cell_type": "code",
   "execution_count": 18,
   "id": "112cb9af-485a-4c5c-a988-19408b784226",
   "metadata": {},
   "outputs": [
    {
     "name": "stdout",
     "output_type": "stream",
     "text": [
      "[ 9323.  9794.  9472.  9384.  9133.  9120.  9113.  9027.  8850.  8787.\n",
      "  8791.  8712.  8824.  8414.  8575.  8310.  8201.  8137.  8008.  8054.\n",
      "  7809.  7833.  7790.  7476.  7681.  7678.  7612.  7523.  7470.  7915.\n",
      "  8506.  9200. 10227. 10884. 10460.  9439.  8421.  7383.  7052.  6639.\n",
      "  6677.  6624.  6647.  6419.  6350.  6406.  6497.  6489.  6434.  6498.\n",
      "  6782.  7039.  7357.  7471.  7286.  6839.  6431.  6112.  5969.  6023.\n",
      "  5901.  5952.  5790.  5959.  5830.  5694.  5723.  5630.  5531.  5490.]\n",
      "fitst_bin_entries=9323.0\n"
     ]
    },
    {
     "data": {
      "image/png": "[encoded data removed]",
      "text/plain": [
       "<Figure size 720x432 with 1 Axes>"
      ]
     },
     "metadata": {},
     "output_type": "display_data"
    }
   ],
   "source": [
    "var = 'Dp_M'\n",
    "data  = [pd_taupair[var], pd_mixed[var], pd_charged[var],pd_ssbar[var], pd_ddbar[var],pd_uubar[var], pd_ccbar[var]]  \n",
    "\n",
    "xrange = (1.7,2.05)\n",
    "nbins = 70\n",
    "xlabel = \"$\\mathrm{M(D^+)}$\"\n",
    "\n",
    "# img_path = plot_directory + \"/MC15ri_Dpetapip_gg_pre_sel_DpM_step1.png\"\n",
    "img_path = plot_directory + \"/MC15ri_Dpetapip_gg_loose_v0_step1_Dstartag.png\"\n",
    "\n",
    "# img_path = plot_directory + \"/test.png\"\n",
    "\n",
    "wrap_draw(var=var,data=data,scale=scale,xrange=xrange,nbins=nbins,xlabel=xlabel, luminosity=luminosity,img_path=img_path)"
   ]
  },
  {
   "cell_type": "code",
   "execution_count": 19,
   "id": "c3b3c829-d420-4408-aebf-9ef371c7f632",
   "metadata": {},
   "outputs": [],
   "source": [
    "cut = 'Dp_M>0.0'\n",
    "cut += ' & abs(etapip_Eta_daughterDiffOfPhi_0_1)<2 & etapip_Eta_daughterAngle_0_1<1.7'\n",
    "# cut += ' & Dp_acos_cosAngleBetweenMomentumAndVertexVectorInXYPlane<0.1'\n",
    "\n",
    "\n",
    "# cut +='& abs(etapip_Eta_daughterDiffOfPhi_0_1)<2 & etapip_Eta_daughterAngle_0_1<1.7 & Pip_pionID > 0.6 & dM_pi0_75MeV>0.011 & Dp_cosAngleBetweenMomentumAndVertexVector>0.99'\n",
    "# cut +=' & etapip_gamma1_p>0.3 & etapip_gamma2_p>0.3'\n",
    "# cut = 'etapip_Eta_isSignal==1'\n",
    "# cut = 'rank==1'\n",
    "# cut = 'Pi0_Prob2>0.52'v\n",
    "\n",
    "# cut = '__ncandidates__ ==2'\n",
    "# cut = 'Belle2Pi0Veto_75MeV >0.023'\n",
    "# cut = 'abs(Phi_M - 1.0195) < 0.011 & abs(Dstarp_delM-(2.0103-1.8648))<0.001 & Dstarp_CMS_p>2.5 '\n",
    "# (2.0103-1.8648) - 0.001\n",
    "pd_ccbar, pd_uubar,pd_ddbar,pd_ssbar,pd_charged, pd_mixed, pd_taupair = cut_dfs_7types(cut, pd_ccbar, pd_uubar,pd_ddbar,pd_ssbar,pd_charged, pd_mixed, pd_taupair)"
   ]
  },
  {
   "cell_type": "code",
   "execution_count": 20,
   "id": "24663846-823f-4335-a0ec-eccf90344038",
   "metadata": {},
   "outputs": [
    {
     "name": "stdout",
     "output_type": "stream",
     "text": [
      "[6634. 6622. 6437. 6323. 6317. 6111. 6017. 5912. 6068. 5719. 5822. 5565.\n",
      " 5461. 5390. 5195. 5238. 5080. 5060. 5025. 5015. 5203. 6027. 7442. 9157.\n",
      " 9358. 7615. 5662. 4774. 4234. 4188. 4188. 4004. 4082. 4144. 4200. 4326.\n",
      " 4838. 5378. 5423. 4914. 4259. 3811. 3756. 3646. 3575. 3600. 3526. 3507.\n",
      " 3416. 3309.]\n",
      "fitst_bin_entries=6634.0\n"
     ]
    },
    {
     "data": {
      "image/png": "[encoded data removed]",
      "text/plain": [
       "<Figure size 720x432 with 1 Axes>"
      ]
     },
     "metadata": {},
     "output_type": "display_data"
    }
   ],
   "source": [
    "var = 'Dp_M'\n",
    "data  = [pd_taupair[var], pd_mixed[var], pd_charged[var],pd_ssbar[var], pd_ddbar[var],pd_uubar[var], pd_ccbar[var]]  \n",
    "\n",
    "xrange = (1.7,2.05)\n",
    "nbins = 50\n",
    "xlabel = \"$\\mathrm{M(D^+)}$\"\n",
    "\n",
    "# img_path = plot_directory + \"/MC15ri_Dpetapip_gg_pre_sel_DpM_step2.png\"\n",
    "img_path = plot_directory + \"/MC15ri_Dpetapip_gg_loose_v0_step2_eta_angle_cuts.png\"\n",
    "\n",
    "# img_path = plot_directory + \"/MC15ri_Dpetapip_gg_tight_selv0_DpM.png\"\n",
    "\n",
    "# img_path = plot_directory + \"/test.png\"\n",
    "\n",
    "wrap_draw(var=var,data=data,scale=scale,xrange=xrange,nbins=nbins,xlabel=xlabel, luminosity=luminosity,img_path=img_path)"
   ]
  },
  {
   "cell_type": "code",
   "execution_count": null,
   "id": "860ccd28-5423-49e2-a260-f9cbf5023212",
   "metadata": {},
   "outputs": [],
   "source": []
  },
  {
   "cell_type": "code",
   "execution_count": null,
   "id": "c25c1fed-a244-4443-a75d-5d2995237ef8",
   "metadata": {},
   "outputs": [],
   "source": []
  },
  {
   "cell_type": "markdown",
   "id": "ec14856d-bd11-4d14-bffe-7ecb1d06c02f",
   "metadata": {},
   "source": [
    "## FOM"
   ]
  },
  {
   "cell_type": "code",
   "execution_count": 21,
   "id": "6cdff02e-ed47-415b-9135-dae3443e471d",
   "metadata": {},
   "outputs": [],
   "source": [
    "pd_ccbar_bkg = pd_ccbar.query('Dp_isSignal!=1')\n",
    "pd_all = pd.concat([pd_ccbar_bkg,\n",
    "                    pd_uubar,\n",
    "                    pd_ddbar,\n",
    "                    pd_ssbar,\n",
    "                    pd_charged,\n",
    "                    pd_mixed,\n",
    "                    pd_taupair], ignore_index=True)\n",
    "\n",
    "# pd_all = pd_ccbar"
   ]
  },
  {
   "cell_type": "code",
   "execution_count": 22,
   "id": "6cdbbcab-f726-4978-8e37-55c95a1c0ba3",
   "metadata": {},
   "outputs": [],
   "source": [
    "def calculate_FOM( bkg_pd, sig_pd, cut_list, scale_factor, cut):\n",
    "    \n",
    "    FOM_list = list()\n",
    "    \n",
    "    for cut_value in cut_list:\n",
    "    \n",
    "        temp_cut = cut + str(cut_value) \n",
    "        temp_bkg_pd = bkg_pd.query(temp_cut)\n",
    "        temp_sig_pd = sig_pd.query(temp_cut)\n",
    "\n",
    "        nsig = len(temp_sig_pd)\n",
    "        nbkg = len(temp_bkg_pd)\n",
    "\n",
    "#         FOM = scale_factor*nsig/(math.sqrt(scale_factor*nsig + nbkg))\n",
    "        FOM = scale_factor*nsig/(math.sqrt(scale_factor*nsig + nbkg))\n",
    "\n",
    "        FOM_list.append(FOM)    \n",
    "    \n",
    "    return FOM_list"
   ]
  },
  {
   "cell_type": "code",
   "execution_count": 23,
   "id": "95aed249-fdc4-4083-82a3-a4f6a627567b",
   "metadata": {},
   "outputs": [],
   "source": [
    "def calculate_eff( bkg_pd, sig_pd, cut_list, cut):\n",
    "    \n",
    "    eff_list = list()\n",
    "    \n",
    "    for cut_value in cut_list:\n",
    "    \n",
    "        #temp_cut = 'gamma_E > ' + str(cut_value) \n",
    "        temp_cut = cut + str(cut_value) \n",
    "\n",
    "        temp_sig_pd = sig_pd.query(temp_cut)\n",
    "\n",
    "        nsig = len(temp_sig_pd)\n",
    "\n",
    "        eff = nsig/(0.5*1e+6)\n",
    "        eff_list.append(eff)    \n",
    "    \n",
    "    return eff_list"
   ]
  },
  {
   "cell_type": "code",
   "execution_count": 24,
   "id": "f0f819fa-5006-424c-8ebc-6de6c33d2e2f",
   "metadata": {},
   "outputs": [],
   "source": [
    "def calculate_purity( bkg_pd, sig_pd, cut_list, cut):\n",
    "    \n",
    "    purity_list = list()\n",
    "    \n",
    "    for cut_value in cut_list:\n",
    "    \n",
    "        #temp_cut = 'gamma_E > ' + str(cut_value) \n",
    "        temp_cut =  cut +  str(cut_value) \n",
    "        \n",
    "        temp_sig_pd = sig_pd.query(temp_cut)\n",
    "\n",
    "        nsig = len(temp_sig_pd)\n",
    "        \n",
    "        nREALsig = len(temp_sig_pd.query(\"Dp_isSignal==1\"))\n",
    "        \n",
    "        #nbkg = len(temp_bkg_pd)\n",
    "\n",
    "        purity = nREALsig/nsig\n",
    "        purity_list.append(purity)    \n",
    "    \n",
    "    return purity_list"
   ]
  },
  {
   "cell_type": "code",
   "execution_count": 25,
   "id": "a38251fb-fc9a-4b18-a19e-592f595403cb",
   "metadata": {},
   "outputs": [],
   "source": [
    "def plot_FOM_eff_purity(FOM_cut_list, FOM_phig_list, eff_phig_list, purity_phig_list, xlabel ,offset=85):\n",
    "\n",
    "\n",
    "    fig, host = plt.subplots(figsize=(9,6)) # (width, height) in inches    \n",
    "    par1 = host.twinx()\n",
    "    # par2 = host.twinx()\n",
    "\n",
    "    #host.set_xlim(2, 3.5)\n",
    "    # host.set_ylim(0, 2)\n",
    "    # par2.set_ylim(0, 4)\n",
    "    #par1.set_ylim(0,0.16 )\n",
    "    # par2.axis[\"right\"] = new_fixed_axis(loc=\"right\", axes=par2,\n",
    "                                            # offset=(offset, 0))\n",
    "    # par2.axis[\"right\"].toggle(all=True)\n",
    "\n",
    "    host.set_xlabel(xlabel)\n",
    "    host.set_ylabel(\"FOM\")\n",
    "    par1.set_ylabel(\"Efficiency\")\n",
    "    # par2.set_ylabel(\"Purity\")\n",
    "\n",
    "    # color1 = plt.cm.viridis(0)\n",
    "    # color2 = plt.cm.viridis(0.5)\n",
    "    # color3 = plt.cm.viridis(.9)\n",
    "    color1 = 'r'\n",
    "    color2 = 'g'\n",
    "    color3 = 'b'\n",
    "\n",
    "    p1, = host.plot(FOM_cut_list, FOM_phig_list,    color=color1, label=\"FOM\")\n",
    "    p2, = par1.plot(FOM_cut_list, eff_phig_list,    color=color2, label=\"Efficiency\")\n",
    "    # p3, = par2.plot(FOM_cut_list, purity_phig_list, color=color3, label=\"Purity\")\n",
    "\n",
    "    \n",
    "    # lns = [p1, p2, p3]\n",
    "    lns = [p1, p2]\n",
    "\n",
    "    host.legend(handles=lns, loc='best')\n",
    "    # right, left, top, bottom\n",
    "    offset = offset\n",
    "    # par2.spines['right'].set_position(('outward', offset))\n",
    "\n",
    "    # no x-ticks                 \n",
    "    # par2.xaxis.set_ticks([])\n",
    "\n",
    "    # Sometimes handy, same for xaxis\n",
    "    # par2.yaxis.set_ticks_position('right')\n",
    "\n",
    "    # Move \"Velocity\"-axis to the left\n",
    "    # par2.spines['left'].set_position(('outward', 60))\n",
    "    # par2.spines['left'].set_visible(True)\n",
    "    # par2.yaxis.set_label_position('left')\n",
    "    # par2.yaxis.set_ticks_position('left')\n",
    "\n",
    "    host.yaxis.label.set_color(p1.get_color())\n",
    "    par1.yaxis.label.set_color(p2.get_color())\n",
    "    # par2.yaxis.label.set_color(p3.get_color())\n",
    "\n",
    "    plt.title(r'$D^+ \\to \\eta_{\\gamma\\gamma} \\gamma$')\n",
    "    # plt.axvline(x=2.45,  color='orange', linestyle='dotted')\n",
    "\n",
    "    # Adjust spacings w.r.t. figsize\n",
    "    fig.tight_layout()"
   ]
  },
  {
   "cell_type": "code",
   "execution_count": 26,
   "id": "7c0b717a-9cf7-4688-b6d1-035b0934ce57",
   "metadata": {},
   "outputs": [],
   "source": [
    "def calculate_FOM_3D(bkg_pd, sig_pd, grid_list, scale_factor, cut_x, cut_y, cut_z):\n",
    " \n",
    "    FOM_list = list()\n",
    "    \n",
    "    for points_3d in grid_list:\n",
    "        \n",
    "        points_3d_x, points_3d_y, points_3d_z =  points_3d[0], points_3d[1], points_3d[2]\n",
    "    \n",
    "        temp_cut = cut_x + str(points_3d_x) + ' & ' +  cut_y + str(points_3d_y) + ' & ' + cut_z + str(points_3d_z) \n",
    "        temp_bkg_pd = bkg_pd.query(temp_cut)\n",
    "        temp_sig_pd = sig_pd.query(temp_cut)    \n",
    "        \n",
    "        nsig = len(temp_sig_pd)\n",
    "        nbkg = len(temp_bkg_pd)\n",
    "        # print(str(scale_factor*nsig + nbkg) + ' nsig=' + str(nsig) + ', nbkg=' + str(nbkg) + ', cut=' + temp_cut )\n",
    "#         FOM = scale_factor*nsig/(math.sqrt(scale_factor*nsig + nbkg))\n",
    "        FOM = scale_factor*nsig/(math.sqrt(scale_factor*nsig + nbkg))\n",
    "        FOM_list.append(FOM)    \n",
    "        \n",
    "    return FOM_list"
   ]
  },
  {
   "cell_type": "code",
   "execution_count": 27,
   "id": "5b109d68-2693-46b7-b6e8-4617a3393dfc",
   "metadata": {},
   "outputs": [
    {
     "name": "stdout",
     "output_type": "stream",
     "text": [
      "21511\n"
     ]
    }
   ],
   "source": [
    "# # sigMC_file_loc = base_file_loc + 'topo/resultfile/result_phi/standard.root'\n",
    "# sigMC_file_loc = base_file_loc + '/*ccbar.root'\n",
    "\n",
    "# base_filter=' num_Dstar_no_nan>0 && abs(etapip_Eta_daughterDiffOfPhi_0_1)<2 && etapip_Eta_daughterAngle_0_1<1.7'\n",
    "# # base_filter += '&& nSigCascDcyBr_0==1'\n",
    "# base_filter += '&& Dp_isSignal==1'\n",
    "# # base_filter+='&& abs(D0_cosHel_0)<0.8'\n",
    "\n",
    "# # base_filter += '&& gamma_E>0.48'\n",
    "\n",
    "# # variables=['D0_M','D0_cosHel_0','Phi_M','Dstarp_Q','Dstarp_CMS_p','Dstarp_isSignal','gamma_E']\n",
    "# tree='etapip_gg'\n",
    "\n",
    "pd_ccbar_signal = pd_ccbar.query('Dp_isSignal==1')\n",
    "\n",
    "# pd_ccbar_signal = get_pd(file=sigMC_file_loc, tree=tree,base_filter=base_filter,variables=variables)\n",
    "print(len(pd_ccbar_signal))"
   ]
  },
  {
   "cell_type": "code",
   "execution_count": 28,
   "id": "a42aaf70-7bf1-4e23-865f-6bee4b9efcee",
   "metadata": {},
   "outputs": [
    {
     "name": "stdout",
     "output_type": "stream",
     "text": [
      "1.0\n"
     ]
    }
   ],
   "source": [
    "# half_1_sigMC = '/media/jykim/T7/storage/01_recon/phi/D0_v26_half1M_1_pre_ext_signalMC_recon_mdst_phi.root'\n",
    "# half_1_sigMC = '/media/jykim/T7/storage/01_recon/phi/D0_massveto_v2_half_1_pre_signalMC_recon_mdst_phi_*.root'\n",
    "\n",
    "# base_filter='D0_M>1.8 && D0_M<1.9  && abs(Phi_M - 1.0195)< 0.011 && abs(Dstarp_Q-0.00593)<0.0006'\n",
    "# base_filter='D0_M>1.8 && D0_M<1.9'\n",
    "# base_filter=' D0_M>1.68 && D0_M<2.05 && abs(Phi_M - 1.0195) < 0.011 && abs(Dstarp_delM-(2.0103-1.8648))<0.001  && Dstarp_CMS_p>2.5'\n",
    "# base_filter=' D0_M>1.8 && D0_M<1.9 && abs(Phi_M - 1.0195) < 0.011 && abs(Dstarp_delM-(2.0103-1.8648))<0.001  && Dstarp_CMS_p>2.5'\n",
    "# base_filter=' D0_M>1.8 && D0_M<1.9 && abs(Phi_M - 1.0195) < 0.011 && Dstarp_CMS_p>2.5'\n",
    "\n",
    "# base_filter += '&& Dstarp_isSignal==1'\n",
    "\n",
    "# # base_filter += '&& gamma_E>0.48'\n",
    "\n",
    "\n",
    "# pd_half_1_sigMC = get_pd(file=half_1_sigMC, tree=tree,base_filter=base_filter,variables=variables)\n",
    "\n",
    "\n",
    "pd_half_1_sigMC = pd_ccbar_signal\n",
    "\n",
    "scale_factor = len(pd_ccbar_signal)/len(pd_half_1_sigMC)\n",
    "print(scale_factor)"
   ]
  },
  {
   "cell_type": "code",
   "execution_count": 29,
   "id": "0d3985fd-8418-420f-a452-7161fe60a32c",
   "metadata": {},
   "outputs": [
    {
     "data": {
      "text/plain": [
       "['__experiment__',\n",
       " '__run__',\n",
       " '__event__',\n",
       " 'Dp_M',\n",
       " 'Dp_isSignal',\n",
       " 'Dp_CMS_p',\n",
       " 'Dp_cosAngleBetweenMomentumAndVertexVector',\n",
       " 'Dp_cosAngleBetweenMomentumAndVertexVectorInXYPlane',\n",
       " 'Dp_acos_cosAngleBetweenMomentumAndVertexVector',\n",
       " 'Dp_acos_cosAngleBetweenMomentumAndVertexVectorInXYPlane',\n",
       " 'etapip_Eta_M',\n",
       " 'etapip_Eta_isSignal',\n",
       " 'etapip_Eta_daughterDiffOfPhi_0_1',\n",
       " 'etapip_Eta_daughterAngle_0_1',\n",
       " 'etapip_Eta_Easym',\n",
       " 'etapip_Eta_p',\n",
       " 'etapip_gamma1_p',\n",
       " 'etapip_gamma2_p',\n",
       " 'etapip_gamma1_clusterNHits',\n",
       " 'etapip_gamma2_clusterNHits',\n",
       " 'etapip_gamma1_clusterReg',\n",
       " 'etapip_gamma2_clusterReg',\n",
       " 'Pip_pionID',\n",
       " 'Pip_pionIDNN',\n",
       " 'Pip_mcPDG',\n",
       " 'Pip_dr',\n",
       " 'Pip_p',\n",
       " 'ROE_Mgg',\n",
       " 'dM_pi0',\n",
       " 'ROE_Mgg_50MeV',\n",
       " 'dM_pi0_50MeV',\n",
       " 'ROE_Mgg_75MeV',\n",
       " 'dM_pi0_75MeV',\n",
       " 'ROE_Mgg_mask',\n",
       " 'dM_pi0_mask',\n",
       " 'ROE_Mgg_2',\n",
       " 'dM_pi0_2',\n",
       " 'ROE_Mgg_50MeV_2',\n",
       " 'dM_pi0_50MeV_2',\n",
       " 'ROE_Mgg_75MeV_2',\n",
       " 'dM_pi0_75MeV_2',\n",
       " 'ROE_Mgg_mask_2',\n",
       " 'dM_pi0_mask_2',\n",
       " 'veto_isSignal',\n",
       " 'veto_isSignal_50MeV',\n",
       " 'veto_isSignal_75MeV',\n",
       " 'veto_isSignal_mask',\n",
       " 'num_Dstar',\n",
       " 'num_Dstar_no_nan',\n",
       " 'CFT_qr',\n",
       " 'CFT_prob']"
      ]
     },
     "execution_count": 29,
     "metadata": {},
     "output_type": "execute_result"
    }
   ],
   "source": [
    "list(pd_ccbar)"
   ]
  },
  {
   "cell_type": "code",
   "execution_count": null,
   "id": "8e84df81-2a45-40d9-bde8-b1a8a849eb45",
   "metadata": {},
   "outputs": [],
   "source": [
    "X, Y, Z = np.mgrid[0.9900:0.9998:49j, 0.6:0.8:21j, 0.4:0.6:21j]\n",
    "a = zip(X.ravel(), Y.ravel(), Z.ravel())\n",
    "A_list = list(a)\n",
    "\n",
    "grid_list = A_list\n",
    "cut_x = 'Dp_cosAngleBetweenMomentumAndVertexVectorInXYPlane > '\n",
    "cut_y = 'etapip_Eta_p > '\n",
    "cut_z = 'Pip_p > '\n",
    "\n",
    "scale_factor=scale_factor\n",
    "\n",
    "FOM_phig_list = calculate_FOM_3D(pd_all,pd_half_1_sigMC, grid_list ,scale_factor, cut_x,  cut_y, cut_z )\n"
   ]
  },
  {
   "cell_type": "code",
   "execution_count": null,
   "id": "baba6f6b-b94f-42b7-9920-6076ba776c0f",
   "metadata": {},
   "outputs": [],
   "source": [
    "# # Number to be equally divided\n",
    "# number_to_divide = 2\n",
    "\n",
    "# # Update each element in the list\n",
    "# for i in range(len(FOM_phig_list)):\n",
    "#     FOM_phig_list[i] = FOM_phig_list[i]/number_to_divide\n"
   ]
  },
  {
   "cell_type": "code",
   "execution_count": null,
   "id": "41d1e999-1170-4911-a262-7118f2be3403",
   "metadata": {},
   "outputs": [],
   "source": [
    "fig = plt.figure()\n",
    "ax = fig.add_subplot(111, projection='3d')\n",
    "# scat = ax.scatter(X, Y, Z, c=T.flatten(), alpha=0.5)\n",
    "scat = ax.scatter(X, Y, Z, c=FOM_phig_list, alpha=0.5, cmap = 'jet')\n",
    "# scat = ax.scatter(X, Y, Z, c=FOM_phig_list, alpha=0.5)\n",
    "\n",
    "fig.colorbar(scat, shrink=0.5, aspect=5 , pad = 0.1)\n",
    "\n",
    "ax.set_xlabel(r'$\\cos XY$ cut',fontsize=17)\n",
    "#ax.set_ylabel(r'Second FBDT cut',fontsize=17)\n",
    "ax.set_ylabel(r'$\\eta$ p',fontsize=17)\n",
    "ax.set_zlabel(r'$\\pi^+$ p',fontsize=17)\n",
    "ax.tick_params(axis='both', which='major', labelsize=13)\n",
    "\n",
    "# Set axis ranges to their full extent\n",
    "ax.set_xlim(X.min(), X.max())\n",
    "ax.set_ylim(Y.min(), Y.max())\n",
    "ax.set_zlim(Z.min(), Z.max())\n",
    "\n",
    "\n",
    "# ax.ticklabel_format(axis = 'z',  style='sci', scilimits = (0,1))\n",
    "# ax.dist = 10\n",
    "ax.xaxis.labelpad=8\n",
    "ax.yaxis.labelpad=12\n",
    "ax.zaxis.labelpad=15.5\n",
    "\n",
    "\n",
    "plt.tight_layout()\n",
    "# plt.savefig('/media/jykim/T7/saved_plots/FOM/MC15rd_Eg_Mgg_FBDT2_phi_opt.png')\n",
    "plt.show()"
   ]
  },
  {
   "cell_type": "code",
   "execution_count": null,
   "id": "b50537a0-0669-48ce-ad7a-3752bc9c84ca",
   "metadata": {},
   "outputs": [],
   "source": []
  },
  {
   "cell_type": "code",
   "execution_count": 33,
   "id": "680b5602-1dd4-400b-b55d-523904a93619",
   "metadata": {},
   "outputs": [
    {
     "name": "stdout",
     "output_type": "stream",
     "text": [
      "max=50.63039825544764, cut value=(0.01, 0.6, 0.41000000000000003)\n"
     ]
    }
   ],
   "source": [
    "#base_filter+='&& abs(D0_cosHel_0)<0.8'\n",
    "\n",
    "max_index= FOM_phig_list.index(max(FOM_phig_list))\n",
    "max_FOM = max(FOM_phig_list)\n",
    "argmax_FOM = A_list[max_index]\n",
    "print('max=' + str(max_FOM) + ', cut value=' + str(argmax_FOM))"
   ]
  },
  {
   "cell_type": "code",
   "execution_count": 37,
   "id": "9ab36941-1f90-4424-9a25-c3a6e205cb21",
   "metadata": {},
   "outputs": [
    {
     "name": "stdout",
     "output_type": "stream",
     "text": [
      "max=52.77986106727667, cut value=(0.015, 0.7, 0.42000000000000004)\n"
     ]
    }
   ],
   "source": [
    "#base_filter+='&& abs(D0_cosHel_0)<0.8'\n",
    "\n",
    "max_index= FOM_phig_list.index(max(FOM_phig_list))\n",
    "max_FOM = max(FOM_phig_list)\n",
    "argmax_FOM = A_list[max_index]\n",
    "print('max=' + str(max_FOM) + ', cut value=' + str(argmax_FOM))"
   ]
  },
  {
   "cell_type": "code",
   "execution_count": null,
   "id": "a9c3db55-e650-40c1-b779-d6bf65a518f8",
   "metadata": {},
   "outputs": [],
   "source": [
    "#base_filter+='&& abs(D0_cosHel_0)<0.8'\n",
    "\n",
    "max_index= FOM_phig_list.index(max(FOM_phig_list))\n",
    "max_FOM = max(FOM_phig_list)\n",
    "argmax_FOM = A_list[max_index]\n",
    "print('max=' + str(max_FOM) + ', cut value=' + str(argmax_FOM))"
   ]
  },
  {
   "cell_type": "code",
   "execution_count": null,
   "id": "9e47f6e0-6cf9-4cea-bbeb-e9721efd4f93",
   "metadata": {},
   "outputs": [],
   "source": []
  }
 ],
 "metadata": {
  "kernelspec": {
   "display_name": "Python 3 (Belle2)",
   "language": "python",
   "name": "python3"
  },
  "language_info": {
   "codemirror_mode": {
    "name": "ipython",
    "version": 3
   },
   "file_extension": ".py",
   "mimetype": "text/x-python",
   "name": "python",
   "nbconvert_exporter": "python",
   "pygments_lexer": "ipython3",
   "version": "3.8.8"
  }
 },
 "nbformat": 4,
 "nbformat_minor": 5
}
