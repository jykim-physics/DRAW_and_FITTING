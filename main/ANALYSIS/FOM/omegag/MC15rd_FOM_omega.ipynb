{
 "cells": [
  {
   "cell_type": "code",
   "execution_count": 1,
   "id": "fa0ade39-2857-4936-9d53-8e020e7e54cf",
   "metadata": {},
   "outputs": [
    {
     "name": "stdout",
     "output_type": "stream",
     "text": [
      "Welcome to JupyROOT 6.26/04\n"
     ]
    }
   ],
   "source": [
    "%matplotlib inline\n",
    "%load_ext autoreload\n",
    "%autoreload 2\n",
    "import seaborn as sns\n",
    "import matplotlib.pyplot as plt\n",
    "import numpy as np\n",
    "import pandas as pd\n",
    "import math\n",
    "from scipy import stats\n",
    "\n",
    "try:\n",
    "#     plt.style.use('belle2')\n",
    "    plt.style.use('belle2_serif')\n",
    "#     plt.style.use('belle2_modern')\n",
    "except OSError:\n",
    "    print(\"Please install belle2 matplotlib style\")   \n",
    "px = 1/plt.rcParams['figure.dpi']\n",
    "\n",
    "from main.data_tools.extract_ntuples import get_pd, get_np\n",
    "from main.draw_tools.decorations import b2helix, watermark\n",
    "from main.draw_tools.stacking_with_error_bars import MC_stack_plot, MC_stack_plot_density\n",
    "\n",
    "from main.data_tools.error_bars import make_data_weight\n",
    "from main.data_tools.query_dataframes import cut_dfs_7types\n"
   ]
  },
  {
   "cell_type": "code",
   "execution_count": 10,
   "id": "a7523acb-f503-4677-8fe1-a75f4d2ac61a",
   "metadata": {},
   "outputs": [],
   "source": [
    "base_file_loc = '/media/jykim/T7_2/storage/Ntuples_ghi_2/MC15rd/MC15rd_Vg_preext_maxFBDT_2ndFBDT/'\n"
   ]
  },
  {
   "cell_type": "code",
   "execution_count": 11,
   "id": "869c16e3-67b8-4de4-8c81-9bd4067a4cc2",
   "metadata": {},
   "outputs": [],
   "source": [
    "Vgamma_ccbar = base_file_loc + 'ccbar/*.root'\n",
    "# phigamma_ccbar = base_file_loc + 'topo/generic_ccbar.root'\n",
    "# phigamma_ccbar = base_file_loc + 'topo/resultfile/result_phi/standard.root'\n",
    "\n",
    "Vgamma_uubar = base_file_loc + 'uubar/*.root'\n",
    "Vgamma_ddbar = base_file_loc + 'ddbar/*.root'\n",
    "Vgamma_ssbar = base_file_loc + 'ssbar/*.root'\n",
    "Vgamma_charged = base_file_loc + 'charged/*.root'\n",
    "Vgamma_mixed = base_file_loc + 'mixed/*.root'\n",
    "Vgamma_taupair = base_file_loc + 'taupair/*.root'"
   ]
  },
  {
   "cell_type": "code",
   "execution_count": 12,
   "id": "f2601de2-78f9-4c03-92df-50a349a39390",
   "metadata": {},
   "outputs": [],
   "source": [
    "base_filter=' D0_M>1.68 && D0_M<2.05'\n",
    "base_filter=' D0_M>1.8 && D0_M<1.9 && abs(Omega_M - 0.78265 ) < 0.025 &&  Dstarp_CMS_p>2.5 && Dstarp_isSignal!=1'\n",
    "\n",
    "# \n",
    "variables=['__experiment__', '__run__', '__event__','__ncandidates__','__candidate__','Dstarp_chiProb','D0_M','D0_cosHel_0','Omega_M','Dstarp_CMS_p','gamma_E','gamma_genMotherPDG','Dstarp_isSignal','Dstarp_delM','D0_flightDistance','D0_flightDistanceErr']\n",
    "variables+=['Pi0_Prob2']\n",
    "tree='omega'"
   ]
  },
  {
   "cell_type": "code",
   "execution_count": 13,
   "id": "df3756b4-223b-4070-9bf3-a8832ab62df9",
   "metadata": {},
   "outputs": [
    {
     "ename": "runtime_error",
     "evalue": "string ROOT::RDF::RInterface<ROOT::Detail::RDF::RLoopManager,void>::GetColumnType(basic_string_view<char,char_traits<char> > column) =>\n    runtime_error: Column \"Omega_M\" is not in a dataset and is not a custom column been defined.",
     "output_type": "error",
     "traceback": [
      "\u001b[0;31m---------------------------------------------------------------------------\u001b[0m",
      "\u001b[0;31mruntime_error\u001b[0m                             Traceback (most recent call last)",
      "Cell \u001b[0;32mIn [13], line 3\u001b[0m\n\u001b[1;32m      1\u001b[0m \u001b[38;5;66;03m# pd_Vgamma_ccbar = get_pd(file=Vgamma_ccbar, tree=tree,base_filter=base_filter + ' && ',variables=variables)\u001b[39;00m\n\u001b[0;32m----> 3\u001b[0m pd_Vgamma_ccbar \u001b[38;5;241m=\u001b[39m \u001b[43mget_pd\u001b[49m\u001b[43m(\u001b[49m\u001b[43mfile\u001b[49m\u001b[38;5;241;43m=\u001b[39;49m\u001b[43mVgamma_ccbar\u001b[49m\u001b[43m,\u001b[49m\u001b[43m \u001b[49m\u001b[43mtree\u001b[49m\u001b[38;5;241;43m=\u001b[39;49m\u001b[43mtree\u001b[49m\u001b[43m,\u001b[49m\u001b[43mbase_filter\u001b[49m\u001b[38;5;241;43m=\u001b[39;49m\u001b[43mbase_filter\u001b[49m\u001b[43m,\u001b[49m\u001b[43mvariables\u001b[49m\u001b[38;5;241;43m=\u001b[39;49m\u001b[43mvariables\u001b[49m\u001b[43m)\u001b[49m\n\u001b[1;32m      4\u001b[0m pd_Vgamma_uubar \u001b[38;5;241m=\u001b[39m get_pd(file\u001b[38;5;241m=\u001b[39mVgamma_uubar, tree\u001b[38;5;241m=\u001b[39mtree,base_filter\u001b[38;5;241m=\u001b[39mbase_filter,variables\u001b[38;5;241m=\u001b[39mvariables)\n\u001b[1;32m      5\u001b[0m pd_Vgamma_ddbar \u001b[38;5;241m=\u001b[39m get_pd(file\u001b[38;5;241m=\u001b[39mVgamma_ddbar, tree\u001b[38;5;241m=\u001b[39mtree,base_filter\u001b[38;5;241m=\u001b[39mbase_filter,variables\u001b[38;5;241m=\u001b[39mvariables)\n",
      "File \u001b[0;32m~/workspace/DRAW_and_FITTING/main/data_tools/extract_ntuples.py:12\u001b[0m, in \u001b[0;36mget_pd\u001b[0;34m(file, tree, base_filter, variables)\u001b[0m\n\u001b[1;32m      9\u001b[0m base_filter  \u001b[38;5;241m=\u001b[39m base_filter    \n\u001b[1;32m     11\u001b[0m ROOT_df_start \u001b[38;5;241m=\u001b[39m ROOT\u001b[38;5;241m.\u001b[39mRDataFrame(tree, f)  \n\u001b[0;32m---> 12\u001b[0m col_dict  \u001b[38;5;241m=\u001b[39m \u001b[43mROOT_df_start\u001b[49m\u001b[38;5;241;43m.\u001b[39;49m\u001b[43mAsNumpy\u001b[49m\u001b[43m(\u001b[49m\u001b[43mvariables\u001b[49m\u001b[43m)\u001b[49m\n\u001b[1;32m     14\u001b[0m \u001b[38;5;28;01mif\u001b[39;00m base_filter \u001b[38;5;241m!=\u001b[39m\u001b[38;5;28;01mNone\u001b[39;00m:\n\u001b[1;32m     15\u001b[0m     ROOT_df_filtered  \u001b[38;5;241m=\u001b[39m ROOT_df_start\u001b[38;5;241m.\u001b[39mFilter(base_filter)                            \n",
      "File \u001b[0;32m~/anaconda3/envs/draw/lib/python3.10/site-packages/ROOT/_pythonization/_rdataframe.py:79\u001b[0m, in \u001b[0;36mRDataFrameAsNumpy\u001b[0;34m(df, columns, exclude, lazy)\u001b[0m\n\u001b[1;32m     77\u001b[0m result_ptrs \u001b[38;5;241m=\u001b[39m {}\n\u001b[1;32m     78\u001b[0m \u001b[38;5;28;01mfor\u001b[39;00m column \u001b[38;5;129;01min\u001b[39;00m columns:\n\u001b[0;32m---> 79\u001b[0m     column_type \u001b[38;5;241m=\u001b[39m \u001b[43mdf\u001b[49m\u001b[38;5;241;43m.\u001b[39;49m\u001b[43mGetColumnType\u001b[49m\u001b[43m(\u001b[49m\u001b[43mcolumn\u001b[49m\u001b[43m)\u001b[49m\n\u001b[1;32m     80\u001b[0m     result_ptrs[column] \u001b[38;5;241m=\u001b[39m df\u001b[38;5;241m.\u001b[39mTake[column_type](column)\n\u001b[1;32m     82\u001b[0m result \u001b[38;5;241m=\u001b[39m AsNumpyResult(result_ptrs, columns)\n",
      "\u001b[0;31mruntime_error\u001b[0m: string ROOT::RDF::RInterface<ROOT::Detail::RDF::RLoopManager,void>::GetColumnType(basic_string_view<char,char_traits<char> > column) =>\n    runtime_error: Column \"Omega_M\" is not in a dataset and is not a custom column been defined."
     ]
    }
   ],
   "source": [
    "# pd_Vgamma_ccbar = get_pd(file=Vgamma_ccbar, tree=tree,base_filter=base_filter + ' && ',variables=variables)\n",
    "\n",
    "pd_Vgamma_ccbar = get_pd(file=Vgamma_ccbar, tree=tree,base_filter=base_filter,variables=variables)\n",
    "pd_Vgamma_uubar = get_pd(file=Vgamma_uubar, tree=tree,base_filter=base_filter,variables=variables)\n",
    "pd_Vgamma_ddbar = get_pd(file=Vgamma_ddbar, tree=tree,base_filter=base_filter,variables=variables)\n",
    "pd_Vgamma_ssbar = get_pd(file=Vgamma_ssbar, tree=tree,base_filter=base_filter,variables=variables)\n",
    "pd_Vgamma_charged = get_pd(file=Vgamma_charged, tree=tree,base_filter=base_filter,variables=variables)\n",
    "pd_Vgamma_mixed = get_pd(file=Vgamma_mixed, tree=tree,base_filter=base_filter,variables=variables)\n",
    "pd_Vgamma_taupair = get_pd(file=Vgamma_taupair, tree=tree,base_filter=base_filter,variables=variables)"
   ]
  },
  {
   "cell_type": "code",
   "execution_count": null,
   "id": "f473e306-6bf1-49c3-9d7e-6cf8411c55dc",
   "metadata": {},
   "outputs": [],
   "source": [
    "pd_ccbar = pd_Vgamma_ccbar.reset_index(drop=True)\n",
    "pd_uubar = pd_Vgamma_uubar.reset_index(drop=True)\n",
    "pd_ddbar = pd_Vgamma_ddbar.reset_index(drop=True)\n",
    "pd_ssbar = pd_Vgamma_ssbar.reset_index(drop=True)\n",
    "pd_charged = pd_Vgamma_charged.reset_index(drop=True)\n",
    "pd_mixed = pd_Vgamma_mixed.reset_index(drop=True)\n",
    "pd_taupair = pd_Vgamma_taupair.reset_index(drop=True)\n"
   ]
  },
  {
   "cell_type": "code",
   "execution_count": 176,
   "id": "6a98198e-2860-4969-b161-afc327b7db60",
   "metadata": {},
   "outputs": [
    {
     "name": "stdout",
     "output_type": "stream",
     "text": [
      "  group  value  rank\n",
      "0     A      4   1.0\n",
      "1     A      2   2.0\n",
      "2     B      7   1.0\n",
      "3     B      1   3.0\n",
      "4     B      3   2.0\n",
      "5     C      8   1.0\n"
     ]
    }
   ],
   "source": [
    "# 샘플 데이터프레임 생성\n",
    "data = {'group': ['A', 'A', 'B', 'B', 'B', 'C'],\n",
    "        'value': [4, 2, 7, 1, 3, 8]}\n",
    "\n",
    "df = pd.DataFrame(data)\n",
    "\n",
    "# groupby 및 rank를 사용하여 순위 계산\n",
    "df['rank'] = df.groupby('group')['value'].rank(ascending=False)\n",
    "\n",
    "print(df)"
   ]
  },
  {
   "cell_type": "code",
   "execution_count": 177,
   "id": "3e8bd532-9769-4fe3-b9c9-53d23c2762ab",
   "metadata": {},
   "outputs": [],
   "source": [
    "pd_ccbar['rank'] = pd_ccbar.groupby(['__experiment__', '__run__', '__event__', ])['Dstarp_chiProb'].rank(ascending=False, method='first')\n",
    "pd_uubar['rank'] = pd_uubar.groupby(['__experiment__', '__run__', '__event__', ])['Dstarp_chiProb'].rank(ascending=False, method='first')\n",
    "pd_ddbar['rank'] = pd_ddbar.groupby(['__experiment__', '__run__', '__event__', ])['Dstarp_chiProb'].rank(ascending=False, method='first')\n",
    "pd_ssbar['rank'] = pd_ssbar.groupby(['__experiment__', '__run__', '__event__', ])['Dstarp_chiProb'].rank(ascending=False, method='first')\n",
    "pd_charged['rank'] = pd_charged.groupby(['__experiment__', '__run__', '__event__', ])['Dstarp_chiProb'].rank(ascending=False, method='first')\n",
    "pd_mixed['rank'] = pd_mixed.groupby(['__experiment__', '__run__', '__event__', ])['Dstarp_chiProb'].rank(ascending=False, method='first')\n",
    "pd_taupair['rank'] = pd_taupair.groupby(['__experiment__', '__run__', '__event__', ])['Dstarp_chiProb'].rank(ascending=False, method='first')"
   ]
  },
  {
   "cell_type": "code",
   "execution_count": 178,
   "id": "6dfca14b-e2ff-4263-9a81-a73871049131",
   "metadata": {},
   "outputs": [
    {
     "name": "stdout",
     "output_type": "stream",
     "text": [
      "75471\n",
      "76260\n",
      "0.9896538158929976\n"
     ]
    }
   ],
   "source": [
    "multiplicity = len(pd_ccbar[[\"__experiment__\", \"__run__\", \"__event__\"]].drop_duplicates()) / len(pd_ccbar[[\"__experiment__\", \"__run__\", \"__event__\"]])\n",
    "\n",
    "numerator = len(pd_ccbar[[\"__experiment__\", \"__run__\", \"__event__\"]].drop_duplicates()) + \\\n",
    "            len(pd_uubar[[\"__experiment__\", \"__run__\", \"__event__\"]].drop_duplicates()) + \\\n",
    "            len(pd_ddbar[[\"__experiment__\", \"__run__\", \"__event__\"]].drop_duplicates()) + \\\n",
    "            len(pd_ssbar[[\"__experiment__\", \"__run__\", \"__event__\"]].drop_duplicates()) + \\\n",
    "            len(pd_charged[[\"__experiment__\", \"__run__\", \"__event__\"]].drop_duplicates()) + \\\n",
    "            len(pd_mixed[[\"__experiment__\", \"__run__\", \"__event__\"]].drop_duplicates()) + \\\n",
    "            len(pd_taupair[[\"__experiment__\", \"__run__\", \"__event__\"]].drop_duplicates())\n",
    "denominator = len(pd_ccbar[[\"__experiment__\", \"__run__\", \"__event__\"]]) + \\\n",
    "                len(pd_uubar[[\"__experiment__\", \"__run__\", \"__event__\"]]) + \\\n",
    "                len(pd_ddbar[[\"__experiment__\", \"__run__\", \"__event__\"]]) + \\\n",
    "                len(pd_ssbar[[\"__experiment__\", \"__run__\", \"__event__\"]]) + \\\n",
    "                len(pd_charged[[\"__experiment__\", \"__run__\", \"__event__\"]]) + \\\n",
    "                len(pd_mixed[[\"__experiment__\", \"__run__\", \"__event__\"]]) + \\\n",
    "                len(pd_taupair[[\"__experiment__\", \"__run__\", \"__event__\"]]) \n",
    "\n",
    "\n",
    "print(numerator)\n",
    "print(denominator)\n",
    "\n",
    "multiplicity = numerator/denominator\n",
    "\n",
    "print(multiplicity)"
   ]
  },
  {
   "cell_type": "code",
   "execution_count": 179,
   "id": "042cab6b-5873-4967-a3a7-86b8a7739852",
   "metadata": {},
   "outputs": [],
   "source": [
    "cut = 'gamma_E>0.48 & Belle2Pi0Veto_75MeV >0.022'\n",
    "cut = 'gamma_E>0.0'\n",
    "# cut = 'rank==1'\n",
    "# cut = 'Pi0_Prob2>0.5'\n",
    "# cut = 'gamma_E>0.47 & Pi0_Prob2>0.57 & abs(Dstarp_delM-(2.0103-1.8648))<0.0005'\n",
    "\n",
    "# cut = '__ncandidates__ ==2'\n",
    "# cut = 'Belle2Pi0Veto_75MeV >0.023'\n",
    "# cut = 'abs(Phi_M - 1.0195) < 0.011 & abs(Dstarp_delM-(2.0103-1.8648))<0.001 & Dstarp_CMS_p>2.5 '\n",
    "# (2.0103-1.8648) - 0.001\n",
    "pd_ccbar, pd_uubar,pd_ddbar,pd_ssbar,pd_charged, pd_mixed, pd_taupair = cut_dfs_7types(cut, pd_ccbar, pd_uubar,pd_ddbar,pd_ssbar,pd_charged, pd_mixed, pd_taupair)"
   ]
  },
  {
   "cell_type": "code",
   "execution_count": 180,
   "id": "5ed92663-bd0e-4dfd-8cee-1596844c57e1",
   "metadata": {},
   "outputs": [
    {
     "name": "stdout",
     "output_type": "stream",
     "text": [
      "607\n"
     ]
    },
    {
     "data": {
      "text/plain": [
       "(array([  0.,   0.,   1.,   0.,   0.,   0.,   0.,   1.,   0.,   4.,   0.,\n",
       "          0.,   2.,   3.,   2.,   2.,   5.,   9.,   4.,  16.,  25.,  33.,\n",
       "         65.,  88.,  97., 110.,  86.,  31.,  12.,   5.,   2.,   1.,   1.,\n",
       "          0.,   1.,   1.,   0.,   0.,   0.,   0.,   0.,   0.,   0.,   0.,\n",
       "          0.,   0.,   0.,   0.,   0.,   0.]),\n",
       " array([1.68  , 1.6874, 1.6948, 1.7022, 1.7096, 1.717 , 1.7244, 1.7318,\n",
       "        1.7392, 1.7466, 1.754 , 1.7614, 1.7688, 1.7762, 1.7836, 1.791 ,\n",
       "        1.7984, 1.8058, 1.8132, 1.8206, 1.828 , 1.8354, 1.8428, 1.8502,\n",
       "        1.8576, 1.865 , 1.8724, 1.8798, 1.8872, 1.8946, 1.902 , 1.9094,\n",
       "        1.9168, 1.9242, 1.9316, 1.939 , 1.9464, 1.9538, 1.9612, 1.9686,\n",
       "        1.976 , 1.9834, 1.9908, 1.9982, 2.0056, 2.013 , 2.0204, 2.0278,\n",
       "        2.0352, 2.0426, 2.05  ]),\n",
       " <BarContainer object of 50 artists>)"
      ]
     },
     "execution_count": 180,
     "metadata": {},
     "output_type": "execute_result"
    },
    {
     "data": {
      "image/png": "[encoded data removed]",
      "text/plain": [
       "<Figure size 800x550 with 1 Axes>"
      ]
     },
     "metadata": {},
     "output_type": "display_data"
    }
   ],
   "source": [
    "sig_filter =' D0_M>1.68 && D0_M<2.05 && abs(Rho_M - 0.77526 ) < 0.15 &&  Dstarp_CMS_p>2.5 && Dstarp_isSignal==1'\n",
    "sig_filter +=' && gamma_E>0.47 && Pi0_Prob2>0.57 && abs(Dstarp_delM-(2.0103-1.8648))<0.0005' \n",
    "pd_Vgamma_ccbar_signal = get_pd(file=Vgamma_ccbar, tree=tree,base_filter=sig_filter,variables=variables)\n",
    "print(len(pd_Vgamma_ccbar_signal))\n",
    "\n",
    "plt.hist(pd_Vgamma_ccbar_signal.D0_M, bins=np.linspace(1.68,2.05,51))"
   ]
  },
  {
   "cell_type": "code",
   "execution_count": 133,
   "id": "194a0cac-b694-418d-8ae3-bbb6c9e2b3a3",
   "metadata": {},
   "outputs": [
    {
     "name": "stdout",
     "output_type": "stream",
     "text": [
      "[   0.      0.      0.      0.      0.      0.      0.      0.      0.\n",
      "    0.      0.      0.      0.      0.      0.      0.   1305.25 1713.5\n",
      " 1769.   1807.25 1808.5  1770.25 1577.75 1447.5  1270.75 1103.25  982.75\n",
      "  946.5   903.5   659.25    0.      0.      0.      0.      0.      0.\n",
      "    0.      0.      0.      0.      0.      0.      0.      0.      0.\n",
      "    0.      0.      0.      0.      0.  ]\n",
      "fitst_bin_entries=0.0\n"
     ]
    },
    {
     "ename": "TypeError",
     "evalue": "matplotlib.axes._base._AxesBase.set_xlim() argument after * must be an iterable, not type",
     "output_type": "error",
     "traceback": [
      "\u001b[0;31m---------------------------------------------------------------------------\u001b[0m",
      "\u001b[0;31mTypeError\u001b[0m                                 Traceback (most recent call last)",
      "Cell \u001b[0;32mIn [133], line 15\u001b[0m\n\u001b[1;32m     12\u001b[0m nbins \u001b[38;5;241m=\u001b[39m \u001b[38;5;241m50\u001b[39m\n\u001b[1;32m     13\u001b[0m xlabel \u001b[38;5;241m=\u001b[39m \u001b[38;5;124m\"\u001b[39m\u001b[38;5;124m$\u001b[39m\u001b[38;5;124m\\\u001b[39m\u001b[38;5;124mmathrm\u001b[39m\u001b[38;5;124m{\u001b[39m\u001b[38;5;124mM(D^0)}$\u001b[39m\u001b[38;5;124m\"\u001b[39m\n\u001b[0;32m---> 15\u001b[0m \u001b[43mMC_stack_plot\u001b[49m\u001b[43m(\u001b[49m\u001b[43mdata\u001b[49m\u001b[43m,\u001b[49m\u001b[43m \u001b[49m\u001b[43mvar\u001b[49m\u001b[43m,\u001b[49m\u001b[43m \u001b[49m\u001b[43mscale\u001b[49m\u001b[43m,\u001b[49m\u001b[43m \u001b[49m\u001b[43mxrange\u001b[49m\u001b[43m,\u001b[49m\u001b[43m \u001b[49m\u001b[43mnbins\u001b[49m\u001b[43m,\u001b[49m\u001b[43m \u001b[49m\u001b[43mxlabel\u001b[49m\u001b[38;5;241;43m=\u001b[39;49m\u001b[43mxlabel\u001b[49m\u001b[43m,\u001b[49m\u001b[43m \u001b[49m\u001b[43mlabels\u001b[49m\u001b[38;5;241;43m=\u001b[39;49m\u001b[43mlabels\u001b[49m\u001b[43m,\u001b[49m\u001b[43mtitle\u001b[49m\u001b[38;5;241;43m=\u001b[39;49m\u001b[38;5;124;43m\"\u001b[39;49m\u001b[38;5;124;43m\"\u001b[39;49m\u001b[43m,\u001b[49m\u001b[43m \u001b[49m\u001b[43munit\u001b[49m\u001b[38;5;241;43m=\u001b[39;49m\u001b[38;5;124;43m\"\u001b[39;49m\u001b[38;5;124;43m[GeV/c^2]\u001b[39;49m\u001b[38;5;124;43m\"\u001b[39;49m\u001b[43m)\u001b[49m\n",
      "File \u001b[0;32m~/workspace/DRAW_and_FITTING/main/draw_tools/stacking_with_error_bars.py:81\u001b[0m, in \u001b[0;36mMC_stack_plot\u001b[0;34m(data, var, scale, xrange, nbins, xlabel, labels, title, unit, save_repo, force_range, ncol, luminosity)\u001b[0m\n\u001b[1;32m     79\u001b[0m \u001b[38;5;28;01mif\u001b[39;00m sum_w[\u001b[38;5;241m0\u001b[39m]\u001b[38;5;241m*\u001b[39m\u001b[38;5;241m1.2\u001b[39m \u001b[38;5;241m==\u001b[39m \u001b[38;5;241m0\u001b[39m:\n\u001b[1;32m     80\u001b[0m     \u001b[38;5;28;01mpass\u001b[39;00m\n\u001b[0;32m---> 81\u001b[0m     \u001b[43max\u001b[49m\u001b[38;5;241;43m.\u001b[39;49m\u001b[43mset_xlim\u001b[49m\u001b[43m(\u001b[49m\u001b[38;5;241;43m*\u001b[39;49m\u001b[43mforce_range\u001b[49m\u001b[43m)\u001b[49m\n\u001b[1;32m     82\u001b[0m \u001b[38;5;28;01melse\u001b[39;00m:\n\u001b[1;32m     83\u001b[0m     max_entries \u001b[38;5;241m=\u001b[39m \u001b[38;5;28mmax\u001b[39m(sum_w)\n",
      "\u001b[0;31mTypeError\u001b[0m: matplotlib.axes._base._AxesBase.set_xlim() argument after * must be an iterable, not type"
     ]
    },
    {
     "data": {
      "image/png": "[encoded data removed]",
      "text/plain": [
       "<Figure size 800x550 with 1 Axes>"
      ]
     },
     "metadata": {},
     "output_type": "display_data"
    }
   ],
   "source": [
    "labels = [   r'$\\tau\\bar{\\tau}$', r'$B^0\\bar{B}^0$', r'$B^+B^-$', r'$s\\bar{s}$'  ,r'$d\\bar{d}$', r'$u\\bar{u}$', r'$c\\bar{c}$']\n",
    "\n",
    "# data  = [taupair_bkg[var], mixed_bkg[var], charged_bkg[var],ssbar_bkg[var], ddbar_bkg[var],uubar_bkg[var], ccbar_bkg[var]]  \n",
    "var = 'D0_M'\n",
    "data  = [pd_taupair[var], pd_mixed[var], pd_charged[var],pd_ssbar[var], pd_ddbar[var],pd_uubar[var], pd_ccbar[var]]  \n",
    "\n",
    "\n",
    "scale = 1/4\n",
    "xrange = (1.68,2.05)\n",
    "# xrange = (1.8,1.9)\n",
    "\n",
    "nbins = 50\n",
    "xlabel = \"$\\mathrm{M(D^0)}$\"\n",
    "\n",
    "MC_stack_plot(data, var, scale, xrange, nbins, xlabel=xlabel, labels=labels,title=\"\", unit=\"[GeV/c^2]\")\n",
    "# plt.savefig(\"MC15rd_phi_1ab_optimized_D0.png\")\n",
    "\n"
   ]
  },
  {
   "cell_type": "code",
   "execution_count": null,
   "id": "71462dde-75ea-411b-8cee-e1590e12940f",
   "metadata": {},
   "outputs": [],
   "source": [
    "labels = [   r'$\\tau\\bar{\\tau}$', r'$B^0\\bar{B}^0$', r'$B^+B^-$', r'$s\\bar{s}$'  ,r'$d\\bar{d}$', r'$u\\bar{u}$', r'$c\\bar{c}$']\n",
    "\n",
    "# data  = [taupair_bkg[var], mixed_bkg[var], charged_bkg[var],ssbar_bkg[var], ddbar_bkg[var],uubar_bkg[var], ccbar_bkg[var]]  \n",
    "var = 'D0_cosHel_0'\n",
    "data  = [pd_taupair[var], pd_mixed[var], pd_charged[var],pd_ssbar[var], pd_ddbar[var],pd_uubar[var], pd_ccbar[var]]  \n",
    "\n",
    "\n",
    "scale = 1/4\n",
    "xrange = (-1,1)\n",
    "# xrange = (1.8,1.9)\n",
    "\n",
    "nbins = 50\n",
    "xlabel = r\"$\\cos\\theta_H$\"\n",
    "\n",
    "MC_stack_plot(data, var, scale, xrange, nbins, xlabel=xlabel, labels=labels,title=\"\", unit=\"\")\n",
    "# plt.savefig(\"MC15rd_phi_1ab_optimized_D0.png\")"
   ]
  },
  {
   "cell_type": "code",
   "execution_count": 57,
   "id": "88cd0f35-6d1a-437f-bec2-b623061cd437",
   "metadata": {},
   "outputs": [
    {
     "name": "stdout",
     "output_type": "stream",
     "text": [
      "[5.65275e+04 4.20575e+03 3.01000e+02 4.62500e+01 1.10000e+01]\n",
      "fitst_bin_entries=56527.5\n"
     ]
    },
    {
     "data": {
      "image/png": "[encoded data removed]",
      "text/plain": [
       "<Figure size 800x550 with 1 Axes>"
      ]
     },
     "metadata": {},
     "output_type": "display_data"
    }
   ],
   "source": [
    "labels = [   r'$\\tau\\bar{\\tau}$', r'$B^0\\bar{B}^0$', r'$B^+B^-$', r'$s\\bar{s}$'  ,r'$d\\bar{d}$', r'$u\\bar{u}$', r'$c\\bar{c}$']\n",
    "\n",
    "# data  = [taupair_bkg[var], mixed_bkg[var], charged_bkg[var],ssbar_bkg[var], ddbar_bkg[var],uubar_bkg[var], ccbar_bkg[var]]  \n",
    "var = '__ncandidates__'\n",
    "data  = [pd_taupair[var], pd_mixed[var], pd_charged[var],pd_ssbar[var], pd_ddbar[var],pd_uubar[var], pd_ccbar[var]]  \n",
    "\n",
    "\n",
    "scale = 1/4\n",
    "xrange = (1,6)\n",
    "force_range = (1,6)\n",
    "# xrange = (1.8,1.9)\n",
    "\n",
    "nbins = 5\n",
    "xlabel = \"__ncandidates__\"\n",
    "\n",
    "MC_stack_plot(data, var, scale, xrange, nbins, xlabel=xlabel, labels=labels,title=\"\", unit=\"\",force_range=force_range)\n",
    "# plt.savefig(\"MC15rd_phi_1ab_optimized_ncandidates.png\")"
   ]
  },
  {
   "cell_type": "code",
   "execution_count": null,
   "id": "466f2f71-579c-4b8b-a37e-7fea0b948403",
   "metadata": {},
   "outputs": [],
   "source": []
  },
  {
   "cell_type": "markdown",
   "id": "ade18460-548a-458c-b6b2-9cbc6e00d0ac",
   "metadata": {},
   "source": [
    "## FOM"
   ]
  },
  {
   "cell_type": "code",
   "execution_count": 181,
   "id": "ec719d08-d986-4470-90ba-55733b86cf07",
   "metadata": {},
   "outputs": [],
   "source": [
    "pd_all = pd.concat([pd_ccbar,\n",
    "                    pd_uubar,\n",
    "                    pd_ddbar,\n",
    "                    pd_ssbar,\n",
    "                    pd_charged,\n",
    "                    pd_mixed,\n",
    "                    pd_taupair], ignore_index=True)\n",
    "pd_all = pd_ccbar"
   ]
  },
  {
   "cell_type": "code",
   "execution_count": 182,
   "id": "1145d6bd-2892-4284-96ff-de7b7cb97e37",
   "metadata": {},
   "outputs": [],
   "source": [
    "def calculate_FOM( bkg_pd, sig_pd, cut_list, scale_factor, cut):\n",
    "    \n",
    "    FOM_list = list()\n",
    "    \n",
    "    for cut_value in cut_list:\n",
    "    \n",
    "        temp_cut = cut + str(cut_value) \n",
    "        temp_bkg_pd = bkg_pd.query(temp_cut)\n",
    "        temp_sig_pd = sig_pd.query(temp_cut)\n",
    "\n",
    "        nsig = len(temp_sig_pd)\n",
    "        nbkg = len(temp_bkg_pd)\n",
    "\n",
    "#         FOM = scale_factor*nsig/(math.sqrt(scale_factor*nsig + nbkg))\n",
    "        FOM = scale_factor*nsig/(math.sqrt(scale_factor*nsig + nbkg))\n",
    "\n",
    "        FOM_list.append(FOM)    \n",
    "    \n",
    "    return FOM_list"
   ]
  },
  {
   "cell_type": "code",
   "execution_count": 183,
   "id": "985c4753-31ed-46aa-9273-567aba7b5d38",
   "metadata": {},
   "outputs": [],
   "source": [
    "def calculate_eff( bkg_pd, sig_pd, cut_list, cut):\n",
    "    \n",
    "    eff_list = list()\n",
    "    \n",
    "    for cut_value in cut_list:\n",
    "    \n",
    "        #temp_cut = 'gamma_E > ' + str(cut_value) \n",
    "        temp_cut = cut + str(cut_value) \n",
    "\n",
    "        temp_sig_pd = sig_pd.query(temp_cut)\n",
    "\n",
    "        nsig = len(temp_sig_pd)\n",
    "\n",
    "        eff = nsig/(0.5*1e+6)\n",
    "        eff_list.append(eff)    \n",
    "    \n",
    "    return eff_list"
   ]
  },
  {
   "cell_type": "code",
   "execution_count": 184,
   "id": "855a4f88-1555-4169-9687-3863862da5cf",
   "metadata": {},
   "outputs": [],
   "source": [
    "def calculate_purity( bkg_pd, sig_pd, cut_list, cut):\n",
    "    \n",
    "    purity_list = list()\n",
    "    \n",
    "    for cut_value in cut_list:\n",
    "    \n",
    "        #temp_cut = 'gamma_E > ' + str(cut_value) \n",
    "        temp_cut =  cut +  str(cut_value) \n",
    "        \n",
    "        temp_sig_pd = sig_pd.query(temp_cut)\n",
    "\n",
    "        nsig = len(temp_sig_pd)\n",
    "        \n",
    "        nREALsig = len(temp_sig_pd.query(\"Dstarp_isSignal==1\"))\n",
    "        \n",
    "        #nbkg = len(temp_bkg_pd)\n",
    "\n",
    "        purity = nREALsig/nsig\n",
    "        purity_list.append(purity)    \n",
    "    \n",
    "    return purity_list"
   ]
  },
  {
   "cell_type": "code",
   "execution_count": 185,
   "id": "69d72ae6-1abc-4bbd-9d74-9499183e6715",
   "metadata": {},
   "outputs": [],
   "source": [
    "def plot_FOM_eff_purity(FOM_cut_list, FOM_phig_list, eff_phig_list, purity_phig_list, xlabel ,offset=85):\n",
    "\n",
    "\n",
    "    fig, host = plt.subplots(figsize=(9,6)) # (width, height) in inches    \n",
    "    par1 = host.twinx()\n",
    "    # par2 = host.twinx()\n",
    "\n",
    "    #host.set_xlim(2, 3.5)\n",
    "    # host.set_ylim(0, 2)\n",
    "    # par2.set_ylim(0, 4)\n",
    "    #par1.set_ylim(0,0.16 )\n",
    "    # par2.axis[\"right\"] = new_fixed_axis(loc=\"right\", axes=par2,\n",
    "                                            # offset=(offset, 0))\n",
    "    # par2.axis[\"right\"].toggle(all=True)\n",
    "\n",
    "    host.set_xlabel(xlabel)\n",
    "    host.set_ylabel(\"FOM\")\n",
    "    par1.set_ylabel(\"Efficiency\")\n",
    "    # par2.set_ylabel(\"Purity\")\n",
    "\n",
    "    # color1 = plt.cm.viridis(0)\n",
    "    # color2 = plt.cm.viridis(0.5)\n",
    "    # color3 = plt.cm.viridis(.9)\n",
    "    color1 = 'r'\n",
    "    color2 = 'g'\n",
    "    color3 = 'b'\n",
    "\n",
    "    p1, = host.plot(FOM_cut_list, FOM_phig_list,    color=color1, label=\"FOM\")\n",
    "    p2, = par1.plot(FOM_cut_list, eff_phig_list,    color=color2, label=\"Efficiency\")\n",
    "    # p3, = par2.plot(FOM_cut_list, purity_phig_list, color=color3, label=\"Purity\")\n",
    "\n",
    "    \n",
    "    # lns = [p1, p2, p3]\n",
    "    lns = [p1, p2]\n",
    "\n",
    "    host.legend(handles=lns, loc='best')\n",
    "    # right, left, top, bottom\n",
    "    offset = offset\n",
    "    # par2.spines['right'].set_position(('outward', offset))\n",
    "\n",
    "    # no x-ticks                 \n",
    "    # par2.xaxis.set_ticks([])\n",
    "\n",
    "    # Sometimes handy, same for xaxis\n",
    "    # par2.yaxis.set_ticks_position('right')\n",
    "\n",
    "    # Move \"Velocity\"-axis to the left\n",
    "    # par2.spines['left'].set_position(('outward', 60))\n",
    "    # par2.spines['left'].set_visible(True)\n",
    "    # par2.yaxis.set_label_position('left')\n",
    "    # par2.yaxis.set_ticks_position('left')\n",
    "\n",
    "    host.yaxis.label.set_color(p1.get_color())\n",
    "    par1.yaxis.label.set_color(p2.get_color())\n",
    "    # par2.yaxis.label.set_color(p3.get_color())\n",
    "\n",
    "    plt.title(r'$D^0 \\to \\phi \\gamma$')\n",
    "    # plt.axvline(x=2.45,  color='orange', linestyle='dotted')\n",
    "\n",
    "    # Adjust spacings w.r.t. figsize\n",
    "    fig.tight_layout()"
   ]
  },
  {
   "cell_type": "code",
   "execution_count": 186,
   "id": "c3b3423d-d873-4c03-93f7-d09eed38387c",
   "metadata": {},
   "outputs": [],
   "source": [
    "def calculate_FOM_3D(bkg_pd, sig_pd, grid_list, scale_factor, cut_x, cut_y, cut_z):\n",
    " \n",
    "    FOM_list = list()\n",
    "    \n",
    "    for points_3d in grid_list:\n",
    "        \n",
    "        points_3d_x, points_3d_y, points_3d_z =  points_3d[0], points_3d[1], points_3d[2]\n",
    "    \n",
    "        temp_cut = cut_x + str(points_3d_x) + ' & ' +  cut_y + str(points_3d_y) + ' & ' + cut_z + str(points_3d_z) \n",
    "        temp_bkg_pd = bkg_pd.query(temp_cut)\n",
    "        temp_sig_pd = sig_pd.query(temp_cut)    \n",
    "        \n",
    "        nsig = len(temp_sig_pd)\n",
    "        nbkg = len(temp_bkg_pd)\n",
    "\n",
    "#         FOM = scale_factor*nsig/(math.sqrt(scale_factor*nsig + nbkg))\n",
    "        FOM = scale_factor*nsig/(math.sqrt(scale_factor*nsig + nbkg))\n",
    "        # print(FOM)\n",
    "        FOM_list.append(FOM)    \n",
    "        \n",
    "    return FOM_list"
   ]
  },
  {
   "cell_type": "code",
   "execution_count": 187,
   "id": "958c1bad-2ca7-49a4-bcd5-17f3f9605dd0",
   "metadata": {},
   "outputs": [
    {
     "name": "stdout",
     "output_type": "stream",
     "text": [
      "801\n"
     ]
    }
   ],
   "source": [
    "# sigMC_file_loc = base_file_loc + 'topo/resultfile/result_phi/standard.root'\n",
    "sigMC_file_loc = base_file_loc + 'ccbar/*.root'\n",
    "\n",
    "# base_filter='D0_M>1.8 && D0_M<1.9 '\n",
    "# base_filter=' D0_M>1.68 && D0_M<2.05 && abs(Rho_M - 0.77526 ) < 0.15 &&  Dstarp_CMS_p>2.5 '\n",
    "base_filter=' D0_M>1.8 && D0_M<1.9 && abs(Rho_M - 0.77526 ) < 0.15 &&  Dstarp_CMS_p>2.5 '\n",
    "\n",
    "\n",
    "# base_filter += '&& nSigCascDcyBr_0==1'\n",
    "base_filter += '&& Dstarp_isSignal==1'\n",
    "\n",
    "# base_filter += '&& gamma_E>0.48'\n",
    "\n",
    "# variables=['D0_M','D0_cosHel_0','Phi_M','Dstarp_Q','Dstarp_CMS_p','Dstarp_isSignal','gamma_E']\n",
    "tree='rho'\n",
    "\n",
    "pd_phigamma_sigMC = get_pd(file=sigMC_file_loc, tree=tree,base_filter=base_filter,variables=variables)\n",
    "print(len(pd_phigamma_sigMC))"
   ]
  },
  {
   "cell_type": "code",
   "execution_count": 188,
   "id": "fb8c549c-9a9c-4a3d-89e4-a9220c0950da",
   "metadata": {},
   "outputs": [
    {
     "name": "stdout",
     "output_type": "stream",
     "text": [
      "1.0\n"
     ]
    }
   ],
   "source": [
    "# half_1_sigMC = '/media/jykim/T7/storage/01_recon/phi/D0_v26_half1M_1_pre_ext_signalMC_recon_mdst_phi.root'\n",
    "# half_1_sigMC = '/media/jykim/T7/storage/01_recon/phi/D0_massveto_v2_half_1_pre_signalMC_recon_mdst_phi_*.root'\n",
    "\n",
    "# base_filter='D0_M>1.8 && D0_M<1.9  && abs(Phi_M - 1.0195)< 0.011 && abs(Dstarp_Q-0.00593)<0.0006'\n",
    "# base_filter='D0_M>1.8 && D0_M<1.9'\n",
    "# base_filter=' D0_M>1.68 && D0_M<2.05 && abs(Phi_M - 1.0195) < 0.011 && abs(Dstarp_delM-(2.0103-1.8648))<0.001  && Dstarp_CMS_p>2.5'\n",
    "# base_filter=' D0_M>1.8 && D0_M<1.9 && abs(Phi_M - 1.0195) < 0.011 && abs(Dstarp_delM-(2.0103-1.8648))<0.001  && Dstarp_CMS_p>2.5'\n",
    "# base_filter=' D0_M>1.8 && D0_M<1.9 && abs(Phi_M - 1.0195) < 0.011 && Dstarp_CMS_p>2.5'\n",
    "\n",
    "# base_filter += '&& Dstarp_isSignal==1'\n",
    "\n",
    "# # base_filter += '&& gamma_E>0.48'\n",
    "\n",
    "\n",
    "# pd_half_1_sigMC = get_pd(file=half_1_sigMC, tree=tree,base_filter=base_filter,variables=variables)\n",
    "\n",
    "\n",
    "pd_half_1_sigMC = pd_phigamma_sigMC\n",
    "\n",
    "# scale_factor = 0.25 * len(pd_phigamma_sigMC)/len(pd_half_1_sigMC)\n",
    "scale_factor = len(pd_phigamma_sigMC)/len(pd_half_1_sigMC)\n",
    "\n",
    "print(scale_factor)"
   ]
  },
  {
   "cell_type": "code",
   "execution_count": null,
   "id": "1457c525-3c21-44dc-8174-c72fefec51d8",
   "metadata": {},
   "outputs": [],
   "source": [
    "X, Y, Z = np.mgrid[0.3:0.7:41j, 0.00:0.85:86j, 0.0004:0.0008:41j]\n",
    "a = zip(X.ravel(), Y.ravel(), Z.ravel())\n",
    "A_list = list(a)\n",
    "\n",
    "grid_list = A_list\n",
    "cut_x = 'gamma_E > '\n",
    "cut_y = 'Pi0_Prob2 > '\n",
    "cut_z = 'abs(Dstarp_delM - 0.1455) < '\n",
    "\n",
    "scale_factor=scale_factor\n",
    "\n",
    "FOM_phig_list = calculate_FOM_3D(pd_all,pd_half_1_sigMC, grid_list ,scale_factor, cut_x,  cut_y, cut_z )\n"
   ]
  },
  {
   "cell_type": "code",
   "execution_count": null,
   "id": "62f50e1c-a729-40ae-a7f3-d4ba5c3ea666",
   "metadata": {},
   "outputs": [],
   "source": [
    "# Number to be equally divided\n",
    "number_to_divide = 2\n",
    "\n",
    "# Update each element in the list\n",
    "for i in range(len(FOM_phig_list)):\n",
    "    FOM_phig_list[i] = FOM_phig_list[i]/number_to_divide\n"
   ]
  },
  {
   "cell_type": "code",
   "execution_count": null,
   "id": "eaacdc70-37b6-48f4-ae5b-bb6b8277d44a",
   "metadata": {},
   "outputs": [],
   "source": [
    "fig = plt.figure()\n",
    "ax = fig.add_subplot(111, projection='3d')\n",
    "# scat = ax.scatter(X, Y, Z, c=T.flatten(), alpha=0.5)\n",
    "scat = ax.scatter(X, Y, Z, c=FOM_phig_list, alpha=0.5, cmap = 'jet')\n",
    "# scat = ax.scatter(X, Y, Z, c=FOM_phig_list, alpha=0.5)\n",
    "\n",
    "fig.colorbar(scat, shrink=0.5, aspect=5 , pad = 0.1)\n",
    "\n",
    "ax.set_xlabel(r'$E(\\gamma)$ cut',fontsize=17)\n",
    "#ax.set_ylabel(r'Second FBDT cut',fontsize=17)\n",
    "ax.set_ylabel(r'FBDT cut',fontsize=17)\n",
    "ax.set_zlabel(r'$\\Delta m$ window',fontsize=17)\n",
    "ax.tick_params(axis='both', which='major', labelsize=13)\n",
    "\n",
    "# Set axis ranges to their full extent\n",
    "ax.set_xlim(X.min(), X.max())\n",
    "ax.set_ylim(Y.min(), Y.max())\n",
    "ax.set_zlim(Z.min(), Z.max())\n",
    "\n",
    "\n",
    "# ax.ticklabel_format(axis = 'z',  style='sci', scilimits = (0,1))\n",
    "# ax.dist = 10\n",
    "ax.xaxis.labelpad=8\n",
    "ax.yaxis.labelpad=12\n",
    "ax.zaxis.labelpad=15.5\n",
    "\n",
    "\n",
    "plt.tight_layout()\n",
    "plt.savefig('Eg_Mgg_FBDT2_rho_opt.png')\n",
    "\n",
    "plt.show()"
   ]
  },
  {
   "cell_type": "code",
   "execution_count": 169,
   "id": "fdc23ce7-9461-48f7-9175-a593d5f7a4b3",
   "metadata": {},
   "outputs": [
    {
     "name": "stdout",
     "output_type": "stream",
     "text": [
      "max=5.401925782823802, cut value=(0.47, 0.5700000000000001, 0.00046)\n"
     ]
    }
   ],
   "source": [
    "max_index= FOM_phig_list.index(max(FOM_phig_list))\n",
    "max_FOM = max(FOM_phig_list)\n",
    "argmax_FOM = A_list[max_index]\n",
    "print('max=' + str(max_FOM) + ', cut value=' + str(argmax_FOM))"
   ]
  },
  {
   "cell_type": "code",
   "execution_count": null,
   "id": "474c6cf8-8242-45a5-9714-4c7f9d1d6268",
   "metadata": {},
   "outputs": [],
   "source": []
  },
  {
   "cell_type": "code",
   "execution_count": null,
   "id": "57849d67-a4aa-42e8-be01-2ec23e7a9d48",
   "metadata": {},
   "outputs": [],
   "source": []
  }
 ],
 "metadata": {
  "kernelspec": {
   "display_name": "Python 3 (ipykernel)",
   "language": "python",
   "name": "python3"
  },
  "language_info": {
   "codemirror_mode": {
    "name": "ipython",
    "version": 3
   },
   "file_extension": ".py",
   "mimetype": "text/x-python",
   "name": "python",
   "nbconvert_exporter": "python",
   "pygments_lexer": "ipython3",
   "version": "3.10.5"
  }
 },
 "nbformat": 4,
 "nbformat_minor": 5
}
